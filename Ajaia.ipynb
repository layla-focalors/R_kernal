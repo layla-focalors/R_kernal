{
 "cells": [
  {
   "cell_type": "code",
   "execution_count": 1,
   "id": "04030a13",
   "metadata": {},
   "outputs": [
    {
     "data": {
      "text/html": [
       "124"
      ],
      "text/latex": [
       "124"
      ],
      "text/markdown": [
       "124"
      ],
      "text/plain": [
       "[1] 124"
      ]
     },
     "metadata": {},
     "output_type": "display_data"
    }
   ],
   "source": [
    "25 + 99"
   ]
  },
  {
   "cell_type": "code",
   "execution_count": 2,
   "id": "9c1c98e8",
   "metadata": {},
   "outputs": [
    {
     "data": {
      "text/html": [
       "333"
      ],
      "text/latex": [
       "333"
      ],
      "text/markdown": [
       "333"
      ],
      "text/plain": [
       "[1] 333"
      ]
     },
     "metadata": {},
     "output_type": "display_data"
    }
   ],
   "source": [
    "456 - 123"
   ]
  },
  {
   "cell_type": "code",
   "execution_count": 3,
   "id": "0399229c",
   "metadata": {},
   "outputs": [
    {
     "data": {
      "text/html": [
       "14"
      ],
      "text/latex": [
       "14"
      ],
      "text/markdown": [
       "14"
      ],
      "text/plain": [
       "[1] 14"
      ]
     },
     "metadata": {},
     "output_type": "display_data"
    }
   ],
   "source": [
    "2 * ( 3 + 4)"
   ]
  },
  {
   "cell_type": "code",
   "execution_count": 4,
   "id": "67fdaa0c",
   "metadata": {},
   "outputs": [
    {
     "data": {
      "text/html": [
       "4.71428571428571"
      ],
      "text/latex": [
       "4.71428571428571"
      ],
      "text/markdown": [
       "4.71428571428571"
      ],
      "text/plain": [
       "[1] 4.714286"
      ]
     },
     "metadata": {},
     "output_type": "display_data"
    }
   ],
   "source": [
    "(3+5*6) / 7"
   ]
  },
  {
   "cell_type": "code",
   "execution_count": 5,
   "id": "5cde038b",
   "metadata": {},
   "outputs": [
    {
     "data": {
      "text/html": [
       "9"
      ],
      "text/latex": [
       "9"
      ],
      "text/markdown": [
       "9"
      ],
      "text/plain": [
       "[1] 9"
      ]
     },
     "metadata": {},
     "output_type": "display_data"
    }
   ],
   "source": [
    "(7-4) * 3"
   ]
  },
  {
   "cell_type": "code",
   "execution_count": 6,
   "id": "a01ecfd0",
   "metadata": {},
   "outputs": [
    {
     "data": {
      "text/html": [
       "245"
      ],
      "text/latex": [
       "245"
      ],
      "text/markdown": [
       "245"
      ],
      "text/plain": [
       "[1] 245"
      ]
     },
     "metadata": {},
     "output_type": "display_data"
    }
   ],
   "source": [
    "210 + 35"
   ]
  },
  {
   "cell_type": "code",
   "execution_count": 7,
   "id": "c7c1e76e",
   "metadata": {},
   "outputs": [
    {
     "data": {
      "text/html": [
       "3"
      ],
      "text/latex": [
       "3"
      ],
      "text/markdown": [
       "3"
      ],
      "text/plain": [
       "[1] 3"
      ]
     },
     "metadata": {},
     "output_type": "display_data"
    }
   ],
   "source": [
    "1256%%7 "
   ]
  },
  {
   "cell_type": "code",
   "execution_count": 8,
   "id": "318609f6",
   "metadata": {},
   "outputs": [
    {
     "data": {
      "text/html": [
       "4"
      ],
      "text/latex": [
       "4"
      ],
      "text/markdown": [
       "4"
      ],
      "text/plain": [
       "[1] 4"
      ]
     },
     "metadata": {},
     "output_type": "display_data"
    }
   ],
   "source": [
    "184 %% 5"
   ]
  },
  {
   "cell_type": "code",
   "execution_count": 9,
   "id": "4262faae",
   "metadata": {},
   "outputs": [
    {
     "data": {
      "text/html": [
       "540.666666666667"
      ],
      "text/latex": [
       "540.666666666667"
      ],
      "text/markdown": [
       "540.666666666667"
      ],
      "text/plain": [
       "[1] 540.6667"
      ]
     },
     "metadata": {},
     "output_type": "display_data"
    }
   ],
   "source": [
    "12976/24"
   ]
  },
  {
   "cell_type": "code",
   "execution_count": 10,
   "id": "9694e36d",
   "metadata": {},
   "outputs": [
    {
     "data": {
      "text/html": [
       "2606"
      ],
      "text/latex": [
       "2606"
      ],
      "text/markdown": [
       "2606"
      ],
      "text/plain": [
       "[1] 2606"
      ]
     },
     "metadata": {},
     "output_type": "display_data"
    }
   ],
   "source": [
    "126 * 25 + 186 * 5 - 67 * 22"
   ]
  },
  {
   "cell_type": "code",
   "execution_count": 11,
   "id": "28fe7502",
   "metadata": {},
   "outputs": [
    {
     "data": {
      "text/html": [
       "-144"
      ],
      "text/latex": [
       "-144"
      ],
      "text/markdown": [
       "-144"
      ],
      "text/plain": [
       "[1] -144"
      ]
     },
     "metadata": {},
     "output_type": "display_data"
    }
   ],
   "source": [
    "16 * 25 + 186 * 5 - 67 * 22"
   ]
  },
  {
   "cell_type": "code",
   "execution_count": 12,
   "id": "7c3b33b5",
   "metadata": {},
   "outputs": [
    {
     "data": {
      "text/html": [
       "9"
      ],
      "text/latex": [
       "9"
      ],
      "text/markdown": [
       "9"
      ],
      "text/plain": [
       "[1] 9"
      ]
     },
     "metadata": {},
     "output_type": "display_data"
    }
   ],
   "source": [
    "a <- 4\n",
    "b <- 5\n",
    "c <- a + b\n",
    "c"
   ]
  },
  {
   "cell_type": "code",
   "execution_count": 13,
   "id": "0505dbe6",
   "metadata": {},
   "outputs": [
    {
     "name": "stdout",
     "output_type": "stream",
     "text": [
      "반지름이  10 인 원의 면적 :  314 \n",
      "반지름이  12 인 원의 면적 :  452.16 \n",
      "반지름이  15 인 원의 면적 :  706.5 \n"
     ]
    }
   ],
   "source": [
    "pi <- 3.14\n",
    "mo <- c(10, 12, 15)\n",
    "for(i in 1:3){\n",
    "    cat(\"반지름이 \", mo[i], \"인 원의 면적 : \", pi * ( mo[i] ^ 2 ), \"\\n\")\n",
    "}"
   ]
  },
  {
   "cell_type": "code",
   "execution_count": 15,
   "id": "7edab426",
   "metadata": {},
   "outputs": [
    {
     "name": "stdout",
     "output_type": "stream",
     "text": [
      "x가 :  6 일 때, 2*x^2+5*x+10의 값 :  112 \n",
      "x가 :  8 일 때, 2*x^2+5*x+10의 값 :  178 \n",
      "x가 :  10 일 때, 2*x^2+5*x+10의 값 :  260 \n"
     ]
    }
   ],
   "source": [
    "x <- c(6, 8, 10)\n",
    "for(i in 1:3){\n",
    "    cat(\"x가 : \", x[i], \"일 때, 2*x^2+5*x+10의 값 : \", 2*x[i]^2+5*x[i]+10, \"\\n\")\n",
    "}"
   ]
  },
  {
   "cell_type": "code",
   "execution_count": 16,
   "id": "41fe2c2e",
   "metadata": {},
   "outputs": [
    {
     "ename": "ERROR",
     "evalue": "Error in eval(expr, envir, enclos): object 'val.b' not found\n",
     "output_type": "error",
     "traceback": [
      "Error in eval(expr, envir, enclos): object 'val.b' not found\nTraceback:\n"
     ]
    }
   ],
   "source": [
    "val.a <- 10\n",
    "val.ab <- val.a + val.b"
   ]
  },
  {
   "cell_type": "code",
   "execution_count": 17,
   "id": "48d35580",
   "metadata": {},
   "outputs": [],
   "source": [
    "val.a <- 10\n",
    "val.b <- 0\n",
    "val.ab <- val.a + val.b"
   ]
  },
  {
   "cell_type": "code",
   "execution_count": 18,
   "id": "b703983f",
   "metadata": {},
   "outputs": [
    {
     "data": {
      "text/html": [
       "10"
      ],
      "text/latex": [
       "10"
      ],
      "text/markdown": [
       "10"
      ],
      "text/plain": [
       "[1] 10"
      ]
     },
     "metadata": {},
     "output_type": "display_data"
    }
   ],
   "source": [
    "val.ab"
   ]
  },
  {
   "cell_type": "code",
   "execution_count": 19,
   "id": "993d1fd3",
   "metadata": {},
   "outputs": [
    {
     "data": {
      "text/html": [
       "<style>\n",
       ".list-inline {list-style: none; margin:0; padding: 0}\n",
       ".list-inline>li {display: inline-block}\n",
       ".list-inline>li:not(:last-child)::after {content: \"\\00b7\"; padding: 0 .5ex}\n",
       "</style>\n",
       "<ol class=list-inline><li>95</li><li>86</li><li>47</li><li>55</li><li>68</li></ol>\n"
      ],
      "text/latex": [
       "\\begin{enumerate*}\n",
       "\\item 95\n",
       "\\item 86\n",
       "\\item 47\n",
       "\\item 55\n",
       "\\item 68\n",
       "\\end{enumerate*}\n"
      ],
      "text/markdown": [
       "1. 95\n",
       "2. 86\n",
       "3. 47\n",
       "4. 55\n",
       "5. 68\n",
       "\n",
       "\n"
      ],
      "text/plain": [
       "[1] 95 86 47 55 68"
      ]
     },
     "metadata": {},
     "output_type": "display_data"
    }
   ],
   "source": [
    "vc.1 <- c(95, 86, 47, 55, 68)\n",
    "vc.1"
   ]
  },
  {
   "cell_type": "code",
   "execution_count": 20,
   "id": "eb8f9bfc",
   "metadata": {},
   "outputs": [
    {
     "data": {
      "text/html": [
       "<style>\n",
       ".list-inline {list-style: none; margin:0; padding: 0}\n",
       ".list-inline>li {display: inline-block}\n",
       ".list-inline>li:not(:last-child)::after {content: \"\\00b7\"; padding: 0 .5ex}\n",
       "</style>\n",
       "<ol class=list-inline><li>100</li><li>102</li><li>104</li><li>106</li><li>108</li><li>110</li><li>112</li><li>114</li><li>116</li><li>118</li><li>120</li><li>122</li><li>124</li><li>126</li><li>128</li><li>130</li><li>132</li><li>134</li><li>136</li><li>138</li><li>140</li><li>142</li><li>144</li><li>146</li><li>148</li><li>150</li><li>152</li><li>154</li><li>156</li><li>158</li><li>160</li><li>162</li><li>164</li><li>166</li><li>168</li><li>170</li><li>172</li><li>174</li><li>176</li><li>178</li><li>180</li><li>182</li><li>184</li><li>186</li><li>188</li><li>190</li><li>192</li><li>194</li><li>196</li><li>198</li><li>200</li></ol>\n"
      ],
      "text/latex": [
       "\\begin{enumerate*}\n",
       "\\item 100\n",
       "\\item 102\n",
       "\\item 104\n",
       "\\item 106\n",
       "\\item 108\n",
       "\\item 110\n",
       "\\item 112\n",
       "\\item 114\n",
       "\\item 116\n",
       "\\item 118\n",
       "\\item 120\n",
       "\\item 122\n",
       "\\item 124\n",
       "\\item 126\n",
       "\\item 128\n",
       "\\item 130\n",
       "\\item 132\n",
       "\\item 134\n",
       "\\item 136\n",
       "\\item 138\n",
       "\\item 140\n",
       "\\item 142\n",
       "\\item 144\n",
       "\\item 146\n",
       "\\item 148\n",
       "\\item 150\n",
       "\\item 152\n",
       "\\item 154\n",
       "\\item 156\n",
       "\\item 158\n",
       "\\item 160\n",
       "\\item 162\n",
       "\\item 164\n",
       "\\item 166\n",
       "\\item 168\n",
       "\\item 170\n",
       "\\item 172\n",
       "\\item 174\n",
       "\\item 176\n",
       "\\item 178\n",
       "\\item 180\n",
       "\\item 182\n",
       "\\item 184\n",
       "\\item 186\n",
       "\\item 188\n",
       "\\item 190\n",
       "\\item 192\n",
       "\\item 194\n",
       "\\item 196\n",
       "\\item 198\n",
       "\\item 200\n",
       "\\end{enumerate*}\n"
      ],
      "text/markdown": [
       "1. 100\n",
       "2. 102\n",
       "3. 104\n",
       "4. 106\n",
       "5. 108\n",
       "6. 110\n",
       "7. 112\n",
       "8. 114\n",
       "9. 116\n",
       "10. 118\n",
       "11. 120\n",
       "12. 122\n",
       "13. 124\n",
       "14. 126\n",
       "15. 128\n",
       "16. 130\n",
       "17. 132\n",
       "18. 134\n",
       "19. 136\n",
       "20. 138\n",
       "21. 140\n",
       "22. 142\n",
       "23. 144\n",
       "24. 146\n",
       "25. 148\n",
       "26. 150\n",
       "27. 152\n",
       "28. 154\n",
       "29. 156\n",
       "30. 158\n",
       "31. 160\n",
       "32. 162\n",
       "33. 164\n",
       "34. 166\n",
       "35. 168\n",
       "36. 170\n",
       "37. 172\n",
       "38. 174\n",
       "39. 176\n",
       "40. 178\n",
       "41. 180\n",
       "42. 182\n",
       "43. 184\n",
       "44. 186\n",
       "45. 188\n",
       "46. 190\n",
       "47. 192\n",
       "48. 194\n",
       "49. 196\n",
       "50. 198\n",
       "51. 200\n",
       "\n",
       "\n"
      ],
      "text/plain": [
       " [1] 100 102 104 106 108 110 112 114 116 118 120 122 124 126 128 130 132 134 136\n",
       "[20] 138 140 142 144 146 148 150 152 154 156 158 160 162 164 166 168 170 172 174\n",
       "[39] 176 178 180 182 184 186 188 190 192 194 196 198 200"
      ]
     },
     "metadata": {},
     "output_type": "display_data"
    }
   ],
   "source": [
    "vc.2 <- seq(100, 200, 2)\n",
    "vc.2"
   ]
  },
  {
   "cell_type": "code",
   "execution_count": 22,
   "id": "a18f1efe",
   "metadata": {},
   "outputs": [
    {
     "data": {
      "text/html": [
       "<style>\n",
       ".list-inline {list-style: none; margin:0; padding: 0}\n",
       ".list-inline>li {display: inline-block}\n",
       ".list-inline>li:not(:last-child)::after {content: \"\\00b7\"; padding: 0 .5ex}\n",
       "</style>\n",
       "<ol class=list-inline><li>TRUE</li><li>TRUE</li><li>TRUE</li><li>TRUE</li><li>TRUE</li><li>TRUE</li><li>TRUE</li><li>TRUE</li><li>TRUE</li><li>TRUE</li><li>TRUE</li><li>TRUE</li><li>TRUE</li><li>TRUE</li><li>TRUE</li><li>TRUE</li><li>TRUE</li><li>TRUE</li><li>TRUE</li><li>TRUE</li></ol>\n"
      ],
      "text/latex": [
       "\\begin{enumerate*}\n",
       "\\item TRUE\n",
       "\\item TRUE\n",
       "\\item TRUE\n",
       "\\item TRUE\n",
       "\\item TRUE\n",
       "\\item TRUE\n",
       "\\item TRUE\n",
       "\\item TRUE\n",
       "\\item TRUE\n",
       "\\item TRUE\n",
       "\\item TRUE\n",
       "\\item TRUE\n",
       "\\item TRUE\n",
       "\\item TRUE\n",
       "\\item TRUE\n",
       "\\item TRUE\n",
       "\\item TRUE\n",
       "\\item TRUE\n",
       "\\item TRUE\n",
       "\\item TRUE\n",
       "\\end{enumerate*}\n"
      ],
      "text/markdown": [
       "1. TRUE\n",
       "2. TRUE\n",
       "3. TRUE\n",
       "4. TRUE\n",
       "5. TRUE\n",
       "6. TRUE\n",
       "7. TRUE\n",
       "8. TRUE\n",
       "9. TRUE\n",
       "10. TRUE\n",
       "11. TRUE\n",
       "12. TRUE\n",
       "13. TRUE\n",
       "14. TRUE\n",
       "15. TRUE\n",
       "16. TRUE\n",
       "17. TRUE\n",
       "18. TRUE\n",
       "19. TRUE\n",
       "20. TRUE\n",
       "\n",
       "\n"
      ],
      "text/plain": [
       " [1] TRUE TRUE TRUE TRUE TRUE TRUE TRUE TRUE TRUE TRUE TRUE TRUE TRUE TRUE TRUE\n",
       "[16] TRUE TRUE TRUE TRUE TRUE"
      ]
     },
     "metadata": {},
     "output_type": "display_data"
    }
   ],
   "source": [
    "vc.3 <- rep(TRUE, 20)\n",
    "vc.3"
   ]
  },
  {
   "cell_type": "code",
   "execution_count": 23,
   "id": "c88e20a3",
   "metadata": {},
   "outputs": [
    {
     "data": {
      "text/html": [
       "<style>\n",
       ".list-inline {list-style: none; margin:0; padding: 0}\n",
       ".list-inline>li {display: inline-block}\n",
       ".list-inline>li:not(:last-child)::after {content: \"\\00b7\"; padding: 0 .5ex}\n",
       "</style>\n",
       "<ol class=list-inline><li>100</li><li>101</li><li>102</li><li>103</li><li>104</li><li>105</li><li>106</li><li>107</li><li>108</li><li>109</li><li>110</li><li>111</li><li>112</li><li>113</li><li>114</li><li>115</li><li>116</li><li>117</li><li>118</li><li>119</li><li>120</li><li>121</li><li>122</li><li>123</li><li>124</li><li>125</li><li>126</li><li>127</li><li>128</li><li>129</li><li>130</li><li>131</li><li>132</li><li>133</li><li>134</li><li>135</li><li>136</li><li>137</li><li>138</li><li>139</li><li>140</li><li>141</li><li>142</li><li>143</li><li>144</li><li>145</li><li>146</li><li>147</li><li>148</li><li>149</li><li>150</li><li>151</li><li>152</li><li>153</li><li>154</li><li>155</li><li>156</li><li>157</li><li>158</li><li>159</li><li>160</li><li>161</li><li>162</li><li>163</li><li>164</li><li>165</li><li>166</li><li>167</li><li>168</li><li>169</li><li>170</li><li>171</li><li>172</li><li>173</li><li>174</li><li>175</li><li>176</li><li>177</li><li>178</li><li>179</li><li>180</li><li>181</li><li>182</li><li>183</li><li>184</li><li>185</li><li>186</li><li>187</li><li>188</li><li>189</li><li>190</li><li>191</li><li>192</li><li>193</li><li>194</li><li>195</li><li>196</li><li>197</li><li>198</li><li>199</li><li>200</li></ol>\n"
      ],
      "text/latex": [
       "\\begin{enumerate*}\n",
       "\\item 100\n",
       "\\item 101\n",
       "\\item 102\n",
       "\\item 103\n",
       "\\item 104\n",
       "\\item 105\n",
       "\\item 106\n",
       "\\item 107\n",
       "\\item 108\n",
       "\\item 109\n",
       "\\item 110\n",
       "\\item 111\n",
       "\\item 112\n",
       "\\item 113\n",
       "\\item 114\n",
       "\\item 115\n",
       "\\item 116\n",
       "\\item 117\n",
       "\\item 118\n",
       "\\item 119\n",
       "\\item 120\n",
       "\\item 121\n",
       "\\item 122\n",
       "\\item 123\n",
       "\\item 124\n",
       "\\item 125\n",
       "\\item 126\n",
       "\\item 127\n",
       "\\item 128\n",
       "\\item 129\n",
       "\\item 130\n",
       "\\item 131\n",
       "\\item 132\n",
       "\\item 133\n",
       "\\item 134\n",
       "\\item 135\n",
       "\\item 136\n",
       "\\item 137\n",
       "\\item 138\n",
       "\\item 139\n",
       "\\item 140\n",
       "\\item 141\n",
       "\\item 142\n",
       "\\item 143\n",
       "\\item 144\n",
       "\\item 145\n",
       "\\item 146\n",
       "\\item 147\n",
       "\\item 148\n",
       "\\item 149\n",
       "\\item 150\n",
       "\\item 151\n",
       "\\item 152\n",
       "\\item 153\n",
       "\\item 154\n",
       "\\item 155\n",
       "\\item 156\n",
       "\\item 157\n",
       "\\item 158\n",
       "\\item 159\n",
       "\\item 160\n",
       "\\item 161\n",
       "\\item 162\n",
       "\\item 163\n",
       "\\item 164\n",
       "\\item 165\n",
       "\\item 166\n",
       "\\item 167\n",
       "\\item 168\n",
       "\\item 169\n",
       "\\item 170\n",
       "\\item 171\n",
       "\\item 172\n",
       "\\item 173\n",
       "\\item 174\n",
       "\\item 175\n",
       "\\item 176\n",
       "\\item 177\n",
       "\\item 178\n",
       "\\item 179\n",
       "\\item 180\n",
       "\\item 181\n",
       "\\item 182\n",
       "\\item 183\n",
       "\\item 184\n",
       "\\item 185\n",
       "\\item 186\n",
       "\\item 187\n",
       "\\item 188\n",
       "\\item 189\n",
       "\\item 190\n",
       "\\item 191\n",
       "\\item 192\n",
       "\\item 193\n",
       "\\item 194\n",
       "\\item 195\n",
       "\\item 196\n",
       "\\item 197\n",
       "\\item 198\n",
       "\\item 199\n",
       "\\item 200\n",
       "\\end{enumerate*}\n"
      ],
      "text/markdown": [
       "1. 100\n",
       "2. 101\n",
       "3. 102\n",
       "4. 103\n",
       "5. 104\n",
       "6. 105\n",
       "7. 106\n",
       "8. 107\n",
       "9. 108\n",
       "10. 109\n",
       "11. 110\n",
       "12. 111\n",
       "13. 112\n",
       "14. 113\n",
       "15. 114\n",
       "16. 115\n",
       "17. 116\n",
       "18. 117\n",
       "19. 118\n",
       "20. 119\n",
       "21. 120\n",
       "22. 121\n",
       "23. 122\n",
       "24. 123\n",
       "25. 124\n",
       "26. 125\n",
       "27. 126\n",
       "28. 127\n",
       "29. 128\n",
       "30. 129\n",
       "31. 130\n",
       "32. 131\n",
       "33. 132\n",
       "34. 133\n",
       "35. 134\n",
       "36. 135\n",
       "37. 136\n",
       "38. 137\n",
       "39. 138\n",
       "40. 139\n",
       "41. 140\n",
       "42. 141\n",
       "43. 142\n",
       "44. 143\n",
       "45. 144\n",
       "46. 145\n",
       "47. 146\n",
       "48. 147\n",
       "49. 148\n",
       "50. 149\n",
       "51. 150\n",
       "52. 151\n",
       "53. 152\n",
       "54. 153\n",
       "55. 154\n",
       "56. 155\n",
       "57. 156\n",
       "58. 157\n",
       "59. 158\n",
       "60. 159\n",
       "61. 160\n",
       "62. 161\n",
       "63. 162\n",
       "64. 163\n",
       "65. 164\n",
       "66. 165\n",
       "67. 166\n",
       "68. 167\n",
       "69. 168\n",
       "70. 169\n",
       "71. 170\n",
       "72. 171\n",
       "73. 172\n",
       "74. 173\n",
       "75. 174\n",
       "76. 175\n",
       "77. 176\n",
       "78. 177\n",
       "79. 178\n",
       "80. 179\n",
       "81. 180\n",
       "82. 181\n",
       "83. 182\n",
       "84. 183\n",
       "85. 184\n",
       "86. 185\n",
       "87. 186\n",
       "88. 187\n",
       "89. 188\n",
       "90. 189\n",
       "91. 190\n",
       "92. 191\n",
       "93. 192\n",
       "94. 193\n",
       "95. 194\n",
       "96. 195\n",
       "97. 196\n",
       "98. 197\n",
       "99. 198\n",
       "100. 199\n",
       "101. 200\n",
       "\n",
       "\n"
      ],
      "text/plain": [
       "  [1] 100 101 102 103 104 105 106 107 108 109 110 111 112 113 114 115 116 117\n",
       " [19] 118 119 120 121 122 123 124 125 126 127 128 129 130 131 132 133 134 135\n",
       " [37] 136 137 138 139 140 141 142 143 144 145 146 147 148 149 150 151 152 153\n",
       " [55] 154 155 156 157 158 159 160 161 162 163 164 165 166 167 168 169 170 171\n",
       " [73] 172 173 174 175 176 177 178 179 180 181 182 183 184 185 186 187 188 189\n",
       " [91] 190 191 192 193 194 195 196 197 198 199 200"
      ]
     },
     "metadata": {},
     "output_type": "display_data"
    }
   ],
   "source": [
    "d <- 100:200\n",
    "d"
   ]
  },
  {
   "cell_type": "code",
   "execution_count": 24,
   "id": "ac290315",
   "metadata": {},
   "outputs": [
    {
     "data": {
      "text/html": [
       "109"
      ],
      "text/latex": [
       "109"
      ],
      "text/markdown": [
       "109"
      ],
      "text/plain": [
       "[1] 109"
      ]
     },
     "metadata": {},
     "output_type": "display_data"
    }
   ],
   "source": [
    "d[10]"
   ]
  },
  {
   "cell_type": "code",
   "execution_count": 25,
   "id": "4c12c675",
   "metadata": {},
   "outputs": [
    {
     "data": {
      "text/html": [
       "<style>\n",
       ".list-inline {list-style: none; margin:0; padding: 0}\n",
       ".list-inline>li {display: inline-block}\n",
       ".list-inline>li:not(:last-child)::after {content: \"\\00b7\"; padding: 0 .5ex}\n",
       "</style>\n",
       "<ol class=list-inline><li>190</li><li>191</li><li>192</li><li>193</li><li>194</li><li>195</li><li>196</li><li>197</li><li>198</li><li>199</li></ol>\n"
      ],
      "text/latex": [
       "\\begin{enumerate*}\n",
       "\\item 190\n",
       "\\item 191\n",
       "\\item 192\n",
       "\\item 193\n",
       "\\item 194\n",
       "\\item 195\n",
       "\\item 196\n",
       "\\item 197\n",
       "\\item 198\n",
       "\\item 199\n",
       "\\end{enumerate*}\n"
      ],
      "text/markdown": [
       "1. 190\n",
       "2. 191\n",
       "3. 192\n",
       "4. 193\n",
       "5. 194\n",
       "6. 195\n",
       "7. 196\n",
       "8. 197\n",
       "9. 198\n",
       "10. 199\n",
       "\n",
       "\n"
      ],
      "text/plain": [
       " [1] 190 191 192 193 194 195 196 197 198 199"
      ]
     },
     "metadata": {},
     "output_type": "display_data"
    }
   ],
   "source": [
    "d[91:100]"
   ]
  },
  {
   "cell_type": "code",
   "execution_count": 26,
   "id": "7e7d25b0",
   "metadata": {},
   "outputs": [
    {
     "data": {
      "text/html": [
       "10"
      ],
      "text/latex": [
       "10"
      ],
      "text/markdown": [
       "10"
      ],
      "text/plain": [
       "[1] 10"
      ]
     },
     "metadata": {},
     "output_type": "display_data"
    }
   ],
   "source": [
    "length(d[91:100])"
   ]
  },
  {
   "cell_type": "code",
   "execution_count": 27,
   "id": "587dc604",
   "metadata": {},
   "outputs": [
    {
     "data": {
      "text/html": [
       "<style>\n",
       ".list-inline {list-style: none; margin:0; padding: 0}\n",
       ".list-inline>li {display: inline-block}\n",
       ".list-inline>li:not(:last-child)::after {content: \"\\00b7\"; padding: 0 .5ex}\n",
       "</style>\n",
       "<ol class=list-inline><li>101</li><li>103</li><li>105</li><li>107</li><li>109</li><li>111</li><li>113</li><li>115</li><li>117</li><li>119</li><li>121</li><li>123</li><li>125</li><li>127</li><li>129</li><li>131</li><li>133</li><li>135</li><li>137</li><li>139</li><li>141</li><li>143</li><li>145</li><li>147</li><li>149</li><li>151</li><li>153</li><li>155</li><li>157</li><li>159</li><li>161</li><li>163</li><li>165</li><li>167</li><li>169</li><li>171</li><li>173</li><li>175</li><li>177</li><li>179</li><li>181</li><li>183</li><li>185</li><li>187</li><li>189</li><li>191</li><li>193</li><li>195</li><li>197</li><li>199</li></ol>\n"
      ],
      "text/latex": [
       "\\begin{enumerate*}\n",
       "\\item 101\n",
       "\\item 103\n",
       "\\item 105\n",
       "\\item 107\n",
       "\\item 109\n",
       "\\item 111\n",
       "\\item 113\n",
       "\\item 115\n",
       "\\item 117\n",
       "\\item 119\n",
       "\\item 121\n",
       "\\item 123\n",
       "\\item 125\n",
       "\\item 127\n",
       "\\item 129\n",
       "\\item 131\n",
       "\\item 133\n",
       "\\item 135\n",
       "\\item 137\n",
       "\\item 139\n",
       "\\item 141\n",
       "\\item 143\n",
       "\\item 145\n",
       "\\item 147\n",
       "\\item 149\n",
       "\\item 151\n",
       "\\item 153\n",
       "\\item 155\n",
       "\\item 157\n",
       "\\item 159\n",
       "\\item 161\n",
       "\\item 163\n",
       "\\item 165\n",
       "\\item 167\n",
       "\\item 169\n",
       "\\item 171\n",
       "\\item 173\n",
       "\\item 175\n",
       "\\item 177\n",
       "\\item 179\n",
       "\\item 181\n",
       "\\item 183\n",
       "\\item 185\n",
       "\\item 187\n",
       "\\item 189\n",
       "\\item 191\n",
       "\\item 193\n",
       "\\item 195\n",
       "\\item 197\n",
       "\\item 199\n",
       "\\end{enumerate*}\n"
      ],
      "text/markdown": [
       "1. 101\n",
       "2. 103\n",
       "3. 105\n",
       "4. 107\n",
       "5. 109\n",
       "6. 111\n",
       "7. 113\n",
       "8. 115\n",
       "9. 117\n",
       "10. 119\n",
       "11. 121\n",
       "12. 123\n",
       "13. 125\n",
       "14. 127\n",
       "15. 129\n",
       "16. 131\n",
       "17. 133\n",
       "18. 135\n",
       "19. 137\n",
       "20. 139\n",
       "21. 141\n",
       "22. 143\n",
       "23. 145\n",
       "24. 147\n",
       "25. 149\n",
       "26. 151\n",
       "27. 153\n",
       "28. 155\n",
       "29. 157\n",
       "30. 159\n",
       "31. 161\n",
       "32. 163\n",
       "33. 165\n",
       "34. 167\n",
       "35. 169\n",
       "36. 171\n",
       "37. 173\n",
       "38. 175\n",
       "39. 177\n",
       "40. 179\n",
       "41. 181\n",
       "42. 183\n",
       "43. 185\n",
       "44. 187\n",
       "45. 189\n",
       "46. 191\n",
       "47. 193\n",
       "48. 195\n",
       "49. 197\n",
       "50. 199\n",
       "\n",
       "\n"
      ],
      "text/plain": [
       " [1] 101 103 105 107 109 111 113 115 117 119 121 123 125 127 129 131 133 135 137\n",
       "[20] 139 141 143 145 147 149 151 153 155 157 159 161 163 165 167 169 171 173 175\n",
       "[39] 177 179 181 183 185 187 189 191 193 195 197 199"
      ]
     },
     "metadata": {},
     "output_type": "display_data"
    }
   ],
   "source": [
    "d[d%%2 == 1]"
   ]
  },
  {
   "cell_type": "code",
   "execution_count": 28,
   "id": "d0329f38",
   "metadata": {},
   "outputs": [
    {
     "data": {
      "text/html": [
       "<style>\n",
       ".list-inline {list-style: none; margin:0; padding: 0}\n",
       ".list-inline>li {display: inline-block}\n",
       ".list-inline>li:not(:last-child)::after {content: \"\\00b7\"; padding: 0 .5ex}\n",
       "</style>\n",
       "<ol class=list-inline><li>102</li><li>105</li><li>108</li><li>111</li><li>114</li><li>117</li><li>120</li><li>123</li><li>126</li><li>129</li><li>132</li><li>135</li><li>138</li><li>141</li><li>144</li><li>147</li><li>150</li><li>153</li><li>156</li><li>159</li><li>162</li><li>165</li><li>168</li><li>171</li><li>174</li><li>177</li><li>180</li><li>183</li><li>186</li><li>189</li><li>192</li><li>195</li><li>198</li></ol>\n"
      ],
      "text/latex": [
       "\\begin{enumerate*}\n",
       "\\item 102\n",
       "\\item 105\n",
       "\\item 108\n",
       "\\item 111\n",
       "\\item 114\n",
       "\\item 117\n",
       "\\item 120\n",
       "\\item 123\n",
       "\\item 126\n",
       "\\item 129\n",
       "\\item 132\n",
       "\\item 135\n",
       "\\item 138\n",
       "\\item 141\n",
       "\\item 144\n",
       "\\item 147\n",
       "\\item 150\n",
       "\\item 153\n",
       "\\item 156\n",
       "\\item 159\n",
       "\\item 162\n",
       "\\item 165\n",
       "\\item 168\n",
       "\\item 171\n",
       "\\item 174\n",
       "\\item 177\n",
       "\\item 180\n",
       "\\item 183\n",
       "\\item 186\n",
       "\\item 189\n",
       "\\item 192\n",
       "\\item 195\n",
       "\\item 198\n",
       "\\end{enumerate*}\n"
      ],
      "text/markdown": [
       "1. 102\n",
       "2. 105\n",
       "3. 108\n",
       "4. 111\n",
       "5. 114\n",
       "6. 117\n",
       "7. 120\n",
       "8. 123\n",
       "9. 126\n",
       "10. 129\n",
       "11. 132\n",
       "12. 135\n",
       "13. 138\n",
       "14. 141\n",
       "15. 144\n",
       "16. 147\n",
       "17. 150\n",
       "18. 153\n",
       "19. 156\n",
       "20. 159\n",
       "21. 162\n",
       "22. 165\n",
       "23. 168\n",
       "24. 171\n",
       "25. 174\n",
       "26. 177\n",
       "27. 180\n",
       "28. 183\n",
       "29. 186\n",
       "30. 189\n",
       "31. 192\n",
       "32. 195\n",
       "33. 198\n",
       "\n",
       "\n"
      ],
      "text/plain": [
       " [1] 102 105 108 111 114 117 120 123 126 129 132 135 138 141 144 147 150 153 156\n",
       "[20] 159 162 165 168 171 174 177 180 183 186 189 192 195 198"
      ]
     },
     "metadata": {},
     "output_type": "display_data"
    }
   ],
   "source": [
    "d[d%%3 == 0]"
   ]
  },
  {
   "cell_type": "code",
   "execution_count": 29,
   "id": "5d60791d",
   "metadata": {},
   "outputs": [],
   "source": [
    "d.20 <- d[1:20]"
   ]
  },
  {
   "cell_type": "code",
   "execution_count": 30,
   "id": "b2557525",
   "metadata": {},
   "outputs": [
    {
     "data": {
      "text/html": [
       "<style>\n",
       ".list-inline {list-style: none; margin:0; padding: 0}\n",
       ".list-inline>li {display: inline-block}\n",
       ".list-inline>li:not(:last-child)::after {content: \"\\00b7\"; padding: 0 .5ex}\n",
       "</style>\n",
       "<ol class=list-inline><li>100</li><li>101</li><li>102</li><li>103</li><li>104</li><li>105</li><li>106</li><li>107</li><li>108</li><li>109</li><li>110</li><li>111</li><li>112</li><li>113</li><li>114</li><li>115</li><li>116</li><li>117</li><li>118</li><li>119</li></ol>\n"
      ],
      "text/latex": [
       "\\begin{enumerate*}\n",
       "\\item 100\n",
       "\\item 101\n",
       "\\item 102\n",
       "\\item 103\n",
       "\\item 104\n",
       "\\item 105\n",
       "\\item 106\n",
       "\\item 107\n",
       "\\item 108\n",
       "\\item 109\n",
       "\\item 110\n",
       "\\item 111\n",
       "\\item 112\n",
       "\\item 113\n",
       "\\item 114\n",
       "\\item 115\n",
       "\\item 116\n",
       "\\item 117\n",
       "\\item 118\n",
       "\\item 119\n",
       "\\end{enumerate*}\n"
      ],
      "text/markdown": [
       "1. 100\n",
       "2. 101\n",
       "3. 102\n",
       "4. 103\n",
       "5. 104\n",
       "6. 105\n",
       "7. 106\n",
       "8. 107\n",
       "9. 108\n",
       "10. 109\n",
       "11. 110\n",
       "12. 111\n",
       "13. 112\n",
       "14. 113\n",
       "15. 114\n",
       "16. 115\n",
       "17. 116\n",
       "18. 117\n",
       "19. 118\n",
       "20. 119\n",
       "\n",
       "\n"
      ],
      "text/plain": [
       " [1] 100 101 102 103 104 105 106 107 108 109 110 111 112 113 114 115 116 117 118\n",
       "[20] 119"
      ]
     },
     "metadata": {},
     "output_type": "display_data"
    }
   ],
   "source": [
    "d.20"
   ]
  },
  {
   "cell_type": "code",
   "execution_count": 31,
   "id": "b175cea4",
   "metadata": {},
   "outputs": [
    {
     "data": {
      "text/html": [
       "<style>\n",
       ".list-inline {list-style: none; margin:0; padding: 0}\n",
       ".list-inline>li {display: inline-block}\n",
       ".list-inline>li:not(:last-child)::after {content: \"\\00b7\"; padding: 0 .5ex}\n",
       "</style>\n",
       "<ol class=list-inline><li>100</li><li>101</li><li>102</li><li>103</li><li>105</li><li>106</li><li>107</li><li>108</li><li>109</li><li>110</li><li>111</li><li>112</li><li>113</li><li>114</li><li>115</li><li>116</li><li>117</li><li>118</li><li>119</li></ol>\n"
      ],
      "text/latex": [
       "\\begin{enumerate*}\n",
       "\\item 100\n",
       "\\item 101\n",
       "\\item 102\n",
       "\\item 103\n",
       "\\item 105\n",
       "\\item 106\n",
       "\\item 107\n",
       "\\item 108\n",
       "\\item 109\n",
       "\\item 110\n",
       "\\item 111\n",
       "\\item 112\n",
       "\\item 113\n",
       "\\item 114\n",
       "\\item 115\n",
       "\\item 116\n",
       "\\item 117\n",
       "\\item 118\n",
       "\\item 119\n",
       "\\end{enumerate*}\n"
      ],
      "text/markdown": [
       "1. 100\n",
       "2. 101\n",
       "3. 102\n",
       "4. 103\n",
       "5. 105\n",
       "6. 106\n",
       "7. 107\n",
       "8. 108\n",
       "9. 109\n",
       "10. 110\n",
       "11. 111\n",
       "12. 112\n",
       "13. 113\n",
       "14. 114\n",
       "15. 115\n",
       "16. 116\n",
       "17. 117\n",
       "18. 118\n",
       "19. 119\n",
       "\n",
       "\n"
      ],
      "text/plain": [
       " [1] 100 101 102 103 105 106 107 108 109 110 111 112 113 114 115 116 117 118 119"
      ]
     },
     "metadata": {},
     "output_type": "display_data"
    }
   ],
   "source": [
    "d.20[-5]"
   ]
  },
  {
   "cell_type": "code",
   "execution_count": 32,
   "id": "160a4c34",
   "metadata": {},
   "outputs": [
    {
     "data": {
      "text/html": [
       "<style>\n",
       ".list-inline {list-style: none; margin:0; padding: 0}\n",
       ".list-inline>li {display: inline-block}\n",
       ".list-inline>li:not(:last-child)::after {content: \"\\00b7\"; padding: 0 .5ex}\n",
       "</style>\n",
       "<ol class=list-inline><li>100</li><li>101</li><li>102</li><li>103</li><li>105</li><li>107</li><li>109</li><li>110</li><li>111</li><li>112</li><li>113</li><li>114</li><li>115</li><li>116</li><li>117</li><li>118</li><li>119</li></ol>\n"
      ],
      "text/latex": [
       "\\begin{enumerate*}\n",
       "\\item 100\n",
       "\\item 101\n",
       "\\item 102\n",
       "\\item 103\n",
       "\\item 105\n",
       "\\item 107\n",
       "\\item 109\n",
       "\\item 110\n",
       "\\item 111\n",
       "\\item 112\n",
       "\\item 113\n",
       "\\item 114\n",
       "\\item 115\n",
       "\\item 116\n",
       "\\item 117\n",
       "\\item 118\n",
       "\\item 119\n",
       "\\end{enumerate*}\n"
      ],
      "text/markdown": [
       "1. 100\n",
       "2. 101\n",
       "3. 102\n",
       "4. 103\n",
       "5. 105\n",
       "6. 107\n",
       "7. 109\n",
       "8. 110\n",
       "9. 111\n",
       "10. 112\n",
       "11. 113\n",
       "12. 114\n",
       "13. 115\n",
       "14. 116\n",
       "15. 117\n",
       "16. 118\n",
       "17. 119\n",
       "\n",
       "\n"
      ],
      "text/plain": [
       " [1] 100 101 102 103 105 107 109 110 111 112 113 114 115 116 117 118 119"
      ]
     },
     "metadata": {},
     "output_type": "display_data"
    }
   ],
   "source": [
    "d.20[-c(5, 7, 9)]"
   ]
  },
  {
   "cell_type": "code",
   "execution_count": 33,
   "id": "48b37c18",
   "metadata": {},
   "outputs": [
    {
     "data": {
      "text/html": [
       "<style>\n",
       ".dl-inline {width: auto; margin:0; padding: 0}\n",
       ".dl-inline>dt, .dl-inline>dd {float: none; width: auto; display: inline-block}\n",
       ".dl-inline>dt::after {content: \":\\0020\"; padding-right: .5ex}\n",
       ".dl-inline>dt:not(:first-of-type) {padding-left: .5ex}\n",
       "</style><dl class=dl-inline><dt>Jan</dt><dd>10</dd><dt>Feb</dt><dd>8</dd><dt>Mar</dt><dd>14</dd><dt>Apr</dt><dd>15</dd><dt>May</dt><dd>9</dd><dt>Jun</dt><dd>10</dd><dt>Jul</dt><dd>15</dd><dt>Aug</dt><dd>12</dd><dt>Sep</dt><dd>9</dd><dt>Oct</dt><dd>7</dd><dt>Nov</dt><dd>8</dd><dt>Dec</dt><dd>7</dd></dl>\n"
      ],
      "text/latex": [
       "\\begin{description*}\n",
       "\\item[Jan] 10\n",
       "\\item[Feb] 8\n",
       "\\item[Mar] 14\n",
       "\\item[Apr] 15\n",
       "\\item[May] 9\n",
       "\\item[Jun] 10\n",
       "\\item[Jul] 15\n",
       "\\item[Aug] 12\n",
       "\\item[Sep] 9\n",
       "\\item[Oct] 7\n",
       "\\item[Nov] 8\n",
       "\\item[Dec] 7\n",
       "\\end{description*}\n"
      ],
      "text/markdown": [
       "Jan\n",
       ":   10Feb\n",
       ":   8Mar\n",
       ":   14Apr\n",
       ":   15May\n",
       ":   9Jun\n",
       ":   10Jul\n",
       ":   15Aug\n",
       ":   12Sep\n",
       ":   9Oct\n",
       ":   7Nov\n",
       ":   8Dec\n",
       ":   7\n",
       "\n"
      ],
      "text/plain": [
       "Jan Feb Mar Apr May Jun Jul Aug Sep Oct Nov Dec \n",
       " 10   8  14  15   9  10  15  12   9   7   8   7 "
      ]
     },
     "metadata": {},
     "output_type": "display_data"
    }
   ],
   "source": [
    "absent <- c(10, 8, 14, 15, 9, 10, 15, 12, 9, 7, 8, 7)\n",
    "names(absent) <- c('Jan','Feb','Mar','Apr','May','Jun','Jul','Aug','Sep','Oct','Nov','Dec')\n",
    "absent"
   ]
  },
  {
   "cell_type": "code",
   "execution_count": 34,
   "id": "560fa79a",
   "metadata": {},
   "outputs": [
    {
     "data": {
      "text/html": [
       "<strong>May:</strong> 9"
      ],
      "text/latex": [
       "\\textbf{May:} 9"
      ],
      "text/markdown": [
       "**May:** 9"
      ],
      "text/plain": [
       "May \n",
       "  9 "
      ]
     },
     "metadata": {},
     "output_type": "display_data"
    }
   ],
   "source": [
    "absent['May']"
   ]
  },
  {
   "cell_type": "code",
   "execution_count": 36,
   "id": "7f87274b",
   "metadata": {},
   "outputs": [
    {
     "data": {
      "text/html": [
       "<strong>May:</strong> 9"
      ],
      "text/latex": [
       "\\textbf{May:} 9"
      ],
      "text/markdown": [
       "**May:** 9"
      ],
      "text/plain": [
       "May \n",
       "  9 "
      ]
     },
     "metadata": {},
     "output_type": "display_data"
    }
   ],
   "source": [
    "absent[5]"
   ]
  },
  {
   "cell_type": "code",
   "execution_count": 37,
   "id": "a3463707",
   "metadata": {},
   "outputs": [
    {
     "data": {
      "text/html": [
       "<style>\n",
       ".dl-inline {width: auto; margin:0; padding: 0}\n",
       ".dl-inline>dt, .dl-inline>dd {float: none; width: auto; display: inline-block}\n",
       ".dl-inline>dt::after {content: \":\\0020\"; padding-right: .5ex}\n",
       ".dl-inline>dt:not(:first-of-type) {padding-left: .5ex}\n",
       "</style><dl class=dl-inline><dt>Jul</dt><dd>15</dd><dt>Sep</dt><dd>9</dd></dl>\n"
      ],
      "text/latex": [
       "\\begin{description*}\n",
       "\\item[Jul] 15\n",
       "\\item[Sep] 9\n",
       "\\end{description*}\n"
      ],
      "text/markdown": [
       "Jul\n",
       ":   15Sep\n",
       ":   9\n",
       "\n"
      ],
      "text/plain": [
       "Jul Sep \n",
       " 15   9 "
      ]
     },
     "metadata": {},
     "output_type": "display_data"
    }
   ],
   "source": [
    "absent[c('Jul','Sep')]"
   ]
  },
  {
   "cell_type": "code",
   "execution_count": 38,
   "id": "73d2ff02",
   "metadata": {},
   "outputs": [
    {
     "data": {
      "text/html": [
       "66"
      ],
      "text/latex": [
       "66"
      ],
      "text/markdown": [
       "66"
      ],
      "text/plain": [
       "[1] 66"
      ]
     },
     "metadata": {},
     "output_type": "display_data"
    }
   ],
   "source": [
    "sum(absent[1:6])"
   ]
  },
  {
   "cell_type": "code",
   "execution_count": 39,
   "id": "90a64573",
   "metadata": {},
   "outputs": [
    {
     "data": {
      "text/html": [
       "9.66666666666667"
      ],
      "text/latex": [
       "9.66666666666667"
      ],
      "text/markdown": [
       "9.66666666666667"
      ],
      "text/plain": [
       "[1] 9.666667"
      ]
     },
     "metadata": {},
     "output_type": "display_data"
    }
   ],
   "source": [
    "mean(absent[7:12])"
   ]
  },
  {
   "cell_type": "code",
   "execution_count": 40,
   "id": "1aa703d0",
   "metadata": {},
   "outputs": [],
   "source": [
    "d1 <- 1:50\n",
    "d2 <- 51:100"
   ]
  },
  {
   "cell_type": "code",
   "execution_count": 41,
   "id": "4ebc3c54",
   "metadata": {},
   "outputs": [
    {
     "data": {
      "text/html": [
       "<style>\n",
       ".list-inline {list-style: none; margin:0; padding: 0}\n",
       ".list-inline>li {display: inline-block}\n",
       ".list-inline>li:not(:last-child)::after {content: \"\\00b7\"; padding: 0 .5ex}\n",
       "</style>\n",
       "<ol class=list-inline><li>1</li><li>2</li><li>3</li><li>4</li><li>5</li><li>6</li><li>7</li><li>8</li><li>9</li><li>10</li><li>11</li><li>12</li><li>13</li><li>14</li><li>15</li><li>16</li><li>17</li><li>18</li><li>19</li><li>20</li><li>21</li><li>22</li><li>23</li><li>24</li><li>25</li><li>26</li><li>27</li><li>28</li><li>29</li><li>30</li><li>31</li><li>32</li><li>33</li><li>34</li><li>35</li><li>36</li><li>37</li><li>38</li><li>39</li><li>40</li><li>41</li><li>42</li><li>43</li><li>44</li><li>45</li><li>46</li><li>47</li><li>48</li><li>49</li><li>50</li></ol>\n"
      ],
      "text/latex": [
       "\\begin{enumerate*}\n",
       "\\item 1\n",
       "\\item 2\n",
       "\\item 3\n",
       "\\item 4\n",
       "\\item 5\n",
       "\\item 6\n",
       "\\item 7\n",
       "\\item 8\n",
       "\\item 9\n",
       "\\item 10\n",
       "\\item 11\n",
       "\\item 12\n",
       "\\item 13\n",
       "\\item 14\n",
       "\\item 15\n",
       "\\item 16\n",
       "\\item 17\n",
       "\\item 18\n",
       "\\item 19\n",
       "\\item 20\n",
       "\\item 21\n",
       "\\item 22\n",
       "\\item 23\n",
       "\\item 24\n",
       "\\item 25\n",
       "\\item 26\n",
       "\\item 27\n",
       "\\item 28\n",
       "\\item 29\n",
       "\\item 30\n",
       "\\item 31\n",
       "\\item 32\n",
       "\\item 33\n",
       "\\item 34\n",
       "\\item 35\n",
       "\\item 36\n",
       "\\item 37\n",
       "\\item 38\n",
       "\\item 39\n",
       "\\item 40\n",
       "\\item 41\n",
       "\\item 42\n",
       "\\item 43\n",
       "\\item 44\n",
       "\\item 45\n",
       "\\item 46\n",
       "\\item 47\n",
       "\\item 48\n",
       "\\item 49\n",
       "\\item 50\n",
       "\\end{enumerate*}\n"
      ],
      "text/markdown": [
       "1. 1\n",
       "2. 2\n",
       "3. 3\n",
       "4. 4\n",
       "5. 5\n",
       "6. 6\n",
       "7. 7\n",
       "8. 8\n",
       "9. 9\n",
       "10. 10\n",
       "11. 11\n",
       "12. 12\n",
       "13. 13\n",
       "14. 14\n",
       "15. 15\n",
       "16. 16\n",
       "17. 17\n",
       "18. 18\n",
       "19. 19\n",
       "20. 20\n",
       "21. 21\n",
       "22. 22\n",
       "23. 23\n",
       "24. 24\n",
       "25. 25\n",
       "26. 26\n",
       "27. 27\n",
       "28. 28\n",
       "29. 29\n",
       "30. 30\n",
       "31. 31\n",
       "32. 32\n",
       "33. 33\n",
       "34. 34\n",
       "35. 35\n",
       "36. 36\n",
       "37. 37\n",
       "38. 38\n",
       "39. 39\n",
       "40. 40\n",
       "41. 41\n",
       "42. 42\n",
       "43. 43\n",
       "44. 44\n",
       "45. 45\n",
       "46. 46\n",
       "47. 47\n",
       "48. 48\n",
       "49. 49\n",
       "50. 50\n",
       "\n",
       "\n"
      ],
      "text/plain": [
       " [1]  1  2  3  4  5  6  7  8  9 10 11 12 13 14 15 16 17 18 19 20 21 22 23 24 25\n",
       "[26] 26 27 28 29 30 31 32 33 34 35 36 37 38 39 40 41 42 43 44 45 46 47 48 49 50"
      ]
     },
     "metadata": {},
     "output_type": "display_data"
    }
   ],
   "source": [
    "d1"
   ]
  },
  {
   "cell_type": "code",
   "execution_count": 42,
   "id": "0b1c0e29",
   "metadata": {},
   "outputs": [
    {
     "data": {
      "text/html": [
       "<style>\n",
       ".list-inline {list-style: none; margin:0; padding: 0}\n",
       ".list-inline>li {display: inline-block}\n",
       ".list-inline>li:not(:last-child)::after {content: \"\\00b7\"; padding: 0 .5ex}\n",
       "</style>\n",
       "<ol class=list-inline><li>51</li><li>52</li><li>53</li><li>54</li><li>55</li><li>56</li><li>57</li><li>58</li><li>59</li><li>60</li><li>61</li><li>62</li><li>63</li><li>64</li><li>65</li><li>66</li><li>67</li><li>68</li><li>69</li><li>70</li><li>71</li><li>72</li><li>73</li><li>74</li><li>75</li><li>76</li><li>77</li><li>78</li><li>79</li><li>80</li><li>81</li><li>82</li><li>83</li><li>84</li><li>85</li><li>86</li><li>87</li><li>88</li><li>89</li><li>90</li><li>91</li><li>92</li><li>93</li><li>94</li><li>95</li><li>96</li><li>97</li><li>98</li><li>99</li><li>100</li></ol>\n"
      ],
      "text/latex": [
       "\\begin{enumerate*}\n",
       "\\item 51\n",
       "\\item 52\n",
       "\\item 53\n",
       "\\item 54\n",
       "\\item 55\n",
       "\\item 56\n",
       "\\item 57\n",
       "\\item 58\n",
       "\\item 59\n",
       "\\item 60\n",
       "\\item 61\n",
       "\\item 62\n",
       "\\item 63\n",
       "\\item 64\n",
       "\\item 65\n",
       "\\item 66\n",
       "\\item 67\n",
       "\\item 68\n",
       "\\item 69\n",
       "\\item 70\n",
       "\\item 71\n",
       "\\item 72\n",
       "\\item 73\n",
       "\\item 74\n",
       "\\item 75\n",
       "\\item 76\n",
       "\\item 77\n",
       "\\item 78\n",
       "\\item 79\n",
       "\\item 80\n",
       "\\item 81\n",
       "\\item 82\n",
       "\\item 83\n",
       "\\item 84\n",
       "\\item 85\n",
       "\\item 86\n",
       "\\item 87\n",
       "\\item 88\n",
       "\\item 89\n",
       "\\item 90\n",
       "\\item 91\n",
       "\\item 92\n",
       "\\item 93\n",
       "\\item 94\n",
       "\\item 95\n",
       "\\item 96\n",
       "\\item 97\n",
       "\\item 98\n",
       "\\item 99\n",
       "\\item 100\n",
       "\\end{enumerate*}\n"
      ],
      "text/markdown": [
       "1. 51\n",
       "2. 52\n",
       "3. 53\n",
       "4. 54\n",
       "5. 55\n",
       "6. 56\n",
       "7. 57\n",
       "8. 58\n",
       "9. 59\n",
       "10. 60\n",
       "11. 61\n",
       "12. 62\n",
       "13. 63\n",
       "14. 64\n",
       "15. 65\n",
       "16. 66\n",
       "17. 67\n",
       "18. 68\n",
       "19. 69\n",
       "20. 70\n",
       "21. 71\n",
       "22. 72\n",
       "23. 73\n",
       "24. 74\n",
       "25. 75\n",
       "26. 76\n",
       "27. 77\n",
       "28. 78\n",
       "29. 79\n",
       "30. 80\n",
       "31. 81\n",
       "32. 82\n",
       "33. 83\n",
       "34. 84\n",
       "35. 85\n",
       "36. 86\n",
       "37. 87\n",
       "38. 88\n",
       "39. 89\n",
       "40. 90\n",
       "41. 91\n",
       "42. 92\n",
       "43. 93\n",
       "44. 94\n",
       "45. 95\n",
       "46. 96\n",
       "47. 97\n",
       "48. 98\n",
       "49. 99\n",
       "50. 100\n",
       "\n",
       "\n"
      ],
      "text/plain": [
       " [1]  51  52  53  54  55  56  57  58  59  60  61  62  63  64  65  66  67  68  69\n",
       "[20]  70  71  72  73  74  75  76  77  78  79  80  81  82  83  84  85  86  87  88\n",
       "[39]  89  90  91  92  93  94  95  96  97  98  99 100"
      ]
     },
     "metadata": {},
     "output_type": "display_data"
    }
   ],
   "source": [
    "d2"
   ]
  },
  {
   "cell_type": "code",
   "execution_count": 43,
   "id": "514c9137",
   "metadata": {},
   "outputs": [
    {
     "data": {
      "text/html": [
       "<style>\n",
       ".list-inline {list-style: none; margin:0; padding: 0}\n",
       ".list-inline>li {display: inline-block}\n",
       ".list-inline>li:not(:last-child)::after {content: \"\\00b7\"; padding: 0 .5ex}\n",
       "</style>\n",
       "<ol class=list-inline><li>52</li><li>54</li><li>56</li><li>58</li><li>60</li><li>62</li><li>64</li><li>66</li><li>68</li><li>70</li><li>72</li><li>74</li><li>76</li><li>78</li><li>80</li><li>82</li><li>84</li><li>86</li><li>88</li><li>90</li><li>92</li><li>94</li><li>96</li><li>98</li><li>100</li><li>102</li><li>104</li><li>106</li><li>108</li><li>110</li><li>112</li><li>114</li><li>116</li><li>118</li><li>120</li><li>122</li><li>124</li><li>126</li><li>128</li><li>130</li><li>132</li><li>134</li><li>136</li><li>138</li><li>140</li><li>142</li><li>144</li><li>146</li><li>148</li><li>150</li></ol>\n"
      ],
      "text/latex": [
       "\\begin{enumerate*}\n",
       "\\item 52\n",
       "\\item 54\n",
       "\\item 56\n",
       "\\item 58\n",
       "\\item 60\n",
       "\\item 62\n",
       "\\item 64\n",
       "\\item 66\n",
       "\\item 68\n",
       "\\item 70\n",
       "\\item 72\n",
       "\\item 74\n",
       "\\item 76\n",
       "\\item 78\n",
       "\\item 80\n",
       "\\item 82\n",
       "\\item 84\n",
       "\\item 86\n",
       "\\item 88\n",
       "\\item 90\n",
       "\\item 92\n",
       "\\item 94\n",
       "\\item 96\n",
       "\\item 98\n",
       "\\item 100\n",
       "\\item 102\n",
       "\\item 104\n",
       "\\item 106\n",
       "\\item 108\n",
       "\\item 110\n",
       "\\item 112\n",
       "\\item 114\n",
       "\\item 116\n",
       "\\item 118\n",
       "\\item 120\n",
       "\\item 122\n",
       "\\item 124\n",
       "\\item 126\n",
       "\\item 128\n",
       "\\item 130\n",
       "\\item 132\n",
       "\\item 134\n",
       "\\item 136\n",
       "\\item 138\n",
       "\\item 140\n",
       "\\item 142\n",
       "\\item 144\n",
       "\\item 146\n",
       "\\item 148\n",
       "\\item 150\n",
       "\\end{enumerate*}\n"
      ],
      "text/markdown": [
       "1. 52\n",
       "2. 54\n",
       "3. 56\n",
       "4. 58\n",
       "5. 60\n",
       "6. 62\n",
       "7. 64\n",
       "8. 66\n",
       "9. 68\n",
       "10. 70\n",
       "11. 72\n",
       "12. 74\n",
       "13. 76\n",
       "14. 78\n",
       "15. 80\n",
       "16. 82\n",
       "17. 84\n",
       "18. 86\n",
       "19. 88\n",
       "20. 90\n",
       "21. 92\n",
       "22. 94\n",
       "23. 96\n",
       "24. 98\n",
       "25. 100\n",
       "26. 102\n",
       "27. 104\n",
       "28. 106\n",
       "29. 108\n",
       "30. 110\n",
       "31. 112\n",
       "32. 114\n",
       "33. 116\n",
       "34. 118\n",
       "35. 120\n",
       "36. 122\n",
       "37. 124\n",
       "38. 126\n",
       "39. 128\n",
       "40. 130\n",
       "41. 132\n",
       "42. 134\n",
       "43. 136\n",
       "44. 138\n",
       "45. 140\n",
       "46. 142\n",
       "47. 144\n",
       "48. 146\n",
       "49. 148\n",
       "50. 150\n",
       "\n",
       "\n"
      ],
      "text/plain": [
       " [1]  52  54  56  58  60  62  64  66  68  70  72  74  76  78  80  82  84  86  88\n",
       "[20]  90  92  94  96  98 100 102 104 106 108 110 112 114 116 118 120 122 124 126\n",
       "[39] 128 130 132 134 136 138 140 142 144 146 148 150"
      ]
     },
     "metadata": {},
     "output_type": "display_data"
    }
   ],
   "source": [
    "d1 + d2"
   ]
  },
  {
   "cell_type": "code",
   "execution_count": 44,
   "id": "6f2a200d",
   "metadata": {},
   "outputs": [
    {
     "data": {
      "text/html": [
       "<style>\n",
       ".list-inline {list-style: none; margin:0; padding: 0}\n",
       ".list-inline>li {display: inline-block}\n",
       ".list-inline>li:not(:last-child)::after {content: \"\\00b7\"; padding: 0 .5ex}\n",
       "</style>\n",
       "<ol class=list-inline><li>50</li><li>50</li><li>50</li><li>50</li><li>50</li><li>50</li><li>50</li><li>50</li><li>50</li><li>50</li><li>50</li><li>50</li><li>50</li><li>50</li><li>50</li><li>50</li><li>50</li><li>50</li><li>50</li><li>50</li><li>50</li><li>50</li><li>50</li><li>50</li><li>50</li><li>50</li><li>50</li><li>50</li><li>50</li><li>50</li><li>50</li><li>50</li><li>50</li><li>50</li><li>50</li><li>50</li><li>50</li><li>50</li><li>50</li><li>50</li><li>50</li><li>50</li><li>50</li><li>50</li><li>50</li><li>50</li><li>50</li><li>50</li><li>50</li><li>50</li></ol>\n"
      ],
      "text/latex": [
       "\\begin{enumerate*}\n",
       "\\item 50\n",
       "\\item 50\n",
       "\\item 50\n",
       "\\item 50\n",
       "\\item 50\n",
       "\\item 50\n",
       "\\item 50\n",
       "\\item 50\n",
       "\\item 50\n",
       "\\item 50\n",
       "\\item 50\n",
       "\\item 50\n",
       "\\item 50\n",
       "\\item 50\n",
       "\\item 50\n",
       "\\item 50\n",
       "\\item 50\n",
       "\\item 50\n",
       "\\item 50\n",
       "\\item 50\n",
       "\\item 50\n",
       "\\item 50\n",
       "\\item 50\n",
       "\\item 50\n",
       "\\item 50\n",
       "\\item 50\n",
       "\\item 50\n",
       "\\item 50\n",
       "\\item 50\n",
       "\\item 50\n",
       "\\item 50\n",
       "\\item 50\n",
       "\\item 50\n",
       "\\item 50\n",
       "\\item 50\n",
       "\\item 50\n",
       "\\item 50\n",
       "\\item 50\n",
       "\\item 50\n",
       "\\item 50\n",
       "\\item 50\n",
       "\\item 50\n",
       "\\item 50\n",
       "\\item 50\n",
       "\\item 50\n",
       "\\item 50\n",
       "\\item 50\n",
       "\\item 50\n",
       "\\item 50\n",
       "\\item 50\n",
       "\\end{enumerate*}\n"
      ],
      "text/markdown": [
       "1. 50\n",
       "2. 50\n",
       "3. 50\n",
       "4. 50\n",
       "5. 50\n",
       "6. 50\n",
       "7. 50\n",
       "8. 50\n",
       "9. 50\n",
       "10. 50\n",
       "11. 50\n",
       "12. 50\n",
       "13. 50\n",
       "14. 50\n",
       "15. 50\n",
       "16. 50\n",
       "17. 50\n",
       "18. 50\n",
       "19. 50\n",
       "20. 50\n",
       "21. 50\n",
       "22. 50\n",
       "23. 50\n",
       "24. 50\n",
       "25. 50\n",
       "26. 50\n",
       "27. 50\n",
       "28. 50\n",
       "29. 50\n",
       "30. 50\n",
       "31. 50\n",
       "32. 50\n",
       "33. 50\n",
       "34. 50\n",
       "35. 50\n",
       "36. 50\n",
       "37. 50\n",
       "38. 50\n",
       "39. 50\n",
       "40. 50\n",
       "41. 50\n",
       "42. 50\n",
       "43. 50\n",
       "44. 50\n",
       "45. 50\n",
       "46. 50\n",
       "47. 50\n",
       "48. 50\n",
       "49. 50\n",
       "50. 50\n",
       "\n",
       "\n"
      ],
      "text/plain": [
       " [1] 50 50 50 50 50 50 50 50 50 50 50 50 50 50 50 50 50 50 50 50 50 50 50 50 50\n",
       "[26] 50 50 50 50 50 50 50 50 50 50 50 50 50 50 50 50 50 50 50 50 50 50 50 50 50"
      ]
     },
     "metadata": {},
     "output_type": "display_data"
    }
   ],
   "source": [
    "d2 - d1"
   ]
  },
  {
   "cell_type": "code",
   "execution_count": 45,
   "id": "99f7a0cc",
   "metadata": {},
   "outputs": [
    {
     "data": {
      "text/html": [
       "<style>\n",
       ".list-inline {list-style: none; margin:0; padding: 0}\n",
       ".list-inline>li {display: inline-block}\n",
       ".list-inline>li:not(:last-child)::after {content: \"\\00b7\"; padding: 0 .5ex}\n",
       "</style>\n",
       "<ol class=list-inline><li>50</li><li>50</li><li>50</li><li>50</li><li>50</li><li>50</li><li>50</li><li>50</li><li>50</li><li>50</li><li>50</li><li>50</li><li>50</li><li>50</li><li>50</li><li>50</li><li>50</li><li>50</li><li>50</li><li>50</li><li>50</li><li>50</li><li>50</li><li>50</li><li>50</li><li>50</li><li>50</li><li>50</li><li>50</li><li>50</li><li>50</li><li>50</li><li>50</li><li>50</li><li>50</li><li>50</li><li>50</li><li>50</li><li>50</li><li>50</li><li>50</li><li>50</li><li>50</li><li>50</li><li>50</li><li>50</li><li>50</li><li>50</li><li>50</li><li>50</li></ol>\n"
      ],
      "text/latex": [
       "\\begin{enumerate*}\n",
       "\\item 50\n",
       "\\item 50\n",
       "\\item 50\n",
       "\\item 50\n",
       "\\item 50\n",
       "\\item 50\n",
       "\\item 50\n",
       "\\item 50\n",
       "\\item 50\n",
       "\\item 50\n",
       "\\item 50\n",
       "\\item 50\n",
       "\\item 50\n",
       "\\item 50\n",
       "\\item 50\n",
       "\\item 50\n",
       "\\item 50\n",
       "\\item 50\n",
       "\\item 50\n",
       "\\item 50\n",
       "\\item 50\n",
       "\\item 50\n",
       "\\item 50\n",
       "\\item 50\n",
       "\\item 50\n",
       "\\item 50\n",
       "\\item 50\n",
       "\\item 50\n",
       "\\item 50\n",
       "\\item 50\n",
       "\\item 50\n",
       "\\item 50\n",
       "\\item 50\n",
       "\\item 50\n",
       "\\item 50\n",
       "\\item 50\n",
       "\\item 50\n",
       "\\item 50\n",
       "\\item 50\n",
       "\\item 50\n",
       "\\item 50\n",
       "\\item 50\n",
       "\\item 50\n",
       "\\item 50\n",
       "\\item 50\n",
       "\\item 50\n",
       "\\item 50\n",
       "\\item 50\n",
       "\\item 50\n",
       "\\item 50\n",
       "\\end{enumerate*}\n"
      ],
      "text/markdown": [
       "1. 50\n",
       "2. 50\n",
       "3. 50\n",
       "4. 50\n",
       "5. 50\n",
       "6. 50\n",
       "7. 50\n",
       "8. 50\n",
       "9. 50\n",
       "10. 50\n",
       "11. 50\n",
       "12. 50\n",
       "13. 50\n",
       "14. 50\n",
       "15. 50\n",
       "16. 50\n",
       "17. 50\n",
       "18. 50\n",
       "19. 50\n",
       "20. 50\n",
       "21. 50\n",
       "22. 50\n",
       "23. 50\n",
       "24. 50\n",
       "25. 50\n",
       "26. 50\n",
       "27. 50\n",
       "28. 50\n",
       "29. 50\n",
       "30. 50\n",
       "31. 50\n",
       "32. 50\n",
       "33. 50\n",
       "34. 50\n",
       "35. 50\n",
       "36. 50\n",
       "37. 50\n",
       "38. 50\n",
       "39. 50\n",
       "40. 50\n",
       "41. 50\n",
       "42. 50\n",
       "43. 50\n",
       "44. 50\n",
       "45. 50\n",
       "46. 50\n",
       "47. 50\n",
       "48. 50\n",
       "49. 50\n",
       "50. 50\n",
       "\n",
       "\n"
      ],
      "text/plain": [
       " [1] 50 50 50 50 50 50 50 50 50 50 50 50 50 50 50 50 50 50 50 50 50 50 50 50 50\n",
       "[26] 50 50 50 50 50 50 50 50 50 50 50 50 50 50 50 50 50 50 50 50 50 50 50 50 50"
      ]
     },
     "metadata": {},
     "output_type": "display_data"
    }
   ],
   "source": [
    "abs(d1-d2)"
   ]
  },
  {
   "cell_type": "code",
   "execution_count": 46,
   "id": "32396672",
   "metadata": {},
   "outputs": [
    {
     "data": {
      "text/html": [
       "<style>\n",
       ".list-inline {list-style: none; margin:0; padding: 0}\n",
       ".list-inline>li {display: inline-block}\n",
       ".list-inline>li:not(:last-child)::after {content: \"\\00b7\"; padding: 0 .5ex}\n",
       "</style>\n",
       "<ol class=list-inline><li>51</li><li>104</li><li>159</li><li>216</li><li>275</li><li>336</li><li>399</li><li>464</li><li>531</li><li>600</li><li>671</li><li>744</li><li>819</li><li>896</li><li>975</li><li>1056</li><li>1139</li><li>1224</li><li>1311</li><li>1400</li><li>1491</li><li>1584</li><li>1679</li><li>1776</li><li>1875</li><li>1976</li><li>2079</li><li>2184</li><li>2291</li><li>2400</li><li>2511</li><li>2624</li><li>2739</li><li>2856</li><li>2975</li><li>3096</li><li>3219</li><li>3344</li><li>3471</li><li>3600</li><li>3731</li><li>3864</li><li>3999</li><li>4136</li><li>4275</li><li>4416</li><li>4559</li><li>4704</li><li>4851</li><li>5000</li></ol>\n"
      ],
      "text/latex": [
       "\\begin{enumerate*}\n",
       "\\item 51\n",
       "\\item 104\n",
       "\\item 159\n",
       "\\item 216\n",
       "\\item 275\n",
       "\\item 336\n",
       "\\item 399\n",
       "\\item 464\n",
       "\\item 531\n",
       "\\item 600\n",
       "\\item 671\n",
       "\\item 744\n",
       "\\item 819\n",
       "\\item 896\n",
       "\\item 975\n",
       "\\item 1056\n",
       "\\item 1139\n",
       "\\item 1224\n",
       "\\item 1311\n",
       "\\item 1400\n",
       "\\item 1491\n",
       "\\item 1584\n",
       "\\item 1679\n",
       "\\item 1776\n",
       "\\item 1875\n",
       "\\item 1976\n",
       "\\item 2079\n",
       "\\item 2184\n",
       "\\item 2291\n",
       "\\item 2400\n",
       "\\item 2511\n",
       "\\item 2624\n",
       "\\item 2739\n",
       "\\item 2856\n",
       "\\item 2975\n",
       "\\item 3096\n",
       "\\item 3219\n",
       "\\item 3344\n",
       "\\item 3471\n",
       "\\item 3600\n",
       "\\item 3731\n",
       "\\item 3864\n",
       "\\item 3999\n",
       "\\item 4136\n",
       "\\item 4275\n",
       "\\item 4416\n",
       "\\item 4559\n",
       "\\item 4704\n",
       "\\item 4851\n",
       "\\item 5000\n",
       "\\end{enumerate*}\n"
      ],
      "text/markdown": [
       "1. 51\n",
       "2. 104\n",
       "3. 159\n",
       "4. 216\n",
       "5. 275\n",
       "6. 336\n",
       "7. 399\n",
       "8. 464\n",
       "9. 531\n",
       "10. 600\n",
       "11. 671\n",
       "12. 744\n",
       "13. 819\n",
       "14. 896\n",
       "15. 975\n",
       "16. 1056\n",
       "17. 1139\n",
       "18. 1224\n",
       "19. 1311\n",
       "20. 1400\n",
       "21. 1491\n",
       "22. 1584\n",
       "23. 1679\n",
       "24. 1776\n",
       "25. 1875\n",
       "26. 1976\n",
       "27. 2079\n",
       "28. 2184\n",
       "29. 2291\n",
       "30. 2400\n",
       "31. 2511\n",
       "32. 2624\n",
       "33. 2739\n",
       "34. 2856\n",
       "35. 2975\n",
       "36. 3096\n",
       "37. 3219\n",
       "38. 3344\n",
       "39. 3471\n",
       "40. 3600\n",
       "41. 3731\n",
       "42. 3864\n",
       "43. 3999\n",
       "44. 4136\n",
       "45. 4275\n",
       "46. 4416\n",
       "47. 4559\n",
       "48. 4704\n",
       "49. 4851\n",
       "50. 5000\n",
       "\n",
       "\n"
      ],
      "text/plain": [
       " [1]   51  104  159  216  275  336  399  464  531  600  671  744  819  896  975\n",
       "[16] 1056 1139 1224 1311 1400 1491 1584 1679 1776 1875 1976 2079 2184 2291 2400\n",
       "[31] 2511 2624 2739 2856 2975 3096 3219 3344 3471 3600 3731 3864 3999 4136 4275\n",
       "[46] 4416 4559 4704 4851 5000"
      ]
     },
     "metadata": {},
     "output_type": "display_data"
    }
   ],
   "source": [
    "d1 * d2"
   ]
  },
  {
   "cell_type": "code",
   "execution_count": 47,
   "id": "fae2168f",
   "metadata": {},
   "outputs": [
    {
     "data": {
      "text/html": [
       "<style>\n",
       ".list-inline {list-style: none; margin:0; padding: 0}\n",
       ".list-inline>li {display: inline-block}\n",
       ".list-inline>li:not(:last-child)::after {content: \"\\00b7\"; padding: 0 .5ex}\n",
       "</style>\n",
       "<ol class=list-inline><li>51</li><li>26</li><li>17.6666666666667</li><li>13.5</li><li>11</li><li>9.33333333333333</li><li>8.14285714285714</li><li>7.25</li><li>6.55555555555556</li><li>6</li><li>5.54545454545455</li><li>5.16666666666667</li><li>4.84615384615385</li><li>4.57142857142857</li><li>4.33333333333333</li><li>4.125</li><li>3.94117647058824</li><li>3.77777777777778</li><li>3.63157894736842</li><li>3.5</li><li>3.38095238095238</li><li>3.27272727272727</li><li>3.17391304347826</li><li>3.08333333333333</li><li>3</li><li>2.92307692307692</li><li>2.85185185185185</li><li>2.78571428571429</li><li>2.72413793103448</li><li>2.66666666666667</li><li>2.61290322580645</li><li>2.5625</li><li>2.51515151515152</li><li>2.47058823529412</li><li>2.42857142857143</li><li>2.38888888888889</li><li>2.35135135135135</li><li>2.31578947368421</li><li>2.28205128205128</li><li>2.25</li><li>2.21951219512195</li><li>2.19047619047619</li><li>2.16279069767442</li><li>2.13636363636364</li><li>2.11111111111111</li><li>2.08695652173913</li><li>2.06382978723404</li><li>2.04166666666667</li><li>2.02040816326531</li><li>2</li></ol>\n"
      ],
      "text/latex": [
       "\\begin{enumerate*}\n",
       "\\item 51\n",
       "\\item 26\n",
       "\\item 17.6666666666667\n",
       "\\item 13.5\n",
       "\\item 11\n",
       "\\item 9.33333333333333\n",
       "\\item 8.14285714285714\n",
       "\\item 7.25\n",
       "\\item 6.55555555555556\n",
       "\\item 6\n",
       "\\item 5.54545454545455\n",
       "\\item 5.16666666666667\n",
       "\\item 4.84615384615385\n",
       "\\item 4.57142857142857\n",
       "\\item 4.33333333333333\n",
       "\\item 4.125\n",
       "\\item 3.94117647058824\n",
       "\\item 3.77777777777778\n",
       "\\item 3.63157894736842\n",
       "\\item 3.5\n",
       "\\item 3.38095238095238\n",
       "\\item 3.27272727272727\n",
       "\\item 3.17391304347826\n",
       "\\item 3.08333333333333\n",
       "\\item 3\n",
       "\\item 2.92307692307692\n",
       "\\item 2.85185185185185\n",
       "\\item 2.78571428571429\n",
       "\\item 2.72413793103448\n",
       "\\item 2.66666666666667\n",
       "\\item 2.61290322580645\n",
       "\\item 2.5625\n",
       "\\item 2.51515151515152\n",
       "\\item 2.47058823529412\n",
       "\\item 2.42857142857143\n",
       "\\item 2.38888888888889\n",
       "\\item 2.35135135135135\n",
       "\\item 2.31578947368421\n",
       "\\item 2.28205128205128\n",
       "\\item 2.25\n",
       "\\item 2.21951219512195\n",
       "\\item 2.19047619047619\n",
       "\\item 2.16279069767442\n",
       "\\item 2.13636363636364\n",
       "\\item 2.11111111111111\n",
       "\\item 2.08695652173913\n",
       "\\item 2.06382978723404\n",
       "\\item 2.04166666666667\n",
       "\\item 2.02040816326531\n",
       "\\item 2\n",
       "\\end{enumerate*}\n"
      ],
      "text/markdown": [
       "1. 51\n",
       "2. 26\n",
       "3. 17.6666666666667\n",
       "4. 13.5\n",
       "5. 11\n",
       "6. 9.33333333333333\n",
       "7. 8.14285714285714\n",
       "8. 7.25\n",
       "9. 6.55555555555556\n",
       "10. 6\n",
       "11. 5.54545454545455\n",
       "12. 5.16666666666667\n",
       "13. 4.84615384615385\n",
       "14. 4.57142857142857\n",
       "15. 4.33333333333333\n",
       "16. 4.125\n",
       "17. 3.94117647058824\n",
       "18. 3.77777777777778\n",
       "19. 3.63157894736842\n",
       "20. 3.5\n",
       "21. 3.38095238095238\n",
       "22. 3.27272727272727\n",
       "23. 3.17391304347826\n",
       "24. 3.08333333333333\n",
       "25. 3\n",
       "26. 2.92307692307692\n",
       "27. 2.85185185185185\n",
       "28. 2.78571428571429\n",
       "29. 2.72413793103448\n",
       "30. 2.66666666666667\n",
       "31. 2.61290322580645\n",
       "32. 2.5625\n",
       "33. 2.51515151515152\n",
       "34. 2.47058823529412\n",
       "35. 2.42857142857143\n",
       "36. 2.38888888888889\n",
       "37. 2.35135135135135\n",
       "38. 2.31578947368421\n",
       "39. 2.28205128205128\n",
       "40. 2.25\n",
       "41. 2.21951219512195\n",
       "42. 2.19047619047619\n",
       "43. 2.16279069767442\n",
       "44. 2.13636363636364\n",
       "45. 2.11111111111111\n",
       "46. 2.08695652173913\n",
       "47. 2.06382978723404\n",
       "48. 2.04166666666667\n",
       "49. 2.02040816326531\n",
       "50. 2\n",
       "\n",
       "\n"
      ],
      "text/plain": [
       " [1] 51.000000 26.000000 17.666667 13.500000 11.000000  9.333333  8.142857\n",
       " [8]  7.250000  6.555556  6.000000  5.545455  5.166667  4.846154  4.571429\n",
       "[15]  4.333333  4.125000  3.941176  3.777778  3.631579  3.500000  3.380952\n",
       "[22]  3.272727  3.173913  3.083333  3.000000  2.923077  2.851852  2.785714\n",
       "[29]  2.724138  2.666667  2.612903  2.562500  2.515152  2.470588  2.428571\n",
       "[36]  2.388889  2.351351  2.315789  2.282051  2.250000  2.219512  2.190476\n",
       "[43]  2.162791  2.136364  2.111111  2.086957  2.063830  2.041667  2.020408\n",
       "[50]  2.000000"
      ]
     },
     "metadata": {},
     "output_type": "display_data"
    }
   ],
   "source": [
    "d2 / d1"
   ]
  },
  {
   "cell_type": "code",
   "execution_count": 48,
   "id": "311340b1",
   "metadata": {},
   "outputs": [
    {
     "data": {
      "text/html": [
       "1275"
      ],
      "text/latex": [
       "1275"
      ],
      "text/markdown": [
       "1275"
      ],
      "text/plain": [
       "[1] 1275"
      ]
     },
     "metadata": {},
     "output_type": "display_data"
    },
    {
     "data": {
      "text/html": [
       "3775"
      ],
      "text/latex": [
       "3775"
      ],
      "text/markdown": [
       "3775"
      ],
      "text/plain": [
       "[1] 3775"
      ]
     },
     "metadata": {},
     "output_type": "display_data"
    }
   ],
   "source": [
    "sum(d1)\n",
    "sum(d2)"
   ]
  },
  {
   "cell_type": "code",
   "execution_count": 49,
   "id": "3c5d3b6d",
   "metadata": {},
   "outputs": [
    {
     "data": {
      "text/html": [
       "100"
      ],
      "text/latex": [
       "100"
      ],
      "text/markdown": [
       "100"
      ],
      "text/plain": [
       "[1] 100"
      ]
     },
     "metadata": {},
     "output_type": "display_data"
    },
    {
     "data": {
      "text/html": [
       "51"
      ],
      "text/latex": [
       "51"
      ],
      "text/markdown": [
       "51"
      ],
      "text/plain": [
       "[1] 51"
      ]
     },
     "metadata": {},
     "output_type": "display_data"
    }
   ],
   "source": [
    "max(d2)\n",
    "min(d2)"
   ]
  },
  {
   "cell_type": "code",
   "execution_count": 50,
   "id": "0dbbc1ab",
   "metadata": {},
   "outputs": [],
   "source": [
    "d2.mean <- mean(d2)\n",
    "d1.mean <- mean(d1)"
   ]
  },
  {
   "cell_type": "code",
   "execution_count": 51,
   "id": "ca1ee3c8",
   "metadata": {},
   "outputs": [
    {
     "data": {
      "text/html": [
       "<style>\n",
       ".list-inline {list-style: none; margin:0; padding: 0}\n",
       ".list-inline>li {display: inline-block}\n",
       ".list-inline>li:not(:last-child)::after {content: \"\\00b7\"; padding: 0 .5ex}\n",
       "</style>\n",
       "<ol class=list-inline><li>100</li><li>99</li><li>98</li><li>97</li><li>96</li><li>95</li><li>94</li><li>93</li><li>92</li><li>91</li><li>90</li><li>89</li><li>88</li><li>87</li><li>86</li><li>85</li><li>84</li><li>83</li><li>82</li><li>81</li><li>80</li><li>79</li><li>78</li><li>77</li><li>76</li><li>75</li><li>74</li><li>73</li><li>72</li><li>71</li><li>70</li><li>69</li><li>68</li><li>67</li><li>66</li><li>65</li><li>64</li><li>63</li><li>62</li><li>61</li><li>60</li><li>59</li><li>58</li><li>57</li><li>56</li><li>55</li><li>54</li><li>53</li><li>52</li><li>51</li></ol>\n"
      ],
      "text/latex": [
       "\\begin{enumerate*}\n",
       "\\item 100\n",
       "\\item 99\n",
       "\\item 98\n",
       "\\item 97\n",
       "\\item 96\n",
       "\\item 95\n",
       "\\item 94\n",
       "\\item 93\n",
       "\\item 92\n",
       "\\item 91\n",
       "\\item 90\n",
       "\\item 89\n",
       "\\item 88\n",
       "\\item 87\n",
       "\\item 86\n",
       "\\item 85\n",
       "\\item 84\n",
       "\\item 83\n",
       "\\item 82\n",
       "\\item 81\n",
       "\\item 80\n",
       "\\item 79\n",
       "\\item 78\n",
       "\\item 77\n",
       "\\item 76\n",
       "\\item 75\n",
       "\\item 74\n",
       "\\item 73\n",
       "\\item 72\n",
       "\\item 71\n",
       "\\item 70\n",
       "\\item 69\n",
       "\\item 68\n",
       "\\item 67\n",
       "\\item 66\n",
       "\\item 65\n",
       "\\item 64\n",
       "\\item 63\n",
       "\\item 62\n",
       "\\item 61\n",
       "\\item 60\n",
       "\\item 59\n",
       "\\item 58\n",
       "\\item 57\n",
       "\\item 56\n",
       "\\item 55\n",
       "\\item 54\n",
       "\\item 53\n",
       "\\item 52\n",
       "\\item 51\n",
       "\\end{enumerate*}\n"
      ],
      "text/markdown": [
       "1. 100\n",
       "2. 99\n",
       "3. 98\n",
       "4. 97\n",
       "5. 96\n",
       "6. 95\n",
       "7. 94\n",
       "8. 93\n",
       "9. 92\n",
       "10. 91\n",
       "11. 90\n",
       "12. 89\n",
       "13. 88\n",
       "14. 87\n",
       "15. 86\n",
       "16. 85\n",
       "17. 84\n",
       "18. 83\n",
       "19. 82\n",
       "20. 81\n",
       "21. 80\n",
       "22. 79\n",
       "23. 78\n",
       "24. 77\n",
       "25. 76\n",
       "26. 75\n",
       "27. 74\n",
       "28. 73\n",
       "29. 72\n",
       "30. 71\n",
       "31. 70\n",
       "32. 69\n",
       "33. 68\n",
       "34. 67\n",
       "35. 66\n",
       "36. 65\n",
       "37. 64\n",
       "38. 63\n",
       "39. 62\n",
       "40. 61\n",
       "41. 60\n",
       "42. 59\n",
       "43. 58\n",
       "44. 57\n",
       "45. 56\n",
       "46. 55\n",
       "47. 54\n",
       "48. 53\n",
       "49. 52\n",
       "50. 51\n",
       "\n",
       "\n"
      ],
      "text/plain": [
       " [1] 100  99  98  97  96  95  94  93  92  91  90  89  88  87  86  85  84  83  82\n",
       "[20]  81  80  79  78  77  76  75  74  73  72  71  70  69  68  67  66  65  64  63\n",
       "[39]  62  61  60  59  58  57  56  55  54  53  52  51"
      ]
     },
     "metadata": {},
     "output_type": "display_data"
    }
   ],
   "source": [
    "sort(d2, T)"
   ]
  },
  {
   "cell_type": "code",
   "execution_count": 52,
   "id": "41645e22",
   "metadata": {},
   "outputs": [
    {
     "data": {
      "text/html": [
       "<style>\n",
       ".list-inline {list-style: none; margin:0; padding: 0}\n",
       ".list-inline>li {display: inline-block}\n",
       ".list-inline>li:not(:last-child)::after {content: \"\\00b7\"; padding: 0 .5ex}\n",
       "</style>\n",
       "<ol class=list-inline><li>1</li><li>2</li><li>3</li><li>4</li><li>5</li><li>6</li><li>7</li><li>8</li><li>9</li><li>10</li><li>51</li><li>52</li><li>53</li><li>54</li><li>55</li><li>56</li><li>57</li><li>58</li><li>59</li><li>60</li></ol>\n"
      ],
      "text/latex": [
       "\\begin{enumerate*}\n",
       "\\item 1\n",
       "\\item 2\n",
       "\\item 3\n",
       "\\item 4\n",
       "\\item 5\n",
       "\\item 6\n",
       "\\item 7\n",
       "\\item 8\n",
       "\\item 9\n",
       "\\item 10\n",
       "\\item 51\n",
       "\\item 52\n",
       "\\item 53\n",
       "\\item 54\n",
       "\\item 55\n",
       "\\item 56\n",
       "\\item 57\n",
       "\\item 58\n",
       "\\item 59\n",
       "\\item 60\n",
       "\\end{enumerate*}\n"
      ],
      "text/markdown": [
       "1. 1\n",
       "2. 2\n",
       "3. 3\n",
       "4. 4\n",
       "5. 5\n",
       "6. 6\n",
       "7. 7\n",
       "8. 8\n",
       "9. 9\n",
       "10. 10\n",
       "11. 51\n",
       "12. 52\n",
       "13. 53\n",
       "14. 54\n",
       "15. 55\n",
       "16. 56\n",
       "17. 57\n",
       "18. 58\n",
       "19. 59\n",
       "20. 60\n",
       "\n",
       "\n"
      ],
      "text/plain": [
       " [1]  1  2  3  4  5  6  7  8  9 10 51 52 53 54 55 56 57 58 59 60"
      ]
     },
     "metadata": {},
     "output_type": "display_data"
    }
   ],
   "source": [
    "d3 <- c(d1[1:10], d2[1:10])\n",
    "d3"
   ]
  },
  {
   "cell_type": "code",
   "execution_count": 53,
   "id": "7067e959",
   "metadata": {},
   "outputs": [
    {
     "data": {
      "text/html": [
       "20"
      ],
      "text/latex": [
       "20"
      ],
      "text/markdown": [
       "20"
      ],
      "text/plain": [
       "[1] 20"
      ]
     },
     "metadata": {},
     "output_type": "display_data"
    }
   ],
   "source": [
    "length(d3)"
   ]
  },
  {
   "cell_type": "code",
   "execution_count": 54,
   "id": "3ed41a18",
   "metadata": {},
   "outputs": [],
   "source": [
    "v1 <- 51:100"
   ]
  },
  {
   "cell_type": "code",
   "execution_count": 55,
   "id": "08322399",
   "metadata": {},
   "outputs": [
    {
     "data": {
      "text/html": [
       "<style>\n",
       ".list-inline {list-style: none; margin:0; padding: 0}\n",
       ".list-inline>li {display: inline-block}\n",
       ".list-inline>li:not(:last-child)::after {content: \"\\00b7\"; padding: 0 .5ex}\n",
       "</style>\n",
       "<ol class=list-inline><li>51</li><li>52</li><li>53</li><li>54</li><li>55</li><li>56</li><li>57</li><li>58</li><li>59</li></ol>\n"
      ],
      "text/latex": [
       "\\begin{enumerate*}\n",
       "\\item 51\n",
       "\\item 52\n",
       "\\item 53\n",
       "\\item 54\n",
       "\\item 55\n",
       "\\item 56\n",
       "\\item 57\n",
       "\\item 58\n",
       "\\item 59\n",
       "\\end{enumerate*}\n"
      ],
      "text/markdown": [
       "1. 51\n",
       "2. 52\n",
       "3. 53\n",
       "4. 54\n",
       "5. 55\n",
       "6. 56\n",
       "7. 57\n",
       "8. 58\n",
       "9. 59\n",
       "\n",
       "\n"
      ],
      "text/plain": [
       "[1] 51 52 53 54 55 56 57 58 59"
      ]
     },
     "metadata": {},
     "output_type": "display_data"
    }
   ],
   "source": [
    "v1[v1 < 60]"
   ]
  },
  {
   "cell_type": "code",
   "execution_count": 57,
   "id": "6ea05ac5",
   "metadata": {},
   "outputs": [
    {
     "data": {
      "text/html": [
       "19"
      ],
      "text/latex": [
       "19"
      ],
      "text/markdown": [
       "19"
      ],
      "text/plain": [
       "[1] 19"
      ]
     },
     "metadata": {},
     "output_type": "display_data"
    }
   ],
   "source": [
    "length(v1[v1 < 70])"
   ]
  },
  {
   "cell_type": "code",
   "execution_count": 58,
   "id": "01d71804",
   "metadata": {},
   "outputs": [
    {
     "data": {
      "text/html": [
       "2905"
      ],
      "text/latex": [
       "2905"
      ],
      "text/markdown": [
       "2905"
      ],
      "text/plain": [
       "[1] 2905"
      ]
     },
     "metadata": {},
     "output_type": "display_data"
    }
   ],
   "source": [
    "sum(v1[v1 > 65])"
   ]
  },
  {
   "cell_type": "code",
   "execution_count": 59,
   "id": "8359b160",
   "metadata": {},
   "outputs": [
    {
     "data": {
      "text/html": [
       "<style>\n",
       ".list-inline {list-style: none; margin:0; padding: 0}\n",
       ".list-inline>li {display: inline-block}\n",
       ".list-inline>li:not(:last-child)::after {content: \"\\00b7\"; padding: 0 .5ex}\n",
       "</style>\n",
       "<ol class=list-inline><li>61</li><li>62</li><li>63</li><li>64</li><li>65</li><li>66</li><li>67</li><li>68</li><li>69</li></ol>\n"
      ],
      "text/latex": [
       "\\begin{enumerate*}\n",
       "\\item 61\n",
       "\\item 62\n",
       "\\item 63\n",
       "\\item 64\n",
       "\\item 65\n",
       "\\item 66\n",
       "\\item 67\n",
       "\\item 68\n",
       "\\item 69\n",
       "\\end{enumerate*}\n"
      ],
      "text/markdown": [
       "1. 61\n",
       "2. 62\n",
       "3. 63\n",
       "4. 64\n",
       "5. 65\n",
       "6. 66\n",
       "7. 67\n",
       "8. 68\n",
       "9. 69\n",
       "\n",
       "\n"
      ],
      "text/plain": [
       "[1] 61 62 63 64 65 66 67 68 69"
      ]
     },
     "metadata": {},
     "output_type": "display_data"
    }
   ],
   "source": [
    "v1[v1 > 60 & v1 < 70]"
   ]
  },
  {
   "cell_type": "code",
   "execution_count": 60,
   "id": "fd26d36d",
   "metadata": {},
   "outputs": [
    {
     "data": {
      "text/html": [
       "<style>\n",
       ".list-inline {list-style: none; margin:0; padding: 0}\n",
       ".list-inline>li {display: inline-block}\n",
       ".list-inline>li:not(:last-child)::after {content: \"\\00b7\"; padding: 0 .5ex}\n",
       "</style>\n",
       "<ol class=list-inline><li>51</li><li>52</li><li>53</li><li>54</li><li>55</li><li>56</li><li>57</li><li>58</li><li>59</li><li>60</li><li>61</li><li>62</li><li>63</li><li>64</li><li>81</li><li>82</li><li>83</li><li>84</li><li>85</li><li>86</li><li>87</li><li>88</li><li>89</li><li>90</li><li>91</li><li>92</li><li>93</li><li>94</li><li>95</li><li>96</li><li>97</li><li>98</li><li>99</li><li>100</li></ol>\n"
      ],
      "text/latex": [
       "\\begin{enumerate*}\n",
       "\\item 51\n",
       "\\item 52\n",
       "\\item 53\n",
       "\\item 54\n",
       "\\item 55\n",
       "\\item 56\n",
       "\\item 57\n",
       "\\item 58\n",
       "\\item 59\n",
       "\\item 60\n",
       "\\item 61\n",
       "\\item 62\n",
       "\\item 63\n",
       "\\item 64\n",
       "\\item 81\n",
       "\\item 82\n",
       "\\item 83\n",
       "\\item 84\n",
       "\\item 85\n",
       "\\item 86\n",
       "\\item 87\n",
       "\\item 88\n",
       "\\item 89\n",
       "\\item 90\n",
       "\\item 91\n",
       "\\item 92\n",
       "\\item 93\n",
       "\\item 94\n",
       "\\item 95\n",
       "\\item 96\n",
       "\\item 97\n",
       "\\item 98\n",
       "\\item 99\n",
       "\\item 100\n",
       "\\end{enumerate*}\n"
      ],
      "text/markdown": [
       "1. 51\n",
       "2. 52\n",
       "3. 53\n",
       "4. 54\n",
       "5. 55\n",
       "6. 56\n",
       "7. 57\n",
       "8. 58\n",
       "9. 59\n",
       "10. 60\n",
       "11. 61\n",
       "12. 62\n",
       "13. 63\n",
       "14. 64\n",
       "15. 81\n",
       "16. 82\n",
       "17. 83\n",
       "18. 84\n",
       "19. 85\n",
       "20. 86\n",
       "21. 87\n",
       "22. 88\n",
       "23. 89\n",
       "24. 90\n",
       "25. 91\n",
       "26. 92\n",
       "27. 93\n",
       "28. 94\n",
       "29. 95\n",
       "30. 96\n",
       "31. 97\n",
       "32. 98\n",
       "33. 99\n",
       "34. 100\n",
       "\n",
       "\n"
      ],
      "text/plain": [
       " [1]  51  52  53  54  55  56  57  58  59  60  61  62  63  64  81  82  83  84  85\n",
       "[20]  86  87  88  89  90  91  92  93  94  95  96  97  98  99 100"
      ]
     },
     "metadata": {},
     "output_type": "display_data"
    }
   ],
   "source": [
    "v1[v1 < 65 | v1 > 80]"
   ]
  },
  {
   "cell_type": "code",
   "execution_count": 61,
   "id": "51a6bcd3",
   "metadata": {},
   "outputs": [
    {
     "data": {
      "text/html": [
       "<style>\n",
       ".list-inline {list-style: none; margin:0; padding: 0}\n",
       ".list-inline>li {display: inline-block}\n",
       ".list-inline>li:not(:last-child)::after {content: \"\\00b7\"; padding: 0 .5ex}\n",
       "</style>\n",
       "<ol class=list-inline><li>56</li><li>63</li><li>70</li><li>77</li><li>84</li><li>91</li><li>98</li></ol>\n"
      ],
      "text/latex": [
       "\\begin{enumerate*}\n",
       "\\item 56\n",
       "\\item 63\n",
       "\\item 70\n",
       "\\item 77\n",
       "\\item 84\n",
       "\\item 91\n",
       "\\item 98\n",
       "\\end{enumerate*}\n"
      ],
      "text/markdown": [
       "1. 56\n",
       "2. 63\n",
       "3. 70\n",
       "4. 77\n",
       "5. 84\n",
       "6. 91\n",
       "7. 98\n",
       "\n",
       "\n"
      ],
      "text/plain": [
       "[1] 56 63 70 77 84 91 98"
      ]
     },
     "metadata": {},
     "output_type": "display_data"
    }
   ],
   "source": [
    "v1[v1%%7==0]"
   ]
  },
  {
   "cell_type": "code",
   "execution_count": 62,
   "id": "a9177c53",
   "metadata": {},
   "outputs": [
    {
     "data": {
      "text/html": [
       "<style>\n",
       ".list-inline {list-style: none; margin:0; padding: 0}\n",
       ".list-inline>li {display: inline-block}\n",
       ".list-inline>li:not(:last-child)::after {content: \"\\00b7\"; padding: 0 .5ex}\n",
       "</style>\n",
       "<ol class=list-inline><li>52</li><li>59</li><li>66</li><li>73</li><li>80</li><li>87</li><li>94</li></ol>\n"
      ],
      "text/latex": [
       "\\begin{enumerate*}\n",
       "\\item 52\n",
       "\\item 59\n",
       "\\item 66\n",
       "\\item 73\n",
       "\\item 80\n",
       "\\item 87\n",
       "\\item 94\n",
       "\\end{enumerate*}\n"
      ],
      "text/markdown": [
       "1. 52\n",
       "2. 59\n",
       "3. 66\n",
       "4. 73\n",
       "5. 80\n",
       "6. 87\n",
       "7. 94\n",
       "\n",
       "\n"
      ],
      "text/plain": [
       "[1] 52 59 66 73 80 87 94"
      ]
     },
     "metadata": {},
     "output_type": "display_data"
    }
   ],
   "source": [
    "v1[v1%%7 == 3]"
   ]
  },
  {
   "cell_type": "code",
   "execution_count": 63,
   "id": "6c930e45",
   "metadata": {},
   "outputs": [
    {
     "data": {
      "text/html": [
       "<style>\n",
       ".list-inline {list-style: none; margin:0; padding: 0}\n",
       ".list-inline>li {display: inline-block}\n",
       ".list-inline>li:not(:last-child)::after {content: \"\\00b7\"; padding: 0 .5ex}\n",
       "</style>\n",
       "<ol class=list-inline><li>51</li><li>52</li><li>53</li><li>54</li><li>55</li><li>0</li><li>57</li><li>58</li><li>59</li><li>60</li><li>61</li><li>62</li><li>0</li><li>64</li><li>65</li><li>66</li><li>67</li><li>68</li><li>69</li><li>0</li><li>71</li><li>72</li><li>73</li><li>74</li><li>75</li><li>76</li><li>0</li><li>78</li><li>79</li><li>80</li><li>81</li><li>82</li><li>83</li><li>0</li><li>85</li><li>86</li><li>87</li><li>88</li><li>89</li><li>90</li><li>0</li><li>92</li><li>93</li><li>94</li><li>95</li><li>96</li><li>97</li><li>0</li><li>99</li><li>100</li></ol>\n"
      ],
      "text/latex": [
       "\\begin{enumerate*}\n",
       "\\item 51\n",
       "\\item 52\n",
       "\\item 53\n",
       "\\item 54\n",
       "\\item 55\n",
       "\\item 0\n",
       "\\item 57\n",
       "\\item 58\n",
       "\\item 59\n",
       "\\item 60\n",
       "\\item 61\n",
       "\\item 62\n",
       "\\item 0\n",
       "\\item 64\n",
       "\\item 65\n",
       "\\item 66\n",
       "\\item 67\n",
       "\\item 68\n",
       "\\item 69\n",
       "\\item 0\n",
       "\\item 71\n",
       "\\item 72\n",
       "\\item 73\n",
       "\\item 74\n",
       "\\item 75\n",
       "\\item 76\n",
       "\\item 0\n",
       "\\item 78\n",
       "\\item 79\n",
       "\\item 80\n",
       "\\item 81\n",
       "\\item 82\n",
       "\\item 83\n",
       "\\item 0\n",
       "\\item 85\n",
       "\\item 86\n",
       "\\item 87\n",
       "\\item 88\n",
       "\\item 89\n",
       "\\item 90\n",
       "\\item 0\n",
       "\\item 92\n",
       "\\item 93\n",
       "\\item 94\n",
       "\\item 95\n",
       "\\item 96\n",
       "\\item 97\n",
       "\\item 0\n",
       "\\item 99\n",
       "\\item 100\n",
       "\\end{enumerate*}\n"
      ],
      "text/markdown": [
       "1. 51\n",
       "2. 52\n",
       "3. 53\n",
       "4. 54\n",
       "5. 55\n",
       "6. 0\n",
       "7. 57\n",
       "8. 58\n",
       "9. 59\n",
       "10. 60\n",
       "11. 61\n",
       "12. 62\n",
       "13. 0\n",
       "14. 64\n",
       "15. 65\n",
       "16. 66\n",
       "17. 67\n",
       "18. 68\n",
       "19. 69\n",
       "20. 0\n",
       "21. 71\n",
       "22. 72\n",
       "23. 73\n",
       "24. 74\n",
       "25. 75\n",
       "26. 76\n",
       "27. 0\n",
       "28. 78\n",
       "29. 79\n",
       "30. 80\n",
       "31. 81\n",
       "32. 82\n",
       "33. 83\n",
       "34. 0\n",
       "35. 85\n",
       "36. 86\n",
       "37. 87\n",
       "38. 88\n",
       "39. 89\n",
       "40. 90\n",
       "41. 0\n",
       "42. 92\n",
       "43. 93\n",
       "44. 94\n",
       "45. 95\n",
       "46. 96\n",
       "47. 97\n",
       "48. 0\n",
       "49. 99\n",
       "50. 100\n",
       "\n",
       "\n"
      ],
      "text/plain": [
       " [1]  51  52  53  54  55   0  57  58  59  60  61  62   0  64  65  66  67  68  69\n",
       "[20]   0  71  72  73  74  75  76   0  78  79  80  81  82  83   0  85  86  87  88\n",
       "[39]  89  90   0  92  93  94  95  96  97   0  99 100"
      ]
     },
     "metadata": {},
     "output_type": "display_data"
    }
   ],
   "source": [
    "v1[v1%%7 == 0] <- 0\n",
    "v1"
   ]
  },
  {
   "cell_type": "code",
   "execution_count": 65,
   "id": "083db8f1",
   "metadata": {},
   "outputs": [],
   "source": [
    "v1 <- 51:90"
   ]
  },
  {
   "cell_type": "code",
   "execution_count": 66,
   "id": "3e8d1418",
   "metadata": {},
   "outputs": [
    {
     "data": {
      "text/html": [
       "40"
      ],
      "text/latex": [
       "40"
      ],
      "text/markdown": [
       "40"
      ],
      "text/plain": [
       "[1] 40"
      ]
     },
     "metadata": {},
     "output_type": "display_data"
    }
   ],
   "source": [
    "length(v1)"
   ]
  },
  {
   "cell_type": "code",
   "execution_count": 67,
   "id": "2aba4eb7",
   "metadata": {},
   "outputs": [
    {
     "data": {
      "text/html": [
       "<style>\n",
       ".list-inline {list-style: none; margin:0; padding: 0}\n",
       ".list-inline>li {display: inline-block}\n",
       ".list-inline>li:not(:last-child)::after {content: \"\\00b7\"; padding: 0 .5ex}\n",
       "</style>\n",
       "<ol class=list-inline><li>51</li><li>52</li><li>53</li><li>54</li><li>55</li><li>56</li><li>57</li><li>58</li><li>59</li><li>60</li><li>61</li><li>62</li><li>63</li><li>64</li><li>65</li><li>66</li><li>67</li><li>68</li><li>69</li><li>70</li><li>71</li><li>72</li><li>73</li><li>74</li><li>75</li><li>76</li><li>77</li><li>78</li><li>79</li><li>80</li><li>81</li><li>82</li><li>83</li><li>84</li><li>85</li><li>86</li><li>87</li><li>88</li><li>89</li><li>90</li></ol>\n"
      ],
      "text/latex": [
       "\\begin{enumerate*}\n",
       "\\item 51\n",
       "\\item 52\n",
       "\\item 53\n",
       "\\item 54\n",
       "\\item 55\n",
       "\\item 56\n",
       "\\item 57\n",
       "\\item 58\n",
       "\\item 59\n",
       "\\item 60\n",
       "\\item 61\n",
       "\\item 62\n",
       "\\item 63\n",
       "\\item 64\n",
       "\\item 65\n",
       "\\item 66\n",
       "\\item 67\n",
       "\\item 68\n",
       "\\item 69\n",
       "\\item 70\n",
       "\\item 71\n",
       "\\item 72\n",
       "\\item 73\n",
       "\\item 74\n",
       "\\item 75\n",
       "\\item 76\n",
       "\\item 77\n",
       "\\item 78\n",
       "\\item 79\n",
       "\\item 80\n",
       "\\item 81\n",
       "\\item 82\n",
       "\\item 83\n",
       "\\item 84\n",
       "\\item 85\n",
       "\\item 86\n",
       "\\item 87\n",
       "\\item 88\n",
       "\\item 89\n",
       "\\item 90\n",
       "\\end{enumerate*}\n"
      ],
      "text/markdown": [
       "1. 51\n",
       "2. 52\n",
       "3. 53\n",
       "4. 54\n",
       "5. 55\n",
       "6. 56\n",
       "7. 57\n",
       "8. 58\n",
       "9. 59\n",
       "10. 60\n",
       "11. 61\n",
       "12. 62\n",
       "13. 63\n",
       "14. 64\n",
       "15. 65\n",
       "16. 66\n",
       "17. 67\n",
       "18. 68\n",
       "19. 69\n",
       "20. 70\n",
       "21. 71\n",
       "22. 72\n",
       "23. 73\n",
       "24. 74\n",
       "25. 75\n",
       "26. 76\n",
       "27. 77\n",
       "28. 78\n",
       "29. 79\n",
       "30. 80\n",
       "31. 81\n",
       "32. 82\n",
       "33. 83\n",
       "34. 84\n",
       "35. 85\n",
       "36. 86\n",
       "37. 87\n",
       "38. 88\n",
       "39. 89\n",
       "40. 90\n",
       "\n",
       "\n"
      ],
      "text/plain": [
       " [1] 51 52 53 54 55 56 57 58 59 60 61 62 63 64 65 66 67 68 69 70 71 72 73 74 75\n",
       "[26] 76 77 78 79 80 81 82 83 84 85 86 87 88 89 90"
      ]
     },
     "metadata": {},
     "output_type": "display_data"
    }
   ],
   "source": [
    "v1"
   ]
  },
  {
   "cell_type": "code",
   "execution_count": 68,
   "id": "cb12e852",
   "metadata": {},
   "outputs": [
    {
     "data": {
      "text/html": [
       "1420"
      ],
      "text/latex": [
       "1420"
      ],
      "text/markdown": [
       "1420"
      ],
      "text/plain": [
       "[1] 1420"
      ]
     },
     "metadata": {},
     "output_type": "display_data"
    }
   ],
   "source": [
    "sum(v1[v1%%2==0])"
   ]
  },
  {
   "cell_type": "code",
   "execution_count": 69,
   "id": "757b3ab4",
   "metadata": {},
   "outputs": [
    {
     "data": {
      "text/html": [
       "<style>\n",
       ".list-inline {list-style: none; margin:0; padding: 0}\n",
       ".list-inline>li {display: inline-block}\n",
       ".list-inline>li:not(:last-child)::after {content: \"\\00b7\"; padding: 0 .5ex}\n",
       "</style>\n",
       "<ol class=list-inline><li>51</li><li>53</li><li>55</li><li>57</li><li>59</li><li>61</li><li>63</li><li>65</li><li>67</li><li>69</li><li>71</li><li>73</li><li>75</li><li>77</li><li>79</li><li>81</li><li>82</li><li>83</li><li>84</li><li>85</li><li>86</li><li>87</li><li>88</li><li>89</li><li>90</li></ol>\n"
      ],
      "text/latex": [
       "\\begin{enumerate*}\n",
       "\\item 51\n",
       "\\item 53\n",
       "\\item 55\n",
       "\\item 57\n",
       "\\item 59\n",
       "\\item 61\n",
       "\\item 63\n",
       "\\item 65\n",
       "\\item 67\n",
       "\\item 69\n",
       "\\item 71\n",
       "\\item 73\n",
       "\\item 75\n",
       "\\item 77\n",
       "\\item 79\n",
       "\\item 81\n",
       "\\item 82\n",
       "\\item 83\n",
       "\\item 84\n",
       "\\item 85\n",
       "\\item 86\n",
       "\\item 87\n",
       "\\item 88\n",
       "\\item 89\n",
       "\\item 90\n",
       "\\end{enumerate*}\n"
      ],
      "text/markdown": [
       "1. 51\n",
       "2. 53\n",
       "3. 55\n",
       "4. 57\n",
       "5. 59\n",
       "6. 61\n",
       "7. 63\n",
       "8. 65\n",
       "9. 67\n",
       "10. 69\n",
       "11. 71\n",
       "12. 73\n",
       "13. 75\n",
       "14. 77\n",
       "15. 79\n",
       "16. 81\n",
       "17. 82\n",
       "18. 83\n",
       "19. 84\n",
       "20. 85\n",
       "21. 86\n",
       "22. 87\n",
       "23. 88\n",
       "24. 89\n",
       "25. 90\n",
       "\n",
       "\n"
      ],
      "text/plain": [
       " [1] 51 53 55 57 59 61 63 65 67 69 71 73 75 77 79 81 82 83 84 85 86 87 88 89 90"
      ]
     },
     "metadata": {},
     "output_type": "display_data"
    }
   ],
   "source": [
    "v1[v1%%2 == 1 | v1 > 80]"
   ]
  },
  {
   "cell_type": "code",
   "execution_count": 70,
   "id": "46501919",
   "metadata": {},
   "outputs": [],
   "source": [
    "v1[v1%%2 == 0] <- v1[v1%%2==0] * 2"
   ]
  },
  {
   "cell_type": "code",
   "execution_count": 71,
   "id": "5f3696d6",
   "metadata": {},
   "outputs": [
    {
     "data": {
      "text/html": [
       "<style>\n",
       ".list-inline {list-style: none; margin:0; padding: 0}\n",
       ".list-inline>li {display: inline-block}\n",
       ".list-inline>li:not(:last-child)::after {content: \"\\00b7\"; padding: 0 .5ex}\n",
       "</style>\n",
       "<ol class=list-inline><li>51</li><li>104</li><li>53</li><li>108</li><li>55</li><li>112</li><li>57</li><li>116</li><li>59</li><li>120</li><li>61</li><li>124</li><li>63</li><li>128</li><li>65</li><li>132</li><li>67</li><li>136</li><li>69</li><li>140</li><li>71</li><li>144</li><li>73</li><li>148</li><li>75</li><li>152</li><li>77</li><li>156</li><li>79</li><li>160</li><li>81</li><li>164</li><li>83</li><li>168</li><li>85</li><li>172</li><li>87</li><li>176</li><li>89</li><li>180</li></ol>\n"
      ],
      "text/latex": [
       "\\begin{enumerate*}\n",
       "\\item 51\n",
       "\\item 104\n",
       "\\item 53\n",
       "\\item 108\n",
       "\\item 55\n",
       "\\item 112\n",
       "\\item 57\n",
       "\\item 116\n",
       "\\item 59\n",
       "\\item 120\n",
       "\\item 61\n",
       "\\item 124\n",
       "\\item 63\n",
       "\\item 128\n",
       "\\item 65\n",
       "\\item 132\n",
       "\\item 67\n",
       "\\item 136\n",
       "\\item 69\n",
       "\\item 140\n",
       "\\item 71\n",
       "\\item 144\n",
       "\\item 73\n",
       "\\item 148\n",
       "\\item 75\n",
       "\\item 152\n",
       "\\item 77\n",
       "\\item 156\n",
       "\\item 79\n",
       "\\item 160\n",
       "\\item 81\n",
       "\\item 164\n",
       "\\item 83\n",
       "\\item 168\n",
       "\\item 85\n",
       "\\item 172\n",
       "\\item 87\n",
       "\\item 176\n",
       "\\item 89\n",
       "\\item 180\n",
       "\\end{enumerate*}\n"
      ],
      "text/markdown": [
       "1. 51\n",
       "2. 104\n",
       "3. 53\n",
       "4. 108\n",
       "5. 55\n",
       "6. 112\n",
       "7. 57\n",
       "8. 116\n",
       "9. 59\n",
       "10. 120\n",
       "11. 61\n",
       "12. 124\n",
       "13. 63\n",
       "14. 128\n",
       "15. 65\n",
       "16. 132\n",
       "17. 67\n",
       "18. 136\n",
       "19. 69\n",
       "20. 140\n",
       "21. 71\n",
       "22. 144\n",
       "23. 73\n",
       "24. 148\n",
       "25. 75\n",
       "26. 152\n",
       "27. 77\n",
       "28. 156\n",
       "29. 79\n",
       "30. 160\n",
       "31. 81\n",
       "32. 164\n",
       "33. 83\n",
       "34. 168\n",
       "35. 85\n",
       "36. 172\n",
       "37. 87\n",
       "38. 176\n",
       "39. 89\n",
       "40. 180\n",
       "\n",
       "\n"
      ],
      "text/plain": [
       " [1]  51 104  53 108  55 112  57 116  59 120  61 124  63 128  65 132  67 136  69\n",
       "[20] 140  71 144  73 148  75 152  77 156  79 160  81 164  83 168  85 172  87 176\n",
       "[39]  89 180"
      ]
     },
     "metadata": {},
     "output_type": "display_data"
    }
   ],
   "source": [
    "v1"
   ]
  },
  {
   "cell_type": "code",
   "execution_count": 72,
   "id": "bdb89be8",
   "metadata": {},
   "outputs": [],
   "source": [
    "v1 <- v1[v1%%7 != 0]"
   ]
  },
  {
   "cell_type": "code",
   "execution_count": 73,
   "id": "3b659f74",
   "metadata": {},
   "outputs": [
    {
     "data": {
      "text/html": [
       "<style>\n",
       ".list-inline {list-style: none; margin:0; padding: 0}\n",
       ".list-inline>li {display: inline-block}\n",
       ".list-inline>li:not(:last-child)::after {content: \"\\00b7\"; padding: 0 .5ex}\n",
       "</style>\n",
       "<ol class=list-inline><li>51</li><li>104</li><li>53</li><li>108</li><li>55</li><li>57</li><li>116</li><li>59</li><li>120</li><li>61</li><li>124</li><li>128</li><li>65</li><li>132</li><li>67</li><li>136</li><li>69</li><li>71</li><li>144</li><li>73</li><li>148</li><li>75</li><li>152</li><li>156</li><li>79</li><li>160</li><li>81</li><li>164</li><li>83</li><li>85</li><li>172</li><li>87</li><li>176</li><li>89</li><li>180</li></ol>\n"
      ],
      "text/latex": [
       "\\begin{enumerate*}\n",
       "\\item 51\n",
       "\\item 104\n",
       "\\item 53\n",
       "\\item 108\n",
       "\\item 55\n",
       "\\item 57\n",
       "\\item 116\n",
       "\\item 59\n",
       "\\item 120\n",
       "\\item 61\n",
       "\\item 124\n",
       "\\item 128\n",
       "\\item 65\n",
       "\\item 132\n",
       "\\item 67\n",
       "\\item 136\n",
       "\\item 69\n",
       "\\item 71\n",
       "\\item 144\n",
       "\\item 73\n",
       "\\item 148\n",
       "\\item 75\n",
       "\\item 152\n",
       "\\item 156\n",
       "\\item 79\n",
       "\\item 160\n",
       "\\item 81\n",
       "\\item 164\n",
       "\\item 83\n",
       "\\item 85\n",
       "\\item 172\n",
       "\\item 87\n",
       "\\item 176\n",
       "\\item 89\n",
       "\\item 180\n",
       "\\end{enumerate*}\n"
      ],
      "text/markdown": [
       "1. 51\n",
       "2. 104\n",
       "3. 53\n",
       "4. 108\n",
       "5. 55\n",
       "6. 57\n",
       "7. 116\n",
       "8. 59\n",
       "9. 120\n",
       "10. 61\n",
       "11. 124\n",
       "12. 128\n",
       "13. 65\n",
       "14. 132\n",
       "15. 67\n",
       "16. 136\n",
       "17. 69\n",
       "18. 71\n",
       "19. 144\n",
       "20. 73\n",
       "21. 148\n",
       "22. 75\n",
       "23. 152\n",
       "24. 156\n",
       "25. 79\n",
       "26. 160\n",
       "27. 81\n",
       "28. 164\n",
       "29. 83\n",
       "30. 85\n",
       "31. 172\n",
       "32. 87\n",
       "33. 176\n",
       "34. 89\n",
       "35. 180\n",
       "\n",
       "\n"
      ],
      "text/plain": [
       " [1]  51 104  53 108  55  57 116  59 120  61 124 128  65 132  67 136  69  71 144\n",
       "[20]  73 148  75 152 156  79 160  81 164  83  85 172  87 176  89 180"
      ]
     },
     "metadata": {},
     "output_type": "display_data"
    }
   ],
   "source": [
    "v1"
   ]
  },
  {
   "cell_type": "code",
   "execution_count": 75,
   "id": "1cf88830",
   "metadata": {},
   "outputs": [],
   "source": [
    "m <- c(10, 40, 60, 20)\n",
    "f <- c(21, 60, 70, 30)"
   ]
  },
  {
   "cell_type": "code",
   "execution_count": 76,
   "id": "541c2cce",
   "metadata": {},
   "outputs": [
    {
     "data": {
      "text/html": [
       "<table class=\"dataframe\">\n",
       "<caption>A data.frame: 4 × 2</caption>\n",
       "<thead>\n",
       "\t<tr><th scope=col>m</th><th scope=col>f</th></tr>\n",
       "\t<tr><th scope=col>&lt;dbl&gt;</th><th scope=col>&lt;dbl&gt;</th></tr>\n",
       "</thead>\n",
       "<tbody>\n",
       "\t<tr><td>10</td><td>21</td></tr>\n",
       "\t<tr><td>40</td><td>60</td></tr>\n",
       "\t<tr><td>60</td><td>70</td></tr>\n",
       "\t<tr><td>20</td><td>30</td></tr>\n",
       "</tbody>\n",
       "</table>\n"
      ],
      "text/latex": [
       "A data.frame: 4 × 2\n",
       "\\begin{tabular}{ll}\n",
       " m & f\\\\\n",
       " <dbl> & <dbl>\\\\\n",
       "\\hline\n",
       "\t 10 & 21\\\\\n",
       "\t 40 & 60\\\\\n",
       "\t 60 & 70\\\\\n",
       "\t 20 & 30\\\\\n",
       "\\end{tabular}\n"
      ],
      "text/markdown": [
       "\n",
       "A data.frame: 4 × 2\n",
       "\n",
       "| m &lt;dbl&gt; | f &lt;dbl&gt; |\n",
       "|---|---|\n",
       "| 10 | 21 |\n",
       "| 40 | 60 |\n",
       "| 60 | 70 |\n",
       "| 20 | 30 |\n",
       "\n"
      ],
      "text/plain": [
       "  m  f \n",
       "1 10 21\n",
       "2 40 60\n",
       "3 60 70\n",
       "4 20 30"
      ]
     },
     "metadata": {},
     "output_type": "display_data"
    }
   ],
   "source": [
    "m <- data.frame(m,f)\n",
    "m"
   ]
  },
  {
   "cell_type": "code",
   "execution_count": 77,
   "id": "0f6f4b21",
   "metadata": {},
   "outputs": [],
   "source": [
    "colnames(m) <- c(\"male\",\"female\")"
   ]
  },
  {
   "cell_type": "code",
   "execution_count": 78,
   "id": "6d1efb0f",
   "metadata": {},
   "outputs": [
    {
     "data": {
      "text/html": [
       "<table class=\"dataframe\">\n",
       "<caption>A data.frame: 4 × 2</caption>\n",
       "<thead>\n",
       "\t<tr><th scope=col>male</th><th scope=col>female</th></tr>\n",
       "\t<tr><th scope=col>&lt;dbl&gt;</th><th scope=col>&lt;dbl&gt;</th></tr>\n",
       "</thead>\n",
       "<tbody>\n",
       "\t<tr><td>10</td><td>21</td></tr>\n",
       "\t<tr><td>40</td><td>60</td></tr>\n",
       "\t<tr><td>60</td><td>70</td></tr>\n",
       "\t<tr><td>20</td><td>30</td></tr>\n",
       "</tbody>\n",
       "</table>\n"
      ],
      "text/latex": [
       "A data.frame: 4 × 2\n",
       "\\begin{tabular}{ll}\n",
       " male & female\\\\\n",
       " <dbl> & <dbl>\\\\\n",
       "\\hline\n",
       "\t 10 & 21\\\\\n",
       "\t 40 & 60\\\\\n",
       "\t 60 & 70\\\\\n",
       "\t 20 & 30\\\\\n",
       "\\end{tabular}\n"
      ],
      "text/markdown": [
       "\n",
       "A data.frame: 4 × 2\n",
       "\n",
       "| male &lt;dbl&gt; | female &lt;dbl&gt; |\n",
       "|---|---|\n",
       "| 10 | 21 |\n",
       "| 40 | 60 |\n",
       "| 60 | 70 |\n",
       "| 20 | 30 |\n",
       "\n"
      ],
      "text/plain": [
       "  male female\n",
       "1 10   21    \n",
       "2 40   60    \n",
       "3 60   70    \n",
       "4 20   30    "
      ]
     },
     "metadata": {},
     "output_type": "display_data"
    }
   ],
   "source": [
    "m"
   ]
  },
  {
   "cell_type": "code",
   "execution_count": 79,
   "id": "789c24c5",
   "metadata": {},
   "outputs": [
    {
     "data": {
      "text/html": [
       "<table class=\"dataframe\">\n",
       "<caption>A data.frame: 1 × 2</caption>\n",
       "<thead>\n",
       "\t<tr><th></th><th scope=col>male</th><th scope=col>female</th></tr>\n",
       "\t<tr><th></th><th scope=col>&lt;dbl&gt;</th><th scope=col>&lt;dbl&gt;</th></tr>\n",
       "</thead>\n",
       "<tbody>\n",
       "\t<tr><th scope=row>2</th><td>40</td><td>60</td></tr>\n",
       "</tbody>\n",
       "</table>\n"
      ],
      "text/latex": [
       "A data.frame: 1 × 2\n",
       "\\begin{tabular}{r|ll}\n",
       "  & male & female\\\\\n",
       "  & <dbl> & <dbl>\\\\\n",
       "\\hline\n",
       "\t2 & 40 & 60\\\\\n",
       "\\end{tabular}\n"
      ],
      "text/markdown": [
       "\n",
       "A data.frame: 1 × 2\n",
       "\n",
       "| <!--/--> | male &lt;dbl&gt; | female &lt;dbl&gt; |\n",
       "|---|---|---|\n",
       "| 2 | 40 | 60 |\n",
       "\n"
      ],
      "text/plain": [
       "  male female\n",
       "2 40   60    "
      ]
     },
     "metadata": {},
     "output_type": "display_data"
    }
   ],
   "source": [
    "m[2,]"
   ]
  },
  {
   "cell_type": "code",
   "execution_count": 80,
   "id": "68ed17b3",
   "metadata": {},
   "outputs": [
    {
     "data": {
      "text/html": [
       "70"
      ],
      "text/latex": [
       "70"
      ],
      "text/markdown": [
       "70"
      ],
      "text/plain": [
       "[1] 70"
      ]
     },
     "metadata": {},
     "output_type": "display_data"
    }
   ],
   "source": [
    "m[3, 2]"
   ]
  },
  {
   "cell_type": "code",
   "execution_count": 81,
   "id": "171ea265",
   "metadata": {},
   "outputs": [],
   "source": [
    "st <- data.frame(state.x77)"
   ]
  },
  {
   "cell_type": "code",
   "execution_count": 82,
   "id": "ce190602",
   "metadata": {},
   "outputs": [
    {
     "data": {
      "text/html": [
       "<table class=\"dataframe\">\n",
       "<caption>A data.frame: 50 × 8</caption>\n",
       "<thead>\n",
       "\t<tr><th></th><th scope=col>Population</th><th scope=col>Income</th><th scope=col>Illiteracy</th><th scope=col>Life.Exp</th><th scope=col>Murder</th><th scope=col>HS.Grad</th><th scope=col>Frost</th><th scope=col>Area</th></tr>\n",
       "\t<tr><th></th><th scope=col>&lt;dbl&gt;</th><th scope=col>&lt;dbl&gt;</th><th scope=col>&lt;dbl&gt;</th><th scope=col>&lt;dbl&gt;</th><th scope=col>&lt;dbl&gt;</th><th scope=col>&lt;dbl&gt;</th><th scope=col>&lt;dbl&gt;</th><th scope=col>&lt;dbl&gt;</th></tr>\n",
       "</thead>\n",
       "<tbody>\n",
       "\t<tr><th scope=row>Alabama</th><td> 3615</td><td>3624</td><td>2.1</td><td>69.05</td><td>15.1</td><td>41.3</td><td> 20</td><td> 50708</td></tr>\n",
       "\t<tr><th scope=row>Alaska</th><td>  365</td><td>6315</td><td>1.5</td><td>69.31</td><td>11.3</td><td>66.7</td><td>152</td><td>566432</td></tr>\n",
       "\t<tr><th scope=row>Arizona</th><td> 2212</td><td>4530</td><td>1.8</td><td>70.55</td><td> 7.8</td><td>58.1</td><td> 15</td><td>113417</td></tr>\n",
       "\t<tr><th scope=row>Arkansas</th><td> 2110</td><td>3378</td><td>1.9</td><td>70.66</td><td>10.1</td><td>39.9</td><td> 65</td><td> 51945</td></tr>\n",
       "\t<tr><th scope=row>California</th><td>21198</td><td>5114</td><td>1.1</td><td>71.71</td><td>10.3</td><td>62.6</td><td> 20</td><td>156361</td></tr>\n",
       "\t<tr><th scope=row>Colorado</th><td> 2541</td><td>4884</td><td>0.7</td><td>72.06</td><td> 6.8</td><td>63.9</td><td>166</td><td>103766</td></tr>\n",
       "\t<tr><th scope=row>Connecticut</th><td> 3100</td><td>5348</td><td>1.1</td><td>72.48</td><td> 3.1</td><td>56.0</td><td>139</td><td>  4862</td></tr>\n",
       "\t<tr><th scope=row>Delaware</th><td>  579</td><td>4809</td><td>0.9</td><td>70.06</td><td> 6.2</td><td>54.6</td><td>103</td><td>  1982</td></tr>\n",
       "\t<tr><th scope=row>Florida</th><td> 8277</td><td>4815</td><td>1.3</td><td>70.66</td><td>10.7</td><td>52.6</td><td> 11</td><td> 54090</td></tr>\n",
       "\t<tr><th scope=row>Georgia</th><td> 4931</td><td>4091</td><td>2.0</td><td>68.54</td><td>13.9</td><td>40.6</td><td> 60</td><td> 58073</td></tr>\n",
       "\t<tr><th scope=row>Hawaii</th><td>  868</td><td>4963</td><td>1.9</td><td>73.60</td><td> 6.2</td><td>61.9</td><td>  0</td><td>  6425</td></tr>\n",
       "\t<tr><th scope=row>Idaho</th><td>  813</td><td>4119</td><td>0.6</td><td>71.87</td><td> 5.3</td><td>59.5</td><td>126</td><td> 82677</td></tr>\n",
       "\t<tr><th scope=row>Illinois</th><td>11197</td><td>5107</td><td>0.9</td><td>70.14</td><td>10.3</td><td>52.6</td><td>127</td><td> 55748</td></tr>\n",
       "\t<tr><th scope=row>Indiana</th><td> 5313</td><td>4458</td><td>0.7</td><td>70.88</td><td> 7.1</td><td>52.9</td><td>122</td><td> 36097</td></tr>\n",
       "\t<tr><th scope=row>Iowa</th><td> 2861</td><td>4628</td><td>0.5</td><td>72.56</td><td> 2.3</td><td>59.0</td><td>140</td><td> 55941</td></tr>\n",
       "\t<tr><th scope=row>Kansas</th><td> 2280</td><td>4669</td><td>0.6</td><td>72.58</td><td> 4.5</td><td>59.9</td><td>114</td><td> 81787</td></tr>\n",
       "\t<tr><th scope=row>Kentucky</th><td> 3387</td><td>3712</td><td>1.6</td><td>70.10</td><td>10.6</td><td>38.5</td><td> 95</td><td> 39650</td></tr>\n",
       "\t<tr><th scope=row>Louisiana</th><td> 3806</td><td>3545</td><td>2.8</td><td>68.76</td><td>13.2</td><td>42.2</td><td> 12</td><td> 44930</td></tr>\n",
       "\t<tr><th scope=row>Maine</th><td> 1058</td><td>3694</td><td>0.7</td><td>70.39</td><td> 2.7</td><td>54.7</td><td>161</td><td> 30920</td></tr>\n",
       "\t<tr><th scope=row>Maryland</th><td> 4122</td><td>5299</td><td>0.9</td><td>70.22</td><td> 8.5</td><td>52.3</td><td>101</td><td>  9891</td></tr>\n",
       "\t<tr><th scope=row>Massachusetts</th><td> 5814</td><td>4755</td><td>1.1</td><td>71.83</td><td> 3.3</td><td>58.5</td><td>103</td><td>  7826</td></tr>\n",
       "\t<tr><th scope=row>Michigan</th><td> 9111</td><td>4751</td><td>0.9</td><td>70.63</td><td>11.1</td><td>52.8</td><td>125</td><td> 56817</td></tr>\n",
       "\t<tr><th scope=row>Minnesota</th><td> 3921</td><td>4675</td><td>0.6</td><td>72.96</td><td> 2.3</td><td>57.6</td><td>160</td><td> 79289</td></tr>\n",
       "\t<tr><th scope=row>Mississippi</th><td> 2341</td><td>3098</td><td>2.4</td><td>68.09</td><td>12.5</td><td>41.0</td><td> 50</td><td> 47296</td></tr>\n",
       "\t<tr><th scope=row>Missouri</th><td> 4767</td><td>4254</td><td>0.8</td><td>70.69</td><td> 9.3</td><td>48.8</td><td>108</td><td> 68995</td></tr>\n",
       "\t<tr><th scope=row>Montana</th><td>  746</td><td>4347</td><td>0.6</td><td>70.56</td><td> 5.0</td><td>59.2</td><td>155</td><td>145587</td></tr>\n",
       "\t<tr><th scope=row>Nebraska</th><td> 1544</td><td>4508</td><td>0.6</td><td>72.60</td><td> 2.9</td><td>59.3</td><td>139</td><td> 76483</td></tr>\n",
       "\t<tr><th scope=row>Nevada</th><td>  590</td><td>5149</td><td>0.5</td><td>69.03</td><td>11.5</td><td>65.2</td><td>188</td><td>109889</td></tr>\n",
       "\t<tr><th scope=row>New Hampshire</th><td>  812</td><td>4281</td><td>0.7</td><td>71.23</td><td> 3.3</td><td>57.6</td><td>174</td><td>  9027</td></tr>\n",
       "\t<tr><th scope=row>New Jersey</th><td> 7333</td><td>5237</td><td>1.1</td><td>70.93</td><td> 5.2</td><td>52.5</td><td>115</td><td>  7521</td></tr>\n",
       "\t<tr><th scope=row>New Mexico</th><td> 1144</td><td>3601</td><td>2.2</td><td>70.32</td><td> 9.7</td><td>55.2</td><td>120</td><td>121412</td></tr>\n",
       "\t<tr><th scope=row>New York</th><td>18076</td><td>4903</td><td>1.4</td><td>70.55</td><td>10.9</td><td>52.7</td><td> 82</td><td> 47831</td></tr>\n",
       "\t<tr><th scope=row>North Carolina</th><td> 5441</td><td>3875</td><td>1.8</td><td>69.21</td><td>11.1</td><td>38.5</td><td> 80</td><td> 48798</td></tr>\n",
       "\t<tr><th scope=row>North Dakota</th><td>  637</td><td>5087</td><td>0.8</td><td>72.78</td><td> 1.4</td><td>50.3</td><td>186</td><td> 69273</td></tr>\n",
       "\t<tr><th scope=row>Ohio</th><td>10735</td><td>4561</td><td>0.8</td><td>70.82</td><td> 7.4</td><td>53.2</td><td>124</td><td> 40975</td></tr>\n",
       "\t<tr><th scope=row>Oklahoma</th><td> 2715</td><td>3983</td><td>1.1</td><td>71.42</td><td> 6.4</td><td>51.6</td><td> 82</td><td> 68782</td></tr>\n",
       "\t<tr><th scope=row>Oregon</th><td> 2284</td><td>4660</td><td>0.6</td><td>72.13</td><td> 4.2</td><td>60.0</td><td> 44</td><td> 96184</td></tr>\n",
       "\t<tr><th scope=row>Pennsylvania</th><td>11860</td><td>4449</td><td>1.0</td><td>70.43</td><td> 6.1</td><td>50.2</td><td>126</td><td> 44966</td></tr>\n",
       "\t<tr><th scope=row>Rhode Island</th><td>  931</td><td>4558</td><td>1.3</td><td>71.90</td><td> 2.4</td><td>46.4</td><td>127</td><td>  1049</td></tr>\n",
       "\t<tr><th scope=row>South Carolina</th><td> 2816</td><td>3635</td><td>2.3</td><td>67.96</td><td>11.6</td><td>37.8</td><td> 65</td><td> 30225</td></tr>\n",
       "\t<tr><th scope=row>South Dakota</th><td>  681</td><td>4167</td><td>0.5</td><td>72.08</td><td> 1.7</td><td>53.3</td><td>172</td><td> 75955</td></tr>\n",
       "\t<tr><th scope=row>Tennessee</th><td> 4173</td><td>3821</td><td>1.7</td><td>70.11</td><td>11.0</td><td>41.8</td><td> 70</td><td> 41328</td></tr>\n",
       "\t<tr><th scope=row>Texas</th><td>12237</td><td>4188</td><td>2.2</td><td>70.90</td><td>12.2</td><td>47.4</td><td> 35</td><td>262134</td></tr>\n",
       "\t<tr><th scope=row>Utah</th><td> 1203</td><td>4022</td><td>0.6</td><td>72.90</td><td> 4.5</td><td>67.3</td><td>137</td><td> 82096</td></tr>\n",
       "\t<tr><th scope=row>Vermont</th><td>  472</td><td>3907</td><td>0.6</td><td>71.64</td><td> 5.5</td><td>57.1</td><td>168</td><td>  9267</td></tr>\n",
       "\t<tr><th scope=row>Virginia</th><td> 4981</td><td>4701</td><td>1.4</td><td>70.08</td><td> 9.5</td><td>47.8</td><td> 85</td><td> 39780</td></tr>\n",
       "\t<tr><th scope=row>Washington</th><td> 3559</td><td>4864</td><td>0.6</td><td>71.72</td><td> 4.3</td><td>63.5</td><td> 32</td><td> 66570</td></tr>\n",
       "\t<tr><th scope=row>West Virginia</th><td> 1799</td><td>3617</td><td>1.4</td><td>69.48</td><td> 6.7</td><td>41.6</td><td>100</td><td> 24070</td></tr>\n",
       "\t<tr><th scope=row>Wisconsin</th><td> 4589</td><td>4468</td><td>0.7</td><td>72.48</td><td> 3.0</td><td>54.5</td><td>149</td><td> 54464</td></tr>\n",
       "\t<tr><th scope=row>Wyoming</th><td>  376</td><td>4566</td><td>0.6</td><td>70.29</td><td> 6.9</td><td>62.9</td><td>173</td><td> 97203</td></tr>\n",
       "</tbody>\n",
       "</table>\n"
      ],
      "text/latex": [
       "A data.frame: 50 × 8\n",
       "\\begin{tabular}{r|llllllll}\n",
       "  & Population & Income & Illiteracy & Life.Exp & Murder & HS.Grad & Frost & Area\\\\\n",
       "  & <dbl> & <dbl> & <dbl> & <dbl> & <dbl> & <dbl> & <dbl> & <dbl>\\\\\n",
       "\\hline\n",
       "\tAlabama &  3615 & 3624 & 2.1 & 69.05 & 15.1 & 41.3 &  20 &  50708\\\\\n",
       "\tAlaska &   365 & 6315 & 1.5 & 69.31 & 11.3 & 66.7 & 152 & 566432\\\\\n",
       "\tArizona &  2212 & 4530 & 1.8 & 70.55 &  7.8 & 58.1 &  15 & 113417\\\\\n",
       "\tArkansas &  2110 & 3378 & 1.9 & 70.66 & 10.1 & 39.9 &  65 &  51945\\\\\n",
       "\tCalifornia & 21198 & 5114 & 1.1 & 71.71 & 10.3 & 62.6 &  20 & 156361\\\\\n",
       "\tColorado &  2541 & 4884 & 0.7 & 72.06 &  6.8 & 63.9 & 166 & 103766\\\\\n",
       "\tConnecticut &  3100 & 5348 & 1.1 & 72.48 &  3.1 & 56.0 & 139 &   4862\\\\\n",
       "\tDelaware &   579 & 4809 & 0.9 & 70.06 &  6.2 & 54.6 & 103 &   1982\\\\\n",
       "\tFlorida &  8277 & 4815 & 1.3 & 70.66 & 10.7 & 52.6 &  11 &  54090\\\\\n",
       "\tGeorgia &  4931 & 4091 & 2.0 & 68.54 & 13.9 & 40.6 &  60 &  58073\\\\\n",
       "\tHawaii &   868 & 4963 & 1.9 & 73.60 &  6.2 & 61.9 &   0 &   6425\\\\\n",
       "\tIdaho &   813 & 4119 & 0.6 & 71.87 &  5.3 & 59.5 & 126 &  82677\\\\\n",
       "\tIllinois & 11197 & 5107 & 0.9 & 70.14 & 10.3 & 52.6 & 127 &  55748\\\\\n",
       "\tIndiana &  5313 & 4458 & 0.7 & 70.88 &  7.1 & 52.9 & 122 &  36097\\\\\n",
       "\tIowa &  2861 & 4628 & 0.5 & 72.56 &  2.3 & 59.0 & 140 &  55941\\\\\n",
       "\tKansas &  2280 & 4669 & 0.6 & 72.58 &  4.5 & 59.9 & 114 &  81787\\\\\n",
       "\tKentucky &  3387 & 3712 & 1.6 & 70.10 & 10.6 & 38.5 &  95 &  39650\\\\\n",
       "\tLouisiana &  3806 & 3545 & 2.8 & 68.76 & 13.2 & 42.2 &  12 &  44930\\\\\n",
       "\tMaine &  1058 & 3694 & 0.7 & 70.39 &  2.7 & 54.7 & 161 &  30920\\\\\n",
       "\tMaryland &  4122 & 5299 & 0.9 & 70.22 &  8.5 & 52.3 & 101 &   9891\\\\\n",
       "\tMassachusetts &  5814 & 4755 & 1.1 & 71.83 &  3.3 & 58.5 & 103 &   7826\\\\\n",
       "\tMichigan &  9111 & 4751 & 0.9 & 70.63 & 11.1 & 52.8 & 125 &  56817\\\\\n",
       "\tMinnesota &  3921 & 4675 & 0.6 & 72.96 &  2.3 & 57.6 & 160 &  79289\\\\\n",
       "\tMississippi &  2341 & 3098 & 2.4 & 68.09 & 12.5 & 41.0 &  50 &  47296\\\\\n",
       "\tMissouri &  4767 & 4254 & 0.8 & 70.69 &  9.3 & 48.8 & 108 &  68995\\\\\n",
       "\tMontana &   746 & 4347 & 0.6 & 70.56 &  5.0 & 59.2 & 155 & 145587\\\\\n",
       "\tNebraska &  1544 & 4508 & 0.6 & 72.60 &  2.9 & 59.3 & 139 &  76483\\\\\n",
       "\tNevada &   590 & 5149 & 0.5 & 69.03 & 11.5 & 65.2 & 188 & 109889\\\\\n",
       "\tNew Hampshire &   812 & 4281 & 0.7 & 71.23 &  3.3 & 57.6 & 174 &   9027\\\\\n",
       "\tNew Jersey &  7333 & 5237 & 1.1 & 70.93 &  5.2 & 52.5 & 115 &   7521\\\\\n",
       "\tNew Mexico &  1144 & 3601 & 2.2 & 70.32 &  9.7 & 55.2 & 120 & 121412\\\\\n",
       "\tNew York & 18076 & 4903 & 1.4 & 70.55 & 10.9 & 52.7 &  82 &  47831\\\\\n",
       "\tNorth Carolina &  5441 & 3875 & 1.8 & 69.21 & 11.1 & 38.5 &  80 &  48798\\\\\n",
       "\tNorth Dakota &   637 & 5087 & 0.8 & 72.78 &  1.4 & 50.3 & 186 &  69273\\\\\n",
       "\tOhio & 10735 & 4561 & 0.8 & 70.82 &  7.4 & 53.2 & 124 &  40975\\\\\n",
       "\tOklahoma &  2715 & 3983 & 1.1 & 71.42 &  6.4 & 51.6 &  82 &  68782\\\\\n",
       "\tOregon &  2284 & 4660 & 0.6 & 72.13 &  4.2 & 60.0 &  44 &  96184\\\\\n",
       "\tPennsylvania & 11860 & 4449 & 1.0 & 70.43 &  6.1 & 50.2 & 126 &  44966\\\\\n",
       "\tRhode Island &   931 & 4558 & 1.3 & 71.90 &  2.4 & 46.4 & 127 &   1049\\\\\n",
       "\tSouth Carolina &  2816 & 3635 & 2.3 & 67.96 & 11.6 & 37.8 &  65 &  30225\\\\\n",
       "\tSouth Dakota &   681 & 4167 & 0.5 & 72.08 &  1.7 & 53.3 & 172 &  75955\\\\\n",
       "\tTennessee &  4173 & 3821 & 1.7 & 70.11 & 11.0 & 41.8 &  70 &  41328\\\\\n",
       "\tTexas & 12237 & 4188 & 2.2 & 70.90 & 12.2 & 47.4 &  35 & 262134\\\\\n",
       "\tUtah &  1203 & 4022 & 0.6 & 72.90 &  4.5 & 67.3 & 137 &  82096\\\\\n",
       "\tVermont &   472 & 3907 & 0.6 & 71.64 &  5.5 & 57.1 & 168 &   9267\\\\\n",
       "\tVirginia &  4981 & 4701 & 1.4 & 70.08 &  9.5 & 47.8 &  85 &  39780\\\\\n",
       "\tWashington &  3559 & 4864 & 0.6 & 71.72 &  4.3 & 63.5 &  32 &  66570\\\\\n",
       "\tWest Virginia &  1799 & 3617 & 1.4 & 69.48 &  6.7 & 41.6 & 100 &  24070\\\\\n",
       "\tWisconsin &  4589 & 4468 & 0.7 & 72.48 &  3.0 & 54.5 & 149 &  54464\\\\\n",
       "\tWyoming &   376 & 4566 & 0.6 & 70.29 &  6.9 & 62.9 & 173 &  97203\\\\\n",
       "\\end{tabular}\n"
      ],
      "text/markdown": [
       "\n",
       "A data.frame: 50 × 8\n",
       "\n",
       "| <!--/--> | Population &lt;dbl&gt; | Income &lt;dbl&gt; | Illiteracy &lt;dbl&gt; | Life.Exp &lt;dbl&gt; | Murder &lt;dbl&gt; | HS.Grad &lt;dbl&gt; | Frost &lt;dbl&gt; | Area &lt;dbl&gt; |\n",
       "|---|---|---|---|---|---|---|---|---|\n",
       "| Alabama |  3615 | 3624 | 2.1 | 69.05 | 15.1 | 41.3 |  20 |  50708 |\n",
       "| Alaska |   365 | 6315 | 1.5 | 69.31 | 11.3 | 66.7 | 152 | 566432 |\n",
       "| Arizona |  2212 | 4530 | 1.8 | 70.55 |  7.8 | 58.1 |  15 | 113417 |\n",
       "| Arkansas |  2110 | 3378 | 1.9 | 70.66 | 10.1 | 39.9 |  65 |  51945 |\n",
       "| California | 21198 | 5114 | 1.1 | 71.71 | 10.3 | 62.6 |  20 | 156361 |\n",
       "| Colorado |  2541 | 4884 | 0.7 | 72.06 |  6.8 | 63.9 | 166 | 103766 |\n",
       "| Connecticut |  3100 | 5348 | 1.1 | 72.48 |  3.1 | 56.0 | 139 |   4862 |\n",
       "| Delaware |   579 | 4809 | 0.9 | 70.06 |  6.2 | 54.6 | 103 |   1982 |\n",
       "| Florida |  8277 | 4815 | 1.3 | 70.66 | 10.7 | 52.6 |  11 |  54090 |\n",
       "| Georgia |  4931 | 4091 | 2.0 | 68.54 | 13.9 | 40.6 |  60 |  58073 |\n",
       "| Hawaii |   868 | 4963 | 1.9 | 73.60 |  6.2 | 61.9 |   0 |   6425 |\n",
       "| Idaho |   813 | 4119 | 0.6 | 71.87 |  5.3 | 59.5 | 126 |  82677 |\n",
       "| Illinois | 11197 | 5107 | 0.9 | 70.14 | 10.3 | 52.6 | 127 |  55748 |\n",
       "| Indiana |  5313 | 4458 | 0.7 | 70.88 |  7.1 | 52.9 | 122 |  36097 |\n",
       "| Iowa |  2861 | 4628 | 0.5 | 72.56 |  2.3 | 59.0 | 140 |  55941 |\n",
       "| Kansas |  2280 | 4669 | 0.6 | 72.58 |  4.5 | 59.9 | 114 |  81787 |\n",
       "| Kentucky |  3387 | 3712 | 1.6 | 70.10 | 10.6 | 38.5 |  95 |  39650 |\n",
       "| Louisiana |  3806 | 3545 | 2.8 | 68.76 | 13.2 | 42.2 |  12 |  44930 |\n",
       "| Maine |  1058 | 3694 | 0.7 | 70.39 |  2.7 | 54.7 | 161 |  30920 |\n",
       "| Maryland |  4122 | 5299 | 0.9 | 70.22 |  8.5 | 52.3 | 101 |   9891 |\n",
       "| Massachusetts |  5814 | 4755 | 1.1 | 71.83 |  3.3 | 58.5 | 103 |   7826 |\n",
       "| Michigan |  9111 | 4751 | 0.9 | 70.63 | 11.1 | 52.8 | 125 |  56817 |\n",
       "| Minnesota |  3921 | 4675 | 0.6 | 72.96 |  2.3 | 57.6 | 160 |  79289 |\n",
       "| Mississippi |  2341 | 3098 | 2.4 | 68.09 | 12.5 | 41.0 |  50 |  47296 |\n",
       "| Missouri |  4767 | 4254 | 0.8 | 70.69 |  9.3 | 48.8 | 108 |  68995 |\n",
       "| Montana |   746 | 4347 | 0.6 | 70.56 |  5.0 | 59.2 | 155 | 145587 |\n",
       "| Nebraska |  1544 | 4508 | 0.6 | 72.60 |  2.9 | 59.3 | 139 |  76483 |\n",
       "| Nevada |   590 | 5149 | 0.5 | 69.03 | 11.5 | 65.2 | 188 | 109889 |\n",
       "| New Hampshire |   812 | 4281 | 0.7 | 71.23 |  3.3 | 57.6 | 174 |   9027 |\n",
       "| New Jersey |  7333 | 5237 | 1.1 | 70.93 |  5.2 | 52.5 | 115 |   7521 |\n",
       "| New Mexico |  1144 | 3601 | 2.2 | 70.32 |  9.7 | 55.2 | 120 | 121412 |\n",
       "| New York | 18076 | 4903 | 1.4 | 70.55 | 10.9 | 52.7 |  82 |  47831 |\n",
       "| North Carolina |  5441 | 3875 | 1.8 | 69.21 | 11.1 | 38.5 |  80 |  48798 |\n",
       "| North Dakota |   637 | 5087 | 0.8 | 72.78 |  1.4 | 50.3 | 186 |  69273 |\n",
       "| Ohio | 10735 | 4561 | 0.8 | 70.82 |  7.4 | 53.2 | 124 |  40975 |\n",
       "| Oklahoma |  2715 | 3983 | 1.1 | 71.42 |  6.4 | 51.6 |  82 |  68782 |\n",
       "| Oregon |  2284 | 4660 | 0.6 | 72.13 |  4.2 | 60.0 |  44 |  96184 |\n",
       "| Pennsylvania | 11860 | 4449 | 1.0 | 70.43 |  6.1 | 50.2 | 126 |  44966 |\n",
       "| Rhode Island |   931 | 4558 | 1.3 | 71.90 |  2.4 | 46.4 | 127 |   1049 |\n",
       "| South Carolina |  2816 | 3635 | 2.3 | 67.96 | 11.6 | 37.8 |  65 |  30225 |\n",
       "| South Dakota |   681 | 4167 | 0.5 | 72.08 |  1.7 | 53.3 | 172 |  75955 |\n",
       "| Tennessee |  4173 | 3821 | 1.7 | 70.11 | 11.0 | 41.8 |  70 |  41328 |\n",
       "| Texas | 12237 | 4188 | 2.2 | 70.90 | 12.2 | 47.4 |  35 | 262134 |\n",
       "| Utah |  1203 | 4022 | 0.6 | 72.90 |  4.5 | 67.3 | 137 |  82096 |\n",
       "| Vermont |   472 | 3907 | 0.6 | 71.64 |  5.5 | 57.1 | 168 |   9267 |\n",
       "| Virginia |  4981 | 4701 | 1.4 | 70.08 |  9.5 | 47.8 |  85 |  39780 |\n",
       "| Washington |  3559 | 4864 | 0.6 | 71.72 |  4.3 | 63.5 |  32 |  66570 |\n",
       "| West Virginia |  1799 | 3617 | 1.4 | 69.48 |  6.7 | 41.6 | 100 |  24070 |\n",
       "| Wisconsin |  4589 | 4468 | 0.7 | 72.48 |  3.0 | 54.5 | 149 |  54464 |\n",
       "| Wyoming |   376 | 4566 | 0.6 | 70.29 |  6.9 | 62.9 | 173 |  97203 |\n",
       "\n"
      ],
      "text/plain": [
       "               Population Income Illiteracy Life.Exp Murder HS.Grad Frost\n",
       "Alabama         3615      3624   2.1        69.05    15.1   41.3     20  \n",
       "Alaska           365      6315   1.5        69.31    11.3   66.7    152  \n",
       "Arizona         2212      4530   1.8        70.55     7.8   58.1     15  \n",
       "Arkansas        2110      3378   1.9        70.66    10.1   39.9     65  \n",
       "California     21198      5114   1.1        71.71    10.3   62.6     20  \n",
       "Colorado        2541      4884   0.7        72.06     6.8   63.9    166  \n",
       "Connecticut     3100      5348   1.1        72.48     3.1   56.0    139  \n",
       "Delaware         579      4809   0.9        70.06     6.2   54.6    103  \n",
       "Florida         8277      4815   1.3        70.66    10.7   52.6     11  \n",
       "Georgia         4931      4091   2.0        68.54    13.9   40.6     60  \n",
       "Hawaii           868      4963   1.9        73.60     6.2   61.9      0  \n",
       "Idaho            813      4119   0.6        71.87     5.3   59.5    126  \n",
       "Illinois       11197      5107   0.9        70.14    10.3   52.6    127  \n",
       "Indiana         5313      4458   0.7        70.88     7.1   52.9    122  \n",
       "Iowa            2861      4628   0.5        72.56     2.3   59.0    140  \n",
       "Kansas          2280      4669   0.6        72.58     4.5   59.9    114  \n",
       "Kentucky        3387      3712   1.6        70.10    10.6   38.5     95  \n",
       "Louisiana       3806      3545   2.8        68.76    13.2   42.2     12  \n",
       "Maine           1058      3694   0.7        70.39     2.7   54.7    161  \n",
       "Maryland        4122      5299   0.9        70.22     8.5   52.3    101  \n",
       "Massachusetts   5814      4755   1.1        71.83     3.3   58.5    103  \n",
       "Michigan        9111      4751   0.9        70.63    11.1   52.8    125  \n",
       "Minnesota       3921      4675   0.6        72.96     2.3   57.6    160  \n",
       "Mississippi     2341      3098   2.4        68.09    12.5   41.0     50  \n",
       "Missouri        4767      4254   0.8        70.69     9.3   48.8    108  \n",
       "Montana          746      4347   0.6        70.56     5.0   59.2    155  \n",
       "Nebraska        1544      4508   0.6        72.60     2.9   59.3    139  \n",
       "Nevada           590      5149   0.5        69.03    11.5   65.2    188  \n",
       "New Hampshire    812      4281   0.7        71.23     3.3   57.6    174  \n",
       "New Jersey      7333      5237   1.1        70.93     5.2   52.5    115  \n",
       "New Mexico      1144      3601   2.2        70.32     9.7   55.2    120  \n",
       "New York       18076      4903   1.4        70.55    10.9   52.7     82  \n",
       "North Carolina  5441      3875   1.8        69.21    11.1   38.5     80  \n",
       "North Dakota     637      5087   0.8        72.78     1.4   50.3    186  \n",
       "Ohio           10735      4561   0.8        70.82     7.4   53.2    124  \n",
       "Oklahoma        2715      3983   1.1        71.42     6.4   51.6     82  \n",
       "Oregon          2284      4660   0.6        72.13     4.2   60.0     44  \n",
       "Pennsylvania   11860      4449   1.0        70.43     6.1   50.2    126  \n",
       "Rhode Island     931      4558   1.3        71.90     2.4   46.4    127  \n",
       "South Carolina  2816      3635   2.3        67.96    11.6   37.8     65  \n",
       "South Dakota     681      4167   0.5        72.08     1.7   53.3    172  \n",
       "Tennessee       4173      3821   1.7        70.11    11.0   41.8     70  \n",
       "Texas          12237      4188   2.2        70.90    12.2   47.4     35  \n",
       "Utah            1203      4022   0.6        72.90     4.5   67.3    137  \n",
       "Vermont          472      3907   0.6        71.64     5.5   57.1    168  \n",
       "Virginia        4981      4701   1.4        70.08     9.5   47.8     85  \n",
       "Washington      3559      4864   0.6        71.72     4.3   63.5     32  \n",
       "West Virginia   1799      3617   1.4        69.48     6.7   41.6    100  \n",
       "Wisconsin       4589      4468   0.7        72.48     3.0   54.5    149  \n",
       "Wyoming          376      4566   0.6        70.29     6.9   62.9    173  \n",
       "               Area  \n",
       "Alabama         50708\n",
       "Alaska         566432\n",
       "Arizona        113417\n",
       "Arkansas        51945\n",
       "California     156361\n",
       "Colorado       103766\n",
       "Connecticut      4862\n",
       "Delaware         1982\n",
       "Florida         54090\n",
       "Georgia         58073\n",
       "Hawaii           6425\n",
       "Idaho           82677\n",
       "Illinois        55748\n",
       "Indiana         36097\n",
       "Iowa            55941\n",
       "Kansas          81787\n",
       "Kentucky        39650\n",
       "Louisiana       44930\n",
       "Maine           30920\n",
       "Maryland         9891\n",
       "Massachusetts    7826\n",
       "Michigan        56817\n",
       "Minnesota       79289\n",
       "Mississippi     47296\n",
       "Missouri        68995\n",
       "Montana        145587\n",
       "Nebraska        76483\n",
       "Nevada         109889\n",
       "New Hampshire    9027\n",
       "New Jersey       7521\n",
       "New Mexico     121412\n",
       "New York        47831\n",
       "North Carolina  48798\n",
       "North Dakota    69273\n",
       "Ohio            40975\n",
       "Oklahoma        68782\n",
       "Oregon          96184\n",
       "Pennsylvania    44966\n",
       "Rhode Island     1049\n",
       "South Carolina  30225\n",
       "South Dakota    75955\n",
       "Tennessee       41328\n",
       "Texas          262134\n",
       "Utah            82096\n",
       "Vermont          9267\n",
       "Virginia        39780\n",
       "Washington      66570\n",
       "West Virginia   24070\n",
       "Wisconsin       54464\n",
       "Wyoming         97203"
      ]
     },
     "metadata": {},
     "output_type": "display_data"
    }
   ],
   "source": [
    "st"
   ]
  },
  {
   "cell_type": "code",
   "execution_count": 83,
   "id": "bbca2937",
   "metadata": {},
   "outputs": [
    {
     "data": {
      "text/html": [
       "<style>\n",
       ".list-inline {list-style: none; margin:0; padding: 0}\n",
       ".list-inline>li {display: inline-block}\n",
       ".list-inline>li:not(:last-child)::after {content: \"\\00b7\"; padding: 0 .5ex}\n",
       "</style>\n",
       "<ol class=list-inline><li>'Population'</li><li>'Income'</li><li>'Illiteracy'</li><li>'Life.Exp'</li><li>'Murder'</li><li>'HS.Grad'</li><li>'Frost'</li><li>'Area'</li></ol>\n"
      ],
      "text/latex": [
       "\\begin{enumerate*}\n",
       "\\item 'Population'\n",
       "\\item 'Income'\n",
       "\\item 'Illiteracy'\n",
       "\\item 'Life.Exp'\n",
       "\\item 'Murder'\n",
       "\\item 'HS.Grad'\n",
       "\\item 'Frost'\n",
       "\\item 'Area'\n",
       "\\end{enumerate*}\n"
      ],
      "text/markdown": [
       "1. 'Population'\n",
       "2. 'Income'\n",
       "3. 'Illiteracy'\n",
       "4. 'Life.Exp'\n",
       "5. 'Murder'\n",
       "6. 'HS.Grad'\n",
       "7. 'Frost'\n",
       "8. 'Area'\n",
       "\n",
       "\n"
      ],
      "text/plain": [
       "[1] \"Population\" \"Income\"     \"Illiteracy\" \"Life.Exp\"   \"Murder\"    \n",
       "[6] \"HS.Grad\"    \"Frost\"      \"Area\"      "
      ]
     },
     "metadata": {},
     "output_type": "display_data"
    }
   ],
   "source": [
    "colnames(st)"
   ]
  },
  {
   "cell_type": "code",
   "execution_count": 84,
   "id": "d569a311",
   "metadata": {},
   "outputs": [
    {
     "data": {
      "text/html": [
       "<style>\n",
       ".list-inline {list-style: none; margin:0; padding: 0}\n",
       ".list-inline>li {display: inline-block}\n",
       ".list-inline>li:not(:last-child)::after {content: \"\\00b7\"; padding: 0 .5ex}\n",
       "</style>\n",
       "<ol class=list-inline><li>'Alabama'</li><li>'Alaska'</li><li>'Arizona'</li><li>'Arkansas'</li><li>'California'</li><li>'Colorado'</li><li>'Connecticut'</li><li>'Delaware'</li><li>'Florida'</li><li>'Georgia'</li><li>'Hawaii'</li><li>'Idaho'</li><li>'Illinois'</li><li>'Indiana'</li><li>'Iowa'</li><li>'Kansas'</li><li>'Kentucky'</li><li>'Louisiana'</li><li>'Maine'</li><li>'Maryland'</li><li>'Massachusetts'</li><li>'Michigan'</li><li>'Minnesota'</li><li>'Mississippi'</li><li>'Missouri'</li><li>'Montana'</li><li>'Nebraska'</li><li>'Nevada'</li><li>'New Hampshire'</li><li>'New Jersey'</li><li>'New Mexico'</li><li>'New York'</li><li>'North Carolina'</li><li>'North Dakota'</li><li>'Ohio'</li><li>'Oklahoma'</li><li>'Oregon'</li><li>'Pennsylvania'</li><li>'Rhode Island'</li><li>'South Carolina'</li><li>'South Dakota'</li><li>'Tennessee'</li><li>'Texas'</li><li>'Utah'</li><li>'Vermont'</li><li>'Virginia'</li><li>'Washington'</li><li>'West Virginia'</li><li>'Wisconsin'</li><li>'Wyoming'</li></ol>\n"
      ],
      "text/latex": [
       "\\begin{enumerate*}\n",
       "\\item 'Alabama'\n",
       "\\item 'Alaska'\n",
       "\\item 'Arizona'\n",
       "\\item 'Arkansas'\n",
       "\\item 'California'\n",
       "\\item 'Colorado'\n",
       "\\item 'Connecticut'\n",
       "\\item 'Delaware'\n",
       "\\item 'Florida'\n",
       "\\item 'Georgia'\n",
       "\\item 'Hawaii'\n",
       "\\item 'Idaho'\n",
       "\\item 'Illinois'\n",
       "\\item 'Indiana'\n",
       "\\item 'Iowa'\n",
       "\\item 'Kansas'\n",
       "\\item 'Kentucky'\n",
       "\\item 'Louisiana'\n",
       "\\item 'Maine'\n",
       "\\item 'Maryland'\n",
       "\\item 'Massachusetts'\n",
       "\\item 'Michigan'\n",
       "\\item 'Minnesota'\n",
       "\\item 'Mississippi'\n",
       "\\item 'Missouri'\n",
       "\\item 'Montana'\n",
       "\\item 'Nebraska'\n",
       "\\item 'Nevada'\n",
       "\\item 'New Hampshire'\n",
       "\\item 'New Jersey'\n",
       "\\item 'New Mexico'\n",
       "\\item 'New York'\n",
       "\\item 'North Carolina'\n",
       "\\item 'North Dakota'\n",
       "\\item 'Ohio'\n",
       "\\item 'Oklahoma'\n",
       "\\item 'Oregon'\n",
       "\\item 'Pennsylvania'\n",
       "\\item 'Rhode Island'\n",
       "\\item 'South Carolina'\n",
       "\\item 'South Dakota'\n",
       "\\item 'Tennessee'\n",
       "\\item 'Texas'\n",
       "\\item 'Utah'\n",
       "\\item 'Vermont'\n",
       "\\item 'Virginia'\n",
       "\\item 'Washington'\n",
       "\\item 'West Virginia'\n",
       "\\item 'Wisconsin'\n",
       "\\item 'Wyoming'\n",
       "\\end{enumerate*}\n"
      ],
      "text/markdown": [
       "1. 'Alabama'\n",
       "2. 'Alaska'\n",
       "3. 'Arizona'\n",
       "4. 'Arkansas'\n",
       "5. 'California'\n",
       "6. 'Colorado'\n",
       "7. 'Connecticut'\n",
       "8. 'Delaware'\n",
       "9. 'Florida'\n",
       "10. 'Georgia'\n",
       "11. 'Hawaii'\n",
       "12. 'Idaho'\n",
       "13. 'Illinois'\n",
       "14. 'Indiana'\n",
       "15. 'Iowa'\n",
       "16. 'Kansas'\n",
       "17. 'Kentucky'\n",
       "18. 'Louisiana'\n",
       "19. 'Maine'\n",
       "20. 'Maryland'\n",
       "21. 'Massachusetts'\n",
       "22. 'Michigan'\n",
       "23. 'Minnesota'\n",
       "24. 'Mississippi'\n",
       "25. 'Missouri'\n",
       "26. 'Montana'\n",
       "27. 'Nebraska'\n",
       "28. 'Nevada'\n",
       "29. 'New Hampshire'\n",
       "30. 'New Jersey'\n",
       "31. 'New Mexico'\n",
       "32. 'New York'\n",
       "33. 'North Carolina'\n",
       "34. 'North Dakota'\n",
       "35. 'Ohio'\n",
       "36. 'Oklahoma'\n",
       "37. 'Oregon'\n",
       "38. 'Pennsylvania'\n",
       "39. 'Rhode Island'\n",
       "40. 'South Carolina'\n",
       "41. 'South Dakota'\n",
       "42. 'Tennessee'\n",
       "43. 'Texas'\n",
       "44. 'Utah'\n",
       "45. 'Vermont'\n",
       "46. 'Virginia'\n",
       "47. 'Washington'\n",
       "48. 'West Virginia'\n",
       "49. 'Wisconsin'\n",
       "50. 'Wyoming'\n",
       "\n",
       "\n"
      ],
      "text/plain": [
       " [1] \"Alabama\"        \"Alaska\"         \"Arizona\"        \"Arkansas\"      \n",
       " [5] \"California\"     \"Colorado\"       \"Connecticut\"    \"Delaware\"      \n",
       " [9] \"Florida\"        \"Georgia\"        \"Hawaii\"         \"Idaho\"         \n",
       "[13] \"Illinois\"       \"Indiana\"        \"Iowa\"           \"Kansas\"        \n",
       "[17] \"Kentucky\"       \"Louisiana\"      \"Maine\"          \"Maryland\"      \n",
       "[21] \"Massachusetts\"  \"Michigan\"       \"Minnesota\"      \"Mississippi\"   \n",
       "[25] \"Missouri\"       \"Montana\"        \"Nebraska\"       \"Nevada\"        \n",
       "[29] \"New Hampshire\"  \"New Jersey\"     \"New Mexico\"     \"New York\"      \n",
       "[33] \"North Carolina\" \"North Dakota\"   \"Ohio\"           \"Oklahoma\"      \n",
       "[37] \"Oregon\"         \"Pennsylvania\"   \"Rhode Island\"   \"South Carolina\"\n",
       "[41] \"South Dakota\"   \"Tennessee\"      \"Texas\"          \"Utah\"          \n",
       "[45] \"Vermont\"        \"Virginia\"       \"Washington\"     \"West Virginia\" \n",
       "[49] \"Wisconsin\"      \"Wyoming\"       "
      ]
     },
     "metadata": {},
     "output_type": "display_data"
    }
   ],
   "source": [
    "rownames(st)"
   ]
  },
  {
   "cell_type": "code",
   "execution_count": 85,
   "id": "7ab663e6",
   "metadata": {},
   "outputs": [
    {
     "data": {
      "text/html": [
       "<style>\n",
       ".list-inline {list-style: none; margin:0; padding: 0}\n",
       ".list-inline>li {display: inline-block}\n",
       ".list-inline>li:not(:last-child)::after {content: \"\\00b7\"; padding: 0 .5ex}\n",
       "</style>\n",
       "<ol class=list-inline><li>50</li><li>8</li></ol>\n"
      ],
      "text/latex": [
       "\\begin{enumerate*}\n",
       "\\item 50\n",
       "\\item 8\n",
       "\\end{enumerate*}\n"
      ],
      "text/markdown": [
       "1. 50\n",
       "2. 8\n",
       "\n",
       "\n"
      ],
      "text/plain": [
       "[1] 50  8"
      ]
     },
     "metadata": {},
     "output_type": "display_data"
    }
   ],
   "source": [
    "dim(st)"
   ]
  },
  {
   "cell_type": "code",
   "execution_count": 86,
   "id": "fb2fd471",
   "metadata": {},
   "outputs": [
    {
     "name": "stdout",
     "output_type": "stream",
     "text": [
      "'data.frame':\t50 obs. of  8 variables:\n",
      " $ Population: num  3615 365 2212 2110 21198 ...\n",
      " $ Income    : num  3624 6315 4530 3378 5114 ...\n",
      " $ Illiteracy: num  2.1 1.5 1.8 1.9 1.1 0.7 1.1 0.9 1.3 2 ...\n",
      " $ Life.Exp  : num  69 69.3 70.5 70.7 71.7 ...\n",
      " $ Murder    : num  15.1 11.3 7.8 10.1 10.3 6.8 3.1 6.2 10.7 13.9 ...\n",
      " $ HS.Grad   : num  41.3 66.7 58.1 39.9 62.6 63.9 56 54.6 52.6 40.6 ...\n",
      " $ Frost     : num  20 152 15 65 20 166 139 103 11 60 ...\n",
      " $ Area      : num  50708 566432 113417 51945 156361 ...\n"
     ]
    }
   ],
   "source": [
    "str(st)"
   ]
  },
  {
   "cell_type": "code",
   "execution_count": 87,
   "id": "12017438",
   "metadata": {},
   "outputs": [
    {
     "data": {
      "text/html": [
       "<style>\n",
       ".dl-inline {width: auto; margin:0; padding: 0}\n",
       ".dl-inline>dt, .dl-inline>dd {float: none; width: auto; display: inline-block}\n",
       ".dl-inline>dt::after {content: \":\\0020\"; padding-right: .5ex}\n",
       ".dl-inline>dt:not(:first-of-type) {padding-left: .5ex}\n",
       "</style><dl class=dl-inline><dt>Alabama</dt><dd>58094.55</dd><dt>Alaska</dt><dd>573412.81</dd><dt>Arizona</dt><dd>120312.25</dd><dt>Arkansas</dt><dd>57620.56</dd><dt>California</dt><dd>182838.71</dd><dt>Colorado</dt><dd>111500.46</dd><dt>Connecticut</dt><dd>13581.68</dd><dt>Delaware</dt><dd>7604.76</dd><dt>Florida</dt><dd>67328.26</dd><dt>Georgia</dt><dd>67280.04</dd><dt>Hawaii</dt><dd>12399.6</dd><dt>Idaho</dt><dd>87872.27</dd><dt>Illinois</dt><dd>72312.94</dd><dt>Indiana</dt><dd>46121.58</dd><dt>Iowa</dt><dd>63704.36</dd><dt>Kansas</dt><dd>88987.58</dd><dt>Kentucky</dt><dd>46964.8</dd><dt>Louisiana</dt><dd>52419.96</dd><dt>Maine</dt><dd>35961.49</dd><dt>Maryland</dt><dd>19544.92</dd><dt>Massachusetts</dt><dd>18632.73</dd><dt>Michigan</dt><dd>70939.43</dd><dt>Minnesota</dt><dd>88178.46</dd><dt>Mississippi</dt><dd>52908.99</dd><dt>Missouri</dt><dd>78253.59</dd><dt>Montana</dt><dd>150970.36</dd><dt>Nebraska</dt><dd>82809.4</dd><dt>Nevada</dt><dd>115962.23</dd><dt>New Hampshire</dt><dd>14426.83</dd><dt>New Jersey</dt><dd>20335.73</dd><dt>New Mexico</dt><dd>126414.42</dd><dt>New York</dt><dd>71027.55</dd><dt>North Carolina</dt><dd>58314.61</dd><dt>North Dakota</dt><dd>75308.28</dd><dt>Ohio</dt><dd>56527.22</dd><dt>Oklahoma</dt><dd>75692.52</dd><dt>Oregon</dt><dd>103308.93</dd><dt>Pennsylvania</dt><dd>61528.73</dd><dt>Rhode Island</dt><dd>6787</dd><dt>South Carolina</dt><dd>36860.66</dd><dt>South Dakota</dt><dd>81102.58</dd><dt>Tennessee</dt><dd>49516.61</dd><dt>Texas</dt><dd>278726.7</dd><dt>Utah</dt><dd>87603.3</dd><dt>Vermont</dt><dd>13948.84</dd><dt>Virginia</dt><dd>49675.78</dd><dt>Washington</dt><dd>75165.12</dd><dt>West Virginia</dt><dd>29705.18</dd><dt>Wisconsin</dt><dd>63800.68</dd><dt>Wyoming</dt><dd>102458.69</dd></dl>\n"
      ],
      "text/latex": [
       "\\begin{description*}\n",
       "\\item[Alabama] 58094.55\n",
       "\\item[Alaska] 573412.81\n",
       "\\item[Arizona] 120312.25\n",
       "\\item[Arkansas] 57620.56\n",
       "\\item[California] 182838.71\n",
       "\\item[Colorado] 111500.46\n",
       "\\item[Connecticut] 13581.68\n",
       "\\item[Delaware] 7604.76\n",
       "\\item[Florida] 67328.26\n",
       "\\item[Georgia] 67280.04\n",
       "\\item[Hawaii] 12399.6\n",
       "\\item[Idaho] 87872.27\n",
       "\\item[Illinois] 72312.94\n",
       "\\item[Indiana] 46121.58\n",
       "\\item[Iowa] 63704.36\n",
       "\\item[Kansas] 88987.58\n",
       "\\item[Kentucky] 46964.8\n",
       "\\item[Louisiana] 52419.96\n",
       "\\item[Maine] 35961.49\n",
       "\\item[Maryland] 19544.92\n",
       "\\item[Massachusetts] 18632.73\n",
       "\\item[Michigan] 70939.43\n",
       "\\item[Minnesota] 88178.46\n",
       "\\item[Mississippi] 52908.99\n",
       "\\item[Missouri] 78253.59\n",
       "\\item[Montana] 150970.36\n",
       "\\item[Nebraska] 82809.4\n",
       "\\item[Nevada] 115962.23\n",
       "\\item[New Hampshire] 14426.83\n",
       "\\item[New Jersey] 20335.73\n",
       "\\item[New Mexico] 126414.42\n",
       "\\item[New York] 71027.55\n",
       "\\item[North Carolina] 58314.61\n",
       "\\item[North Dakota] 75308.28\n",
       "\\item[Ohio] 56527.22\n",
       "\\item[Oklahoma] 75692.52\n",
       "\\item[Oregon] 103308.93\n",
       "\\item[Pennsylvania] 61528.73\n",
       "\\item[Rhode Island] 6787\n",
       "\\item[South Carolina] 36860.66\n",
       "\\item[South Dakota] 81102.58\n",
       "\\item[Tennessee] 49516.61\n",
       "\\item[Texas] 278726.7\n",
       "\\item[Utah] 87603.3\n",
       "\\item[Vermont] 13948.84\n",
       "\\item[Virginia] 49675.78\n",
       "\\item[Washington] 75165.12\n",
       "\\item[West Virginia] 29705.18\n",
       "\\item[Wisconsin] 63800.68\n",
       "\\item[Wyoming] 102458.69\n",
       "\\end{description*}\n"
      ],
      "text/markdown": [
       "Alabama\n",
       ":   58094.55Alaska\n",
       ":   573412.81Arizona\n",
       ":   120312.25Arkansas\n",
       ":   57620.56California\n",
       ":   182838.71Colorado\n",
       ":   111500.46Connecticut\n",
       ":   13581.68Delaware\n",
       ":   7604.76Florida\n",
       ":   67328.26Georgia\n",
       ":   67280.04Hawaii\n",
       ":   12399.6Idaho\n",
       ":   87872.27Illinois\n",
       ":   72312.94Indiana\n",
       ":   46121.58Iowa\n",
       ":   63704.36Kansas\n",
       ":   88987.58Kentucky\n",
       ":   46964.8Louisiana\n",
       ":   52419.96Maine\n",
       ":   35961.49Maryland\n",
       ":   19544.92Massachusetts\n",
       ":   18632.73Michigan\n",
       ":   70939.43Minnesota\n",
       ":   88178.46Mississippi\n",
       ":   52908.99Missouri\n",
       ":   78253.59Montana\n",
       ":   150970.36Nebraska\n",
       ":   82809.4Nevada\n",
       ":   115962.23New Hampshire\n",
       ":   14426.83New Jersey\n",
       ":   20335.73New Mexico\n",
       ":   126414.42New York\n",
       ":   71027.55North Carolina\n",
       ":   58314.61North Dakota\n",
       ":   75308.28Ohio\n",
       ":   56527.22Oklahoma\n",
       ":   75692.52Oregon\n",
       ":   103308.93Pennsylvania\n",
       ":   61528.73Rhode Island\n",
       ":   6787South Carolina\n",
       ":   36860.66South Dakota\n",
       ":   81102.58Tennessee\n",
       ":   49516.61Texas\n",
       ":   278726.7Utah\n",
       ":   87603.3Vermont\n",
       ":   13948.84Virginia\n",
       ":   49675.78Washington\n",
       ":   75165.12West Virginia\n",
       ":   29705.18Wisconsin\n",
       ":   63800.68Wyoming\n",
       ":   102458.69\n",
       "\n"
      ],
      "text/plain": [
       "       Alabama         Alaska        Arizona       Arkansas     California \n",
       "      58094.55      573412.81      120312.25       57620.56      182838.71 \n",
       "      Colorado    Connecticut       Delaware        Florida        Georgia \n",
       "     111500.46       13581.68        7604.76       67328.26       67280.04 \n",
       "        Hawaii          Idaho       Illinois        Indiana           Iowa \n",
       "      12399.60       87872.27       72312.94       46121.58       63704.36 \n",
       "        Kansas       Kentucky      Louisiana          Maine       Maryland \n",
       "      88987.58       46964.80       52419.96       35961.49       19544.92 \n",
       " Massachusetts       Michigan      Minnesota    Mississippi       Missouri \n",
       "      18632.73       70939.43       88178.46       52908.99       78253.59 \n",
       "       Montana       Nebraska         Nevada  New Hampshire     New Jersey \n",
       "     150970.36       82809.40      115962.23       14426.83       20335.73 \n",
       "    New Mexico       New York North Carolina   North Dakota           Ohio \n",
       "     126414.42       71027.55       58314.61       75308.28       56527.22 \n",
       "      Oklahoma         Oregon   Pennsylvania   Rhode Island South Carolina \n",
       "      75692.52      103308.93       61528.73        6787.00       36860.66 \n",
       "  South Dakota      Tennessee          Texas           Utah        Vermont \n",
       "      81102.58       49516.61      278726.70       87603.30       13948.84 \n",
       "      Virginia     Washington  West Virginia      Wisconsin        Wyoming \n",
       "      49675.78       75165.12       29705.18       63800.68      102458.69 "
      ]
     },
     "metadata": {},
     "output_type": "display_data"
    }
   ],
   "source": [
    "rowSums(st)"
   ]
  },
  {
   "cell_type": "code",
   "execution_count": 88,
   "id": "87dc501c",
   "metadata": {},
   "outputs": [
    {
     "data": {
      "text/html": [
       "<style>\n",
       ".dl-inline {width: auto; margin:0; padding: 0}\n",
       ".dl-inline>dt, .dl-inline>dd {float: none; width: auto; display: inline-block}\n",
       ".dl-inline>dt::after {content: \":\\0020\"; padding-right: .5ex}\n",
       ".dl-inline>dt:not(:first-of-type) {padding-left: .5ex}\n",
       "</style><dl class=dl-inline><dt>Alabama</dt><dd>7261.81875</dd><dt>Alaska</dt><dd>71676.60125</dd><dt>Arizona</dt><dd>15039.03125</dd><dt>Arkansas</dt><dd>7202.57</dd><dt>California</dt><dd>22854.83875</dd><dt>Colorado</dt><dd>13937.5575</dd><dt>Connecticut</dt><dd>1697.71</dd><dt>Delaware</dt><dd>950.595</dd><dt>Florida</dt><dd>8416.0325</dd><dt>Georgia</dt><dd>8410.005</dd><dt>Hawaii</dt><dd>1549.95</dd><dt>Idaho</dt><dd>10984.03375</dd><dt>Illinois</dt><dd>9039.1175</dd><dt>Indiana</dt><dd>5765.1975</dd><dt>Iowa</dt><dd>7963.045</dd><dt>Kansas</dt><dd>11123.4475</dd><dt>Kentucky</dt><dd>5870.6</dd><dt>Louisiana</dt><dd>6552.495</dd><dt>Maine</dt><dd>4495.18625</dd><dt>Maryland</dt><dd>2443.115</dd><dt>Massachusetts</dt><dd>2329.09125</dd><dt>Michigan</dt><dd>8867.42875</dd><dt>Minnesota</dt><dd>11022.3075</dd><dt>Mississippi</dt><dd>6613.62375</dd><dt>Missouri</dt><dd>9781.69875</dd><dt>Montana</dt><dd>18871.295</dd><dt>Nebraska</dt><dd>10351.175</dd><dt>Nevada</dt><dd>14495.27875</dd><dt>New Hampshire</dt><dd>1803.35375</dd><dt>New Jersey</dt><dd>2541.96625</dd><dt>New Mexico</dt><dd>15801.8025</dd><dt>New York</dt><dd>8878.44375</dd><dt>North Carolina</dt><dd>7289.32625</dd><dt>North Dakota</dt><dd>9413.535</dd><dt>Ohio</dt><dd>7065.9025</dd><dt>Oklahoma</dt><dd>9461.565</dd><dt>Oregon</dt><dd>12913.61625</dd><dt>Pennsylvania</dt><dd>7691.09125</dd><dt>Rhode Island</dt><dd>848.375</dd><dt>South Carolina</dt><dd>4607.5825</dd><dt>South Dakota</dt><dd>10137.8225</dd><dt>Tennessee</dt><dd>6189.57625</dd><dt>Texas</dt><dd>34840.8375</dd><dt>Utah</dt><dd>10950.4125</dd><dt>Vermont</dt><dd>1743.605</dd><dt>Virginia</dt><dd>6209.4725</dd><dt>Washington</dt><dd>9395.64</dd><dt>West Virginia</dt><dd>3713.1475</dd><dt>Wisconsin</dt><dd>7975.085</dd><dt>Wyoming</dt><dd>12807.33625</dd></dl>\n"
      ],
      "text/latex": [
       "\\begin{description*}\n",
       "\\item[Alabama] 7261.81875\n",
       "\\item[Alaska] 71676.60125\n",
       "\\item[Arizona] 15039.03125\n",
       "\\item[Arkansas] 7202.57\n",
       "\\item[California] 22854.83875\n",
       "\\item[Colorado] 13937.5575\n",
       "\\item[Connecticut] 1697.71\n",
       "\\item[Delaware] 950.595\n",
       "\\item[Florida] 8416.0325\n",
       "\\item[Georgia] 8410.005\n",
       "\\item[Hawaii] 1549.95\n",
       "\\item[Idaho] 10984.03375\n",
       "\\item[Illinois] 9039.1175\n",
       "\\item[Indiana] 5765.1975\n",
       "\\item[Iowa] 7963.045\n",
       "\\item[Kansas] 11123.4475\n",
       "\\item[Kentucky] 5870.6\n",
       "\\item[Louisiana] 6552.495\n",
       "\\item[Maine] 4495.18625\n",
       "\\item[Maryland] 2443.115\n",
       "\\item[Massachusetts] 2329.09125\n",
       "\\item[Michigan] 8867.42875\n",
       "\\item[Minnesota] 11022.3075\n",
       "\\item[Mississippi] 6613.62375\n",
       "\\item[Missouri] 9781.69875\n",
       "\\item[Montana] 18871.295\n",
       "\\item[Nebraska] 10351.175\n",
       "\\item[Nevada] 14495.27875\n",
       "\\item[New Hampshire] 1803.35375\n",
       "\\item[New Jersey] 2541.96625\n",
       "\\item[New Mexico] 15801.8025\n",
       "\\item[New York] 8878.44375\n",
       "\\item[North Carolina] 7289.32625\n",
       "\\item[North Dakota] 9413.535\n",
       "\\item[Ohio] 7065.9025\n",
       "\\item[Oklahoma] 9461.565\n",
       "\\item[Oregon] 12913.61625\n",
       "\\item[Pennsylvania] 7691.09125\n",
       "\\item[Rhode Island] 848.375\n",
       "\\item[South Carolina] 4607.5825\n",
       "\\item[South Dakota] 10137.8225\n",
       "\\item[Tennessee] 6189.57625\n",
       "\\item[Texas] 34840.8375\n",
       "\\item[Utah] 10950.4125\n",
       "\\item[Vermont] 1743.605\n",
       "\\item[Virginia] 6209.4725\n",
       "\\item[Washington] 9395.64\n",
       "\\item[West Virginia] 3713.1475\n",
       "\\item[Wisconsin] 7975.085\n",
       "\\item[Wyoming] 12807.33625\n",
       "\\end{description*}\n"
      ],
      "text/markdown": [
       "Alabama\n",
       ":   7261.81875Alaska\n",
       ":   71676.60125Arizona\n",
       ":   15039.03125Arkansas\n",
       ":   7202.57California\n",
       ":   22854.83875Colorado\n",
       ":   13937.5575Connecticut\n",
       ":   1697.71Delaware\n",
       ":   950.595Florida\n",
       ":   8416.0325Georgia\n",
       ":   8410.005Hawaii\n",
       ":   1549.95Idaho\n",
       ":   10984.03375Illinois\n",
       ":   9039.1175Indiana\n",
       ":   5765.1975Iowa\n",
       ":   7963.045Kansas\n",
       ":   11123.4475Kentucky\n",
       ":   5870.6Louisiana\n",
       ":   6552.495Maine\n",
       ":   4495.18625Maryland\n",
       ":   2443.115Massachusetts\n",
       ":   2329.09125Michigan\n",
       ":   8867.42875Minnesota\n",
       ":   11022.3075Mississippi\n",
       ":   6613.62375Missouri\n",
       ":   9781.69875Montana\n",
       ":   18871.295Nebraska\n",
       ":   10351.175Nevada\n",
       ":   14495.27875New Hampshire\n",
       ":   1803.35375New Jersey\n",
       ":   2541.96625New Mexico\n",
       ":   15801.8025New York\n",
       ":   8878.44375North Carolina\n",
       ":   7289.32625North Dakota\n",
       ":   9413.535Ohio\n",
       ":   7065.9025Oklahoma\n",
       ":   9461.565Oregon\n",
       ":   12913.61625Pennsylvania\n",
       ":   7691.09125Rhode Island\n",
       ":   848.375South Carolina\n",
       ":   4607.5825South Dakota\n",
       ":   10137.8225Tennessee\n",
       ":   6189.57625Texas\n",
       ":   34840.8375Utah\n",
       ":   10950.4125Vermont\n",
       ":   1743.605Virginia\n",
       ":   6209.4725Washington\n",
       ":   9395.64West Virginia\n",
       ":   3713.1475Wisconsin\n",
       ":   7975.085Wyoming\n",
       ":   12807.33625\n",
       "\n"
      ],
      "text/plain": [
       "       Alabama         Alaska        Arizona       Arkansas     California \n",
       "      7261.819      71676.601      15039.031       7202.570      22854.839 \n",
       "      Colorado    Connecticut       Delaware        Florida        Georgia \n",
       "     13937.558       1697.710        950.595       8416.032       8410.005 \n",
       "        Hawaii          Idaho       Illinois        Indiana           Iowa \n",
       "      1549.950      10984.034       9039.118       5765.198       7963.045 \n",
       "        Kansas       Kentucky      Louisiana          Maine       Maryland \n",
       "     11123.448       5870.600       6552.495       4495.186       2443.115 \n",
       " Massachusetts       Michigan      Minnesota    Mississippi       Missouri \n",
       "      2329.091       8867.429      11022.308       6613.624       9781.699 \n",
       "       Montana       Nebraska         Nevada  New Hampshire     New Jersey \n",
       "     18871.295      10351.175      14495.279       1803.354       2541.966 \n",
       "    New Mexico       New York North Carolina   North Dakota           Ohio \n",
       "     15801.802       8878.444       7289.326       9413.535       7065.903 \n",
       "      Oklahoma         Oregon   Pennsylvania   Rhode Island South Carolina \n",
       "      9461.565      12913.616       7691.091        848.375       4607.583 \n",
       "  South Dakota      Tennessee          Texas           Utah        Vermont \n",
       "     10137.823       6189.576      34840.838      10950.413       1743.605 \n",
       "      Virginia     Washington  West Virginia      Wisconsin        Wyoming \n",
       "      6209.472       9395.640       3713.148       7975.085      12807.336 "
      ]
     },
     "metadata": {},
     "output_type": "display_data"
    }
   ],
   "source": [
    "rowMeans(st)"
   ]
  },
  {
   "cell_type": "code",
   "execution_count": 89,
   "id": "ba53c9a3",
   "metadata": {},
   "outputs": [
    {
     "data": {
      "text/html": [
       "<style>\n",
       ".dl-inline {width: auto; margin:0; padding: 0}\n",
       ".dl-inline>dt, .dl-inline>dd {float: none; width: auto; display: inline-block}\n",
       ".dl-inline>dt::after {content: \":\\0020\"; padding-right: .5ex}\n",
       ".dl-inline>dt:not(:first-of-type) {padding-left: .5ex}\n",
       "</style><dl class=dl-inline><dt>Population</dt><dd>212321</dd><dt>Income</dt><dd>221790</dd><dt>Illiteracy</dt><dd>58.5</dd><dt>Life.Exp</dt><dd>3543.93</dd><dt>Murder</dt><dd>368.9</dd><dt>HS.Grad</dt><dd>2655.4</dd><dt>Frost</dt><dd>5223</dd><dt>Area</dt><dd>3536794</dd></dl>\n"
      ],
      "text/latex": [
       "\\begin{description*}\n",
       "\\item[Population] 212321\n",
       "\\item[Income] 221790\n",
       "\\item[Illiteracy] 58.5\n",
       "\\item[Life.Exp] 3543.93\n",
       "\\item[Murder] 368.9\n",
       "\\item[HS.Grad] 2655.4\n",
       "\\item[Frost] 5223\n",
       "\\item[Area] 3536794\n",
       "\\end{description*}\n"
      ],
      "text/markdown": [
       "Population\n",
       ":   212321Income\n",
       ":   221790Illiteracy\n",
       ":   58.5Life.Exp\n",
       ":   3543.93Murder\n",
       ":   368.9HS.Grad\n",
       ":   2655.4Frost\n",
       ":   5223Area\n",
       ":   3536794\n",
       "\n"
      ],
      "text/plain": [
       "Population     Income Illiteracy   Life.Exp     Murder    HS.Grad      Frost \n",
       " 212321.00  221790.00      58.50    3543.93     368.90    2655.40    5223.00 \n",
       "      Area \n",
       "3536794.00 "
      ]
     },
     "metadata": {},
     "output_type": "display_data"
    }
   ],
   "source": [
    "colSums(st)"
   ]
  },
  {
   "cell_type": "code",
   "execution_count": 90,
   "id": "e8f09b98",
   "metadata": {},
   "outputs": [
    {
     "data": {
      "text/html": [
       "<style>\n",
       ".dl-inline {width: auto; margin:0; padding: 0}\n",
       ".dl-inline>dt, .dl-inline>dd {float: none; width: auto; display: inline-block}\n",
       ".dl-inline>dt::after {content: \":\\0020\"; padding-right: .5ex}\n",
       ".dl-inline>dt:not(:first-of-type) {padding-left: .5ex}\n",
       "</style><dl class=dl-inline><dt>Population</dt><dd>4246.42</dd><dt>Income</dt><dd>4435.8</dd><dt>Illiteracy</dt><dd>1.17</dd><dt>Life.Exp</dt><dd>70.8786</dd><dt>Murder</dt><dd>7.378</dd><dt>HS.Grad</dt><dd>53.108</dd><dt>Frost</dt><dd>104.46</dd><dt>Area</dt><dd>70735.88</dd></dl>\n"
      ],
      "text/latex": [
       "\\begin{description*}\n",
       "\\item[Population] 4246.42\n",
       "\\item[Income] 4435.8\n",
       "\\item[Illiteracy] 1.17\n",
       "\\item[Life.Exp] 70.8786\n",
       "\\item[Murder] 7.378\n",
       "\\item[HS.Grad] 53.108\n",
       "\\item[Frost] 104.46\n",
       "\\item[Area] 70735.88\n",
       "\\end{description*}\n"
      ],
      "text/markdown": [
       "Population\n",
       ":   4246.42Income\n",
       ":   4435.8Illiteracy\n",
       ":   1.17Life.Exp\n",
       ":   70.8786Murder\n",
       ":   7.378HS.Grad\n",
       ":   53.108Frost\n",
       ":   104.46Area\n",
       ":   70735.88\n",
       "\n"
      ],
      "text/plain": [
       "Population     Income Illiteracy   Life.Exp     Murder    HS.Grad      Frost \n",
       " 4246.4200  4435.8000     1.1700    70.8786     7.3780    53.1080   104.4600 \n",
       "      Area \n",
       "70735.8800 "
      ]
     },
     "metadata": {},
     "output_type": "display_data"
    }
   ],
   "source": [
    "colMeans(st)"
   ]
  },
  {
   "cell_type": "code",
   "execution_count": 91,
   "id": "fad50a14",
   "metadata": {},
   "outputs": [
    {
     "data": {
      "text/html": [
       "<table class=\"dataframe\">\n",
       "<caption>A data.frame: 1 × 8</caption>\n",
       "<thead>\n",
       "\t<tr><th></th><th scope=col>Population</th><th scope=col>Income</th><th scope=col>Illiteracy</th><th scope=col>Life.Exp</th><th scope=col>Murder</th><th scope=col>HS.Grad</th><th scope=col>Frost</th><th scope=col>Area</th></tr>\n",
       "\t<tr><th></th><th scope=col>&lt;dbl&gt;</th><th scope=col>&lt;dbl&gt;</th><th scope=col>&lt;dbl&gt;</th><th scope=col>&lt;dbl&gt;</th><th scope=col>&lt;dbl&gt;</th><th scope=col>&lt;dbl&gt;</th><th scope=col>&lt;dbl&gt;</th><th scope=col>&lt;dbl&gt;</th></tr>\n",
       "</thead>\n",
       "<tbody>\n",
       "\t<tr><th scope=row>Florida</th><td>8277</td><td>4815</td><td>1.3</td><td>70.66</td><td>10.7</td><td>52.6</td><td>11</td><td>54090</td></tr>\n",
       "</tbody>\n",
       "</table>\n"
      ],
      "text/latex": [
       "A data.frame: 1 × 8\n",
       "\\begin{tabular}{r|llllllll}\n",
       "  & Population & Income & Illiteracy & Life.Exp & Murder & HS.Grad & Frost & Area\\\\\n",
       "  & <dbl> & <dbl> & <dbl> & <dbl> & <dbl> & <dbl> & <dbl> & <dbl>\\\\\n",
       "\\hline\n",
       "\tFlorida & 8277 & 4815 & 1.3 & 70.66 & 10.7 & 52.6 & 11 & 54090\\\\\n",
       "\\end{tabular}\n"
      ],
      "text/markdown": [
       "\n",
       "A data.frame: 1 × 8\n",
       "\n",
       "| <!--/--> | Population &lt;dbl&gt; | Income &lt;dbl&gt; | Illiteracy &lt;dbl&gt; | Life.Exp &lt;dbl&gt; | Murder &lt;dbl&gt; | HS.Grad &lt;dbl&gt; | Frost &lt;dbl&gt; | Area &lt;dbl&gt; |\n",
       "|---|---|---|---|---|---|---|---|---|\n",
       "| Florida | 8277 | 4815 | 1.3 | 70.66 | 10.7 | 52.6 | 11 | 54090 |\n",
       "\n"
      ],
      "text/plain": [
       "        Population Income Illiteracy Life.Exp Murder HS.Grad Frost Area \n",
       "Florida 8277       4815   1.3        70.66    10.7   52.6    11    54090"
      ]
     },
     "metadata": {},
     "output_type": "display_data"
    }
   ],
   "source": [
    "st['Florida', ]"
   ]
  },
  {
   "cell_type": "code",
   "execution_count": 92,
   "id": "9b0a9a78",
   "metadata": {},
   "outputs": [
    {
     "data": {
      "text/html": [
       "<table class=\"dataframe\">\n",
       "<caption>A data.frame: 50 × 1</caption>\n",
       "<thead>\n",
       "\t<tr><th></th><th scope=col>Income</th></tr>\n",
       "\t<tr><th></th><th scope=col>&lt;dbl&gt;</th></tr>\n",
       "</thead>\n",
       "<tbody>\n",
       "\t<tr><th scope=row>Alabama</th><td>3624</td></tr>\n",
       "\t<tr><th scope=row>Alaska</th><td>6315</td></tr>\n",
       "\t<tr><th scope=row>Arizona</th><td>4530</td></tr>\n",
       "\t<tr><th scope=row>Arkansas</th><td>3378</td></tr>\n",
       "\t<tr><th scope=row>California</th><td>5114</td></tr>\n",
       "\t<tr><th scope=row>Colorado</th><td>4884</td></tr>\n",
       "\t<tr><th scope=row>Connecticut</th><td>5348</td></tr>\n",
       "\t<tr><th scope=row>Delaware</th><td>4809</td></tr>\n",
       "\t<tr><th scope=row>Florida</th><td>4815</td></tr>\n",
       "\t<tr><th scope=row>Georgia</th><td>4091</td></tr>\n",
       "\t<tr><th scope=row>Hawaii</th><td>4963</td></tr>\n",
       "\t<tr><th scope=row>Idaho</th><td>4119</td></tr>\n",
       "\t<tr><th scope=row>Illinois</th><td>5107</td></tr>\n",
       "\t<tr><th scope=row>Indiana</th><td>4458</td></tr>\n",
       "\t<tr><th scope=row>Iowa</th><td>4628</td></tr>\n",
       "\t<tr><th scope=row>Kansas</th><td>4669</td></tr>\n",
       "\t<tr><th scope=row>Kentucky</th><td>3712</td></tr>\n",
       "\t<tr><th scope=row>Louisiana</th><td>3545</td></tr>\n",
       "\t<tr><th scope=row>Maine</th><td>3694</td></tr>\n",
       "\t<tr><th scope=row>Maryland</th><td>5299</td></tr>\n",
       "\t<tr><th scope=row>Massachusetts</th><td>4755</td></tr>\n",
       "\t<tr><th scope=row>Michigan</th><td>4751</td></tr>\n",
       "\t<tr><th scope=row>Minnesota</th><td>4675</td></tr>\n",
       "\t<tr><th scope=row>Mississippi</th><td>3098</td></tr>\n",
       "\t<tr><th scope=row>Missouri</th><td>4254</td></tr>\n",
       "\t<tr><th scope=row>Montana</th><td>4347</td></tr>\n",
       "\t<tr><th scope=row>Nebraska</th><td>4508</td></tr>\n",
       "\t<tr><th scope=row>Nevada</th><td>5149</td></tr>\n",
       "\t<tr><th scope=row>New Hampshire</th><td>4281</td></tr>\n",
       "\t<tr><th scope=row>New Jersey</th><td>5237</td></tr>\n",
       "\t<tr><th scope=row>New Mexico</th><td>3601</td></tr>\n",
       "\t<tr><th scope=row>New York</th><td>4903</td></tr>\n",
       "\t<tr><th scope=row>North Carolina</th><td>3875</td></tr>\n",
       "\t<tr><th scope=row>North Dakota</th><td>5087</td></tr>\n",
       "\t<tr><th scope=row>Ohio</th><td>4561</td></tr>\n",
       "\t<tr><th scope=row>Oklahoma</th><td>3983</td></tr>\n",
       "\t<tr><th scope=row>Oregon</th><td>4660</td></tr>\n",
       "\t<tr><th scope=row>Pennsylvania</th><td>4449</td></tr>\n",
       "\t<tr><th scope=row>Rhode Island</th><td>4558</td></tr>\n",
       "\t<tr><th scope=row>South Carolina</th><td>3635</td></tr>\n",
       "\t<tr><th scope=row>South Dakota</th><td>4167</td></tr>\n",
       "\t<tr><th scope=row>Tennessee</th><td>3821</td></tr>\n",
       "\t<tr><th scope=row>Texas</th><td>4188</td></tr>\n",
       "\t<tr><th scope=row>Utah</th><td>4022</td></tr>\n",
       "\t<tr><th scope=row>Vermont</th><td>3907</td></tr>\n",
       "\t<tr><th scope=row>Virginia</th><td>4701</td></tr>\n",
       "\t<tr><th scope=row>Washington</th><td>4864</td></tr>\n",
       "\t<tr><th scope=row>West Virginia</th><td>3617</td></tr>\n",
       "\t<tr><th scope=row>Wisconsin</th><td>4468</td></tr>\n",
       "\t<tr><th scope=row>Wyoming</th><td>4566</td></tr>\n",
       "</tbody>\n",
       "</table>\n"
      ],
      "text/latex": [
       "A data.frame: 50 × 1\n",
       "\\begin{tabular}{r|l}\n",
       "  & Income\\\\\n",
       "  & <dbl>\\\\\n",
       "\\hline\n",
       "\tAlabama & 3624\\\\\n",
       "\tAlaska & 6315\\\\\n",
       "\tArizona & 4530\\\\\n",
       "\tArkansas & 3378\\\\\n",
       "\tCalifornia & 5114\\\\\n",
       "\tColorado & 4884\\\\\n",
       "\tConnecticut & 5348\\\\\n",
       "\tDelaware & 4809\\\\\n",
       "\tFlorida & 4815\\\\\n",
       "\tGeorgia & 4091\\\\\n",
       "\tHawaii & 4963\\\\\n",
       "\tIdaho & 4119\\\\\n",
       "\tIllinois & 5107\\\\\n",
       "\tIndiana & 4458\\\\\n",
       "\tIowa & 4628\\\\\n",
       "\tKansas & 4669\\\\\n",
       "\tKentucky & 3712\\\\\n",
       "\tLouisiana & 3545\\\\\n",
       "\tMaine & 3694\\\\\n",
       "\tMaryland & 5299\\\\\n",
       "\tMassachusetts & 4755\\\\\n",
       "\tMichigan & 4751\\\\\n",
       "\tMinnesota & 4675\\\\\n",
       "\tMississippi & 3098\\\\\n",
       "\tMissouri & 4254\\\\\n",
       "\tMontana & 4347\\\\\n",
       "\tNebraska & 4508\\\\\n",
       "\tNevada & 5149\\\\\n",
       "\tNew Hampshire & 4281\\\\\n",
       "\tNew Jersey & 5237\\\\\n",
       "\tNew Mexico & 3601\\\\\n",
       "\tNew York & 4903\\\\\n",
       "\tNorth Carolina & 3875\\\\\n",
       "\tNorth Dakota & 5087\\\\\n",
       "\tOhio & 4561\\\\\n",
       "\tOklahoma & 3983\\\\\n",
       "\tOregon & 4660\\\\\n",
       "\tPennsylvania & 4449\\\\\n",
       "\tRhode Island & 4558\\\\\n",
       "\tSouth Carolina & 3635\\\\\n",
       "\tSouth Dakota & 4167\\\\\n",
       "\tTennessee & 3821\\\\\n",
       "\tTexas & 4188\\\\\n",
       "\tUtah & 4022\\\\\n",
       "\tVermont & 3907\\\\\n",
       "\tVirginia & 4701\\\\\n",
       "\tWashington & 4864\\\\\n",
       "\tWest Virginia & 3617\\\\\n",
       "\tWisconsin & 4468\\\\\n",
       "\tWyoming & 4566\\\\\n",
       "\\end{tabular}\n"
      ],
      "text/markdown": [
       "\n",
       "A data.frame: 50 × 1\n",
       "\n",
       "| <!--/--> | Income &lt;dbl&gt; |\n",
       "|---|---|\n",
       "| Alabama | 3624 |\n",
       "| Alaska | 6315 |\n",
       "| Arizona | 4530 |\n",
       "| Arkansas | 3378 |\n",
       "| California | 5114 |\n",
       "| Colorado | 4884 |\n",
       "| Connecticut | 5348 |\n",
       "| Delaware | 4809 |\n",
       "| Florida | 4815 |\n",
       "| Georgia | 4091 |\n",
       "| Hawaii | 4963 |\n",
       "| Idaho | 4119 |\n",
       "| Illinois | 5107 |\n",
       "| Indiana | 4458 |\n",
       "| Iowa | 4628 |\n",
       "| Kansas | 4669 |\n",
       "| Kentucky | 3712 |\n",
       "| Louisiana | 3545 |\n",
       "| Maine | 3694 |\n",
       "| Maryland | 5299 |\n",
       "| Massachusetts | 4755 |\n",
       "| Michigan | 4751 |\n",
       "| Minnesota | 4675 |\n",
       "| Mississippi | 3098 |\n",
       "| Missouri | 4254 |\n",
       "| Montana | 4347 |\n",
       "| Nebraska | 4508 |\n",
       "| Nevada | 5149 |\n",
       "| New Hampshire | 4281 |\n",
       "| New Jersey | 5237 |\n",
       "| New Mexico | 3601 |\n",
       "| New York | 4903 |\n",
       "| North Carolina | 3875 |\n",
       "| North Dakota | 5087 |\n",
       "| Ohio | 4561 |\n",
       "| Oklahoma | 3983 |\n",
       "| Oregon | 4660 |\n",
       "| Pennsylvania | 4449 |\n",
       "| Rhode Island | 4558 |\n",
       "| South Carolina | 3635 |\n",
       "| South Dakota | 4167 |\n",
       "| Tennessee | 3821 |\n",
       "| Texas | 4188 |\n",
       "| Utah | 4022 |\n",
       "| Vermont | 3907 |\n",
       "| Virginia | 4701 |\n",
       "| Washington | 4864 |\n",
       "| West Virginia | 3617 |\n",
       "| Wisconsin | 4468 |\n",
       "| Wyoming | 4566 |\n",
       "\n"
      ],
      "text/plain": [
       "               Income\n",
       "Alabama        3624  \n",
       "Alaska         6315  \n",
       "Arizona        4530  \n",
       "Arkansas       3378  \n",
       "California     5114  \n",
       "Colorado       4884  \n",
       "Connecticut    5348  \n",
       "Delaware       4809  \n",
       "Florida        4815  \n",
       "Georgia        4091  \n",
       "Hawaii         4963  \n",
       "Idaho          4119  \n",
       "Illinois       5107  \n",
       "Indiana        4458  \n",
       "Iowa           4628  \n",
       "Kansas         4669  \n",
       "Kentucky       3712  \n",
       "Louisiana      3545  \n",
       "Maine          3694  \n",
       "Maryland       5299  \n",
       "Massachusetts  4755  \n",
       "Michigan       4751  \n",
       "Minnesota      4675  \n",
       "Mississippi    3098  \n",
       "Missouri       4254  \n",
       "Montana        4347  \n",
       "Nebraska       4508  \n",
       "Nevada         5149  \n",
       "New Hampshire  4281  \n",
       "New Jersey     5237  \n",
       "New Mexico     3601  \n",
       "New York       4903  \n",
       "North Carolina 3875  \n",
       "North Dakota   5087  \n",
       "Ohio           4561  \n",
       "Oklahoma       3983  \n",
       "Oregon         4660  \n",
       "Pennsylvania   4449  \n",
       "Rhode Island   4558  \n",
       "South Carolina 3635  \n",
       "South Dakota   4167  \n",
       "Tennessee      3821  \n",
       "Texas          4188  \n",
       "Utah           4022  \n",
       "Vermont        3907  \n",
       "Virginia       4701  \n",
       "Washington     4864  \n",
       "West Virginia  3617  \n",
       "Wisconsin      4468  \n",
       "Wyoming        4566  "
      ]
     },
     "metadata": {},
     "output_type": "display_data"
    }
   ],
   "source": [
    "st['Income']"
   ]
  },
  {
   "cell_type": "code",
   "execution_count": 93,
   "id": "0656d0d6",
   "metadata": {},
   "outputs": [
    {
     "data": {
      "text/html": [
       "262134"
      ],
      "text/latex": [
       "262134"
      ],
      "text/markdown": [
       "262134"
      ],
      "text/plain": [
       "[1] 262134"
      ]
     },
     "metadata": {},
     "output_type": "display_data"
    }
   ],
   "source": [
    "st['Texas', 'Area']"
   ]
  },
  {
   "cell_type": "code",
   "execution_count": 94,
   "id": "6075bc6d",
   "metadata": {},
   "outputs": [
    {
     "data": {
      "text/html": [
       "<table class=\"dataframe\">\n",
       "<caption>A data.frame: 1 × 2</caption>\n",
       "<thead>\n",
       "\t<tr><th></th><th scope=col>Population</th><th scope=col>Income</th></tr>\n",
       "\t<tr><th></th><th scope=col>&lt;dbl&gt;</th><th scope=col>&lt;dbl&gt;</th></tr>\n",
       "</thead>\n",
       "<tbody>\n",
       "\t<tr><th scope=row>Ohio</th><td>10735</td><td>4561</td></tr>\n",
       "</tbody>\n",
       "</table>\n"
      ],
      "text/latex": [
       "A data.frame: 1 × 2\n",
       "\\begin{tabular}{r|ll}\n",
       "  & Population & Income\\\\\n",
       "  & <dbl> & <dbl>\\\\\n",
       "\\hline\n",
       "\tOhio & 10735 & 4561\\\\\n",
       "\\end{tabular}\n"
      ],
      "text/markdown": [
       "\n",
       "A data.frame: 1 × 2\n",
       "\n",
       "| <!--/--> | Population &lt;dbl&gt; | Income &lt;dbl&gt; |\n",
       "|---|---|---|\n",
       "| Ohio | 10735 | 4561 |\n",
       "\n"
      ],
      "text/plain": [
       "     Population Income\n",
       "Ohio 10735      4561  "
      ]
     },
     "metadata": {},
     "output_type": "display_data"
    }
   ],
   "source": [
    "st['Ohio', c('Population','Income')]"
   ]
  },
  {
   "cell_type": "code",
   "execution_count": 97,
   "id": "f3bac00c",
   "metadata": {},
   "outputs": [
    {
     "data": {
      "text/html": [
       "<table class=\"dataframe\">\n",
       "<caption>A data.frame: 12 × 8</caption>\n",
       "<thead>\n",
       "\t<tr><th></th><th scope=col>Population</th><th scope=col>Income</th><th scope=col>Illiteracy</th><th scope=col>Life.Exp</th><th scope=col>Murder</th><th scope=col>HS.Grad</th><th scope=col>Frost</th><th scope=col>Area</th></tr>\n",
       "\t<tr><th></th><th scope=col>&lt;dbl&gt;</th><th scope=col>&lt;dbl&gt;</th><th scope=col>&lt;dbl&gt;</th><th scope=col>&lt;dbl&gt;</th><th scope=col>&lt;dbl&gt;</th><th scope=col>&lt;dbl&gt;</th><th scope=col>&lt;dbl&gt;</th><th scope=col>&lt;dbl&gt;</th></tr>\n",
       "</thead>\n",
       "<tbody>\n",
       "\t<tr><th scope=row>California</th><td>21198</td><td>5114</td><td>1.1</td><td>71.71</td><td>10.3</td><td>62.6</td><td> 20</td><td>156361</td></tr>\n",
       "\t<tr><th scope=row>Florida</th><td> 8277</td><td>4815</td><td>1.3</td><td>70.66</td><td>10.7</td><td>52.6</td><td> 11</td><td> 54090</td></tr>\n",
       "\t<tr><th scope=row>Illinois</th><td>11197</td><td>5107</td><td>0.9</td><td>70.14</td><td>10.3</td><td>52.6</td><td>127</td><td> 55748</td></tr>\n",
       "\t<tr><th scope=row>Indiana</th><td> 5313</td><td>4458</td><td>0.7</td><td>70.88</td><td> 7.1</td><td>52.9</td><td>122</td><td> 36097</td></tr>\n",
       "\t<tr><th scope=row>Massachusetts</th><td> 5814</td><td>4755</td><td>1.1</td><td>71.83</td><td> 3.3</td><td>58.5</td><td>103</td><td>  7826</td></tr>\n",
       "\t<tr><th scope=row>Michigan</th><td> 9111</td><td>4751</td><td>0.9</td><td>70.63</td><td>11.1</td><td>52.8</td><td>125</td><td> 56817</td></tr>\n",
       "\t<tr><th scope=row>New Jersey</th><td> 7333</td><td>5237</td><td>1.1</td><td>70.93</td><td> 5.2</td><td>52.5</td><td>115</td><td>  7521</td></tr>\n",
       "\t<tr><th scope=row>New York</th><td>18076</td><td>4903</td><td>1.4</td><td>70.55</td><td>10.9</td><td>52.7</td><td> 82</td><td> 47831</td></tr>\n",
       "\t<tr><th scope=row>North Carolina</th><td> 5441</td><td>3875</td><td>1.8</td><td>69.21</td><td>11.1</td><td>38.5</td><td> 80</td><td> 48798</td></tr>\n",
       "\t<tr><th scope=row>Ohio</th><td>10735</td><td>4561</td><td>0.8</td><td>70.82</td><td> 7.4</td><td>53.2</td><td>124</td><td> 40975</td></tr>\n",
       "\t<tr><th scope=row>Pennsylvania</th><td>11860</td><td>4449</td><td>1.0</td><td>70.43</td><td> 6.1</td><td>50.2</td><td>126</td><td> 44966</td></tr>\n",
       "\t<tr><th scope=row>Texas</th><td>12237</td><td>4188</td><td>2.2</td><td>70.90</td><td>12.2</td><td>47.4</td><td> 35</td><td>262134</td></tr>\n",
       "</tbody>\n",
       "</table>\n"
      ],
      "text/latex": [
       "A data.frame: 12 × 8\n",
       "\\begin{tabular}{r|llllllll}\n",
       "  & Population & Income & Illiteracy & Life.Exp & Murder & HS.Grad & Frost & Area\\\\\n",
       "  & <dbl> & <dbl> & <dbl> & <dbl> & <dbl> & <dbl> & <dbl> & <dbl>\\\\\n",
       "\\hline\n",
       "\tCalifornia & 21198 & 5114 & 1.1 & 71.71 & 10.3 & 62.6 &  20 & 156361\\\\\n",
       "\tFlorida &  8277 & 4815 & 1.3 & 70.66 & 10.7 & 52.6 &  11 &  54090\\\\\n",
       "\tIllinois & 11197 & 5107 & 0.9 & 70.14 & 10.3 & 52.6 & 127 &  55748\\\\\n",
       "\tIndiana &  5313 & 4458 & 0.7 & 70.88 &  7.1 & 52.9 & 122 &  36097\\\\\n",
       "\tMassachusetts &  5814 & 4755 & 1.1 & 71.83 &  3.3 & 58.5 & 103 &   7826\\\\\n",
       "\tMichigan &  9111 & 4751 & 0.9 & 70.63 & 11.1 & 52.8 & 125 &  56817\\\\\n",
       "\tNew Jersey &  7333 & 5237 & 1.1 & 70.93 &  5.2 & 52.5 & 115 &   7521\\\\\n",
       "\tNew York & 18076 & 4903 & 1.4 & 70.55 & 10.9 & 52.7 &  82 &  47831\\\\\n",
       "\tNorth Carolina &  5441 & 3875 & 1.8 & 69.21 & 11.1 & 38.5 &  80 &  48798\\\\\n",
       "\tOhio & 10735 & 4561 & 0.8 & 70.82 &  7.4 & 53.2 & 124 &  40975\\\\\n",
       "\tPennsylvania & 11860 & 4449 & 1.0 & 70.43 &  6.1 & 50.2 & 126 &  44966\\\\\n",
       "\tTexas & 12237 & 4188 & 2.2 & 70.90 & 12.2 & 47.4 &  35 & 262134\\\\\n",
       "\\end{tabular}\n"
      ],
      "text/markdown": [
       "\n",
       "A data.frame: 12 × 8\n",
       "\n",
       "| <!--/--> | Population &lt;dbl&gt; | Income &lt;dbl&gt; | Illiteracy &lt;dbl&gt; | Life.Exp &lt;dbl&gt; | Murder &lt;dbl&gt; | HS.Grad &lt;dbl&gt; | Frost &lt;dbl&gt; | Area &lt;dbl&gt; |\n",
       "|---|---|---|---|---|---|---|---|---|\n",
       "| California | 21198 | 5114 | 1.1 | 71.71 | 10.3 | 62.6 |  20 | 156361 |\n",
       "| Florida |  8277 | 4815 | 1.3 | 70.66 | 10.7 | 52.6 |  11 |  54090 |\n",
       "| Illinois | 11197 | 5107 | 0.9 | 70.14 | 10.3 | 52.6 | 127 |  55748 |\n",
       "| Indiana |  5313 | 4458 | 0.7 | 70.88 |  7.1 | 52.9 | 122 |  36097 |\n",
       "| Massachusetts |  5814 | 4755 | 1.1 | 71.83 |  3.3 | 58.5 | 103 |   7826 |\n",
       "| Michigan |  9111 | 4751 | 0.9 | 70.63 | 11.1 | 52.8 | 125 |  56817 |\n",
       "| New Jersey |  7333 | 5237 | 1.1 | 70.93 |  5.2 | 52.5 | 115 |   7521 |\n",
       "| New York | 18076 | 4903 | 1.4 | 70.55 | 10.9 | 52.7 |  82 |  47831 |\n",
       "| North Carolina |  5441 | 3875 | 1.8 | 69.21 | 11.1 | 38.5 |  80 |  48798 |\n",
       "| Ohio | 10735 | 4561 | 0.8 | 70.82 |  7.4 | 53.2 | 124 |  40975 |\n",
       "| Pennsylvania | 11860 | 4449 | 1.0 | 70.43 |  6.1 | 50.2 | 126 |  44966 |\n",
       "| Texas | 12237 | 4188 | 2.2 | 70.90 | 12.2 | 47.4 |  35 | 262134 |\n",
       "\n"
      ],
      "text/plain": [
       "               Population Income Illiteracy Life.Exp Murder HS.Grad Frost\n",
       "California     21198      5114   1.1        71.71    10.3   62.6     20  \n",
       "Florida         8277      4815   1.3        70.66    10.7   52.6     11  \n",
       "Illinois       11197      5107   0.9        70.14    10.3   52.6    127  \n",
       "Indiana         5313      4458   0.7        70.88     7.1   52.9    122  \n",
       "Massachusetts   5814      4755   1.1        71.83     3.3   58.5    103  \n",
       "Michigan        9111      4751   0.9        70.63    11.1   52.8    125  \n",
       "New Jersey      7333      5237   1.1        70.93     5.2   52.5    115  \n",
       "New York       18076      4903   1.4        70.55    10.9   52.7     82  \n",
       "North Carolina  5441      3875   1.8        69.21    11.1   38.5     80  \n",
       "Ohio           10735      4561   0.8        70.82     7.4   53.2    124  \n",
       "Pennsylvania   11860      4449   1.0        70.43     6.1   50.2    126  \n",
       "Texas          12237      4188   2.2        70.90    12.2   47.4     35  \n",
       "               Area  \n",
       "California     156361\n",
       "Florida         54090\n",
       "Illinois        55748\n",
       "Indiana         36097\n",
       "Massachusetts    7826\n",
       "Michigan        56817\n",
       "New Jersey       7521\n",
       "New York        47831\n",
       "North Carolina  48798\n",
       "Ohio            40975\n",
       "Pennsylvania    44966\n",
       "Texas          262134"
      ]
     },
     "metadata": {},
     "output_type": "display_data"
    }
   ],
   "source": [
    "st[st['Population'] >= 5000, ]"
   ]
  },
  {
   "cell_type": "code",
   "execution_count": 102,
   "id": "83eab8aa",
   "metadata": {},
   "outputs": [
    {
     "data": {
      "text/html": [
       "208"
      ],
      "text/latex": [
       "208"
      ],
      "text/markdown": [
       "208"
      ],
      "text/plain": [
       "[1] 208"
      ]
     },
     "metadata": {},
     "output_type": "display_data"
    }
   ],
   "source": [
    "length(st[st['Income'] >= 4500])"
   ]
  },
  {
   "cell_type": "code",
   "execution_count": 105,
   "id": "6cc9e773",
   "metadata": {},
   "outputs": [
    {
     "data": {
      "text/html": [
       "26"
      ],
      "text/latex": [
       "26"
      ],
      "text/markdown": [
       "26"
      ],
      "text/plain": [
       "[1] 26"
      ]
     },
     "metadata": {},
     "output_type": "display_data"
    }
   ],
   "source": [
    "nrow(st[st['Income'] >= 4500, ])"
   ]
  },
  {
   "cell_type": "code",
   "execution_count": 106,
   "id": "4a4ae2c2",
   "metadata": {},
   "outputs": [
    {
     "data": {
      "text/html": [
       "<table class=\"dataframe\">\n",
       "<caption>A data.frame: 5 × 8</caption>\n",
       "<thead>\n",
       "\t<tr><th></th><th scope=col>Population</th><th scope=col>Income</th><th scope=col>Illiteracy</th><th scope=col>Life.Exp</th><th scope=col>Murder</th><th scope=col>HS.Grad</th><th scope=col>Frost</th><th scope=col>Area</th></tr>\n",
       "\t<tr><th></th><th scope=col>&lt;dbl&gt;</th><th scope=col>&lt;dbl&gt;</th><th scope=col>&lt;dbl&gt;</th><th scope=col>&lt;dbl&gt;</th><th scope=col>&lt;dbl&gt;</th><th scope=col>&lt;dbl&gt;</th><th scope=col>&lt;dbl&gt;</th><th scope=col>&lt;dbl&gt;</th></tr>\n",
       "</thead>\n",
       "<tbody>\n",
       "\t<tr><th scope=row>Alaska</th><td> 365</td><td>6315</td><td>1.5</td><td>69.31</td><td>11.3</td><td>66.7</td><td>152</td><td>566432</td></tr>\n",
       "\t<tr><th scope=row>Colorado</th><td>2541</td><td>4884</td><td>0.7</td><td>72.06</td><td> 6.8</td><td>63.9</td><td>166</td><td>103766</td></tr>\n",
       "\t<tr><th scope=row>Montana</th><td> 746</td><td>4347</td><td>0.6</td><td>70.56</td><td> 5.0</td><td>59.2</td><td>155</td><td>145587</td></tr>\n",
       "\t<tr><th scope=row>Nevada</th><td> 590</td><td>5149</td><td>0.5</td><td>69.03</td><td>11.5</td><td>65.2</td><td>188</td><td>109889</td></tr>\n",
       "\t<tr><th scope=row>New Mexico</th><td>1144</td><td>3601</td><td>2.2</td><td>70.32</td><td> 9.7</td><td>55.2</td><td>120</td><td>121412</td></tr>\n",
       "</tbody>\n",
       "</table>\n"
      ],
      "text/latex": [
       "A data.frame: 5 × 8\n",
       "\\begin{tabular}{r|llllllll}\n",
       "  & Population & Income & Illiteracy & Life.Exp & Murder & HS.Grad & Frost & Area\\\\\n",
       "  & <dbl> & <dbl> & <dbl> & <dbl> & <dbl> & <dbl> & <dbl> & <dbl>\\\\\n",
       "\\hline\n",
       "\tAlaska &  365 & 6315 & 1.5 & 69.31 & 11.3 & 66.7 & 152 & 566432\\\\\n",
       "\tColorado & 2541 & 4884 & 0.7 & 72.06 &  6.8 & 63.9 & 166 & 103766\\\\\n",
       "\tMontana &  746 & 4347 & 0.6 & 70.56 &  5.0 & 59.2 & 155 & 145587\\\\\n",
       "\tNevada &  590 & 5149 & 0.5 & 69.03 & 11.5 & 65.2 & 188 & 109889\\\\\n",
       "\tNew Mexico & 1144 & 3601 & 2.2 & 70.32 &  9.7 & 55.2 & 120 & 121412\\\\\n",
       "\\end{tabular}\n"
      ],
      "text/markdown": [
       "\n",
       "A data.frame: 5 × 8\n",
       "\n",
       "| <!--/--> | Population &lt;dbl&gt; | Income &lt;dbl&gt; | Illiteracy &lt;dbl&gt; | Life.Exp &lt;dbl&gt; | Murder &lt;dbl&gt; | HS.Grad &lt;dbl&gt; | Frost &lt;dbl&gt; | Area &lt;dbl&gt; |\n",
       "|---|---|---|---|---|---|---|---|---|\n",
       "| Alaska |  365 | 6315 | 1.5 | 69.31 | 11.3 | 66.7 | 152 | 566432 |\n",
       "| Colorado | 2541 | 4884 | 0.7 | 72.06 |  6.8 | 63.9 | 166 | 103766 |\n",
       "| Montana |  746 | 4347 | 0.6 | 70.56 |  5.0 | 59.2 | 155 | 145587 |\n",
       "| Nevada |  590 | 5149 | 0.5 | 69.03 | 11.5 | 65.2 | 188 | 109889 |\n",
       "| New Mexico | 1144 | 3601 | 2.2 | 70.32 |  9.7 | 55.2 | 120 | 121412 |\n",
       "\n"
      ],
      "text/plain": [
       "           Population Income Illiteracy Life.Exp Murder HS.Grad Frost Area  \n",
       "Alaska      365       6315   1.5        69.31    11.3   66.7    152   566432\n",
       "Colorado   2541       4884   0.7        72.06     6.8   63.9    166   103766\n",
       "Montana     746       4347   0.6        70.56     5.0   59.2    155   145587\n",
       "Nevada      590       5149   0.5        69.03    11.5   65.2    188   109889\n",
       "New Mexico 1144       3601   2.2        70.32     9.7   55.2    120   121412"
      ]
     },
     "metadata": {},
     "output_type": "display_data"
    }
   ],
   "source": [
    "st[st['Area'] >= 100000 & st['Frost'] >= 120, ]"
   ]
  },
  {
   "cell_type": "code",
   "execution_count": 107,
   "id": "9106c5fa",
   "metadata": {},
   "outputs": [
    {
     "data": {
      "text/html": [
       "<table class=\"dataframe\">\n",
       "<caption>A data.frame: 17 × 8</caption>\n",
       "<thead>\n",
       "\t<tr><th></th><th scope=col>Population</th><th scope=col>Income</th><th scope=col>Illiteracy</th><th scope=col>Life.Exp</th><th scope=col>Murder</th><th scope=col>HS.Grad</th><th scope=col>Frost</th><th scope=col>Area</th></tr>\n",
       "\t<tr><th></th><th scope=col>&lt;dbl&gt;</th><th scope=col>&lt;dbl&gt;</th><th scope=col>&lt;dbl&gt;</th><th scope=col>&lt;dbl&gt;</th><th scope=col>&lt;dbl&gt;</th><th scope=col>&lt;dbl&gt;</th><th scope=col>&lt;dbl&gt;</th><th scope=col>&lt;dbl&gt;</th></tr>\n",
       "</thead>\n",
       "<tbody>\n",
       "\t<tr><th scope=row>Alaska</th><td> 365</td><td>6315</td><td>1.5</td><td>69.31</td><td>11.3</td><td>66.7</td><td>152</td><td>566432</td></tr>\n",
       "\t<tr><th scope=row>Delaware</th><td> 579</td><td>4809</td><td>0.9</td><td>70.06</td><td> 6.2</td><td>54.6</td><td>103</td><td>  1982</td></tr>\n",
       "\t<tr><th scope=row>Hawaii</th><td> 868</td><td>4963</td><td>1.9</td><td>73.60</td><td> 6.2</td><td>61.9</td><td>  0</td><td>  6425</td></tr>\n",
       "\t<tr><th scope=row>Idaho</th><td> 813</td><td>4119</td><td>0.6</td><td>71.87</td><td> 5.3</td><td>59.5</td><td>126</td><td> 82677</td></tr>\n",
       "\t<tr><th scope=row>Maine</th><td>1058</td><td>3694</td><td>0.7</td><td>70.39</td><td> 2.7</td><td>54.7</td><td>161</td><td> 30920</td></tr>\n",
       "\t<tr><th scope=row>Montana</th><td> 746</td><td>4347</td><td>0.6</td><td>70.56</td><td> 5.0</td><td>59.2</td><td>155</td><td>145587</td></tr>\n",
       "\t<tr><th scope=row>Nebraska</th><td>1544</td><td>4508</td><td>0.6</td><td>72.60</td><td> 2.9</td><td>59.3</td><td>139</td><td> 76483</td></tr>\n",
       "\t<tr><th scope=row>Nevada</th><td> 590</td><td>5149</td><td>0.5</td><td>69.03</td><td>11.5</td><td>65.2</td><td>188</td><td>109889</td></tr>\n",
       "\t<tr><th scope=row>New Hampshire</th><td> 812</td><td>4281</td><td>0.7</td><td>71.23</td><td> 3.3</td><td>57.6</td><td>174</td><td>  9027</td></tr>\n",
       "\t<tr><th scope=row>New Mexico</th><td>1144</td><td>3601</td><td>2.2</td><td>70.32</td><td> 9.7</td><td>55.2</td><td>120</td><td>121412</td></tr>\n",
       "\t<tr><th scope=row>North Dakota</th><td> 637</td><td>5087</td><td>0.8</td><td>72.78</td><td> 1.4</td><td>50.3</td><td>186</td><td> 69273</td></tr>\n",
       "\t<tr><th scope=row>Rhode Island</th><td> 931</td><td>4558</td><td>1.3</td><td>71.90</td><td> 2.4</td><td>46.4</td><td>127</td><td>  1049</td></tr>\n",
       "\t<tr><th scope=row>South Dakota</th><td> 681</td><td>4167</td><td>0.5</td><td>72.08</td><td> 1.7</td><td>53.3</td><td>172</td><td> 75955</td></tr>\n",
       "\t<tr><th scope=row>Utah</th><td>1203</td><td>4022</td><td>0.6</td><td>72.90</td><td> 4.5</td><td>67.3</td><td>137</td><td> 82096</td></tr>\n",
       "\t<tr><th scope=row>Vermont</th><td> 472</td><td>3907</td><td>0.6</td><td>71.64</td><td> 5.5</td><td>57.1</td><td>168</td><td>  9267</td></tr>\n",
       "\t<tr><th scope=row>West Virginia</th><td>1799</td><td>3617</td><td>1.4</td><td>69.48</td><td> 6.7</td><td>41.6</td><td>100</td><td> 24070</td></tr>\n",
       "\t<tr><th scope=row>Wyoming</th><td> 376</td><td>4566</td><td>0.6</td><td>70.29</td><td> 6.9</td><td>62.9</td><td>173</td><td> 97203</td></tr>\n",
       "</tbody>\n",
       "</table>\n"
      ],
      "text/latex": [
       "A data.frame: 17 × 8\n",
       "\\begin{tabular}{r|llllllll}\n",
       "  & Population & Income & Illiteracy & Life.Exp & Murder & HS.Grad & Frost & Area\\\\\n",
       "  & <dbl> & <dbl> & <dbl> & <dbl> & <dbl> & <dbl> & <dbl> & <dbl>\\\\\n",
       "\\hline\n",
       "\tAlaska &  365 & 6315 & 1.5 & 69.31 & 11.3 & 66.7 & 152 & 566432\\\\\n",
       "\tDelaware &  579 & 4809 & 0.9 & 70.06 &  6.2 & 54.6 & 103 &   1982\\\\\n",
       "\tHawaii &  868 & 4963 & 1.9 & 73.60 &  6.2 & 61.9 &   0 &   6425\\\\\n",
       "\tIdaho &  813 & 4119 & 0.6 & 71.87 &  5.3 & 59.5 & 126 &  82677\\\\\n",
       "\tMaine & 1058 & 3694 & 0.7 & 70.39 &  2.7 & 54.7 & 161 &  30920\\\\\n",
       "\tMontana &  746 & 4347 & 0.6 & 70.56 &  5.0 & 59.2 & 155 & 145587\\\\\n",
       "\tNebraska & 1544 & 4508 & 0.6 & 72.60 &  2.9 & 59.3 & 139 &  76483\\\\\n",
       "\tNevada &  590 & 5149 & 0.5 & 69.03 & 11.5 & 65.2 & 188 & 109889\\\\\n",
       "\tNew Hampshire &  812 & 4281 & 0.7 & 71.23 &  3.3 & 57.6 & 174 &   9027\\\\\n",
       "\tNew Mexico & 1144 & 3601 & 2.2 & 70.32 &  9.7 & 55.2 & 120 & 121412\\\\\n",
       "\tNorth Dakota &  637 & 5087 & 0.8 & 72.78 &  1.4 & 50.3 & 186 &  69273\\\\\n",
       "\tRhode Island &  931 & 4558 & 1.3 & 71.90 &  2.4 & 46.4 & 127 &   1049\\\\\n",
       "\tSouth Dakota &  681 & 4167 & 0.5 & 72.08 &  1.7 & 53.3 & 172 &  75955\\\\\n",
       "\tUtah & 1203 & 4022 & 0.6 & 72.90 &  4.5 & 67.3 & 137 &  82096\\\\\n",
       "\tVermont &  472 & 3907 & 0.6 & 71.64 &  5.5 & 57.1 & 168 &   9267\\\\\n",
       "\tWest Virginia & 1799 & 3617 & 1.4 & 69.48 &  6.7 & 41.6 & 100 &  24070\\\\\n",
       "\tWyoming &  376 & 4566 & 0.6 & 70.29 &  6.9 & 62.9 & 173 &  97203\\\\\n",
       "\\end{tabular}\n"
      ],
      "text/markdown": [
       "\n",
       "A data.frame: 17 × 8\n",
       "\n",
       "| <!--/--> | Population &lt;dbl&gt; | Income &lt;dbl&gt; | Illiteracy &lt;dbl&gt; | Life.Exp &lt;dbl&gt; | Murder &lt;dbl&gt; | HS.Grad &lt;dbl&gt; | Frost &lt;dbl&gt; | Area &lt;dbl&gt; |\n",
       "|---|---|---|---|---|---|---|---|---|\n",
       "| Alaska |  365 | 6315 | 1.5 | 69.31 | 11.3 | 66.7 | 152 | 566432 |\n",
       "| Delaware |  579 | 4809 | 0.9 | 70.06 |  6.2 | 54.6 | 103 |   1982 |\n",
       "| Hawaii |  868 | 4963 | 1.9 | 73.60 |  6.2 | 61.9 |   0 |   6425 |\n",
       "| Idaho |  813 | 4119 | 0.6 | 71.87 |  5.3 | 59.5 | 126 |  82677 |\n",
       "| Maine | 1058 | 3694 | 0.7 | 70.39 |  2.7 | 54.7 | 161 |  30920 |\n",
       "| Montana |  746 | 4347 | 0.6 | 70.56 |  5.0 | 59.2 | 155 | 145587 |\n",
       "| Nebraska | 1544 | 4508 | 0.6 | 72.60 |  2.9 | 59.3 | 139 |  76483 |\n",
       "| Nevada |  590 | 5149 | 0.5 | 69.03 | 11.5 | 65.2 | 188 | 109889 |\n",
       "| New Hampshire |  812 | 4281 | 0.7 | 71.23 |  3.3 | 57.6 | 174 |   9027 |\n",
       "| New Mexico | 1144 | 3601 | 2.2 | 70.32 |  9.7 | 55.2 | 120 | 121412 |\n",
       "| North Dakota |  637 | 5087 | 0.8 | 72.78 |  1.4 | 50.3 | 186 |  69273 |\n",
       "| Rhode Island |  931 | 4558 | 1.3 | 71.90 |  2.4 | 46.4 | 127 |   1049 |\n",
       "| South Dakota |  681 | 4167 | 0.5 | 72.08 |  1.7 | 53.3 | 172 |  75955 |\n",
       "| Utah | 1203 | 4022 | 0.6 | 72.90 |  4.5 | 67.3 | 137 |  82096 |\n",
       "| Vermont |  472 | 3907 | 0.6 | 71.64 |  5.5 | 57.1 | 168 |   9267 |\n",
       "| West Virginia | 1799 | 3617 | 1.4 | 69.48 |  6.7 | 41.6 | 100 |  24070 |\n",
       "| Wyoming |  376 | 4566 | 0.6 | 70.29 |  6.9 | 62.9 | 173 |  97203 |\n",
       "\n"
      ],
      "text/plain": [
       "              Population Income Illiteracy Life.Exp Murder HS.Grad Frost Area  \n",
       "Alaska         365       6315   1.5        69.31    11.3   66.7    152   566432\n",
       "Delaware       579       4809   0.9        70.06     6.2   54.6    103     1982\n",
       "Hawaii         868       4963   1.9        73.60     6.2   61.9      0     6425\n",
       "Idaho          813       4119   0.6        71.87     5.3   59.5    126    82677\n",
       "Maine         1058       3694   0.7        70.39     2.7   54.7    161    30920\n",
       "Montana        746       4347   0.6        70.56     5.0   59.2    155   145587\n",
       "Nebraska      1544       4508   0.6        72.60     2.9   59.3    139    76483\n",
       "Nevada         590       5149   0.5        69.03    11.5   65.2    188   109889\n",
       "New Hampshire  812       4281   0.7        71.23     3.3   57.6    174     9027\n",
       "New Mexico    1144       3601   2.2        70.32     9.7   55.2    120   121412\n",
       "North Dakota   637       5087   0.8        72.78     1.4   50.3    186    69273\n",
       "Rhode Island   931       4558   1.3        71.90     2.4   46.4    127     1049\n",
       "South Dakota   681       4167   0.5        72.08     1.7   53.3    172    75955\n",
       "Utah          1203       4022   0.6        72.90     4.5   67.3    137    82096\n",
       "Vermont        472       3907   0.6        71.64     5.5   57.1    168     9267\n",
       "West Virginia 1799       3617   1.4        69.48     6.7   41.6    100    24070\n",
       "Wyoming        376       4566   0.6        70.29     6.9   62.9    173    97203"
      ]
     },
     "metadata": {},
     "output_type": "display_data"
    }
   ],
   "source": [
    "st[st['Population'] < 2000 & st['Murder'] < 12, ]"
   ]
  },
  {
   "cell_type": "code",
   "execution_count": 110,
   "id": "d38e85a0",
   "metadata": {},
   "outputs": [
    {
     "data": {
      "text/html": [
       "3615.16666666667"
      ],
      "text/latex": [
       "3615.16666666667"
      ],
      "text/markdown": [
       "3615.16666666667"
      ],
      "text/plain": [
       "[1] 3615.167"
      ]
     },
     "metadata": {},
     "output_type": "display_data"
    }
   ],
   "source": [
    "mean(st[st['Illiteracy'] > 2.0, 'Income'])"
   ]
  },
  {
   "cell_type": "code",
   "execution_count": 111,
   "id": "65027dd5",
   "metadata": {},
   "outputs": [
    {
     "data": {
      "text/html": [
       "4558.32558139535"
      ],
      "text/latex": [
       "4558.32558139535"
      ],
      "text/markdown": [
       "4558.32558139535"
      ],
      "text/plain": [
       "[1] 4558.326"
      ]
     },
     "metadata": {},
     "output_type": "display_data"
    }
   ],
   "source": [
    "mean(st[st['Illiteracy'] < 2.0, 'Income'])"
   ]
  },
  {
   "cell_type": "code",
   "execution_count": 112,
   "id": "a8f4ea68",
   "metadata": {},
   "outputs": [
    {
     "data": {
      "text/html": [
       "943.158914728683"
      ],
      "text/latex": [
       "943.158914728683"
      ],
      "text/markdown": [
       "943.158914728683"
      ],
      "text/plain": [
       "[1] 943.1589"
      ]
     },
     "metadata": {},
     "output_type": "display_data"
    }
   ],
   "source": [
    "mean(st[st['Illiteracy'] < 2.0, 'Income']) - mean(st[st['Illiteracy'] > 2.0, 'Income'])"
   ]
  },
  {
   "cell_type": "code",
   "execution_count": 116,
   "id": "7cc9bd61",
   "metadata": {},
   "outputs": [
    {
     "data": {
      "text/html": [
       "'Hawaii'"
      ],
      "text/latex": [
       "'Hawaii'"
      ],
      "text/markdown": [
       "'Hawaii'"
      ],
      "text/plain": [
       "[1] \"Hawaii\""
      ]
     },
     "metadata": {},
     "output_type": "display_data"
    }
   ],
   "source": [
    "rownames(st[st['Life.Exp'] == max(st['Life.Exp']), ])"
   ]
  },
  {
   "cell_type": "code",
   "execution_count": 118,
   "id": "42731609",
   "metadata": {},
   "outputs": [
    {
     "data": {
      "text/html": [
       "<style>\n",
       ".list-inline {list-style: none; margin:0; padding: 0}\n",
       ".list-inline>li {display: inline-block}\n",
       ".list-inline>li:not(:last-child)::after {content: \"\\00b7\"; padding: 0 .5ex}\n",
       "</style>\n",
       "<ol class=list-inline><li>'Alaska'</li><li>'Arizona'</li><li>'California'</li><li>'Colorado'</li><li>'Connecticut'</li><li>'Delaware'</li><li>'Florida'</li><li>'Hawaii'</li><li>'Illinois'</li><li>'Indiana'</li><li>'Iowa'</li><li>'Kansas'</li><li>'Maryland'</li><li>'Massachusetts'</li><li>'Michigan'</li><li>'Minnesota'</li><li>'Nebraska'</li><li>'Nevada'</li><li>'New Jersey'</li><li>'New York'</li><li>'North Dakota'</li><li>'Ohio'</li><li>'Oregon'</li><li>'Rhode Island'</li><li>'Virginia'</li><li>'Washington'</li><li>'Wisconsin'</li><li>'Wyoming'</li></ol>\n"
      ],
      "text/latex": [
       "\\begin{enumerate*}\n",
       "\\item 'Alaska'\n",
       "\\item 'Arizona'\n",
       "\\item 'California'\n",
       "\\item 'Colorado'\n",
       "\\item 'Connecticut'\n",
       "\\item 'Delaware'\n",
       "\\item 'Florida'\n",
       "\\item 'Hawaii'\n",
       "\\item 'Illinois'\n",
       "\\item 'Indiana'\n",
       "\\item 'Iowa'\n",
       "\\item 'Kansas'\n",
       "\\item 'Maryland'\n",
       "\\item 'Massachusetts'\n",
       "\\item 'Michigan'\n",
       "\\item 'Minnesota'\n",
       "\\item 'Nebraska'\n",
       "\\item 'Nevada'\n",
       "\\item 'New Jersey'\n",
       "\\item 'New York'\n",
       "\\item 'North Dakota'\n",
       "\\item 'Ohio'\n",
       "\\item 'Oregon'\n",
       "\\item 'Rhode Island'\n",
       "\\item 'Virginia'\n",
       "\\item 'Washington'\n",
       "\\item 'Wisconsin'\n",
       "\\item 'Wyoming'\n",
       "\\end{enumerate*}\n"
      ],
      "text/markdown": [
       "1. 'Alaska'\n",
       "2. 'Arizona'\n",
       "3. 'California'\n",
       "4. 'Colorado'\n",
       "5. 'Connecticut'\n",
       "6. 'Delaware'\n",
       "7. 'Florida'\n",
       "8. 'Hawaii'\n",
       "9. 'Illinois'\n",
       "10. 'Indiana'\n",
       "11. 'Iowa'\n",
       "12. 'Kansas'\n",
       "13. 'Maryland'\n",
       "14. 'Massachusetts'\n",
       "15. 'Michigan'\n",
       "16. 'Minnesota'\n",
       "17. 'Nebraska'\n",
       "18. 'Nevada'\n",
       "19. 'New Jersey'\n",
       "20. 'New York'\n",
       "21. 'North Dakota'\n",
       "22. 'Ohio'\n",
       "23. 'Oregon'\n",
       "24. 'Rhode Island'\n",
       "25. 'Virginia'\n",
       "26. 'Washington'\n",
       "27. 'Wisconsin'\n",
       "28. 'Wyoming'\n",
       "\n",
       "\n"
      ],
      "text/plain": [
       " [1] \"Alaska\"        \"Arizona\"       \"California\"    \"Colorado\"     \n",
       " [5] \"Connecticut\"   \"Delaware\"      \"Florida\"       \"Hawaii\"       \n",
       " [9] \"Illinois\"      \"Indiana\"       \"Iowa\"          \"Kansas\"       \n",
       "[13] \"Maryland\"      \"Massachusetts\" \"Michigan\"      \"Minnesota\"    \n",
       "[17] \"Nebraska\"      \"Nevada\"        \"New Jersey\"    \"New York\"     \n",
       "[21] \"North Dakota\"  \"Ohio\"          \"Oregon\"        \"Rhode Island\" \n",
       "[25] \"Virginia\"      \"Washington\"    \"Wisconsin\"     \"Wyoming\"      "
      ]
     },
     "metadata": {},
     "output_type": "display_data"
    }
   ],
   "source": [
    "rownames(st[st['Pennsylvania','Income'] < st['Income'], ])"
   ]
  },
  {
   "cell_type": "code",
   "execution_count": 119,
   "id": "cd3fa77e",
   "metadata": {},
   "outputs": [
    {
     "data": {
      "text/html": [
       "<style>\n",
       ".list-inline {list-style: none; margin:0; padding: 0}\n",
       ".list-inline>li {display: inline-block}\n",
       ".list-inline>li:not(:last-child)::after {content: \"\\00b7\"; padding: 0 .5ex}\n",
       "</style>\n",
       "<ol class=list-inline><li>32</li><li>11</li></ol>\n"
      ],
      "text/latex": [
       "\\begin{enumerate*}\n",
       "\\item 32\n",
       "\\item 11\n",
       "\\end{enumerate*}\n"
      ],
      "text/markdown": [
       "1. 32\n",
       "2. 11\n",
       "\n",
       "\n"
      ],
      "text/plain": [
       "[1] 32 11"
      ]
     },
     "metadata": {},
     "output_type": "display_data"
    }
   ],
   "source": [
    "dim(mtcars)"
   ]
  },
  {
   "cell_type": "code",
   "execution_count": 120,
   "id": "6b30c626",
   "metadata": {},
   "outputs": [
    {
     "data": {
      "text/html": [
       "'data.frame'"
      ],
      "text/latex": [
       "'data.frame'"
      ],
      "text/markdown": [
       "'data.frame'"
      ],
      "text/plain": [
       "[1] \"data.frame\""
      ]
     },
     "metadata": {},
     "output_type": "display_data"
    }
   ],
   "source": [
    "class(mtcars)"
   ]
  },
  {
   "cell_type": "code",
   "execution_count": 121,
   "id": "f8c91c9d",
   "metadata": {},
   "outputs": [
    {
     "name": "stdout",
     "output_type": "stream",
     "text": [
      "'data.frame':\t32 obs. of  11 variables:\n",
      " $ mpg : num  21 21 22.8 21.4 18.7 18.1 14.3 24.4 22.8 19.2 ...\n",
      " $ cyl : num  6 6 4 6 8 6 8 4 4 6 ...\n",
      " $ disp: num  160 160 108 258 360 ...\n",
      " $ hp  : num  110 110 93 110 175 105 245 62 95 123 ...\n",
      " $ drat: num  3.9 3.9 3.85 3.08 3.15 2.76 3.21 3.69 3.92 3.92 ...\n",
      " $ wt  : num  2.62 2.88 2.32 3.21 3.44 ...\n",
      " $ qsec: num  16.5 17 18.6 19.4 17 ...\n",
      " $ vs  : num  0 0 1 1 0 1 0 1 1 1 ...\n",
      " $ am  : num  1 1 1 0 0 0 0 0 0 0 ...\n",
      " $ gear: num  4 4 4 3 3 3 3 4 4 4 ...\n",
      " $ carb: num  4 4 1 1 2 1 4 2 2 4 ...\n"
     ]
    }
   ],
   "source": [
    "str(mtcars)"
   ]
  },
  {
   "cell_type": "code",
   "execution_count": 122,
   "id": "5bab4047",
   "metadata": {},
   "outputs": [],
   "source": [
    "df = mtcars"
   ]
  },
  {
   "cell_type": "code",
   "execution_count": 125,
   "id": "68f1a5f8",
   "metadata": {},
   "outputs": [
    {
     "data": {
      "text/html": [
       "'Toyota Corolla'"
      ],
      "text/latex": [
       "'Toyota Corolla'"
      ],
      "text/markdown": [
       "'Toyota Corolla'"
      ],
      "text/plain": [
       "[1] \"Toyota Corolla\""
      ]
     },
     "metadata": {},
     "output_type": "display_data"
    }
   ],
   "source": [
    "rownames(df[df['mpg'] == max(df['mpg']), ])"
   ]
  },
  {
   "cell_type": "code",
   "execution_count": 126,
   "id": "d4c3339f",
   "metadata": {},
   "outputs": [
    {
     "data": {
      "text/html": [],
      "text/latex": [],
      "text/markdown": [],
      "text/plain": [
       "numeric(0)"
      ]
     },
     "metadata": {},
     "output_type": "display_data"
    }
   ],
   "source": [
    "df[df['gear'] == 4 & df['mpg'] == min(df['mpg'])]"
   ]
  },
  {
   "cell_type": "code",
   "execution_count": 129,
   "id": "a27f69bc",
   "metadata": {},
   "outputs": [
    {
     "data": {
      "text/html": [
       "<table class=\"dataframe\">\n",
       "<caption>A data.frame: 12 × 11</caption>\n",
       "<thead>\n",
       "\t<tr><th></th><th scope=col>mpg</th><th scope=col>cyl</th><th scope=col>disp</th><th scope=col>hp</th><th scope=col>drat</th><th scope=col>wt</th><th scope=col>qsec</th><th scope=col>vs</th><th scope=col>am</th><th scope=col>gear</th><th scope=col>carb</th></tr>\n",
       "\t<tr><th></th><th scope=col>&lt;dbl&gt;</th><th scope=col>&lt;dbl&gt;</th><th scope=col>&lt;dbl&gt;</th><th scope=col>&lt;dbl&gt;</th><th scope=col>&lt;dbl&gt;</th><th scope=col>&lt;dbl&gt;</th><th scope=col>&lt;dbl&gt;</th><th scope=col>&lt;dbl&gt;</th><th scope=col>&lt;dbl&gt;</th><th scope=col>&lt;dbl&gt;</th><th scope=col>&lt;dbl&gt;</th></tr>\n",
       "</thead>\n",
       "<tbody>\n",
       "\t<tr><th scope=row>Mazda RX4</th><td>21.0</td><td>6</td><td>160.0</td><td>110</td><td>3.90</td><td>2.620</td><td>16.46</td><td>0</td><td>1</td><td>4</td><td>4</td></tr>\n",
       "\t<tr><th scope=row>Mazda RX4 Wag</th><td>21.0</td><td>6</td><td>160.0</td><td>110</td><td>3.90</td><td>2.875</td><td>17.02</td><td>0</td><td>1</td><td>4</td><td>4</td></tr>\n",
       "\t<tr><th scope=row>Datsun 710</th><td>22.8</td><td>4</td><td>108.0</td><td> 93</td><td>3.85</td><td>2.320</td><td>18.61</td><td>1</td><td>1</td><td>4</td><td>1</td></tr>\n",
       "\t<tr><th scope=row>Merc 240D</th><td>24.4</td><td>4</td><td>146.7</td><td> 62</td><td>3.69</td><td>3.190</td><td>20.00</td><td>1</td><td>0</td><td>4</td><td>2</td></tr>\n",
       "\t<tr><th scope=row>Merc 230</th><td>22.8</td><td>4</td><td>140.8</td><td> 95</td><td>3.92</td><td>3.150</td><td>22.90</td><td>1</td><td>0</td><td>4</td><td>2</td></tr>\n",
       "\t<tr><th scope=row>Merc 280</th><td>19.2</td><td>6</td><td>167.6</td><td>123</td><td>3.92</td><td>3.440</td><td>18.30</td><td>1</td><td>0</td><td>4</td><td>4</td></tr>\n",
       "\t<tr><th scope=row>Merc 280C</th><td>17.8</td><td>6</td><td>167.6</td><td>123</td><td>3.92</td><td>3.440</td><td>18.90</td><td>1</td><td>0</td><td>4</td><td>4</td></tr>\n",
       "\t<tr><th scope=row>Fiat 128</th><td>32.4</td><td>4</td><td> 78.7</td><td> 66</td><td>4.08</td><td>2.200</td><td>19.47</td><td>1</td><td>1</td><td>4</td><td>1</td></tr>\n",
       "\t<tr><th scope=row>Honda Civic</th><td>30.4</td><td>4</td><td> 75.7</td><td> 52</td><td>4.93</td><td>1.615</td><td>18.52</td><td>1</td><td>1</td><td>4</td><td>2</td></tr>\n",
       "\t<tr><th scope=row>Toyota Corolla</th><td>33.9</td><td>4</td><td> 71.1</td><td> 65</td><td>4.22</td><td>1.835</td><td>19.90</td><td>1</td><td>1</td><td>4</td><td>1</td></tr>\n",
       "\t<tr><th scope=row>Fiat X1-9</th><td>27.3</td><td>4</td><td> 79.0</td><td> 66</td><td>4.08</td><td>1.935</td><td>18.90</td><td>1</td><td>1</td><td>4</td><td>1</td></tr>\n",
       "\t<tr><th scope=row>Volvo 142E</th><td>21.4</td><td>4</td><td>121.0</td><td>109</td><td>4.11</td><td>2.780</td><td>18.60</td><td>1</td><td>1</td><td>4</td><td>2</td></tr>\n",
       "</tbody>\n",
       "</table>\n"
      ],
      "text/latex": [
       "A data.frame: 12 × 11\n",
       "\\begin{tabular}{r|lllllllllll}\n",
       "  & mpg & cyl & disp & hp & drat & wt & qsec & vs & am & gear & carb\\\\\n",
       "  & <dbl> & <dbl> & <dbl> & <dbl> & <dbl> & <dbl> & <dbl> & <dbl> & <dbl> & <dbl> & <dbl>\\\\\n",
       "\\hline\n",
       "\tMazda RX4 & 21.0 & 6 & 160.0 & 110 & 3.90 & 2.620 & 16.46 & 0 & 1 & 4 & 4\\\\\n",
       "\tMazda RX4 Wag & 21.0 & 6 & 160.0 & 110 & 3.90 & 2.875 & 17.02 & 0 & 1 & 4 & 4\\\\\n",
       "\tDatsun 710 & 22.8 & 4 & 108.0 &  93 & 3.85 & 2.320 & 18.61 & 1 & 1 & 4 & 1\\\\\n",
       "\tMerc 240D & 24.4 & 4 & 146.7 &  62 & 3.69 & 3.190 & 20.00 & 1 & 0 & 4 & 2\\\\\n",
       "\tMerc 230 & 22.8 & 4 & 140.8 &  95 & 3.92 & 3.150 & 22.90 & 1 & 0 & 4 & 2\\\\\n",
       "\tMerc 280 & 19.2 & 6 & 167.6 & 123 & 3.92 & 3.440 & 18.30 & 1 & 0 & 4 & 4\\\\\n",
       "\tMerc 280C & 17.8 & 6 & 167.6 & 123 & 3.92 & 3.440 & 18.90 & 1 & 0 & 4 & 4\\\\\n",
       "\tFiat 128 & 32.4 & 4 &  78.7 &  66 & 4.08 & 2.200 & 19.47 & 1 & 1 & 4 & 1\\\\\n",
       "\tHonda Civic & 30.4 & 4 &  75.7 &  52 & 4.93 & 1.615 & 18.52 & 1 & 1 & 4 & 2\\\\\n",
       "\tToyota Corolla & 33.9 & 4 &  71.1 &  65 & 4.22 & 1.835 & 19.90 & 1 & 1 & 4 & 1\\\\\n",
       "\tFiat X1-9 & 27.3 & 4 &  79.0 &  66 & 4.08 & 1.935 & 18.90 & 1 & 1 & 4 & 1\\\\\n",
       "\tVolvo 142E & 21.4 & 4 & 121.0 & 109 & 4.11 & 2.780 & 18.60 & 1 & 1 & 4 & 2\\\\\n",
       "\\end{tabular}\n"
      ],
      "text/markdown": [
       "\n",
       "A data.frame: 12 × 11\n",
       "\n",
       "| <!--/--> | mpg &lt;dbl&gt; | cyl &lt;dbl&gt; | disp &lt;dbl&gt; | hp &lt;dbl&gt; | drat &lt;dbl&gt; | wt &lt;dbl&gt; | qsec &lt;dbl&gt; | vs &lt;dbl&gt; | am &lt;dbl&gt; | gear &lt;dbl&gt; | carb &lt;dbl&gt; |\n",
       "|---|---|---|---|---|---|---|---|---|---|---|---|\n",
       "| Mazda RX4 | 21.0 | 6 | 160.0 | 110 | 3.90 | 2.620 | 16.46 | 0 | 1 | 4 | 4 |\n",
       "| Mazda RX4 Wag | 21.0 | 6 | 160.0 | 110 | 3.90 | 2.875 | 17.02 | 0 | 1 | 4 | 4 |\n",
       "| Datsun 710 | 22.8 | 4 | 108.0 |  93 | 3.85 | 2.320 | 18.61 | 1 | 1 | 4 | 1 |\n",
       "| Merc 240D | 24.4 | 4 | 146.7 |  62 | 3.69 | 3.190 | 20.00 | 1 | 0 | 4 | 2 |\n",
       "| Merc 230 | 22.8 | 4 | 140.8 |  95 | 3.92 | 3.150 | 22.90 | 1 | 0 | 4 | 2 |\n",
       "| Merc 280 | 19.2 | 6 | 167.6 | 123 | 3.92 | 3.440 | 18.30 | 1 | 0 | 4 | 4 |\n",
       "| Merc 280C | 17.8 | 6 | 167.6 | 123 | 3.92 | 3.440 | 18.90 | 1 | 0 | 4 | 4 |\n",
       "| Fiat 128 | 32.4 | 4 |  78.7 |  66 | 4.08 | 2.200 | 19.47 | 1 | 1 | 4 | 1 |\n",
       "| Honda Civic | 30.4 | 4 |  75.7 |  52 | 4.93 | 1.615 | 18.52 | 1 | 1 | 4 | 2 |\n",
       "| Toyota Corolla | 33.9 | 4 |  71.1 |  65 | 4.22 | 1.835 | 19.90 | 1 | 1 | 4 | 1 |\n",
       "| Fiat X1-9 | 27.3 | 4 |  79.0 |  66 | 4.08 | 1.935 | 18.90 | 1 | 1 | 4 | 1 |\n",
       "| Volvo 142E | 21.4 | 4 | 121.0 | 109 | 4.11 | 2.780 | 18.60 | 1 | 1 | 4 | 2 |\n",
       "\n"
      ],
      "text/plain": [
       "               mpg  cyl disp  hp  drat wt    qsec  vs am gear carb\n",
       "Mazda RX4      21.0 6   160.0 110 3.90 2.620 16.46 0  1  4    4   \n",
       "Mazda RX4 Wag  21.0 6   160.0 110 3.90 2.875 17.02 0  1  4    4   \n",
       "Datsun 710     22.8 4   108.0  93 3.85 2.320 18.61 1  1  4    1   \n",
       "Merc 240D      24.4 4   146.7  62 3.69 3.190 20.00 1  0  4    2   \n",
       "Merc 230       22.8 4   140.8  95 3.92 3.150 22.90 1  0  4    2   \n",
       "Merc 280       19.2 6   167.6 123 3.92 3.440 18.30 1  0  4    4   \n",
       "Merc 280C      17.8 6   167.6 123 3.92 3.440 18.90 1  0  4    4   \n",
       "Fiat 128       32.4 4    78.7  66 4.08 2.200 19.47 1  1  4    1   \n",
       "Honda Civic    30.4 4    75.7  52 4.93 1.615 18.52 1  1  4    2   \n",
       "Toyota Corolla 33.9 4    71.1  65 4.22 1.835 19.90 1  1  4    1   \n",
       "Fiat X1-9      27.3 4    79.0  66 4.08 1.935 18.90 1  1  4    1   \n",
       "Volvo 142E     21.4 4   121.0 109 4.11 2.780 18.60 1  1  4    2   "
      ]
     },
     "metadata": {},
     "output_type": "display_data"
    }
   ],
   "source": [
    "subset <- df[df['gear'] == 4, ]\n",
    "subset"
   ]
  },
  {
   "cell_type": "code",
   "execution_count": 132,
   "id": "ab98f1fa",
   "metadata": {},
   "outputs": [
    {
     "data": {
      "text/html": [
       "'Merc 280C'"
      ],
      "text/latex": [
       "'Merc 280C'"
      ],
      "text/markdown": [
       "'Merc 280C'"
      ],
      "text/plain": [
       "[1] \"Merc 280C\""
      ]
     },
     "metadata": {},
     "output_type": "display_data"
    }
   ],
   "source": [
    "rownames(subset[subset$mpg == min(subset$mpg), ])"
   ]
  },
  {
   "cell_type": "code",
   "execution_count": 133,
   "id": "0d04a033",
   "metadata": {},
   "outputs": [
    {
     "data": {
      "text/html": [
       "<table class=\"dataframe\">\n",
       "<caption>A data.frame: 1 × 2</caption>\n",
       "<thead>\n",
       "\t<tr><th></th><th scope=col>mpg</th><th scope=col>gear</th></tr>\n",
       "\t<tr><th></th><th scope=col>&lt;dbl&gt;</th><th scope=col>&lt;dbl&gt;</th></tr>\n",
       "</thead>\n",
       "<tbody>\n",
       "\t<tr><th scope=row>Honda Civic</th><td>30.4</td><td>4</td></tr>\n",
       "</tbody>\n",
       "</table>\n"
      ],
      "text/latex": [
       "A data.frame: 1 × 2\n",
       "\\begin{tabular}{r|ll}\n",
       "  & mpg & gear\\\\\n",
       "  & <dbl> & <dbl>\\\\\n",
       "\\hline\n",
       "\tHonda Civic & 30.4 & 4\\\\\n",
       "\\end{tabular}\n"
      ],
      "text/markdown": [
       "\n",
       "A data.frame: 1 × 2\n",
       "\n",
       "| <!--/--> | mpg &lt;dbl&gt; | gear &lt;dbl&gt; |\n",
       "|---|---|---|\n",
       "| Honda Civic | 30.4 | 4 |\n",
       "\n"
      ],
      "text/plain": [
       "            mpg  gear\n",
       "Honda Civic 30.4 4   "
      ]
     },
     "metadata": {},
     "output_type": "display_data"
    }
   ],
   "source": [
    "df['Honda Civic', c('mpg','gear')]"
   ]
  },
  {
   "cell_type": "code",
   "execution_count": 136,
   "id": "ef8b1469",
   "metadata": {},
   "outputs": [
    {
     "data": {
      "text/html": [
       "19.2"
      ],
      "text/latex": [
       "19.2"
      ],
      "text/markdown": [
       "19.2"
      ],
      "text/plain": [
       "[1] 19.2"
      ]
     },
     "metadata": {},
     "output_type": "display_data"
    }
   ],
   "source": [
    " df['Pontiac Firebird', \"mpg\"]"
   ]
  },
  {
   "cell_type": "code",
   "execution_count": 135,
   "id": "3c26d22a",
   "metadata": {},
   "outputs": [
    {
     "data": {
      "text/html": [
       "<table class=\"dataframe\">\n",
       "<caption>A data.frame: 17 × 11</caption>\n",
       "<thead>\n",
       "\t<tr><th></th><th scope=col>mpg</th><th scope=col>cyl</th><th scope=col>disp</th><th scope=col>hp</th><th scope=col>drat</th><th scope=col>wt</th><th scope=col>qsec</th><th scope=col>vs</th><th scope=col>am</th><th scope=col>gear</th><th scope=col>carb</th></tr>\n",
       "\t<tr><th></th><th scope=col>&lt;dbl&gt;</th><th scope=col>&lt;dbl&gt;</th><th scope=col>&lt;dbl&gt;</th><th scope=col>&lt;dbl&gt;</th><th scope=col>&lt;dbl&gt;</th><th scope=col>&lt;dbl&gt;</th><th scope=col>&lt;dbl&gt;</th><th scope=col>&lt;dbl&gt;</th><th scope=col>&lt;dbl&gt;</th><th scope=col>&lt;dbl&gt;</th><th scope=col>&lt;dbl&gt;</th></tr>\n",
       "</thead>\n",
       "<tbody>\n",
       "\t<tr><th scope=row>Mazda RX4</th><td>21.0</td><td>6</td><td>160.0</td><td>110</td><td>3.90</td><td>2.620</td><td>16.46</td><td>0</td><td>1</td><td>4</td><td>4</td></tr>\n",
       "\t<tr><th scope=row>Mazda RX4 Wag</th><td>21.0</td><td>6</td><td>160.0</td><td>110</td><td>3.90</td><td>2.875</td><td>17.02</td><td>0</td><td>1</td><td>4</td><td>4</td></tr>\n",
       "\t<tr><th scope=row>Datsun 710</th><td>22.8</td><td>4</td><td>108.0</td><td> 93</td><td>3.85</td><td>2.320</td><td>18.61</td><td>1</td><td>1</td><td>4</td><td>1</td></tr>\n",
       "\t<tr><th scope=row>Hornet 4 Drive</th><td>21.4</td><td>6</td><td>258.0</td><td>110</td><td>3.08</td><td>3.215</td><td>19.44</td><td>1</td><td>0</td><td>3</td><td>1</td></tr>\n",
       "\t<tr><th scope=row>Merc 240D</th><td>24.4</td><td>4</td><td>146.7</td><td> 62</td><td>3.69</td><td>3.190</td><td>20.00</td><td>1</td><td>0</td><td>4</td><td>2</td></tr>\n",
       "\t<tr><th scope=row>Merc 230</th><td>22.8</td><td>4</td><td>140.8</td><td> 95</td><td>3.92</td><td>3.150</td><td>22.90</td><td>1</td><td>0</td><td>4</td><td>2</td></tr>\n",
       "\t<tr><th scope=row>Merc 280</th><td>19.2</td><td>6</td><td>167.6</td><td>123</td><td>3.92</td><td>3.440</td><td>18.30</td><td>1</td><td>0</td><td>4</td><td>4</td></tr>\n",
       "\t<tr><th scope=row>Fiat 128</th><td>32.4</td><td>4</td><td> 78.7</td><td> 66</td><td>4.08</td><td>2.200</td><td>19.47</td><td>1</td><td>1</td><td>4</td><td>1</td></tr>\n",
       "\t<tr><th scope=row>Honda Civic</th><td>30.4</td><td>4</td><td> 75.7</td><td> 52</td><td>4.93</td><td>1.615</td><td>18.52</td><td>1</td><td>1</td><td>4</td><td>2</td></tr>\n",
       "\t<tr><th scope=row>Toyota Corolla</th><td>33.9</td><td>4</td><td> 71.1</td><td> 65</td><td>4.22</td><td>1.835</td><td>19.90</td><td>1</td><td>1</td><td>4</td><td>1</td></tr>\n",
       "\t<tr><th scope=row>Toyota Corona</th><td>21.5</td><td>4</td><td>120.1</td><td> 97</td><td>3.70</td><td>2.465</td><td>20.01</td><td>1</td><td>0</td><td>3</td><td>1</td></tr>\n",
       "\t<tr><th scope=row>Pontiac Firebird</th><td>19.2</td><td>8</td><td>400.0</td><td>175</td><td>3.08</td><td>3.845</td><td>17.05</td><td>0</td><td>0</td><td>3</td><td>2</td></tr>\n",
       "\t<tr><th scope=row>Fiat X1-9</th><td>27.3</td><td>4</td><td> 79.0</td><td> 66</td><td>4.08</td><td>1.935</td><td>18.90</td><td>1</td><td>1</td><td>4</td><td>1</td></tr>\n",
       "\t<tr><th scope=row>Porsche 914-2</th><td>26.0</td><td>4</td><td>120.3</td><td> 91</td><td>4.43</td><td>2.140</td><td>16.70</td><td>0</td><td>1</td><td>5</td><td>2</td></tr>\n",
       "\t<tr><th scope=row>Lotus Europa</th><td>30.4</td><td>4</td><td> 95.1</td><td>113</td><td>3.77</td><td>1.513</td><td>16.90</td><td>1</td><td>1</td><td>5</td><td>2</td></tr>\n",
       "\t<tr><th scope=row>Ferrari Dino</th><td>19.7</td><td>6</td><td>145.0</td><td>175</td><td>3.62</td><td>2.770</td><td>15.50</td><td>0</td><td>1</td><td>5</td><td>6</td></tr>\n",
       "\t<tr><th scope=row>Volvo 142E</th><td>21.4</td><td>4</td><td>121.0</td><td>109</td><td>4.11</td><td>2.780</td><td>18.60</td><td>1</td><td>1</td><td>4</td><td>2</td></tr>\n",
       "</tbody>\n",
       "</table>\n"
      ],
      "text/latex": [
       "A data.frame: 17 × 11\n",
       "\\begin{tabular}{r|lllllllllll}\n",
       "  & mpg & cyl & disp & hp & drat & wt & qsec & vs & am & gear & carb\\\\\n",
       "  & <dbl> & <dbl> & <dbl> & <dbl> & <dbl> & <dbl> & <dbl> & <dbl> & <dbl> & <dbl> & <dbl>\\\\\n",
       "\\hline\n",
       "\tMazda RX4 & 21.0 & 6 & 160.0 & 110 & 3.90 & 2.620 & 16.46 & 0 & 1 & 4 & 4\\\\\n",
       "\tMazda RX4 Wag & 21.0 & 6 & 160.0 & 110 & 3.90 & 2.875 & 17.02 & 0 & 1 & 4 & 4\\\\\n",
       "\tDatsun 710 & 22.8 & 4 & 108.0 &  93 & 3.85 & 2.320 & 18.61 & 1 & 1 & 4 & 1\\\\\n",
       "\tHornet 4 Drive & 21.4 & 6 & 258.0 & 110 & 3.08 & 3.215 & 19.44 & 1 & 0 & 3 & 1\\\\\n",
       "\tMerc 240D & 24.4 & 4 & 146.7 &  62 & 3.69 & 3.190 & 20.00 & 1 & 0 & 4 & 2\\\\\n",
       "\tMerc 230 & 22.8 & 4 & 140.8 &  95 & 3.92 & 3.150 & 22.90 & 1 & 0 & 4 & 2\\\\\n",
       "\tMerc 280 & 19.2 & 6 & 167.6 & 123 & 3.92 & 3.440 & 18.30 & 1 & 0 & 4 & 4\\\\\n",
       "\tFiat 128 & 32.4 & 4 &  78.7 &  66 & 4.08 & 2.200 & 19.47 & 1 & 1 & 4 & 1\\\\\n",
       "\tHonda Civic & 30.4 & 4 &  75.7 &  52 & 4.93 & 1.615 & 18.52 & 1 & 1 & 4 & 2\\\\\n",
       "\tToyota Corolla & 33.9 & 4 &  71.1 &  65 & 4.22 & 1.835 & 19.90 & 1 & 1 & 4 & 1\\\\\n",
       "\tToyota Corona & 21.5 & 4 & 120.1 &  97 & 3.70 & 2.465 & 20.01 & 1 & 0 & 3 & 1\\\\\n",
       "\tPontiac Firebird & 19.2 & 8 & 400.0 & 175 & 3.08 & 3.845 & 17.05 & 0 & 0 & 3 & 2\\\\\n",
       "\tFiat X1-9 & 27.3 & 4 &  79.0 &  66 & 4.08 & 1.935 & 18.90 & 1 & 1 & 4 & 1\\\\\n",
       "\tPorsche 914-2 & 26.0 & 4 & 120.3 &  91 & 4.43 & 2.140 & 16.70 & 0 & 1 & 5 & 2\\\\\n",
       "\tLotus Europa & 30.4 & 4 &  95.1 & 113 & 3.77 & 1.513 & 16.90 & 1 & 1 & 5 & 2\\\\\n",
       "\tFerrari Dino & 19.7 & 6 & 145.0 & 175 & 3.62 & 2.770 & 15.50 & 0 & 1 & 5 & 6\\\\\n",
       "\tVolvo 142E & 21.4 & 4 & 121.0 & 109 & 4.11 & 2.780 & 18.60 & 1 & 1 & 4 & 2\\\\\n",
       "\\end{tabular}\n"
      ],
      "text/markdown": [
       "\n",
       "A data.frame: 17 × 11\n",
       "\n",
       "| <!--/--> | mpg &lt;dbl&gt; | cyl &lt;dbl&gt; | disp &lt;dbl&gt; | hp &lt;dbl&gt; | drat &lt;dbl&gt; | wt &lt;dbl&gt; | qsec &lt;dbl&gt; | vs &lt;dbl&gt; | am &lt;dbl&gt; | gear &lt;dbl&gt; | carb &lt;dbl&gt; |\n",
       "|---|---|---|---|---|---|---|---|---|---|---|---|\n",
       "| Mazda RX4 | 21.0 | 6 | 160.0 | 110 | 3.90 | 2.620 | 16.46 | 0 | 1 | 4 | 4 |\n",
       "| Mazda RX4 Wag | 21.0 | 6 | 160.0 | 110 | 3.90 | 2.875 | 17.02 | 0 | 1 | 4 | 4 |\n",
       "| Datsun 710 | 22.8 | 4 | 108.0 |  93 | 3.85 | 2.320 | 18.61 | 1 | 1 | 4 | 1 |\n",
       "| Hornet 4 Drive | 21.4 | 6 | 258.0 | 110 | 3.08 | 3.215 | 19.44 | 1 | 0 | 3 | 1 |\n",
       "| Merc 240D | 24.4 | 4 | 146.7 |  62 | 3.69 | 3.190 | 20.00 | 1 | 0 | 4 | 2 |\n",
       "| Merc 230 | 22.8 | 4 | 140.8 |  95 | 3.92 | 3.150 | 22.90 | 1 | 0 | 4 | 2 |\n",
       "| Merc 280 | 19.2 | 6 | 167.6 | 123 | 3.92 | 3.440 | 18.30 | 1 | 0 | 4 | 4 |\n",
       "| Fiat 128 | 32.4 | 4 |  78.7 |  66 | 4.08 | 2.200 | 19.47 | 1 | 1 | 4 | 1 |\n",
       "| Honda Civic | 30.4 | 4 |  75.7 |  52 | 4.93 | 1.615 | 18.52 | 1 | 1 | 4 | 2 |\n",
       "| Toyota Corolla | 33.9 | 4 |  71.1 |  65 | 4.22 | 1.835 | 19.90 | 1 | 1 | 4 | 1 |\n",
       "| Toyota Corona | 21.5 | 4 | 120.1 |  97 | 3.70 | 2.465 | 20.01 | 1 | 0 | 3 | 1 |\n",
       "| Pontiac Firebird | 19.2 | 8 | 400.0 | 175 | 3.08 | 3.845 | 17.05 | 0 | 0 | 3 | 2 |\n",
       "| Fiat X1-9 | 27.3 | 4 |  79.0 |  66 | 4.08 | 1.935 | 18.90 | 1 | 1 | 4 | 1 |\n",
       "| Porsche 914-2 | 26.0 | 4 | 120.3 |  91 | 4.43 | 2.140 | 16.70 | 0 | 1 | 5 | 2 |\n",
       "| Lotus Europa | 30.4 | 4 |  95.1 | 113 | 3.77 | 1.513 | 16.90 | 1 | 1 | 5 | 2 |\n",
       "| Ferrari Dino | 19.7 | 6 | 145.0 | 175 | 3.62 | 2.770 | 15.50 | 0 | 1 | 5 | 6 |\n",
       "| Volvo 142E | 21.4 | 4 | 121.0 | 109 | 4.11 | 2.780 | 18.60 | 1 | 1 | 4 | 2 |\n",
       "\n"
      ],
      "text/plain": [
       "                 mpg  cyl disp  hp  drat wt    qsec  vs am gear carb\n",
       "Mazda RX4        21.0 6   160.0 110 3.90 2.620 16.46 0  1  4    4   \n",
       "Mazda RX4 Wag    21.0 6   160.0 110 3.90 2.875 17.02 0  1  4    4   \n",
       "Datsun 710       22.8 4   108.0  93 3.85 2.320 18.61 1  1  4    1   \n",
       "Hornet 4 Drive   21.4 6   258.0 110 3.08 3.215 19.44 1  0  3    1   \n",
       "Merc 240D        24.4 4   146.7  62 3.69 3.190 20.00 1  0  4    2   \n",
       "Merc 230         22.8 4   140.8  95 3.92 3.150 22.90 1  0  4    2   \n",
       "Merc 280         19.2 6   167.6 123 3.92 3.440 18.30 1  0  4    4   \n",
       "Fiat 128         32.4 4    78.7  66 4.08 2.200 19.47 1  1  4    1   \n",
       "Honda Civic      30.4 4    75.7  52 4.93 1.615 18.52 1  1  4    2   \n",
       "Toyota Corolla   33.9 4    71.1  65 4.22 1.835 19.90 1  1  4    1   \n",
       "Toyota Corona    21.5 4   120.1  97 3.70 2.465 20.01 1  0  3    1   \n",
       "Pontiac Firebird 19.2 8   400.0 175 3.08 3.845 17.05 0  0  3    2   \n",
       "Fiat X1-9        27.3 4    79.0  66 4.08 1.935 18.90 1  1  4    1   \n",
       "Porsche 914-2    26.0 4   120.3  91 4.43 2.140 16.70 0  1  5    2   \n",
       "Lotus Europa     30.4 4    95.1 113 3.77 1.513 16.90 1  1  5    2   \n",
       "Ferrari Dino     19.7 6   145.0 175 3.62 2.770 15.50 0  1  5    6   \n",
       "Volvo 142E       21.4 4   121.0 109 4.11 2.780 18.60 1  1  4    2   "
      ]
     },
     "metadata": {},
     "output_type": "display_data"
    }
   ],
   "source": [
    "df[df['mpg'] >= df['Pontiac Firebird', \"mpg\"], ]"
   ]
  },
  {
   "cell_type": "code",
   "execution_count": 138,
   "id": "634cf311",
   "metadata": {},
   "outputs": [
    {
     "data": {
      "text/html": [
       "<strong>mpg:</strong> 20.090625"
      ],
      "text/latex": [
       "\\textbf{mpg:} 20.090625"
      ],
      "text/markdown": [
       "**mpg:** 20.090625"
      ],
      "text/plain": [
       "     mpg \n",
       "20.09062 "
      ]
     },
     "metadata": {},
     "output_type": "display_data"
    }
   ],
   "source": [
    "colMeans(df)['mpg']"
   ]
  },
  {
   "cell_type": "code",
   "execution_count": 139,
   "id": "6e039bba",
   "metadata": {},
   "outputs": [
    {
     "data": {
      "text/html": [
       "<table class=\"dataframe\">\n",
       "<caption>A data.frame: 32 × 1</caption>\n",
       "<thead>\n",
       "\t<tr><th></th><th scope=col>gear</th></tr>\n",
       "\t<tr><th></th><th scope=col>&lt;dbl&gt;</th></tr>\n",
       "</thead>\n",
       "<tbody>\n",
       "\t<tr><th scope=row>Mazda RX4</th><td>4</td></tr>\n",
       "\t<tr><th scope=row>Mazda RX4 Wag</th><td>4</td></tr>\n",
       "\t<tr><th scope=row>Datsun 710</th><td>4</td></tr>\n",
       "\t<tr><th scope=row>Hornet 4 Drive</th><td>3</td></tr>\n",
       "\t<tr><th scope=row>Hornet Sportabout</th><td>3</td></tr>\n",
       "\t<tr><th scope=row>Valiant</th><td>3</td></tr>\n",
       "\t<tr><th scope=row>Duster 360</th><td>3</td></tr>\n",
       "\t<tr><th scope=row>Merc 240D</th><td>4</td></tr>\n",
       "\t<tr><th scope=row>Merc 230</th><td>4</td></tr>\n",
       "\t<tr><th scope=row>Merc 280</th><td>4</td></tr>\n",
       "\t<tr><th scope=row>Merc 280C</th><td>4</td></tr>\n",
       "\t<tr><th scope=row>Merc 450SE</th><td>3</td></tr>\n",
       "\t<tr><th scope=row>Merc 450SL</th><td>3</td></tr>\n",
       "\t<tr><th scope=row>Merc 450SLC</th><td>3</td></tr>\n",
       "\t<tr><th scope=row>Cadillac Fleetwood</th><td>3</td></tr>\n",
       "\t<tr><th scope=row>Lincoln Continental</th><td>3</td></tr>\n",
       "\t<tr><th scope=row>Chrysler Imperial</th><td>3</td></tr>\n",
       "\t<tr><th scope=row>Fiat 128</th><td>4</td></tr>\n",
       "\t<tr><th scope=row>Honda Civic</th><td>4</td></tr>\n",
       "\t<tr><th scope=row>Toyota Corolla</th><td>4</td></tr>\n",
       "\t<tr><th scope=row>Toyota Corona</th><td>3</td></tr>\n",
       "\t<tr><th scope=row>Dodge Challenger</th><td>3</td></tr>\n",
       "\t<tr><th scope=row>AMC Javelin</th><td>3</td></tr>\n",
       "\t<tr><th scope=row>Camaro Z28</th><td>3</td></tr>\n",
       "\t<tr><th scope=row>Pontiac Firebird</th><td>3</td></tr>\n",
       "\t<tr><th scope=row>Fiat X1-9</th><td>4</td></tr>\n",
       "\t<tr><th scope=row>Porsche 914-2</th><td>5</td></tr>\n",
       "\t<tr><th scope=row>Lotus Europa</th><td>5</td></tr>\n",
       "\t<tr><th scope=row>Ford Pantera L</th><td>5</td></tr>\n",
       "\t<tr><th scope=row>Ferrari Dino</th><td>5</td></tr>\n",
       "\t<tr><th scope=row>Maserati Bora</th><td>5</td></tr>\n",
       "\t<tr><th scope=row>Volvo 142E</th><td>4</td></tr>\n",
       "</tbody>\n",
       "</table>\n"
      ],
      "text/latex": [
       "A data.frame: 32 × 1\n",
       "\\begin{tabular}{r|l}\n",
       "  & gear\\\\\n",
       "  & <dbl>\\\\\n",
       "\\hline\n",
       "\tMazda RX4 & 4\\\\\n",
       "\tMazda RX4 Wag & 4\\\\\n",
       "\tDatsun 710 & 4\\\\\n",
       "\tHornet 4 Drive & 3\\\\\n",
       "\tHornet Sportabout & 3\\\\\n",
       "\tValiant & 3\\\\\n",
       "\tDuster 360 & 3\\\\\n",
       "\tMerc 240D & 4\\\\\n",
       "\tMerc 230 & 4\\\\\n",
       "\tMerc 280 & 4\\\\\n",
       "\tMerc 280C & 4\\\\\n",
       "\tMerc 450SE & 3\\\\\n",
       "\tMerc 450SL & 3\\\\\n",
       "\tMerc 450SLC & 3\\\\\n",
       "\tCadillac Fleetwood & 3\\\\\n",
       "\tLincoln Continental & 3\\\\\n",
       "\tChrysler Imperial & 3\\\\\n",
       "\tFiat 128 & 4\\\\\n",
       "\tHonda Civic & 4\\\\\n",
       "\tToyota Corolla & 4\\\\\n",
       "\tToyota Corona & 3\\\\\n",
       "\tDodge Challenger & 3\\\\\n",
       "\tAMC Javelin & 3\\\\\n",
       "\tCamaro Z28 & 3\\\\\n",
       "\tPontiac Firebird & 3\\\\\n",
       "\tFiat X1-9 & 4\\\\\n",
       "\tPorsche 914-2 & 5\\\\\n",
       "\tLotus Europa & 5\\\\\n",
       "\tFord Pantera L & 5\\\\\n",
       "\tFerrari Dino & 5\\\\\n",
       "\tMaserati Bora & 5\\\\\n",
       "\tVolvo 142E & 4\\\\\n",
       "\\end{tabular}\n"
      ],
      "text/markdown": [
       "\n",
       "A data.frame: 32 × 1\n",
       "\n",
       "| <!--/--> | gear &lt;dbl&gt; |\n",
       "|---|---|\n",
       "| Mazda RX4 | 4 |\n",
       "| Mazda RX4 Wag | 4 |\n",
       "| Datsun 710 | 4 |\n",
       "| Hornet 4 Drive | 3 |\n",
       "| Hornet Sportabout | 3 |\n",
       "| Valiant | 3 |\n",
       "| Duster 360 | 3 |\n",
       "| Merc 240D | 4 |\n",
       "| Merc 230 | 4 |\n",
       "| Merc 280 | 4 |\n",
       "| Merc 280C | 4 |\n",
       "| Merc 450SE | 3 |\n",
       "| Merc 450SL | 3 |\n",
       "| Merc 450SLC | 3 |\n",
       "| Cadillac Fleetwood | 3 |\n",
       "| Lincoln Continental | 3 |\n",
       "| Chrysler Imperial | 3 |\n",
       "| Fiat 128 | 4 |\n",
       "| Honda Civic | 4 |\n",
       "| Toyota Corolla | 4 |\n",
       "| Toyota Corona | 3 |\n",
       "| Dodge Challenger | 3 |\n",
       "| AMC Javelin | 3 |\n",
       "| Camaro Z28 | 3 |\n",
       "| Pontiac Firebird | 3 |\n",
       "| Fiat X1-9 | 4 |\n",
       "| Porsche 914-2 | 5 |\n",
       "| Lotus Europa | 5 |\n",
       "| Ford Pantera L | 5 |\n",
       "| Ferrari Dino | 5 |\n",
       "| Maserati Bora | 5 |\n",
       "| Volvo 142E | 4 |\n",
       "\n"
      ],
      "text/plain": [
       "                    gear\n",
       "Mazda RX4           4   \n",
       "Mazda RX4 Wag       4   \n",
       "Datsun 710          4   \n",
       "Hornet 4 Drive      3   \n",
       "Hornet Sportabout   3   \n",
       "Valiant             3   \n",
       "Duster 360          3   \n",
       "Merc 240D           4   \n",
       "Merc 230            4   \n",
       "Merc 280            4   \n",
       "Merc 280C           4   \n",
       "Merc 450SE          3   \n",
       "Merc 450SL          3   \n",
       "Merc 450SLC         3   \n",
       "Cadillac Fleetwood  3   \n",
       "Lincoln Continental 3   \n",
       "Chrysler Imperial   3   \n",
       "Fiat 128            4   \n",
       "Honda Civic         4   \n",
       "Toyota Corolla      4   \n",
       "Toyota Corona       3   \n",
       "Dodge Challenger    3   \n",
       "AMC Javelin         3   \n",
       "Camaro Z28          3   \n",
       "Pontiac Firebird    3   \n",
       "Fiat X1-9           4   \n",
       "Porsche 914-2       5   \n",
       "Lotus Europa        5   \n",
       "Ford Pantera L      5   \n",
       "Ferrari Dino        5   \n",
       "Maserati Bora       5   \n",
       "Volvo 142E          4   "
      ]
     },
     "metadata": {},
     "output_type": "display_data"
    }
   ],
   "source": [
    "df['gear']"
   ]
  },
  {
   "cell_type": "code",
   "execution_count": 140,
   "id": "626218dc",
   "metadata": {},
   "outputs": [
    {
     "data": {
      "text/html": [
       "<style>\n",
       ".list-inline {list-style: none; margin:0; padding: 0}\n",
       ".list-inline>li {display: inline-block}\n",
       ".list-inline>li:not(:last-child)::after {content: \"\\00b7\"; padding: 0 .5ex}\n",
       "</style>\n",
       "<ol class=list-inline><li>4</li><li>3</li><li>5</li></ol>\n"
      ],
      "text/latex": [
       "\\begin{enumerate*}\n",
       "\\item 4\n",
       "\\item 3\n",
       "\\item 5\n",
       "\\end{enumerate*}\n"
      ],
      "text/markdown": [
       "1. 4\n",
       "2. 3\n",
       "3. 5\n",
       "\n",
       "\n"
      ],
      "text/plain": [
       "[1] 4 3 5"
      ]
     },
     "metadata": {},
     "output_type": "display_data"
    }
   ],
   "source": [
    "unique(df$gear)"
   ]
  },
  {
   "cell_type": "code",
   "execution_count": 143,
   "id": "5af6ac24",
   "metadata": {},
   "outputs": [
    {
     "data": {
      "text/plain": [
       "\n",
       " 3  4  5 \n",
       "15 12  5 "
      ]
     },
     "metadata": {},
     "output_type": "display_data"
    }
   ],
   "source": [
    "table(df$gear)"
   ]
  },
  {
   "cell_type": "code",
   "execution_count": 152,
   "id": "359a212e",
   "metadata": {},
   "outputs": [
    {
     "data": {
      "image/png": "[encoded data removed]",
      "text/plain": [
       "plot without title"
      ]
     },
     "metadata": {
      "image/png": {
       "height": 420,
       "width": 420
      }
     },
     "output_type": "display_data"
    }
   ],
   "source": [
    "barplot(table(df$gear), col=c(\"pink\", \"white\", \"violet\"), name=c(\"3\", \"4\", \"5\"), sub=\"gear count of frequency\n",
    "\")"
   ]
  },
  {
   "cell_type": "code",
   "execution_count": 154,
   "id": "37d69520",
   "metadata": {},
   "outputs": [],
   "source": [
    "df = airquality"
   ]
  },
  {
   "cell_type": "code",
   "execution_count": 155,
   "id": "6663b99b",
   "metadata": {},
   "outputs": [
    {
     "data": {
      "text/html": [
       "'data.frame'"
      ],
      "text/latex": [
       "'data.frame'"
      ],
      "text/markdown": [
       "'data.frame'"
      ],
      "text/plain": [
       "[1] \"data.frame\""
      ]
     },
     "metadata": {},
     "output_type": "display_data"
    }
   ],
   "source": [
    "class(df)"
   ]
  },
  {
   "cell_type": "code",
   "execution_count": 156,
   "id": "84cefdb4",
   "metadata": {},
   "outputs": [
    {
     "data": {
      "text/html": [
       "<table class=\"dataframe\">\n",
       "<caption>A data.frame: 6 × 6</caption>\n",
       "<thead>\n",
       "\t<tr><th></th><th scope=col>Ozone</th><th scope=col>Solar.R</th><th scope=col>Wind</th><th scope=col>Temp</th><th scope=col>Month</th><th scope=col>Day</th></tr>\n",
       "\t<tr><th></th><th scope=col>&lt;int&gt;</th><th scope=col>&lt;int&gt;</th><th scope=col>&lt;dbl&gt;</th><th scope=col>&lt;int&gt;</th><th scope=col>&lt;int&gt;</th><th scope=col>&lt;int&gt;</th></tr>\n",
       "</thead>\n",
       "<tbody>\n",
       "\t<tr><th scope=row>1</th><td>41</td><td>190</td><td> 7.4</td><td>67</td><td>5</td><td>1</td></tr>\n",
       "\t<tr><th scope=row>2</th><td>36</td><td>118</td><td> 8.0</td><td>72</td><td>5</td><td>2</td></tr>\n",
       "\t<tr><th scope=row>3</th><td>12</td><td>149</td><td>12.6</td><td>74</td><td>5</td><td>3</td></tr>\n",
       "\t<tr><th scope=row>4</th><td>18</td><td>313</td><td>11.5</td><td>62</td><td>5</td><td>4</td></tr>\n",
       "\t<tr><th scope=row>5</th><td>NA</td><td> NA</td><td>14.3</td><td>56</td><td>5</td><td>5</td></tr>\n",
       "\t<tr><th scope=row>6</th><td>28</td><td> NA</td><td>14.9</td><td>66</td><td>5</td><td>6</td></tr>\n",
       "</tbody>\n",
       "</table>\n"
      ],
      "text/latex": [
       "A data.frame: 6 × 6\n",
       "\\begin{tabular}{r|llllll}\n",
       "  & Ozone & Solar.R & Wind & Temp & Month & Day\\\\\n",
       "  & <int> & <int> & <dbl> & <int> & <int> & <int>\\\\\n",
       "\\hline\n",
       "\t1 & 41 & 190 &  7.4 & 67 & 5 & 1\\\\\n",
       "\t2 & 36 & 118 &  8.0 & 72 & 5 & 2\\\\\n",
       "\t3 & 12 & 149 & 12.6 & 74 & 5 & 3\\\\\n",
       "\t4 & 18 & 313 & 11.5 & 62 & 5 & 4\\\\\n",
       "\t5 & NA &  NA & 14.3 & 56 & 5 & 5\\\\\n",
       "\t6 & 28 &  NA & 14.9 & 66 & 5 & 6\\\\\n",
       "\\end{tabular}\n"
      ],
      "text/markdown": [
       "\n",
       "A data.frame: 6 × 6\n",
       "\n",
       "| <!--/--> | Ozone &lt;int&gt; | Solar.R &lt;int&gt; | Wind &lt;dbl&gt; | Temp &lt;int&gt; | Month &lt;int&gt; | Day &lt;int&gt; |\n",
       "|---|---|---|---|---|---|---|\n",
       "| 1 | 41 | 190 |  7.4 | 67 | 5 | 1 |\n",
       "| 2 | 36 | 118 |  8.0 | 72 | 5 | 2 |\n",
       "| 3 | 12 | 149 | 12.6 | 74 | 5 | 3 |\n",
       "| 4 | 18 | 313 | 11.5 | 62 | 5 | 4 |\n",
       "| 5 | NA |  NA | 14.3 | 56 | 5 | 5 |\n",
       "| 6 | 28 |  NA | 14.9 | 66 | 5 | 6 |\n",
       "\n"
      ],
      "text/plain": [
       "  Ozone Solar.R Wind Temp Month Day\n",
       "1 41    190      7.4 67   5     1  \n",
       "2 36    118      8.0 72   5     2  \n",
       "3 12    149     12.6 74   5     3  \n",
       "4 18    313     11.5 62   5     4  \n",
       "5 NA     NA     14.3 56   5     5  \n",
       "6 28     NA     14.9 66   5     6  "
      ]
     },
     "metadata": {},
     "output_type": "display_data"
    }
   ],
   "source": [
    "head(df)"
   ]
  },
  {
   "cell_type": "code",
   "execution_count": 159,
   "id": "8a5b26ce",
   "metadata": {},
   "outputs": [
    {
     "data": {
      "text/html": [
       "<table class=\"dataframe\">\n",
       "<caption>A data.frame: 1 × 2</caption>\n",
       "<thead>\n",
       "\t<tr><th></th><th scope=col>Month</th><th scope=col>Day</th></tr>\n",
       "\t<tr><th></th><th scope=col>&lt;int&gt;</th><th scope=col>&lt;int&gt;</th></tr>\n",
       "</thead>\n",
       "<tbody>\n",
       "\t<tr><th scope=row>120</th><td>8</td><td>28</td></tr>\n",
       "</tbody>\n",
       "</table>\n"
      ],
      "text/latex": [
       "A data.frame: 1 × 2\n",
       "\\begin{tabular}{r|ll}\n",
       "  & Month & Day\\\\\n",
       "  & <int> & <int>\\\\\n",
       "\\hline\n",
       "\t120 & 8 & 28\\\\\n",
       "\\end{tabular}\n"
      ],
      "text/markdown": [
       "\n",
       "A data.frame: 1 × 2\n",
       "\n",
       "| <!--/--> | Month &lt;int&gt; | Day &lt;int&gt; |\n",
       "|---|---|---|\n",
       "| 120 | 8 | 28 |\n",
       "\n"
      ],
      "text/plain": [
       "    Month Day\n",
       "120 8     28 "
      ]
     },
     "metadata": {},
     "output_type": "display_data"
    }
   ],
   "source": [
    "df[df['Temp'] == max(df['Temp']),c(\"Month\", \"Day\")]"
   ]
  },
  {
   "cell_type": "code",
   "execution_count": 161,
   "id": "d89a30a8",
   "metadata": {},
   "outputs": [
    {
     "data": {
      "text/html": [
       "<table class=\"dataframe\">\n",
       "<caption>A data.frame: 31 × 6</caption>\n",
       "<thead>\n",
       "\t<tr><th></th><th scope=col>Ozone</th><th scope=col>Solar.R</th><th scope=col>Wind</th><th scope=col>Temp</th><th scope=col>Month</th><th scope=col>Day</th></tr>\n",
       "\t<tr><th></th><th scope=col>&lt;int&gt;</th><th scope=col>&lt;int&gt;</th><th scope=col>&lt;dbl&gt;</th><th scope=col>&lt;int&gt;</th><th scope=col>&lt;int&gt;</th><th scope=col>&lt;int&gt;</th></tr>\n",
       "</thead>\n",
       "<tbody>\n",
       "\t<tr><th scope=row>62</th><td>135</td><td>269</td><td> 4.1</td><td>84</td><td>7</td><td> 1</td></tr>\n",
       "\t<tr><th scope=row>63</th><td> 49</td><td>248</td><td> 9.2</td><td>85</td><td>7</td><td> 2</td></tr>\n",
       "\t<tr><th scope=row>64</th><td> 32</td><td>236</td><td> 9.2</td><td>81</td><td>7</td><td> 3</td></tr>\n",
       "\t<tr><th scope=row>65</th><td> NA</td><td>101</td><td>10.9</td><td>84</td><td>7</td><td> 4</td></tr>\n",
       "\t<tr><th scope=row>66</th><td> 64</td><td>175</td><td> 4.6</td><td>83</td><td>7</td><td> 5</td></tr>\n",
       "\t<tr><th scope=row>67</th><td> 40</td><td>314</td><td>10.9</td><td>83</td><td>7</td><td> 6</td></tr>\n",
       "\t<tr><th scope=row>68</th><td> 77</td><td>276</td><td> 5.1</td><td>88</td><td>7</td><td> 7</td></tr>\n",
       "\t<tr><th scope=row>69</th><td> 97</td><td>267</td><td> 6.3</td><td>92</td><td>7</td><td> 8</td></tr>\n",
       "\t<tr><th scope=row>70</th><td> 97</td><td>272</td><td> 5.7</td><td>92</td><td>7</td><td> 9</td></tr>\n",
       "\t<tr><th scope=row>71</th><td> 85</td><td>175</td><td> 7.4</td><td>89</td><td>7</td><td>10</td></tr>\n",
       "\t<tr><th scope=row>72</th><td> NA</td><td>139</td><td> 8.6</td><td>82</td><td>7</td><td>11</td></tr>\n",
       "\t<tr><th scope=row>73</th><td> 10</td><td>264</td><td>14.3</td><td>73</td><td>7</td><td>12</td></tr>\n",
       "\t<tr><th scope=row>74</th><td> 27</td><td>175</td><td>14.9</td><td>81</td><td>7</td><td>13</td></tr>\n",
       "\t<tr><th scope=row>75</th><td> NA</td><td>291</td><td>14.9</td><td>91</td><td>7</td><td>14</td></tr>\n",
       "\t<tr><th scope=row>76</th><td>  7</td><td> 48</td><td>14.3</td><td>80</td><td>7</td><td>15</td></tr>\n",
       "\t<tr><th scope=row>77</th><td> 48</td><td>260</td><td> 6.9</td><td>81</td><td>7</td><td>16</td></tr>\n",
       "\t<tr><th scope=row>78</th><td> 35</td><td>274</td><td>10.3</td><td>82</td><td>7</td><td>17</td></tr>\n",
       "\t<tr><th scope=row>79</th><td> 61</td><td>285</td><td> 6.3</td><td>84</td><td>7</td><td>18</td></tr>\n",
       "\t<tr><th scope=row>80</th><td> 79</td><td>187</td><td> 5.1</td><td>87</td><td>7</td><td>19</td></tr>\n",
       "\t<tr><th scope=row>81</th><td> 63</td><td>220</td><td>11.5</td><td>85</td><td>7</td><td>20</td></tr>\n",
       "\t<tr><th scope=row>82</th><td> 16</td><td>  7</td><td> 6.9</td><td>74</td><td>7</td><td>21</td></tr>\n",
       "\t<tr><th scope=row>83</th><td> NA</td><td>258</td><td> 9.7</td><td>81</td><td>7</td><td>22</td></tr>\n",
       "\t<tr><th scope=row>84</th><td> NA</td><td>295</td><td>11.5</td><td>82</td><td>7</td><td>23</td></tr>\n",
       "\t<tr><th scope=row>85</th><td> 80</td><td>294</td><td> 8.6</td><td>86</td><td>7</td><td>24</td></tr>\n",
       "\t<tr><th scope=row>86</th><td>108</td><td>223</td><td> 8.0</td><td>85</td><td>7</td><td>25</td></tr>\n",
       "\t<tr><th scope=row>87</th><td> 20</td><td> 81</td><td> 8.6</td><td>82</td><td>7</td><td>26</td></tr>\n",
       "\t<tr><th scope=row>88</th><td> 52</td><td> 82</td><td>12.0</td><td>86</td><td>7</td><td>27</td></tr>\n",
       "\t<tr><th scope=row>89</th><td> 82</td><td>213</td><td> 7.4</td><td>88</td><td>7</td><td>28</td></tr>\n",
       "\t<tr><th scope=row>90</th><td> 50</td><td>275</td><td> 7.4</td><td>86</td><td>7</td><td>29</td></tr>\n",
       "\t<tr><th scope=row>91</th><td> 64</td><td>253</td><td> 7.4</td><td>83</td><td>7</td><td>30</td></tr>\n",
       "\t<tr><th scope=row>92</th><td> 59</td><td>254</td><td> 9.2</td><td>81</td><td>7</td><td>31</td></tr>\n",
       "</tbody>\n",
       "</table>\n"
      ],
      "text/latex": [
       "A data.frame: 31 × 6\n",
       "\\begin{tabular}{r|llllll}\n",
       "  & Ozone & Solar.R & Wind & Temp & Month & Day\\\\\n",
       "  & <int> & <int> & <dbl> & <int> & <int> & <int>\\\\\n",
       "\\hline\n",
       "\t62 & 135 & 269 &  4.1 & 84 & 7 &  1\\\\\n",
       "\t63 &  49 & 248 &  9.2 & 85 & 7 &  2\\\\\n",
       "\t64 &  32 & 236 &  9.2 & 81 & 7 &  3\\\\\n",
       "\t65 &  NA & 101 & 10.9 & 84 & 7 &  4\\\\\n",
       "\t66 &  64 & 175 &  4.6 & 83 & 7 &  5\\\\\n",
       "\t67 &  40 & 314 & 10.9 & 83 & 7 &  6\\\\\n",
       "\t68 &  77 & 276 &  5.1 & 88 & 7 &  7\\\\\n",
       "\t69 &  97 & 267 &  6.3 & 92 & 7 &  8\\\\\n",
       "\t70 &  97 & 272 &  5.7 & 92 & 7 &  9\\\\\n",
       "\t71 &  85 & 175 &  7.4 & 89 & 7 & 10\\\\\n",
       "\t72 &  NA & 139 &  8.6 & 82 & 7 & 11\\\\\n",
       "\t73 &  10 & 264 & 14.3 & 73 & 7 & 12\\\\\n",
       "\t74 &  27 & 175 & 14.9 & 81 & 7 & 13\\\\\n",
       "\t75 &  NA & 291 & 14.9 & 91 & 7 & 14\\\\\n",
       "\t76 &   7 &  48 & 14.3 & 80 & 7 & 15\\\\\n",
       "\t77 &  48 & 260 &  6.9 & 81 & 7 & 16\\\\\n",
       "\t78 &  35 & 274 & 10.3 & 82 & 7 & 17\\\\\n",
       "\t79 &  61 & 285 &  6.3 & 84 & 7 & 18\\\\\n",
       "\t80 &  79 & 187 &  5.1 & 87 & 7 & 19\\\\\n",
       "\t81 &  63 & 220 & 11.5 & 85 & 7 & 20\\\\\n",
       "\t82 &  16 &   7 &  6.9 & 74 & 7 & 21\\\\\n",
       "\t83 &  NA & 258 &  9.7 & 81 & 7 & 22\\\\\n",
       "\t84 &  NA & 295 & 11.5 & 82 & 7 & 23\\\\\n",
       "\t85 &  80 & 294 &  8.6 & 86 & 7 & 24\\\\\n",
       "\t86 & 108 & 223 &  8.0 & 85 & 7 & 25\\\\\n",
       "\t87 &  20 &  81 &  8.6 & 82 & 7 & 26\\\\\n",
       "\t88 &  52 &  82 & 12.0 & 86 & 7 & 27\\\\\n",
       "\t89 &  82 & 213 &  7.4 & 88 & 7 & 28\\\\\n",
       "\t90 &  50 & 275 &  7.4 & 86 & 7 & 29\\\\\n",
       "\t91 &  64 & 253 &  7.4 & 83 & 7 & 30\\\\\n",
       "\t92 &  59 & 254 &  9.2 & 81 & 7 & 31\\\\\n",
       "\\end{tabular}\n"
      ],
      "text/markdown": [
       "\n",
       "A data.frame: 31 × 6\n",
       "\n",
       "| <!--/--> | Ozone &lt;int&gt; | Solar.R &lt;int&gt; | Wind &lt;dbl&gt; | Temp &lt;int&gt; | Month &lt;int&gt; | Day &lt;int&gt; |\n",
       "|---|---|---|---|---|---|---|\n",
       "| 62 | 135 | 269 |  4.1 | 84 | 7 |  1 |\n",
       "| 63 |  49 | 248 |  9.2 | 85 | 7 |  2 |\n",
       "| 64 |  32 | 236 |  9.2 | 81 | 7 |  3 |\n",
       "| 65 |  NA | 101 | 10.9 | 84 | 7 |  4 |\n",
       "| 66 |  64 | 175 |  4.6 | 83 | 7 |  5 |\n",
       "| 67 |  40 | 314 | 10.9 | 83 | 7 |  6 |\n",
       "| 68 |  77 | 276 |  5.1 | 88 | 7 |  7 |\n",
       "| 69 |  97 | 267 |  6.3 | 92 | 7 |  8 |\n",
       "| 70 |  97 | 272 |  5.7 | 92 | 7 |  9 |\n",
       "| 71 |  85 | 175 |  7.4 | 89 | 7 | 10 |\n",
       "| 72 |  NA | 139 |  8.6 | 82 | 7 | 11 |\n",
       "| 73 |  10 | 264 | 14.3 | 73 | 7 | 12 |\n",
       "| 74 |  27 | 175 | 14.9 | 81 | 7 | 13 |\n",
       "| 75 |  NA | 291 | 14.9 | 91 | 7 | 14 |\n",
       "| 76 |   7 |  48 | 14.3 | 80 | 7 | 15 |\n",
       "| 77 |  48 | 260 |  6.9 | 81 | 7 | 16 |\n",
       "| 78 |  35 | 274 | 10.3 | 82 | 7 | 17 |\n",
       "| 79 |  61 | 285 |  6.3 | 84 | 7 | 18 |\n",
       "| 80 |  79 | 187 |  5.1 | 87 | 7 | 19 |\n",
       "| 81 |  63 | 220 | 11.5 | 85 | 7 | 20 |\n",
       "| 82 |  16 |   7 |  6.9 | 74 | 7 | 21 |\n",
       "| 83 |  NA | 258 |  9.7 | 81 | 7 | 22 |\n",
       "| 84 |  NA | 295 | 11.5 | 82 | 7 | 23 |\n",
       "| 85 |  80 | 294 |  8.6 | 86 | 7 | 24 |\n",
       "| 86 | 108 | 223 |  8.0 | 85 | 7 | 25 |\n",
       "| 87 |  20 |  81 |  8.6 | 82 | 7 | 26 |\n",
       "| 88 |  52 |  82 | 12.0 | 86 | 7 | 27 |\n",
       "| 89 |  82 | 213 |  7.4 | 88 | 7 | 28 |\n",
       "| 90 |  50 | 275 |  7.4 | 86 | 7 | 29 |\n",
       "| 91 |  64 | 253 |  7.4 | 83 | 7 | 30 |\n",
       "| 92 |  59 | 254 |  9.2 | 81 | 7 | 31 |\n",
       "\n"
      ],
      "text/plain": [
       "   Ozone Solar.R Wind Temp Month Day\n",
       "62 135   269      4.1 84   7      1 \n",
       "63  49   248      9.2 85   7      2 \n",
       "64  32   236      9.2 81   7      3 \n",
       "65  NA   101     10.9 84   7      4 \n",
       "66  64   175      4.6 83   7      5 \n",
       "67  40   314     10.9 83   7      6 \n",
       "68  77   276      5.1 88   7      7 \n",
       "69  97   267      6.3 92   7      8 \n",
       "70  97   272      5.7 92   7      9 \n",
       "71  85   175      7.4 89   7     10 \n",
       "72  NA   139      8.6 82   7     11 \n",
       "73  10   264     14.3 73   7     12 \n",
       "74  27   175     14.9 81   7     13 \n",
       "75  NA   291     14.9 91   7     14 \n",
       "76   7    48     14.3 80   7     15 \n",
       "77  48   260      6.9 81   7     16 \n",
       "78  35   274     10.3 82   7     17 \n",
       "79  61   285      6.3 84   7     18 \n",
       "80  79   187      5.1 87   7     19 \n",
       "81  63   220     11.5 85   7     20 \n",
       "82  16     7      6.9 74   7     21 \n",
       "83  NA   258      9.7 81   7     22 \n",
       "84  NA   295     11.5 82   7     23 \n",
       "85  80   294      8.6 86   7     24 \n",
       "86 108   223      8.0 85   7     25 \n",
       "87  20    81      8.6 82   7     26 \n",
       "88  52    82     12.0 86   7     27 \n",
       "89  82   213      7.4 88   7     28 \n",
       "90  50   275      7.4 86   7     29 \n",
       "91  64   253      7.4 83   7     30 \n",
       "92  59   254      9.2 81   7     31 "
      ]
     },
     "metadata": {},
     "output_type": "display_data"
    }
   ],
   "source": [
    "subset <- df[df['Month'] == 7, ]\n",
    "subset"
   ]
  },
  {
   "cell_type": "code",
   "execution_count": 165,
   "id": "55083387",
   "metadata": {},
   "outputs": [
    {
     "data": {
      "text/html": [
       "<strong>Temp:</strong> 83.9032258064516"
      ],
      "text/latex": [
       "\\textbf{Temp:} 83.9032258064516"
      ],
      "text/markdown": [
       "**Temp:** 83.9032258064516"
      ],
      "text/plain": [
       "    Temp \n",
       "83.90323 "
      ]
     },
     "metadata": {},
     "output_type": "display_data"
    }
   ],
   "source": [
    "colMeans(subset)['Temp']"
   ]
  },
  {
   "cell_type": "code",
   "execution_count": 169,
   "id": "4bd4f77d",
   "metadata": {},
   "outputs": [
    {
     "data": {
      "text/html": [
       "<table class=\"dataframe\">\n",
       "<caption>A data.frame: 31 × 6</caption>\n",
       "<thead>\n",
       "\t<tr><th></th><th scope=col>Ozone</th><th scope=col>Solar.R</th><th scope=col>Wind</th><th scope=col>Temp</th><th scope=col>Month</th><th scope=col>Day</th></tr>\n",
       "\t<tr><th></th><th scope=col>&lt;int&gt;</th><th scope=col>&lt;int&gt;</th><th scope=col>&lt;dbl&gt;</th><th scope=col>&lt;int&gt;</th><th scope=col>&lt;int&gt;</th><th scope=col>&lt;int&gt;</th></tr>\n",
       "</thead>\n",
       "<tbody>\n",
       "\t<tr><th scope=row>1</th><td> 41</td><td>190</td><td> 7.4</td><td>67</td><td>5</td><td> 1</td></tr>\n",
       "\t<tr><th scope=row>2</th><td> 36</td><td>118</td><td> 8.0</td><td>72</td><td>5</td><td> 2</td></tr>\n",
       "\t<tr><th scope=row>3</th><td> 12</td><td>149</td><td>12.6</td><td>74</td><td>5</td><td> 3</td></tr>\n",
       "\t<tr><th scope=row>4</th><td> 18</td><td>313</td><td>11.5</td><td>62</td><td>5</td><td> 4</td></tr>\n",
       "\t<tr><th scope=row>5</th><td> NA</td><td> NA</td><td>14.3</td><td>56</td><td>5</td><td> 5</td></tr>\n",
       "\t<tr><th scope=row>6</th><td> 28</td><td> NA</td><td>14.9</td><td>66</td><td>5</td><td> 6</td></tr>\n",
       "\t<tr><th scope=row>7</th><td> 23</td><td>299</td><td> 8.6</td><td>65</td><td>5</td><td> 7</td></tr>\n",
       "\t<tr><th scope=row>8</th><td> 19</td><td> 99</td><td>13.8</td><td>59</td><td>5</td><td> 8</td></tr>\n",
       "\t<tr><th scope=row>9</th><td>  8</td><td> 19</td><td>20.1</td><td>61</td><td>5</td><td> 9</td></tr>\n",
       "\t<tr><th scope=row>10</th><td> NA</td><td>194</td><td> 8.6</td><td>69</td><td>5</td><td>10</td></tr>\n",
       "\t<tr><th scope=row>11</th><td>  7</td><td> NA</td><td> 6.9</td><td>74</td><td>5</td><td>11</td></tr>\n",
       "\t<tr><th scope=row>12</th><td> 16</td><td>256</td><td> 9.7</td><td>69</td><td>5</td><td>12</td></tr>\n",
       "\t<tr><th scope=row>13</th><td> 11</td><td>290</td><td> 9.2</td><td>66</td><td>5</td><td>13</td></tr>\n",
       "\t<tr><th scope=row>14</th><td> 14</td><td>274</td><td>10.9</td><td>68</td><td>5</td><td>14</td></tr>\n",
       "\t<tr><th scope=row>15</th><td> 18</td><td> 65</td><td>13.2</td><td>58</td><td>5</td><td>15</td></tr>\n",
       "\t<tr><th scope=row>16</th><td> 14</td><td>334</td><td>11.5</td><td>64</td><td>5</td><td>16</td></tr>\n",
       "\t<tr><th scope=row>17</th><td> 34</td><td>307</td><td>12.0</td><td>66</td><td>5</td><td>17</td></tr>\n",
       "\t<tr><th scope=row>18</th><td>  6</td><td> 78</td><td>18.4</td><td>57</td><td>5</td><td>18</td></tr>\n",
       "\t<tr><th scope=row>19</th><td> 30</td><td>322</td><td>11.5</td><td>68</td><td>5</td><td>19</td></tr>\n",
       "\t<tr><th scope=row>20</th><td> 11</td><td> 44</td><td> 9.7</td><td>62</td><td>5</td><td>20</td></tr>\n",
       "\t<tr><th scope=row>21</th><td>  1</td><td>  8</td><td> 9.7</td><td>59</td><td>5</td><td>21</td></tr>\n",
       "\t<tr><th scope=row>22</th><td> 11</td><td>320</td><td>16.6</td><td>73</td><td>5</td><td>22</td></tr>\n",
       "\t<tr><th scope=row>23</th><td>  4</td><td> 25</td><td> 9.7</td><td>61</td><td>5</td><td>23</td></tr>\n",
       "\t<tr><th scope=row>24</th><td> 32</td><td> 92</td><td>12.0</td><td>61</td><td>5</td><td>24</td></tr>\n",
       "\t<tr><th scope=row>25</th><td> NA</td><td> 66</td><td>16.6</td><td>57</td><td>5</td><td>25</td></tr>\n",
       "\t<tr><th scope=row>26</th><td> NA</td><td>266</td><td>14.9</td><td>58</td><td>5</td><td>26</td></tr>\n",
       "\t<tr><th scope=row>27</th><td> NA</td><td> NA</td><td> 8.0</td><td>57</td><td>5</td><td>27</td></tr>\n",
       "\t<tr><th scope=row>28</th><td> 23</td><td> 13</td><td>12.0</td><td>67</td><td>5</td><td>28</td></tr>\n",
       "\t<tr><th scope=row>29</th><td> 45</td><td>252</td><td>14.9</td><td>81</td><td>5</td><td>29</td></tr>\n",
       "\t<tr><th scope=row>30</th><td>115</td><td>223</td><td> 5.7</td><td>79</td><td>5</td><td>30</td></tr>\n",
       "\t<tr><th scope=row>31</th><td> 37</td><td>279</td><td> 7.4</td><td>76</td><td>5</td><td>31</td></tr>\n",
       "</tbody>\n",
       "</table>\n"
      ],
      "text/latex": [
       "A data.frame: 31 × 6\n",
       "\\begin{tabular}{r|llllll}\n",
       "  & Ozone & Solar.R & Wind & Temp & Month & Day\\\\\n",
       "  & <int> & <int> & <dbl> & <int> & <int> & <int>\\\\\n",
       "\\hline\n",
       "\t1 &  41 & 190 &  7.4 & 67 & 5 &  1\\\\\n",
       "\t2 &  36 & 118 &  8.0 & 72 & 5 &  2\\\\\n",
       "\t3 &  12 & 149 & 12.6 & 74 & 5 &  3\\\\\n",
       "\t4 &  18 & 313 & 11.5 & 62 & 5 &  4\\\\\n",
       "\t5 &  NA &  NA & 14.3 & 56 & 5 &  5\\\\\n",
       "\t6 &  28 &  NA & 14.9 & 66 & 5 &  6\\\\\n",
       "\t7 &  23 & 299 &  8.6 & 65 & 5 &  7\\\\\n",
       "\t8 &  19 &  99 & 13.8 & 59 & 5 &  8\\\\\n",
       "\t9 &   8 &  19 & 20.1 & 61 & 5 &  9\\\\\n",
       "\t10 &  NA & 194 &  8.6 & 69 & 5 & 10\\\\\n",
       "\t11 &   7 &  NA &  6.9 & 74 & 5 & 11\\\\\n",
       "\t12 &  16 & 256 &  9.7 & 69 & 5 & 12\\\\\n",
       "\t13 &  11 & 290 &  9.2 & 66 & 5 & 13\\\\\n",
       "\t14 &  14 & 274 & 10.9 & 68 & 5 & 14\\\\\n",
       "\t15 &  18 &  65 & 13.2 & 58 & 5 & 15\\\\\n",
       "\t16 &  14 & 334 & 11.5 & 64 & 5 & 16\\\\\n",
       "\t17 &  34 & 307 & 12.0 & 66 & 5 & 17\\\\\n",
       "\t18 &   6 &  78 & 18.4 & 57 & 5 & 18\\\\\n",
       "\t19 &  30 & 322 & 11.5 & 68 & 5 & 19\\\\\n",
       "\t20 &  11 &  44 &  9.7 & 62 & 5 & 20\\\\\n",
       "\t21 &   1 &   8 &  9.7 & 59 & 5 & 21\\\\\n",
       "\t22 &  11 & 320 & 16.6 & 73 & 5 & 22\\\\\n",
       "\t23 &   4 &  25 &  9.7 & 61 & 5 & 23\\\\\n",
       "\t24 &  32 &  92 & 12.0 & 61 & 5 & 24\\\\\n",
       "\t25 &  NA &  66 & 16.6 & 57 & 5 & 25\\\\\n",
       "\t26 &  NA & 266 & 14.9 & 58 & 5 & 26\\\\\n",
       "\t27 &  NA &  NA &  8.0 & 57 & 5 & 27\\\\\n",
       "\t28 &  23 &  13 & 12.0 & 67 & 5 & 28\\\\\n",
       "\t29 &  45 & 252 & 14.9 & 81 & 5 & 29\\\\\n",
       "\t30 & 115 & 223 &  5.7 & 79 & 5 & 30\\\\\n",
       "\t31 &  37 & 279 &  7.4 & 76 & 5 & 31\\\\\n",
       "\\end{tabular}\n"
      ],
      "text/markdown": [
       "\n",
       "A data.frame: 31 × 6\n",
       "\n",
       "| <!--/--> | Ozone &lt;int&gt; | Solar.R &lt;int&gt; | Wind &lt;dbl&gt; | Temp &lt;int&gt; | Month &lt;int&gt; | Day &lt;int&gt; |\n",
       "|---|---|---|---|---|---|---|\n",
       "| 1 |  41 | 190 |  7.4 | 67 | 5 |  1 |\n",
       "| 2 |  36 | 118 |  8.0 | 72 | 5 |  2 |\n",
       "| 3 |  12 | 149 | 12.6 | 74 | 5 |  3 |\n",
       "| 4 |  18 | 313 | 11.5 | 62 | 5 |  4 |\n",
       "| 5 |  NA |  NA | 14.3 | 56 | 5 |  5 |\n",
       "| 6 |  28 |  NA | 14.9 | 66 | 5 |  6 |\n",
       "| 7 |  23 | 299 |  8.6 | 65 | 5 |  7 |\n",
       "| 8 |  19 |  99 | 13.8 | 59 | 5 |  8 |\n",
       "| 9 |   8 |  19 | 20.1 | 61 | 5 |  9 |\n",
       "| 10 |  NA | 194 |  8.6 | 69 | 5 | 10 |\n",
       "| 11 |   7 |  NA |  6.9 | 74 | 5 | 11 |\n",
       "| 12 |  16 | 256 |  9.7 | 69 | 5 | 12 |\n",
       "| 13 |  11 | 290 |  9.2 | 66 | 5 | 13 |\n",
       "| 14 |  14 | 274 | 10.9 | 68 | 5 | 14 |\n",
       "| 15 |  18 |  65 | 13.2 | 58 | 5 | 15 |\n",
       "| 16 |  14 | 334 | 11.5 | 64 | 5 | 16 |\n",
       "| 17 |  34 | 307 | 12.0 | 66 | 5 | 17 |\n",
       "| 18 |   6 |  78 | 18.4 | 57 | 5 | 18 |\n",
       "| 19 |  30 | 322 | 11.5 | 68 | 5 | 19 |\n",
       "| 20 |  11 |  44 |  9.7 | 62 | 5 | 20 |\n",
       "| 21 |   1 |   8 |  9.7 | 59 | 5 | 21 |\n",
       "| 22 |  11 | 320 | 16.6 | 73 | 5 | 22 |\n",
       "| 23 |   4 |  25 |  9.7 | 61 | 5 | 23 |\n",
       "| 24 |  32 |  92 | 12.0 | 61 | 5 | 24 |\n",
       "| 25 |  NA |  66 | 16.6 | 57 | 5 | 25 |\n",
       "| 26 |  NA | 266 | 14.9 | 58 | 5 | 26 |\n",
       "| 27 |  NA |  NA |  8.0 | 57 | 5 | 27 |\n",
       "| 28 |  23 |  13 | 12.0 | 67 | 5 | 28 |\n",
       "| 29 |  45 | 252 | 14.9 | 81 | 5 | 29 |\n",
       "| 30 | 115 | 223 |  5.7 | 79 | 5 | 30 |\n",
       "| 31 |  37 | 279 |  7.4 | 76 | 5 | 31 |\n",
       "\n"
      ],
      "text/plain": [
       "   Ozone Solar.R Wind Temp Month Day\n",
       "1   41   190      7.4 67   5      1 \n",
       "2   36   118      8.0 72   5      2 \n",
       "3   12   149     12.6 74   5      3 \n",
       "4   18   313     11.5 62   5      4 \n",
       "5   NA    NA     14.3 56   5      5 \n",
       "6   28    NA     14.9 66   5      6 \n",
       "7   23   299      8.6 65   5      7 \n",
       "8   19    99     13.8 59   5      8 \n",
       "9    8    19     20.1 61   5      9 \n",
       "10  NA   194      8.6 69   5     10 \n",
       "11   7    NA      6.9 74   5     11 \n",
       "12  16   256      9.7 69   5     12 \n",
       "13  11   290      9.2 66   5     13 \n",
       "14  14   274     10.9 68   5     14 \n",
       "15  18    65     13.2 58   5     15 \n",
       "16  14   334     11.5 64   5     16 \n",
       "17  34   307     12.0 66   5     17 \n",
       "18   6    78     18.4 57   5     18 \n",
       "19  30   322     11.5 68   5     19 \n",
       "20  11    44      9.7 62   5     20 \n",
       "21   1     8      9.7 59   5     21 \n",
       "22  11   320     16.6 73   5     22 \n",
       "23   4    25      9.7 61   5     23 \n",
       "24  32    92     12.0 61   5     24 \n",
       "25  NA    66     16.6 57   5     25 \n",
       "26  NA   266     14.9 58   5     26 \n",
       "27  NA    NA      8.0 57   5     27 \n",
       "28  23    13     12.0 67   5     28 \n",
       "29  45   252     14.9 81   5     29 \n",
       "30 115   223      5.7 79   5     30 \n",
       "31  37   279      7.4 76   5     31 "
      ]
     },
     "metadata": {},
     "output_type": "display_data"
    }
   ],
   "source": [
    "subset <- df[df['Month'] == 5, ]\n",
    "subset"
   ]
  },
  {
   "cell_type": "code",
   "execution_count": 170,
   "id": "b6b253f4",
   "metadata": {},
   "outputs": [
    {
     "name": "stderr",
     "output_type": "stream",
     "text": [
      "Warning message in mean.default(subset[\"Ozone\"], na.rm = T):\n",
      "\"argument is not numeric or logical: returning NA\"\n"
     ]
    },
    {
     "data": {
      "text/html": [
       "&lt;NA&gt;"
      ],
      "text/latex": [
       "<NA>"
      ],
      "text/markdown": [
       "&lt;NA&gt;"
      ],
      "text/plain": [
       "[1] NA"
      ]
     },
     "metadata": {},
     "output_type": "display_data"
    }
   ],
   "source": [
    "mean(subset['Ozone'], na.rm=T)"
   ]
  },
  {
   "cell_type": "code",
   "execution_count": 176,
   "id": "51be52c9",
   "metadata": {},
   "outputs": [
    {
     "data": {
      "text/html": [
       "23.6153846153846"
      ],
      "text/latex": [
       "23.6153846153846"
      ],
      "text/markdown": [
       "23.6153846153846"
      ],
      "text/plain": [
       "[1] 23.61538"
      ]
     },
     "metadata": {},
     "output_type": "display_data"
    }
   ],
   "source": [
    "mean(subset$Ozone, na.rm=TRUE)"
   ]
  },
  {
   "cell_type": "code",
   "execution_count": 182,
   "id": "8e664b0b",
   "metadata": {},
   "outputs": [
    {
     "data": {
      "text/html": [
       "6"
      ],
      "text/latex": [
       "6"
      ],
      "text/markdown": [
       "6"
      ],
      "text/plain": [
       "[1] 6"
      ]
     },
     "metadata": {},
     "output_type": "display_data"
    }
   ],
   "source": [
    "length(df[df['Ozone'] > 100, ])"
   ]
  },
  {
   "cell_type": "code",
   "execution_count": 183,
   "id": "0545951e",
   "metadata": {},
   "outputs": [
    {
     "data": {
      "text/html": [
       "<table class=\"dataframe\">\n",
       "<caption>A data.frame: 44 × 6</caption>\n",
       "<thead>\n",
       "\t<tr><th></th><th scope=col>Ozone</th><th scope=col>Solar.R</th><th scope=col>Wind</th><th scope=col>Temp</th><th scope=col>Month</th><th scope=col>Day</th></tr>\n",
       "\t<tr><th></th><th scope=col>&lt;int&gt;</th><th scope=col>&lt;int&gt;</th><th scope=col>&lt;dbl&gt;</th><th scope=col>&lt;int&gt;</th><th scope=col>&lt;int&gt;</th><th scope=col>&lt;int&gt;</th></tr>\n",
       "</thead>\n",
       "<tbody>\n",
       "\t<tr><th scope=row>NA</th><td> NA</td><td> NA</td><td> NA</td><td>NA</td><td>NA</td><td>NA</td></tr>\n",
       "\t<tr><th scope=row>NA.1</th><td> NA</td><td> NA</td><td> NA</td><td>NA</td><td>NA</td><td>NA</td></tr>\n",
       "\t<tr><th scope=row>NA.2</th><td> NA</td><td> NA</td><td> NA</td><td>NA</td><td>NA</td><td>NA</td></tr>\n",
       "\t<tr><th scope=row>NA.3</th><td> NA</td><td> NA</td><td> NA</td><td>NA</td><td>NA</td><td>NA</td></tr>\n",
       "\t<tr><th scope=row>NA.4</th><td> NA</td><td> NA</td><td> NA</td><td>NA</td><td>NA</td><td>NA</td></tr>\n",
       "\t<tr><th scope=row>30</th><td>115</td><td>223</td><td>5.7</td><td>79</td><td> 5</td><td>30</td></tr>\n",
       "\t<tr><th scope=row>NA.5</th><td> NA</td><td> NA</td><td> NA</td><td>NA</td><td>NA</td><td>NA</td></tr>\n",
       "\t<tr><th scope=row>NA.6</th><td> NA</td><td> NA</td><td> NA</td><td>NA</td><td>NA</td><td>NA</td></tr>\n",
       "\t<tr><th scope=row>NA.7</th><td> NA</td><td> NA</td><td> NA</td><td>NA</td><td>NA</td><td>NA</td></tr>\n",
       "\t<tr><th scope=row>NA.8</th><td> NA</td><td> NA</td><td> NA</td><td>NA</td><td>NA</td><td>NA</td></tr>\n",
       "\t<tr><th scope=row>NA.9</th><td> NA</td><td> NA</td><td> NA</td><td>NA</td><td>NA</td><td>NA</td></tr>\n",
       "\t<tr><th scope=row>NA.10</th><td> NA</td><td> NA</td><td> NA</td><td>NA</td><td>NA</td><td>NA</td></tr>\n",
       "\t<tr><th scope=row>NA.11</th><td> NA</td><td> NA</td><td> NA</td><td>NA</td><td>NA</td><td>NA</td></tr>\n",
       "\t<tr><th scope=row>NA.12</th><td> NA</td><td> NA</td><td> NA</td><td>NA</td><td>NA</td><td>NA</td></tr>\n",
       "\t<tr><th scope=row>NA.13</th><td> NA</td><td> NA</td><td> NA</td><td>NA</td><td>NA</td><td>NA</td></tr>\n",
       "\t<tr><th scope=row>NA.14</th><td> NA</td><td> NA</td><td> NA</td><td>NA</td><td>NA</td><td>NA</td></tr>\n",
       "\t<tr><th scope=row>NA.15</th><td> NA</td><td> NA</td><td> NA</td><td>NA</td><td>NA</td><td>NA</td></tr>\n",
       "\t<tr><th scope=row>NA.16</th><td> NA</td><td> NA</td><td> NA</td><td>NA</td><td>NA</td><td>NA</td></tr>\n",
       "\t<tr><th scope=row>NA.17</th><td> NA</td><td> NA</td><td> NA</td><td>NA</td><td>NA</td><td>NA</td></tr>\n",
       "\t<tr><th scope=row>NA.18</th><td> NA</td><td> NA</td><td> NA</td><td>NA</td><td>NA</td><td>NA</td></tr>\n",
       "\t<tr><th scope=row>NA.19</th><td> NA</td><td> NA</td><td> NA</td><td>NA</td><td>NA</td><td>NA</td></tr>\n",
       "\t<tr><th scope=row>NA.20</th><td> NA</td><td> NA</td><td> NA</td><td>NA</td><td>NA</td><td>NA</td></tr>\n",
       "\t<tr><th scope=row>NA.21</th><td> NA</td><td> NA</td><td> NA</td><td>NA</td><td>NA</td><td>NA</td></tr>\n",
       "\t<tr><th scope=row>NA.22</th><td> NA</td><td> NA</td><td> NA</td><td>NA</td><td>NA</td><td>NA</td></tr>\n",
       "\t<tr><th scope=row>NA.23</th><td> NA</td><td> NA</td><td> NA</td><td>NA</td><td>NA</td><td>NA</td></tr>\n",
       "\t<tr><th scope=row>NA.24</th><td> NA</td><td> NA</td><td> NA</td><td>NA</td><td>NA</td><td>NA</td></tr>\n",
       "\t<tr><th scope=row>NA.25</th><td> NA</td><td> NA</td><td> NA</td><td>NA</td><td>NA</td><td>NA</td></tr>\n",
       "\t<tr><th scope=row>62</th><td>135</td><td>269</td><td>4.1</td><td>84</td><td> 7</td><td> 1</td></tr>\n",
       "\t<tr><th scope=row>NA.26</th><td> NA</td><td> NA</td><td> NA</td><td>NA</td><td>NA</td><td>NA</td></tr>\n",
       "\t<tr><th scope=row>NA.27</th><td> NA</td><td> NA</td><td> NA</td><td>NA</td><td>NA</td><td>NA</td></tr>\n",
       "\t<tr><th scope=row>NA.28</th><td> NA</td><td> NA</td><td> NA</td><td>NA</td><td>NA</td><td>NA</td></tr>\n",
       "\t<tr><th scope=row>NA.29</th><td> NA</td><td> NA</td><td> NA</td><td>NA</td><td>NA</td><td>NA</td></tr>\n",
       "\t<tr><th scope=row>NA.30</th><td> NA</td><td> NA</td><td> NA</td><td>NA</td><td>NA</td><td>NA</td></tr>\n",
       "\t<tr><th scope=row>86</th><td>108</td><td>223</td><td>8.0</td><td>85</td><td> 7</td><td>25</td></tr>\n",
       "\t<tr><th scope=row>99</th><td>122</td><td>255</td><td>4.0</td><td>89</td><td> 8</td><td> 7</td></tr>\n",
       "\t<tr><th scope=row>101</th><td>110</td><td>207</td><td>8.0</td><td>90</td><td> 8</td><td> 9</td></tr>\n",
       "\t<tr><th scope=row>NA.31</th><td> NA</td><td> NA</td><td> NA</td><td>NA</td><td>NA</td><td>NA</td></tr>\n",
       "\t<tr><th scope=row>NA.32</th><td> NA</td><td> NA</td><td> NA</td><td>NA</td><td>NA</td><td>NA</td></tr>\n",
       "\t<tr><th scope=row>NA.33</th><td> NA</td><td> NA</td><td> NA</td><td>NA</td><td>NA</td><td>NA</td></tr>\n",
       "\t<tr><th scope=row>NA.34</th><td> NA</td><td> NA</td><td> NA</td><td>NA</td><td>NA</td><td>NA</td></tr>\n",
       "\t<tr><th scope=row>117</th><td>168</td><td>238</td><td>3.4</td><td>81</td><td> 8</td><td>25</td></tr>\n",
       "\t<tr><th scope=row>NA.35</th><td> NA</td><td> NA</td><td> NA</td><td>NA</td><td>NA</td><td>NA</td></tr>\n",
       "\t<tr><th scope=row>121</th><td>118</td><td>225</td><td>2.3</td><td>94</td><td> 8</td><td>29</td></tr>\n",
       "\t<tr><th scope=row>NA.36</th><td> NA</td><td> NA</td><td> NA</td><td>NA</td><td>NA</td><td>NA</td></tr>\n",
       "</tbody>\n",
       "</table>\n"
      ],
      "text/latex": [
       "A data.frame: 44 × 6\n",
       "\\begin{tabular}{r|llllll}\n",
       "  & Ozone & Solar.R & Wind & Temp & Month & Day\\\\\n",
       "  & <int> & <int> & <dbl> & <int> & <int> & <int>\\\\\n",
       "\\hline\n",
       "\tNA &  NA &  NA &  NA & NA & NA & NA\\\\\n",
       "\tNA.1 &  NA &  NA &  NA & NA & NA & NA\\\\\n",
       "\tNA.2 &  NA &  NA &  NA & NA & NA & NA\\\\\n",
       "\tNA.3 &  NA &  NA &  NA & NA & NA & NA\\\\\n",
       "\tNA.4 &  NA &  NA &  NA & NA & NA & NA\\\\\n",
       "\t30 & 115 & 223 & 5.7 & 79 &  5 & 30\\\\\n",
       "\tNA.5 &  NA &  NA &  NA & NA & NA & NA\\\\\n",
       "\tNA.6 &  NA &  NA &  NA & NA & NA & NA\\\\\n",
       "\tNA.7 &  NA &  NA &  NA & NA & NA & NA\\\\\n",
       "\tNA.8 &  NA &  NA &  NA & NA & NA & NA\\\\\n",
       "\tNA.9 &  NA &  NA &  NA & NA & NA & NA\\\\\n",
       "\tNA.10 &  NA &  NA &  NA & NA & NA & NA\\\\\n",
       "\tNA.11 &  NA &  NA &  NA & NA & NA & NA\\\\\n",
       "\tNA.12 &  NA &  NA &  NA & NA & NA & NA\\\\\n",
       "\tNA.13 &  NA &  NA &  NA & NA & NA & NA\\\\\n",
       "\tNA.14 &  NA &  NA &  NA & NA & NA & NA\\\\\n",
       "\tNA.15 &  NA &  NA &  NA & NA & NA & NA\\\\\n",
       "\tNA.16 &  NA &  NA &  NA & NA & NA & NA\\\\\n",
       "\tNA.17 &  NA &  NA &  NA & NA & NA & NA\\\\\n",
       "\tNA.18 &  NA &  NA &  NA & NA & NA & NA\\\\\n",
       "\tNA.19 &  NA &  NA &  NA & NA & NA & NA\\\\\n",
       "\tNA.20 &  NA &  NA &  NA & NA & NA & NA\\\\\n",
       "\tNA.21 &  NA &  NA &  NA & NA & NA & NA\\\\\n",
       "\tNA.22 &  NA &  NA &  NA & NA & NA & NA\\\\\n",
       "\tNA.23 &  NA &  NA &  NA & NA & NA & NA\\\\\n",
       "\tNA.24 &  NA &  NA &  NA & NA & NA & NA\\\\\n",
       "\tNA.25 &  NA &  NA &  NA & NA & NA & NA\\\\\n",
       "\t62 & 135 & 269 & 4.1 & 84 &  7 &  1\\\\\n",
       "\tNA.26 &  NA &  NA &  NA & NA & NA & NA\\\\\n",
       "\tNA.27 &  NA &  NA &  NA & NA & NA & NA\\\\\n",
       "\tNA.28 &  NA &  NA &  NA & NA & NA & NA\\\\\n",
       "\tNA.29 &  NA &  NA &  NA & NA & NA & NA\\\\\n",
       "\tNA.30 &  NA &  NA &  NA & NA & NA & NA\\\\\n",
       "\t86 & 108 & 223 & 8.0 & 85 &  7 & 25\\\\\n",
       "\t99 & 122 & 255 & 4.0 & 89 &  8 &  7\\\\\n",
       "\t101 & 110 & 207 & 8.0 & 90 &  8 &  9\\\\\n",
       "\tNA.31 &  NA &  NA &  NA & NA & NA & NA\\\\\n",
       "\tNA.32 &  NA &  NA &  NA & NA & NA & NA\\\\\n",
       "\tNA.33 &  NA &  NA &  NA & NA & NA & NA\\\\\n",
       "\tNA.34 &  NA &  NA &  NA & NA & NA & NA\\\\\n",
       "\t117 & 168 & 238 & 3.4 & 81 &  8 & 25\\\\\n",
       "\tNA.35 &  NA &  NA &  NA & NA & NA & NA\\\\\n",
       "\t121 & 118 & 225 & 2.3 & 94 &  8 & 29\\\\\n",
       "\tNA.36 &  NA &  NA &  NA & NA & NA & NA\\\\\n",
       "\\end{tabular}\n"
      ],
      "text/markdown": [
       "\n",
       "A data.frame: 44 × 6\n",
       "\n",
       "| <!--/--> | Ozone &lt;int&gt; | Solar.R &lt;int&gt; | Wind &lt;dbl&gt; | Temp &lt;int&gt; | Month &lt;int&gt; | Day &lt;int&gt; |\n",
       "|---|---|---|---|---|---|---|\n",
       "| NA |  NA |  NA |  NA | NA | NA | NA |\n",
       "| NA.1 |  NA |  NA |  NA | NA | NA | NA |\n",
       "| NA.2 |  NA |  NA |  NA | NA | NA | NA |\n",
       "| NA.3 |  NA |  NA |  NA | NA | NA | NA |\n",
       "| NA.4 |  NA |  NA |  NA | NA | NA | NA |\n",
       "| 30 | 115 | 223 | 5.7 | 79 |  5 | 30 |\n",
       "| NA.5 |  NA |  NA |  NA | NA | NA | NA |\n",
       "| NA.6 |  NA |  NA |  NA | NA | NA | NA |\n",
       "| NA.7 |  NA |  NA |  NA | NA | NA | NA |\n",
       "| NA.8 |  NA |  NA |  NA | NA | NA | NA |\n",
       "| NA.9 |  NA |  NA |  NA | NA | NA | NA |\n",
       "| NA.10 |  NA |  NA |  NA | NA | NA | NA |\n",
       "| NA.11 |  NA |  NA |  NA | NA | NA | NA |\n",
       "| NA.12 |  NA |  NA |  NA | NA | NA | NA |\n",
       "| NA.13 |  NA |  NA |  NA | NA | NA | NA |\n",
       "| NA.14 |  NA |  NA |  NA | NA | NA | NA |\n",
       "| NA.15 |  NA |  NA |  NA | NA | NA | NA |\n",
       "| NA.16 |  NA |  NA |  NA | NA | NA | NA |\n",
       "| NA.17 |  NA |  NA |  NA | NA | NA | NA |\n",
       "| NA.18 |  NA |  NA |  NA | NA | NA | NA |\n",
       "| NA.19 |  NA |  NA |  NA | NA | NA | NA |\n",
       "| NA.20 |  NA |  NA |  NA | NA | NA | NA |\n",
       "| NA.21 |  NA |  NA |  NA | NA | NA | NA |\n",
       "| NA.22 |  NA |  NA |  NA | NA | NA | NA |\n",
       "| NA.23 |  NA |  NA |  NA | NA | NA | NA |\n",
       "| NA.24 |  NA |  NA |  NA | NA | NA | NA |\n",
       "| NA.25 |  NA |  NA |  NA | NA | NA | NA |\n",
       "| 62 | 135 | 269 | 4.1 | 84 |  7 |  1 |\n",
       "| NA.26 |  NA |  NA |  NA | NA | NA | NA |\n",
       "| NA.27 |  NA |  NA |  NA | NA | NA | NA |\n",
       "| NA.28 |  NA |  NA |  NA | NA | NA | NA |\n",
       "| NA.29 |  NA |  NA |  NA | NA | NA | NA |\n",
       "| NA.30 |  NA |  NA |  NA | NA | NA | NA |\n",
       "| 86 | 108 | 223 | 8.0 | 85 |  7 | 25 |\n",
       "| 99 | 122 | 255 | 4.0 | 89 |  8 |  7 |\n",
       "| 101 | 110 | 207 | 8.0 | 90 |  8 |  9 |\n",
       "| NA.31 |  NA |  NA |  NA | NA | NA | NA |\n",
       "| NA.32 |  NA |  NA |  NA | NA | NA | NA |\n",
       "| NA.33 |  NA |  NA |  NA | NA | NA | NA |\n",
       "| NA.34 |  NA |  NA |  NA | NA | NA | NA |\n",
       "| 117 | 168 | 238 | 3.4 | 81 |  8 | 25 |\n",
       "| NA.35 |  NA |  NA |  NA | NA | NA | NA |\n",
       "| 121 | 118 | 225 | 2.3 | 94 |  8 | 29 |\n",
       "| NA.36 |  NA |  NA |  NA | NA | NA | NA |\n",
       "\n"
      ],
      "text/plain": [
       "      Ozone Solar.R Wind Temp Month Day\n",
       "NA     NA    NA      NA  NA   NA    NA \n",
       "NA.1   NA    NA      NA  NA   NA    NA \n",
       "NA.2   NA    NA      NA  NA   NA    NA \n",
       "NA.3   NA    NA      NA  NA   NA    NA \n",
       "NA.4   NA    NA      NA  NA   NA    NA \n",
       "30    115   223     5.7  79    5    30 \n",
       "NA.5   NA    NA      NA  NA   NA    NA \n",
       "NA.6   NA    NA      NA  NA   NA    NA \n",
       "NA.7   NA    NA      NA  NA   NA    NA \n",
       "NA.8   NA    NA      NA  NA   NA    NA \n",
       "NA.9   NA    NA      NA  NA   NA    NA \n",
       "NA.10  NA    NA      NA  NA   NA    NA \n",
       "NA.11  NA    NA      NA  NA   NA    NA \n",
       "NA.12  NA    NA      NA  NA   NA    NA \n",
       "NA.13  NA    NA      NA  NA   NA    NA \n",
       "NA.14  NA    NA      NA  NA   NA    NA \n",
       "NA.15  NA    NA      NA  NA   NA    NA \n",
       "NA.16  NA    NA      NA  NA   NA    NA \n",
       "NA.17  NA    NA      NA  NA   NA    NA \n",
       "NA.18  NA    NA      NA  NA   NA    NA \n",
       "NA.19  NA    NA      NA  NA   NA    NA \n",
       "NA.20  NA    NA      NA  NA   NA    NA \n",
       "NA.21  NA    NA      NA  NA   NA    NA \n",
       "NA.22  NA    NA      NA  NA   NA    NA \n",
       "NA.23  NA    NA      NA  NA   NA    NA \n",
       "NA.24  NA    NA      NA  NA   NA    NA \n",
       "NA.25  NA    NA      NA  NA   NA    NA \n",
       "62    135   269     4.1  84    7     1 \n",
       "NA.26  NA    NA      NA  NA   NA    NA \n",
       "NA.27  NA    NA      NA  NA   NA    NA \n",
       "NA.28  NA    NA      NA  NA   NA    NA \n",
       "NA.29  NA    NA      NA  NA   NA    NA \n",
       "NA.30  NA    NA      NA  NA   NA    NA \n",
       "86    108   223     8.0  85    7    25 \n",
       "99    122   255     4.0  89    8     7 \n",
       "101   110   207     8.0  90    8     9 \n",
       "NA.31  NA    NA      NA  NA   NA    NA \n",
       "NA.32  NA    NA      NA  NA   NA    NA \n",
       "NA.33  NA    NA      NA  NA   NA    NA \n",
       "NA.34  NA    NA      NA  NA   NA    NA \n",
       "117   168   238     3.4  81    8    25 \n",
       "NA.35  NA    NA      NA  NA   NA    NA \n",
       "121   118   225     2.3  94    8    29 \n",
       "NA.36  NA    NA      NA  NA   NA    NA "
      ]
     },
     "metadata": {},
     "output_type": "display_data"
    }
   ],
   "source": [
    "df[df['Ozone'] > 100, ]"
   ]
  },
  {
   "cell_type": "code",
   "execution_count": 184,
   "id": "ace875d6",
   "metadata": {},
   "outputs": [],
   "source": [
    "df = swiss"
   ]
  },
  {
   "cell_type": "code",
   "execution_count": 185,
   "id": "1b0151b9",
   "metadata": {},
   "outputs": [
    {
     "data": {
      "text/html": [
       "<table class=\"dataframe\">\n",
       "<caption>A data.frame: 6 × 6</caption>\n",
       "<thead>\n",
       "\t<tr><th></th><th scope=col>Fertility</th><th scope=col>Agriculture</th><th scope=col>Examination</th><th scope=col>Education</th><th scope=col>Catholic</th><th scope=col>Infant.Mortality</th></tr>\n",
       "\t<tr><th></th><th scope=col>&lt;dbl&gt;</th><th scope=col>&lt;dbl&gt;</th><th scope=col>&lt;int&gt;</th><th scope=col>&lt;int&gt;</th><th scope=col>&lt;dbl&gt;</th><th scope=col>&lt;dbl&gt;</th></tr>\n",
       "</thead>\n",
       "<tbody>\n",
       "\t<tr><th scope=row>Courtelary</th><td>80.2</td><td>17.0</td><td>15</td><td>12</td><td> 9.96</td><td>22.2</td></tr>\n",
       "\t<tr><th scope=row>Delemont</th><td>83.1</td><td>45.1</td><td> 6</td><td> 9</td><td>84.84</td><td>22.2</td></tr>\n",
       "\t<tr><th scope=row>Franches-Mnt</th><td>92.5</td><td>39.7</td><td> 5</td><td> 5</td><td>93.40</td><td>20.2</td></tr>\n",
       "\t<tr><th scope=row>Moutier</th><td>85.8</td><td>36.5</td><td>12</td><td> 7</td><td>33.77</td><td>20.3</td></tr>\n",
       "\t<tr><th scope=row>Neuveville</th><td>76.9</td><td>43.5</td><td>17</td><td>15</td><td> 5.16</td><td>20.6</td></tr>\n",
       "\t<tr><th scope=row>Porrentruy</th><td>76.1</td><td>35.3</td><td> 9</td><td> 7</td><td>90.57</td><td>26.6</td></tr>\n",
       "</tbody>\n",
       "</table>\n"
      ],
      "text/latex": [
       "A data.frame: 6 × 6\n",
       "\\begin{tabular}{r|llllll}\n",
       "  & Fertility & Agriculture & Examination & Education & Catholic & Infant.Mortality\\\\\n",
       "  & <dbl> & <dbl> & <int> & <int> & <dbl> & <dbl>\\\\\n",
       "\\hline\n",
       "\tCourtelary & 80.2 & 17.0 & 15 & 12 &  9.96 & 22.2\\\\\n",
       "\tDelemont & 83.1 & 45.1 &  6 &  9 & 84.84 & 22.2\\\\\n",
       "\tFranches-Mnt & 92.5 & 39.7 &  5 &  5 & 93.40 & 20.2\\\\\n",
       "\tMoutier & 85.8 & 36.5 & 12 &  7 & 33.77 & 20.3\\\\\n",
       "\tNeuveville & 76.9 & 43.5 & 17 & 15 &  5.16 & 20.6\\\\\n",
       "\tPorrentruy & 76.1 & 35.3 &  9 &  7 & 90.57 & 26.6\\\\\n",
       "\\end{tabular}\n"
      ],
      "text/markdown": [
       "\n",
       "A data.frame: 6 × 6\n",
       "\n",
       "| <!--/--> | Fertility &lt;dbl&gt; | Agriculture &lt;dbl&gt; | Examination &lt;int&gt; | Education &lt;int&gt; | Catholic &lt;dbl&gt; | Infant.Mortality &lt;dbl&gt; |\n",
       "|---|---|---|---|---|---|---|\n",
       "| Courtelary | 80.2 | 17.0 | 15 | 12 |  9.96 | 22.2 |\n",
       "| Delemont | 83.1 | 45.1 |  6 |  9 | 84.84 | 22.2 |\n",
       "| Franches-Mnt | 92.5 | 39.7 |  5 |  5 | 93.40 | 20.2 |\n",
       "| Moutier | 85.8 | 36.5 | 12 |  7 | 33.77 | 20.3 |\n",
       "| Neuveville | 76.9 | 43.5 | 17 | 15 |  5.16 | 20.6 |\n",
       "| Porrentruy | 76.1 | 35.3 |  9 |  7 | 90.57 | 26.6 |\n",
       "\n"
      ],
      "text/plain": [
       "             Fertility Agriculture Examination Education Catholic\n",
       "Courtelary   80.2      17.0        15          12         9.96   \n",
       "Delemont     83.1      45.1         6           9        84.84   \n",
       "Franches-Mnt 92.5      39.7         5           5        93.40   \n",
       "Moutier      85.8      36.5        12           7        33.77   \n",
       "Neuveville   76.9      43.5        17          15         5.16   \n",
       "Porrentruy   76.1      35.3         9           7        90.57   \n",
       "             Infant.Mortality\n",
       "Courtelary   22.2            \n",
       "Delemont     22.2            \n",
       "Franches-Mnt 20.2            \n",
       "Moutier      20.3            \n",
       "Neuveville   20.6            \n",
       "Porrentruy   26.6            "
      ]
     },
     "metadata": {},
     "output_type": "display_data"
    }
   ],
   "source": [
    "head(df)"
   ]
  },
  {
   "cell_type": "code",
   "execution_count": 188,
   "id": "04a23abe",
   "metadata": {},
   "outputs": [
    {
     "data": {
      "text/html": [
       "'Herens'"
      ],
      "text/latex": [
       "'Herens'"
      ],
      "text/markdown": [
       "'Herens'"
      ],
      "text/plain": [
       "[1] \"Herens\""
      ]
     },
     "metadata": {},
     "output_type": "display_data"
    }
   ],
   "source": [
    "rownames(df[df['Agriculture'] == max(df['Agriculture']), ])"
   ]
  },
  {
   "cell_type": "code",
   "execution_count": 192,
   "id": "523ff801",
   "metadata": {},
   "outputs": [
    {
     "data": {
      "text/html": [
       "<style>\n",
       ".list-inline {list-style: none; margin:0; padding: 0}\n",
       ".list-inline>li {display: inline-block}\n",
       ".list-inline>li:not(:last-child)::after {content: \"\\00b7\"; padding: 0 .5ex}\n",
       "</style>\n",
       "<ol class=list-inline><li>89.7</li><li>85.9</li><li>84.9</li><li>84.6</li><li>78.2</li><li>75.9</li><li>73</li><li>72.6</li><li>71.2</li><li>70.2</li><li>69.3</li><li>67.8</li><li>67.5</li><li>64.9</li><li>64.5</li><li>63.5</li><li>63.1</li><li>62</li><li>60.8</li><li>60.7</li><li>59.8</li><li>58.1</li><li>55.1</li><li>54.1</li><li>53.3</li><li>50.9</li><li>49.5</li><li>46.6</li><li>45.2</li><li>45.1</li><li>43.5</li><li>39.7</li><li>38.4</li><li>37.6</li><li>36.5</li><li>35.3</li><li>34</li><li>27.7</li><li>26.8</li><li>19.4</li><li>18.7</li><li>17.6</li><li>17</li><li>16.7</li><li>15.2</li><li>7.7</li><li>1.2</li></ol>\n"
      ],
      "text/latex": [
       "\\begin{enumerate*}\n",
       "\\item 89.7\n",
       "\\item 85.9\n",
       "\\item 84.9\n",
       "\\item 84.6\n",
       "\\item 78.2\n",
       "\\item 75.9\n",
       "\\item 73\n",
       "\\item 72.6\n",
       "\\item 71.2\n",
       "\\item 70.2\n",
       "\\item 69.3\n",
       "\\item 67.8\n",
       "\\item 67.5\n",
       "\\item 64.9\n",
       "\\item 64.5\n",
       "\\item 63.5\n",
       "\\item 63.1\n",
       "\\item 62\n",
       "\\item 60.8\n",
       "\\item 60.7\n",
       "\\item 59.8\n",
       "\\item 58.1\n",
       "\\item 55.1\n",
       "\\item 54.1\n",
       "\\item 53.3\n",
       "\\item 50.9\n",
       "\\item 49.5\n",
       "\\item 46.6\n",
       "\\item 45.2\n",
       "\\item 45.1\n",
       "\\item 43.5\n",
       "\\item 39.7\n",
       "\\item 38.4\n",
       "\\item 37.6\n",
       "\\item 36.5\n",
       "\\item 35.3\n",
       "\\item 34\n",
       "\\item 27.7\n",
       "\\item 26.8\n",
       "\\item 19.4\n",
       "\\item 18.7\n",
       "\\item 17.6\n",
       "\\item 17\n",
       "\\item 16.7\n",
       "\\item 15.2\n",
       "\\item 7.7\n",
       "\\item 1.2\n",
       "\\end{enumerate*}\n"
      ],
      "text/markdown": [
       "1. 89.7\n",
       "2. 85.9\n",
       "3. 84.9\n",
       "4. 84.6\n",
       "5. 78.2\n",
       "6. 75.9\n",
       "7. 73\n",
       "8. 72.6\n",
       "9. 71.2\n",
       "10. 70.2\n",
       "11. 69.3\n",
       "12. 67.8\n",
       "13. 67.5\n",
       "14. 64.9\n",
       "15. 64.5\n",
       "16. 63.5\n",
       "17. 63.1\n",
       "18. 62\n",
       "19. 60.8\n",
       "20. 60.7\n",
       "21. 59.8\n",
       "22. 58.1\n",
       "23. 55.1\n",
       "24. 54.1\n",
       "25. 53.3\n",
       "26. 50.9\n",
       "27. 49.5\n",
       "28. 46.6\n",
       "29. 45.2\n",
       "30. 45.1\n",
       "31. 43.5\n",
       "32. 39.7\n",
       "33. 38.4\n",
       "34. 37.6\n",
       "35. 36.5\n",
       "36. 35.3\n",
       "37. 34\n",
       "38. 27.7\n",
       "39. 26.8\n",
       "40. 19.4\n",
       "41. 18.7\n",
       "42. 17.6\n",
       "43. 17\n",
       "44. 16.7\n",
       "45. 15.2\n",
       "46. 7.7\n",
       "47. 1.2\n",
       "\n",
       "\n"
      ],
      "text/plain": [
       " [1] 89.7 85.9 84.9 84.6 78.2 75.9 73.0 72.6 71.2 70.2 69.3 67.8 67.5 64.9 64.5\n",
       "[16] 63.5 63.1 62.0 60.8 60.7 59.8 58.1 55.1 54.1 53.3 50.9 49.5 46.6 45.2 45.1\n",
       "[31] 43.5 39.7 38.4 37.6 36.5 35.3 34.0 27.7 26.8 19.4 18.7 17.6 17.0 16.7 15.2\n",
       "[46]  7.7  1.2"
      ]
     },
     "metadata": {},
     "output_type": "display_data"
    }
   ],
   "source": [
    "sort(df$Agriculture, T)"
   ]
  },
  {
   "cell_type": "code",
   "execution_count": 194,
   "id": "f60390c6",
   "metadata": {},
   "outputs": [
    {
     "data": {
      "text/html": [
       "<table class=\"dataframe\">\n",
       "<caption>A data.frame: 47 × 1</caption>\n",
       "<thead>\n",
       "\t<tr><th></th><th scope=col>Agriculture</th></tr>\n",
       "\t<tr><th></th><th scope=col>&lt;dbl&gt;</th></tr>\n",
       "</thead>\n",
       "<tbody>\n",
       "\t<tr><th scope=row>Herens</th><td>89.7</td></tr>\n",
       "\t<tr><th scope=row>Conthey</th><td>85.9</td></tr>\n",
       "\t<tr><th scope=row>Entremont</th><td>84.9</td></tr>\n",
       "\t<tr><th scope=row>Sierre</th><td>84.6</td></tr>\n",
       "\t<tr><th scope=row>Martigwy</th><td>78.2</td></tr>\n",
       "\t<tr><th scope=row>St Maurice</th><td>75.9</td></tr>\n",
       "\t<tr><th scope=row>Lavaux</th><td>73.0</td></tr>\n",
       "\t<tr><th scope=row>Echallens</th><td>72.6</td></tr>\n",
       "\t<tr><th scope=row>Oron</th><td>71.2</td></tr>\n",
       "\t<tr><th scope=row>Broye</th><td>70.2</td></tr>\n",
       "\t<tr><th scope=row>Cossonay</th><td>69.3</td></tr>\n",
       "\t<tr><th scope=row>Glane</th><td>67.8</td></tr>\n",
       "\t<tr><th scope=row>Aubonne</th><td>67.5</td></tr>\n",
       "\t<tr><th scope=row>Monthey</th><td>64.9</td></tr>\n",
       "\t<tr><th scope=row>Veveyse</th><td>64.5</td></tr>\n",
       "\t<tr><th scope=row>Paysd'enhaut</th><td>63.5</td></tr>\n",
       "\t<tr><th scope=row>Sion</th><td>63.1</td></tr>\n",
       "\t<tr><th scope=row>Aigle</th><td>62.0</td></tr>\n",
       "\t<tr><th scope=row>Rolle</th><td>60.8</td></tr>\n",
       "\t<tr><th scope=row>Avenches</th><td>60.7</td></tr>\n",
       "\t<tr><th scope=row>Morges</th><td>59.8</td></tr>\n",
       "\t<tr><th scope=row>Payerne</th><td>58.1</td></tr>\n",
       "\t<tr><th scope=row>Moudon</th><td>55.1</td></tr>\n",
       "\t<tr><th scope=row>Orbe</th><td>54.1</td></tr>\n",
       "\t<tr><th scope=row>Gruyere</th><td>53.3</td></tr>\n",
       "\t<tr><th scope=row>Nyone</th><td>50.9</td></tr>\n",
       "\t<tr><th scope=row>Yverdon</th><td>49.5</td></tr>\n",
       "\t<tr><th scope=row>Rive Droite</th><td>46.6</td></tr>\n",
       "\t<tr><th scope=row>Sarine</th><td>45.2</td></tr>\n",
       "\t<tr><th scope=row>Delemont</th><td>45.1</td></tr>\n",
       "\t<tr><th scope=row>Neuveville</th><td>43.5</td></tr>\n",
       "\t<tr><th scope=row>Franches-Mnt</th><td>39.7</td></tr>\n",
       "\t<tr><th scope=row>Boudry</th><td>38.4</td></tr>\n",
       "\t<tr><th scope=row>Val de Ruz</th><td>37.6</td></tr>\n",
       "\t<tr><th scope=row>Moutier</th><td>36.5</td></tr>\n",
       "\t<tr><th scope=row>Porrentruy</th><td>35.3</td></tr>\n",
       "\t<tr><th scope=row>Grandson</th><td>34.0</td></tr>\n",
       "\t<tr><th scope=row>Rive Gauche</th><td>27.7</td></tr>\n",
       "\t<tr><th scope=row>Vevey</th><td>26.8</td></tr>\n",
       "\t<tr><th scope=row>Lausanne</th><td>19.4</td></tr>\n",
       "\t<tr><th scope=row>ValdeTravers</th><td>18.7</td></tr>\n",
       "\t<tr><th scope=row>Neuchatel</th><td>17.6</td></tr>\n",
       "\t<tr><th scope=row>Courtelary</th><td>17.0</td></tr>\n",
       "\t<tr><th scope=row>Le Locle</th><td>16.7</td></tr>\n",
       "\t<tr><th scope=row>La Vallee</th><td>15.2</td></tr>\n",
       "\t<tr><th scope=row>La Chauxdfnd</th><td> 7.7</td></tr>\n",
       "\t<tr><th scope=row>V. De Geneve</th><td> 1.2</td></tr>\n",
       "</tbody>\n",
       "</table>\n"
      ],
      "text/latex": [
       "A data.frame: 47 × 1\n",
       "\\begin{tabular}{r|l}\n",
       "  & Agriculture\\\\\n",
       "  & <dbl>\\\\\n",
       "\\hline\n",
       "\tHerens & 89.7\\\\\n",
       "\tConthey & 85.9\\\\\n",
       "\tEntremont & 84.9\\\\\n",
       "\tSierre & 84.6\\\\\n",
       "\tMartigwy & 78.2\\\\\n",
       "\tSt Maurice & 75.9\\\\\n",
       "\tLavaux & 73.0\\\\\n",
       "\tEchallens & 72.6\\\\\n",
       "\tOron & 71.2\\\\\n",
       "\tBroye & 70.2\\\\\n",
       "\tCossonay & 69.3\\\\\n",
       "\tGlane & 67.8\\\\\n",
       "\tAubonne & 67.5\\\\\n",
       "\tMonthey & 64.9\\\\\n",
       "\tVeveyse & 64.5\\\\\n",
       "\tPaysd'enhaut & 63.5\\\\\n",
       "\tSion & 63.1\\\\\n",
       "\tAigle & 62.0\\\\\n",
       "\tRolle & 60.8\\\\\n",
       "\tAvenches & 60.7\\\\\n",
       "\tMorges & 59.8\\\\\n",
       "\tPayerne & 58.1\\\\\n",
       "\tMoudon & 55.1\\\\\n",
       "\tOrbe & 54.1\\\\\n",
       "\tGruyere & 53.3\\\\\n",
       "\tNyone & 50.9\\\\\n",
       "\tYverdon & 49.5\\\\\n",
       "\tRive Droite & 46.6\\\\\n",
       "\tSarine & 45.2\\\\\n",
       "\tDelemont & 45.1\\\\\n",
       "\tNeuveville & 43.5\\\\\n",
       "\tFranches-Mnt & 39.7\\\\\n",
       "\tBoudry & 38.4\\\\\n",
       "\tVal de Ruz & 37.6\\\\\n",
       "\tMoutier & 36.5\\\\\n",
       "\tPorrentruy & 35.3\\\\\n",
       "\tGrandson & 34.0\\\\\n",
       "\tRive Gauche & 27.7\\\\\n",
       "\tVevey & 26.8\\\\\n",
       "\tLausanne & 19.4\\\\\n",
       "\tValdeTravers & 18.7\\\\\n",
       "\tNeuchatel & 17.6\\\\\n",
       "\tCourtelary & 17.0\\\\\n",
       "\tLe Locle & 16.7\\\\\n",
       "\tLa Vallee & 15.2\\\\\n",
       "\tLa Chauxdfnd &  7.7\\\\\n",
       "\tV. De Geneve &  1.2\\\\\n",
       "\\end{tabular}\n"
      ],
      "text/markdown": [
       "\n",
       "A data.frame: 47 × 1\n",
       "\n",
       "| <!--/--> | Agriculture &lt;dbl&gt; |\n",
       "|---|---|\n",
       "| Herens | 89.7 |\n",
       "| Conthey | 85.9 |\n",
       "| Entremont | 84.9 |\n",
       "| Sierre | 84.6 |\n",
       "| Martigwy | 78.2 |\n",
       "| St Maurice | 75.9 |\n",
       "| Lavaux | 73.0 |\n",
       "| Echallens | 72.6 |\n",
       "| Oron | 71.2 |\n",
       "| Broye | 70.2 |\n",
       "| Cossonay | 69.3 |\n",
       "| Glane | 67.8 |\n",
       "| Aubonne | 67.5 |\n",
       "| Monthey | 64.9 |\n",
       "| Veveyse | 64.5 |\n",
       "| Paysd'enhaut | 63.5 |\n",
       "| Sion | 63.1 |\n",
       "| Aigle | 62.0 |\n",
       "| Rolle | 60.8 |\n",
       "| Avenches | 60.7 |\n",
       "| Morges | 59.8 |\n",
       "| Payerne | 58.1 |\n",
       "| Moudon | 55.1 |\n",
       "| Orbe | 54.1 |\n",
       "| Gruyere | 53.3 |\n",
       "| Nyone | 50.9 |\n",
       "| Yverdon | 49.5 |\n",
       "| Rive Droite | 46.6 |\n",
       "| Sarine | 45.2 |\n",
       "| Delemont | 45.1 |\n",
       "| Neuveville | 43.5 |\n",
       "| Franches-Mnt | 39.7 |\n",
       "| Boudry | 38.4 |\n",
       "| Val de Ruz | 37.6 |\n",
       "| Moutier | 36.5 |\n",
       "| Porrentruy | 35.3 |\n",
       "| Grandson | 34.0 |\n",
       "| Rive Gauche | 27.7 |\n",
       "| Vevey | 26.8 |\n",
       "| Lausanne | 19.4 |\n",
       "| ValdeTravers | 18.7 |\n",
       "| Neuchatel | 17.6 |\n",
       "| Courtelary | 17.0 |\n",
       "| Le Locle | 16.7 |\n",
       "| La Vallee | 15.2 |\n",
       "| La Chauxdfnd |  7.7 |\n",
       "| V. De Geneve |  1.2 |\n",
       "\n"
      ],
      "text/plain": [
       "             Agriculture\n",
       "Herens       89.7       \n",
       "Conthey      85.9       \n",
       "Entremont    84.9       \n",
       "Sierre       84.6       \n",
       "Martigwy     78.2       \n",
       "St Maurice   75.9       \n",
       "Lavaux       73.0       \n",
       "Echallens    72.6       \n",
       "Oron         71.2       \n",
       "Broye        70.2       \n",
       "Cossonay     69.3       \n",
       "Glane        67.8       \n",
       "Aubonne      67.5       \n",
       "Monthey      64.9       \n",
       "Veveyse      64.5       \n",
       "Paysd'enhaut 63.5       \n",
       "Sion         63.1       \n",
       "Aigle        62.0       \n",
       "Rolle        60.8       \n",
       "Avenches     60.7       \n",
       "Morges       59.8       \n",
       "Payerne      58.1       \n",
       "Moudon       55.1       \n",
       "Orbe         54.1       \n",
       "Gruyere      53.3       \n",
       "Nyone        50.9       \n",
       "Yverdon      49.5       \n",
       "Rive Droite  46.6       \n",
       "Sarine       45.2       \n",
       "Delemont     45.1       \n",
       "Neuveville   43.5       \n",
       "Franches-Mnt 39.7       \n",
       "Boudry       38.4       \n",
       "Val de Ruz   37.6       \n",
       "Moutier      36.5       \n",
       "Porrentruy   35.3       \n",
       "Grandson     34.0       \n",
       "Rive Gauche  27.7       \n",
       "Vevey        26.8       \n",
       "Lausanne     19.4       \n",
       "ValdeTravers 18.7       \n",
       "Neuchatel    17.6       \n",
       "Courtelary   17.0       \n",
       "Le Locle     16.7       \n",
       "La Vallee    15.2       \n",
       "La Chauxdfnd  7.7       \n",
       "V. De Geneve  1.2       "
      ]
     },
     "metadata": {},
     "output_type": "display_data"
    }
   ],
   "source": [
    "df[order(df$Agriculture, decreasing=T), ]['Agriculture']"
   ]
  },
  {
   "cell_type": "code",
   "execution_count": 195,
   "id": "b7d76446",
   "metadata": {},
   "outputs": [
    {
     "data": {
      "text/html": [
       "<table class=\"dataframe\">\n",
       "<caption>A data.frame: 6 × 6</caption>\n",
       "<thead>\n",
       "\t<tr><th></th><th scope=col>Fertility</th><th scope=col>Agriculture</th><th scope=col>Examination</th><th scope=col>Education</th><th scope=col>Catholic</th><th scope=col>Infant.Mortality</th></tr>\n",
       "\t<tr><th></th><th scope=col>&lt;dbl&gt;</th><th scope=col>&lt;dbl&gt;</th><th scope=col>&lt;int&gt;</th><th scope=col>&lt;int&gt;</th><th scope=col>&lt;dbl&gt;</th><th scope=col>&lt;dbl&gt;</th></tr>\n",
       "</thead>\n",
       "<tbody>\n",
       "\t<tr><th scope=row>Courtelary</th><td>80.2</td><td>17.0</td><td>15</td><td>12</td><td> 9.96</td><td>22.2</td></tr>\n",
       "\t<tr><th scope=row>Delemont</th><td>83.1</td><td>45.1</td><td> 6</td><td> 9</td><td>84.84</td><td>22.2</td></tr>\n",
       "\t<tr><th scope=row>Franches-Mnt</th><td>92.5</td><td>39.7</td><td> 5</td><td> 5</td><td>93.40</td><td>20.2</td></tr>\n",
       "\t<tr><th scope=row>Moutier</th><td>85.8</td><td>36.5</td><td>12</td><td> 7</td><td>33.77</td><td>20.3</td></tr>\n",
       "\t<tr><th scope=row>Neuveville</th><td>76.9</td><td>43.5</td><td>17</td><td>15</td><td> 5.16</td><td>20.6</td></tr>\n",
       "\t<tr><th scope=row>Porrentruy</th><td>76.1</td><td>35.3</td><td> 9</td><td> 7</td><td>90.57</td><td>26.6</td></tr>\n",
       "</tbody>\n",
       "</table>\n"
      ],
      "text/latex": [
       "A data.frame: 6 × 6\n",
       "\\begin{tabular}{r|llllll}\n",
       "  & Fertility & Agriculture & Examination & Education & Catholic & Infant.Mortality\\\\\n",
       "  & <dbl> & <dbl> & <int> & <int> & <dbl> & <dbl>\\\\\n",
       "\\hline\n",
       "\tCourtelary & 80.2 & 17.0 & 15 & 12 &  9.96 & 22.2\\\\\n",
       "\tDelemont & 83.1 & 45.1 &  6 &  9 & 84.84 & 22.2\\\\\n",
       "\tFranches-Mnt & 92.5 & 39.7 &  5 &  5 & 93.40 & 20.2\\\\\n",
       "\tMoutier & 85.8 & 36.5 & 12 &  7 & 33.77 & 20.3\\\\\n",
       "\tNeuveville & 76.9 & 43.5 & 17 & 15 &  5.16 & 20.6\\\\\n",
       "\tPorrentruy & 76.1 & 35.3 &  9 &  7 & 90.57 & 26.6\\\\\n",
       "\\end{tabular}\n"
      ],
      "text/markdown": [
       "\n",
       "A data.frame: 6 × 6\n",
       "\n",
       "| <!--/--> | Fertility &lt;dbl&gt; | Agriculture &lt;dbl&gt; | Examination &lt;int&gt; | Education &lt;int&gt; | Catholic &lt;dbl&gt; | Infant.Mortality &lt;dbl&gt; |\n",
       "|---|---|---|---|---|---|---|\n",
       "| Courtelary | 80.2 | 17.0 | 15 | 12 |  9.96 | 22.2 |\n",
       "| Delemont | 83.1 | 45.1 |  6 |  9 | 84.84 | 22.2 |\n",
       "| Franches-Mnt | 92.5 | 39.7 |  5 |  5 | 93.40 | 20.2 |\n",
       "| Moutier | 85.8 | 36.5 | 12 |  7 | 33.77 | 20.3 |\n",
       "| Neuveville | 76.9 | 43.5 | 17 | 15 |  5.16 | 20.6 |\n",
       "| Porrentruy | 76.1 | 35.3 |  9 |  7 | 90.57 | 26.6 |\n",
       "\n"
      ],
      "text/plain": [
       "             Fertility Agriculture Examination Education Catholic\n",
       "Courtelary   80.2      17.0        15          12         9.96   \n",
       "Delemont     83.1      45.1         6           9        84.84   \n",
       "Franches-Mnt 92.5      39.7         5           5        93.40   \n",
       "Moutier      85.8      36.5        12           7        33.77   \n",
       "Neuveville   76.9      43.5        17          15         5.16   \n",
       "Porrentruy   76.1      35.3         9           7        90.57   \n",
       "             Infant.Mortality\n",
       "Courtelary   22.2            \n",
       "Delemont     22.2            \n",
       "Franches-Mnt 20.2            \n",
       "Moutier      20.3            \n",
       "Neuveville   20.6            \n",
       "Porrentruy   26.6            "
      ]
     },
     "metadata": {},
     "output_type": "display_data"
    }
   ],
   "source": [
    "head(df)"
   ]
  },
  {
   "cell_type": "code",
   "execution_count": 197,
   "id": "78cbebc0",
   "metadata": {},
   "outputs": [
    {
     "data": {
      "text/html": [
       "<table class=\"dataframe\">\n",
       "<caption>A data.frame: 16 × 1</caption>\n",
       "<thead>\n",
       "\t<tr><th></th><th scope=col>Agriculture</th></tr>\n",
       "\t<tr><th></th><th scope=col>&lt;dbl&gt;</th></tr>\n",
       "</thead>\n",
       "<tbody>\n",
       "\t<tr><th scope=row>Delemont</th><td>45.1</td></tr>\n",
       "\t<tr><th scope=row>Franches-Mnt</th><td>39.7</td></tr>\n",
       "\t<tr><th scope=row>Porrentruy</th><td>35.3</td></tr>\n",
       "\t<tr><th scope=row>Broye</th><td>70.2</td></tr>\n",
       "\t<tr><th scope=row>Glane</th><td>67.8</td></tr>\n",
       "\t<tr><th scope=row>Gruyere</th><td>53.3</td></tr>\n",
       "\t<tr><th scope=row>Sarine</th><td>45.2</td></tr>\n",
       "\t<tr><th scope=row>Veveyse</th><td>64.5</td></tr>\n",
       "\t<tr><th scope=row>Conthey</th><td>85.9</td></tr>\n",
       "\t<tr><th scope=row>Entremont</th><td>84.9</td></tr>\n",
       "\t<tr><th scope=row>Herens</th><td>89.7</td></tr>\n",
       "\t<tr><th scope=row>Martigwy</th><td>78.2</td></tr>\n",
       "\t<tr><th scope=row>Monthey</th><td>64.9</td></tr>\n",
       "\t<tr><th scope=row>St Maurice</th><td>75.9</td></tr>\n",
       "\t<tr><th scope=row>Sierre</th><td>84.6</td></tr>\n",
       "\t<tr><th scope=row>Sion</th><td>63.1</td></tr>\n",
       "</tbody>\n",
       "</table>\n"
      ],
      "text/latex": [
       "A data.frame: 16 × 1\n",
       "\\begin{tabular}{r|l}\n",
       "  & Agriculture\\\\\n",
       "  & <dbl>\\\\\n",
       "\\hline\n",
       "\tDelemont & 45.1\\\\\n",
       "\tFranches-Mnt & 39.7\\\\\n",
       "\tPorrentruy & 35.3\\\\\n",
       "\tBroye & 70.2\\\\\n",
       "\tGlane & 67.8\\\\\n",
       "\tGruyere & 53.3\\\\\n",
       "\tSarine & 45.2\\\\\n",
       "\tVeveyse & 64.5\\\\\n",
       "\tConthey & 85.9\\\\\n",
       "\tEntremont & 84.9\\\\\n",
       "\tHerens & 89.7\\\\\n",
       "\tMartigwy & 78.2\\\\\n",
       "\tMonthey & 64.9\\\\\n",
       "\tSt Maurice & 75.9\\\\\n",
       "\tSierre & 84.6\\\\\n",
       "\tSion & 63.1\\\\\n",
       "\\end{tabular}\n"
      ],
      "text/markdown": [
       "\n",
       "A data.frame: 16 × 1\n",
       "\n",
       "| <!--/--> | Agriculture &lt;dbl&gt; |\n",
       "|---|---|\n",
       "| Delemont | 45.1 |\n",
       "| Franches-Mnt | 39.7 |\n",
       "| Porrentruy | 35.3 |\n",
       "| Broye | 70.2 |\n",
       "| Glane | 67.8 |\n",
       "| Gruyere | 53.3 |\n",
       "| Sarine | 45.2 |\n",
       "| Veveyse | 64.5 |\n",
       "| Conthey | 85.9 |\n",
       "| Entremont | 84.9 |\n",
       "| Herens | 89.7 |\n",
       "| Martigwy | 78.2 |\n",
       "| Monthey | 64.9 |\n",
       "| St Maurice | 75.9 |\n",
       "| Sierre | 84.6 |\n",
       "| Sion | 63.1 |\n",
       "\n"
      ],
      "text/plain": [
       "             Agriculture\n",
       "Delemont     45.1       \n",
       "Franches-Mnt 39.7       \n",
       "Porrentruy   35.3       \n",
       "Broye        70.2       \n",
       "Glane        67.8       \n",
       "Gruyere      53.3       \n",
       "Sarine       45.2       \n",
       "Veveyse      64.5       \n",
       "Conthey      85.9       \n",
       "Entremont    84.9       \n",
       "Herens       89.7       \n",
       "Martigwy     78.2       \n",
       "Monthey      64.9       \n",
       "St Maurice   75.9       \n",
       "Sierre       84.6       \n",
       "Sion         63.1       "
      ]
     },
     "metadata": {},
     "output_type": "display_data"
    }
   ],
   "source": [
    "df[df['Catholic'] > 80, ]['Agriculture']"
   ]
  },
  {
   "cell_type": "code",
   "execution_count": 199,
   "id": "ef98ac5b",
   "metadata": {},
   "outputs": [
    {
     "data": {
      "text/html": [
       "<table class=\"dataframe\">\n",
       "<caption>A data.frame: 11 × 2</caption>\n",
       "<thead>\n",
       "\t<tr><th></th><th scope=col>Examination</th><th scope=col>Agriculture</th></tr>\n",
       "\t<tr><th></th><th scope=col>&lt;int&gt;</th><th scope=col>&lt;dbl&gt;</th></tr>\n",
       "</thead>\n",
       "<tbody>\n",
       "\t<tr><th scope=row>Courtelary</th><td>15</td><td>17.0</td></tr>\n",
       "\t<tr><th scope=row>Delemont</th><td> 6</td><td>45.1</td></tr>\n",
       "\t<tr><th scope=row>Franches-Mnt</th><td> 5</td><td>39.7</td></tr>\n",
       "\t<tr><th scope=row>Moutier</th><td>12</td><td>36.5</td></tr>\n",
       "\t<tr><th scope=row>Neuveville</th><td>17</td><td>43.5</td></tr>\n",
       "\t<tr><th scope=row>Porrentruy</th><td> 9</td><td>35.3</td></tr>\n",
       "\t<tr><th scope=row>Sarine</th><td>16</td><td>45.2</td></tr>\n",
       "\t<tr><th scope=row>Grandson</th><td>17</td><td>34.0</td></tr>\n",
       "\t<tr><th scope=row>Yverdon</th><td>15</td><td>49.5</td></tr>\n",
       "\t<tr><th scope=row>Val de Ruz</th><td>15</td><td>37.6</td></tr>\n",
       "\t<tr><th scope=row>Rive Droite</th><td>16</td><td>46.6</td></tr>\n",
       "</tbody>\n",
       "</table>\n"
      ],
      "text/latex": [
       "A data.frame: 11 × 2\n",
       "\\begin{tabular}{r|ll}\n",
       "  & Examination & Agriculture\\\\\n",
       "  & <int> & <dbl>\\\\\n",
       "\\hline\n",
       "\tCourtelary & 15 & 17.0\\\\\n",
       "\tDelemont &  6 & 45.1\\\\\n",
       "\tFranches-Mnt &  5 & 39.7\\\\\n",
       "\tMoutier & 12 & 36.5\\\\\n",
       "\tNeuveville & 17 & 43.5\\\\\n",
       "\tPorrentruy &  9 & 35.3\\\\\n",
       "\tSarine & 16 & 45.2\\\\\n",
       "\tGrandson & 17 & 34.0\\\\\n",
       "\tYverdon & 15 & 49.5\\\\\n",
       "\tVal de Ruz & 15 & 37.6\\\\\n",
       "\tRive Droite & 16 & 46.6\\\\\n",
       "\\end{tabular}\n"
      ],
      "text/markdown": [
       "\n",
       "A data.frame: 11 × 2\n",
       "\n",
       "| <!--/--> | Examination &lt;int&gt; | Agriculture &lt;dbl&gt; |\n",
       "|---|---|---|\n",
       "| Courtelary | 15 | 17.0 |\n",
       "| Delemont |  6 | 45.1 |\n",
       "| Franches-Mnt |  5 | 39.7 |\n",
       "| Moutier | 12 | 36.5 |\n",
       "| Neuveville | 17 | 43.5 |\n",
       "| Porrentruy |  9 | 35.3 |\n",
       "| Sarine | 16 | 45.2 |\n",
       "| Grandson | 17 | 34.0 |\n",
       "| Yverdon | 15 | 49.5 |\n",
       "| Val de Ruz | 15 | 37.6 |\n",
       "| Rive Droite | 16 | 46.6 |\n",
       "\n"
      ],
      "text/plain": [
       "             Examination Agriculture\n",
       "Courtelary   15          17.0       \n",
       "Delemont      6          45.1       \n",
       "Franches-Mnt  5          39.7       \n",
       "Moutier      12          36.5       \n",
       "Neuveville   17          43.5       \n",
       "Porrentruy    9          35.3       \n",
       "Sarine       16          45.2       \n",
       "Grandson     17          34.0       \n",
       "Yverdon      15          49.5       \n",
       "Val de Ruz   15          37.6       \n",
       "Rive Droite  16          46.6       "
      ]
     },
     "metadata": {},
     "output_type": "display_data"
    }
   ],
   "source": [
    "df[df['Examination'] < 20 & df['Agriculture'] < 50, ][c('Examination','Agriculture')]"
   ]
  },
  {
   "cell_type": "code",
   "execution_count": 201,
   "id": "ac6cb0e1",
   "metadata": {},
   "outputs": [
    {
     "data": {
      "text/html": [
       "1683"
      ],
      "text/latex": [
       "1683"
      ],
      "text/markdown": [
       "1683"
      ],
      "text/plain": [
       "[1] 1683"
      ]
     },
     "metadata": {},
     "output_type": "display_data"
    },
    {
     "data": {
      "text/html": [
       "33"
      ],
      "text/latex": [
       "33"
      ],
      "text/markdown": [
       "33"
      ],
      "text/plain": [
       "[1] 33"
      ]
     },
     "metadata": {},
     "output_type": "display_data"
    }
   ],
   "source": [
    "b <- 1:100\n",
    "sum(b[b%%3==0])\n",
    "length(b[b%%3==0])"
   ]
  },
  {
   "cell_type": "code",
   "execution_count": 203,
   "id": "b19faeae",
   "metadata": {},
   "outputs": [
    {
     "data": {
      "text/html": [
       "<style>\n",
       ".list-inline {list-style: none; margin:0; padding: 0}\n",
       ".list-inline>li {display: inline-block}\n",
       ".list-inline>li:not(:last-child)::after {content: \"\\00b7\"; padding: 0 .5ex}\n",
       "</style>\n",
       "<ol class=list-inline><li>108</li><li>120</li><li>132</li><li>144</li><li>156</li><li>168</li><li>180</li><li>192</li></ol>\n"
      ],
      "text/latex": [
       "\\begin{enumerate*}\n",
       "\\item 108\n",
       "\\item 120\n",
       "\\item 132\n",
       "\\item 144\n",
       "\\item 156\n",
       "\\item 168\n",
       "\\item 180\n",
       "\\item 192\n",
       "\\end{enumerate*}\n"
      ],
      "text/markdown": [
       "1. 108\n",
       "2. 120\n",
       "3. 132\n",
       "4. 144\n",
       "5. 156\n",
       "6. 168\n",
       "7. 180\n",
       "8. 192\n",
       "\n",
       "\n"
      ],
      "text/plain": [
       "[1] 108 120 132 144 156 168 180 192"
      ]
     },
     "metadata": {},
     "output_type": "display_data"
    }
   ],
   "source": [
    "d <- 101:200\n",
    "d[d%%3 == 0 & d%%4 ==0]"
   ]
  },
  {
   "cell_type": "code",
   "execution_count": 204,
   "id": "5a71bfbf",
   "metadata": {},
   "outputs": [
    {
     "data": {
      "text/html": [
       "24"
      ],
      "text/latex": [
       "24"
      ],
      "text/markdown": [
       "24"
      ],
      "text/plain": [
       "[1] 24"
      ]
     },
     "metadata": {},
     "output_type": "display_data"
    }
   ],
   "source": [
    "d <- 1:24\n",
    "d[d%%24==0]"
   ]
  },
  {
   "cell_type": "code",
   "execution_count": 207,
   "id": "025ffe9b",
   "metadata": {},
   "outputs": [
    {
     "data": {
      "text/html": [
       "3628800"
      ],
      "text/latex": [
       "3628800"
      ],
      "text/markdown": [
       "3628800"
      ],
      "text/plain": [
       "[1] 3628800"
      ]
     },
     "metadata": {},
     "output_type": "display_data"
    }
   ],
   "source": [
    "sd <- 1\n",
    "for(i in 1:10){\n",
    "    sd <- sd * i\n",
    "}\n",
    "sd"
   ]
  },
  {
   "cell_type": "code",
   "execution_count": 208,
   "id": "bb312a4c",
   "metadata": {},
   "outputs": [
    {
     "name": "stdout",
     "output_type": "stream",
     "text": [
      "9 *  1 = 9 \n",
      "9 *  2 = 18 \n",
      "9 *  3 = 27 \n",
      "9 *  4 = 36 \n",
      "9 *  5 = 45 \n",
      "9 *  6 = 54 \n",
      "9 *  7 = 63 \n",
      "9 *  8 = 72 \n",
      "9 *  9 = 81 \n"
     ]
    }
   ],
   "source": [
    "for(i in 1:9){\n",
    "    cat(\"9 * \",i, \"=\", 9 * i, '\\n')\n",
    "}"
   ]
  },
  {
   "cell_type": "code",
   "execution_count": 209,
   "id": "a14541b3",
   "metadata": {},
   "outputs": [
    {
     "name": "stdout",
     "output_type": "stream",
     "text": [
      "[1] 1\n",
      "[1] 2\n",
      "[1] \"*\"\n",
      "[1] 4\n",
      "[1] 5\n",
      "[1] \"*\"\n",
      "[1] 7\n",
      "[1] 8\n",
      "[1] \"*\"\n",
      "[1] 10\n",
      "[1] 11\n",
      "[1] \"*\"\n",
      "[1] 13\n",
      "[1] 14\n",
      "[1] \"*\"\n",
      "[1] 16\n",
      "[1] 17\n",
      "[1] \"*\"\n",
      "[1] 19\n",
      "[1] 20\n",
      "[1] \"*\"\n",
      "[1] 22\n",
      "[1] 23\n",
      "[1] \"*\"\n",
      "[1] 25\n",
      "[1] 26\n",
      "[1] \"*\"\n",
      "[1] 28\n",
      "[1] 29\n",
      "[1] \"*\"\n",
      "[1] 31\n",
      "[1] 32\n",
      "[1] \"*\"\n",
      "[1] 34\n",
      "[1] 35\n",
      "[1] \"*\"\n",
      "[1] 37\n",
      "[1] 38\n",
      "[1] \"*\"\n",
      "[1] 40\n",
      "[1] 41\n",
      "[1] \"*\"\n",
      "[1] 43\n",
      "[1] 44\n",
      "[1] \"*\"\n",
      "[1] 46\n",
      "[1] 47\n",
      "[1] \"*\"\n",
      "[1] 49\n",
      "[1] 50\n",
      "[1] \"*\"\n",
      "[1] 52\n",
      "[1] 53\n",
      "[1] \"*\"\n",
      "[1] 55\n",
      "[1] 56\n",
      "[1] \"*\"\n",
      "[1] 58\n",
      "[1] 59\n",
      "[1] \"*\"\n",
      "[1] 61\n",
      "[1] 62\n",
      "[1] \"*\"\n",
      "[1] 64\n",
      "[1] 65\n",
      "[1] \"*\"\n",
      "[1] 67\n",
      "[1] 68\n",
      "[1] \"*\"\n",
      "[1] 70\n",
      "[1] 71\n",
      "[1] \"*\"\n",
      "[1] 73\n",
      "[1] 74\n",
      "[1] \"*\"\n",
      "[1] 76\n",
      "[1] 77\n",
      "[1] \"*\"\n",
      "[1] 79\n",
      "[1] 80\n",
      "[1] \"*\"\n",
      "[1] 82\n",
      "[1] 83\n",
      "[1] \"*\"\n",
      "[1] 85\n",
      "[1] 86\n",
      "[1] \"*\"\n",
      "[1] 88\n",
      "[1] 89\n",
      "[1] \"*\"\n",
      "[1] 91\n",
      "[1] 92\n",
      "[1] \"*\"\n",
      "[1] 94\n",
      "[1] 95\n",
      "[1] \"*\"\n",
      "[1] 97\n",
      "[1] 98\n",
      "[1] \"*\"\n",
      "[1] 100\n"
     ]
    }
   ],
   "source": [
    "for(i in 1:100){\n",
    "    print(ifelse(i%%3==0, '*', i))\n",
    "}"
   ]
  },
  {
   "cell_type": "code",
   "execution_count": 211,
   "id": "e8c82ad0",
   "metadata": {},
   "outputs": [
    {
     "data": {
      "text/html": [
       "<style>\n",
       ".list-inline {list-style: none; margin:0; padding: 0}\n",
       ".list-inline>li {display: inline-block}\n",
       ".list-inline>li:not(:last-child)::after {content: \"\\00b7\"; padding: 0 .5ex}\n",
       "</style>\n",
       "<ol class=list-inline><li>2</li><li>3</li><li>5</li><li>7</li><li>11</li><li>13</li><li>17</li><li>19</li><li>23</li><li>29</li><li>31</li><li>37</li><li>41</li><li>43</li><li>47</li><li>53</li><li>59</li><li>61</li><li>67</li><li>71</li><li>73</li><li>79</li><li>83</li><li>89</li><li>97</li><li>101</li><li>103</li><li>107</li><li>109</li><li>113</li><li>127</li><li>131</li><li>137</li><li>139</li><li>149</li><li>151</li><li>157</li><li>163</li><li>167</li><li>173</li><li>179</li><li>181</li><li>191</li><li>193</li><li>197</li><li>199</li><li>211</li><li>223</li><li>227</li><li>229</li><li>233</li><li>239</li><li>241</li><li>251</li><li>257</li><li>263</li><li>269</li><li>271</li><li>277</li><li>281</li><li>283</li><li>293</li><li>307</li><li>311</li><li>313</li><li>317</li><li>331</li><li>337</li><li>347</li><li>349</li><li>353</li><li>359</li><li>367</li><li>373</li><li>379</li><li>383</li><li>389</li><li>397</li><li>401</li><li>409</li><li>419</li><li>421</li><li>431</li><li>433</li><li>439</li><li>443</li><li>449</li><li>457</li><li>461</li><li>463</li><li>467</li><li>479</li><li>487</li><li>491</li><li>499</li><li>503</li><li>509</li><li>521</li><li>523</li><li>541</li><li>547</li><li>557</li><li>563</li><li>569</li><li>571</li><li>577</li><li>587</li><li>593</li><li>599</li><li>601</li><li>607</li><li>613</li><li>617</li><li>619</li><li>631</li><li>641</li><li>643</li><li>647</li><li>653</li><li>659</li><li>661</li><li>673</li><li>677</li><li>683</li><li>691</li><li>701</li><li>709</li><li>719</li><li>727</li><li>733</li><li>739</li><li>743</li><li>751</li><li>757</li><li>761</li><li>769</li><li>773</li><li>787</li><li>797</li><li>809</li><li>811</li><li>821</li><li>823</li><li>827</li><li>829</li><li>839</li><li>853</li><li>857</li><li>859</li><li>863</li><li>877</li><li>881</li><li>883</li><li>887</li><li>907</li><li>911</li><li>919</li><li>929</li><li>937</li><li>941</li><li>947</li><li>953</li><li>967</li><li>971</li><li>977</li><li>983</li><li>991</li><li>997</li></ol>\n"
      ],
      "text/latex": [
       "\\begin{enumerate*}\n",
       "\\item 2\n",
       "\\item 3\n",
       "\\item 5\n",
       "\\item 7\n",
       "\\item 11\n",
       "\\item 13\n",
       "\\item 17\n",
       "\\item 19\n",
       "\\item 23\n",
       "\\item 29\n",
       "\\item 31\n",
       "\\item 37\n",
       "\\item 41\n",
       "\\item 43\n",
       "\\item 47\n",
       "\\item 53\n",
       "\\item 59\n",
       "\\item 61\n",
       "\\item 67\n",
       "\\item 71\n",
       "\\item 73\n",
       "\\item 79\n",
       "\\item 83\n",
       "\\item 89\n",
       "\\item 97\n",
       "\\item 101\n",
       "\\item 103\n",
       "\\item 107\n",
       "\\item 109\n",
       "\\item 113\n",
       "\\item 127\n",
       "\\item 131\n",
       "\\item 137\n",
       "\\item 139\n",
       "\\item 149\n",
       "\\item 151\n",
       "\\item 157\n",
       "\\item 163\n",
       "\\item 167\n",
       "\\item 173\n",
       "\\item 179\n",
       "\\item 181\n",
       "\\item 191\n",
       "\\item 193\n",
       "\\item 197\n",
       "\\item 199\n",
       "\\item 211\n",
       "\\item 223\n",
       "\\item 227\n",
       "\\item 229\n",
       "\\item 233\n",
       "\\item 239\n",
       "\\item 241\n",
       "\\item 251\n",
       "\\item 257\n",
       "\\item 263\n",
       "\\item 269\n",
       "\\item 271\n",
       "\\item 277\n",
       "\\item 281\n",
       "\\item 283\n",
       "\\item 293\n",
       "\\item 307\n",
       "\\item 311\n",
       "\\item 313\n",
       "\\item 317\n",
       "\\item 331\n",
       "\\item 337\n",
       "\\item 347\n",
       "\\item 349\n",
       "\\item 353\n",
       "\\item 359\n",
       "\\item 367\n",
       "\\item 373\n",
       "\\item 379\n",
       "\\item 383\n",
       "\\item 389\n",
       "\\item 397\n",
       "\\item 401\n",
       "\\item 409\n",
       "\\item 419\n",
       "\\item 421\n",
       "\\item 431\n",
       "\\item 433\n",
       "\\item 439\n",
       "\\item 443\n",
       "\\item 449\n",
       "\\item 457\n",
       "\\item 461\n",
       "\\item 463\n",
       "\\item 467\n",
       "\\item 479\n",
       "\\item 487\n",
       "\\item 491\n",
       "\\item 499\n",
       "\\item 503\n",
       "\\item 509\n",
       "\\item 521\n",
       "\\item 523\n",
       "\\item 541\n",
       "\\item 547\n",
       "\\item 557\n",
       "\\item 563\n",
       "\\item 569\n",
       "\\item 571\n",
       "\\item 577\n",
       "\\item 587\n",
       "\\item 593\n",
       "\\item 599\n",
       "\\item 601\n",
       "\\item 607\n",
       "\\item 613\n",
       "\\item 617\n",
       "\\item 619\n",
       "\\item 631\n",
       "\\item 641\n",
       "\\item 643\n",
       "\\item 647\n",
       "\\item 653\n",
       "\\item 659\n",
       "\\item 661\n",
       "\\item 673\n",
       "\\item 677\n",
       "\\item 683\n",
       "\\item 691\n",
       "\\item 701\n",
       "\\item 709\n",
       "\\item 719\n",
       "\\item 727\n",
       "\\item 733\n",
       "\\item 739\n",
       "\\item 743\n",
       "\\item 751\n",
       "\\item 757\n",
       "\\item 761\n",
       "\\item 769\n",
       "\\item 773\n",
       "\\item 787\n",
       "\\item 797\n",
       "\\item 809\n",
       "\\item 811\n",
       "\\item 821\n",
       "\\item 823\n",
       "\\item 827\n",
       "\\item 829\n",
       "\\item 839\n",
       "\\item 853\n",
       "\\item 857\n",
       "\\item 859\n",
       "\\item 863\n",
       "\\item 877\n",
       "\\item 881\n",
       "\\item 883\n",
       "\\item 887\n",
       "\\item 907\n",
       "\\item 911\n",
       "\\item 919\n",
       "\\item 929\n",
       "\\item 937\n",
       "\\item 941\n",
       "\\item 947\n",
       "\\item 953\n",
       "\\item 967\n",
       "\\item 971\n",
       "\\item 977\n",
       "\\item 983\n",
       "\\item 991\n",
       "\\item 997\n",
       "\\end{enumerate*}\n"
      ],
      "text/markdown": [
       "1. 2\n",
       "2. 3\n",
       "3. 5\n",
       "4. 7\n",
       "5. 11\n",
       "6. 13\n",
       "7. 17\n",
       "8. 19\n",
       "9. 23\n",
       "10. 29\n",
       "11. 31\n",
       "12. 37\n",
       "13. 41\n",
       "14. 43\n",
       "15. 47\n",
       "16. 53\n",
       "17. 59\n",
       "18. 61\n",
       "19. 67\n",
       "20. 71\n",
       "21. 73\n",
       "22. 79\n",
       "23. 83\n",
       "24. 89\n",
       "25. 97\n",
       "26. 101\n",
       "27. 103\n",
       "28. 107\n",
       "29. 109\n",
       "30. 113\n",
       "31. 127\n",
       "32. 131\n",
       "33. 137\n",
       "34. 139\n",
       "35. 149\n",
       "36. 151\n",
       "37. 157\n",
       "38. 163\n",
       "39. 167\n",
       "40. 173\n",
       "41. 179\n",
       "42. 181\n",
       "43. 191\n",
       "44. 193\n",
       "45. 197\n",
       "46. 199\n",
       "47. 211\n",
       "48. 223\n",
       "49. 227\n",
       "50. 229\n",
       "51. 233\n",
       "52. 239\n",
       "53. 241\n",
       "54. 251\n",
       "55. 257\n",
       "56. 263\n",
       "57. 269\n",
       "58. 271\n",
       "59. 277\n",
       "60. 281\n",
       "61. 283\n",
       "62. 293\n",
       "63. 307\n",
       "64. 311\n",
       "65. 313\n",
       "66. 317\n",
       "67. 331\n",
       "68. 337\n",
       "69. 347\n",
       "70. 349\n",
       "71. 353\n",
       "72. 359\n",
       "73. 367\n",
       "74. 373\n",
       "75. 379\n",
       "76. 383\n",
       "77. 389\n",
       "78. 397\n",
       "79. 401\n",
       "80. 409\n",
       "81. 419\n",
       "82. 421\n",
       "83. 431\n",
       "84. 433\n",
       "85. 439\n",
       "86. 443\n",
       "87. 449\n",
       "88. 457\n",
       "89. 461\n",
       "90. 463\n",
       "91. 467\n",
       "92. 479\n",
       "93. 487\n",
       "94. 491\n",
       "95. 499\n",
       "96. 503\n",
       "97. 509\n",
       "98. 521\n",
       "99. 523\n",
       "100. 541\n",
       "101. 547\n",
       "102. 557\n",
       "103. 563\n",
       "104. 569\n",
       "105. 571\n",
       "106. 577\n",
       "107. 587\n",
       "108. 593\n",
       "109. 599\n",
       "110. 601\n",
       "111. 607\n",
       "112. 613\n",
       "113. 617\n",
       "114. 619\n",
       "115. 631\n",
       "116. 641\n",
       "117. 643\n",
       "118. 647\n",
       "119. 653\n",
       "120. 659\n",
       "121. 661\n",
       "122. 673\n",
       "123. 677\n",
       "124. 683\n",
       "125. 691\n",
       "126. 701\n",
       "127. 709\n",
       "128. 719\n",
       "129. 727\n",
       "130. 733\n",
       "131. 739\n",
       "132. 743\n",
       "133. 751\n",
       "134. 757\n",
       "135. 761\n",
       "136. 769\n",
       "137. 773\n",
       "138. 787\n",
       "139. 797\n",
       "140. 809\n",
       "141. 811\n",
       "142. 821\n",
       "143. 823\n",
       "144. 827\n",
       "145. 829\n",
       "146. 839\n",
       "147. 853\n",
       "148. 857\n",
       "149. 859\n",
       "150. 863\n",
       "151. 877\n",
       "152. 881\n",
       "153. 883\n",
       "154. 887\n",
       "155. 907\n",
       "156. 911\n",
       "157. 919\n",
       "158. 929\n",
       "159. 937\n",
       "160. 941\n",
       "161. 947\n",
       "162. 953\n",
       "163. 967\n",
       "164. 971\n",
       "165. 977\n",
       "166. 983\n",
       "167. 991\n",
       "168. 997\n",
       "\n",
       "\n"
      ],
      "text/plain": [
       "  [1]   2   3   5   7  11  13  17  19  23  29  31  37  41  43  47  53  59  61\n",
       " [19]  67  71  73  79  83  89  97 101 103 107 109 113 127 131 137 139 149 151\n",
       " [37] 157 163 167 173 179 181 191 193 197 199 211 223 227 229 233 239 241 251\n",
       " [55] 257 263 269 271 277 281 283 293 307 311 313 317 331 337 347 349 353 359\n",
       " [73] 367 373 379 383 389 397 401 409 419 421 431 433 439 443 449 457 461 463\n",
       " [91] 467 479 487 491 499 503 509 521 523 541 547 557 563 569 571 577 587 593\n",
       "[109] 599 601 607 613 617 619 631 641 643 647 653 659 661 673 677 683 691 701\n",
       "[127] 709 719 727 733 739 743 751 757 761 769 773 787 797 809 811 821 823 827\n",
       "[145] 829 839 853 857 859 863 877 881 883 887 907 911 919 929 937 941 947 953\n",
       "[163] 967 971 977 983 991 997"
      ]
     },
     "metadata": {},
     "output_type": "display_data"
    }
   ],
   "source": [
    "prime <- c()\n",
    "for(i in 2:1000){\n",
    "    for(j in 2:i){\n",
    "        if(i%%j == 0){\n",
    "            break\n",
    "        }\n",
    "    }\n",
    "    if(i==j){\n",
    "        prime <- c(prime, i)\n",
    "    }\n",
    "}\n",
    "prime"
   ]
  },
  {
   "cell_type": "code",
   "execution_count": 2,
   "id": "33cda993",
   "metadata": {},
   "outputs": [
    {
     "data": {
      "text/html": [
       "<style>\n",
       ".list-inline {list-style: none; margin:0; padding: 0}\n",
       ".list-inline>li {display: inline-block}\n",
       ".list-inline>li:not(:last-child)::after {content: \"\\00b7\"; padding: 0 .5ex}\n",
       "</style>\n",
       "<ol class=list-inline><li>0</li><li>1</li><li>1</li><li>2</li><li>3</li><li>5</li><li>8</li><li>13</li><li>21</li><li>34</li><li>55</li><li>89</li><li>144</li><li>233</li><li>377</li><li>610</li><li>987</li><li>1597</li><li>2584</li><li>4181</li><li>6765</li><li>10946</li><li>17711</li><li>28657</li><li>46368</li><li>75025</li><li>121393</li><li>196418</li><li>317811</li><li>514229</li><li>832040</li><li>1346269</li><li>2178309</li><li>3524578</li><li>5702887</li><li>9227465</li><li>14930352</li><li>24157817</li><li>39088169</li><li>63245986</li></ol>\n"
      ],
      "text/latex": [
       "\\begin{enumerate*}\n",
       "\\item 0\n",
       "\\item 1\n",
       "\\item 1\n",
       "\\item 2\n",
       "\\item 3\n",
       "\\item 5\n",
       "\\item 8\n",
       "\\item 13\n",
       "\\item 21\n",
       "\\item 34\n",
       "\\item 55\n",
       "\\item 89\n",
       "\\item 144\n",
       "\\item 233\n",
       "\\item 377\n",
       "\\item 610\n",
       "\\item 987\n",
       "\\item 1597\n",
       "\\item 2584\n",
       "\\item 4181\n",
       "\\item 6765\n",
       "\\item 10946\n",
       "\\item 17711\n",
       "\\item 28657\n",
       "\\item 46368\n",
       "\\item 75025\n",
       "\\item 121393\n",
       "\\item 196418\n",
       "\\item 317811\n",
       "\\item 514229\n",
       "\\item 832040\n",
       "\\item 1346269\n",
       "\\item 2178309\n",
       "\\item 3524578\n",
       "\\item 5702887\n",
       "\\item 9227465\n",
       "\\item 14930352\n",
       "\\item 24157817\n",
       "\\item 39088169\n",
       "\\item 63245986\n",
       "\\end{enumerate*}\n"
      ],
      "text/markdown": [
       "1. 0\n",
       "2. 1\n",
       "3. 1\n",
       "4. 2\n",
       "5. 3\n",
       "6. 5\n",
       "7. 8\n",
       "8. 13\n",
       "9. 21\n",
       "10. 34\n",
       "11. 55\n",
       "12. 89\n",
       "13. 144\n",
       "14. 233\n",
       "15. 377\n",
       "16. 610\n",
       "17. 987\n",
       "18. 1597\n",
       "19. 2584\n",
       "20. 4181\n",
       "21. 6765\n",
       "22. 10946\n",
       "23. 17711\n",
       "24. 28657\n",
       "25. 46368\n",
       "26. 75025\n",
       "27. 121393\n",
       "28. 196418\n",
       "29. 317811\n",
       "30. 514229\n",
       "31. 832040\n",
       "32. 1346269\n",
       "33. 2178309\n",
       "34. 3524578\n",
       "35. 5702887\n",
       "36. 9227465\n",
       "37. 14930352\n",
       "38. 24157817\n",
       "39. 39088169\n",
       "40. 63245986\n",
       "\n",
       "\n"
      ],
      "text/plain": [
       " [1]        0        1        1        2        3        5        8       13\n",
       " [9]       21       34       55       89      144      233      377      610\n",
       "[17]      987     1597     2584     4181     6765    10946    17711    28657\n",
       "[25]    46368    75025   121393   196418   317811   514229   832040  1346269\n",
       "[33]  2178309  3524578  5702887  9227465 14930352 24157817 39088169 63245986"
      ]
     },
     "metadata": {},
     "output_type": "display_data"
    }
   ],
   "source": [
    "fibo <- c(0, 1)\n",
    "for(i in 3:40){\n",
    "    result <- fibo[i-1] + fibo[i-2]\n",
    "    fibo <- c(fibo, result)\n",
    "}\n",
    "fibo"
   ]
  },
  {
   "cell_type": "code",
   "execution_count": 1,
   "id": "b9d557af",
   "metadata": {},
   "outputs": [
    {
     "name": "stdout",
     "output_type": "stream",
     "text": [
      "[1] 3\n",
      "[1] 4\n",
      "[1] 5\n",
      "[1] 6\n",
      "[1] 7\n",
      "[1] 8\n",
      "[1] 9\n",
      "[1] 10\n",
      "[1] 11\n",
      "[1] 12\n",
      "[1] 13\n",
      "[1] 14\n",
      "[1] 15\n",
      "[1] 16\n",
      "[1] 17\n",
      "[1] 18\n",
      "[1] 19\n",
      "[1] 20\n",
      "[1] 21\n",
      "[1] 22\n",
      "[1] 23\n",
      "[1] 24\n",
      "[1] 25\n",
      "[1] 26\n",
      "[1] 27\n",
      "[1] 28\n",
      "[1] 29\n",
      "[1] 30\n",
      "[1] 31\n",
      "[1] 32\n",
      "[1] 33\n",
      "[1] 34\n",
      "[1] 35\n",
      "[1] 36\n",
      "[1] 37\n",
      "[1] 38\n",
      "[1] 39\n",
      "[1] 40\n"
     ]
    }
   ],
   "source": [
    "for(i in 3:40){\n",
    "    print(i)\n",
    "}"
   ]
  },
  {
   "cell_type": "code",
   "execution_count": 3,
   "id": "0dbf51b3",
   "metadata": {},
   "outputs": [
    {
     "data": {
      "text/html": [
       "<table class=\"dataframe\">\n",
       "<caption>A data.frame: 6 × 5</caption>\n",
       "<thead>\n",
       "\t<tr><th></th><th scope=col>Sepal.Length</th><th scope=col>Sepal.Width</th><th scope=col>Petal.Length</th><th scope=col>Petal.Width</th><th scope=col>Species</th></tr>\n",
       "\t<tr><th></th><th scope=col>&lt;dbl&gt;</th><th scope=col>&lt;dbl&gt;</th><th scope=col>&lt;dbl&gt;</th><th scope=col>&lt;dbl&gt;</th><th scope=col>&lt;fct&gt;</th></tr>\n",
       "</thead>\n",
       "<tbody>\n",
       "\t<tr><th scope=row>1</th><td>5.1</td><td>3.5</td><td>1.4</td><td>0.2</td><td>setosa</td></tr>\n",
       "\t<tr><th scope=row>2</th><td>4.9</td><td>3.0</td><td>1.4</td><td>0.2</td><td>setosa</td></tr>\n",
       "\t<tr><th scope=row>3</th><td>4.7</td><td>3.2</td><td>1.3</td><td>0.2</td><td>setosa</td></tr>\n",
       "\t<tr><th scope=row>4</th><td>4.6</td><td>3.1</td><td>1.5</td><td>0.2</td><td>setosa</td></tr>\n",
       "\t<tr><th scope=row>5</th><td>5.0</td><td>3.6</td><td>1.4</td><td>0.2</td><td>setosa</td></tr>\n",
       "\t<tr><th scope=row>6</th><td>5.4</td><td>3.9</td><td>1.7</td><td>0.4</td><td>setosa</td></tr>\n",
       "</tbody>\n",
       "</table>\n"
      ],
      "text/latex": [
       "A data.frame: 6 × 5\n",
       "\\begin{tabular}{r|lllll}\n",
       "  & Sepal.Length & Sepal.Width & Petal.Length & Petal.Width & Species\\\\\n",
       "  & <dbl> & <dbl> & <dbl> & <dbl> & <fct>\\\\\n",
       "\\hline\n",
       "\t1 & 5.1 & 3.5 & 1.4 & 0.2 & setosa\\\\\n",
       "\t2 & 4.9 & 3.0 & 1.4 & 0.2 & setosa\\\\\n",
       "\t3 & 4.7 & 3.2 & 1.3 & 0.2 & setosa\\\\\n",
       "\t4 & 4.6 & 3.1 & 1.5 & 0.2 & setosa\\\\\n",
       "\t5 & 5.0 & 3.6 & 1.4 & 0.2 & setosa\\\\\n",
       "\t6 & 5.4 & 3.9 & 1.7 & 0.4 & setosa\\\\\n",
       "\\end{tabular}\n"
      ],
      "text/markdown": [
       "\n",
       "A data.frame: 6 × 5\n",
       "\n",
       "| <!--/--> | Sepal.Length &lt;dbl&gt; | Sepal.Width &lt;dbl&gt; | Petal.Length &lt;dbl&gt; | Petal.Width &lt;dbl&gt; | Species &lt;fct&gt; |\n",
       "|---|---|---|---|---|---|\n",
       "| 1 | 5.1 | 3.5 | 1.4 | 0.2 | setosa |\n",
       "| 2 | 4.9 | 3.0 | 1.4 | 0.2 | setosa |\n",
       "| 3 | 4.7 | 3.2 | 1.3 | 0.2 | setosa |\n",
       "| 4 | 4.6 | 3.1 | 1.5 | 0.2 | setosa |\n",
       "| 5 | 5.0 | 3.6 | 1.4 | 0.2 | setosa |\n",
       "| 6 | 5.4 | 3.9 | 1.7 | 0.4 | setosa |\n",
       "\n"
      ],
      "text/plain": [
       "  Sepal.Length Sepal.Width Petal.Length Petal.Width Species\n",
       "1 5.1          3.5         1.4          0.2         setosa \n",
       "2 4.9          3.0         1.4          0.2         setosa \n",
       "3 4.7          3.2         1.3          0.2         setosa \n",
       "4 4.6          3.1         1.5          0.2         setosa \n",
       "5 5.0          3.6         1.4          0.2         setosa \n",
       "6 5.4          3.9         1.7          0.4         setosa "
      ]
     },
     "metadata": {},
     "output_type": "display_data"
    }
   ],
   "source": [
    "head(iris)"
   ]
  },
  {
   "cell_type": "code",
   "execution_count": 4,
   "id": "4969f111",
   "metadata": {},
   "outputs": [
    {
     "data": {
      "text/html": [
       "<style>\n",
       ".list-inline {list-style: none; margin:0; padding: 0}\n",
       ".list-inline>li {display: inline-block}\n",
       ".list-inline>li:not(:last-child)::after {content: \"\\00b7\"; padding: 0 .5ex}\n",
       "</style>\n",
       "<ol class=list-inline><li>10.2</li><li>9.5</li><li>9.4</li><li>9.4</li><li>10.2</li><li>11.4</li><li>9.7</li><li>10.1</li><li>8.9</li><li>9.6</li><li>10.8</li><li>10</li><li>9.3</li><li>8.5</li><li>11.2</li><li>12</li><li>11</li><li>10.3</li><li>11.5</li><li>10.7</li><li>10.7</li><li>10.7</li><li>9.4</li><li>10.6</li><li>10.3</li><li>9.8</li><li>10.4</li><li>10.4</li><li>10.2</li><li>9.7</li><li>9.7</li><li>10.7</li><li>10.9</li><li>11.3</li><li>9.7</li><li>9.6</li><li>10.5</li><li>10</li><li>8.9</li><li>10.2</li><li>10.1</li><li>8.4</li><li>9.1</li><li>10.7</li><li>11.2</li><li>9.5</li><li>10.7</li><li>9.4</li><li>10.7</li><li>9.9</li><li>16.3</li><li>15.6</li><li>16.4</li><li>13.1</li><li>15.4</li><li>14.3</li><li>15.9</li><li>11.6</li><li>15.4</li><li>13.2</li><li>11.5</li><li>14.6</li><li>13.2</li><li>15.1</li><li>13.4</li><li>15.6</li><li>14.6</li><li>13.6</li><li>14.4</li><li>13.1</li><li>15.7</li><li>14.2</li><li>15.2</li><li>14.8</li><li>14.9</li><li>15.4</li><li>15.8</li><li>16.4</li><li>14.9</li><li>12.8</li><li>12.8</li><li>12.6</li><li>13.6</li><li>15.4</li><li>14.4</li><li>15.5</li><li>16</li><li>14.3</li><li>14</li><li>13.3</li><li>13.7</li><li>15.1</li><li>13.6</li><li>11.6</li><li>13.8</li><li>14.1</li><li>14.1</li><li>14.7</li><li>11.7</li><li>13.9</li><li>18.1</li><li>15.5</li><li>18.1</li><li>16.6</li><li>17.5</li><li>19.3</li><li>13.6</li><li>18.3</li><li>16.8</li><li>19.4</li><li>16.8</li><li>16.3</li><li>17.4</li><li>15.2</li><li>16.1</li><li>17.2</li><li>16.8</li><li>20.4</li><li>19.5</li><li>14.7</li><li>18.1</li><li>15.3</li><li>19.2</li><li>15.7</li><li>17.8</li><li>18.2</li><li>15.6</li><li>15.8</li><li>16.9</li><li>17.6</li><li>18.2</li><li>20.1</li><li>17</li><li>15.7</li><li>15.7</li><li>19.1</li><li>17.7</li><li>16.8</li><li>15.6</li><li>17.5</li><li>17.8</li><li>17.4</li><li>15.5</li><li>18.2</li><li>18.2</li><li>17.2</li><li>15.7</li><li>16.7</li><li>17.3</li><li>15.8</li></ol>\n"
      ],
      "text/latex": [
       "\\begin{enumerate*}\n",
       "\\item 10.2\n",
       "\\item 9.5\n",
       "\\item 9.4\n",
       "\\item 9.4\n",
       "\\item 10.2\n",
       "\\item 11.4\n",
       "\\item 9.7\n",
       "\\item 10.1\n",
       "\\item 8.9\n",
       "\\item 9.6\n",
       "\\item 10.8\n",
       "\\item 10\n",
       "\\item 9.3\n",
       "\\item 8.5\n",
       "\\item 11.2\n",
       "\\item 12\n",
       "\\item 11\n",
       "\\item 10.3\n",
       "\\item 11.5\n",
       "\\item 10.7\n",
       "\\item 10.7\n",
       "\\item 10.7\n",
       "\\item 9.4\n",
       "\\item 10.6\n",
       "\\item 10.3\n",
       "\\item 9.8\n",
       "\\item 10.4\n",
       "\\item 10.4\n",
       "\\item 10.2\n",
       "\\item 9.7\n",
       "\\item 9.7\n",
       "\\item 10.7\n",
       "\\item 10.9\n",
       "\\item 11.3\n",
       "\\item 9.7\n",
       "\\item 9.6\n",
       "\\item 10.5\n",
       "\\item 10\n",
       "\\item 8.9\n",
       "\\item 10.2\n",
       "\\item 10.1\n",
       "\\item 8.4\n",
       "\\item 9.1\n",
       "\\item 10.7\n",
       "\\item 11.2\n",
       "\\item 9.5\n",
       "\\item 10.7\n",
       "\\item 9.4\n",
       "\\item 10.7\n",
       "\\item 9.9\n",
       "\\item 16.3\n",
       "\\item 15.6\n",
       "\\item 16.4\n",
       "\\item 13.1\n",
       "\\item 15.4\n",
       "\\item 14.3\n",
       "\\item 15.9\n",
       "\\item 11.6\n",
       "\\item 15.4\n",
       "\\item 13.2\n",
       "\\item 11.5\n",
       "\\item 14.6\n",
       "\\item 13.2\n",
       "\\item 15.1\n",
       "\\item 13.4\n",
       "\\item 15.6\n",
       "\\item 14.6\n",
       "\\item 13.6\n",
       "\\item 14.4\n",
       "\\item 13.1\n",
       "\\item 15.7\n",
       "\\item 14.2\n",
       "\\item 15.2\n",
       "\\item 14.8\n",
       "\\item 14.9\n",
       "\\item 15.4\n",
       "\\item 15.8\n",
       "\\item 16.4\n",
       "\\item 14.9\n",
       "\\item 12.8\n",
       "\\item 12.8\n",
       "\\item 12.6\n",
       "\\item 13.6\n",
       "\\item 15.4\n",
       "\\item 14.4\n",
       "\\item 15.5\n",
       "\\item 16\n",
       "\\item 14.3\n",
       "\\item 14\n",
       "\\item 13.3\n",
       "\\item 13.7\n",
       "\\item 15.1\n",
       "\\item 13.6\n",
       "\\item 11.6\n",
       "\\item 13.8\n",
       "\\item 14.1\n",
       "\\item 14.1\n",
       "\\item 14.7\n",
       "\\item 11.7\n",
       "\\item 13.9\n",
       "\\item 18.1\n",
       "\\item 15.5\n",
       "\\item 18.1\n",
       "\\item 16.6\n",
       "\\item 17.5\n",
       "\\item 19.3\n",
       "\\item 13.6\n",
       "\\item 18.3\n",
       "\\item 16.8\n",
       "\\item 19.4\n",
       "\\item 16.8\n",
       "\\item 16.3\n",
       "\\item 17.4\n",
       "\\item 15.2\n",
       "\\item 16.1\n",
       "\\item 17.2\n",
       "\\item 16.8\n",
       "\\item 20.4\n",
       "\\item 19.5\n",
       "\\item 14.7\n",
       "\\item 18.1\n",
       "\\item 15.3\n",
       "\\item 19.2\n",
       "\\item 15.7\n",
       "\\item 17.8\n",
       "\\item 18.2\n",
       "\\item 15.6\n",
       "\\item 15.8\n",
       "\\item 16.9\n",
       "\\item 17.6\n",
       "\\item 18.2\n",
       "\\item 20.1\n",
       "\\item 17\n",
       "\\item 15.7\n",
       "\\item 15.7\n",
       "\\item 19.1\n",
       "\\item 17.7\n",
       "\\item 16.8\n",
       "\\item 15.6\n",
       "\\item 17.5\n",
       "\\item 17.8\n",
       "\\item 17.4\n",
       "\\item 15.5\n",
       "\\item 18.2\n",
       "\\item 18.2\n",
       "\\item 17.2\n",
       "\\item 15.7\n",
       "\\item 16.7\n",
       "\\item 17.3\n",
       "\\item 15.8\n",
       "\\end{enumerate*}\n"
      ],
      "text/markdown": [
       "1. 10.2\n",
       "2. 9.5\n",
       "3. 9.4\n",
       "4. 9.4\n",
       "5. 10.2\n",
       "6. 11.4\n",
       "7. 9.7\n",
       "8. 10.1\n",
       "9. 8.9\n",
       "10. 9.6\n",
       "11. 10.8\n",
       "12. 10\n",
       "13. 9.3\n",
       "14. 8.5\n",
       "15. 11.2\n",
       "16. 12\n",
       "17. 11\n",
       "18. 10.3\n",
       "19. 11.5\n",
       "20. 10.7\n",
       "21. 10.7\n",
       "22. 10.7\n",
       "23. 9.4\n",
       "24. 10.6\n",
       "25. 10.3\n",
       "26. 9.8\n",
       "27. 10.4\n",
       "28. 10.4\n",
       "29. 10.2\n",
       "30. 9.7\n",
       "31. 9.7\n",
       "32. 10.7\n",
       "33. 10.9\n",
       "34. 11.3\n",
       "35. 9.7\n",
       "36. 9.6\n",
       "37. 10.5\n",
       "38. 10\n",
       "39. 8.9\n",
       "40. 10.2\n",
       "41. 10.1\n",
       "42. 8.4\n",
       "43. 9.1\n",
       "44. 10.7\n",
       "45. 11.2\n",
       "46. 9.5\n",
       "47. 10.7\n",
       "48. 9.4\n",
       "49. 10.7\n",
       "50. 9.9\n",
       "51. 16.3\n",
       "52. 15.6\n",
       "53. 16.4\n",
       "54. 13.1\n",
       "55. 15.4\n",
       "56. 14.3\n",
       "57. 15.9\n",
       "58. 11.6\n",
       "59. 15.4\n",
       "60. 13.2\n",
       "61. 11.5\n",
       "62. 14.6\n",
       "63. 13.2\n",
       "64. 15.1\n",
       "65. 13.4\n",
       "66. 15.6\n",
       "67. 14.6\n",
       "68. 13.6\n",
       "69. 14.4\n",
       "70. 13.1\n",
       "71. 15.7\n",
       "72. 14.2\n",
       "73. 15.2\n",
       "74. 14.8\n",
       "75. 14.9\n",
       "76. 15.4\n",
       "77. 15.8\n",
       "78. 16.4\n",
       "79. 14.9\n",
       "80. 12.8\n",
       "81. 12.8\n",
       "82. 12.6\n",
       "83. 13.6\n",
       "84. 15.4\n",
       "85. 14.4\n",
       "86. 15.5\n",
       "87. 16\n",
       "88. 14.3\n",
       "89. 14\n",
       "90. 13.3\n",
       "91. 13.7\n",
       "92. 15.1\n",
       "93. 13.6\n",
       "94. 11.6\n",
       "95. 13.8\n",
       "96. 14.1\n",
       "97. 14.1\n",
       "98. 14.7\n",
       "99. 11.7\n",
       "100. 13.9\n",
       "101. 18.1\n",
       "102. 15.5\n",
       "103. 18.1\n",
       "104. 16.6\n",
       "105. 17.5\n",
       "106. 19.3\n",
       "107. 13.6\n",
       "108. 18.3\n",
       "109. 16.8\n",
       "110. 19.4\n",
       "111. 16.8\n",
       "112. 16.3\n",
       "113. 17.4\n",
       "114. 15.2\n",
       "115. 16.1\n",
       "116. 17.2\n",
       "117. 16.8\n",
       "118. 20.4\n",
       "119. 19.5\n",
       "120. 14.7\n",
       "121. 18.1\n",
       "122. 15.3\n",
       "123. 19.2\n",
       "124. 15.7\n",
       "125. 17.8\n",
       "126. 18.2\n",
       "127. 15.6\n",
       "128. 15.8\n",
       "129. 16.9\n",
       "130. 17.6\n",
       "131. 18.2\n",
       "132. 20.1\n",
       "133. 17\n",
       "134. 15.7\n",
       "135. 15.7\n",
       "136. 19.1\n",
       "137. 17.7\n",
       "138. 16.8\n",
       "139. 15.6\n",
       "140. 17.5\n",
       "141. 17.8\n",
       "142. 17.4\n",
       "143. 15.5\n",
       "144. 18.2\n",
       "145. 18.2\n",
       "146. 17.2\n",
       "147. 15.7\n",
       "148. 16.7\n",
       "149. 17.3\n",
       "150. 15.8\n",
       "\n",
       "\n"
      ],
      "text/plain": [
       "  [1] 10.2  9.5  9.4  9.4 10.2 11.4  9.7 10.1  8.9  9.6 10.8 10.0  9.3  8.5 11.2\n",
       " [16] 12.0 11.0 10.3 11.5 10.7 10.7 10.7  9.4 10.6 10.3  9.8 10.4 10.4 10.2  9.7\n",
       " [31]  9.7 10.7 10.9 11.3  9.7  9.6 10.5 10.0  8.9 10.2 10.1  8.4  9.1 10.7 11.2\n",
       " [46]  9.5 10.7  9.4 10.7  9.9 16.3 15.6 16.4 13.1 15.4 14.3 15.9 11.6 15.4 13.2\n",
       " [61] 11.5 14.6 13.2 15.1 13.4 15.6 14.6 13.6 14.4 13.1 15.7 14.2 15.2 14.8 14.9\n",
       " [76] 15.4 15.8 16.4 14.9 12.8 12.8 12.6 13.6 15.4 14.4 15.5 16.0 14.3 14.0 13.3\n",
       " [91] 13.7 15.1 13.6 11.6 13.8 14.1 14.1 14.7 11.7 13.9 18.1 15.5 18.1 16.6 17.5\n",
       "[106] 19.3 13.6 18.3 16.8 19.4 16.8 16.3 17.4 15.2 16.1 17.2 16.8 20.4 19.5 14.7\n",
       "[121] 18.1 15.3 19.2 15.7 17.8 18.2 15.6 15.8 16.9 17.6 18.2 20.1 17.0 15.7 15.7\n",
       "[136] 19.1 17.7 16.8 15.6 17.5 17.8 17.4 15.5 18.2 18.2 17.2 15.7 16.7 17.3 15.8"
      ]
     },
     "metadata": {},
     "output_type": "display_data"
    }
   ],
   "source": [
    "apply(iris[-5], 1, sum)"
   ]
  },
  {
   "cell_type": "code",
   "execution_count": 5,
   "id": "24f87d5f",
   "metadata": {},
   "outputs": [
    {
     "data": {
      "text/html": [
       "<style>\n",
       ".dl-inline {width: auto; margin:0; padding: 0}\n",
       ".dl-inline>dt, .dl-inline>dd {float: none; width: auto; display: inline-block}\n",
       ".dl-inline>dt::after {content: \":\\0020\"; padding-right: .5ex}\n",
       ".dl-inline>dt:not(:first-of-type) {padding-left: .5ex}\n",
       "</style><dl class=dl-inline><dt>Sepal.Length</dt><dd>7.9</dd><dt>Sepal.Width</dt><dd>4.4</dd><dt>Petal.Length</dt><dd>6.9</dd><dt>Petal.Width</dt><dd>2.5</dd></dl>\n"
      ],
      "text/latex": [
       "\\begin{description*}\n",
       "\\item[Sepal.Length] 7.9\n",
       "\\item[Sepal.Width] 4.4\n",
       "\\item[Petal.Length] 6.9\n",
       "\\item[Petal.Width] 2.5\n",
       "\\end{description*}\n"
      ],
      "text/markdown": [
       "Sepal.Length\n",
       ":   7.9Sepal.Width\n",
       ":   4.4Petal.Length\n",
       ":   6.9Petal.Width\n",
       ":   2.5\n",
       "\n"
      ],
      "text/plain": [
       "Sepal.Length  Sepal.Width Petal.Length  Petal.Width \n",
       "         7.9          4.4          6.9          2.5 "
      ]
     },
     "metadata": {},
     "output_type": "display_data"
    }
   ],
   "source": [
    "apply(iris[-5], 2, max)"
   ]
  },
  {
   "cell_type": "code",
   "execution_count": null,
   "id": "22a6c848",
   "metadata": {},
   "outputs": [],
   "source": []
  }
 ],
 "metadata": {
  "kernelspec": {
   "display_name": "R",
   "language": "R",
   "name": "ir"
  },
  "language_info": {
   "codemirror_mode": "r",
   "file_extension": ".r",
   "mimetype": "text/x-r-source",
   "name": "R",
   "pygments_lexer": "r",
   "version": "4.3.1"
  }
 },
 "nbformat": 4,
 "nbformat_minor": 5
}
