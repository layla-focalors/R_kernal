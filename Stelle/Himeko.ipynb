{
 "cells": [
  {
   "cell_type": "code",
   "execution_count": 1,
   "id": "818c96cd",
   "metadata": {},
   "outputs": [
    {
     "data": {
      "text/html": [
       "<table class=\"dataframe\">\n",
       "<caption>A data.frame: 4 × 3</caption>\n",
       "<thead>\n",
       "\t<tr><th scope=col>x</th><th scope=col>y</th><th scope=col>z</th></tr>\n",
       "\t<tr><th scope=col>&lt;dbl&gt;</th><th scope=col>&lt;dbl&gt;</th><th scope=col>&lt;dbl&gt;</th></tr>\n",
       "</thead>\n",
       "<tbody>\n",
       "\t<tr><td>2</td><td>10</td><td>18</td></tr>\n",
       "\t<tr><td>4</td><td>12</td><td>20</td></tr>\n",
       "\t<tr><td>6</td><td>14</td><td>22</td></tr>\n",
       "\t<tr><td>8</td><td>16</td><td>24</td></tr>\n",
       "</tbody>\n",
       "</table>\n"
      ],
      "text/latex": [
       "A data.frame: 4 × 3\n",
       "\\begin{tabular}{lll}\n",
       " x & y & z\\\\\n",
       " <dbl> & <dbl> & <dbl>\\\\\n",
       "\\hline\n",
       "\t 2 & 10 & 18\\\\\n",
       "\t 4 & 12 & 20\\\\\n",
       "\t 6 & 14 & 22\\\\\n",
       "\t 8 & 16 & 24\\\\\n",
       "\\end{tabular}\n"
      ],
      "text/markdown": [
       "\n",
       "A data.frame: 4 × 3\n",
       "\n",
       "| x &lt;dbl&gt; | y &lt;dbl&gt; | z &lt;dbl&gt; |\n",
       "|---|---|---|\n",
       "| 2 | 10 | 18 |\n",
       "| 4 | 12 | 20 |\n",
       "| 6 | 14 | 22 |\n",
       "| 8 | 16 | 24 |\n",
       "\n"
      ],
      "text/plain": [
       "  x y  z \n",
       "1 2 10 18\n",
       "2 4 12 20\n",
       "3 6 14 22\n",
       "4 8 16 24"
      ]
     },
     "metadata": {},
     "output_type": "display_data"
    }
   ],
   "source": [
    "x <- c(2, 4, 6, 8)\n",
    "y <- c(10, 12, 14, 16)\n",
    "z <- c(18, 20, 22, 24)\n",
    "m <- data.frame(x, y,z)\n",
    "m"
   ]
  },
  {
   "cell_type": "code",
   "execution_count": 2,
   "id": "9a5eb177",
   "metadata": {},
   "outputs": [
    {
     "data": {
      "text/html": [
       "<table class=\"dataframe\">\n",
       "<caption>A matrix: 4 × 3 of type dbl</caption>\n",
       "<tbody>\n",
       "\t<tr><td>2</td><td>10</td><td>18</td></tr>\n",
       "\t<tr><td>4</td><td>12</td><td>20</td></tr>\n",
       "\t<tr><td>6</td><td>14</td><td>22</td></tr>\n",
       "\t<tr><td>8</td><td>16</td><td>24</td></tr>\n",
       "</tbody>\n",
       "</table>\n"
      ],
      "text/latex": [
       "A matrix: 4 × 3 of type dbl\n",
       "\\begin{tabular}{lll}\n",
       "\t 2 & 10 & 18\\\\\n",
       "\t 4 & 12 & 20\\\\\n",
       "\t 6 & 14 & 22\\\\\n",
       "\t 8 & 16 & 24\\\\\n",
       "\\end{tabular}\n"
      ],
      "text/markdown": [
       "\n",
       "A matrix: 4 × 3 of type dbl\n",
       "\n",
       "| 2 | 10 | 18 |\n",
       "| 4 | 12 | 20 |\n",
       "| 6 | 14 | 22 |\n",
       "| 8 | 16 | 24 |\n",
       "\n"
      ],
      "text/plain": [
       "     [,1] [,2] [,3]\n",
       "[1,] 2    10   18  \n",
       "[2,] 4    12   20  \n",
       "[3,] 6    14   22  \n",
       "[4,] 8    16   24  "
      ]
     },
     "metadata": {},
     "output_type": "display_data"
    }
   ],
   "source": [
    "matrix(c(2, 10, 18, 4, 12, 20, 6, 14, 22, 8, 16, 24), nrow=4, byrow=T)"
   ]
  },
  {
   "cell_type": "code",
   "execution_count": 3,
   "id": "22b489cc",
   "metadata": {},
   "outputs": [
    {
     "data": {
      "text/html": [
       "<table class=\"dataframe\">\n",
       "<caption>A matrix: 4 × 3 of type dbl</caption>\n",
       "<tbody>\n",
       "\t<tr><td>2</td><td>10</td><td>18</td></tr>\n",
       "\t<tr><td>4</td><td>12</td><td>20</td></tr>\n",
       "\t<tr><td>6</td><td>14</td><td>22</td></tr>\n",
       "\t<tr><td>8</td><td>16</td><td>24</td></tr>\n",
       "</tbody>\n",
       "</table>\n"
      ],
      "text/latex": [
       "A matrix: 4 × 3 of type dbl\n",
       "\\begin{tabular}{lll}\n",
       "\t 2 & 10 & 18\\\\\n",
       "\t 4 & 12 & 20\\\\\n",
       "\t 6 & 14 & 22\\\\\n",
       "\t 8 & 16 & 24\\\\\n",
       "\\end{tabular}\n"
      ],
      "text/markdown": [
       "\n",
       "A matrix: 4 × 3 of type dbl\n",
       "\n",
       "| 2 | 10 | 18 |\n",
       "| 4 | 12 | 20 |\n",
       "| 6 | 14 | 22 |\n",
       "| 8 | 16 | 24 |\n",
       "\n"
      ],
      "text/plain": [
       "     [,1] [,2] [,3]\n",
       "[1,] 2    10   18  \n",
       "[2,] 4    12   20  \n",
       "[3,] 6    14   22  \n",
       "[4,] 8    16   24  "
      ]
     },
     "metadata": {},
     "output_type": "display_data"
    }
   ],
   "source": [
    "matrix(c(2, 4, 6, 8, 10, 12, 14, 16, 18, 20, 22, 24), nrow=4)"
   ]
  },
  {
   "cell_type": "code",
   "execution_count": 4,
   "id": "06ff1f96",
   "metadata": {},
   "outputs": [
    {
     "data": {
      "text/html": [
       "<table class=\"dataframe\">\n",
       "<caption>A matrix: 2 × 4 of type dbl</caption>\n",
       "<tbody>\n",
       "\t<tr><td>9</td><td> 7</td><td>5</td><td>3</td></tr>\n",
       "\t<tr><td>8</td><td>11</td><td>2</td><td>9</td></tr>\n",
       "</tbody>\n",
       "</table>\n"
      ],
      "text/latex": [
       "A matrix: 2 × 4 of type dbl\n",
       "\\begin{tabular}{llll}\n",
       "\t 9 &  7 & 5 & 3\\\\\n",
       "\t 8 & 11 & 2 & 9\\\\\n",
       "\\end{tabular}\n"
      ],
      "text/markdown": [
       "\n",
       "A matrix: 2 × 4 of type dbl\n",
       "\n",
       "| 9 |  7 | 5 | 3 |\n",
       "| 8 | 11 | 2 | 9 |\n",
       "\n"
      ],
      "text/plain": [
       "     [,1] [,2] [,3] [,4]\n",
       "[1,] 9     7   5    3   \n",
       "[2,] 8    11   2    9   "
      ]
     },
     "metadata": {},
     "output_type": "display_data"
    }
   ],
   "source": [
    "m <- matrix(c(9, 7, 5, 3, 8, 11, 2, 9), nrow=2, byrow=T)\n",
    "m"
   ]
  },
  {
   "cell_type": "code",
   "execution_count": 6,
   "id": "8d4a1c55",
   "metadata": {},
   "outputs": [],
   "source": [
    "rownames(m) <- c('x', 'y')\n",
    "colnames(m) <- c('a', 'b', 'c', 'd')"
   ]
  },
  {
   "cell_type": "code",
   "execution_count": 7,
   "id": "7af2dc96",
   "metadata": {},
   "outputs": [
    {
     "data": {
      "text/html": [
       "<table class=\"dataframe\">\n",
       "<caption>A matrix: 2 × 4 of type dbl</caption>\n",
       "<thead>\n",
       "\t<tr><th></th><th scope=col>a</th><th scope=col>b</th><th scope=col>c</th><th scope=col>d</th></tr>\n",
       "</thead>\n",
       "<tbody>\n",
       "\t<tr><th scope=row>x</th><td>9</td><td> 7</td><td>5</td><td>3</td></tr>\n",
       "\t<tr><th scope=row>y</th><td>8</td><td>11</td><td>2</td><td>9</td></tr>\n",
       "</tbody>\n",
       "</table>\n"
      ],
      "text/latex": [
       "A matrix: 2 × 4 of type dbl\n",
       "\\begin{tabular}{r|llll}\n",
       "  & a & b & c & d\\\\\n",
       "\\hline\n",
       "\tx & 9 &  7 & 5 & 3\\\\\n",
       "\ty & 8 & 11 & 2 & 9\\\\\n",
       "\\end{tabular}\n"
      ],
      "text/markdown": [
       "\n",
       "A matrix: 2 × 4 of type dbl\n",
       "\n",
       "| <!--/--> | a | b | c | d |\n",
       "|---|---|---|---|---|\n",
       "| x | 9 |  7 | 5 | 3 |\n",
       "| y | 8 | 11 | 2 | 9 |\n",
       "\n"
      ],
      "text/plain": [
       "  a b  c d\n",
       "x 9  7 5 3\n",
       "y 8 11 2 9"
      ]
     },
     "metadata": {},
     "output_type": "display_data"
    }
   ],
   "source": [
    "m"
   ]
  },
  {
   "cell_type": "code",
   "execution_count": 8,
   "id": "87c35d2a",
   "metadata": {},
   "outputs": [
    {
     "data": {
      "text/html": [
       "<table class=\"dataframe\">\n",
       "<caption>A matrix: 4 × 2 of type dbl</caption>\n",
       "<thead>\n",
       "\t<tr><th></th><th scope=col>x</th><th scope=col>y</th></tr>\n",
       "</thead>\n",
       "<tbody>\n",
       "\t<tr><th scope=row>a</th><td>9</td><td> 8</td></tr>\n",
       "\t<tr><th scope=row>b</th><td>7</td><td>11</td></tr>\n",
       "\t<tr><th scope=row>c</th><td>5</td><td> 2</td></tr>\n",
       "\t<tr><th scope=row>d</th><td>3</td><td> 9</td></tr>\n",
       "</tbody>\n",
       "</table>\n"
      ],
      "text/latex": [
       "A matrix: 4 × 2 of type dbl\n",
       "\\begin{tabular}{r|ll}\n",
       "  & x & y\\\\\n",
       "\\hline\n",
       "\ta & 9 &  8\\\\\n",
       "\tb & 7 & 11\\\\\n",
       "\tc & 5 &  2\\\\\n",
       "\td & 3 &  9\\\\\n",
       "\\end{tabular}\n"
      ],
      "text/markdown": [
       "\n",
       "A matrix: 4 × 2 of type dbl\n",
       "\n",
       "| <!--/--> | x | y |\n",
       "|---|---|---|\n",
       "| a | 9 |  8 |\n",
       "| b | 7 | 11 |\n",
       "| c | 5 |  2 |\n",
       "| d | 3 |  9 |\n",
       "\n"
      ],
      "text/plain": [
       "  x y \n",
       "a 9  8\n",
       "b 7 11\n",
       "c 5  2\n",
       "d 3  9"
      ]
     },
     "metadata": {},
     "output_type": "display_data"
    }
   ],
   "source": [
    "t(m)"
   ]
  },
  {
   "cell_type": "code",
   "execution_count": 9,
   "id": "9c465ee9",
   "metadata": {},
   "outputs": [
    {
     "data": {
      "text/html": [
       "<table class=\"dataframe\">\n",
       "<caption>A data.frame: 2 × 4</caption>\n",
       "<thead>\n",
       "\t<tr><th></th><th scope=col>a</th><th scope=col>b</th><th scope=col>c</th><th scope=col>d</th></tr>\n",
       "\t<tr><th></th><th scope=col>&lt;dbl&gt;</th><th scope=col>&lt;dbl&gt;</th><th scope=col>&lt;dbl&gt;</th><th scope=col>&lt;dbl&gt;</th></tr>\n",
       "</thead>\n",
       "<tbody>\n",
       "\t<tr><th scope=row>x</th><td>9</td><td> 7</td><td>5</td><td>3</td></tr>\n",
       "\t<tr><th scope=row>y</th><td>8</td><td>11</td><td>2</td><td>9</td></tr>\n",
       "</tbody>\n",
       "</table>\n"
      ],
      "text/latex": [
       "A data.frame: 2 × 4\n",
       "\\begin{tabular}{r|llll}\n",
       "  & a & b & c & d\\\\\n",
       "  & <dbl> & <dbl> & <dbl> & <dbl>\\\\\n",
       "\\hline\n",
       "\tx & 9 &  7 & 5 & 3\\\\\n",
       "\ty & 8 & 11 & 2 & 9\\\\\n",
       "\\end{tabular}\n"
      ],
      "text/markdown": [
       "\n",
       "A data.frame: 2 × 4\n",
       "\n",
       "| <!--/--> | a &lt;dbl&gt; | b &lt;dbl&gt; | c &lt;dbl&gt; | d &lt;dbl&gt; |\n",
       "|---|---|---|---|---|\n",
       "| x | 9 |  7 | 5 | 3 |\n",
       "| y | 8 | 11 | 2 | 9 |\n",
       "\n"
      ],
      "text/plain": [
       "  a b  c d\n",
       "x 9  7 5 3\n",
       "y 8 11 2 9"
      ]
     },
     "metadata": {},
     "output_type": "display_data"
    }
   ],
   "source": [
    "df <- data.frame(m)\n",
    "df"
   ]
  },
  {
   "cell_type": "code",
   "execution_count": 10,
   "id": "49ff5b79",
   "metadata": {},
   "outputs": [
    {
     "ename": "ERROR",
     "evalue": "Error in `[<-.data.frame`(`*tmp*`, \"info\", value = c(2, 4, 5, 6)): replacement has 4 rows, data has 2\n",
     "output_type": "error",
     "traceback": [
      "Error in `[<-.data.frame`(`*tmp*`, \"info\", value = c(2, 4, 5, 6)): replacement has 4 rows, data has 2\nTraceback:\n",
      "1. `[<-`(`*tmp*`, \"info\", value = c(2, 4, 5, 6))",
      "2. `[<-.data.frame`(`*tmp*`, \"info\", value = c(2, 4, 5, 6))",
      "3. stop(sprintf(ngettext(N, \"replacement has %d row, data has %d\", \n .     \"replacement has %d rows, data has %d\"), N, n), domain = NA)"
     ]
    }
   ],
   "source": [
    "df['info'] <- c(2, 4, 5, 6)"
   ]
  },
  {
   "cell_type": "code",
   "execution_count": 11,
   "id": "82fcf687",
   "metadata": {},
   "outputs": [],
   "source": [
    "info <- c(1, 2, 4, 8)"
   ]
  },
  {
   "cell_type": "code",
   "execution_count": 12,
   "id": "dce3df30",
   "metadata": {},
   "outputs": [
    {
     "name": "stderr",
     "output_type": "stream",
     "text": [
      "Warning message in data.frame(df, info):\n",
      "\"row names were found from a short variable and have been discarded\"\n"
     ]
    }
   ],
   "source": [
    "df.new <- data.frame(df, info)"
   ]
  },
  {
   "cell_type": "code",
   "execution_count": 13,
   "id": "0d09d125",
   "metadata": {},
   "outputs": [
    {
     "data": {
      "text/html": [
       "<table class=\"dataframe\">\n",
       "<caption>A data.frame: 4 × 5</caption>\n",
       "<thead>\n",
       "\t<tr><th scope=col>a</th><th scope=col>b</th><th scope=col>c</th><th scope=col>d</th><th scope=col>info</th></tr>\n",
       "\t<tr><th scope=col>&lt;dbl&gt;</th><th scope=col>&lt;dbl&gt;</th><th scope=col>&lt;dbl&gt;</th><th scope=col>&lt;dbl&gt;</th><th scope=col>&lt;dbl&gt;</th></tr>\n",
       "</thead>\n",
       "<tbody>\n",
       "\t<tr><td>9</td><td> 7</td><td>5</td><td>3</td><td>1</td></tr>\n",
       "\t<tr><td>8</td><td>11</td><td>2</td><td>9</td><td>2</td></tr>\n",
       "\t<tr><td>9</td><td> 7</td><td>5</td><td>3</td><td>4</td></tr>\n",
       "\t<tr><td>8</td><td>11</td><td>2</td><td>9</td><td>8</td></tr>\n",
       "</tbody>\n",
       "</table>\n"
      ],
      "text/latex": [
       "A data.frame: 4 × 5\n",
       "\\begin{tabular}{lllll}\n",
       " a & b & c & d & info\\\\\n",
       " <dbl> & <dbl> & <dbl> & <dbl> & <dbl>\\\\\n",
       "\\hline\n",
       "\t 9 &  7 & 5 & 3 & 1\\\\\n",
       "\t 8 & 11 & 2 & 9 & 2\\\\\n",
       "\t 9 &  7 & 5 & 3 & 4\\\\\n",
       "\t 8 & 11 & 2 & 9 & 8\\\\\n",
       "\\end{tabular}\n"
      ],
      "text/markdown": [
       "\n",
       "A data.frame: 4 × 5\n",
       "\n",
       "| a &lt;dbl&gt; | b &lt;dbl&gt; | c &lt;dbl&gt; | d &lt;dbl&gt; | info &lt;dbl&gt; |\n",
       "|---|---|---|---|---|\n",
       "| 9 |  7 | 5 | 3 | 1 |\n",
       "| 8 | 11 | 2 | 9 | 2 |\n",
       "| 9 |  7 | 5 | 3 | 4 |\n",
       "| 8 | 11 | 2 | 9 | 8 |\n",
       "\n"
      ],
      "text/plain": [
       "  a b  c d info\n",
       "1 9  7 5 3 1   \n",
       "2 8 11 2 9 2   \n",
       "3 9  7 5 3 4   \n",
       "4 8 11 2 9 8   "
      ]
     },
     "metadata": {},
     "output_type": "display_data"
    }
   ],
   "source": [
    "df.new"
   ]
  },
  {
   "cell_type": "code",
   "execution_count": 14,
   "id": "fe778733",
   "metadata": {},
   "outputs": [],
   "source": [
    "blood <- c('A', 'O', 'AB', 'B', 'B')\n",
    "rh <- c('+', '+', '-', '+', '+')\n",
    "age <- c(21, 30, 43, 17, 26)\n",
    "df <- data.frame(blood, rh, age)"
   ]
  },
  {
   "cell_type": "code",
   "execution_count": 15,
   "id": "9f4875b7",
   "metadata": {},
   "outputs": [
    {
     "data": {
      "text/html": [
       "<table class=\"dataframe\">\n",
       "<caption>A data.frame: 5 × 3</caption>\n",
       "<thead>\n",
       "\t<tr><th scope=col>blood</th><th scope=col>rh</th><th scope=col>age</th></tr>\n",
       "\t<tr><th scope=col>&lt;chr&gt;</th><th scope=col>&lt;chr&gt;</th><th scope=col>&lt;dbl&gt;</th></tr>\n",
       "</thead>\n",
       "<tbody>\n",
       "\t<tr><td>A </td><td>+</td><td>21</td></tr>\n",
       "\t<tr><td>O </td><td>+</td><td>30</td></tr>\n",
       "\t<tr><td>AB</td><td>-</td><td>43</td></tr>\n",
       "\t<tr><td>B </td><td>+</td><td>17</td></tr>\n",
       "\t<tr><td>B </td><td>+</td><td>26</td></tr>\n",
       "</tbody>\n",
       "</table>\n"
      ],
      "text/latex": [
       "A data.frame: 5 × 3\n",
       "\\begin{tabular}{lll}\n",
       " blood & rh & age\\\\\n",
       " <chr> & <chr> & <dbl>\\\\\n",
       "\\hline\n",
       "\t A  & + & 21\\\\\n",
       "\t O  & + & 30\\\\\n",
       "\t AB & - & 43\\\\\n",
       "\t B  & + & 17\\\\\n",
       "\t B  & + & 26\\\\\n",
       "\\end{tabular}\n"
      ],
      "text/markdown": [
       "\n",
       "A data.frame: 5 × 3\n",
       "\n",
       "| blood &lt;chr&gt; | rh &lt;chr&gt; | age &lt;dbl&gt; |\n",
       "|---|---|---|\n",
       "| A  | + | 21 |\n",
       "| O  | + | 30 |\n",
       "| AB | - | 43 |\n",
       "| B  | + | 17 |\n",
       "| B  | + | 26 |\n",
       "\n"
      ],
      "text/plain": [
       "  blood rh age\n",
       "1 A     +  21 \n",
       "2 O     +  30 \n",
       "3 AB    -  43 \n",
       "4 B     +  17 \n",
       "5 B     +  26 "
      ]
     },
     "metadata": {},
     "output_type": "display_data"
    }
   ],
   "source": [
    "df"
   ]
  },
  {
   "cell_type": "code",
   "execution_count": 16,
   "id": "159cef26",
   "metadata": {},
   "outputs": [
    {
     "data": {
      "text/html": [
       "<table class=\"dataframe\">\n",
       "<caption>A data.frame: 3 × 3</caption>\n",
       "<thead>\n",
       "\t<tr><th></th><th scope=col>blood</th><th scope=col>rh</th><th scope=col>age</th></tr>\n",
       "\t<tr><th></th><th scope=col>&lt;chr&gt;</th><th scope=col>&lt;chr&gt;</th><th scope=col>&lt;dbl&gt;</th></tr>\n",
       "</thead>\n",
       "<tbody>\n",
       "\t<tr><th scope=row>1</th><td>A </td><td>+</td><td>21</td></tr>\n",
       "\t<tr><th scope=row>2</th><td>O </td><td>+</td><td>30</td></tr>\n",
       "\t<tr><th scope=row>3</th><td>AB</td><td>-</td><td>43</td></tr>\n",
       "</tbody>\n",
       "</table>\n"
      ],
      "text/latex": [
       "A data.frame: 3 × 3\n",
       "\\begin{tabular}{r|lll}\n",
       "  & blood & rh & age\\\\\n",
       "  & <chr> & <chr> & <dbl>\\\\\n",
       "\\hline\n",
       "\t1 & A  & + & 21\\\\\n",
       "\t2 & O  & + & 30\\\\\n",
       "\t3 & AB & - & 43\\\\\n",
       "\\end{tabular}\n"
      ],
      "text/markdown": [
       "\n",
       "A data.frame: 3 × 3\n",
       "\n",
       "| <!--/--> | blood &lt;chr&gt; | rh &lt;chr&gt; | age &lt;dbl&gt; |\n",
       "|---|---|---|---|\n",
       "| 1 | A  | + | 21 |\n",
       "| 2 | O  | + | 30 |\n",
       "| 3 | AB | - | 43 |\n",
       "\n"
      ],
      "text/plain": [
       "  blood rh age\n",
       "1 A     +  21 \n",
       "2 O     +  30 \n",
       "3 AB    -  43 "
      ]
     },
     "metadata": {},
     "output_type": "display_data"
    }
   ],
   "source": [
    "df[df['blood'] != 'B', ]"
   ]
  },
  {
   "cell_type": "code",
   "execution_count": 17,
   "id": "76b475e0",
   "metadata": {},
   "outputs": [],
   "source": [
    "df = cars"
   ]
  },
  {
   "cell_type": "code",
   "execution_count": 18,
   "id": "a5d1c0c7",
   "metadata": {},
   "outputs": [
    {
     "data": {
      "text/html": [
       "<style>\n",
       ".list-inline {list-style: none; margin:0; padding: 0}\n",
       ".list-inline>li {display: inline-block}\n",
       ".list-inline>li:not(:last-child)::after {content: \"\\00b7\"; padding: 0 .5ex}\n",
       "</style>\n",
       "<ol class=list-inline><li>50</li><li>2</li></ol>\n"
      ],
      "text/latex": [
       "\\begin{enumerate*}\n",
       "\\item 50\n",
       "\\item 2\n",
       "\\end{enumerate*}\n"
      ],
      "text/markdown": [
       "1. 50\n",
       "2. 2\n",
       "\n",
       "\n"
      ],
      "text/plain": [
       "[1] 50  2"
      ]
     },
     "metadata": {},
     "output_type": "display_data"
    }
   ],
   "source": [
    "dim(df)"
   ]
  },
  {
   "cell_type": "code",
   "execution_count": 19,
   "id": "ac155e94",
   "metadata": {},
   "outputs": [
    {
     "name": "stdout",
     "output_type": "stream",
     "text": [
      "'data.frame':\t50 obs. of  2 variables:\n",
      " $ speed: num  4 4 7 7 8 9 10 10 10 11 ...\n",
      " $ dist : num  2 10 4 22 16 10 18 26 34 17 ...\n"
     ]
    }
   ],
   "source": [
    "str(df)"
   ]
  },
  {
   "cell_type": "code",
   "execution_count": 20,
   "id": "aeb7010c",
   "metadata": {},
   "outputs": [],
   "source": [
    "n <- 1:7\n",
    "n.2 <- c('1', '2', '3', '4', '5', '6', '7')\n",
    "n.3 <- c(100,200,300,400,500,600,700)"
   ]
  },
  {
   "cell_type": "code",
   "execution_count": 21,
   "id": "94f93b68",
   "metadata": {},
   "outputs": [
    {
     "data": {
      "text/html": [
       "<table class=\"dataframe\">\n",
       "<caption>A data.frame: 7 × 3</caption>\n",
       "<thead>\n",
       "\t<tr><th scope=col>n</th><th scope=col>n.2</th><th scope=col>n.3</th></tr>\n",
       "\t<tr><th scope=col>&lt;int&gt;</th><th scope=col>&lt;chr&gt;</th><th scope=col>&lt;dbl&gt;</th></tr>\n",
       "</thead>\n",
       "<tbody>\n",
       "\t<tr><td>1</td><td>1</td><td>100</td></tr>\n",
       "\t<tr><td>2</td><td>2</td><td>200</td></tr>\n",
       "\t<tr><td>3</td><td>3</td><td>300</td></tr>\n",
       "\t<tr><td>4</td><td>4</td><td>400</td></tr>\n",
       "\t<tr><td>5</td><td>5</td><td>500</td></tr>\n",
       "\t<tr><td>6</td><td>6</td><td>600</td></tr>\n",
       "\t<tr><td>7</td><td>7</td><td>700</td></tr>\n",
       "</tbody>\n",
       "</table>\n"
      ],
      "text/latex": [
       "A data.frame: 7 × 3\n",
       "\\begin{tabular}{lll}\n",
       " n & n.2 & n.3\\\\\n",
       " <int> & <chr> & <dbl>\\\\\n",
       "\\hline\n",
       "\t 1 & 1 & 100\\\\\n",
       "\t 2 & 2 & 200\\\\\n",
       "\t 3 & 3 & 300\\\\\n",
       "\t 4 & 4 & 400\\\\\n",
       "\t 5 & 5 & 500\\\\\n",
       "\t 6 & 6 & 600\\\\\n",
       "\t 7 & 7 & 700\\\\\n",
       "\\end{tabular}\n"
      ],
      "text/markdown": [
       "\n",
       "A data.frame: 7 × 3\n",
       "\n",
       "| n &lt;int&gt; | n.2 &lt;chr&gt; | n.3 &lt;dbl&gt; |\n",
       "|---|---|---|\n",
       "| 1 | 1 | 100 |\n",
       "| 2 | 2 | 200 |\n",
       "| 3 | 3 | 300 |\n",
       "| 4 | 4 | 400 |\n",
       "| 5 | 5 | 500 |\n",
       "| 6 | 6 | 600 |\n",
       "| 7 | 7 | 700 |\n",
       "\n"
      ],
      "text/plain": [
       "  n n.2 n.3\n",
       "1 1 1   100\n",
       "2 2 2   200\n",
       "3 3 3   300\n",
       "4 4 4   400\n",
       "5 5 5   500\n",
       "6 6 6   600\n",
       "7 7 7   700"
      ]
     },
     "metadata": {},
     "output_type": "display_data"
    }
   ],
   "source": [
    "m <- data.frame(n, n.2, n.3)\n",
    "m"
   ]
  },
  {
   "cell_type": "code",
   "execution_count": 23,
   "id": "d96b3ca6",
   "metadata": {},
   "outputs": [
    {
     "data": {
      "text/html": [
       "<table class=\"dataframe\">\n",
       "<caption>A data.frame: 1 × 3</caption>\n",
       "<thead>\n",
       "\t<tr><th></th><th scope=col>n</th><th scope=col>n.2</th><th scope=col>n.3</th></tr>\n",
       "\t<tr><th></th><th scope=col>&lt;int&gt;</th><th scope=col>&lt;chr&gt;</th><th scope=col>&lt;dbl&gt;</th></tr>\n",
       "</thead>\n",
       "<tbody>\n",
       "\t<tr><th scope=row>7</th><td>7</td><td>7</td><td>700</td></tr>\n",
       "</tbody>\n",
       "</table>\n"
      ],
      "text/latex": [
       "A data.frame: 1 × 3\n",
       "\\begin{tabular}{r|lll}\n",
       "  & n & n.2 & n.3\\\\\n",
       "  & <int> & <chr> & <dbl>\\\\\n",
       "\\hline\n",
       "\t7 & 7 & 7 & 700\\\\\n",
       "\\end{tabular}\n"
      ],
      "text/markdown": [
       "\n",
       "A data.frame: 1 × 3\n",
       "\n",
       "| <!--/--> | n &lt;int&gt; | n.2 &lt;chr&gt; | n.3 &lt;dbl&gt; |\n",
       "|---|---|---|---|\n",
       "| 7 | 7 | 7 | 700 |\n",
       "\n"
      ],
      "text/plain": [
       "  n n.2 n.3\n",
       "7 7 7   700"
      ]
     },
     "metadata": {},
     "output_type": "display_data"
    }
   ],
   "source": [
    "m[m['n.3'] == max(m['n.3']), ]"
   ]
  },
  {
   "cell_type": "code",
   "execution_count": 24,
   "id": "60bf8466",
   "metadata": {},
   "outputs": [],
   "source": [
    "best <- m[m['n.3'] == max(m['n.3']), ]"
   ]
  },
  {
   "cell_type": "code",
   "execution_count": 26,
   "id": "9396ba91",
   "metadata": {},
   "outputs": [
    {
     "data": {
      "text/html": [
       "<table class=\"dataframe\">\n",
       "<caption>A data.frame: 1 × 3</caption>\n",
       "<thead>\n",
       "\t<tr><th></th><th scope=col>n</th><th scope=col>n.2</th><th scope=col>n.3</th></tr>\n",
       "\t<tr><th></th><th scope=col>&lt;int&gt;</th><th scope=col>&lt;chr&gt;</th><th scope=col>&lt;dbl&gt;</th></tr>\n",
       "</thead>\n",
       "<tbody>\n",
       "\t<tr><th scope=row>7</th><td>7</td><td>7</td><td>700</td></tr>\n",
       "</tbody>\n",
       "</table>\n"
      ],
      "text/latex": [
       "A data.frame: 1 × 3\n",
       "\\begin{tabular}{r|lll}\n",
       "  & n & n.2 & n.3\\\\\n",
       "  & <int> & <chr> & <dbl>\\\\\n",
       "\\hline\n",
       "\t7 & 7 & 7 & 700\\\\\n",
       "\\end{tabular}\n"
      ],
      "text/markdown": [
       "\n",
       "A data.frame: 1 × 3\n",
       "\n",
       "| <!--/--> | n &lt;int&gt; | n.2 &lt;chr&gt; | n.3 &lt;dbl&gt; |\n",
       "|---|---|---|---|\n",
       "| 7 | 7 | 7 | 700 |\n",
       "\n"
      ],
      "text/plain": [
       "  n n.2 n.3\n",
       "7 7 7   700"
      ]
     },
     "metadata": {},
     "output_type": "display_data"
    }
   ],
   "source": [
    "best"
   ]
  },
  {
   "cell_type": "code",
   "execution_count": 27,
   "id": "450e8dd3",
   "metadata": {},
   "outputs": [],
   "source": [
    "df = cars"
   ]
  },
  {
   "cell_type": "code",
   "execution_count": 28,
   "id": "6ae042cb",
   "metadata": {},
   "outputs": [
    {
     "data": {
      "text/html": [
       "'data.frame'"
      ],
      "text/latex": [
       "'data.frame'"
      ],
      "text/markdown": [
       "'data.frame'"
      ],
      "text/plain": [
       "[1] \"data.frame\""
      ]
     },
     "metadata": {},
     "output_type": "display_data"
    }
   ],
   "source": [
    "class(df)"
   ]
  },
  {
   "cell_type": "code",
   "execution_count": 29,
   "id": "c2313a06",
   "metadata": {},
   "outputs": [
    {
     "data": {
      "text/html": [
       "<style>\n",
       ".list-inline {list-style: none; margin:0; padding: 0}\n",
       ".list-inline>li {display: inline-block}\n",
       ".list-inline>li:not(:last-child)::after {content: \"\\00b7\"; padding: 0 .5ex}\n",
       "</style>\n",
       "<ol class=list-inline><li>50</li><li>2</li></ol>\n"
      ],
      "text/latex": [
       "\\begin{enumerate*}\n",
       "\\item 50\n",
       "\\item 2\n",
       "\\end{enumerate*}\n"
      ],
      "text/markdown": [
       "1. 50\n",
       "2. 2\n",
       "\n",
       "\n"
      ],
      "text/plain": [
       "[1] 50  2"
      ]
     },
     "metadata": {},
     "output_type": "display_data"
    }
   ],
   "source": [
    "dim(df)"
   ]
  },
  {
   "cell_type": "code",
   "execution_count": 30,
   "id": "f2618a1f",
   "metadata": {},
   "outputs": [
    {
     "data": {
      "text/html": [
       "<table class=\"dataframe\">\n",
       "<caption>A data.frame: 6 × 2</caption>\n",
       "<thead>\n",
       "\t<tr><th></th><th scope=col>speed</th><th scope=col>dist</th></tr>\n",
       "\t<tr><th></th><th scope=col>&lt;dbl&gt;</th><th scope=col>&lt;dbl&gt;</th></tr>\n",
       "</thead>\n",
       "<tbody>\n",
       "\t<tr><th scope=row>1</th><td>4</td><td> 2</td></tr>\n",
       "\t<tr><th scope=row>2</th><td>4</td><td>10</td></tr>\n",
       "\t<tr><th scope=row>3</th><td>7</td><td> 4</td></tr>\n",
       "\t<tr><th scope=row>4</th><td>7</td><td>22</td></tr>\n",
       "\t<tr><th scope=row>5</th><td>8</td><td>16</td></tr>\n",
       "\t<tr><th scope=row>6</th><td>9</td><td>10</td></tr>\n",
       "</tbody>\n",
       "</table>\n"
      ],
      "text/latex": [
       "A data.frame: 6 × 2\n",
       "\\begin{tabular}{r|ll}\n",
       "  & speed & dist\\\\\n",
       "  & <dbl> & <dbl>\\\\\n",
       "\\hline\n",
       "\t1 & 4 &  2\\\\\n",
       "\t2 & 4 & 10\\\\\n",
       "\t3 & 7 &  4\\\\\n",
       "\t4 & 7 & 22\\\\\n",
       "\t5 & 8 & 16\\\\\n",
       "\t6 & 9 & 10\\\\\n",
       "\\end{tabular}\n"
      ],
      "text/markdown": [
       "\n",
       "A data.frame: 6 × 2\n",
       "\n",
       "| <!--/--> | speed &lt;dbl&gt; | dist &lt;dbl&gt; |\n",
       "|---|---|---|\n",
       "| 1 | 4 |  2 |\n",
       "| 2 | 4 | 10 |\n",
       "| 3 | 7 |  4 |\n",
       "| 4 | 7 | 22 |\n",
       "| 5 | 8 | 16 |\n",
       "| 6 | 9 | 10 |\n",
       "\n"
      ],
      "text/plain": [
       "  speed dist\n",
       "1 4      2  \n",
       "2 4     10  \n",
       "3 7      4  \n",
       "4 7     22  \n",
       "5 8     16  \n",
       "6 9     10  "
      ]
     },
     "metadata": {},
     "output_type": "display_data"
    }
   ],
   "source": [
    "head(df)"
   ]
  },
  {
   "cell_type": "code",
   "execution_count": 31,
   "id": "cf2eb767",
   "metadata": {},
   "outputs": [
    {
     "name": "stdout",
     "output_type": "stream",
     "text": [
      "'data.frame':\t50 obs. of  2 variables:\n",
      " $ speed: num  4 4 7 7 8 9 10 10 10 11 ...\n",
      " $ dist : num  2 10 4 22 16 10 18 26 34 17 ...\n"
     ]
    }
   ],
   "source": [
    "str(df)"
   ]
  },
  {
   "cell_type": "code",
   "execution_count": 32,
   "id": "07248445",
   "metadata": {},
   "outputs": [
    {
     "data": {
      "text/html": [
       "<style>\n",
       ".dl-inline {width: auto; margin:0; padding: 0}\n",
       ".dl-inline>dt, .dl-inline>dd {float: none; width: auto; display: inline-block}\n",
       ".dl-inline>dt::after {content: \":\\0020\"; padding-right: .5ex}\n",
       ".dl-inline>dt:not(:first-of-type) {padding-left: .5ex}\n",
       "</style><dl class=dl-inline><dt>speed</dt><dd>15.4</dd><dt>dist</dt><dd>42.98</dd></dl>\n"
      ],
      "text/latex": [
       "\\begin{description*}\n",
       "\\item[speed] 15.4\n",
       "\\item[dist] 42.98\n",
       "\\end{description*}\n"
      ],
      "text/markdown": [
       "speed\n",
       ":   15.4dist\n",
       ":   42.98\n",
       "\n"
      ],
      "text/plain": [
       "speed  dist \n",
       "15.40 42.98 "
      ]
     },
     "metadata": {},
     "output_type": "display_data"
    }
   ],
   "source": [
    "colMeans(df)"
   ]
  },
  {
   "cell_type": "code",
   "execution_count": 33,
   "id": "c409cfdf",
   "metadata": {},
   "outputs": [
    {
     "data": {
      "text/html": [
       "120"
      ],
      "text/latex": [
       "120"
      ],
      "text/markdown": [
       "120"
      ],
      "text/plain": [
       "[1] 120"
      ]
     },
     "metadata": {},
     "output_type": "display_data"
    }
   ],
   "source": [
    "max(df$dist)"
   ]
  },
  {
   "cell_type": "code",
   "execution_count": 35,
   "id": "ea74fc50",
   "metadata": {},
   "outputs": [
    {
     "data": {
      "text/html": [
       "<table class=\"dataframe\">\n",
       "<caption>A data.frame: 1 × 2</caption>\n",
       "<thead>\n",
       "\t<tr><th></th><th scope=col>speed</th><th scope=col>dist</th></tr>\n",
       "\t<tr><th></th><th scope=col>&lt;dbl&gt;</th><th scope=col>&lt;dbl&gt;</th></tr>\n",
       "</thead>\n",
       "<tbody>\n",
       "\t<tr><th scope=row>49</th><td>24</td><td>120</td></tr>\n",
       "</tbody>\n",
       "</table>\n"
      ],
      "text/latex": [
       "A data.frame: 1 × 2\n",
       "\\begin{tabular}{r|ll}\n",
       "  & speed & dist\\\\\n",
       "  & <dbl> & <dbl>\\\\\n",
       "\\hline\n",
       "\t49 & 24 & 120\\\\\n",
       "\\end{tabular}\n"
      ],
      "text/markdown": [
       "\n",
       "A data.frame: 1 × 2\n",
       "\n",
       "| <!--/--> | speed &lt;dbl&gt; | dist &lt;dbl&gt; |\n",
       "|---|---|---|\n",
       "| 49 | 24 | 120 |\n",
       "\n"
      ],
      "text/plain": [
       "   speed dist\n",
       "49 24    120 "
      ]
     },
     "metadata": {},
     "output_type": "display_data"
    }
   ],
   "source": [
    "df[df['dist'] == max(df['dist']), ]"
   ]
  }
 ],
 "metadata": {
  "kernelspec": {
   "display_name": "R",
   "language": "R",
   "name": "ir"
  },
  "language_info": {
   "codemirror_mode": "r",
   "file_extension": ".r",
   "mimetype": "text/x-r-source",
   "name": "R",
   "pygments_lexer": "r",
   "version": "4.3.1"
  }
 },
 "nbformat": 4,
 "nbformat_minor": 5
}
