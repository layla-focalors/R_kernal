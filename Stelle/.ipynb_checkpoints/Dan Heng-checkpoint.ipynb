{
 "cells": [
  {
   "cell_type": "code",
   "execution_count": 1,
   "id": "1ddd4564",
   "metadata": {},
   "outputs": [
    {
     "data": {
      "text/html": [
       "<table class=\"dataframe\">\n",
       "<caption>A data.frame: 149 × 4</caption>\n",
       "<thead>\n",
       "\t<tr><th></th><th scope=col>Sepal.Length</th><th scope=col>Sepal.Width</th><th scope=col>Petal.Length</th><th scope=col>Petal.Width</th></tr>\n",
       "\t<tr><th></th><th scope=col>&lt;dbl&gt;</th><th scope=col>&lt;dbl&gt;</th><th scope=col>&lt;dbl&gt;</th><th scope=col>&lt;dbl&gt;</th></tr>\n",
       "</thead>\n",
       "<tbody>\n",
       "\t<tr><th scope=row>1</th><td>5.1</td><td>3.5</td><td>1.4</td><td>0.2</td></tr>\n",
       "\t<tr><th scope=row>2</th><td>4.9</td><td>3.0</td><td>1.4</td><td>0.2</td></tr>\n",
       "\t<tr><th scope=row>3</th><td>4.7</td><td>3.2</td><td>1.3</td><td>0.2</td></tr>\n",
       "\t<tr><th scope=row>4</th><td>4.6</td><td>3.1</td><td>1.5</td><td>0.2</td></tr>\n",
       "\t<tr><th scope=row>5</th><td>5.0</td><td>3.6</td><td>1.4</td><td>0.2</td></tr>\n",
       "\t<tr><th scope=row>6</th><td>5.4</td><td>3.9</td><td>1.7</td><td>0.4</td></tr>\n",
       "\t<tr><th scope=row>7</th><td>4.6</td><td>3.4</td><td>1.4</td><td>0.3</td></tr>\n",
       "\t<tr><th scope=row>8</th><td>5.0</td><td>3.4</td><td>1.5</td><td>0.2</td></tr>\n",
       "\t<tr><th scope=row>9</th><td>4.4</td><td>2.9</td><td>1.4</td><td>0.2</td></tr>\n",
       "\t<tr><th scope=row>10</th><td>4.9</td><td>3.1</td><td>1.5</td><td>0.1</td></tr>\n",
       "\t<tr><th scope=row>11</th><td>5.4</td><td>3.7</td><td>1.5</td><td>0.2</td></tr>\n",
       "\t<tr><th scope=row>12</th><td>4.8</td><td>3.4</td><td>1.6</td><td>0.2</td></tr>\n",
       "\t<tr><th scope=row>13</th><td>4.8</td><td>3.0</td><td>1.4</td><td>0.1</td></tr>\n",
       "\t<tr><th scope=row>14</th><td>4.3</td><td>3.0</td><td>1.1</td><td>0.1</td></tr>\n",
       "\t<tr><th scope=row>15</th><td>5.8</td><td>4.0</td><td>1.2</td><td>0.2</td></tr>\n",
       "\t<tr><th scope=row>16</th><td>5.7</td><td>4.4</td><td>1.5</td><td>0.4</td></tr>\n",
       "\t<tr><th scope=row>17</th><td>5.4</td><td>3.9</td><td>1.3</td><td>0.4</td></tr>\n",
       "\t<tr><th scope=row>18</th><td>5.1</td><td>3.5</td><td>1.4</td><td>0.3</td></tr>\n",
       "\t<tr><th scope=row>19</th><td>5.7</td><td>3.8</td><td>1.7</td><td>0.3</td></tr>\n",
       "\t<tr><th scope=row>20</th><td>5.1</td><td>3.8</td><td>1.5</td><td>0.3</td></tr>\n",
       "\t<tr><th scope=row>21</th><td>5.4</td><td>3.4</td><td>1.7</td><td>0.2</td></tr>\n",
       "\t<tr><th scope=row>22</th><td>5.1</td><td>3.7</td><td>1.5</td><td>0.4</td></tr>\n",
       "\t<tr><th scope=row>23</th><td>4.6</td><td>3.6</td><td>1.0</td><td>0.2</td></tr>\n",
       "\t<tr><th scope=row>24</th><td>5.1</td><td>3.3</td><td>1.7</td><td>0.5</td></tr>\n",
       "\t<tr><th scope=row>25</th><td>4.8</td><td>3.4</td><td>1.9</td><td>0.2</td></tr>\n",
       "\t<tr><th scope=row>26</th><td>5.0</td><td>3.0</td><td>1.6</td><td>0.2</td></tr>\n",
       "\t<tr><th scope=row>27</th><td>5.0</td><td>3.4</td><td>1.6</td><td>0.4</td></tr>\n",
       "\t<tr><th scope=row>28</th><td>5.2</td><td>3.5</td><td>1.5</td><td>0.2</td></tr>\n",
       "\t<tr><th scope=row>29</th><td>5.2</td><td>3.4</td><td>1.4</td><td>0.2</td></tr>\n",
       "\t<tr><th scope=row>30</th><td>4.7</td><td>3.2</td><td>1.6</td><td>0.2</td></tr>\n",
       "\t<tr><th scope=row>⋮</th><td>⋮</td><td>⋮</td><td>⋮</td><td>⋮</td></tr>\n",
       "\t<tr><th scope=row>120</th><td>6.0</td><td>2.2</td><td>5.0</td><td>1.5</td></tr>\n",
       "\t<tr><th scope=row>121</th><td>6.9</td><td>3.2</td><td>5.7</td><td>2.3</td></tr>\n",
       "\t<tr><th scope=row>122</th><td>5.6</td><td>2.8</td><td>4.9</td><td>2.0</td></tr>\n",
       "\t<tr><th scope=row>123</th><td>7.7</td><td>2.8</td><td>6.7</td><td>2.0</td></tr>\n",
       "\t<tr><th scope=row>124</th><td>6.3</td><td>2.7</td><td>4.9</td><td>1.8</td></tr>\n",
       "\t<tr><th scope=row>125</th><td>6.7</td><td>3.3</td><td>5.7</td><td>2.1</td></tr>\n",
       "\t<tr><th scope=row>126</th><td>7.2</td><td>3.2</td><td>6.0</td><td>1.8</td></tr>\n",
       "\t<tr><th scope=row>127</th><td>6.2</td><td>2.8</td><td>4.8</td><td>1.8</td></tr>\n",
       "\t<tr><th scope=row>128</th><td>6.1</td><td>3.0</td><td>4.9</td><td>1.8</td></tr>\n",
       "\t<tr><th scope=row>129</th><td>6.4</td><td>2.8</td><td>5.6</td><td>2.1</td></tr>\n",
       "\t<tr><th scope=row>130</th><td>7.2</td><td>3.0</td><td>5.8</td><td>1.6</td></tr>\n",
       "\t<tr><th scope=row>131</th><td>7.4</td><td>2.8</td><td>6.1</td><td>1.9</td></tr>\n",
       "\t<tr><th scope=row>132</th><td>7.9</td><td>3.8</td><td>6.4</td><td>2.0</td></tr>\n",
       "\t<tr><th scope=row>133</th><td>6.4</td><td>2.8</td><td>5.6</td><td>2.2</td></tr>\n",
       "\t<tr><th scope=row>134</th><td>6.3</td><td>2.8</td><td>5.1</td><td>1.5</td></tr>\n",
       "\t<tr><th scope=row>135</th><td>6.1</td><td>2.6</td><td>5.6</td><td>1.4</td></tr>\n",
       "\t<tr><th scope=row>136</th><td>7.7</td><td>3.0</td><td>6.1</td><td>2.3</td></tr>\n",
       "\t<tr><th scope=row>137</th><td>6.3</td><td>3.4</td><td>5.6</td><td>2.4</td></tr>\n",
       "\t<tr><th scope=row>138</th><td>6.4</td><td>3.1</td><td>5.5</td><td>1.8</td></tr>\n",
       "\t<tr><th scope=row>139</th><td>6.0</td><td>3.0</td><td>4.8</td><td>1.8</td></tr>\n",
       "\t<tr><th scope=row>140</th><td>6.9</td><td>3.1</td><td>5.4</td><td>2.1</td></tr>\n",
       "\t<tr><th scope=row>141</th><td>6.7</td><td>3.1</td><td>5.6</td><td>2.4</td></tr>\n",
       "\t<tr><th scope=row>142</th><td>6.9</td><td>3.1</td><td>5.1</td><td>2.3</td></tr>\n",
       "\t<tr><th scope=row>144</th><td>6.8</td><td>3.2</td><td>5.9</td><td>2.3</td></tr>\n",
       "\t<tr><th scope=row>145</th><td>6.7</td><td>3.3</td><td>5.7</td><td>2.5</td></tr>\n",
       "\t<tr><th scope=row>146</th><td>6.7</td><td>3.0</td><td>5.2</td><td>2.3</td></tr>\n",
       "\t<tr><th scope=row>147</th><td>6.3</td><td>2.5</td><td>5.0</td><td>1.9</td></tr>\n",
       "\t<tr><th scope=row>148</th><td>6.5</td><td>3.0</td><td>5.2</td><td>2.0</td></tr>\n",
       "\t<tr><th scope=row>149</th><td>6.2</td><td>3.4</td><td>5.4</td><td>2.3</td></tr>\n",
       "\t<tr><th scope=row>150</th><td>5.9</td><td>3.0</td><td>5.1</td><td>1.8</td></tr>\n",
       "</tbody>\n",
       "</table>\n"
      ],
      "text/latex": [
       "A data.frame: 149 × 4\n",
       "\\begin{tabular}{r|llll}\n",
       "  & Sepal.Length & Sepal.Width & Petal.Length & Petal.Width\\\\\n",
       "  & <dbl> & <dbl> & <dbl> & <dbl>\\\\\n",
       "\\hline\n",
       "\t1 & 5.1 & 3.5 & 1.4 & 0.2\\\\\n",
       "\t2 & 4.9 & 3.0 & 1.4 & 0.2\\\\\n",
       "\t3 & 4.7 & 3.2 & 1.3 & 0.2\\\\\n",
       "\t4 & 4.6 & 3.1 & 1.5 & 0.2\\\\\n",
       "\t5 & 5.0 & 3.6 & 1.4 & 0.2\\\\\n",
       "\t6 & 5.4 & 3.9 & 1.7 & 0.4\\\\\n",
       "\t7 & 4.6 & 3.4 & 1.4 & 0.3\\\\\n",
       "\t8 & 5.0 & 3.4 & 1.5 & 0.2\\\\\n",
       "\t9 & 4.4 & 2.9 & 1.4 & 0.2\\\\\n",
       "\t10 & 4.9 & 3.1 & 1.5 & 0.1\\\\\n",
       "\t11 & 5.4 & 3.7 & 1.5 & 0.2\\\\\n",
       "\t12 & 4.8 & 3.4 & 1.6 & 0.2\\\\\n",
       "\t13 & 4.8 & 3.0 & 1.4 & 0.1\\\\\n",
       "\t14 & 4.3 & 3.0 & 1.1 & 0.1\\\\\n",
       "\t15 & 5.8 & 4.0 & 1.2 & 0.2\\\\\n",
       "\t16 & 5.7 & 4.4 & 1.5 & 0.4\\\\\n",
       "\t17 & 5.4 & 3.9 & 1.3 & 0.4\\\\\n",
       "\t18 & 5.1 & 3.5 & 1.4 & 0.3\\\\\n",
       "\t19 & 5.7 & 3.8 & 1.7 & 0.3\\\\\n",
       "\t20 & 5.1 & 3.8 & 1.5 & 0.3\\\\\n",
       "\t21 & 5.4 & 3.4 & 1.7 & 0.2\\\\\n",
       "\t22 & 5.1 & 3.7 & 1.5 & 0.4\\\\\n",
       "\t23 & 4.6 & 3.6 & 1.0 & 0.2\\\\\n",
       "\t24 & 5.1 & 3.3 & 1.7 & 0.5\\\\\n",
       "\t25 & 4.8 & 3.4 & 1.9 & 0.2\\\\\n",
       "\t26 & 5.0 & 3.0 & 1.6 & 0.2\\\\\n",
       "\t27 & 5.0 & 3.4 & 1.6 & 0.4\\\\\n",
       "\t28 & 5.2 & 3.5 & 1.5 & 0.2\\\\\n",
       "\t29 & 5.2 & 3.4 & 1.4 & 0.2\\\\\n",
       "\t30 & 4.7 & 3.2 & 1.6 & 0.2\\\\\n",
       "\t⋮ & ⋮ & ⋮ & ⋮ & ⋮\\\\\n",
       "\t120 & 6.0 & 2.2 & 5.0 & 1.5\\\\\n",
       "\t121 & 6.9 & 3.2 & 5.7 & 2.3\\\\\n",
       "\t122 & 5.6 & 2.8 & 4.9 & 2.0\\\\\n",
       "\t123 & 7.7 & 2.8 & 6.7 & 2.0\\\\\n",
       "\t124 & 6.3 & 2.7 & 4.9 & 1.8\\\\\n",
       "\t125 & 6.7 & 3.3 & 5.7 & 2.1\\\\\n",
       "\t126 & 7.2 & 3.2 & 6.0 & 1.8\\\\\n",
       "\t127 & 6.2 & 2.8 & 4.8 & 1.8\\\\\n",
       "\t128 & 6.1 & 3.0 & 4.9 & 1.8\\\\\n",
       "\t129 & 6.4 & 2.8 & 5.6 & 2.1\\\\\n",
       "\t130 & 7.2 & 3.0 & 5.8 & 1.6\\\\\n",
       "\t131 & 7.4 & 2.8 & 6.1 & 1.9\\\\\n",
       "\t132 & 7.9 & 3.8 & 6.4 & 2.0\\\\\n",
       "\t133 & 6.4 & 2.8 & 5.6 & 2.2\\\\\n",
       "\t134 & 6.3 & 2.8 & 5.1 & 1.5\\\\\n",
       "\t135 & 6.1 & 2.6 & 5.6 & 1.4\\\\\n",
       "\t136 & 7.7 & 3.0 & 6.1 & 2.3\\\\\n",
       "\t137 & 6.3 & 3.4 & 5.6 & 2.4\\\\\n",
       "\t138 & 6.4 & 3.1 & 5.5 & 1.8\\\\\n",
       "\t139 & 6.0 & 3.0 & 4.8 & 1.8\\\\\n",
       "\t140 & 6.9 & 3.1 & 5.4 & 2.1\\\\\n",
       "\t141 & 6.7 & 3.1 & 5.6 & 2.4\\\\\n",
       "\t142 & 6.9 & 3.1 & 5.1 & 2.3\\\\\n",
       "\t144 & 6.8 & 3.2 & 5.9 & 2.3\\\\\n",
       "\t145 & 6.7 & 3.3 & 5.7 & 2.5\\\\\n",
       "\t146 & 6.7 & 3.0 & 5.2 & 2.3\\\\\n",
       "\t147 & 6.3 & 2.5 & 5.0 & 1.9\\\\\n",
       "\t148 & 6.5 & 3.0 & 5.2 & 2.0\\\\\n",
       "\t149 & 6.2 & 3.4 & 5.4 & 2.3\\\\\n",
       "\t150 & 5.9 & 3.0 & 5.1 & 1.8\\\\\n",
       "\\end{tabular}\n"
      ],
      "text/markdown": [
       "\n",
       "A data.frame: 149 × 4\n",
       "\n",
       "| <!--/--> | Sepal.Length &lt;dbl&gt; | Sepal.Width &lt;dbl&gt; | Petal.Length &lt;dbl&gt; | Petal.Width &lt;dbl&gt; |\n",
       "|---|---|---|---|---|\n",
       "| 1 | 5.1 | 3.5 | 1.4 | 0.2 |\n",
       "| 2 | 4.9 | 3.0 | 1.4 | 0.2 |\n",
       "| 3 | 4.7 | 3.2 | 1.3 | 0.2 |\n",
       "| 4 | 4.6 | 3.1 | 1.5 | 0.2 |\n",
       "| 5 | 5.0 | 3.6 | 1.4 | 0.2 |\n",
       "| 6 | 5.4 | 3.9 | 1.7 | 0.4 |\n",
       "| 7 | 4.6 | 3.4 | 1.4 | 0.3 |\n",
       "| 8 | 5.0 | 3.4 | 1.5 | 0.2 |\n",
       "| 9 | 4.4 | 2.9 | 1.4 | 0.2 |\n",
       "| 10 | 4.9 | 3.1 | 1.5 | 0.1 |\n",
       "| 11 | 5.4 | 3.7 | 1.5 | 0.2 |\n",
       "| 12 | 4.8 | 3.4 | 1.6 | 0.2 |\n",
       "| 13 | 4.8 | 3.0 | 1.4 | 0.1 |\n",
       "| 14 | 4.3 | 3.0 | 1.1 | 0.1 |\n",
       "| 15 | 5.8 | 4.0 | 1.2 | 0.2 |\n",
       "| 16 | 5.7 | 4.4 | 1.5 | 0.4 |\n",
       "| 17 | 5.4 | 3.9 | 1.3 | 0.4 |\n",
       "| 18 | 5.1 | 3.5 | 1.4 | 0.3 |\n",
       "| 19 | 5.7 | 3.8 | 1.7 | 0.3 |\n",
       "| 20 | 5.1 | 3.8 | 1.5 | 0.3 |\n",
       "| 21 | 5.4 | 3.4 | 1.7 | 0.2 |\n",
       "| 22 | 5.1 | 3.7 | 1.5 | 0.4 |\n",
       "| 23 | 4.6 | 3.6 | 1.0 | 0.2 |\n",
       "| 24 | 5.1 | 3.3 | 1.7 | 0.5 |\n",
       "| 25 | 4.8 | 3.4 | 1.9 | 0.2 |\n",
       "| 26 | 5.0 | 3.0 | 1.6 | 0.2 |\n",
       "| 27 | 5.0 | 3.4 | 1.6 | 0.4 |\n",
       "| 28 | 5.2 | 3.5 | 1.5 | 0.2 |\n",
       "| 29 | 5.2 | 3.4 | 1.4 | 0.2 |\n",
       "| 30 | 4.7 | 3.2 | 1.6 | 0.2 |\n",
       "| ⋮ | ⋮ | ⋮ | ⋮ | ⋮ |\n",
       "| 120 | 6.0 | 2.2 | 5.0 | 1.5 |\n",
       "| 121 | 6.9 | 3.2 | 5.7 | 2.3 |\n",
       "| 122 | 5.6 | 2.8 | 4.9 | 2.0 |\n",
       "| 123 | 7.7 | 2.8 | 6.7 | 2.0 |\n",
       "| 124 | 6.3 | 2.7 | 4.9 | 1.8 |\n",
       "| 125 | 6.7 | 3.3 | 5.7 | 2.1 |\n",
       "| 126 | 7.2 | 3.2 | 6.0 | 1.8 |\n",
       "| 127 | 6.2 | 2.8 | 4.8 | 1.8 |\n",
       "| 128 | 6.1 | 3.0 | 4.9 | 1.8 |\n",
       "| 129 | 6.4 | 2.8 | 5.6 | 2.1 |\n",
       "| 130 | 7.2 | 3.0 | 5.8 | 1.6 |\n",
       "| 131 | 7.4 | 2.8 | 6.1 | 1.9 |\n",
       "| 132 | 7.9 | 3.8 | 6.4 | 2.0 |\n",
       "| 133 | 6.4 | 2.8 | 5.6 | 2.2 |\n",
       "| 134 | 6.3 | 2.8 | 5.1 | 1.5 |\n",
       "| 135 | 6.1 | 2.6 | 5.6 | 1.4 |\n",
       "| 136 | 7.7 | 3.0 | 6.1 | 2.3 |\n",
       "| 137 | 6.3 | 3.4 | 5.6 | 2.4 |\n",
       "| 138 | 6.4 | 3.1 | 5.5 | 1.8 |\n",
       "| 139 | 6.0 | 3.0 | 4.8 | 1.8 |\n",
       "| 140 | 6.9 | 3.1 | 5.4 | 2.1 |\n",
       "| 141 | 6.7 | 3.1 | 5.6 | 2.4 |\n",
       "| 142 | 6.9 | 3.1 | 5.1 | 2.3 |\n",
       "| 144 | 6.8 | 3.2 | 5.9 | 2.3 |\n",
       "| 145 | 6.7 | 3.3 | 5.7 | 2.5 |\n",
       "| 146 | 6.7 | 3.0 | 5.2 | 2.3 |\n",
       "| 147 | 6.3 | 2.5 | 5.0 | 1.9 |\n",
       "| 148 | 6.5 | 3.0 | 5.2 | 2.0 |\n",
       "| 149 | 6.2 | 3.4 | 5.4 | 2.3 |\n",
       "| 150 | 5.9 | 3.0 | 5.1 | 1.8 |\n",
       "\n"
      ],
      "text/plain": [
       "    Sepal.Length Sepal.Width Petal.Length Petal.Width\n",
       "1   5.1          3.5         1.4          0.2        \n",
       "2   4.9          3.0         1.4          0.2        \n",
       "3   4.7          3.2         1.3          0.2        \n",
       "4   4.6          3.1         1.5          0.2        \n",
       "5   5.0          3.6         1.4          0.2        \n",
       "6   5.4          3.9         1.7          0.4        \n",
       "7   4.6          3.4         1.4          0.3        \n",
       "8   5.0          3.4         1.5          0.2        \n",
       "9   4.4          2.9         1.4          0.2        \n",
       "10  4.9          3.1         1.5          0.1        \n",
       "11  5.4          3.7         1.5          0.2        \n",
       "12  4.8          3.4         1.6          0.2        \n",
       "13  4.8          3.0         1.4          0.1        \n",
       "14  4.3          3.0         1.1          0.1        \n",
       "15  5.8          4.0         1.2          0.2        \n",
       "16  5.7          4.4         1.5          0.4        \n",
       "17  5.4          3.9         1.3          0.4        \n",
       "18  5.1          3.5         1.4          0.3        \n",
       "19  5.7          3.8         1.7          0.3        \n",
       "20  5.1          3.8         1.5          0.3        \n",
       "21  5.4          3.4         1.7          0.2        \n",
       "22  5.1          3.7         1.5          0.4        \n",
       "23  4.6          3.6         1.0          0.2        \n",
       "24  5.1          3.3         1.7          0.5        \n",
       "25  4.8          3.4         1.9          0.2        \n",
       "26  5.0          3.0         1.6          0.2        \n",
       "27  5.0          3.4         1.6          0.4        \n",
       "28  5.2          3.5         1.5          0.2        \n",
       "29  5.2          3.4         1.4          0.2        \n",
       "30  4.7          3.2         1.6          0.2        \n",
       "⋮   ⋮            ⋮           ⋮            ⋮          \n",
       "120 6.0          2.2         5.0          1.5        \n",
       "121 6.9          3.2         5.7          2.3        \n",
       "122 5.6          2.8         4.9          2.0        \n",
       "123 7.7          2.8         6.7          2.0        \n",
       "124 6.3          2.7         4.9          1.8        \n",
       "125 6.7          3.3         5.7          2.1        \n",
       "126 7.2          3.2         6.0          1.8        \n",
       "127 6.2          2.8         4.8          1.8        \n",
       "128 6.1          3.0         4.9          1.8        \n",
       "129 6.4          2.8         5.6          2.1        \n",
       "130 7.2          3.0         5.8          1.6        \n",
       "131 7.4          2.8         6.1          1.9        \n",
       "132 7.9          3.8         6.4          2.0        \n",
       "133 6.4          2.8         5.6          2.2        \n",
       "134 6.3          2.8         5.1          1.5        \n",
       "135 6.1          2.6         5.6          1.4        \n",
       "136 7.7          3.0         6.1          2.3        \n",
       "137 6.3          3.4         5.6          2.4        \n",
       "138 6.4          3.1         5.5          1.8        \n",
       "139 6.0          3.0         4.8          1.8        \n",
       "140 6.9          3.1         5.4          2.1        \n",
       "141 6.7          3.1         5.6          2.4        \n",
       "142 6.9          3.1         5.1          2.3        \n",
       "144 6.8          3.2         5.9          2.3        \n",
       "145 6.7          3.3         5.7          2.5        \n",
       "146 6.7          3.0         5.2          2.3        \n",
       "147 6.3          2.5         5.0          1.9        \n",
       "148 6.5          3.0         5.2          2.0        \n",
       "149 6.2          3.4         5.4          2.3        \n",
       "150 5.9          3.0         5.1          1.8        "
      ]
     },
     "metadata": {},
     "output_type": "display_data"
    }
   ],
   "source": [
    "unique(iris[, -5])"
   ]
  },
  {
   "cell_type": "code",
   "execution_count": 2,
   "id": "e65552b8",
   "metadata": {},
   "outputs": [
    {
     "data": {
      "text/html": [
       "<style>\n",
       ".list-inline {list-style: none; margin:0; padding: 0}\n",
       ".list-inline>li {display: inline-block}\n",
       ".list-inline>li:not(:last-child)::after {content: \"\\00b7\"; padding: 0 .5ex}\n",
       "</style>\n",
       "<ol class=list-inline><li>setosa</li><li>versicolor</li><li>virginica</li></ol>\n",
       "\n",
       "<details>\n",
       "\t<summary style=display:list-item;cursor:pointer>\n",
       "\t\t<strong>Levels</strong>:\n",
       "\t</summary>\n",
       "\t<style>\n",
       "\t.list-inline {list-style: none; margin:0; padding: 0}\n",
       "\t.list-inline>li {display: inline-block}\n",
       "\t.list-inline>li:not(:last-child)::after {content: \"\\00b7\"; padding: 0 .5ex}\n",
       "\t</style>\n",
       "\t<ol class=list-inline><li>'setosa'</li><li>'versicolor'</li><li>'virginica'</li></ol>\n",
       "</details>"
      ],
      "text/latex": [
       "\\begin{enumerate*}\n",
       "\\item setosa\n",
       "\\item versicolor\n",
       "\\item virginica\n",
       "\\end{enumerate*}\n",
       "\n",
       "\\emph{Levels}: \\begin{enumerate*}\n",
       "\\item 'setosa'\n",
       "\\item 'versicolor'\n",
       "\\item 'virginica'\n",
       "\\end{enumerate*}\n"
      ],
      "text/markdown": [
       "1. setosa\n",
       "2. versicolor\n",
       "3. virginica\n",
       "\n",
       "\n",
       "\n",
       "**Levels**: 1. 'setosa'\n",
       "2. 'versicolor'\n",
       "3. 'virginica'\n",
       "\n",
       "\n"
      ],
      "text/plain": [
       "[1] setosa     versicolor virginica \n",
       "Levels: setosa versicolor virginica"
      ]
     },
     "metadata": {},
     "output_type": "display_data"
    }
   ],
   "source": [
    "unique(iris[, 5])"
   ]
  },
  {
   "cell_type": "code",
   "execution_count": 3,
   "id": "32fcf869",
   "metadata": {},
   "outputs": [
    {
     "data": {
      "text/plain": [
       "\n",
       "    setosa versicolor  virginica \n",
       "        50         50         50 "
      ]
     },
     "metadata": {},
     "output_type": "display_data"
    }
   ],
   "source": [
    "table(iris[ , 5])"
   ]
  },
  {
   "cell_type": "code",
   "execution_count": 4,
   "id": "f0c00f7e",
   "metadata": {},
   "outputs": [],
   "source": [
    "score <- c(76, 84, 69, 50, 95, 60, 82, 71, 88, 84)"
   ]
  },
  {
   "cell_type": "code",
   "execution_count": 6,
   "id": "663b3960",
   "metadata": {},
   "outputs": [
    {
     "data": {
      "text/html": [
       "3"
      ],
      "text/latex": [
       "3"
      ],
      "text/markdown": [
       "3"
      ],
      "text/plain": [
       "[1] 3"
      ]
     },
     "metadata": {},
     "output_type": "display_data"
    }
   ],
   "source": [
    "which(score == 69)"
   ]
  },
  {
   "cell_type": "code",
   "execution_count": 7,
   "id": "1ce312d9",
   "metadata": {},
   "outputs": [
    {
     "data": {
      "text/html": [
       "<style>\n",
       ".list-inline {list-style: none; margin:0; padding: 0}\n",
       ".list-inline>li {display: inline-block}\n",
       ".list-inline>li:not(:last-child)::after {content: \"\\00b7\"; padding: 0 .5ex}\n",
       "</style>\n",
       "<ol class=list-inline><li>5</li><li>9</li></ol>\n"
      ],
      "text/latex": [
       "\\begin{enumerate*}\n",
       "\\item 5\n",
       "\\item 9\n",
       "\\end{enumerate*}\n"
      ],
      "text/markdown": [
       "1. 5\n",
       "2. 9\n",
       "\n",
       "\n"
      ],
      "text/plain": [
       "[1] 5 9"
      ]
     },
     "metadata": {},
     "output_type": "display_data"
    }
   ],
   "source": [
    "which(score > 85)"
   ]
  },
  {
   "cell_type": "code",
   "execution_count": 8,
   "id": "39e76c12",
   "metadata": {},
   "outputs": [
    {
     "data": {
      "text/html": [
       "5"
      ],
      "text/latex": [
       "5"
      ],
      "text/markdown": [
       "5"
      ],
      "text/plain": [
       "[1] 5"
      ]
     },
     "metadata": {},
     "output_type": "display_data"
    }
   ],
   "source": [
    "which.max(score)"
   ]
  },
  {
   "cell_type": "code",
   "execution_count": 9,
   "id": "6b56d431",
   "metadata": {},
   "outputs": [
    {
     "data": {
      "text/html": [
       "95"
      ],
      "text/latex": [
       "95"
      ],
      "text/markdown": [
       "95"
      ],
      "text/plain": [
       "[1] 95"
      ]
     },
     "metadata": {},
     "output_type": "display_data"
    }
   ],
   "source": [
    "score[5]"
   ]
  },
  {
   "cell_type": "code",
   "execution_count": 10,
   "id": "91efdcc4",
   "metadata": {},
   "outputs": [
    {
     "data": {
      "text/html": [
       "95"
      ],
      "text/latex": [
       "95"
      ],
      "text/markdown": [
       "95"
      ],
      "text/plain": [
       "[1] 95"
      ]
     },
     "metadata": {},
     "output_type": "display_data"
    }
   ],
   "source": [
    "max(score)"
   ]
  },
  {
   "cell_type": "code",
   "execution_count": 11,
   "id": "85847863",
   "metadata": {},
   "outputs": [
    {
     "data": {
      "text/html": [
       "4"
      ],
      "text/latex": [
       "4"
      ],
      "text/markdown": [
       "4"
      ],
      "text/plain": [
       "[1] 4"
      ]
     },
     "metadata": {},
     "output_type": "display_data"
    }
   ],
   "source": [
    "which.min(score)"
   ]
  },
  {
   "cell_type": "code",
   "execution_count": 12,
   "id": "637ae92f",
   "metadata": {},
   "outputs": [
    {
     "data": {
      "text/html": [
       "50"
      ],
      "text/latex": [
       "50"
      ],
      "text/markdown": [
       "50"
      ],
      "text/plain": [
       "[1] 50"
      ]
     },
     "metadata": {},
     "output_type": "display_data"
    }
   ],
   "source": [
    "score[4]"
   ]
  },
  {
   "cell_type": "code",
   "execution_count": 13,
   "id": "22996f7c",
   "metadata": {},
   "outputs": [
    {
     "data": {
      "text/html": [
       "50"
      ],
      "text/latex": [
       "50"
      ],
      "text/markdown": [
       "50"
      ],
      "text/plain": [
       "[1] 50"
      ]
     },
     "metadata": {},
     "output_type": "display_data"
    }
   ],
   "source": [
    "min(score)"
   ]
  },
  {
   "cell_type": "code",
   "execution_count": 16,
   "id": "1a9ae24d",
   "metadata": {},
   "outputs": [
    {
     "data": {
      "text/html": [
       "<style>\n",
       ".list-inline {list-style: none; margin:0; padding: 0}\n",
       ".list-inline>li {display: inline-block}\n",
       ".list-inline>li:not(:last-child)::after {content: \"\\00b7\"; padding: 0 .5ex}\n",
       "</style>\n",
       "<ol class=list-inline><li>4</li><li>6</li></ol>\n"
      ],
      "text/latex": [
       "\\begin{enumerate*}\n",
       "\\item 4\n",
       "\\item 6\n",
       "\\end{enumerate*}\n"
      ],
      "text/markdown": [
       "1. 4\n",
       "2. 6\n",
       "\n",
       "\n"
      ],
      "text/plain": [
       "[1] 4 6"
      ]
     },
     "metadata": {},
     "output_type": "display_data"
    }
   ],
   "source": [
    "which(score <= 60)"
   ]
  },
  {
   "cell_type": "code",
   "execution_count": 17,
   "id": "e370a5f2",
   "metadata": {},
   "outputs": [
    {
     "data": {
      "text/html": [
       "<style>\n",
       ".list-inline {list-style: none; margin:0; padding: 0}\n",
       ".list-inline>li {display: inline-block}\n",
       ".list-inline>li:not(:last-child)::after {content: \"\\00b7\"; padding: 0 .5ex}\n",
       "</style>\n",
       "<ol class=list-inline><li>50</li><li>60</li></ol>\n"
      ],
      "text/latex": [
       "\\begin{enumerate*}\n",
       "\\item 50\n",
       "\\item 60\n",
       "\\end{enumerate*}\n"
      ],
      "text/markdown": [
       "1. 50\n",
       "2. 60\n",
       "\n",
       "\n"
      ],
      "text/plain": [
       "[1] 50 60"
      ]
     },
     "metadata": {},
     "output_type": "display_data"
    }
   ],
   "source": [
    "score[c(4, 6)]"
   ]
  },
  {
   "cell_type": "code",
   "execution_count": 19,
   "id": "98d3aade",
   "metadata": {},
   "outputs": [],
   "source": [
    "score[which(score <= 60)] <- 61"
   ]
  },
  {
   "cell_type": "code",
   "execution_count": 20,
   "id": "886ee637",
   "metadata": {},
   "outputs": [
    {
     "data": {
      "text/html": [
       "<style>\n",
       ".list-inline {list-style: none; margin:0; padding: 0}\n",
       ".list-inline>li {display: inline-block}\n",
       ".list-inline>li:not(:last-child)::after {content: \"\\00b7\"; padding: 0 .5ex}\n",
       "</style>\n",
       "<ol class=list-inline><li>76</li><li>84</li><li>69</li><li>61</li><li>95</li><li>61</li><li>82</li><li>71</li><li>88</li><li>84</li></ol>\n"
      ],
      "text/latex": [
       "\\begin{enumerate*}\n",
       "\\item 76\n",
       "\\item 84\n",
       "\\item 69\n",
       "\\item 61\n",
       "\\item 95\n",
       "\\item 61\n",
       "\\item 82\n",
       "\\item 71\n",
       "\\item 88\n",
       "\\item 84\n",
       "\\end{enumerate*}\n"
      ],
      "text/markdown": [
       "1. 76\n",
       "2. 84\n",
       "3. 69\n",
       "4. 61\n",
       "5. 95\n",
       "6. 61\n",
       "7. 82\n",
       "8. 71\n",
       "9. 88\n",
       "10. 84\n",
       "\n",
       "\n"
      ],
      "text/plain": [
       " [1] 76 84 69 61 95 61 82 71 88 84"
      ]
     },
     "metadata": {},
     "output_type": "display_data"
    }
   ],
   "source": [
    "score"
   ]
  },
  {
   "cell_type": "code",
   "execution_count": 23,
   "id": "0f3abbea",
   "metadata": {},
   "outputs": [
    {
     "data": {
      "text/html": [
       "<style>\n",
       ".list-inline {list-style: none; margin:0; padding: 0}\n",
       ".list-inline>li {display: inline-block}\n",
       ".list-inline>li:not(:last-child)::after {content: \"\\00b7\"; padding: 0 .5ex}\n",
       "</style>\n",
       "<ol class=list-inline><li>2</li><li>5</li><li>7</li><li>9</li><li>10</li></ol>\n"
      ],
      "text/latex": [
       "\\begin{enumerate*}\n",
       "\\item 2\n",
       "\\item 5\n",
       "\\item 7\n",
       "\\item 9\n",
       "\\item 10\n",
       "\\end{enumerate*}\n"
      ],
      "text/markdown": [
       "1. 2\n",
       "2. 5\n",
       "3. 7\n",
       "4. 9\n",
       "5. 10\n",
       "\n",
       "\n"
      ],
      "text/plain": [
       "[1]  2  5  7  9 10"
      ]
     },
     "metadata": {},
     "output_type": "display_data"
    }
   ],
   "source": [
    "which(score >= 80)"
   ]
  },
  {
   "cell_type": "code",
   "execution_count": 24,
   "id": "93b7e8f3",
   "metadata": {},
   "outputs": [
    {
     "data": {
      "text/html": [
       "<style>\n",
       ".list-inline {list-style: none; margin:0; padding: 0}\n",
       ".list-inline>li {display: inline-block}\n",
       ".list-inline>li:not(:last-child)::after {content: \"\\00b7\"; padding: 0 .5ex}\n",
       "</style>\n",
       "<ol class=list-inline><li>84</li><li>95</li><li>82</li><li>88</li><li>84</li></ol>\n"
      ],
      "text/latex": [
       "\\begin{enumerate*}\n",
       "\\item 84\n",
       "\\item 95\n",
       "\\item 82\n",
       "\\item 88\n",
       "\\item 84\n",
       "\\end{enumerate*}\n"
      ],
      "text/markdown": [
       "1. 84\n",
       "2. 95\n",
       "3. 82\n",
       "4. 88\n",
       "5. 84\n",
       "\n",
       "\n"
      ],
      "text/plain": [
       "[1] 84 95 82 88 84"
      ]
     },
     "metadata": {},
     "output_type": "display_data"
    }
   ],
   "source": [
    "idx <- score[which(score >= 80)]\n",
    "idx"
   ]
  },
  {
   "cell_type": "code",
   "execution_count": 25,
   "id": "d3a917dd",
   "metadata": {},
   "outputs": [
    {
     "data": {
      "text/html": [
       "<style>\n",
       ".list-inline {list-style: none; margin:0; padding: 0}\n",
       ".list-inline>li {display: inline-block}\n",
       ".list-inline>li:not(:last-child)::after {content: \"\\00b7\"; padding: 0 .5ex}\n",
       "</style>\n",
       "<ol class=list-inline><li>60</li><li>40</li><li>95</li><li>80</li></ol>\n"
      ],
      "text/latex": [
       "\\begin{enumerate*}\n",
       "\\item 60\n",
       "\\item 40\n",
       "\\item 95\n",
       "\\item 80\n",
       "\\end{enumerate*}\n"
      ],
      "text/markdown": [
       "1. 60\n",
       "2. 40\n",
       "3. 95\n",
       "4. 80\n",
       "\n",
       "\n"
      ],
      "text/plain": [
       "[1] 60 40 95 80"
      ]
     },
     "metadata": {},
     "output_type": "display_data"
    }
   ],
   "source": [
    "score <- c(60, 40, 95, 80)\n",
    "score"
   ]
  },
  {
   "cell_type": "code",
   "execution_count": 26,
   "id": "9b0fbace",
   "metadata": {},
   "outputs": [],
   "source": [
    "names(score) <- c('John', 'Jane', 'Tom', 'David')"
   ]
  },
  {
   "cell_type": "code",
   "execution_count": 27,
   "id": "cc4ee6af",
   "metadata": {},
   "outputs": [
    {
     "data": {
      "text/html": [
       "<style>\n",
       ".dl-inline {width: auto; margin:0; padding: 0}\n",
       ".dl-inline>dt, .dl-inline>dd {float: none; width: auto; display: inline-block}\n",
       ".dl-inline>dt::after {content: \":\\0020\"; padding-right: .5ex}\n",
       ".dl-inline>dt:not(:first-of-type) {padding-left: .5ex}\n",
       "</style><dl class=dl-inline><dt>John</dt><dd>60</dd><dt>Jane</dt><dd>40</dd><dt>Tom</dt><dd>95</dd><dt>David</dt><dd>80</dd></dl>\n"
      ],
      "text/latex": [
       "\\begin{description*}\n",
       "\\item[John] 60\n",
       "\\item[Jane] 40\n",
       "\\item[Tom] 95\n",
       "\\item[David] 80\n",
       "\\end{description*}\n"
      ],
      "text/markdown": [
       "John\n",
       ":   60Jane\n",
       ":   40Tom\n",
       ":   95David\n",
       ":   80\n",
       "\n"
      ],
      "text/plain": [
       " John  Jane   Tom David \n",
       "   60    40    95    80 "
      ]
     },
     "metadata": {},
     "output_type": "display_data"
    }
   ],
   "source": [
    "score"
   ]
  },
  {
   "cell_type": "code",
   "execution_count": 28,
   "id": "1182ddde",
   "metadata": {},
   "outputs": [
    {
     "data": {
      "text/html": [
       "<strong>Tom:</strong> 95"
      ],
      "text/latex": [
       "\\textbf{Tom:} 95"
      ],
      "text/markdown": [
       "**Tom:** 95"
      ],
      "text/plain": [
       "Tom \n",
       " 95 "
      ]
     },
     "metadata": {},
     "output_type": "display_data"
    }
   ],
   "source": [
    "score[which.max(score)]"
   ]
  },
  {
   "cell_type": "code",
   "execution_count": 29,
   "id": "6cb96ca7",
   "metadata": {},
   "outputs": [
    {
     "data": {
      "text/html": [
       "<table class=\"dataframe\">\n",
       "<caption>A matrix: 4 × 5 of type int</caption>\n",
       "<tbody>\n",
       "\t<tr><td>1</td><td>5</td><td> 9</td><td>13</td><td>17</td></tr>\n",
       "\t<tr><td>2</td><td>6</td><td>10</td><td>14</td><td>18</td></tr>\n",
       "\t<tr><td>3</td><td>7</td><td>11</td><td>15</td><td>19</td></tr>\n",
       "\t<tr><td>4</td><td>8</td><td>12</td><td>16</td><td>20</td></tr>\n",
       "</tbody>\n",
       "</table>\n"
      ],
      "text/latex": [
       "A matrix: 4 × 5 of type int\n",
       "\\begin{tabular}{lllll}\n",
       "\t 1 & 5 &  9 & 13 & 17\\\\\n",
       "\t 2 & 6 & 10 & 14 & 18\\\\\n",
       "\t 3 & 7 & 11 & 15 & 19\\\\\n",
       "\t 4 & 8 & 12 & 16 & 20\\\\\n",
       "\\end{tabular}\n"
      ],
      "text/markdown": [
       "\n",
       "A matrix: 4 × 5 of type int\n",
       "\n",
       "| 1 | 5 |  9 | 13 | 17 |\n",
       "| 2 | 6 | 10 | 14 | 18 |\n",
       "| 3 | 7 | 11 | 15 | 19 |\n",
       "| 4 | 8 | 12 | 16 | 20 |\n",
       "\n"
      ],
      "text/plain": [
       "     [,1] [,2] [,3] [,4] [,5]\n",
       "[1,] 1    5     9   13   17  \n",
       "[2,] 2    6    10   14   18  \n",
       "[3,] 3    7    11   15   19  \n",
       "[4,] 4    8    12   16   20  "
      ]
     },
     "metadata": {},
     "output_type": "display_data"
    }
   ],
   "source": [
    "z <- matrix(1:20, nrow=4) \n",
    "z"
   ]
  },
  {
   "cell_type": "code",
   "execution_count": 32,
   "id": "555bca84",
   "metadata": {},
   "outputs": [
    {
     "data": {
      "text/html": [
       "<table class=\"dataframe\">\n",
       "<caption>A matrix: 4 × 2 of type int</caption>\n",
       "<thead>\n",
       "\t<tr><th scope=col>x</th><th scope=col>y</th></tr>\n",
       "</thead>\n",
       "<tbody>\n",
       "\t<tr><td>1</td><td>5</td></tr>\n",
       "\t<tr><td>2</td><td>6</td></tr>\n",
       "\t<tr><td>3</td><td>7</td></tr>\n",
       "\t<tr><td>4</td><td>8</td></tr>\n",
       "</tbody>\n",
       "</table>\n"
      ],
      "text/latex": [
       "A matrix: 4 × 2 of type int\n",
       "\\begin{tabular}{ll}\n",
       " x & y\\\\\n",
       "\\hline\n",
       "\t 1 & 5\\\\\n",
       "\t 2 & 6\\\\\n",
       "\t 3 & 7\\\\\n",
       "\t 4 & 8\\\\\n",
       "\\end{tabular}\n"
      ],
      "text/markdown": [
       "\n",
       "A matrix: 4 × 2 of type int\n",
       "\n",
       "| x | y |\n",
       "|---|---|\n",
       "| 1 | 5 |\n",
       "| 2 | 6 |\n",
       "| 3 | 7 |\n",
       "| 4 | 8 |\n",
       "\n"
      ],
      "text/plain": [
       "     x y\n",
       "[1,] 1 5\n",
       "[2,] 2 6\n",
       "[3,] 3 7\n",
       "[4,] 4 8"
      ]
     },
     "metadata": {},
     "output_type": "display_data"
    },
    {
     "data": {
      "text/html": [
       "<table class=\"dataframe\">\n",
       "<caption>A matrix: 2 × 4 of type int</caption>\n",
       "<tbody>\n",
       "\t<tr><th scope=row>x</th><td>1</td><td>2</td><td>3</td><td>4</td></tr>\n",
       "\t<tr><th scope=row>y</th><td>5</td><td>6</td><td>7</td><td>8</td></tr>\n",
       "</tbody>\n",
       "</table>\n"
      ],
      "text/latex": [
       "A matrix: 2 × 4 of type int\n",
       "\\begin{tabular}{r|llll}\n",
       "\tx & 1 & 2 & 3 & 4\\\\\n",
       "\ty & 5 & 6 & 7 & 8\\\\\n",
       "\\end{tabular}\n"
      ],
      "text/markdown": [
       "\n",
       "A matrix: 2 × 4 of type int\n",
       "\n",
       "| x | 1 | 2 | 3 | 4 |\n",
       "| y | 5 | 6 | 7 | 8 |\n",
       "\n"
      ],
      "text/plain": [
       "  [,1] [,2] [,3] [,4]\n",
       "x 1    2    3    4   \n",
       "y 5    6    7    8   "
      ]
     },
     "metadata": {},
     "output_type": "display_data"
    },
    {
     "data": {
      "text/html": [
       "<table class=\"dataframe\">\n",
       "<caption>A matrix: 4 × 7 of type int</caption>\n",
       "<thead>\n",
       "\t<tr><th scope=col>x</th><th scope=col>y</th><th scope=col></th><th scope=col></th><th scope=col></th><th scope=col></th><th scope=col></th></tr>\n",
       "</thead>\n",
       "<tbody>\n",
       "\t<tr><td>1</td><td>5</td><td>1</td><td>5</td><td> 9</td><td>13</td><td>17</td></tr>\n",
       "\t<tr><td>2</td><td>6</td><td>2</td><td>6</td><td>10</td><td>14</td><td>18</td></tr>\n",
       "\t<tr><td>3</td><td>7</td><td>3</td><td>7</td><td>11</td><td>15</td><td>19</td></tr>\n",
       "\t<tr><td>4</td><td>8</td><td>4</td><td>8</td><td>12</td><td>16</td><td>20</td></tr>\n",
       "</tbody>\n",
       "</table>\n"
      ],
      "text/latex": [
       "A matrix: 4 × 7 of type int\n",
       "\\begin{tabular}{lllllll}\n",
       " x & y &  &  &  &  & \\\\\n",
       "\\hline\n",
       "\t 1 & 5 & 1 & 5 &  9 & 13 & 17\\\\\n",
       "\t 2 & 6 & 2 & 6 & 10 & 14 & 18\\\\\n",
       "\t 3 & 7 & 3 & 7 & 11 & 15 & 19\\\\\n",
       "\t 4 & 8 & 4 & 8 & 12 & 16 & 20\\\\\n",
       "\\end{tabular}\n"
      ],
      "text/markdown": [
       "\n",
       "A matrix: 4 × 7 of type int\n",
       "\n",
       "| x | y | <!----> | <!----> | <!----> | <!----> | <!----> |\n",
       "|---|---|---|---|---|---|---|\n",
       "| 1 | 5 | 1 | 5 |  9 | 13 | 17 |\n",
       "| 2 | 6 | 2 | 6 | 10 | 14 | 18 |\n",
       "| 3 | 7 | 3 | 7 | 11 | 15 | 19 |\n",
       "| 4 | 8 | 4 | 8 | 12 | 16 | 20 |\n",
       "\n"
      ],
      "text/plain": [
       "     x y             \n",
       "[1,] 1 5 1 5  9 13 17\n",
       "[2,] 2 6 2 6 10 14 18\n",
       "[3,] 3 7 3 7 11 15 19\n",
       "[4,] 4 8 4 8 12 16 20"
      ]
     },
     "metadata": {},
     "output_type": "display_data"
    }
   ],
   "source": [
    "x <- 1:4\n",
    "y <- 5:8\n",
    "z <- matrix(1:20, nrow=4)\n",
    "cbind(x, y)\n",
    "rbind(x, y)\n",
    "cbind(x, y, z)"
   ]
  },
  {
   "cell_type": "code",
   "execution_count": 33,
   "id": "8b3a8dd3",
   "metadata": {},
   "outputs": [
    {
     "name": "stderr",
     "output_type": "stream",
     "text": [
      "Warning message in rbind(x, y, z):\n",
      "\"number of columns of result is not a multiple of vector length (arg 1)\"\n"
     ]
    },
    {
     "data": {
      "text/html": [
       "<table class=\"dataframe\">\n",
       "<caption>A matrix: 6 × 5 of type int</caption>\n",
       "<tbody>\n",
       "\t<tr><th scope=row>x</th><td>1</td><td>2</td><td> 3</td><td> 4</td><td> 1</td></tr>\n",
       "\t<tr><th scope=row>y</th><td>5</td><td>6</td><td> 7</td><td> 8</td><td> 5</td></tr>\n",
       "\t<tr><th scope=row></th><td>1</td><td>5</td><td> 9</td><td>13</td><td>17</td></tr>\n",
       "\t<tr><th scope=row></th><td>2</td><td>6</td><td>10</td><td>14</td><td>18</td></tr>\n",
       "\t<tr><th scope=row></th><td>3</td><td>7</td><td>11</td><td>15</td><td>19</td></tr>\n",
       "\t<tr><th scope=row></th><td>4</td><td>8</td><td>12</td><td>16</td><td>20</td></tr>\n",
       "</tbody>\n",
       "</table>\n"
      ],
      "text/latex": [
       "A matrix: 6 × 5 of type int\n",
       "\\begin{tabular}{r|lllll}\n",
       "\tx & 1 & 2 &  3 &  4 &  1\\\\\n",
       "\ty & 5 & 6 &  7 &  8 &  5\\\\\n",
       "\t & 1 & 5 &  9 & 13 & 17\\\\\n",
       "\t & 2 & 6 & 10 & 14 & 18\\\\\n",
       "\t & 3 & 7 & 11 & 15 & 19\\\\\n",
       "\t & 4 & 8 & 12 & 16 & 20\\\\\n",
       "\\end{tabular}\n"
      ],
      "text/markdown": [
       "\n",
       "A matrix: 6 × 5 of type int\n",
       "\n",
       "| x | 1 | 2 |  3 |  4 |  1 |\n",
       "| y | 5 | 6 |  7 |  8 |  5 |\n",
       "| <!----> | 1 | 5 |  9 | 13 | 17 |\n",
       "| <!----> | 2 | 6 | 10 | 14 | 18 |\n",
       "| <!----> | 3 | 7 | 11 | 15 | 19 |\n",
       "| <!----> | 4 | 8 | 12 | 16 | 20 |\n",
       "\n"
      ],
      "text/plain": [
       "  [,1] [,2] [,3] [,4] [,5]\n",
       "x 1    2     3    4    1  \n",
       "y 5    6     7    8    5  \n",
       "  1    5     9   13   17  \n",
       "  2    6    10   14   18  \n",
       "  3    7    11   15   19  \n",
       "  4    8    12   16   20  "
      ]
     },
     "metadata": {},
     "output_type": "display_data"
    }
   ],
   "source": [
    "rbind(x, y, z)"
   ]
  },
  {
   "cell_type": "code",
   "execution_count": 34,
   "id": "2d574a52",
   "metadata": {},
   "outputs": [
    {
     "data": {
      "text/html": [
       "<table class=\"dataframe\">\n",
       "<caption>A matrix: 4 × 5 of type int</caption>\n",
       "<tbody>\n",
       "\t<tr><td>1</td><td>5</td><td> 9</td><td>13</td><td>17</td></tr>\n",
       "\t<tr><td>2</td><td>6</td><td>10</td><td>14</td><td>18</td></tr>\n",
       "\t<tr><td>3</td><td>7</td><td>11</td><td>15</td><td>19</td></tr>\n",
       "\t<tr><td>4</td><td>8</td><td>12</td><td>16</td><td>20</td></tr>\n",
       "</tbody>\n",
       "</table>\n"
      ],
      "text/latex": [
       "A matrix: 4 × 5 of type int\n",
       "\\begin{tabular}{lllll}\n",
       "\t 1 & 5 &  9 & 13 & 17\\\\\n",
       "\t 2 & 6 & 10 & 14 & 18\\\\\n",
       "\t 3 & 7 & 11 & 15 & 19\\\\\n",
       "\t 4 & 8 & 12 & 16 & 20\\\\\n",
       "\\end{tabular}\n"
      ],
      "text/markdown": [
       "\n",
       "A matrix: 4 × 5 of type int\n",
       "\n",
       "| 1 | 5 |  9 | 13 | 17 |\n",
       "| 2 | 6 | 10 | 14 | 18 |\n",
       "| 3 | 7 | 11 | 15 | 19 |\n",
       "| 4 | 8 | 12 | 16 | 20 |\n",
       "\n"
      ],
      "text/plain": [
       "     [,1] [,2] [,3] [,4] [,5]\n",
       "[1,] 1    5     9   13   17  \n",
       "[2,] 2    6    10   14   18  \n",
       "[3,] 3    7    11   15   19  \n",
       "[4,] 4    8    12   16   20  "
      ]
     },
     "metadata": {},
     "output_type": "display_data"
    }
   ],
   "source": [
    "z <- matrix(1:20, nrow=4, ncol=5)\n",
    "z"
   ]
  },
  {
   "cell_type": "code",
   "execution_count": 35,
   "id": "b43710d1",
   "metadata": {},
   "outputs": [
    {
     "data": {
      "text/html": [
       "<style>\n",
       ".list-inline {list-style: none; margin:0; padding: 0}\n",
       ".list-inline>li {display: inline-block}\n",
       ".list-inline>li:not(:last-child)::after {content: \"\\00b7\"; padding: 0 .5ex}\n",
       "</style>\n",
       "<ol class=list-inline><li>2</li><li>6</li><li>10</li></ol>\n"
      ],
      "text/latex": [
       "\\begin{enumerate*}\n",
       "\\item 2\n",
       "\\item 6\n",
       "\\item 10\n",
       "\\end{enumerate*}\n"
      ],
      "text/markdown": [
       "1. 2\n",
       "2. 6\n",
       "3. 10\n",
       "\n",
       "\n"
      ],
      "text/plain": [
       "[1]  2  6 10"
      ]
     },
     "metadata": {},
     "output_type": "display_data"
    }
   ],
   "source": [
    "z[2, 1:3]"
   ]
  },
  {
   "cell_type": "code",
   "execution_count": 36,
   "id": "40126238",
   "metadata": {},
   "outputs": [
    {
     "data": {
      "text/html": [
       "<style>\n",
       ".list-inline {list-style: none; margin:0; padding: 0}\n",
       ".list-inline>li {display: inline-block}\n",
       ".list-inline>li:not(:last-child)::after {content: \"\\00b7\"; padding: 0 .5ex}\n",
       "</style>\n",
       "<ol class=list-inline><li>1</li><li>5</li><li>13</li></ol>\n"
      ],
      "text/latex": [
       "\\begin{enumerate*}\n",
       "\\item 1\n",
       "\\item 5\n",
       "\\item 13\n",
       "\\end{enumerate*}\n"
      ],
      "text/markdown": [
       "1. 1\n",
       "2. 5\n",
       "3. 13\n",
       "\n",
       "\n"
      ],
      "text/plain": [
       "[1]  1  5 13"
      ]
     },
     "metadata": {},
     "output_type": "display_data"
    }
   ],
   "source": [
    "z[1, c(1, 2, 4)]"
   ]
  },
  {
   "cell_type": "code",
   "execution_count": 37,
   "id": "136ebd86",
   "metadata": {},
   "outputs": [
    {
     "data": {
      "text/html": [
       "<style>\n",
       ".list-inline {list-style: none; margin:0; padding: 0}\n",
       ".list-inline>li {display: inline-block}\n",
       ".list-inline>li:not(:last-child)::after {content: \"\\00b7\"; padding: 0 .5ex}\n",
       "</style>\n",
       "<ol class=list-inline><li>1</li><li>2</li></ol>\n"
      ],
      "text/latex": [
       "\\begin{enumerate*}\n",
       "\\item 1\n",
       "\\item 2\n",
       "\\end{enumerate*}\n"
      ],
      "text/markdown": [
       "1. 1\n",
       "2. 2\n",
       "\n",
       "\n"
      ],
      "text/plain": [
       "[1] 1 2"
      ]
     },
     "metadata": {},
     "output_type": "display_data"
    }
   ],
   "source": [
    "z[1:2]"
   ]
  },
  {
   "cell_type": "code",
   "execution_count": 38,
   "id": "253c4db4",
   "metadata": {},
   "outputs": [
    {
     "data": {
      "text/html": [
       "<table class=\"dataframe\">\n",
       "<caption>A matrix: 2 × 5 of type int</caption>\n",
       "<tbody>\n",
       "\t<tr><td>1</td><td>5</td><td> 9</td><td>13</td><td>17</td></tr>\n",
       "\t<tr><td>2</td><td>6</td><td>10</td><td>14</td><td>18</td></tr>\n",
       "</tbody>\n",
       "</table>\n"
      ],
      "text/latex": [
       "A matrix: 2 × 5 of type int\n",
       "\\begin{tabular}{lllll}\n",
       "\t 1 & 5 &  9 & 13 & 17\\\\\n",
       "\t 2 & 6 & 10 & 14 & 18\\\\\n",
       "\\end{tabular}\n"
      ],
      "text/markdown": [
       "\n",
       "A matrix: 2 × 5 of type int\n",
       "\n",
       "| 1 | 5 |  9 | 13 | 17 |\n",
       "| 2 | 6 | 10 | 14 | 18 |\n",
       "\n"
      ],
      "text/plain": [
       "     [,1] [,2] [,3] [,4] [,5]\n",
       "[1,] 1    5     9   13   17  \n",
       "[2,] 2    6    10   14   18  "
      ]
     },
     "metadata": {},
     "output_type": "display_data"
    }
   ],
   "source": [
    "z[1:2,]"
   ]
  },
  {
   "cell_type": "code",
   "execution_count": 40,
   "id": "fe9a95bb",
   "metadata": {},
   "outputs": [
    {
     "data": {
      "text/html": [
       "<table class=\"dataframe\">\n",
       "<caption>A matrix: 4 × 2 of type int</caption>\n",
       "<tbody>\n",
       "\t<tr><td>1</td><td>13</td></tr>\n",
       "\t<tr><td>2</td><td>14</td></tr>\n",
       "\t<tr><td>3</td><td>15</td></tr>\n",
       "\t<tr><td>4</td><td>16</td></tr>\n",
       "</tbody>\n",
       "</table>\n"
      ],
      "text/latex": [
       "A matrix: 4 × 2 of type int\n",
       "\\begin{tabular}{ll}\n",
       "\t 1 & 13\\\\\n",
       "\t 2 & 14\\\\\n",
       "\t 3 & 15\\\\\n",
       "\t 4 & 16\\\\\n",
       "\\end{tabular}\n"
      ],
      "text/markdown": [
       "\n",
       "A matrix: 4 × 2 of type int\n",
       "\n",
       "| 1 | 13 |\n",
       "| 2 | 14 |\n",
       "| 3 | 15 |\n",
       "| 4 | 16 |\n",
       "\n"
      ],
      "text/plain": [
       "     [,1] [,2]\n",
       "[1,] 1    13  \n",
       "[2,] 2    14  \n",
       "[3,] 3    15  \n",
       "[4,] 4    16  "
      ]
     },
     "metadata": {},
     "output_type": "display_data"
    }
   ],
   "source": [
    "z[, c(1, 4)]"
   ]
  },
  {
   "cell_type": "code",
   "execution_count": 42,
   "id": "e66f596f",
   "metadata": {},
   "outputs": [],
   "source": [
    "score <- matrix(c(90, 85, 69, 78, 85, 96, 49, 95, 90, 80, 70, 60), nrow=4)"
   ]
  },
  {
   "cell_type": "code",
   "execution_count": 43,
   "id": "ad3414c6",
   "metadata": {},
   "outputs": [
    {
     "data": {
      "text/html": [
       "<table class=\"dataframe\">\n",
       "<caption>A matrix: 4 × 3 of type dbl</caption>\n",
       "<tbody>\n",
       "\t<tr><td>90</td><td>85</td><td>90</td></tr>\n",
       "\t<tr><td>85</td><td>96</td><td>80</td></tr>\n",
       "\t<tr><td>69</td><td>49</td><td>70</td></tr>\n",
       "\t<tr><td>78</td><td>95</td><td>60</td></tr>\n",
       "</tbody>\n",
       "</table>\n"
      ],
      "text/latex": [
       "A matrix: 4 × 3 of type dbl\n",
       "\\begin{tabular}{lll}\n",
       "\t 90 & 85 & 90\\\\\n",
       "\t 85 & 96 & 80\\\\\n",
       "\t 69 & 49 & 70\\\\\n",
       "\t 78 & 95 & 60\\\\\n",
       "\\end{tabular}\n"
      ],
      "text/markdown": [
       "\n",
       "A matrix: 4 × 3 of type dbl\n",
       "\n",
       "| 90 | 85 | 90 |\n",
       "| 85 | 96 | 80 |\n",
       "| 69 | 49 | 70 |\n",
       "| 78 | 95 | 60 |\n",
       "\n"
      ],
      "text/plain": [
       "     [,1] [,2] [,3]\n",
       "[1,] 90   85   90  \n",
       "[2,] 85   96   80  \n",
       "[3,] 69   49   70  \n",
       "[4,] 78   95   60  "
      ]
     },
     "metadata": {},
     "output_type": "display_data"
    }
   ],
   "source": [
    "score"
   ]
  },
  {
   "cell_type": "code",
   "execution_count": 44,
   "id": "b8871d04",
   "metadata": {},
   "outputs": [],
   "source": [
    "rownames(score) <- c('John', 'Tom', 'Mark', 'Jane')"
   ]
  },
  {
   "cell_type": "code",
   "execution_count": 45,
   "id": "f68121d1",
   "metadata": {},
   "outputs": [],
   "source": [
    "colnames(score) <- c('English', 'Math', 'Science')"
   ]
  },
  {
   "cell_type": "code",
   "execution_count": 46,
   "id": "31ebcf72",
   "metadata": {},
   "outputs": [
    {
     "data": {
      "text/html": [
       "<table class=\"dataframe\">\n",
       "<caption>A matrix: 4 × 3 of type dbl</caption>\n",
       "<thead>\n",
       "\t<tr><th></th><th scope=col>English</th><th scope=col>Math</th><th scope=col>Science</th></tr>\n",
       "</thead>\n",
       "<tbody>\n",
       "\t<tr><th scope=row>John</th><td>90</td><td>85</td><td>90</td></tr>\n",
       "\t<tr><th scope=row>Tom</th><td>85</td><td>96</td><td>80</td></tr>\n",
       "\t<tr><th scope=row>Mark</th><td>69</td><td>49</td><td>70</td></tr>\n",
       "\t<tr><th scope=row>Jane</th><td>78</td><td>95</td><td>60</td></tr>\n",
       "</tbody>\n",
       "</table>\n"
      ],
      "text/latex": [
       "A matrix: 4 × 3 of type dbl\n",
       "\\begin{tabular}{r|lll}\n",
       "  & English & Math & Science\\\\\n",
       "\\hline\n",
       "\tJohn & 90 & 85 & 90\\\\\n",
       "\tTom & 85 & 96 & 80\\\\\n",
       "\tMark & 69 & 49 & 70\\\\\n",
       "\tJane & 78 & 95 & 60\\\\\n",
       "\\end{tabular}\n"
      ],
      "text/markdown": [
       "\n",
       "A matrix: 4 × 3 of type dbl\n",
       "\n",
       "| <!--/--> | English | Math | Science |\n",
       "|---|---|---|---|\n",
       "| John | 90 | 85 | 90 |\n",
       "| Tom | 85 | 96 | 80 |\n",
       "| Mark | 69 | 49 | 70 |\n",
       "| Jane | 78 | 95 | 60 |\n",
       "\n"
      ],
      "text/plain": [
       "     English Math Science\n",
       "John 90      85   90     \n",
       "Tom  85      96   80     \n",
       "Mark 69      49   70     \n",
       "Jane 78      95   60     "
      ]
     },
     "metadata": {},
     "output_type": "display_data"
    }
   ],
   "source": [
    "score"
   ]
  }
 ],
 "metadata": {
  "kernelspec": {
   "display_name": "R",
   "language": "R",
   "name": "ir"
  },
  "language_info": {
   "codemirror_mode": "r",
   "file_extension": ".r",
   "mimetype": "text/x-r-source",
   "name": "R",
   "pygments_lexer": "r",
   "version": "4.3.1"
  }
 },
 "nbformat": 4,
 "nbformat_minor": 5
}
