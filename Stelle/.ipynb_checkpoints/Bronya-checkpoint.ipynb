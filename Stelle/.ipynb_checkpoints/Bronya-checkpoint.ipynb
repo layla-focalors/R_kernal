{
 "cells": [
  {
   "cell_type": "code",
   "execution_count": 2,
   "id": "e1805d57",
   "metadata": {},
   "outputs": [
    {
     "data": {
      "text/html": [
       "<table class=\"dataframe\">\n",
       "<caption>A matrix: 4 × 3 of type dbl</caption>\n",
       "<tbody>\n",
       "\t<tr><td>90</td><td>85</td><td>90</td></tr>\n",
       "\t<tr><td>85</td><td>96</td><td>80</td></tr>\n",
       "\t<tr><td>69</td><td>49</td><td>70</td></tr>\n",
       "\t<tr><td>78</td><td>95</td><td>60</td></tr>\n",
       "</tbody>\n",
       "</table>\n"
      ],
      "text/latex": [
       "A matrix: 4 × 3 of type dbl\n",
       "\\begin{tabular}{lll}\n",
       "\t 90 & 85 & 90\\\\\n",
       "\t 85 & 96 & 80\\\\\n",
       "\t 69 & 49 & 70\\\\\n",
       "\t 78 & 95 & 60\\\\\n",
       "\\end{tabular}\n"
      ],
      "text/markdown": [
       "\n",
       "A matrix: 4 × 3 of type dbl\n",
       "\n",
       "| 90 | 85 | 90 |\n",
       "| 85 | 96 | 80 |\n",
       "| 69 | 49 | 70 |\n",
       "| 78 | 95 | 60 |\n",
       "\n"
      ],
      "text/plain": [
       "     [,1] [,2] [,3]\n",
       "[1,] 90   85   90  \n",
       "[2,] 85   96   80  \n",
       "[3,] 69   49   70  \n",
       "[4,] 78   95   60  "
      ]
     },
     "metadata": {},
     "output_type": "display_data"
    }
   ],
   "source": [
    "m <- matrix(c(90, 85, 90, 85, 96, 80, 69, 49, 70, 78, 95, 60), nrow=4, byrow=T)\n",
    "m "
   ]
  },
  {
   "cell_type": "code",
   "execution_count": 3,
   "id": "6f8392cd",
   "metadata": {},
   "outputs": [],
   "source": [
    "rownames(m) <- c('John', 'Tom', 'Mark', 'Jane')\n",
    "colnames(m) <- c('English', 'Math', 'Science')"
   ]
  },
  {
   "cell_type": "code",
   "execution_count": 4,
   "id": "d6c77b2b",
   "metadata": {},
   "outputs": [
    {
     "data": {
      "text/html": [
       "<table class=\"dataframe\">\n",
       "<caption>A matrix: 4 × 3 of type dbl</caption>\n",
       "<thead>\n",
       "\t<tr><th></th><th scope=col>English</th><th scope=col>Math</th><th scope=col>Science</th></tr>\n",
       "</thead>\n",
       "<tbody>\n",
       "\t<tr><th scope=row>John</th><td>90</td><td>85</td><td>90</td></tr>\n",
       "\t<tr><th scope=row>Tom</th><td>85</td><td>96</td><td>80</td></tr>\n",
       "\t<tr><th scope=row>Mark</th><td>69</td><td>49</td><td>70</td></tr>\n",
       "\t<tr><th scope=row>Jane</th><td>78</td><td>95</td><td>60</td></tr>\n",
       "</tbody>\n",
       "</table>\n"
      ],
      "text/latex": [
       "A matrix: 4 × 3 of type dbl\n",
       "\\begin{tabular}{r|lll}\n",
       "  & English & Math & Science\\\\\n",
       "\\hline\n",
       "\tJohn & 90 & 85 & 90\\\\\n",
       "\tTom & 85 & 96 & 80\\\\\n",
       "\tMark & 69 & 49 & 70\\\\\n",
       "\tJane & 78 & 95 & 60\\\\\n",
       "\\end{tabular}\n"
      ],
      "text/markdown": [
       "\n",
       "A matrix: 4 × 3 of type dbl\n",
       "\n",
       "| <!--/--> | English | Math | Science |\n",
       "|---|---|---|---|\n",
       "| John | 90 | 85 | 90 |\n",
       "| Tom | 85 | 96 | 80 |\n",
       "| Mark | 69 | 49 | 70 |\n",
       "| Jane | 78 | 95 | 60 |\n",
       "\n"
      ],
      "text/plain": [
       "     English Math Science\n",
       "John 90      85   90     \n",
       "Tom  85      96   80     \n",
       "Mark 69      49   70     \n",
       "Jane 78      95   60     "
      ]
     },
     "metadata": {},
     "output_type": "display_data"
    }
   ],
   "source": [
    "m"
   ]
  },
  {
   "cell_type": "code",
   "execution_count": 5,
   "id": "62bbb987",
   "metadata": {},
   "outputs": [],
   "source": [
    "m <- data.frame(m)"
   ]
  },
  {
   "cell_type": "code",
   "execution_count": 6,
   "id": "475311b3",
   "metadata": {},
   "outputs": [
    {
     "data": {
      "text/html": [
       "<table class=\"dataframe\">\n",
       "<caption>A data.frame: 4 × 3</caption>\n",
       "<thead>\n",
       "\t<tr><th></th><th scope=col>English</th><th scope=col>Math</th><th scope=col>Science</th></tr>\n",
       "\t<tr><th></th><th scope=col>&lt;dbl&gt;</th><th scope=col>&lt;dbl&gt;</th><th scope=col>&lt;dbl&gt;</th></tr>\n",
       "</thead>\n",
       "<tbody>\n",
       "\t<tr><th scope=row>John</th><td>90</td><td>85</td><td>90</td></tr>\n",
       "\t<tr><th scope=row>Tom</th><td>85</td><td>96</td><td>80</td></tr>\n",
       "\t<tr><th scope=row>Mark</th><td>69</td><td>49</td><td>70</td></tr>\n",
       "\t<tr><th scope=row>Jane</th><td>78</td><td>95</td><td>60</td></tr>\n",
       "</tbody>\n",
       "</table>\n"
      ],
      "text/latex": [
       "A data.frame: 4 × 3\n",
       "\\begin{tabular}{r|lll}\n",
       "  & English & Math & Science\\\\\n",
       "  & <dbl> & <dbl> & <dbl>\\\\\n",
       "\\hline\n",
       "\tJohn & 90 & 85 & 90\\\\\n",
       "\tTom & 85 & 96 & 80\\\\\n",
       "\tMark & 69 & 49 & 70\\\\\n",
       "\tJane & 78 & 95 & 60\\\\\n",
       "\\end{tabular}\n"
      ],
      "text/markdown": [
       "\n",
       "A data.frame: 4 × 3\n",
       "\n",
       "| <!--/--> | English &lt;dbl&gt; | Math &lt;dbl&gt; | Science &lt;dbl&gt; |\n",
       "|---|---|---|---|\n",
       "| John | 90 | 85 | 90 |\n",
       "| Tom | 85 | 96 | 80 |\n",
       "| Mark | 69 | 49 | 70 |\n",
       "| Jane | 78 | 95 | 60 |\n",
       "\n"
      ],
      "text/plain": [
       "     English Math Science\n",
       "John 90      85   90     \n",
       "Tom  85      96   80     \n",
       "Mark 69      49   70     \n",
       "Jane 78      95   60     "
      ]
     },
     "metadata": {},
     "output_type": "display_data"
    }
   ],
   "source": [
    "m"
   ]
  },
  {
   "cell_type": "code",
   "execution_count": 9,
   "id": "51e55797",
   "metadata": {},
   "outputs": [
    {
     "data": {
      "text/html": [
       "85"
      ],
      "text/latex": [
       "85"
      ],
      "text/markdown": [
       "85"
      ],
      "text/plain": [
       "[1] 85"
      ]
     },
     "metadata": {},
     "output_type": "display_data"
    }
   ],
   "source": [
    "m['John', 'Math']"
   ]
  },
  {
   "cell_type": "code",
   "execution_count": 10,
   "id": "cc59d6aa",
   "metadata": {},
   "outputs": [
    {
     "data": {
      "text/html": [
       "<table class=\"dataframe\">\n",
       "<caption>A data.frame: 1 × 2</caption>\n",
       "<thead>\n",
       "\t<tr><th></th><th scope=col>Science</th><th scope=col>Math</th></tr>\n",
       "\t<tr><th></th><th scope=col>&lt;dbl&gt;</th><th scope=col>&lt;dbl&gt;</th></tr>\n",
       "</thead>\n",
       "<tbody>\n",
       "\t<tr><th scope=row>Tom</th><td>80</td><td>96</td></tr>\n",
       "</tbody>\n",
       "</table>\n"
      ],
      "text/latex": [
       "A data.frame: 1 × 2\n",
       "\\begin{tabular}{r|ll}\n",
       "  & Science & Math\\\\\n",
       "  & <dbl> & <dbl>\\\\\n",
       "\\hline\n",
       "\tTom & 80 & 96\\\\\n",
       "\\end{tabular}\n"
      ],
      "text/markdown": [
       "\n",
       "A data.frame: 1 × 2\n",
       "\n",
       "| <!--/--> | Science &lt;dbl&gt; | Math &lt;dbl&gt; |\n",
       "|---|---|---|\n",
       "| Tom | 80 | 96 |\n",
       "\n"
      ],
      "text/plain": [
       "    Science Math\n",
       "Tom 80      96  "
      ]
     },
     "metadata": {},
     "output_type": "display_data"
    }
   ],
   "source": [
    "m['Tom', c('Science', 'Math')]"
   ]
  },
  {
   "cell_type": "code",
   "execution_count": 11,
   "id": "f895f862",
   "metadata": {},
   "outputs": [
    {
     "data": {
      "text/html": [
       "<table class=\"dataframe\">\n",
       "<caption>A data.frame: 1 × 3</caption>\n",
       "<thead>\n",
       "\t<tr><th></th><th scope=col>English</th><th scope=col>Math</th><th scope=col>Science</th></tr>\n",
       "\t<tr><th></th><th scope=col>&lt;dbl&gt;</th><th scope=col>&lt;dbl&gt;</th><th scope=col>&lt;dbl&gt;</th></tr>\n",
       "</thead>\n",
       "<tbody>\n",
       "\t<tr><th scope=row>Mark</th><td>69</td><td>49</td><td>70</td></tr>\n",
       "</tbody>\n",
       "</table>\n"
      ],
      "text/latex": [
       "A data.frame: 1 × 3\n",
       "\\begin{tabular}{r|lll}\n",
       "  & English & Math & Science\\\\\n",
       "  & <dbl> & <dbl> & <dbl>\\\\\n",
       "\\hline\n",
       "\tMark & 69 & 49 & 70\\\\\n",
       "\\end{tabular}\n"
      ],
      "text/markdown": [
       "\n",
       "A data.frame: 1 × 3\n",
       "\n",
       "| <!--/--> | English &lt;dbl&gt; | Math &lt;dbl&gt; | Science &lt;dbl&gt; |\n",
       "|---|---|---|---|\n",
       "| Mark | 69 | 49 | 70 |\n",
       "\n"
      ],
      "text/plain": [
       "     English Math Science\n",
       "Mark 69      49   70     "
      ]
     },
     "metadata": {},
     "output_type": "display_data"
    }
   ],
   "source": [
    "m['Mark', ]"
   ]
  },
  {
   "cell_type": "code",
   "execution_count": 12,
   "id": "f65df720",
   "metadata": {},
   "outputs": [
    {
     "data": {
      "text/html": [
       "<style>\n",
       ".list-inline {list-style: none; margin:0; padding: 0}\n",
       ".list-inline>li {display: inline-block}\n",
       ".list-inline>li:not(:last-child)::after {content: \"\\00b7\"; padding: 0 .5ex}\n",
       "</style>\n",
       "<ol class=list-inline><li>90</li><li>85</li><li>69</li><li>78</li></ol>\n"
      ],
      "text/latex": [
       "\\begin{enumerate*}\n",
       "\\item 90\n",
       "\\item 85\n",
       "\\item 69\n",
       "\\item 78\n",
       "\\end{enumerate*}\n"
      ],
      "text/markdown": [
       "1. 90\n",
       "2. 85\n",
       "3. 69\n",
       "4. 78\n",
       "\n",
       "\n"
      ],
      "text/plain": [
       "[1] 90 85 69 78"
      ]
     },
     "metadata": {},
     "output_type": "display_data"
    }
   ],
   "source": [
    "m[, 'English']"
   ]
  },
  {
   "cell_type": "code",
   "execution_count": 13,
   "id": "685d5551",
   "metadata": {},
   "outputs": [
    {
     "data": {
      "text/html": [
       "<style>\n",
       ".list-inline {list-style: none; margin:0; padding: 0}\n",
       ".list-inline>li {display: inline-block}\n",
       ".list-inline>li:not(:last-child)::after {content: \"\\00b7\"; padding: 0 .5ex}\n",
       "</style>\n",
       "<ol class=list-inline><li>'John'</li><li>'Tom'</li><li>'Mark'</li><li>'Jane'</li></ol>\n"
      ],
      "text/latex": [
       "\\begin{enumerate*}\n",
       "\\item 'John'\n",
       "\\item 'Tom'\n",
       "\\item 'Mark'\n",
       "\\item 'Jane'\n",
       "\\end{enumerate*}\n"
      ],
      "text/markdown": [
       "1. 'John'\n",
       "2. 'Tom'\n",
       "3. 'Mark'\n",
       "4. 'Jane'\n",
       "\n",
       "\n"
      ],
      "text/plain": [
       "[1] \"John\" \"Tom\"  \"Mark\" \"Jane\""
      ]
     },
     "metadata": {},
     "output_type": "display_data"
    }
   ],
   "source": [
    "rownames(m)"
   ]
  },
  {
   "cell_type": "code",
   "execution_count": 15,
   "id": "3b045326",
   "metadata": {},
   "outputs": [
    {
     "data": {
      "text/html": [
       "<style>\n",
       ".list-inline {list-style: none; margin:0; padding: 0}\n",
       ".list-inline>li {display: inline-block}\n",
       ".list-inline>li:not(:last-child)::after {content: \"\\00b7\"; padding: 0 .5ex}\n",
       "</style>\n",
       "<ol class=list-inline><li>'English'</li><li>'Math'</li><li>'Science'</li></ol>\n"
      ],
      "text/latex": [
       "\\begin{enumerate*}\n",
       "\\item 'English'\n",
       "\\item 'Math'\n",
       "\\item 'Science'\n",
       "\\end{enumerate*}\n"
      ],
      "text/markdown": [
       "1. 'English'\n",
       "2. 'Math'\n",
       "3. 'Science'\n",
       "\n",
       "\n"
      ],
      "text/plain": [
       "[1] \"English\" \"Math\"    \"Science\""
      ]
     },
     "metadata": {},
     "output_type": "display_data"
    }
   ],
   "source": [
    "colnames(m)"
   ]
  },
  {
   "cell_type": "code",
   "execution_count": 16,
   "id": "5e4edd70",
   "metadata": {},
   "outputs": [
    {
     "data": {
      "text/html": [
       "'Math'"
      ],
      "text/latex": [
       "'Math'"
      ],
      "text/markdown": [
       "'Math'"
      ],
      "text/plain": [
       "[1] \"Math\""
      ]
     },
     "metadata": {},
     "output_type": "display_data"
    }
   ],
   "source": [
    "colnames(m)[2]"
   ]
  },
  {
   "cell_type": "code",
   "execution_count": 20,
   "id": "a34dc2b1",
   "metadata": {},
   "outputs": [],
   "source": [
    "brand <- c('M', 'L', 'B')\n",
    "kcal <- c(514, 533, 566)\n",
    "na <- c(917, 853, 888)\n",
    "fat <- c(11, 13, 10)\n",
    "burger <- data.frame(brand, kcal, na, fat)"
   ]
  },
  {
   "cell_type": "code",
   "execution_count": 21,
   "id": "15f09509",
   "metadata": {},
   "outputs": [
    {
     "data": {
      "text/html": [
       "<table class=\"dataframe\">\n",
       "<caption>A data.frame: 3 × 4</caption>\n",
       "<thead>\n",
       "\t<tr><th scope=col>brand</th><th scope=col>kcal</th><th scope=col>na</th><th scope=col>fat</th></tr>\n",
       "\t<tr><th scope=col>&lt;chr&gt;</th><th scope=col>&lt;dbl&gt;</th><th scope=col>&lt;dbl&gt;</th><th scope=col>&lt;dbl&gt;</th></tr>\n",
       "</thead>\n",
       "<tbody>\n",
       "\t<tr><td>M</td><td>514</td><td>917</td><td>11</td></tr>\n",
       "\t<tr><td>L</td><td>533</td><td>853</td><td>13</td></tr>\n",
       "\t<tr><td>B</td><td>566</td><td>888</td><td>10</td></tr>\n",
       "</tbody>\n",
       "</table>\n"
      ],
      "text/latex": [
       "A data.frame: 3 × 4\n",
       "\\begin{tabular}{llll}\n",
       " brand & kcal & na & fat\\\\\n",
       " <chr> & <dbl> & <dbl> & <dbl>\\\\\n",
       "\\hline\n",
       "\t M & 514 & 917 & 11\\\\\n",
       "\t L & 533 & 853 & 13\\\\\n",
       "\t B & 566 & 888 & 10\\\\\n",
       "\\end{tabular}\n"
      ],
      "text/markdown": [
       "\n",
       "A data.frame: 3 × 4\n",
       "\n",
       "| brand &lt;chr&gt; | kcal &lt;dbl&gt; | na &lt;dbl&gt; | fat &lt;dbl&gt; |\n",
       "|---|---|---|---|\n",
       "| M | 514 | 917 | 11 |\n",
       "| L | 533 | 853 | 13 |\n",
       "| B | 566 | 888 | 10 |\n",
       "\n"
      ],
      "text/plain": [
       "  brand kcal na  fat\n",
       "1 M     514  917 11 \n",
       "2 L     533  853 13 \n",
       "3 B     566  888 10 "
      ]
     },
     "metadata": {},
     "output_type": "display_data"
    }
   ],
   "source": [
    "burger"
   ]
  },
  {
   "cell_type": "code",
   "execution_count": 22,
   "id": "ddedc5e8",
   "metadata": {},
   "outputs": [],
   "source": [
    "colnames(burger) <- c('브랜드', '열량', '나트륨', '포화지방')"
   ]
  },
  {
   "cell_type": "code",
   "execution_count": 23,
   "id": "5c3d485b",
   "metadata": {},
   "outputs": [
    {
     "data": {
      "text/html": [
       "<table class=\"dataframe\">\n",
       "<caption>A data.frame: 3 × 4</caption>\n",
       "<thead>\n",
       "\t<tr><th scope=col>브랜드</th><th scope=col>열량</th><th scope=col>나트륨</th><th scope=col>포화지방</th></tr>\n",
       "\t<tr><th scope=col>&lt;chr&gt;</th><th scope=col>&lt;dbl&gt;</th><th scope=col>&lt;dbl&gt;</th><th scope=col>&lt;dbl&gt;</th></tr>\n",
       "</thead>\n",
       "<tbody>\n",
       "\t<tr><td>M</td><td>514</td><td>917</td><td>11</td></tr>\n",
       "\t<tr><td>L</td><td>533</td><td>853</td><td>13</td></tr>\n",
       "\t<tr><td>B</td><td>566</td><td>888</td><td>10</td></tr>\n",
       "</tbody>\n",
       "</table>\n"
      ],
      "text/latex": [
       "A data.frame: 3 × 4\n",
       "\\begin{tabular}{llll}\n",
       " 브랜드 & 열량 & 나트륨 & 포화지방\\\\\n",
       " <chr> & <dbl> & <dbl> & <dbl>\\\\\n",
       "\\hline\n",
       "\t M & 514 & 917 & 11\\\\\n",
       "\t L & 533 & 853 & 13\\\\\n",
       "\t B & 566 & 888 & 10\\\\\n",
       "\\end{tabular}\n"
      ],
      "text/markdown": [
       "\n",
       "A data.frame: 3 × 4\n",
       "\n",
       "| 브랜드 &lt;chr&gt; | 열량 &lt;dbl&gt; | 나트륨 &lt;dbl&gt; | 포화지방 &lt;dbl&gt; |\n",
       "|---|---|---|---|\n",
       "| M | 514 | 917 | 11 |\n",
       "| L | 533 | 853 | 13 |\n",
       "| B | 566 | 888 | 10 |\n",
       "\n"
      ],
      "text/plain": [
       "  브랜드 열량 나트륨 포화지방\n",
       "1 M      514  917    11      \n",
       "2 L      533  853    13      \n",
       "3 B      566  888    10      "
      ]
     },
     "metadata": {},
     "output_type": "display_data"
    }
   ],
   "source": [
    "burger"
   ]
  },
  {
   "cell_type": "code",
   "execution_count": 28,
   "id": "4704f37e",
   "metadata": {},
   "outputs": [
    {
     "data": {
      "text/html": [
       "917"
      ],
      "text/latex": [
       "917"
      ],
      "text/markdown": [
       "917"
      ],
      "text/plain": [
       "[1] 917"
      ]
     },
     "metadata": {},
     "output_type": "display_data"
    }
   ],
   "source": [
    "burger[burger['브랜드'] == 'M', '나트륨']"
   ]
  },
  {
   "cell_type": "code",
   "execution_count": 29,
   "id": "f8927997",
   "metadata": {},
   "outputs": [
    {
     "data": {
      "text/html": [
       "<table class=\"dataframe\">\n",
       "<caption>A data.frame: 1 × 4</caption>\n",
       "<thead>\n",
       "\t<tr><th></th><th scope=col>브랜드</th><th scope=col>열량</th><th scope=col>나트륨</th><th scope=col>포화지방</th></tr>\n",
       "\t<tr><th></th><th scope=col>&lt;chr&gt;</th><th scope=col>&lt;dbl&gt;</th><th scope=col>&lt;dbl&gt;</th><th scope=col>&lt;dbl&gt;</th></tr>\n",
       "</thead>\n",
       "<tbody>\n",
       "\t<tr><th scope=row>1</th><td>M</td><td>514</td><td>917</td><td>11</td></tr>\n",
       "</tbody>\n",
       "</table>\n"
      ],
      "text/latex": [
       "A data.frame: 1 × 4\n",
       "\\begin{tabular}{r|llll}\n",
       "  & 브랜드 & 열량 & 나트륨 & 포화지방\\\\\n",
       "  & <chr> & <dbl> & <dbl> & <dbl>\\\\\n",
       "\\hline\n",
       "\t1 & M & 514 & 917 & 11\\\\\n",
       "\\end{tabular}\n"
      ],
      "text/markdown": [
       "\n",
       "A data.frame: 1 × 4\n",
       "\n",
       "| <!--/--> | 브랜드 &lt;chr&gt; | 열량 &lt;dbl&gt; | 나트륨 &lt;dbl&gt; | 포화지방 &lt;dbl&gt; |\n",
       "|---|---|---|---|---|\n",
       "| 1 | M | 514 | 917 | 11 |\n",
       "\n"
      ],
      "text/plain": [
       "  브랜드 열량 나트륨 포화지방\n",
       "1 M      514  917    11      "
      ]
     },
     "metadata": {},
     "output_type": "display_data"
    }
   ],
   "source": [
    "burger[burger['브랜드'] == 'M', ]"
   ]
  },
  {
   "cell_type": "code",
   "execution_count": 31,
   "id": "d07e23df",
   "metadata": {},
   "outputs": [
    {
     "data": {
      "text/html": [
       "<table class=\"dataframe\">\n",
       "<caption>A data.frame: 3 × 1</caption>\n",
       "<thead>\n",
       "\t<tr><th scope=col>열량</th></tr>\n",
       "\t<tr><th scope=col>&lt;dbl&gt;</th></tr>\n",
       "</thead>\n",
       "<tbody>\n",
       "\t<tr><td>514</td></tr>\n",
       "\t<tr><td>533</td></tr>\n",
       "\t<tr><td>566</td></tr>\n",
       "</tbody>\n",
       "</table>\n"
      ],
      "text/latex": [
       "A data.frame: 3 × 1\n",
       "\\begin{tabular}{l}\n",
       " 열량\\\\\n",
       " <dbl>\\\\\n",
       "\\hline\n",
       "\t 514\\\\\n",
       "\t 533\\\\\n",
       "\t 566\\\\\n",
       "\\end{tabular}\n"
      ],
      "text/markdown": [
       "\n",
       "A data.frame: 3 × 1\n",
       "\n",
       "| 열량 &lt;dbl&gt; |\n",
       "|---|\n",
       "| 514 |\n",
       "| 533 |\n",
       "| 566 |\n",
       "\n"
      ],
      "text/plain": [
       "  열량\n",
       "1 514 \n",
       "2 533 \n",
       "3 566 "
      ]
     },
     "metadata": {},
     "output_type": "display_data"
    }
   ],
   "source": [
    "burger['열량']"
   ]
  }
 ],
 "metadata": {
  "kernelspec": {
   "display_name": "R",
   "language": "R",
   "name": "ir"
  },
  "language_info": {
   "codemirror_mode": "r",
   "file_extension": ".r",
   "mimetype": "text/x-r-source",
   "name": "R",
   "pygments_lexer": "r",
   "version": "4.3.1"
  }
 },
 "nbformat": 4,
 "nbformat_minor": 5
}
