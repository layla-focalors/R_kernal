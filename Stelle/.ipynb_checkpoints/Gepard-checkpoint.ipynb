{
 "cells": [
  {
   "cell_type": "code",
   "execution_count": 2,
   "id": "2448e16f",
   "metadata": {},
   "outputs": [],
   "source": [
    "df = mtcars"
   ]
  },
  {
   "cell_type": "code",
   "execution_count": 4,
   "id": "313fda47",
   "metadata": {},
   "outputs": [
    {
     "data": {
      "text/html": [
       "'data.frame'"
      ],
      "text/latex": [
       "'data.frame'"
      ],
      "text/markdown": [
       "'data.frame'"
      ],
      "text/plain": [
       "[1] \"data.frame\""
      ]
     },
     "metadata": {},
     "output_type": "display_data"
    }
   ],
   "source": [
    "class(mtcars)"
   ]
  },
  {
   "cell_type": "code",
   "execution_count": 3,
   "id": "8d05cfbc",
   "metadata": {},
   "outputs": [
    {
     "data": {
      "text/html": [
       "<table class=\"dataframe\">\n",
       "<caption>A data.frame: 6 × 11</caption>\n",
       "<thead>\n",
       "\t<tr><th></th><th scope=col>mpg</th><th scope=col>cyl</th><th scope=col>disp</th><th scope=col>hp</th><th scope=col>drat</th><th scope=col>wt</th><th scope=col>qsec</th><th scope=col>vs</th><th scope=col>am</th><th scope=col>gear</th><th scope=col>carb</th></tr>\n",
       "\t<tr><th></th><th scope=col>&lt;dbl&gt;</th><th scope=col>&lt;dbl&gt;</th><th scope=col>&lt;dbl&gt;</th><th scope=col>&lt;dbl&gt;</th><th scope=col>&lt;dbl&gt;</th><th scope=col>&lt;dbl&gt;</th><th scope=col>&lt;dbl&gt;</th><th scope=col>&lt;dbl&gt;</th><th scope=col>&lt;dbl&gt;</th><th scope=col>&lt;dbl&gt;</th><th scope=col>&lt;dbl&gt;</th></tr>\n",
       "</thead>\n",
       "<tbody>\n",
       "\t<tr><th scope=row>Mazda RX4</th><td>21.0</td><td>6</td><td>160</td><td>110</td><td>3.90</td><td>2.620</td><td>16.46</td><td>0</td><td>1</td><td>4</td><td>4</td></tr>\n",
       "\t<tr><th scope=row>Mazda RX4 Wag</th><td>21.0</td><td>6</td><td>160</td><td>110</td><td>3.90</td><td>2.875</td><td>17.02</td><td>0</td><td>1</td><td>4</td><td>4</td></tr>\n",
       "\t<tr><th scope=row>Datsun 710</th><td>22.8</td><td>4</td><td>108</td><td> 93</td><td>3.85</td><td>2.320</td><td>18.61</td><td>1</td><td>1</td><td>4</td><td>1</td></tr>\n",
       "\t<tr><th scope=row>Hornet 4 Drive</th><td>21.4</td><td>6</td><td>258</td><td>110</td><td>3.08</td><td>3.215</td><td>19.44</td><td>1</td><td>0</td><td>3</td><td>1</td></tr>\n",
       "\t<tr><th scope=row>Hornet Sportabout</th><td>18.7</td><td>8</td><td>360</td><td>175</td><td>3.15</td><td>3.440</td><td>17.02</td><td>0</td><td>0</td><td>3</td><td>2</td></tr>\n",
       "\t<tr><th scope=row>Valiant</th><td>18.1</td><td>6</td><td>225</td><td>105</td><td>2.76</td><td>3.460</td><td>20.22</td><td>1</td><td>0</td><td>3</td><td>1</td></tr>\n",
       "</tbody>\n",
       "</table>\n"
      ],
      "text/latex": [
       "A data.frame: 6 × 11\n",
       "\\begin{tabular}{r|lllllllllll}\n",
       "  & mpg & cyl & disp & hp & drat & wt & qsec & vs & am & gear & carb\\\\\n",
       "  & <dbl> & <dbl> & <dbl> & <dbl> & <dbl> & <dbl> & <dbl> & <dbl> & <dbl> & <dbl> & <dbl>\\\\\n",
       "\\hline\n",
       "\tMazda RX4 & 21.0 & 6 & 160 & 110 & 3.90 & 2.620 & 16.46 & 0 & 1 & 4 & 4\\\\\n",
       "\tMazda RX4 Wag & 21.0 & 6 & 160 & 110 & 3.90 & 2.875 & 17.02 & 0 & 1 & 4 & 4\\\\\n",
       "\tDatsun 710 & 22.8 & 4 & 108 &  93 & 3.85 & 2.320 & 18.61 & 1 & 1 & 4 & 1\\\\\n",
       "\tHornet 4 Drive & 21.4 & 6 & 258 & 110 & 3.08 & 3.215 & 19.44 & 1 & 0 & 3 & 1\\\\\n",
       "\tHornet Sportabout & 18.7 & 8 & 360 & 175 & 3.15 & 3.440 & 17.02 & 0 & 0 & 3 & 2\\\\\n",
       "\tValiant & 18.1 & 6 & 225 & 105 & 2.76 & 3.460 & 20.22 & 1 & 0 & 3 & 1\\\\\n",
       "\\end{tabular}\n"
      ],
      "text/markdown": [
       "\n",
       "A data.frame: 6 × 11\n",
       "\n",
       "| <!--/--> | mpg &lt;dbl&gt; | cyl &lt;dbl&gt; | disp &lt;dbl&gt; | hp &lt;dbl&gt; | drat &lt;dbl&gt; | wt &lt;dbl&gt; | qsec &lt;dbl&gt; | vs &lt;dbl&gt; | am &lt;dbl&gt; | gear &lt;dbl&gt; | carb &lt;dbl&gt; |\n",
       "|---|---|---|---|---|---|---|---|---|---|---|---|\n",
       "| Mazda RX4 | 21.0 | 6 | 160 | 110 | 3.90 | 2.620 | 16.46 | 0 | 1 | 4 | 4 |\n",
       "| Mazda RX4 Wag | 21.0 | 6 | 160 | 110 | 3.90 | 2.875 | 17.02 | 0 | 1 | 4 | 4 |\n",
       "| Datsun 710 | 22.8 | 4 | 108 |  93 | 3.85 | 2.320 | 18.61 | 1 | 1 | 4 | 1 |\n",
       "| Hornet 4 Drive | 21.4 | 6 | 258 | 110 | 3.08 | 3.215 | 19.44 | 1 | 0 | 3 | 1 |\n",
       "| Hornet Sportabout | 18.7 | 8 | 360 | 175 | 3.15 | 3.440 | 17.02 | 0 | 0 | 3 | 2 |\n",
       "| Valiant | 18.1 | 6 | 225 | 105 | 2.76 | 3.460 | 20.22 | 1 | 0 | 3 | 1 |\n",
       "\n"
      ],
      "text/plain": [
       "                  mpg  cyl disp hp  drat wt    qsec  vs am gear carb\n",
       "Mazda RX4         21.0 6   160  110 3.90 2.620 16.46 0  1  4    4   \n",
       "Mazda RX4 Wag     21.0 6   160  110 3.90 2.875 17.02 0  1  4    4   \n",
       "Datsun 710        22.8 4   108   93 3.85 2.320 18.61 1  1  4    1   \n",
       "Hornet 4 Drive    21.4 6   258  110 3.08 3.215 19.44 1  0  3    1   \n",
       "Hornet Sportabout 18.7 8   360  175 3.15 3.440 17.02 0  0  3    2   \n",
       "Valiant           18.1 6   225  105 2.76 3.460 20.22 1  0  3    1   "
      ]
     },
     "metadata": {},
     "output_type": "display_data"
    }
   ],
   "source": [
    "head(df)"
   ]
  },
  {
   "cell_type": "code",
   "execution_count": 5,
   "id": "22a57566",
   "metadata": {},
   "outputs": [
    {
     "data": {
      "text/html": [
       "<style>\n",
       ".list-inline {list-style: none; margin:0; padding: 0}\n",
       ".list-inline>li {display: inline-block}\n",
       ".list-inline>li:not(:last-child)::after {content: \"\\00b7\"; padding: 0 .5ex}\n",
       "</style>\n",
       "<ol class=list-inline><li>32</li><li>11</li></ol>\n"
      ],
      "text/latex": [
       "\\begin{enumerate*}\n",
       "\\item 32\n",
       "\\item 11\n",
       "\\end{enumerate*}\n"
      ],
      "text/markdown": [
       "1. 32\n",
       "2. 11\n",
       "\n",
       "\n"
      ],
      "text/plain": [
       "[1] 32 11"
      ]
     },
     "metadata": {},
     "output_type": "display_data"
    }
   ],
   "source": [
    "dim(df)"
   ]
  },
  {
   "cell_type": "code",
   "execution_count": 6,
   "id": "adace67b",
   "metadata": {},
   "outputs": [
    {
     "name": "stdout",
     "output_type": "stream",
     "text": [
      "'data.frame':\t32 obs. of  11 variables:\n",
      " $ mpg : num  21 21 22.8 21.4 18.7 18.1 14.3 24.4 22.8 19.2 ...\n",
      " $ cyl : num  6 6 4 6 8 6 8 4 4 6 ...\n",
      " $ disp: num  160 160 108 258 360 ...\n",
      " $ hp  : num  110 110 93 110 175 105 245 62 95 123 ...\n",
      " $ drat: num  3.9 3.9 3.85 3.08 3.15 2.76 3.21 3.69 3.92 3.92 ...\n",
      " $ wt  : num  2.62 2.88 2.32 3.21 3.44 ...\n",
      " $ qsec: num  16.5 17 18.6 19.4 17 ...\n",
      " $ vs  : num  0 0 1 1 0 1 0 1 1 1 ...\n",
      " $ am  : num  1 1 1 0 0 0 0 0 0 0 ...\n",
      " $ gear: num  4 4 4 3 3 3 3 4 4 4 ...\n",
      " $ carb: num  4 4 1 1 2 1 4 2 2 4 ...\n"
     ]
    }
   ],
   "source": [
    "str(df)"
   ]
  },
  {
   "cell_type": "code",
   "execution_count": 9,
   "id": "ab461d10",
   "metadata": {},
   "outputs": [
    {
     "data": {
      "text/html": [
       "'Toyota Corolla'"
      ],
      "text/latex": [
       "'Toyota Corolla'"
      ],
      "text/markdown": [
       "'Toyota Corolla'"
      ],
      "text/plain": [
       "[1] \"Toyota Corolla\""
      ]
     },
     "metadata": {},
     "output_type": "display_data"
    }
   ],
   "source": [
    "rownames(df[df['mpg'] == max(df['mpg']), ])"
   ]
  },
  {
   "cell_type": "code",
   "execution_count": 12,
   "id": "3feec3fd",
   "metadata": {},
   "outputs": [
    {
     "data": {
      "text/html": [
       "<style>\n",
       ".list-inline {list-style: none; margin:0; padding: 0}\n",
       ".list-inline>li {display: inline-block}\n",
       ".list-inline>li:not(:last-child)::after {content: \"\\00b7\"; padding: 0 .5ex}\n",
       "</style>\n",
       "<ol class=list-inline><li>'Cadillac Fleetwood'</li><li>'Lincoln Continental'</li></ol>\n"
      ],
      "text/latex": [
       "\\begin{enumerate*}\n",
       "\\item 'Cadillac Fleetwood'\n",
       "\\item 'Lincoln Continental'\n",
       "\\end{enumerate*}\n"
      ],
      "text/markdown": [
       "1. 'Cadillac Fleetwood'\n",
       "2. 'Lincoln Continental'\n",
       "\n",
       "\n"
      ],
      "text/plain": [
       "[1] \"Cadillac Fleetwood\"  \"Lincoln Continental\""
      ]
     },
     "metadata": {},
     "output_type": "display_data"
    }
   ],
   "source": [
    "rownames(df[df$gear == min(df$gear) & df$mpg == min(df$mpg), ])"
   ]
  },
  {
   "cell_type": "code",
   "execution_count": 15,
   "id": "d927e7b6",
   "metadata": {},
   "outputs": [
    {
     "data": {
      "text/html": [
       "<style>\n",
       ".list-inline {list-style: none; margin:0; padding: 0}\n",
       ".list-inline>li {display: inline-block}\n",
       ".list-inline>li:not(:last-child)::after {content: \"\\00b7\"; padding: 0 .5ex}\n",
       "</style>\n",
       "<ol class=list-inline><li>'Mazda RX4'</li><li>'Mazda RX4 Wag'</li><li>'Datsun 710'</li><li>'Hornet 4 Drive'</li><li>'Merc 240D'</li><li>'Merc 230'</li><li>'Fiat 128'</li><li>'Honda Civic'</li><li>'Toyota Corolla'</li><li>'Toyota Corona'</li><li>'Fiat X1-9'</li><li>'Porsche 914-2'</li><li>'Lotus Europa'</li><li>'Ferrari Dino'</li><li>'Volvo 142E'</li></ol>\n"
      ],
      "text/latex": [
       "\\begin{enumerate*}\n",
       "\\item 'Mazda RX4'\n",
       "\\item 'Mazda RX4 Wag'\n",
       "\\item 'Datsun 710'\n",
       "\\item 'Hornet 4 Drive'\n",
       "\\item 'Merc 240D'\n",
       "\\item 'Merc 230'\n",
       "\\item 'Fiat 128'\n",
       "\\item 'Honda Civic'\n",
       "\\item 'Toyota Corolla'\n",
       "\\item 'Toyota Corona'\n",
       "\\item 'Fiat X1-9'\n",
       "\\item 'Porsche 914-2'\n",
       "\\item 'Lotus Europa'\n",
       "\\item 'Ferrari Dino'\n",
       "\\item 'Volvo 142E'\n",
       "\\end{enumerate*}\n"
      ],
      "text/markdown": [
       "1. 'Mazda RX4'\n",
       "2. 'Mazda RX4 Wag'\n",
       "3. 'Datsun 710'\n",
       "4. 'Hornet 4 Drive'\n",
       "5. 'Merc 240D'\n",
       "6. 'Merc 230'\n",
       "7. 'Fiat 128'\n",
       "8. 'Honda Civic'\n",
       "9. 'Toyota Corolla'\n",
       "10. 'Toyota Corona'\n",
       "11. 'Fiat X1-9'\n",
       "12. 'Porsche 914-2'\n",
       "13. 'Lotus Europa'\n",
       "14. 'Ferrari Dino'\n",
       "15. 'Volvo 142E'\n",
       "\n",
       "\n"
      ],
      "text/plain": [
       " [1] \"Mazda RX4\"      \"Mazda RX4 Wag\"  \"Datsun 710\"     \"Hornet 4 Drive\"\n",
       " [5] \"Merc 240D\"      \"Merc 230\"       \"Fiat 128\"       \"Honda Civic\"   \n",
       " [9] \"Toyota Corolla\" \"Toyota Corona\"  \"Fiat X1-9\"      \"Porsche 914-2\" \n",
       "[13] \"Lotus Europa\"   \"Ferrari Dino\"   \"Volvo 142E\"    "
      ]
     },
     "metadata": {},
     "output_type": "display_data"
    }
   ],
   "source": [
    "rownames(df[df$mpg > df['Pontiac Firebird', 'mpg'], ])"
   ]
  },
  {
   "cell_type": "code",
   "execution_count": 16,
   "id": "7cabebdc",
   "metadata": {},
   "outputs": [
    {
     "data": {
      "text/html": [
       "20.090625"
      ],
      "text/latex": [
       "20.090625"
      ],
      "text/markdown": [
       "20.090625"
      ],
      "text/plain": [
       "[1] 20.09062"
      ]
     },
     "metadata": {},
     "output_type": "display_data"
    }
   ],
   "source": [
    "mean(df$mpg)"
   ]
  },
  {
   "cell_type": "code",
   "execution_count": 17,
   "id": "1dfbc41a",
   "metadata": {},
   "outputs": [
    {
     "data": {
      "text/html": [
       "<style>\n",
       ".list-inline {list-style: none; margin:0; padding: 0}\n",
       ".list-inline>li {display: inline-block}\n",
       ".list-inline>li:not(:last-child)::after {content: \"\\00b7\"; padding: 0 .5ex}\n",
       "</style>\n",
       "<ol class=list-inline><li>4</li><li>3</li><li>5</li></ol>\n"
      ],
      "text/latex": [
       "\\begin{enumerate*}\n",
       "\\item 4\n",
       "\\item 3\n",
       "\\item 5\n",
       "\\end{enumerate*}\n"
      ],
      "text/markdown": [
       "1. 4\n",
       "2. 3\n",
       "3. 5\n",
       "\n",
       "\n"
      ],
      "text/plain": [
       "[1] 4 3 5"
      ]
     },
     "metadata": {},
     "output_type": "display_data"
    }
   ],
   "source": [
    "unique(df$gear)"
   ]
  },
  {
   "cell_type": "code",
   "execution_count": 18,
   "id": "5c4a53af",
   "metadata": {},
   "outputs": [
    {
     "data": {
      "text/plain": [
       "NULL"
      ]
     },
     "metadata": {},
     "output_type": "display_data"
    }
   ],
   "source": [
    "levels(df$gear)"
   ]
  },
  {
   "cell_type": "code",
   "execution_count": 20,
   "id": "8f848534",
   "metadata": {},
   "outputs": [
    {
     "data": {
      "text/plain": [
       "\n",
       " 3  4  5 \n",
       "15 12  5 "
      ]
     },
     "metadata": {},
     "output_type": "display_data"
    }
   ],
   "source": [
    "table(df$gear)"
   ]
  },
  {
   "cell_type": "code",
   "execution_count": 21,
   "id": "16df3016",
   "metadata": {},
   "outputs": [],
   "source": [
    "df = airquality"
   ]
  },
  {
   "cell_type": "code",
   "execution_count": 22,
   "id": "199f7d4e",
   "metadata": {},
   "outputs": [
    {
     "data": {
      "text/html": [
       "'data.frame'"
      ],
      "text/latex": [
       "'data.frame'"
      ],
      "text/markdown": [
       "'data.frame'"
      ],
      "text/plain": [
       "[1] \"data.frame\""
      ]
     },
     "metadata": {},
     "output_type": "display_data"
    }
   ],
   "source": [
    "class(df)"
   ]
  },
  {
   "cell_type": "code",
   "execution_count": 23,
   "id": "01a78491",
   "metadata": {},
   "outputs": [
    {
     "data": {
      "text/html": [
       "<table class=\"dataframe\">\n",
       "<caption>A data.frame: 6 × 6</caption>\n",
       "<thead>\n",
       "\t<tr><th></th><th scope=col>Ozone</th><th scope=col>Solar.R</th><th scope=col>Wind</th><th scope=col>Temp</th><th scope=col>Month</th><th scope=col>Day</th></tr>\n",
       "\t<tr><th></th><th scope=col>&lt;int&gt;</th><th scope=col>&lt;int&gt;</th><th scope=col>&lt;dbl&gt;</th><th scope=col>&lt;int&gt;</th><th scope=col>&lt;int&gt;</th><th scope=col>&lt;int&gt;</th></tr>\n",
       "</thead>\n",
       "<tbody>\n",
       "\t<tr><th scope=row>1</th><td>41</td><td>190</td><td> 7.4</td><td>67</td><td>5</td><td>1</td></tr>\n",
       "\t<tr><th scope=row>2</th><td>36</td><td>118</td><td> 8.0</td><td>72</td><td>5</td><td>2</td></tr>\n",
       "\t<tr><th scope=row>3</th><td>12</td><td>149</td><td>12.6</td><td>74</td><td>5</td><td>3</td></tr>\n",
       "\t<tr><th scope=row>4</th><td>18</td><td>313</td><td>11.5</td><td>62</td><td>5</td><td>4</td></tr>\n",
       "\t<tr><th scope=row>5</th><td>NA</td><td> NA</td><td>14.3</td><td>56</td><td>5</td><td>5</td></tr>\n",
       "\t<tr><th scope=row>6</th><td>28</td><td> NA</td><td>14.9</td><td>66</td><td>5</td><td>6</td></tr>\n",
       "</tbody>\n",
       "</table>\n"
      ],
      "text/latex": [
       "A data.frame: 6 × 6\n",
       "\\begin{tabular}{r|llllll}\n",
       "  & Ozone & Solar.R & Wind & Temp & Month & Day\\\\\n",
       "  & <int> & <int> & <dbl> & <int> & <int> & <int>\\\\\n",
       "\\hline\n",
       "\t1 & 41 & 190 &  7.4 & 67 & 5 & 1\\\\\n",
       "\t2 & 36 & 118 &  8.0 & 72 & 5 & 2\\\\\n",
       "\t3 & 12 & 149 & 12.6 & 74 & 5 & 3\\\\\n",
       "\t4 & 18 & 313 & 11.5 & 62 & 5 & 4\\\\\n",
       "\t5 & NA &  NA & 14.3 & 56 & 5 & 5\\\\\n",
       "\t6 & 28 &  NA & 14.9 & 66 & 5 & 6\\\\\n",
       "\\end{tabular}\n"
      ],
      "text/markdown": [
       "\n",
       "A data.frame: 6 × 6\n",
       "\n",
       "| <!--/--> | Ozone &lt;int&gt; | Solar.R &lt;int&gt; | Wind &lt;dbl&gt; | Temp &lt;int&gt; | Month &lt;int&gt; | Day &lt;int&gt; |\n",
       "|---|---|---|---|---|---|---|\n",
       "| 1 | 41 | 190 |  7.4 | 67 | 5 | 1 |\n",
       "| 2 | 36 | 118 |  8.0 | 72 | 5 | 2 |\n",
       "| 3 | 12 | 149 | 12.6 | 74 | 5 | 3 |\n",
       "| 4 | 18 | 313 | 11.5 | 62 | 5 | 4 |\n",
       "| 5 | NA |  NA | 14.3 | 56 | 5 | 5 |\n",
       "| 6 | 28 |  NA | 14.9 | 66 | 5 | 6 |\n",
       "\n"
      ],
      "text/plain": [
       "  Ozone Solar.R Wind Temp Month Day\n",
       "1 41    190      7.4 67   5     1  \n",
       "2 36    118      8.0 72   5     2  \n",
       "3 12    149     12.6 74   5     3  \n",
       "4 18    313     11.5 62   5     4  \n",
       "5 NA     NA     14.3 56   5     5  \n",
       "6 28     NA     14.9 66   5     6  "
      ]
     },
     "metadata": {},
     "output_type": "display_data"
    }
   ],
   "source": [
    "head(df)"
   ]
  },
  {
   "cell_type": "code",
   "execution_count": 28,
   "id": "fb30d8a3",
   "metadata": {},
   "outputs": [
    {
     "data": {
      "text/html": [
       "<table class=\"dataframe\">\n",
       "<caption>A data.frame: 1 × 2</caption>\n",
       "<thead>\n",
       "\t<tr><th></th><th scope=col>Month</th><th scope=col>Day</th></tr>\n",
       "\t<tr><th></th><th scope=col>&lt;int&gt;</th><th scope=col>&lt;int&gt;</th></tr>\n",
       "</thead>\n",
       "<tbody>\n",
       "\t<tr><th scope=row>120</th><td>8</td><td>28</td></tr>\n",
       "</tbody>\n",
       "</table>\n"
      ],
      "text/latex": [
       "A data.frame: 1 × 2\n",
       "\\begin{tabular}{r|ll}\n",
       "  & Month & Day\\\\\n",
       "  & <int> & <int>\\\\\n",
       "\\hline\n",
       "\t120 & 8 & 28\\\\\n",
       "\\end{tabular}\n"
      ],
      "text/markdown": [
       "\n",
       "A data.frame: 1 × 2\n",
       "\n",
       "| <!--/--> | Month &lt;int&gt; | Day &lt;int&gt; |\n",
       "|---|---|---|\n",
       "| 120 | 8 | 28 |\n",
       "\n"
      ],
      "text/plain": [
       "    Month Day\n",
       "120 8     28 "
      ]
     },
     "metadata": {},
     "output_type": "display_data"
    }
   ],
   "source": [
    "df[df$Temp == max(df$Temp), c('Month', 'Day')]"
   ]
  },
  {
   "cell_type": "code",
   "execution_count": 27,
   "id": "216f160e",
   "metadata": {},
   "outputs": [
    {
     "data": {
      "text/html": [
       "20.7"
      ],
      "text/latex": [
       "20.7"
      ],
      "text/markdown": [
       "20.7"
      ],
      "text/plain": [
       "[1] 20.7"
      ]
     },
     "metadata": {},
     "output_type": "display_data"
    }
   ],
   "source": [
    "df[df$Month == 6 & df$Wind == max(df$Wind), 'Wind']"
   ]
  },
  {
   "cell_type": "code",
   "execution_count": 33,
   "id": "d661bfcb",
   "metadata": {},
   "outputs": [
    {
     "data": {
      "text/html": [
       "8.94193548387097"
      ],
      "text/latex": [
       "8.94193548387097"
      ],
      "text/markdown": [
       "8.94193548387097"
      ],
      "text/plain": [
       "[1] 8.941935"
      ]
     },
     "metadata": {},
     "output_type": "display_data"
    }
   ],
   "source": [
    "mean(df[df$Month == 7, 'Wind'])"
   ]
  },
  {
   "cell_type": "code",
   "execution_count": 35,
   "id": "c7ed5191",
   "metadata": {},
   "outputs": [
    {
     "data": {
      "text/html": [
       "23.6153846153846"
      ],
      "text/latex": [
       "23.6153846153846"
      ],
      "text/markdown": [
       "23.6153846153846"
      ],
      "text/plain": [
       "[1] 23.61538"
      ]
     },
     "metadata": {},
     "output_type": "display_data"
    }
   ],
   "source": [
    "mean(df[df$Month == 5, 'Ozone'], na.rm = T)"
   ]
  },
  {
   "cell_type": "code",
   "execution_count": 43,
   "id": "8573db60",
   "metadata": {},
   "outputs": [
    {
     "data": {
      "text/html": [
       "6"
      ],
      "text/latex": [
       "6"
      ],
      "text/markdown": [
       "6"
      ],
      "text/plain": [
       "[1] 6"
      ]
     },
     "metadata": {},
     "output_type": "display_data"
    }
   ],
   "source": [
    "length(df[df$Ozone > 100, ])"
   ]
  },
  {
   "cell_type": "code",
   "execution_count": 44,
   "id": "1e1fdcfd",
   "metadata": {},
   "outputs": [],
   "source": [
    "df = swiss"
   ]
  },
  {
   "cell_type": "code",
   "execution_count": 45,
   "id": "c488844d",
   "metadata": {},
   "outputs": [
    {
     "name": "stdout",
     "output_type": "stream",
     "text": [
      "'data.frame':\t47 obs. of  6 variables:\n",
      " $ Fertility       : num  80.2 83.1 92.5 85.8 76.9 76.1 83.8 92.4 82.4 82.9 ...\n",
      " $ Agriculture     : num  17 45.1 39.7 36.5 43.5 35.3 70.2 67.8 53.3 45.2 ...\n",
      " $ Examination     : int  15 6 5 12 17 9 16 14 12 16 ...\n",
      " $ Education       : int  12 9 5 7 15 7 7 8 7 13 ...\n",
      " $ Catholic        : num  9.96 84.84 93.4 33.77 5.16 ...\n",
      " $ Infant.Mortality: num  22.2 22.2 20.2 20.3 20.6 26.6 23.6 24.9 21 24.4 ...\n"
     ]
    }
   ],
   "source": [
    "str(df)"
   ]
  },
  {
   "cell_type": "code",
   "execution_count": 48,
   "id": "a21c947f",
   "metadata": {},
   "outputs": [
    {
     "data": {
      "text/html": [
       "'Herens'"
      ],
      "text/latex": [
       "'Herens'"
      ],
      "text/markdown": [
       "'Herens'"
      ],
      "text/plain": [
       "[1] \"Herens\""
      ]
     },
     "metadata": {},
     "output_type": "display_data"
    }
   ],
   "source": [
    "rownames(df[df$Agriculture == max(df$Agriculture), ])"
   ]
  },
  {
   "cell_type": "code",
   "execution_count": 51,
   "id": "00a025b5",
   "metadata": {},
   "outputs": [
    {
     "data": {
      "text/html": [
       "<table class=\"dataframe\">\n",
       "<caption>A data.frame: 47 × 6</caption>\n",
       "<thead>\n",
       "\t<tr><th></th><th scope=col>Fertility</th><th scope=col>Agriculture</th><th scope=col>Examination</th><th scope=col>Education</th><th scope=col>Catholic</th><th scope=col>Infant.Mortality</th></tr>\n",
       "\t<tr><th></th><th scope=col>&lt;dbl&gt;</th><th scope=col>&lt;dbl&gt;</th><th scope=col>&lt;int&gt;</th><th scope=col>&lt;int&gt;</th><th scope=col>&lt;dbl&gt;</th><th scope=col>&lt;dbl&gt;</th></tr>\n",
       "</thead>\n",
       "<tbody>\n",
       "\t<tr><th scope=row>Courtelary</th><td>80.2</td><td>17.0</td><td>15</td><td>12</td><td>  9.96</td><td>22.2</td></tr>\n",
       "\t<tr><th scope=row>Delemont</th><td>83.1</td><td>45.1</td><td> 6</td><td> 9</td><td> 84.84</td><td>22.2</td></tr>\n",
       "\t<tr><th scope=row>Franches-Mnt</th><td>92.5</td><td>39.7</td><td> 5</td><td> 5</td><td> 93.40</td><td>20.2</td></tr>\n",
       "\t<tr><th scope=row>Moutier</th><td>85.8</td><td>36.5</td><td>12</td><td> 7</td><td> 33.77</td><td>20.3</td></tr>\n",
       "\t<tr><th scope=row>Neuveville</th><td>76.9</td><td>43.5</td><td>17</td><td>15</td><td>  5.16</td><td>20.6</td></tr>\n",
       "\t<tr><th scope=row>Porrentruy</th><td>76.1</td><td>35.3</td><td> 9</td><td> 7</td><td> 90.57</td><td>26.6</td></tr>\n",
       "\t<tr><th scope=row>Broye</th><td>83.8</td><td>70.2</td><td>16</td><td> 7</td><td> 92.85</td><td>23.6</td></tr>\n",
       "\t<tr><th scope=row>Glane</th><td>92.4</td><td>67.8</td><td>14</td><td> 8</td><td> 97.16</td><td>24.9</td></tr>\n",
       "\t<tr><th scope=row>Gruyere</th><td>82.4</td><td>53.3</td><td>12</td><td> 7</td><td> 97.67</td><td>21.0</td></tr>\n",
       "\t<tr><th scope=row>Sarine</th><td>82.9</td><td>45.2</td><td>16</td><td>13</td><td> 91.38</td><td>24.4</td></tr>\n",
       "\t<tr><th scope=row>Veveyse</th><td>87.1</td><td>64.5</td><td>14</td><td> 6</td><td> 98.61</td><td>24.5</td></tr>\n",
       "\t<tr><th scope=row>Aigle</th><td>64.1</td><td>62.0</td><td>21</td><td>12</td><td>  8.52</td><td>16.5</td></tr>\n",
       "\t<tr><th scope=row>Aubonne</th><td>66.9</td><td>67.5</td><td>14</td><td> 7</td><td>  2.27</td><td>19.1</td></tr>\n",
       "\t<tr><th scope=row>Avenches</th><td>68.9</td><td>60.7</td><td>19</td><td>12</td><td>  4.43</td><td>22.7</td></tr>\n",
       "\t<tr><th scope=row>Cossonay</th><td>61.7</td><td>69.3</td><td>22</td><td> 5</td><td>  2.82</td><td>18.7</td></tr>\n",
       "\t<tr><th scope=row>Echallens</th><td>68.3</td><td>72.6</td><td>18</td><td> 2</td><td> 24.20</td><td>21.2</td></tr>\n",
       "\t<tr><th scope=row>Grandson</th><td>71.7</td><td>34.0</td><td>17</td><td> 8</td><td>  3.30</td><td>20.0</td></tr>\n",
       "\t<tr><th scope=row>Lausanne</th><td>55.7</td><td>19.4</td><td>26</td><td>28</td><td> 12.11</td><td>20.2</td></tr>\n",
       "\t<tr><th scope=row>La Vallee</th><td>54.3</td><td>15.2</td><td>31</td><td>20</td><td>  2.15</td><td>10.8</td></tr>\n",
       "\t<tr><th scope=row>Lavaux</th><td>65.1</td><td>73.0</td><td>19</td><td> 9</td><td>  2.84</td><td>20.0</td></tr>\n",
       "\t<tr><th scope=row>Morges</th><td>65.5</td><td>59.8</td><td>22</td><td>10</td><td>  5.23</td><td>18.0</td></tr>\n",
       "\t<tr><th scope=row>Moudon</th><td>65.0</td><td>55.1</td><td>14</td><td> 3</td><td>  4.52</td><td>22.4</td></tr>\n",
       "\t<tr><th scope=row>Nyone</th><td>56.6</td><td>50.9</td><td>22</td><td>12</td><td> 15.14</td><td>16.7</td></tr>\n",
       "\t<tr><th scope=row>Orbe</th><td>57.4</td><td>54.1</td><td>20</td><td> 6</td><td>  4.20</td><td>15.3</td></tr>\n",
       "\t<tr><th scope=row>Oron</th><td>72.5</td><td>71.2</td><td>12</td><td> 1</td><td>  2.40</td><td>21.0</td></tr>\n",
       "\t<tr><th scope=row>Payerne</th><td>74.2</td><td>58.1</td><td>14</td><td> 8</td><td>  5.23</td><td>23.8</td></tr>\n",
       "\t<tr><th scope=row>Paysd'enhaut</th><td>72.0</td><td>63.5</td><td> 6</td><td> 3</td><td>  2.56</td><td>18.0</td></tr>\n",
       "\t<tr><th scope=row>Rolle</th><td>60.5</td><td>60.8</td><td>16</td><td>10</td><td>  7.72</td><td>16.3</td></tr>\n",
       "\t<tr><th scope=row>Vevey</th><td>58.3</td><td>26.8</td><td>25</td><td>19</td><td> 18.46</td><td>20.9</td></tr>\n",
       "\t<tr><th scope=row>Yverdon</th><td>65.4</td><td>49.5</td><td>15</td><td> 8</td><td>  6.10</td><td>22.5</td></tr>\n",
       "\t<tr><th scope=row>Conthey</th><td>75.5</td><td>85.9</td><td> 3</td><td> 2</td><td> 99.71</td><td>15.1</td></tr>\n",
       "\t<tr><th scope=row>Entremont</th><td>69.3</td><td>84.9</td><td> 7</td><td> 6</td><td> 99.68</td><td>19.8</td></tr>\n",
       "\t<tr><th scope=row>Herens</th><td>77.3</td><td>89.7</td><td> 5</td><td> 2</td><td>100.00</td><td>18.3</td></tr>\n",
       "\t<tr><th scope=row>Martigwy</th><td>70.5</td><td>78.2</td><td>12</td><td> 6</td><td> 98.96</td><td>19.4</td></tr>\n",
       "\t<tr><th scope=row>Monthey</th><td>79.4</td><td>64.9</td><td> 7</td><td> 3</td><td> 98.22</td><td>20.2</td></tr>\n",
       "\t<tr><th scope=row>St Maurice</th><td>65.0</td><td>75.9</td><td> 9</td><td> 9</td><td> 99.06</td><td>17.8</td></tr>\n",
       "\t<tr><th scope=row>Sierre</th><td>92.2</td><td>84.6</td><td> 3</td><td> 3</td><td> 99.46</td><td>16.3</td></tr>\n",
       "\t<tr><th scope=row>Sion</th><td>79.3</td><td>63.1</td><td>13</td><td>13</td><td> 96.83</td><td>18.1</td></tr>\n",
       "\t<tr><th scope=row>Boudry</th><td>70.4</td><td>38.4</td><td>26</td><td>12</td><td>  5.62</td><td>20.3</td></tr>\n",
       "\t<tr><th scope=row>La Chauxdfnd</th><td>65.7</td><td> 7.7</td><td>29</td><td>11</td><td> 13.79</td><td>20.5</td></tr>\n",
       "\t<tr><th scope=row>Le Locle</th><td>72.7</td><td>16.7</td><td>22</td><td>13</td><td> 11.22</td><td>18.9</td></tr>\n",
       "\t<tr><th scope=row>Neuchatel</th><td>64.4</td><td>17.6</td><td>35</td><td>32</td><td> 16.92</td><td>23.0</td></tr>\n",
       "\t<tr><th scope=row>Val de Ruz</th><td>77.6</td><td>37.6</td><td>15</td><td> 7</td><td>  4.97</td><td>20.0</td></tr>\n",
       "\t<tr><th scope=row>ValdeTravers</th><td>67.6</td><td>18.7</td><td>25</td><td> 7</td><td>  8.65</td><td>19.5</td></tr>\n",
       "\t<tr><th scope=row>V. De Geneve</th><td>35.0</td><td> 1.2</td><td>37</td><td>53</td><td> 42.34</td><td>18.0</td></tr>\n",
       "\t<tr><th scope=row>Rive Droite</th><td>44.7</td><td>46.6</td><td>16</td><td>29</td><td> 50.43</td><td>18.2</td></tr>\n",
       "\t<tr><th scope=row>Rive Gauche</th><td>42.8</td><td>27.7</td><td>22</td><td>29</td><td> 58.33</td><td>19.3</td></tr>\n",
       "</tbody>\n",
       "</table>\n"
      ],
      "text/latex": [
       "A data.frame: 47 × 6\n",
       "\\begin{tabular}{r|llllll}\n",
       "  & Fertility & Agriculture & Examination & Education & Catholic & Infant.Mortality\\\\\n",
       "  & <dbl> & <dbl> & <int> & <int> & <dbl> & <dbl>\\\\\n",
       "\\hline\n",
       "\tCourtelary & 80.2 & 17.0 & 15 & 12 &   9.96 & 22.2\\\\\n",
       "\tDelemont & 83.1 & 45.1 &  6 &  9 &  84.84 & 22.2\\\\\n",
       "\tFranches-Mnt & 92.5 & 39.7 &  5 &  5 &  93.40 & 20.2\\\\\n",
       "\tMoutier & 85.8 & 36.5 & 12 &  7 &  33.77 & 20.3\\\\\n",
       "\tNeuveville & 76.9 & 43.5 & 17 & 15 &   5.16 & 20.6\\\\\n",
       "\tPorrentruy & 76.1 & 35.3 &  9 &  7 &  90.57 & 26.6\\\\\n",
       "\tBroye & 83.8 & 70.2 & 16 &  7 &  92.85 & 23.6\\\\\n",
       "\tGlane & 92.4 & 67.8 & 14 &  8 &  97.16 & 24.9\\\\\n",
       "\tGruyere & 82.4 & 53.3 & 12 &  7 &  97.67 & 21.0\\\\\n",
       "\tSarine & 82.9 & 45.2 & 16 & 13 &  91.38 & 24.4\\\\\n",
       "\tVeveyse & 87.1 & 64.5 & 14 &  6 &  98.61 & 24.5\\\\\n",
       "\tAigle & 64.1 & 62.0 & 21 & 12 &   8.52 & 16.5\\\\\n",
       "\tAubonne & 66.9 & 67.5 & 14 &  7 &   2.27 & 19.1\\\\\n",
       "\tAvenches & 68.9 & 60.7 & 19 & 12 &   4.43 & 22.7\\\\\n",
       "\tCossonay & 61.7 & 69.3 & 22 &  5 &   2.82 & 18.7\\\\\n",
       "\tEchallens & 68.3 & 72.6 & 18 &  2 &  24.20 & 21.2\\\\\n",
       "\tGrandson & 71.7 & 34.0 & 17 &  8 &   3.30 & 20.0\\\\\n",
       "\tLausanne & 55.7 & 19.4 & 26 & 28 &  12.11 & 20.2\\\\\n",
       "\tLa Vallee & 54.3 & 15.2 & 31 & 20 &   2.15 & 10.8\\\\\n",
       "\tLavaux & 65.1 & 73.0 & 19 &  9 &   2.84 & 20.0\\\\\n",
       "\tMorges & 65.5 & 59.8 & 22 & 10 &   5.23 & 18.0\\\\\n",
       "\tMoudon & 65.0 & 55.1 & 14 &  3 &   4.52 & 22.4\\\\\n",
       "\tNyone & 56.6 & 50.9 & 22 & 12 &  15.14 & 16.7\\\\\n",
       "\tOrbe & 57.4 & 54.1 & 20 &  6 &   4.20 & 15.3\\\\\n",
       "\tOron & 72.5 & 71.2 & 12 &  1 &   2.40 & 21.0\\\\\n",
       "\tPayerne & 74.2 & 58.1 & 14 &  8 &   5.23 & 23.8\\\\\n",
       "\tPaysd'enhaut & 72.0 & 63.5 &  6 &  3 &   2.56 & 18.0\\\\\n",
       "\tRolle & 60.5 & 60.8 & 16 & 10 &   7.72 & 16.3\\\\\n",
       "\tVevey & 58.3 & 26.8 & 25 & 19 &  18.46 & 20.9\\\\\n",
       "\tYverdon & 65.4 & 49.5 & 15 &  8 &   6.10 & 22.5\\\\\n",
       "\tConthey & 75.5 & 85.9 &  3 &  2 &  99.71 & 15.1\\\\\n",
       "\tEntremont & 69.3 & 84.9 &  7 &  6 &  99.68 & 19.8\\\\\n",
       "\tHerens & 77.3 & 89.7 &  5 &  2 & 100.00 & 18.3\\\\\n",
       "\tMartigwy & 70.5 & 78.2 & 12 &  6 &  98.96 & 19.4\\\\\n",
       "\tMonthey & 79.4 & 64.9 &  7 &  3 &  98.22 & 20.2\\\\\n",
       "\tSt Maurice & 65.0 & 75.9 &  9 &  9 &  99.06 & 17.8\\\\\n",
       "\tSierre & 92.2 & 84.6 &  3 &  3 &  99.46 & 16.3\\\\\n",
       "\tSion & 79.3 & 63.1 & 13 & 13 &  96.83 & 18.1\\\\\n",
       "\tBoudry & 70.4 & 38.4 & 26 & 12 &   5.62 & 20.3\\\\\n",
       "\tLa Chauxdfnd & 65.7 &  7.7 & 29 & 11 &  13.79 & 20.5\\\\\n",
       "\tLe Locle & 72.7 & 16.7 & 22 & 13 &  11.22 & 18.9\\\\\n",
       "\tNeuchatel & 64.4 & 17.6 & 35 & 32 &  16.92 & 23.0\\\\\n",
       "\tVal de Ruz & 77.6 & 37.6 & 15 &  7 &   4.97 & 20.0\\\\\n",
       "\tValdeTravers & 67.6 & 18.7 & 25 &  7 &   8.65 & 19.5\\\\\n",
       "\tV. De Geneve & 35.0 &  1.2 & 37 & 53 &  42.34 & 18.0\\\\\n",
       "\tRive Droite & 44.7 & 46.6 & 16 & 29 &  50.43 & 18.2\\\\\n",
       "\tRive Gauche & 42.8 & 27.7 & 22 & 29 &  58.33 & 19.3\\\\\n",
       "\\end{tabular}\n"
      ],
      "text/markdown": [
       "\n",
       "A data.frame: 47 × 6\n",
       "\n",
       "| <!--/--> | Fertility &lt;dbl&gt; | Agriculture &lt;dbl&gt; | Examination &lt;int&gt; | Education &lt;int&gt; | Catholic &lt;dbl&gt; | Infant.Mortality &lt;dbl&gt; |\n",
       "|---|---|---|---|---|---|---|\n",
       "| Courtelary | 80.2 | 17.0 | 15 | 12 |   9.96 | 22.2 |\n",
       "| Delemont | 83.1 | 45.1 |  6 |  9 |  84.84 | 22.2 |\n",
       "| Franches-Mnt | 92.5 | 39.7 |  5 |  5 |  93.40 | 20.2 |\n",
       "| Moutier | 85.8 | 36.5 | 12 |  7 |  33.77 | 20.3 |\n",
       "| Neuveville | 76.9 | 43.5 | 17 | 15 |   5.16 | 20.6 |\n",
       "| Porrentruy | 76.1 | 35.3 |  9 |  7 |  90.57 | 26.6 |\n",
       "| Broye | 83.8 | 70.2 | 16 |  7 |  92.85 | 23.6 |\n",
       "| Glane | 92.4 | 67.8 | 14 |  8 |  97.16 | 24.9 |\n",
       "| Gruyere | 82.4 | 53.3 | 12 |  7 |  97.67 | 21.0 |\n",
       "| Sarine | 82.9 | 45.2 | 16 | 13 |  91.38 | 24.4 |\n",
       "| Veveyse | 87.1 | 64.5 | 14 |  6 |  98.61 | 24.5 |\n",
       "| Aigle | 64.1 | 62.0 | 21 | 12 |   8.52 | 16.5 |\n",
       "| Aubonne | 66.9 | 67.5 | 14 |  7 |   2.27 | 19.1 |\n",
       "| Avenches | 68.9 | 60.7 | 19 | 12 |   4.43 | 22.7 |\n",
       "| Cossonay | 61.7 | 69.3 | 22 |  5 |   2.82 | 18.7 |\n",
       "| Echallens | 68.3 | 72.6 | 18 |  2 |  24.20 | 21.2 |\n",
       "| Grandson | 71.7 | 34.0 | 17 |  8 |   3.30 | 20.0 |\n",
       "| Lausanne | 55.7 | 19.4 | 26 | 28 |  12.11 | 20.2 |\n",
       "| La Vallee | 54.3 | 15.2 | 31 | 20 |   2.15 | 10.8 |\n",
       "| Lavaux | 65.1 | 73.0 | 19 |  9 |   2.84 | 20.0 |\n",
       "| Morges | 65.5 | 59.8 | 22 | 10 |   5.23 | 18.0 |\n",
       "| Moudon | 65.0 | 55.1 | 14 |  3 |   4.52 | 22.4 |\n",
       "| Nyone | 56.6 | 50.9 | 22 | 12 |  15.14 | 16.7 |\n",
       "| Orbe | 57.4 | 54.1 | 20 |  6 |   4.20 | 15.3 |\n",
       "| Oron | 72.5 | 71.2 | 12 |  1 |   2.40 | 21.0 |\n",
       "| Payerne | 74.2 | 58.1 | 14 |  8 |   5.23 | 23.8 |\n",
       "| Paysd'enhaut | 72.0 | 63.5 |  6 |  3 |   2.56 | 18.0 |\n",
       "| Rolle | 60.5 | 60.8 | 16 | 10 |   7.72 | 16.3 |\n",
       "| Vevey | 58.3 | 26.8 | 25 | 19 |  18.46 | 20.9 |\n",
       "| Yverdon | 65.4 | 49.5 | 15 |  8 |   6.10 | 22.5 |\n",
       "| Conthey | 75.5 | 85.9 |  3 |  2 |  99.71 | 15.1 |\n",
       "| Entremont | 69.3 | 84.9 |  7 |  6 |  99.68 | 19.8 |\n",
       "| Herens | 77.3 | 89.7 |  5 |  2 | 100.00 | 18.3 |\n",
       "| Martigwy | 70.5 | 78.2 | 12 |  6 |  98.96 | 19.4 |\n",
       "| Monthey | 79.4 | 64.9 |  7 |  3 |  98.22 | 20.2 |\n",
       "| St Maurice | 65.0 | 75.9 |  9 |  9 |  99.06 | 17.8 |\n",
       "| Sierre | 92.2 | 84.6 |  3 |  3 |  99.46 | 16.3 |\n",
       "| Sion | 79.3 | 63.1 | 13 | 13 |  96.83 | 18.1 |\n",
       "| Boudry | 70.4 | 38.4 | 26 | 12 |   5.62 | 20.3 |\n",
       "| La Chauxdfnd | 65.7 |  7.7 | 29 | 11 |  13.79 | 20.5 |\n",
       "| Le Locle | 72.7 | 16.7 | 22 | 13 |  11.22 | 18.9 |\n",
       "| Neuchatel | 64.4 | 17.6 | 35 | 32 |  16.92 | 23.0 |\n",
       "| Val de Ruz | 77.6 | 37.6 | 15 |  7 |   4.97 | 20.0 |\n",
       "| ValdeTravers | 67.6 | 18.7 | 25 |  7 |   8.65 | 19.5 |\n",
       "| V. De Geneve | 35.0 |  1.2 | 37 | 53 |  42.34 | 18.0 |\n",
       "| Rive Droite | 44.7 | 46.6 | 16 | 29 |  50.43 | 18.2 |\n",
       "| Rive Gauche | 42.8 | 27.7 | 22 | 29 |  58.33 | 19.3 |\n",
       "\n"
      ],
      "text/plain": [
       "             Fertility Agriculture Examination Education Catholic\n",
       "Courtelary   80.2      17.0        15          12          9.96  \n",
       "Delemont     83.1      45.1         6           9         84.84  \n",
       "Franches-Mnt 92.5      39.7         5           5         93.40  \n",
       "Moutier      85.8      36.5        12           7         33.77  \n",
       "Neuveville   76.9      43.5        17          15          5.16  \n",
       "Porrentruy   76.1      35.3         9           7         90.57  \n",
       "Broye        83.8      70.2        16           7         92.85  \n",
       "Glane        92.4      67.8        14           8         97.16  \n",
       "Gruyere      82.4      53.3        12           7         97.67  \n",
       "Sarine       82.9      45.2        16          13         91.38  \n",
       "Veveyse      87.1      64.5        14           6         98.61  \n",
       "Aigle        64.1      62.0        21          12          8.52  \n",
       "Aubonne      66.9      67.5        14           7          2.27  \n",
       "Avenches     68.9      60.7        19          12          4.43  \n",
       "Cossonay     61.7      69.3        22           5          2.82  \n",
       "Echallens    68.3      72.6        18           2         24.20  \n",
       "Grandson     71.7      34.0        17           8          3.30  \n",
       "Lausanne     55.7      19.4        26          28         12.11  \n",
       "La Vallee    54.3      15.2        31          20          2.15  \n",
       "Lavaux       65.1      73.0        19           9          2.84  \n",
       "Morges       65.5      59.8        22          10          5.23  \n",
       "Moudon       65.0      55.1        14           3          4.52  \n",
       "Nyone        56.6      50.9        22          12         15.14  \n",
       "Orbe         57.4      54.1        20           6          4.20  \n",
       "Oron         72.5      71.2        12           1          2.40  \n",
       "Payerne      74.2      58.1        14           8          5.23  \n",
       "Paysd'enhaut 72.0      63.5         6           3          2.56  \n",
       "Rolle        60.5      60.8        16          10          7.72  \n",
       "Vevey        58.3      26.8        25          19         18.46  \n",
       "Yverdon      65.4      49.5        15           8          6.10  \n",
       "Conthey      75.5      85.9         3           2         99.71  \n",
       "Entremont    69.3      84.9         7           6         99.68  \n",
       "Herens       77.3      89.7         5           2        100.00  \n",
       "Martigwy     70.5      78.2        12           6         98.96  \n",
       "Monthey      79.4      64.9         7           3         98.22  \n",
       "St Maurice   65.0      75.9         9           9         99.06  \n",
       "Sierre       92.2      84.6         3           3         99.46  \n",
       "Sion         79.3      63.1        13          13         96.83  \n",
       "Boudry       70.4      38.4        26          12          5.62  \n",
       "La Chauxdfnd 65.7       7.7        29          11         13.79  \n",
       "Le Locle     72.7      16.7        22          13         11.22  \n",
       "Neuchatel    64.4      17.6        35          32         16.92  \n",
       "Val de Ruz   77.6      37.6        15           7          4.97  \n",
       "ValdeTravers 67.6      18.7        25           7          8.65  \n",
       "V. De Geneve 35.0       1.2        37          53         42.34  \n",
       "Rive Droite  44.7      46.6        16          29         50.43  \n",
       "Rive Gauche  42.8      27.7        22          29         58.33  \n",
       "             Infant.Mortality\n",
       "Courtelary   22.2            \n",
       "Delemont     22.2            \n",
       "Franches-Mnt 20.2            \n",
       "Moutier      20.3            \n",
       "Neuveville   20.6            \n",
       "Porrentruy   26.6            \n",
       "Broye        23.6            \n",
       "Glane        24.9            \n",
       "Gruyere      21.0            \n",
       "Sarine       24.4            \n",
       "Veveyse      24.5            \n",
       "Aigle        16.5            \n",
       "Aubonne      19.1            \n",
       "Avenches     22.7            \n",
       "Cossonay     18.7            \n",
       "Echallens    21.2            \n",
       "Grandson     20.0            \n",
       "Lausanne     20.2            \n",
       "La Vallee    10.8            \n",
       "Lavaux       20.0            \n",
       "Morges       18.0            \n",
       "Moudon       22.4            \n",
       "Nyone        16.7            \n",
       "Orbe         15.3            \n",
       "Oron         21.0            \n",
       "Payerne      23.8            \n",
       "Paysd'enhaut 18.0            \n",
       "Rolle        16.3            \n",
       "Vevey        20.9            \n",
       "Yverdon      22.5            \n",
       "Conthey      15.1            \n",
       "Entremont    19.8            \n",
       "Herens       18.3            \n",
       "Martigwy     19.4            \n",
       "Monthey      20.2            \n",
       "St Maurice   17.8            \n",
       "Sierre       16.3            \n",
       "Sion         18.1            \n",
       "Boudry       20.3            \n",
       "La Chauxdfnd 20.5            \n",
       "Le Locle     18.9            \n",
       "Neuchatel    23.0            \n",
       "Val de Ruz   20.0            \n",
       "ValdeTravers 19.5            \n",
       "V. De Geneve 18.0            \n",
       "Rive Droite  18.2            \n",
       "Rive Gauche  19.3            "
      ]
     },
     "metadata": {},
     "output_type": "display_data"
    }
   ],
   "source": [
    "df"
   ]
  },
  {
   "cell_type": "code",
   "execution_count": 54,
   "id": "737910d4",
   "metadata": {},
   "outputs": [
    {
     "ename": "ERROR",
     "evalue": "Error in xtfrm.data.frame(x): cannot xtfrm data frames\n",
     "output_type": "error",
     "traceback": [
      "Error in xtfrm.data.frame(x): cannot xtfrm data frames\nTraceback:\n",
      "1. sort(df, T)",
      "2. sort.default(df, T)",
      "3. x[order(x, na.last = na.last, decreasing = decreasing)]",
      "4. `[.data.frame`(x, order(x, na.last = na.last, decreasing = decreasing))",
      "5. order(x, na.last = na.last, decreasing = decreasing)",
      "6. lapply(z, function(x) if (is.object(x)) as.vector(xtfrm(x)) else x)",
      "7. FUN(X[[i]], ...)",
      "8. as.vector(xtfrm(x))",
      "9. xtfrm(x)",
      "10. xtfrm.data.frame(x)",
      "11. stop(\"cannot xtfrm data frames\")"
     ]
    }
   ],
   "source": [
    "sort(df, T)"
   ]
  },
  {
   "cell_type": "code",
   "execution_count": 58,
   "id": "f138086f",
   "metadata": {},
   "outputs": [
    {
     "data": {
      "text/html": [
       "<table class=\"dataframe\">\n",
       "<caption>A data.frame: 47 × 6</caption>\n",
       "<thead>\n",
       "\t<tr><th></th><th scope=col>Fertility</th><th scope=col>Agriculture</th><th scope=col>Examination</th><th scope=col>Education</th><th scope=col>Catholic</th><th scope=col>Infant.Mortality</th></tr>\n",
       "\t<tr><th></th><th scope=col>&lt;dbl&gt;</th><th scope=col>&lt;dbl&gt;</th><th scope=col>&lt;int&gt;</th><th scope=col>&lt;int&gt;</th><th scope=col>&lt;dbl&gt;</th><th scope=col>&lt;dbl&gt;</th></tr>\n",
       "</thead>\n",
       "<tbody>\n",
       "\t<tr><th scope=row>Herens</th><td>77.3</td><td>89.7</td><td> 5</td><td> 2</td><td>100.00</td><td>18.3</td></tr>\n",
       "\t<tr><th scope=row>Conthey</th><td>75.5</td><td>85.9</td><td> 3</td><td> 2</td><td> 99.71</td><td>15.1</td></tr>\n",
       "\t<tr><th scope=row>Entremont</th><td>69.3</td><td>84.9</td><td> 7</td><td> 6</td><td> 99.68</td><td>19.8</td></tr>\n",
       "\t<tr><th scope=row>Sierre</th><td>92.2</td><td>84.6</td><td> 3</td><td> 3</td><td> 99.46</td><td>16.3</td></tr>\n",
       "\t<tr><th scope=row>Martigwy</th><td>70.5</td><td>78.2</td><td>12</td><td> 6</td><td> 98.96</td><td>19.4</td></tr>\n",
       "\t<tr><th scope=row>St Maurice</th><td>65.0</td><td>75.9</td><td> 9</td><td> 9</td><td> 99.06</td><td>17.8</td></tr>\n",
       "\t<tr><th scope=row>Lavaux</th><td>65.1</td><td>73.0</td><td>19</td><td> 9</td><td>  2.84</td><td>20.0</td></tr>\n",
       "\t<tr><th scope=row>Echallens</th><td>68.3</td><td>72.6</td><td>18</td><td> 2</td><td> 24.20</td><td>21.2</td></tr>\n",
       "\t<tr><th scope=row>Oron</th><td>72.5</td><td>71.2</td><td>12</td><td> 1</td><td>  2.40</td><td>21.0</td></tr>\n",
       "\t<tr><th scope=row>Broye</th><td>83.8</td><td>70.2</td><td>16</td><td> 7</td><td> 92.85</td><td>23.6</td></tr>\n",
       "\t<tr><th scope=row>Cossonay</th><td>61.7</td><td>69.3</td><td>22</td><td> 5</td><td>  2.82</td><td>18.7</td></tr>\n",
       "\t<tr><th scope=row>Glane</th><td>92.4</td><td>67.8</td><td>14</td><td> 8</td><td> 97.16</td><td>24.9</td></tr>\n",
       "\t<tr><th scope=row>Aubonne</th><td>66.9</td><td>67.5</td><td>14</td><td> 7</td><td>  2.27</td><td>19.1</td></tr>\n",
       "\t<tr><th scope=row>Monthey</th><td>79.4</td><td>64.9</td><td> 7</td><td> 3</td><td> 98.22</td><td>20.2</td></tr>\n",
       "\t<tr><th scope=row>Veveyse</th><td>87.1</td><td>64.5</td><td>14</td><td> 6</td><td> 98.61</td><td>24.5</td></tr>\n",
       "\t<tr><th scope=row>Paysd'enhaut</th><td>72.0</td><td>63.5</td><td> 6</td><td> 3</td><td>  2.56</td><td>18.0</td></tr>\n",
       "\t<tr><th scope=row>Sion</th><td>79.3</td><td>63.1</td><td>13</td><td>13</td><td> 96.83</td><td>18.1</td></tr>\n",
       "\t<tr><th scope=row>Aigle</th><td>64.1</td><td>62.0</td><td>21</td><td>12</td><td>  8.52</td><td>16.5</td></tr>\n",
       "\t<tr><th scope=row>Rolle</th><td>60.5</td><td>60.8</td><td>16</td><td>10</td><td>  7.72</td><td>16.3</td></tr>\n",
       "\t<tr><th scope=row>Avenches</th><td>68.9</td><td>60.7</td><td>19</td><td>12</td><td>  4.43</td><td>22.7</td></tr>\n",
       "\t<tr><th scope=row>Morges</th><td>65.5</td><td>59.8</td><td>22</td><td>10</td><td>  5.23</td><td>18.0</td></tr>\n",
       "\t<tr><th scope=row>Payerne</th><td>74.2</td><td>58.1</td><td>14</td><td> 8</td><td>  5.23</td><td>23.8</td></tr>\n",
       "\t<tr><th scope=row>Moudon</th><td>65.0</td><td>55.1</td><td>14</td><td> 3</td><td>  4.52</td><td>22.4</td></tr>\n",
       "\t<tr><th scope=row>Orbe</th><td>57.4</td><td>54.1</td><td>20</td><td> 6</td><td>  4.20</td><td>15.3</td></tr>\n",
       "\t<tr><th scope=row>Gruyere</th><td>82.4</td><td>53.3</td><td>12</td><td> 7</td><td> 97.67</td><td>21.0</td></tr>\n",
       "\t<tr><th scope=row>Nyone</th><td>56.6</td><td>50.9</td><td>22</td><td>12</td><td> 15.14</td><td>16.7</td></tr>\n",
       "\t<tr><th scope=row>Yverdon</th><td>65.4</td><td>49.5</td><td>15</td><td> 8</td><td>  6.10</td><td>22.5</td></tr>\n",
       "\t<tr><th scope=row>Rive Droite</th><td>44.7</td><td>46.6</td><td>16</td><td>29</td><td> 50.43</td><td>18.2</td></tr>\n",
       "\t<tr><th scope=row>Sarine</th><td>82.9</td><td>45.2</td><td>16</td><td>13</td><td> 91.38</td><td>24.4</td></tr>\n",
       "\t<tr><th scope=row>Delemont</th><td>83.1</td><td>45.1</td><td> 6</td><td> 9</td><td> 84.84</td><td>22.2</td></tr>\n",
       "\t<tr><th scope=row>Neuveville</th><td>76.9</td><td>43.5</td><td>17</td><td>15</td><td>  5.16</td><td>20.6</td></tr>\n",
       "\t<tr><th scope=row>Franches-Mnt</th><td>92.5</td><td>39.7</td><td> 5</td><td> 5</td><td> 93.40</td><td>20.2</td></tr>\n",
       "\t<tr><th scope=row>Boudry</th><td>70.4</td><td>38.4</td><td>26</td><td>12</td><td>  5.62</td><td>20.3</td></tr>\n",
       "\t<tr><th scope=row>Val de Ruz</th><td>77.6</td><td>37.6</td><td>15</td><td> 7</td><td>  4.97</td><td>20.0</td></tr>\n",
       "\t<tr><th scope=row>Moutier</th><td>85.8</td><td>36.5</td><td>12</td><td> 7</td><td> 33.77</td><td>20.3</td></tr>\n",
       "\t<tr><th scope=row>Porrentruy</th><td>76.1</td><td>35.3</td><td> 9</td><td> 7</td><td> 90.57</td><td>26.6</td></tr>\n",
       "\t<tr><th scope=row>Grandson</th><td>71.7</td><td>34.0</td><td>17</td><td> 8</td><td>  3.30</td><td>20.0</td></tr>\n",
       "\t<tr><th scope=row>Rive Gauche</th><td>42.8</td><td>27.7</td><td>22</td><td>29</td><td> 58.33</td><td>19.3</td></tr>\n",
       "\t<tr><th scope=row>Vevey</th><td>58.3</td><td>26.8</td><td>25</td><td>19</td><td> 18.46</td><td>20.9</td></tr>\n",
       "\t<tr><th scope=row>Lausanne</th><td>55.7</td><td>19.4</td><td>26</td><td>28</td><td> 12.11</td><td>20.2</td></tr>\n",
       "\t<tr><th scope=row>ValdeTravers</th><td>67.6</td><td>18.7</td><td>25</td><td> 7</td><td>  8.65</td><td>19.5</td></tr>\n",
       "\t<tr><th scope=row>Neuchatel</th><td>64.4</td><td>17.6</td><td>35</td><td>32</td><td> 16.92</td><td>23.0</td></tr>\n",
       "\t<tr><th scope=row>Courtelary</th><td>80.2</td><td>17.0</td><td>15</td><td>12</td><td>  9.96</td><td>22.2</td></tr>\n",
       "\t<tr><th scope=row>Le Locle</th><td>72.7</td><td>16.7</td><td>22</td><td>13</td><td> 11.22</td><td>18.9</td></tr>\n",
       "\t<tr><th scope=row>La Vallee</th><td>54.3</td><td>15.2</td><td>31</td><td>20</td><td>  2.15</td><td>10.8</td></tr>\n",
       "\t<tr><th scope=row>La Chauxdfnd</th><td>65.7</td><td> 7.7</td><td>29</td><td>11</td><td> 13.79</td><td>20.5</td></tr>\n",
       "\t<tr><th scope=row>V. De Geneve</th><td>35.0</td><td> 1.2</td><td>37</td><td>53</td><td> 42.34</td><td>18.0</td></tr>\n",
       "</tbody>\n",
       "</table>\n"
      ],
      "text/latex": [
       "A data.frame: 47 × 6\n",
       "\\begin{tabular}{r|llllll}\n",
       "  & Fertility & Agriculture & Examination & Education & Catholic & Infant.Mortality\\\\\n",
       "  & <dbl> & <dbl> & <int> & <int> & <dbl> & <dbl>\\\\\n",
       "\\hline\n",
       "\tHerens & 77.3 & 89.7 &  5 &  2 & 100.00 & 18.3\\\\\n",
       "\tConthey & 75.5 & 85.9 &  3 &  2 &  99.71 & 15.1\\\\\n",
       "\tEntremont & 69.3 & 84.9 &  7 &  6 &  99.68 & 19.8\\\\\n",
       "\tSierre & 92.2 & 84.6 &  3 &  3 &  99.46 & 16.3\\\\\n",
       "\tMartigwy & 70.5 & 78.2 & 12 &  6 &  98.96 & 19.4\\\\\n",
       "\tSt Maurice & 65.0 & 75.9 &  9 &  9 &  99.06 & 17.8\\\\\n",
       "\tLavaux & 65.1 & 73.0 & 19 &  9 &   2.84 & 20.0\\\\\n",
       "\tEchallens & 68.3 & 72.6 & 18 &  2 &  24.20 & 21.2\\\\\n",
       "\tOron & 72.5 & 71.2 & 12 &  1 &   2.40 & 21.0\\\\\n",
       "\tBroye & 83.8 & 70.2 & 16 &  7 &  92.85 & 23.6\\\\\n",
       "\tCossonay & 61.7 & 69.3 & 22 &  5 &   2.82 & 18.7\\\\\n",
       "\tGlane & 92.4 & 67.8 & 14 &  8 &  97.16 & 24.9\\\\\n",
       "\tAubonne & 66.9 & 67.5 & 14 &  7 &   2.27 & 19.1\\\\\n",
       "\tMonthey & 79.4 & 64.9 &  7 &  3 &  98.22 & 20.2\\\\\n",
       "\tVeveyse & 87.1 & 64.5 & 14 &  6 &  98.61 & 24.5\\\\\n",
       "\tPaysd'enhaut & 72.0 & 63.5 &  6 &  3 &   2.56 & 18.0\\\\\n",
       "\tSion & 79.3 & 63.1 & 13 & 13 &  96.83 & 18.1\\\\\n",
       "\tAigle & 64.1 & 62.0 & 21 & 12 &   8.52 & 16.5\\\\\n",
       "\tRolle & 60.5 & 60.8 & 16 & 10 &   7.72 & 16.3\\\\\n",
       "\tAvenches & 68.9 & 60.7 & 19 & 12 &   4.43 & 22.7\\\\\n",
       "\tMorges & 65.5 & 59.8 & 22 & 10 &   5.23 & 18.0\\\\\n",
       "\tPayerne & 74.2 & 58.1 & 14 &  8 &   5.23 & 23.8\\\\\n",
       "\tMoudon & 65.0 & 55.1 & 14 &  3 &   4.52 & 22.4\\\\\n",
       "\tOrbe & 57.4 & 54.1 & 20 &  6 &   4.20 & 15.3\\\\\n",
       "\tGruyere & 82.4 & 53.3 & 12 &  7 &  97.67 & 21.0\\\\\n",
       "\tNyone & 56.6 & 50.9 & 22 & 12 &  15.14 & 16.7\\\\\n",
       "\tYverdon & 65.4 & 49.5 & 15 &  8 &   6.10 & 22.5\\\\\n",
       "\tRive Droite & 44.7 & 46.6 & 16 & 29 &  50.43 & 18.2\\\\\n",
       "\tSarine & 82.9 & 45.2 & 16 & 13 &  91.38 & 24.4\\\\\n",
       "\tDelemont & 83.1 & 45.1 &  6 &  9 &  84.84 & 22.2\\\\\n",
       "\tNeuveville & 76.9 & 43.5 & 17 & 15 &   5.16 & 20.6\\\\\n",
       "\tFranches-Mnt & 92.5 & 39.7 &  5 &  5 &  93.40 & 20.2\\\\\n",
       "\tBoudry & 70.4 & 38.4 & 26 & 12 &   5.62 & 20.3\\\\\n",
       "\tVal de Ruz & 77.6 & 37.6 & 15 &  7 &   4.97 & 20.0\\\\\n",
       "\tMoutier & 85.8 & 36.5 & 12 &  7 &  33.77 & 20.3\\\\\n",
       "\tPorrentruy & 76.1 & 35.3 &  9 &  7 &  90.57 & 26.6\\\\\n",
       "\tGrandson & 71.7 & 34.0 & 17 &  8 &   3.30 & 20.0\\\\\n",
       "\tRive Gauche & 42.8 & 27.7 & 22 & 29 &  58.33 & 19.3\\\\\n",
       "\tVevey & 58.3 & 26.8 & 25 & 19 &  18.46 & 20.9\\\\\n",
       "\tLausanne & 55.7 & 19.4 & 26 & 28 &  12.11 & 20.2\\\\\n",
       "\tValdeTravers & 67.6 & 18.7 & 25 &  7 &   8.65 & 19.5\\\\\n",
       "\tNeuchatel & 64.4 & 17.6 & 35 & 32 &  16.92 & 23.0\\\\\n",
       "\tCourtelary & 80.2 & 17.0 & 15 & 12 &   9.96 & 22.2\\\\\n",
       "\tLe Locle & 72.7 & 16.7 & 22 & 13 &  11.22 & 18.9\\\\\n",
       "\tLa Vallee & 54.3 & 15.2 & 31 & 20 &   2.15 & 10.8\\\\\n",
       "\tLa Chauxdfnd & 65.7 &  7.7 & 29 & 11 &  13.79 & 20.5\\\\\n",
       "\tV. De Geneve & 35.0 &  1.2 & 37 & 53 &  42.34 & 18.0\\\\\n",
       "\\end{tabular}\n"
      ],
      "text/markdown": [
       "\n",
       "A data.frame: 47 × 6\n",
       "\n",
       "| <!--/--> | Fertility &lt;dbl&gt; | Agriculture &lt;dbl&gt; | Examination &lt;int&gt; | Education &lt;int&gt; | Catholic &lt;dbl&gt; | Infant.Mortality &lt;dbl&gt; |\n",
       "|---|---|---|---|---|---|---|\n",
       "| Herens | 77.3 | 89.7 |  5 |  2 | 100.00 | 18.3 |\n",
       "| Conthey | 75.5 | 85.9 |  3 |  2 |  99.71 | 15.1 |\n",
       "| Entremont | 69.3 | 84.9 |  7 |  6 |  99.68 | 19.8 |\n",
       "| Sierre | 92.2 | 84.6 |  3 |  3 |  99.46 | 16.3 |\n",
       "| Martigwy | 70.5 | 78.2 | 12 |  6 |  98.96 | 19.4 |\n",
       "| St Maurice | 65.0 | 75.9 |  9 |  9 |  99.06 | 17.8 |\n",
       "| Lavaux | 65.1 | 73.0 | 19 |  9 |   2.84 | 20.0 |\n",
       "| Echallens | 68.3 | 72.6 | 18 |  2 |  24.20 | 21.2 |\n",
       "| Oron | 72.5 | 71.2 | 12 |  1 |   2.40 | 21.0 |\n",
       "| Broye | 83.8 | 70.2 | 16 |  7 |  92.85 | 23.6 |\n",
       "| Cossonay | 61.7 | 69.3 | 22 |  5 |   2.82 | 18.7 |\n",
       "| Glane | 92.4 | 67.8 | 14 |  8 |  97.16 | 24.9 |\n",
       "| Aubonne | 66.9 | 67.5 | 14 |  7 |   2.27 | 19.1 |\n",
       "| Monthey | 79.4 | 64.9 |  7 |  3 |  98.22 | 20.2 |\n",
       "| Veveyse | 87.1 | 64.5 | 14 |  6 |  98.61 | 24.5 |\n",
       "| Paysd'enhaut | 72.0 | 63.5 |  6 |  3 |   2.56 | 18.0 |\n",
       "| Sion | 79.3 | 63.1 | 13 | 13 |  96.83 | 18.1 |\n",
       "| Aigle | 64.1 | 62.0 | 21 | 12 |   8.52 | 16.5 |\n",
       "| Rolle | 60.5 | 60.8 | 16 | 10 |   7.72 | 16.3 |\n",
       "| Avenches | 68.9 | 60.7 | 19 | 12 |   4.43 | 22.7 |\n",
       "| Morges | 65.5 | 59.8 | 22 | 10 |   5.23 | 18.0 |\n",
       "| Payerne | 74.2 | 58.1 | 14 |  8 |   5.23 | 23.8 |\n",
       "| Moudon | 65.0 | 55.1 | 14 |  3 |   4.52 | 22.4 |\n",
       "| Orbe | 57.4 | 54.1 | 20 |  6 |   4.20 | 15.3 |\n",
       "| Gruyere | 82.4 | 53.3 | 12 |  7 |  97.67 | 21.0 |\n",
       "| Nyone | 56.6 | 50.9 | 22 | 12 |  15.14 | 16.7 |\n",
       "| Yverdon | 65.4 | 49.5 | 15 |  8 |   6.10 | 22.5 |\n",
       "| Rive Droite | 44.7 | 46.6 | 16 | 29 |  50.43 | 18.2 |\n",
       "| Sarine | 82.9 | 45.2 | 16 | 13 |  91.38 | 24.4 |\n",
       "| Delemont | 83.1 | 45.1 |  6 |  9 |  84.84 | 22.2 |\n",
       "| Neuveville | 76.9 | 43.5 | 17 | 15 |   5.16 | 20.6 |\n",
       "| Franches-Mnt | 92.5 | 39.7 |  5 |  5 |  93.40 | 20.2 |\n",
       "| Boudry | 70.4 | 38.4 | 26 | 12 |   5.62 | 20.3 |\n",
       "| Val de Ruz | 77.6 | 37.6 | 15 |  7 |   4.97 | 20.0 |\n",
       "| Moutier | 85.8 | 36.5 | 12 |  7 |  33.77 | 20.3 |\n",
       "| Porrentruy | 76.1 | 35.3 |  9 |  7 |  90.57 | 26.6 |\n",
       "| Grandson | 71.7 | 34.0 | 17 |  8 |   3.30 | 20.0 |\n",
       "| Rive Gauche | 42.8 | 27.7 | 22 | 29 |  58.33 | 19.3 |\n",
       "| Vevey | 58.3 | 26.8 | 25 | 19 |  18.46 | 20.9 |\n",
       "| Lausanne | 55.7 | 19.4 | 26 | 28 |  12.11 | 20.2 |\n",
       "| ValdeTravers | 67.6 | 18.7 | 25 |  7 |   8.65 | 19.5 |\n",
       "| Neuchatel | 64.4 | 17.6 | 35 | 32 |  16.92 | 23.0 |\n",
       "| Courtelary | 80.2 | 17.0 | 15 | 12 |   9.96 | 22.2 |\n",
       "| Le Locle | 72.7 | 16.7 | 22 | 13 |  11.22 | 18.9 |\n",
       "| La Vallee | 54.3 | 15.2 | 31 | 20 |   2.15 | 10.8 |\n",
       "| La Chauxdfnd | 65.7 |  7.7 | 29 | 11 |  13.79 | 20.5 |\n",
       "| V. De Geneve | 35.0 |  1.2 | 37 | 53 |  42.34 | 18.0 |\n",
       "\n"
      ],
      "text/plain": [
       "             Fertility Agriculture Examination Education Catholic\n",
       "Herens       77.3      89.7         5           2        100.00  \n",
       "Conthey      75.5      85.9         3           2         99.71  \n",
       "Entremont    69.3      84.9         7           6         99.68  \n",
       "Sierre       92.2      84.6         3           3         99.46  \n",
       "Martigwy     70.5      78.2        12           6         98.96  \n",
       "St Maurice   65.0      75.9         9           9         99.06  \n",
       "Lavaux       65.1      73.0        19           9          2.84  \n",
       "Echallens    68.3      72.6        18           2         24.20  \n",
       "Oron         72.5      71.2        12           1          2.40  \n",
       "Broye        83.8      70.2        16           7         92.85  \n",
       "Cossonay     61.7      69.3        22           5          2.82  \n",
       "Glane        92.4      67.8        14           8         97.16  \n",
       "Aubonne      66.9      67.5        14           7          2.27  \n",
       "Monthey      79.4      64.9         7           3         98.22  \n",
       "Veveyse      87.1      64.5        14           6         98.61  \n",
       "Paysd'enhaut 72.0      63.5         6           3          2.56  \n",
       "Sion         79.3      63.1        13          13         96.83  \n",
       "Aigle        64.1      62.0        21          12          8.52  \n",
       "Rolle        60.5      60.8        16          10          7.72  \n",
       "Avenches     68.9      60.7        19          12          4.43  \n",
       "Morges       65.5      59.8        22          10          5.23  \n",
       "Payerne      74.2      58.1        14           8          5.23  \n",
       "Moudon       65.0      55.1        14           3          4.52  \n",
       "Orbe         57.4      54.1        20           6          4.20  \n",
       "Gruyere      82.4      53.3        12           7         97.67  \n",
       "Nyone        56.6      50.9        22          12         15.14  \n",
       "Yverdon      65.4      49.5        15           8          6.10  \n",
       "Rive Droite  44.7      46.6        16          29         50.43  \n",
       "Sarine       82.9      45.2        16          13         91.38  \n",
       "Delemont     83.1      45.1         6           9         84.84  \n",
       "Neuveville   76.9      43.5        17          15          5.16  \n",
       "Franches-Mnt 92.5      39.7         5           5         93.40  \n",
       "Boudry       70.4      38.4        26          12          5.62  \n",
       "Val de Ruz   77.6      37.6        15           7          4.97  \n",
       "Moutier      85.8      36.5        12           7         33.77  \n",
       "Porrentruy   76.1      35.3         9           7         90.57  \n",
       "Grandson     71.7      34.0        17           8          3.30  \n",
       "Rive Gauche  42.8      27.7        22          29         58.33  \n",
       "Vevey        58.3      26.8        25          19         18.46  \n",
       "Lausanne     55.7      19.4        26          28         12.11  \n",
       "ValdeTravers 67.6      18.7        25           7          8.65  \n",
       "Neuchatel    64.4      17.6        35          32         16.92  \n",
       "Courtelary   80.2      17.0        15          12          9.96  \n",
       "Le Locle     72.7      16.7        22          13         11.22  \n",
       "La Vallee    54.3      15.2        31          20          2.15  \n",
       "La Chauxdfnd 65.7       7.7        29          11         13.79  \n",
       "V. De Geneve 35.0       1.2        37          53         42.34  \n",
       "             Infant.Mortality\n",
       "Herens       18.3            \n",
       "Conthey      15.1            \n",
       "Entremont    19.8            \n",
       "Sierre       16.3            \n",
       "Martigwy     19.4            \n",
       "St Maurice   17.8            \n",
       "Lavaux       20.0            \n",
       "Echallens    21.2            \n",
       "Oron         21.0            \n",
       "Broye        23.6            \n",
       "Cossonay     18.7            \n",
       "Glane        24.9            \n",
       "Aubonne      19.1            \n",
       "Monthey      20.2            \n",
       "Veveyse      24.5            \n",
       "Paysd'enhaut 18.0            \n",
       "Sion         18.1            \n",
       "Aigle        16.5            \n",
       "Rolle        16.3            \n",
       "Avenches     22.7            \n",
       "Morges       18.0            \n",
       "Payerne      23.8            \n",
       "Moudon       22.4            \n",
       "Orbe         15.3            \n",
       "Gruyere      21.0            \n",
       "Nyone        16.7            \n",
       "Yverdon      22.5            \n",
       "Rive Droite  18.2            \n",
       "Sarine       24.4            \n",
       "Delemont     22.2            \n",
       "Neuveville   20.6            \n",
       "Franches-Mnt 20.2            \n",
       "Boudry       20.3            \n",
       "Val de Ruz   20.0            \n",
       "Moutier      20.3            \n",
       "Porrentruy   26.6            \n",
       "Grandson     20.0            \n",
       "Rive Gauche  19.3            \n",
       "Vevey        20.9            \n",
       "Lausanne     20.2            \n",
       "ValdeTravers 19.5            \n",
       "Neuchatel    23.0            \n",
       "Courtelary   22.2            \n",
       "Le Locle     18.9            \n",
       "La Vallee    10.8            \n",
       "La Chauxdfnd 20.5            \n",
       "V. De Geneve 18.0            "
      ]
     },
     "metadata": {},
     "output_type": "display_data"
    }
   ],
   "source": [
    "swiss[order(swiss$Agriculture, decreasing=T), ]"
   ]
  },
  {
   "cell_type": "code",
   "execution_count": 61,
   "id": "016dd402",
   "metadata": {},
   "outputs": [
    {
     "data": {
      "text/html": [
       "<table class=\"dataframe\">\n",
       "<caption>A data.frame: 16 × 1</caption>\n",
       "<thead>\n",
       "\t<tr><th></th><th scope=col>Agriculture</th></tr>\n",
       "\t<tr><th></th><th scope=col>&lt;dbl&gt;</th></tr>\n",
       "</thead>\n",
       "<tbody>\n",
       "\t<tr><th scope=row>Delemont</th><td>45.1</td></tr>\n",
       "\t<tr><th scope=row>Franches-Mnt</th><td>39.7</td></tr>\n",
       "\t<tr><th scope=row>Porrentruy</th><td>35.3</td></tr>\n",
       "\t<tr><th scope=row>Broye</th><td>70.2</td></tr>\n",
       "\t<tr><th scope=row>Glane</th><td>67.8</td></tr>\n",
       "\t<tr><th scope=row>Gruyere</th><td>53.3</td></tr>\n",
       "\t<tr><th scope=row>Sarine</th><td>45.2</td></tr>\n",
       "\t<tr><th scope=row>Veveyse</th><td>64.5</td></tr>\n",
       "\t<tr><th scope=row>Conthey</th><td>85.9</td></tr>\n",
       "\t<tr><th scope=row>Entremont</th><td>84.9</td></tr>\n",
       "\t<tr><th scope=row>Herens</th><td>89.7</td></tr>\n",
       "\t<tr><th scope=row>Martigwy</th><td>78.2</td></tr>\n",
       "\t<tr><th scope=row>Monthey</th><td>64.9</td></tr>\n",
       "\t<tr><th scope=row>St Maurice</th><td>75.9</td></tr>\n",
       "\t<tr><th scope=row>Sierre</th><td>84.6</td></tr>\n",
       "\t<tr><th scope=row>Sion</th><td>63.1</td></tr>\n",
       "</tbody>\n",
       "</table>\n"
      ],
      "text/latex": [
       "A data.frame: 16 × 1\n",
       "\\begin{tabular}{r|l}\n",
       "  & Agriculture\\\\\n",
       "  & <dbl>\\\\\n",
       "\\hline\n",
       "\tDelemont & 45.1\\\\\n",
       "\tFranches-Mnt & 39.7\\\\\n",
       "\tPorrentruy & 35.3\\\\\n",
       "\tBroye & 70.2\\\\\n",
       "\tGlane & 67.8\\\\\n",
       "\tGruyere & 53.3\\\\\n",
       "\tSarine & 45.2\\\\\n",
       "\tVeveyse & 64.5\\\\\n",
       "\tConthey & 85.9\\\\\n",
       "\tEntremont & 84.9\\\\\n",
       "\tHerens & 89.7\\\\\n",
       "\tMartigwy & 78.2\\\\\n",
       "\tMonthey & 64.9\\\\\n",
       "\tSt Maurice & 75.9\\\\\n",
       "\tSierre & 84.6\\\\\n",
       "\tSion & 63.1\\\\\n",
       "\\end{tabular}\n"
      ],
      "text/markdown": [
       "\n",
       "A data.frame: 16 × 1\n",
       "\n",
       "| <!--/--> | Agriculture &lt;dbl&gt; |\n",
       "|---|---|\n",
       "| Delemont | 45.1 |\n",
       "| Franches-Mnt | 39.7 |\n",
       "| Porrentruy | 35.3 |\n",
       "| Broye | 70.2 |\n",
       "| Glane | 67.8 |\n",
       "| Gruyere | 53.3 |\n",
       "| Sarine | 45.2 |\n",
       "| Veveyse | 64.5 |\n",
       "| Conthey | 85.9 |\n",
       "| Entremont | 84.9 |\n",
       "| Herens | 89.7 |\n",
       "| Martigwy | 78.2 |\n",
       "| Monthey | 64.9 |\n",
       "| St Maurice | 75.9 |\n",
       "| Sierre | 84.6 |\n",
       "| Sion | 63.1 |\n",
       "\n"
      ],
      "text/plain": [
       "             Agriculture\n",
       "Delemont     45.1       \n",
       "Franches-Mnt 39.7       \n",
       "Porrentruy   35.3       \n",
       "Broye        70.2       \n",
       "Glane        67.8       \n",
       "Gruyere      53.3       \n",
       "Sarine       45.2       \n",
       "Veveyse      64.5       \n",
       "Conthey      85.9       \n",
       "Entremont    84.9       \n",
       "Herens       89.7       \n",
       "Martigwy     78.2       \n",
       "Monthey      64.9       \n",
       "St Maurice   75.9       \n",
       "Sierre       84.6       \n",
       "Sion         63.1       "
      ]
     },
     "metadata": {},
     "output_type": "display_data"
    }
   ],
   "source": [
    "df[df$Catholic > 80, ]['Agriculture']"
   ]
  },
  {
   "cell_type": "code",
   "execution_count": 63,
   "id": "d7313b95",
   "metadata": {},
   "outputs": [
    {
     "data": {
      "text/html": [
       "<table class=\"dataframe\">\n",
       "<caption>A data.frame: 11 × 2</caption>\n",
       "<thead>\n",
       "\t<tr><th></th><th scope=col>Examination</th><th scope=col>Agriculture</th></tr>\n",
       "\t<tr><th></th><th scope=col>&lt;int&gt;</th><th scope=col>&lt;dbl&gt;</th></tr>\n",
       "</thead>\n",
       "<tbody>\n",
       "\t<tr><th scope=row>Courtelary</th><td>15</td><td>17.0</td></tr>\n",
       "\t<tr><th scope=row>Delemont</th><td> 6</td><td>45.1</td></tr>\n",
       "\t<tr><th scope=row>Franches-Mnt</th><td> 5</td><td>39.7</td></tr>\n",
       "\t<tr><th scope=row>Moutier</th><td>12</td><td>36.5</td></tr>\n",
       "\t<tr><th scope=row>Neuveville</th><td>17</td><td>43.5</td></tr>\n",
       "\t<tr><th scope=row>Porrentruy</th><td> 9</td><td>35.3</td></tr>\n",
       "\t<tr><th scope=row>Sarine</th><td>16</td><td>45.2</td></tr>\n",
       "\t<tr><th scope=row>Grandson</th><td>17</td><td>34.0</td></tr>\n",
       "\t<tr><th scope=row>Yverdon</th><td>15</td><td>49.5</td></tr>\n",
       "\t<tr><th scope=row>Val de Ruz</th><td>15</td><td>37.6</td></tr>\n",
       "\t<tr><th scope=row>Rive Droite</th><td>16</td><td>46.6</td></tr>\n",
       "</tbody>\n",
       "</table>\n"
      ],
      "text/latex": [
       "A data.frame: 11 × 2\n",
       "\\begin{tabular}{r|ll}\n",
       "  & Examination & Agriculture\\\\\n",
       "  & <int> & <dbl>\\\\\n",
       "\\hline\n",
       "\tCourtelary & 15 & 17.0\\\\\n",
       "\tDelemont &  6 & 45.1\\\\\n",
       "\tFranches-Mnt &  5 & 39.7\\\\\n",
       "\tMoutier & 12 & 36.5\\\\\n",
       "\tNeuveville & 17 & 43.5\\\\\n",
       "\tPorrentruy &  9 & 35.3\\\\\n",
       "\tSarine & 16 & 45.2\\\\\n",
       "\tGrandson & 17 & 34.0\\\\\n",
       "\tYverdon & 15 & 49.5\\\\\n",
       "\tVal de Ruz & 15 & 37.6\\\\\n",
       "\tRive Droite & 16 & 46.6\\\\\n",
       "\\end{tabular}\n"
      ],
      "text/markdown": [
       "\n",
       "A data.frame: 11 × 2\n",
       "\n",
       "| <!--/--> | Examination &lt;int&gt; | Agriculture &lt;dbl&gt; |\n",
       "|---|---|---|\n",
       "| Courtelary | 15 | 17.0 |\n",
       "| Delemont |  6 | 45.1 |\n",
       "| Franches-Mnt |  5 | 39.7 |\n",
       "| Moutier | 12 | 36.5 |\n",
       "| Neuveville | 17 | 43.5 |\n",
       "| Porrentruy |  9 | 35.3 |\n",
       "| Sarine | 16 | 45.2 |\n",
       "| Grandson | 17 | 34.0 |\n",
       "| Yverdon | 15 | 49.5 |\n",
       "| Val de Ruz | 15 | 37.6 |\n",
       "| Rive Droite | 16 | 46.6 |\n",
       "\n"
      ],
      "text/plain": [
       "             Examination Agriculture\n",
       "Courtelary   15          17.0       \n",
       "Delemont      6          45.1       \n",
       "Franches-Mnt  5          39.7       \n",
       "Moutier      12          36.5       \n",
       "Neuveville   17          43.5       \n",
       "Porrentruy    9          35.3       \n",
       "Sarine       16          45.2       \n",
       "Grandson     17          34.0       \n",
       "Yverdon      15          49.5       \n",
       "Val de Ruz   15          37.6       \n",
       "Rive Droite  16          46.6       "
      ]
     },
     "metadata": {},
     "output_type": "display_data"
    }
   ],
   "source": [
    "df[df$Examination < 20 & df$Agriculture < 50, ][c('Examination', 'Agriculture')]"
   ]
  },
  {
   "cell_type": "code",
   "execution_count": 66,
   "id": "b37a8b9a",
   "metadata": {},
   "outputs": [],
   "source": [
    "df = data.frame(state.x77)"
   ]
  },
  {
   "cell_type": "code",
   "execution_count": 68,
   "id": "39cdecb0",
   "metadata": {},
   "outputs": [
    {
     "data": {
      "text/html": [
       "<table class=\"dataframe\">\n",
       "<caption>A data.frame: 8 × 3</caption>\n",
       "<thead>\n",
       "\t<tr><th></th><th scope=col>Income</th><th scope=col>Population</th><th scope=col>Area</th></tr>\n",
       "\t<tr><th></th><th scope=col>&lt;dbl&gt;</th><th scope=col>&lt;dbl&gt;</th><th scope=col>&lt;dbl&gt;</th></tr>\n",
       "</thead>\n",
       "<tbody>\n",
       "\t<tr><th scope=row>Alaska</th><td>6315</td><td>  365</td><td>566432</td></tr>\n",
       "\t<tr><th scope=row>California</th><td>5114</td><td>21198</td><td>156361</td></tr>\n",
       "\t<tr><th scope=row>Connecticut</th><td>5348</td><td> 3100</td><td>  4862</td></tr>\n",
       "\t<tr><th scope=row>Illinois</th><td>5107</td><td>11197</td><td> 55748</td></tr>\n",
       "\t<tr><th scope=row>Maryland</th><td>5299</td><td> 4122</td><td>  9891</td></tr>\n",
       "\t<tr><th scope=row>Nevada</th><td>5149</td><td>  590</td><td>109889</td></tr>\n",
       "\t<tr><th scope=row>New Jersey</th><td>5237</td><td> 7333</td><td>  7521</td></tr>\n",
       "\t<tr><th scope=row>North Dakota</th><td>5087</td><td>  637</td><td> 69273</td></tr>\n",
       "</tbody>\n",
       "</table>\n"
      ],
      "text/latex": [
       "A data.frame: 8 × 3\n",
       "\\begin{tabular}{r|lll}\n",
       "  & Income & Population & Area\\\\\n",
       "  & <dbl> & <dbl> & <dbl>\\\\\n",
       "\\hline\n",
       "\tAlaska & 6315 &   365 & 566432\\\\\n",
       "\tCalifornia & 5114 & 21198 & 156361\\\\\n",
       "\tConnecticut & 5348 &  3100 &   4862\\\\\n",
       "\tIllinois & 5107 & 11197 &  55748\\\\\n",
       "\tMaryland & 5299 &  4122 &   9891\\\\\n",
       "\tNevada & 5149 &   590 & 109889\\\\\n",
       "\tNew Jersey & 5237 &  7333 &   7521\\\\\n",
       "\tNorth Dakota & 5087 &   637 &  69273\\\\\n",
       "\\end{tabular}\n"
      ],
      "text/markdown": [
       "\n",
       "A data.frame: 8 × 3\n",
       "\n",
       "| <!--/--> | Income &lt;dbl&gt; | Population &lt;dbl&gt; | Area &lt;dbl&gt; |\n",
       "|---|---|---|---|\n",
       "| Alaska | 6315 |   365 | 566432 |\n",
       "| California | 5114 | 21198 | 156361 |\n",
       "| Connecticut | 5348 |  3100 |   4862 |\n",
       "| Illinois | 5107 | 11197 |  55748 |\n",
       "| Maryland | 5299 |  4122 |   9891 |\n",
       "| Nevada | 5149 |   590 | 109889 |\n",
       "| New Jersey | 5237 |  7333 |   7521 |\n",
       "| North Dakota | 5087 |   637 |  69273 |\n",
       "\n"
      ],
      "text/plain": [
       "             Income Population Area  \n",
       "Alaska       6315     365      566432\n",
       "California   5114   21198      156361\n",
       "Connecticut  5348    3100        4862\n",
       "Illinois     5107   11197       55748\n",
       "Maryland     5299    4122        9891\n",
       "Nevada       5149     590      109889\n",
       "New Jersey   5237    7333        7521\n",
       "North Dakota 5087     637       69273"
      ]
     },
     "metadata": {},
     "output_type": "display_data"
    }
   ],
   "source": [
    "df[df$Income >= 5000, ][c('Income', 'Population', 'Area')]"
   ]
  },
  {
   "cell_type": "code",
   "execution_count": 71,
   "id": "5985d223",
   "metadata": {},
   "outputs": [],
   "source": [
    "count <- 0\n",
    "add <- 0\n",
    "for(i in 1:100){\n",
    "    if(i%%3 == 0){\n",
    "        add <- add + 1\n",
    "        count <- count + i\n",
    "    }\n",
    "}"
   ]
  },
  {
   "cell_type": "code",
   "execution_count": 72,
   "id": "97a10f16",
   "metadata": {},
   "outputs": [
    {
     "data": {
      "text/html": [
       "33"
      ],
      "text/latex": [
       "33"
      ],
      "text/markdown": [
       "33"
      ],
      "text/plain": [
       "[1] 33"
      ]
     },
     "metadata": {},
     "output_type": "display_data"
    },
    {
     "data": {
      "text/html": [
       "1683"
      ],
      "text/latex": [
       "1683"
      ],
      "text/markdown": [
       "1683"
      ],
      "text/plain": [
       "[1] 1683"
      ]
     },
     "metadata": {},
     "output_type": "display_data"
    }
   ],
   "source": [
    "add\n",
    "count"
   ]
  },
  {
   "cell_type": "code",
   "execution_count": 73,
   "id": "0ea0b2bb",
   "metadata": {},
   "outputs": [
    {
     "name": "stdout",
     "output_type": "stream",
     "text": [
      "108  120  132  144  156  168  180  192  "
     ]
    }
   ],
   "source": [
    "for(i in 101:200){\n",
    "    if(i%%3==0 & i%%4 == 0){\n",
    "        cat(i, \" \")\n",
    "    }\n",
    "}"
   ]
  },
  {
   "cell_type": "code",
   "execution_count": null,
   "id": "6765e518",
   "metadata": {},
   "outputs": [],
   "source": []
  }
 ],
 "metadata": {
  "kernelspec": {
   "display_name": "R",
   "language": "R",
   "name": "ir"
  },
  "language_info": {
   "codemirror_mode": "r",
   "file_extension": ".r",
   "mimetype": "text/x-r-source",
   "name": "R",
   "pygments_lexer": "r",
   "version": "4.3.1"
  }
 },
 "nbformat": 4,
 "nbformat_minor": 5
}
