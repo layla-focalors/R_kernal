{
 "cells": [
  {
   "cell_type": "code",
   "execution_count": 1,
   "id": "0a9e3127",
   "metadata": {},
   "outputs": [],
   "source": [
    "x <- c(2, 4, 6, 8)\n",
    "y <- c(10, 12, 14, 16)\n",
    "z <- c(18, 20, 22, 24)\n",
    "m <- cbind(x, y, z)"
   ]
  },
  {
   "cell_type": "code",
   "execution_count": 2,
   "id": "e26a72a0",
   "metadata": {},
   "outputs": [
    {
     "data": {
      "text/html": [
       "<table class=\"dataframe\">\n",
       "<caption>A matrix: 4 × 3 of type dbl</caption>\n",
       "<thead>\n",
       "\t<tr><th scope=col>x</th><th scope=col>y</th><th scope=col>z</th></tr>\n",
       "</thead>\n",
       "<tbody>\n",
       "\t<tr><td>2</td><td>10</td><td>18</td></tr>\n",
       "\t<tr><td>4</td><td>12</td><td>20</td></tr>\n",
       "\t<tr><td>6</td><td>14</td><td>22</td></tr>\n",
       "\t<tr><td>8</td><td>16</td><td>24</td></tr>\n",
       "</tbody>\n",
       "</table>\n"
      ],
      "text/latex": [
       "A matrix: 4 × 3 of type dbl\n",
       "\\begin{tabular}{lll}\n",
       " x & y & z\\\\\n",
       "\\hline\n",
       "\t 2 & 10 & 18\\\\\n",
       "\t 4 & 12 & 20\\\\\n",
       "\t 6 & 14 & 22\\\\\n",
       "\t 8 & 16 & 24\\\\\n",
       "\\end{tabular}\n"
      ],
      "text/markdown": [
       "\n",
       "A matrix: 4 × 3 of type dbl\n",
       "\n",
       "| x | y | z |\n",
       "|---|---|---|\n",
       "| 2 | 10 | 18 |\n",
       "| 4 | 12 | 20 |\n",
       "| 6 | 14 | 22 |\n",
       "| 8 | 16 | 24 |\n",
       "\n"
      ],
      "text/plain": [
       "     x y  z \n",
       "[1,] 2 10 18\n",
       "[2,] 4 12 20\n",
       "[3,] 6 14 22\n",
       "[4,] 8 16 24"
      ]
     },
     "metadata": {},
     "output_type": "display_data"
    }
   ],
   "source": [
    "m"
   ]
  },
  {
   "cell_type": "code",
   "execution_count": 3,
   "id": "50fb388b",
   "metadata": {},
   "outputs": [
    {
     "data": {
      "text/html": [
       "<table class=\"dataframe\">\n",
       "<caption>A matrix: 4 × 3 of type dbl</caption>\n",
       "<tbody>\n",
       "\t<tr><td>2</td><td>10</td><td>18</td></tr>\n",
       "\t<tr><td>4</td><td>12</td><td>20</td></tr>\n",
       "\t<tr><td>6</td><td>14</td><td>22</td></tr>\n",
       "\t<tr><td>8</td><td>16</td><td>24</td></tr>\n",
       "</tbody>\n",
       "</table>\n"
      ],
      "text/latex": [
       "A matrix: 4 × 3 of type dbl\n",
       "\\begin{tabular}{lll}\n",
       "\t 2 & 10 & 18\\\\\n",
       "\t 4 & 12 & 20\\\\\n",
       "\t 6 & 14 & 22\\\\\n",
       "\t 8 & 16 & 24\\\\\n",
       "\\end{tabular}\n"
      ],
      "text/markdown": [
       "\n",
       "A matrix: 4 × 3 of type dbl\n",
       "\n",
       "| 2 | 10 | 18 |\n",
       "| 4 | 12 | 20 |\n",
       "| 6 | 14 | 22 |\n",
       "| 8 | 16 | 24 |\n",
       "\n"
      ],
      "text/plain": [
       "     [,1] [,2] [,3]\n",
       "[1,] 2    10   18  \n",
       "[2,] 4    12   20  \n",
       "[3,] 6    14   22  \n",
       "[4,] 8    16   24  "
      ]
     },
     "metadata": {},
     "output_type": "display_data"
    }
   ],
   "source": [
    "matrix(c(2, 10, 18, 4, 12, 20, 6, 14, 22, 8, 16, 24), nrow=4, byrow=T)"
   ]
  },
  {
   "cell_type": "code",
   "execution_count": 4,
   "id": "c0ffcdc6",
   "metadata": {},
   "outputs": [
    {
     "data": {
      "text/html": [
       "<table class=\"dataframe\">\n",
       "<caption>A matrix: 4 × 3 of type dbl</caption>\n",
       "<tbody>\n",
       "\t<tr><td>2</td><td>10</td><td>18</td></tr>\n",
       "\t<tr><td>4</td><td>12</td><td>20</td></tr>\n",
       "\t<tr><td>6</td><td>14</td><td>22</td></tr>\n",
       "\t<tr><td>8</td><td>16</td><td>24</td></tr>\n",
       "</tbody>\n",
       "</table>\n"
      ],
      "text/latex": [
       "A matrix: 4 × 3 of type dbl\n",
       "\\begin{tabular}{lll}\n",
       "\t 2 & 10 & 18\\\\\n",
       "\t 4 & 12 & 20\\\\\n",
       "\t 6 & 14 & 22\\\\\n",
       "\t 8 & 16 & 24\\\\\n",
       "\\end{tabular}\n"
      ],
      "text/markdown": [
       "\n",
       "A matrix: 4 × 3 of type dbl\n",
       "\n",
       "| 2 | 10 | 18 |\n",
       "| 4 | 12 | 20 |\n",
       "| 6 | 14 | 22 |\n",
       "| 8 | 16 | 24 |\n",
       "\n"
      ],
      "text/plain": [
       "     [,1] [,2] [,3]\n",
       "[1,] 2    10   18  \n",
       "[2,] 4    12   20  \n",
       "[3,] 6    14   22  \n",
       "[4,] 8    16   24  "
      ]
     },
     "metadata": {},
     "output_type": "display_data"
    }
   ],
   "source": [
    "matrix(c(2, 4, 6, 8, 10, 12, 14, 16, 18, 20, 22, 24), ncol=3)"
   ]
  },
  {
   "cell_type": "code",
   "execution_count": 5,
   "id": "9ac43a1d",
   "metadata": {},
   "outputs": [
    {
     "data": {
      "text/html": [
       "<table class=\"dataframe\">\n",
       "<caption>A matrix: 2 × 4 of type dbl</caption>\n",
       "<tbody>\n",
       "\t<tr><td>9</td><td>8</td><td>7</td><td>11</td></tr>\n",
       "\t<tr><td>5</td><td>2</td><td>3</td><td> 9</td></tr>\n",
       "</tbody>\n",
       "</table>\n"
      ],
      "text/latex": [
       "A matrix: 2 × 4 of type dbl\n",
       "\\begin{tabular}{llll}\n",
       "\t 9 & 8 & 7 & 11\\\\\n",
       "\t 5 & 2 & 3 &  9\\\\\n",
       "\\end{tabular}\n"
      ],
      "text/markdown": [
       "\n",
       "A matrix: 2 × 4 of type dbl\n",
       "\n",
       "| 9 | 8 | 7 | 11 |\n",
       "| 5 | 2 | 3 |  9 |\n",
       "\n"
      ],
      "text/plain": [
       "     [,1] [,2] [,3] [,4]\n",
       "[1,] 9    8    7    11  \n",
       "[2,] 5    2    3     9  "
      ]
     },
     "metadata": {},
     "output_type": "display_data"
    }
   ],
   "source": [
    "m <- matrix(c(9, 8, 7, 11, 5, 2, 3, 9), nrow=2, byrow=T)\n",
    "m"
   ]
  },
  {
   "cell_type": "code",
   "execution_count": 6,
   "id": "b3c4769f",
   "metadata": {},
   "outputs": [],
   "source": [
    "rownames(m) <- c('x',' y')\n",
    "colnames(m) <- c('a', 'b', 'c', 'd')"
   ]
  },
  {
   "cell_type": "code",
   "execution_count": 7,
   "id": "7d7d7e8f",
   "metadata": {},
   "outputs": [
    {
     "data": {
      "text/html": [
       "<table class=\"dataframe\">\n",
       "<caption>A matrix: 2 × 4 of type dbl</caption>\n",
       "<thead>\n",
       "\t<tr><th></th><th scope=col>a</th><th scope=col>b</th><th scope=col>c</th><th scope=col>d</th></tr>\n",
       "</thead>\n",
       "<tbody>\n",
       "\t<tr><th scope=row>x</th><td>9</td><td>8</td><td>7</td><td>11</td></tr>\n",
       "\t<tr><th scope=row> y</th><td>5</td><td>2</td><td>3</td><td> 9</td></tr>\n",
       "</tbody>\n",
       "</table>\n"
      ],
      "text/latex": [
       "A matrix: 2 × 4 of type dbl\n",
       "\\begin{tabular}{r|llll}\n",
       "  & a & b & c & d\\\\\n",
       "\\hline\n",
       "\tx & 9 & 8 & 7 & 11\\\\\n",
       "\t y & 5 & 2 & 3 &  9\\\\\n",
       "\\end{tabular}\n"
      ],
      "text/markdown": [
       "\n",
       "A matrix: 2 × 4 of type dbl\n",
       "\n",
       "| <!--/--> | a | b | c | d |\n",
       "|---|---|---|---|---|\n",
       "| x | 9 | 8 | 7 | 11 |\n",
       "|  y | 5 | 2 | 3 |  9 |\n",
       "\n"
      ],
      "text/plain": [
       "   a b c d \n",
       "x  9 8 7 11\n",
       " y 5 2 3  9"
      ]
     },
     "metadata": {},
     "output_type": "display_data"
    }
   ],
   "source": [
    "m\n",
    "# 단순 매트릭스에도 데이터 프레임처럼 1차원 벡터가 아니기에, rownames, colnames 사용 가능"
   ]
  },
  {
   "cell_type": "code",
   "execution_count": 8,
   "id": "ac73390c",
   "metadata": {},
   "outputs": [
    {
     "data": {
      "text/html": [
       "<table class=\"dataframe\">\n",
       "<caption>A data.frame: 7 × 3</caption>\n",
       "<thead>\n",
       "\t<tr><th scope=col>번호</th><th scope=col>제목</th><th scope=col>좋아요</th></tr>\n",
       "\t<tr><th scope=col>&lt;int&gt;</th><th scope=col>&lt;chr&gt;</th><th scope=col>&lt;dbl&gt;</th></tr>\n",
       "</thead>\n",
       "<tbody>\n",
       "\t<tr><td>1</td><td>그대랑</td><td>16075</td></tr>\n",
       "\t<tr><td>2</td><td>다툼  </td><td> 8218</td></tr>\n",
       "\t<tr><td>3</td><td>빨래  </td><td>12119</td></tr>\n",
       "\t<tr><td>4</td><td>두통  </td><td>  738</td></tr>\n",
       "\t<tr><td>5</td><td>보조개</td><td> 3200</td></tr>\n",
       "\t<tr><td>6</td><td>매듭  </td><td>16144</td></tr>\n",
       "\t<tr><td>7</td><td>이상해</td><td> 5100</td></tr>\n",
       "</tbody>\n",
       "</table>\n"
      ],
      "text/latex": [
       "A data.frame: 7 × 3\n",
       "\\begin{tabular}{lll}\n",
       " 번호 & 제목 & 좋아요\\\\\n",
       " <int> & <chr> & <dbl>\\\\\n",
       "\\hline\n",
       "\t 1 & 그대랑 & 16075\\\\\n",
       "\t 2 & 다툼   &  8218\\\\\n",
       "\t 3 & 빨래   & 12119\\\\\n",
       "\t 4 & 두통   &   738\\\\\n",
       "\t 5 & 보조개 &  3200\\\\\n",
       "\t 6 & 매듭   & 16144\\\\\n",
       "\t 7 & 이상해 &  5100\\\\\n",
       "\\end{tabular}\n"
      ],
      "text/markdown": [
       "\n",
       "A data.frame: 7 × 3\n",
       "\n",
       "| 번호 &lt;int&gt; | 제목 &lt;chr&gt; | 좋아요 &lt;dbl&gt; |\n",
       "|---|---|---|\n",
       "| 1 | 그대랑 | 16075 |\n",
       "| 2 | 다툼   |  8218 |\n",
       "| 3 | 빨래   | 12119 |\n",
       "| 4 | 두통   |   738 |\n",
       "| 5 | 보조개 |  3200 |\n",
       "| 6 | 매듭   | 16144 |\n",
       "| 7 | 이상해 |  5100 |\n",
       "\n"
      ],
      "text/plain": [
       "  번호 제목   좋아요\n",
       "1 1    그대랑 16075 \n",
       "2 2    다툼    8218 \n",
       "3 3    빨래   12119 \n",
       "4 4    두통     738 \n",
       "5 5    보조개  3200 \n",
       "6 6    매듭   16144 \n",
       "7 7    이상해  5100 "
      ]
     },
     "metadata": {},
     "output_type": "display_data"
    }
   ],
   "source": [
    "번호 <- 1:7\n",
    "제목 <- c(\"그대랑\", '다툼', '빨래', '두통', '보조개', '매듭', '이상해')\n",
    "좋아요 <- c(16075, 8218, 12119, 738, 3200, 16144, 5100)\n",
    "love <- data.frame(번호, 제목, 좋아요)\n",
    "love"
   ]
  },
  {
   "cell_type": "code",
   "execution_count": 11,
   "id": "8e1e5453",
   "metadata": {},
   "outputs": [
    {
     "data": {
      "text/html": [
       "<table class=\"dataframe\">\n",
       "<caption>A data.frame: 1 × 3</caption>\n",
       "<thead>\n",
       "\t<tr><th></th><th scope=col>번호</th><th scope=col>제목</th><th scope=col>좋아요</th></tr>\n",
       "\t<tr><th></th><th scope=col>&lt;int&gt;</th><th scope=col>&lt;chr&gt;</th><th scope=col>&lt;dbl&gt;</th></tr>\n",
       "</thead>\n",
       "<tbody>\n",
       "\t<tr><th scope=row>6</th><td>6</td><td>매듭</td><td>16144</td></tr>\n",
       "</tbody>\n",
       "</table>\n"
      ],
      "text/latex": [
       "A data.frame: 1 × 3\n",
       "\\begin{tabular}{r|lll}\n",
       "  & 번호 & 제목 & 좋아요\\\\\n",
       "  & <int> & <chr> & <dbl>\\\\\n",
       "\\hline\n",
       "\t6 & 6 & 매듭 & 16144\\\\\n",
       "\\end{tabular}\n"
      ],
      "text/markdown": [
       "\n",
       "A data.frame: 1 × 3\n",
       "\n",
       "| <!--/--> | 번호 &lt;int&gt; | 제목 &lt;chr&gt; | 좋아요 &lt;dbl&gt; |\n",
       "|---|---|---|---|\n",
       "| 6 | 6 | 매듭 | 16144 |\n",
       "\n"
      ],
      "text/plain": [
       "  번호 제목 좋아요\n",
       "6 6    매듭 16144 "
      ]
     },
     "metadata": {},
     "output_type": "display_data"
    }
   ],
   "source": [
    "best <- love[love['좋아요'] == max(love['좋아요']), ] \n",
    "best"
   ]
  }
 ],
 "metadata": {
  "kernelspec": {
   "display_name": "R",
   "language": "R",
   "name": "ir"
  },
  "language_info": {
   "codemirror_mode": "r",
   "file_extension": ".r",
   "mimetype": "text/x-r-source",
   "name": "R",
   "pygments_lexer": "r",
   "version": "4.3.1"
  }
 },
 "nbformat": 4,
 "nbformat_minor": 5
}
