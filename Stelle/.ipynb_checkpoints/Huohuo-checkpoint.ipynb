{
 "cells": [
  {
   "cell_type": "code",
   "execution_count": 1,
   "id": "2831f1cb",
   "metadata": {},
   "outputs": [],
   "source": [
    "n <- 12"
   ]
  },
  {
   "cell_type": "code",
   "execution_count": 2,
   "id": "23a2e493",
   "metadata": {},
   "outputs": [
    {
     "data": {
      "text/html": [
       "'even'"
      ],
      "text/latex": [
       "'even'"
      ],
      "text/markdown": [
       "'even'"
      ],
      "text/plain": [
       "[1] \"even\""
      ]
     },
     "metadata": {},
     "output_type": "display_data"
    }
   ],
   "source": [
    "if(n%%2 == 1){\n",
    "    type <- 'odd'\n",
    "}else {\n",
    "    type <- 'even'\n",
    "}\n",
    "type"
   ]
  },
  {
   "cell_type": "code",
   "execution_count": 3,
   "id": "5e7a82ae",
   "metadata": {},
   "outputs": [
    {
     "data": {
      "text/html": [
       "12"
      ],
      "text/latex": [
       "12"
      ],
      "text/markdown": [
       "12"
      ],
      "text/plain": [
       "[1] 12"
      ]
     },
     "metadata": {},
     "output_type": "display_data"
    }
   ],
   "source": [
    "ifelse(n < 0, -n, n)"
   ]
  },
  {
   "cell_type": "code",
   "execution_count": 4,
   "id": "e4f8f01a",
   "metadata": {},
   "outputs": [],
   "source": [
    "count <- 1\n",
    "for(i in 1:20){\n",
    "    if(i%%2 ==1){\n",
    "        count <- count * i\n",
    "    }\n",
    "}"
   ]
  },
  {
   "cell_type": "code",
   "execution_count": 5,
   "id": "c3be7a78",
   "metadata": {},
   "outputs": [
    {
     "data": {
      "text/html": [
       "654729075"
      ],
      "text/latex": [
       "654729075"
      ],
      "text/markdown": [
       "654729075"
      ],
      "text/plain": [
       "[1] 654729075"
      ]
     },
     "metadata": {},
     "output_type": "display_data"
    }
   ],
   "source": [
    "count"
   ]
  },
  {
   "cell_type": "code",
   "execution_count": 6,
   "id": "86b825db",
   "metadata": {},
   "outputs": [
    {
     "data": {
      "text/html": [
       "654729075"
      ],
      "text/latex": [
       "654729075"
      ],
      "text/markdown": [
       "654729075"
      ],
      "text/plain": [
       "[1] 654729075"
      ]
     },
     "metadata": {},
     "output_type": "display_data"
    }
   ],
   "source": [
    "count <- 1\n",
    "for(i in seq(1, 20, 2)){\n",
    "    count <- count * i\n",
    "}\n",
    "count"
   ]
  },
  {
   "cell_type": "code",
   "execution_count": 3,
   "id": "56fa3d75",
   "metadata": {},
   "outputs": [],
   "source": [
    "count <- 1\n",
    "i <- 1\n",
    "while(i <= 20){\n",
    "    if(i%%2 == 1){\n",
    "        count <- count * i\n",
    "    }\n",
    "    i <- i + 1\n",
    "}"
   ]
  },
  {
   "cell_type": "code",
   "execution_count": 4,
   "id": "d2eea917",
   "metadata": {},
   "outputs": [
    {
     "data": {
      "text/html": [
       "654729075"
      ],
      "text/latex": [
       "654729075"
      ],
      "text/markdown": [
       "654729075"
      ],
      "text/plain": [
       "[1] 654729075"
      ]
     },
     "metadata": {},
     "output_type": "display_data"
    }
   ],
   "source": [
    "count"
   ]
  },
  {
   "cell_type": "code",
   "execution_count": 6,
   "id": "af24aadd",
   "metadata": {},
   "outputs": [
    {
     "data": {
      "text/html": [
       "<style>\n",
       ".dl-inline {width: auto; margin:0; padding: 0}\n",
       ".dl-inline>dt, .dl-inline>dd {float: none; width: auto; display: inline-block}\n",
       ".dl-inline>dt::after {content: \":\\0020\"; padding-right: .5ex}\n",
       ".dl-inline>dt:not(:first-of-type) {padding-left: .5ex}\n",
       "</style><dl class=dl-inline><dt>mpg</dt><dd>20.090625</dd><dt>hp</dt><dd>146.6875</dd><dt>wt</dt><dd>3.21725</dd></dl>\n"
      ],
      "text/latex": [
       "\\begin{description*}\n",
       "\\item[mpg] 20.090625\n",
       "\\item[hp] 146.6875\n",
       "\\item[wt] 3.21725\n",
       "\\end{description*}\n"
      ],
      "text/markdown": [
       "mpg\n",
       ":   20.090625hp\n",
       ":   146.6875wt\n",
       ":   3.21725\n",
       "\n"
      ],
      "text/plain": [
       "      mpg        hp        wt \n",
       " 20.09062 146.68750   3.21725 "
      ]
     },
     "metadata": {},
     "output_type": "display_data"
    }
   ],
   "source": [
    "apply(mtcars, 2, mean)[c('mpg', 'hp', 'wt')]"
   ]
  },
  {
   "cell_type": "code",
   "execution_count": 10,
   "id": "67348c41",
   "metadata": {},
   "outputs": [
    {
     "data": {
      "text/html": [
       "'Toyota Corolla'"
      ],
      "text/latex": [
       "'Toyota Corolla'"
      ],
      "text/markdown": [
       "'Toyota Corolla'"
      ],
      "text/plain": [
       "[1] \"Toyota Corolla\""
      ]
     },
     "metadata": {},
     "output_type": "display_data"
    }
   ],
   "source": [
    "rownames(mtcars[which.max(mtcars$mpg), ])"
   ]
  },
  {
   "cell_type": "code",
   "execution_count": 11,
   "id": "1b79b725",
   "metadata": {},
   "outputs": [
    {
     "data": {
      "text/html": [
       "'Cadillac Fleetwood'"
      ],
      "text/latex": [
       "'Cadillac Fleetwood'"
      ],
      "text/markdown": [
       "'Cadillac Fleetwood'"
      ],
      "text/plain": [
       "[1] \"Cadillac Fleetwood\""
      ]
     },
     "metadata": {},
     "output_type": "display_data"
    }
   ],
   "source": [
    "rownames(mtcars[which.min(mtcars$mpg), ])"
   ]
  },
  {
   "cell_type": "code",
   "execution_count": 14,
   "id": "fbe1581d",
   "metadata": {},
   "outputs": [
    {
     "data": {
      "text/html": [
       "<style>\n",
       ".list-inline {list-style: none; margin:0; padding: 0}\n",
       ".list-inline>li {display: inline-block}\n",
       ".list-inline>li:not(:last-child)::after {content: \"\\00b7\"; padding: 0 .5ex}\n",
       "</style>\n",
       "<ol class=list-inline><li>'Cadillac Fleetwood'</li><li>'Lincoln Continental'</li></ol>\n"
      ],
      "text/latex": [
       "\\begin{enumerate*}\n",
       "\\item 'Cadillac Fleetwood'\n",
       "\\item 'Lincoln Continental'\n",
       "\\end{enumerate*}\n"
      ],
      "text/markdown": [
       "1. 'Cadillac Fleetwood'\n",
       "2. 'Lincoln Continental'\n",
       "\n",
       "\n"
      ],
      "text/plain": [
       "[1] \"Cadillac Fleetwood\"  \"Lincoln Continental\""
      ]
     },
     "metadata": {},
     "output_type": "display_data"
    }
   ],
   "source": [
    "rownames(mtcars[mtcars$mpg == min(mtcars$mpg), ]) "
   ]
  },
  {
   "cell_type": "code",
   "execution_count": 15,
   "id": "681516e0",
   "metadata": {},
   "outputs": [],
   "source": [
    "fibo <- c(0, 1)\n",
    "for(i in 3:20){\n",
    "    fibo[i] <- fibo[i - 1] + fibo[i - 2]\n",
    "}"
   ]
  },
  {
   "cell_type": "code",
   "execution_count": 16,
   "id": "1bc206a3",
   "metadata": {},
   "outputs": [
    {
     "data": {
      "text/html": [
       "<style>\n",
       ".list-inline {list-style: none; margin:0; padding: 0}\n",
       ".list-inline>li {display: inline-block}\n",
       ".list-inline>li:not(:last-child)::after {content: \"\\00b7\"; padding: 0 .5ex}\n",
       "</style>\n",
       "<ol class=list-inline><li>0</li><li>1</li><li>1</li><li>2</li><li>3</li><li>5</li><li>8</li><li>13</li><li>21</li><li>34</li><li>55</li><li>89</li><li>144</li><li>233</li><li>377</li><li>610</li><li>987</li><li>1597</li><li>2584</li><li>4181</li></ol>\n"
      ],
      "text/latex": [
       "\\begin{enumerate*}\n",
       "\\item 0\n",
       "\\item 1\n",
       "\\item 1\n",
       "\\item 2\n",
       "\\item 3\n",
       "\\item 5\n",
       "\\item 8\n",
       "\\item 13\n",
       "\\item 21\n",
       "\\item 34\n",
       "\\item 55\n",
       "\\item 89\n",
       "\\item 144\n",
       "\\item 233\n",
       "\\item 377\n",
       "\\item 610\n",
       "\\item 987\n",
       "\\item 1597\n",
       "\\item 2584\n",
       "\\item 4181\n",
       "\\end{enumerate*}\n"
      ],
      "text/markdown": [
       "1. 0\n",
       "2. 1\n",
       "3. 1\n",
       "4. 2\n",
       "5. 3\n",
       "6. 5\n",
       "7. 8\n",
       "8. 13\n",
       "9. 21\n",
       "10. 34\n",
       "11. 55\n",
       "12. 89\n",
       "13. 144\n",
       "14. 233\n",
       "15. 377\n",
       "16. 610\n",
       "17. 987\n",
       "18. 1597\n",
       "19. 2584\n",
       "20. 4181\n",
       "\n",
       "\n"
      ],
      "text/plain": [
       " [1]    0    1    1    2    3    5    8   13   21   34   55   89  144  233  377\n",
       "[16]  610  987 1597 2584 4181"
      ]
     },
     "metadata": {},
     "output_type": "display_data"
    }
   ],
   "source": [
    "fibo"
   ]
  },
  {
   "cell_type": "code",
   "execution_count": 17,
   "id": "65014058",
   "metadata": {},
   "outputs": [],
   "source": [
    "df = USArrests\n"
   ]
  },
  {
   "cell_type": "code",
   "execution_count": 19,
   "id": "52d197c8",
   "metadata": {},
   "outputs": [
    {
     "data": {
      "text/html": [
       "<style>\n",
       ".dl-inline {width: auto; margin:0; padding: 0}\n",
       ".dl-inline>dt, .dl-inline>dd {float: none; width: auto; display: inline-block}\n",
       ".dl-inline>dt::after {content: \":\\0020\"; padding-right: .5ex}\n",
       ".dl-inline>dt:not(:first-of-type) {padding-left: .5ex}\n",
       "</style><dl class=dl-inline><dt>Murder</dt><dd>389.4</dd><dt>Assault</dt><dd>8538</dd><dt>Rape</dt><dd>1061.6</dd></dl>\n"
      ],
      "text/latex": [
       "\\begin{description*}\n",
       "\\item[Murder] 389.4\n",
       "\\item[Assault] 8538\n",
       "\\item[Rape] 1061.6\n",
       "\\end{description*}\n"
      ],
      "text/markdown": [
       "Murder\n",
       ":   389.4Assault\n",
       ":   8538Rape\n",
       ":   1061.6\n",
       "\n"
      ],
      "text/plain": [
       " Murder Assault    Rape \n",
       "  389.4  8538.0  1061.6 "
      ]
     },
     "metadata": {},
     "output_type": "display_data"
    }
   ],
   "source": [
    "colSums(df)[c('Murder', 'Assault', 'Rape')]"
   ]
  },
  {
   "cell_type": "code",
   "execution_count": 20,
   "id": "e4b5378b",
   "metadata": {},
   "outputs": [
    {
     "data": {
      "text/html": [
       "<style>\n",
       ".dl-inline {width: auto; margin:0; padding: 0}\n",
       ".dl-inline>dt, .dl-inline>dd {float: none; width: auto; display: inline-block}\n",
       ".dl-inline>dt::after {content: \":\\0020\"; padding-right: .5ex}\n",
       ".dl-inline>dt:not(:first-of-type) {padding-left: .5ex}\n",
       "</style><dl class=dl-inline><dt>1</dt><dd>&lt;NA&gt;</dd><dt>Assault</dt><dd>170.76</dd><dt>Rape</dt><dd>21.232</dd></dl>\n"
      ],
      "text/latex": [
       "\\begin{description*}\n",
       "\\item[1] <NA>\n",
       "\\item[Assault] 170.76\n",
       "\\item[Rape] 21.232\n",
       "\\end{description*}\n"
      ],
      "text/markdown": [
       "1\n",
       ":   &lt;NA&gt;Assault\n",
       ":   170.76Rape\n",
       ":   21.232\n",
       "\n"
      ],
      "text/plain": [
       "   <NA> Assault    Rape \n",
       "     NA 170.760  21.232 "
      ]
     },
     "metadata": {},
     "output_type": "display_data"
    }
   ],
   "source": [
    "colMeans(df)[c('Muder', 'Assault', 'Rape')]"
   ]
  },
  {
   "cell_type": "code",
   "execution_count": 22,
   "id": "3fdab937",
   "metadata": {},
   "outputs": [
    {
     "data": {
      "text/html": [
       "<style>\n",
       ".dl-inline {width: auto; margin:0; padding: 0}\n",
       ".dl-inline>dt, .dl-inline>dd {float: none; width: auto; display: inline-block}\n",
       ".dl-inline>dt::after {content: \":\\0020\"; padding-right: .5ex}\n",
       ".dl-inline>dt:not(:first-of-type) {padding-left: .5ex}\n",
       "</style><dl class=dl-inline><dt>Murder</dt><dd>7.788</dd><dt>Assault</dt><dd>170.76</dd><dt>Rape</dt><dd>21.232</dd></dl>\n"
      ],
      "text/latex": [
       "\\begin{description*}\n",
       "\\item[Murder] 7.788\n",
       "\\item[Assault] 170.76\n",
       "\\item[Rape] 21.232\n",
       "\\end{description*}\n"
      ],
      "text/markdown": [
       "Murder\n",
       ":   7.788Assault\n",
       ":   170.76Rape\n",
       ":   21.232\n",
       "\n"
      ],
      "text/plain": [
       " Murder Assault    Rape \n",
       "  7.788 170.760  21.232 "
      ]
     },
     "metadata": {},
     "output_type": "display_data"
    }
   ],
   "source": [
    "colMeans(df)[c('Murder', 'Assault', 'Rape')]"
   ]
  },
  {
   "cell_type": "code",
   "execution_count": 25,
   "id": "44462a3b",
   "metadata": {},
   "outputs": [
    {
     "data": {
      "text/html": [
       "'Georgia'"
      ],
      "text/latex": [
       "'Georgia'"
      ],
      "text/markdown": [
       "'Georgia'"
      ],
      "text/plain": [
       "[1] \"Georgia\""
      ]
     },
     "metadata": {},
     "output_type": "display_data"
    }
   ],
   "source": [
    "rownames(df[df$Murder == max(df$Murder), ])"
   ]
  },
  {
   "cell_type": "code",
   "execution_count": 26,
   "id": "3a943910",
   "metadata": {},
   "outputs": [
    {
     "data": {
      "text/html": [
       "0.8"
      ],
      "text/latex": [
       "0.8"
      ],
      "text/markdown": [
       "0.8"
      ],
      "text/plain": [
       "[1] 0.8"
      ]
     },
     "metadata": {},
     "output_type": "display_data"
    }
   ],
   "source": [
    "df[df$Assault == min(df$Assault), 'Murder']"
   ]
  },
  {
   "cell_type": "code",
   "execution_count": 28,
   "id": "c107c8b9",
   "metadata": {},
   "outputs": [
    {
     "data": {
      "image/png": "[encoded data removed]",
      "text/plain": [
       "plot without title"
      ]
     },
     "metadata": {
      "image/png": {
       "height": 420,
       "width": 420
      }
     },
     "output_type": "display_data"
    }
   ],
   "source": [
    "survey <- c(T, F, T, T, F, T, F, F, F, F)\n",
    "barplot(table(survey), names = c('NO', 'YES'), col=c('pink', 'black'))"
   ]
  }
 ],
 "metadata": {
  "kernelspec": {
   "display_name": "R",
   "language": "R",
   "name": "ir"
  },
  "language_info": {
   "codemirror_mode": "r",
   "file_extension": ".r",
   "mimetype": "text/x-r-source",
   "name": "R",
   "pygments_lexer": "r",
   "version": "4.3.1"
  }
 },
 "nbformat": 4,
 "nbformat_minor": 5
}
