{
 "cells": [
  {
   "cell_type": "code",
   "execution_count": 1,
   "id": "976dae73",
   "metadata": {},
   "outputs": [
    {
     "data": {
      "text/html": [
       "124"
      ],
      "text/latex": [
       "124"
      ],
      "text/markdown": [
       "124"
      ],
      "text/plain": [
       "[1] 124"
      ]
     },
     "metadata": {},
     "output_type": "display_data"
    },
    {
     "data": {
      "text/html": [
       "333"
      ],
      "text/latex": [
       "333"
      ],
      "text/markdown": [
       "333"
      ],
      "text/plain": [
       "[1] 333"
      ]
     },
     "metadata": {},
     "output_type": "display_data"
    }
   ],
   "source": [
    "25 + 99\n",
    "456-123"
   ]
  },
  {
   "cell_type": "code",
   "execution_count": 2,
   "id": "d4b60737",
   "metadata": {},
   "outputs": [
    {
     "data": {
      "text/html": [
       "14"
      ],
      "text/latex": [
       "14"
      ],
      "text/markdown": [
       "14"
      ],
      "text/plain": [
       "[1] 14"
      ]
     },
     "metadata": {},
     "output_type": "display_data"
    }
   ],
   "source": [
    "2 * (3 + 4)"
   ]
  },
  {
   "cell_type": "code",
   "execution_count": 3,
   "id": "ee4c15a3",
   "metadata": {},
   "outputs": [
    {
     "data": {
      "text/html": [
       "4.71428571428571"
      ],
      "text/latex": [
       "4.71428571428571"
      ],
      "text/markdown": [
       "4.71428571428571"
      ],
      "text/plain": [
       "[1] 4.714286"
      ]
     },
     "metadata": {},
     "output_type": "display_data"
    }
   ],
   "source": [
    "(3 + 5 * 6) / 7"
   ]
  },
  {
   "cell_type": "code",
   "execution_count": 4,
   "id": "5cf1f076",
   "metadata": {},
   "outputs": [
    {
     "data": {
      "text/html": [
       "9"
      ],
      "text/latex": [
       "9"
      ],
      "text/markdown": [
       "9"
      ],
      "text/plain": [
       "[1] 9"
      ]
     },
     "metadata": {},
     "output_type": "display_data"
    }
   ],
   "source": [
    "(7-4) * 3"
   ]
  },
  {
   "cell_type": "code",
   "execution_count": 5,
   "id": "8acbcd84",
   "metadata": {},
   "outputs": [
    {
     "data": {
      "text/html": [
       "245"
      ],
      "text/latex": [
       "245"
      ],
      "text/markdown": [
       "245"
      ],
      "text/plain": [
       "[1] 245"
      ]
     },
     "metadata": {},
     "output_type": "display_data"
    }
   ],
   "source": [
    "210 + 35"
   ]
  },
  {
   "cell_type": "code",
   "execution_count": 6,
   "id": "f99aab9f",
   "metadata": {},
   "outputs": [
    {
     "data": {
      "text/html": [
       "3"
      ],
      "text/latex": [
       "3"
      ],
      "text/markdown": [
       "3"
      ],
      "text/plain": [
       "[1] 3"
      ]
     },
     "metadata": {},
     "output_type": "display_data"
    }
   ],
   "source": [
    "1256 %% 7"
   ]
  },
  {
   "cell_type": "code",
   "execution_count": 7,
   "id": "4c0492a0",
   "metadata": {},
   "outputs": [
    {
     "data": {
      "text/html": [
       "4"
      ],
      "text/latex": [
       "4"
      ],
      "text/markdown": [
       "4"
      ],
      "text/plain": [
       "[1] 4"
      ]
     },
     "metadata": {},
     "output_type": "display_data"
    }
   ],
   "source": [
    "184 %% 5"
   ]
  },
  {
   "cell_type": "code",
   "execution_count": 8,
   "id": "0e7350ce",
   "metadata": {},
   "outputs": [
    {
     "data": {
      "text/html": [
       "82.3333333333333"
      ],
      "text/latex": [
       "82.3333333333333"
      ],
      "text/markdown": [
       "82.3333333333333"
      ],
      "text/plain": [
       "[1] 82.33333"
      ]
     },
     "metadata": {},
     "output_type": "display_data"
    }
   ],
   "source": [
    "1976 / 24"
   ]
  },
  {
   "cell_type": "code",
   "execution_count": 9,
   "id": "2a5461e3",
   "metadata": {},
   "outputs": [
    {
     "data": {
      "text/html": [
       "-144"
      ],
      "text/latex": [
       "-144"
      ],
      "text/markdown": [
       "-144"
      ],
      "text/plain": [
       "[1] -144"
      ]
     },
     "metadata": {},
     "output_type": "display_data"
    }
   ],
   "source": [
    "16 * 25 + 186 * 5 - 67 * 22"
   ]
  },
  {
   "cell_type": "code",
   "execution_count": 10,
   "id": "f767449b",
   "metadata": {},
   "outputs": [
    {
     "data": {
      "text/html": [
       "9"
      ],
      "text/latex": [
       "9"
      ],
      "text/markdown": [
       "9"
      ],
      "text/plain": [
       "[1] 9"
      ]
     },
     "metadata": {},
     "output_type": "display_data"
    }
   ],
   "source": [
    "a <- 4\n",
    "b <- 5\n",
    "c <- a + b\n",
    "c"
   ]
  },
  {
   "cell_type": "code",
   "execution_count": 12,
   "id": "e07a0466",
   "metadata": {},
   "outputs": [
    {
     "name": "stdout",
     "output_type": "stream",
     "text": [
      "반지름  10 인 원의 면적 :  314 \n",
      "반지름  12 인 원의 면적 :  452.16 \n",
      "반지름  15 인 원의 면적 :  706.5 \n"
     ]
    }
   ],
   "source": [
    "pi <- 3.14\n",
    "round <- c(10, 12, 15)\n",
    "for(i in 1:3){\n",
    "    cat(\"반지름 \",round[i], \"인 원의 면적 : \", pi * (round[i] ^ 2), \"\\n\")\n",
    "}"
   ]
  },
  {
   "cell_type": "code",
   "execution_count": 14,
   "id": "58a123a0",
   "metadata": {},
   "outputs": [
    {
     "name": "stdout",
     "output_type": "stream",
     "text": [
      "2*x^2 + 5*x + 10 에서 x가 6 일 때, y의 값 :  112 \n",
      "2*x^2 + 5*x + 10 에서 x가 8 일 때, y의 값 :  178 \n",
      "2*x^2 + 5*x + 10 에서 x가 10 일 때, y의 값 :  260 \n"
     ]
    }
   ],
   "source": [
    "x <- c(6, 8, 10)\n",
    "for(i in 1:3){\n",
    "    cat(\"2*x^2 + 5*x + 10 에서 x가\", x[i],\"일 때, y의 값 : \", 2 * (x[i]^2) + 5 * x[i] + 10, \"\\n\")\n",
    "}"
   ]
  },
  {
   "cell_type": "code",
   "execution_count": 15,
   "id": "6db50f40",
   "metadata": {},
   "outputs": [
    {
     "ename": "ERROR",
     "evalue": "Error in eval(expr, envir, enclos): object 'val.b' not found\n",
     "output_type": "error",
     "traceback": [
      "Error in eval(expr, envir, enclos): object 'val.b' not found\nTraceback:\n"
     ]
    }
   ],
   "source": [
    "val.a <- 10\n",
    "sum.ab <- val.a + val.b"
   ]
  },
  {
   "cell_type": "code",
   "execution_count": 17,
   "id": "c404337e",
   "metadata": {},
   "outputs": [
    {
     "data": {
      "text/html": [
       "10"
      ],
      "text/latex": [
       "10"
      ],
      "text/markdown": [
       "10"
      ],
      "text/plain": [
       "[1] 10"
      ]
     },
     "metadata": {},
     "output_type": "display_data"
    }
   ],
   "source": [
    "val.a <- 10\n",
    "val.b <- 0\n",
    "sum.ab <- val.a + val.b \n",
    "sum.ab"
   ]
  },
  {
   "cell_type": "code",
   "execution_count": null,
   "id": "afa210cb",
   "metadata": {},
   "outputs": [],
   "source": []
  }
 ],
 "metadata": {
  "kernelspec": {
   "display_name": "R",
   "language": "R",
   "name": "ir"
  },
  "language_info": {
   "codemirror_mode": "r",
   "file_extension": ".r",
   "mimetype": "text/x-r-source",
   "name": "R",
   "pygments_lexer": "r",
   "version": "4.3.1"
  }
 },
 "nbformat": 4,
 "nbformat_minor": 5
}
