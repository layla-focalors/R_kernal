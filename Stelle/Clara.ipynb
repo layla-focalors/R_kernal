{
 "cells": [
  {
   "cell_type": "code",
   "execution_count": 1,
   "id": "b1fb39d4",
   "metadata": {},
   "outputs": [
    {
     "data": {
      "text/html": [
       "30"
      ],
      "text/latex": [
       "30"
      ],
      "text/markdown": [
       "30"
      ],
      "text/plain": [
       "[1] 30"
      ]
     },
     "metadata": {},
     "output_type": "display_data"
    }
   ],
   "source": [
    "a <- 1\n",
    "b <- 20\n",
    "c <- a + b\n",
    "c"
   ]
  },
  {
   "cell_type": "code",
   "execution_count": 2,
   "id": "5d59e539",
   "metadata": {},
   "outputs": [],
   "source": [
    "x <- c(1, 2, 3)\n",
    "y <- c('A', 'B', 'C')\n",
    "z <- c(T, T, F, T)"
   ]
  },
  {
   "cell_type": "code",
   "execution_count": 3,
   "id": "88517cc4",
   "metadata": {},
   "outputs": [
    {
     "data": {
      "text/html": [
       "<style>\n",
       ".list-inline {list-style: none; margin:0; padding: 0}\n",
       ".list-inline>li {display: inline-block}\n",
       ".list-inline>li:not(:last-child)::after {content: \"\\00b7\"; padding: 0 .5ex}\n",
       "</style>\n",
       "<ol class=list-inline><li>1</li><li>2</li><li>3</li></ol>\n"
      ],
      "text/latex": [
       "\\begin{enumerate*}\n",
       "\\item 1\n",
       "\\item 2\n",
       "\\item 3\n",
       "\\end{enumerate*}\n"
      ],
      "text/markdown": [
       "1. 1\n",
       "2. 2\n",
       "3. 3\n",
       "\n",
       "\n"
      ],
      "text/plain": [
       "[1] 1 2 3"
      ]
     },
     "metadata": {},
     "output_type": "display_data"
    },
    {
     "data": {
      "text/html": [
       "<style>\n",
       ".list-inline {list-style: none; margin:0; padding: 0}\n",
       ".list-inline>li {display: inline-block}\n",
       ".list-inline>li:not(:last-child)::after {content: \"\\00b7\"; padding: 0 .5ex}\n",
       "</style>\n",
       "<ol class=list-inline><li>'A'</li><li>'B'</li><li>'C'</li></ol>\n"
      ],
      "text/latex": [
       "\\begin{enumerate*}\n",
       "\\item 'A'\n",
       "\\item 'B'\n",
       "\\item 'C'\n",
       "\\end{enumerate*}\n"
      ],
      "text/markdown": [
       "1. 'A'\n",
       "2. 'B'\n",
       "3. 'C'\n",
       "\n",
       "\n"
      ],
      "text/plain": [
       "[1] \"A\" \"B\" \"C\""
      ]
     },
     "metadata": {},
     "output_type": "display_data"
    },
    {
     "data": {
      "text/html": [
       "<style>\n",
       ".list-inline {list-style: none; margin:0; padding: 0}\n",
       ".list-inline>li {display: inline-block}\n",
       ".list-inline>li:not(:last-child)::after {content: \"\\00b7\"; padding: 0 .5ex}\n",
       "</style>\n",
       "<ol class=list-inline><li>TRUE</li><li>TRUE</li><li>FALSE</li><li>TRUE</li></ol>\n"
      ],
      "text/latex": [
       "\\begin{enumerate*}\n",
       "\\item TRUE\n",
       "\\item TRUE\n",
       "\\item FALSE\n",
       "\\item TRUE\n",
       "\\end{enumerate*}\n"
      ],
      "text/markdown": [
       "1. TRUE\n",
       "2. TRUE\n",
       "3. FALSE\n",
       "4. TRUE\n",
       "\n",
       "\n"
      ],
      "text/plain": [
       "[1]  TRUE  TRUE FALSE  TRUE"
      ]
     },
     "metadata": {},
     "output_type": "display_data"
    }
   ],
   "source": [
    "x\n",
    "y\n",
    "z"
   ]
  },
  {
   "cell_type": "code",
   "execution_count": 4,
   "id": "b45b2fff",
   "metadata": {},
   "outputs": [],
   "source": [
    "w <- c(1, 2, 3, 'T', T, F)"
   ]
  },
  {
   "cell_type": "code",
   "execution_count": 5,
   "id": "408de0be",
   "metadata": {},
   "outputs": [
    {
     "data": {
      "text/html": [
       "<style>\n",
       ".list-inline {list-style: none; margin:0; padding: 0}\n",
       ".list-inline>li {display: inline-block}\n",
       ".list-inline>li:not(:last-child)::after {content: \"\\00b7\"; padding: 0 .5ex}\n",
       "</style>\n",
       "<ol class=list-inline><li>'1'</li><li>'2'</li><li>'3'</li><li>'T'</li><li>'TRUE'</li><li>'FALSE'</li></ol>\n"
      ],
      "text/latex": [
       "\\begin{enumerate*}\n",
       "\\item '1'\n",
       "\\item '2'\n",
       "\\item '3'\n",
       "\\item 'T'\n",
       "\\item 'TRUE'\n",
       "\\item 'FALSE'\n",
       "\\end{enumerate*}\n"
      ],
      "text/markdown": [
       "1. '1'\n",
       "2. '2'\n",
       "3. '3'\n",
       "4. 'T'\n",
       "5. 'TRUE'\n",
       "6. 'FALSE'\n",
       "\n",
       "\n"
      ],
      "text/plain": [
       "[1] \"1\"     \"2\"     \"3\"     \"T\"     \"TRUE\"  \"FALSE\""
      ]
     },
     "metadata": {},
     "output_type": "display_data"
    }
   ],
   "source": [
    "w"
   ]
  },
  {
   "cell_type": "code",
   "execution_count": 6,
   "id": "2236a793",
   "metadata": {},
   "outputs": [
    {
     "data": {
      "text/html": [
       "'character'"
      ],
      "text/latex": [
       "'character'"
      ],
      "text/markdown": [
       "'character'"
      ],
      "text/plain": [
       "[1] \"character\""
      ]
     },
     "metadata": {},
     "output_type": "display_data"
    }
   ],
   "source": [
    "class(w)"
   ]
  },
  {
   "cell_type": "code",
   "execution_count": 13,
   "id": "db1b38cf",
   "metadata": {},
   "outputs": [],
   "source": [
    "v1 <- 51:90"
   ]
  },
  {
   "cell_type": "code",
   "execution_count": 14,
   "id": "ea1be1d1",
   "metadata": {},
   "outputs": [
    {
     "data": {
      "text/html": [
       "<style>\n",
       ".list-inline {list-style: none; margin:0; padding: 0}\n",
       ".list-inline>li {display: inline-block}\n",
       ".list-inline>li:not(:last-child)::after {content: \"\\00b7\"; padding: 0 .5ex}\n",
       "</style>\n",
       "<ol class=list-inline><li>51</li><li>52</li><li>53</li><li>54</li><li>55</li><li>56</li><li>57</li><li>58</li><li>59</li><li>60</li><li>61</li><li>62</li><li>63</li><li>64</li><li>65</li><li>66</li><li>67</li><li>68</li><li>69</li><li>70</li><li>71</li><li>72</li><li>73</li><li>74</li><li>75</li><li>76</li><li>77</li><li>78</li><li>79</li><li>80</li><li>81</li><li>82</li><li>83</li><li>84</li><li>85</li><li>86</li><li>87</li><li>88</li><li>89</li><li>90</li></ol>\n"
      ],
      "text/latex": [
       "\\begin{enumerate*}\n",
       "\\item 51\n",
       "\\item 52\n",
       "\\item 53\n",
       "\\item 54\n",
       "\\item 55\n",
       "\\item 56\n",
       "\\item 57\n",
       "\\item 58\n",
       "\\item 59\n",
       "\\item 60\n",
       "\\item 61\n",
       "\\item 62\n",
       "\\item 63\n",
       "\\item 64\n",
       "\\item 65\n",
       "\\item 66\n",
       "\\item 67\n",
       "\\item 68\n",
       "\\item 69\n",
       "\\item 70\n",
       "\\item 71\n",
       "\\item 72\n",
       "\\item 73\n",
       "\\item 74\n",
       "\\item 75\n",
       "\\item 76\n",
       "\\item 77\n",
       "\\item 78\n",
       "\\item 79\n",
       "\\item 80\n",
       "\\item 81\n",
       "\\item 82\n",
       "\\item 83\n",
       "\\item 84\n",
       "\\item 85\n",
       "\\item 86\n",
       "\\item 87\n",
       "\\item 88\n",
       "\\item 89\n",
       "\\item 90\n",
       "\\end{enumerate*}\n"
      ],
      "text/markdown": [
       "1. 51\n",
       "2. 52\n",
       "3. 53\n",
       "4. 54\n",
       "5. 55\n",
       "6. 56\n",
       "7. 57\n",
       "8. 58\n",
       "9. 59\n",
       "10. 60\n",
       "11. 61\n",
       "12. 62\n",
       "13. 63\n",
       "14. 64\n",
       "15. 65\n",
       "16. 66\n",
       "17. 67\n",
       "18. 68\n",
       "19. 69\n",
       "20. 70\n",
       "21. 71\n",
       "22. 72\n",
       "23. 73\n",
       "24. 74\n",
       "25. 75\n",
       "26. 76\n",
       "27. 77\n",
       "28. 78\n",
       "29. 79\n",
       "30. 80\n",
       "31. 81\n",
       "32. 82\n",
       "33. 83\n",
       "34. 84\n",
       "35. 85\n",
       "36. 86\n",
       "37. 87\n",
       "38. 88\n",
       "39. 89\n",
       "40. 90\n",
       "\n",
       "\n"
      ],
      "text/plain": [
       " [1] 51 52 53 54 55 56 57 58 59 60 61 62 63 64 65 66 67 68 69 70 71 72 73 74 75\n",
       "[26] 76 77 78 79 80 81 82 83 84 85 86 87 88 89 90"
      ]
     },
     "metadata": {},
     "output_type": "display_data"
    }
   ],
   "source": [
    "v1"
   ]
  },
  {
   "cell_type": "code",
   "execution_count": 15,
   "id": "922428e0",
   "metadata": {},
   "outputs": [
    {
     "data": {
      "text/html": [
       "40"
      ],
      "text/latex": [
       "40"
      ],
      "text/markdown": [
       "40"
      ],
      "text/plain": [
       "[1] 40"
      ]
     },
     "metadata": {},
     "output_type": "display_data"
    }
   ],
   "source": [
    "length(v1)"
   ]
  },
  {
   "cell_type": "code",
   "execution_count": 16,
   "id": "d7bd380b",
   "metadata": {},
   "outputs": [],
   "source": [
    "v1 <- seq(1, 101, 3)"
   ]
  },
  {
   "cell_type": "code",
   "execution_count": 17,
   "id": "2976aa0a",
   "metadata": {},
   "outputs": [
    {
     "data": {
      "text/html": [
       "<style>\n",
       ".list-inline {list-style: none; margin:0; padding: 0}\n",
       ".list-inline>li {display: inline-block}\n",
       ".list-inline>li:not(:last-child)::after {content: \"\\00b7\"; padding: 0 .5ex}\n",
       "</style>\n",
       "<ol class=list-inline><li>1</li><li>4</li><li>7</li><li>10</li><li>13</li><li>16</li><li>19</li><li>22</li><li>25</li><li>28</li><li>31</li><li>34</li><li>37</li><li>40</li><li>43</li><li>46</li><li>49</li><li>52</li><li>55</li><li>58</li><li>61</li><li>64</li><li>67</li><li>70</li><li>73</li><li>76</li><li>79</li><li>82</li><li>85</li><li>88</li><li>91</li><li>94</li><li>97</li><li>100</li></ol>\n"
      ],
      "text/latex": [
       "\\begin{enumerate*}\n",
       "\\item 1\n",
       "\\item 4\n",
       "\\item 7\n",
       "\\item 10\n",
       "\\item 13\n",
       "\\item 16\n",
       "\\item 19\n",
       "\\item 22\n",
       "\\item 25\n",
       "\\item 28\n",
       "\\item 31\n",
       "\\item 34\n",
       "\\item 37\n",
       "\\item 40\n",
       "\\item 43\n",
       "\\item 46\n",
       "\\item 49\n",
       "\\item 52\n",
       "\\item 55\n",
       "\\item 58\n",
       "\\item 61\n",
       "\\item 64\n",
       "\\item 67\n",
       "\\item 70\n",
       "\\item 73\n",
       "\\item 76\n",
       "\\item 79\n",
       "\\item 82\n",
       "\\item 85\n",
       "\\item 88\n",
       "\\item 91\n",
       "\\item 94\n",
       "\\item 97\n",
       "\\item 100\n",
       "\\end{enumerate*}\n"
      ],
      "text/markdown": [
       "1. 1\n",
       "2. 4\n",
       "3. 7\n",
       "4. 10\n",
       "5. 13\n",
       "6. 16\n",
       "7. 19\n",
       "8. 22\n",
       "9. 25\n",
       "10. 28\n",
       "11. 31\n",
       "12. 34\n",
       "13. 37\n",
       "14. 40\n",
       "15. 43\n",
       "16. 46\n",
       "17. 49\n",
       "18. 52\n",
       "19. 55\n",
       "20. 58\n",
       "21. 61\n",
       "22. 64\n",
       "23. 67\n",
       "24. 70\n",
       "25. 73\n",
       "26. 76\n",
       "27. 79\n",
       "28. 82\n",
       "29. 85\n",
       "30. 88\n",
       "31. 91\n",
       "32. 94\n",
       "33. 97\n",
       "34. 100\n",
       "\n",
       "\n"
      ],
      "text/plain": [
       " [1]   1   4   7  10  13  16  19  22  25  28  31  34  37  40  43  46  49  52  55\n",
       "[20]  58  61  64  67  70  73  76  79  82  85  88  91  94  97 100"
      ]
     },
     "metadata": {},
     "output_type": "display_data"
    }
   ],
   "source": [
    "v1"
   ]
  },
  {
   "cell_type": "code",
   "execution_count": 18,
   "id": "55749eee",
   "metadata": {},
   "outputs": [],
   "source": [
    "v5 <- rep(2, 100)"
   ]
  },
  {
   "cell_type": "code",
   "execution_count": 19,
   "id": "1e53784b",
   "metadata": {},
   "outputs": [
    {
     "data": {
      "text/html": [
       "<style>\n",
       ".list-inline {list-style: none; margin:0; padding: 0}\n",
       ".list-inline>li {display: inline-block}\n",
       ".list-inline>li:not(:last-child)::after {content: \"\\00b7\"; padding: 0 .5ex}\n",
       "</style>\n",
       "<ol class=list-inline><li>2</li><li>2</li><li>2</li><li>2</li><li>2</li><li>2</li><li>2</li><li>2</li><li>2</li><li>2</li><li>2</li><li>2</li><li>2</li><li>2</li><li>2</li><li>2</li><li>2</li><li>2</li><li>2</li><li>2</li><li>2</li><li>2</li><li>2</li><li>2</li><li>2</li><li>2</li><li>2</li><li>2</li><li>2</li><li>2</li><li>2</li><li>2</li><li>2</li><li>2</li><li>2</li><li>2</li><li>2</li><li>2</li><li>2</li><li>2</li><li>2</li><li>2</li><li>2</li><li>2</li><li>2</li><li>2</li><li>2</li><li>2</li><li>2</li><li>2</li><li>2</li><li>2</li><li>2</li><li>2</li><li>2</li><li>2</li><li>2</li><li>2</li><li>2</li><li>2</li><li>2</li><li>2</li><li>2</li><li>2</li><li>2</li><li>2</li><li>2</li><li>2</li><li>2</li><li>2</li><li>2</li><li>2</li><li>2</li><li>2</li><li>2</li><li>2</li><li>2</li><li>2</li><li>2</li><li>2</li><li>2</li><li>2</li><li>2</li><li>2</li><li>2</li><li>2</li><li>2</li><li>2</li><li>2</li><li>2</li><li>2</li><li>2</li><li>2</li><li>2</li><li>2</li><li>2</li><li>2</li><li>2</li><li>2</li><li>2</li></ol>\n"
      ],
      "text/latex": [
       "\\begin{enumerate*}\n",
       "\\item 2\n",
       "\\item 2\n",
       "\\item 2\n",
       "\\item 2\n",
       "\\item 2\n",
       "\\item 2\n",
       "\\item 2\n",
       "\\item 2\n",
       "\\item 2\n",
       "\\item 2\n",
       "\\item 2\n",
       "\\item 2\n",
       "\\item 2\n",
       "\\item 2\n",
       "\\item 2\n",
       "\\item 2\n",
       "\\item 2\n",
       "\\item 2\n",
       "\\item 2\n",
       "\\item 2\n",
       "\\item 2\n",
       "\\item 2\n",
       "\\item 2\n",
       "\\item 2\n",
       "\\item 2\n",
       "\\item 2\n",
       "\\item 2\n",
       "\\item 2\n",
       "\\item 2\n",
       "\\item 2\n",
       "\\item 2\n",
       "\\item 2\n",
       "\\item 2\n",
       "\\item 2\n",
       "\\item 2\n",
       "\\item 2\n",
       "\\item 2\n",
       "\\item 2\n",
       "\\item 2\n",
       "\\item 2\n",
       "\\item 2\n",
       "\\item 2\n",
       "\\item 2\n",
       "\\item 2\n",
       "\\item 2\n",
       "\\item 2\n",
       "\\item 2\n",
       "\\item 2\n",
       "\\item 2\n",
       "\\item 2\n",
       "\\item 2\n",
       "\\item 2\n",
       "\\item 2\n",
       "\\item 2\n",
       "\\item 2\n",
       "\\item 2\n",
       "\\item 2\n",
       "\\item 2\n",
       "\\item 2\n",
       "\\item 2\n",
       "\\item 2\n",
       "\\item 2\n",
       "\\item 2\n",
       "\\item 2\n",
       "\\item 2\n",
       "\\item 2\n",
       "\\item 2\n",
       "\\item 2\n",
       "\\item 2\n",
       "\\item 2\n",
       "\\item 2\n",
       "\\item 2\n",
       "\\item 2\n",
       "\\item 2\n",
       "\\item 2\n",
       "\\item 2\n",
       "\\item 2\n",
       "\\item 2\n",
       "\\item 2\n",
       "\\item 2\n",
       "\\item 2\n",
       "\\item 2\n",
       "\\item 2\n",
       "\\item 2\n",
       "\\item 2\n",
       "\\item 2\n",
       "\\item 2\n",
       "\\item 2\n",
       "\\item 2\n",
       "\\item 2\n",
       "\\item 2\n",
       "\\item 2\n",
       "\\item 2\n",
       "\\item 2\n",
       "\\item 2\n",
       "\\item 2\n",
       "\\item 2\n",
       "\\item 2\n",
       "\\item 2\n",
       "\\item 2\n",
       "\\end{enumerate*}\n"
      ],
      "text/markdown": [
       "1. 2\n",
       "2. 2\n",
       "3. 2\n",
       "4. 2\n",
       "5. 2\n",
       "6. 2\n",
       "7. 2\n",
       "8. 2\n",
       "9. 2\n",
       "10. 2\n",
       "11. 2\n",
       "12. 2\n",
       "13. 2\n",
       "14. 2\n",
       "15. 2\n",
       "16. 2\n",
       "17. 2\n",
       "18. 2\n",
       "19. 2\n",
       "20. 2\n",
       "21. 2\n",
       "22. 2\n",
       "23. 2\n",
       "24. 2\n",
       "25. 2\n",
       "26. 2\n",
       "27. 2\n",
       "28. 2\n",
       "29. 2\n",
       "30. 2\n",
       "31. 2\n",
       "32. 2\n",
       "33. 2\n",
       "34. 2\n",
       "35. 2\n",
       "36. 2\n",
       "37. 2\n",
       "38. 2\n",
       "39. 2\n",
       "40. 2\n",
       "41. 2\n",
       "42. 2\n",
       "43. 2\n",
       "44. 2\n",
       "45. 2\n",
       "46. 2\n",
       "47. 2\n",
       "48. 2\n",
       "49. 2\n",
       "50. 2\n",
       "51. 2\n",
       "52. 2\n",
       "53. 2\n",
       "54. 2\n",
       "55. 2\n",
       "56. 2\n",
       "57. 2\n",
       "58. 2\n",
       "59. 2\n",
       "60. 2\n",
       "61. 2\n",
       "62. 2\n",
       "63. 2\n",
       "64. 2\n",
       "65. 2\n",
       "66. 2\n",
       "67. 2\n",
       "68. 2\n",
       "69. 2\n",
       "70. 2\n",
       "71. 2\n",
       "72. 2\n",
       "73. 2\n",
       "74. 2\n",
       "75. 2\n",
       "76. 2\n",
       "77. 2\n",
       "78. 2\n",
       "79. 2\n",
       "80. 2\n",
       "81. 2\n",
       "82. 2\n",
       "83. 2\n",
       "84. 2\n",
       "85. 2\n",
       "86. 2\n",
       "87. 2\n",
       "88. 2\n",
       "89. 2\n",
       "90. 2\n",
       "91. 2\n",
       "92. 2\n",
       "93. 2\n",
       "94. 2\n",
       "95. 2\n",
       "96. 2\n",
       "97. 2\n",
       "98. 2\n",
       "99. 2\n",
       "100. 2\n",
       "\n",
       "\n"
      ],
      "text/plain": [
       "  [1] 2 2 2 2 2 2 2 2 2 2 2 2 2 2 2 2 2 2 2 2 2 2 2 2 2 2 2 2 2 2 2 2 2 2 2 2 2\n",
       " [38] 2 2 2 2 2 2 2 2 2 2 2 2 2 2 2 2 2 2 2 2 2 2 2 2 2 2 2 2 2 2 2 2 2 2 2 2 2\n",
       " [75] 2 2 2 2 2 2 2 2 2 2 2 2 2 2 2 2 2 2 2 2 2 2 2 2 2 2"
      ]
     },
     "metadata": {},
     "output_type": "display_data"
    }
   ],
   "source": [
    "v5"
   ]
  },
  {
   "cell_type": "code",
   "execution_count": 20,
   "id": "c88a5615",
   "metadata": {},
   "outputs": [],
   "source": [
    "v6 <- rep(1, 5, 3)"
   ]
  },
  {
   "cell_type": "code",
   "execution_count": 21,
   "id": "e24fb33e",
   "metadata": {},
   "outputs": [
    {
     "data": {
      "text/html": [
       "<style>\n",
       ".list-inline {list-style: none; margin:0; padding: 0}\n",
       ".list-inline>li {display: inline-block}\n",
       ".list-inline>li:not(:last-child)::after {content: \"\\00b7\"; padding: 0 .5ex}\n",
       "</style>\n",
       "<ol class=list-inline><li>1</li><li>1</li><li>1</li></ol>\n"
      ],
      "text/latex": [
       "\\begin{enumerate*}\n",
       "\\item 1\n",
       "\\item 1\n",
       "\\item 1\n",
       "\\end{enumerate*}\n"
      ],
      "text/markdown": [
       "1. 1\n",
       "2. 1\n",
       "3. 1\n",
       "\n",
       "\n"
      ],
      "text/plain": [
       "[1] 1 1 1"
      ]
     },
     "metadata": {},
     "output_type": "display_data"
    }
   ],
   "source": [
    "v6"
   ]
  },
  {
   "cell_type": "code",
   "execution_count": 22,
   "id": "3b7e4c8a",
   "metadata": {},
   "outputs": [],
   "source": [
    "v7 <- rep(c(1, 5) , 200)"
   ]
  },
  {
   "cell_type": "code",
   "execution_count": 23,
   "id": "95a8fa55",
   "metadata": {},
   "outputs": [
    {
     "data": {
      "text/html": [
       "<style>\n",
       ".list-inline {list-style: none; margin:0; padding: 0}\n",
       ".list-inline>li {display: inline-block}\n",
       ".list-inline>li:not(:last-child)::after {content: \"\\00b7\"; padding: 0 .5ex}\n",
       "</style>\n",
       "<ol class=list-inline><li>1</li><li>5</li><li>1</li><li>5</li><li>1</li><li>5</li><li>1</li><li>5</li><li>1</li><li>5</li><li>1</li><li>5</li><li>1</li><li>5</li><li>1</li><li>5</li><li>1</li><li>5</li><li>1</li><li>5</li><li>1</li><li>5</li><li>1</li><li>5</li><li>1</li><li>5</li><li>1</li><li>5</li><li>1</li><li>5</li><li>1</li><li>5</li><li>1</li><li>5</li><li>1</li><li>5</li><li>1</li><li>5</li><li>1</li><li>5</li><li>1</li><li>5</li><li>1</li><li>5</li><li>1</li><li>5</li><li>1</li><li>5</li><li>1</li><li>5</li><li>1</li><li>5</li><li>1</li><li>5</li><li>1</li><li>5</li><li>1</li><li>5</li><li>1</li><li>5</li><li>1</li><li>5</li><li>1</li><li>5</li><li>1</li><li>5</li><li>1</li><li>5</li><li>1</li><li>5</li><li>1</li><li>5</li><li>1</li><li>5</li><li>1</li><li>5</li><li>1</li><li>5</li><li>1</li><li>5</li><li>1</li><li>5</li><li>1</li><li>5</li><li>1</li><li>5</li><li>1</li><li>5</li><li>1</li><li>5</li><li>1</li><li>5</li><li>1</li><li>5</li><li>1</li><li>5</li><li>1</li><li>5</li><li>1</li><li>5</li><li>1</li><li>5</li><li>1</li><li>5</li><li>1</li><li>5</li><li>1</li><li>5</li><li>1</li><li>5</li><li>1</li><li>5</li><li>1</li><li>5</li><li>1</li><li>5</li><li>1</li><li>5</li><li>1</li><li>5</li><li>1</li><li>5</li><li>1</li><li>5</li><li>1</li><li>5</li><li>1</li><li>5</li><li>1</li><li>5</li><li>1</li><li>5</li><li>1</li><li>5</li><li>1</li><li>5</li><li>1</li><li>5</li><li>1</li><li>5</li><li>1</li><li>5</li><li>1</li><li>5</li><li>1</li><li>5</li><li>1</li><li>5</li><li>1</li><li>5</li><li>1</li><li>5</li><li>1</li><li>5</li><li>1</li><li>5</li><li>1</li><li>5</li><li>1</li><li>5</li><li>1</li><li>5</li><li>1</li><li>5</li><li>1</li><li>5</li><li>1</li><li>5</li><li>1</li><li>5</li><li>1</li><li>5</li><li>1</li><li>5</li><li>1</li><li>5</li><li>1</li><li>5</li><li>1</li><li>5</li><li>1</li><li>5</li><li>1</li><li>5</li><li>1</li><li>5</li><li>1</li><li>5</li><li>1</li><li>5</li><li>1</li><li>5</li><li>1</li><li>5</li><li>1</li><li>5</li><li>1</li><li>5</li><li>1</li><li>5</li><li>1</li><li>5</li><li>1</li><li>5</li><li>1</li><li>5</li><li>1</li><li>5</li><li>1</li><li>5</li><li>1</li><li>5</li><li>1</li><li>5</li><li>1</li><li>5</li><li>1</li><li>5</li><li>1</li><li>5</li><li>1</li><li>5</li><li>1</li><li>5</li><li>1</li><li>5</li><li>1</li><li>5</li><li>1</li><li>5</li><li>1</li><li>5</li><li>1</li><li>5</li><li>1</li><li>5</li><li>1</li><li>5</li><li>1</li><li>5</li><li>1</li><li>5</li><li>1</li><li>5</li><li>1</li><li>5</li><li>1</li><li>5</li><li>1</li><li>5</li><li>1</li><li>5</li><li>1</li><li>5</li><li>1</li><li>5</li><li>1</li><li>5</li><li>1</li><li>5</li><li>1</li><li>5</li><li>1</li><li>5</li><li>1</li><li>5</li><li>1</li><li>5</li><li>1</li><li>5</li><li>1</li><li>5</li><li>1</li><li>5</li><li>1</li><li>5</li><li>1</li><li>5</li><li>1</li><li>5</li><li>1</li><li>5</li><li>1</li><li>5</li><li>1</li><li>5</li><li>1</li><li>5</li><li>1</li><li>5</li><li>1</li><li>5</li><li>1</li><li>5</li><li>1</li><li>5</li><li>1</li><li>5</li><li>1</li><li>5</li><li>1</li><li>5</li><li>1</li><li>5</li><li>1</li><li>5</li><li>1</li><li>5</li><li>1</li><li>5</li><li>1</li><li>5</li><li>1</li><li>5</li><li>1</li><li>5</li><li>1</li><li>5</li><li>1</li><li>5</li><li>1</li><li>5</li><li>1</li><li>5</li><li>1</li><li>5</li><li>1</li><li>5</li><li>1</li><li>5</li><li>1</li><li>5</li><li>1</li><li>5</li><li>1</li><li>5</li><li>1</li><li>5</li><li>1</li><li>5</li><li>1</li><li>5</li><li>1</li><li>5</li><li>1</li><li>5</li><li>1</li><li>5</li><li>1</li><li>5</li><li>1</li><li>5</li><li>1</li><li>5</li><li>1</li><li>5</li><li>1</li><li>5</li><li>1</li><li>5</li><li>1</li><li>5</li><li>1</li><li>5</li><li>1</li><li>5</li><li>1</li><li>5</li><li>1</li><li>5</li><li>1</li><li>5</li><li>1</li><li>5</li><li>1</li><li>5</li><li>1</li><li>5</li><li>1</li><li>5</li><li>1</li><li>5</li><li>1</li><li>5</li><li>1</li><li>5</li><li>1</li><li>5</li><li>1</li><li>5</li><li>1</li><li>5</li><li>1</li><li>5</li><li>1</li><li>5</li><li>1</li><li>5</li><li>1</li><li>5</li></ol>\n"
      ],
      "text/latex": [
       "\\begin{enumerate*}\n",
       "\\item 1\n",
       "\\item 5\n",
       "\\item 1\n",
       "\\item 5\n",
       "\\item 1\n",
       "\\item 5\n",
       "\\item 1\n",
       "\\item 5\n",
       "\\item 1\n",
       "\\item 5\n",
       "\\item 1\n",
       "\\item 5\n",
       "\\item 1\n",
       "\\item 5\n",
       "\\item 1\n",
       "\\item 5\n",
       "\\item 1\n",
       "\\item 5\n",
       "\\item 1\n",
       "\\item 5\n",
       "\\item 1\n",
       "\\item 5\n",
       "\\item 1\n",
       "\\item 5\n",
       "\\item 1\n",
       "\\item 5\n",
       "\\item 1\n",
       "\\item 5\n",
       "\\item 1\n",
       "\\item 5\n",
       "\\item 1\n",
       "\\item 5\n",
       "\\item 1\n",
       "\\item 5\n",
       "\\item 1\n",
       "\\item 5\n",
       "\\item 1\n",
       "\\item 5\n",
       "\\item 1\n",
       "\\item 5\n",
       "\\item 1\n",
       "\\item 5\n",
       "\\item 1\n",
       "\\item 5\n",
       "\\item 1\n",
       "\\item 5\n",
       "\\item 1\n",
       "\\item 5\n",
       "\\item 1\n",
       "\\item 5\n",
       "\\item 1\n",
       "\\item 5\n",
       "\\item 1\n",
       "\\item 5\n",
       "\\item 1\n",
       "\\item 5\n",
       "\\item 1\n",
       "\\item 5\n",
       "\\item 1\n",
       "\\item 5\n",
       "\\item 1\n",
       "\\item 5\n",
       "\\item 1\n",
       "\\item 5\n",
       "\\item 1\n",
       "\\item 5\n",
       "\\item 1\n",
       "\\item 5\n",
       "\\item 1\n",
       "\\item 5\n",
       "\\item 1\n",
       "\\item 5\n",
       "\\item 1\n",
       "\\item 5\n",
       "\\item 1\n",
       "\\item 5\n",
       "\\item 1\n",
       "\\item 5\n",
       "\\item 1\n",
       "\\item 5\n",
       "\\item 1\n",
       "\\item 5\n",
       "\\item 1\n",
       "\\item 5\n",
       "\\item 1\n",
       "\\item 5\n",
       "\\item 1\n",
       "\\item 5\n",
       "\\item 1\n",
       "\\item 5\n",
       "\\item 1\n",
       "\\item 5\n",
       "\\item 1\n",
       "\\item 5\n",
       "\\item 1\n",
       "\\item 5\n",
       "\\item 1\n",
       "\\item 5\n",
       "\\item 1\n",
       "\\item 5\n",
       "\\item 1\n",
       "\\item 5\n",
       "\\item 1\n",
       "\\item 5\n",
       "\\item 1\n",
       "\\item 5\n",
       "\\item 1\n",
       "\\item 5\n",
       "\\item 1\n",
       "\\item 5\n",
       "\\item 1\n",
       "\\item 5\n",
       "\\item 1\n",
       "\\item 5\n",
       "\\item 1\n",
       "\\item 5\n",
       "\\item 1\n",
       "\\item 5\n",
       "\\item 1\n",
       "\\item 5\n",
       "\\item 1\n",
       "\\item 5\n",
       "\\item 1\n",
       "\\item 5\n",
       "\\item 1\n",
       "\\item 5\n",
       "\\item 1\n",
       "\\item 5\n",
       "\\item 1\n",
       "\\item 5\n",
       "\\item 1\n",
       "\\item 5\n",
       "\\item 1\n",
       "\\item 5\n",
       "\\item 1\n",
       "\\item 5\n",
       "\\item 1\n",
       "\\item 5\n",
       "\\item 1\n",
       "\\item 5\n",
       "\\item 1\n",
       "\\item 5\n",
       "\\item 1\n",
       "\\item 5\n",
       "\\item 1\n",
       "\\item 5\n",
       "\\item 1\n",
       "\\item 5\n",
       "\\item 1\n",
       "\\item 5\n",
       "\\item 1\n",
       "\\item 5\n",
       "\\item 1\n",
       "\\item 5\n",
       "\\item 1\n",
       "\\item 5\n",
       "\\item 1\n",
       "\\item 5\n",
       "\\item 1\n",
       "\\item 5\n",
       "\\item 1\n",
       "\\item 5\n",
       "\\item 1\n",
       "\\item 5\n",
       "\\item 1\n",
       "\\item 5\n",
       "\\item 1\n",
       "\\item 5\n",
       "\\item 1\n",
       "\\item 5\n",
       "\\item 1\n",
       "\\item 5\n",
       "\\item 1\n",
       "\\item 5\n",
       "\\item 1\n",
       "\\item 5\n",
       "\\item 1\n",
       "\\item 5\n",
       "\\item 1\n",
       "\\item 5\n",
       "\\item 1\n",
       "\\item 5\n",
       "\\item 1\n",
       "\\item 5\n",
       "\\item 1\n",
       "\\item 5\n",
       "\\item 1\n",
       "\\item 5\n",
       "\\item 1\n",
       "\\item 5\n",
       "\\item 1\n",
       "\\item 5\n",
       "\\item 1\n",
       "\\item 5\n",
       "\\item 1\n",
       "\\item 5\n",
       "\\item 1\n",
       "\\item 5\n",
       "\\item 1\n",
       "\\item 5\n",
       "\\item 1\n",
       "\\item 5\n",
       "\\item 1\n",
       "\\item 5\n",
       "\\item 1\n",
       "\\item 5\n",
       "\\item 1\n",
       "\\item 5\n",
       "\\item 1\n",
       "\\item 5\n",
       "\\item 1\n",
       "\\item 5\n",
       "\\item 1\n",
       "\\item 5\n",
       "\\item 1\n",
       "\\item 5\n",
       "\\item 1\n",
       "\\item 5\n",
       "\\item 1\n",
       "\\item 5\n",
       "\\item 1\n",
       "\\item 5\n",
       "\\item 1\n",
       "\\item 5\n",
       "\\item 1\n",
       "\\item 5\n",
       "\\item 1\n",
       "\\item 5\n",
       "\\item 1\n",
       "\\item 5\n",
       "\\item 1\n",
       "\\item 5\n",
       "\\item 1\n",
       "\\item 5\n",
       "\\item 1\n",
       "\\item 5\n",
       "\\item 1\n",
       "\\item 5\n",
       "\\item 1\n",
       "\\item 5\n",
       "\\item 1\n",
       "\\item 5\n",
       "\\item 1\n",
       "\\item 5\n",
       "\\item 1\n",
       "\\item 5\n",
       "\\item 1\n",
       "\\item 5\n",
       "\\item 1\n",
       "\\item 5\n",
       "\\item 1\n",
       "\\item 5\n",
       "\\item 1\n",
       "\\item 5\n",
       "\\item 1\n",
       "\\item 5\n",
       "\\item 1\n",
       "\\item 5\n",
       "\\item 1\n",
       "\\item 5\n",
       "\\item 1\n",
       "\\item 5\n",
       "\\item 1\n",
       "\\item 5\n",
       "\\item 1\n",
       "\\item 5\n",
       "\\item 1\n",
       "\\item 5\n",
       "\\item 1\n",
       "\\item 5\n",
       "\\item 1\n",
       "\\item 5\n",
       "\\item 1\n",
       "\\item 5\n",
       "\\item 1\n",
       "\\item 5\n",
       "\\item 1\n",
       "\\item 5\n",
       "\\item 1\n",
       "\\item 5\n",
       "\\item 1\n",
       "\\item 5\n",
       "\\item 1\n",
       "\\item 5\n",
       "\\item 1\n",
       "\\item 5\n",
       "\\item 1\n",
       "\\item 5\n",
       "\\item 1\n",
       "\\item 5\n",
       "\\item 1\n",
       "\\item 5\n",
       "\\item 1\n",
       "\\item 5\n",
       "\\item 1\n",
       "\\item 5\n",
       "\\item 1\n",
       "\\item 5\n",
       "\\item 1\n",
       "\\item 5\n",
       "\\item 1\n",
       "\\item 5\n",
       "\\item 1\n",
       "\\item 5\n",
       "\\item 1\n",
       "\\item 5\n",
       "\\item 1\n",
       "\\item 5\n",
       "\\item 1\n",
       "\\item 5\n",
       "\\item 1\n",
       "\\item 5\n",
       "\\item 1\n",
       "\\item 5\n",
       "\\item 1\n",
       "\\item 5\n",
       "\\item 1\n",
       "\\item 5\n",
       "\\item 1\n",
       "\\item 5\n",
       "\\item 1\n",
       "\\item 5\n",
       "\\item 1\n",
       "\\item 5\n",
       "\\item 1\n",
       "\\item 5\n",
       "\\item 1\n",
       "\\item 5\n",
       "\\item 1\n",
       "\\item 5\n",
       "\\item 1\n",
       "\\item 5\n",
       "\\item 1\n",
       "\\item 5\n",
       "\\item 1\n",
       "\\item 5\n",
       "\\item 1\n",
       "\\item 5\n",
       "\\item 1\n",
       "\\item 5\n",
       "\\item 1\n",
       "\\item 5\n",
       "\\item 1\n",
       "\\item 5\n",
       "\\item 1\n",
       "\\item 5\n",
       "\\item 1\n",
       "\\item 5\n",
       "\\item 1\n",
       "\\item 5\n",
       "\\item 1\n",
       "\\item 5\n",
       "\\item 1\n",
       "\\item 5\n",
       "\\item 1\n",
       "\\item 5\n",
       "\\item 1\n",
       "\\item 5\n",
       "\\item 1\n",
       "\\item 5\n",
       "\\item 1\n",
       "\\item 5\n",
       "\\item 1\n",
       "\\item 5\n",
       "\\item 1\n",
       "\\item 5\n",
       "\\item 1\n",
       "\\item 5\n",
       "\\item 1\n",
       "\\item 5\n",
       "\\item 1\n",
       "\\item 5\n",
       "\\item 1\n",
       "\\item 5\n",
       "\\item 1\n",
       "\\item 5\n",
       "\\item 1\n",
       "\\item 5\n",
       "\\item 1\n",
       "\\item 5\n",
       "\\item 1\n",
       "\\item 5\n",
       "\\item 1\n",
       "\\item 5\n",
       "\\item 1\n",
       "\\item 5\n",
       "\\item 1\n",
       "\\item 5\n",
       "\\item 1\n",
       "\\item 5\n",
       "\\item 1\n",
       "\\item 5\n",
       "\\item 1\n",
       "\\item 5\n",
       "\\item 1\n",
       "\\item 5\n",
       "\\item 1\n",
       "\\item 5\n",
       "\\item 1\n",
       "\\item 5\n",
       "\\end{enumerate*}\n"
      ],
      "text/markdown": [
       "1. 1\n",
       "2. 5\n",
       "3. 1\n",
       "4. 5\n",
       "5. 1\n",
       "6. 5\n",
       "7. 1\n",
       "8. 5\n",
       "9. 1\n",
       "10. 5\n",
       "11. 1\n",
       "12. 5\n",
       "13. 1\n",
       "14. 5\n",
       "15. 1\n",
       "16. 5\n",
       "17. 1\n",
       "18. 5\n",
       "19. 1\n",
       "20. 5\n",
       "21. 1\n",
       "22. 5\n",
       "23. 1\n",
       "24. 5\n",
       "25. 1\n",
       "26. 5\n",
       "27. 1\n",
       "28. 5\n",
       "29. 1\n",
       "30. 5\n",
       "31. 1\n",
       "32. 5\n",
       "33. 1\n",
       "34. 5\n",
       "35. 1\n",
       "36. 5\n",
       "37. 1\n",
       "38. 5\n",
       "39. 1\n",
       "40. 5\n",
       "41. 1\n",
       "42. 5\n",
       "43. 1\n",
       "44. 5\n",
       "45. 1\n",
       "46. 5\n",
       "47. 1\n",
       "48. 5\n",
       "49. 1\n",
       "50. 5\n",
       "51. 1\n",
       "52. 5\n",
       "53. 1\n",
       "54. 5\n",
       "55. 1\n",
       "56. 5\n",
       "57. 1\n",
       "58. 5\n",
       "59. 1\n",
       "60. 5\n",
       "61. 1\n",
       "62. 5\n",
       "63. 1\n",
       "64. 5\n",
       "65. 1\n",
       "66. 5\n",
       "67. 1\n",
       "68. 5\n",
       "69. 1\n",
       "70. 5\n",
       "71. 1\n",
       "72. 5\n",
       "73. 1\n",
       "74. 5\n",
       "75. 1\n",
       "76. 5\n",
       "77. 1\n",
       "78. 5\n",
       "79. 1\n",
       "80. 5\n",
       "81. 1\n",
       "82. 5\n",
       "83. 1\n",
       "84. 5\n",
       "85. 1\n",
       "86. 5\n",
       "87. 1\n",
       "88. 5\n",
       "89. 1\n",
       "90. 5\n",
       "91. 1\n",
       "92. 5\n",
       "93. 1\n",
       "94. 5\n",
       "95. 1\n",
       "96. 5\n",
       "97. 1\n",
       "98. 5\n",
       "99. 1\n",
       "100. 5\n",
       "101. 1\n",
       "102. 5\n",
       "103. 1\n",
       "104. 5\n",
       "105. 1\n",
       "106. 5\n",
       "107. 1\n",
       "108. 5\n",
       "109. 1\n",
       "110. 5\n",
       "111. 1\n",
       "112. 5\n",
       "113. 1\n",
       "114. 5\n",
       "115. 1\n",
       "116. 5\n",
       "117. 1\n",
       "118. 5\n",
       "119. 1\n",
       "120. 5\n",
       "121. 1\n",
       "122. 5\n",
       "123. 1\n",
       "124. 5\n",
       "125. 1\n",
       "126. 5\n",
       "127. 1\n",
       "128. 5\n",
       "129. 1\n",
       "130. 5\n",
       "131. 1\n",
       "132. 5\n",
       "133. 1\n",
       "134. 5\n",
       "135. 1\n",
       "136. 5\n",
       "137. 1\n",
       "138. 5\n",
       "139. 1\n",
       "140. 5\n",
       "141. 1\n",
       "142. 5\n",
       "143. 1\n",
       "144. 5\n",
       "145. 1\n",
       "146. 5\n",
       "147. 1\n",
       "148. 5\n",
       "149. 1\n",
       "150. 5\n",
       "151. 1\n",
       "152. 5\n",
       "153. 1\n",
       "154. 5\n",
       "155. 1\n",
       "156. 5\n",
       "157. 1\n",
       "158. 5\n",
       "159. 1\n",
       "160. 5\n",
       "161. 1\n",
       "162. 5\n",
       "163. 1\n",
       "164. 5\n",
       "165. 1\n",
       "166. 5\n",
       "167. 1\n",
       "168. 5\n",
       "169. 1\n",
       "170. 5\n",
       "171. 1\n",
       "172. 5\n",
       "173. 1\n",
       "174. 5\n",
       "175. 1\n",
       "176. 5\n",
       "177. 1\n",
       "178. 5\n",
       "179. 1\n",
       "180. 5\n",
       "181. 1\n",
       "182. 5\n",
       "183. 1\n",
       "184. 5\n",
       "185. 1\n",
       "186. 5\n",
       "187. 1\n",
       "188. 5\n",
       "189. 1\n",
       "190. 5\n",
       "191. 1\n",
       "192. 5\n",
       "193. 1\n",
       "194. 5\n",
       "195. 1\n",
       "196. 5\n",
       "197. 1\n",
       "198. 5\n",
       "199. 1\n",
       "200. 5\n",
       "201. 1\n",
       "202. 5\n",
       "203. 1\n",
       "204. 5\n",
       "205. 1\n",
       "206. 5\n",
       "207. 1\n",
       "208. 5\n",
       "209. 1\n",
       "210. 5\n",
       "211. 1\n",
       "212. 5\n",
       "213. 1\n",
       "214. 5\n",
       "215. 1\n",
       "216. 5\n",
       "217. 1\n",
       "218. 5\n",
       "219. 1\n",
       "220. 5\n",
       "221. 1\n",
       "222. 5\n",
       "223. 1\n",
       "224. 5\n",
       "225. 1\n",
       "226. 5\n",
       "227. 1\n",
       "228. 5\n",
       "229. 1\n",
       "230. 5\n",
       "231. 1\n",
       "232. 5\n",
       "233. 1\n",
       "234. 5\n",
       "235. 1\n",
       "236. 5\n",
       "237. 1\n",
       "238. 5\n",
       "239. 1\n",
       "240. 5\n",
       "241. 1\n",
       "242. 5\n",
       "243. 1\n",
       "244. 5\n",
       "245. 1\n",
       "246. 5\n",
       "247. 1\n",
       "248. 5\n",
       "249. 1\n",
       "250. 5\n",
       "251. 1\n",
       "252. 5\n",
       "253. 1\n",
       "254. 5\n",
       "255. 1\n",
       "256. 5\n",
       "257. 1\n",
       "258. 5\n",
       "259. 1\n",
       "260. 5\n",
       "261. 1\n",
       "262. 5\n",
       "263. 1\n",
       "264. 5\n",
       "265. 1\n",
       "266. 5\n",
       "267. 1\n",
       "268. 5\n",
       "269. 1\n",
       "270. 5\n",
       "271. 1\n",
       "272. 5\n",
       "273. 1\n",
       "274. 5\n",
       "275. 1\n",
       "276. 5\n",
       "277. 1\n",
       "278. 5\n",
       "279. 1\n",
       "280. 5\n",
       "281. 1\n",
       "282. 5\n",
       "283. 1\n",
       "284. 5\n",
       "285. 1\n",
       "286. 5\n",
       "287. 1\n",
       "288. 5\n",
       "289. 1\n",
       "290. 5\n",
       "291. 1\n",
       "292. 5\n",
       "293. 1\n",
       "294. 5\n",
       "295. 1\n",
       "296. 5\n",
       "297. 1\n",
       "298. 5\n",
       "299. 1\n",
       "300. 5\n",
       "301. 1\n",
       "302. 5\n",
       "303. 1\n",
       "304. 5\n",
       "305. 1\n",
       "306. 5\n",
       "307. 1\n",
       "308. 5\n",
       "309. 1\n",
       "310. 5\n",
       "311. 1\n",
       "312. 5\n",
       "313. 1\n",
       "314. 5\n",
       "315. 1\n",
       "316. 5\n",
       "317. 1\n",
       "318. 5\n",
       "319. 1\n",
       "320. 5\n",
       "321. 1\n",
       "322. 5\n",
       "323. 1\n",
       "324. 5\n",
       "325. 1\n",
       "326. 5\n",
       "327. 1\n",
       "328. 5\n",
       "329. 1\n",
       "330. 5\n",
       "331. 1\n",
       "332. 5\n",
       "333. 1\n",
       "334. 5\n",
       "335. 1\n",
       "336. 5\n",
       "337. 1\n",
       "338. 5\n",
       "339. 1\n",
       "340. 5\n",
       "341. 1\n",
       "342. 5\n",
       "343. 1\n",
       "344. 5\n",
       "345. 1\n",
       "346. 5\n",
       "347. 1\n",
       "348. 5\n",
       "349. 1\n",
       "350. 5\n",
       "351. 1\n",
       "352. 5\n",
       "353. 1\n",
       "354. 5\n",
       "355. 1\n",
       "356. 5\n",
       "357. 1\n",
       "358. 5\n",
       "359. 1\n",
       "360. 5\n",
       "361. 1\n",
       "362. 5\n",
       "363. 1\n",
       "364. 5\n",
       "365. 1\n",
       "366. 5\n",
       "367. 1\n",
       "368. 5\n",
       "369. 1\n",
       "370. 5\n",
       "371. 1\n",
       "372. 5\n",
       "373. 1\n",
       "374. 5\n",
       "375. 1\n",
       "376. 5\n",
       "377. 1\n",
       "378. 5\n",
       "379. 1\n",
       "380. 5\n",
       "381. 1\n",
       "382. 5\n",
       "383. 1\n",
       "384. 5\n",
       "385. 1\n",
       "386. 5\n",
       "387. 1\n",
       "388. 5\n",
       "389. 1\n",
       "390. 5\n",
       "391. 1\n",
       "392. 5\n",
       "393. 1\n",
       "394. 5\n",
       "395. 1\n",
       "396. 5\n",
       "397. 1\n",
       "398. 5\n",
       "399. 1\n",
       "400. 5\n",
       "\n",
       "\n"
      ],
      "text/plain": [
       "  [1] 1 5 1 5 1 5 1 5 1 5 1 5 1 5 1 5 1 5 1 5 1 5 1 5 1 5 1 5 1 5 1 5 1 5 1 5 1\n",
       " [38] 5 1 5 1 5 1 5 1 5 1 5 1 5 1 5 1 5 1 5 1 5 1 5 1 5 1 5 1 5 1 5 1 5 1 5 1 5\n",
       " [75] 1 5 1 5 1 5 1 5 1 5 1 5 1 5 1 5 1 5 1 5 1 5 1 5 1 5 1 5 1 5 1 5 1 5 1 5 1\n",
       "[112] 5 1 5 1 5 1 5 1 5 1 5 1 5 1 5 1 5 1 5 1 5 1 5 1 5 1 5 1 5 1 5 1 5 1 5 1 5\n",
       "[149] 1 5 1 5 1 5 1 5 1 5 1 5 1 5 1 5 1 5 1 5 1 5 1 5 1 5 1 5 1 5 1 5 1 5 1 5 1\n",
       "[186] 5 1 5 1 5 1 5 1 5 1 5 1 5 1 5 1 5 1 5 1 5 1 5 1 5 1 5 1 5 1 5 1 5 1 5 1 5\n",
       "[223] 1 5 1 5 1 5 1 5 1 5 1 5 1 5 1 5 1 5 1 5 1 5 1 5 1 5 1 5 1 5 1 5 1 5 1 5 1\n",
       "[260] 5 1 5 1 5 1 5 1 5 1 5 1 5 1 5 1 5 1 5 1 5 1 5 1 5 1 5 1 5 1 5 1 5 1 5 1 5\n",
       "[297] 1 5 1 5 1 5 1 5 1 5 1 5 1 5 1 5 1 5 1 5 1 5 1 5 1 5 1 5 1 5 1 5 1 5 1 5 1\n",
       "[334] 5 1 5 1 5 1 5 1 5 1 5 1 5 1 5 1 5 1 5 1 5 1 5 1 5 1 5 1 5 1 5 1 5 1 5 1 5\n",
       "[371] 1 5 1 5 1 5 1 5 1 5 1 5 1 5 1 5 1 5 1 5 1 5 1 5 1 5 1 5 1 5"
      ]
     },
     "metadata": {},
     "output_type": "display_data"
    }
   ],
   "source": [
    "v7"
   ]
  },
  {
   "cell_type": "code",
   "execution_count": 24,
   "id": "8d0485fc",
   "metadata": {},
   "outputs": [
    {
     "data": {
      "text/html": [
       "<style>\n",
       ".list-inline {list-style: none; margin:0; padding: 0}\n",
       ".list-inline>li {display: inline-block}\n",
       ".list-inline>li:not(:last-child)::after {content: \"\\00b7\"; padding: 0 .5ex}\n",
       "</style>\n",
       "<ol class=list-inline><li>90</li><li>85</li><li>70</li></ol>\n"
      ],
      "text/latex": [
       "\\begin{enumerate*}\n",
       "\\item 90\n",
       "\\item 85\n",
       "\\item 70\n",
       "\\end{enumerate*}\n"
      ],
      "text/markdown": [
       "1. 90\n",
       "2. 85\n",
       "3. 70\n",
       "\n",
       "\n"
      ],
      "text/plain": [
       "[1] 90 85 70"
      ]
     },
     "metadata": {},
     "output_type": "display_data"
    }
   ],
   "source": [
    "score <- c(90, 85, 70)\n",
    "score"
   ]
  },
  {
   "cell_type": "code",
   "execution_count": 25,
   "id": "34d929f6",
   "metadata": {},
   "outputs": [],
   "source": [
    "names(score) <- c('John', 'Tom', 'Jane')"
   ]
  },
  {
   "cell_type": "code",
   "execution_count": 26,
   "id": "befb4f6b",
   "metadata": {},
   "outputs": [
    {
     "data": {
      "text/html": [
       "<style>\n",
       ".dl-inline {width: auto; margin:0; padding: 0}\n",
       ".dl-inline>dt, .dl-inline>dd {float: none; width: auto; display: inline-block}\n",
       ".dl-inline>dt::after {content: \":\\0020\"; padding-right: .5ex}\n",
       ".dl-inline>dt:not(:first-of-type) {padding-left: .5ex}\n",
       "</style><dl class=dl-inline><dt>John</dt><dd>90</dd><dt>Tom</dt><dd>85</dd><dt>Jane</dt><dd>70</dd></dl>\n"
      ],
      "text/latex": [
       "\\begin{description*}\n",
       "\\item[John] 90\n",
       "\\item[Tom] 85\n",
       "\\item[Jane] 70\n",
       "\\end{description*}\n"
      ],
      "text/markdown": [
       "John\n",
       ":   90Tom\n",
       ":   85Jane\n",
       ":   70\n",
       "\n"
      ],
      "text/plain": [
       "John  Tom Jane \n",
       "  90   85   70 "
      ]
     },
     "metadata": {},
     "output_type": "display_data"
    }
   ],
   "source": [
    "score"
   ]
  },
  {
   "cell_type": "code",
   "execution_count": 27,
   "id": "e890d7bf",
   "metadata": {},
   "outputs": [],
   "source": [
    "d <- 1:100"
   ]
  },
  {
   "cell_type": "code",
   "execution_count": 28,
   "id": "4e89ebbc",
   "metadata": {},
   "outputs": [
    {
     "data": {
      "text/html": [
       "<style>\n",
       ".list-inline {list-style: none; margin:0; padding: 0}\n",
       ".list-inline>li {display: inline-block}\n",
       ".list-inline>li:not(:last-child)::after {content: \"\\00b7\"; padding: 0 .5ex}\n",
       "</style>\n",
       "<ol class=list-inline><li>1</li><li>2</li><li>3</li><li>4</li><li>5</li><li>6</li><li>7</li><li>8</li><li>9</li><li>10</li><li>11</li><li>12</li><li>13</li><li>14</li><li>15</li><li>16</li><li>17</li><li>18</li><li>19</li><li>20</li><li>21</li><li>22</li><li>23</li><li>24</li><li>25</li><li>26</li><li>27</li><li>28</li><li>29</li><li>30</li><li>31</li><li>32</li><li>33</li><li>34</li><li>35</li><li>36</li><li>37</li><li>38</li><li>39</li><li>40</li><li>41</li><li>42</li><li>43</li><li>44</li><li>45</li><li>46</li><li>47</li><li>48</li><li>49</li><li>50</li><li>51</li><li>52</li><li>53</li><li>54</li><li>55</li><li>56</li><li>57</li><li>58</li><li>59</li><li>60</li><li>61</li><li>62</li><li>63</li><li>64</li><li>65</li><li>66</li><li>67</li><li>68</li><li>69</li><li>70</li><li>71</li><li>72</li><li>73</li><li>74</li><li>75</li><li>76</li><li>77</li><li>78</li><li>79</li><li>80</li><li>81</li><li>82</li><li>83</li><li>84</li><li>85</li><li>86</li><li>87</li><li>88</li><li>89</li><li>90</li><li>91</li><li>92</li><li>93</li><li>94</li><li>95</li><li>96</li><li>97</li><li>98</li><li>99</li><li>100</li></ol>\n"
      ],
      "text/latex": [
       "\\begin{enumerate*}\n",
       "\\item 1\n",
       "\\item 2\n",
       "\\item 3\n",
       "\\item 4\n",
       "\\item 5\n",
       "\\item 6\n",
       "\\item 7\n",
       "\\item 8\n",
       "\\item 9\n",
       "\\item 10\n",
       "\\item 11\n",
       "\\item 12\n",
       "\\item 13\n",
       "\\item 14\n",
       "\\item 15\n",
       "\\item 16\n",
       "\\item 17\n",
       "\\item 18\n",
       "\\item 19\n",
       "\\item 20\n",
       "\\item 21\n",
       "\\item 22\n",
       "\\item 23\n",
       "\\item 24\n",
       "\\item 25\n",
       "\\item 26\n",
       "\\item 27\n",
       "\\item 28\n",
       "\\item 29\n",
       "\\item 30\n",
       "\\item 31\n",
       "\\item 32\n",
       "\\item 33\n",
       "\\item 34\n",
       "\\item 35\n",
       "\\item 36\n",
       "\\item 37\n",
       "\\item 38\n",
       "\\item 39\n",
       "\\item 40\n",
       "\\item 41\n",
       "\\item 42\n",
       "\\item 43\n",
       "\\item 44\n",
       "\\item 45\n",
       "\\item 46\n",
       "\\item 47\n",
       "\\item 48\n",
       "\\item 49\n",
       "\\item 50\n",
       "\\item 51\n",
       "\\item 52\n",
       "\\item 53\n",
       "\\item 54\n",
       "\\item 55\n",
       "\\item 56\n",
       "\\item 57\n",
       "\\item 58\n",
       "\\item 59\n",
       "\\item 60\n",
       "\\item 61\n",
       "\\item 62\n",
       "\\item 63\n",
       "\\item 64\n",
       "\\item 65\n",
       "\\item 66\n",
       "\\item 67\n",
       "\\item 68\n",
       "\\item 69\n",
       "\\item 70\n",
       "\\item 71\n",
       "\\item 72\n",
       "\\item 73\n",
       "\\item 74\n",
       "\\item 75\n",
       "\\item 76\n",
       "\\item 77\n",
       "\\item 78\n",
       "\\item 79\n",
       "\\item 80\n",
       "\\item 81\n",
       "\\item 82\n",
       "\\item 83\n",
       "\\item 84\n",
       "\\item 85\n",
       "\\item 86\n",
       "\\item 87\n",
       "\\item 88\n",
       "\\item 89\n",
       "\\item 90\n",
       "\\item 91\n",
       "\\item 92\n",
       "\\item 93\n",
       "\\item 94\n",
       "\\item 95\n",
       "\\item 96\n",
       "\\item 97\n",
       "\\item 98\n",
       "\\item 99\n",
       "\\item 100\n",
       "\\end{enumerate*}\n"
      ],
      "text/markdown": [
       "1. 1\n",
       "2. 2\n",
       "3. 3\n",
       "4. 4\n",
       "5. 5\n",
       "6. 6\n",
       "7. 7\n",
       "8. 8\n",
       "9. 9\n",
       "10. 10\n",
       "11. 11\n",
       "12. 12\n",
       "13. 13\n",
       "14. 14\n",
       "15. 15\n",
       "16. 16\n",
       "17. 17\n",
       "18. 18\n",
       "19. 19\n",
       "20. 20\n",
       "21. 21\n",
       "22. 22\n",
       "23. 23\n",
       "24. 24\n",
       "25. 25\n",
       "26. 26\n",
       "27. 27\n",
       "28. 28\n",
       "29. 29\n",
       "30. 30\n",
       "31. 31\n",
       "32. 32\n",
       "33. 33\n",
       "34. 34\n",
       "35. 35\n",
       "36. 36\n",
       "37. 37\n",
       "38. 38\n",
       "39. 39\n",
       "40. 40\n",
       "41. 41\n",
       "42. 42\n",
       "43. 43\n",
       "44. 44\n",
       "45. 45\n",
       "46. 46\n",
       "47. 47\n",
       "48. 48\n",
       "49. 49\n",
       "50. 50\n",
       "51. 51\n",
       "52. 52\n",
       "53. 53\n",
       "54. 54\n",
       "55. 55\n",
       "56. 56\n",
       "57. 57\n",
       "58. 58\n",
       "59. 59\n",
       "60. 60\n",
       "61. 61\n",
       "62. 62\n",
       "63. 63\n",
       "64. 64\n",
       "65. 65\n",
       "66. 66\n",
       "67. 67\n",
       "68. 68\n",
       "69. 69\n",
       "70. 70\n",
       "71. 71\n",
       "72. 72\n",
       "73. 73\n",
       "74. 74\n",
       "75. 75\n",
       "76. 76\n",
       "77. 77\n",
       "78. 78\n",
       "79. 79\n",
       "80. 80\n",
       "81. 81\n",
       "82. 82\n",
       "83. 83\n",
       "84. 84\n",
       "85. 85\n",
       "86. 86\n",
       "87. 87\n",
       "88. 88\n",
       "89. 89\n",
       "90. 90\n",
       "91. 91\n",
       "92. 92\n",
       "93. 93\n",
       "94. 94\n",
       "95. 95\n",
       "96. 96\n",
       "97. 97\n",
       "98. 98\n",
       "99. 99\n",
       "100. 100\n",
       "\n",
       "\n"
      ],
      "text/plain": [
       "  [1]   1   2   3   4   5   6   7   8   9  10  11  12  13  14  15  16  17  18\n",
       " [19]  19  20  21  22  23  24  25  26  27  28  29  30  31  32  33  34  35  36\n",
       " [37]  37  38  39  40  41  42  43  44  45  46  47  48  49  50  51  52  53  54\n",
       " [55]  55  56  57  58  59  60  61  62  63  64  65  66  67  68  69  70  71  72\n",
       " [73]  73  74  75  76  77  78  79  80  81  82  83  84  85  86  87  88  89  90\n",
       " [91]  91  92  93  94  95  96  97  98  99 100"
      ]
     },
     "metadata": {},
     "output_type": "display_data"
    }
   ],
   "source": [
    "d"
   ]
  },
  {
   "cell_type": "code",
   "execution_count": 29,
   "id": "64ebd034",
   "metadata": {},
   "outputs": [
    {
     "data": {
      "text/html": [
       "<style>\n",
       ".list-inline {list-style: none; margin:0; padding: 0}\n",
       ".list-inline>li {display: inline-block}\n",
       ".list-inline>li:not(:last-child)::after {content: \"\\00b7\"; padding: 0 .5ex}\n",
       "</style>\n",
       "<ol class=list-inline><li>1</li><li>3</li><li>5</li></ol>\n"
      ],
      "text/latex": [
       "\\begin{enumerate*}\n",
       "\\item 1\n",
       "\\item 3\n",
       "\\item 5\n",
       "\\end{enumerate*}\n"
      ],
      "text/markdown": [
       "1. 1\n",
       "2. 3\n",
       "3. 5\n",
       "\n",
       "\n"
      ],
      "text/plain": [
       "[1] 1 3 5"
      ]
     },
     "metadata": {},
     "output_type": "display_data"
    }
   ],
   "source": [
    "d[c(1, 3, 5)]"
   ]
  },
  {
   "cell_type": "code",
   "execution_count": 30,
   "id": "14db6cbe",
   "metadata": {},
   "outputs": [
    {
     "data": {
      "text/html": [
       "<style>\n",
       ".list-inline {list-style: none; margin:0; padding: 0}\n",
       ".list-inline>li {display: inline-block}\n",
       ".list-inline>li:not(:last-child)::after {content: \"\\00b7\"; padding: 0 .5ex}\n",
       "</style>\n",
       "<ol class=list-inline><li>1</li><li>4</li><li>7</li><li>10</li></ol>\n"
      ],
      "text/latex": [
       "\\begin{enumerate*}\n",
       "\\item 1\n",
       "\\item 4\n",
       "\\item 7\n",
       "\\item 10\n",
       "\\end{enumerate*}\n"
      ],
      "text/markdown": [
       "1. 1\n",
       "2. 4\n",
       "3. 7\n",
       "4. 10\n",
       "\n",
       "\n"
      ],
      "text/plain": [
       "[1]  1  4  7 10"
      ]
     },
     "metadata": {},
     "output_type": "display_data"
    }
   ],
   "source": [
    "d[seq(1, 10, 3)]"
   ]
  },
  {
   "cell_type": "code",
   "execution_count": 31,
   "id": "d115f5ba",
   "metadata": {},
   "outputs": [
    {
     "data": {
      "text/html": [
       "<style>\n",
       ".list-inline {list-style: none; margin:0; padding: 0}\n",
       ".list-inline>li {display: inline-block}\n",
       ".list-inline>li:not(:last-child)::after {content: \"\\00b7\"; padding: 0 .5ex}\n",
       "</style>\n",
       "<ol class=list-inline><li>1</li><li>2</li><li>3</li><li>4</li><li>6</li><li>7</li><li>8</li><li>9</li><li>10</li><li>11</li><li>12</li><li>13</li><li>14</li><li>15</li><li>16</li><li>17</li><li>18</li><li>19</li><li>20</li><li>21</li><li>22</li><li>23</li><li>24</li><li>25</li><li>26</li><li>27</li><li>28</li><li>29</li><li>30</li><li>31</li><li>32</li><li>33</li><li>34</li><li>35</li><li>36</li><li>37</li><li>38</li><li>39</li><li>40</li><li>41</li><li>42</li><li>43</li><li>44</li><li>45</li><li>46</li><li>47</li><li>48</li><li>49</li><li>50</li><li>51</li><li>52</li><li>53</li><li>54</li><li>55</li><li>56</li><li>57</li><li>58</li><li>59</li><li>60</li><li>61</li><li>62</li><li>63</li><li>64</li><li>65</li><li>66</li><li>67</li><li>68</li><li>69</li><li>70</li><li>71</li><li>72</li><li>73</li><li>74</li><li>75</li><li>76</li><li>77</li><li>78</li><li>79</li><li>80</li><li>81</li><li>82</li><li>83</li><li>84</li><li>85</li><li>86</li><li>87</li><li>88</li><li>89</li><li>90</li><li>91</li><li>92</li><li>93</li><li>94</li><li>95</li><li>96</li><li>97</li><li>98</li><li>99</li><li>100</li></ol>\n"
      ],
      "text/latex": [
       "\\begin{enumerate*}\n",
       "\\item 1\n",
       "\\item 2\n",
       "\\item 3\n",
       "\\item 4\n",
       "\\item 6\n",
       "\\item 7\n",
       "\\item 8\n",
       "\\item 9\n",
       "\\item 10\n",
       "\\item 11\n",
       "\\item 12\n",
       "\\item 13\n",
       "\\item 14\n",
       "\\item 15\n",
       "\\item 16\n",
       "\\item 17\n",
       "\\item 18\n",
       "\\item 19\n",
       "\\item 20\n",
       "\\item 21\n",
       "\\item 22\n",
       "\\item 23\n",
       "\\item 24\n",
       "\\item 25\n",
       "\\item 26\n",
       "\\item 27\n",
       "\\item 28\n",
       "\\item 29\n",
       "\\item 30\n",
       "\\item 31\n",
       "\\item 32\n",
       "\\item 33\n",
       "\\item 34\n",
       "\\item 35\n",
       "\\item 36\n",
       "\\item 37\n",
       "\\item 38\n",
       "\\item 39\n",
       "\\item 40\n",
       "\\item 41\n",
       "\\item 42\n",
       "\\item 43\n",
       "\\item 44\n",
       "\\item 45\n",
       "\\item 46\n",
       "\\item 47\n",
       "\\item 48\n",
       "\\item 49\n",
       "\\item 50\n",
       "\\item 51\n",
       "\\item 52\n",
       "\\item 53\n",
       "\\item 54\n",
       "\\item 55\n",
       "\\item 56\n",
       "\\item 57\n",
       "\\item 58\n",
       "\\item 59\n",
       "\\item 60\n",
       "\\item 61\n",
       "\\item 62\n",
       "\\item 63\n",
       "\\item 64\n",
       "\\item 65\n",
       "\\item 66\n",
       "\\item 67\n",
       "\\item 68\n",
       "\\item 69\n",
       "\\item 70\n",
       "\\item 71\n",
       "\\item 72\n",
       "\\item 73\n",
       "\\item 74\n",
       "\\item 75\n",
       "\\item 76\n",
       "\\item 77\n",
       "\\item 78\n",
       "\\item 79\n",
       "\\item 80\n",
       "\\item 81\n",
       "\\item 82\n",
       "\\item 83\n",
       "\\item 84\n",
       "\\item 85\n",
       "\\item 86\n",
       "\\item 87\n",
       "\\item 88\n",
       "\\item 89\n",
       "\\item 90\n",
       "\\item 91\n",
       "\\item 92\n",
       "\\item 93\n",
       "\\item 94\n",
       "\\item 95\n",
       "\\item 96\n",
       "\\item 97\n",
       "\\item 98\n",
       "\\item 99\n",
       "\\item 100\n",
       "\\end{enumerate*}\n"
      ],
      "text/markdown": [
       "1. 1\n",
       "2. 2\n",
       "3. 3\n",
       "4. 4\n",
       "5. 6\n",
       "6. 7\n",
       "7. 8\n",
       "8. 9\n",
       "9. 10\n",
       "10. 11\n",
       "11. 12\n",
       "12. 13\n",
       "13. 14\n",
       "14. 15\n",
       "15. 16\n",
       "16. 17\n",
       "17. 18\n",
       "18. 19\n",
       "19. 20\n",
       "20. 21\n",
       "21. 22\n",
       "22. 23\n",
       "23. 24\n",
       "24. 25\n",
       "25. 26\n",
       "26. 27\n",
       "27. 28\n",
       "28. 29\n",
       "29. 30\n",
       "30. 31\n",
       "31. 32\n",
       "32. 33\n",
       "33. 34\n",
       "34. 35\n",
       "35. 36\n",
       "36. 37\n",
       "37. 38\n",
       "38. 39\n",
       "39. 40\n",
       "40. 41\n",
       "41. 42\n",
       "42. 43\n",
       "43. 44\n",
       "44. 45\n",
       "45. 46\n",
       "46. 47\n",
       "47. 48\n",
       "48. 49\n",
       "49. 50\n",
       "50. 51\n",
       "51. 52\n",
       "52. 53\n",
       "53. 54\n",
       "54. 55\n",
       "55. 56\n",
       "56. 57\n",
       "57. 58\n",
       "58. 59\n",
       "59. 60\n",
       "60. 61\n",
       "61. 62\n",
       "62. 63\n",
       "63. 64\n",
       "64. 65\n",
       "65. 66\n",
       "66. 67\n",
       "67. 68\n",
       "68. 69\n",
       "69. 70\n",
       "70. 71\n",
       "71. 72\n",
       "72. 73\n",
       "73. 74\n",
       "74. 75\n",
       "75. 76\n",
       "76. 77\n",
       "77. 78\n",
       "78. 79\n",
       "79. 80\n",
       "80. 81\n",
       "81. 82\n",
       "82. 83\n",
       "83. 84\n",
       "84. 85\n",
       "85. 86\n",
       "86. 87\n",
       "87. 88\n",
       "88. 89\n",
       "89. 90\n",
       "90. 91\n",
       "91. 92\n",
       "92. 93\n",
       "93. 94\n",
       "94. 95\n",
       "95. 96\n",
       "96. 97\n",
       "97. 98\n",
       "98. 99\n",
       "99. 100\n",
       "\n",
       "\n"
      ],
      "text/plain": [
       " [1]   1   2   3   4   6   7   8   9  10  11  12  13  14  15  16  17  18  19  20\n",
       "[20]  21  22  23  24  25  26  27  28  29  30  31  32  33  34  35  36  37  38  39\n",
       "[39]  40  41  42  43  44  45  46  47  48  49  50  51  52  53  54  55  56  57  58\n",
       "[58]  59  60  61  62  63  64  65  66  67  68  69  70  71  72  73  74  75  76  77\n",
       "[77]  78  79  80  81  82  83  84  85  86  87  88  89  90  91  92  93  94  95  96\n",
       "[96]  97  98  99 100"
      ]
     },
     "metadata": {},
     "output_type": "display_data"
    }
   ],
   "source": [
    "d[-5]"
   ]
  },
  {
   "cell_type": "code",
   "execution_count": 33,
   "id": "f4cdb49d",
   "metadata": {},
   "outputs": [
    {
     "data": {
      "text/html": [
       "<style>\n",
       ".list-inline {list-style: none; margin:0; padding: 0}\n",
       ".list-inline>li {display: inline-block}\n",
       ".list-inline>li:not(:last-child)::after {content: \"\\00b7\"; padding: 0 .5ex}\n",
       "</style>\n",
       "<ol class=list-inline><li>1</li><li>2</li><li>6</li><li>7</li><li>8</li><li>9</li><li>10</li><li>11</li><li>12</li><li>13</li><li>14</li><li>15</li><li>16</li><li>17</li><li>18</li><li>19</li><li>20</li><li>21</li><li>22</li><li>23</li><li>24</li><li>25</li><li>26</li><li>27</li><li>28</li><li>29</li><li>30</li><li>31</li><li>32</li><li>33</li><li>34</li><li>35</li><li>36</li><li>37</li><li>38</li><li>39</li><li>40</li><li>41</li><li>42</li><li>43</li><li>44</li><li>45</li><li>46</li><li>47</li><li>48</li><li>49</li><li>50</li><li>51</li><li>52</li><li>53</li><li>54</li><li>55</li><li>56</li><li>57</li><li>58</li><li>59</li><li>60</li><li>61</li><li>62</li><li>63</li><li>64</li><li>65</li><li>66</li><li>67</li><li>68</li><li>69</li><li>70</li><li>71</li><li>72</li><li>73</li><li>74</li><li>75</li><li>76</li><li>77</li><li>78</li><li>79</li><li>80</li><li>81</li><li>82</li><li>83</li><li>84</li><li>85</li><li>86</li><li>87</li><li>88</li><li>89</li><li>90</li><li>91</li><li>92</li><li>93</li><li>94</li><li>95</li><li>96</li><li>97</li><li>98</li><li>99</li><li>100</li></ol>\n"
      ],
      "text/latex": [
       "\\begin{enumerate*}\n",
       "\\item 1\n",
       "\\item 2\n",
       "\\item 6\n",
       "\\item 7\n",
       "\\item 8\n",
       "\\item 9\n",
       "\\item 10\n",
       "\\item 11\n",
       "\\item 12\n",
       "\\item 13\n",
       "\\item 14\n",
       "\\item 15\n",
       "\\item 16\n",
       "\\item 17\n",
       "\\item 18\n",
       "\\item 19\n",
       "\\item 20\n",
       "\\item 21\n",
       "\\item 22\n",
       "\\item 23\n",
       "\\item 24\n",
       "\\item 25\n",
       "\\item 26\n",
       "\\item 27\n",
       "\\item 28\n",
       "\\item 29\n",
       "\\item 30\n",
       "\\item 31\n",
       "\\item 32\n",
       "\\item 33\n",
       "\\item 34\n",
       "\\item 35\n",
       "\\item 36\n",
       "\\item 37\n",
       "\\item 38\n",
       "\\item 39\n",
       "\\item 40\n",
       "\\item 41\n",
       "\\item 42\n",
       "\\item 43\n",
       "\\item 44\n",
       "\\item 45\n",
       "\\item 46\n",
       "\\item 47\n",
       "\\item 48\n",
       "\\item 49\n",
       "\\item 50\n",
       "\\item 51\n",
       "\\item 52\n",
       "\\item 53\n",
       "\\item 54\n",
       "\\item 55\n",
       "\\item 56\n",
       "\\item 57\n",
       "\\item 58\n",
       "\\item 59\n",
       "\\item 60\n",
       "\\item 61\n",
       "\\item 62\n",
       "\\item 63\n",
       "\\item 64\n",
       "\\item 65\n",
       "\\item 66\n",
       "\\item 67\n",
       "\\item 68\n",
       "\\item 69\n",
       "\\item 70\n",
       "\\item 71\n",
       "\\item 72\n",
       "\\item 73\n",
       "\\item 74\n",
       "\\item 75\n",
       "\\item 76\n",
       "\\item 77\n",
       "\\item 78\n",
       "\\item 79\n",
       "\\item 80\n",
       "\\item 81\n",
       "\\item 82\n",
       "\\item 83\n",
       "\\item 84\n",
       "\\item 85\n",
       "\\item 86\n",
       "\\item 87\n",
       "\\item 88\n",
       "\\item 89\n",
       "\\item 90\n",
       "\\item 91\n",
       "\\item 92\n",
       "\\item 93\n",
       "\\item 94\n",
       "\\item 95\n",
       "\\item 96\n",
       "\\item 97\n",
       "\\item 98\n",
       "\\item 99\n",
       "\\item 100\n",
       "\\end{enumerate*}\n"
      ],
      "text/markdown": [
       "1. 1\n",
       "2. 2\n",
       "3. 6\n",
       "4. 7\n",
       "5. 8\n",
       "6. 9\n",
       "7. 10\n",
       "8. 11\n",
       "9. 12\n",
       "10. 13\n",
       "11. 14\n",
       "12. 15\n",
       "13. 16\n",
       "14. 17\n",
       "15. 18\n",
       "16. 19\n",
       "17. 20\n",
       "18. 21\n",
       "19. 22\n",
       "20. 23\n",
       "21. 24\n",
       "22. 25\n",
       "23. 26\n",
       "24. 27\n",
       "25. 28\n",
       "26. 29\n",
       "27. 30\n",
       "28. 31\n",
       "29. 32\n",
       "30. 33\n",
       "31. 34\n",
       "32. 35\n",
       "33. 36\n",
       "34. 37\n",
       "35. 38\n",
       "36. 39\n",
       "37. 40\n",
       "38. 41\n",
       "39. 42\n",
       "40. 43\n",
       "41. 44\n",
       "42. 45\n",
       "43. 46\n",
       "44. 47\n",
       "45. 48\n",
       "46. 49\n",
       "47. 50\n",
       "48. 51\n",
       "49. 52\n",
       "50. 53\n",
       "51. 54\n",
       "52. 55\n",
       "53. 56\n",
       "54. 57\n",
       "55. 58\n",
       "56. 59\n",
       "57. 60\n",
       "58. 61\n",
       "59. 62\n",
       "60. 63\n",
       "61. 64\n",
       "62. 65\n",
       "63. 66\n",
       "64. 67\n",
       "65. 68\n",
       "66. 69\n",
       "67. 70\n",
       "68. 71\n",
       "69. 72\n",
       "70. 73\n",
       "71. 74\n",
       "72. 75\n",
       "73. 76\n",
       "74. 77\n",
       "75. 78\n",
       "76. 79\n",
       "77. 80\n",
       "78. 81\n",
       "79. 82\n",
       "80. 83\n",
       "81. 84\n",
       "82. 85\n",
       "83. 86\n",
       "84. 87\n",
       "85. 88\n",
       "86. 89\n",
       "87. 90\n",
       "88. 91\n",
       "89. 92\n",
       "90. 93\n",
       "91. 94\n",
       "92. 95\n",
       "93. 96\n",
       "94. 97\n",
       "95. 98\n",
       "96. 99\n",
       "97. 100\n",
       "\n",
       "\n"
      ],
      "text/plain": [
       " [1]   1   2   6   7   8   9  10  11  12  13  14  15  16  17  18  19  20  21  22\n",
       "[20]  23  24  25  26  27  28  29  30  31  32  33  34  35  36  37  38  39  40  41\n",
       "[39]  42  43  44  45  46  47  48  49  50  51  52  53  54  55  56  57  58  59  60\n",
       "[58]  61  62  63  64  65  66  67  68  69  70  71  72  73  74  75  76  77  78  79\n",
       "[77]  80  81  82  83  84  85  86  87  88  89  90  91  92  93  94  95  96  97  98\n",
       "[96]  99 100"
      ]
     },
     "metadata": {},
     "output_type": "display_data"
    }
   ],
   "source": [
    "d[-c(3:5)]"
   ]
  },
  {
   "cell_type": "code",
   "execution_count": 34,
   "id": "9072f8c4",
   "metadata": {},
   "outputs": [
    {
     "data": {
      "text/html": [
       "<style>\n",
       ".dl-inline {width: auto; margin:0; padding: 0}\n",
       ".dl-inline>dt, .dl-inline>dd {float: none; width: auto; display: inline-block}\n",
       ".dl-inline>dt::after {content: \":\\0020\"; padding-right: .5ex}\n",
       ".dl-inline>dt:not(:first-of-type) {padding-left: .5ex}\n",
       "</style><dl class=dl-inline><dt>Korea</dt><dd>2090</dd><dt>Japan</dt><dd>2450</dd><dt>Nepal</dt><dd>960</dd></dl>\n"
      ],
      "text/latex": [
       "\\begin{description*}\n",
       "\\item[Korea] 2090\n",
       "\\item[Japan] 2450\n",
       "\\item[Nepal] 960\n",
       "\\end{description*}\n"
      ],
      "text/markdown": [
       "Korea\n",
       ":   2090Japan\n",
       ":   2450Nepal\n",
       ":   960\n",
       "\n"
      ],
      "text/plain": [
       "Korea Japan Nepal \n",
       " 2090  2450   960 "
      ]
     },
     "metadata": {},
     "output_type": "display_data"
    }
   ],
   "source": [
    "GNP <- c(2090, 2450, 960)\n",
    "names(GNP) <- c('Korea', 'Japan', 'Nepal')\n",
    "GNP"
   ]
  },
  {
   "cell_type": "code",
   "execution_count": 35,
   "id": "2a16766d",
   "metadata": {},
   "outputs": [
    {
     "data": {
      "text/html": [
       "2090"
      ],
      "text/latex": [
       "2090"
      ],
      "text/markdown": [
       "2090"
      ],
      "text/plain": [
       "[1] 2090"
      ]
     },
     "metadata": {},
     "output_type": "display_data"
    }
   ],
   "source": [
    "GNP[[1]]"
   ]
  },
  {
   "cell_type": "code",
   "execution_count": 36,
   "id": "71c6d90a",
   "metadata": {},
   "outputs": [
    {
     "data": {
      "text/html": [
       "<strong>Korea:</strong> 2090"
      ],
      "text/latex": [
       "\\textbf{Korea:} 2090"
      ],
      "text/markdown": [
       "**Korea:** 2090"
      ],
      "text/plain": [
       "Korea \n",
       " 2090 "
      ]
     },
     "metadata": {},
     "output_type": "display_data"
    }
   ],
   "source": [
    "GNP['Korea']"
   ]
  },
  {
   "cell_type": "code",
   "execution_count": 37,
   "id": "f2661ea9",
   "metadata": {},
   "outputs": [
    {
     "data": {
      "text/html": [
       "<style>\n",
       ".dl-inline {width: auto; margin:0; padding: 0}\n",
       ".dl-inline>dt, .dl-inline>dd {float: none; width: auto; display: inline-block}\n",
       ".dl-inline>dt::after {content: \":\\0020\"; padding-right: .5ex}\n",
       ".dl-inline>dt:not(:first-of-type) {padding-left: .5ex}\n",
       "</style><dl class=dl-inline><dt>Korea</dt><dd>2090</dd><dt>Nepal</dt><dd>960</dd></dl>\n"
      ],
      "text/latex": [
       "\\begin{description*}\n",
       "\\item[Korea] 2090\n",
       "\\item[Nepal] 960\n",
       "\\end{description*}\n"
      ],
      "text/markdown": [
       "Korea\n",
       ":   2090Nepal\n",
       ":   960\n",
       "\n"
      ],
      "text/plain": [
       "Korea Nepal \n",
       " 2090   960 "
      ]
     },
     "metadata": {},
     "output_type": "display_data"
    }
   ],
   "source": [
    "GNP[c('Korea', 'Nepal')]"
   ]
  },
  {
   "cell_type": "code",
   "execution_count": 38,
   "id": "11ccbb0d",
   "metadata": {},
   "outputs": [
    {
     "data": {
      "text/html": [
       "<style>\n",
       ".list-inline {list-style: none; margin:0; padding: 0}\n",
       ".list-inline>li {display: inline-block}\n",
       ".list-inline>li:not(:last-child)::after {content: \"\\00b7\"; padding: 0 .5ex}\n",
       "</style>\n",
       "<ol class=list-inline><li>1</li><li>5</li><li>7</li><li>8</li><li>9</li></ol>\n"
      ],
      "text/latex": [
       "\\begin{enumerate*}\n",
       "\\item 1\n",
       "\\item 5\n",
       "\\item 7\n",
       "\\item 8\n",
       "\\item 9\n",
       "\\end{enumerate*}\n"
      ],
      "text/markdown": [
       "1. 1\n",
       "2. 5\n",
       "3. 7\n",
       "4. 8\n",
       "5. 9\n",
       "\n",
       "\n"
      ],
      "text/plain": [
       "[1] 1 5 7 8 9"
      ]
     },
     "metadata": {},
     "output_type": "display_data"
    }
   ],
   "source": [
    "v1 <- c(1, 5, 7, 8, 9)\n",
    "v1"
   ]
  },
  {
   "cell_type": "code",
   "execution_count": 39,
   "id": "a63cc271",
   "metadata": {},
   "outputs": [
    {
     "data": {
      "text/html": [
       "<style>\n",
       ".list-inline {list-style: none; margin:0; padding: 0}\n",
       ".list-inline>li {display: inline-block}\n",
       ".list-inline>li:not(:last-child)::after {content: \"\\00b7\"; padding: 0 .5ex}\n",
       "</style>\n",
       "<ol class=list-inline><li>1</li><li>3</li><li>7</li><li>8</li><li>9</li></ol>\n"
      ],
      "text/latex": [
       "\\begin{enumerate*}\n",
       "\\item 1\n",
       "\\item 3\n",
       "\\item 7\n",
       "\\item 8\n",
       "\\item 9\n",
       "\\end{enumerate*}\n"
      ],
      "text/markdown": [
       "1. 1\n",
       "2. 3\n",
       "3. 7\n",
       "4. 8\n",
       "5. 9\n",
       "\n",
       "\n"
      ],
      "text/plain": [
       "[1] 1 3 7 8 9"
      ]
     },
     "metadata": {},
     "output_type": "display_data"
    }
   ],
   "source": [
    "v1[2] <- 3\n",
    "v1"
   ]
  },
  {
   "cell_type": "code",
   "execution_count": 40,
   "id": "8e5155ad",
   "metadata": {},
   "outputs": [],
   "source": [
    "v1[c(1, 5)] <- c(10, 20)"
   ]
  },
  {
   "cell_type": "code",
   "execution_count": 41,
   "id": "451db3a2",
   "metadata": {},
   "outputs": [
    {
     "data": {
      "text/html": [
       "<style>\n",
       ".list-inline {list-style: none; margin:0; padding: 0}\n",
       ".list-inline>li {display: inline-block}\n",
       ".list-inline>li:not(:last-child)::after {content: \"\\00b7\"; padding: 0 .5ex}\n",
       "</style>\n",
       "<ol class=list-inline><li>10</li><li>3</li><li>7</li><li>8</li><li>20</li></ol>\n"
      ],
      "text/latex": [
       "\\begin{enumerate*}\n",
       "\\item 10\n",
       "\\item 3\n",
       "\\item 7\n",
       "\\item 8\n",
       "\\item 20\n",
       "\\end{enumerate*}\n"
      ],
      "text/markdown": [
       "1. 10\n",
       "2. 3\n",
       "3. 7\n",
       "4. 8\n",
       "5. 20\n",
       "\n",
       "\n"
      ],
      "text/plain": [
       "[1] 10  3  7  8 20"
      ]
     },
     "metadata": {},
     "output_type": "display_data"
    }
   ],
   "source": [
    "v1"
   ]
  },
  {
   "cell_type": "code",
   "execution_count": 42,
   "id": "5102e4be",
   "metadata": {},
   "outputs": [
    {
     "data": {
      "text/html": [
       "<style>\n",
       ".list-inline {list-style: none; margin:0; padding: 0}\n",
       ".list-inline>li {display: inline-block}\n",
       ".list-inline>li:not(:last-child)::after {content: \"\\00b7\"; padding: 0 .5ex}\n",
       "</style>\n",
       "<ol class=list-inline><li>2</li><li>8</li><li>6</li><li>14</li><li>16</li></ol>\n"
      ],
      "text/latex": [
       "\\begin{enumerate*}\n",
       "\\item 2\n",
       "\\item 8\n",
       "\\item 6\n",
       "\\item 14\n",
       "\\item 16\n",
       "\\end{enumerate*}\n"
      ],
      "text/markdown": [
       "1. 2\n",
       "2. 8\n",
       "3. 6\n",
       "4. 14\n",
       "5. 16\n",
       "\n",
       "\n"
      ],
      "text/plain": [
       "[1]  2  8  6 14 16"
      ]
     },
     "metadata": {},
     "output_type": "display_data"
    }
   ],
   "source": [
    "d <- c(1, 4, 3, 7, 8)\n",
    "2 * d"
   ]
  },
  {
   "cell_type": "code",
   "execution_count": 43,
   "id": "6b850b6c",
   "metadata": {},
   "outputs": [
    {
     "data": {
      "text/html": [
       "<style>\n",
       ".list-inline {list-style: none; margin:0; padding: 0}\n",
       ".list-inline>li {display: inline-block}\n",
       ".list-inline>li:not(:last-child)::after {content: \"\\00b7\"; padding: 0 .5ex}\n",
       "</style>\n",
       "<ol class=list-inline><li>-4</li><li>-1</li><li>-2</li><li>2</li><li>3</li></ol>\n"
      ],
      "text/latex": [
       "\\begin{enumerate*}\n",
       "\\item -4\n",
       "\\item -1\n",
       "\\item -2\n",
       "\\item 2\n",
       "\\item 3\n",
       "\\end{enumerate*}\n"
      ],
      "text/markdown": [
       "1. -4\n",
       "2. -1\n",
       "3. -2\n",
       "4. 2\n",
       "5. 3\n",
       "\n",
       "\n"
      ],
      "text/plain": [
       "[1] -4 -1 -2  2  3"
      ]
     },
     "metadata": {},
     "output_type": "display_data"
    }
   ],
   "source": [
    "d - 5"
   ]
  },
  {
   "cell_type": "code",
   "execution_count": 44,
   "id": "c43183db",
   "metadata": {},
   "outputs": [
    {
     "data": {
      "text/html": [
       "<style>\n",
       ".list-inline {list-style: none; margin:0; padding: 0}\n",
       ".list-inline>li {display: inline-block}\n",
       ".list-inline>li:not(:last-child)::after {content: \"\\00b7\"; padding: 0 .5ex}\n",
       "</style>\n",
       "<ol class=list-inline><li>7</li><li>16</li><li>13</li><li>25</li><li>28</li></ol>\n"
      ],
      "text/latex": [
       "\\begin{enumerate*}\n",
       "\\item 7\n",
       "\\item 16\n",
       "\\item 13\n",
       "\\item 25\n",
       "\\item 28\n",
       "\\end{enumerate*}\n"
      ],
      "text/markdown": [
       "1. 7\n",
       "2. 16\n",
       "3. 13\n",
       "4. 25\n",
       "5. 28\n",
       "\n",
       "\n"
      ],
      "text/plain": [
       "[1]  7 16 13 25 28"
      ]
     },
     "metadata": {},
     "output_type": "display_data"
    }
   ],
   "source": [
    "3 * d + 4"
   ]
  },
  {
   "cell_type": "code",
   "execution_count": 45,
   "id": "8f67eaad",
   "metadata": {},
   "outputs": [
    {
     "data": {
      "text/html": [
       "<style>\n",
       ".list-inline {list-style: none; margin:0; padding: 0}\n",
       ".list-inline>li {display: inline-block}\n",
       ".list-inline>li:not(:last-child)::after {content: \"\\00b7\"; padding: 0 .5ex}\n",
       "</style>\n",
       "<ol class=list-inline><li>5</li><li>7</li><li>9</li></ol>\n"
      ],
      "text/latex": [
       "\\begin{enumerate*}\n",
       "\\item 5\n",
       "\\item 7\n",
       "\\item 9\n",
       "\\end{enumerate*}\n"
      ],
      "text/markdown": [
       "1. 5\n",
       "2. 7\n",
       "3. 9\n",
       "\n",
       "\n"
      ],
      "text/plain": [
       "[1] 5 7 9"
      ]
     },
     "metadata": {},
     "output_type": "display_data"
    }
   ],
   "source": [
    "x <- c(1, 2, 3)\n",
    "y <- c(4, 5, 6)\n",
    "x + y"
   ]
  },
  {
   "cell_type": "code",
   "execution_count": 46,
   "id": "d0274ee3",
   "metadata": {},
   "outputs": [
    {
     "data": {
      "text/html": [
       "<style>\n",
       ".list-inline {list-style: none; margin:0; padding: 0}\n",
       ".list-inline>li {display: inline-block}\n",
       ".list-inline>li:not(:last-child)::after {content: \"\\00b7\"; padding: 0 .5ex}\n",
       "</style>\n",
       "<ol class=list-inline><li>4</li><li>10</li><li>18</li></ol>\n"
      ],
      "text/latex": [
       "\\begin{enumerate*}\n",
       "\\item 4\n",
       "\\item 10\n",
       "\\item 18\n",
       "\\end{enumerate*}\n"
      ],
      "text/markdown": [
       "1. 4\n",
       "2. 10\n",
       "3. 18\n",
       "\n",
       "\n"
      ],
      "text/plain": [
       "[1]  4 10 18"
      ]
     },
     "metadata": {},
     "output_type": "display_data"
    }
   ],
   "source": [
    "x * y"
   ]
  },
  {
   "cell_type": "code",
   "execution_count": 47,
   "id": "b82d63eb",
   "metadata": {},
   "outputs": [],
   "source": [
    "z <- x+ y"
   ]
  },
  {
   "cell_type": "code",
   "execution_count": 48,
   "id": "22066632",
   "metadata": {},
   "outputs": [
    {
     "data": {
      "text/html": [
       "<style>\n",
       ".list-inline {list-style: none; margin:0; padding: 0}\n",
       ".list-inline>li {display: inline-block}\n",
       ".list-inline>li:not(:last-child)::after {content: \"\\00b7\"; padding: 0 .5ex}\n",
       "</style>\n",
       "<ol class=list-inline><li>5</li><li>7</li><li>9</li></ol>\n"
      ],
      "text/latex": [
       "\\begin{enumerate*}\n",
       "\\item 5\n",
       "\\item 7\n",
       "\\item 9\n",
       "\\end{enumerate*}\n"
      ],
      "text/markdown": [
       "1. 5\n",
       "2. 7\n",
       "3. 9\n",
       "\n",
       "\n"
      ],
      "text/plain": [
       "[1] 5 7 9"
      ]
     },
     "metadata": {},
     "output_type": "display_data"
    }
   ],
   "source": [
    "z"
   ]
  },
  {
   "cell_type": "code",
   "execution_count": 49,
   "id": "33ef18e8",
   "metadata": {},
   "outputs": [],
   "source": [
    "d <- c(1:10)"
   ]
  },
  {
   "cell_type": "code",
   "execution_count": 50,
   "id": "632a151a",
   "metadata": {},
   "outputs": [
    {
     "data": {
      "text/html": [
       "<style>\n",
       ".list-inline {list-style: none; margin:0; padding: 0}\n",
       ".list-inline>li {display: inline-block}\n",
       ".list-inline>li:not(:last-child)::after {content: \"\\00b7\"; padding: 0 .5ex}\n",
       "</style>\n",
       "<ol class=list-inline><li>1</li><li>2</li><li>3</li><li>4</li><li>5</li><li>6</li><li>7</li><li>8</li><li>9</li><li>10</li></ol>\n"
      ],
      "text/latex": [
       "\\begin{enumerate*}\n",
       "\\item 1\n",
       "\\item 2\n",
       "\\item 3\n",
       "\\item 4\n",
       "\\item 5\n",
       "\\item 6\n",
       "\\item 7\n",
       "\\item 8\n",
       "\\item 9\n",
       "\\item 10\n",
       "\\end{enumerate*}\n"
      ],
      "text/markdown": [
       "1. 1\n",
       "2. 2\n",
       "3. 3\n",
       "4. 4\n",
       "5. 5\n",
       "6. 6\n",
       "7. 7\n",
       "8. 8\n",
       "9. 9\n",
       "10. 10\n",
       "\n",
       "\n"
      ],
      "text/plain": [
       " [1]  1  2  3  4  5  6  7  8  9 10"
      ]
     },
     "metadata": {},
     "output_type": "display_data"
    }
   ],
   "source": [
    "d"
   ]
  },
  {
   "cell_type": "code",
   "execution_count": 51,
   "id": "8cc2d9af",
   "metadata": {},
   "outputs": [
    {
     "data": {
      "text/html": [
       "55"
      ],
      "text/latex": [
       "55"
      ],
      "text/markdown": [
       "55"
      ],
      "text/plain": [
       "[1] 55"
      ]
     },
     "metadata": {},
     "output_type": "display_data"
    }
   ],
   "source": [
    "sum(d\n",
    "   )"
   ]
  },
  {
   "cell_type": "code",
   "execution_count": 52,
   "id": "e567b3cb",
   "metadata": {},
   "outputs": [
    {
     "data": {
      "text/html": [
       "110"
      ],
      "text/latex": [
       "110"
      ],
      "text/markdown": [
       "110"
      ],
      "text/plain": [
       "[1] 110"
      ]
     },
     "metadata": {},
     "output_type": "display_data"
    }
   ],
   "source": [
    "sum(2 * d)"
   ]
  },
  {
   "cell_type": "code",
   "execution_count": 53,
   "id": "2b9e7870",
   "metadata": {},
   "outputs": [
    {
     "data": {
      "text/html": [
       "10"
      ],
      "text/latex": [
       "10"
      ],
      "text/markdown": [
       "10"
      ],
      "text/plain": [
       "[1] 10"
      ]
     },
     "metadata": {},
     "output_type": "display_data"
    }
   ],
   "source": [
    "length(d)"
   ]
  },
  {
   "cell_type": "code",
   "execution_count": 54,
   "id": "9d668d1a",
   "metadata": {},
   "outputs": [
    {
     "data": {
      "text/html": [
       "3"
      ],
      "text/latex": [
       "3"
      ],
      "text/markdown": [
       "3"
      ],
      "text/plain": [
       "[1] 3"
      ]
     },
     "metadata": {},
     "output_type": "display_data"
    }
   ],
   "source": [
    "mean(d[1:5])"
   ]
  },
  {
   "cell_type": "code",
   "execution_count": 55,
   "id": "04818fe4",
   "metadata": {},
   "outputs": [
    {
     "data": {
      "text/html": [
       "10"
      ],
      "text/latex": [
       "10"
      ],
      "text/markdown": [
       "10"
      ],
      "text/plain": [
       "[1] 10"
      ]
     },
     "metadata": {},
     "output_type": "display_data"
    }
   ],
   "source": [
    "max(d)"
   ]
  },
  {
   "cell_type": "code",
   "execution_count": 56,
   "id": "f9bdf6bd",
   "metadata": {},
   "outputs": [
    {
     "data": {
      "text/html": [
       "1"
      ],
      "text/latex": [
       "1"
      ],
      "text/markdown": [
       "1"
      ],
      "text/plain": [
       "[1] 1"
      ]
     },
     "metadata": {},
     "output_type": "display_data"
    }
   ],
   "source": [
    "min(d)"
   ]
  },
  {
   "cell_type": "code",
   "execution_count": 57,
   "id": "03ae6c92",
   "metadata": {},
   "outputs": [
    {
     "data": {
      "text/html": [
       "9.16666666666667"
      ],
      "text/latex": [
       "9.16666666666667"
      ],
      "text/markdown": [
       "9.16666666666667"
      ],
      "text/plain": [
       "[1] 9.166667"
      ]
     },
     "metadata": {},
     "output_type": "display_data"
    }
   ],
   "source": [
    "var(d)"
   ]
  },
  {
   "cell_type": "code",
   "execution_count": 58,
   "id": "03c66a69",
   "metadata": {},
   "outputs": [
    {
     "data": {
      "text/html": [
       "<style>\n",
       ".list-inline {list-style: none; margin:0; padding: 0}\n",
       ".list-inline>li {display: inline-block}\n",
       ".list-inline>li:not(:last-child)::after {content: \"\\00b7\"; padding: 0 .5ex}\n",
       "</style>\n",
       "<ol class=list-inline><li>10</li><li>9</li><li>8</li><li>7</li><li>6</li><li>5</li><li>4</li><li>3</li><li>2</li><li>1</li></ol>\n"
      ],
      "text/latex": [
       "\\begin{enumerate*}\n",
       "\\item 10\n",
       "\\item 9\n",
       "\\item 8\n",
       "\\item 7\n",
       "\\item 6\n",
       "\\item 5\n",
       "\\item 4\n",
       "\\item 3\n",
       "\\item 2\n",
       "\\item 1\n",
       "\\end{enumerate*}\n"
      ],
      "text/markdown": [
       "1. 10\n",
       "2. 9\n",
       "3. 8\n",
       "4. 7\n",
       "5. 6\n",
       "6. 5\n",
       "7. 4\n",
       "8. 3\n",
       "9. 2\n",
       "10. 1\n",
       "\n",
       "\n"
      ],
      "text/plain": [
       " [1] 10  9  8  7  6  5  4  3  2  1"
      ]
     },
     "metadata": {},
     "output_type": "display_data"
    }
   ],
   "source": [
    "sort(d, T)"
   ]
  },
  {
   "cell_type": "code",
   "execution_count": 59,
   "id": "00330235",
   "metadata": {},
   "outputs": [
    {
     "data": {
      "text/html": [
       "<style>\n",
       ".list-inline {list-style: none; margin:0; padding: 0}\n",
       ".list-inline>li {display: inline-block}\n",
       ".list-inline>li:not(:last-child)::after {content: \"\\00b7\"; padding: 0 .5ex}\n",
       "</style>\n",
       "<ol class=list-inline><li>1</li><li>2</li><li>3</li><li>4</li><li>5</li><li>6</li><li>7</li><li>8</li><li>9</li><li>10</li></ol>\n"
      ],
      "text/latex": [
       "\\begin{enumerate*}\n",
       "\\item 1\n",
       "\\item 2\n",
       "\\item 3\n",
       "\\item 4\n",
       "\\item 5\n",
       "\\item 6\n",
       "\\item 7\n",
       "\\item 8\n",
       "\\item 9\n",
       "\\item 10\n",
       "\\end{enumerate*}\n"
      ],
      "text/markdown": [
       "1. 1\n",
       "2. 2\n",
       "3. 3\n",
       "4. 4\n",
       "5. 5\n",
       "6. 6\n",
       "7. 7\n",
       "8. 8\n",
       "9. 9\n",
       "10. 10\n",
       "\n",
       "\n"
      ],
      "text/plain": [
       " [1]  1  2  3  4  5  6  7  8  9 10"
      ]
     },
     "metadata": {},
     "output_type": "display_data"
    }
   ],
   "source": [
    "sort(d)"
   ]
  },
  {
   "cell_type": "code",
   "execution_count": 60,
   "id": "f2cb487a",
   "metadata": {},
   "outputs": [
    {
     "data": {
      "text/html": [
       "5.5"
      ],
      "text/latex": [
       "5.5"
      ],
      "text/markdown": [
       "5.5"
      ],
      "text/plain": [
       "[1] 5.5"
      ]
     },
     "metadata": {},
     "output_type": "display_data"
    }
   ],
   "source": [
    "median(d)"
   ]
  },
  {
   "cell_type": "code",
   "execution_count": 61,
   "id": "306dab99",
   "metadata": {},
   "outputs": [
    {
     "data": {
      "text/html": [
       "5.5"
      ],
      "text/latex": [
       "5.5"
      ],
      "text/markdown": [
       "5.5"
      ],
      "text/plain": [
       "[1] 5.5"
      ]
     },
     "metadata": {},
     "output_type": "display_data"
    }
   ],
   "source": [
    "sum(d) / length(d)"
   ]
  },
  {
   "cell_type": "code",
   "execution_count": 62,
   "id": "c3f1b159",
   "metadata": {},
   "outputs": [
    {
     "data": {
      "text/html": [
       "5.5"
      ],
      "text/latex": [
       "5.5"
      ],
      "text/markdown": [
       "5.5"
      ],
      "text/plain": [
       "[1] 5.5"
      ]
     },
     "metadata": {},
     "output_type": "display_data"
    }
   ],
   "source": [
    "mean(d)"
   ]
  },
  {
   "cell_type": "code",
   "execution_count": 63,
   "id": "5e135fb1",
   "metadata": {},
   "outputs": [],
   "source": [
    "d <- c(1:9)"
   ]
  },
  {
   "cell_type": "code",
   "execution_count": 64,
   "id": "2ef777b5",
   "metadata": {},
   "outputs": [
    {
     "data": {
      "text/html": [
       "<style>\n",
       ".list-inline {list-style: none; margin:0; padding: 0}\n",
       ".list-inline>li {display: inline-block}\n",
       ".list-inline>li:not(:last-child)::after {content: \"\\00b7\"; padding: 0 .5ex}\n",
       "</style>\n",
       "<ol class=list-inline><li>1</li><li>2</li><li>3</li><li>4</li><li>5</li><li>6</li><li>7</li><li>8</li><li>9</li></ol>\n"
      ],
      "text/latex": [
       "\\begin{enumerate*}\n",
       "\\item 1\n",
       "\\item 2\n",
       "\\item 3\n",
       "\\item 4\n",
       "\\item 5\n",
       "\\item 6\n",
       "\\item 7\n",
       "\\item 8\n",
       "\\item 9\n",
       "\\end{enumerate*}\n"
      ],
      "text/markdown": [
       "1. 1\n",
       "2. 2\n",
       "3. 3\n",
       "4. 4\n",
       "5. 5\n",
       "6. 6\n",
       "7. 7\n",
       "8. 8\n",
       "9. 9\n",
       "\n",
       "\n"
      ],
      "text/plain": [
       "[1] 1 2 3 4 5 6 7 8 9"
      ]
     },
     "metadata": {},
     "output_type": "display_data"
    }
   ],
   "source": [
    "d"
   ]
  },
  {
   "cell_type": "code",
   "execution_count": 65,
   "id": "ed47152b",
   "metadata": {},
   "outputs": [
    {
     "data": {
      "text/html": [
       "<style>\n",
       ".list-inline {list-style: none; margin:0; padding: 0}\n",
       ".list-inline>li {display: inline-block}\n",
       ".list-inline>li:not(:last-child)::after {content: \"\\00b7\"; padding: 0 .5ex}\n",
       "</style>\n",
       "<ol class=list-inline><li>6</li><li>7</li><li>8</li><li>9</li></ol>\n"
      ],
      "text/latex": [
       "\\begin{enumerate*}\n",
       "\\item 6\n",
       "\\item 7\n",
       "\\item 8\n",
       "\\item 9\n",
       "\\end{enumerate*}\n"
      ],
      "text/markdown": [
       "1. 6\n",
       "2. 7\n",
       "3. 8\n",
       "4. 9\n",
       "\n",
       "\n"
      ],
      "text/plain": [
       "[1] 6 7 8 9"
      ]
     },
     "metadata": {},
     "output_type": "display_data"
    }
   ],
   "source": [
    "d[d > 5]"
   ]
  },
  {
   "cell_type": "code",
   "execution_count": 66,
   "id": "0a369649",
   "metadata": {},
   "outputs": [
    {
     "data": {
      "text/html": [
       "4"
      ],
      "text/latex": [
       "4"
      ],
      "text/markdown": [
       "4"
      ],
      "text/plain": [
       "[1] 4"
      ]
     },
     "metadata": {},
     "output_type": "display_data"
    }
   ],
   "source": [
    "length(d[d > 5])"
   ]
  },
  {
   "cell_type": "code",
   "execution_count": 67,
   "id": "2b7ee7bc",
   "metadata": {},
   "outputs": [
    {
     "data": {
      "text/html": [
       "30"
      ],
      "text/latex": [
       "30"
      ],
      "text/markdown": [
       "30"
      ],
      "text/plain": [
       "[1] 30"
      ]
     },
     "metadata": {},
     "output_type": "display_data"
    }
   ],
   "source": [
    "sum(d[d > 5])"
   ]
  },
  {
   "cell_type": "code",
   "execution_count": 69,
   "id": "af36eafd",
   "metadata": {},
   "outputs": [],
   "source": [
    "ds <- c(90, 85, 70, 84)\n",
    "my.info <- list(name=\"Layla\", Occupation=\"Student\", age=20, now_include=\"Teyvat & Reals.Daejin University\")"
   ]
  },
  {
   "cell_type": "code",
   "execution_count": 70,
   "id": "b741ce2d",
   "metadata": {},
   "outputs": [
    {
     "data": {
      "text/html": [
       "<dl>\n",
       "\t<dt>$name</dt>\n",
       "\t\t<dd>'Layla'</dd>\n",
       "\t<dt>$Occupation</dt>\n",
       "\t\t<dd>'Student'</dd>\n",
       "\t<dt>$age</dt>\n",
       "\t\t<dd>20</dd>\n",
       "\t<dt>$now_include</dt>\n",
       "\t\t<dd>'Teyvat &amp; Reals.Daejin University'</dd>\n",
       "</dl>\n"
      ],
      "text/latex": [
       "\\begin{description}\n",
       "\\item[\\$name] 'Layla'\n",
       "\\item[\\$Occupation] 'Student'\n",
       "\\item[\\$age] 20\n",
       "\\item[\\$now\\_include] 'Teyvat \\& Reals.Daejin University'\n",
       "\\end{description}\n"
      ],
      "text/markdown": [
       "$name\n",
       ":   'Layla'\n",
       "$Occupation\n",
       ":   'Student'\n",
       "$age\n",
       ":   20\n",
       "$now_include\n",
       ":   'Teyvat &amp; Reals.Daejin University'\n",
       "\n",
       "\n"
      ],
      "text/plain": [
       "$name\n",
       "[1] \"Layla\"\n",
       "\n",
       "$Occupation\n",
       "[1] \"Student\"\n",
       "\n",
       "$age\n",
       "[1] 20\n",
       "\n",
       "$now_include\n",
       "[1] \"Teyvat & Reals.Daejin University\"\n"
      ]
     },
     "metadata": {},
     "output_type": "display_data"
    }
   ],
   "source": [
    "my.info"
   ]
  },
  {
   "cell_type": "code",
   "execution_count": 71,
   "id": "c8d9549d",
   "metadata": {},
   "outputs": [
    {
     "data": {
      "text/html": [
       "'Layla'"
      ],
      "text/latex": [
       "'Layla'"
      ],
      "text/markdown": [
       "'Layla'"
      ],
      "text/plain": [
       "[1] \"Layla\""
      ]
     },
     "metadata": {},
     "output_type": "display_data"
    }
   ],
   "source": [
    "my.info$name"
   ]
  },
  {
   "cell_type": "code",
   "execution_count": 72,
   "id": "d5f92384",
   "metadata": {},
   "outputs": [
    {
     "data": {
      "text/html": [
       "<style>\n",
       ".list-inline {list-style: none; margin:0; padding: 0}\n",
       ".list-inline>li {display: inline-block}\n",
       ".list-inline>li:not(:last-child)::after {content: \"\\00b7\"; padding: 0 .5ex}\n",
       "</style>\n",
       "<ol class=list-inline><li>A</li><li>B</li><li>B</li><li>O</li><li>AB</li><li>A</li></ol>\n",
       "\n",
       "<details>\n",
       "\t<summary style=display:list-item;cursor:pointer>\n",
       "\t\t<strong>Levels</strong>:\n",
       "\t</summary>\n",
       "\t<style>\n",
       "\t.list-inline {list-style: none; margin:0; padding: 0}\n",
       "\t.list-inline>li {display: inline-block}\n",
       "\t.list-inline>li:not(:last-child)::after {content: \"\\00b7\"; padding: 0 .5ex}\n",
       "\t</style>\n",
       "\t<ol class=list-inline><li>'A'</li><li>'AB'</li><li>'B'</li><li>'O'</li></ol>\n",
       "</details>"
      ],
      "text/latex": [
       "\\begin{enumerate*}\n",
       "\\item A\n",
       "\\item B\n",
       "\\item B\n",
       "\\item O\n",
       "\\item AB\n",
       "\\item A\n",
       "\\end{enumerate*}\n",
       "\n",
       "\\emph{Levels}: \\begin{enumerate*}\n",
       "\\item 'A'\n",
       "\\item 'AB'\n",
       "\\item 'B'\n",
       "\\item 'O'\n",
       "\\end{enumerate*}\n"
      ],
      "text/markdown": [
       "1. A\n",
       "2. B\n",
       "3. B\n",
       "4. O\n",
       "5. AB\n",
       "6. A\n",
       "\n",
       "\n",
       "\n",
       "**Levels**: 1. 'A'\n",
       "2. 'AB'\n",
       "3. 'B'\n",
       "4. 'O'\n",
       "\n",
       "\n"
      ],
      "text/plain": [
       "[1] A  B  B  O  AB A \n",
       "Levels: A AB B O"
      ]
     },
     "metadata": {},
     "output_type": "display_data"
    }
   ],
   "source": [
    "bt <- c('A', 'B', 'B', 'O', 'AB', 'A')\n",
    "bt.new <- factor(bt)\n",
    "bt.new"
   ]
  },
  {
   "cell_type": "code",
   "execution_count": 73,
   "id": "728e0204",
   "metadata": {},
   "outputs": [
    {
     "data": {
      "text/html": [
       "AB\n",
       "<details>\n",
       "\t<summary style=display:list-item;cursor:pointer>\n",
       "\t\t<strong>Levels</strong>:\n",
       "\t</summary>\n",
       "\t<style>\n",
       "\t.list-inline {list-style: none; margin:0; padding: 0}\n",
       "\t.list-inline>li {display: inline-block}\n",
       "\t.list-inline>li:not(:last-child)::after {content: \"\\00b7\"; padding: 0 .5ex}\n",
       "\t</style>\n",
       "\t<ol class=list-inline><li>'A'</li><li>'AB'</li><li>'B'</li><li>'O'</li></ol>\n",
       "</details>"
      ],
      "text/latex": [
       "AB\n",
       "\\emph{Levels}: \\begin{enumerate*}\n",
       "\\item 'A'\n",
       "\\item 'AB'\n",
       "\\item 'B'\n",
       "\\item 'O'\n",
       "\\end{enumerate*}\n"
      ],
      "text/markdown": [
       "AB\n",
       "**Levels**: 1. 'A'\n",
       "2. 'AB'\n",
       "3. 'B'\n",
       "4. 'O'\n",
       "\n",
       "\n"
      ],
      "text/plain": [
       "[1] AB\n",
       "Levels: A AB B O"
      ]
     },
     "metadata": {},
     "output_type": "display_data"
    }
   ],
   "source": [
    "bt.new[[5]]"
   ]
  },
  {
   "cell_type": "code",
   "execution_count": 74,
   "id": "cbe203b1",
   "metadata": {},
   "outputs": [
    {
     "data": {
      "text/html": [
       "AB\n",
       "<details>\n",
       "\t<summary style=display:list-item;cursor:pointer>\n",
       "\t\t<strong>Levels</strong>:\n",
       "\t</summary>\n",
       "\t<style>\n",
       "\t.list-inline {list-style: none; margin:0; padding: 0}\n",
       "\t.list-inline>li {display: inline-block}\n",
       "\t.list-inline>li:not(:last-child)::after {content: \"\\00b7\"; padding: 0 .5ex}\n",
       "\t</style>\n",
       "\t<ol class=list-inline><li>'A'</li><li>'AB'</li><li>'B'</li><li>'O'</li></ol>\n",
       "</details>"
      ],
      "text/latex": [
       "AB\n",
       "\\emph{Levels}: \\begin{enumerate*}\n",
       "\\item 'A'\n",
       "\\item 'AB'\n",
       "\\item 'B'\n",
       "\\item 'O'\n",
       "\\end{enumerate*}\n"
      ],
      "text/markdown": [
       "AB\n",
       "**Levels**: 1. 'A'\n",
       "2. 'AB'\n",
       "3. 'B'\n",
       "4. 'O'\n",
       "\n",
       "\n"
      ],
      "text/plain": [
       "[1] AB\n",
       "Levels: A AB B O"
      ]
     },
     "metadata": {},
     "output_type": "display_data"
    }
   ],
   "source": [
    "bt.new[5]"
   ]
  },
  {
   "cell_type": "code",
   "execution_count": 75,
   "id": "3bd108ae",
   "metadata": {},
   "outputs": [
    {
     "data": {
      "text/html": [
       "'factor'"
      ],
      "text/latex": [
       "'factor'"
      ],
      "text/markdown": [
       "'factor'"
      ],
      "text/plain": [
       "[1] \"factor\""
      ]
     },
     "metadata": {},
     "output_type": "display_data"
    }
   ],
   "source": [
    "class(bt.new[1])"
   ]
  },
  {
   "cell_type": "code",
   "execution_count": 76,
   "id": "504aba46",
   "metadata": {},
   "outputs": [
    {
     "data": {
      "text/html": [
       "<style>\n",
       ".list-inline {list-style: none; margin:0; padding: 0}\n",
       ".list-inline>li {display: inline-block}\n",
       ".list-inline>li:not(:last-child)::after {content: \"\\00b7\"; padding: 0 .5ex}\n",
       "</style>\n",
       "<ol class=list-inline><li>'A'</li><li>'AB'</li><li>'B'</li><li>'O'</li></ol>\n"
      ],
      "text/latex": [
       "\\begin{enumerate*}\n",
       "\\item 'A'\n",
       "\\item 'AB'\n",
       "\\item 'B'\n",
       "\\item 'O'\n",
       "\\end{enumerate*}\n"
      ],
      "text/markdown": [
       "1. 'A'\n",
       "2. 'AB'\n",
       "3. 'B'\n",
       "4. 'O'\n",
       "\n",
       "\n"
      ],
      "text/plain": [
       "[1] \"A\"  \"AB\" \"B\"  \"O\" "
      ]
     },
     "metadata": {},
     "output_type": "display_data"
    }
   ],
   "source": [
    "levels(bt.new[[1]])"
   ]
  },
  {
   "cell_type": "code",
   "execution_count": 77,
   "id": "76e8b419",
   "metadata": {},
   "outputs": [
    {
     "data": {
      "text/html": [
       "<style>\n",
       ".list-inline {list-style: none; margin:0; padding: 0}\n",
       ".list-inline>li {display: inline-block}\n",
       ".list-inline>li:not(:last-child)::after {content: \"\\00b7\"; padding: 0 .5ex}\n",
       "</style>\n",
       "<ol class=list-inline><li>A</li><li>B</li><li>O</li><li>AB</li></ol>\n",
       "\n",
       "<details>\n",
       "\t<summary style=display:list-item;cursor:pointer>\n",
       "\t\t<strong>Levels</strong>:\n",
       "\t</summary>\n",
       "\t<style>\n",
       "\t.list-inline {list-style: none; margin:0; padding: 0}\n",
       "\t.list-inline>li {display: inline-block}\n",
       "\t.list-inline>li:not(:last-child)::after {content: \"\\00b7\"; padding: 0 .5ex}\n",
       "\t</style>\n",
       "\t<ol class=list-inline><li>'A'</li><li>'AB'</li><li>'B'</li><li>'O'</li></ol>\n",
       "</details>"
      ],
      "text/latex": [
       "\\begin{enumerate*}\n",
       "\\item A\n",
       "\\item B\n",
       "\\item O\n",
       "\\item AB\n",
       "\\end{enumerate*}\n",
       "\n",
       "\\emph{Levels}: \\begin{enumerate*}\n",
       "\\item 'A'\n",
       "\\item 'AB'\n",
       "\\item 'B'\n",
       "\\item 'O'\n",
       "\\end{enumerate*}\n"
      ],
      "text/markdown": [
       "1. A\n",
       "2. B\n",
       "3. O\n",
       "4. AB\n",
       "\n",
       "\n",
       "\n",
       "**Levels**: 1. 'A'\n",
       "2. 'AB'\n",
       "3. 'B'\n",
       "4. 'O'\n",
       "\n",
       "\n"
      ],
      "text/plain": [
       "[1] A  B  O  AB\n",
       "Levels: A AB B O"
      ]
     },
     "metadata": {},
     "output_type": "display_data"
    }
   ],
   "source": [
    "unique(bt.new)"
   ]
  },
  {
   "cell_type": "code",
   "execution_count": 78,
   "id": "e1b5582a",
   "metadata": {},
   "outputs": [
    {
     "data": {
      "text/plain": [
       "bt.new\n",
       " A AB  B  O \n",
       " 2  1  2  1 "
      ]
     },
     "metadata": {},
     "output_type": "display_data"
    }
   ],
   "source": [
    "table(bt.new)"
   ]
  },
  {
   "cell_type": "code",
   "execution_count": 79,
   "id": "fe9c4852",
   "metadata": {},
   "outputs": [
    {
     "data": {
      "text/html": [
       "2"
      ],
      "text/latex": [
       "2"
      ],
      "text/markdown": [
       "2"
      ],
      "text/plain": [
       "[1] 2"
      ]
     },
     "metadata": {},
     "output_type": "display_data"
    }
   ],
   "source": [
    "as.integer(bt.new[[5]])"
   ]
  },
  {
   "cell_type": "code",
   "execution_count": 80,
   "id": "a1b3db44",
   "metadata": {},
   "outputs": [],
   "source": [
    "bt.new[7] <- 'B'"
   ]
  },
  {
   "cell_type": "code",
   "execution_count": 81,
   "id": "e085b4be",
   "metadata": {},
   "outputs": [
    {
     "data": {
      "text/html": [
       "<style>\n",
       ".list-inline {list-style: none; margin:0; padding: 0}\n",
       ".list-inline>li {display: inline-block}\n",
       ".list-inline>li:not(:last-child)::after {content: \"\\00b7\"; padding: 0 .5ex}\n",
       "</style>\n",
       "<ol class=list-inline><li>A</li><li>B</li><li>B</li><li>O</li><li>AB</li><li>A</li><li>B</li></ol>\n",
       "\n",
       "<details>\n",
       "\t<summary style=display:list-item;cursor:pointer>\n",
       "\t\t<strong>Levels</strong>:\n",
       "\t</summary>\n",
       "\t<style>\n",
       "\t.list-inline {list-style: none; margin:0; padding: 0}\n",
       "\t.list-inline>li {display: inline-block}\n",
       "\t.list-inline>li:not(:last-child)::after {content: \"\\00b7\"; padding: 0 .5ex}\n",
       "\t</style>\n",
       "\t<ol class=list-inline><li>'A'</li><li>'AB'</li><li>'B'</li><li>'O'</li></ol>\n",
       "</details>"
      ],
      "text/latex": [
       "\\begin{enumerate*}\n",
       "\\item A\n",
       "\\item B\n",
       "\\item B\n",
       "\\item O\n",
       "\\item AB\n",
       "\\item A\n",
       "\\item B\n",
       "\\end{enumerate*}\n",
       "\n",
       "\\emph{Levels}: \\begin{enumerate*}\n",
       "\\item 'A'\n",
       "\\item 'AB'\n",
       "\\item 'B'\n",
       "\\item 'O'\n",
       "\\end{enumerate*}\n"
      ],
      "text/markdown": [
       "1. A\n",
       "2. B\n",
       "3. B\n",
       "4. O\n",
       "5. AB\n",
       "6. A\n",
       "7. B\n",
       "\n",
       "\n",
       "\n",
       "**Levels**: 1. 'A'\n",
       "2. 'AB'\n",
       "3. 'B'\n",
       "4. 'O'\n",
       "\n",
       "\n"
      ],
      "text/plain": [
       "[1] A  B  B  O  AB A  B \n",
       "Levels: A AB B O"
      ]
     },
     "metadata": {},
     "output_type": "display_data"
    }
   ],
   "source": [
    "bt.new"
   ]
  },
  {
   "cell_type": "code",
   "execution_count": 82,
   "id": "b23a935d",
   "metadata": {},
   "outputs": [
    {
     "name": "stderr",
     "output_type": "stream",
     "text": [
      "Warning message in `[<-.factor`(`*tmp*`, 8, value = \"C\"):\n",
      "\"invalid factor level, NA generated\"\n"
     ]
    }
   ],
   "source": [
    "bt.new[8] <- 'C'"
   ]
  },
  {
   "cell_type": "code",
   "execution_count": 83,
   "id": "5e98aead",
   "metadata": {},
   "outputs": [
    {
     "data": {
      "text/html": [
       "&lt;NA&gt;\n",
       "<details>\n",
       "\t<summary style=display:list-item;cursor:pointer>\n",
       "\t\t<strong>Levels</strong>:\n",
       "\t</summary>\n",
       "\t<style>\n",
       "\t.list-inline {list-style: none; margin:0; padding: 0}\n",
       "\t.list-inline>li {display: inline-block}\n",
       "\t.list-inline>li:not(:last-child)::after {content: \"\\00b7\"; padding: 0 .5ex}\n",
       "\t</style>\n",
       "\t<ol class=list-inline><li>'A'</li><li>'AB'</li><li>'B'</li><li>'O'</li></ol>\n",
       "</details>"
      ],
      "text/latex": [
       "<NA>\n",
       "\\emph{Levels}: \\begin{enumerate*}\n",
       "\\item 'A'\n",
       "\\item 'AB'\n",
       "\\item 'B'\n",
       "\\item 'O'\n",
       "\\end{enumerate*}\n"
      ],
      "text/markdown": [
       "&lt;NA&gt;\n",
       "**Levels**: 1. 'A'\n",
       "2. 'AB'\n",
       "3. 'B'\n",
       "4. 'O'\n",
       "\n",
       "\n"
      ],
      "text/plain": [
       "[1] <NA>\n",
       "Levels: A AB B O"
      ]
     },
     "metadata": {},
     "output_type": "display_data"
    }
   ],
   "source": [
    "bt.new[[8]]"
   ]
  },
  {
   "cell_type": "code",
   "execution_count": 84,
   "id": "fafe2b28",
   "metadata": {},
   "outputs": [
    {
     "data": {
      "text/html": [
       "<style>\n",
       ".list-inline {list-style: none; margin:0; padding: 0}\n",
       ".list-inline>li {display: inline-block}\n",
       ".list-inline>li:not(:last-child)::after {content: \"\\00b7\"; padding: 0 .5ex}\n",
       "</style>\n",
       "<ol class=list-inline><li>A</li><li>B</li><li>B</li><li>O</li><li>AB</li><li>A</li><li>B</li><li>&lt;NA&gt;</li></ol>\n",
       "\n",
       "<details>\n",
       "\t<summary style=display:list-item;cursor:pointer>\n",
       "\t\t<strong>Levels</strong>:\n",
       "\t</summary>\n",
       "\t<style>\n",
       "\t.list-inline {list-style: none; margin:0; padding: 0}\n",
       "\t.list-inline>li {display: inline-block}\n",
       "\t.list-inline>li:not(:last-child)::after {content: \"\\00b7\"; padding: 0 .5ex}\n",
       "\t</style>\n",
       "\t<ol class=list-inline><li>'A'</li><li>'AB'</li><li>'B'</li><li>'O'</li></ol>\n",
       "</details>"
      ],
      "text/latex": [
       "\\begin{enumerate*}\n",
       "\\item A\n",
       "\\item B\n",
       "\\item B\n",
       "\\item O\n",
       "\\item AB\n",
       "\\item A\n",
       "\\item B\n",
       "\\item <NA>\n",
       "\\end{enumerate*}\n",
       "\n",
       "\\emph{Levels}: \\begin{enumerate*}\n",
       "\\item 'A'\n",
       "\\item 'AB'\n",
       "\\item 'B'\n",
       "\\item 'O'\n",
       "\\end{enumerate*}\n"
      ],
      "text/markdown": [
       "1. A\n",
       "2. B\n",
       "3. B\n",
       "4. O\n",
       "5. AB\n",
       "6. A\n",
       "7. B\n",
       "8. &lt;NA&gt;\n",
       "\n",
       "\n",
       "\n",
       "**Levels**: 1. 'A'\n",
       "2. 'AB'\n",
       "3. 'B'\n",
       "4. 'O'\n",
       "\n",
       "\n"
      ],
      "text/plain": [
       "[1] A    B    B    O    AB   A    B    <NA>\n",
       "Levels: A AB B O"
      ]
     },
     "metadata": {},
     "output_type": "display_data"
    }
   ],
   "source": [
    "bt.new"
   ]
  },
  {
   "cell_type": "code",
   "execution_count": 85,
   "id": "b4ed59e7",
   "metadata": {},
   "outputs": [
    {
     "data": {
      "text/html": [
       "124"
      ],
      "text/latex": [
       "124"
      ],
      "text/markdown": [
       "124"
      ],
      "text/plain": [
       "[1] 124"
      ]
     },
     "metadata": {},
     "output_type": "display_data"
    },
    {
     "data": {
      "text/html": [
       "14"
      ],
      "text/latex": [
       "14"
      ],
      "text/markdown": [
       "14"
      ],
      "text/plain": [
       "[1] 14"
      ]
     },
     "metadata": {},
     "output_type": "display_data"
    }
   ],
   "source": [
    "25 + 99\n",
    "2 * (3 + 4)"
   ]
  },
  {
   "cell_type": "code",
   "execution_count": 86,
   "id": "af1c8200",
   "metadata": {},
   "outputs": [
    {
     "data": {
      "text/html": [
       "9"
      ],
      "text/latex": [
       "9"
      ],
      "text/markdown": [
       "9"
      ],
      "text/plain": [
       "[1] 9"
      ]
     },
     "metadata": {},
     "output_type": "display_data"
    }
   ],
   "source": [
    "(7-4) * 3"
   ]
  },
  {
   "cell_type": "code",
   "execution_count": 87,
   "id": "e785bcb4",
   "metadata": {},
   "outputs": [
    {
     "data": {
      "text/html": [
       "3"
      ],
      "text/latex": [
       "3"
      ],
      "text/markdown": [
       "3"
      ],
      "text/plain": [
       "[1] 3"
      ]
     },
     "metadata": {},
     "output_type": "display_data"
    }
   ],
   "source": [
    "1256%%7"
   ]
  },
  {
   "cell_type": "code",
   "execution_count": 88,
   "id": "194d7efa",
   "metadata": {},
   "outputs": [
    {
     "data": {
      "text/html": [
       "82.3333333333333"
      ],
      "text/latex": [
       "82.3333333333333"
      ],
      "text/markdown": [
       "82.3333333333333"
      ],
      "text/plain": [
       "[1] 82.33333"
      ]
     },
     "metadata": {},
     "output_type": "display_data"
    }
   ],
   "source": [
    "1976 / 24"
   ]
  },
  {
   "cell_type": "code",
   "execution_count": 90,
   "id": "c6068de8",
   "metadata": {},
   "outputs": [
    {
     "name": "stdout",
     "output_type": "stream",
     "text": [
      "반지름이  10 인 원의 면적 :  314 \n",
      "반지름이  12 인 원의 면적 :  452.16 \n",
      "반지름이  15 인 원의 면적 :  706.5 \n"
     ]
    }
   ],
   "source": [
    "pi <- 3.14\n",
    "cv <- c(10, 12, 15)\n",
    "for(i in 1:3){\n",
    "    cat(\"반지름이 \", cv[i], \"인 원의 면적 : \", pi * (cv[i] ^ 2),'\\n')\n",
    "}"
   ]
  },
  {
   "cell_type": "code",
   "execution_count": 91,
   "id": "4c0472f7",
   "metadata": {},
   "outputs": [],
   "source": [
    "vc.2 <- seq(100, 200, 2)"
   ]
  },
  {
   "cell_type": "code",
   "execution_count": 92,
   "id": "154deddd",
   "metadata": {},
   "outputs": [
    {
     "data": {
      "text/html": [
       "<style>\n",
       ".list-inline {list-style: none; margin:0; padding: 0}\n",
       ".list-inline>li {display: inline-block}\n",
       ".list-inline>li:not(:last-child)::after {content: \"\\00b7\"; padding: 0 .5ex}\n",
       "</style>\n",
       "<ol class=list-inline><li>100</li><li>102</li><li>104</li><li>106</li><li>108</li><li>110</li><li>112</li><li>114</li><li>116</li><li>118</li><li>120</li><li>122</li><li>124</li><li>126</li><li>128</li><li>130</li><li>132</li><li>134</li><li>136</li><li>138</li><li>140</li><li>142</li><li>144</li><li>146</li><li>148</li><li>150</li><li>152</li><li>154</li><li>156</li><li>158</li><li>160</li><li>162</li><li>164</li><li>166</li><li>168</li><li>170</li><li>172</li><li>174</li><li>176</li><li>178</li><li>180</li><li>182</li><li>184</li><li>186</li><li>188</li><li>190</li><li>192</li><li>194</li><li>196</li><li>198</li><li>200</li></ol>\n"
      ],
      "text/latex": [
       "\\begin{enumerate*}\n",
       "\\item 100\n",
       "\\item 102\n",
       "\\item 104\n",
       "\\item 106\n",
       "\\item 108\n",
       "\\item 110\n",
       "\\item 112\n",
       "\\item 114\n",
       "\\item 116\n",
       "\\item 118\n",
       "\\item 120\n",
       "\\item 122\n",
       "\\item 124\n",
       "\\item 126\n",
       "\\item 128\n",
       "\\item 130\n",
       "\\item 132\n",
       "\\item 134\n",
       "\\item 136\n",
       "\\item 138\n",
       "\\item 140\n",
       "\\item 142\n",
       "\\item 144\n",
       "\\item 146\n",
       "\\item 148\n",
       "\\item 150\n",
       "\\item 152\n",
       "\\item 154\n",
       "\\item 156\n",
       "\\item 158\n",
       "\\item 160\n",
       "\\item 162\n",
       "\\item 164\n",
       "\\item 166\n",
       "\\item 168\n",
       "\\item 170\n",
       "\\item 172\n",
       "\\item 174\n",
       "\\item 176\n",
       "\\item 178\n",
       "\\item 180\n",
       "\\item 182\n",
       "\\item 184\n",
       "\\item 186\n",
       "\\item 188\n",
       "\\item 190\n",
       "\\item 192\n",
       "\\item 194\n",
       "\\item 196\n",
       "\\item 198\n",
       "\\item 200\n",
       "\\end{enumerate*}\n"
      ],
      "text/markdown": [
       "1. 100\n",
       "2. 102\n",
       "3. 104\n",
       "4. 106\n",
       "5. 108\n",
       "6. 110\n",
       "7. 112\n",
       "8. 114\n",
       "9. 116\n",
       "10. 118\n",
       "11. 120\n",
       "12. 122\n",
       "13. 124\n",
       "14. 126\n",
       "15. 128\n",
       "16. 130\n",
       "17. 132\n",
       "18. 134\n",
       "19. 136\n",
       "20. 138\n",
       "21. 140\n",
       "22. 142\n",
       "23. 144\n",
       "24. 146\n",
       "25. 148\n",
       "26. 150\n",
       "27. 152\n",
       "28. 154\n",
       "29. 156\n",
       "30. 158\n",
       "31. 160\n",
       "32. 162\n",
       "33. 164\n",
       "34. 166\n",
       "35. 168\n",
       "36. 170\n",
       "37. 172\n",
       "38. 174\n",
       "39. 176\n",
       "40. 178\n",
       "41. 180\n",
       "42. 182\n",
       "43. 184\n",
       "44. 186\n",
       "45. 188\n",
       "46. 190\n",
       "47. 192\n",
       "48. 194\n",
       "49. 196\n",
       "50. 198\n",
       "51. 200\n",
       "\n",
       "\n"
      ],
      "text/plain": [
       " [1] 100 102 104 106 108 110 112 114 116 118 120 122 124 126 128 130 132 134 136\n",
       "[20] 138 140 142 144 146 148 150 152 154 156 158 160 162 164 166 168 170 172 174\n",
       "[39] 176 178 180 182 184 186 188 190 192 194 196 198 200"
      ]
     },
     "metadata": {},
     "output_type": "display_data"
    }
   ],
   "source": [
    "vc.2"
   ]
  },
  {
   "cell_type": "code",
   "execution_count": 93,
   "id": "cb3ef8db",
   "metadata": {},
   "outputs": [],
   "source": [
    "d <- 100:200"
   ]
  },
  {
   "cell_type": "code",
   "execution_count": 94,
   "id": "f4328322",
   "metadata": {},
   "outputs": [
    {
     "data": {
      "text/html": [
       "<style>\n",
       ".list-inline {list-style: none; margin:0; padding: 0}\n",
       ".list-inline>li {display: inline-block}\n",
       ".list-inline>li:not(:last-child)::after {content: \"\\00b7\"; padding: 0 .5ex}\n",
       "</style>\n",
       "<ol class=list-inline><li>100</li><li>101</li><li>102</li><li>103</li><li>104</li><li>105</li><li>106</li><li>107</li><li>108</li><li>109</li><li>110</li><li>111</li><li>112</li><li>113</li><li>114</li><li>115</li><li>116</li><li>117</li><li>118</li><li>119</li><li>120</li><li>121</li><li>122</li><li>123</li><li>124</li><li>125</li><li>126</li><li>127</li><li>128</li><li>129</li><li>130</li><li>131</li><li>132</li><li>133</li><li>134</li><li>135</li><li>136</li><li>137</li><li>138</li><li>139</li><li>140</li><li>141</li><li>142</li><li>143</li><li>144</li><li>145</li><li>146</li><li>147</li><li>148</li><li>149</li><li>150</li><li>151</li><li>152</li><li>153</li><li>154</li><li>155</li><li>156</li><li>157</li><li>158</li><li>159</li><li>160</li><li>161</li><li>162</li><li>163</li><li>164</li><li>165</li><li>166</li><li>167</li><li>168</li><li>169</li><li>170</li><li>171</li><li>172</li><li>173</li><li>174</li><li>175</li><li>176</li><li>177</li><li>178</li><li>179</li><li>180</li><li>181</li><li>182</li><li>183</li><li>184</li><li>185</li><li>186</li><li>187</li><li>188</li><li>189</li><li>190</li><li>191</li><li>192</li><li>193</li><li>194</li><li>195</li><li>196</li><li>197</li><li>198</li><li>199</li><li>200</li></ol>\n"
      ],
      "text/latex": [
       "\\begin{enumerate*}\n",
       "\\item 100\n",
       "\\item 101\n",
       "\\item 102\n",
       "\\item 103\n",
       "\\item 104\n",
       "\\item 105\n",
       "\\item 106\n",
       "\\item 107\n",
       "\\item 108\n",
       "\\item 109\n",
       "\\item 110\n",
       "\\item 111\n",
       "\\item 112\n",
       "\\item 113\n",
       "\\item 114\n",
       "\\item 115\n",
       "\\item 116\n",
       "\\item 117\n",
       "\\item 118\n",
       "\\item 119\n",
       "\\item 120\n",
       "\\item 121\n",
       "\\item 122\n",
       "\\item 123\n",
       "\\item 124\n",
       "\\item 125\n",
       "\\item 126\n",
       "\\item 127\n",
       "\\item 128\n",
       "\\item 129\n",
       "\\item 130\n",
       "\\item 131\n",
       "\\item 132\n",
       "\\item 133\n",
       "\\item 134\n",
       "\\item 135\n",
       "\\item 136\n",
       "\\item 137\n",
       "\\item 138\n",
       "\\item 139\n",
       "\\item 140\n",
       "\\item 141\n",
       "\\item 142\n",
       "\\item 143\n",
       "\\item 144\n",
       "\\item 145\n",
       "\\item 146\n",
       "\\item 147\n",
       "\\item 148\n",
       "\\item 149\n",
       "\\item 150\n",
       "\\item 151\n",
       "\\item 152\n",
       "\\item 153\n",
       "\\item 154\n",
       "\\item 155\n",
       "\\item 156\n",
       "\\item 157\n",
       "\\item 158\n",
       "\\item 159\n",
       "\\item 160\n",
       "\\item 161\n",
       "\\item 162\n",
       "\\item 163\n",
       "\\item 164\n",
       "\\item 165\n",
       "\\item 166\n",
       "\\item 167\n",
       "\\item 168\n",
       "\\item 169\n",
       "\\item 170\n",
       "\\item 171\n",
       "\\item 172\n",
       "\\item 173\n",
       "\\item 174\n",
       "\\item 175\n",
       "\\item 176\n",
       "\\item 177\n",
       "\\item 178\n",
       "\\item 179\n",
       "\\item 180\n",
       "\\item 181\n",
       "\\item 182\n",
       "\\item 183\n",
       "\\item 184\n",
       "\\item 185\n",
       "\\item 186\n",
       "\\item 187\n",
       "\\item 188\n",
       "\\item 189\n",
       "\\item 190\n",
       "\\item 191\n",
       "\\item 192\n",
       "\\item 193\n",
       "\\item 194\n",
       "\\item 195\n",
       "\\item 196\n",
       "\\item 197\n",
       "\\item 198\n",
       "\\item 199\n",
       "\\item 200\n",
       "\\end{enumerate*}\n"
      ],
      "text/markdown": [
       "1. 100\n",
       "2. 101\n",
       "3. 102\n",
       "4. 103\n",
       "5. 104\n",
       "6. 105\n",
       "7. 106\n",
       "8. 107\n",
       "9. 108\n",
       "10. 109\n",
       "11. 110\n",
       "12. 111\n",
       "13. 112\n",
       "14. 113\n",
       "15. 114\n",
       "16. 115\n",
       "17. 116\n",
       "18. 117\n",
       "19. 118\n",
       "20. 119\n",
       "21. 120\n",
       "22. 121\n",
       "23. 122\n",
       "24. 123\n",
       "25. 124\n",
       "26. 125\n",
       "27. 126\n",
       "28. 127\n",
       "29. 128\n",
       "30. 129\n",
       "31. 130\n",
       "32. 131\n",
       "33. 132\n",
       "34. 133\n",
       "35. 134\n",
       "36. 135\n",
       "37. 136\n",
       "38. 137\n",
       "39. 138\n",
       "40. 139\n",
       "41. 140\n",
       "42. 141\n",
       "43. 142\n",
       "44. 143\n",
       "45. 144\n",
       "46. 145\n",
       "47. 146\n",
       "48. 147\n",
       "49. 148\n",
       "50. 149\n",
       "51. 150\n",
       "52. 151\n",
       "53. 152\n",
       "54. 153\n",
       "55. 154\n",
       "56. 155\n",
       "57. 156\n",
       "58. 157\n",
       "59. 158\n",
       "60. 159\n",
       "61. 160\n",
       "62. 161\n",
       "63. 162\n",
       "64. 163\n",
       "65. 164\n",
       "66. 165\n",
       "67. 166\n",
       "68. 167\n",
       "69. 168\n",
       "70. 169\n",
       "71. 170\n",
       "72. 171\n",
       "73. 172\n",
       "74. 173\n",
       "75. 174\n",
       "76. 175\n",
       "77. 176\n",
       "78. 177\n",
       "79. 178\n",
       "80. 179\n",
       "81. 180\n",
       "82. 181\n",
       "83. 182\n",
       "84. 183\n",
       "85. 184\n",
       "86. 185\n",
       "87. 186\n",
       "88. 187\n",
       "89. 188\n",
       "90. 189\n",
       "91. 190\n",
       "92. 191\n",
       "93. 192\n",
       "94. 193\n",
       "95. 194\n",
       "96. 195\n",
       "97. 196\n",
       "98. 197\n",
       "99. 198\n",
       "100. 199\n",
       "101. 200\n",
       "\n",
       "\n"
      ],
      "text/plain": [
       "  [1] 100 101 102 103 104 105 106 107 108 109 110 111 112 113 114 115 116 117\n",
       " [19] 118 119 120 121 122 123 124 125 126 127 128 129 130 131 132 133 134 135\n",
       " [37] 136 137 138 139 140 141 142 143 144 145 146 147 148 149 150 151 152 153\n",
       " [55] 154 155 156 157 158 159 160 161 162 163 164 165 166 167 168 169 170 171\n",
       " [73] 172 173 174 175 176 177 178 179 180 181 182 183 184 185 186 187 188 189\n",
       " [91] 190 191 192 193 194 195 196 197 198 199 200"
      ]
     },
     "metadata": {},
     "output_type": "display_data"
    }
   ],
   "source": [
    "d"
   ]
  },
  {
   "cell_type": "code",
   "execution_count": 95,
   "id": "802221d4",
   "metadata": {},
   "outputs": [
    {
     "data": {
      "text/html": [
       "109"
      ],
      "text/latex": [
       "109"
      ],
      "text/markdown": [
       "109"
      ],
      "text/plain": [
       "[1] 109"
      ]
     },
     "metadata": {},
     "output_type": "display_data"
    }
   ],
   "source": [
    "d[10]"
   ]
  },
  {
   "cell_type": "code",
   "execution_count": 96,
   "id": "cfc95501",
   "metadata": {},
   "outputs": [
    {
     "data": {
      "text/html": [
       "<style>\n",
       ".list-inline {list-style: none; margin:0; padding: 0}\n",
       ".list-inline>li {display: inline-block}\n",
       ".list-inline>li:not(:last-child)::after {content: \"\\00b7\"; padding: 0 .5ex}\n",
       "</style>\n",
       "<ol class=list-inline><li>190</li><li>191</li><li>192</li><li>193</li><li>194</li><li>195</li><li>196</li><li>197</li><li>198</li><li>199</li></ol>\n"
      ],
      "text/latex": [
       "\\begin{enumerate*}\n",
       "\\item 190\n",
       "\\item 191\n",
       "\\item 192\n",
       "\\item 193\n",
       "\\item 194\n",
       "\\item 195\n",
       "\\item 196\n",
       "\\item 197\n",
       "\\item 198\n",
       "\\item 199\n",
       "\\end{enumerate*}\n"
      ],
      "text/markdown": [
       "1. 190\n",
       "2. 191\n",
       "3. 192\n",
       "4. 193\n",
       "5. 194\n",
       "6. 195\n",
       "7. 196\n",
       "8. 197\n",
       "9. 198\n",
       "10. 199\n",
       "\n",
       "\n"
      ],
      "text/plain": [
       " [1] 190 191 192 193 194 195 196 197 198 199"
      ]
     },
     "metadata": {},
     "output_type": "display_data"
    }
   ],
   "source": [
    "d[91:100]"
   ]
  },
  {
   "cell_type": "code",
   "execution_count": 97,
   "id": "8fb81a75",
   "metadata": {},
   "outputs": [
    {
     "data": {
      "text/html": [
       "<style>\n",
       ".list-inline {list-style: none; margin:0; padding: 0}\n",
       ".list-inline>li {display: inline-block}\n",
       ".list-inline>li:not(:last-child)::after {content: \"\\00b7\"; padding: 0 .5ex}\n",
       "</style>\n",
       "<ol class=list-inline><li>101</li><li>103</li><li>105</li><li>107</li><li>109</li><li>111</li><li>113</li><li>115</li><li>117</li><li>119</li><li>121</li><li>123</li><li>125</li><li>127</li><li>129</li><li>131</li><li>133</li><li>135</li><li>137</li><li>139</li><li>141</li><li>143</li><li>145</li><li>147</li><li>149</li><li>151</li><li>153</li><li>155</li><li>157</li><li>159</li><li>161</li><li>163</li><li>165</li><li>167</li><li>169</li><li>171</li><li>173</li><li>175</li><li>177</li><li>179</li><li>181</li><li>183</li><li>185</li><li>187</li><li>189</li><li>191</li><li>193</li><li>195</li><li>197</li><li>199</li></ol>\n"
      ],
      "text/latex": [
       "\\begin{enumerate*}\n",
       "\\item 101\n",
       "\\item 103\n",
       "\\item 105\n",
       "\\item 107\n",
       "\\item 109\n",
       "\\item 111\n",
       "\\item 113\n",
       "\\item 115\n",
       "\\item 117\n",
       "\\item 119\n",
       "\\item 121\n",
       "\\item 123\n",
       "\\item 125\n",
       "\\item 127\n",
       "\\item 129\n",
       "\\item 131\n",
       "\\item 133\n",
       "\\item 135\n",
       "\\item 137\n",
       "\\item 139\n",
       "\\item 141\n",
       "\\item 143\n",
       "\\item 145\n",
       "\\item 147\n",
       "\\item 149\n",
       "\\item 151\n",
       "\\item 153\n",
       "\\item 155\n",
       "\\item 157\n",
       "\\item 159\n",
       "\\item 161\n",
       "\\item 163\n",
       "\\item 165\n",
       "\\item 167\n",
       "\\item 169\n",
       "\\item 171\n",
       "\\item 173\n",
       "\\item 175\n",
       "\\item 177\n",
       "\\item 179\n",
       "\\item 181\n",
       "\\item 183\n",
       "\\item 185\n",
       "\\item 187\n",
       "\\item 189\n",
       "\\item 191\n",
       "\\item 193\n",
       "\\item 195\n",
       "\\item 197\n",
       "\\item 199\n",
       "\\end{enumerate*}\n"
      ],
      "text/markdown": [
       "1. 101\n",
       "2. 103\n",
       "3. 105\n",
       "4. 107\n",
       "5. 109\n",
       "6. 111\n",
       "7. 113\n",
       "8. 115\n",
       "9. 117\n",
       "10. 119\n",
       "11. 121\n",
       "12. 123\n",
       "13. 125\n",
       "14. 127\n",
       "15. 129\n",
       "16. 131\n",
       "17. 133\n",
       "18. 135\n",
       "19. 137\n",
       "20. 139\n",
       "21. 141\n",
       "22. 143\n",
       "23. 145\n",
       "24. 147\n",
       "25. 149\n",
       "26. 151\n",
       "27. 153\n",
       "28. 155\n",
       "29. 157\n",
       "30. 159\n",
       "31. 161\n",
       "32. 163\n",
       "33. 165\n",
       "34. 167\n",
       "35. 169\n",
       "36. 171\n",
       "37. 173\n",
       "38. 175\n",
       "39. 177\n",
       "40. 179\n",
       "41. 181\n",
       "42. 183\n",
       "43. 185\n",
       "44. 187\n",
       "45. 189\n",
       "46. 191\n",
       "47. 193\n",
       "48. 195\n",
       "49. 197\n",
       "50. 199\n",
       "\n",
       "\n"
      ],
      "text/plain": [
       " [1] 101 103 105 107 109 111 113 115 117 119 121 123 125 127 129 131 133 135 137\n",
       "[20] 139 141 143 145 147 149 151 153 155 157 159 161 163 165 167 169 171 173 175\n",
       "[39] 177 179 181 183 185 187 189 191 193 195 197 199"
      ]
     },
     "metadata": {},
     "output_type": "display_data"
    }
   ],
   "source": [
    "d[d%%2 == 1]"
   ]
  },
  {
   "cell_type": "code",
   "execution_count": 98,
   "id": "b759b058",
   "metadata": {},
   "outputs": [
    {
     "data": {
      "text/html": [
       "<style>\n",
       ".list-inline {list-style: none; margin:0; padding: 0}\n",
       ".list-inline>li {display: inline-block}\n",
       ".list-inline>li:not(:last-child)::after {content: \"\\00b7\"; padding: 0 .5ex}\n",
       "</style>\n",
       "<ol class=list-inline><li>102</li><li>105</li><li>108</li><li>111</li><li>114</li><li>117</li><li>120</li><li>123</li><li>126</li><li>129</li><li>132</li><li>135</li><li>138</li><li>141</li><li>144</li><li>147</li><li>150</li><li>153</li><li>156</li><li>159</li><li>162</li><li>165</li><li>168</li><li>171</li><li>174</li><li>177</li><li>180</li><li>183</li><li>186</li><li>189</li><li>192</li><li>195</li><li>198</li></ol>\n"
      ],
      "text/latex": [
       "\\begin{enumerate*}\n",
       "\\item 102\n",
       "\\item 105\n",
       "\\item 108\n",
       "\\item 111\n",
       "\\item 114\n",
       "\\item 117\n",
       "\\item 120\n",
       "\\item 123\n",
       "\\item 126\n",
       "\\item 129\n",
       "\\item 132\n",
       "\\item 135\n",
       "\\item 138\n",
       "\\item 141\n",
       "\\item 144\n",
       "\\item 147\n",
       "\\item 150\n",
       "\\item 153\n",
       "\\item 156\n",
       "\\item 159\n",
       "\\item 162\n",
       "\\item 165\n",
       "\\item 168\n",
       "\\item 171\n",
       "\\item 174\n",
       "\\item 177\n",
       "\\item 180\n",
       "\\item 183\n",
       "\\item 186\n",
       "\\item 189\n",
       "\\item 192\n",
       "\\item 195\n",
       "\\item 198\n",
       "\\end{enumerate*}\n"
      ],
      "text/markdown": [
       "1. 102\n",
       "2. 105\n",
       "3. 108\n",
       "4. 111\n",
       "5. 114\n",
       "6. 117\n",
       "7. 120\n",
       "8. 123\n",
       "9. 126\n",
       "10. 129\n",
       "11. 132\n",
       "12. 135\n",
       "13. 138\n",
       "14. 141\n",
       "15. 144\n",
       "16. 147\n",
       "17. 150\n",
       "18. 153\n",
       "19. 156\n",
       "20. 159\n",
       "21. 162\n",
       "22. 165\n",
       "23. 168\n",
       "24. 171\n",
       "25. 174\n",
       "26. 177\n",
       "27. 180\n",
       "28. 183\n",
       "29. 186\n",
       "30. 189\n",
       "31. 192\n",
       "32. 195\n",
       "33. 198\n",
       "\n",
       "\n"
      ],
      "text/plain": [
       " [1] 102 105 108 111 114 117 120 123 126 129 132 135 138 141 144 147 150 153 156\n",
       "[20] 159 162 165 168 171 174 177 180 183 186 189 192 195 198"
      ]
     },
     "metadata": {},
     "output_type": "display_data"
    }
   ],
   "source": [
    "d[d%%3 == 0]"
   ]
  },
  {
   "cell_type": "code",
   "execution_count": 100,
   "id": "73edf06a",
   "metadata": {},
   "outputs": [],
   "source": [
    "d.20 <- d[1:20]"
   ]
  },
  {
   "cell_type": "code",
   "execution_count": 101,
   "id": "bc0baef4",
   "metadata": {},
   "outputs": [
    {
     "data": {
      "text/html": [
       "<style>\n",
       ".list-inline {list-style: none; margin:0; padding: 0}\n",
       ".list-inline>li {display: inline-block}\n",
       ".list-inline>li:not(:last-child)::after {content: \"\\00b7\"; padding: 0 .5ex}\n",
       "</style>\n",
       "<ol class=list-inline><li>100</li><li>101</li><li>102</li><li>103</li><li>104</li><li>105</li><li>106</li><li>107</li><li>108</li><li>109</li><li>110</li><li>111</li><li>112</li><li>113</li><li>114</li><li>115</li><li>116</li><li>117</li><li>118</li><li>119</li></ol>\n"
      ],
      "text/latex": [
       "\\begin{enumerate*}\n",
       "\\item 100\n",
       "\\item 101\n",
       "\\item 102\n",
       "\\item 103\n",
       "\\item 104\n",
       "\\item 105\n",
       "\\item 106\n",
       "\\item 107\n",
       "\\item 108\n",
       "\\item 109\n",
       "\\item 110\n",
       "\\item 111\n",
       "\\item 112\n",
       "\\item 113\n",
       "\\item 114\n",
       "\\item 115\n",
       "\\item 116\n",
       "\\item 117\n",
       "\\item 118\n",
       "\\item 119\n",
       "\\end{enumerate*}\n"
      ],
      "text/markdown": [
       "1. 100\n",
       "2. 101\n",
       "3. 102\n",
       "4. 103\n",
       "5. 104\n",
       "6. 105\n",
       "7. 106\n",
       "8. 107\n",
       "9. 108\n",
       "10. 109\n",
       "11. 110\n",
       "12. 111\n",
       "13. 112\n",
       "14. 113\n",
       "15. 114\n",
       "16. 115\n",
       "17. 116\n",
       "18. 117\n",
       "19. 118\n",
       "20. 119\n",
       "\n",
       "\n"
      ],
      "text/plain": [
       " [1] 100 101 102 103 104 105 106 107 108 109 110 111 112 113 114 115 116 117 118\n",
       "[20] 119"
      ]
     },
     "metadata": {},
     "output_type": "display_data"
    }
   ],
   "source": [
    "d.20"
   ]
  },
  {
   "cell_type": "code",
   "execution_count": 102,
   "id": "d6f714ec",
   "metadata": {},
   "outputs": [
    {
     "data": {
      "text/html": [
       "<style>\n",
       ".list-inline {list-style: none; margin:0; padding: 0}\n",
       ".list-inline>li {display: inline-block}\n",
       ".list-inline>li:not(:last-child)::after {content: \"\\00b7\"; padding: 0 .5ex}\n",
       "</style>\n",
       "<ol class=list-inline><li>100</li><li>101</li><li>102</li><li>103</li><li>105</li><li>106</li><li>107</li><li>108</li><li>109</li><li>110</li><li>111</li><li>112</li><li>113</li><li>114</li><li>115</li><li>116</li><li>117</li><li>118</li><li>119</li></ol>\n"
      ],
      "text/latex": [
       "\\begin{enumerate*}\n",
       "\\item 100\n",
       "\\item 101\n",
       "\\item 102\n",
       "\\item 103\n",
       "\\item 105\n",
       "\\item 106\n",
       "\\item 107\n",
       "\\item 108\n",
       "\\item 109\n",
       "\\item 110\n",
       "\\item 111\n",
       "\\item 112\n",
       "\\item 113\n",
       "\\item 114\n",
       "\\item 115\n",
       "\\item 116\n",
       "\\item 117\n",
       "\\item 118\n",
       "\\item 119\n",
       "\\end{enumerate*}\n"
      ],
      "text/markdown": [
       "1. 100\n",
       "2. 101\n",
       "3. 102\n",
       "4. 103\n",
       "5. 105\n",
       "6. 106\n",
       "7. 107\n",
       "8. 108\n",
       "9. 109\n",
       "10. 110\n",
       "11. 111\n",
       "12. 112\n",
       "13. 113\n",
       "14. 114\n",
       "15. 115\n",
       "16. 116\n",
       "17. 117\n",
       "18. 118\n",
       "19. 119\n",
       "\n",
       "\n"
      ],
      "text/plain": [
       " [1] 100 101 102 103 105 106 107 108 109 110 111 112 113 114 115 116 117 118 119"
      ]
     },
     "metadata": {},
     "output_type": "display_data"
    }
   ],
   "source": [
    "d.20[-5]"
   ]
  },
  {
   "cell_type": "code",
   "execution_count": 103,
   "id": "fb49ffd9",
   "metadata": {},
   "outputs": [
    {
     "data": {
      "text/html": [
       "<style>\n",
       ".list-inline {list-style: none; margin:0; padding: 0}\n",
       ".list-inline>li {display: inline-block}\n",
       ".list-inline>li:not(:last-child)::after {content: \"\\00b7\"; padding: 0 .5ex}\n",
       "</style>\n",
       "<ol class=list-inline><li>100</li><li>101</li><li>102</li><li>103</li><li>105</li><li>107</li><li>109</li><li>110</li><li>111</li><li>112</li><li>113</li><li>114</li><li>115</li><li>116</li><li>117</li><li>118</li><li>119</li></ol>\n"
      ],
      "text/latex": [
       "\\begin{enumerate*}\n",
       "\\item 100\n",
       "\\item 101\n",
       "\\item 102\n",
       "\\item 103\n",
       "\\item 105\n",
       "\\item 107\n",
       "\\item 109\n",
       "\\item 110\n",
       "\\item 111\n",
       "\\item 112\n",
       "\\item 113\n",
       "\\item 114\n",
       "\\item 115\n",
       "\\item 116\n",
       "\\item 117\n",
       "\\item 118\n",
       "\\item 119\n",
       "\\end{enumerate*}\n"
      ],
      "text/markdown": [
       "1. 100\n",
       "2. 101\n",
       "3. 102\n",
       "4. 103\n",
       "5. 105\n",
       "6. 107\n",
       "7. 109\n",
       "8. 110\n",
       "9. 111\n",
       "10. 112\n",
       "11. 113\n",
       "12. 114\n",
       "13. 115\n",
       "14. 116\n",
       "15. 117\n",
       "16. 118\n",
       "17. 119\n",
       "\n",
       "\n"
      ],
      "text/plain": [
       " [1] 100 101 102 103 105 107 109 110 111 112 113 114 115 116 117 118 119"
      ]
     },
     "metadata": {},
     "output_type": "display_data"
    }
   ],
   "source": [
    "d.20[-c(5, 7, 9)]"
   ]
  },
  {
   "cell_type": "code",
   "execution_count": 104,
   "id": "9669f185",
   "metadata": {},
   "outputs": [],
   "source": [
    "d1 <- 1:50\n",
    "d2 <- 51:100"
   ]
  },
  {
   "cell_type": "code",
   "execution_count": 105,
   "id": "863cfbb9",
   "metadata": {},
   "outputs": [
    {
     "data": {
      "text/html": [
       "<style>\n",
       ".list-inline {list-style: none; margin:0; padding: 0}\n",
       ".list-inline>li {display: inline-block}\n",
       ".list-inline>li:not(:last-child)::after {content: \"\\00b7\"; padding: 0 .5ex}\n",
       "</style>\n",
       "<ol class=list-inline><li>1</li><li>2</li><li>3</li><li>4</li><li>5</li><li>6</li><li>7</li><li>8</li><li>9</li><li>10</li><li>11</li><li>12</li><li>13</li><li>14</li><li>15</li><li>16</li><li>17</li><li>18</li><li>19</li><li>20</li><li>21</li><li>22</li><li>23</li><li>24</li><li>25</li><li>26</li><li>27</li><li>28</li><li>29</li><li>30</li><li>31</li><li>32</li><li>33</li><li>34</li><li>35</li><li>36</li><li>37</li><li>38</li><li>39</li><li>40</li><li>41</li><li>42</li><li>43</li><li>44</li><li>45</li><li>46</li><li>47</li><li>48</li><li>49</li><li>50</li></ol>\n"
      ],
      "text/latex": [
       "\\begin{enumerate*}\n",
       "\\item 1\n",
       "\\item 2\n",
       "\\item 3\n",
       "\\item 4\n",
       "\\item 5\n",
       "\\item 6\n",
       "\\item 7\n",
       "\\item 8\n",
       "\\item 9\n",
       "\\item 10\n",
       "\\item 11\n",
       "\\item 12\n",
       "\\item 13\n",
       "\\item 14\n",
       "\\item 15\n",
       "\\item 16\n",
       "\\item 17\n",
       "\\item 18\n",
       "\\item 19\n",
       "\\item 20\n",
       "\\item 21\n",
       "\\item 22\n",
       "\\item 23\n",
       "\\item 24\n",
       "\\item 25\n",
       "\\item 26\n",
       "\\item 27\n",
       "\\item 28\n",
       "\\item 29\n",
       "\\item 30\n",
       "\\item 31\n",
       "\\item 32\n",
       "\\item 33\n",
       "\\item 34\n",
       "\\item 35\n",
       "\\item 36\n",
       "\\item 37\n",
       "\\item 38\n",
       "\\item 39\n",
       "\\item 40\n",
       "\\item 41\n",
       "\\item 42\n",
       "\\item 43\n",
       "\\item 44\n",
       "\\item 45\n",
       "\\item 46\n",
       "\\item 47\n",
       "\\item 48\n",
       "\\item 49\n",
       "\\item 50\n",
       "\\end{enumerate*}\n"
      ],
      "text/markdown": [
       "1. 1\n",
       "2. 2\n",
       "3. 3\n",
       "4. 4\n",
       "5. 5\n",
       "6. 6\n",
       "7. 7\n",
       "8. 8\n",
       "9. 9\n",
       "10. 10\n",
       "11. 11\n",
       "12. 12\n",
       "13. 13\n",
       "14. 14\n",
       "15. 15\n",
       "16. 16\n",
       "17. 17\n",
       "18. 18\n",
       "19. 19\n",
       "20. 20\n",
       "21. 21\n",
       "22. 22\n",
       "23. 23\n",
       "24. 24\n",
       "25. 25\n",
       "26. 26\n",
       "27. 27\n",
       "28. 28\n",
       "29. 29\n",
       "30. 30\n",
       "31. 31\n",
       "32. 32\n",
       "33. 33\n",
       "34. 34\n",
       "35. 35\n",
       "36. 36\n",
       "37. 37\n",
       "38. 38\n",
       "39. 39\n",
       "40. 40\n",
       "41. 41\n",
       "42. 42\n",
       "43. 43\n",
       "44. 44\n",
       "45. 45\n",
       "46. 46\n",
       "47. 47\n",
       "48. 48\n",
       "49. 49\n",
       "50. 50\n",
       "\n",
       "\n"
      ],
      "text/plain": [
       " [1]  1  2  3  4  5  6  7  8  9 10 11 12 13 14 15 16 17 18 19 20 21 22 23 24 25\n",
       "[26] 26 27 28 29 30 31 32 33 34 35 36 37 38 39 40 41 42 43 44 45 46 47 48 49 50"
      ]
     },
     "metadata": {},
     "output_type": "display_data"
    },
    {
     "data": {
      "text/html": [
       "<style>\n",
       ".list-inline {list-style: none; margin:0; padding: 0}\n",
       ".list-inline>li {display: inline-block}\n",
       ".list-inline>li:not(:last-child)::after {content: \"\\00b7\"; padding: 0 .5ex}\n",
       "</style>\n",
       "<ol class=list-inline><li>51</li><li>52</li><li>53</li><li>54</li><li>55</li><li>56</li><li>57</li><li>58</li><li>59</li><li>60</li><li>61</li><li>62</li><li>63</li><li>64</li><li>65</li><li>66</li><li>67</li><li>68</li><li>69</li><li>70</li><li>71</li><li>72</li><li>73</li><li>74</li><li>75</li><li>76</li><li>77</li><li>78</li><li>79</li><li>80</li><li>81</li><li>82</li><li>83</li><li>84</li><li>85</li><li>86</li><li>87</li><li>88</li><li>89</li><li>90</li><li>91</li><li>92</li><li>93</li><li>94</li><li>95</li><li>96</li><li>97</li><li>98</li><li>99</li><li>100</li></ol>\n"
      ],
      "text/latex": [
       "\\begin{enumerate*}\n",
       "\\item 51\n",
       "\\item 52\n",
       "\\item 53\n",
       "\\item 54\n",
       "\\item 55\n",
       "\\item 56\n",
       "\\item 57\n",
       "\\item 58\n",
       "\\item 59\n",
       "\\item 60\n",
       "\\item 61\n",
       "\\item 62\n",
       "\\item 63\n",
       "\\item 64\n",
       "\\item 65\n",
       "\\item 66\n",
       "\\item 67\n",
       "\\item 68\n",
       "\\item 69\n",
       "\\item 70\n",
       "\\item 71\n",
       "\\item 72\n",
       "\\item 73\n",
       "\\item 74\n",
       "\\item 75\n",
       "\\item 76\n",
       "\\item 77\n",
       "\\item 78\n",
       "\\item 79\n",
       "\\item 80\n",
       "\\item 81\n",
       "\\item 82\n",
       "\\item 83\n",
       "\\item 84\n",
       "\\item 85\n",
       "\\item 86\n",
       "\\item 87\n",
       "\\item 88\n",
       "\\item 89\n",
       "\\item 90\n",
       "\\item 91\n",
       "\\item 92\n",
       "\\item 93\n",
       "\\item 94\n",
       "\\item 95\n",
       "\\item 96\n",
       "\\item 97\n",
       "\\item 98\n",
       "\\item 99\n",
       "\\item 100\n",
       "\\end{enumerate*}\n"
      ],
      "text/markdown": [
       "1. 51\n",
       "2. 52\n",
       "3. 53\n",
       "4. 54\n",
       "5. 55\n",
       "6. 56\n",
       "7. 57\n",
       "8. 58\n",
       "9. 59\n",
       "10. 60\n",
       "11. 61\n",
       "12. 62\n",
       "13. 63\n",
       "14. 64\n",
       "15. 65\n",
       "16. 66\n",
       "17. 67\n",
       "18. 68\n",
       "19. 69\n",
       "20. 70\n",
       "21. 71\n",
       "22. 72\n",
       "23. 73\n",
       "24. 74\n",
       "25. 75\n",
       "26. 76\n",
       "27. 77\n",
       "28. 78\n",
       "29. 79\n",
       "30. 80\n",
       "31. 81\n",
       "32. 82\n",
       "33. 83\n",
       "34. 84\n",
       "35. 85\n",
       "36. 86\n",
       "37. 87\n",
       "38. 88\n",
       "39. 89\n",
       "40. 90\n",
       "41. 91\n",
       "42. 92\n",
       "43. 93\n",
       "44. 94\n",
       "45. 95\n",
       "46. 96\n",
       "47. 97\n",
       "48. 98\n",
       "49. 99\n",
       "50. 100\n",
       "\n",
       "\n"
      ],
      "text/plain": [
       " [1]  51  52  53  54  55  56  57  58  59  60  61  62  63  64  65  66  67  68  69\n",
       "[20]  70  71  72  73  74  75  76  77  78  79  80  81  82  83  84  85  86  87  88\n",
       "[39]  89  90  91  92  93  94  95  96  97  98  99 100"
      ]
     },
     "metadata": {},
     "output_type": "display_data"
    }
   ],
   "source": [
    "d1\n",
    "d2"
   ]
  },
  {
   "cell_type": "code",
   "execution_count": 106,
   "id": "e7ccbecd",
   "metadata": {},
   "outputs": [
    {
     "data": {
      "text/html": [
       "50"
      ],
      "text/latex": [
       "50"
      ],
      "text/markdown": [
       "50"
      ],
      "text/plain": [
       "[1] 50"
      ]
     },
     "metadata": {},
     "output_type": "display_data"
    }
   ],
   "source": [
    "length(d2)"
   ]
  },
  {
   "cell_type": "code",
   "execution_count": 107,
   "id": "9ec06ea4",
   "metadata": {},
   "outputs": [
    {
     "data": {
      "text/html": [
       "<style>\n",
       ".list-inline {list-style: none; margin:0; padding: 0}\n",
       ".list-inline>li {display: inline-block}\n",
       ".list-inline>li:not(:last-child)::after {content: \"\\00b7\"; padding: 0 .5ex}\n",
       "</style>\n",
       "<ol class=list-inline><li>52</li><li>54</li><li>56</li><li>58</li><li>60</li><li>62</li><li>64</li><li>66</li><li>68</li><li>70</li><li>72</li><li>74</li><li>76</li><li>78</li><li>80</li><li>82</li><li>84</li><li>86</li><li>88</li><li>90</li><li>92</li><li>94</li><li>96</li><li>98</li><li>100</li><li>102</li><li>104</li><li>106</li><li>108</li><li>110</li><li>112</li><li>114</li><li>116</li><li>118</li><li>120</li><li>122</li><li>124</li><li>126</li><li>128</li><li>130</li><li>132</li><li>134</li><li>136</li><li>138</li><li>140</li><li>142</li><li>144</li><li>146</li><li>148</li><li>150</li></ol>\n"
      ],
      "text/latex": [
       "\\begin{enumerate*}\n",
       "\\item 52\n",
       "\\item 54\n",
       "\\item 56\n",
       "\\item 58\n",
       "\\item 60\n",
       "\\item 62\n",
       "\\item 64\n",
       "\\item 66\n",
       "\\item 68\n",
       "\\item 70\n",
       "\\item 72\n",
       "\\item 74\n",
       "\\item 76\n",
       "\\item 78\n",
       "\\item 80\n",
       "\\item 82\n",
       "\\item 84\n",
       "\\item 86\n",
       "\\item 88\n",
       "\\item 90\n",
       "\\item 92\n",
       "\\item 94\n",
       "\\item 96\n",
       "\\item 98\n",
       "\\item 100\n",
       "\\item 102\n",
       "\\item 104\n",
       "\\item 106\n",
       "\\item 108\n",
       "\\item 110\n",
       "\\item 112\n",
       "\\item 114\n",
       "\\item 116\n",
       "\\item 118\n",
       "\\item 120\n",
       "\\item 122\n",
       "\\item 124\n",
       "\\item 126\n",
       "\\item 128\n",
       "\\item 130\n",
       "\\item 132\n",
       "\\item 134\n",
       "\\item 136\n",
       "\\item 138\n",
       "\\item 140\n",
       "\\item 142\n",
       "\\item 144\n",
       "\\item 146\n",
       "\\item 148\n",
       "\\item 150\n",
       "\\end{enumerate*}\n"
      ],
      "text/markdown": [
       "1. 52\n",
       "2. 54\n",
       "3. 56\n",
       "4. 58\n",
       "5. 60\n",
       "6. 62\n",
       "7. 64\n",
       "8. 66\n",
       "9. 68\n",
       "10. 70\n",
       "11. 72\n",
       "12. 74\n",
       "13. 76\n",
       "14. 78\n",
       "15. 80\n",
       "16. 82\n",
       "17. 84\n",
       "18. 86\n",
       "19. 88\n",
       "20. 90\n",
       "21. 92\n",
       "22. 94\n",
       "23. 96\n",
       "24. 98\n",
       "25. 100\n",
       "26. 102\n",
       "27. 104\n",
       "28. 106\n",
       "29. 108\n",
       "30. 110\n",
       "31. 112\n",
       "32. 114\n",
       "33. 116\n",
       "34. 118\n",
       "35. 120\n",
       "36. 122\n",
       "37. 124\n",
       "38. 126\n",
       "39. 128\n",
       "40. 130\n",
       "41. 132\n",
       "42. 134\n",
       "43. 136\n",
       "44. 138\n",
       "45. 140\n",
       "46. 142\n",
       "47. 144\n",
       "48. 146\n",
       "49. 148\n",
       "50. 150\n",
       "\n",
       "\n"
      ],
      "text/plain": [
       " [1]  52  54  56  58  60  62  64  66  68  70  72  74  76  78  80  82  84  86  88\n",
       "[20]  90  92  94  96  98 100 102 104 106 108 110 112 114 116 118 120 122 124 126\n",
       "[39] 128 130 132 134 136 138 140 142 144 146 148 150"
      ]
     },
     "metadata": {},
     "output_type": "display_data"
    }
   ],
   "source": [
    "d1 + d2"
   ]
  },
  {
   "cell_type": "code",
   "execution_count": 108,
   "id": "401cf204",
   "metadata": {},
   "outputs": [
    {
     "data": {
      "text/html": [
       "<style>\n",
       ".list-inline {list-style: none; margin:0; padding: 0}\n",
       ".list-inline>li {display: inline-block}\n",
       ".list-inline>li:not(:last-child)::after {content: \"\\00b7\"; padding: 0 .5ex}\n",
       "</style>\n",
       "<ol class=list-inline><li>50</li><li>50</li><li>50</li><li>50</li><li>50</li><li>50</li><li>50</li><li>50</li><li>50</li><li>50</li><li>50</li><li>50</li><li>50</li><li>50</li><li>50</li><li>50</li><li>50</li><li>50</li><li>50</li><li>50</li><li>50</li><li>50</li><li>50</li><li>50</li><li>50</li><li>50</li><li>50</li><li>50</li><li>50</li><li>50</li><li>50</li><li>50</li><li>50</li><li>50</li><li>50</li><li>50</li><li>50</li><li>50</li><li>50</li><li>50</li><li>50</li><li>50</li><li>50</li><li>50</li><li>50</li><li>50</li><li>50</li><li>50</li><li>50</li><li>50</li></ol>\n"
      ],
      "text/latex": [
       "\\begin{enumerate*}\n",
       "\\item 50\n",
       "\\item 50\n",
       "\\item 50\n",
       "\\item 50\n",
       "\\item 50\n",
       "\\item 50\n",
       "\\item 50\n",
       "\\item 50\n",
       "\\item 50\n",
       "\\item 50\n",
       "\\item 50\n",
       "\\item 50\n",
       "\\item 50\n",
       "\\item 50\n",
       "\\item 50\n",
       "\\item 50\n",
       "\\item 50\n",
       "\\item 50\n",
       "\\item 50\n",
       "\\item 50\n",
       "\\item 50\n",
       "\\item 50\n",
       "\\item 50\n",
       "\\item 50\n",
       "\\item 50\n",
       "\\item 50\n",
       "\\item 50\n",
       "\\item 50\n",
       "\\item 50\n",
       "\\item 50\n",
       "\\item 50\n",
       "\\item 50\n",
       "\\item 50\n",
       "\\item 50\n",
       "\\item 50\n",
       "\\item 50\n",
       "\\item 50\n",
       "\\item 50\n",
       "\\item 50\n",
       "\\item 50\n",
       "\\item 50\n",
       "\\item 50\n",
       "\\item 50\n",
       "\\item 50\n",
       "\\item 50\n",
       "\\item 50\n",
       "\\item 50\n",
       "\\item 50\n",
       "\\item 50\n",
       "\\item 50\n",
       "\\end{enumerate*}\n"
      ],
      "text/markdown": [
       "1. 50\n",
       "2. 50\n",
       "3. 50\n",
       "4. 50\n",
       "5. 50\n",
       "6. 50\n",
       "7. 50\n",
       "8. 50\n",
       "9. 50\n",
       "10. 50\n",
       "11. 50\n",
       "12. 50\n",
       "13. 50\n",
       "14. 50\n",
       "15. 50\n",
       "16. 50\n",
       "17. 50\n",
       "18. 50\n",
       "19. 50\n",
       "20. 50\n",
       "21. 50\n",
       "22. 50\n",
       "23. 50\n",
       "24. 50\n",
       "25. 50\n",
       "26. 50\n",
       "27. 50\n",
       "28. 50\n",
       "29. 50\n",
       "30. 50\n",
       "31. 50\n",
       "32. 50\n",
       "33. 50\n",
       "34. 50\n",
       "35. 50\n",
       "36. 50\n",
       "37. 50\n",
       "38. 50\n",
       "39. 50\n",
       "40. 50\n",
       "41. 50\n",
       "42. 50\n",
       "43. 50\n",
       "44. 50\n",
       "45. 50\n",
       "46. 50\n",
       "47. 50\n",
       "48. 50\n",
       "49. 50\n",
       "50. 50\n",
       "\n",
       "\n"
      ],
      "text/plain": [
       " [1] 50 50 50 50 50 50 50 50 50 50 50 50 50 50 50 50 50 50 50 50 50 50 50 50 50\n",
       "[26] 50 50 50 50 50 50 50 50 50 50 50 50 50 50 50 50 50 50 50 50 50 50 50 50 50"
      ]
     },
     "metadata": {},
     "output_type": "display_data"
    }
   ],
   "source": [
    "abs(d2-d1)"
   ]
  },
  {
   "cell_type": "code",
   "execution_count": 109,
   "id": "8052ee6b",
   "metadata": {},
   "outputs": [
    {
     "data": {
      "text/html": [
       "<style>\n",
       ".list-inline {list-style: none; margin:0; padding: 0}\n",
       ".list-inline>li {display: inline-block}\n",
       ".list-inline>li:not(:last-child)::after {content: \"\\00b7\"; padding: 0 .5ex}\n",
       "</style>\n",
       "<ol class=list-inline><li>51</li><li>104</li><li>159</li><li>216</li><li>275</li><li>336</li><li>399</li><li>464</li><li>531</li><li>600</li><li>671</li><li>744</li><li>819</li><li>896</li><li>975</li><li>1056</li><li>1139</li><li>1224</li><li>1311</li><li>1400</li><li>1491</li><li>1584</li><li>1679</li><li>1776</li><li>1875</li><li>1976</li><li>2079</li><li>2184</li><li>2291</li><li>2400</li><li>2511</li><li>2624</li><li>2739</li><li>2856</li><li>2975</li><li>3096</li><li>3219</li><li>3344</li><li>3471</li><li>3600</li><li>3731</li><li>3864</li><li>3999</li><li>4136</li><li>4275</li><li>4416</li><li>4559</li><li>4704</li><li>4851</li><li>5000</li></ol>\n"
      ],
      "text/latex": [
       "\\begin{enumerate*}\n",
       "\\item 51\n",
       "\\item 104\n",
       "\\item 159\n",
       "\\item 216\n",
       "\\item 275\n",
       "\\item 336\n",
       "\\item 399\n",
       "\\item 464\n",
       "\\item 531\n",
       "\\item 600\n",
       "\\item 671\n",
       "\\item 744\n",
       "\\item 819\n",
       "\\item 896\n",
       "\\item 975\n",
       "\\item 1056\n",
       "\\item 1139\n",
       "\\item 1224\n",
       "\\item 1311\n",
       "\\item 1400\n",
       "\\item 1491\n",
       "\\item 1584\n",
       "\\item 1679\n",
       "\\item 1776\n",
       "\\item 1875\n",
       "\\item 1976\n",
       "\\item 2079\n",
       "\\item 2184\n",
       "\\item 2291\n",
       "\\item 2400\n",
       "\\item 2511\n",
       "\\item 2624\n",
       "\\item 2739\n",
       "\\item 2856\n",
       "\\item 2975\n",
       "\\item 3096\n",
       "\\item 3219\n",
       "\\item 3344\n",
       "\\item 3471\n",
       "\\item 3600\n",
       "\\item 3731\n",
       "\\item 3864\n",
       "\\item 3999\n",
       "\\item 4136\n",
       "\\item 4275\n",
       "\\item 4416\n",
       "\\item 4559\n",
       "\\item 4704\n",
       "\\item 4851\n",
       "\\item 5000\n",
       "\\end{enumerate*}\n"
      ],
      "text/markdown": [
       "1. 51\n",
       "2. 104\n",
       "3. 159\n",
       "4. 216\n",
       "5. 275\n",
       "6. 336\n",
       "7. 399\n",
       "8. 464\n",
       "9. 531\n",
       "10. 600\n",
       "11. 671\n",
       "12. 744\n",
       "13. 819\n",
       "14. 896\n",
       "15. 975\n",
       "16. 1056\n",
       "17. 1139\n",
       "18. 1224\n",
       "19. 1311\n",
       "20. 1400\n",
       "21. 1491\n",
       "22. 1584\n",
       "23. 1679\n",
       "24. 1776\n",
       "25. 1875\n",
       "26. 1976\n",
       "27. 2079\n",
       "28. 2184\n",
       "29. 2291\n",
       "30. 2400\n",
       "31. 2511\n",
       "32. 2624\n",
       "33. 2739\n",
       "34. 2856\n",
       "35. 2975\n",
       "36. 3096\n",
       "37. 3219\n",
       "38. 3344\n",
       "39. 3471\n",
       "40. 3600\n",
       "41. 3731\n",
       "42. 3864\n",
       "43. 3999\n",
       "44. 4136\n",
       "45. 4275\n",
       "46. 4416\n",
       "47. 4559\n",
       "48. 4704\n",
       "49. 4851\n",
       "50. 5000\n",
       "\n",
       "\n"
      ],
      "text/plain": [
       " [1]   51  104  159  216  275  336  399  464  531  600  671  744  819  896  975\n",
       "[16] 1056 1139 1224 1311 1400 1491 1584 1679 1776 1875 1976 2079 2184 2291 2400\n",
       "[31] 2511 2624 2739 2856 2975 3096 3219 3344 3471 3600 3731 3864 3999 4136 4275\n",
       "[46] 4416 4559 4704 4851 5000"
      ]
     },
     "metadata": {},
     "output_type": "display_data"
    }
   ],
   "source": [
    "d1 * d2"
   ]
  },
  {
   "cell_type": "code",
   "execution_count": 110,
   "id": "2ed8aa0b",
   "metadata": {},
   "outputs": [
    {
     "data": {
      "text/html": [
       "<style>\n",
       ".list-inline {list-style: none; margin:0; padding: 0}\n",
       ".list-inline>li {display: inline-block}\n",
       ".list-inline>li:not(:last-child)::after {content: \"\\00b7\"; padding: 0 .5ex}\n",
       "</style>\n",
       "<ol class=list-inline><li>51</li><li>26</li><li>17.6666666666667</li><li>13.5</li><li>11</li><li>9.33333333333333</li><li>8.14285714285714</li><li>7.25</li><li>6.55555555555556</li><li>6</li><li>5.54545454545455</li><li>5.16666666666667</li><li>4.84615384615385</li><li>4.57142857142857</li><li>4.33333333333333</li><li>4.125</li><li>3.94117647058824</li><li>3.77777777777778</li><li>3.63157894736842</li><li>3.5</li><li>3.38095238095238</li><li>3.27272727272727</li><li>3.17391304347826</li><li>3.08333333333333</li><li>3</li><li>2.92307692307692</li><li>2.85185185185185</li><li>2.78571428571429</li><li>2.72413793103448</li><li>2.66666666666667</li><li>2.61290322580645</li><li>2.5625</li><li>2.51515151515152</li><li>2.47058823529412</li><li>2.42857142857143</li><li>2.38888888888889</li><li>2.35135135135135</li><li>2.31578947368421</li><li>2.28205128205128</li><li>2.25</li><li>2.21951219512195</li><li>2.19047619047619</li><li>2.16279069767442</li><li>2.13636363636364</li><li>2.11111111111111</li><li>2.08695652173913</li><li>2.06382978723404</li><li>2.04166666666667</li><li>2.02040816326531</li><li>2</li></ol>\n"
      ],
      "text/latex": [
       "\\begin{enumerate*}\n",
       "\\item 51\n",
       "\\item 26\n",
       "\\item 17.6666666666667\n",
       "\\item 13.5\n",
       "\\item 11\n",
       "\\item 9.33333333333333\n",
       "\\item 8.14285714285714\n",
       "\\item 7.25\n",
       "\\item 6.55555555555556\n",
       "\\item 6\n",
       "\\item 5.54545454545455\n",
       "\\item 5.16666666666667\n",
       "\\item 4.84615384615385\n",
       "\\item 4.57142857142857\n",
       "\\item 4.33333333333333\n",
       "\\item 4.125\n",
       "\\item 3.94117647058824\n",
       "\\item 3.77777777777778\n",
       "\\item 3.63157894736842\n",
       "\\item 3.5\n",
       "\\item 3.38095238095238\n",
       "\\item 3.27272727272727\n",
       "\\item 3.17391304347826\n",
       "\\item 3.08333333333333\n",
       "\\item 3\n",
       "\\item 2.92307692307692\n",
       "\\item 2.85185185185185\n",
       "\\item 2.78571428571429\n",
       "\\item 2.72413793103448\n",
       "\\item 2.66666666666667\n",
       "\\item 2.61290322580645\n",
       "\\item 2.5625\n",
       "\\item 2.51515151515152\n",
       "\\item 2.47058823529412\n",
       "\\item 2.42857142857143\n",
       "\\item 2.38888888888889\n",
       "\\item 2.35135135135135\n",
       "\\item 2.31578947368421\n",
       "\\item 2.28205128205128\n",
       "\\item 2.25\n",
       "\\item 2.21951219512195\n",
       "\\item 2.19047619047619\n",
       "\\item 2.16279069767442\n",
       "\\item 2.13636363636364\n",
       "\\item 2.11111111111111\n",
       "\\item 2.08695652173913\n",
       "\\item 2.06382978723404\n",
       "\\item 2.04166666666667\n",
       "\\item 2.02040816326531\n",
       "\\item 2\n",
       "\\end{enumerate*}\n"
      ],
      "text/markdown": [
       "1. 51\n",
       "2. 26\n",
       "3. 17.6666666666667\n",
       "4. 13.5\n",
       "5. 11\n",
       "6. 9.33333333333333\n",
       "7. 8.14285714285714\n",
       "8. 7.25\n",
       "9. 6.55555555555556\n",
       "10. 6\n",
       "11. 5.54545454545455\n",
       "12. 5.16666666666667\n",
       "13. 4.84615384615385\n",
       "14. 4.57142857142857\n",
       "15. 4.33333333333333\n",
       "16. 4.125\n",
       "17. 3.94117647058824\n",
       "18. 3.77777777777778\n",
       "19. 3.63157894736842\n",
       "20. 3.5\n",
       "21. 3.38095238095238\n",
       "22. 3.27272727272727\n",
       "23. 3.17391304347826\n",
       "24. 3.08333333333333\n",
       "25. 3\n",
       "26. 2.92307692307692\n",
       "27. 2.85185185185185\n",
       "28. 2.78571428571429\n",
       "29. 2.72413793103448\n",
       "30. 2.66666666666667\n",
       "31. 2.61290322580645\n",
       "32. 2.5625\n",
       "33. 2.51515151515152\n",
       "34. 2.47058823529412\n",
       "35. 2.42857142857143\n",
       "36. 2.38888888888889\n",
       "37. 2.35135135135135\n",
       "38. 2.31578947368421\n",
       "39. 2.28205128205128\n",
       "40. 2.25\n",
       "41. 2.21951219512195\n",
       "42. 2.19047619047619\n",
       "43. 2.16279069767442\n",
       "44. 2.13636363636364\n",
       "45. 2.11111111111111\n",
       "46. 2.08695652173913\n",
       "47. 2.06382978723404\n",
       "48. 2.04166666666667\n",
       "49. 2.02040816326531\n",
       "50. 2\n",
       "\n",
       "\n"
      ],
      "text/plain": [
       " [1] 51.000000 26.000000 17.666667 13.500000 11.000000  9.333333  8.142857\n",
       " [8]  7.250000  6.555556  6.000000  5.545455  5.166667  4.846154  4.571429\n",
       "[15]  4.333333  4.125000  3.941176  3.777778  3.631579  3.500000  3.380952\n",
       "[22]  3.272727  3.173913  3.083333  3.000000  2.923077  2.851852  2.785714\n",
       "[29]  2.724138  2.666667  2.612903  2.562500  2.515152  2.470588  2.428571\n",
       "[36]  2.388889  2.351351  2.315789  2.282051  2.250000  2.219512  2.190476\n",
       "[43]  2.162791  2.136364  2.111111  2.086957  2.063830  2.041667  2.020408\n",
       "[50]  2.000000"
      ]
     },
     "metadata": {},
     "output_type": "display_data"
    }
   ],
   "source": [
    "d2 / d1"
   ]
  },
  {
   "cell_type": "code",
   "execution_count": 111,
   "id": "dcbf57a7",
   "metadata": {},
   "outputs": [
    {
     "data": {
      "text/html": [
       "1275"
      ],
      "text/latex": [
       "1275"
      ],
      "text/markdown": [
       "1275"
      ],
      "text/plain": [
       "[1] 1275"
      ]
     },
     "metadata": {},
     "output_type": "display_data"
    },
    {
     "data": {
      "text/html": [
       "3775"
      ],
      "text/latex": [
       "3775"
      ],
      "text/markdown": [
       "3775"
      ],
      "text/plain": [
       "[1] 3775"
      ]
     },
     "metadata": {},
     "output_type": "display_data"
    }
   ],
   "source": [
    "sum(d1)\n",
    "sum(d2)"
   ]
  },
  {
   "cell_type": "code",
   "execution_count": 112,
   "id": "e50d4635",
   "metadata": {},
   "outputs": [
    {
     "data": {
      "text/html": [
       "100"
      ],
      "text/latex": [
       "100"
      ],
      "text/markdown": [
       "100"
      ],
      "text/plain": [
       "[1] 100"
      ]
     },
     "metadata": {},
     "output_type": "display_data"
    }
   ],
   "source": [
    "max(d2)"
   ]
  },
  {
   "cell_type": "code",
   "execution_count": 113,
   "id": "a29c980e",
   "metadata": {},
   "outputs": [
    {
     "data": {
      "text/html": [
       "51"
      ],
      "text/latex": [
       "51"
      ],
      "text/markdown": [
       "51"
      ],
      "text/plain": [
       "[1] 51"
      ]
     },
     "metadata": {},
     "output_type": "display_data"
    }
   ],
   "source": [
    "min(d2)"
   ]
  },
  {
   "cell_type": "code",
   "execution_count": 114,
   "id": "8336db76",
   "metadata": {},
   "outputs": [
    {
     "data": {
      "text/html": [
       "50"
      ],
      "text/latex": [
       "50"
      ],
      "text/markdown": [
       "50"
      ],
      "text/plain": [
       "[1] 50"
      ]
     },
     "metadata": {},
     "output_type": "display_data"
    }
   ],
   "source": [
    "mean(d2) - mean(d1)"
   ]
  },
  {
   "cell_type": "code",
   "execution_count": 115,
   "id": "6d76da96",
   "metadata": {},
   "outputs": [
    {
     "data": {
      "text/html": [
       "<style>\n",
       ".list-inline {list-style: none; margin:0; padding: 0}\n",
       ".list-inline>li {display: inline-block}\n",
       ".list-inline>li:not(:last-child)::after {content: \"\\00b7\"; padding: 0 .5ex}\n",
       "</style>\n",
       "<ol class=list-inline><li>50</li><li>49</li><li>48</li><li>47</li><li>46</li><li>45</li><li>44</li><li>43</li><li>42</li><li>41</li><li>40</li><li>39</li><li>38</li><li>37</li><li>36</li><li>35</li><li>34</li><li>33</li><li>32</li><li>31</li><li>30</li><li>29</li><li>28</li><li>27</li><li>26</li><li>25</li><li>24</li><li>23</li><li>22</li><li>21</li><li>20</li><li>19</li><li>18</li><li>17</li><li>16</li><li>15</li><li>14</li><li>13</li><li>12</li><li>11</li><li>10</li><li>9</li><li>8</li><li>7</li><li>6</li><li>5</li><li>4</li><li>3</li><li>2</li><li>1</li></ol>\n"
      ],
      "text/latex": [
       "\\begin{enumerate*}\n",
       "\\item 50\n",
       "\\item 49\n",
       "\\item 48\n",
       "\\item 47\n",
       "\\item 46\n",
       "\\item 45\n",
       "\\item 44\n",
       "\\item 43\n",
       "\\item 42\n",
       "\\item 41\n",
       "\\item 40\n",
       "\\item 39\n",
       "\\item 38\n",
       "\\item 37\n",
       "\\item 36\n",
       "\\item 35\n",
       "\\item 34\n",
       "\\item 33\n",
       "\\item 32\n",
       "\\item 31\n",
       "\\item 30\n",
       "\\item 29\n",
       "\\item 28\n",
       "\\item 27\n",
       "\\item 26\n",
       "\\item 25\n",
       "\\item 24\n",
       "\\item 23\n",
       "\\item 22\n",
       "\\item 21\n",
       "\\item 20\n",
       "\\item 19\n",
       "\\item 18\n",
       "\\item 17\n",
       "\\item 16\n",
       "\\item 15\n",
       "\\item 14\n",
       "\\item 13\n",
       "\\item 12\n",
       "\\item 11\n",
       "\\item 10\n",
       "\\item 9\n",
       "\\item 8\n",
       "\\item 7\n",
       "\\item 6\n",
       "\\item 5\n",
       "\\item 4\n",
       "\\item 3\n",
       "\\item 2\n",
       "\\item 1\n",
       "\\end{enumerate*}\n"
      ],
      "text/markdown": [
       "1. 50\n",
       "2. 49\n",
       "3. 48\n",
       "4. 47\n",
       "5. 46\n",
       "6. 45\n",
       "7. 44\n",
       "8. 43\n",
       "9. 42\n",
       "10. 41\n",
       "11. 40\n",
       "12. 39\n",
       "13. 38\n",
       "14. 37\n",
       "15. 36\n",
       "16. 35\n",
       "17. 34\n",
       "18. 33\n",
       "19. 32\n",
       "20. 31\n",
       "21. 30\n",
       "22. 29\n",
       "23. 28\n",
       "24. 27\n",
       "25. 26\n",
       "26. 25\n",
       "27. 24\n",
       "28. 23\n",
       "29. 22\n",
       "30. 21\n",
       "31. 20\n",
       "32. 19\n",
       "33. 18\n",
       "34. 17\n",
       "35. 16\n",
       "36. 15\n",
       "37. 14\n",
       "38. 13\n",
       "39. 12\n",
       "40. 11\n",
       "41. 10\n",
       "42. 9\n",
       "43. 8\n",
       "44. 7\n",
       "45. 6\n",
       "46. 5\n",
       "47. 4\n",
       "48. 3\n",
       "49. 2\n",
       "50. 1\n",
       "\n",
       "\n"
      ],
      "text/plain": [
       " [1] 50 49 48 47 46 45 44 43 42 41 40 39 38 37 36 35 34 33 32 31 30 29 28 27 26\n",
       "[26] 25 24 23 22 21 20 19 18 17 16 15 14 13 12 11 10  9  8  7  6  5  4  3  2  1"
      ]
     },
     "metadata": {},
     "output_type": "display_data"
    }
   ],
   "source": [
    "sort(d1, T)"
   ]
  },
  {
   "cell_type": "code",
   "execution_count": 116,
   "id": "6cb656b2",
   "metadata": {},
   "outputs": [],
   "source": [
    "d3 <- c(d1[1:10], d2[1:10])"
   ]
  },
  {
   "cell_type": "code",
   "execution_count": 117,
   "id": "44b5e6b6",
   "metadata": {},
   "outputs": [
    {
     "data": {
      "text/html": [
       "<style>\n",
       ".list-inline {list-style: none; margin:0; padding: 0}\n",
       ".list-inline>li {display: inline-block}\n",
       ".list-inline>li:not(:last-child)::after {content: \"\\00b7\"; padding: 0 .5ex}\n",
       "</style>\n",
       "<ol class=list-inline><li>1</li><li>2</li><li>3</li><li>4</li><li>5</li><li>6</li><li>7</li><li>8</li><li>9</li><li>10</li><li>51</li><li>52</li><li>53</li><li>54</li><li>55</li><li>56</li><li>57</li><li>58</li><li>59</li><li>60</li></ol>\n"
      ],
      "text/latex": [
       "\\begin{enumerate*}\n",
       "\\item 1\n",
       "\\item 2\n",
       "\\item 3\n",
       "\\item 4\n",
       "\\item 5\n",
       "\\item 6\n",
       "\\item 7\n",
       "\\item 8\n",
       "\\item 9\n",
       "\\item 10\n",
       "\\item 51\n",
       "\\item 52\n",
       "\\item 53\n",
       "\\item 54\n",
       "\\item 55\n",
       "\\item 56\n",
       "\\item 57\n",
       "\\item 58\n",
       "\\item 59\n",
       "\\item 60\n",
       "\\end{enumerate*}\n"
      ],
      "text/markdown": [
       "1. 1\n",
       "2. 2\n",
       "3. 3\n",
       "4. 4\n",
       "5. 5\n",
       "6. 6\n",
       "7. 7\n",
       "8. 8\n",
       "9. 9\n",
       "10. 10\n",
       "11. 51\n",
       "12. 52\n",
       "13. 53\n",
       "14. 54\n",
       "15. 55\n",
       "16. 56\n",
       "17. 57\n",
       "18. 58\n",
       "19. 59\n",
       "20. 60\n",
       "\n",
       "\n"
      ],
      "text/plain": [
       " [1]  1  2  3  4  5  6  7  8  9 10 51 52 53 54 55 56 57 58 59 60"
      ]
     },
     "metadata": {},
     "output_type": "display_data"
    }
   ],
   "source": [
    "d3"
   ]
  },
  {
   "cell_type": "code",
   "execution_count": 119,
   "id": "8542c715",
   "metadata": {},
   "outputs": [],
   "source": [
    "a <- c('Korea', 'Japan', 'China', 'Korea', 'India', 'China', 'Korea')\n",
    "f <- factor(a)"
   ]
  },
  {
   "cell_type": "code",
   "execution_count": 120,
   "id": "c9d05ba7",
   "metadata": {},
   "outputs": [
    {
     "data": {
      "text/html": [
       "Korea\n",
       "<details>\n",
       "\t<summary style=display:list-item;cursor:pointer>\n",
       "\t\t<strong>Levels</strong>:\n",
       "\t</summary>\n",
       "\t<style>\n",
       "\t.list-inline {list-style: none; margin:0; padding: 0}\n",
       "\t.list-inline>li {display: inline-block}\n",
       "\t.list-inline>li:not(:last-child)::after {content: \"\\00b7\"; padding: 0 .5ex}\n",
       "\t</style>\n",
       "\t<ol class=list-inline><li>'China'</li><li>'India'</li><li>'Japan'</li><li>'Korea'</li></ol>\n",
       "</details>"
      ],
      "text/latex": [
       "Korea\n",
       "\\emph{Levels}: \\begin{enumerate*}\n",
       "\\item 'China'\n",
       "\\item 'India'\n",
       "\\item 'Japan'\n",
       "\\item 'Korea'\n",
       "\\end{enumerate*}\n"
      ],
      "text/markdown": [
       "Korea\n",
       "**Levels**: 1. 'China'\n",
       "2. 'India'\n",
       "3. 'Japan'\n",
       "4. 'Korea'\n",
       "\n",
       "\n"
      ],
      "text/plain": [
       "[1] Korea\n",
       "Levels: China India Japan Korea"
      ]
     },
     "metadata": {},
     "output_type": "display_data"
    }
   ],
   "source": [
    "f[[4]]"
   ]
  },
  {
   "cell_type": "code",
   "execution_count": 121,
   "id": "f01ccb12",
   "metadata": {},
   "outputs": [
    {
     "data": {
      "text/html": [
       "<style>\n",
       ".list-inline {list-style: none; margin:0; padding: 0}\n",
       ".list-inline>li {display: inline-block}\n",
       ".list-inline>li:not(:last-child)::after {content: \"\\00b7\"; padding: 0 .5ex}\n",
       "</style>\n",
       "<ol class=list-inline><li>'China'</li><li>'India'</li><li>'Japan'</li><li>'Korea'</li></ol>\n"
      ],
      "text/latex": [
       "\\begin{enumerate*}\n",
       "\\item 'China'\n",
       "\\item 'India'\n",
       "\\item 'Japan'\n",
       "\\item 'Korea'\n",
       "\\end{enumerate*}\n"
      ],
      "text/markdown": [
       "1. 'China'\n",
       "2. 'India'\n",
       "3. 'Japan'\n",
       "4. 'Korea'\n",
       "\n",
       "\n"
      ],
      "text/plain": [
       "[1] \"China\" \"India\" \"Japan\" \"Korea\""
      ]
     },
     "metadata": {},
     "output_type": "display_data"
    }
   ],
   "source": [
    "levels(f[4])"
   ]
  },
  {
   "cell_type": "code",
   "execution_count": 122,
   "id": "1637b6fe",
   "metadata": {},
   "outputs": [
    {
     "data": {
      "text/html": [
       "Korea\n",
       "<details>\n",
       "\t<summary style=display:list-item;cursor:pointer>\n",
       "\t\t<strong>Levels</strong>:\n",
       "\t</summary>\n",
       "\t<style>\n",
       "\t.list-inline {list-style: none; margin:0; padding: 0}\n",
       "\t.list-inline>li {display: inline-block}\n",
       "\t.list-inline>li:not(:last-child)::after {content: \"\\00b7\"; padding: 0 .5ex}\n",
       "\t</style>\n",
       "\t<ol class=list-inline><li>'China'</li><li>'India'</li><li>'Japan'</li><li>'Korea'</li></ol>\n",
       "</details>"
      ],
      "text/latex": [
       "Korea\n",
       "\\emph{Levels}: \\begin{enumerate*}\n",
       "\\item 'China'\n",
       "\\item 'India'\n",
       "\\item 'Japan'\n",
       "\\item 'Korea'\n",
       "\\end{enumerate*}\n"
      ],
      "text/markdown": [
       "Korea\n",
       "**Levels**: 1. 'China'\n",
       "2. 'India'\n",
       "3. 'Japan'\n",
       "4. 'Korea'\n",
       "\n",
       "\n"
      ],
      "text/plain": [
       "[1] Korea\n",
       "Levels: China India Japan Korea"
      ]
     },
     "metadata": {},
     "output_type": "display_data"
    }
   ],
   "source": [
    "unique(f[4])"
   ]
  },
  {
   "cell_type": "code",
   "execution_count": 123,
   "id": "eaf483ff",
   "metadata": {},
   "outputs": [
    {
     "data": {
      "text/plain": [
       "\n",
       "China India Japan Korea \n",
       "    0     0     0     1 "
      ]
     },
     "metadata": {},
     "output_type": "display_data"
    }
   ],
   "source": [
    "table(f[4])"
   ]
  },
  {
   "cell_type": "code",
   "execution_count": 125,
   "id": "805fecc6",
   "metadata": {},
   "outputs": [
    {
     "data": {
      "text/html": [
       "4"
      ],
      "text/latex": [
       "4"
      ],
      "text/markdown": [
       "4"
      ],
      "text/plain": [
       "[1] 4"
      ]
     },
     "metadata": {},
     "output_type": "display_data"
    }
   ],
   "source": [
    "as.integer(f[4])"
   ]
  },
  {
   "cell_type": "code",
   "execution_count": 126,
   "id": "e0b2434a",
   "metadata": {},
   "outputs": [
    {
     "data": {
      "text/html": [
       "'integer'"
      ],
      "text/latex": [
       "'integer'"
      ],
      "text/markdown": [
       "'integer'"
      ],
      "text/plain": [
       "[1] \"integer\""
      ]
     },
     "metadata": {},
     "output_type": "display_data"
    }
   ],
   "source": [
    "class(as.integer(f[4]))"
   ]
  }
 ],
 "metadata": {
  "kernelspec": {
   "display_name": "R",
   "language": "R",
   "name": "ir"
  },
  "language_info": {
   "codemirror_mode": "r",
   "file_extension": ".r",
   "mimetype": "text/x-r-source",
   "name": "R",
   "pygments_lexer": "r",
   "version": "4.3.1"
  }
 },
 "nbformat": 4,
 "nbformat_minor": 5
}
