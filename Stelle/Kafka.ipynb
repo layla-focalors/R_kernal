{
 "cells": [
  {
   "cell_type": "code",
   "execution_count": 1,
   "id": "df012b2f",
   "metadata": {},
   "outputs": [],
   "source": [
    "grade <- 100\n",
    "if(grade >= 90){\n",
    "    level <- 'A'\n",
    "}else if(grade >= 80){\n",
    "    level <- 'B'\n",
    "}else if(grade >= 70){\n",
    "    level <- 'C'\n",
    "}else if(grade >= 60){\n",
    "    level <- 'D'\n",
    "}else{\n",
    "    level <- 'F'\n",
    "}"
   ]
  },
  {
   "cell_type": "code",
   "execution_count": 2,
   "id": "8a5d1018",
   "metadata": {},
   "outputs": [
    {
     "data": {
      "text/html": [
       "'A'"
      ],
      "text/latex": [
       "'A'"
      ],
      "text/markdown": [
       "'A'"
      ],
      "text/plain": [
       "[1] \"A\""
      ]
     },
     "metadata": {},
     "output_type": "display_data"
    }
   ],
   "source": [
    "level"
   ]
  },
  {
   "cell_type": "code",
   "execution_count": 3,
   "id": "d841047f",
   "metadata": {},
   "outputs": [
    {
     "data": {
      "text/html": [
       "100"
      ],
      "text/latex": [
       "100"
      ],
      "text/markdown": [
       "100"
      ],
      "text/plain": [
       "[1] 100"
      ]
     },
     "metadata": {},
     "output_type": "display_data"
    }
   ],
   "source": [
    "grade"
   ]
  },
  {
   "cell_type": "code",
   "execution_count": 4,
   "id": "31d873f8",
   "metadata": {},
   "outputs": [
    {
     "name": "stdout",
     "output_type": "stream",
     "text": [
      "[1] \"*\"\n",
      "[1] \"*\"\n",
      "[1] \"*\"\n",
      "[1] \"*\"\n",
      "[1] \"*\"\n"
     ]
    }
   ],
   "source": [
    "for(i in 1:5){\n",
    "    print(\"*\")\n",
    "}"
   ]
  },
  {
   "cell_type": "code",
   "execution_count": 10,
   "id": "6c21da7d",
   "metadata": {},
   "outputs": [
    {
     "name": "stdout",
     "output_type": "stream",
     "text": [
      "*\n",
      "**\n",
      "***\n",
      "****\n",
      "*****\n",
      "******\n",
      "*******\n",
      "********\n",
      "*********\n",
      "**********\n",
      "***********\n",
      "************\n",
      "*************\n",
      "**************\n",
      "***************\n",
      "****************\n",
      "*****************\n",
      "******************\n",
      "*******************\n",
      "********************\n"
     ]
    }
   ],
   "source": [
    "for(i in 1:20){\n",
    "    for(j in 1:i){\n",
    "        cat(\"*\")\n",
    "    }\n",
    "    cat(\"\\n\")\n",
    "}"
   ]
  },
  {
   "cell_type": "code",
   "execution_count": 13,
   "id": "014a929e",
   "metadata": {},
   "outputs": [
    {
     "name": "stdout",
     "output_type": "stream",
     "text": [
      "1 x 1 = 1 \n",
      "1 x 2 = 2 \n",
      "1 x 3 = 3 \n",
      "1 x 4 = 4 \n",
      "1 x 5 = 5 \n",
      "1 x 6 = 6 \n",
      "1 x 7 = 7 \n",
      "1 x 8 = 8 \n",
      "1 x 9 = 9 \n",
      "2 x 1 = 2 \n",
      "2 x 2 = 4 \n",
      "2 x 3 = 6 \n",
      "2 x 4 = 8 \n",
      "2 x 5 = 10 \n",
      "2 x 6 = 12 \n",
      "2 x 7 = 14 \n",
      "2 x 8 = 16 \n",
      "2 x 9 = 18 \n",
      "3 x 1 = 3 \n",
      "3 x 2 = 6 \n",
      "3 x 3 = 9 \n",
      "3 x 4 = 12 \n",
      "3 x 5 = 15 \n",
      "3 x 6 = 18 \n",
      "3 x 7 = 21 \n",
      "3 x 8 = 24 \n",
      "3 x 9 = 27 \n",
      "4 x 1 = 4 \n",
      "4 x 2 = 8 \n",
      "4 x 3 = 12 \n",
      "4 x 4 = 16 \n",
      "4 x 5 = 20 \n",
      "4 x 6 = 24 \n",
      "4 x 7 = 28 \n",
      "4 x 8 = 32 \n",
      "4 x 9 = 36 \n",
      "5 x 1 = 5 \n",
      "5 x 2 = 10 \n",
      "5 x 3 = 15 \n",
      "5 x 4 = 20 \n",
      "5 x 5 = 25 \n",
      "5 x 6 = 30 \n",
      "5 x 7 = 35 \n",
      "5 x 8 = 40 \n",
      "5 x 9 = 45 \n",
      "6 x 1 = 6 \n",
      "6 x 2 = 12 \n",
      "6 x 3 = 18 \n",
      "6 x 4 = 24 \n",
      "6 x 5 = 30 \n",
      "6 x 6 = 36 \n",
      "6 x 7 = 42 \n",
      "6 x 8 = 48 \n",
      "6 x 9 = 54 \n",
      "7 x 1 = 7 \n",
      "7 x 2 = 14 \n",
      "7 x 3 = 21 \n",
      "7 x 4 = 28 \n",
      "7 x 5 = 35 \n",
      "7 x 6 = 42 \n",
      "7 x 7 = 49 \n",
      "7 x 8 = 56 \n",
      "7 x 9 = 63 \n",
      "8 x 1 = 8 \n",
      "8 x 2 = 16 \n",
      "8 x 3 = 24 \n",
      "8 x 4 = 32 \n",
      "8 x 5 = 40 \n",
      "8 x 6 = 48 \n",
      "8 x 7 = 56 \n",
      "8 x 8 = 64 \n",
      "8 x 9 = 72 \n",
      "9 x 1 = 9 \n",
      "9 x 2 = 18 \n",
      "9 x 3 = 27 \n",
      "9 x 4 = 36 \n",
      "9 x 5 = 45 \n",
      "9 x 6 = 54 \n",
      "9 x 7 = 63 \n",
      "9 x 8 = 72 \n",
      "9 x 9 = 81 \n"
     ]
    }
   ],
   "source": [
    "for(i in 1:9){\n",
    "    for(j in 1:9){\n",
    "        cat(i, \"x\", j, '=', i * j, '\\n')\n",
    "    }\n",
    "}"
   ]
  },
  {
   "cell_type": "code",
   "execution_count": 14,
   "id": "51943630",
   "metadata": {},
   "outputs": [],
   "source": [
    "sum <- 0\n",
    "for(i in 1:100){\n",
    "    sum <- sum + i\n",
    "}"
   ]
  },
  {
   "cell_type": "code",
   "execution_count": 15,
   "id": "71296199",
   "metadata": {},
   "outputs": [
    {
     "data": {
      "text/html": [
       "5050"
      ],
      "text/latex": [
       "5050"
      ],
      "text/markdown": [
       "5050"
      ],
      "text/plain": [
       "[1] 5050"
      ]
     },
     "metadata": {},
     "output_type": "display_data"
    }
   ],
   "source": [
    "sum"
   ]
  },
  {
   "cell_type": "code",
   "execution_count": 16,
   "id": "a210747e",
   "metadata": {},
   "outputs": [],
   "source": [
    "count <- 0\n",
    "mx <- 0\n",
    "for(i in 1:100){\n",
    "    if(i%%3 == 0){\n",
    "        mx <- mx + i\n",
    "        count <- count + 1\n",
    "    }\n",
    "}"
   ]
  },
  {
   "cell_type": "code",
   "execution_count": 17,
   "id": "844ce8e3",
   "metadata": {},
   "outputs": [
    {
     "data": {
      "text/html": [
       "1683"
      ],
      "text/latex": [
       "1683"
      ],
      "text/markdown": [
       "1683"
      ],
      "text/plain": [
       "[1] 1683"
      ]
     },
     "metadata": {},
     "output_type": "display_data"
    },
    {
     "data": {
      "text/html": [
       "33"
      ],
      "text/latex": [
       "33"
      ],
      "text/markdown": [
       "33"
      ],
      "text/plain": [
       "[1] 33"
      ]
     },
     "metadata": {},
     "output_type": "display_data"
    }
   ],
   "source": [
    "mx\n",
    "count"
   ]
  },
  {
   "cell_type": "code",
   "execution_count": 18,
   "id": "05f5e1f8",
   "metadata": {},
   "outputs": [
    {
     "data": {
      "text/html": [
       "<table class=\"dataframe\">\n",
       "<caption>A data.frame: 7 × 3</caption>\n",
       "<thead>\n",
       "\t<tr><th scope=col>number</th><th scope=col>title</th><th scope=col>live</th></tr>\n",
       "\t<tr><th scope=col>&lt;int&gt;</th><th scope=col>&lt;chr&gt;</th><th scope=col>&lt;dbl&gt;</th></tr>\n",
       "</thead>\n",
       "<tbody>\n",
       "\t<tr><td>1</td><td>그대랑</td><td>16075</td></tr>\n",
       "\t<tr><td>2</td><td>다툼  </td><td> 8218</td></tr>\n",
       "\t<tr><td>3</td><td>빨래  </td><td>12119</td></tr>\n",
       "\t<tr><td>4</td><td>두통  </td><td>  738</td></tr>\n",
       "\t<tr><td>5</td><td>보조개</td><td> 3200</td></tr>\n",
       "\t<tr><td>6</td><td>매듭  </td><td>16144</td></tr>\n",
       "\t<tr><td>7</td><td>이상해</td><td> 5110</td></tr>\n",
       "</tbody>\n",
       "</table>\n"
      ],
      "text/latex": [
       "A data.frame: 7 × 3\n",
       "\\begin{tabular}{lll}\n",
       " number & title & live\\\\\n",
       " <int> & <chr> & <dbl>\\\\\n",
       "\\hline\n",
       "\t 1 & 그대랑 & 16075\\\\\n",
       "\t 2 & 다툼   &  8218\\\\\n",
       "\t 3 & 빨래   & 12119\\\\\n",
       "\t 4 & 두통   &   738\\\\\n",
       "\t 5 & 보조개 &  3200\\\\\n",
       "\t 6 & 매듭   & 16144\\\\\n",
       "\t 7 & 이상해 &  5110\\\\\n",
       "\\end{tabular}\n"
      ],
      "text/markdown": [
       "\n",
       "A data.frame: 7 × 3\n",
       "\n",
       "| number &lt;int&gt; | title &lt;chr&gt; | live &lt;dbl&gt; |\n",
       "|---|---|---|\n",
       "| 1 | 그대랑 | 16075 |\n",
       "| 2 | 다툼   |  8218 |\n",
       "| 3 | 빨래   | 12119 |\n",
       "| 4 | 두통   |   738 |\n",
       "| 5 | 보조개 |  3200 |\n",
       "| 6 | 매듭   | 16144 |\n",
       "| 7 | 이상해 |  5110 |\n",
       "\n"
      ],
      "text/plain": [
       "  number title  live \n",
       "1 1      그대랑 16075\n",
       "2 2      다툼    8218\n",
       "3 3      빨래   12119\n",
       "4 4      두통     738\n",
       "5 5      보조개  3200\n",
       "6 6      매듭   16144\n",
       "7 7      이상해  5110"
      ]
     },
     "metadata": {},
     "output_type": "display_data"
    }
   ],
   "source": [
    "number <- 1:7\n",
    "title <- c('그대랑', '다툼', '빨래', '두통', '보조개', '매듭', '이상해')\n",
    "live <- c(16075, 8218, 12119, 738, 3200, 16144, 5110)\n",
    "love <- data.frame(number, title, live)\n",
    "love"
   ]
  },
  {
   "cell_type": "code",
   "execution_count": 25,
   "id": "859ef39a",
   "metadata": {},
   "outputs": [
    {
     "data": {
      "text/html": [
       "<table class=\"dataframe\">\n",
       "<caption>A data.frame: 7 × 1</caption>\n",
       "<thead>\n",
       "\t<tr><th scope=col>live</th></tr>\n",
       "\t<tr><th scope=col>&lt;dbl&gt;</th></tr>\n",
       "</thead>\n",
       "<tbody>\n",
       "\t<tr><td>16075</td></tr>\n",
       "\t<tr><td> 8218</td></tr>\n",
       "\t<tr><td>12119</td></tr>\n",
       "\t<tr><td>  738</td></tr>\n",
       "\t<tr><td> 3200</td></tr>\n",
       "\t<tr><td>16144</td></tr>\n",
       "\t<tr><td> 5110</td></tr>\n",
       "</tbody>\n",
       "</table>\n"
      ],
      "text/latex": [
       "A data.frame: 7 × 1\n",
       "\\begin{tabular}{l}\n",
       " live\\\\\n",
       " <dbl>\\\\\n",
       "\\hline\n",
       "\t 16075\\\\\n",
       "\t  8218\\\\\n",
       "\t 12119\\\\\n",
       "\t   738\\\\\n",
       "\t  3200\\\\\n",
       "\t 16144\\\\\n",
       "\t  5110\\\\\n",
       "\\end{tabular}\n"
      ],
      "text/markdown": [
       "\n",
       "A data.frame: 7 × 1\n",
       "\n",
       "| live &lt;dbl&gt; |\n",
       "|---|\n",
       "| 16075 |\n",
       "|  8218 |\n",
       "| 12119 |\n",
       "|   738 |\n",
       "|  3200 |\n",
       "| 16144 |\n",
       "|  5110 |\n",
       "\n"
      ],
      "text/plain": [
       "  live \n",
       "1 16075\n",
       "2  8218\n",
       "3 12119\n",
       "4   738\n",
       "5  3200\n",
       "6 16144\n",
       "7  5110"
      ]
     },
     "metadata": {},
     "output_type": "display_data"
    }
   ],
   "source": [
    "love['live']"
   ]
  },
  {
   "cell_type": "code",
   "execution_count": 26,
   "id": "b24224c6",
   "metadata": {},
   "outputs": [
    {
     "data": {
      "text/html": [
       "16144"
      ],
      "text/latex": [
       "16144"
      ],
      "text/markdown": [
       "16144"
      ],
      "text/plain": [
       "[1] 16144"
      ]
     },
     "metadata": {},
     "output_type": "display_data"
    }
   ],
   "source": [
    "max(love['live'])"
   ]
  },
  {
   "cell_type": "code",
   "execution_count": 29,
   "id": "5d21b2be",
   "metadata": {},
   "outputs": [
    {
     "data": {
      "text/html": [
       "<table class=\"dataframe\">\n",
       "<caption>A data.frame: 1 × 3</caption>\n",
       "<thead>\n",
       "\t<tr><th></th><th scope=col>number</th><th scope=col>title</th><th scope=col>live</th></tr>\n",
       "\t<tr><th></th><th scope=col>&lt;int&gt;</th><th scope=col>&lt;chr&gt;</th><th scope=col>&lt;dbl&gt;</th></tr>\n",
       "</thead>\n",
       "<tbody>\n",
       "\t<tr><th scope=row>6</th><td>6</td><td>매듭</td><td>16144</td></tr>\n",
       "</tbody>\n",
       "</table>\n"
      ],
      "text/latex": [
       "A data.frame: 1 × 3\n",
       "\\begin{tabular}{r|lll}\n",
       "  & number & title & live\\\\\n",
       "  & <int> & <chr> & <dbl>\\\\\n",
       "\\hline\n",
       "\t6 & 6 & 매듭 & 16144\\\\\n",
       "\\end{tabular}\n"
      ],
      "text/markdown": [
       "\n",
       "A data.frame: 1 × 3\n",
       "\n",
       "| <!--/--> | number &lt;int&gt; | title &lt;chr&gt; | live &lt;dbl&gt; |\n",
       "|---|---|---|---|\n",
       "| 6 | 6 | 매듭 | 16144 |\n",
       "\n"
      ],
      "text/plain": [
       "  number title live \n",
       "6 6      매듭  16144"
      ]
     },
     "metadata": {},
     "output_type": "display_data"
    }
   ],
   "source": [
    "best <- love[love['live'] == max(love['live']), ]\n",
    "best"
   ]
  },
  {
   "cell_type": "code",
   "execution_count": 24,
   "id": "a1582145",
   "metadata": {},
   "outputs": [
    {
     "ename": "ERROR",
     "evalue": "Error in max(love[\"live\"], ): argument 2 is empty\n",
     "output_type": "error",
     "traceback": [
      "Error in max(love[\"live\"], ): argument 2 is empty\nTraceback:\n",
      "1. love[love[\"live\"] == max(love[\"live\"], )]",
      "2. `[.data.frame`(love, love[\"live\"] == max(love[\"live\"], ))"
     ]
    }
   ],
   "source": [
    "best <- love[love['live'] == max(love['live'], )]"
   ]
  },
  {
   "cell_type": "code",
   "execution_count": 30,
   "id": "43f0de78",
   "metadata": {},
   "outputs": [],
   "source": [
    "df = mtcars"
   ]
  },
  {
   "cell_type": "code",
   "execution_count": 31,
   "id": "29db1a61",
   "metadata": {},
   "outputs": [
    {
     "data": {
      "text/html": [
       "'data.frame'"
      ],
      "text/latex": [
       "'data.frame'"
      ],
      "text/markdown": [
       "'data.frame'"
      ],
      "text/plain": [
       "[1] \"data.frame\""
      ]
     },
     "metadata": {},
     "output_type": "display_data"
    }
   ],
   "source": [
    "class(df)"
   ]
  },
  {
   "cell_type": "code",
   "execution_count": 32,
   "id": "117f32d0",
   "metadata": {},
   "outputs": [
    {
     "data": {
      "text/html": [
       "<style>\n",
       ".list-inline {list-style: none; margin:0; padding: 0}\n",
       ".list-inline>li {display: inline-block}\n",
       ".list-inline>li:not(:last-child)::after {content: \"\\00b7\"; padding: 0 .5ex}\n",
       "</style>\n",
       "<ol class=list-inline><li>32</li><li>11</li></ol>\n"
      ],
      "text/latex": [
       "\\begin{enumerate*}\n",
       "\\item 32\n",
       "\\item 11\n",
       "\\end{enumerate*}\n"
      ],
      "text/markdown": [
       "1. 32\n",
       "2. 11\n",
       "\n",
       "\n"
      ],
      "text/plain": [
       "[1] 32 11"
      ]
     },
     "metadata": {},
     "output_type": "display_data"
    }
   ],
   "source": [
    "dim(df)"
   ]
  },
  {
   "cell_type": "code",
   "execution_count": 33,
   "id": "1b71221c",
   "metadata": {},
   "outputs": [
    {
     "data": {
      "text/html": [
       "<table class=\"dataframe\">\n",
       "<caption>A data.frame: 6 × 11</caption>\n",
       "<thead>\n",
       "\t<tr><th></th><th scope=col>mpg</th><th scope=col>cyl</th><th scope=col>disp</th><th scope=col>hp</th><th scope=col>drat</th><th scope=col>wt</th><th scope=col>qsec</th><th scope=col>vs</th><th scope=col>am</th><th scope=col>gear</th><th scope=col>carb</th></tr>\n",
       "\t<tr><th></th><th scope=col>&lt;dbl&gt;</th><th scope=col>&lt;dbl&gt;</th><th scope=col>&lt;dbl&gt;</th><th scope=col>&lt;dbl&gt;</th><th scope=col>&lt;dbl&gt;</th><th scope=col>&lt;dbl&gt;</th><th scope=col>&lt;dbl&gt;</th><th scope=col>&lt;dbl&gt;</th><th scope=col>&lt;dbl&gt;</th><th scope=col>&lt;dbl&gt;</th><th scope=col>&lt;dbl&gt;</th></tr>\n",
       "</thead>\n",
       "<tbody>\n",
       "\t<tr><th scope=row>Mazda RX4</th><td>21.0</td><td>6</td><td>160</td><td>110</td><td>3.90</td><td>2.620</td><td>16.46</td><td>0</td><td>1</td><td>4</td><td>4</td></tr>\n",
       "\t<tr><th scope=row>Mazda RX4 Wag</th><td>21.0</td><td>6</td><td>160</td><td>110</td><td>3.90</td><td>2.875</td><td>17.02</td><td>0</td><td>1</td><td>4</td><td>4</td></tr>\n",
       "\t<tr><th scope=row>Datsun 710</th><td>22.8</td><td>4</td><td>108</td><td> 93</td><td>3.85</td><td>2.320</td><td>18.61</td><td>1</td><td>1</td><td>4</td><td>1</td></tr>\n",
       "\t<tr><th scope=row>Hornet 4 Drive</th><td>21.4</td><td>6</td><td>258</td><td>110</td><td>3.08</td><td>3.215</td><td>19.44</td><td>1</td><td>0</td><td>3</td><td>1</td></tr>\n",
       "\t<tr><th scope=row>Hornet Sportabout</th><td>18.7</td><td>8</td><td>360</td><td>175</td><td>3.15</td><td>3.440</td><td>17.02</td><td>0</td><td>0</td><td>3</td><td>2</td></tr>\n",
       "\t<tr><th scope=row>Valiant</th><td>18.1</td><td>6</td><td>225</td><td>105</td><td>2.76</td><td>3.460</td><td>20.22</td><td>1</td><td>0</td><td>3</td><td>1</td></tr>\n",
       "</tbody>\n",
       "</table>\n"
      ],
      "text/latex": [
       "A data.frame: 6 × 11\n",
       "\\begin{tabular}{r|lllllllllll}\n",
       "  & mpg & cyl & disp & hp & drat & wt & qsec & vs & am & gear & carb\\\\\n",
       "  & <dbl> & <dbl> & <dbl> & <dbl> & <dbl> & <dbl> & <dbl> & <dbl> & <dbl> & <dbl> & <dbl>\\\\\n",
       "\\hline\n",
       "\tMazda RX4 & 21.0 & 6 & 160 & 110 & 3.90 & 2.620 & 16.46 & 0 & 1 & 4 & 4\\\\\n",
       "\tMazda RX4 Wag & 21.0 & 6 & 160 & 110 & 3.90 & 2.875 & 17.02 & 0 & 1 & 4 & 4\\\\\n",
       "\tDatsun 710 & 22.8 & 4 & 108 &  93 & 3.85 & 2.320 & 18.61 & 1 & 1 & 4 & 1\\\\\n",
       "\tHornet 4 Drive & 21.4 & 6 & 258 & 110 & 3.08 & 3.215 & 19.44 & 1 & 0 & 3 & 1\\\\\n",
       "\tHornet Sportabout & 18.7 & 8 & 360 & 175 & 3.15 & 3.440 & 17.02 & 0 & 0 & 3 & 2\\\\\n",
       "\tValiant & 18.1 & 6 & 225 & 105 & 2.76 & 3.460 & 20.22 & 1 & 0 & 3 & 1\\\\\n",
       "\\end{tabular}\n"
      ],
      "text/markdown": [
       "\n",
       "A data.frame: 6 × 11\n",
       "\n",
       "| <!--/--> | mpg &lt;dbl&gt; | cyl &lt;dbl&gt; | disp &lt;dbl&gt; | hp &lt;dbl&gt; | drat &lt;dbl&gt; | wt &lt;dbl&gt; | qsec &lt;dbl&gt; | vs &lt;dbl&gt; | am &lt;dbl&gt; | gear &lt;dbl&gt; | carb &lt;dbl&gt; |\n",
       "|---|---|---|---|---|---|---|---|---|---|---|---|\n",
       "| Mazda RX4 | 21.0 | 6 | 160 | 110 | 3.90 | 2.620 | 16.46 | 0 | 1 | 4 | 4 |\n",
       "| Mazda RX4 Wag | 21.0 | 6 | 160 | 110 | 3.90 | 2.875 | 17.02 | 0 | 1 | 4 | 4 |\n",
       "| Datsun 710 | 22.8 | 4 | 108 |  93 | 3.85 | 2.320 | 18.61 | 1 | 1 | 4 | 1 |\n",
       "| Hornet 4 Drive | 21.4 | 6 | 258 | 110 | 3.08 | 3.215 | 19.44 | 1 | 0 | 3 | 1 |\n",
       "| Hornet Sportabout | 18.7 | 8 | 360 | 175 | 3.15 | 3.440 | 17.02 | 0 | 0 | 3 | 2 |\n",
       "| Valiant | 18.1 | 6 | 225 | 105 | 2.76 | 3.460 | 20.22 | 1 | 0 | 3 | 1 |\n",
       "\n"
      ],
      "text/plain": [
       "                  mpg  cyl disp hp  drat wt    qsec  vs am gear carb\n",
       "Mazda RX4         21.0 6   160  110 3.90 2.620 16.46 0  1  4    4   \n",
       "Mazda RX4 Wag     21.0 6   160  110 3.90 2.875 17.02 0  1  4    4   \n",
       "Datsun 710        22.8 4   108   93 3.85 2.320 18.61 1  1  4    1   \n",
       "Hornet 4 Drive    21.4 6   258  110 3.08 3.215 19.44 1  0  3    1   \n",
       "Hornet Sportabout 18.7 8   360  175 3.15 3.440 17.02 0  0  3    2   \n",
       "Valiant           18.1 6   225  105 2.76 3.460 20.22 1  0  3    1   "
      ]
     },
     "metadata": {},
     "output_type": "display_data"
    }
   ],
   "source": [
    "head(df)"
   ]
  },
  {
   "cell_type": "code",
   "execution_count": 34,
   "id": "a267ffb9",
   "metadata": {},
   "outputs": [
    {
     "name": "stdout",
     "output_type": "stream",
     "text": [
      "'data.frame':\t32 obs. of  11 variables:\n",
      " $ mpg : num  21 21 22.8 21.4 18.7 18.1 14.3 24.4 22.8 19.2 ...\n",
      " $ cyl : num  6 6 4 6 8 6 8 4 4 6 ...\n",
      " $ disp: num  160 160 108 258 360 ...\n",
      " $ hp  : num  110 110 93 110 175 105 245 62 95 123 ...\n",
      " $ drat: num  3.9 3.9 3.85 3.08 3.15 2.76 3.21 3.69 3.92 3.92 ...\n",
      " $ wt  : num  2.62 2.88 2.32 3.21 3.44 ...\n",
      " $ qsec: num  16.5 17 18.6 19.4 17 ...\n",
      " $ vs  : num  0 0 1 1 0 1 0 1 1 1 ...\n",
      " $ am  : num  1 1 1 0 0 0 0 0 0 0 ...\n",
      " $ gear: num  4 4 4 3 3 3 3 4 4 4 ...\n",
      " $ carb: num  4 4 1 1 2 1 4 2 2 4 ...\n"
     ]
    }
   ],
   "source": [
    "str(df)"
   ]
  },
  {
   "cell_type": "code",
   "execution_count": 35,
   "id": "62a291f9",
   "metadata": {},
   "outputs": [
    {
     "data": {
      "text/html": [
       "<style>\n",
       ".dl-inline {width: auto; margin:0; padding: 0}\n",
       ".dl-inline>dt, .dl-inline>dd {float: none; width: auto; display: inline-block}\n",
       ".dl-inline>dt::after {content: \":\\0020\"; padding-right: .5ex}\n",
       ".dl-inline>dt:not(:first-of-type) {padding-left: .5ex}\n",
       "</style><dl class=dl-inline><dt>mpg</dt><dd>20.090625</dd><dt>cyl</dt><dd>6.1875</dd><dt>disp</dt><dd>230.721875</dd><dt>hp</dt><dd>146.6875</dd><dt>drat</dt><dd>3.5965625</dd><dt>wt</dt><dd>3.21725</dd><dt>qsec</dt><dd>17.84875</dd><dt>vs</dt><dd>0.4375</dd><dt>am</dt><dd>0.40625</dd><dt>gear</dt><dd>3.6875</dd><dt>carb</dt><dd>2.8125</dd></dl>\n"
      ],
      "text/latex": [
       "\\begin{description*}\n",
       "\\item[mpg] 20.090625\n",
       "\\item[cyl] 6.1875\n",
       "\\item[disp] 230.721875\n",
       "\\item[hp] 146.6875\n",
       "\\item[drat] 3.5965625\n",
       "\\item[wt] 3.21725\n",
       "\\item[qsec] 17.84875\n",
       "\\item[vs] 0.4375\n",
       "\\item[am] 0.40625\n",
       "\\item[gear] 3.6875\n",
       "\\item[carb] 2.8125\n",
       "\\end{description*}\n"
      ],
      "text/markdown": [
       "mpg\n",
       ":   20.090625cyl\n",
       ":   6.1875disp\n",
       ":   230.721875hp\n",
       ":   146.6875drat\n",
       ":   3.5965625wt\n",
       ":   3.21725qsec\n",
       ":   17.84875vs\n",
       ":   0.4375am\n",
       ":   0.40625gear\n",
       ":   3.6875carb\n",
       ":   2.8125\n",
       "\n"
      ],
      "text/plain": [
       "       mpg        cyl       disp         hp       drat         wt       qsec \n",
       " 20.090625   6.187500 230.721875 146.687500   3.596563   3.217250  17.848750 \n",
       "        vs         am       gear       carb \n",
       "  0.437500   0.406250   3.687500   2.812500 "
      ]
     },
     "metadata": {},
     "output_type": "display_data"
    }
   ],
   "source": [
    "colMeans(df)"
   ]
  },
  {
   "cell_type": "code",
   "execution_count": null,
   "id": "994067a0",
   "metadata": {},
   "outputs": [],
   "source": [
    "df[df['dist']]"
   ]
  },
  {
   "cell_type": "code",
   "execution_count": 38,
   "id": "fa5dbdc5",
   "metadata": {},
   "outputs": [
    {
     "data": {
      "text/html": [
       "<table class=\"dataframe\">\n",
       "<caption>A data.frame: 1 × 11</caption>\n",
       "<thead>\n",
       "\t<tr><th></th><th scope=col>mpg</th><th scope=col>cyl</th><th scope=col>disp</th><th scope=col>hp</th><th scope=col>drat</th><th scope=col>wt</th><th scope=col>qsec</th><th scope=col>vs</th><th scope=col>am</th><th scope=col>gear</th><th scope=col>carb</th></tr>\n",
       "\t<tr><th></th><th scope=col>&lt;dbl&gt;</th><th scope=col>&lt;dbl&gt;</th><th scope=col>&lt;dbl&gt;</th><th scope=col>&lt;dbl&gt;</th><th scope=col>&lt;dbl&gt;</th><th scope=col>&lt;dbl&gt;</th><th scope=col>&lt;dbl&gt;</th><th scope=col>&lt;dbl&gt;</th><th scope=col>&lt;dbl&gt;</th><th scope=col>&lt;dbl&gt;</th><th scope=col>&lt;dbl&gt;</th></tr>\n",
       "</thead>\n",
       "<tbody>\n",
       "\t<tr><th scope=row>Cadillac Fleetwood</th><td>10.4</td><td>8</td><td>472</td><td>205</td><td>2.93</td><td>5.25</td><td>17.98</td><td>0</td><td>0</td><td>3</td><td>4</td></tr>\n",
       "</tbody>\n",
       "</table>\n"
      ],
      "text/latex": [
       "A data.frame: 1 × 11\n",
       "\\begin{tabular}{r|lllllllllll}\n",
       "  & mpg & cyl & disp & hp & drat & wt & qsec & vs & am & gear & carb\\\\\n",
       "  & <dbl> & <dbl> & <dbl> & <dbl> & <dbl> & <dbl> & <dbl> & <dbl> & <dbl> & <dbl> & <dbl>\\\\\n",
       "\\hline\n",
       "\tCadillac Fleetwood & 10.4 & 8 & 472 & 205 & 2.93 & 5.25 & 17.98 & 0 & 0 & 3 & 4\\\\\n",
       "\\end{tabular}\n"
      ],
      "text/markdown": [
       "\n",
       "A data.frame: 1 × 11\n",
       "\n",
       "| <!--/--> | mpg &lt;dbl&gt; | cyl &lt;dbl&gt; | disp &lt;dbl&gt; | hp &lt;dbl&gt; | drat &lt;dbl&gt; | wt &lt;dbl&gt; | qsec &lt;dbl&gt; | vs &lt;dbl&gt; | am &lt;dbl&gt; | gear &lt;dbl&gt; | carb &lt;dbl&gt; |\n",
       "|---|---|---|---|---|---|---|---|---|---|---|---|\n",
       "| Cadillac Fleetwood | 10.4 | 8 | 472 | 205 | 2.93 | 5.25 | 17.98 | 0 | 0 | 3 | 4 |\n",
       "\n"
      ],
      "text/plain": [
       "                   mpg  cyl disp hp  drat wt   qsec  vs am gear carb\n",
       "Cadillac Fleetwood 10.4 8   472  205 2.93 5.25 17.98 0  0  3    4   "
      ]
     },
     "metadata": {},
     "output_type": "display_data"
    }
   ],
   "source": [
    "rownames(df[df['disp'] == max(df['disp']), ] "
   ]
  },
  {
   "cell_type": "code",
   "execution_count": 39,
   "id": "43c74ade",
   "metadata": {},
   "outputs": [
    {
     "data": {
      "text/html": [
       "472"
      ],
      "text/latex": [
       "472"
      ],
      "text/markdown": [
       "472"
      ],
      "text/plain": [
       "[1] 472"
      ]
     },
     "metadata": {},
     "output_type": "display_data"
    }
   ],
   "source": [
    "max(df['disp'])"
   ]
  },
  {
   "cell_type": "code",
   "execution_count": 55,
   "id": "6fb1566d",
   "metadata": {},
   "outputs": [
    {
     "data": {
      "text/html": [
       "<table class=\"dataframe\">\n",
       "<caption>A data.frame: 1 × 11</caption>\n",
       "<thead>\n",
       "\t<tr><th></th><th scope=col>mpg</th><th scope=col>cyl</th><th scope=col>disp</th><th scope=col>hp</th><th scope=col>drat</th><th scope=col>wt</th><th scope=col>qsec</th><th scope=col>vs</th><th scope=col>am</th><th scope=col>gear</th><th scope=col>carb</th></tr>\n",
       "\t<tr><th></th><th scope=col>&lt;dbl&gt;</th><th scope=col>&lt;dbl&gt;</th><th scope=col>&lt;dbl&gt;</th><th scope=col>&lt;dbl&gt;</th><th scope=col>&lt;dbl&gt;</th><th scope=col>&lt;dbl&gt;</th><th scope=col>&lt;dbl&gt;</th><th scope=col>&lt;dbl&gt;</th><th scope=col>&lt;dbl&gt;</th><th scope=col>&lt;dbl&gt;</th><th scope=col>&lt;dbl&gt;</th></tr>\n",
       "</thead>\n",
       "<tbody>\n",
       "\t<tr><th scope=row>Cadillac Fleetwood</th><td>10.4</td><td>8</td><td>472</td><td>205</td><td>2.93</td><td>5.25</td><td>17.98</td><td>0</td><td>0</td><td>3</td><td>4</td></tr>\n",
       "</tbody>\n",
       "</table>\n"
      ],
      "text/latex": [
       "A data.frame: 1 × 11\n",
       "\\begin{tabular}{r|lllllllllll}\n",
       "  & mpg & cyl & disp & hp & drat & wt & qsec & vs & am & gear & carb\\\\\n",
       "  & <dbl> & <dbl> & <dbl> & <dbl> & <dbl> & <dbl> & <dbl> & <dbl> & <dbl> & <dbl> & <dbl>\\\\\n",
       "\\hline\n",
       "\tCadillac Fleetwood & 10.4 & 8 & 472 & 205 & 2.93 & 5.25 & 17.98 & 0 & 0 & 3 & 4\\\\\n",
       "\\end{tabular}\n"
      ],
      "text/markdown": [
       "\n",
       "A data.frame: 1 × 11\n",
       "\n",
       "| <!--/--> | mpg &lt;dbl&gt; | cyl &lt;dbl&gt; | disp &lt;dbl&gt; | hp &lt;dbl&gt; | drat &lt;dbl&gt; | wt &lt;dbl&gt; | qsec &lt;dbl&gt; | vs &lt;dbl&gt; | am &lt;dbl&gt; | gear &lt;dbl&gt; | carb &lt;dbl&gt; |\n",
       "|---|---|---|---|---|---|---|---|---|---|---|---|\n",
       "| Cadillac Fleetwood | 10.4 | 8 | 472 | 205 | 2.93 | 5.25 | 17.98 | 0 | 0 | 3 | 4 |\n",
       "\n"
      ],
      "text/plain": [
       "                   mpg  cyl disp hp  drat wt   qsec  vs am gear carb\n",
       "Cadillac Fleetwood 10.4 8   472  205 2.93 5.25 17.98 0  0  3    4   "
      ]
     },
     "metadata": {},
     "output_type": "display_data"
    }
   ],
   "source": [
    "mdx <- df[df['disp'] == max(df['disp']), ]\n",
    "mdx"
   ]
  },
  {
   "cell_type": "code",
   "execution_count": 48,
   "id": "e28f2e1b",
   "metadata": {},
   "outputs": [
    {
     "ename": "ERROR",
     "evalue": "Error in parse(text = x, srcfile = src): <text>:1:10: unexpected '['\n1: subset[, [\n             ^\n",
     "output_type": "error",
     "traceback": [
      "Error in parse(text = x, srcfile = src): <text>:1:10: unexpected '['\n1: subset[, [\n             ^\nTraceback:\n"
     ]
    }
   ],
   "source": [
    "subset[, [c('speed', 'disp')]]"
   ]
  },
  {
   "cell_type": "code",
   "execution_count": 52,
   "id": "cedf0e9d",
   "metadata": {},
   "outputs": [
    {
     "ename": "ERROR",
     "evalue": "Error in subset.data.frame(df, c(\"speed\", \"disp\")): 'subset' must be logical\n",
     "output_type": "error",
     "traceback": [
      "Error in subset.data.frame(df, c(\"speed\", \"disp\")): 'subset' must be logical\nTraceback:\n",
      "1. subset(df, c(\"speed\", \"disp\"))",
      "2. subset.data.frame(df, c(\"speed\", \"disp\"))",
      "3. stop(\"'subset' must be logical\")"
     ]
    }
   ],
   "source": [
    "max <- subset(df, c('speed', 'disp'))"
   ]
  },
  {
   "cell_type": "code",
   "execution_count": 53,
   "id": "58f22008",
   "metadata": {},
   "outputs": [
    {
     "ename": "ERROR",
     "evalue": "Error in `[.data.frame`(subset, c(\"speed\", \"disp\")): undefined columns selected\n",
     "output_type": "error",
     "traceback": [
      "Error in `[.data.frame`(subset, c(\"speed\", \"disp\")): undefined columns selected\nTraceback:\n",
      "1. subset[c(\"speed\", \"disp\")]",
      "2. `[.data.frame`(subset, c(\"speed\", \"disp\"))",
      "3. stop(\"undefined columns selected\")"
     ]
    }
   ],
   "source": [
    "subset[c('speed', 'disp')]"
   ]
  },
  {
   "cell_type": "code",
   "execution_count": 54,
   "id": "64041e8a",
   "metadata": {},
   "outputs": [
    {
     "ename": "ERROR",
     "evalue": "Error in `[.data.frame`(subset, \"speed\"): undefined columns selected\n",
     "output_type": "error",
     "traceback": [
      "Error in `[.data.frame`(subset, \"speed\"): undefined columns selected\nTraceback:\n",
      "1. subset[\"speed\"]",
      "2. `[.data.frame`(subset, \"speed\")",
      "3. stop(\"undefined columns selected\")"
     ]
    }
   ],
   "source": [
    "subset['speed']"
   ]
  },
  {
   "cell_type": "code",
   "execution_count": 57,
   "id": "15e93a12",
   "metadata": {},
   "outputs": [
    {
     "ename": "ERROR",
     "evalue": "Error in `[.data.frame`(mdx, \"speed\"): undefined columns selected\n",
     "output_type": "error",
     "traceback": [
      "Error in `[.data.frame`(mdx, \"speed\"): undefined columns selected\nTraceback:\n",
      "1. mdx[\"speed\"]",
      "2. `[.data.frame`(mdx, \"speed\")",
      "3. stop(\"undefined columns selected\")"
     ]
    }
   ],
   "source": [
    "mdx['speed']"
   ]
  },
  {
   "cell_type": "code",
   "execution_count": 59,
   "id": "5fab60bc",
   "metadata": {},
   "outputs": [
    {
     "data": {
      "text/html": [
       "<style>\n",
       ".list-inline {list-style: none; margin:0; padding: 0}\n",
       ".list-inline>li {display: inline-block}\n",
       ".list-inline>li:not(:last-child)::after {content: \"\\00b7\"; padding: 0 .5ex}\n",
       "</style>\n",
       "<ol class=list-inline><li>'mpg'</li><li>'cyl'</li><li>'disp'</li><li>'hp'</li><li>'drat'</li><li>'wt'</li><li>'qsec'</li><li>'vs'</li><li>'am'</li><li>'gear'</li><li>'carb'</li></ol>\n"
      ],
      "text/latex": [
       "\\begin{enumerate*}\n",
       "\\item 'mpg'\n",
       "\\item 'cyl'\n",
       "\\item 'disp'\n",
       "\\item 'hp'\n",
       "\\item 'drat'\n",
       "\\item 'wt'\n",
       "\\item 'qsec'\n",
       "\\item 'vs'\n",
       "\\item 'am'\n",
       "\\item 'gear'\n",
       "\\item 'carb'\n",
       "\\end{enumerate*}\n"
      ],
      "text/markdown": [
       "1. 'mpg'\n",
       "2. 'cyl'\n",
       "3. 'disp'\n",
       "4. 'hp'\n",
       "5. 'drat'\n",
       "6. 'wt'\n",
       "7. 'qsec'\n",
       "8. 'vs'\n",
       "9. 'am'\n",
       "10. 'gear'\n",
       "11. 'carb'\n",
       "\n",
       "\n"
      ],
      "text/plain": [
       " [1] \"mpg\"  \"cyl\"  \"disp\" \"hp\"   \"drat\" \"wt\"   \"qsec\" \"vs\"   \"am\"   \"gear\"\n",
       "[11] \"carb\""
      ]
     },
     "metadata": {},
     "output_type": "display_data"
    }
   ],
   "source": [
    "colnames(mdx)"
   ]
  },
  {
   "cell_type": "code",
   "execution_count": 60,
   "id": "40833e6a",
   "metadata": {},
   "outputs": [
    {
     "data": {
      "text/html": [
       "472"
      ],
      "text/latex": [
       "472"
      ],
      "text/markdown": [
       "472"
      ],
      "text/plain": [
       "[1] 472"
      ]
     },
     "metadata": {},
     "output_type": "display_data"
    }
   ],
   "source": [
    "mdx[, 'disp']"
   ]
  },
  {
   "cell_type": "code",
   "execution_count": 61,
   "id": "a0dc85d1",
   "metadata": {},
   "outputs": [
    {
     "data": {
      "text/html": [
       "<table class=\"dataframe\">\n",
       "<caption>A data.frame: 1 × 11</caption>\n",
       "<thead>\n",
       "\t<tr><th></th><th scope=col>mpg</th><th scope=col>cyl</th><th scope=col>disp</th><th scope=col>hp</th><th scope=col>drat</th><th scope=col>wt</th><th scope=col>qsec</th><th scope=col>vs</th><th scope=col>am</th><th scope=col>gear</th><th scope=col>carb</th></tr>\n",
       "\t<tr><th></th><th scope=col>&lt;dbl&gt;</th><th scope=col>&lt;dbl&gt;</th><th scope=col>&lt;dbl&gt;</th><th scope=col>&lt;dbl&gt;</th><th scope=col>&lt;dbl&gt;</th><th scope=col>&lt;dbl&gt;</th><th scope=col>&lt;dbl&gt;</th><th scope=col>&lt;dbl&gt;</th><th scope=col>&lt;dbl&gt;</th><th scope=col>&lt;dbl&gt;</th><th scope=col>&lt;dbl&gt;</th></tr>\n",
       "</thead>\n",
       "<tbody>\n",
       "\t<tr><th scope=row>Cadillac Fleetwood</th><td>10.4</td><td>8</td><td>472</td><td>205</td><td>2.93</td><td>5.25</td><td>17.98</td><td>0</td><td>0</td><td>3</td><td>4</td></tr>\n",
       "</tbody>\n",
       "</table>\n"
      ],
      "text/latex": [
       "A data.frame: 1 × 11\n",
       "\\begin{tabular}{r|lllllllllll}\n",
       "  & mpg & cyl & disp & hp & drat & wt & qsec & vs & am & gear & carb\\\\\n",
       "  & <dbl> & <dbl> & <dbl> & <dbl> & <dbl> & <dbl> & <dbl> & <dbl> & <dbl> & <dbl> & <dbl>\\\\\n",
       "\\hline\n",
       "\tCadillac Fleetwood & 10.4 & 8 & 472 & 205 & 2.93 & 5.25 & 17.98 & 0 & 0 & 3 & 4\\\\\n",
       "\\end{tabular}\n"
      ],
      "text/markdown": [
       "\n",
       "A data.frame: 1 × 11\n",
       "\n",
       "| <!--/--> | mpg &lt;dbl&gt; | cyl &lt;dbl&gt; | disp &lt;dbl&gt; | hp &lt;dbl&gt; | drat &lt;dbl&gt; | wt &lt;dbl&gt; | qsec &lt;dbl&gt; | vs &lt;dbl&gt; | am &lt;dbl&gt; | gear &lt;dbl&gt; | carb &lt;dbl&gt; |\n",
       "|---|---|---|---|---|---|---|---|---|---|---|---|\n",
       "| Cadillac Fleetwood | 10.4 | 8 | 472 | 205 | 2.93 | 5.25 | 17.98 | 0 | 0 | 3 | 4 |\n",
       "\n"
      ],
      "text/plain": [
       "                   mpg  cyl disp hp  drat wt   qsec  vs am gear carb\n",
       "Cadillac Fleetwood 10.4 8   472  205 2.93 5.25 17.98 0  0  3    4   "
      ]
     },
     "metadata": {},
     "output_type": "display_data"
    }
   ],
   "source": [
    "mdx"
   ]
  },
  {
   "cell_type": "code",
   "execution_count": 62,
   "id": "ff505895",
   "metadata": {},
   "outputs": [
    {
     "data": {
      "text/html": [
       "<table class=\"dataframe\">\n",
       "<caption>A data.frame: 50 × 2</caption>\n",
       "<thead>\n",
       "\t<tr><th scope=col>speed</th><th scope=col>dist</th></tr>\n",
       "\t<tr><th scope=col>&lt;dbl&gt;</th><th scope=col>&lt;dbl&gt;</th></tr>\n",
       "</thead>\n",
       "<tbody>\n",
       "\t<tr><td> 4</td><td>  2</td></tr>\n",
       "\t<tr><td> 4</td><td> 10</td></tr>\n",
       "\t<tr><td> 7</td><td>  4</td></tr>\n",
       "\t<tr><td> 7</td><td> 22</td></tr>\n",
       "\t<tr><td> 8</td><td> 16</td></tr>\n",
       "\t<tr><td> 9</td><td> 10</td></tr>\n",
       "\t<tr><td>10</td><td> 18</td></tr>\n",
       "\t<tr><td>10</td><td> 26</td></tr>\n",
       "\t<tr><td>10</td><td> 34</td></tr>\n",
       "\t<tr><td>11</td><td> 17</td></tr>\n",
       "\t<tr><td>11</td><td> 28</td></tr>\n",
       "\t<tr><td>12</td><td> 14</td></tr>\n",
       "\t<tr><td>12</td><td> 20</td></tr>\n",
       "\t<tr><td>12</td><td> 24</td></tr>\n",
       "\t<tr><td>12</td><td> 28</td></tr>\n",
       "\t<tr><td>13</td><td> 26</td></tr>\n",
       "\t<tr><td>13</td><td> 34</td></tr>\n",
       "\t<tr><td>13</td><td> 34</td></tr>\n",
       "\t<tr><td>13</td><td> 46</td></tr>\n",
       "\t<tr><td>14</td><td> 26</td></tr>\n",
       "\t<tr><td>14</td><td> 36</td></tr>\n",
       "\t<tr><td>14</td><td> 60</td></tr>\n",
       "\t<tr><td>14</td><td> 80</td></tr>\n",
       "\t<tr><td>15</td><td> 20</td></tr>\n",
       "\t<tr><td>15</td><td> 26</td></tr>\n",
       "\t<tr><td>15</td><td> 54</td></tr>\n",
       "\t<tr><td>16</td><td> 32</td></tr>\n",
       "\t<tr><td>16</td><td> 40</td></tr>\n",
       "\t<tr><td>17</td><td> 32</td></tr>\n",
       "\t<tr><td>17</td><td> 40</td></tr>\n",
       "\t<tr><td>17</td><td> 50</td></tr>\n",
       "\t<tr><td>18</td><td> 42</td></tr>\n",
       "\t<tr><td>18</td><td> 56</td></tr>\n",
       "\t<tr><td>18</td><td> 76</td></tr>\n",
       "\t<tr><td>18</td><td> 84</td></tr>\n",
       "\t<tr><td>19</td><td> 36</td></tr>\n",
       "\t<tr><td>19</td><td> 46</td></tr>\n",
       "\t<tr><td>19</td><td> 68</td></tr>\n",
       "\t<tr><td>20</td><td> 32</td></tr>\n",
       "\t<tr><td>20</td><td> 48</td></tr>\n",
       "\t<tr><td>20</td><td> 52</td></tr>\n",
       "\t<tr><td>20</td><td> 56</td></tr>\n",
       "\t<tr><td>20</td><td> 64</td></tr>\n",
       "\t<tr><td>22</td><td> 66</td></tr>\n",
       "\t<tr><td>23</td><td> 54</td></tr>\n",
       "\t<tr><td>24</td><td> 70</td></tr>\n",
       "\t<tr><td>24</td><td> 92</td></tr>\n",
       "\t<tr><td>24</td><td> 93</td></tr>\n",
       "\t<tr><td>24</td><td>120</td></tr>\n",
       "\t<tr><td>25</td><td> 85</td></tr>\n",
       "</tbody>\n",
       "</table>\n"
      ],
      "text/latex": [
       "A data.frame: 50 × 2\n",
       "\\begin{tabular}{ll}\n",
       " speed & dist\\\\\n",
       " <dbl> & <dbl>\\\\\n",
       "\\hline\n",
       "\t  4 &   2\\\\\n",
       "\t  4 &  10\\\\\n",
       "\t  7 &   4\\\\\n",
       "\t  7 &  22\\\\\n",
       "\t  8 &  16\\\\\n",
       "\t  9 &  10\\\\\n",
       "\t 10 &  18\\\\\n",
       "\t 10 &  26\\\\\n",
       "\t 10 &  34\\\\\n",
       "\t 11 &  17\\\\\n",
       "\t 11 &  28\\\\\n",
       "\t 12 &  14\\\\\n",
       "\t 12 &  20\\\\\n",
       "\t 12 &  24\\\\\n",
       "\t 12 &  28\\\\\n",
       "\t 13 &  26\\\\\n",
       "\t 13 &  34\\\\\n",
       "\t 13 &  34\\\\\n",
       "\t 13 &  46\\\\\n",
       "\t 14 &  26\\\\\n",
       "\t 14 &  36\\\\\n",
       "\t 14 &  60\\\\\n",
       "\t 14 &  80\\\\\n",
       "\t 15 &  20\\\\\n",
       "\t 15 &  26\\\\\n",
       "\t 15 &  54\\\\\n",
       "\t 16 &  32\\\\\n",
       "\t 16 &  40\\\\\n",
       "\t 17 &  32\\\\\n",
       "\t 17 &  40\\\\\n",
       "\t 17 &  50\\\\\n",
       "\t 18 &  42\\\\\n",
       "\t 18 &  56\\\\\n",
       "\t 18 &  76\\\\\n",
       "\t 18 &  84\\\\\n",
       "\t 19 &  36\\\\\n",
       "\t 19 &  46\\\\\n",
       "\t 19 &  68\\\\\n",
       "\t 20 &  32\\\\\n",
       "\t 20 &  48\\\\\n",
       "\t 20 &  52\\\\\n",
       "\t 20 &  56\\\\\n",
       "\t 20 &  64\\\\\n",
       "\t 22 &  66\\\\\n",
       "\t 23 &  54\\\\\n",
       "\t 24 &  70\\\\\n",
       "\t 24 &  92\\\\\n",
       "\t 24 &  93\\\\\n",
       "\t 24 & 120\\\\\n",
       "\t 25 &  85\\\\\n",
       "\\end{tabular}\n"
      ],
      "text/markdown": [
       "\n",
       "A data.frame: 50 × 2\n",
       "\n",
       "| speed &lt;dbl&gt; | dist &lt;dbl&gt; |\n",
       "|---|---|\n",
       "|  4 |   2 |\n",
       "|  4 |  10 |\n",
       "|  7 |   4 |\n",
       "|  7 |  22 |\n",
       "|  8 |  16 |\n",
       "|  9 |  10 |\n",
       "| 10 |  18 |\n",
       "| 10 |  26 |\n",
       "| 10 |  34 |\n",
       "| 11 |  17 |\n",
       "| 11 |  28 |\n",
       "| 12 |  14 |\n",
       "| 12 |  20 |\n",
       "| 12 |  24 |\n",
       "| 12 |  28 |\n",
       "| 13 |  26 |\n",
       "| 13 |  34 |\n",
       "| 13 |  34 |\n",
       "| 13 |  46 |\n",
       "| 14 |  26 |\n",
       "| 14 |  36 |\n",
       "| 14 |  60 |\n",
       "| 14 |  80 |\n",
       "| 15 |  20 |\n",
       "| 15 |  26 |\n",
       "| 15 |  54 |\n",
       "| 16 |  32 |\n",
       "| 16 |  40 |\n",
       "| 17 |  32 |\n",
       "| 17 |  40 |\n",
       "| 17 |  50 |\n",
       "| 18 |  42 |\n",
       "| 18 |  56 |\n",
       "| 18 |  76 |\n",
       "| 18 |  84 |\n",
       "| 19 |  36 |\n",
       "| 19 |  46 |\n",
       "| 19 |  68 |\n",
       "| 20 |  32 |\n",
       "| 20 |  48 |\n",
       "| 20 |  52 |\n",
       "| 20 |  56 |\n",
       "| 20 |  64 |\n",
       "| 22 |  66 |\n",
       "| 23 |  54 |\n",
       "| 24 |  70 |\n",
       "| 24 |  92 |\n",
       "| 24 |  93 |\n",
       "| 24 | 120 |\n",
       "| 25 |  85 |\n",
       "\n"
      ],
      "text/plain": [
       "   speed dist\n",
       "1   4      2 \n",
       "2   4     10 \n",
       "3   7      4 \n",
       "4   7     22 \n",
       "5   8     16 \n",
       "6   9     10 \n",
       "7  10     18 \n",
       "8  10     26 \n",
       "9  10     34 \n",
       "10 11     17 \n",
       "11 11     28 \n",
       "12 12     14 \n",
       "13 12     20 \n",
       "14 12     24 \n",
       "15 12     28 \n",
       "16 13     26 \n",
       "17 13     34 \n",
       "18 13     34 \n",
       "19 13     46 \n",
       "20 14     26 \n",
       "21 14     36 \n",
       "22 14     60 \n",
       "23 14     80 \n",
       "24 15     20 \n",
       "25 15     26 \n",
       "26 15     54 \n",
       "27 16     32 \n",
       "28 16     40 \n",
       "29 17     32 \n",
       "30 17     40 \n",
       "31 17     50 \n",
       "32 18     42 \n",
       "33 18     56 \n",
       "34 18     76 \n",
       "35 18     84 \n",
       "36 19     36 \n",
       "37 19     46 \n",
       "38 19     68 \n",
       "39 20     32 \n",
       "40 20     48 \n",
       "41 20     52 \n",
       "42 20     56 \n",
       "43 20     64 \n",
       "44 22     66 \n",
       "45 23     54 \n",
       "46 24     70 \n",
       "47 24     92 \n",
       "48 24     93 \n",
       "49 24    120 \n",
       "50 25     85 "
      ]
     },
     "metadata": {},
     "output_type": "display_data"
    }
   ],
   "source": [
    "cars"
   ]
  },
  {
   "cell_type": "code",
   "execution_count": 63,
   "id": "4613abd1",
   "metadata": {},
   "outputs": [
    {
     "data": {
      "text/html": [
       "'data.frame'"
      ],
      "text/latex": [
       "'data.frame'"
      ],
      "text/markdown": [
       "'data.frame'"
      ],
      "text/plain": [
       "[1] \"data.frame\""
      ]
     },
     "metadata": {},
     "output_type": "display_data"
    }
   ],
   "source": [
    "class(cars)"
   ]
  },
  {
   "cell_type": "code",
   "execution_count": 64,
   "id": "bd2b6a48",
   "metadata": {},
   "outputs": [],
   "source": [
    "df = cars"
   ]
  },
  {
   "cell_type": "code",
   "execution_count": 65,
   "id": "84d42324",
   "metadata": {},
   "outputs": [
    {
     "data": {
      "text/html": [
       "<style>\n",
       ".list-inline {list-style: none; margin:0; padding: 0}\n",
       ".list-inline>li {display: inline-block}\n",
       ".list-inline>li:not(:last-child)::after {content: \"\\00b7\"; padding: 0 .5ex}\n",
       "</style>\n",
       "<ol class=list-inline><li>50</li><li>2</li></ol>\n"
      ],
      "text/latex": [
       "\\begin{enumerate*}\n",
       "\\item 50\n",
       "\\item 2\n",
       "\\end{enumerate*}\n"
      ],
      "text/markdown": [
       "1. 50\n",
       "2. 2\n",
       "\n",
       "\n"
      ],
      "text/plain": [
       "[1] 50  2"
      ]
     },
     "metadata": {},
     "output_type": "display_data"
    }
   ],
   "source": [
    "dim(cars)"
   ]
  },
  {
   "cell_type": "code",
   "execution_count": 66,
   "id": "17c232de",
   "metadata": {},
   "outputs": [
    {
     "data": {
      "text/html": [
       "<table class=\"dataframe\">\n",
       "<caption>A data.frame: 6 × 2</caption>\n",
       "<thead>\n",
       "\t<tr><th></th><th scope=col>speed</th><th scope=col>dist</th></tr>\n",
       "\t<tr><th></th><th scope=col>&lt;dbl&gt;</th><th scope=col>&lt;dbl&gt;</th></tr>\n",
       "</thead>\n",
       "<tbody>\n",
       "\t<tr><th scope=row>1</th><td>4</td><td> 2</td></tr>\n",
       "\t<tr><th scope=row>2</th><td>4</td><td>10</td></tr>\n",
       "\t<tr><th scope=row>3</th><td>7</td><td> 4</td></tr>\n",
       "\t<tr><th scope=row>4</th><td>7</td><td>22</td></tr>\n",
       "\t<tr><th scope=row>5</th><td>8</td><td>16</td></tr>\n",
       "\t<tr><th scope=row>6</th><td>9</td><td>10</td></tr>\n",
       "</tbody>\n",
       "</table>\n"
      ],
      "text/latex": [
       "A data.frame: 6 × 2\n",
       "\\begin{tabular}{r|ll}\n",
       "  & speed & dist\\\\\n",
       "  & <dbl> & <dbl>\\\\\n",
       "\\hline\n",
       "\t1 & 4 &  2\\\\\n",
       "\t2 & 4 & 10\\\\\n",
       "\t3 & 7 &  4\\\\\n",
       "\t4 & 7 & 22\\\\\n",
       "\t5 & 8 & 16\\\\\n",
       "\t6 & 9 & 10\\\\\n",
       "\\end{tabular}\n"
      ],
      "text/markdown": [
       "\n",
       "A data.frame: 6 × 2\n",
       "\n",
       "| <!--/--> | speed &lt;dbl&gt; | dist &lt;dbl&gt; |\n",
       "|---|---|---|\n",
       "| 1 | 4 |  2 |\n",
       "| 2 | 4 | 10 |\n",
       "| 3 | 7 |  4 |\n",
       "| 4 | 7 | 22 |\n",
       "| 5 | 8 | 16 |\n",
       "| 6 | 9 | 10 |\n",
       "\n"
      ],
      "text/plain": [
       "  speed dist\n",
       "1 4      2  \n",
       "2 4     10  \n",
       "3 7      4  \n",
       "4 7     22  \n",
       "5 8     16  \n",
       "6 9     10  "
      ]
     },
     "metadata": {},
     "output_type": "display_data"
    }
   ],
   "source": [
    "head(cars)"
   ]
  },
  {
   "cell_type": "code",
   "execution_count": 68,
   "id": "48388473",
   "metadata": {},
   "outputs": [
    {
     "data": {
      "text/html": [
       "<table class=\"dataframe\">\n",
       "<caption>A data.frame: 1 × 2</caption>\n",
       "<thead>\n",
       "\t<tr><th></th><th scope=col>speed</th><th scope=col>dist</th></tr>\n",
       "\t<tr><th></th><th scope=col>&lt;dbl&gt;</th><th scope=col>&lt;dbl&gt;</th></tr>\n",
       "</thead>\n",
       "<tbody>\n",
       "\t<tr><th scope=row>49</th><td>24</td><td>120</td></tr>\n",
       "</tbody>\n",
       "</table>\n"
      ],
      "text/latex": [
       "A data.frame: 1 × 2\n",
       "\\begin{tabular}{r|ll}\n",
       "  & speed & dist\\\\\n",
       "  & <dbl> & <dbl>\\\\\n",
       "\\hline\n",
       "\t49 & 24 & 120\\\\\n",
       "\\end{tabular}\n"
      ],
      "text/markdown": [
       "\n",
       "A data.frame: 1 × 2\n",
       "\n",
       "| <!--/--> | speed &lt;dbl&gt; | dist &lt;dbl&gt; |\n",
       "|---|---|---|\n",
       "| 49 | 24 | 120 |\n",
       "\n"
      ],
      "text/plain": [
       "   speed dist\n",
       "49 24    120 "
      ]
     },
     "metadata": {},
     "output_type": "display_data"
    }
   ],
   "source": [
    "mx <- df[df['dist'] == max(df['dist']), ]\n",
    "mx"
   ]
  },
  {
   "cell_type": "code",
   "execution_count": 69,
   "id": "d601bdb2",
   "metadata": {},
   "outputs": [
    {
     "data": {
      "text/html": [
       "<table class=\"dataframe\">\n",
       "<caption>A data.frame: 1 × 2</caption>\n",
       "<thead>\n",
       "\t<tr><th></th><th scope=col>speed</th><th scope=col>dist</th></tr>\n",
       "\t<tr><th></th><th scope=col>&lt;dbl&gt;</th><th scope=col>&lt;dbl&gt;</th></tr>\n",
       "</thead>\n",
       "<tbody>\n",
       "\t<tr><th scope=row>49</th><td>24</td><td>120</td></tr>\n",
       "</tbody>\n",
       "</table>\n"
      ],
      "text/latex": [
       "A data.frame: 1 × 2\n",
       "\\begin{tabular}{r|ll}\n",
       "  & speed & dist\\\\\n",
       "  & <dbl> & <dbl>\\\\\n",
       "\\hline\n",
       "\t49 & 24 & 120\\\\\n",
       "\\end{tabular}\n"
      ],
      "text/markdown": [
       "\n",
       "A data.frame: 1 × 2\n",
       "\n",
       "| <!--/--> | speed &lt;dbl&gt; | dist &lt;dbl&gt; |\n",
       "|---|---|---|\n",
       "| 49 | 24 | 120 |\n",
       "\n"
      ],
      "text/plain": [
       "   speed dist\n",
       "49 24    120 "
      ]
     },
     "metadata": {},
     "output_type": "display_data"
    }
   ],
   "source": [
    "mx[c('speed', 'dist')]"
   ]
  }
 ],
 "metadata": {
  "kernelspec": {
   "display_name": "R",
   "language": "R",
   "name": "ir"
  },
  "language_info": {
   "codemirror_mode": "r",
   "file_extension": ".r",
   "mimetype": "text/x-r-source",
   "name": "R",
   "pygments_lexer": "r",
   "version": "4.3.1"
  }
 },
 "nbformat": 4,
 "nbformat_minor": 5
}
