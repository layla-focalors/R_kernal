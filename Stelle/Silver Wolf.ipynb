{
 "cells": [
  {
   "cell_type": "code",
   "execution_count": 1,
   "id": "4352a453",
   "metadata": {},
   "outputs": [
    {
     "data": {
      "text/html": [
       "130"
      ],
      "text/latex": [
       "130"
      ],
      "text/markdown": [
       "130"
      ],
      "text/plain": [
       "[1] 130"
      ]
     },
     "metadata": {},
     "output_type": "display_data"
    }
   ],
   "source": [
    "a <- 90\n",
    "b <- 60\n",
    "c <- 80\n",
    "d <- 360 - sum(a, b, c)\n",
    "d"
   ]
  },
  {
   "cell_type": "code",
   "execution_count": 2,
   "id": "1f4ad875",
   "metadata": {},
   "outputs": [
    {
     "data": {
      "text/html": [
       "360"
      ],
      "text/latex": [
       "360"
      ],
      "text/markdown": [
       "360"
      ],
      "text/plain": [
       "[1] 360"
      ]
     },
     "metadata": {},
     "output_type": "display_data"
    }
   ],
   "source": [
    "a + b + c + d"
   ]
  },
  {
   "cell_type": "code",
   "execution_count": 3,
   "id": "97462166",
   "metadata": {},
   "outputs": [
    {
     "data": {
      "text/html": [
       "16.6666666666667"
      ],
      "text/latex": [
       "16.6666666666667"
      ],
      "text/markdown": [
       "16.6666666666667"
      ],
      "text/plain": [
       "[1] 16.66667"
      ]
     },
     "metadata": {},
     "output_type": "display_data"
    }
   ],
   "source": [
    "sugar <- 25\n",
    "water <- 125\n",
    "percent <- sugar / (sugar + water) * 100\n",
    "percent"
   ]
  },
  {
   "cell_type": "code",
   "execution_count": 5,
   "id": "5d431afc",
   "metadata": {},
   "outputs": [
    {
     "data": {
      "text/html": [
       "<style>\n",
       ".list-inline {list-style: none; margin:0; padding: 0}\n",
       ".list-inline>li {display: inline-block}\n",
       ".list-inline>li:not(:last-child)::after {content: \"\\00b7\"; padding: 0 .5ex}\n",
       "</style>\n",
       "<ol class=list-inline><li>'Cyan'</li><li>'Magenta'</li><li>'Yellow'</li><li>'Black'</li></ol>\n"
      ],
      "text/latex": [
       "\\begin{enumerate*}\n",
       "\\item 'Cyan'\n",
       "\\item 'Magenta'\n",
       "\\item 'Yellow'\n",
       "\\item 'Black'\n",
       "\\end{enumerate*}\n"
      ],
      "text/markdown": [
       "1. 'Cyan'\n",
       "2. 'Magenta'\n",
       "3. 'Yellow'\n",
       "4. 'Black'\n",
       "\n",
       "\n"
      ],
      "text/plain": [
       "[1] \"Cyan\"    \"Magenta\" \"Yellow\"  \"Black\"  "
      ]
     },
     "metadata": {},
     "output_type": "display_data"
    },
    {
     "data": {
      "text/html": [
       "<style>\n",
       ".list-inline {list-style: none; margin:0; padding: 0}\n",
       ".list-inline>li {display: inline-block}\n",
       ".list-inline>li:not(:last-child)::after {content: \"\\00b7\"; padding: 0 .5ex}\n",
       "</style>\n",
       "<ol class=list-inline><li>TRUE</li><li>FALSE</li><li>TRUE</li></ol>\n"
      ],
      "text/latex": [
       "\\begin{enumerate*}\n",
       "\\item TRUE\n",
       "\\item FALSE\n",
       "\\item TRUE\n",
       "\\end{enumerate*}\n"
      ],
      "text/markdown": [
       "1. TRUE\n",
       "2. FALSE\n",
       "3. TRUE\n",
       "\n",
       "\n"
      ],
      "text/plain": [
       "[1]  TRUE FALSE  TRUE"
      ]
     },
     "metadata": {},
     "output_type": "display_data"
    },
    {
     "data": {
      "text/html": [
       "<style>\n",
       ".list-inline {list-style: none; margin:0; padding: 0}\n",
       ".list-inline>li {display: inline-block}\n",
       ".list-inline>li:not(:last-child)::after {content: \"\\00b7\"; padding: 0 .5ex}\n",
       "</style>\n",
       "<ol class=list-inline><li>37.5</li><li>8.2</li><li>9.6</li><li>11.8</li><li>24.9</li></ol>\n"
      ],
      "text/latex": [
       "\\begin{enumerate*}\n",
       "\\item 37.5\n",
       "\\item 8.2\n",
       "\\item 9.6\n",
       "\\item 11.8\n",
       "\\item 24.9\n",
       "\\end{enumerate*}\n"
      ],
      "text/markdown": [
       "1. 37.5\n",
       "2. 8.2\n",
       "3. 9.6\n",
       "4. 11.8\n",
       "5. 24.9\n",
       "\n",
       "\n"
      ],
      "text/plain": [
       "[1] 37.5  8.2  9.6 11.8 24.9"
      ]
     },
     "metadata": {},
     "output_type": "display_data"
    }
   ],
   "source": [
    "v.1 <- c('Cyan', 'Magenta', 'Yellow', 'Black')\n",
    "v.2 <- c(T, F, T)\n",
    "v.3 <- c(37.5, 8.2, 9.6, 11.8, 24.9)\n",
    "v.1\n",
    "v.2\n",
    "v.3"
   ]
  },
  {
   "cell_type": "code",
   "execution_count": 7,
   "id": "079a2433",
   "metadata": {},
   "outputs": [],
   "source": [
    "v1 <- c('T','F','T')\n",
    "v2 <- c(T, F, T, T)"
   ]
  },
  {
   "cell_type": "code",
   "execution_count": 8,
   "id": "897ee766",
   "metadata": {},
   "outputs": [
    {
     "ename": "ERROR",
     "evalue": "Error in sum(v1): invalid 'type' (character) of argument\n",
     "output_type": "error",
     "traceback": [
      "Error in sum(v1): invalid 'type' (character) of argument\nTraceback:\n"
     ]
    }
   ],
   "source": [
    "sum(v1)"
   ]
  },
  {
   "cell_type": "code",
   "execution_count": 9,
   "id": "acb732a2",
   "metadata": {},
   "outputs": [
    {
     "data": {
      "text/html": [
       "3"
      ],
      "text/latex": [
       "3"
      ],
      "text/markdown": [
       "3"
      ],
      "text/plain": [
       "[1] 3"
      ]
     },
     "metadata": {},
     "output_type": "display_data"
    }
   ],
   "source": [
    "sum(v2)"
   ]
  },
  {
   "cell_type": "code",
   "execution_count": 10,
   "id": "ceff3288",
   "metadata": {},
   "outputs": [
    {
     "data": {
      "text/html": [
       "<style>\n",
       ".list-inline {list-style: none; margin:0; padding: 0}\n",
       ".list-inline>li {display: inline-block}\n",
       ".list-inline>li:not(:last-child)::after {content: \"\\00b7\"; padding: 0 .5ex}\n",
       "</style>\n",
       "<ol class=list-inline><li>100</li><li>102</li><li>104</li><li>106</li><li>108</li><li>110</li><li>112</li><li>114</li><li>116</li><li>118</li><li>120</li><li>122</li><li>124</li><li>126</li><li>128</li><li>130</li><li>132</li><li>134</li><li>136</li><li>138</li><li>140</li><li>142</li><li>144</li><li>146</li><li>148</li><li>150</li><li>152</li><li>154</li><li>156</li><li>158</li><li>160</li><li>162</li><li>164</li><li>166</li><li>168</li><li>170</li><li>172</li><li>174</li><li>176</li><li>178</li><li>180</li><li>182</li><li>184</li><li>186</li><li>188</li><li>190</li><li>192</li><li>194</li><li>196</li><li>198</li><li>200</li></ol>\n"
      ],
      "text/latex": [
       "\\begin{enumerate*}\n",
       "\\item 100\n",
       "\\item 102\n",
       "\\item 104\n",
       "\\item 106\n",
       "\\item 108\n",
       "\\item 110\n",
       "\\item 112\n",
       "\\item 114\n",
       "\\item 116\n",
       "\\item 118\n",
       "\\item 120\n",
       "\\item 122\n",
       "\\item 124\n",
       "\\item 126\n",
       "\\item 128\n",
       "\\item 130\n",
       "\\item 132\n",
       "\\item 134\n",
       "\\item 136\n",
       "\\item 138\n",
       "\\item 140\n",
       "\\item 142\n",
       "\\item 144\n",
       "\\item 146\n",
       "\\item 148\n",
       "\\item 150\n",
       "\\item 152\n",
       "\\item 154\n",
       "\\item 156\n",
       "\\item 158\n",
       "\\item 160\n",
       "\\item 162\n",
       "\\item 164\n",
       "\\item 166\n",
       "\\item 168\n",
       "\\item 170\n",
       "\\item 172\n",
       "\\item 174\n",
       "\\item 176\n",
       "\\item 178\n",
       "\\item 180\n",
       "\\item 182\n",
       "\\item 184\n",
       "\\item 186\n",
       "\\item 188\n",
       "\\item 190\n",
       "\\item 192\n",
       "\\item 194\n",
       "\\item 196\n",
       "\\item 198\n",
       "\\item 200\n",
       "\\end{enumerate*}\n"
      ],
      "text/markdown": [
       "1. 100\n",
       "2. 102\n",
       "3. 104\n",
       "4. 106\n",
       "5. 108\n",
       "6. 110\n",
       "7. 112\n",
       "8. 114\n",
       "9. 116\n",
       "10. 118\n",
       "11. 120\n",
       "12. 122\n",
       "13. 124\n",
       "14. 126\n",
       "15. 128\n",
       "16. 130\n",
       "17. 132\n",
       "18. 134\n",
       "19. 136\n",
       "20. 138\n",
       "21. 140\n",
       "22. 142\n",
       "23. 144\n",
       "24. 146\n",
       "25. 148\n",
       "26. 150\n",
       "27. 152\n",
       "28. 154\n",
       "29. 156\n",
       "30. 158\n",
       "31. 160\n",
       "32. 162\n",
       "33. 164\n",
       "34. 166\n",
       "35. 168\n",
       "36. 170\n",
       "37. 172\n",
       "38. 174\n",
       "39. 176\n",
       "40. 178\n",
       "41. 180\n",
       "42. 182\n",
       "43. 184\n",
       "44. 186\n",
       "45. 188\n",
       "46. 190\n",
       "47. 192\n",
       "48. 194\n",
       "49. 196\n",
       "50. 198\n",
       "51. 200\n",
       "\n",
       "\n"
      ],
      "text/plain": [
       " [1] 100 102 104 106 108 110 112 114 116 118 120 122 124 126 128 130 132 134 136\n",
       "[20] 138 140 142 144 146 148 150 152 154 156 158 160 162 164 166 168 170 172 174\n",
       "[39] 176 178 180 182 184 186 188 190 192 194 196 198 200"
      ]
     },
     "metadata": {},
     "output_type": "display_data"
    }
   ],
   "source": [
    "even <- seq(100, 200,2)\n",
    "even"
   ]
  },
  {
   "cell_type": "code",
   "execution_count": 11,
   "id": "13a2c040",
   "metadata": {},
   "outputs": [
    {
     "data": {
      "text/html": [
       "7650"
      ],
      "text/latex": [
       "7650"
      ],
      "text/markdown": [
       "7650"
      ],
      "text/plain": [
       "[1] 7650"
      ]
     },
     "metadata": {},
     "output_type": "display_data"
    }
   ],
   "source": [
    "sum(even)"
   ]
  },
  {
   "cell_type": "code",
   "execution_count": 12,
   "id": "1e2283a5",
   "metadata": {},
   "outputs": [],
   "source": [
    "a <- c(1, 2)\n",
    "b <- '3'\n",
    "c <- c(a, b)\n",
    "d <- '4'"
   ]
  },
  {
   "cell_type": "code",
   "execution_count": 13,
   "id": "2daae9e9",
   "metadata": {},
   "outputs": [
    {
     "data": {
      "text/html": [
       "'numeric'"
      ],
      "text/latex": [
       "'numeric'"
      ],
      "text/markdown": [
       "'numeric'"
      ],
      "text/plain": [
       "[1] \"numeric\""
      ]
     },
     "metadata": {},
     "output_type": "display_data"
    },
    {
     "data": {
      "text/html": [
       "'character'"
      ],
      "text/latex": [
       "'character'"
      ],
      "text/markdown": [
       "'character'"
      ],
      "text/plain": [
       "[1] \"character\""
      ]
     },
     "metadata": {},
     "output_type": "display_data"
    },
    {
     "data": {
      "text/html": [
       "'character'"
      ],
      "text/latex": [
       "'character'"
      ],
      "text/markdown": [
       "'character'"
      ],
      "text/plain": [
       "[1] \"character\""
      ]
     },
     "metadata": {},
     "output_type": "display_data"
    },
    {
     "data": {
      "text/html": [
       "'character'"
      ],
      "text/latex": [
       "'character'"
      ],
      "text/markdown": [
       "'character'"
      ],
      "text/plain": [
       "[1] \"character\""
      ]
     },
     "metadata": {},
     "output_type": "display_data"
    }
   ],
   "source": [
    "class(a)\n",
    "class(b)\n",
    "class(c)\n",
    "class(d)"
   ]
  },
  {
   "cell_type": "code",
   "execution_count": 14,
   "id": "7563c8c8",
   "metadata": {},
   "outputs": [
    {
     "data": {
      "text/html": [
       "25"
      ],
      "text/latex": [
       "25"
      ],
      "text/markdown": [
       "25"
      ],
      "text/plain": [
       "[1] 25"
      ]
     },
     "metadata": {},
     "output_type": "display_data"
    }
   ],
   "source": [
    "a <- 25:150\n",
    "condi <- a[a%%3 ==0 & a < 100]\n",
    "length(condi)"
   ]
  },
  {
   "cell_type": "code",
   "execution_count": 15,
   "id": "b3ac1faa",
   "metadata": {},
   "outputs": [
    {
     "data": {
      "text/html": [
       "25"
      ],
      "text/latex": [
       "25"
      ],
      "text/markdown": [
       "25"
      ],
      "text/plain": [
       "[1] 25"
      ]
     },
     "metadata": {},
     "output_type": "display_data"
    }
   ],
   "source": [
    "condi <- (a%%3==0) & (a<100)\n",
    "sum(condi)"
   ]
  },
  {
   "cell_type": "code",
   "execution_count": 16,
   "id": "116e3e34",
   "metadata": {},
   "outputs": [],
   "source": [
    "phone <- list(model ='Silver Wolf sw8',\n",
    "             capacity = c(100, 200, 300, 9999),\n",
    "             display = 'orvn group.IO',\n",
    "             color = c(\"black\", \"red\", \"white\"))"
   ]
  },
  {
   "cell_type": "code",
   "execution_count": 17,
   "id": "b5389851",
   "metadata": {},
   "outputs": [
    {
     "data": {
      "text/html": [
       "<style>\n",
       ".list-inline {list-style: none; margin:0; padding: 0}\n",
       ".list-inline>li {display: inline-block}\n",
       ".list-inline>li:not(:last-child)::after {content: \"\\00b7\"; padding: 0 .5ex}\n",
       "</style>\n",
       "<ol class=list-inline><li>'black'</li><li>'red'</li><li>'white'</li></ol>\n"
      ],
      "text/latex": [
       "\\begin{enumerate*}\n",
       "\\item 'black'\n",
       "\\item 'red'\n",
       "\\item 'white'\n",
       "\\end{enumerate*}\n"
      ],
      "text/markdown": [
       "1. 'black'\n",
       "2. 'red'\n",
       "3. 'white'\n",
       "\n",
       "\n"
      ],
      "text/plain": [
       "[1] \"black\" \"red\"   \"white\""
      ]
     },
     "metadata": {},
     "output_type": "display_data"
    }
   ],
   "source": [
    "phone$color"
   ]
  },
  {
   "cell_type": "code",
   "execution_count": 18,
   "id": "d0370c72",
   "metadata": {},
   "outputs": [
    {
     "data": {
      "text/html": [
       "<style>\n",
       ".list-inline {list-style: none; margin:0; padding: 0}\n",
       ".list-inline>li {display: inline-block}\n",
       ".list-inline>li:not(:last-child)::after {content: \"\\00b7\"; padding: 0 .5ex}\n",
       "</style>\n",
       "<ol class=list-inline><li>'black'</li><li>'red'</li><li>'white'</li></ol>\n"
      ],
      "text/latex": [
       "\\begin{enumerate*}\n",
       "\\item 'black'\n",
       "\\item 'red'\n",
       "\\item 'white'\n",
       "\\end{enumerate*}\n"
      ],
      "text/markdown": [
       "1. 'black'\n",
       "2. 'red'\n",
       "3. 'white'\n",
       "\n",
       "\n"
      ],
      "text/plain": [
       "[1] \"black\" \"red\"   \"white\""
      ]
     },
     "metadata": {},
     "output_type": "display_data"
    }
   ],
   "source": [
    "phone[[4]]"
   ]
  },
  {
   "cell_type": "code",
   "execution_count": 19,
   "id": "112a6426",
   "metadata": {},
   "outputs": [
    {
     "data": {
      "text/html": [
       "<strong>$color</strong> = <style>\n",
       ".list-inline {list-style: none; margin:0; padding: 0}\n",
       ".list-inline>li {display: inline-block}\n",
       ".list-inline>li:not(:last-child)::after {content: \"\\00b7\"; padding: 0 .5ex}\n",
       "</style>\n",
       "<ol class=list-inline><li>'black'</li><li>'red'</li><li>'white'</li></ol>\n"
      ],
      "text/latex": [
       "\\textbf{\\$color} = \\begin{enumerate*}\n",
       "\\item 'black'\n",
       "\\item 'red'\n",
       "\\item 'white'\n",
       "\\end{enumerate*}\n"
      ],
      "text/markdown": [
       "**$color** = 1. 'black'\n",
       "2. 'red'\n",
       "3. 'white'\n",
       "\n",
       "\n"
      ],
      "text/plain": [
       "$color\n",
       "[1] \"black\" \"red\"   \"white\"\n"
      ]
     },
     "metadata": {},
     "output_type": "display_data"
    }
   ],
   "source": [
    "phone['color']"
   ]
  },
  {
   "cell_type": "code",
   "execution_count": 20,
   "id": "5b95248b",
   "metadata": {},
   "outputs": [],
   "source": [
    "post <- list(user_id = 'Layla',\n",
    "            post_id = 'Silver_wolf',\n",
    "            view = 37,\n",
    "            image = F,\n",
    "            like = c('layla', 'teyvat', 'silverwolf'))"
   ]
  },
  {
   "cell_type": "code",
   "execution_count": 21,
   "id": "d45dc6a7",
   "metadata": {},
   "outputs": [
    {
     "data": {
      "text/html": [
       "<style>\n",
       ".list-inline {list-style: none; margin:0; padding: 0}\n",
       ".list-inline>li {display: inline-block}\n",
       ".list-inline>li:not(:last-child)::after {content: \"\\00b7\"; padding: 0 .5ex}\n",
       "</style>\n",
       "<ol class=list-inline><li>'layla'</li><li>'teyvat'</li><li>'silverwolf'</li></ol>\n"
      ],
      "text/latex": [
       "\\begin{enumerate*}\n",
       "\\item 'layla'\n",
       "\\item 'teyvat'\n",
       "\\item 'silverwolf'\n",
       "\\end{enumerate*}\n"
      ],
      "text/markdown": [
       "1. 'layla'\n",
       "2. 'teyvat'\n",
       "3. 'silverwolf'\n",
       "\n",
       "\n"
      ],
      "text/plain": [
       "[1] \"layla\"      \"teyvat\"     \"silverwolf\""
      ]
     },
     "metadata": {},
     "output_type": "display_data"
    }
   ],
   "source": [
    "post$like"
   ]
  }
 ],
 "metadata": {
  "kernelspec": {
   "display_name": "R",
   "language": "R",
   "name": "ir"
  },
  "language_info": {
   "codemirror_mode": "r",
   "file_extension": ".r",
   "mimetype": "text/x-r-source",
   "name": "R",
   "pygments_lexer": "r",
   "version": "4.3.1"
  }
 },
 "nbformat": 4,
 "nbformat_minor": 5
}
