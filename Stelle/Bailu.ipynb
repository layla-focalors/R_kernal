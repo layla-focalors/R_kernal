{
 "cells": [
  {
   "cell_type": "code",
   "execution_count": 1,
   "id": "4ab3e501",
   "metadata": {},
   "outputs": [],
   "source": [
    "x <- c(2, 4, 6, 8)\n",
    "y <- c(10, 12, 14, 16)\n",
    "z <- c(18, 20, 22, 24)"
   ]
  },
  {
   "cell_type": "code",
   "execution_count": 2,
   "id": "c0afd580",
   "metadata": {},
   "outputs": [
    {
     "data": {
      "text/html": [
       "<table class=\"dataframe\">\n",
       "<caption>A matrix: 4 × 3 of type dbl</caption>\n",
       "<thead>\n",
       "\t<tr><th scope=col>x</th><th scope=col>y</th><th scope=col>z</th></tr>\n",
       "</thead>\n",
       "<tbody>\n",
       "\t<tr><td>2</td><td>10</td><td>18</td></tr>\n",
       "\t<tr><td>4</td><td>12</td><td>20</td></tr>\n",
       "\t<tr><td>6</td><td>14</td><td>22</td></tr>\n",
       "\t<tr><td>8</td><td>16</td><td>24</td></tr>\n",
       "</tbody>\n",
       "</table>\n"
      ],
      "text/latex": [
       "A matrix: 4 × 3 of type dbl\n",
       "\\begin{tabular}{lll}\n",
       " x & y & z\\\\\n",
       "\\hline\n",
       "\t 2 & 10 & 18\\\\\n",
       "\t 4 & 12 & 20\\\\\n",
       "\t 6 & 14 & 22\\\\\n",
       "\t 8 & 16 & 24\\\\\n",
       "\\end{tabular}\n"
      ],
      "text/markdown": [
       "\n",
       "A matrix: 4 × 3 of type dbl\n",
       "\n",
       "| x | y | z |\n",
       "|---|---|---|\n",
       "| 2 | 10 | 18 |\n",
       "| 4 | 12 | 20 |\n",
       "| 6 | 14 | 22 |\n",
       "| 8 | 16 | 24 |\n",
       "\n"
      ],
      "text/plain": [
       "     x y  z \n",
       "[1,] 2 10 18\n",
       "[2,] 4 12 20\n",
       "[3,] 6 14 22\n",
       "[4,] 8 16 24"
      ]
     },
     "metadata": {},
     "output_type": "display_data"
    }
   ],
   "source": [
    "cbind(x, y, z)"
   ]
  },
  {
   "cell_type": "code",
   "execution_count": 6,
   "id": "6dbb9746",
   "metadata": {},
   "outputs": [
    {
     "data": {
      "text/html": [
       "<table class=\"dataframe\">\n",
       "<caption>A matrix: 4 × 3 of type dbl</caption>\n",
       "<tbody>\n",
       "\t<tr><td>2</td><td>10</td><td>18</td></tr>\n",
       "\t<tr><td>4</td><td>12</td><td>20</td></tr>\n",
       "\t<tr><td>6</td><td>14</td><td>22</td></tr>\n",
       "\t<tr><td>8</td><td>16</td><td>24</td></tr>\n",
       "</tbody>\n",
       "</table>\n"
      ],
      "text/latex": [
       "A matrix: 4 × 3 of type dbl\n",
       "\\begin{tabular}{lll}\n",
       "\t 2 & 10 & 18\\\\\n",
       "\t 4 & 12 & 20\\\\\n",
       "\t 6 & 14 & 22\\\\\n",
       "\t 8 & 16 & 24\\\\\n",
       "\\end{tabular}\n"
      ],
      "text/markdown": [
       "\n",
       "A matrix: 4 × 3 of type dbl\n",
       "\n",
       "| 2 | 10 | 18 |\n",
       "| 4 | 12 | 20 |\n",
       "| 6 | 14 | 22 |\n",
       "| 8 | 16 | 24 |\n",
       "\n"
      ],
      "text/plain": [
       "     [,1] [,2] [,3]\n",
       "[1,] 2    10   18  \n",
       "[2,] 4    12   20  \n",
       "[3,] 6    14   22  \n",
       "[4,] 8    16   24  "
      ]
     },
     "metadata": {},
     "output_type": "display_data"
    }
   ],
   "source": [
    "matrix(c(2, 10, 18,\n",
    "        4, 12, 20,\n",
    "        6, 14, 22,\n",
    "        8, 16, 24), nrow=4, byrow=T)"
   ]
  },
  {
   "cell_type": "code",
   "execution_count": 7,
   "id": "b5b85b58",
   "metadata": {},
   "outputs": [
    {
     "data": {
      "text/html": [
       "<table class=\"dataframe\">\n",
       "<caption>A matrix: 4 × 3 of type dbl</caption>\n",
       "<tbody>\n",
       "\t<tr><td>2</td><td>10</td><td>18</td></tr>\n",
       "\t<tr><td>4</td><td>12</td><td>20</td></tr>\n",
       "\t<tr><td>6</td><td>14</td><td>22</td></tr>\n",
       "\t<tr><td>8</td><td>16</td><td>24</td></tr>\n",
       "</tbody>\n",
       "</table>\n"
      ],
      "text/latex": [
       "A matrix: 4 × 3 of type dbl\n",
       "\\begin{tabular}{lll}\n",
       "\t 2 & 10 & 18\\\\\n",
       "\t 4 & 12 & 20\\\\\n",
       "\t 6 & 14 & 22\\\\\n",
       "\t 8 & 16 & 24\\\\\n",
       "\\end{tabular}\n"
      ],
      "text/markdown": [
       "\n",
       "A matrix: 4 × 3 of type dbl\n",
       "\n",
       "| 2 | 10 | 18 |\n",
       "| 4 | 12 | 20 |\n",
       "| 6 | 14 | 22 |\n",
       "| 8 | 16 | 24 |\n",
       "\n"
      ],
      "text/plain": [
       "     [,1] [,2] [,3]\n",
       "[1,] 2    10   18  \n",
       "[2,] 4    12   20  \n",
       "[3,] 6    14   22  \n",
       "[4,] 8    16   24  "
      ]
     },
     "metadata": {},
     "output_type": "display_data"
    }
   ],
   "source": [
    "matrix(c(2, 4, 6, 8, 10, 12, 14, 16, 18, 20, 22, 24), nrow=4)"
   ]
  },
  {
   "cell_type": "code",
   "execution_count": 8,
   "id": "0200b5f6",
   "metadata": {},
   "outputs": [],
   "source": [
    "x <- c(9, 7, 5, 3)\n",
    "y <- c(8, 11, 2, 9)"
   ]
  },
  {
   "cell_type": "code",
   "execution_count": 10,
   "id": "a1c90c37",
   "metadata": {},
   "outputs": [
    {
     "data": {
      "text/html": [
       "<table class=\"dataframe\">\n",
       "<caption>A matrix: 2 × 4 of type dbl</caption>\n",
       "<tbody>\n",
       "\t<tr><th scope=row>x</th><td>9</td><td> 7</td><td>5</td><td>3</td></tr>\n",
       "\t<tr><th scope=row>y</th><td>8</td><td>11</td><td>2</td><td>9</td></tr>\n",
       "</tbody>\n",
       "</table>\n"
      ],
      "text/latex": [
       "A matrix: 2 × 4 of type dbl\n",
       "\\begin{tabular}{r|llll}\n",
       "\tx & 9 &  7 & 5 & 3\\\\\n",
       "\ty & 8 & 11 & 2 & 9\\\\\n",
       "\\end{tabular}\n"
      ],
      "text/markdown": [
       "\n",
       "A matrix: 2 × 4 of type dbl\n",
       "\n",
       "| x | 9 |  7 | 5 | 3 |\n",
       "| y | 8 | 11 | 2 | 9 |\n",
       "\n"
      ],
      "text/plain": [
       "  [,1] [,2] [,3] [,4]\n",
       "x 9     7   5    3   \n",
       "y 8    11   2    9   "
      ]
     },
     "metadata": {},
     "output_type": "display_data"
    }
   ],
   "source": [
    "m <- rbind(x, y)\n",
    "m"
   ]
  },
  {
   "cell_type": "code",
   "execution_count": 11,
   "id": "e369a77d",
   "metadata": {},
   "outputs": [],
   "source": [
    "rownames(m) <- c('x', '\n",
    "y')"
   ]
  },
  {
   "cell_type": "code",
   "execution_count": 12,
   "id": "b7aa42cf",
   "metadata": {},
   "outputs": [],
   "source": [
    "colnames(m) <- c('a', 'b', 'c', 'd')"
   ]
  },
  {
   "cell_type": "code",
   "execution_count": 13,
   "id": "c92494bf",
   "metadata": {},
   "outputs": [
    {
     "data": {
      "text/html": [
       "<table class=\"dataframe\">\n",
       "<caption>A matrix: 2 × 4 of type dbl</caption>\n",
       "<thead>\n",
       "\t<tr><th></th><th scope=col>a</th><th scope=col>b</th><th scope=col>c</th><th scope=col>d</th></tr>\n",
       "</thead>\n",
       "<tbody>\n",
       "\t<tr><th scope=row>x</th><td>9</td><td> 7</td><td>5</td><td>3</td></tr>\n",
       "\t<tr><th scope=row>\n",
       "y</th><td>8</td><td>11</td><td>2</td><td>9</td></tr>\n",
       "</tbody>\n",
       "</table>\n"
      ],
      "text/latex": [
       "A matrix: 2 × 4 of type dbl\n",
       "\\begin{tabular}{r|llll}\n",
       "  & a & b & c & d\\\\\n",
       "\\hline\n",
       "\tx & 9 &  7 & 5 & 3\\\\\n",
       "\t\n",
       "y & 8 & 11 & 2 & 9\\\\\n",
       "\\end{tabular}\n"
      ],
      "text/markdown": [
       "\n",
       "A matrix: 2 × 4 of type dbl\n",
       "\n",
       "| <!--/--> | a | b | c | d |\n",
       "|---|---|---|---|---|\n",
       "| x | 9 |  7 | 5 | 3 |\n",
       "| \n",
       "y | 8 | 11 | 2 | 9 |\n",
       "\n"
      ],
      "text/plain": [
       "    a b  c d\n",
       "x   9  7 5 3\n",
       "\\ny 8 11 2 9"
      ]
     },
     "metadata": {},
     "output_type": "display_data"
    }
   ],
   "source": [
    "m"
   ]
  },
  {
   "cell_type": "code",
   "execution_count": 14,
   "id": "cfdf4896",
   "metadata": {},
   "outputs": [],
   "source": [
    "blood <- c('A', 'O', 'AB', 'B', 'B')\n",
    "rh <- c('+', '+', '-', '+', '+')\n",
    "age <- c(21, 30, 43, 17, 26)"
   ]
  },
  {
   "cell_type": "code",
   "execution_count": 15,
   "id": "2f82bb75",
   "metadata": {},
   "outputs": [],
   "source": [
    "df <- data.frame(blood, rh, age)"
   ]
  },
  {
   "cell_type": "code",
   "execution_count": 16,
   "id": "05ea9c6f",
   "metadata": {},
   "outputs": [
    {
     "data": {
      "text/html": [
       "<table class=\"dataframe\">\n",
       "<caption>A data.frame: 5 × 3</caption>\n",
       "<thead>\n",
       "\t<tr><th scope=col>blood</th><th scope=col>rh</th><th scope=col>age</th></tr>\n",
       "\t<tr><th scope=col>&lt;chr&gt;</th><th scope=col>&lt;chr&gt;</th><th scope=col>&lt;dbl&gt;</th></tr>\n",
       "</thead>\n",
       "<tbody>\n",
       "\t<tr><td>A </td><td>+</td><td>21</td></tr>\n",
       "\t<tr><td>O </td><td>+</td><td>30</td></tr>\n",
       "\t<tr><td>AB</td><td>-</td><td>43</td></tr>\n",
       "\t<tr><td>B </td><td>+</td><td>17</td></tr>\n",
       "\t<tr><td>B </td><td>+</td><td>26</td></tr>\n",
       "</tbody>\n",
       "</table>\n"
      ],
      "text/latex": [
       "A data.frame: 5 × 3\n",
       "\\begin{tabular}{lll}\n",
       " blood & rh & age\\\\\n",
       " <chr> & <chr> & <dbl>\\\\\n",
       "\\hline\n",
       "\t A  & + & 21\\\\\n",
       "\t O  & + & 30\\\\\n",
       "\t AB & - & 43\\\\\n",
       "\t B  & + & 17\\\\\n",
       "\t B  & + & 26\\\\\n",
       "\\end{tabular}\n"
      ],
      "text/markdown": [
       "\n",
       "A data.frame: 5 × 3\n",
       "\n",
       "| blood &lt;chr&gt; | rh &lt;chr&gt; | age &lt;dbl&gt; |\n",
       "|---|---|---|\n",
       "| A  | + | 21 |\n",
       "| O  | + | 30 |\n",
       "| AB | - | 43 |\n",
       "| B  | + | 17 |\n",
       "| B  | + | 26 |\n",
       "\n"
      ],
      "text/plain": [
       "  blood rh age\n",
       "1 A     +  21 \n",
       "2 O     +  30 \n",
       "3 AB    -  43 \n",
       "4 B     +  17 \n",
       "5 B     +  26 "
      ]
     },
     "metadata": {},
     "output_type": "display_data"
    }
   ],
   "source": [
    "df"
   ]
  },
  {
   "cell_type": "code",
   "execution_count": 17,
   "id": "0952e81c",
   "metadata": {},
   "outputs": [
    {
     "data": {
      "text/html": [
       "<style>\n",
       ".list-inline {list-style: none; margin:0; padding: 0}\n",
       ".list-inline>li {display: inline-block}\n",
       ".list-inline>li:not(:last-child)::after {content: \"\\00b7\"; padding: 0 .5ex}\n",
       "</style>\n",
       "<ol class=list-inline><li>'blood'</li><li>'rh'</li><li>'age'</li></ol>\n"
      ],
      "text/latex": [
       "\\begin{enumerate*}\n",
       "\\item 'blood'\n",
       "\\item 'rh'\n",
       "\\item 'age'\n",
       "\\end{enumerate*}\n"
      ],
      "text/markdown": [
       "1. 'blood'\n",
       "2. 'rh'\n",
       "3. 'age'\n",
       "\n",
       "\n"
      ],
      "text/plain": [
       "[1] \"blood\" \"rh\"    \"age\"  "
      ]
     },
     "metadata": {},
     "output_type": "display_data"
    }
   ],
   "source": [
    "colnames(df)"
   ]
  },
  {
   "cell_type": "code",
   "execution_count": null,
   "id": "fdbfcea9",
   "metadata": {},
   "outputs": [],
   "source": [
    "df['blood']"
   ]
  },
  {
   "cell_type": "code",
   "execution_count": 24,
   "id": "ea533b35",
   "metadata": {},
   "outputs": [],
   "source": [
    "df.nb <- df[df$blood != 'B', ]"
   ]
  },
  {
   "cell_type": "code",
   "execution_count": 25,
   "id": "b2fd3ddb",
   "metadata": {},
   "outputs": [
    {
     "data": {
      "text/html": [
       "<table class=\"dataframe\">\n",
       "<caption>A data.frame: 3 × 3</caption>\n",
       "<thead>\n",
       "\t<tr><th></th><th scope=col>blood</th><th scope=col>rh</th><th scope=col>age</th></tr>\n",
       "\t<tr><th></th><th scope=col>&lt;chr&gt;</th><th scope=col>&lt;chr&gt;</th><th scope=col>&lt;dbl&gt;</th></tr>\n",
       "</thead>\n",
       "<tbody>\n",
       "\t<tr><th scope=row>1</th><td>A </td><td>+</td><td>21</td></tr>\n",
       "\t<tr><th scope=row>2</th><td>O </td><td>+</td><td>30</td></tr>\n",
       "\t<tr><th scope=row>3</th><td>AB</td><td>-</td><td>43</td></tr>\n",
       "</tbody>\n",
       "</table>\n"
      ],
      "text/latex": [
       "A data.frame: 3 × 3\n",
       "\\begin{tabular}{r|lll}\n",
       "  & blood & rh & age\\\\\n",
       "  & <chr> & <chr> & <dbl>\\\\\n",
       "\\hline\n",
       "\t1 & A  & + & 21\\\\\n",
       "\t2 & O  & + & 30\\\\\n",
       "\t3 & AB & - & 43\\\\\n",
       "\\end{tabular}\n"
      ],
      "text/markdown": [
       "\n",
       "A data.frame: 3 × 3\n",
       "\n",
       "| <!--/--> | blood &lt;chr&gt; | rh &lt;chr&gt; | age &lt;dbl&gt; |\n",
       "|---|---|---|---|\n",
       "| 1 | A  | + | 21 |\n",
       "| 2 | O  | + | 30 |\n",
       "| 3 | AB | - | 43 |\n",
       "\n"
      ],
      "text/plain": [
       "  blood rh age\n",
       "1 A     +  21 \n",
       "2 O     +  30 \n",
       "3 AB    -  43 "
      ]
     },
     "metadata": {},
     "output_type": "display_data"
    }
   ],
   "source": [
    "df.nb"
   ]
  },
  {
   "cell_type": "code",
   "execution_count": 26,
   "id": "0f6722b1",
   "metadata": {},
   "outputs": [],
   "source": [
    "df = cars"
   ]
  },
  {
   "cell_type": "code",
   "execution_count": 27,
   "id": "db9ca6b1",
   "metadata": {},
   "outputs": [
    {
     "data": {
      "text/html": [
       "<style>\n",
       ".list-inline {list-style: none; margin:0; padding: 0}\n",
       ".list-inline>li {display: inline-block}\n",
       ".list-inline>li:not(:last-child)::after {content: \"\\00b7\"; padding: 0 .5ex}\n",
       "</style>\n",
       "<ol class=list-inline><li>50</li><li>2</li></ol>\n"
      ],
      "text/latex": [
       "\\begin{enumerate*}\n",
       "\\item 50\n",
       "\\item 2\n",
       "\\end{enumerate*}\n"
      ],
      "text/markdown": [
       "1. 50\n",
       "2. 2\n",
       "\n",
       "\n"
      ],
      "text/plain": [
       "[1] 50  2"
      ]
     },
     "metadata": {},
     "output_type": "display_data"
    }
   ],
   "source": [
    "dim(df)"
   ]
  },
  {
   "cell_type": "code",
   "execution_count": 28,
   "id": "cf0efbe7",
   "metadata": {},
   "outputs": [],
   "source": [
    "number <- 1:7\n",
    "title <- c('1', '2', '3', '4', '5', '6', '7')\n",
    "like <- c(16075, 8218, 12119, 738, 3200, 16144, 5110)\n",
    "love <- data.frame(number, title, like)"
   ]
  },
  {
   "cell_type": "code",
   "execution_count": 29,
   "id": "790c7dcb",
   "metadata": {},
   "outputs": [
    {
     "data": {
      "text/html": [
       "<table class=\"dataframe\">\n",
       "<caption>A data.frame: 7 × 3</caption>\n",
       "<thead>\n",
       "\t<tr><th scope=col>number</th><th scope=col>title</th><th scope=col>like</th></tr>\n",
       "\t<tr><th scope=col>&lt;int&gt;</th><th scope=col>&lt;chr&gt;</th><th scope=col>&lt;dbl&gt;</th></tr>\n",
       "</thead>\n",
       "<tbody>\n",
       "\t<tr><td>1</td><td>1</td><td>16075</td></tr>\n",
       "\t<tr><td>2</td><td>2</td><td> 8218</td></tr>\n",
       "\t<tr><td>3</td><td>3</td><td>12119</td></tr>\n",
       "\t<tr><td>4</td><td>4</td><td>  738</td></tr>\n",
       "\t<tr><td>5</td><td>5</td><td> 3200</td></tr>\n",
       "\t<tr><td>6</td><td>6</td><td>16144</td></tr>\n",
       "\t<tr><td>7</td><td>7</td><td> 5110</td></tr>\n",
       "</tbody>\n",
       "</table>\n"
      ],
      "text/latex": [
       "A data.frame: 7 × 3\n",
       "\\begin{tabular}{lll}\n",
       " number & title & like\\\\\n",
       " <int> & <chr> & <dbl>\\\\\n",
       "\\hline\n",
       "\t 1 & 1 & 16075\\\\\n",
       "\t 2 & 2 &  8218\\\\\n",
       "\t 3 & 3 & 12119\\\\\n",
       "\t 4 & 4 &   738\\\\\n",
       "\t 5 & 5 &  3200\\\\\n",
       "\t 6 & 6 & 16144\\\\\n",
       "\t 7 & 7 &  5110\\\\\n",
       "\\end{tabular}\n"
      ],
      "text/markdown": [
       "\n",
       "A data.frame: 7 × 3\n",
       "\n",
       "| number &lt;int&gt; | title &lt;chr&gt; | like &lt;dbl&gt; |\n",
       "|---|---|---|\n",
       "| 1 | 1 | 16075 |\n",
       "| 2 | 2 |  8218 |\n",
       "| 3 | 3 | 12119 |\n",
       "| 4 | 4 |   738 |\n",
       "| 5 | 5 |  3200 |\n",
       "| 6 | 6 | 16144 |\n",
       "| 7 | 7 |  5110 |\n",
       "\n"
      ],
      "text/plain": [
       "  number title like \n",
       "1 1      1     16075\n",
       "2 2      2      8218\n",
       "3 3      3     12119\n",
       "4 4      4       738\n",
       "5 5      5      3200\n",
       "6 6      6     16144\n",
       "7 7      7      5110"
      ]
     },
     "metadata": {},
     "output_type": "display_data"
    }
   ],
   "source": [
    "love"
   ]
  },
  {
   "cell_type": "code",
   "execution_count": 31,
   "id": "844898e4",
   "metadata": {},
   "outputs": [
    {
     "data": {
      "text/html": [
       "<table class=\"dataframe\">\n",
       "<caption>A data.frame: 1 × 3</caption>\n",
       "<thead>\n",
       "\t<tr><th></th><th scope=col>number</th><th scope=col>title</th><th scope=col>like</th></tr>\n",
       "\t<tr><th></th><th scope=col>&lt;int&gt;</th><th scope=col>&lt;chr&gt;</th><th scope=col>&lt;dbl&gt;</th></tr>\n",
       "</thead>\n",
       "<tbody>\n",
       "\t<tr><th scope=row>6</th><td>6</td><td>6</td><td>16144</td></tr>\n",
       "</tbody>\n",
       "</table>\n"
      ],
      "text/latex": [
       "A data.frame: 1 × 3\n",
       "\\begin{tabular}{r|lll}\n",
       "  & number & title & like\\\\\n",
       "  & <int> & <chr> & <dbl>\\\\\n",
       "\\hline\n",
       "\t6 & 6 & 6 & 16144\\\\\n",
       "\\end{tabular}\n"
      ],
      "text/markdown": [
       "\n",
       "A data.frame: 1 × 3\n",
       "\n",
       "| <!--/--> | number &lt;int&gt; | title &lt;chr&gt; | like &lt;dbl&gt; |\n",
       "|---|---|---|---|\n",
       "| 6 | 6 | 6 | 16144 |\n",
       "\n"
      ],
      "text/plain": [
       "  number title like \n",
       "6 6      6     16144"
      ]
     },
     "metadata": {},
     "output_type": "display_data"
    }
   ],
   "source": [
    "love[love$like == max(love$like), ]"
   ]
  },
  {
   "cell_type": "code",
   "execution_count": 32,
   "id": "d67efc81",
   "metadata": {},
   "outputs": [
    {
     "data": {
      "text/html": [
       "'6'"
      ],
      "text/latex": [
       "'6'"
      ],
      "text/markdown": [
       "'6'"
      ],
      "text/plain": [
       "[1] \"6\""
      ]
     },
     "metadata": {},
     "output_type": "display_data"
    }
   ],
   "source": [
    "best <- rownames(love[love$like == max(love$like), ])\n",
    "best"
   ]
  },
  {
   "cell_type": "code",
   "execution_count": 33,
   "id": "1d1cb528",
   "metadata": {},
   "outputs": [
    {
     "data": {
      "text/html": [
       "'data.frame'"
      ],
      "text/latex": [
       "'data.frame'"
      ],
      "text/markdown": [
       "'data.frame'"
      ],
      "text/plain": [
       "[1] \"data.frame\""
      ]
     },
     "metadata": {},
     "output_type": "display_data"
    }
   ],
   "source": [
    "class(cars)"
   ]
  },
  {
   "cell_type": "code",
   "execution_count": 34,
   "id": "57359f6c",
   "metadata": {},
   "outputs": [
    {
     "data": {
      "text/html": [
       "<style>\n",
       ".list-inline {list-style: none; margin:0; padding: 0}\n",
       ".list-inline>li {display: inline-block}\n",
       ".list-inline>li:not(:last-child)::after {content: \"\\00b7\"; padding: 0 .5ex}\n",
       "</style>\n",
       "<ol class=list-inline><li>50</li><li>2</li></ol>\n"
      ],
      "text/latex": [
       "\\begin{enumerate*}\n",
       "\\item 50\n",
       "\\item 2\n",
       "\\end{enumerate*}\n"
      ],
      "text/markdown": [
       "1. 50\n",
       "2. 2\n",
       "\n",
       "\n"
      ],
      "text/plain": [
       "[1] 50  2"
      ]
     },
     "metadata": {},
     "output_type": "display_data"
    }
   ],
   "source": [
    "dim(cars)"
   ]
  },
  {
   "cell_type": "code",
   "execution_count": 35,
   "id": "efdfc94d",
   "metadata": {},
   "outputs": [
    {
     "data": {
      "text/html": [
       "<table class=\"dataframe\">\n",
       "<caption>A data.frame: 6 × 2</caption>\n",
       "<thead>\n",
       "\t<tr><th></th><th scope=col>speed</th><th scope=col>dist</th></tr>\n",
       "\t<tr><th></th><th scope=col>&lt;dbl&gt;</th><th scope=col>&lt;dbl&gt;</th></tr>\n",
       "</thead>\n",
       "<tbody>\n",
       "\t<tr><th scope=row>1</th><td>4</td><td> 2</td></tr>\n",
       "\t<tr><th scope=row>2</th><td>4</td><td>10</td></tr>\n",
       "\t<tr><th scope=row>3</th><td>7</td><td> 4</td></tr>\n",
       "\t<tr><th scope=row>4</th><td>7</td><td>22</td></tr>\n",
       "\t<tr><th scope=row>5</th><td>8</td><td>16</td></tr>\n",
       "\t<tr><th scope=row>6</th><td>9</td><td>10</td></tr>\n",
       "</tbody>\n",
       "</table>\n"
      ],
      "text/latex": [
       "A data.frame: 6 × 2\n",
       "\\begin{tabular}{r|ll}\n",
       "  & speed & dist\\\\\n",
       "  & <dbl> & <dbl>\\\\\n",
       "\\hline\n",
       "\t1 & 4 &  2\\\\\n",
       "\t2 & 4 & 10\\\\\n",
       "\t3 & 7 &  4\\\\\n",
       "\t4 & 7 & 22\\\\\n",
       "\t5 & 8 & 16\\\\\n",
       "\t6 & 9 & 10\\\\\n",
       "\\end{tabular}\n"
      ],
      "text/markdown": [
       "\n",
       "A data.frame: 6 × 2\n",
       "\n",
       "| <!--/--> | speed &lt;dbl&gt; | dist &lt;dbl&gt; |\n",
       "|---|---|---|\n",
       "| 1 | 4 |  2 |\n",
       "| 2 | 4 | 10 |\n",
       "| 3 | 7 |  4 |\n",
       "| 4 | 7 | 22 |\n",
       "| 5 | 8 | 16 |\n",
       "| 6 | 9 | 10 |\n",
       "\n"
      ],
      "text/plain": [
       "  speed dist\n",
       "1 4      2  \n",
       "2 4     10  \n",
       "3 7      4  \n",
       "4 7     22  \n",
       "5 8     16  \n",
       "6 9     10  "
      ]
     },
     "metadata": {},
     "output_type": "display_data"
    }
   ],
   "source": [
    "head(cars)"
   ]
  },
  {
   "cell_type": "code",
   "execution_count": 36,
   "id": "96dbd02f",
   "metadata": {},
   "outputs": [
    {
     "name": "stdout",
     "output_type": "stream",
     "text": [
      "'data.frame':\t50 obs. of  2 variables:\n",
      " $ speed: num  4 4 7 7 8 9 10 10 10 11 ...\n",
      " $ dist : num  2 10 4 22 16 10 18 26 34 17 ...\n"
     ]
    }
   ],
   "source": [
    "str(cars)"
   ]
  },
  {
   "cell_type": "code",
   "execution_count": 37,
   "id": "6598fdea",
   "metadata": {},
   "outputs": [
    {
     "data": {
      "text/html": [
       "<style>\n",
       ".dl-inline {width: auto; margin:0; padding: 0}\n",
       ".dl-inline>dt, .dl-inline>dd {float: none; width: auto; display: inline-block}\n",
       ".dl-inline>dt::after {content: \":\\0020\"; padding-right: .5ex}\n",
       ".dl-inline>dt:not(:first-of-type) {padding-left: .5ex}\n",
       "</style><dl class=dl-inline><dt>speed</dt><dd>15.4</dd><dt>dist</dt><dd>42.98</dd></dl>\n"
      ],
      "text/latex": [
       "\\begin{description*}\n",
       "\\item[speed] 15.4\n",
       "\\item[dist] 42.98\n",
       "\\end{description*}\n"
      ],
      "text/markdown": [
       "speed\n",
       ":   15.4dist\n",
       ":   42.98\n",
       "\n"
      ],
      "text/plain": [
       "speed  dist \n",
       "15.40 42.98 "
      ]
     },
     "metadata": {},
     "output_type": "display_data"
    }
   ],
   "source": [
    "colMeans(cars)"
   ]
  },
  {
   "cell_type": "code",
   "execution_count": 38,
   "id": "e08603d7",
   "metadata": {},
   "outputs": [
    {
     "data": {
      "text/html": [
       "<style>\n",
       ".dl-inline {width: auto; margin:0; padding: 0}\n",
       ".dl-inline>dt, .dl-inline>dd {float: none; width: auto; display: inline-block}\n",
       ".dl-inline>dt::after {content: \":\\0020\"; padding-right: .5ex}\n",
       ".dl-inline>dt:not(:first-of-type) {padding-left: .5ex}\n",
       "</style><dl class=dl-inline><dt>speed</dt><dd>15.4</dd><dt>dist</dt><dd>42.98</dd></dl>\n"
      ],
      "text/latex": [
       "\\begin{description*}\n",
       "\\item[speed] 15.4\n",
       "\\item[dist] 42.98\n",
       "\\end{description*}\n"
      ],
      "text/markdown": [
       "speed\n",
       ":   15.4dist\n",
       ":   42.98\n",
       "\n"
      ],
      "text/plain": [
       "speed  dist \n",
       "15.40 42.98 "
      ]
     },
     "metadata": {},
     "output_type": "display_data"
    }
   ],
   "source": [
    "apply(cars, 2, mean)"
   ]
  },
  {
   "cell_type": "code",
   "execution_count": 40,
   "id": "1c617ad6",
   "metadata": {},
   "outputs": [
    {
     "data": {
      "text/html": [
       "120"
      ],
      "text/latex": [
       "120"
      ],
      "text/markdown": [
       "120"
      ],
      "text/plain": [
       "[1] 120"
      ]
     },
     "metadata": {},
     "output_type": "display_data"
    }
   ],
   "source": [
    "cars[cars$dist == max(cars$dist), 'dist']"
   ]
  },
  {
   "cell_type": "code",
   "execution_count": 41,
   "id": "b64a866a",
   "metadata": {},
   "outputs": [
    {
     "data": {
      "text/html": [
       "<table class=\"dataframe\">\n",
       "<caption>A data.frame: 1 × 2</caption>\n",
       "<thead>\n",
       "\t<tr><th></th><th scope=col>speed</th><th scope=col>dist</th></tr>\n",
       "\t<tr><th></th><th scope=col>&lt;dbl&gt;</th><th scope=col>&lt;dbl&gt;</th></tr>\n",
       "</thead>\n",
       "<tbody>\n",
       "\t<tr><th scope=row>49</th><td>24</td><td>120</td></tr>\n",
       "</tbody>\n",
       "</table>\n"
      ],
      "text/latex": [
       "A data.frame: 1 × 2\n",
       "\\begin{tabular}{r|ll}\n",
       "  & speed & dist\\\\\n",
       "  & <dbl> & <dbl>\\\\\n",
       "\\hline\n",
       "\t49 & 24 & 120\\\\\n",
       "\\end{tabular}\n"
      ],
      "text/markdown": [
       "\n",
       "A data.frame: 1 × 2\n",
       "\n",
       "| <!--/--> | speed &lt;dbl&gt; | dist &lt;dbl&gt; |\n",
       "|---|---|---|\n",
       "| 49 | 24 | 120 |\n",
       "\n"
      ],
      "text/plain": [
       "   speed dist\n",
       "49 24    120 "
      ]
     },
     "metadata": {},
     "output_type": "display_data"
    }
   ],
   "source": [
    "cars[cars$dist == max(cars$dist), ]"
   ]
  },
  {
   "cell_type": "code",
   "execution_count": 42,
   "id": "99eba08c",
   "metadata": {},
   "outputs": [
    {
     "data": {
      "text/html": [
       "<table class=\"dataframe\">\n",
       "<caption>A data.frame: 1 × 2</caption>\n",
       "<thead>\n",
       "\t<tr><th></th><th scope=col>speed</th><th scope=col>dist</th></tr>\n",
       "\t<tr><th></th><th scope=col>&lt;dbl&gt;</th><th scope=col>&lt;dbl&gt;</th></tr>\n",
       "</thead>\n",
       "<tbody>\n",
       "\t<tr><th scope=row>49</th><td>24</td><td>120</td></tr>\n",
       "</tbody>\n",
       "</table>\n"
      ],
      "text/latex": [
       "A data.frame: 1 × 2\n",
       "\\begin{tabular}{r|ll}\n",
       "  & speed & dist\\\\\n",
       "  & <dbl> & <dbl>\\\\\n",
       "\\hline\n",
       "\t49 & 24 & 120\\\\\n",
       "\\end{tabular}\n"
      ],
      "text/markdown": [
       "\n",
       "A data.frame: 1 × 2\n",
       "\n",
       "| <!--/--> | speed &lt;dbl&gt; | dist &lt;dbl&gt; |\n",
       "|---|---|---|\n",
       "| 49 | 24 | 120 |\n",
       "\n"
      ],
      "text/plain": [
       "   speed dist\n",
       "49 24    120 "
      ]
     },
     "metadata": {},
     "output_type": "display_data"
    }
   ],
   "source": [
    "cars[cars$dist == max(cars$dist), ][c('speed', 'dist')]"
   ]
  }
 ],
 "metadata": {
  "kernelspec": {
   "display_name": "R",
   "language": "R",
   "name": "ir"
  },
  "language_info": {
   "codemirror_mode": "r",
   "file_extension": ".r",
   "mimetype": "text/x-r-source",
   "name": "R",
   "pygments_lexer": "r",
   "version": "4.3.1"
  }
 },
 "nbformat": 4,
 "nbformat_minor": 5
}
