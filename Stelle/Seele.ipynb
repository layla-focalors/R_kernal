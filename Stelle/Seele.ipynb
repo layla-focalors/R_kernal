{
 "cells": [
  {
   "cell_type": "code",
   "execution_count": 1,
   "id": "c792e9fa",
   "metadata": {},
   "outputs": [
    {
     "data": {
      "text/html": [
       "<table class=\"dataframe\">\n",
       "<caption>A data.frame: 3 × 2</caption>\n",
       "<thead>\n",
       "\t<tr><th scope=col>city</th><th scope=col>rank</th></tr>\n",
       "\t<tr><th scope=col>&lt;chr&gt;</th><th scope=col>&lt;dbl&gt;</th></tr>\n",
       "</thead>\n",
       "<tbody>\n",
       "\t<tr><td>Seoul     </td><td>1</td></tr>\n",
       "\t<tr><td>Tokyo     </td><td>2</td></tr>\n",
       "\t<tr><td>Washington</td><td>3</td></tr>\n",
       "</tbody>\n",
       "</table>\n"
      ],
      "text/latex": [
       "A data.frame: 3 × 2\n",
       "\\begin{tabular}{ll}\n",
       " city & rank\\\\\n",
       " <chr> & <dbl>\\\\\n",
       "\\hline\n",
       "\t Seoul      & 1\\\\\n",
       "\t Tokyo      & 2\\\\\n",
       "\t Washington & 3\\\\\n",
       "\\end{tabular}\n"
      ],
      "text/markdown": [
       "\n",
       "A data.frame: 3 × 2\n",
       "\n",
       "| city &lt;chr&gt; | rank &lt;dbl&gt; |\n",
       "|---|---|\n",
       "| Seoul      | 1 |\n",
       "| Tokyo      | 2 |\n",
       "| Washington | 3 |\n",
       "\n"
      ],
      "text/plain": [
       "  city       rank\n",
       "1 Seoul      1   \n",
       "2 Tokyo      2   \n",
       "3 Washington 3   "
      ]
     },
     "metadata": {},
     "output_type": "display_data"
    }
   ],
   "source": [
    "city <- c(\"Seoul\", \"Tokyo\", \"Washington\")\n",
    "rank <- c(1, 2, 3)\n",
    "city.info <- data.frame(city, rank)\n",
    "city.info"
   ]
  },
  {
   "cell_type": "code",
   "execution_count": 2,
   "id": "af844c9f",
   "metadata": {},
   "outputs": [
    {
     "data": {
      "text/html": [
       "'data.frame'"
      ],
      "text/latex": [
       "'data.frame'"
      ],
      "text/markdown": [
       "'data.frame'"
      ],
      "text/plain": [
       "[1] \"data.frame\""
      ]
     },
     "metadata": {},
     "output_type": "display_data"
    }
   ],
   "source": [
    "class(iris)"
   ]
  },
  {
   "cell_type": "code",
   "execution_count": 3,
   "id": "15b5928f",
   "metadata": {},
   "outputs": [
    {
     "data": {
      "text/html": [
       "<table class=\"dataframe\">\n",
       "<caption>A data.frame: 150 × 2</caption>\n",
       "<thead>\n",
       "\t<tr><th scope=col>Sepal.Length</th><th scope=col>Sepal.Width</th></tr>\n",
       "\t<tr><th scope=col>&lt;dbl&gt;</th><th scope=col>&lt;dbl&gt;</th></tr>\n",
       "</thead>\n",
       "<tbody>\n",
       "\t<tr><td>5.1</td><td>3.5</td></tr>\n",
       "\t<tr><td>4.9</td><td>3.0</td></tr>\n",
       "\t<tr><td>4.7</td><td>3.2</td></tr>\n",
       "\t<tr><td>4.6</td><td>3.1</td></tr>\n",
       "\t<tr><td>5.0</td><td>3.6</td></tr>\n",
       "\t<tr><td>5.4</td><td>3.9</td></tr>\n",
       "\t<tr><td>4.6</td><td>3.4</td></tr>\n",
       "\t<tr><td>5.0</td><td>3.4</td></tr>\n",
       "\t<tr><td>4.4</td><td>2.9</td></tr>\n",
       "\t<tr><td>4.9</td><td>3.1</td></tr>\n",
       "\t<tr><td>5.4</td><td>3.7</td></tr>\n",
       "\t<tr><td>4.8</td><td>3.4</td></tr>\n",
       "\t<tr><td>4.8</td><td>3.0</td></tr>\n",
       "\t<tr><td>4.3</td><td>3.0</td></tr>\n",
       "\t<tr><td>5.8</td><td>4.0</td></tr>\n",
       "\t<tr><td>5.7</td><td>4.4</td></tr>\n",
       "\t<tr><td>5.4</td><td>3.9</td></tr>\n",
       "\t<tr><td>5.1</td><td>3.5</td></tr>\n",
       "\t<tr><td>5.7</td><td>3.8</td></tr>\n",
       "\t<tr><td>5.1</td><td>3.8</td></tr>\n",
       "\t<tr><td>5.4</td><td>3.4</td></tr>\n",
       "\t<tr><td>5.1</td><td>3.7</td></tr>\n",
       "\t<tr><td>4.6</td><td>3.6</td></tr>\n",
       "\t<tr><td>5.1</td><td>3.3</td></tr>\n",
       "\t<tr><td>4.8</td><td>3.4</td></tr>\n",
       "\t<tr><td>5.0</td><td>3.0</td></tr>\n",
       "\t<tr><td>5.0</td><td>3.4</td></tr>\n",
       "\t<tr><td>5.2</td><td>3.5</td></tr>\n",
       "\t<tr><td>5.2</td><td>3.4</td></tr>\n",
       "\t<tr><td>4.7</td><td>3.2</td></tr>\n",
       "\t<tr><td>⋮</td><td>⋮</td></tr>\n",
       "\t<tr><td>6.9</td><td>3.2</td></tr>\n",
       "\t<tr><td>5.6</td><td>2.8</td></tr>\n",
       "\t<tr><td>7.7</td><td>2.8</td></tr>\n",
       "\t<tr><td>6.3</td><td>2.7</td></tr>\n",
       "\t<tr><td>6.7</td><td>3.3</td></tr>\n",
       "\t<tr><td>7.2</td><td>3.2</td></tr>\n",
       "\t<tr><td>6.2</td><td>2.8</td></tr>\n",
       "\t<tr><td>6.1</td><td>3.0</td></tr>\n",
       "\t<tr><td>6.4</td><td>2.8</td></tr>\n",
       "\t<tr><td>7.2</td><td>3.0</td></tr>\n",
       "\t<tr><td>7.4</td><td>2.8</td></tr>\n",
       "\t<tr><td>7.9</td><td>3.8</td></tr>\n",
       "\t<tr><td>6.4</td><td>2.8</td></tr>\n",
       "\t<tr><td>6.3</td><td>2.8</td></tr>\n",
       "\t<tr><td>6.1</td><td>2.6</td></tr>\n",
       "\t<tr><td>7.7</td><td>3.0</td></tr>\n",
       "\t<tr><td>6.3</td><td>3.4</td></tr>\n",
       "\t<tr><td>6.4</td><td>3.1</td></tr>\n",
       "\t<tr><td>6.0</td><td>3.0</td></tr>\n",
       "\t<tr><td>6.9</td><td>3.1</td></tr>\n",
       "\t<tr><td>6.7</td><td>3.1</td></tr>\n",
       "\t<tr><td>6.9</td><td>3.1</td></tr>\n",
       "\t<tr><td>5.8</td><td>2.7</td></tr>\n",
       "\t<tr><td>6.8</td><td>3.2</td></tr>\n",
       "\t<tr><td>6.7</td><td>3.3</td></tr>\n",
       "\t<tr><td>6.7</td><td>3.0</td></tr>\n",
       "\t<tr><td>6.3</td><td>2.5</td></tr>\n",
       "\t<tr><td>6.5</td><td>3.0</td></tr>\n",
       "\t<tr><td>6.2</td><td>3.4</td></tr>\n",
       "\t<tr><td>5.9</td><td>3.0</td></tr>\n",
       "</tbody>\n",
       "</table>\n"
      ],
      "text/latex": [
       "A data.frame: 150 × 2\n",
       "\\begin{tabular}{ll}\n",
       " Sepal.Length & Sepal.Width\\\\\n",
       " <dbl> & <dbl>\\\\\n",
       "\\hline\n",
       "\t 5.1 & 3.5\\\\\n",
       "\t 4.9 & 3.0\\\\\n",
       "\t 4.7 & 3.2\\\\\n",
       "\t 4.6 & 3.1\\\\\n",
       "\t 5.0 & 3.6\\\\\n",
       "\t 5.4 & 3.9\\\\\n",
       "\t 4.6 & 3.4\\\\\n",
       "\t 5.0 & 3.4\\\\\n",
       "\t 4.4 & 2.9\\\\\n",
       "\t 4.9 & 3.1\\\\\n",
       "\t 5.4 & 3.7\\\\\n",
       "\t 4.8 & 3.4\\\\\n",
       "\t 4.8 & 3.0\\\\\n",
       "\t 4.3 & 3.0\\\\\n",
       "\t 5.8 & 4.0\\\\\n",
       "\t 5.7 & 4.4\\\\\n",
       "\t 5.4 & 3.9\\\\\n",
       "\t 5.1 & 3.5\\\\\n",
       "\t 5.7 & 3.8\\\\\n",
       "\t 5.1 & 3.8\\\\\n",
       "\t 5.4 & 3.4\\\\\n",
       "\t 5.1 & 3.7\\\\\n",
       "\t 4.6 & 3.6\\\\\n",
       "\t 5.1 & 3.3\\\\\n",
       "\t 4.8 & 3.4\\\\\n",
       "\t 5.0 & 3.0\\\\\n",
       "\t 5.0 & 3.4\\\\\n",
       "\t 5.2 & 3.5\\\\\n",
       "\t 5.2 & 3.4\\\\\n",
       "\t 4.7 & 3.2\\\\\n",
       "\t ⋮ & ⋮\\\\\n",
       "\t 6.9 & 3.2\\\\\n",
       "\t 5.6 & 2.8\\\\\n",
       "\t 7.7 & 2.8\\\\\n",
       "\t 6.3 & 2.7\\\\\n",
       "\t 6.7 & 3.3\\\\\n",
       "\t 7.2 & 3.2\\\\\n",
       "\t 6.2 & 2.8\\\\\n",
       "\t 6.1 & 3.0\\\\\n",
       "\t 6.4 & 2.8\\\\\n",
       "\t 7.2 & 3.0\\\\\n",
       "\t 7.4 & 2.8\\\\\n",
       "\t 7.9 & 3.8\\\\\n",
       "\t 6.4 & 2.8\\\\\n",
       "\t 6.3 & 2.8\\\\\n",
       "\t 6.1 & 2.6\\\\\n",
       "\t 7.7 & 3.0\\\\\n",
       "\t 6.3 & 3.4\\\\\n",
       "\t 6.4 & 3.1\\\\\n",
       "\t 6.0 & 3.0\\\\\n",
       "\t 6.9 & 3.1\\\\\n",
       "\t 6.7 & 3.1\\\\\n",
       "\t 6.9 & 3.1\\\\\n",
       "\t 5.8 & 2.7\\\\\n",
       "\t 6.8 & 3.2\\\\\n",
       "\t 6.7 & 3.3\\\\\n",
       "\t 6.7 & 3.0\\\\\n",
       "\t 6.3 & 2.5\\\\\n",
       "\t 6.5 & 3.0\\\\\n",
       "\t 6.2 & 3.4\\\\\n",
       "\t 5.9 & 3.0\\\\\n",
       "\\end{tabular}\n"
      ],
      "text/markdown": [
       "\n",
       "A data.frame: 150 × 2\n",
       "\n",
       "| Sepal.Length &lt;dbl&gt; | Sepal.Width &lt;dbl&gt; |\n",
       "|---|---|\n",
       "| 5.1 | 3.5 |\n",
       "| 4.9 | 3.0 |\n",
       "| 4.7 | 3.2 |\n",
       "| 4.6 | 3.1 |\n",
       "| 5.0 | 3.6 |\n",
       "| 5.4 | 3.9 |\n",
       "| 4.6 | 3.4 |\n",
       "| 5.0 | 3.4 |\n",
       "| 4.4 | 2.9 |\n",
       "| 4.9 | 3.1 |\n",
       "| 5.4 | 3.7 |\n",
       "| 4.8 | 3.4 |\n",
       "| 4.8 | 3.0 |\n",
       "| 4.3 | 3.0 |\n",
       "| 5.8 | 4.0 |\n",
       "| 5.7 | 4.4 |\n",
       "| 5.4 | 3.9 |\n",
       "| 5.1 | 3.5 |\n",
       "| 5.7 | 3.8 |\n",
       "| 5.1 | 3.8 |\n",
       "| 5.4 | 3.4 |\n",
       "| 5.1 | 3.7 |\n",
       "| 4.6 | 3.6 |\n",
       "| 5.1 | 3.3 |\n",
       "| 4.8 | 3.4 |\n",
       "| 5.0 | 3.0 |\n",
       "| 5.0 | 3.4 |\n",
       "| 5.2 | 3.5 |\n",
       "| 5.2 | 3.4 |\n",
       "| 4.7 | 3.2 |\n",
       "| ⋮ | ⋮ |\n",
       "| 6.9 | 3.2 |\n",
       "| 5.6 | 2.8 |\n",
       "| 7.7 | 2.8 |\n",
       "| 6.3 | 2.7 |\n",
       "| 6.7 | 3.3 |\n",
       "| 7.2 | 3.2 |\n",
       "| 6.2 | 2.8 |\n",
       "| 6.1 | 3.0 |\n",
       "| 6.4 | 2.8 |\n",
       "| 7.2 | 3.0 |\n",
       "| 7.4 | 2.8 |\n",
       "| 7.9 | 3.8 |\n",
       "| 6.4 | 2.8 |\n",
       "| 6.3 | 2.8 |\n",
       "| 6.1 | 2.6 |\n",
       "| 7.7 | 3.0 |\n",
       "| 6.3 | 3.4 |\n",
       "| 6.4 | 3.1 |\n",
       "| 6.0 | 3.0 |\n",
       "| 6.9 | 3.1 |\n",
       "| 6.7 | 3.1 |\n",
       "| 6.9 | 3.1 |\n",
       "| 5.8 | 2.7 |\n",
       "| 6.8 | 3.2 |\n",
       "| 6.7 | 3.3 |\n",
       "| 6.7 | 3.0 |\n",
       "| 6.3 | 2.5 |\n",
       "| 6.5 | 3.0 |\n",
       "| 6.2 | 3.4 |\n",
       "| 5.9 | 3.0 |\n",
       "\n"
      ],
      "text/plain": [
       "    Sepal.Length Sepal.Width\n",
       "1   5.1          3.5        \n",
       "2   4.9          3.0        \n",
       "3   4.7          3.2        \n",
       "4   4.6          3.1        \n",
       "5   5.0          3.6        \n",
       "6   5.4          3.9        \n",
       "7   4.6          3.4        \n",
       "8   5.0          3.4        \n",
       "9   4.4          2.9        \n",
       "10  4.9          3.1        \n",
       "11  5.4          3.7        \n",
       "12  4.8          3.4        \n",
       "13  4.8          3.0        \n",
       "14  4.3          3.0        \n",
       "15  5.8          4.0        \n",
       "16  5.7          4.4        \n",
       "17  5.4          3.9        \n",
       "18  5.1          3.5        \n",
       "19  5.7          3.8        \n",
       "20  5.1          3.8        \n",
       "21  5.4          3.4        \n",
       "22  5.1          3.7        \n",
       "23  4.6          3.6        \n",
       "24  5.1          3.3        \n",
       "25  4.8          3.4        \n",
       "26  5.0          3.0        \n",
       "27  5.0          3.4        \n",
       "28  5.2          3.5        \n",
       "29  5.2          3.4        \n",
       "30  4.7          3.2        \n",
       "⋮   ⋮            ⋮          \n",
       "121 6.9          3.2        \n",
       "122 5.6          2.8        \n",
       "123 7.7          2.8        \n",
       "124 6.3          2.7        \n",
       "125 6.7          3.3        \n",
       "126 7.2          3.2        \n",
       "127 6.2          2.8        \n",
       "128 6.1          3.0        \n",
       "129 6.4          2.8        \n",
       "130 7.2          3.0        \n",
       "131 7.4          2.8        \n",
       "132 7.9          3.8        \n",
       "133 6.4          2.8        \n",
       "134 6.3          2.8        \n",
       "135 6.1          2.6        \n",
       "136 7.7          3.0        \n",
       "137 6.3          3.4        \n",
       "138 6.4          3.1        \n",
       "139 6.0          3.0        \n",
       "140 6.9          3.1        \n",
       "141 6.7          3.1        \n",
       "142 6.9          3.1        \n",
       "143 5.8          2.7        \n",
       "144 6.8          3.2        \n",
       "145 6.7          3.3        \n",
       "146 6.7          3.0        \n",
       "147 6.3          2.5        \n",
       "148 6.5          3.0        \n",
       "149 6.2          3.4        \n",
       "150 5.9          3.0        "
      ]
     },
     "metadata": {},
     "output_type": "display_data"
    }
   ],
   "source": [
    "iris[, 1:2]"
   ]
  },
  {
   "cell_type": "code",
   "execution_count": 4,
   "id": "5a683902",
   "metadata": {},
   "outputs": [
    {
     "data": {
      "text/html": [
       "<table class=\"dataframe\">\n",
       "<caption>A data.frame: 150 × 2</caption>\n",
       "<thead>\n",
       "\t<tr><th scope=col>Sepal.Length</th><th scope=col>Sepal.Width</th></tr>\n",
       "\t<tr><th scope=col>&lt;dbl&gt;</th><th scope=col>&lt;dbl&gt;</th></tr>\n",
       "</thead>\n",
       "<tbody>\n",
       "\t<tr><td>5.1</td><td>3.5</td></tr>\n",
       "\t<tr><td>4.9</td><td>3.0</td></tr>\n",
       "\t<tr><td>4.7</td><td>3.2</td></tr>\n",
       "\t<tr><td>4.6</td><td>3.1</td></tr>\n",
       "\t<tr><td>5.0</td><td>3.6</td></tr>\n",
       "\t<tr><td>5.4</td><td>3.9</td></tr>\n",
       "\t<tr><td>4.6</td><td>3.4</td></tr>\n",
       "\t<tr><td>5.0</td><td>3.4</td></tr>\n",
       "\t<tr><td>4.4</td><td>2.9</td></tr>\n",
       "\t<tr><td>4.9</td><td>3.1</td></tr>\n",
       "\t<tr><td>5.4</td><td>3.7</td></tr>\n",
       "\t<tr><td>4.8</td><td>3.4</td></tr>\n",
       "\t<tr><td>4.8</td><td>3.0</td></tr>\n",
       "\t<tr><td>4.3</td><td>3.0</td></tr>\n",
       "\t<tr><td>5.8</td><td>4.0</td></tr>\n",
       "\t<tr><td>5.7</td><td>4.4</td></tr>\n",
       "\t<tr><td>5.4</td><td>3.9</td></tr>\n",
       "\t<tr><td>5.1</td><td>3.5</td></tr>\n",
       "\t<tr><td>5.7</td><td>3.8</td></tr>\n",
       "\t<tr><td>5.1</td><td>3.8</td></tr>\n",
       "\t<tr><td>5.4</td><td>3.4</td></tr>\n",
       "\t<tr><td>5.1</td><td>3.7</td></tr>\n",
       "\t<tr><td>4.6</td><td>3.6</td></tr>\n",
       "\t<tr><td>5.1</td><td>3.3</td></tr>\n",
       "\t<tr><td>4.8</td><td>3.4</td></tr>\n",
       "\t<tr><td>5.0</td><td>3.0</td></tr>\n",
       "\t<tr><td>5.0</td><td>3.4</td></tr>\n",
       "\t<tr><td>5.2</td><td>3.5</td></tr>\n",
       "\t<tr><td>5.2</td><td>3.4</td></tr>\n",
       "\t<tr><td>4.7</td><td>3.2</td></tr>\n",
       "\t<tr><td>⋮</td><td>⋮</td></tr>\n",
       "\t<tr><td>6.9</td><td>3.2</td></tr>\n",
       "\t<tr><td>5.6</td><td>2.8</td></tr>\n",
       "\t<tr><td>7.7</td><td>2.8</td></tr>\n",
       "\t<tr><td>6.3</td><td>2.7</td></tr>\n",
       "\t<tr><td>6.7</td><td>3.3</td></tr>\n",
       "\t<tr><td>7.2</td><td>3.2</td></tr>\n",
       "\t<tr><td>6.2</td><td>2.8</td></tr>\n",
       "\t<tr><td>6.1</td><td>3.0</td></tr>\n",
       "\t<tr><td>6.4</td><td>2.8</td></tr>\n",
       "\t<tr><td>7.2</td><td>3.0</td></tr>\n",
       "\t<tr><td>7.4</td><td>2.8</td></tr>\n",
       "\t<tr><td>7.9</td><td>3.8</td></tr>\n",
       "\t<tr><td>6.4</td><td>2.8</td></tr>\n",
       "\t<tr><td>6.3</td><td>2.8</td></tr>\n",
       "\t<tr><td>6.1</td><td>2.6</td></tr>\n",
       "\t<tr><td>7.7</td><td>3.0</td></tr>\n",
       "\t<tr><td>6.3</td><td>3.4</td></tr>\n",
       "\t<tr><td>6.4</td><td>3.1</td></tr>\n",
       "\t<tr><td>6.0</td><td>3.0</td></tr>\n",
       "\t<tr><td>6.9</td><td>3.1</td></tr>\n",
       "\t<tr><td>6.7</td><td>3.1</td></tr>\n",
       "\t<tr><td>6.9</td><td>3.1</td></tr>\n",
       "\t<tr><td>5.8</td><td>2.7</td></tr>\n",
       "\t<tr><td>6.8</td><td>3.2</td></tr>\n",
       "\t<tr><td>6.7</td><td>3.3</td></tr>\n",
       "\t<tr><td>6.7</td><td>3.0</td></tr>\n",
       "\t<tr><td>6.3</td><td>2.5</td></tr>\n",
       "\t<tr><td>6.5</td><td>3.0</td></tr>\n",
       "\t<tr><td>6.2</td><td>3.4</td></tr>\n",
       "\t<tr><td>5.9</td><td>3.0</td></tr>\n",
       "</tbody>\n",
       "</table>\n"
      ],
      "text/latex": [
       "A data.frame: 150 × 2\n",
       "\\begin{tabular}{ll}\n",
       " Sepal.Length & Sepal.Width\\\\\n",
       " <dbl> & <dbl>\\\\\n",
       "\\hline\n",
       "\t 5.1 & 3.5\\\\\n",
       "\t 4.9 & 3.0\\\\\n",
       "\t 4.7 & 3.2\\\\\n",
       "\t 4.6 & 3.1\\\\\n",
       "\t 5.0 & 3.6\\\\\n",
       "\t 5.4 & 3.9\\\\\n",
       "\t 4.6 & 3.4\\\\\n",
       "\t 5.0 & 3.4\\\\\n",
       "\t 4.4 & 2.9\\\\\n",
       "\t 4.9 & 3.1\\\\\n",
       "\t 5.4 & 3.7\\\\\n",
       "\t 4.8 & 3.4\\\\\n",
       "\t 4.8 & 3.0\\\\\n",
       "\t 4.3 & 3.0\\\\\n",
       "\t 5.8 & 4.0\\\\\n",
       "\t 5.7 & 4.4\\\\\n",
       "\t 5.4 & 3.9\\\\\n",
       "\t 5.1 & 3.5\\\\\n",
       "\t 5.7 & 3.8\\\\\n",
       "\t 5.1 & 3.8\\\\\n",
       "\t 5.4 & 3.4\\\\\n",
       "\t 5.1 & 3.7\\\\\n",
       "\t 4.6 & 3.6\\\\\n",
       "\t 5.1 & 3.3\\\\\n",
       "\t 4.8 & 3.4\\\\\n",
       "\t 5.0 & 3.0\\\\\n",
       "\t 5.0 & 3.4\\\\\n",
       "\t 5.2 & 3.5\\\\\n",
       "\t 5.2 & 3.4\\\\\n",
       "\t 4.7 & 3.2\\\\\n",
       "\t ⋮ & ⋮\\\\\n",
       "\t 6.9 & 3.2\\\\\n",
       "\t 5.6 & 2.8\\\\\n",
       "\t 7.7 & 2.8\\\\\n",
       "\t 6.3 & 2.7\\\\\n",
       "\t 6.7 & 3.3\\\\\n",
       "\t 7.2 & 3.2\\\\\n",
       "\t 6.2 & 2.8\\\\\n",
       "\t 6.1 & 3.0\\\\\n",
       "\t 6.4 & 2.8\\\\\n",
       "\t 7.2 & 3.0\\\\\n",
       "\t 7.4 & 2.8\\\\\n",
       "\t 7.9 & 3.8\\\\\n",
       "\t 6.4 & 2.8\\\\\n",
       "\t 6.3 & 2.8\\\\\n",
       "\t 6.1 & 2.6\\\\\n",
       "\t 7.7 & 3.0\\\\\n",
       "\t 6.3 & 3.4\\\\\n",
       "\t 6.4 & 3.1\\\\\n",
       "\t 6.0 & 3.0\\\\\n",
       "\t 6.9 & 3.1\\\\\n",
       "\t 6.7 & 3.1\\\\\n",
       "\t 6.9 & 3.1\\\\\n",
       "\t 5.8 & 2.7\\\\\n",
       "\t 6.8 & 3.2\\\\\n",
       "\t 6.7 & 3.3\\\\\n",
       "\t 6.7 & 3.0\\\\\n",
       "\t 6.3 & 2.5\\\\\n",
       "\t 6.5 & 3.0\\\\\n",
       "\t 6.2 & 3.4\\\\\n",
       "\t 5.9 & 3.0\\\\\n",
       "\\end{tabular}\n"
      ],
      "text/markdown": [
       "\n",
       "A data.frame: 150 × 2\n",
       "\n",
       "| Sepal.Length &lt;dbl&gt; | Sepal.Width &lt;dbl&gt; |\n",
       "|---|---|\n",
       "| 5.1 | 3.5 |\n",
       "| 4.9 | 3.0 |\n",
       "| 4.7 | 3.2 |\n",
       "| 4.6 | 3.1 |\n",
       "| 5.0 | 3.6 |\n",
       "| 5.4 | 3.9 |\n",
       "| 4.6 | 3.4 |\n",
       "| 5.0 | 3.4 |\n",
       "| 4.4 | 2.9 |\n",
       "| 4.9 | 3.1 |\n",
       "| 5.4 | 3.7 |\n",
       "| 4.8 | 3.4 |\n",
       "| 4.8 | 3.0 |\n",
       "| 4.3 | 3.0 |\n",
       "| 5.8 | 4.0 |\n",
       "| 5.7 | 4.4 |\n",
       "| 5.4 | 3.9 |\n",
       "| 5.1 | 3.5 |\n",
       "| 5.7 | 3.8 |\n",
       "| 5.1 | 3.8 |\n",
       "| 5.4 | 3.4 |\n",
       "| 5.1 | 3.7 |\n",
       "| 4.6 | 3.6 |\n",
       "| 5.1 | 3.3 |\n",
       "| 4.8 | 3.4 |\n",
       "| 5.0 | 3.0 |\n",
       "| 5.0 | 3.4 |\n",
       "| 5.2 | 3.5 |\n",
       "| 5.2 | 3.4 |\n",
       "| 4.7 | 3.2 |\n",
       "| ⋮ | ⋮ |\n",
       "| 6.9 | 3.2 |\n",
       "| 5.6 | 2.8 |\n",
       "| 7.7 | 2.8 |\n",
       "| 6.3 | 2.7 |\n",
       "| 6.7 | 3.3 |\n",
       "| 7.2 | 3.2 |\n",
       "| 6.2 | 2.8 |\n",
       "| 6.1 | 3.0 |\n",
       "| 6.4 | 2.8 |\n",
       "| 7.2 | 3.0 |\n",
       "| 7.4 | 2.8 |\n",
       "| 7.9 | 3.8 |\n",
       "| 6.4 | 2.8 |\n",
       "| 6.3 | 2.8 |\n",
       "| 6.1 | 2.6 |\n",
       "| 7.7 | 3.0 |\n",
       "| 6.3 | 3.4 |\n",
       "| 6.4 | 3.1 |\n",
       "| 6.0 | 3.0 |\n",
       "| 6.9 | 3.1 |\n",
       "| 6.7 | 3.1 |\n",
       "| 6.9 | 3.1 |\n",
       "| 5.8 | 2.7 |\n",
       "| 6.8 | 3.2 |\n",
       "| 6.7 | 3.3 |\n",
       "| 6.7 | 3.0 |\n",
       "| 6.3 | 2.5 |\n",
       "| 6.5 | 3.0 |\n",
       "| 6.2 | 3.4 |\n",
       "| 5.9 | 3.0 |\n",
       "\n"
      ],
      "text/plain": [
       "    Sepal.Length Sepal.Width\n",
       "1   5.1          3.5        \n",
       "2   4.9          3.0        \n",
       "3   4.7          3.2        \n",
       "4   4.6          3.1        \n",
       "5   5.0          3.6        \n",
       "6   5.4          3.9        \n",
       "7   4.6          3.4        \n",
       "8   5.0          3.4        \n",
       "9   4.4          2.9        \n",
       "10  4.9          3.1        \n",
       "11  5.4          3.7        \n",
       "12  4.8          3.4        \n",
       "13  4.8          3.0        \n",
       "14  4.3          3.0        \n",
       "15  5.8          4.0        \n",
       "16  5.7          4.4        \n",
       "17  5.4          3.9        \n",
       "18  5.1          3.5        \n",
       "19  5.7          3.8        \n",
       "20  5.1          3.8        \n",
       "21  5.4          3.4        \n",
       "22  5.1          3.7        \n",
       "23  4.6          3.6        \n",
       "24  5.1          3.3        \n",
       "25  4.8          3.4        \n",
       "26  5.0          3.0        \n",
       "27  5.0          3.4        \n",
       "28  5.2          3.5        \n",
       "29  5.2          3.4        \n",
       "30  4.7          3.2        \n",
       "⋮   ⋮            ⋮          \n",
       "121 6.9          3.2        \n",
       "122 5.6          2.8        \n",
       "123 7.7          2.8        \n",
       "124 6.3          2.7        \n",
       "125 6.7          3.3        \n",
       "126 7.2          3.2        \n",
       "127 6.2          2.8        \n",
       "128 6.1          3.0        \n",
       "129 6.4          2.8        \n",
       "130 7.2          3.0        \n",
       "131 7.4          2.8        \n",
       "132 7.9          3.8        \n",
       "133 6.4          2.8        \n",
       "134 6.3          2.8        \n",
       "135 6.1          2.6        \n",
       "136 7.7          3.0        \n",
       "137 6.3          3.4        \n",
       "138 6.4          3.1        \n",
       "139 6.0          3.0        \n",
       "140 6.9          3.1        \n",
       "141 6.7          3.1        \n",
       "142 6.9          3.1        \n",
       "143 5.8          2.7        \n",
       "144 6.8          3.2        \n",
       "145 6.7          3.3        \n",
       "146 6.7          3.0        \n",
       "147 6.3          2.5        \n",
       "148 6.5          3.0        \n",
       "149 6.2          3.4        \n",
       "150 5.9          3.0        "
      ]
     },
     "metadata": {},
     "output_type": "display_data"
    }
   ],
   "source": [
    "iris[, c(1, 2)]"
   ]
  },
  {
   "cell_type": "code",
   "execution_count": 5,
   "id": "f26967b1",
   "metadata": {},
   "outputs": [
    {
     "data": {
      "text/html": [
       "<table class=\"dataframe\">\n",
       "<caption>A data.frame: 150 × 3</caption>\n",
       "<thead>\n",
       "\t<tr><th scope=col>Sepal.Length</th><th scope=col>Petal.Length</th><th scope=col>Species</th></tr>\n",
       "\t<tr><th scope=col>&lt;dbl&gt;</th><th scope=col>&lt;dbl&gt;</th><th scope=col>&lt;fct&gt;</th></tr>\n",
       "</thead>\n",
       "<tbody>\n",
       "\t<tr><td>5.1</td><td>1.4</td><td>setosa</td></tr>\n",
       "\t<tr><td>4.9</td><td>1.4</td><td>setosa</td></tr>\n",
       "\t<tr><td>4.7</td><td>1.3</td><td>setosa</td></tr>\n",
       "\t<tr><td>4.6</td><td>1.5</td><td>setosa</td></tr>\n",
       "\t<tr><td>5.0</td><td>1.4</td><td>setosa</td></tr>\n",
       "\t<tr><td>5.4</td><td>1.7</td><td>setosa</td></tr>\n",
       "\t<tr><td>4.6</td><td>1.4</td><td>setosa</td></tr>\n",
       "\t<tr><td>5.0</td><td>1.5</td><td>setosa</td></tr>\n",
       "\t<tr><td>4.4</td><td>1.4</td><td>setosa</td></tr>\n",
       "\t<tr><td>4.9</td><td>1.5</td><td>setosa</td></tr>\n",
       "\t<tr><td>5.4</td><td>1.5</td><td>setosa</td></tr>\n",
       "\t<tr><td>4.8</td><td>1.6</td><td>setosa</td></tr>\n",
       "\t<tr><td>4.8</td><td>1.4</td><td>setosa</td></tr>\n",
       "\t<tr><td>4.3</td><td>1.1</td><td>setosa</td></tr>\n",
       "\t<tr><td>5.8</td><td>1.2</td><td>setosa</td></tr>\n",
       "\t<tr><td>5.7</td><td>1.5</td><td>setosa</td></tr>\n",
       "\t<tr><td>5.4</td><td>1.3</td><td>setosa</td></tr>\n",
       "\t<tr><td>5.1</td><td>1.4</td><td>setosa</td></tr>\n",
       "\t<tr><td>5.7</td><td>1.7</td><td>setosa</td></tr>\n",
       "\t<tr><td>5.1</td><td>1.5</td><td>setosa</td></tr>\n",
       "\t<tr><td>5.4</td><td>1.7</td><td>setosa</td></tr>\n",
       "\t<tr><td>5.1</td><td>1.5</td><td>setosa</td></tr>\n",
       "\t<tr><td>4.6</td><td>1.0</td><td>setosa</td></tr>\n",
       "\t<tr><td>5.1</td><td>1.7</td><td>setosa</td></tr>\n",
       "\t<tr><td>4.8</td><td>1.9</td><td>setosa</td></tr>\n",
       "\t<tr><td>5.0</td><td>1.6</td><td>setosa</td></tr>\n",
       "\t<tr><td>5.0</td><td>1.6</td><td>setosa</td></tr>\n",
       "\t<tr><td>5.2</td><td>1.5</td><td>setosa</td></tr>\n",
       "\t<tr><td>5.2</td><td>1.4</td><td>setosa</td></tr>\n",
       "\t<tr><td>4.7</td><td>1.6</td><td>setosa</td></tr>\n",
       "\t<tr><td>⋮</td><td>⋮</td><td>⋮</td></tr>\n",
       "\t<tr><td>6.9</td><td>5.7</td><td>virginica</td></tr>\n",
       "\t<tr><td>5.6</td><td>4.9</td><td>virginica</td></tr>\n",
       "\t<tr><td>7.7</td><td>6.7</td><td>virginica</td></tr>\n",
       "\t<tr><td>6.3</td><td>4.9</td><td>virginica</td></tr>\n",
       "\t<tr><td>6.7</td><td>5.7</td><td>virginica</td></tr>\n",
       "\t<tr><td>7.2</td><td>6.0</td><td>virginica</td></tr>\n",
       "\t<tr><td>6.2</td><td>4.8</td><td>virginica</td></tr>\n",
       "\t<tr><td>6.1</td><td>4.9</td><td>virginica</td></tr>\n",
       "\t<tr><td>6.4</td><td>5.6</td><td>virginica</td></tr>\n",
       "\t<tr><td>7.2</td><td>5.8</td><td>virginica</td></tr>\n",
       "\t<tr><td>7.4</td><td>6.1</td><td>virginica</td></tr>\n",
       "\t<tr><td>7.9</td><td>6.4</td><td>virginica</td></tr>\n",
       "\t<tr><td>6.4</td><td>5.6</td><td>virginica</td></tr>\n",
       "\t<tr><td>6.3</td><td>5.1</td><td>virginica</td></tr>\n",
       "\t<tr><td>6.1</td><td>5.6</td><td>virginica</td></tr>\n",
       "\t<tr><td>7.7</td><td>6.1</td><td>virginica</td></tr>\n",
       "\t<tr><td>6.3</td><td>5.6</td><td>virginica</td></tr>\n",
       "\t<tr><td>6.4</td><td>5.5</td><td>virginica</td></tr>\n",
       "\t<tr><td>6.0</td><td>4.8</td><td>virginica</td></tr>\n",
       "\t<tr><td>6.9</td><td>5.4</td><td>virginica</td></tr>\n",
       "\t<tr><td>6.7</td><td>5.6</td><td>virginica</td></tr>\n",
       "\t<tr><td>6.9</td><td>5.1</td><td>virginica</td></tr>\n",
       "\t<tr><td>5.8</td><td>5.1</td><td>virginica</td></tr>\n",
       "\t<tr><td>6.8</td><td>5.9</td><td>virginica</td></tr>\n",
       "\t<tr><td>6.7</td><td>5.7</td><td>virginica</td></tr>\n",
       "\t<tr><td>6.7</td><td>5.2</td><td>virginica</td></tr>\n",
       "\t<tr><td>6.3</td><td>5.0</td><td>virginica</td></tr>\n",
       "\t<tr><td>6.5</td><td>5.2</td><td>virginica</td></tr>\n",
       "\t<tr><td>6.2</td><td>5.4</td><td>virginica</td></tr>\n",
       "\t<tr><td>5.9</td><td>5.1</td><td>virginica</td></tr>\n",
       "</tbody>\n",
       "</table>\n"
      ],
      "text/latex": [
       "A data.frame: 150 × 3\n",
       "\\begin{tabular}{lll}\n",
       " Sepal.Length & Petal.Length & Species\\\\\n",
       " <dbl> & <dbl> & <fct>\\\\\n",
       "\\hline\n",
       "\t 5.1 & 1.4 & setosa\\\\\n",
       "\t 4.9 & 1.4 & setosa\\\\\n",
       "\t 4.7 & 1.3 & setosa\\\\\n",
       "\t 4.6 & 1.5 & setosa\\\\\n",
       "\t 5.0 & 1.4 & setosa\\\\\n",
       "\t 5.4 & 1.7 & setosa\\\\\n",
       "\t 4.6 & 1.4 & setosa\\\\\n",
       "\t 5.0 & 1.5 & setosa\\\\\n",
       "\t 4.4 & 1.4 & setosa\\\\\n",
       "\t 4.9 & 1.5 & setosa\\\\\n",
       "\t 5.4 & 1.5 & setosa\\\\\n",
       "\t 4.8 & 1.6 & setosa\\\\\n",
       "\t 4.8 & 1.4 & setosa\\\\\n",
       "\t 4.3 & 1.1 & setosa\\\\\n",
       "\t 5.8 & 1.2 & setosa\\\\\n",
       "\t 5.7 & 1.5 & setosa\\\\\n",
       "\t 5.4 & 1.3 & setosa\\\\\n",
       "\t 5.1 & 1.4 & setosa\\\\\n",
       "\t 5.7 & 1.7 & setosa\\\\\n",
       "\t 5.1 & 1.5 & setosa\\\\\n",
       "\t 5.4 & 1.7 & setosa\\\\\n",
       "\t 5.1 & 1.5 & setosa\\\\\n",
       "\t 4.6 & 1.0 & setosa\\\\\n",
       "\t 5.1 & 1.7 & setosa\\\\\n",
       "\t 4.8 & 1.9 & setosa\\\\\n",
       "\t 5.0 & 1.6 & setosa\\\\\n",
       "\t 5.0 & 1.6 & setosa\\\\\n",
       "\t 5.2 & 1.5 & setosa\\\\\n",
       "\t 5.2 & 1.4 & setosa\\\\\n",
       "\t 4.7 & 1.6 & setosa\\\\\n",
       "\t ⋮ & ⋮ & ⋮\\\\\n",
       "\t 6.9 & 5.7 & virginica\\\\\n",
       "\t 5.6 & 4.9 & virginica\\\\\n",
       "\t 7.7 & 6.7 & virginica\\\\\n",
       "\t 6.3 & 4.9 & virginica\\\\\n",
       "\t 6.7 & 5.7 & virginica\\\\\n",
       "\t 7.2 & 6.0 & virginica\\\\\n",
       "\t 6.2 & 4.8 & virginica\\\\\n",
       "\t 6.1 & 4.9 & virginica\\\\\n",
       "\t 6.4 & 5.6 & virginica\\\\\n",
       "\t 7.2 & 5.8 & virginica\\\\\n",
       "\t 7.4 & 6.1 & virginica\\\\\n",
       "\t 7.9 & 6.4 & virginica\\\\\n",
       "\t 6.4 & 5.6 & virginica\\\\\n",
       "\t 6.3 & 5.1 & virginica\\\\\n",
       "\t 6.1 & 5.6 & virginica\\\\\n",
       "\t 7.7 & 6.1 & virginica\\\\\n",
       "\t 6.3 & 5.6 & virginica\\\\\n",
       "\t 6.4 & 5.5 & virginica\\\\\n",
       "\t 6.0 & 4.8 & virginica\\\\\n",
       "\t 6.9 & 5.4 & virginica\\\\\n",
       "\t 6.7 & 5.6 & virginica\\\\\n",
       "\t 6.9 & 5.1 & virginica\\\\\n",
       "\t 5.8 & 5.1 & virginica\\\\\n",
       "\t 6.8 & 5.9 & virginica\\\\\n",
       "\t 6.7 & 5.7 & virginica\\\\\n",
       "\t 6.7 & 5.2 & virginica\\\\\n",
       "\t 6.3 & 5.0 & virginica\\\\\n",
       "\t 6.5 & 5.2 & virginica\\\\\n",
       "\t 6.2 & 5.4 & virginica\\\\\n",
       "\t 5.9 & 5.1 & virginica\\\\\n",
       "\\end{tabular}\n"
      ],
      "text/markdown": [
       "\n",
       "A data.frame: 150 × 3\n",
       "\n",
       "| Sepal.Length &lt;dbl&gt; | Petal.Length &lt;dbl&gt; | Species &lt;fct&gt; |\n",
       "|---|---|---|\n",
       "| 5.1 | 1.4 | setosa |\n",
       "| 4.9 | 1.4 | setosa |\n",
       "| 4.7 | 1.3 | setosa |\n",
       "| 4.6 | 1.5 | setosa |\n",
       "| 5.0 | 1.4 | setosa |\n",
       "| 5.4 | 1.7 | setosa |\n",
       "| 4.6 | 1.4 | setosa |\n",
       "| 5.0 | 1.5 | setosa |\n",
       "| 4.4 | 1.4 | setosa |\n",
       "| 4.9 | 1.5 | setosa |\n",
       "| 5.4 | 1.5 | setosa |\n",
       "| 4.8 | 1.6 | setosa |\n",
       "| 4.8 | 1.4 | setosa |\n",
       "| 4.3 | 1.1 | setosa |\n",
       "| 5.8 | 1.2 | setosa |\n",
       "| 5.7 | 1.5 | setosa |\n",
       "| 5.4 | 1.3 | setosa |\n",
       "| 5.1 | 1.4 | setosa |\n",
       "| 5.7 | 1.7 | setosa |\n",
       "| 5.1 | 1.5 | setosa |\n",
       "| 5.4 | 1.7 | setosa |\n",
       "| 5.1 | 1.5 | setosa |\n",
       "| 4.6 | 1.0 | setosa |\n",
       "| 5.1 | 1.7 | setosa |\n",
       "| 4.8 | 1.9 | setosa |\n",
       "| 5.0 | 1.6 | setosa |\n",
       "| 5.0 | 1.6 | setosa |\n",
       "| 5.2 | 1.5 | setosa |\n",
       "| 5.2 | 1.4 | setosa |\n",
       "| 4.7 | 1.6 | setosa |\n",
       "| ⋮ | ⋮ | ⋮ |\n",
       "| 6.9 | 5.7 | virginica |\n",
       "| 5.6 | 4.9 | virginica |\n",
       "| 7.7 | 6.7 | virginica |\n",
       "| 6.3 | 4.9 | virginica |\n",
       "| 6.7 | 5.7 | virginica |\n",
       "| 7.2 | 6.0 | virginica |\n",
       "| 6.2 | 4.8 | virginica |\n",
       "| 6.1 | 4.9 | virginica |\n",
       "| 6.4 | 5.6 | virginica |\n",
       "| 7.2 | 5.8 | virginica |\n",
       "| 7.4 | 6.1 | virginica |\n",
       "| 7.9 | 6.4 | virginica |\n",
       "| 6.4 | 5.6 | virginica |\n",
       "| 6.3 | 5.1 | virginica |\n",
       "| 6.1 | 5.6 | virginica |\n",
       "| 7.7 | 6.1 | virginica |\n",
       "| 6.3 | 5.6 | virginica |\n",
       "| 6.4 | 5.5 | virginica |\n",
       "| 6.0 | 4.8 | virginica |\n",
       "| 6.9 | 5.4 | virginica |\n",
       "| 6.7 | 5.6 | virginica |\n",
       "| 6.9 | 5.1 | virginica |\n",
       "| 5.8 | 5.1 | virginica |\n",
       "| 6.8 | 5.9 | virginica |\n",
       "| 6.7 | 5.7 | virginica |\n",
       "| 6.7 | 5.2 | virginica |\n",
       "| 6.3 | 5.0 | virginica |\n",
       "| 6.5 | 5.2 | virginica |\n",
       "| 6.2 | 5.4 | virginica |\n",
       "| 5.9 | 5.1 | virginica |\n",
       "\n"
      ],
      "text/plain": [
       "    Sepal.Length Petal.Length Species  \n",
       "1   5.1          1.4          setosa   \n",
       "2   4.9          1.4          setosa   \n",
       "3   4.7          1.3          setosa   \n",
       "4   4.6          1.5          setosa   \n",
       "5   5.0          1.4          setosa   \n",
       "6   5.4          1.7          setosa   \n",
       "7   4.6          1.4          setosa   \n",
       "8   5.0          1.5          setosa   \n",
       "9   4.4          1.4          setosa   \n",
       "10  4.9          1.5          setosa   \n",
       "11  5.4          1.5          setosa   \n",
       "12  4.8          1.6          setosa   \n",
       "13  4.8          1.4          setosa   \n",
       "14  4.3          1.1          setosa   \n",
       "15  5.8          1.2          setosa   \n",
       "16  5.7          1.5          setosa   \n",
       "17  5.4          1.3          setosa   \n",
       "18  5.1          1.4          setosa   \n",
       "19  5.7          1.7          setosa   \n",
       "20  5.1          1.5          setosa   \n",
       "21  5.4          1.7          setosa   \n",
       "22  5.1          1.5          setosa   \n",
       "23  4.6          1.0          setosa   \n",
       "24  5.1          1.7          setosa   \n",
       "25  4.8          1.9          setosa   \n",
       "26  5.0          1.6          setosa   \n",
       "27  5.0          1.6          setosa   \n",
       "28  5.2          1.5          setosa   \n",
       "29  5.2          1.4          setosa   \n",
       "30  4.7          1.6          setosa   \n",
       "⋮   ⋮            ⋮            ⋮        \n",
       "121 6.9          5.7          virginica\n",
       "122 5.6          4.9          virginica\n",
       "123 7.7          6.7          virginica\n",
       "124 6.3          4.9          virginica\n",
       "125 6.7          5.7          virginica\n",
       "126 7.2          6.0          virginica\n",
       "127 6.2          4.8          virginica\n",
       "128 6.1          4.9          virginica\n",
       "129 6.4          5.6          virginica\n",
       "130 7.2          5.8          virginica\n",
       "131 7.4          6.1          virginica\n",
       "132 7.9          6.4          virginica\n",
       "133 6.4          5.6          virginica\n",
       "134 6.3          5.1          virginica\n",
       "135 6.1          5.6          virginica\n",
       "136 7.7          6.1          virginica\n",
       "137 6.3          5.6          virginica\n",
       "138 6.4          5.5          virginica\n",
       "139 6.0          4.8          virginica\n",
       "140 6.9          5.4          virginica\n",
       "141 6.7          5.6          virginica\n",
       "142 6.9          5.1          virginica\n",
       "143 5.8          5.1          virginica\n",
       "144 6.8          5.9          virginica\n",
       "145 6.7          5.7          virginica\n",
       "146 6.7          5.2          virginica\n",
       "147 6.3          5.0          virginica\n",
       "148 6.5          5.2          virginica\n",
       "149 6.2          5.4          virginica\n",
       "150 5.9          5.1          virginica"
      ]
     },
     "metadata": {},
     "output_type": "display_data"
    }
   ],
   "source": [
    "iris[, c(1, 3, 5)]"
   ]
  },
  {
   "cell_type": "code",
   "execution_count": 6,
   "id": "b9793fd7",
   "metadata": {},
   "outputs": [
    {
     "data": {
      "text/html": [
       "<table class=\"dataframe\">\n",
       "<caption>A data.frame: 150 × 2</caption>\n",
       "<thead>\n",
       "\t<tr><th scope=col>Sepal.Length</th><th scope=col>Species</th></tr>\n",
       "\t<tr><th scope=col>&lt;dbl&gt;</th><th scope=col>&lt;fct&gt;</th></tr>\n",
       "</thead>\n",
       "<tbody>\n",
       "\t<tr><td>5.1</td><td>setosa</td></tr>\n",
       "\t<tr><td>4.9</td><td>setosa</td></tr>\n",
       "\t<tr><td>4.7</td><td>setosa</td></tr>\n",
       "\t<tr><td>4.6</td><td>setosa</td></tr>\n",
       "\t<tr><td>5.0</td><td>setosa</td></tr>\n",
       "\t<tr><td>5.4</td><td>setosa</td></tr>\n",
       "\t<tr><td>4.6</td><td>setosa</td></tr>\n",
       "\t<tr><td>5.0</td><td>setosa</td></tr>\n",
       "\t<tr><td>4.4</td><td>setosa</td></tr>\n",
       "\t<tr><td>4.9</td><td>setosa</td></tr>\n",
       "\t<tr><td>5.4</td><td>setosa</td></tr>\n",
       "\t<tr><td>4.8</td><td>setosa</td></tr>\n",
       "\t<tr><td>4.8</td><td>setosa</td></tr>\n",
       "\t<tr><td>4.3</td><td>setosa</td></tr>\n",
       "\t<tr><td>5.8</td><td>setosa</td></tr>\n",
       "\t<tr><td>5.7</td><td>setosa</td></tr>\n",
       "\t<tr><td>5.4</td><td>setosa</td></tr>\n",
       "\t<tr><td>5.1</td><td>setosa</td></tr>\n",
       "\t<tr><td>5.7</td><td>setosa</td></tr>\n",
       "\t<tr><td>5.1</td><td>setosa</td></tr>\n",
       "\t<tr><td>5.4</td><td>setosa</td></tr>\n",
       "\t<tr><td>5.1</td><td>setosa</td></tr>\n",
       "\t<tr><td>4.6</td><td>setosa</td></tr>\n",
       "\t<tr><td>5.1</td><td>setosa</td></tr>\n",
       "\t<tr><td>4.8</td><td>setosa</td></tr>\n",
       "\t<tr><td>5.0</td><td>setosa</td></tr>\n",
       "\t<tr><td>5.0</td><td>setosa</td></tr>\n",
       "\t<tr><td>5.2</td><td>setosa</td></tr>\n",
       "\t<tr><td>5.2</td><td>setosa</td></tr>\n",
       "\t<tr><td>4.7</td><td>setosa</td></tr>\n",
       "\t<tr><td>⋮</td><td>⋮</td></tr>\n",
       "\t<tr><td>6.9</td><td>virginica</td></tr>\n",
       "\t<tr><td>5.6</td><td>virginica</td></tr>\n",
       "\t<tr><td>7.7</td><td>virginica</td></tr>\n",
       "\t<tr><td>6.3</td><td>virginica</td></tr>\n",
       "\t<tr><td>6.7</td><td>virginica</td></tr>\n",
       "\t<tr><td>7.2</td><td>virginica</td></tr>\n",
       "\t<tr><td>6.2</td><td>virginica</td></tr>\n",
       "\t<tr><td>6.1</td><td>virginica</td></tr>\n",
       "\t<tr><td>6.4</td><td>virginica</td></tr>\n",
       "\t<tr><td>7.2</td><td>virginica</td></tr>\n",
       "\t<tr><td>7.4</td><td>virginica</td></tr>\n",
       "\t<tr><td>7.9</td><td>virginica</td></tr>\n",
       "\t<tr><td>6.4</td><td>virginica</td></tr>\n",
       "\t<tr><td>6.3</td><td>virginica</td></tr>\n",
       "\t<tr><td>6.1</td><td>virginica</td></tr>\n",
       "\t<tr><td>7.7</td><td>virginica</td></tr>\n",
       "\t<tr><td>6.3</td><td>virginica</td></tr>\n",
       "\t<tr><td>6.4</td><td>virginica</td></tr>\n",
       "\t<tr><td>6.0</td><td>virginica</td></tr>\n",
       "\t<tr><td>6.9</td><td>virginica</td></tr>\n",
       "\t<tr><td>6.7</td><td>virginica</td></tr>\n",
       "\t<tr><td>6.9</td><td>virginica</td></tr>\n",
       "\t<tr><td>5.8</td><td>virginica</td></tr>\n",
       "\t<tr><td>6.8</td><td>virginica</td></tr>\n",
       "\t<tr><td>6.7</td><td>virginica</td></tr>\n",
       "\t<tr><td>6.7</td><td>virginica</td></tr>\n",
       "\t<tr><td>6.3</td><td>virginica</td></tr>\n",
       "\t<tr><td>6.5</td><td>virginica</td></tr>\n",
       "\t<tr><td>6.2</td><td>virginica</td></tr>\n",
       "\t<tr><td>5.9</td><td>virginica</td></tr>\n",
       "</tbody>\n",
       "</table>\n"
      ],
      "text/latex": [
       "A data.frame: 150 × 2\n",
       "\\begin{tabular}{ll}\n",
       " Sepal.Length & Species\\\\\n",
       " <dbl> & <fct>\\\\\n",
       "\\hline\n",
       "\t 5.1 & setosa\\\\\n",
       "\t 4.9 & setosa\\\\\n",
       "\t 4.7 & setosa\\\\\n",
       "\t 4.6 & setosa\\\\\n",
       "\t 5.0 & setosa\\\\\n",
       "\t 5.4 & setosa\\\\\n",
       "\t 4.6 & setosa\\\\\n",
       "\t 5.0 & setosa\\\\\n",
       "\t 4.4 & setosa\\\\\n",
       "\t 4.9 & setosa\\\\\n",
       "\t 5.4 & setosa\\\\\n",
       "\t 4.8 & setosa\\\\\n",
       "\t 4.8 & setosa\\\\\n",
       "\t 4.3 & setosa\\\\\n",
       "\t 5.8 & setosa\\\\\n",
       "\t 5.7 & setosa\\\\\n",
       "\t 5.4 & setosa\\\\\n",
       "\t 5.1 & setosa\\\\\n",
       "\t 5.7 & setosa\\\\\n",
       "\t 5.1 & setosa\\\\\n",
       "\t 5.4 & setosa\\\\\n",
       "\t 5.1 & setosa\\\\\n",
       "\t 4.6 & setosa\\\\\n",
       "\t 5.1 & setosa\\\\\n",
       "\t 4.8 & setosa\\\\\n",
       "\t 5.0 & setosa\\\\\n",
       "\t 5.0 & setosa\\\\\n",
       "\t 5.2 & setosa\\\\\n",
       "\t 5.2 & setosa\\\\\n",
       "\t 4.7 & setosa\\\\\n",
       "\t ⋮ & ⋮\\\\\n",
       "\t 6.9 & virginica\\\\\n",
       "\t 5.6 & virginica\\\\\n",
       "\t 7.7 & virginica\\\\\n",
       "\t 6.3 & virginica\\\\\n",
       "\t 6.7 & virginica\\\\\n",
       "\t 7.2 & virginica\\\\\n",
       "\t 6.2 & virginica\\\\\n",
       "\t 6.1 & virginica\\\\\n",
       "\t 6.4 & virginica\\\\\n",
       "\t 7.2 & virginica\\\\\n",
       "\t 7.4 & virginica\\\\\n",
       "\t 7.9 & virginica\\\\\n",
       "\t 6.4 & virginica\\\\\n",
       "\t 6.3 & virginica\\\\\n",
       "\t 6.1 & virginica\\\\\n",
       "\t 7.7 & virginica\\\\\n",
       "\t 6.3 & virginica\\\\\n",
       "\t 6.4 & virginica\\\\\n",
       "\t 6.0 & virginica\\\\\n",
       "\t 6.9 & virginica\\\\\n",
       "\t 6.7 & virginica\\\\\n",
       "\t 6.9 & virginica\\\\\n",
       "\t 5.8 & virginica\\\\\n",
       "\t 6.8 & virginica\\\\\n",
       "\t 6.7 & virginica\\\\\n",
       "\t 6.7 & virginica\\\\\n",
       "\t 6.3 & virginica\\\\\n",
       "\t 6.5 & virginica\\\\\n",
       "\t 6.2 & virginica\\\\\n",
       "\t 5.9 & virginica\\\\\n",
       "\\end{tabular}\n"
      ],
      "text/markdown": [
       "\n",
       "A data.frame: 150 × 2\n",
       "\n",
       "| Sepal.Length &lt;dbl&gt; | Species &lt;fct&gt; |\n",
       "|---|---|\n",
       "| 5.1 | setosa |\n",
       "| 4.9 | setosa |\n",
       "| 4.7 | setosa |\n",
       "| 4.6 | setosa |\n",
       "| 5.0 | setosa |\n",
       "| 5.4 | setosa |\n",
       "| 4.6 | setosa |\n",
       "| 5.0 | setosa |\n",
       "| 4.4 | setosa |\n",
       "| 4.9 | setosa |\n",
       "| 5.4 | setosa |\n",
       "| 4.8 | setosa |\n",
       "| 4.8 | setosa |\n",
       "| 4.3 | setosa |\n",
       "| 5.8 | setosa |\n",
       "| 5.7 | setosa |\n",
       "| 5.4 | setosa |\n",
       "| 5.1 | setosa |\n",
       "| 5.7 | setosa |\n",
       "| 5.1 | setosa |\n",
       "| 5.4 | setosa |\n",
       "| 5.1 | setosa |\n",
       "| 4.6 | setosa |\n",
       "| 5.1 | setosa |\n",
       "| 4.8 | setosa |\n",
       "| 5.0 | setosa |\n",
       "| 5.0 | setosa |\n",
       "| 5.2 | setosa |\n",
       "| 5.2 | setosa |\n",
       "| 4.7 | setosa |\n",
       "| ⋮ | ⋮ |\n",
       "| 6.9 | virginica |\n",
       "| 5.6 | virginica |\n",
       "| 7.7 | virginica |\n",
       "| 6.3 | virginica |\n",
       "| 6.7 | virginica |\n",
       "| 7.2 | virginica |\n",
       "| 6.2 | virginica |\n",
       "| 6.1 | virginica |\n",
       "| 6.4 | virginica |\n",
       "| 7.2 | virginica |\n",
       "| 7.4 | virginica |\n",
       "| 7.9 | virginica |\n",
       "| 6.4 | virginica |\n",
       "| 6.3 | virginica |\n",
       "| 6.1 | virginica |\n",
       "| 7.7 | virginica |\n",
       "| 6.3 | virginica |\n",
       "| 6.4 | virginica |\n",
       "| 6.0 | virginica |\n",
       "| 6.9 | virginica |\n",
       "| 6.7 | virginica |\n",
       "| 6.9 | virginica |\n",
       "| 5.8 | virginica |\n",
       "| 6.8 | virginica |\n",
       "| 6.7 | virginica |\n",
       "| 6.7 | virginica |\n",
       "| 6.3 | virginica |\n",
       "| 6.5 | virginica |\n",
       "| 6.2 | virginica |\n",
       "| 5.9 | virginica |\n",
       "\n"
      ],
      "text/plain": [
       "    Sepal.Length Species  \n",
       "1   5.1          setosa   \n",
       "2   4.9          setosa   \n",
       "3   4.7          setosa   \n",
       "4   4.6          setosa   \n",
       "5   5.0          setosa   \n",
       "6   5.4          setosa   \n",
       "7   4.6          setosa   \n",
       "8   5.0          setosa   \n",
       "9   4.4          setosa   \n",
       "10  4.9          setosa   \n",
       "11  5.4          setosa   \n",
       "12  4.8          setosa   \n",
       "13  4.8          setosa   \n",
       "14  4.3          setosa   \n",
       "15  5.8          setosa   \n",
       "16  5.7          setosa   \n",
       "17  5.4          setosa   \n",
       "18  5.1          setosa   \n",
       "19  5.7          setosa   \n",
       "20  5.1          setosa   \n",
       "21  5.4          setosa   \n",
       "22  5.1          setosa   \n",
       "23  4.6          setosa   \n",
       "24  5.1          setosa   \n",
       "25  4.8          setosa   \n",
       "26  5.0          setosa   \n",
       "27  5.0          setosa   \n",
       "28  5.2          setosa   \n",
       "29  5.2          setosa   \n",
       "30  4.7          setosa   \n",
       "⋮   ⋮            ⋮        \n",
       "121 6.9          virginica\n",
       "122 5.6          virginica\n",
       "123 7.7          virginica\n",
       "124 6.3          virginica\n",
       "125 6.7          virginica\n",
       "126 7.2          virginica\n",
       "127 6.2          virginica\n",
       "128 6.1          virginica\n",
       "129 6.4          virginica\n",
       "130 7.2          virginica\n",
       "131 7.4          virginica\n",
       "132 7.9          virginica\n",
       "133 6.4          virginica\n",
       "134 6.3          virginica\n",
       "135 6.1          virginica\n",
       "136 7.7          virginica\n",
       "137 6.3          virginica\n",
       "138 6.4          virginica\n",
       "139 6.0          virginica\n",
       "140 6.9          virginica\n",
       "141 6.7          virginica\n",
       "142 6.9          virginica\n",
       "143 5.8          virginica\n",
       "144 6.8          virginica\n",
       "145 6.7          virginica\n",
       "146 6.7          virginica\n",
       "147 6.3          virginica\n",
       "148 6.5          virginica\n",
       "149 6.2          virginica\n",
       "150 5.9          virginica"
      ]
     },
     "metadata": {},
     "output_type": "display_data"
    }
   ],
   "source": [
    "iris[, c(1, 5)]"
   ]
  },
  {
   "cell_type": "code",
   "execution_count": 8,
   "id": "45b4cc6a",
   "metadata": {},
   "outputs": [
    {
     "data": {
      "text/html": [
       "<table class=\"dataframe\">\n",
       "<caption>A data.frame: 5 × 5</caption>\n",
       "<thead>\n",
       "\t<tr><th></th><th scope=col>Sepal.Length</th><th scope=col>Sepal.Width</th><th scope=col>Petal.Length</th><th scope=col>Petal.Width</th><th scope=col>Species</th></tr>\n",
       "\t<tr><th></th><th scope=col>&lt;dbl&gt;</th><th scope=col>&lt;dbl&gt;</th><th scope=col>&lt;dbl&gt;</th><th scope=col>&lt;dbl&gt;</th><th scope=col>&lt;fct&gt;</th></tr>\n",
       "</thead>\n",
       "<tbody>\n",
       "\t<tr><th scope=row>1</th><td>5.1</td><td>3.5</td><td>1.4</td><td>0.2</td><td>setosa</td></tr>\n",
       "\t<tr><th scope=row>2</th><td>4.9</td><td>3.0</td><td>1.4</td><td>0.2</td><td>setosa</td></tr>\n",
       "\t<tr><th scope=row>3</th><td>4.7</td><td>3.2</td><td>1.3</td><td>0.2</td><td>setosa</td></tr>\n",
       "\t<tr><th scope=row>4</th><td>4.6</td><td>3.1</td><td>1.5</td><td>0.2</td><td>setosa</td></tr>\n",
       "\t<tr><th scope=row>5</th><td>5.0</td><td>3.6</td><td>1.4</td><td>0.2</td><td>setosa</td></tr>\n",
       "</tbody>\n",
       "</table>\n"
      ],
      "text/latex": [
       "A data.frame: 5 × 5\n",
       "\\begin{tabular}{r|lllll}\n",
       "  & Sepal.Length & Sepal.Width & Petal.Length & Petal.Width & Species\\\\\n",
       "  & <dbl> & <dbl> & <dbl> & <dbl> & <fct>\\\\\n",
       "\\hline\n",
       "\t1 & 5.1 & 3.5 & 1.4 & 0.2 & setosa\\\\\n",
       "\t2 & 4.9 & 3.0 & 1.4 & 0.2 & setosa\\\\\n",
       "\t3 & 4.7 & 3.2 & 1.3 & 0.2 & setosa\\\\\n",
       "\t4 & 4.6 & 3.1 & 1.5 & 0.2 & setosa\\\\\n",
       "\t5 & 5.0 & 3.6 & 1.4 & 0.2 & setosa\\\\\n",
       "\\end{tabular}\n"
      ],
      "text/markdown": [
       "\n",
       "A data.frame: 5 × 5\n",
       "\n",
       "| <!--/--> | Sepal.Length &lt;dbl&gt; | Sepal.Width &lt;dbl&gt; | Petal.Length &lt;dbl&gt; | Petal.Width &lt;dbl&gt; | Species &lt;fct&gt; |\n",
       "|---|---|---|---|---|---|\n",
       "| 1 | 5.1 | 3.5 | 1.4 | 0.2 | setosa |\n",
       "| 2 | 4.9 | 3.0 | 1.4 | 0.2 | setosa |\n",
       "| 3 | 4.7 | 3.2 | 1.3 | 0.2 | setosa |\n",
       "| 4 | 4.6 | 3.1 | 1.5 | 0.2 | setosa |\n",
       "| 5 | 5.0 | 3.6 | 1.4 | 0.2 | setosa |\n",
       "\n"
      ],
      "text/plain": [
       "  Sepal.Length Sepal.Width Petal.Length Petal.Width Species\n",
       "1 5.1          3.5         1.4          0.2         setosa \n",
       "2 4.9          3.0         1.4          0.2         setosa \n",
       "3 4.7          3.2         1.3          0.2         setosa \n",
       "4 4.6          3.1         1.5          0.2         setosa \n",
       "5 5.0          3.6         1.4          0.2         setosa "
      ]
     },
     "metadata": {},
     "output_type": "display_data"
    }
   ],
   "source": [
    "iris[1:5, ]"
   ]
  },
  {
   "cell_type": "code",
   "execution_count": 9,
   "id": "4f64a049",
   "metadata": {},
   "outputs": [
    {
     "data": {
      "text/html": [
       "<table class=\"dataframe\">\n",
       "<caption>A data.frame: 5 × 2</caption>\n",
       "<thead>\n",
       "\t<tr><th></th><th scope=col>Sepal.Length</th><th scope=col>Petal.Length</th></tr>\n",
       "\t<tr><th></th><th scope=col>&lt;dbl&gt;</th><th scope=col>&lt;dbl&gt;</th></tr>\n",
       "</thead>\n",
       "<tbody>\n",
       "\t<tr><th scope=row>1</th><td>5.1</td><td>1.4</td></tr>\n",
       "\t<tr><th scope=row>2</th><td>4.9</td><td>1.4</td></tr>\n",
       "\t<tr><th scope=row>3</th><td>4.7</td><td>1.3</td></tr>\n",
       "\t<tr><th scope=row>4</th><td>4.6</td><td>1.5</td></tr>\n",
       "\t<tr><th scope=row>5</th><td>5.0</td><td>1.4</td></tr>\n",
       "</tbody>\n",
       "</table>\n"
      ],
      "text/latex": [
       "A data.frame: 5 × 2\n",
       "\\begin{tabular}{r|ll}\n",
       "  & Sepal.Length & Petal.Length\\\\\n",
       "  & <dbl> & <dbl>\\\\\n",
       "\\hline\n",
       "\t1 & 5.1 & 1.4\\\\\n",
       "\t2 & 4.9 & 1.4\\\\\n",
       "\t3 & 4.7 & 1.3\\\\\n",
       "\t4 & 4.6 & 1.5\\\\\n",
       "\t5 & 5.0 & 1.4\\\\\n",
       "\\end{tabular}\n"
      ],
      "text/markdown": [
       "\n",
       "A data.frame: 5 × 2\n",
       "\n",
       "| <!--/--> | Sepal.Length &lt;dbl&gt; | Petal.Length &lt;dbl&gt; |\n",
       "|---|---|---|\n",
       "| 1 | 5.1 | 1.4 |\n",
       "| 2 | 4.9 | 1.4 |\n",
       "| 3 | 4.7 | 1.3 |\n",
       "| 4 | 4.6 | 1.5 |\n",
       "| 5 | 5.0 | 1.4 |\n",
       "\n"
      ],
      "text/plain": [
       "  Sepal.Length Petal.Length\n",
       "1 5.1          1.4         \n",
       "2 4.9          1.4         \n",
       "3 4.7          1.3         \n",
       "4 4.6          1.5         \n",
       "5 5.0          1.4         "
      ]
     },
     "metadata": {},
     "output_type": "display_data"
    }
   ],
   "source": [
    "iris[1:5, c(1, 3)]"
   ]
  },
  {
   "cell_type": "code",
   "execution_count": 10,
   "id": "b39b8820",
   "metadata": {},
   "outputs": [],
   "source": [
    "kcal <- c(514, 533, 566)\n",
    "na <- c(917, 853, 888)\n",
    "fat <- c(11, 13, 10)\n",
    "menu <- c('새우', '불고기', '치킨')\n",
    "burger <- data.frame(kcal, na, fat, menu)"
   ]
  },
  {
   "cell_type": "code",
   "execution_count": 11,
   "id": "4d7f3a81",
   "metadata": {},
   "outputs": [
    {
     "data": {
      "text/html": [
       "<table class=\"dataframe\">\n",
       "<caption>A data.frame: 3 × 4</caption>\n",
       "<thead>\n",
       "\t<tr><th scope=col>kcal</th><th scope=col>na</th><th scope=col>fat</th><th scope=col>menu</th></tr>\n",
       "\t<tr><th scope=col>&lt;dbl&gt;</th><th scope=col>&lt;dbl&gt;</th><th scope=col>&lt;dbl&gt;</th><th scope=col>&lt;chr&gt;</th></tr>\n",
       "</thead>\n",
       "<tbody>\n",
       "\t<tr><td>514</td><td>917</td><td>11</td><td>새우  </td></tr>\n",
       "\t<tr><td>533</td><td>853</td><td>13</td><td>불고기</td></tr>\n",
       "\t<tr><td>566</td><td>888</td><td>10</td><td>치킨  </td></tr>\n",
       "</tbody>\n",
       "</table>\n"
      ],
      "text/latex": [
       "A data.frame: 3 × 4\n",
       "\\begin{tabular}{llll}\n",
       " kcal & na & fat & menu\\\\\n",
       " <dbl> & <dbl> & <dbl> & <chr>\\\\\n",
       "\\hline\n",
       "\t 514 & 917 & 11 & 새우  \\\\\n",
       "\t 533 & 853 & 13 & 불고기\\\\\n",
       "\t 566 & 888 & 10 & 치킨  \\\\\n",
       "\\end{tabular}\n"
      ],
      "text/markdown": [
       "\n",
       "A data.frame: 3 × 4\n",
       "\n",
       "| kcal &lt;dbl&gt; | na &lt;dbl&gt; | fat &lt;dbl&gt; | menu &lt;chr&gt; |\n",
       "|---|---|---|---|\n",
       "| 514 | 917 | 11 | 새우   |\n",
       "| 533 | 853 | 13 | 불고기 |\n",
       "| 566 | 888 | 10 | 치킨   |\n",
       "\n"
      ],
      "text/plain": [
       "  kcal na  fat menu  \n",
       "1 514  917 11  새우  \n",
       "2 533  853 13  불고기\n",
       "3 566  888 10  치킨  "
      ]
     },
     "metadata": {},
     "output_type": "display_data"
    }
   ],
   "source": [
    "burger"
   ]
  },
  {
   "cell_type": "code",
   "execution_count": 12,
   "id": "e90810db",
   "metadata": {},
   "outputs": [],
   "source": [
    "rownames(burger) <- c('M', 'L', 'B')"
   ]
  },
  {
   "cell_type": "code",
   "execution_count": 13,
   "id": "fa1ca38b",
   "metadata": {},
   "outputs": [
    {
     "data": {
      "text/html": [
       "<table class=\"dataframe\">\n",
       "<caption>A data.frame: 3 × 4</caption>\n",
       "<thead>\n",
       "\t<tr><th></th><th scope=col>kcal</th><th scope=col>na</th><th scope=col>fat</th><th scope=col>menu</th></tr>\n",
       "\t<tr><th></th><th scope=col>&lt;dbl&gt;</th><th scope=col>&lt;dbl&gt;</th><th scope=col>&lt;dbl&gt;</th><th scope=col>&lt;chr&gt;</th></tr>\n",
       "</thead>\n",
       "<tbody>\n",
       "\t<tr><th scope=row>M</th><td>514</td><td>917</td><td>11</td><td>새우  </td></tr>\n",
       "\t<tr><th scope=row>L</th><td>533</td><td>853</td><td>13</td><td>불고기</td></tr>\n",
       "\t<tr><th scope=row>B</th><td>566</td><td>888</td><td>10</td><td>치킨  </td></tr>\n",
       "</tbody>\n",
       "</table>\n"
      ],
      "text/latex": [
       "A data.frame: 3 × 4\n",
       "\\begin{tabular}{r|llll}\n",
       "  & kcal & na & fat & menu\\\\\n",
       "  & <dbl> & <dbl> & <dbl> & <chr>\\\\\n",
       "\\hline\n",
       "\tM & 514 & 917 & 11 & 새우  \\\\\n",
       "\tL & 533 & 853 & 13 & 불고기\\\\\n",
       "\tB & 566 & 888 & 10 & 치킨  \\\\\n",
       "\\end{tabular}\n"
      ],
      "text/markdown": [
       "\n",
       "A data.frame: 3 × 4\n",
       "\n",
       "| <!--/--> | kcal &lt;dbl&gt; | na &lt;dbl&gt; | fat &lt;dbl&gt; | menu &lt;chr&gt; |\n",
       "|---|---|---|---|---|\n",
       "| M | 514 | 917 | 11 | 새우   |\n",
       "| L | 533 | 853 | 13 | 불고기 |\n",
       "| B | 566 | 888 | 10 | 치킨   |\n",
       "\n"
      ],
      "text/plain": [
       "  kcal na  fat menu  \n",
       "M 514  917 11  새우  \n",
       "L 533  853 13  불고기\n",
       "B 566  888 10  치킨  "
      ]
     },
     "metadata": {},
     "output_type": "display_data"
    }
   ],
   "source": [
    "burger"
   ]
  },
  {
   "cell_type": "code",
   "execution_count": 14,
   "id": "afb280d3",
   "metadata": {},
   "outputs": [
    {
     "data": {
      "text/html": [
       "<table class=\"dataframe\">\n",
       "<caption>A data.frame: 1 × 4</caption>\n",
       "<thead>\n",
       "\t<tr><th></th><th scope=col>kcal</th><th scope=col>na</th><th scope=col>fat</th><th scope=col>menu</th></tr>\n",
       "\t<tr><th></th><th scope=col>&lt;dbl&gt;</th><th scope=col>&lt;dbl&gt;</th><th scope=col>&lt;dbl&gt;</th><th scope=col>&lt;chr&gt;</th></tr>\n",
       "</thead>\n",
       "<tbody>\n",
       "\t<tr><th scope=row>M</th><td>514</td><td>917</td><td>11</td><td>새우</td></tr>\n",
       "</tbody>\n",
       "</table>\n"
      ],
      "text/latex": [
       "A data.frame: 1 × 4\n",
       "\\begin{tabular}{r|llll}\n",
       "  & kcal & na & fat & menu\\\\\n",
       "  & <dbl> & <dbl> & <dbl> & <chr>\\\\\n",
       "\\hline\n",
       "\tM & 514 & 917 & 11 & 새우\\\\\n",
       "\\end{tabular}\n"
      ],
      "text/markdown": [
       "\n",
       "A data.frame: 1 × 4\n",
       "\n",
       "| <!--/--> | kcal &lt;dbl&gt; | na &lt;dbl&gt; | fat &lt;dbl&gt; | menu &lt;chr&gt; |\n",
       "|---|---|---|---|---|\n",
       "| M | 514 | 917 | 11 | 새우 |\n",
       "\n"
      ],
      "text/plain": [
       "  kcal na  fat menu\n",
       "M 514  917 11  새우"
      ]
     },
     "metadata": {},
     "output_type": "display_data"
    }
   ],
   "source": [
    "burger['M', ]"
   ]
  },
  {
   "cell_type": "code",
   "execution_count": 15,
   "id": "b59d7de3",
   "metadata": {},
   "outputs": [
    {
     "data": {
      "text/html": [
       "917"
      ],
      "text/latex": [
       "917"
      ],
      "text/markdown": [
       "917"
      ],
      "text/plain": [
       "[1] 917"
      ]
     },
     "metadata": {},
     "output_type": "display_data"
    }
   ],
   "source": [
    "burger['M', 'na']"
   ]
  },
  {
   "cell_type": "code",
   "execution_count": 16,
   "id": "ae339b6a",
   "metadata": {},
   "outputs": [
    {
     "data": {
      "text/html": [
       "<style>\n",
       ".list-inline {list-style: none; margin:0; padding: 0}\n",
       ".list-inline>li {display: inline-block}\n",
       ".list-inline>li:not(:last-child)::after {content: \"\\00b7\"; padding: 0 .5ex}\n",
       "</style>\n",
       "<ol class=list-inline><li>514</li><li>533</li><li>566</li></ol>\n"
      ],
      "text/latex": [
       "\\begin{enumerate*}\n",
       "\\item 514\n",
       "\\item 533\n",
       "\\item 566\n",
       "\\end{enumerate*}\n"
      ],
      "text/markdown": [
       "1. 514\n",
       "2. 533\n",
       "3. 566\n",
       "\n",
       "\n"
      ],
      "text/plain": [
       "[1] 514 533 566"
      ]
     },
     "metadata": {},
     "output_type": "display_data"
    }
   ],
   "source": [
    "burger[, 'kcal']"
   ]
  },
  {
   "cell_type": "code",
   "execution_count": 17,
   "id": "b5073130",
   "metadata": {},
   "outputs": [
    {
     "data": {
      "text/html": [
       "<style>\n",
       ".list-inline {list-style: none; margin:0; padding: 0}\n",
       ".list-inline>li {display: inline-block}\n",
       ".list-inline>li:not(:last-child)::after {content: \"\\00b7\"; padding: 0 .5ex}\n",
       "</style>\n",
       "<ol class=list-inline><li>'새우'</li><li>'치킨'</li></ol>\n"
      ],
      "text/latex": [
       "\\begin{enumerate*}\n",
       "\\item '새우'\n",
       "\\item '치킨'\n",
       "\\end{enumerate*}\n"
      ],
      "text/markdown": [
       "1. '새우'\n",
       "2. '치킨'\n",
       "\n",
       "\n"
      ],
      "text/plain": [
       "[1] \"새우\" \"치킨\""
      ]
     },
     "metadata": {},
     "output_type": "display_data"
    }
   ],
   "source": [
    "burger[c('M', 'B'), 'menu']"
   ]
  },
  {
   "cell_type": "code",
   "execution_count": 18,
   "id": "86713fd2",
   "metadata": {},
   "outputs": [
    {
     "data": {
      "text/html": [
       "<style>\n",
       ".list-inline {list-style: none; margin:0; padding: 0}\n",
       ".list-inline>li {display: inline-block}\n",
       ".list-inline>li:not(:last-child)::after {content: \"\\00b7\"; padding: 0 .5ex}\n",
       "</style>\n",
       "<ol class=list-inline><li>150</li><li>5</li></ol>\n"
      ],
      "text/latex": [
       "\\begin{enumerate*}\n",
       "\\item 150\n",
       "\\item 5\n",
       "\\end{enumerate*}\n"
      ],
      "text/markdown": [
       "1. 150\n",
       "2. 5\n",
       "\n",
       "\n"
      ],
      "text/plain": [
       "[1] 150   5"
      ]
     },
     "metadata": {},
     "output_type": "display_data"
    }
   ],
   "source": [
    "dim(iris)"
   ]
  },
  {
   "cell_type": "code",
   "execution_count": 19,
   "id": "a3f36331",
   "metadata": {},
   "outputs": [
    {
     "data": {
      "text/html": [
       "150"
      ],
      "text/latex": [
       "150"
      ],
      "text/markdown": [
       "150"
      ],
      "text/plain": [
       "[1] 150"
      ]
     },
     "metadata": {},
     "output_type": "display_data"
    }
   ],
   "source": [
    "nrow(iris)"
   ]
  },
  {
   "cell_type": "code",
   "execution_count": 20,
   "id": "f5756ad2",
   "metadata": {},
   "outputs": [
    {
     "data": {
      "text/html": [
       "5"
      ],
      "text/latex": [
       "5"
      ],
      "text/markdown": [
       "5"
      ],
      "text/plain": [
       "[1] 5"
      ]
     },
     "metadata": {},
     "output_type": "display_data"
    }
   ],
   "source": [
    "ncol(iris)"
   ]
  },
  {
   "cell_type": "code",
   "execution_count": 21,
   "id": "4d54cfdc",
   "metadata": {},
   "outputs": [
    {
     "data": {
      "text/html": [
       "<style>\n",
       ".list-inline {list-style: none; margin:0; padding: 0}\n",
       ".list-inline>li {display: inline-block}\n",
       ".list-inline>li:not(:last-child)::after {content: \"\\00b7\"; padding: 0 .5ex}\n",
       "</style>\n",
       "<ol class=list-inline><li>'Sepal.Length'</li><li>'Sepal.Width'</li><li>'Petal.Length'</li><li>'Petal.Width'</li><li>'Species'</li></ol>\n"
      ],
      "text/latex": [
       "\\begin{enumerate*}\n",
       "\\item 'Sepal.Length'\n",
       "\\item 'Sepal.Width'\n",
       "\\item 'Petal.Length'\n",
       "\\item 'Petal.Width'\n",
       "\\item 'Species'\n",
       "\\end{enumerate*}\n"
      ],
      "text/markdown": [
       "1. 'Sepal.Length'\n",
       "2. 'Sepal.Width'\n",
       "3. 'Petal.Length'\n",
       "4. 'Petal.Width'\n",
       "5. 'Species'\n",
       "\n",
       "\n"
      ],
      "text/plain": [
       "[1] \"Sepal.Length\" \"Sepal.Width\"  \"Petal.Length\" \"Petal.Width\"  \"Species\"     "
      ]
     },
     "metadata": {},
     "output_type": "display_data"
    }
   ],
   "source": [
    "colnames(iris)"
   ]
  },
  {
   "cell_type": "code",
   "execution_count": 22,
   "id": "a8ad9870",
   "metadata": {},
   "outputs": [
    {
     "data": {
      "text/html": [
       "<style>\n",
       ".list-inline {list-style: none; margin:0; padding: 0}\n",
       ".list-inline>li {display: inline-block}\n",
       ".list-inline>li:not(:last-child)::after {content: \"\\00b7\"; padding: 0 .5ex}\n",
       "</style>\n",
       "<ol class=list-inline><li>'Sepal.Length'</li><li>'Sepal.Width'</li><li>'Petal.Length'</li><li>'Petal.Width'</li><li>'Species'</li></ol>\n"
      ],
      "text/latex": [
       "\\begin{enumerate*}\n",
       "\\item 'Sepal.Length'\n",
       "\\item 'Sepal.Width'\n",
       "\\item 'Petal.Length'\n",
       "\\item 'Petal.Width'\n",
       "\\item 'Species'\n",
       "\\end{enumerate*}\n"
      ],
      "text/markdown": [
       "1. 'Sepal.Length'\n",
       "2. 'Sepal.Width'\n",
       "3. 'Petal.Length'\n",
       "4. 'Petal.Width'\n",
       "5. 'Species'\n",
       "\n",
       "\n"
      ],
      "text/plain": [
       "[1] \"Sepal.Length\" \"Sepal.Width\"  \"Petal.Length\" \"Petal.Width\"  \"Species\"     "
      ]
     },
     "metadata": {},
     "output_type": "display_data"
    }
   ],
   "source": [
    "names(iris)"
   ]
  },
  {
   "cell_type": "code",
   "execution_count": 23,
   "id": "fe499f81",
   "metadata": {},
   "outputs": [
    {
     "data": {
      "text/html": [
       "<table class=\"dataframe\">\n",
       "<caption>A data.frame: 6 × 5</caption>\n",
       "<thead>\n",
       "\t<tr><th></th><th scope=col>Sepal.Length</th><th scope=col>Sepal.Width</th><th scope=col>Petal.Length</th><th scope=col>Petal.Width</th><th scope=col>Species</th></tr>\n",
       "\t<tr><th></th><th scope=col>&lt;dbl&gt;</th><th scope=col>&lt;dbl&gt;</th><th scope=col>&lt;dbl&gt;</th><th scope=col>&lt;dbl&gt;</th><th scope=col>&lt;fct&gt;</th></tr>\n",
       "</thead>\n",
       "<tbody>\n",
       "\t<tr><th scope=row>1</th><td>5.1</td><td>3.5</td><td>1.4</td><td>0.2</td><td>setosa</td></tr>\n",
       "\t<tr><th scope=row>2</th><td>4.9</td><td>3.0</td><td>1.4</td><td>0.2</td><td>setosa</td></tr>\n",
       "\t<tr><th scope=row>3</th><td>4.7</td><td>3.2</td><td>1.3</td><td>0.2</td><td>setosa</td></tr>\n",
       "\t<tr><th scope=row>4</th><td>4.6</td><td>3.1</td><td>1.5</td><td>0.2</td><td>setosa</td></tr>\n",
       "\t<tr><th scope=row>5</th><td>5.0</td><td>3.6</td><td>1.4</td><td>0.2</td><td>setosa</td></tr>\n",
       "\t<tr><th scope=row>6</th><td>5.4</td><td>3.9</td><td>1.7</td><td>0.4</td><td>setosa</td></tr>\n",
       "</tbody>\n",
       "</table>\n"
      ],
      "text/latex": [
       "A data.frame: 6 × 5\n",
       "\\begin{tabular}{r|lllll}\n",
       "  & Sepal.Length & Sepal.Width & Petal.Length & Petal.Width & Species\\\\\n",
       "  & <dbl> & <dbl> & <dbl> & <dbl> & <fct>\\\\\n",
       "\\hline\n",
       "\t1 & 5.1 & 3.5 & 1.4 & 0.2 & setosa\\\\\n",
       "\t2 & 4.9 & 3.0 & 1.4 & 0.2 & setosa\\\\\n",
       "\t3 & 4.7 & 3.2 & 1.3 & 0.2 & setosa\\\\\n",
       "\t4 & 4.6 & 3.1 & 1.5 & 0.2 & setosa\\\\\n",
       "\t5 & 5.0 & 3.6 & 1.4 & 0.2 & setosa\\\\\n",
       "\t6 & 5.4 & 3.9 & 1.7 & 0.4 & setosa\\\\\n",
       "\\end{tabular}\n"
      ],
      "text/markdown": [
       "\n",
       "A data.frame: 6 × 5\n",
       "\n",
       "| <!--/--> | Sepal.Length &lt;dbl&gt; | Sepal.Width &lt;dbl&gt; | Petal.Length &lt;dbl&gt; | Petal.Width &lt;dbl&gt; | Species &lt;fct&gt; |\n",
       "|---|---|---|---|---|---|\n",
       "| 1 | 5.1 | 3.5 | 1.4 | 0.2 | setosa |\n",
       "| 2 | 4.9 | 3.0 | 1.4 | 0.2 | setosa |\n",
       "| 3 | 4.7 | 3.2 | 1.3 | 0.2 | setosa |\n",
       "| 4 | 4.6 | 3.1 | 1.5 | 0.2 | setosa |\n",
       "| 5 | 5.0 | 3.6 | 1.4 | 0.2 | setosa |\n",
       "| 6 | 5.4 | 3.9 | 1.7 | 0.4 | setosa |\n",
       "\n"
      ],
      "text/plain": [
       "  Sepal.Length Sepal.Width Petal.Length Petal.Width Species\n",
       "1 5.1          3.5         1.4          0.2         setosa \n",
       "2 4.9          3.0         1.4          0.2         setosa \n",
       "3 4.7          3.2         1.3          0.2         setosa \n",
       "4 4.6          3.1         1.5          0.2         setosa \n",
       "5 5.0          3.6         1.4          0.2         setosa \n",
       "6 5.4          3.9         1.7          0.4         setosa "
      ]
     },
     "metadata": {},
     "output_type": "display_data"
    }
   ],
   "source": [
    "head(iris)"
   ]
  },
  {
   "cell_type": "code",
   "execution_count": 24,
   "id": "b66908bd",
   "metadata": {},
   "outputs": [
    {
     "data": {
      "text/html": [
       "<table class=\"dataframe\">\n",
       "<caption>A data.frame: 6 × 5</caption>\n",
       "<thead>\n",
       "\t<tr><th></th><th scope=col>Sepal.Length</th><th scope=col>Sepal.Width</th><th scope=col>Petal.Length</th><th scope=col>Petal.Width</th><th scope=col>Species</th></tr>\n",
       "\t<tr><th></th><th scope=col>&lt;dbl&gt;</th><th scope=col>&lt;dbl&gt;</th><th scope=col>&lt;dbl&gt;</th><th scope=col>&lt;dbl&gt;</th><th scope=col>&lt;fct&gt;</th></tr>\n",
       "</thead>\n",
       "<tbody>\n",
       "\t<tr><th scope=row>145</th><td>6.7</td><td>3.3</td><td>5.7</td><td>2.5</td><td>virginica</td></tr>\n",
       "\t<tr><th scope=row>146</th><td>6.7</td><td>3.0</td><td>5.2</td><td>2.3</td><td>virginica</td></tr>\n",
       "\t<tr><th scope=row>147</th><td>6.3</td><td>2.5</td><td>5.0</td><td>1.9</td><td>virginica</td></tr>\n",
       "\t<tr><th scope=row>148</th><td>6.5</td><td>3.0</td><td>5.2</td><td>2.0</td><td>virginica</td></tr>\n",
       "\t<tr><th scope=row>149</th><td>6.2</td><td>3.4</td><td>5.4</td><td>2.3</td><td>virginica</td></tr>\n",
       "\t<tr><th scope=row>150</th><td>5.9</td><td>3.0</td><td>5.1</td><td>1.8</td><td>virginica</td></tr>\n",
       "</tbody>\n",
       "</table>\n"
      ],
      "text/latex": [
       "A data.frame: 6 × 5\n",
       "\\begin{tabular}{r|lllll}\n",
       "  & Sepal.Length & Sepal.Width & Petal.Length & Petal.Width & Species\\\\\n",
       "  & <dbl> & <dbl> & <dbl> & <dbl> & <fct>\\\\\n",
       "\\hline\n",
       "\t145 & 6.7 & 3.3 & 5.7 & 2.5 & virginica\\\\\n",
       "\t146 & 6.7 & 3.0 & 5.2 & 2.3 & virginica\\\\\n",
       "\t147 & 6.3 & 2.5 & 5.0 & 1.9 & virginica\\\\\n",
       "\t148 & 6.5 & 3.0 & 5.2 & 2.0 & virginica\\\\\n",
       "\t149 & 6.2 & 3.4 & 5.4 & 2.3 & virginica\\\\\n",
       "\t150 & 5.9 & 3.0 & 5.1 & 1.8 & virginica\\\\\n",
       "\\end{tabular}\n"
      ],
      "text/markdown": [
       "\n",
       "A data.frame: 6 × 5\n",
       "\n",
       "| <!--/--> | Sepal.Length &lt;dbl&gt; | Sepal.Width &lt;dbl&gt; | Petal.Length &lt;dbl&gt; | Petal.Width &lt;dbl&gt; | Species &lt;fct&gt; |\n",
       "|---|---|---|---|---|---|\n",
       "| 145 | 6.7 | 3.3 | 5.7 | 2.5 | virginica |\n",
       "| 146 | 6.7 | 3.0 | 5.2 | 2.3 | virginica |\n",
       "| 147 | 6.3 | 2.5 | 5.0 | 1.9 | virginica |\n",
       "| 148 | 6.5 | 3.0 | 5.2 | 2.0 | virginica |\n",
       "| 149 | 6.2 | 3.4 | 5.4 | 2.3 | virginica |\n",
       "| 150 | 5.9 | 3.0 | 5.1 | 1.8 | virginica |\n",
       "\n"
      ],
      "text/plain": [
       "    Sepal.Length Sepal.Width Petal.Length Petal.Width Species  \n",
       "145 6.7          3.3         5.7          2.5         virginica\n",
       "146 6.7          3.0         5.2          2.3         virginica\n",
       "147 6.3          2.5         5.0          1.9         virginica\n",
       "148 6.5          3.0         5.2          2.0         virginica\n",
       "149 6.2          3.4         5.4          2.3         virginica\n",
       "150 5.9          3.0         5.1          1.8         virginica"
      ]
     },
     "metadata": {},
     "output_type": "display_data"
    }
   ],
   "source": [
    "tail(iris)"
   ]
  },
  {
   "cell_type": "code",
   "execution_count": 25,
   "id": "ea0e77b0",
   "metadata": {},
   "outputs": [
    {
     "name": "stdout",
     "output_type": "stream",
     "text": [
      "'data.frame':\t150 obs. of  5 variables:\n",
      " $ Sepal.Length: num  5.1 4.9 4.7 4.6 5 5.4 4.6 5 4.4 4.9 ...\n",
      " $ Sepal.Width : num  3.5 3 3.2 3.1 3.6 3.9 3.4 3.4 2.9 3.1 ...\n",
      " $ Petal.Length: num  1.4 1.4 1.3 1.5 1.4 1.7 1.4 1.5 1.4 1.5 ...\n",
      " $ Petal.Width : num  0.2 0.2 0.2 0.2 0.2 0.4 0.3 0.2 0.2 0.1 ...\n",
      " $ Species     : Factor w/ 3 levels \"setosa\",\"versicolor\",..: 1 1 1 1 1 1 1 1 1 1 ...\n"
     ]
    }
   ],
   "source": [
    "str(iris)"
   ]
  },
  {
   "cell_type": "code",
   "execution_count": 26,
   "id": "95afbf62",
   "metadata": {},
   "outputs": [
    {
     "data": {
      "text/html": [
       "<table class=\"dataframe\">\n",
       "<caption>A data.frame: 6 × 5</caption>\n",
       "<thead>\n",
       "\t<tr><th></th><th scope=col>Sepal.Length</th><th scope=col>Sepal.Width</th><th scope=col>Petal.Length</th><th scope=col>Petal.Width</th><th scope=col>Species</th></tr>\n",
       "\t<tr><th></th><th scope=col>&lt;dbl&gt;</th><th scope=col>&lt;dbl&gt;</th><th scope=col>&lt;dbl&gt;</th><th scope=col>&lt;dbl&gt;</th><th scope=col>&lt;fct&gt;</th></tr>\n",
       "</thead>\n",
       "<tbody>\n",
       "\t<tr><th scope=row>1</th><td>5.1</td><td>3.5</td><td>1.4</td><td>0.2</td><td>setosa</td></tr>\n",
       "\t<tr><th scope=row>2</th><td>4.9</td><td>3.0</td><td>1.4</td><td>0.2</td><td>setosa</td></tr>\n",
       "\t<tr><th scope=row>3</th><td>4.7</td><td>3.2</td><td>1.3</td><td>0.2</td><td>setosa</td></tr>\n",
       "\t<tr><th scope=row>4</th><td>4.6</td><td>3.1</td><td>1.5</td><td>0.2</td><td>setosa</td></tr>\n",
       "\t<tr><th scope=row>5</th><td>5.0</td><td>3.6</td><td>1.4</td><td>0.2</td><td>setosa</td></tr>\n",
       "\t<tr><th scope=row>6</th><td>5.4</td><td>3.9</td><td>1.7</td><td>0.4</td><td>setosa</td></tr>\n",
       "</tbody>\n",
       "</table>\n"
      ],
      "text/latex": [
       "A data.frame: 6 × 5\n",
       "\\begin{tabular}{r|lllll}\n",
       "  & Sepal.Length & Sepal.Width & Petal.Length & Petal.Width & Species\\\\\n",
       "  & <dbl> & <dbl> & <dbl> & <dbl> & <fct>\\\\\n",
       "\\hline\n",
       "\t1 & 5.1 & 3.5 & 1.4 & 0.2 & setosa\\\\\n",
       "\t2 & 4.9 & 3.0 & 1.4 & 0.2 & setosa\\\\\n",
       "\t3 & 4.7 & 3.2 & 1.3 & 0.2 & setosa\\\\\n",
       "\t4 & 4.6 & 3.1 & 1.5 & 0.2 & setosa\\\\\n",
       "\t5 & 5.0 & 3.6 & 1.4 & 0.2 & setosa\\\\\n",
       "\t6 & 5.4 & 3.9 & 1.7 & 0.4 & setosa\\\\\n",
       "\\end{tabular}\n"
      ],
      "text/markdown": [
       "\n",
       "A data.frame: 6 × 5\n",
       "\n",
       "| <!--/--> | Sepal.Length &lt;dbl&gt; | Sepal.Width &lt;dbl&gt; | Petal.Length &lt;dbl&gt; | Petal.Width &lt;dbl&gt; | Species &lt;fct&gt; |\n",
       "|---|---|---|---|---|---|\n",
       "| 1 | 5.1 | 3.5 | 1.4 | 0.2 | setosa |\n",
       "| 2 | 4.9 | 3.0 | 1.4 | 0.2 | setosa |\n",
       "| 3 | 4.7 | 3.2 | 1.3 | 0.2 | setosa |\n",
       "| 4 | 4.6 | 3.1 | 1.5 | 0.2 | setosa |\n",
       "| 5 | 5.0 | 3.6 | 1.4 | 0.2 | setosa |\n",
       "| 6 | 5.4 | 3.9 | 1.7 | 0.4 | setosa |\n",
       "\n"
      ],
      "text/plain": [
       "  Sepal.Length Sepal.Width Petal.Length Petal.Width Species\n",
       "1 5.1          3.5         1.4          0.2         setosa \n",
       "2 4.9          3.0         1.4          0.2         setosa \n",
       "3 4.7          3.2         1.3          0.2         setosa \n",
       "4 4.6          3.1         1.5          0.2         setosa \n",
       "5 5.0          3.6         1.4          0.2         setosa \n",
       "6 5.4          3.9         1.7          0.4         setosa "
      ]
     },
     "metadata": {},
     "output_type": "display_data"
    }
   ],
   "source": [
    "head(iris)"
   ]
  },
  {
   "cell_type": "code",
   "execution_count": 28,
   "id": "0bfdf72b",
   "metadata": {},
   "outputs": [
    {
     "data": {
      "text/html": [
       "<style>\n",
       ".list-inline {list-style: none; margin:0; padding: 0}\n",
       ".list-inline>li {display: inline-block}\n",
       ".list-inline>li:not(:last-child)::after {content: \"\\00b7\"; padding: 0 .5ex}\n",
       "</style>\n",
       "<ol class=list-inline><li>setosa</li><li>setosa</li><li>setosa</li><li>setosa</li><li>setosa</li><li>setosa</li><li>setosa</li><li>setosa</li><li>setosa</li><li>setosa</li><li>setosa</li><li>setosa</li><li>setosa</li><li>setosa</li><li>setosa</li><li>setosa</li><li>setosa</li><li>setosa</li><li>setosa</li><li>setosa</li><li>setosa</li><li>setosa</li><li>setosa</li><li>setosa</li><li>setosa</li><li>setosa</li><li>setosa</li><li>setosa</li><li>setosa</li><li>setosa</li><li>setosa</li><li>setosa</li><li>setosa</li><li>setosa</li><li>setosa</li><li>setosa</li><li>setosa</li><li>setosa</li><li>setosa</li><li>setosa</li><li>setosa</li><li>setosa</li><li>setosa</li><li>setosa</li><li>setosa</li><li>setosa</li><li>setosa</li><li>setosa</li><li>setosa</li><li>setosa</li><li>versicolor</li><li>versicolor</li><li>versicolor</li><li>versicolor</li><li>versicolor</li><li>versicolor</li><li>versicolor</li><li>versicolor</li><li>versicolor</li><li>versicolor</li><li>versicolor</li><li>versicolor</li><li>versicolor</li><li>versicolor</li><li>versicolor</li><li>versicolor</li><li>versicolor</li><li>versicolor</li><li>versicolor</li><li>versicolor</li><li>versicolor</li><li>versicolor</li><li>versicolor</li><li>versicolor</li><li>versicolor</li><li>versicolor</li><li>versicolor</li><li>versicolor</li><li>versicolor</li><li>versicolor</li><li>versicolor</li><li>versicolor</li><li>versicolor</li><li>versicolor</li><li>versicolor</li><li>versicolor</li><li>versicolor</li><li>versicolor</li><li>versicolor</li><li>versicolor</li><li>versicolor</li><li>versicolor</li><li>versicolor</li><li>versicolor</li><li>versicolor</li><li>versicolor</li><li>versicolor</li><li>versicolor</li><li>versicolor</li><li>versicolor</li><li>virginica</li><li>virginica</li><li>virginica</li><li>virginica</li><li>virginica</li><li>virginica</li><li>virginica</li><li>virginica</li><li>virginica</li><li>virginica</li><li>virginica</li><li>virginica</li><li>virginica</li><li>virginica</li><li>virginica</li><li>virginica</li><li>virginica</li><li>virginica</li><li>virginica</li><li>virginica</li><li>virginica</li><li>virginica</li><li>virginica</li><li>virginica</li><li>virginica</li><li>virginica</li><li>virginica</li><li>virginica</li><li>virginica</li><li>virginica</li><li>virginica</li><li>virginica</li><li>virginica</li><li>virginica</li><li>virginica</li><li>virginica</li><li>virginica</li><li>virginica</li><li>virginica</li><li>virginica</li><li>virginica</li><li>virginica</li><li>virginica</li><li>virginica</li><li>virginica</li><li>virginica</li><li>virginica</li><li>virginica</li><li>virginica</li><li>virginica</li></ol>\n",
       "\n",
       "<details>\n",
       "\t<summary style=display:list-item;cursor:pointer>\n",
       "\t\t<strong>Levels</strong>:\n",
       "\t</summary>\n",
       "\t<style>\n",
       "\t.list-inline {list-style: none; margin:0; padding: 0}\n",
       "\t.list-inline>li {display: inline-block}\n",
       "\t.list-inline>li:not(:last-child)::after {content: \"\\00b7\"; padding: 0 .5ex}\n",
       "\t</style>\n",
       "\t<ol class=list-inline><li>'setosa'</li><li>'versicolor'</li><li>'virginica'</li></ol>\n",
       "</details>"
      ],
      "text/latex": [
       "\\begin{enumerate*}\n",
       "\\item setosa\n",
       "\\item setosa\n",
       "\\item setosa\n",
       "\\item setosa\n",
       "\\item setosa\n",
       "\\item setosa\n",
       "\\item setosa\n",
       "\\item setosa\n",
       "\\item setosa\n",
       "\\item setosa\n",
       "\\item setosa\n",
       "\\item setosa\n",
       "\\item setosa\n",
       "\\item setosa\n",
       "\\item setosa\n",
       "\\item setosa\n",
       "\\item setosa\n",
       "\\item setosa\n",
       "\\item setosa\n",
       "\\item setosa\n",
       "\\item setosa\n",
       "\\item setosa\n",
       "\\item setosa\n",
       "\\item setosa\n",
       "\\item setosa\n",
       "\\item setosa\n",
       "\\item setosa\n",
       "\\item setosa\n",
       "\\item setosa\n",
       "\\item setosa\n",
       "\\item setosa\n",
       "\\item setosa\n",
       "\\item setosa\n",
       "\\item setosa\n",
       "\\item setosa\n",
       "\\item setosa\n",
       "\\item setosa\n",
       "\\item setosa\n",
       "\\item setosa\n",
       "\\item setosa\n",
       "\\item setosa\n",
       "\\item setosa\n",
       "\\item setosa\n",
       "\\item setosa\n",
       "\\item setosa\n",
       "\\item setosa\n",
       "\\item setosa\n",
       "\\item setosa\n",
       "\\item setosa\n",
       "\\item setosa\n",
       "\\item versicolor\n",
       "\\item versicolor\n",
       "\\item versicolor\n",
       "\\item versicolor\n",
       "\\item versicolor\n",
       "\\item versicolor\n",
       "\\item versicolor\n",
       "\\item versicolor\n",
       "\\item versicolor\n",
       "\\item versicolor\n",
       "\\item versicolor\n",
       "\\item versicolor\n",
       "\\item versicolor\n",
       "\\item versicolor\n",
       "\\item versicolor\n",
       "\\item versicolor\n",
       "\\item versicolor\n",
       "\\item versicolor\n",
       "\\item versicolor\n",
       "\\item versicolor\n",
       "\\item versicolor\n",
       "\\item versicolor\n",
       "\\item versicolor\n",
       "\\item versicolor\n",
       "\\item versicolor\n",
       "\\item versicolor\n",
       "\\item versicolor\n",
       "\\item versicolor\n",
       "\\item versicolor\n",
       "\\item versicolor\n",
       "\\item versicolor\n",
       "\\item versicolor\n",
       "\\item versicolor\n",
       "\\item versicolor\n",
       "\\item versicolor\n",
       "\\item versicolor\n",
       "\\item versicolor\n",
       "\\item versicolor\n",
       "\\item versicolor\n",
       "\\item versicolor\n",
       "\\item versicolor\n",
       "\\item versicolor\n",
       "\\item versicolor\n",
       "\\item versicolor\n",
       "\\item versicolor\n",
       "\\item versicolor\n",
       "\\item versicolor\n",
       "\\item versicolor\n",
       "\\item versicolor\n",
       "\\item versicolor\n",
       "\\item virginica\n",
       "\\item virginica\n",
       "\\item virginica\n",
       "\\item virginica\n",
       "\\item virginica\n",
       "\\item virginica\n",
       "\\item virginica\n",
       "\\item virginica\n",
       "\\item virginica\n",
       "\\item virginica\n",
       "\\item virginica\n",
       "\\item virginica\n",
       "\\item virginica\n",
       "\\item virginica\n",
       "\\item virginica\n",
       "\\item virginica\n",
       "\\item virginica\n",
       "\\item virginica\n",
       "\\item virginica\n",
       "\\item virginica\n",
       "\\item virginica\n",
       "\\item virginica\n",
       "\\item virginica\n",
       "\\item virginica\n",
       "\\item virginica\n",
       "\\item virginica\n",
       "\\item virginica\n",
       "\\item virginica\n",
       "\\item virginica\n",
       "\\item virginica\n",
       "\\item virginica\n",
       "\\item virginica\n",
       "\\item virginica\n",
       "\\item virginica\n",
       "\\item virginica\n",
       "\\item virginica\n",
       "\\item virginica\n",
       "\\item virginica\n",
       "\\item virginica\n",
       "\\item virginica\n",
       "\\item virginica\n",
       "\\item virginica\n",
       "\\item virginica\n",
       "\\item virginica\n",
       "\\item virginica\n",
       "\\item virginica\n",
       "\\item virginica\n",
       "\\item virginica\n",
       "\\item virginica\n",
       "\\item virginica\n",
       "\\end{enumerate*}\n",
       "\n",
       "\\emph{Levels}: \\begin{enumerate*}\n",
       "\\item 'setosa'\n",
       "\\item 'versicolor'\n",
       "\\item 'virginica'\n",
       "\\end{enumerate*}\n"
      ],
      "text/markdown": [
       "1. setosa\n",
       "2. setosa\n",
       "3. setosa\n",
       "4. setosa\n",
       "5. setosa\n",
       "6. setosa\n",
       "7. setosa\n",
       "8. setosa\n",
       "9. setosa\n",
       "10. setosa\n",
       "11. setosa\n",
       "12. setosa\n",
       "13. setosa\n",
       "14. setosa\n",
       "15. setosa\n",
       "16. setosa\n",
       "17. setosa\n",
       "18. setosa\n",
       "19. setosa\n",
       "20. setosa\n",
       "21. setosa\n",
       "22. setosa\n",
       "23. setosa\n",
       "24. setosa\n",
       "25. setosa\n",
       "26. setosa\n",
       "27. setosa\n",
       "28. setosa\n",
       "29. setosa\n",
       "30. setosa\n",
       "31. setosa\n",
       "32. setosa\n",
       "33. setosa\n",
       "34. setosa\n",
       "35. setosa\n",
       "36. setosa\n",
       "37. setosa\n",
       "38. setosa\n",
       "39. setosa\n",
       "40. setosa\n",
       "41. setosa\n",
       "42. setosa\n",
       "43. setosa\n",
       "44. setosa\n",
       "45. setosa\n",
       "46. setosa\n",
       "47. setosa\n",
       "48. setosa\n",
       "49. setosa\n",
       "50. setosa\n",
       "51. versicolor\n",
       "52. versicolor\n",
       "53. versicolor\n",
       "54. versicolor\n",
       "55. versicolor\n",
       "56. versicolor\n",
       "57. versicolor\n",
       "58. versicolor\n",
       "59. versicolor\n",
       "60. versicolor\n",
       "61. versicolor\n",
       "62. versicolor\n",
       "63. versicolor\n",
       "64. versicolor\n",
       "65. versicolor\n",
       "66. versicolor\n",
       "67. versicolor\n",
       "68. versicolor\n",
       "69. versicolor\n",
       "70. versicolor\n",
       "71. versicolor\n",
       "72. versicolor\n",
       "73. versicolor\n",
       "74. versicolor\n",
       "75. versicolor\n",
       "76. versicolor\n",
       "77. versicolor\n",
       "78. versicolor\n",
       "79. versicolor\n",
       "80. versicolor\n",
       "81. versicolor\n",
       "82. versicolor\n",
       "83. versicolor\n",
       "84. versicolor\n",
       "85. versicolor\n",
       "86. versicolor\n",
       "87. versicolor\n",
       "88. versicolor\n",
       "89. versicolor\n",
       "90. versicolor\n",
       "91. versicolor\n",
       "92. versicolor\n",
       "93. versicolor\n",
       "94. versicolor\n",
       "95. versicolor\n",
       "96. versicolor\n",
       "97. versicolor\n",
       "98. versicolor\n",
       "99. versicolor\n",
       "100. versicolor\n",
       "101. virginica\n",
       "102. virginica\n",
       "103. virginica\n",
       "104. virginica\n",
       "105. virginica\n",
       "106. virginica\n",
       "107. virginica\n",
       "108. virginica\n",
       "109. virginica\n",
       "110. virginica\n",
       "111. virginica\n",
       "112. virginica\n",
       "113. virginica\n",
       "114. virginica\n",
       "115. virginica\n",
       "116. virginica\n",
       "117. virginica\n",
       "118. virginica\n",
       "119. virginica\n",
       "120. virginica\n",
       "121. virginica\n",
       "122. virginica\n",
       "123. virginica\n",
       "124. virginica\n",
       "125. virginica\n",
       "126. virginica\n",
       "127. virginica\n",
       "128. virginica\n",
       "129. virginica\n",
       "130. virginica\n",
       "131. virginica\n",
       "132. virginica\n",
       "133. virginica\n",
       "134. virginica\n",
       "135. virginica\n",
       "136. virginica\n",
       "137. virginica\n",
       "138. virginica\n",
       "139. virginica\n",
       "140. virginica\n",
       "141. virginica\n",
       "142. virginica\n",
       "143. virginica\n",
       "144. virginica\n",
       "145. virginica\n",
       "146. virginica\n",
       "147. virginica\n",
       "148. virginica\n",
       "149. virginica\n",
       "150. virginica\n",
       "\n",
       "\n",
       "\n",
       "**Levels**: 1. 'setosa'\n",
       "2. 'versicolor'\n",
       "3. 'virginica'\n",
       "\n",
       "\n"
      ],
      "text/plain": [
       "  [1] setosa     setosa     setosa     setosa     setosa     setosa    \n",
       "  [7] setosa     setosa     setosa     setosa     setosa     setosa    \n",
       " [13] setosa     setosa     setosa     setosa     setosa     setosa    \n",
       " [19] setosa     setosa     setosa     setosa     setosa     setosa    \n",
       " [25] setosa     setosa     setosa     setosa     setosa     setosa    \n",
       " [31] setosa     setosa     setosa     setosa     setosa     setosa    \n",
       " [37] setosa     setosa     setosa     setosa     setosa     setosa    \n",
       " [43] setosa     setosa     setosa     setosa     setosa     setosa    \n",
       " [49] setosa     setosa     versicolor versicolor versicolor versicolor\n",
       " [55] versicolor versicolor versicolor versicolor versicolor versicolor\n",
       " [61] versicolor versicolor versicolor versicolor versicolor versicolor\n",
       " [67] versicolor versicolor versicolor versicolor versicolor versicolor\n",
       " [73] versicolor versicolor versicolor versicolor versicolor versicolor\n",
       " [79] versicolor versicolor versicolor versicolor versicolor versicolor\n",
       " [85] versicolor versicolor versicolor versicolor versicolor versicolor\n",
       " [91] versicolor versicolor versicolor versicolor versicolor versicolor\n",
       " [97] versicolor versicolor versicolor versicolor virginica  virginica \n",
       "[103] virginica  virginica  virginica  virginica  virginica  virginica \n",
       "[109] virginica  virginica  virginica  virginica  virginica  virginica \n",
       "[115] virginica  virginica  virginica  virginica  virginica  virginica \n",
       "[121] virginica  virginica  virginica  virginica  virginica  virginica \n",
       "[127] virginica  virginica  virginica  virginica  virginica  virginica \n",
       "[133] virginica  virginica  virginica  virginica  virginica  virginica \n",
       "[139] virginica  virginica  virginica  virginica  virginica  virginica \n",
       "[145] virginica  virginica  virginica  virginica  virginica  virginica \n",
       "Levels: setosa versicolor virginica"
      ]
     },
     "metadata": {},
     "output_type": "display_data"
    }
   ],
   "source": [
    "iris[, 'Species']"
   ]
  },
  {
   "cell_type": "code",
   "execution_count": 29,
   "id": "f1629047",
   "metadata": {},
   "outputs": [
    {
     "data": {
      "text/plain": [
       "\n",
       "    setosa versicolor  virginica \n",
       "        50         50         50 "
      ]
     },
     "metadata": {},
     "output_type": "display_data"
    }
   ],
   "source": [
    "table(iris[, 'Species'])"
   ]
  },
  {
   "cell_type": "code",
   "execution_count": 32,
   "id": "90585243",
   "metadata": {},
   "outputs": [
    {
     "data": {
      "text/html": [
       "<style>\n",
       ".list-inline {list-style: none; margin:0; padding: 0}\n",
       ".list-inline>li {display: inline-block}\n",
       ".list-inline>li:not(:last-child)::after {content: \"\\00b7\"; padding: 0 .5ex}\n",
       "</style>\n",
       "<ol class=list-inline><li>'setosa'</li><li>'versicolor'</li><li>'virginica'</li></ol>\n"
      ],
      "text/latex": [
       "\\begin{enumerate*}\n",
       "\\item 'setosa'\n",
       "\\item 'versicolor'\n",
       "\\item 'virginica'\n",
       "\\end{enumerate*}\n"
      ],
      "text/markdown": [
       "1. 'setosa'\n",
       "2. 'versicolor'\n",
       "3. 'virginica'\n",
       "\n",
       "\n"
      ],
      "text/plain": [
       "[1] \"setosa\"     \"versicolor\" \"virginica\" "
      ]
     },
     "metadata": {},
     "output_type": "display_data"
    }
   ],
   "source": [
    "levels(iris[, 'Species'])"
   ]
  },
  {
   "cell_type": "code",
   "execution_count": 34,
   "id": "1ba8f955",
   "metadata": {},
   "outputs": [
    {
     "data": {
      "text/html": [
       "<style>\n",
       ".dl-inline {width: auto; margin:0; padding: 0}\n",
       ".dl-inline>dt, .dl-inline>dd {float: none; width: auto; display: inline-block}\n",
       ".dl-inline>dt::after {content: \":\\0020\"; padding-right: .5ex}\n",
       ".dl-inline>dt:not(:first-of-type) {padding-left: .5ex}\n",
       "</style><dl class=dl-inline><dt>Sepal.Length</dt><dd>876.5</dd><dt>Sepal.Width</dt><dd>458.6</dd><dt>Petal.Length</dt><dd>563.7</dd><dt>Petal.Width</dt><dd>179.9</dd></dl>\n"
      ],
      "text/latex": [
       "\\begin{description*}\n",
       "\\item[Sepal.Length] 876.5\n",
       "\\item[Sepal.Width] 458.6\n",
       "\\item[Petal.Length] 563.7\n",
       "\\item[Petal.Width] 179.9\n",
       "\\end{description*}\n"
      ],
      "text/markdown": [
       "Sepal.Length\n",
       ":   876.5Sepal.Width\n",
       ":   458.6Petal.Length\n",
       ":   563.7Petal.Width\n",
       ":   179.9\n",
       "\n"
      ],
      "text/plain": [
       "Sepal.Length  Sepal.Width Petal.Length  Petal.Width \n",
       "       876.5        458.6        563.7        179.9 "
      ]
     },
     "metadata": {},
     "output_type": "display_data"
    }
   ],
   "source": [
    "colSums(iris[, 1:4])"
   ]
  },
  {
   "cell_type": "code",
   "execution_count": 35,
   "id": "d9142dae",
   "metadata": {},
   "outputs": [
    {
     "data": {
      "text/html": [
       "<style>\n",
       ".dl-inline {width: auto; margin:0; padding: 0}\n",
       ".dl-inline>dt, .dl-inline>dd {float: none; width: auto; display: inline-block}\n",
       ".dl-inline>dt::after {content: \":\\0020\"; padding-right: .5ex}\n",
       ".dl-inline>dt:not(:first-of-type) {padding-left: .5ex}\n",
       "</style><dl class=dl-inline><dt>Sepal.Length</dt><dd>5.84333333333333</dd><dt>Sepal.Width</dt><dd>3.05733333333333</dd><dt>Petal.Length</dt><dd>3.758</dd><dt>Petal.Width</dt><dd>1.19933333333333</dd></dl>\n"
      ],
      "text/latex": [
       "\\begin{description*}\n",
       "\\item[Sepal.Length] 5.84333333333333\n",
       "\\item[Sepal.Width] 3.05733333333333\n",
       "\\item[Petal.Length] 3.758\n",
       "\\item[Petal.Width] 1.19933333333333\n",
       "\\end{description*}\n"
      ],
      "text/markdown": [
       "Sepal.Length\n",
       ":   5.84333333333333Sepal.Width\n",
       ":   3.05733333333333Petal.Length\n",
       ":   3.758Petal.Width\n",
       ":   1.19933333333333\n",
       "\n"
      ],
      "text/plain": [
       "Sepal.Length  Sepal.Width Petal.Length  Petal.Width \n",
       "    5.843333     3.057333     3.758000     1.199333 "
      ]
     },
     "metadata": {},
     "output_type": "display_data"
    }
   ],
   "source": [
    "colMeans(iris[, 1:4])"
   ]
  },
  {
   "cell_type": "code",
   "execution_count": 39,
   "id": "437868af",
   "metadata": {},
   "outputs": [
    {
     "data": {
      "text/html": [
       "<style>\n",
       ".list-inline {list-style: none; margin:0; padding: 0}\n",
       ".list-inline>li {display: inline-block}\n",
       ".list-inline>li:not(:last-child)::after {content: \"\\00b7\"; padding: 0 .5ex}\n",
       "</style>\n",
       "<ol class=list-inline><li>10.2</li><li>9.5</li><li>9.4</li><li>9.4</li><li>10.2</li><li>11.4</li><li>9.7</li><li>10.1</li><li>8.9</li><li>9.6</li><li>10.8</li><li>10</li><li>9.3</li><li>8.5</li><li>11.2</li><li>12</li><li>11</li><li>10.3</li><li>11.5</li><li>10.7</li><li>10.7</li><li>10.7</li><li>9.4</li><li>10.6</li><li>10.3</li><li>9.8</li><li>10.4</li><li>10.4</li><li>10.2</li><li>9.7</li><li>9.7</li><li>10.7</li><li>10.9</li><li>11.3</li><li>9.7</li><li>9.6</li><li>10.5</li><li>10</li><li>8.9</li><li>10.2</li><li>10.1</li><li>8.4</li><li>9.1</li><li>10.7</li><li>11.2</li><li>9.5</li><li>10.7</li><li>9.4</li><li>10.7</li><li>9.9</li><li>16.3</li><li>15.6</li><li>16.4</li><li>13.1</li><li>15.4</li><li>14.3</li><li>15.9</li><li>11.6</li><li>15.4</li><li>13.2</li><li>11.5</li><li>14.6</li><li>13.2</li><li>15.1</li><li>13.4</li><li>15.6</li><li>14.6</li><li>13.6</li><li>14.4</li><li>13.1</li><li>15.7</li><li>14.2</li><li>15.2</li><li>14.8</li><li>14.9</li><li>15.4</li><li>15.8</li><li>16.4</li><li>14.9</li><li>12.8</li><li>12.8</li><li>12.6</li><li>13.6</li><li>15.4</li><li>14.4</li><li>15.5</li><li>16</li><li>14.3</li><li>14</li><li>13.3</li><li>13.7</li><li>15.1</li><li>13.6</li><li>11.6</li><li>13.8</li><li>14.1</li><li>14.1</li><li>14.7</li><li>11.7</li><li>13.9</li><li>18.1</li><li>15.5</li><li>18.1</li><li>16.6</li><li>17.5</li><li>19.3</li><li>13.6</li><li>18.3</li><li>16.8</li><li>19.4</li><li>16.8</li><li>16.3</li><li>17.4</li><li>15.2</li><li>16.1</li><li>17.2</li><li>16.8</li><li>20.4</li><li>19.5</li><li>14.7</li><li>18.1</li><li>15.3</li><li>19.2</li><li>15.7</li><li>17.8</li><li>18.2</li><li>15.6</li><li>15.8</li><li>16.9</li><li>17.6</li><li>18.2</li><li>20.1</li><li>17</li><li>15.7</li><li>15.7</li><li>19.1</li><li>17.7</li><li>16.8</li><li>15.6</li><li>17.5</li><li>17.8</li><li>17.4</li><li>15.5</li><li>18.2</li><li>18.2</li><li>17.2</li><li>15.7</li><li>16.7</li><li>17.3</li><li>15.8</li></ol>\n"
      ],
      "text/latex": [
       "\\begin{enumerate*}\n",
       "\\item 10.2\n",
       "\\item 9.5\n",
       "\\item 9.4\n",
       "\\item 9.4\n",
       "\\item 10.2\n",
       "\\item 11.4\n",
       "\\item 9.7\n",
       "\\item 10.1\n",
       "\\item 8.9\n",
       "\\item 9.6\n",
       "\\item 10.8\n",
       "\\item 10\n",
       "\\item 9.3\n",
       "\\item 8.5\n",
       "\\item 11.2\n",
       "\\item 12\n",
       "\\item 11\n",
       "\\item 10.3\n",
       "\\item 11.5\n",
       "\\item 10.7\n",
       "\\item 10.7\n",
       "\\item 10.7\n",
       "\\item 9.4\n",
       "\\item 10.6\n",
       "\\item 10.3\n",
       "\\item 9.8\n",
       "\\item 10.4\n",
       "\\item 10.4\n",
       "\\item 10.2\n",
       "\\item 9.7\n",
       "\\item 9.7\n",
       "\\item 10.7\n",
       "\\item 10.9\n",
       "\\item 11.3\n",
       "\\item 9.7\n",
       "\\item 9.6\n",
       "\\item 10.5\n",
       "\\item 10\n",
       "\\item 8.9\n",
       "\\item 10.2\n",
       "\\item 10.1\n",
       "\\item 8.4\n",
       "\\item 9.1\n",
       "\\item 10.7\n",
       "\\item 11.2\n",
       "\\item 9.5\n",
       "\\item 10.7\n",
       "\\item 9.4\n",
       "\\item 10.7\n",
       "\\item 9.9\n",
       "\\item 16.3\n",
       "\\item 15.6\n",
       "\\item 16.4\n",
       "\\item 13.1\n",
       "\\item 15.4\n",
       "\\item 14.3\n",
       "\\item 15.9\n",
       "\\item 11.6\n",
       "\\item 15.4\n",
       "\\item 13.2\n",
       "\\item 11.5\n",
       "\\item 14.6\n",
       "\\item 13.2\n",
       "\\item 15.1\n",
       "\\item 13.4\n",
       "\\item 15.6\n",
       "\\item 14.6\n",
       "\\item 13.6\n",
       "\\item 14.4\n",
       "\\item 13.1\n",
       "\\item 15.7\n",
       "\\item 14.2\n",
       "\\item 15.2\n",
       "\\item 14.8\n",
       "\\item 14.9\n",
       "\\item 15.4\n",
       "\\item 15.8\n",
       "\\item 16.4\n",
       "\\item 14.9\n",
       "\\item 12.8\n",
       "\\item 12.8\n",
       "\\item 12.6\n",
       "\\item 13.6\n",
       "\\item 15.4\n",
       "\\item 14.4\n",
       "\\item 15.5\n",
       "\\item 16\n",
       "\\item 14.3\n",
       "\\item 14\n",
       "\\item 13.3\n",
       "\\item 13.7\n",
       "\\item 15.1\n",
       "\\item 13.6\n",
       "\\item 11.6\n",
       "\\item 13.8\n",
       "\\item 14.1\n",
       "\\item 14.1\n",
       "\\item 14.7\n",
       "\\item 11.7\n",
       "\\item 13.9\n",
       "\\item 18.1\n",
       "\\item 15.5\n",
       "\\item 18.1\n",
       "\\item 16.6\n",
       "\\item 17.5\n",
       "\\item 19.3\n",
       "\\item 13.6\n",
       "\\item 18.3\n",
       "\\item 16.8\n",
       "\\item 19.4\n",
       "\\item 16.8\n",
       "\\item 16.3\n",
       "\\item 17.4\n",
       "\\item 15.2\n",
       "\\item 16.1\n",
       "\\item 17.2\n",
       "\\item 16.8\n",
       "\\item 20.4\n",
       "\\item 19.5\n",
       "\\item 14.7\n",
       "\\item 18.1\n",
       "\\item 15.3\n",
       "\\item 19.2\n",
       "\\item 15.7\n",
       "\\item 17.8\n",
       "\\item 18.2\n",
       "\\item 15.6\n",
       "\\item 15.8\n",
       "\\item 16.9\n",
       "\\item 17.6\n",
       "\\item 18.2\n",
       "\\item 20.1\n",
       "\\item 17\n",
       "\\item 15.7\n",
       "\\item 15.7\n",
       "\\item 19.1\n",
       "\\item 17.7\n",
       "\\item 16.8\n",
       "\\item 15.6\n",
       "\\item 17.5\n",
       "\\item 17.8\n",
       "\\item 17.4\n",
       "\\item 15.5\n",
       "\\item 18.2\n",
       "\\item 18.2\n",
       "\\item 17.2\n",
       "\\item 15.7\n",
       "\\item 16.7\n",
       "\\item 17.3\n",
       "\\item 15.8\n",
       "\\end{enumerate*}\n"
      ],
      "text/markdown": [
       "1. 10.2\n",
       "2. 9.5\n",
       "3. 9.4\n",
       "4. 9.4\n",
       "5. 10.2\n",
       "6. 11.4\n",
       "7. 9.7\n",
       "8. 10.1\n",
       "9. 8.9\n",
       "10. 9.6\n",
       "11. 10.8\n",
       "12. 10\n",
       "13. 9.3\n",
       "14. 8.5\n",
       "15. 11.2\n",
       "16. 12\n",
       "17. 11\n",
       "18. 10.3\n",
       "19. 11.5\n",
       "20. 10.7\n",
       "21. 10.7\n",
       "22. 10.7\n",
       "23. 9.4\n",
       "24. 10.6\n",
       "25. 10.3\n",
       "26. 9.8\n",
       "27. 10.4\n",
       "28. 10.4\n",
       "29. 10.2\n",
       "30. 9.7\n",
       "31. 9.7\n",
       "32. 10.7\n",
       "33. 10.9\n",
       "34. 11.3\n",
       "35. 9.7\n",
       "36. 9.6\n",
       "37. 10.5\n",
       "38. 10\n",
       "39. 8.9\n",
       "40. 10.2\n",
       "41. 10.1\n",
       "42. 8.4\n",
       "43. 9.1\n",
       "44. 10.7\n",
       "45. 11.2\n",
       "46. 9.5\n",
       "47. 10.7\n",
       "48. 9.4\n",
       "49. 10.7\n",
       "50. 9.9\n",
       "51. 16.3\n",
       "52. 15.6\n",
       "53. 16.4\n",
       "54. 13.1\n",
       "55. 15.4\n",
       "56. 14.3\n",
       "57. 15.9\n",
       "58. 11.6\n",
       "59. 15.4\n",
       "60. 13.2\n",
       "61. 11.5\n",
       "62. 14.6\n",
       "63. 13.2\n",
       "64. 15.1\n",
       "65. 13.4\n",
       "66. 15.6\n",
       "67. 14.6\n",
       "68. 13.6\n",
       "69. 14.4\n",
       "70. 13.1\n",
       "71. 15.7\n",
       "72. 14.2\n",
       "73. 15.2\n",
       "74. 14.8\n",
       "75. 14.9\n",
       "76. 15.4\n",
       "77. 15.8\n",
       "78. 16.4\n",
       "79. 14.9\n",
       "80. 12.8\n",
       "81. 12.8\n",
       "82. 12.6\n",
       "83. 13.6\n",
       "84. 15.4\n",
       "85. 14.4\n",
       "86. 15.5\n",
       "87. 16\n",
       "88. 14.3\n",
       "89. 14\n",
       "90. 13.3\n",
       "91. 13.7\n",
       "92. 15.1\n",
       "93. 13.6\n",
       "94. 11.6\n",
       "95. 13.8\n",
       "96. 14.1\n",
       "97. 14.1\n",
       "98. 14.7\n",
       "99. 11.7\n",
       "100. 13.9\n",
       "101. 18.1\n",
       "102. 15.5\n",
       "103. 18.1\n",
       "104. 16.6\n",
       "105. 17.5\n",
       "106. 19.3\n",
       "107. 13.6\n",
       "108. 18.3\n",
       "109. 16.8\n",
       "110. 19.4\n",
       "111. 16.8\n",
       "112. 16.3\n",
       "113. 17.4\n",
       "114. 15.2\n",
       "115. 16.1\n",
       "116. 17.2\n",
       "117. 16.8\n",
       "118. 20.4\n",
       "119. 19.5\n",
       "120. 14.7\n",
       "121. 18.1\n",
       "122. 15.3\n",
       "123. 19.2\n",
       "124. 15.7\n",
       "125. 17.8\n",
       "126. 18.2\n",
       "127. 15.6\n",
       "128. 15.8\n",
       "129. 16.9\n",
       "130. 17.6\n",
       "131. 18.2\n",
       "132. 20.1\n",
       "133. 17\n",
       "134. 15.7\n",
       "135. 15.7\n",
       "136. 19.1\n",
       "137. 17.7\n",
       "138. 16.8\n",
       "139. 15.6\n",
       "140. 17.5\n",
       "141. 17.8\n",
       "142. 17.4\n",
       "143. 15.5\n",
       "144. 18.2\n",
       "145. 18.2\n",
       "146. 17.2\n",
       "147. 15.7\n",
       "148. 16.7\n",
       "149. 17.3\n",
       "150. 15.8\n",
       "\n",
       "\n"
      ],
      "text/plain": [
       "  [1] 10.2  9.5  9.4  9.4 10.2 11.4  9.7 10.1  8.9  9.6 10.8 10.0  9.3  8.5 11.2\n",
       " [16] 12.0 11.0 10.3 11.5 10.7 10.7 10.7  9.4 10.6 10.3  9.8 10.4 10.4 10.2  9.7\n",
       " [31]  9.7 10.7 10.9 11.3  9.7  9.6 10.5 10.0  8.9 10.2 10.1  8.4  9.1 10.7 11.2\n",
       " [46]  9.5 10.7  9.4 10.7  9.9 16.3 15.6 16.4 13.1 15.4 14.3 15.9 11.6 15.4 13.2\n",
       " [61] 11.5 14.6 13.2 15.1 13.4 15.6 14.6 13.6 14.4 13.1 15.7 14.2 15.2 14.8 14.9\n",
       " [76] 15.4 15.8 16.4 14.9 12.8 12.8 12.6 13.6 15.4 14.4 15.5 16.0 14.3 14.0 13.3\n",
       " [91] 13.7 15.1 13.6 11.6 13.8 14.1 14.1 14.7 11.7 13.9 18.1 15.5 18.1 16.6 17.5\n",
       "[106] 19.3 13.6 18.3 16.8 19.4 16.8 16.3 17.4 15.2 16.1 17.2 16.8 20.4 19.5 14.7\n",
       "[121] 18.1 15.3 19.2 15.7 17.8 18.2 15.6 15.8 16.9 17.6 18.2 20.1 17.0 15.7 15.7\n",
       "[136] 19.1 17.7 16.8 15.6 17.5 17.8 17.4 15.5 18.2 18.2 17.2 15.7 16.7 17.3 15.8"
      ]
     },
     "metadata": {},
     "output_type": "display_data"
    }
   ],
   "source": [
    "rowSums(iris[, -5])"
   ]
  },
  {
   "cell_type": "code",
   "execution_count": 41,
   "id": "7eaf62cf",
   "metadata": {},
   "outputs": [
    {
     "data": {
      "text/html": [
       "<style>\n",
       ".list-inline {list-style: none; margin:0; padding: 0}\n",
       ".list-inline>li {display: inline-block}\n",
       ".list-inline>li:not(:last-child)::after {content: \"\\00b7\"; padding: 0 .5ex}\n",
       "</style>\n",
       "<ol class=list-inline><li>2.55</li><li>2.375</li><li>2.35</li><li>2.35</li><li>2.55</li><li>2.85</li><li>2.425</li><li>2.525</li><li>2.225</li><li>2.4</li><li>2.7</li><li>2.5</li><li>2.325</li><li>2.125</li><li>2.8</li><li>3</li><li>2.75</li><li>2.575</li><li>2.875</li><li>2.675</li><li>2.675</li><li>2.675</li><li>2.35</li><li>2.65</li><li>2.575</li><li>2.45</li><li>2.6</li><li>2.6</li><li>2.55</li><li>2.425</li><li>2.425</li><li>2.675</li><li>2.725</li><li>2.825</li><li>2.425</li><li>2.4</li><li>2.625</li><li>2.5</li><li>2.225</li><li>2.55</li><li>2.525</li><li>2.1</li><li>2.275</li><li>2.675</li><li>2.8</li><li>2.375</li><li>2.675</li><li>2.35</li><li>2.675</li><li>2.475</li><li>4.075</li><li>3.9</li><li>4.1</li><li>3.275</li><li>3.85</li><li>3.575</li><li>3.975</li><li>2.9</li><li>3.85</li><li>3.3</li><li>2.875</li><li>3.65</li><li>3.3</li><li>3.775</li><li>3.35</li><li>3.9</li><li>3.65</li><li>3.4</li><li>3.6</li><li>3.275</li><li>3.925</li><li>3.55</li><li>3.8</li><li>3.7</li><li>3.725</li><li>3.85</li><li>3.95</li><li>4.1</li><li>3.725</li><li>3.2</li><li>3.2</li><li>3.15</li><li>3.4</li><li>3.85</li><li>3.6</li><li>3.875</li><li>4</li><li>3.575</li><li>3.5</li><li>3.325</li><li>3.425</li><li>3.775</li><li>3.4</li><li>2.9</li><li>3.45</li><li>3.525</li><li>3.525</li><li>3.675</li><li>2.925</li><li>3.475</li><li>4.525</li><li>3.875</li><li>4.525</li><li>4.15</li><li>4.375</li><li>4.825</li><li>3.4</li><li>4.575</li><li>4.2</li><li>4.85</li><li>4.2</li><li>4.075</li><li>4.35</li><li>3.8</li><li>4.025</li><li>4.3</li><li>4.2</li><li>5.1</li><li>4.875</li><li>3.675</li><li>4.525</li><li>3.825</li><li>4.8</li><li>3.925</li><li>4.45</li><li>4.55</li><li>3.9</li><li>3.95</li><li>4.225</li><li>4.4</li><li>4.55</li><li>5.025</li><li>4.25</li><li>3.925</li><li>3.925</li><li>4.775</li><li>4.425</li><li>4.2</li><li>3.9</li><li>4.375</li><li>4.45</li><li>4.35</li><li>3.875</li><li>4.55</li><li>4.55</li><li>4.3</li><li>3.925</li><li>4.175</li><li>4.325</li><li>3.95</li></ol>\n"
      ],
      "text/latex": [
       "\\begin{enumerate*}\n",
       "\\item 2.55\n",
       "\\item 2.375\n",
       "\\item 2.35\n",
       "\\item 2.35\n",
       "\\item 2.55\n",
       "\\item 2.85\n",
       "\\item 2.425\n",
       "\\item 2.525\n",
       "\\item 2.225\n",
       "\\item 2.4\n",
       "\\item 2.7\n",
       "\\item 2.5\n",
       "\\item 2.325\n",
       "\\item 2.125\n",
       "\\item 2.8\n",
       "\\item 3\n",
       "\\item 2.75\n",
       "\\item 2.575\n",
       "\\item 2.875\n",
       "\\item 2.675\n",
       "\\item 2.675\n",
       "\\item 2.675\n",
       "\\item 2.35\n",
       "\\item 2.65\n",
       "\\item 2.575\n",
       "\\item 2.45\n",
       "\\item 2.6\n",
       "\\item 2.6\n",
       "\\item 2.55\n",
       "\\item 2.425\n",
       "\\item 2.425\n",
       "\\item 2.675\n",
       "\\item 2.725\n",
       "\\item 2.825\n",
       "\\item 2.425\n",
       "\\item 2.4\n",
       "\\item 2.625\n",
       "\\item 2.5\n",
       "\\item 2.225\n",
       "\\item 2.55\n",
       "\\item 2.525\n",
       "\\item 2.1\n",
       "\\item 2.275\n",
       "\\item 2.675\n",
       "\\item 2.8\n",
       "\\item 2.375\n",
       "\\item 2.675\n",
       "\\item 2.35\n",
       "\\item 2.675\n",
       "\\item 2.475\n",
       "\\item 4.075\n",
       "\\item 3.9\n",
       "\\item 4.1\n",
       "\\item 3.275\n",
       "\\item 3.85\n",
       "\\item 3.575\n",
       "\\item 3.975\n",
       "\\item 2.9\n",
       "\\item 3.85\n",
       "\\item 3.3\n",
       "\\item 2.875\n",
       "\\item 3.65\n",
       "\\item 3.3\n",
       "\\item 3.775\n",
       "\\item 3.35\n",
       "\\item 3.9\n",
       "\\item 3.65\n",
       "\\item 3.4\n",
       "\\item 3.6\n",
       "\\item 3.275\n",
       "\\item 3.925\n",
       "\\item 3.55\n",
       "\\item 3.8\n",
       "\\item 3.7\n",
       "\\item 3.725\n",
       "\\item 3.85\n",
       "\\item 3.95\n",
       "\\item 4.1\n",
       "\\item 3.725\n",
       "\\item 3.2\n",
       "\\item 3.2\n",
       "\\item 3.15\n",
       "\\item 3.4\n",
       "\\item 3.85\n",
       "\\item 3.6\n",
       "\\item 3.875\n",
       "\\item 4\n",
       "\\item 3.575\n",
       "\\item 3.5\n",
       "\\item 3.325\n",
       "\\item 3.425\n",
       "\\item 3.775\n",
       "\\item 3.4\n",
       "\\item 2.9\n",
       "\\item 3.45\n",
       "\\item 3.525\n",
       "\\item 3.525\n",
       "\\item 3.675\n",
       "\\item 2.925\n",
       "\\item 3.475\n",
       "\\item 4.525\n",
       "\\item 3.875\n",
       "\\item 4.525\n",
       "\\item 4.15\n",
       "\\item 4.375\n",
       "\\item 4.825\n",
       "\\item 3.4\n",
       "\\item 4.575\n",
       "\\item 4.2\n",
       "\\item 4.85\n",
       "\\item 4.2\n",
       "\\item 4.075\n",
       "\\item 4.35\n",
       "\\item 3.8\n",
       "\\item 4.025\n",
       "\\item 4.3\n",
       "\\item 4.2\n",
       "\\item 5.1\n",
       "\\item 4.875\n",
       "\\item 3.675\n",
       "\\item 4.525\n",
       "\\item 3.825\n",
       "\\item 4.8\n",
       "\\item 3.925\n",
       "\\item 4.45\n",
       "\\item 4.55\n",
       "\\item 3.9\n",
       "\\item 3.95\n",
       "\\item 4.225\n",
       "\\item 4.4\n",
       "\\item 4.55\n",
       "\\item 5.025\n",
       "\\item 4.25\n",
       "\\item 3.925\n",
       "\\item 3.925\n",
       "\\item 4.775\n",
       "\\item 4.425\n",
       "\\item 4.2\n",
       "\\item 3.9\n",
       "\\item 4.375\n",
       "\\item 4.45\n",
       "\\item 4.35\n",
       "\\item 3.875\n",
       "\\item 4.55\n",
       "\\item 4.55\n",
       "\\item 4.3\n",
       "\\item 3.925\n",
       "\\item 4.175\n",
       "\\item 4.325\n",
       "\\item 3.95\n",
       "\\end{enumerate*}\n"
      ],
      "text/markdown": [
       "1. 2.55\n",
       "2. 2.375\n",
       "3. 2.35\n",
       "4. 2.35\n",
       "5. 2.55\n",
       "6. 2.85\n",
       "7. 2.425\n",
       "8. 2.525\n",
       "9. 2.225\n",
       "10. 2.4\n",
       "11. 2.7\n",
       "12. 2.5\n",
       "13. 2.325\n",
       "14. 2.125\n",
       "15. 2.8\n",
       "16. 3\n",
       "17. 2.75\n",
       "18. 2.575\n",
       "19. 2.875\n",
       "20. 2.675\n",
       "21. 2.675\n",
       "22. 2.675\n",
       "23. 2.35\n",
       "24. 2.65\n",
       "25. 2.575\n",
       "26. 2.45\n",
       "27. 2.6\n",
       "28. 2.6\n",
       "29. 2.55\n",
       "30. 2.425\n",
       "31. 2.425\n",
       "32. 2.675\n",
       "33. 2.725\n",
       "34. 2.825\n",
       "35. 2.425\n",
       "36. 2.4\n",
       "37. 2.625\n",
       "38. 2.5\n",
       "39. 2.225\n",
       "40. 2.55\n",
       "41. 2.525\n",
       "42. 2.1\n",
       "43. 2.275\n",
       "44. 2.675\n",
       "45. 2.8\n",
       "46. 2.375\n",
       "47. 2.675\n",
       "48. 2.35\n",
       "49. 2.675\n",
       "50. 2.475\n",
       "51. 4.075\n",
       "52. 3.9\n",
       "53. 4.1\n",
       "54. 3.275\n",
       "55. 3.85\n",
       "56. 3.575\n",
       "57. 3.975\n",
       "58. 2.9\n",
       "59. 3.85\n",
       "60. 3.3\n",
       "61. 2.875\n",
       "62. 3.65\n",
       "63. 3.3\n",
       "64. 3.775\n",
       "65. 3.35\n",
       "66. 3.9\n",
       "67. 3.65\n",
       "68. 3.4\n",
       "69. 3.6\n",
       "70. 3.275\n",
       "71. 3.925\n",
       "72. 3.55\n",
       "73. 3.8\n",
       "74. 3.7\n",
       "75. 3.725\n",
       "76. 3.85\n",
       "77. 3.95\n",
       "78. 4.1\n",
       "79. 3.725\n",
       "80. 3.2\n",
       "81. 3.2\n",
       "82. 3.15\n",
       "83. 3.4\n",
       "84. 3.85\n",
       "85. 3.6\n",
       "86. 3.875\n",
       "87. 4\n",
       "88. 3.575\n",
       "89. 3.5\n",
       "90. 3.325\n",
       "91. 3.425\n",
       "92. 3.775\n",
       "93. 3.4\n",
       "94. 2.9\n",
       "95. 3.45\n",
       "96. 3.525\n",
       "97. 3.525\n",
       "98. 3.675\n",
       "99. 2.925\n",
       "100. 3.475\n",
       "101. 4.525\n",
       "102. 3.875\n",
       "103. 4.525\n",
       "104. 4.15\n",
       "105. 4.375\n",
       "106. 4.825\n",
       "107. 3.4\n",
       "108. 4.575\n",
       "109. 4.2\n",
       "110. 4.85\n",
       "111. 4.2\n",
       "112. 4.075\n",
       "113. 4.35\n",
       "114. 3.8\n",
       "115. 4.025\n",
       "116. 4.3\n",
       "117. 4.2\n",
       "118. 5.1\n",
       "119. 4.875\n",
       "120. 3.675\n",
       "121. 4.525\n",
       "122. 3.825\n",
       "123. 4.8\n",
       "124. 3.925\n",
       "125. 4.45\n",
       "126. 4.55\n",
       "127. 3.9\n",
       "128. 3.95\n",
       "129. 4.225\n",
       "130. 4.4\n",
       "131. 4.55\n",
       "132. 5.025\n",
       "133. 4.25\n",
       "134. 3.925\n",
       "135. 3.925\n",
       "136. 4.775\n",
       "137. 4.425\n",
       "138. 4.2\n",
       "139. 3.9\n",
       "140. 4.375\n",
       "141. 4.45\n",
       "142. 4.35\n",
       "143. 3.875\n",
       "144. 4.55\n",
       "145. 4.55\n",
       "146. 4.3\n",
       "147. 3.925\n",
       "148. 4.175\n",
       "149. 4.325\n",
       "150. 3.95\n",
       "\n",
       "\n"
      ],
      "text/plain": [
       "  [1] 2.550 2.375 2.350 2.350 2.550 2.850 2.425 2.525 2.225 2.400 2.700 2.500\n",
       " [13] 2.325 2.125 2.800 3.000 2.750 2.575 2.875 2.675 2.675 2.675 2.350 2.650\n",
       " [25] 2.575 2.450 2.600 2.600 2.550 2.425 2.425 2.675 2.725 2.825 2.425 2.400\n",
       " [37] 2.625 2.500 2.225 2.550 2.525 2.100 2.275 2.675 2.800 2.375 2.675 2.350\n",
       " [49] 2.675 2.475 4.075 3.900 4.100 3.275 3.850 3.575 3.975 2.900 3.850 3.300\n",
       " [61] 2.875 3.650 3.300 3.775 3.350 3.900 3.650 3.400 3.600 3.275 3.925 3.550\n",
       " [73] 3.800 3.700 3.725 3.850 3.950 4.100 3.725 3.200 3.200 3.150 3.400 3.850\n",
       " [85] 3.600 3.875 4.000 3.575 3.500 3.325 3.425 3.775 3.400 2.900 3.450 3.525\n",
       " [97] 3.525 3.675 2.925 3.475 4.525 3.875 4.525 4.150 4.375 4.825 3.400 4.575\n",
       "[109] 4.200 4.850 4.200 4.075 4.350 3.800 4.025 4.300 4.200 5.100 4.875 3.675\n",
       "[121] 4.525 3.825 4.800 3.925 4.450 4.550 3.900 3.950 4.225 4.400 4.550 5.025\n",
       "[133] 4.250 3.925 3.925 4.775 4.425 4.200 3.900 4.375 4.450 4.350 3.875 4.550\n",
       "[145] 4.550 4.300 3.925 4.175 4.325 3.950"
      ]
     },
     "metadata": {},
     "output_type": "display_data"
    }
   ],
   "source": [
    "rowMeans(iris[, -5])"
   ]
  },
  {
   "cell_type": "code",
   "execution_count": 42,
   "id": "1e5525b1",
   "metadata": {},
   "outputs": [
    {
     "name": "stderr",
     "output_type": "stream",
     "text": [
      "Warning message in matrix(1:20, nrow = 3):\n",
      "\"data length [20] is not a sub-multiple or multiple of the number of rows [3]\"\n"
     ]
    }
   ],
   "source": [
    "z <- matrix(1:20, nrow=3)"
   ]
  },
  {
   "cell_type": "code",
   "execution_count": 43,
   "id": "cc0aaf47",
   "metadata": {},
   "outputs": [
    {
     "data": {
      "text/html": [
       "<table class=\"dataframe\">\n",
       "<caption>A matrix: 3 × 7 of type int</caption>\n",
       "<tbody>\n",
       "\t<tr><td>1</td><td>4</td><td>7</td><td>10</td><td>13</td><td>16</td><td>19</td></tr>\n",
       "\t<tr><td>2</td><td>5</td><td>8</td><td>11</td><td>14</td><td>17</td><td>20</td></tr>\n",
       "\t<tr><td>3</td><td>6</td><td>9</td><td>12</td><td>15</td><td>18</td><td> 1</td></tr>\n",
       "</tbody>\n",
       "</table>\n"
      ],
      "text/latex": [
       "A matrix: 3 × 7 of type int\n",
       "\\begin{tabular}{lllllll}\n",
       "\t 1 & 4 & 7 & 10 & 13 & 16 & 19\\\\\n",
       "\t 2 & 5 & 8 & 11 & 14 & 17 & 20\\\\\n",
       "\t 3 & 6 & 9 & 12 & 15 & 18 &  1\\\\\n",
       "\\end{tabular}\n"
      ],
      "text/markdown": [
       "\n",
       "A matrix: 3 × 7 of type int\n",
       "\n",
       "| 1 | 4 | 7 | 10 | 13 | 16 | 19 |\n",
       "| 2 | 5 | 8 | 11 | 14 | 17 | 20 |\n",
       "| 3 | 6 | 9 | 12 | 15 | 18 |  1 |\n",
       "\n"
      ],
      "text/plain": [
       "     [,1] [,2] [,3] [,4] [,5] [,6] [,7]\n",
       "[1,] 1    4    7    10   13   16   19  \n",
       "[2,] 2    5    8    11   14   17   20  \n",
       "[3,] 3    6    9    12   15   18    1  "
      ]
     },
     "metadata": {},
     "output_type": "display_data"
    }
   ],
   "source": [
    "z"
   ]
  },
  {
   "cell_type": "code",
   "execution_count": 44,
   "id": "aaabc882",
   "metadata": {},
   "outputs": [
    {
     "data": {
      "text/html": [
       "<table class=\"dataframe\">\n",
       "<caption>A matrix: 7 × 3 of type int</caption>\n",
       "<tbody>\n",
       "\t<tr><td> 1</td><td> 2</td><td> 3</td></tr>\n",
       "\t<tr><td> 4</td><td> 5</td><td> 6</td></tr>\n",
       "\t<tr><td> 7</td><td> 8</td><td> 9</td></tr>\n",
       "\t<tr><td>10</td><td>11</td><td>12</td></tr>\n",
       "\t<tr><td>13</td><td>14</td><td>15</td></tr>\n",
       "\t<tr><td>16</td><td>17</td><td>18</td></tr>\n",
       "\t<tr><td>19</td><td>20</td><td> 1</td></tr>\n",
       "</tbody>\n",
       "</table>\n"
      ],
      "text/latex": [
       "A matrix: 7 × 3 of type int\n",
       "\\begin{tabular}{lll}\n",
       "\t  1 &  2 &  3\\\\\n",
       "\t  4 &  5 &  6\\\\\n",
       "\t  7 &  8 &  9\\\\\n",
       "\t 10 & 11 & 12\\\\\n",
       "\t 13 & 14 & 15\\\\\n",
       "\t 16 & 17 & 18\\\\\n",
       "\t 19 & 20 &  1\\\\\n",
       "\\end{tabular}\n"
      ],
      "text/markdown": [
       "\n",
       "A matrix: 7 × 3 of type int\n",
       "\n",
       "|  1 |  2 |  3 |\n",
       "|  4 |  5 |  6 |\n",
       "|  7 |  8 |  9 |\n",
       "| 10 | 11 | 12 |\n",
       "| 13 | 14 | 15 |\n",
       "| 16 | 17 | 18 |\n",
       "| 19 | 20 |  1 |\n",
       "\n"
      ],
      "text/plain": [
       "     [,1] [,2] [,3]\n",
       "[1,]  1    2    3  \n",
       "[2,]  4    5    6  \n",
       "[3,]  7    8    9  \n",
       "[4,] 10   11   12  \n",
       "[5,] 13   14   15  \n",
       "[6,] 16   17   18  \n",
       "[7,] 19   20    1  "
      ]
     },
     "metadata": {},
     "output_type": "display_data"
    }
   ],
   "source": [
    "reversed <- t(z)\n",
    "reversed"
   ]
  },
  {
   "cell_type": "code",
   "execution_count": 45,
   "id": "aa744f54",
   "metadata": {},
   "outputs": [
    {
     "name": "stdout",
     "output_type": "stream",
     "text": [
      "'data.frame':\t150 obs. of  5 variables:\n",
      " $ Sepal.Length: num  5.1 4.9 4.7 4.6 5 5.4 4.6 5 4.4 4.9 ...\n",
      " $ Sepal.Width : num  3.5 3 3.2 3.1 3.6 3.9 3.4 3.4 2.9 3.1 ...\n",
      " $ Petal.Length: num  1.4 1.4 1.3 1.5 1.4 1.7 1.4 1.5 1.4 1.5 ...\n",
      " $ Petal.Width : num  0.2 0.2 0.2 0.2 0.2 0.4 0.3 0.2 0.2 0.1 ...\n",
      " $ Species     : Factor w/ 3 levels \"setosa\",\"versicolor\",..: 1 1 1 1 1 1 1 1 1 1 ...\n"
     ]
    }
   ],
   "source": [
    "str(iris)"
   ]
  },
  {
   "cell_type": "code",
   "execution_count": 47,
   "id": "1bb33fcd",
   "metadata": {},
   "outputs": [
    {
     "data": {
      "text/html": [
       "<table class=\"dataframe\">\n",
       "<caption>A data.frame: 50 × 5</caption>\n",
       "<thead>\n",
       "\t<tr><th></th><th scope=col>Sepal.Length</th><th scope=col>Sepal.Width</th><th scope=col>Petal.Length</th><th scope=col>Petal.Width</th><th scope=col>Species</th></tr>\n",
       "\t<tr><th></th><th scope=col>&lt;dbl&gt;</th><th scope=col>&lt;dbl&gt;</th><th scope=col>&lt;dbl&gt;</th><th scope=col>&lt;dbl&gt;</th><th scope=col>&lt;fct&gt;</th></tr>\n",
       "</thead>\n",
       "<tbody>\n",
       "\t<tr><th scope=row>1</th><td>5.1</td><td>3.5</td><td>1.4</td><td>0.2</td><td>setosa</td></tr>\n",
       "\t<tr><th scope=row>2</th><td>4.9</td><td>3.0</td><td>1.4</td><td>0.2</td><td>setosa</td></tr>\n",
       "\t<tr><th scope=row>3</th><td>4.7</td><td>3.2</td><td>1.3</td><td>0.2</td><td>setosa</td></tr>\n",
       "\t<tr><th scope=row>4</th><td>4.6</td><td>3.1</td><td>1.5</td><td>0.2</td><td>setosa</td></tr>\n",
       "\t<tr><th scope=row>5</th><td>5.0</td><td>3.6</td><td>1.4</td><td>0.2</td><td>setosa</td></tr>\n",
       "\t<tr><th scope=row>6</th><td>5.4</td><td>3.9</td><td>1.7</td><td>0.4</td><td>setosa</td></tr>\n",
       "\t<tr><th scope=row>7</th><td>4.6</td><td>3.4</td><td>1.4</td><td>0.3</td><td>setosa</td></tr>\n",
       "\t<tr><th scope=row>8</th><td>5.0</td><td>3.4</td><td>1.5</td><td>0.2</td><td>setosa</td></tr>\n",
       "\t<tr><th scope=row>9</th><td>4.4</td><td>2.9</td><td>1.4</td><td>0.2</td><td>setosa</td></tr>\n",
       "\t<tr><th scope=row>10</th><td>4.9</td><td>3.1</td><td>1.5</td><td>0.1</td><td>setosa</td></tr>\n",
       "\t<tr><th scope=row>11</th><td>5.4</td><td>3.7</td><td>1.5</td><td>0.2</td><td>setosa</td></tr>\n",
       "\t<tr><th scope=row>12</th><td>4.8</td><td>3.4</td><td>1.6</td><td>0.2</td><td>setosa</td></tr>\n",
       "\t<tr><th scope=row>13</th><td>4.8</td><td>3.0</td><td>1.4</td><td>0.1</td><td>setosa</td></tr>\n",
       "\t<tr><th scope=row>14</th><td>4.3</td><td>3.0</td><td>1.1</td><td>0.1</td><td>setosa</td></tr>\n",
       "\t<tr><th scope=row>15</th><td>5.8</td><td>4.0</td><td>1.2</td><td>0.2</td><td>setosa</td></tr>\n",
       "\t<tr><th scope=row>16</th><td>5.7</td><td>4.4</td><td>1.5</td><td>0.4</td><td>setosa</td></tr>\n",
       "\t<tr><th scope=row>17</th><td>5.4</td><td>3.9</td><td>1.3</td><td>0.4</td><td>setosa</td></tr>\n",
       "\t<tr><th scope=row>18</th><td>5.1</td><td>3.5</td><td>1.4</td><td>0.3</td><td>setosa</td></tr>\n",
       "\t<tr><th scope=row>19</th><td>5.7</td><td>3.8</td><td>1.7</td><td>0.3</td><td>setosa</td></tr>\n",
       "\t<tr><th scope=row>20</th><td>5.1</td><td>3.8</td><td>1.5</td><td>0.3</td><td>setosa</td></tr>\n",
       "\t<tr><th scope=row>21</th><td>5.4</td><td>3.4</td><td>1.7</td><td>0.2</td><td>setosa</td></tr>\n",
       "\t<tr><th scope=row>22</th><td>5.1</td><td>3.7</td><td>1.5</td><td>0.4</td><td>setosa</td></tr>\n",
       "\t<tr><th scope=row>23</th><td>4.6</td><td>3.6</td><td>1.0</td><td>0.2</td><td>setosa</td></tr>\n",
       "\t<tr><th scope=row>24</th><td>5.1</td><td>3.3</td><td>1.7</td><td>0.5</td><td>setosa</td></tr>\n",
       "\t<tr><th scope=row>25</th><td>4.8</td><td>3.4</td><td>1.9</td><td>0.2</td><td>setosa</td></tr>\n",
       "\t<tr><th scope=row>26</th><td>5.0</td><td>3.0</td><td>1.6</td><td>0.2</td><td>setosa</td></tr>\n",
       "\t<tr><th scope=row>27</th><td>5.0</td><td>3.4</td><td>1.6</td><td>0.4</td><td>setosa</td></tr>\n",
       "\t<tr><th scope=row>28</th><td>5.2</td><td>3.5</td><td>1.5</td><td>0.2</td><td>setosa</td></tr>\n",
       "\t<tr><th scope=row>29</th><td>5.2</td><td>3.4</td><td>1.4</td><td>0.2</td><td>setosa</td></tr>\n",
       "\t<tr><th scope=row>30</th><td>4.7</td><td>3.2</td><td>1.6</td><td>0.2</td><td>setosa</td></tr>\n",
       "\t<tr><th scope=row>31</th><td>4.8</td><td>3.1</td><td>1.6</td><td>0.2</td><td>setosa</td></tr>\n",
       "\t<tr><th scope=row>32</th><td>5.4</td><td>3.4</td><td>1.5</td><td>0.4</td><td>setosa</td></tr>\n",
       "\t<tr><th scope=row>33</th><td>5.2</td><td>4.1</td><td>1.5</td><td>0.1</td><td>setosa</td></tr>\n",
       "\t<tr><th scope=row>34</th><td>5.5</td><td>4.2</td><td>1.4</td><td>0.2</td><td>setosa</td></tr>\n",
       "\t<tr><th scope=row>35</th><td>4.9</td><td>3.1</td><td>1.5</td><td>0.2</td><td>setosa</td></tr>\n",
       "\t<tr><th scope=row>36</th><td>5.0</td><td>3.2</td><td>1.2</td><td>0.2</td><td>setosa</td></tr>\n",
       "\t<tr><th scope=row>37</th><td>5.5</td><td>3.5</td><td>1.3</td><td>0.2</td><td>setosa</td></tr>\n",
       "\t<tr><th scope=row>38</th><td>4.9</td><td>3.6</td><td>1.4</td><td>0.1</td><td>setosa</td></tr>\n",
       "\t<tr><th scope=row>39</th><td>4.4</td><td>3.0</td><td>1.3</td><td>0.2</td><td>setosa</td></tr>\n",
       "\t<tr><th scope=row>40</th><td>5.1</td><td>3.4</td><td>1.5</td><td>0.2</td><td>setosa</td></tr>\n",
       "\t<tr><th scope=row>41</th><td>5.0</td><td>3.5</td><td>1.3</td><td>0.3</td><td>setosa</td></tr>\n",
       "\t<tr><th scope=row>42</th><td>4.5</td><td>2.3</td><td>1.3</td><td>0.3</td><td>setosa</td></tr>\n",
       "\t<tr><th scope=row>43</th><td>4.4</td><td>3.2</td><td>1.3</td><td>0.2</td><td>setosa</td></tr>\n",
       "\t<tr><th scope=row>44</th><td>5.0</td><td>3.5</td><td>1.6</td><td>0.6</td><td>setosa</td></tr>\n",
       "\t<tr><th scope=row>45</th><td>5.1</td><td>3.8</td><td>1.9</td><td>0.4</td><td>setosa</td></tr>\n",
       "\t<tr><th scope=row>46</th><td>4.8</td><td>3.0</td><td>1.4</td><td>0.3</td><td>setosa</td></tr>\n",
       "\t<tr><th scope=row>47</th><td>5.1</td><td>3.8</td><td>1.6</td><td>0.2</td><td>setosa</td></tr>\n",
       "\t<tr><th scope=row>48</th><td>4.6</td><td>3.2</td><td>1.4</td><td>0.2</td><td>setosa</td></tr>\n",
       "\t<tr><th scope=row>49</th><td>5.3</td><td>3.7</td><td>1.5</td><td>0.2</td><td>setosa</td></tr>\n",
       "\t<tr><th scope=row>50</th><td>5.0</td><td>3.3</td><td>1.4</td><td>0.2</td><td>setosa</td></tr>\n",
       "</tbody>\n",
       "</table>\n"
      ],
      "text/latex": [
       "A data.frame: 50 × 5\n",
       "\\begin{tabular}{r|lllll}\n",
       "  & Sepal.Length & Sepal.Width & Petal.Length & Petal.Width & Species\\\\\n",
       "  & <dbl> & <dbl> & <dbl> & <dbl> & <fct>\\\\\n",
       "\\hline\n",
       "\t1 & 5.1 & 3.5 & 1.4 & 0.2 & setosa\\\\\n",
       "\t2 & 4.9 & 3.0 & 1.4 & 0.2 & setosa\\\\\n",
       "\t3 & 4.7 & 3.2 & 1.3 & 0.2 & setosa\\\\\n",
       "\t4 & 4.6 & 3.1 & 1.5 & 0.2 & setosa\\\\\n",
       "\t5 & 5.0 & 3.6 & 1.4 & 0.2 & setosa\\\\\n",
       "\t6 & 5.4 & 3.9 & 1.7 & 0.4 & setosa\\\\\n",
       "\t7 & 4.6 & 3.4 & 1.4 & 0.3 & setosa\\\\\n",
       "\t8 & 5.0 & 3.4 & 1.5 & 0.2 & setosa\\\\\n",
       "\t9 & 4.4 & 2.9 & 1.4 & 0.2 & setosa\\\\\n",
       "\t10 & 4.9 & 3.1 & 1.5 & 0.1 & setosa\\\\\n",
       "\t11 & 5.4 & 3.7 & 1.5 & 0.2 & setosa\\\\\n",
       "\t12 & 4.8 & 3.4 & 1.6 & 0.2 & setosa\\\\\n",
       "\t13 & 4.8 & 3.0 & 1.4 & 0.1 & setosa\\\\\n",
       "\t14 & 4.3 & 3.0 & 1.1 & 0.1 & setosa\\\\\n",
       "\t15 & 5.8 & 4.0 & 1.2 & 0.2 & setosa\\\\\n",
       "\t16 & 5.7 & 4.4 & 1.5 & 0.4 & setosa\\\\\n",
       "\t17 & 5.4 & 3.9 & 1.3 & 0.4 & setosa\\\\\n",
       "\t18 & 5.1 & 3.5 & 1.4 & 0.3 & setosa\\\\\n",
       "\t19 & 5.7 & 3.8 & 1.7 & 0.3 & setosa\\\\\n",
       "\t20 & 5.1 & 3.8 & 1.5 & 0.3 & setosa\\\\\n",
       "\t21 & 5.4 & 3.4 & 1.7 & 0.2 & setosa\\\\\n",
       "\t22 & 5.1 & 3.7 & 1.5 & 0.4 & setosa\\\\\n",
       "\t23 & 4.6 & 3.6 & 1.0 & 0.2 & setosa\\\\\n",
       "\t24 & 5.1 & 3.3 & 1.7 & 0.5 & setosa\\\\\n",
       "\t25 & 4.8 & 3.4 & 1.9 & 0.2 & setosa\\\\\n",
       "\t26 & 5.0 & 3.0 & 1.6 & 0.2 & setosa\\\\\n",
       "\t27 & 5.0 & 3.4 & 1.6 & 0.4 & setosa\\\\\n",
       "\t28 & 5.2 & 3.5 & 1.5 & 0.2 & setosa\\\\\n",
       "\t29 & 5.2 & 3.4 & 1.4 & 0.2 & setosa\\\\\n",
       "\t30 & 4.7 & 3.2 & 1.6 & 0.2 & setosa\\\\\n",
       "\t31 & 4.8 & 3.1 & 1.6 & 0.2 & setosa\\\\\n",
       "\t32 & 5.4 & 3.4 & 1.5 & 0.4 & setosa\\\\\n",
       "\t33 & 5.2 & 4.1 & 1.5 & 0.1 & setosa\\\\\n",
       "\t34 & 5.5 & 4.2 & 1.4 & 0.2 & setosa\\\\\n",
       "\t35 & 4.9 & 3.1 & 1.5 & 0.2 & setosa\\\\\n",
       "\t36 & 5.0 & 3.2 & 1.2 & 0.2 & setosa\\\\\n",
       "\t37 & 5.5 & 3.5 & 1.3 & 0.2 & setosa\\\\\n",
       "\t38 & 4.9 & 3.6 & 1.4 & 0.1 & setosa\\\\\n",
       "\t39 & 4.4 & 3.0 & 1.3 & 0.2 & setosa\\\\\n",
       "\t40 & 5.1 & 3.4 & 1.5 & 0.2 & setosa\\\\\n",
       "\t41 & 5.0 & 3.5 & 1.3 & 0.3 & setosa\\\\\n",
       "\t42 & 4.5 & 2.3 & 1.3 & 0.3 & setosa\\\\\n",
       "\t43 & 4.4 & 3.2 & 1.3 & 0.2 & setosa\\\\\n",
       "\t44 & 5.0 & 3.5 & 1.6 & 0.6 & setosa\\\\\n",
       "\t45 & 5.1 & 3.8 & 1.9 & 0.4 & setosa\\\\\n",
       "\t46 & 4.8 & 3.0 & 1.4 & 0.3 & setosa\\\\\n",
       "\t47 & 5.1 & 3.8 & 1.6 & 0.2 & setosa\\\\\n",
       "\t48 & 4.6 & 3.2 & 1.4 & 0.2 & setosa\\\\\n",
       "\t49 & 5.3 & 3.7 & 1.5 & 0.2 & setosa\\\\\n",
       "\t50 & 5.0 & 3.3 & 1.4 & 0.2 & setosa\\\\\n",
       "\\end{tabular}\n"
      ],
      "text/markdown": [
       "\n",
       "A data.frame: 50 × 5\n",
       "\n",
       "| <!--/--> | Sepal.Length &lt;dbl&gt; | Sepal.Width &lt;dbl&gt; | Petal.Length &lt;dbl&gt; | Petal.Width &lt;dbl&gt; | Species &lt;fct&gt; |\n",
       "|---|---|---|---|---|---|\n",
       "| 1 | 5.1 | 3.5 | 1.4 | 0.2 | setosa |\n",
       "| 2 | 4.9 | 3.0 | 1.4 | 0.2 | setosa |\n",
       "| 3 | 4.7 | 3.2 | 1.3 | 0.2 | setosa |\n",
       "| 4 | 4.6 | 3.1 | 1.5 | 0.2 | setosa |\n",
       "| 5 | 5.0 | 3.6 | 1.4 | 0.2 | setosa |\n",
       "| 6 | 5.4 | 3.9 | 1.7 | 0.4 | setosa |\n",
       "| 7 | 4.6 | 3.4 | 1.4 | 0.3 | setosa |\n",
       "| 8 | 5.0 | 3.4 | 1.5 | 0.2 | setosa |\n",
       "| 9 | 4.4 | 2.9 | 1.4 | 0.2 | setosa |\n",
       "| 10 | 4.9 | 3.1 | 1.5 | 0.1 | setosa |\n",
       "| 11 | 5.4 | 3.7 | 1.5 | 0.2 | setosa |\n",
       "| 12 | 4.8 | 3.4 | 1.6 | 0.2 | setosa |\n",
       "| 13 | 4.8 | 3.0 | 1.4 | 0.1 | setosa |\n",
       "| 14 | 4.3 | 3.0 | 1.1 | 0.1 | setosa |\n",
       "| 15 | 5.8 | 4.0 | 1.2 | 0.2 | setosa |\n",
       "| 16 | 5.7 | 4.4 | 1.5 | 0.4 | setosa |\n",
       "| 17 | 5.4 | 3.9 | 1.3 | 0.4 | setosa |\n",
       "| 18 | 5.1 | 3.5 | 1.4 | 0.3 | setosa |\n",
       "| 19 | 5.7 | 3.8 | 1.7 | 0.3 | setosa |\n",
       "| 20 | 5.1 | 3.8 | 1.5 | 0.3 | setosa |\n",
       "| 21 | 5.4 | 3.4 | 1.7 | 0.2 | setosa |\n",
       "| 22 | 5.1 | 3.7 | 1.5 | 0.4 | setosa |\n",
       "| 23 | 4.6 | 3.6 | 1.0 | 0.2 | setosa |\n",
       "| 24 | 5.1 | 3.3 | 1.7 | 0.5 | setosa |\n",
       "| 25 | 4.8 | 3.4 | 1.9 | 0.2 | setosa |\n",
       "| 26 | 5.0 | 3.0 | 1.6 | 0.2 | setosa |\n",
       "| 27 | 5.0 | 3.4 | 1.6 | 0.4 | setosa |\n",
       "| 28 | 5.2 | 3.5 | 1.5 | 0.2 | setosa |\n",
       "| 29 | 5.2 | 3.4 | 1.4 | 0.2 | setosa |\n",
       "| 30 | 4.7 | 3.2 | 1.6 | 0.2 | setosa |\n",
       "| 31 | 4.8 | 3.1 | 1.6 | 0.2 | setosa |\n",
       "| 32 | 5.4 | 3.4 | 1.5 | 0.4 | setosa |\n",
       "| 33 | 5.2 | 4.1 | 1.5 | 0.1 | setosa |\n",
       "| 34 | 5.5 | 4.2 | 1.4 | 0.2 | setosa |\n",
       "| 35 | 4.9 | 3.1 | 1.5 | 0.2 | setosa |\n",
       "| 36 | 5.0 | 3.2 | 1.2 | 0.2 | setosa |\n",
       "| 37 | 5.5 | 3.5 | 1.3 | 0.2 | setosa |\n",
       "| 38 | 4.9 | 3.6 | 1.4 | 0.1 | setosa |\n",
       "| 39 | 4.4 | 3.0 | 1.3 | 0.2 | setosa |\n",
       "| 40 | 5.1 | 3.4 | 1.5 | 0.2 | setosa |\n",
       "| 41 | 5.0 | 3.5 | 1.3 | 0.3 | setosa |\n",
       "| 42 | 4.5 | 2.3 | 1.3 | 0.3 | setosa |\n",
       "| 43 | 4.4 | 3.2 | 1.3 | 0.2 | setosa |\n",
       "| 44 | 5.0 | 3.5 | 1.6 | 0.6 | setosa |\n",
       "| 45 | 5.1 | 3.8 | 1.9 | 0.4 | setosa |\n",
       "| 46 | 4.8 | 3.0 | 1.4 | 0.3 | setosa |\n",
       "| 47 | 5.1 | 3.8 | 1.6 | 0.2 | setosa |\n",
       "| 48 | 4.6 | 3.2 | 1.4 | 0.2 | setosa |\n",
       "| 49 | 5.3 | 3.7 | 1.5 | 0.2 | setosa |\n",
       "| 50 | 5.0 | 3.3 | 1.4 | 0.2 | setosa |\n",
       "\n"
      ],
      "text/plain": [
       "   Sepal.Length Sepal.Width Petal.Length Petal.Width Species\n",
       "1  5.1          3.5         1.4          0.2         setosa \n",
       "2  4.9          3.0         1.4          0.2         setosa \n",
       "3  4.7          3.2         1.3          0.2         setosa \n",
       "4  4.6          3.1         1.5          0.2         setosa \n",
       "5  5.0          3.6         1.4          0.2         setosa \n",
       "6  5.4          3.9         1.7          0.4         setosa \n",
       "7  4.6          3.4         1.4          0.3         setosa \n",
       "8  5.0          3.4         1.5          0.2         setosa \n",
       "9  4.4          2.9         1.4          0.2         setosa \n",
       "10 4.9          3.1         1.5          0.1         setosa \n",
       "11 5.4          3.7         1.5          0.2         setosa \n",
       "12 4.8          3.4         1.6          0.2         setosa \n",
       "13 4.8          3.0         1.4          0.1         setosa \n",
       "14 4.3          3.0         1.1          0.1         setosa \n",
       "15 5.8          4.0         1.2          0.2         setosa \n",
       "16 5.7          4.4         1.5          0.4         setosa \n",
       "17 5.4          3.9         1.3          0.4         setosa \n",
       "18 5.1          3.5         1.4          0.3         setosa \n",
       "19 5.7          3.8         1.7          0.3         setosa \n",
       "20 5.1          3.8         1.5          0.3         setosa \n",
       "21 5.4          3.4         1.7          0.2         setosa \n",
       "22 5.1          3.7         1.5          0.4         setosa \n",
       "23 4.6          3.6         1.0          0.2         setosa \n",
       "24 5.1          3.3         1.7          0.5         setosa \n",
       "25 4.8          3.4         1.9          0.2         setosa \n",
       "26 5.0          3.0         1.6          0.2         setosa \n",
       "27 5.0          3.4         1.6          0.4         setosa \n",
       "28 5.2          3.5         1.5          0.2         setosa \n",
       "29 5.2          3.4         1.4          0.2         setosa \n",
       "30 4.7          3.2         1.6          0.2         setosa \n",
       "31 4.8          3.1         1.6          0.2         setosa \n",
       "32 5.4          3.4         1.5          0.4         setosa \n",
       "33 5.2          4.1         1.5          0.1         setosa \n",
       "34 5.5          4.2         1.4          0.2         setosa \n",
       "35 4.9          3.1         1.5          0.2         setosa \n",
       "36 5.0          3.2         1.2          0.2         setosa \n",
       "37 5.5          3.5         1.3          0.2         setosa \n",
       "38 4.9          3.6         1.4          0.1         setosa \n",
       "39 4.4          3.0         1.3          0.2         setosa \n",
       "40 5.1          3.4         1.5          0.2         setosa \n",
       "41 5.0          3.5         1.3          0.3         setosa \n",
       "42 4.5          2.3         1.3          0.3         setosa \n",
       "43 4.4          3.2         1.3          0.2         setosa \n",
       "44 5.0          3.5         1.6          0.6         setosa \n",
       "45 5.1          3.8         1.9          0.4         setosa \n",
       "46 4.8          3.0         1.4          0.3         setosa \n",
       "47 5.1          3.8         1.6          0.2         setosa \n",
       "48 4.6          3.2         1.4          0.2         setosa \n",
       "49 5.3          3.7         1.5          0.2         setosa \n",
       "50 5.0          3.3         1.4          0.2         setosa "
      ]
     },
     "metadata": {},
     "output_type": "display_data"
    }
   ],
   "source": [
    "iris[iris['Species'] == 'setosa', ]"
   ]
  },
  {
   "cell_type": "code",
   "execution_count": 49,
   "id": "146938cf",
   "metadata": {},
   "outputs": [
    {
     "data": {
      "text/html": [
       "<table class=\"dataframe\">\n",
       "<caption>A matrix: 4 × 5 of type int</caption>\n",
       "<tbody>\n",
       "\t<tr><td>1</td><td>5</td><td> 9</td><td>13</td><td>17</td></tr>\n",
       "\t<tr><td>2</td><td>6</td><td>10</td><td>14</td><td>18</td></tr>\n",
       "\t<tr><td>3</td><td>7</td><td>11</td><td>15</td><td>19</td></tr>\n",
       "\t<tr><td>4</td><td>8</td><td>12</td><td>16</td><td>20</td></tr>\n",
       "</tbody>\n",
       "</table>\n"
      ],
      "text/latex": [
       "A matrix: 4 × 5 of type int\n",
       "\\begin{tabular}{lllll}\n",
       "\t 1 & 5 &  9 & 13 & 17\\\\\n",
       "\t 2 & 6 & 10 & 14 & 18\\\\\n",
       "\t 3 & 7 & 11 & 15 & 19\\\\\n",
       "\t 4 & 8 & 12 & 16 & 20\\\\\n",
       "\\end{tabular}\n"
      ],
      "text/markdown": [
       "\n",
       "A matrix: 4 × 5 of type int\n",
       "\n",
       "| 1 | 5 |  9 | 13 | 17 |\n",
       "| 2 | 6 | 10 | 14 | 18 |\n",
       "| 3 | 7 | 11 | 15 | 19 |\n",
       "| 4 | 8 | 12 | 16 | 20 |\n",
       "\n"
      ],
      "text/plain": [
       "     [,1] [,2] [,3] [,4] [,5]\n",
       "[1,] 1    5     9   13   17  \n",
       "[2,] 2    6    10   14   18  \n",
       "[3,] 3    7    11   15   19  \n",
       "[4,] 4    8    12   16   20  "
      ]
     },
     "metadata": {},
     "output_type": "display_data"
    }
   ],
   "source": [
    "m <- matrix(1:20, nrow=4)\n",
    "m"
   ]
  },
  {
   "cell_type": "code",
   "execution_count": 50,
   "id": "6a07670f",
   "metadata": {},
   "outputs": [
    {
     "data": {
      "text/html": [
       "<table class=\"dataframe\">\n",
       "<caption>A matrix: 4 × 5 of type dbl</caption>\n",
       "<tbody>\n",
       "\t<tr><td>2</td><td>10</td><td>18</td><td>26</td><td>34</td></tr>\n",
       "\t<tr><td>4</td><td>12</td><td>20</td><td>28</td><td>36</td></tr>\n",
       "\t<tr><td>6</td><td>14</td><td>22</td><td>30</td><td>38</td></tr>\n",
       "\t<tr><td>8</td><td>16</td><td>24</td><td>32</td><td>40</td></tr>\n",
       "</tbody>\n",
       "</table>\n"
      ],
      "text/latex": [
       "A matrix: 4 × 5 of type dbl\n",
       "\\begin{tabular}{lllll}\n",
       "\t 2 & 10 & 18 & 26 & 34\\\\\n",
       "\t 4 & 12 & 20 & 28 & 36\\\\\n",
       "\t 6 & 14 & 22 & 30 & 38\\\\\n",
       "\t 8 & 16 & 24 & 32 & 40\\\\\n",
       "\\end{tabular}\n"
      ],
      "text/markdown": [
       "\n",
       "A matrix: 4 × 5 of type dbl\n",
       "\n",
       "| 2 | 10 | 18 | 26 | 34 |\n",
       "| 4 | 12 | 20 | 28 | 36 |\n",
       "| 6 | 14 | 22 | 30 | 38 |\n",
       "| 8 | 16 | 24 | 32 | 40 |\n",
       "\n"
      ],
      "text/plain": [
       "     [,1] [,2] [,3] [,4] [,5]\n",
       "[1,] 2    10   18   26   34  \n",
       "[2,] 4    12   20   28   36  \n",
       "[3,] 6    14   22   30   38  \n",
       "[4,] 8    16   24   32   40  "
      ]
     },
     "metadata": {},
     "output_type": "display_data"
    }
   ],
   "source": [
    "m * 2"
   ]
  },
  {
   "cell_type": "code",
   "execution_count": 51,
   "id": "3e358a3d",
   "metadata": {},
   "outputs": [],
   "source": [
    "b <- t(m)"
   ]
  },
  {
   "cell_type": "code",
   "execution_count": 54,
   "id": "39bf6c1a",
   "metadata": {},
   "outputs": [
    {
     "data": {
      "text/html": [
       "<table class=\"dataframe\">\n",
       "<caption>A matrix: 5 × 4 of type int</caption>\n",
       "<tbody>\n",
       "\t<tr><td> 1</td><td> 2</td><td> 3</td><td> 4</td></tr>\n",
       "\t<tr><td> 5</td><td> 6</td><td> 7</td><td> 8</td></tr>\n",
       "\t<tr><td> 9</td><td>10</td><td>11</td><td>12</td></tr>\n",
       "\t<tr><td>13</td><td>14</td><td>15</td><td>16</td></tr>\n",
       "\t<tr><td>17</td><td>18</td><td>19</td><td>20</td></tr>\n",
       "</tbody>\n",
       "</table>\n"
      ],
      "text/latex": [
       "A matrix: 5 × 4 of type int\n",
       "\\begin{tabular}{llll}\n",
       "\t  1 &  2 &  3 &  4\\\\\n",
       "\t  5 &  6 &  7 &  8\\\\\n",
       "\t  9 & 10 & 11 & 12\\\\\n",
       "\t 13 & 14 & 15 & 16\\\\\n",
       "\t 17 & 18 & 19 & 20\\\\\n",
       "\\end{tabular}\n"
      ],
      "text/markdown": [
       "\n",
       "A matrix: 5 × 4 of type int\n",
       "\n",
       "|  1 |  2 |  3 |  4 |\n",
       "|  5 |  6 |  7 |  8 |\n",
       "|  9 | 10 | 11 | 12 |\n",
       "| 13 | 14 | 15 | 16 |\n",
       "| 17 | 18 | 19 | 20 |\n",
       "\n"
      ],
      "text/plain": [
       "     [,1] [,2] [,3] [,4]\n",
       "[1,]  1    2    3    4  \n",
       "[2,]  5    6    7    8  \n",
       "[3,]  9   10   11   12  \n",
       "[4,] 13   14   15   16  \n",
       "[5,] 17   18   19   20  "
      ]
     },
     "metadata": {},
     "output_type": "display_data"
    }
   ],
   "source": [
    "b"
   ]
  },
  {
   "cell_type": "code",
   "execution_count": 56,
   "id": "999ce5d5",
   "metadata": {},
   "outputs": [
    {
     "ename": "ERROR",
     "evalue": "Error in m * b: non-conformable arrays\n",
     "output_type": "error",
     "traceback": [
      "Error in m * b: non-conformable arrays\nTraceback:\n"
     ]
    }
   ],
   "source": [
    "m * b"
   ]
  },
  {
   "cell_type": "code",
   "execution_count": 58,
   "id": "3469b230",
   "metadata": {},
   "outputs": [
    {
     "name": "stderr",
     "output_type": "stream",
     "text": [
      "Warning message in matrix(20:10000, nrow = 4):\n",
      "\"data length [9981] is not a sub-multiple or multiple of the number of rows [4]\"\n"
     ]
    }
   ],
   "source": [
    "b <- matrix(20:10000, nrow = 4)"
   ]
  },
  {
   "cell_type": "code",
   "execution_count": 59,
   "id": "f804da62",
   "metadata": {},
   "outputs": [
    {
     "data": {
      "text/html": [
       "<table class=\"dataframe\">\n",
       "<caption>A matrix: 4 × 2496 of type int</caption>\n",
       "<tbody>\n",
       "\t<tr><td>20</td><td>24</td><td>28</td><td>32</td><td>36</td><td>40</td><td>44</td><td>48</td><td>52</td><td>56</td><td>⋯</td><td>9964</td><td>9968</td><td>9972</td><td>9976</td><td>9980</td><td>9984</td><td>9988</td><td>9992</td><td>9996</td><td>10000</td></tr>\n",
       "\t<tr><td>21</td><td>25</td><td>29</td><td>33</td><td>37</td><td>41</td><td>45</td><td>49</td><td>53</td><td>57</td><td>⋯</td><td>9965</td><td>9969</td><td>9973</td><td>9977</td><td>9981</td><td>9985</td><td>9989</td><td>9993</td><td>9997</td><td>   20</td></tr>\n",
       "\t<tr><td>22</td><td>26</td><td>30</td><td>34</td><td>38</td><td>42</td><td>46</td><td>50</td><td>54</td><td>58</td><td>⋯</td><td>9966</td><td>9970</td><td>9974</td><td>9978</td><td>9982</td><td>9986</td><td>9990</td><td>9994</td><td>9998</td><td>   21</td></tr>\n",
       "\t<tr><td>23</td><td>27</td><td>31</td><td>35</td><td>39</td><td>43</td><td>47</td><td>51</td><td>55</td><td>59</td><td>⋯</td><td>9967</td><td>9971</td><td>9975</td><td>9979</td><td>9983</td><td>9987</td><td>9991</td><td>9995</td><td>9999</td><td>   22</td></tr>\n",
       "</tbody>\n",
       "</table>\n"
      ],
      "text/latex": [
       "A matrix: 4 × 2496 of type int\n",
       "\\begin{tabular}{lllllllllllllllllllll}\n",
       "\t 20 & 24 & 28 & 32 & 36 & 40 & 44 & 48 & 52 & 56 & ⋯ & 9964 & 9968 & 9972 & 9976 & 9980 & 9984 & 9988 & 9992 & 9996 & 10000\\\\\n",
       "\t 21 & 25 & 29 & 33 & 37 & 41 & 45 & 49 & 53 & 57 & ⋯ & 9965 & 9969 & 9973 & 9977 & 9981 & 9985 & 9989 & 9993 & 9997 &    20\\\\\n",
       "\t 22 & 26 & 30 & 34 & 38 & 42 & 46 & 50 & 54 & 58 & ⋯ & 9966 & 9970 & 9974 & 9978 & 9982 & 9986 & 9990 & 9994 & 9998 &    21\\\\\n",
       "\t 23 & 27 & 31 & 35 & 39 & 43 & 47 & 51 & 55 & 59 & ⋯ & 9967 & 9971 & 9975 & 9979 & 9983 & 9987 & 9991 & 9995 & 9999 &    22\\\\\n",
       "\\end{tabular}\n"
      ],
      "text/markdown": [
       "\n",
       "A matrix: 4 × 2496 of type int\n",
       "\n",
       "| 20 | 24 | 28 | 32 | 36 | 40 | 44 | 48 | 52 | 56 | ⋯ | 9964 | 9968 | 9972 | 9976 | 9980 | 9984 | 9988 | 9992 | 9996 | 10000 |\n",
       "| 21 | 25 | 29 | 33 | 37 | 41 | 45 | 49 | 53 | 57 | ⋯ | 9965 | 9969 | 9973 | 9977 | 9981 | 9985 | 9989 | 9993 | 9997 |    20 |\n",
       "| 22 | 26 | 30 | 34 | 38 | 42 | 46 | 50 | 54 | 58 | ⋯ | 9966 | 9970 | 9974 | 9978 | 9982 | 9986 | 9990 | 9994 | 9998 |    21 |\n",
       "| 23 | 27 | 31 | 35 | 39 | 43 | 47 | 51 | 55 | 59 | ⋯ | 9967 | 9971 | 9975 | 9979 | 9983 | 9987 | 9991 | 9995 | 9999 |    22 |\n",
       "\n"
      ],
      "text/plain": [
       "     [,1] [,2] [,3] [,4] [,5] [,6] [,7] [,8] [,9] [,10] [,11] [,12] [,13] [,14]\n",
       "[1,] 20   24   28   32   36   40   44   48   52   56    ⋯     9964  9968  9972 \n",
       "[2,] 21   25   29   33   37   41   45   49   53   57    ⋯     9965  9969  9973 \n",
       "[3,] 22   26   30   34   38   42   46   50   54   58    ⋯     9966  9970  9974 \n",
       "[4,] 23   27   31   35   39   43   47   51   55   59    ⋯     9967  9971  9975 \n",
       "     [,15] [,16] [,17] [,18] [,19] [,20] [,21]\n",
       "[1,] 9976  9980  9984  9988  9992  9996  10000\n",
       "[2,] 9977  9981  9985  9989  9993  9997     20\n",
       "[3,] 9978  9982  9986  9990  9994  9998     21\n",
       "[4,] 9979  9983  9987  9991  9995  9999     22"
      ]
     },
     "metadata": {},
     "output_type": "display_data"
    }
   ],
   "source": [
    "b"
   ]
  },
  {
   "cell_type": "code",
   "execution_count": 60,
   "id": "ab4a2635",
   "metadata": {},
   "outputs": [
    {
     "ename": "ERROR",
     "evalue": "Error in eval(expr, envir, enclos): object 'a' not found\n",
     "output_type": "error",
     "traceback": [
      "Error in eval(expr, envir, enclos): object 'a' not found\nTraceback:\n"
     ]
    }
   ],
   "source": [
    "a * b"
   ]
  },
  {
   "cell_type": "code",
   "execution_count": 61,
   "id": "0a95e35d",
   "metadata": {},
   "outputs": [
    {
     "ename": "ERROR",
     "evalue": "Error in m * b: non-conformable arrays\n",
     "output_type": "error",
     "traceback": [
      "Error in m * b: non-conformable arrays\nTraceback:\n"
     ]
    }
   ],
   "source": [
    "m * b"
   ]
  },
  {
   "cell_type": "code",
   "execution_count": 62,
   "id": "22958b71",
   "metadata": {},
   "outputs": [
    {
     "data": {
      "text/html": [
       "<table class=\"dataframe\">\n",
       "<caption>A matrix: 4 × 5 of type int</caption>\n",
       "<tbody>\n",
       "\t<tr><td>2</td><td>10</td><td>18</td><td>26</td><td>34</td></tr>\n",
       "\t<tr><td>4</td><td>12</td><td>20</td><td>28</td><td>36</td></tr>\n",
       "\t<tr><td>6</td><td>14</td><td>22</td><td>30</td><td>38</td></tr>\n",
       "\t<tr><td>8</td><td>16</td><td>24</td><td>32</td><td>40</td></tr>\n",
       "</tbody>\n",
       "</table>\n"
      ],
      "text/latex": [
       "A matrix: 4 × 5 of type int\n",
       "\\begin{tabular}{lllll}\n",
       "\t 2 & 10 & 18 & 26 & 34\\\\\n",
       "\t 4 & 12 & 20 & 28 & 36\\\\\n",
       "\t 6 & 14 & 22 & 30 & 38\\\\\n",
       "\t 8 & 16 & 24 & 32 & 40\\\\\n",
       "\\end{tabular}\n"
      ],
      "text/markdown": [
       "\n",
       "A matrix: 4 × 5 of type int\n",
       "\n",
       "| 2 | 10 | 18 | 26 | 34 |\n",
       "| 4 | 12 | 20 | 28 | 36 |\n",
       "| 6 | 14 | 22 | 30 | 38 |\n",
       "| 8 | 16 | 24 | 32 | 40 |\n",
       "\n"
      ],
      "text/plain": [
       "     [,1] [,2] [,3] [,4] [,5]\n",
       "[1,] 2    10   18   26   34  \n",
       "[2,] 4    12   20   28   36  \n",
       "[3,] 6    14   22   30   38  \n",
       "[4,] 8    16   24   32   40  "
      ]
     },
     "metadata": {},
     "output_type": "display_data"
    }
   ],
   "source": [
    "m + m"
   ]
  },
  {
   "cell_type": "code",
   "execution_count": 63,
   "id": "6653db2d",
   "metadata": {},
   "outputs": [
    {
     "data": {
      "text/html": [
       "<table class=\"dataframe\">\n",
       "<caption>A matrix: 4 × 2496 of type int</caption>\n",
       "<tbody>\n",
       "\t<tr><td>40</td><td>48</td><td>56</td><td>64</td><td>72</td><td>80</td><td>88</td><td> 96</td><td>104</td><td>112</td><td>⋯</td><td>19928</td><td>19936</td><td>19944</td><td>19952</td><td>19960</td><td>19968</td><td>19976</td><td>19984</td><td>19992</td><td>20000</td></tr>\n",
       "\t<tr><td>42</td><td>50</td><td>58</td><td>66</td><td>74</td><td>82</td><td>90</td><td> 98</td><td>106</td><td>114</td><td>⋯</td><td>19930</td><td>19938</td><td>19946</td><td>19954</td><td>19962</td><td>19970</td><td>19978</td><td>19986</td><td>19994</td><td>   40</td></tr>\n",
       "\t<tr><td>44</td><td>52</td><td>60</td><td>68</td><td>76</td><td>84</td><td>92</td><td>100</td><td>108</td><td>116</td><td>⋯</td><td>19932</td><td>19940</td><td>19948</td><td>19956</td><td>19964</td><td>19972</td><td>19980</td><td>19988</td><td>19996</td><td>   42</td></tr>\n",
       "\t<tr><td>46</td><td>54</td><td>62</td><td>70</td><td>78</td><td>86</td><td>94</td><td>102</td><td>110</td><td>118</td><td>⋯</td><td>19934</td><td>19942</td><td>19950</td><td>19958</td><td>19966</td><td>19974</td><td>19982</td><td>19990</td><td>19998</td><td>   44</td></tr>\n",
       "</tbody>\n",
       "</table>\n"
      ],
      "text/latex": [
       "A matrix: 4 × 2496 of type int\n",
       "\\begin{tabular}{lllllllllllllllllllll}\n",
       "\t 40 & 48 & 56 & 64 & 72 & 80 & 88 &  96 & 104 & 112 & ⋯ & 19928 & 19936 & 19944 & 19952 & 19960 & 19968 & 19976 & 19984 & 19992 & 20000\\\\\n",
       "\t 42 & 50 & 58 & 66 & 74 & 82 & 90 &  98 & 106 & 114 & ⋯ & 19930 & 19938 & 19946 & 19954 & 19962 & 19970 & 19978 & 19986 & 19994 &    40\\\\\n",
       "\t 44 & 52 & 60 & 68 & 76 & 84 & 92 & 100 & 108 & 116 & ⋯ & 19932 & 19940 & 19948 & 19956 & 19964 & 19972 & 19980 & 19988 & 19996 &    42\\\\\n",
       "\t 46 & 54 & 62 & 70 & 78 & 86 & 94 & 102 & 110 & 118 & ⋯ & 19934 & 19942 & 19950 & 19958 & 19966 & 19974 & 19982 & 19990 & 19998 &    44\\\\\n",
       "\\end{tabular}\n"
      ],
      "text/markdown": [
       "\n",
       "A matrix: 4 × 2496 of type int\n",
       "\n",
       "| 40 | 48 | 56 | 64 | 72 | 80 | 88 |  96 | 104 | 112 | ⋯ | 19928 | 19936 | 19944 | 19952 | 19960 | 19968 | 19976 | 19984 | 19992 | 20000 |\n",
       "| 42 | 50 | 58 | 66 | 74 | 82 | 90 |  98 | 106 | 114 | ⋯ | 19930 | 19938 | 19946 | 19954 | 19962 | 19970 | 19978 | 19986 | 19994 |    40 |\n",
       "| 44 | 52 | 60 | 68 | 76 | 84 | 92 | 100 | 108 | 116 | ⋯ | 19932 | 19940 | 19948 | 19956 | 19964 | 19972 | 19980 | 19988 | 19996 |    42 |\n",
       "| 46 | 54 | 62 | 70 | 78 | 86 | 94 | 102 | 110 | 118 | ⋯ | 19934 | 19942 | 19950 | 19958 | 19966 | 19974 | 19982 | 19990 | 19998 |    44 |\n",
       "\n"
      ],
      "text/plain": [
       "     [,1] [,2] [,3] [,4] [,5] [,6] [,7] [,8] [,9] [,10] [,11] [,12] [,13] [,14]\n",
       "[1,] 40   48   56   64   72   80   88    96  104  112   ⋯     19928 19936 19944\n",
       "[2,] 42   50   58   66   74   82   90    98  106  114   ⋯     19930 19938 19946\n",
       "[3,] 44   52   60   68   76   84   92   100  108  116   ⋯     19932 19940 19948\n",
       "[4,] 46   54   62   70   78   86   94   102  110  118   ⋯     19934 19942 19950\n",
       "     [,15] [,16] [,17] [,18] [,19] [,20] [,21]\n",
       "[1,] 19952 19960 19968 19976 19984 19992 20000\n",
       "[2,] 19954 19962 19970 19978 19986 19994    40\n",
       "[3,] 19956 19964 19972 19980 19988 19996    42\n",
       "[4,] 19958 19966 19974 19982 19990 19998    44"
      ]
     },
     "metadata": {},
     "output_type": "display_data"
    }
   ],
   "source": [
    "b + b"
   ]
  },
  {
   "cell_type": "code",
   "execution_count": 64,
   "id": "20e59240",
   "metadata": {},
   "outputs": [],
   "source": [
    "m <- m * 10"
   ]
  },
  {
   "cell_type": "code",
   "execution_count": 65,
   "id": "8120a45d",
   "metadata": {},
   "outputs": [
    {
     "data": {
      "text/html": [
       "<table class=\"dataframe\">\n",
       "<caption>A matrix: 4 × 5 of type dbl</caption>\n",
       "<tbody>\n",
       "\t<tr><td>10</td><td>50</td><td> 90</td><td>130</td><td>170</td></tr>\n",
       "\t<tr><td>20</td><td>60</td><td>100</td><td>140</td><td>180</td></tr>\n",
       "\t<tr><td>30</td><td>70</td><td>110</td><td>150</td><td>190</td></tr>\n",
       "\t<tr><td>40</td><td>80</td><td>120</td><td>160</td><td>200</td></tr>\n",
       "</tbody>\n",
       "</table>\n"
      ],
      "text/latex": [
       "A matrix: 4 × 5 of type dbl\n",
       "\\begin{tabular}{lllll}\n",
       "\t 10 & 50 &  90 & 130 & 170\\\\\n",
       "\t 20 & 60 & 100 & 140 & 180\\\\\n",
       "\t 30 & 70 & 110 & 150 & 190\\\\\n",
       "\t 40 & 80 & 120 & 160 & 200\\\\\n",
       "\\end{tabular}\n"
      ],
      "text/markdown": [
       "\n",
       "A matrix: 4 × 5 of type dbl\n",
       "\n",
       "| 10 | 50 |  90 | 130 | 170 |\n",
       "| 20 | 60 | 100 | 140 | 180 |\n",
       "| 30 | 70 | 110 | 150 | 190 |\n",
       "| 40 | 80 | 120 | 160 | 200 |\n",
       "\n"
      ],
      "text/plain": [
       "     [,1] [,2] [,3] [,4] [,5]\n",
       "[1,] 10   50    90  130  170 \n",
       "[2,] 20   60   100  140  180 \n",
       "[3,] 30   70   110  150  190 \n",
       "[4,] 40   80   120  160  200 "
      ]
     },
     "metadata": {},
     "output_type": "display_data"
    }
   ],
   "source": [
    "m"
   ]
  },
  {
   "cell_type": "code",
   "execution_count": 66,
   "id": "e0592140",
   "metadata": {},
   "outputs": [],
   "source": [
    "b <- b * 987"
   ]
  },
  {
   "cell_type": "code",
   "execution_count": 67,
   "id": "8d4f6706",
   "metadata": {},
   "outputs": [
    {
     "data": {
      "text/html": [
       "<table class=\"dataframe\">\n",
       "<caption>A matrix: 4 × 2496 of type dbl</caption>\n",
       "<tbody>\n",
       "\t<tr><td>19740</td><td>23688</td><td>27636</td><td>31584</td><td>35532</td><td>39480</td><td>43428</td><td>47376</td><td>51324</td><td>55272</td><td>⋯</td><td>9834468</td><td>9838416</td><td>9842364</td><td>9846312</td><td>9850260</td><td>9854208</td><td>9858156</td><td>9862104</td><td>9866052</td><td>9870000</td></tr>\n",
       "\t<tr><td>20727</td><td>24675</td><td>28623</td><td>32571</td><td>36519</td><td>40467</td><td>44415</td><td>48363</td><td>52311</td><td>56259</td><td>⋯</td><td>9835455</td><td>9839403</td><td>9843351</td><td>9847299</td><td>9851247</td><td>9855195</td><td>9859143</td><td>9863091</td><td>9867039</td><td>  19740</td></tr>\n",
       "\t<tr><td>21714</td><td>25662</td><td>29610</td><td>33558</td><td>37506</td><td>41454</td><td>45402</td><td>49350</td><td>53298</td><td>57246</td><td>⋯</td><td>9836442</td><td>9840390</td><td>9844338</td><td>9848286</td><td>9852234</td><td>9856182</td><td>9860130</td><td>9864078</td><td>9868026</td><td>  20727</td></tr>\n",
       "\t<tr><td>22701</td><td>26649</td><td>30597</td><td>34545</td><td>38493</td><td>42441</td><td>46389</td><td>50337</td><td>54285</td><td>58233</td><td>⋯</td><td>9837429</td><td>9841377</td><td>9845325</td><td>9849273</td><td>9853221</td><td>9857169</td><td>9861117</td><td>9865065</td><td>9869013</td><td>  21714</td></tr>\n",
       "</tbody>\n",
       "</table>\n"
      ],
      "text/latex": [
       "A matrix: 4 × 2496 of type dbl\n",
       "\\begin{tabular}{lllllllllllllllllllll}\n",
       "\t 19740 & 23688 & 27636 & 31584 & 35532 & 39480 & 43428 & 47376 & 51324 & 55272 & ⋯ & 9834468 & 9838416 & 9842364 & 9846312 & 9850260 & 9854208 & 9858156 & 9862104 & 9866052 & 9870000\\\\\n",
       "\t 20727 & 24675 & 28623 & 32571 & 36519 & 40467 & 44415 & 48363 & 52311 & 56259 & ⋯ & 9835455 & 9839403 & 9843351 & 9847299 & 9851247 & 9855195 & 9859143 & 9863091 & 9867039 &   19740\\\\\n",
       "\t 21714 & 25662 & 29610 & 33558 & 37506 & 41454 & 45402 & 49350 & 53298 & 57246 & ⋯ & 9836442 & 9840390 & 9844338 & 9848286 & 9852234 & 9856182 & 9860130 & 9864078 & 9868026 &   20727\\\\\n",
       "\t 22701 & 26649 & 30597 & 34545 & 38493 & 42441 & 46389 & 50337 & 54285 & 58233 & ⋯ & 9837429 & 9841377 & 9845325 & 9849273 & 9853221 & 9857169 & 9861117 & 9865065 & 9869013 &   21714\\\\\n",
       "\\end{tabular}\n"
      ],
      "text/markdown": [
       "\n",
       "A matrix: 4 × 2496 of type dbl\n",
       "\n",
       "| 19740 | 23688 | 27636 | 31584 | 35532 | 39480 | 43428 | 47376 | 51324 | 55272 | ⋯ | 9834468 | 9838416 | 9842364 | 9846312 | 9850260 | 9854208 | 9858156 | 9862104 | 9866052 | 9870000 |\n",
       "| 20727 | 24675 | 28623 | 32571 | 36519 | 40467 | 44415 | 48363 | 52311 | 56259 | ⋯ | 9835455 | 9839403 | 9843351 | 9847299 | 9851247 | 9855195 | 9859143 | 9863091 | 9867039 |   19740 |\n",
       "| 21714 | 25662 | 29610 | 33558 | 37506 | 41454 | 45402 | 49350 | 53298 | 57246 | ⋯ | 9836442 | 9840390 | 9844338 | 9848286 | 9852234 | 9856182 | 9860130 | 9864078 | 9868026 |   20727 |\n",
       "| 22701 | 26649 | 30597 | 34545 | 38493 | 42441 | 46389 | 50337 | 54285 | 58233 | ⋯ | 9837429 | 9841377 | 9845325 | 9849273 | 9853221 | 9857169 | 9861117 | 9865065 | 9869013 |   21714 |\n",
       "\n"
      ],
      "text/plain": [
       "     [,1]  [,2]  [,3]  [,4]  [,5]  [,6]  [,7]  [,8]  [,9]  [,10] [,11] [,12]  \n",
       "[1,] 19740 23688 27636 31584 35532 39480 43428 47376 51324 55272 ⋯     9834468\n",
       "[2,] 20727 24675 28623 32571 36519 40467 44415 48363 52311 56259 ⋯     9835455\n",
       "[3,] 21714 25662 29610 33558 37506 41454 45402 49350 53298 57246 ⋯     9836442\n",
       "[4,] 22701 26649 30597 34545 38493 42441 46389 50337 54285 58233 ⋯     9837429\n",
       "     [,13]   [,14]   [,15]   [,16]   [,17]   [,18]   [,19]   [,20]   [,21]  \n",
       "[1,] 9838416 9842364 9846312 9850260 9854208 9858156 9862104 9866052 9870000\n",
       "[2,] 9839403 9843351 9847299 9851247 9855195 9859143 9863091 9867039   19740\n",
       "[3,] 9840390 9844338 9848286 9852234 9856182 9860130 9864078 9868026   20727\n",
       "[4,] 9841377 9845325 9849273 9853221 9857169 9861117 9865065 9869013   21714"
      ]
     },
     "metadata": {},
     "output_type": "display_data"
    }
   ],
   "source": [
    "b"
   ]
  },
  {
   "cell_type": "code",
   "execution_count": 68,
   "id": "4f7e525c",
   "metadata": {},
   "outputs": [
    {
     "data": {
      "text/html": [
       "'data.frame'"
      ],
      "text/latex": [
       "'data.frame'"
      ],
      "text/markdown": [
       "'data.frame'"
      ],
      "text/plain": [
       "[1] \"data.frame\""
      ]
     },
     "metadata": {},
     "output_type": "display_data"
    }
   ],
   "source": [
    "class(iris)"
   ]
  },
  {
   "cell_type": "code",
   "execution_count": 69,
   "id": "e01d5859",
   "metadata": {},
   "outputs": [
    {
     "data": {
      "text/html": [
       "<style>\n",
       ".list-inline {list-style: none; margin:0; padding: 0}\n",
       ".list-inline>li {display: inline-block}\n",
       ".list-inline>li:not(:last-child)::after {content: \"\\00b7\"; padding: 0 .5ex}\n",
       "</style>\n",
       "<ol class=list-inline><li>'matrix'</li><li>'array'</li></ol>\n"
      ],
      "text/latex": [
       "\\begin{enumerate*}\n",
       "\\item 'matrix'\n",
       "\\item 'array'\n",
       "\\end{enumerate*}\n"
      ],
      "text/markdown": [
       "1. 'matrix'\n",
       "2. 'array'\n",
       "\n",
       "\n"
      ],
      "text/plain": [
       "[1] \"matrix\" \"array\" "
      ]
     },
     "metadata": {},
     "output_type": "display_data"
    }
   ],
   "source": [
    "class(state.x77)"
   ]
  },
  {
   "cell_type": "code",
   "execution_count": 70,
   "id": "f741b861",
   "metadata": {},
   "outputs": [
    {
     "data": {
      "text/html": [
       "TRUE"
      ],
      "text/latex": [
       "TRUE"
      ],
      "text/markdown": [
       "TRUE"
      ],
      "text/plain": [
       "[1] TRUE"
      ]
     },
     "metadata": {},
     "output_type": "display_data"
    }
   ],
   "source": [
    "is.matrix(m)"
   ]
  },
  {
   "cell_type": "code",
   "execution_count": 71,
   "id": "a5cc1270",
   "metadata": {},
   "outputs": [
    {
     "data": {
      "text/html": [
       "FALSE"
      ],
      "text/latex": [
       "FALSE"
      ],
      "text/markdown": [
       "FALSE"
      ],
      "text/plain": [
       "[1] FALSE"
      ]
     },
     "metadata": {},
     "output_type": "display_data"
    }
   ],
   "source": [
    "is.data.frame(m)"
   ]
  },
  {
   "cell_type": "code",
   "execution_count": 72,
   "id": "c87f1787",
   "metadata": {},
   "outputs": [
    {
     "data": {
      "text/html": [
       "<style>\n",
       ".list-inline {list-style: none; margin:0; padding: 0}\n",
       ".list-inline>li {display: inline-block}\n",
       ".list-inline>li:not(:last-child)::after {content: \"\\00b7\"; padding: 0 .5ex}\n",
       "</style>\n",
       "<ol class=list-inline><li>'matrix'</li><li>'array'</li></ol>\n"
      ],
      "text/latex": [
       "\\begin{enumerate*}\n",
       "\\item 'matrix'\n",
       "\\item 'array'\n",
       "\\end{enumerate*}\n"
      ],
      "text/markdown": [
       "1. 'matrix'\n",
       "2. 'array'\n",
       "\n",
       "\n"
      ],
      "text/plain": [
       "[1] \"matrix\" \"array\" "
      ]
     },
     "metadata": {},
     "output_type": "display_data"
    }
   ],
   "source": [
    "class(m)"
   ]
  },
  {
   "cell_type": "code",
   "execution_count": 73,
   "id": "d64fb940",
   "metadata": {},
   "outputs": [
    {
     "data": {
      "text/html": [
       "<table class=\"dataframe\">\n",
       "<caption>A data.frame: 6 × 8</caption>\n",
       "<thead>\n",
       "\t<tr><th></th><th scope=col>Population</th><th scope=col>Income</th><th scope=col>Illiteracy</th><th scope=col>Life.Exp</th><th scope=col>Murder</th><th scope=col>HS.Grad</th><th scope=col>Frost</th><th scope=col>Area</th></tr>\n",
       "\t<tr><th></th><th scope=col>&lt;dbl&gt;</th><th scope=col>&lt;dbl&gt;</th><th scope=col>&lt;dbl&gt;</th><th scope=col>&lt;dbl&gt;</th><th scope=col>&lt;dbl&gt;</th><th scope=col>&lt;dbl&gt;</th><th scope=col>&lt;dbl&gt;</th><th scope=col>&lt;dbl&gt;</th></tr>\n",
       "</thead>\n",
       "<tbody>\n",
       "\t<tr><th scope=row>Alabama</th><td> 3615</td><td>3624</td><td>2.1</td><td>69.05</td><td>15.1</td><td>41.3</td><td> 20</td><td> 50708</td></tr>\n",
       "\t<tr><th scope=row>Alaska</th><td>  365</td><td>6315</td><td>1.5</td><td>69.31</td><td>11.3</td><td>66.7</td><td>152</td><td>566432</td></tr>\n",
       "\t<tr><th scope=row>Arizona</th><td> 2212</td><td>4530</td><td>1.8</td><td>70.55</td><td> 7.8</td><td>58.1</td><td> 15</td><td>113417</td></tr>\n",
       "\t<tr><th scope=row>Arkansas</th><td> 2110</td><td>3378</td><td>1.9</td><td>70.66</td><td>10.1</td><td>39.9</td><td> 65</td><td> 51945</td></tr>\n",
       "\t<tr><th scope=row>California</th><td>21198</td><td>5114</td><td>1.1</td><td>71.71</td><td>10.3</td><td>62.6</td><td> 20</td><td>156361</td></tr>\n",
       "\t<tr><th scope=row>Colorado</th><td> 2541</td><td>4884</td><td>0.7</td><td>72.06</td><td> 6.8</td><td>63.9</td><td>166</td><td>103766</td></tr>\n",
       "</tbody>\n",
       "</table>\n"
      ],
      "text/latex": [
       "A data.frame: 6 × 8\n",
       "\\begin{tabular}{r|llllllll}\n",
       "  & Population & Income & Illiteracy & Life.Exp & Murder & HS.Grad & Frost & Area\\\\\n",
       "  & <dbl> & <dbl> & <dbl> & <dbl> & <dbl> & <dbl> & <dbl> & <dbl>\\\\\n",
       "\\hline\n",
       "\tAlabama &  3615 & 3624 & 2.1 & 69.05 & 15.1 & 41.3 &  20 &  50708\\\\\n",
       "\tAlaska &   365 & 6315 & 1.5 & 69.31 & 11.3 & 66.7 & 152 & 566432\\\\\n",
       "\tArizona &  2212 & 4530 & 1.8 & 70.55 &  7.8 & 58.1 &  15 & 113417\\\\\n",
       "\tArkansas &  2110 & 3378 & 1.9 & 70.66 & 10.1 & 39.9 &  65 &  51945\\\\\n",
       "\tCalifornia & 21198 & 5114 & 1.1 & 71.71 & 10.3 & 62.6 &  20 & 156361\\\\\n",
       "\tColorado &  2541 & 4884 & 0.7 & 72.06 &  6.8 & 63.9 & 166 & 103766\\\\\n",
       "\\end{tabular}\n"
      ],
      "text/markdown": [
       "\n",
       "A data.frame: 6 × 8\n",
       "\n",
       "| <!--/--> | Population &lt;dbl&gt; | Income &lt;dbl&gt; | Illiteracy &lt;dbl&gt; | Life.Exp &lt;dbl&gt; | Murder &lt;dbl&gt; | HS.Grad &lt;dbl&gt; | Frost &lt;dbl&gt; | Area &lt;dbl&gt; |\n",
       "|---|---|---|---|---|---|---|---|---|\n",
       "| Alabama |  3615 | 3624 | 2.1 | 69.05 | 15.1 | 41.3 |  20 |  50708 |\n",
       "| Alaska |   365 | 6315 | 1.5 | 69.31 | 11.3 | 66.7 | 152 | 566432 |\n",
       "| Arizona |  2212 | 4530 | 1.8 | 70.55 |  7.8 | 58.1 |  15 | 113417 |\n",
       "| Arkansas |  2110 | 3378 | 1.9 | 70.66 | 10.1 | 39.9 |  65 |  51945 |\n",
       "| California | 21198 | 5114 | 1.1 | 71.71 | 10.3 | 62.6 |  20 | 156361 |\n",
       "| Colorado |  2541 | 4884 | 0.7 | 72.06 |  6.8 | 63.9 | 166 | 103766 |\n",
       "\n"
      ],
      "text/plain": [
       "           Population Income Illiteracy Life.Exp Murder HS.Grad Frost Area  \n",
       "Alabama     3615      3624   2.1        69.05    15.1   41.3     20    50708\n",
       "Alaska       365      6315   1.5        69.31    11.3   66.7    152   566432\n",
       "Arizona     2212      4530   1.8        70.55     7.8   58.1     15   113417\n",
       "Arkansas    2110      3378   1.9        70.66    10.1   39.9     65    51945\n",
       "California 21198      5114   1.1        71.71    10.3   62.6     20   156361\n",
       "Colorado    2541      4884   0.7        72.06     6.8   63.9    166   103766"
      ]
     },
     "metadata": {},
     "output_type": "display_data"
    },
    {
     "data": {
      "text/html": [
       "'data.frame'"
      ],
      "text/latex": [
       "'data.frame'"
      ],
      "text/markdown": [
       "'data.frame'"
      ],
      "text/plain": [
       "[1] \"data.frame\""
      ]
     },
     "metadata": {},
     "output_type": "display_data"
    }
   ],
   "source": [
    "st <- data.frame(state.x77)\n",
    "head(st)\n",
    "class(st)"
   ]
  },
  {
   "cell_type": "code",
   "execution_count": 74,
   "id": "e3a4236d",
   "metadata": {},
   "outputs": [
    {
     "data": {
      "text/html": [
       "<table class=\"dataframe\">\n",
       "<caption>A matrix: 6 × 5 of type chr</caption>\n",
       "<thead>\n",
       "\t<tr><th scope=col>Sepal.Length</th><th scope=col>Sepal.Width</th><th scope=col>Petal.Length</th><th scope=col>Petal.Width</th><th scope=col>Species</th></tr>\n",
       "</thead>\n",
       "<tbody>\n",
       "\t<tr><td>5.1</td><td>3.5</td><td>1.4</td><td>0.2</td><td>setosa</td></tr>\n",
       "\t<tr><td>4.9</td><td>3.0</td><td>1.4</td><td>0.2</td><td>setosa</td></tr>\n",
       "\t<tr><td>4.7</td><td>3.2</td><td>1.3</td><td>0.2</td><td>setosa</td></tr>\n",
       "\t<tr><td>4.6</td><td>3.1</td><td>1.5</td><td>0.2</td><td>setosa</td></tr>\n",
       "\t<tr><td>5.0</td><td>3.6</td><td>1.4</td><td>0.2</td><td>setosa</td></tr>\n",
       "\t<tr><td>5.4</td><td>3.9</td><td>1.7</td><td>0.4</td><td>setosa</td></tr>\n",
       "</tbody>\n",
       "</table>\n"
      ],
      "text/latex": [
       "A matrix: 6 × 5 of type chr\n",
       "\\begin{tabular}{lllll}\n",
       " Sepal.Length & Sepal.Width & Petal.Length & Petal.Width & Species\\\\\n",
       "\\hline\n",
       "\t 5.1 & 3.5 & 1.4 & 0.2 & setosa\\\\\n",
       "\t 4.9 & 3.0 & 1.4 & 0.2 & setosa\\\\\n",
       "\t 4.7 & 3.2 & 1.3 & 0.2 & setosa\\\\\n",
       "\t 4.6 & 3.1 & 1.5 & 0.2 & setosa\\\\\n",
       "\t 5.0 & 3.6 & 1.4 & 0.2 & setosa\\\\\n",
       "\t 5.4 & 3.9 & 1.7 & 0.4 & setosa\\\\\n",
       "\\end{tabular}\n"
      ],
      "text/markdown": [
       "\n",
       "A matrix: 6 × 5 of type chr\n",
       "\n",
       "| Sepal.Length | Sepal.Width | Petal.Length | Petal.Width | Species |\n",
       "|---|---|---|---|---|\n",
       "| 5.1 | 3.5 | 1.4 | 0.2 | setosa |\n",
       "| 4.9 | 3.0 | 1.4 | 0.2 | setosa |\n",
       "| 4.7 | 3.2 | 1.3 | 0.2 | setosa |\n",
       "| 4.6 | 3.1 | 1.5 | 0.2 | setosa |\n",
       "| 5.0 | 3.6 | 1.4 | 0.2 | setosa |\n",
       "| 5.4 | 3.9 | 1.7 | 0.4 | setosa |\n",
       "\n"
      ],
      "text/plain": [
       "     Sepal.Length Sepal.Width Petal.Length Petal.Width Species\n",
       "[1,] 5.1          3.5         1.4          0.2         setosa \n",
       "[2,] 4.9          3.0         1.4          0.2         setosa \n",
       "[3,] 4.7          3.2         1.3          0.2         setosa \n",
       "[4,] 4.6          3.1         1.5          0.2         setosa \n",
       "[5,] 5.0          3.6         1.4          0.2         setosa \n",
       "[6,] 5.4          3.9         1.7          0.4         setosa "
      ]
     },
     "metadata": {},
     "output_type": "display_data"
    }
   ],
   "source": [
    "iris.m <- as.matrix(iris)\n",
    "head(iris.m)"
   ]
  },
  {
   "cell_type": "code",
   "execution_count": 75,
   "id": "7570d355",
   "metadata": {},
   "outputs": [
    {
     "data": {
      "text/html": [
       "'data.frame'"
      ],
      "text/latex": [
       "'data.frame'"
      ],
      "text/markdown": [
       "'data.frame'"
      ],
      "text/plain": [
       "[1] \"data.frame\""
      ]
     },
     "metadata": {},
     "output_type": "display_data"
    }
   ],
   "source": [
    "class(trees)"
   ]
  },
  {
   "cell_type": "code",
   "execution_count": 76,
   "id": "49bb4436",
   "metadata": {},
   "outputs": [
    {
     "data": {
      "text/html": [
       "<table class=\"dataframe\">\n",
       "<caption>A data.frame: 31 × 3</caption>\n",
       "<thead>\n",
       "\t<tr><th scope=col>Girth</th><th scope=col>Height</th><th scope=col>Volume</th></tr>\n",
       "\t<tr><th scope=col>&lt;dbl&gt;</th><th scope=col>&lt;dbl&gt;</th><th scope=col>&lt;dbl&gt;</th></tr>\n",
       "</thead>\n",
       "<tbody>\n",
       "\t<tr><td> 8.3</td><td>70</td><td>10.3</td></tr>\n",
       "\t<tr><td> 8.6</td><td>65</td><td>10.3</td></tr>\n",
       "\t<tr><td> 8.8</td><td>63</td><td>10.2</td></tr>\n",
       "\t<tr><td>10.5</td><td>72</td><td>16.4</td></tr>\n",
       "\t<tr><td>10.7</td><td>81</td><td>18.8</td></tr>\n",
       "\t<tr><td>10.8</td><td>83</td><td>19.7</td></tr>\n",
       "\t<tr><td>11.0</td><td>66</td><td>15.6</td></tr>\n",
       "\t<tr><td>11.0</td><td>75</td><td>18.2</td></tr>\n",
       "\t<tr><td>11.1</td><td>80</td><td>22.6</td></tr>\n",
       "\t<tr><td>11.2</td><td>75</td><td>19.9</td></tr>\n",
       "\t<tr><td>11.3</td><td>79</td><td>24.2</td></tr>\n",
       "\t<tr><td>11.4</td><td>76</td><td>21.0</td></tr>\n",
       "\t<tr><td>11.4</td><td>76</td><td>21.4</td></tr>\n",
       "\t<tr><td>11.7</td><td>69</td><td>21.3</td></tr>\n",
       "\t<tr><td>12.0</td><td>75</td><td>19.1</td></tr>\n",
       "\t<tr><td>12.9</td><td>74</td><td>22.2</td></tr>\n",
       "\t<tr><td>12.9</td><td>85</td><td>33.8</td></tr>\n",
       "\t<tr><td>13.3</td><td>86</td><td>27.4</td></tr>\n",
       "\t<tr><td>13.7</td><td>71</td><td>25.7</td></tr>\n",
       "\t<tr><td>13.8</td><td>64</td><td>24.9</td></tr>\n",
       "\t<tr><td>14.0</td><td>78</td><td>34.5</td></tr>\n",
       "\t<tr><td>14.2</td><td>80</td><td>31.7</td></tr>\n",
       "\t<tr><td>14.5</td><td>74</td><td>36.3</td></tr>\n",
       "\t<tr><td>16.0</td><td>72</td><td>38.3</td></tr>\n",
       "\t<tr><td>16.3</td><td>77</td><td>42.6</td></tr>\n",
       "\t<tr><td>17.3</td><td>81</td><td>55.4</td></tr>\n",
       "\t<tr><td>17.5</td><td>82</td><td>55.7</td></tr>\n",
       "\t<tr><td>17.9</td><td>80</td><td>58.3</td></tr>\n",
       "\t<tr><td>18.0</td><td>80</td><td>51.5</td></tr>\n",
       "\t<tr><td>18.0</td><td>80</td><td>51.0</td></tr>\n",
       "\t<tr><td>20.6</td><td>87</td><td>77.0</td></tr>\n",
       "</tbody>\n",
       "</table>\n"
      ],
      "text/latex": [
       "A data.frame: 31 × 3\n",
       "\\begin{tabular}{lll}\n",
       " Girth & Height & Volume\\\\\n",
       " <dbl> & <dbl> & <dbl>\\\\\n",
       "\\hline\n",
       "\t  8.3 & 70 & 10.3\\\\\n",
       "\t  8.6 & 65 & 10.3\\\\\n",
       "\t  8.8 & 63 & 10.2\\\\\n",
       "\t 10.5 & 72 & 16.4\\\\\n",
       "\t 10.7 & 81 & 18.8\\\\\n",
       "\t 10.8 & 83 & 19.7\\\\\n",
       "\t 11.0 & 66 & 15.6\\\\\n",
       "\t 11.0 & 75 & 18.2\\\\\n",
       "\t 11.1 & 80 & 22.6\\\\\n",
       "\t 11.2 & 75 & 19.9\\\\\n",
       "\t 11.3 & 79 & 24.2\\\\\n",
       "\t 11.4 & 76 & 21.0\\\\\n",
       "\t 11.4 & 76 & 21.4\\\\\n",
       "\t 11.7 & 69 & 21.3\\\\\n",
       "\t 12.0 & 75 & 19.1\\\\\n",
       "\t 12.9 & 74 & 22.2\\\\\n",
       "\t 12.9 & 85 & 33.8\\\\\n",
       "\t 13.3 & 86 & 27.4\\\\\n",
       "\t 13.7 & 71 & 25.7\\\\\n",
       "\t 13.8 & 64 & 24.9\\\\\n",
       "\t 14.0 & 78 & 34.5\\\\\n",
       "\t 14.2 & 80 & 31.7\\\\\n",
       "\t 14.5 & 74 & 36.3\\\\\n",
       "\t 16.0 & 72 & 38.3\\\\\n",
       "\t 16.3 & 77 & 42.6\\\\\n",
       "\t 17.3 & 81 & 55.4\\\\\n",
       "\t 17.5 & 82 & 55.7\\\\\n",
       "\t 17.9 & 80 & 58.3\\\\\n",
       "\t 18.0 & 80 & 51.5\\\\\n",
       "\t 18.0 & 80 & 51.0\\\\\n",
       "\t 20.6 & 87 & 77.0\\\\\n",
       "\\end{tabular}\n"
      ],
      "text/markdown": [
       "\n",
       "A data.frame: 31 × 3\n",
       "\n",
       "| Girth &lt;dbl&gt; | Height &lt;dbl&gt; | Volume &lt;dbl&gt; |\n",
       "|---|---|---|\n",
       "|  8.3 | 70 | 10.3 |\n",
       "|  8.6 | 65 | 10.3 |\n",
       "|  8.8 | 63 | 10.2 |\n",
       "| 10.5 | 72 | 16.4 |\n",
       "| 10.7 | 81 | 18.8 |\n",
       "| 10.8 | 83 | 19.7 |\n",
       "| 11.0 | 66 | 15.6 |\n",
       "| 11.0 | 75 | 18.2 |\n",
       "| 11.1 | 80 | 22.6 |\n",
       "| 11.2 | 75 | 19.9 |\n",
       "| 11.3 | 79 | 24.2 |\n",
       "| 11.4 | 76 | 21.0 |\n",
       "| 11.4 | 76 | 21.4 |\n",
       "| 11.7 | 69 | 21.3 |\n",
       "| 12.0 | 75 | 19.1 |\n",
       "| 12.9 | 74 | 22.2 |\n",
       "| 12.9 | 85 | 33.8 |\n",
       "| 13.3 | 86 | 27.4 |\n",
       "| 13.7 | 71 | 25.7 |\n",
       "| 13.8 | 64 | 24.9 |\n",
       "| 14.0 | 78 | 34.5 |\n",
       "| 14.2 | 80 | 31.7 |\n",
       "| 14.5 | 74 | 36.3 |\n",
       "| 16.0 | 72 | 38.3 |\n",
       "| 16.3 | 77 | 42.6 |\n",
       "| 17.3 | 81 | 55.4 |\n",
       "| 17.5 | 82 | 55.7 |\n",
       "| 17.9 | 80 | 58.3 |\n",
       "| 18.0 | 80 | 51.5 |\n",
       "| 18.0 | 80 | 51.0 |\n",
       "| 20.6 | 87 | 77.0 |\n",
       "\n"
      ],
      "text/plain": [
       "   Girth Height Volume\n",
       "1   8.3  70     10.3  \n",
       "2   8.6  65     10.3  \n",
       "3   8.8  63     10.2  \n",
       "4  10.5  72     16.4  \n",
       "5  10.7  81     18.8  \n",
       "6  10.8  83     19.7  \n",
       "7  11.0  66     15.6  \n",
       "8  11.0  75     18.2  \n",
       "9  11.1  80     22.6  \n",
       "10 11.2  75     19.9  \n",
       "11 11.3  79     24.2  \n",
       "12 11.4  76     21.0  \n",
       "13 11.4  76     21.4  \n",
       "14 11.7  69     21.3  \n",
       "15 12.0  75     19.1  \n",
       "16 12.9  74     22.2  \n",
       "17 12.9  85     33.8  \n",
       "18 13.3  86     27.4  \n",
       "19 13.7  71     25.7  \n",
       "20 13.8  64     24.9  \n",
       "21 14.0  78     34.5  \n",
       "22 14.2  80     31.7  \n",
       "23 14.5  74     36.3  \n",
       "24 16.0  72     38.3  \n",
       "25 16.3  77     42.6  \n",
       "26 17.3  81     55.4  \n",
       "27 17.5  82     55.7  \n",
       "28 17.9  80     58.3  \n",
       "29 18.0  80     51.5  \n",
       "30 18.0  80     51.0  \n",
       "31 20.6  87     77.0  "
      ]
     },
     "metadata": {},
     "output_type": "display_data"
    }
   ],
   "source": [
    "trees"
   ]
  },
  {
   "cell_type": "code",
   "execution_count": 77,
   "id": "ea027c01",
   "metadata": {},
   "outputs": [],
   "source": [
    "df = trees"
   ]
  },
  {
   "cell_type": "code",
   "execution_count": 78,
   "id": "fd122ee4",
   "metadata": {},
   "outputs": [
    {
     "data": {
      "text/html": [
       "<table class=\"dataframe\">\n",
       "<caption>A data.frame: 6 × 3</caption>\n",
       "<thead>\n",
       "\t<tr><th></th><th scope=col>Girth</th><th scope=col>Height</th><th scope=col>Volume</th></tr>\n",
       "\t<tr><th></th><th scope=col>&lt;dbl&gt;</th><th scope=col>&lt;dbl&gt;</th><th scope=col>&lt;dbl&gt;</th></tr>\n",
       "</thead>\n",
       "<tbody>\n",
       "\t<tr><th scope=row>1</th><td> 8.3</td><td>70</td><td>10.3</td></tr>\n",
       "\t<tr><th scope=row>2</th><td> 8.6</td><td>65</td><td>10.3</td></tr>\n",
       "\t<tr><th scope=row>3</th><td> 8.8</td><td>63</td><td>10.2</td></tr>\n",
       "\t<tr><th scope=row>4</th><td>10.5</td><td>72</td><td>16.4</td></tr>\n",
       "\t<tr><th scope=row>5</th><td>10.7</td><td>81</td><td>18.8</td></tr>\n",
       "\t<tr><th scope=row>6</th><td>10.8</td><td>83</td><td>19.7</td></tr>\n",
       "</tbody>\n",
       "</table>\n"
      ],
      "text/latex": [
       "A data.frame: 6 × 3\n",
       "\\begin{tabular}{r|lll}\n",
       "  & Girth & Height & Volume\\\\\n",
       "  & <dbl> & <dbl> & <dbl>\\\\\n",
       "\\hline\n",
       "\t1 &  8.3 & 70 & 10.3\\\\\n",
       "\t2 &  8.6 & 65 & 10.3\\\\\n",
       "\t3 &  8.8 & 63 & 10.2\\\\\n",
       "\t4 & 10.5 & 72 & 16.4\\\\\n",
       "\t5 & 10.7 & 81 & 18.8\\\\\n",
       "\t6 & 10.8 & 83 & 19.7\\\\\n",
       "\\end{tabular}\n"
      ],
      "text/markdown": [
       "\n",
       "A data.frame: 6 × 3\n",
       "\n",
       "| <!--/--> | Girth &lt;dbl&gt; | Height &lt;dbl&gt; | Volume &lt;dbl&gt; |\n",
       "|---|---|---|---|\n",
       "| 1 |  8.3 | 70 | 10.3 |\n",
       "| 2 |  8.6 | 65 | 10.3 |\n",
       "| 3 |  8.8 | 63 | 10.2 |\n",
       "| 4 | 10.5 | 72 | 16.4 |\n",
       "| 5 | 10.7 | 81 | 18.8 |\n",
       "| 6 | 10.8 | 83 | 19.7 |\n",
       "\n"
      ],
      "text/plain": [
       "  Girth Height Volume\n",
       "1  8.3  70     10.3  \n",
       "2  8.6  65     10.3  \n",
       "3  8.8  63     10.2  \n",
       "4 10.5  72     16.4  \n",
       "5 10.7  81     18.8  \n",
       "6 10.8  83     19.7  "
      ]
     },
     "metadata": {},
     "output_type": "display_data"
    }
   ],
   "source": [
    "head(df)"
   ]
  },
  {
   "cell_type": "code",
   "execution_count": 80,
   "id": "ad227bfc",
   "metadata": {},
   "outputs": [
    {
     "name": "stderr",
     "output_type": "stream",
     "text": [
      "Warning message in mean.default(df[\"Girth\"]):\n",
      "\"argument is not numeric or logical: returning NA\"\n"
     ]
    },
    {
     "data": {
      "text/html": [
       "<table class=\"dataframe\">\n",
       "<caption>A data.frame: 3 × 3</caption>\n",
       "<thead>\n",
       "\t<tr><th></th><th scope=col>Girth</th><th scope=col>Height</th><th scope=col>Volume</th></tr>\n",
       "\t<tr><th></th><th scope=col>&lt;dbl&gt;</th><th scope=col>&lt;dbl&gt;</th><th scope=col>&lt;dbl&gt;</th></tr>\n",
       "</thead>\n",
       "<tbody>\n",
       "\t<tr><th scope=row>NA</th><td>NA</td><td>NA</td><td>NA</td></tr>\n",
       "\t<tr><th scope=row>NA.1</th><td>NA</td><td>NA</td><td>NA</td></tr>\n",
       "\t<tr><th scope=row>NA.2</th><td>NA</td><td>NA</td><td>NA</td></tr>\n",
       "</tbody>\n",
       "</table>\n"
      ],
      "text/latex": [
       "A data.frame: 3 × 3\n",
       "\\begin{tabular}{r|lll}\n",
       "  & Girth & Height & Volume\\\\\n",
       "  & <dbl> & <dbl> & <dbl>\\\\\n",
       "\\hline\n",
       "\tNA & NA & NA & NA\\\\\n",
       "\tNA.1 & NA & NA & NA\\\\\n",
       "\tNA.2 & NA & NA & NA\\\\\n",
       "\\end{tabular}\n"
      ],
      "text/markdown": [
       "\n",
       "A data.frame: 3 × 3\n",
       "\n",
       "| <!--/--> | Girth &lt;dbl&gt; | Height &lt;dbl&gt; | Volume &lt;dbl&gt; |\n",
       "|---|---|---|---|\n",
       "| NA | NA | NA | NA |\n",
       "| NA.1 | NA | NA | NA |\n",
       "| NA.2 | NA | NA | NA |\n",
       "\n"
      ],
      "text/plain": [
       "     Girth Height Volume\n",
       "NA   NA    NA     NA    \n",
       "NA.1 NA    NA     NA    \n",
       "NA.2 NA    NA     NA    "
      ]
     },
     "metadata": {},
     "output_type": "display_data"
    }
   ],
   "source": [
    "df[df['Girth'] > mean(df['Girth']) & df['Height'] > 80 & df['Volume'] > 50, ]"
   ]
  },
  {
   "cell_type": "code",
   "execution_count": 84,
   "id": "bcdb7174",
   "metadata": {},
   "outputs": [
    {
     "data": {
      "text/html": [
       "<style>\n",
       ".list-inline {list-style: none; margin:0; padding: 0}\n",
       ".list-inline>li {display: inline-block}\n",
       ".list-inline>li:not(:last-child)::after {content: \"\\00b7\"; padding: 0 .5ex}\n",
       "</style>\n",
       "<ol class=list-inline><li>'Girth'</li><li>'Height'</li><li>'Volume'</li></ol>\n"
      ],
      "text/latex": [
       "\\begin{enumerate*}\n",
       "\\item 'Girth'\n",
       "\\item 'Height'\n",
       "\\item 'Volume'\n",
       "\\end{enumerate*}\n"
      ],
      "text/markdown": [
       "1. 'Girth'\n",
       "2. 'Height'\n",
       "3. 'Volume'\n",
       "\n",
       "\n"
      ],
      "text/plain": [
       "[1] \"Girth\"  \"Height\" \"Volume\""
      ]
     },
     "metadata": {},
     "output_type": "display_data"
    }
   ],
   "source": [
    "colnames(df)"
   ]
  },
  {
   "cell_type": "code",
   "execution_count": 87,
   "id": "c7716164",
   "metadata": {},
   "outputs": [
    {
     "data": {
      "text/html": [
       "15"
      ],
      "text/latex": [
       "15"
      ],
      "text/markdown": [
       "15"
      ],
      "text/plain": [
       "[1] 15"
      ]
     },
     "metadata": {},
     "output_type": "display_data"
    }
   ],
   "source": [
    "mean(c(10, 20))"
   ]
  },
  {
   "cell_type": "code",
   "execution_count": 88,
   "id": "983d973e",
   "metadata": {},
   "outputs": [
    {
     "data": {
      "text/html": [
       "<table class=\"dataframe\">\n",
       "<caption>A data.frame: 31 × 1</caption>\n",
       "<thead>\n",
       "\t<tr><th scope=col>Girth</th></tr>\n",
       "\t<tr><th scope=col>&lt;dbl&gt;</th></tr>\n",
       "</thead>\n",
       "<tbody>\n",
       "\t<tr><td> 8.3</td></tr>\n",
       "\t<tr><td> 8.6</td></tr>\n",
       "\t<tr><td> 8.8</td></tr>\n",
       "\t<tr><td>10.5</td></tr>\n",
       "\t<tr><td>10.7</td></tr>\n",
       "\t<tr><td>10.8</td></tr>\n",
       "\t<tr><td>11.0</td></tr>\n",
       "\t<tr><td>11.0</td></tr>\n",
       "\t<tr><td>11.1</td></tr>\n",
       "\t<tr><td>11.2</td></tr>\n",
       "\t<tr><td>11.3</td></tr>\n",
       "\t<tr><td>11.4</td></tr>\n",
       "\t<tr><td>11.4</td></tr>\n",
       "\t<tr><td>11.7</td></tr>\n",
       "\t<tr><td>12.0</td></tr>\n",
       "\t<tr><td>12.9</td></tr>\n",
       "\t<tr><td>12.9</td></tr>\n",
       "\t<tr><td>13.3</td></tr>\n",
       "\t<tr><td>13.7</td></tr>\n",
       "\t<tr><td>13.8</td></tr>\n",
       "\t<tr><td>14.0</td></tr>\n",
       "\t<tr><td>14.2</td></tr>\n",
       "\t<tr><td>14.5</td></tr>\n",
       "\t<tr><td>16.0</td></tr>\n",
       "\t<tr><td>16.3</td></tr>\n",
       "\t<tr><td>17.3</td></tr>\n",
       "\t<tr><td>17.5</td></tr>\n",
       "\t<tr><td>17.9</td></tr>\n",
       "\t<tr><td>18.0</td></tr>\n",
       "\t<tr><td>18.0</td></tr>\n",
       "\t<tr><td>20.6</td></tr>\n",
       "</tbody>\n",
       "</table>\n"
      ],
      "text/latex": [
       "A data.frame: 31 × 1\n",
       "\\begin{tabular}{l}\n",
       " Girth\\\\\n",
       " <dbl>\\\\\n",
       "\\hline\n",
       "\t  8.3\\\\\n",
       "\t  8.6\\\\\n",
       "\t  8.8\\\\\n",
       "\t 10.5\\\\\n",
       "\t 10.7\\\\\n",
       "\t 10.8\\\\\n",
       "\t 11.0\\\\\n",
       "\t 11.0\\\\\n",
       "\t 11.1\\\\\n",
       "\t 11.2\\\\\n",
       "\t 11.3\\\\\n",
       "\t 11.4\\\\\n",
       "\t 11.4\\\\\n",
       "\t 11.7\\\\\n",
       "\t 12.0\\\\\n",
       "\t 12.9\\\\\n",
       "\t 12.9\\\\\n",
       "\t 13.3\\\\\n",
       "\t 13.7\\\\\n",
       "\t 13.8\\\\\n",
       "\t 14.0\\\\\n",
       "\t 14.2\\\\\n",
       "\t 14.5\\\\\n",
       "\t 16.0\\\\\n",
       "\t 16.3\\\\\n",
       "\t 17.3\\\\\n",
       "\t 17.5\\\\\n",
       "\t 17.9\\\\\n",
       "\t 18.0\\\\\n",
       "\t 18.0\\\\\n",
       "\t 20.6\\\\\n",
       "\\end{tabular}\n"
      ],
      "text/markdown": [
       "\n",
       "A data.frame: 31 × 1\n",
       "\n",
       "| Girth &lt;dbl&gt; |\n",
       "|---|\n",
       "|  8.3 |\n",
       "|  8.6 |\n",
       "|  8.8 |\n",
       "| 10.5 |\n",
       "| 10.7 |\n",
       "| 10.8 |\n",
       "| 11.0 |\n",
       "| 11.0 |\n",
       "| 11.1 |\n",
       "| 11.2 |\n",
       "| 11.3 |\n",
       "| 11.4 |\n",
       "| 11.4 |\n",
       "| 11.7 |\n",
       "| 12.0 |\n",
       "| 12.9 |\n",
       "| 12.9 |\n",
       "| 13.3 |\n",
       "| 13.7 |\n",
       "| 13.8 |\n",
       "| 14.0 |\n",
       "| 14.2 |\n",
       "| 14.5 |\n",
       "| 16.0 |\n",
       "| 16.3 |\n",
       "| 17.3 |\n",
       "| 17.5 |\n",
       "| 17.9 |\n",
       "| 18.0 |\n",
       "| 18.0 |\n",
       "| 20.6 |\n",
       "\n"
      ],
      "text/plain": [
       "   Girth\n",
       "1   8.3 \n",
       "2   8.6 \n",
       "3   8.8 \n",
       "4  10.5 \n",
       "5  10.7 \n",
       "6  10.8 \n",
       "7  11.0 \n",
       "8  11.0 \n",
       "9  11.1 \n",
       "10 11.2 \n",
       "11 11.3 \n",
       "12 11.4 \n",
       "13 11.4 \n",
       "14 11.7 \n",
       "15 12.0 \n",
       "16 12.9 \n",
       "17 12.9 \n",
       "18 13.3 \n",
       "19 13.7 \n",
       "20 13.8 \n",
       "21 14.0 \n",
       "22 14.2 \n",
       "23 14.5 \n",
       "24 16.0 \n",
       "25 16.3 \n",
       "26 17.3 \n",
       "27 17.5 \n",
       "28 17.9 \n",
       "29 18.0 \n",
       "30 18.0 \n",
       "31 20.6 "
      ]
     },
     "metadata": {},
     "output_type": "display_data"
    }
   ],
   "source": [
    "df['Girth']"
   ]
  },
  {
   "cell_type": "code",
   "execution_count": 92,
   "id": "742c0e00",
   "metadata": {},
   "outputs": [
    {
     "name": "stderr",
     "output_type": "stream",
     "text": [
      "Warning message in mean.default(df[\"Girth\"]):\n",
      "\"argument is not numeric or logical: returning NA\"\n"
     ]
    },
    {
     "data": {
      "text/html": [
       "&lt;NA&gt;"
      ],
      "text/latex": [
       "<NA>"
      ],
      "text/markdown": [
       "&lt;NA&gt;"
      ],
      "text/plain": [
       "[1] NA"
      ]
     },
     "metadata": {},
     "output_type": "display_data"
    }
   ],
   "source": [
    "mean(df['Girth'])"
   ]
  },
  {
   "cell_type": "code",
   "execution_count": 85,
   "id": "5547e8be",
   "metadata": {},
   "outputs": [
    {
     "name": "stderr",
     "output_type": "stream",
     "text": [
      "Warning message in mean.default(df[\"Girth\"]):\n",
      "\"argument is not numeric or logical: returning NA\"\n"
     ]
    },
    {
     "data": {
      "text/html": [
       "&lt;NA&gt;"
      ],
      "text/latex": [
       "<NA>"
      ],
      "text/markdown": [
       "&lt;NA&gt;"
      ],
      "text/plain": [
       "[1] NA"
      ]
     },
     "metadata": {},
     "output_type": "display_data"
    }
   ],
   "source": [
    "mean(df['Girth'])"
   ]
  },
  {
   "cell_type": "code",
   "execution_count": 82,
   "id": "40606d6b",
   "metadata": {},
   "outputs": [
    {
     "name": "stderr",
     "output_type": "stream",
     "text": [
      "Warning message in mean.default(df[\"Girth\"]):\n",
      "\"argument is not numeric or logical: returning NA\"\n"
     ]
    },
    {
     "data": {
      "text/html": [
       "<table class=\"dataframe\">\n",
       "<caption>A data.frame: 31 × 3</caption>\n",
       "<thead>\n",
       "\t<tr><th></th><th scope=col>Girth</th><th scope=col>Height</th><th scope=col>Volume</th></tr>\n",
       "\t<tr><th></th><th scope=col>&lt;dbl&gt;</th><th scope=col>&lt;dbl&gt;</th><th scope=col>&lt;dbl&gt;</th></tr>\n",
       "</thead>\n",
       "<tbody>\n",
       "\t<tr><th scope=row>NA</th><td>NA</td><td>NA</td><td>NA</td></tr>\n",
       "\t<tr><th scope=row>NA.1</th><td>NA</td><td>NA</td><td>NA</td></tr>\n",
       "\t<tr><th scope=row>NA.2</th><td>NA</td><td>NA</td><td>NA</td></tr>\n",
       "\t<tr><th scope=row>NA.3</th><td>NA</td><td>NA</td><td>NA</td></tr>\n",
       "\t<tr><th scope=row>NA.4</th><td>NA</td><td>NA</td><td>NA</td></tr>\n",
       "\t<tr><th scope=row>NA.5</th><td>NA</td><td>NA</td><td>NA</td></tr>\n",
       "\t<tr><th scope=row>NA.6</th><td>NA</td><td>NA</td><td>NA</td></tr>\n",
       "\t<tr><th scope=row>NA.7</th><td>NA</td><td>NA</td><td>NA</td></tr>\n",
       "\t<tr><th scope=row>NA.8</th><td>NA</td><td>NA</td><td>NA</td></tr>\n",
       "\t<tr><th scope=row>NA.9</th><td>NA</td><td>NA</td><td>NA</td></tr>\n",
       "\t<tr><th scope=row>NA.10</th><td>NA</td><td>NA</td><td>NA</td></tr>\n",
       "\t<tr><th scope=row>NA.11</th><td>NA</td><td>NA</td><td>NA</td></tr>\n",
       "\t<tr><th scope=row>NA.12</th><td>NA</td><td>NA</td><td>NA</td></tr>\n",
       "\t<tr><th scope=row>NA.13</th><td>NA</td><td>NA</td><td>NA</td></tr>\n",
       "\t<tr><th scope=row>NA.14</th><td>NA</td><td>NA</td><td>NA</td></tr>\n",
       "\t<tr><th scope=row>NA.15</th><td>NA</td><td>NA</td><td>NA</td></tr>\n",
       "\t<tr><th scope=row>NA.16</th><td>NA</td><td>NA</td><td>NA</td></tr>\n",
       "\t<tr><th scope=row>NA.17</th><td>NA</td><td>NA</td><td>NA</td></tr>\n",
       "\t<tr><th scope=row>NA.18</th><td>NA</td><td>NA</td><td>NA</td></tr>\n",
       "\t<tr><th scope=row>NA.19</th><td>NA</td><td>NA</td><td>NA</td></tr>\n",
       "\t<tr><th scope=row>NA.20</th><td>NA</td><td>NA</td><td>NA</td></tr>\n",
       "\t<tr><th scope=row>NA.21</th><td>NA</td><td>NA</td><td>NA</td></tr>\n",
       "\t<tr><th scope=row>NA.22</th><td>NA</td><td>NA</td><td>NA</td></tr>\n",
       "\t<tr><th scope=row>NA.23</th><td>NA</td><td>NA</td><td>NA</td></tr>\n",
       "\t<tr><th scope=row>NA.24</th><td>NA</td><td>NA</td><td>NA</td></tr>\n",
       "\t<tr><th scope=row>NA.25</th><td>NA</td><td>NA</td><td>NA</td></tr>\n",
       "\t<tr><th scope=row>NA.26</th><td>NA</td><td>NA</td><td>NA</td></tr>\n",
       "\t<tr><th scope=row>NA.27</th><td>NA</td><td>NA</td><td>NA</td></tr>\n",
       "\t<tr><th scope=row>NA.28</th><td>NA</td><td>NA</td><td>NA</td></tr>\n",
       "\t<tr><th scope=row>NA.29</th><td>NA</td><td>NA</td><td>NA</td></tr>\n",
       "\t<tr><th scope=row>NA.30</th><td>NA</td><td>NA</td><td>NA</td></tr>\n",
       "</tbody>\n",
       "</table>\n"
      ],
      "text/latex": [
       "A data.frame: 31 × 3\n",
       "\\begin{tabular}{r|lll}\n",
       "  & Girth & Height & Volume\\\\\n",
       "  & <dbl> & <dbl> & <dbl>\\\\\n",
       "\\hline\n",
       "\tNA & NA & NA & NA\\\\\n",
       "\tNA.1 & NA & NA & NA\\\\\n",
       "\tNA.2 & NA & NA & NA\\\\\n",
       "\tNA.3 & NA & NA & NA\\\\\n",
       "\tNA.4 & NA & NA & NA\\\\\n",
       "\tNA.5 & NA & NA & NA\\\\\n",
       "\tNA.6 & NA & NA & NA\\\\\n",
       "\tNA.7 & NA & NA & NA\\\\\n",
       "\tNA.8 & NA & NA & NA\\\\\n",
       "\tNA.9 & NA & NA & NA\\\\\n",
       "\tNA.10 & NA & NA & NA\\\\\n",
       "\tNA.11 & NA & NA & NA\\\\\n",
       "\tNA.12 & NA & NA & NA\\\\\n",
       "\tNA.13 & NA & NA & NA\\\\\n",
       "\tNA.14 & NA & NA & NA\\\\\n",
       "\tNA.15 & NA & NA & NA\\\\\n",
       "\tNA.16 & NA & NA & NA\\\\\n",
       "\tNA.17 & NA & NA & NA\\\\\n",
       "\tNA.18 & NA & NA & NA\\\\\n",
       "\tNA.19 & NA & NA & NA\\\\\n",
       "\tNA.20 & NA & NA & NA\\\\\n",
       "\tNA.21 & NA & NA & NA\\\\\n",
       "\tNA.22 & NA & NA & NA\\\\\n",
       "\tNA.23 & NA & NA & NA\\\\\n",
       "\tNA.24 & NA & NA & NA\\\\\n",
       "\tNA.25 & NA & NA & NA\\\\\n",
       "\tNA.26 & NA & NA & NA\\\\\n",
       "\tNA.27 & NA & NA & NA\\\\\n",
       "\tNA.28 & NA & NA & NA\\\\\n",
       "\tNA.29 & NA & NA & NA\\\\\n",
       "\tNA.30 & NA & NA & NA\\\\\n",
       "\\end{tabular}\n"
      ],
      "text/markdown": [
       "\n",
       "A data.frame: 31 × 3\n",
       "\n",
       "| <!--/--> | Girth &lt;dbl&gt; | Height &lt;dbl&gt; | Volume &lt;dbl&gt; |\n",
       "|---|---|---|---|\n",
       "| NA | NA | NA | NA |\n",
       "| NA.1 | NA | NA | NA |\n",
       "| NA.2 | NA | NA | NA |\n",
       "| NA.3 | NA | NA | NA |\n",
       "| NA.4 | NA | NA | NA |\n",
       "| NA.5 | NA | NA | NA |\n",
       "| NA.6 | NA | NA | NA |\n",
       "| NA.7 | NA | NA | NA |\n",
       "| NA.8 | NA | NA | NA |\n",
       "| NA.9 | NA | NA | NA |\n",
       "| NA.10 | NA | NA | NA |\n",
       "| NA.11 | NA | NA | NA |\n",
       "| NA.12 | NA | NA | NA |\n",
       "| NA.13 | NA | NA | NA |\n",
       "| NA.14 | NA | NA | NA |\n",
       "| NA.15 | NA | NA | NA |\n",
       "| NA.16 | NA | NA | NA |\n",
       "| NA.17 | NA | NA | NA |\n",
       "| NA.18 | NA | NA | NA |\n",
       "| NA.19 | NA | NA | NA |\n",
       "| NA.20 | NA | NA | NA |\n",
       "| NA.21 | NA | NA | NA |\n",
       "| NA.22 | NA | NA | NA |\n",
       "| NA.23 | NA | NA | NA |\n",
       "| NA.24 | NA | NA | NA |\n",
       "| NA.25 | NA | NA | NA |\n",
       "| NA.26 | NA | NA | NA |\n",
       "| NA.27 | NA | NA | NA |\n",
       "| NA.28 | NA | NA | NA |\n",
       "| NA.29 | NA | NA | NA |\n",
       "| NA.30 | NA | NA | NA |\n",
       "\n"
      ],
      "text/plain": [
       "      Girth Height Volume\n",
       "NA    NA    NA     NA    \n",
       "NA.1  NA    NA     NA    \n",
       "NA.2  NA    NA     NA    \n",
       "NA.3  NA    NA     NA    \n",
       "NA.4  NA    NA     NA    \n",
       "NA.5  NA    NA     NA    \n",
       "NA.6  NA    NA     NA    \n",
       "NA.7  NA    NA     NA    \n",
       "NA.8  NA    NA     NA    \n",
       "NA.9  NA    NA     NA    \n",
       "NA.10 NA    NA     NA    \n",
       "NA.11 NA    NA     NA    \n",
       "NA.12 NA    NA     NA    \n",
       "NA.13 NA    NA     NA    \n",
       "NA.14 NA    NA     NA    \n",
       "NA.15 NA    NA     NA    \n",
       "NA.16 NA    NA     NA    \n",
       "NA.17 NA    NA     NA    \n",
       "NA.18 NA    NA     NA    \n",
       "NA.19 NA    NA     NA    \n",
       "NA.20 NA    NA     NA    \n",
       "NA.21 NA    NA     NA    \n",
       "NA.22 NA    NA     NA    \n",
       "NA.23 NA    NA     NA    \n",
       "NA.24 NA    NA     NA    \n",
       "NA.25 NA    NA     NA    \n",
       "NA.26 NA    NA     NA    \n",
       "NA.27 NA    NA     NA    \n",
       "NA.28 NA    NA     NA    \n",
       "NA.29 NA    NA     NA    \n",
       "NA.30 NA    NA     NA    "
      ]
     },
     "metadata": {},
     "output_type": "display_data"
    }
   ],
   "source": [
    "girth.mean <- df[df['Girth'] > mean(df['Girth']), ]\n",
    "girth.mean"
   ]
  }
 ],
 "metadata": {
  "kernelspec": {
   "display_name": "R",
   "language": "R",
   "name": "ir"
  },
  "language_info": {
   "codemirror_mode": "r",
   "file_extension": ".r",
   "mimetype": "text/x-r-source",
   "name": "R",
   "pygments_lexer": "r",
   "version": "4.3.1"
  }
 },
 "nbformat": 4,
 "nbformat_minor": 5
}
