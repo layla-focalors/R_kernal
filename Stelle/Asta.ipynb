{
 "cells": [
  {
   "cell_type": "code",
   "execution_count": 6,
   "id": "ae15643f",
   "metadata": {},
   "outputs": [],
   "source": [
    "String ios = \"A polite conversation about something\";"
   ]
  },
  {
   "cell_type": "code",
   "execution_count": 7,
   "id": "fb8c236b",
   "metadata": {},
   "outputs": [],
   "source": [
    "char[] ax = ios.toCharArray()"
   ]
  },
  {
   "cell_type": "code",
   "execution_count": 3,
   "id": "ea34a184",
   "metadata": {},
   "outputs": [
    {
     "data": {
      "text/plain": [
       "[C@4d4d5e65"
      ]
     },
     "execution_count": 3,
     "metadata": {},
     "output_type": "execute_result"
    }
   ],
   "source": [
    "ax"
   ]
  },
  {
   "cell_type": "code",
   "execution_count": 8,
   "id": "363a95dd",
   "metadata": {},
   "outputs": [
    {
     "name": "stdout",
     "output_type": "stream",
     "text": [
      "A polite conversation about something"
     ]
    }
   ],
   "source": [
    "for(int i = 0; i < ax.length; i++){\n",
    "    System.out.print(ax[i]);\n",
    "}"
   ]
  },
  {
   "cell_type": "code",
   "execution_count": 9,
   "id": "2d651574",
   "metadata": {},
   "outputs": [
    {
     "data": {
      "text/plain": [
       " "
      ]
     },
     "execution_count": 9,
     "metadata": {},
     "output_type": "execute_result"
    }
   ],
   "source": [
    "ax[1]"
   ]
  },
  {
   "cell_type": "code",
   "execution_count": 10,
   "id": "a18cfec5",
   "metadata": {},
   "outputs": [
    {
     "data": {
      "text/plain": [
       "A"
      ]
     },
     "execution_count": 10,
     "metadata": {},
     "output_type": "execute_result"
    }
   ],
   "source": [
    "ax[0]"
   ]
  },
  {
   "cell_type": "code",
   "execution_count": 11,
   "id": "34a471e5",
   "metadata": {},
   "outputs": [],
   "source": [
    "String ux = Arrays.toString(ax);"
   ]
  },
  {
   "cell_type": "code",
   "execution_count": 12,
   "id": "5b13c25c",
   "metadata": {},
   "outputs": [
    {
     "data": {
      "text/plain": [
       "[A,  , p, o, l, i, t, e,  , c, o, n, v, e, r, s, a, t, i, o, n,  , a, b, o, u, t,  , s, o, m, e, t, h, i, n, g]"
      ]
     },
     "execution_count": 12,
     "metadata": {},
     "output_type": "execute_result"
    }
   ],
   "source": [
    "ux"
   ]
  },
  {
   "cell_type": "code",
   "execution_count": 15,
   "id": "39a20367",
   "metadata": {},
   "outputs": [
    {
     "name": "stdout",
     "output_type": "stream",
     "text": [
      "[A,  , p, o, l, i, t, e,  , c, o, n, v, e, r, s, a, t, i, o, n,  , a, b, o, u, t,  , s, o, m, e, t, h, i, n, g]"
     ]
    }
   ],
   "source": [
    "for(int i = 0; i < ux.length(); i++){\n",
    "    System.out.print(ux.charAt(i));\n",
    "}"
   ]
  }
 ],
 "metadata": {
  "kernelspec": {
   "display_name": "Java",
   "language": "java",
   "name": "java"
  },
  "language_info": {
   "codemirror_mode": "java",
   "file_extension": ".jshell",
   "mimetype": "text/x-java-source",
   "name": "Java",
   "pygments_lexer": "java",
   "version": "20.0.1+9-29"
  }
 },
 "nbformat": 4,
 "nbformat_minor": 5
}
