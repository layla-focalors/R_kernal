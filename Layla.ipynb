{
 "cells": [
  {
   "cell_type": "code",
   "execution_count": 2,
   "id": "0552a65e",
   "metadata": {},
   "outputs": [
    {
     "data": {
      "text/html": [
       "12"
      ],
      "text/latex": [
       "12"
      ],
      "text/markdown": [
       "12"
      ],
      "text/plain": [
       "[1] 12"
      ]
     },
     "metadata": {},
     "output_type": "display_data"
    },
    {
     "data": {
      "text/html": [
       "'even'"
      ],
      "text/latex": [
       "'even'"
      ],
      "text/markdown": [
       "'even'"
      ],
      "text/plain": [
       "[1] \"even\""
      ]
     },
     "metadata": {},
     "output_type": "display_data"
    }
   ],
   "source": [
    "n <- 12\n",
    "if(n%%2 == 1){\n",
    "    type <- \"odd\"\n",
    "}else {\n",
    "    type <- \"even\"\n",
    "}\n",
    "n\n",
    "type"
   ]
  },
  {
   "cell_type": "code",
   "execution_count": 4,
   "id": "90ff52de",
   "metadata": {},
   "outputs": [
    {
     "data": {
      "text/html": [
       "12"
      ],
      "text/latex": [
       "12"
      ],
      "text/markdown": [
       "12"
      ],
      "text/plain": [
       "[1] 12"
      ]
     },
     "metadata": {},
     "output_type": "display_data"
    }
   ],
   "source": [
    "ifelse(n < 0, -n, n)"
   ]
  },
  {
   "cell_type": "code",
   "execution_count": 6,
   "id": "eea4de09",
   "metadata": {},
   "outputs": [
    {
     "data": {
      "text/html": [
       "654729075"
      ],
      "text/latex": [
       "654729075"
      ],
      "text/markdown": [
       "654729075"
      ],
      "text/plain": [
       "[1] 654729075"
      ]
     },
     "metadata": {},
     "output_type": "display_data"
    }
   ],
   "source": [
    "ev <- 1\n",
    "for(i in seq(1, 20, 2)){\n",
    "    ev <- ev * i\n",
    "}\n",
    "ev"
   ]
  },
  {
   "cell_type": "code",
   "execution_count": 7,
   "id": "d4bb69f5",
   "metadata": {},
   "outputs": [],
   "source": [
    "rd <- 1\n",
    "for(i in 1:20){\n",
    "    if(i%%2 == 1){\n",
    "        rd <- rd * i\n",
    "    }\n",
    "}"
   ]
  },
  {
   "cell_type": "code",
   "execution_count": 8,
   "id": "d3c9baa3",
   "metadata": {},
   "outputs": [
    {
     "data": {
      "text/html": [
       "654729075"
      ],
      "text/latex": [
       "654729075"
      ],
      "text/markdown": [
       "654729075"
      ],
      "text/plain": [
       "[1] 654729075"
      ]
     },
     "metadata": {},
     "output_type": "display_data"
    }
   ],
   "source": [
    "rd"
   ]
  },
  {
   "cell_type": "code",
   "execution_count": 6,
   "id": "993a7249",
   "metadata": {},
   "outputs": [],
   "source": [
    "i <- 1\n",
    "j <- 1\n",
    "while(i <= 20){\n",
    "    if(i%%2 == 1){\n",
    "        j <- j * i\n",
    "    }\n",
    "    i <-  i + 1\n",
    "}"
   ]
  },
  {
   "cell_type": "code",
   "execution_count": 7,
   "id": "0dbe1424",
   "metadata": {},
   "outputs": [
    {
     "data": {
      "text/html": [
       "654729075"
      ],
      "text/latex": [
       "654729075"
      ],
      "text/markdown": [
       "654729075"
      ],
      "text/plain": [
       "[1] 654729075"
      ]
     },
     "metadata": {},
     "output_type": "display_data"
    }
   ],
   "source": [
    "j"
   ]
  },
  {
   "cell_type": "code",
   "execution_count": 8,
   "id": "85d0716f",
   "metadata": {},
   "outputs": [],
   "source": [
    "df = mtcars"
   ]
  },
  {
   "cell_type": "code",
   "execution_count": 10,
   "id": "dde0683c",
   "metadata": {},
   "outputs": [
    {
     "data": {
      "text/html": [
       "<style>\n",
       ".dl-inline {width: auto; margin:0; padding: 0}\n",
       ".dl-inline>dt, .dl-inline>dd {float: none; width: auto; display: inline-block}\n",
       ".dl-inline>dt::after {content: \":\\0020\"; padding-right: .5ex}\n",
       ".dl-inline>dt:not(:first-of-type) {padding-left: .5ex}\n",
       "</style><dl class=dl-inline><dt>mpg</dt><dd>20.090625</dd><dt>hp</dt><dd>146.6875</dd><dt>wt</dt><dd>3.21725</dd></dl>\n"
      ],
      "text/latex": [
       "\\begin{description*}\n",
       "\\item[mpg] 20.090625\n",
       "\\item[hp] 146.6875\n",
       "\\item[wt] 3.21725\n",
       "\\end{description*}\n"
      ],
      "text/markdown": [
       "mpg\n",
       ":   20.090625hp\n",
       ":   146.6875wt\n",
       ":   3.21725\n",
       "\n"
      ],
      "text/plain": [
       "      mpg        hp        wt \n",
       " 20.09062 146.68750   3.21725 "
      ]
     },
     "metadata": {},
     "output_type": "display_data"
    }
   ],
   "source": [
    "apply(df, 2, mean)[c(\"mpg\", \"hp\", \"wt\")]"
   ]
  },
  {
   "cell_type": "code",
   "execution_count": 12,
   "id": "7226ee28",
   "metadata": {},
   "outputs": [
    {
     "data": {
      "text/html": [
       "'Toyota Corolla'"
      ],
      "text/latex": [
       "'Toyota Corolla'"
      ],
      "text/markdown": [
       "'Toyota Corolla'"
      ],
      "text/plain": [
       "[1] \"Toyota Corolla\""
      ]
     },
     "metadata": {},
     "output_type": "display_data"
    }
   ],
   "source": [
    "rownames(df[df['mpg'] == max(df['mpg']), ])"
   ]
  },
  {
   "cell_type": "code",
   "execution_count": 19,
   "id": "4b87c227",
   "metadata": {},
   "outputs": [
    {
     "data": {
      "text/html": [
       "10.4"
      ],
      "text/latex": [
       "10.4"
      ],
      "text/markdown": [
       "10.4"
      ],
      "text/plain": [
       "[1] 10.4"
      ]
     },
     "metadata": {},
     "output_type": "display_data"
    }
   ],
   "source": [
    "min(df$mpg)"
   ]
  },
  {
   "cell_type": "code",
   "execution_count": 20,
   "id": "240d569f",
   "metadata": {},
   "outputs": [
    {
     "data": {
      "text/html": [
       "<style>\n",
       ".list-inline {list-style: none; margin:0; padding: 0}\n",
       ".list-inline>li {display: inline-block}\n",
       ".list-inline>li:not(:last-child)::after {content: \"\\00b7\"; padding: 0 .5ex}\n",
       "</style>\n",
       "<ol class=list-inline><li>21</li><li>21</li><li>22.8</li><li>21.4</li><li>18.7</li><li>18.1</li><li>14.3</li><li>24.4</li><li>22.8</li><li>19.2</li><li>17.8</li><li>16.4</li><li>17.3</li><li>15.2</li><li>10.4</li><li>10.4</li><li>14.7</li><li>32.4</li><li>30.4</li><li>33.9</li><li>21.5</li><li>15.5</li><li>15.2</li><li>13.3</li><li>19.2</li><li>27.3</li><li>26</li><li>30.4</li><li>15.8</li><li>19.7</li><li>15</li><li>21.4</li></ol>\n"
      ],
      "text/latex": [
       "\\begin{enumerate*}\n",
       "\\item 21\n",
       "\\item 21\n",
       "\\item 22.8\n",
       "\\item 21.4\n",
       "\\item 18.7\n",
       "\\item 18.1\n",
       "\\item 14.3\n",
       "\\item 24.4\n",
       "\\item 22.8\n",
       "\\item 19.2\n",
       "\\item 17.8\n",
       "\\item 16.4\n",
       "\\item 17.3\n",
       "\\item 15.2\n",
       "\\item 10.4\n",
       "\\item 10.4\n",
       "\\item 14.7\n",
       "\\item 32.4\n",
       "\\item 30.4\n",
       "\\item 33.9\n",
       "\\item 21.5\n",
       "\\item 15.5\n",
       "\\item 15.2\n",
       "\\item 13.3\n",
       "\\item 19.2\n",
       "\\item 27.3\n",
       "\\item 26\n",
       "\\item 30.4\n",
       "\\item 15.8\n",
       "\\item 19.7\n",
       "\\item 15\n",
       "\\item 21.4\n",
       "\\end{enumerate*}\n"
      ],
      "text/markdown": [
       "1. 21\n",
       "2. 21\n",
       "3. 22.8\n",
       "4. 21.4\n",
       "5. 18.7\n",
       "6. 18.1\n",
       "7. 14.3\n",
       "8. 24.4\n",
       "9. 22.8\n",
       "10. 19.2\n",
       "11. 17.8\n",
       "12. 16.4\n",
       "13. 17.3\n",
       "14. 15.2\n",
       "15. 10.4\n",
       "16. 10.4\n",
       "17. 14.7\n",
       "18. 32.4\n",
       "19. 30.4\n",
       "20. 33.9\n",
       "21. 21.5\n",
       "22. 15.5\n",
       "23. 15.2\n",
       "24. 13.3\n",
       "25. 19.2\n",
       "26. 27.3\n",
       "27. 26\n",
       "28. 30.4\n",
       "29. 15.8\n",
       "30. 19.7\n",
       "31. 15\n",
       "32. 21.4\n",
       "\n",
       "\n"
      ],
      "text/plain": [
       " [1] 21.0 21.0 22.8 21.4 18.7 18.1 14.3 24.4 22.8 19.2 17.8 16.4 17.3 15.2 10.4\n",
       "[16] 10.4 14.7 32.4 30.4 33.9 21.5 15.5 15.2 13.3 19.2 27.3 26.0 30.4 15.8 19.7\n",
       "[31] 15.0 21.4"
      ]
     },
     "metadata": {},
     "output_type": "display_data"
    }
   ],
   "source": [
    "df$mpg"
   ]
  },
  {
   "cell_type": "code",
   "execution_count": 18,
   "id": "cbeb13bc",
   "metadata": {},
   "outputs": [
    {
     "ename": "ERROR",
     "evalue": "Error in `[.data.frame`(df, df$mpg == min(df$mpg)): undefined columns selected\n",
     "output_type": "error",
     "traceback": [
      "Error in `[.data.frame`(df, df$mpg == min(df$mpg)): undefined columns selected\nTraceback:\n",
      "1. rownames(df[df$mpg == min(df$mpg)], )",
      "2. df[df$mpg == min(df$mpg)]",
      "3. `[.data.frame`(df, df$mpg == min(df$mpg))",
      "4. stop(\"undefined columns selected\")"
     ]
    }
   ],
   "source": [
    "rownames(df[df$mpg == min(df$mpg)], )"
   ]
  },
  {
   "cell_type": "code",
   "execution_count": 25,
   "id": "c5c68b3e",
   "metadata": {},
   "outputs": [
    {
     "data": {
      "text/html": [
       "<style>\n",
       ".list-inline {list-style: none; margin:0; padding: 0}\n",
       ".list-inline>li {display: inline-block}\n",
       ".list-inline>li:not(:last-child)::after {content: \"\\00b7\"; padding: 0 .5ex}\n",
       "</style>\n",
       "<ol class=list-inline><li>'Cadillac Fleetwood'</li><li>'Lincoln Continental'</li></ol>\n"
      ],
      "text/latex": [
       "\\begin{enumerate*}\n",
       "\\item 'Cadillac Fleetwood'\n",
       "\\item 'Lincoln Continental'\n",
       "\\end{enumerate*}\n"
      ],
      "text/markdown": [
       "1. 'Cadillac Fleetwood'\n",
       "2. 'Lincoln Continental'\n",
       "\n",
       "\n"
      ],
      "text/plain": [
       "[1] \"Cadillac Fleetwood\"  \"Lincoln Continental\""
      ]
     },
     "metadata": {},
     "output_type": "display_data"
    }
   ],
   "source": [
    "rownames(df[df$mpg == min(df$mpg), ])"
   ]
  },
  {
   "cell_type": "code",
   "execution_count": 26,
   "id": "a7e3a00c",
   "metadata": {},
   "outputs": [
    {
     "data": {
      "text/html": [
       "<style>\n",
       ".list-inline {list-style: none; margin:0; padding: 0}\n",
       ".list-inline>li {display: inline-block}\n",
       ".list-inline>li:not(:last-child)::after {content: \"\\00b7\"; padding: 0 .5ex}\n",
       "</style>\n",
       "<ol class=list-inline><li>0</li><li>1</li><li>1</li><li>2</li><li>3</li><li>5</li><li>8</li><li>13</li><li>21</li><li>34</li><li>55</li><li>89</li><li>144</li><li>233</li><li>377</li><li>610</li><li>987</li><li>1597</li><li>2584</li><li>4181</li></ol>\n"
      ],
      "text/latex": [
       "\\begin{enumerate*}\n",
       "\\item 0\n",
       "\\item 1\n",
       "\\item 1\n",
       "\\item 2\n",
       "\\item 3\n",
       "\\item 5\n",
       "\\item 8\n",
       "\\item 13\n",
       "\\item 21\n",
       "\\item 34\n",
       "\\item 55\n",
       "\\item 89\n",
       "\\item 144\n",
       "\\item 233\n",
       "\\item 377\n",
       "\\item 610\n",
       "\\item 987\n",
       "\\item 1597\n",
       "\\item 2584\n",
       "\\item 4181\n",
       "\\end{enumerate*}\n"
      ],
      "text/markdown": [
       "1. 0\n",
       "2. 1\n",
       "3. 1\n",
       "4. 2\n",
       "5. 3\n",
       "6. 5\n",
       "7. 8\n",
       "8. 13\n",
       "9. 21\n",
       "10. 34\n",
       "11. 55\n",
       "12. 89\n",
       "13. 144\n",
       "14. 233\n",
       "15. 377\n",
       "16. 610\n",
       "17. 987\n",
       "18. 1597\n",
       "19. 2584\n",
       "20. 4181\n",
       "\n",
       "\n"
      ],
      "text/plain": [
       " [1]    0    1    1    2    3    5    8   13   21   34   55   89  144  233  377\n",
       "[16]  610  987 1597 2584 4181"
      ]
     },
     "metadata": {},
     "output_type": "display_data"
    }
   ],
   "source": [
    "x <- c(0, 1)\n",
    "for(i in 3:20){\n",
    "    cd <- x[i-1] + x[i-2]\n",
    "    x <- c(x, cd)\n",
    "}\n",
    "x"
   ]
  },
  {
   "cell_type": "code",
   "execution_count": 27,
   "id": "5f74aca0",
   "metadata": {},
   "outputs": [
    {
     "data": {
      "text/html": [
       "<style>\n",
       ".list-inline {list-style: none; margin:0; padding: 0}\n",
       ".list-inline>li {display: inline-block}\n",
       ".list-inline>li:not(:last-child)::after {content: \"\\00b7\"; padding: 0 .5ex}\n",
       "</style>\n",
       "<ol class=list-inline><li>0</li><li>1</li><li>1</li><li>2</li><li>3</li><li>5</li><li>8</li><li>13</li><li>21</li><li>34</li><li>55</li><li>89</li><li>144</li><li>233</li><li>377</li><li>610</li><li>987</li><li>1597</li><li>2584</li><li>4181</li></ol>\n"
      ],
      "text/latex": [
       "\\begin{enumerate*}\n",
       "\\item 0\n",
       "\\item 1\n",
       "\\item 1\n",
       "\\item 2\n",
       "\\item 3\n",
       "\\item 5\n",
       "\\item 8\n",
       "\\item 13\n",
       "\\item 21\n",
       "\\item 34\n",
       "\\item 55\n",
       "\\item 89\n",
       "\\item 144\n",
       "\\item 233\n",
       "\\item 377\n",
       "\\item 610\n",
       "\\item 987\n",
       "\\item 1597\n",
       "\\item 2584\n",
       "\\item 4181\n",
       "\\end{enumerate*}\n"
      ],
      "text/markdown": [
       "1. 0\n",
       "2. 1\n",
       "3. 1\n",
       "4. 2\n",
       "5. 3\n",
       "6. 5\n",
       "7. 8\n",
       "8. 13\n",
       "9. 21\n",
       "10. 34\n",
       "11. 55\n",
       "12. 89\n",
       "13. 144\n",
       "14. 233\n",
       "15. 377\n",
       "16. 610\n",
       "17. 987\n",
       "18. 1597\n",
       "19. 2584\n",
       "20. 4181\n",
       "\n",
       "\n"
      ],
      "text/plain": [
       " [1]    0    1    1    2    3    5    8   13   21   34   55   89  144  233  377\n",
       "[16]  610  987 1597 2584 4181"
      ]
     },
     "metadata": {},
     "output_type": "display_data"
    }
   ],
   "source": [
    "x <- c(0, 1)\n",
    "for(i in 3:20){\n",
    "    x[i] <- x[i-1] + x[i-2]\n",
    "}\n",
    "x"
   ]
  },
  {
   "cell_type": "code",
   "execution_count": 28,
   "id": "c296f710",
   "metadata": {},
   "outputs": [
    {
     "data": {
      "text/html": [
       "<style>\n",
       ".dl-inline {width: auto; margin:0; padding: 0}\n",
       ".dl-inline>dt, .dl-inline>dd {float: none; width: auto; display: inline-block}\n",
       ".dl-inline>dt::after {content: \":\\0020\"; padding-right: .5ex}\n",
       ".dl-inline>dt:not(:first-of-type) {padding-left: .5ex}\n",
       "</style><dl class=dl-inline><dt>Murder</dt><dd>389.4</dd><dt>Assault</dt><dd>8538</dd><dt>UrbanPop</dt><dd>3277</dd><dt>Rape</dt><dd>1061.6</dd></dl>\n"
      ],
      "text/latex": [
       "\\begin{description*}\n",
       "\\item[Murder] 389.4\n",
       "\\item[Assault] 8538\n",
       "\\item[UrbanPop] 3277\n",
       "\\item[Rape] 1061.6\n",
       "\\end{description*}\n"
      ],
      "text/markdown": [
       "Murder\n",
       ":   389.4Assault\n",
       ":   8538UrbanPop\n",
       ":   3277Rape\n",
       ":   1061.6\n",
       "\n"
      ],
      "text/plain": [
       "  Murder  Assault UrbanPop     Rape \n",
       "   389.4   8538.0   3277.0   1061.6 "
      ]
     },
     "metadata": {},
     "output_type": "display_data"
    }
   ],
   "source": [
    "colSums(USArrests)"
   ]
  },
  {
   "cell_type": "code",
   "execution_count": 29,
   "id": "9a010a1d",
   "metadata": {},
   "outputs": [
    {
     "data": {
      "text/html": [
       "<style>\n",
       ".dl-inline {width: auto; margin:0; padding: 0}\n",
       ".dl-inline>dt, .dl-inline>dd {float: none; width: auto; display: inline-block}\n",
       ".dl-inline>dt::after {content: \":\\0020\"; padding-right: .5ex}\n",
       ".dl-inline>dt:not(:first-of-type) {padding-left: .5ex}\n",
       "</style><dl class=dl-inline><dt>Murder</dt><dd>7.788</dd><dt>Assault</dt><dd>170.76</dd><dt>UrbanPop</dt><dd>65.54</dd><dt>Rape</dt><dd>21.232</dd></dl>\n"
      ],
      "text/latex": [
       "\\begin{description*}\n",
       "\\item[Murder] 7.788\n",
       "\\item[Assault] 170.76\n",
       "\\item[UrbanPop] 65.54\n",
       "\\item[Rape] 21.232\n",
       "\\end{description*}\n"
      ],
      "text/markdown": [
       "Murder\n",
       ":   7.788Assault\n",
       ":   170.76UrbanPop\n",
       ":   65.54Rape\n",
       ":   21.232\n",
       "\n"
      ],
      "text/plain": [
       "  Murder  Assault UrbanPop     Rape \n",
       "   7.788  170.760   65.540   21.232 "
      ]
     },
     "metadata": {},
     "output_type": "display_data"
    }
   ],
   "source": [
    "colMeans(USArrests)"
   ]
  },
  {
   "cell_type": "code",
   "execution_count": 30,
   "id": "3be50812",
   "metadata": {},
   "outputs": [],
   "source": [
    "df = USArrests"
   ]
  },
  {
   "cell_type": "code",
   "execution_count": 32,
   "id": "f8ebb286",
   "metadata": {},
   "outputs": [
    {
     "data": {
      "text/html": [
       "'Georgia'"
      ],
      "text/latex": [
       "'Georgia'"
      ],
      "text/markdown": [
       "'Georgia'"
      ],
      "text/plain": [
       "[1] \"Georgia\""
      ]
     },
     "metadata": {},
     "output_type": "display_data"
    }
   ],
   "source": [
    "rownames(df[df['Murder'] == max(df['Murder']), ])"
   ]
  },
  {
   "cell_type": "code",
   "execution_count": 35,
   "id": "c5da0206",
   "metadata": {},
   "outputs": [
    {
     "data": {
      "text/html": [
       "'North Dakota'"
      ],
      "text/latex": [
       "'North Dakota'"
      ],
      "text/markdown": [
       "'North Dakota'"
      ],
      "text/plain": [
       "[1] \"North Dakota\""
      ]
     },
     "metadata": {},
     "output_type": "display_data"
    }
   ],
   "source": [
    "rownames(df[df['Assault'] == min(df['Assault']), ])"
   ]
  },
  {
   "cell_type": "code",
   "execution_count": 37,
   "id": "fc0c5471",
   "metadata": {},
   "outputs": [
    {
     "data": {
      "text/html": [
       "<table class=\"dataframe\">\n",
       "<caption>A data.frame: 1 × 4</caption>\n",
       "<thead>\n",
       "\t<tr><th></th><th scope=col>Murder</th><th scope=col>Assault</th><th scope=col>UrbanPop</th><th scope=col>Rape</th></tr>\n",
       "\t<tr><th></th><th scope=col>&lt;dbl&gt;</th><th scope=col>&lt;int&gt;</th><th scope=col>&lt;int&gt;</th><th scope=col>&lt;dbl&gt;</th></tr>\n",
       "</thead>\n",
       "<tbody>\n",
       "\t<tr><th scope=row>North Dakota</th><td>0.8</td><td>45</td><td>44</td><td>7.3</td></tr>\n",
       "</tbody>\n",
       "</table>\n"
      ],
      "text/latex": [
       "A data.frame: 1 × 4\n",
       "\\begin{tabular}{r|llll}\n",
       "  & Murder & Assault & UrbanPop & Rape\\\\\n",
       "  & <dbl> & <int> & <int> & <dbl>\\\\\n",
       "\\hline\n",
       "\tNorth Dakota & 0.8 & 45 & 44 & 7.3\\\\\n",
       "\\end{tabular}\n"
      ],
      "text/markdown": [
       "\n",
       "A data.frame: 1 × 4\n",
       "\n",
       "| <!--/--> | Murder &lt;dbl&gt; | Assault &lt;int&gt; | UrbanPop &lt;int&gt; | Rape &lt;dbl&gt; |\n",
       "|---|---|---|---|---|\n",
       "| North Dakota | 0.8 | 45 | 44 | 7.3 |\n",
       "\n"
      ],
      "text/plain": [
       "             Murder Assault UrbanPop Rape\n",
       "North Dakota 0.8    45      44       7.3 "
      ]
     },
     "metadata": {},
     "output_type": "display_data"
    }
   ],
   "source": [
    "df[df['Assault'] == min(df['Assault']), ]"
   ]
  },
  {
   "cell_type": "code",
   "execution_count": 36,
   "id": "c6243c0a",
   "metadata": {},
   "outputs": [
    {
     "data": {
      "text/html": [
       "0.8"
      ],
      "text/latex": [
       "0.8"
      ],
      "text/markdown": [
       "0.8"
      ],
      "text/plain": [
       "[1] 0.8"
      ]
     },
     "metadata": {},
     "output_type": "display_data"
    }
   ],
   "source": [
    "df[df['Assault'] == min(df['Assault']), 'Murder']"
   ]
  },
  {
   "cell_type": "code",
   "execution_count": 43,
   "id": "846ce9a3",
   "metadata": {},
   "outputs": [
    {
     "data": {
      "image/png": "[encoded data removed]",
      "text/plain": [
       "plot without title"
      ]
     },
     "metadata": {
      "image/png": {
       "height": 420,
       "width": 420
      }
     },
     "output_type": "display_data"
    }
   ],
   "source": [
    "survey <- c(T, F, T, T, F, T, F, F, F)\n",
    "barplot(table(survey), names=c(\"YES\", \"NO\"), col=c(\"pink\",\"white\"), sub=\"surway for salmon is taiste good\")"
   ]
  },
  {
   "cell_type": "code",
   "execution_count": 44,
   "id": "e401fb4f",
   "metadata": {},
   "outputs": [
    {
     "data": {
      "text/html": [
       "<table class=\"dataframe\">\n",
       "<caption>A matrix: 4 × 3 of type dbl</caption>\n",
       "<thead>\n",
       "\t<tr><th scope=col>x</th><th scope=col>y</th><th scope=col>z</th></tr>\n",
       "</thead>\n",
       "<tbody>\n",
       "\t<tr><td>2</td><td>10</td><td>18</td></tr>\n",
       "\t<tr><td>4</td><td>12</td><td>20</td></tr>\n",
       "\t<tr><td>6</td><td>14</td><td>22</td></tr>\n",
       "\t<tr><td>8</td><td>16</td><td>24</td></tr>\n",
       "</tbody>\n",
       "</table>\n"
      ],
      "text/latex": [
       "A matrix: 4 × 3 of type dbl\n",
       "\\begin{tabular}{lll}\n",
       " x & y & z\\\\\n",
       "\\hline\n",
       "\t 2 & 10 & 18\\\\\n",
       "\t 4 & 12 & 20\\\\\n",
       "\t 6 & 14 & 22\\\\\n",
       "\t 8 & 16 & 24\\\\\n",
       "\\end{tabular}\n"
      ],
      "text/markdown": [
       "\n",
       "A matrix: 4 × 3 of type dbl\n",
       "\n",
       "| x | y | z |\n",
       "|---|---|---|\n",
       "| 2 | 10 | 18 |\n",
       "| 4 | 12 | 20 |\n",
       "| 6 | 14 | 22 |\n",
       "| 8 | 16 | 24 |\n",
       "\n"
      ],
      "text/plain": [
       "     x y  z \n",
       "[1,] 2 10 18\n",
       "[2,] 4 12 20\n",
       "[3,] 6 14 22\n",
       "[4,] 8 16 24"
      ]
     },
     "metadata": {},
     "output_type": "display_data"
    }
   ],
   "source": [
    "x <- c(2, 4, 6, 8)\n",
    "y <- c(10, 12, 14, 16)\n",
    "z <- c(18, 20, 22, 24)\n",
    "cbind(x, y, z)"
   ]
  },
  {
   "cell_type": "code",
   "execution_count": 45,
   "id": "233c31f1",
   "metadata": {},
   "outputs": [
    {
     "data": {
      "text/html": [
       "<table class=\"dataframe\">\n",
       "<caption>A matrix: 3 × 4 of type dbl</caption>\n",
       "<tbody>\n",
       "\t<tr><th scope=row>x</th><td> 2</td><td> 4</td><td> 6</td><td> 8</td></tr>\n",
       "\t<tr><th scope=row>y</th><td>10</td><td>12</td><td>14</td><td>16</td></tr>\n",
       "\t<tr><th scope=row>z</th><td>18</td><td>20</td><td>22</td><td>24</td></tr>\n",
       "</tbody>\n",
       "</table>\n"
      ],
      "text/latex": [
       "A matrix: 3 × 4 of type dbl\n",
       "\\begin{tabular}{r|llll}\n",
       "\tx &  2 &  4 &  6 &  8\\\\\n",
       "\ty & 10 & 12 & 14 & 16\\\\\n",
       "\tz & 18 & 20 & 22 & 24\\\\\n",
       "\\end{tabular}\n"
      ],
      "text/markdown": [
       "\n",
       "A matrix: 3 × 4 of type dbl\n",
       "\n",
       "| x |  2 |  4 |  6 |  8 |\n",
       "| y | 10 | 12 | 14 | 16 |\n",
       "| z | 18 | 20 | 22 | 24 |\n",
       "\n"
      ],
      "text/plain": [
       "  [,1] [,2] [,3] [,4]\n",
       "x  2    4    6    8  \n",
       "y 10   12   14   16  \n",
       "z 18   20   22   24  "
      ]
     },
     "metadata": {},
     "output_type": "display_data"
    }
   ],
   "source": [
    "rbind(x, y, z)b"
   ]
  },
  {
   "cell_type": "code",
   "execution_count": 46,
   "id": "de0c0fb5",
   "metadata": {},
   "outputs": [
    {
     "data": {
      "text/html": [
       "<table class=\"dataframe\">\n",
       "<caption>A matrix: 4 × 3 of type dbl</caption>\n",
       "<tbody>\n",
       "\t<tr><td>2</td><td>10</td><td>18</td></tr>\n",
       "\t<tr><td>4</td><td>12</td><td>20</td></tr>\n",
       "\t<tr><td>6</td><td>14</td><td>22</td></tr>\n",
       "\t<tr><td>8</td><td>16</td><td>24</td></tr>\n",
       "</tbody>\n",
       "</table>\n"
      ],
      "text/latex": [
       "A matrix: 4 × 3 of type dbl\n",
       "\\begin{tabular}{lll}\n",
       "\t 2 & 10 & 18\\\\\n",
       "\t 4 & 12 & 20\\\\\n",
       "\t 6 & 14 & 22\\\\\n",
       "\t 8 & 16 & 24\\\\\n",
       "\\end{tabular}\n"
      ],
      "text/markdown": [
       "\n",
       "A matrix: 4 × 3 of type dbl\n",
       "\n",
       "| 2 | 10 | 18 |\n",
       "| 4 | 12 | 20 |\n",
       "| 6 | 14 | 22 |\n",
       "| 8 | 16 | 24 |\n",
       "\n"
      ],
      "text/plain": [
       "     [,1] [,2] [,3]\n",
       "[1,] 2    10   18  \n",
       "[2,] 4    12   20  \n",
       "[3,] 6    14   22  \n",
       "[4,] 8    16   24  "
      ]
     },
     "metadata": {},
     "output_type": "display_data"
    }
   ],
   "source": [
    "matrix(c(2, 10, 18,\n",
    "        4, 12, 20,\n",
    "        6, 14, 22,\n",
    "        8, 16, 24), nrow=4, ncol=3, byrow=T)"
   ]
  },
  {
   "cell_type": "code",
   "execution_count": 47,
   "id": "9cce24eb",
   "metadata": {},
   "outputs": [
    {
     "data": {
      "text/html": [
       "<table class=\"dataframe\">\n",
       "<caption>A matrix: 4 × 3 of type dbl</caption>\n",
       "<tbody>\n",
       "\t<tr><td>2</td><td>10</td><td>18</td></tr>\n",
       "\t<tr><td>4</td><td>12</td><td>20</td></tr>\n",
       "\t<tr><td>6</td><td>14</td><td>22</td></tr>\n",
       "\t<tr><td>8</td><td>16</td><td>24</td></tr>\n",
       "</tbody>\n",
       "</table>\n"
      ],
      "text/latex": [
       "A matrix: 4 × 3 of type dbl\n",
       "\\begin{tabular}{lll}\n",
       "\t 2 & 10 & 18\\\\\n",
       "\t 4 & 12 & 20\\\\\n",
       "\t 6 & 14 & 22\\\\\n",
       "\t 8 & 16 & 24\\\\\n",
       "\\end{tabular}\n"
      ],
      "text/markdown": [
       "\n",
       "A matrix: 4 × 3 of type dbl\n",
       "\n",
       "| 2 | 10 | 18 |\n",
       "| 4 | 12 | 20 |\n",
       "| 6 | 14 | 22 |\n",
       "| 8 | 16 | 24 |\n",
       "\n"
      ],
      "text/plain": [
       "     [,1] [,2] [,3]\n",
       "[1,] 2    10   18  \n",
       "[2,] 4    12   20  \n",
       "[3,] 6    14   22  \n",
       "[4,] 8    16   24  "
      ]
     },
     "metadata": {},
     "output_type": "display_data"
    }
   ],
   "source": [
    "matrix(c(2, 4, 6, 8,\n",
    "        10, 12, 14, 16,\n",
    "        18, 20, 22, 24), nrow=4, ncol=3)"
   ]
  },
  {
   "cell_type": "code",
   "execution_count": 50,
   "id": "0a3efd83",
   "metadata": {},
   "outputs": [
    {
     "data": {
      "text/html": [
       "<table class=\"dataframe\">\n",
       "<caption>A matrix: 2 × 4 of type dbl</caption>\n",
       "<tbody>\n",
       "\t<tr><td>9</td><td> 7</td><td>5</td><td>3</td></tr>\n",
       "\t<tr><td>8</td><td>11</td><td>2</td><td>9</td></tr>\n",
       "</tbody>\n",
       "</table>\n"
      ],
      "text/latex": [
       "A matrix: 2 × 4 of type dbl\n",
       "\\begin{tabular}{llll}\n",
       "\t 9 &  7 & 5 & 3\\\\\n",
       "\t 8 & 11 & 2 & 9\\\\\n",
       "\\end{tabular}\n"
      ],
      "text/markdown": [
       "\n",
       "A matrix: 2 × 4 of type dbl\n",
       "\n",
       "| 9 |  7 | 5 | 3 |\n",
       "| 8 | 11 | 2 | 9 |\n",
       "\n"
      ],
      "text/plain": [
       "     [,1] [,2] [,3] [,4]\n",
       "[1,] 9     7   5    3   \n",
       "[2,] 8    11   2    9   "
      ]
     },
     "metadata": {},
     "output_type": "display_data"
    }
   ],
   "source": [
    "m <- matrix(c(9, 7, 5, 3,\n",
    "        8, 11, 2, 9), nrow=2, ncol=4, byrow=T)\n",
    "m"
   ]
  },
  {
   "cell_type": "code",
   "execution_count": 51,
   "id": "c2c38297",
   "metadata": {},
   "outputs": [],
   "source": [
    "rownames(m) <- c(\"x\", \"y\")\n",
    "colnames(m) <- c(\"a\", \"b\", \"c\", \"d\")"
   ]
  },
  {
   "cell_type": "code",
   "execution_count": 52,
   "id": "31f65b2b",
   "metadata": {},
   "outputs": [
    {
     "data": {
      "text/html": [
       "<table class=\"dataframe\">\n",
       "<caption>A matrix: 2 × 4 of type dbl</caption>\n",
       "<thead>\n",
       "\t<tr><th></th><th scope=col>a</th><th scope=col>b</th><th scope=col>c</th><th scope=col>d</th></tr>\n",
       "</thead>\n",
       "<tbody>\n",
       "\t<tr><th scope=row>x</th><td>9</td><td> 7</td><td>5</td><td>3</td></tr>\n",
       "\t<tr><th scope=row>y</th><td>8</td><td>11</td><td>2</td><td>9</td></tr>\n",
       "</tbody>\n",
       "</table>\n"
      ],
      "text/latex": [
       "A matrix: 2 × 4 of type dbl\n",
       "\\begin{tabular}{r|llll}\n",
       "  & a & b & c & d\\\\\n",
       "\\hline\n",
       "\tx & 9 &  7 & 5 & 3\\\\\n",
       "\ty & 8 & 11 & 2 & 9\\\\\n",
       "\\end{tabular}\n"
      ],
      "text/markdown": [
       "\n",
       "A matrix: 2 × 4 of type dbl\n",
       "\n",
       "| <!--/--> | a | b | c | d |\n",
       "|---|---|---|---|---|\n",
       "| x | 9 |  7 | 5 | 3 |\n",
       "| y | 8 | 11 | 2 | 9 |\n",
       "\n"
      ],
      "text/plain": [
       "  a b  c d\n",
       "x 9  7 5 3\n",
       "y 8 11 2 9"
      ]
     },
     "metadata": {},
     "output_type": "display_data"
    }
   ],
   "source": [
    "m"
   ]
  },
  {
   "cell_type": "code",
   "execution_count": 53,
   "id": "420559df",
   "metadata": {},
   "outputs": [
    {
     "data": {
      "text/html": [
       "<table class=\"dataframe\">\n",
       "<caption>A matrix: 4 × 2 of type dbl</caption>\n",
       "<thead>\n",
       "\t<tr><th></th><th scope=col>x</th><th scope=col>y</th></tr>\n",
       "</thead>\n",
       "<tbody>\n",
       "\t<tr><th scope=row>a</th><td>9</td><td> 8</td></tr>\n",
       "\t<tr><th scope=row>b</th><td>7</td><td>11</td></tr>\n",
       "\t<tr><th scope=row>c</th><td>5</td><td> 2</td></tr>\n",
       "\t<tr><th scope=row>d</th><td>3</td><td> 9</td></tr>\n",
       "</tbody>\n",
       "</table>\n"
      ],
      "text/latex": [
       "A matrix: 4 × 2 of type dbl\n",
       "\\begin{tabular}{r|ll}\n",
       "  & x & y\\\\\n",
       "\\hline\n",
       "\ta & 9 &  8\\\\\n",
       "\tb & 7 & 11\\\\\n",
       "\tc & 5 &  2\\\\\n",
       "\td & 3 &  9\\\\\n",
       "\\end{tabular}\n"
      ],
      "text/markdown": [
       "\n",
       "A matrix: 4 × 2 of type dbl\n",
       "\n",
       "| <!--/--> | x | y |\n",
       "|---|---|---|\n",
       "| a | 9 |  8 |\n",
       "| b | 7 | 11 |\n",
       "| c | 5 |  2 |\n",
       "| d | 3 |  9 |\n",
       "\n"
      ],
      "text/plain": [
       "  x y \n",
       "a 9  8\n",
       "b 7 11\n",
       "c 5  2\n",
       "d 3  9"
      ]
     },
     "metadata": {},
     "output_type": "display_data"
    }
   ],
   "source": [
    "m <- t(m)\n",
    "m"
   ]
  },
  {
   "cell_type": "code",
   "execution_count": 54,
   "id": "1f1939ab",
   "metadata": {},
   "outputs": [
    {
     "data": {
      "text/html": [
       "<table class=\"dataframe\">\n",
       "<caption>A data.frame: 4 × 2</caption>\n",
       "<thead>\n",
       "\t<tr><th></th><th scope=col>x</th><th scope=col>y</th></tr>\n",
       "\t<tr><th></th><th scope=col>&lt;dbl&gt;</th><th scope=col>&lt;dbl&gt;</th></tr>\n",
       "</thead>\n",
       "<tbody>\n",
       "\t<tr><th scope=row>a</th><td>9</td><td> 8</td></tr>\n",
       "\t<tr><th scope=row>b</th><td>7</td><td>11</td></tr>\n",
       "\t<tr><th scope=row>c</th><td>5</td><td> 2</td></tr>\n",
       "\t<tr><th scope=row>d</th><td>3</td><td> 9</td></tr>\n",
       "</tbody>\n",
       "</table>\n"
      ],
      "text/latex": [
       "A data.frame: 4 × 2\n",
       "\\begin{tabular}{r|ll}\n",
       "  & x & y\\\\\n",
       "  & <dbl> & <dbl>\\\\\n",
       "\\hline\n",
       "\ta & 9 &  8\\\\\n",
       "\tb & 7 & 11\\\\\n",
       "\tc & 5 &  2\\\\\n",
       "\td & 3 &  9\\\\\n",
       "\\end{tabular}\n"
      ],
      "text/markdown": [
       "\n",
       "A data.frame: 4 × 2\n",
       "\n",
       "| <!--/--> | x &lt;dbl&gt; | y &lt;dbl&gt; |\n",
       "|---|---|---|\n",
       "| a | 9 |  8 |\n",
       "| b | 7 | 11 |\n",
       "| c | 5 |  2 |\n",
       "| d | 3 |  9 |\n",
       "\n"
      ],
      "text/plain": [
       "  x y \n",
       "a 9  8\n",
       "b 7 11\n",
       "c 5  2\n",
       "d 3  9"
      ]
     },
     "metadata": {},
     "output_type": "display_data"
    },
    {
     "data": {
      "text/html": [
       "'data.frame'"
      ],
      "text/latex": [
       "'data.frame'"
      ],
      "text/markdown": [
       "'data.frame'"
      ],
      "text/plain": [
       "[1] \"data.frame\""
      ]
     },
     "metadata": {},
     "output_type": "display_data"
    }
   ],
   "source": [
    "df <- data.frame(m)\n",
    "df\n",
    "class(df)"
   ]
  },
  {
   "cell_type": "code",
   "execution_count": 59,
   "id": "766b5d28",
   "metadata": {},
   "outputs": [],
   "source": [
    "df['info'] <- c(1, 2, 3, 4)"
   ]
  },
  {
   "cell_type": "code",
   "execution_count": 60,
   "id": "bc3a4812",
   "metadata": {},
   "outputs": [
    {
     "data": {
      "text/html": [
       "<table class=\"dataframe\">\n",
       "<caption>A data.frame: 4 × 3</caption>\n",
       "<thead>\n",
       "\t<tr><th></th><th scope=col>x</th><th scope=col>y</th><th scope=col>info</th></tr>\n",
       "\t<tr><th></th><th scope=col>&lt;dbl&gt;</th><th scope=col>&lt;dbl&gt;</th><th scope=col>&lt;dbl&gt;</th></tr>\n",
       "</thead>\n",
       "<tbody>\n",
       "\t<tr><th scope=row>a</th><td>9</td><td> 8</td><td>1</td></tr>\n",
       "\t<tr><th scope=row>b</th><td>7</td><td>11</td><td>2</td></tr>\n",
       "\t<tr><th scope=row>c</th><td>5</td><td> 2</td><td>3</td></tr>\n",
       "\t<tr><th scope=row>d</th><td>3</td><td> 9</td><td>4</td></tr>\n",
       "</tbody>\n",
       "</table>\n"
      ],
      "text/latex": [
       "A data.frame: 4 × 3\n",
       "\\begin{tabular}{r|lll}\n",
       "  & x & y & info\\\\\n",
       "  & <dbl> & <dbl> & <dbl>\\\\\n",
       "\\hline\n",
       "\ta & 9 &  8 & 1\\\\\n",
       "\tb & 7 & 11 & 2\\\\\n",
       "\tc & 5 &  2 & 3\\\\\n",
       "\td & 3 &  9 & 4\\\\\n",
       "\\end{tabular}\n"
      ],
      "text/markdown": [
       "\n",
       "A data.frame: 4 × 3\n",
       "\n",
       "| <!--/--> | x &lt;dbl&gt; | y &lt;dbl&gt; | info &lt;dbl&gt; |\n",
       "|---|---|---|---|\n",
       "| a | 9 |  8 | 1 |\n",
       "| b | 7 | 11 | 2 |\n",
       "| c | 5 |  2 | 3 |\n",
       "| d | 3 |  9 | 4 |\n",
       "\n"
      ],
      "text/plain": [
       "  x y  info\n",
       "a 9  8 1   \n",
       "b 7 11 2   \n",
       "c 5  2 3   \n",
       "d 3  9 4   "
      ]
     },
     "metadata": {},
     "output_type": "display_data"
    }
   ],
   "source": [
    "df"
   ]
  },
  {
   "cell_type": "code",
   "execution_count": 58,
   "id": "9a6d2039",
   "metadata": {},
   "outputs": [
    {
     "data": {
      "text/html": [
       "<style>\n",
       ".list-inline {list-style: none; margin:0; padding: 0}\n",
       ".list-inline>li {display: inline-block}\n",
       ".list-inline>li:not(:last-child)::after {content: \"\\00b7\"; padding: 0 .5ex}\n",
       "</style>\n",
       "<ol class=list-inline><li>1</li><li>2</li><li>3</li><li>4</li></ol>\n"
      ],
      "text/latex": [
       "\\begin{enumerate*}\n",
       "\\item 1\n",
       "\\item 2\n",
       "\\item 3\n",
       "\\item 4\n",
       "\\end{enumerate*}\n"
      ],
      "text/markdown": [
       "1. 1\n",
       "2. 2\n",
       "3. 3\n",
       "4. 4\n",
       "\n",
       "\n"
      ],
      "text/plain": [
       "[1] 1 2 3 4"
      ]
     },
     "metadata": {},
     "output_type": "display_data"
    }
   ],
   "source": [
    "df.new"
   ]
  },
  {
   "cell_type": "code",
   "execution_count": 61,
   "id": "7f610aa6",
   "metadata": {},
   "outputs": [
    {
     "data": {
      "text/html": [
       "<table class=\"dataframe\">\n",
       "<caption>A data.frame: 4 × 4</caption>\n",
       "<thead>\n",
       "\t<tr><th></th><th scope=col>x</th><th scope=col>y</th><th scope=col>info</th><th scope=col>info.1</th></tr>\n",
       "\t<tr><th></th><th scope=col>&lt;dbl&gt;</th><th scope=col>&lt;dbl&gt;</th><th scope=col>&lt;dbl&gt;</th><th scope=col>&lt;dbl&gt;</th></tr>\n",
       "</thead>\n",
       "<tbody>\n",
       "\t<tr><th scope=row>a</th><td>9</td><td> 8</td><td>1</td><td>1</td></tr>\n",
       "\t<tr><th scope=row>b</th><td>7</td><td>11</td><td>2</td><td>2</td></tr>\n",
       "\t<tr><th scope=row>c</th><td>5</td><td> 2</td><td>3</td><td>3</td></tr>\n",
       "\t<tr><th scope=row>d</th><td>3</td><td> 9</td><td>4</td><td>4</td></tr>\n",
       "</tbody>\n",
       "</table>\n"
      ],
      "text/latex": [
       "A data.frame: 4 × 4\n",
       "\\begin{tabular}{r|llll}\n",
       "  & x & y & info & info.1\\\\\n",
       "  & <dbl> & <dbl> & <dbl> & <dbl>\\\\\n",
       "\\hline\n",
       "\ta & 9 &  8 & 1 & 1\\\\\n",
       "\tb & 7 & 11 & 2 & 2\\\\\n",
       "\tc & 5 &  2 & 3 & 3\\\\\n",
       "\td & 3 &  9 & 4 & 4\\\\\n",
       "\\end{tabular}\n"
      ],
      "text/markdown": [
       "\n",
       "A data.frame: 4 × 4\n",
       "\n",
       "| <!--/--> | x &lt;dbl&gt; | y &lt;dbl&gt; | info &lt;dbl&gt; | info.1 &lt;dbl&gt; |\n",
       "|---|---|---|---|---|\n",
       "| a | 9 |  8 | 1 | 1 |\n",
       "| b | 7 | 11 | 2 | 2 |\n",
       "| c | 5 |  2 | 3 | 3 |\n",
       "| d | 3 |  9 | 4 | 4 |\n",
       "\n"
      ],
      "text/plain": [
       "  x y  info info.1\n",
       "a 9  8 1    1     \n",
       "b 7 11 2    2     \n",
       "c 5  2 3    3     \n",
       "d 3  9 4    4     "
      ]
     },
     "metadata": {},
     "output_type": "display_data"
    }
   ],
   "source": [
    "info <- c(1, 2, 3, 4)\n",
    "df.new <- data.frame(df, info)\n",
    "df.new"
   ]
  },
  {
   "cell_type": "code",
   "execution_count": 62,
   "id": "e31be880",
   "metadata": {},
   "outputs": [],
   "source": [
    "blood <- c(\"A\", \"O\", \"AB\", \"B\", \"B\")\n",
    "rh <- c('+','+','-','+','+')\n",
    "age <- c(21, 30, 43, 17, 26)"
   ]
  },
  {
   "cell_type": "code",
   "execution_count": 63,
   "id": "9c95657d",
   "metadata": {},
   "outputs": [],
   "source": [
    "df <- data.frame(blood, rh, age)"
   ]
  },
  {
   "cell_type": "code",
   "execution_count": 64,
   "id": "3d761a86",
   "metadata": {},
   "outputs": [
    {
     "data": {
      "text/html": [
       "<table class=\"dataframe\">\n",
       "<caption>A data.frame: 5 × 3</caption>\n",
       "<thead>\n",
       "\t<tr><th scope=col>blood</th><th scope=col>rh</th><th scope=col>age</th></tr>\n",
       "\t<tr><th scope=col>&lt;chr&gt;</th><th scope=col>&lt;chr&gt;</th><th scope=col>&lt;dbl&gt;</th></tr>\n",
       "</thead>\n",
       "<tbody>\n",
       "\t<tr><td>A </td><td>+</td><td>21</td></tr>\n",
       "\t<tr><td>O </td><td>+</td><td>30</td></tr>\n",
       "\t<tr><td>AB</td><td>-</td><td>43</td></tr>\n",
       "\t<tr><td>B </td><td>+</td><td>17</td></tr>\n",
       "\t<tr><td>B </td><td>+</td><td>26</td></tr>\n",
       "</tbody>\n",
       "</table>\n"
      ],
      "text/latex": [
       "A data.frame: 5 × 3\n",
       "\\begin{tabular}{lll}\n",
       " blood & rh & age\\\\\n",
       " <chr> & <chr> & <dbl>\\\\\n",
       "\\hline\n",
       "\t A  & + & 21\\\\\n",
       "\t O  & + & 30\\\\\n",
       "\t AB & - & 43\\\\\n",
       "\t B  & + & 17\\\\\n",
       "\t B  & + & 26\\\\\n",
       "\\end{tabular}\n"
      ],
      "text/markdown": [
       "\n",
       "A data.frame: 5 × 3\n",
       "\n",
       "| blood &lt;chr&gt; | rh &lt;chr&gt; | age &lt;dbl&gt; |\n",
       "|---|---|---|\n",
       "| A  | + | 21 |\n",
       "| O  | + | 30 |\n",
       "| AB | - | 43 |\n",
       "| B  | + | 17 |\n",
       "| B  | + | 26 |\n",
       "\n"
      ],
      "text/plain": [
       "  blood rh age\n",
       "1 A     +  21 \n",
       "2 O     +  30 \n",
       "3 AB    -  43 \n",
       "4 B     +  17 \n",
       "5 B     +  26 "
      ]
     },
     "metadata": {},
     "output_type": "display_data"
    }
   ],
   "source": [
    "df"
   ]
  },
  {
   "cell_type": "code",
   "execution_count": 65,
   "id": "13aa85f6",
   "metadata": {},
   "outputs": [
    {
     "data": {
      "text/html": [
       "<style>\n",
       ".list-inline {list-style: none; margin:0; padding: 0}\n",
       ".list-inline>li {display: inline-block}\n",
       ".list-inline>li:not(:last-child)::after {content: \"\\00b7\"; padding: 0 .5ex}\n",
       "</style>\n",
       "<ol class=list-inline><li>'blood'</li><li>'rh'</li><li>'age'</li></ol>\n"
      ],
      "text/latex": [
       "\\begin{enumerate*}\n",
       "\\item 'blood'\n",
       "\\item 'rh'\n",
       "\\item 'age'\n",
       "\\end{enumerate*}\n"
      ],
      "text/markdown": [
       "1. 'blood'\n",
       "2. 'rh'\n",
       "3. 'age'\n",
       "\n",
       "\n"
      ],
      "text/plain": [
       "[1] \"blood\" \"rh\"    \"age\"  "
      ]
     },
     "metadata": {},
     "output_type": "display_data"
    }
   ],
   "source": [
    "colnames(df)"
   ]
  },
  {
   "cell_type": "code",
   "execution_count": 67,
   "id": "f3ac6bdf",
   "metadata": {},
   "outputs": [
    {
     "data": {
      "text/html": [
       "<table class=\"dataframe\">\n",
       "<caption>A data.frame: 3 × 3</caption>\n",
       "<thead>\n",
       "\t<tr><th></th><th scope=col>blood</th><th scope=col>rh</th><th scope=col>age</th></tr>\n",
       "\t<tr><th></th><th scope=col>&lt;chr&gt;</th><th scope=col>&lt;chr&gt;</th><th scope=col>&lt;dbl&gt;</th></tr>\n",
       "</thead>\n",
       "<tbody>\n",
       "\t<tr><th scope=row>1</th><td>A </td><td>+</td><td>21</td></tr>\n",
       "\t<tr><th scope=row>2</th><td>O </td><td>+</td><td>30</td></tr>\n",
       "\t<tr><th scope=row>3</th><td>AB</td><td>-</td><td>43</td></tr>\n",
       "</tbody>\n",
       "</table>\n"
      ],
      "text/latex": [
       "A data.frame: 3 × 3\n",
       "\\begin{tabular}{r|lll}\n",
       "  & blood & rh & age\\\\\n",
       "  & <chr> & <chr> & <dbl>\\\\\n",
       "\\hline\n",
       "\t1 & A  & + & 21\\\\\n",
       "\t2 & O  & + & 30\\\\\n",
       "\t3 & AB & - & 43\\\\\n",
       "\\end{tabular}\n"
      ],
      "text/markdown": [
       "\n",
       "A data.frame: 3 × 3\n",
       "\n",
       "| <!--/--> | blood &lt;chr&gt; | rh &lt;chr&gt; | age &lt;dbl&gt; |\n",
       "|---|---|---|---|\n",
       "| 1 | A  | + | 21 |\n",
       "| 2 | O  | + | 30 |\n",
       "| 3 | AB | - | 43 |\n",
       "\n"
      ],
      "text/plain": [
       "  blood rh age\n",
       "1 A     +  21 \n",
       "2 O     +  30 \n",
       "3 AB    -  43 "
      ]
     },
     "metadata": {},
     "output_type": "display_data"
    }
   ],
   "source": [
    "df.nb <- df[df['blood'] != 'B', ]\n",
    "df.nb"
   ]
  },
  {
   "cell_type": "code",
   "execution_count": 68,
   "id": "a47135e9",
   "metadata": {},
   "outputs": [
    {
     "data": {
      "text/html": [
       "<table class=\"dataframe\">\n",
       "<caption>A data.frame: 3 × 3</caption>\n",
       "<thead>\n",
       "\t<tr><th></th><th scope=col>blood</th><th scope=col>rh</th><th scope=col>age</th></tr>\n",
       "\t<tr><th></th><th scope=col>&lt;chr&gt;</th><th scope=col>&lt;chr&gt;</th><th scope=col>&lt;dbl&gt;</th></tr>\n",
       "</thead>\n",
       "<tbody>\n",
       "\t<tr><th scope=row>1</th><td>A </td><td>+</td><td>21</td></tr>\n",
       "\t<tr><th scope=row>2</th><td>O </td><td>+</td><td>30</td></tr>\n",
       "\t<tr><th scope=row>3</th><td>AB</td><td>-</td><td>43</td></tr>\n",
       "</tbody>\n",
       "</table>\n"
      ],
      "text/latex": [
       "A data.frame: 3 × 3\n",
       "\\begin{tabular}{r|lll}\n",
       "  & blood & rh & age\\\\\n",
       "  & <chr> & <chr> & <dbl>\\\\\n",
       "\\hline\n",
       "\t1 & A  & + & 21\\\\\n",
       "\t2 & O  & + & 30\\\\\n",
       "\t3 & AB & - & 43\\\\\n",
       "\\end{tabular}\n"
      ],
      "text/markdown": [
       "\n",
       "A data.frame: 3 × 3\n",
       "\n",
       "| <!--/--> | blood &lt;chr&gt; | rh &lt;chr&gt; | age &lt;dbl&gt; |\n",
       "|---|---|---|---|\n",
       "| 1 | A  | + | 21 |\n",
       "| 2 | O  | + | 30 |\n",
       "| 3 | AB | - | 43 |\n",
       "\n"
      ],
      "text/plain": [
       "  blood rh age\n",
       "1 A     +  21 \n",
       "2 O     +  30 \n",
       "3 AB    -  43 "
      ]
     },
     "metadata": {},
     "output_type": "display_data"
    }
   ],
   "source": [
    "df.nb <- subset(df, df$blood != 'B')\n",
    "df.nb"
   ]
  },
  {
   "cell_type": "code",
   "execution_count": 69,
   "id": "658c47ed",
   "metadata": {},
   "outputs": [
    {
     "name": "stdout",
     "output_type": "stream",
     "text": [
      "'data.frame':\t50 obs. of  2 variables:\n",
      " $ speed: num  4 4 7 7 8 9 10 10 10 11 ...\n",
      " $ dist : num  2 10 4 22 16 10 18 26 34 17 ...\n"
     ]
    }
   ],
   "source": [
    "str(cars)"
   ]
  },
  {
   "cell_type": "code",
   "execution_count": 70,
   "id": "c29a7b7c",
   "metadata": {},
   "outputs": [
    {
     "data": {
      "text/html": [
       "<style>\n",
       ".list-inline {list-style: none; margin:0; padding: 0}\n",
       ".list-inline>li {display: inline-block}\n",
       ".list-inline>li:not(:last-child)::after {content: \"\\00b7\"; padding: 0 .5ex}\n",
       "</style>\n",
       "<ol class=list-inline><li>50</li><li>2</li></ol>\n"
      ],
      "text/latex": [
       "\\begin{enumerate*}\n",
       "\\item 50\n",
       "\\item 2\n",
       "\\end{enumerate*}\n"
      ],
      "text/markdown": [
       "1. 50\n",
       "2. 2\n",
       "\n",
       "\n"
      ],
      "text/plain": [
       "[1] 50  2"
      ]
     },
     "metadata": {},
     "output_type": "display_data"
    }
   ],
   "source": [
    "dim(cars)"
   ]
  },
  {
   "cell_type": "code",
   "execution_count": 71,
   "id": "7e76b3c5",
   "metadata": {},
   "outputs": [
    {
     "data": {
      "text/html": [
       "<table class=\"dataframe\">\n",
       "<caption>A data.frame: 7 × 3</caption>\n",
       "<thead>\n",
       "\t<tr><th scope=col>번호</th><th scope=col>제목</th><th scope=col>좋아요</th></tr>\n",
       "\t<tr><th scope=col>&lt;int&gt;</th><th scope=col>&lt;chr&gt;</th><th scope=col>&lt;dbl&gt;</th></tr>\n",
       "</thead>\n",
       "<tbody>\n",
       "\t<tr><td>1</td><td>진         </td><td> 21221</td></tr>\n",
       "\t<tr><td>2</td><td>유라       </td><td> 35621</td></tr>\n",
       "\t<tr><td>3</td><td>종려       </td><td> 92191</td></tr>\n",
       "\t<tr><td>4</td><td>바르바토스 </td><td> 12029</td></tr>\n",
       "\t<tr><td>5</td><td>레일라     </td><td> 83721</td></tr>\n",
       "\t<tr><td>6</td><td>라이덴 에이</td><td>999182</td></tr>\n",
       "\t<tr><td>7</td><td>라이덴 쇼군</td><td>999999</td></tr>\n",
       "</tbody>\n",
       "</table>\n"
      ],
      "text/latex": [
       "A data.frame: 7 × 3\n",
       "\\begin{tabular}{lll}\n",
       " 번호 & 제목 & 좋아요\\\\\n",
       " <int> & <chr> & <dbl>\\\\\n",
       "\\hline\n",
       "\t 1 & 진          &  21221\\\\\n",
       "\t 2 & 유라        &  35621\\\\\n",
       "\t 3 & 종려        &  92191\\\\\n",
       "\t 4 & 바르바토스  &  12029\\\\\n",
       "\t 5 & 레일라      &  83721\\\\\n",
       "\t 6 & 라이덴 에이 & 999182\\\\\n",
       "\t 7 & 라이덴 쇼군 & 999999\\\\\n",
       "\\end{tabular}\n"
      ],
      "text/markdown": [
       "\n",
       "A data.frame: 7 × 3\n",
       "\n",
       "| 번호 &lt;int&gt; | 제목 &lt;chr&gt; | 좋아요 &lt;dbl&gt; |\n",
       "|---|---|---|\n",
       "| 1 | 진          |  21221 |\n",
       "| 2 | 유라        |  35621 |\n",
       "| 3 | 종려        |  92191 |\n",
       "| 4 | 바르바토스  |  12029 |\n",
       "| 5 | 레일라      |  83721 |\n",
       "| 6 | 라이덴 에이 | 999182 |\n",
       "| 7 | 라이덴 쇼군 | 999999 |\n",
       "\n"
      ],
      "text/plain": [
       "  번호 제목        좋아요\n",
       "1 1    진           21221\n",
       "2 2    유라         35621\n",
       "3 3    종려         92191\n",
       "4 4    바르바토스   12029\n",
       "5 5    레일라       83721\n",
       "6 6    라이덴 에이 999182\n",
       "7 7    라이덴 쇼군 999999"
      ]
     },
     "metadata": {},
     "output_type": "display_data"
    }
   ],
   "source": [
    "번호 <- 1:7\n",
    "제목 <- c(\"진\",\"유라\",\"종려\",\"바르바토스\",\"레일라\",\"라이덴 에이\",\"라이덴 쇼군\")\n",
    "좋아요 <- c(21221, 35621, 92191, 12029, 83721, 999182, 999999)\n",
    "love <- data.frame(번호, 제목, 좋아요)\n",
    "love"
   ]
  },
  {
   "cell_type": "code",
   "execution_count": 73,
   "id": "13766313",
   "metadata": {},
   "outputs": [],
   "source": [
    "df = love"
   ]
  },
  {
   "cell_type": "code",
   "execution_count": 75,
   "id": "3ac731dd",
   "metadata": {},
   "outputs": [],
   "source": [
    "best <- df[df['좋아요'] == max(love['좋아요']), ]"
   ]
  },
  {
   "cell_type": "code",
   "execution_count": 76,
   "id": "e639cd6e",
   "metadata": {},
   "outputs": [
    {
     "data": {
      "text/html": [
       "<table class=\"dataframe\">\n",
       "<caption>A data.frame: 1 × 3</caption>\n",
       "<thead>\n",
       "\t<tr><th></th><th scope=col>번호</th><th scope=col>제목</th><th scope=col>좋아요</th></tr>\n",
       "\t<tr><th></th><th scope=col>&lt;int&gt;</th><th scope=col>&lt;chr&gt;</th><th scope=col>&lt;dbl&gt;</th></tr>\n",
       "</thead>\n",
       "<tbody>\n",
       "\t<tr><th scope=row>7</th><td>7</td><td>라이덴 쇼군</td><td>999999</td></tr>\n",
       "</tbody>\n",
       "</table>\n"
      ],
      "text/latex": [
       "A data.frame: 1 × 3\n",
       "\\begin{tabular}{r|lll}\n",
       "  & 번호 & 제목 & 좋아요\\\\\n",
       "  & <int> & <chr> & <dbl>\\\\\n",
       "\\hline\n",
       "\t7 & 7 & 라이덴 쇼군 & 999999\\\\\n",
       "\\end{tabular}\n"
      ],
      "text/markdown": [
       "\n",
       "A data.frame: 1 × 3\n",
       "\n",
       "| <!--/--> | 번호 &lt;int&gt; | 제목 &lt;chr&gt; | 좋아요 &lt;dbl&gt; |\n",
       "|---|---|---|---|\n",
       "| 7 | 7 | 라이덴 쇼군 | 999999 |\n",
       "\n"
      ],
      "text/plain": [
       "  번호 제목        좋아요\n",
       "7 7    라이덴 쇼군 999999"
      ]
     },
     "metadata": {},
     "output_type": "display_data"
    }
   ],
   "source": [
    "best"
   ]
  },
  {
   "cell_type": "code",
   "execution_count": 77,
   "id": "d256650a",
   "metadata": {},
   "outputs": [],
   "source": [
    "df = cars"
   ]
  },
  {
   "cell_type": "code",
   "execution_count": 78,
   "id": "6a92e431",
   "metadata": {},
   "outputs": [
    {
     "data": {
      "text/html": [
       "'data.frame'"
      ],
      "text/latex": [
       "'data.frame'"
      ],
      "text/markdown": [
       "'data.frame'"
      ],
      "text/plain": [
       "[1] \"data.frame\""
      ]
     },
     "metadata": {},
     "output_type": "display_data"
    }
   ],
   "source": [
    "class(cars)"
   ]
  },
  {
   "cell_type": "code",
   "execution_count": 80,
   "id": "0f5f23d4",
   "metadata": {},
   "outputs": [
    {
     "data": {
      "text/html": [
       "<style>\n",
       ".list-inline {list-style: none; margin:0; padding: 0}\n",
       ".list-inline>li {display: inline-block}\n",
       ".list-inline>li:not(:last-child)::after {content: \"\\00b7\"; padding: 0 .5ex}\n",
       "</style>\n",
       "<ol class=list-inline><li>50</li><li>2</li></ol>\n"
      ],
      "text/latex": [
       "\\begin{enumerate*}\n",
       "\\item 50\n",
       "\\item 2\n",
       "\\end{enumerate*}\n"
      ],
      "text/markdown": [
       "1. 50\n",
       "2. 2\n",
       "\n",
       "\n"
      ],
      "text/plain": [
       "[1] 50  2"
      ]
     },
     "metadata": {},
     "output_type": "display_data"
    }
   ],
   "source": [
    "dim(cars)"
   ]
  },
  {
   "cell_type": "code",
   "execution_count": 81,
   "id": "3af55cd6",
   "metadata": {},
   "outputs": [
    {
     "data": {
      "text/html": [
       "<table class=\"dataframe\">\n",
       "<caption>A data.frame: 6 × 2</caption>\n",
       "<thead>\n",
       "\t<tr><th></th><th scope=col>speed</th><th scope=col>dist</th></tr>\n",
       "\t<tr><th></th><th scope=col>&lt;dbl&gt;</th><th scope=col>&lt;dbl&gt;</th></tr>\n",
       "</thead>\n",
       "<tbody>\n",
       "\t<tr><th scope=row>1</th><td>4</td><td> 2</td></tr>\n",
       "\t<tr><th scope=row>2</th><td>4</td><td>10</td></tr>\n",
       "\t<tr><th scope=row>3</th><td>7</td><td> 4</td></tr>\n",
       "\t<tr><th scope=row>4</th><td>7</td><td>22</td></tr>\n",
       "\t<tr><th scope=row>5</th><td>8</td><td>16</td></tr>\n",
       "\t<tr><th scope=row>6</th><td>9</td><td>10</td></tr>\n",
       "</tbody>\n",
       "</table>\n"
      ],
      "text/latex": [
       "A data.frame: 6 × 2\n",
       "\\begin{tabular}{r|ll}\n",
       "  & speed & dist\\\\\n",
       "  & <dbl> & <dbl>\\\\\n",
       "\\hline\n",
       "\t1 & 4 &  2\\\\\n",
       "\t2 & 4 & 10\\\\\n",
       "\t3 & 7 &  4\\\\\n",
       "\t4 & 7 & 22\\\\\n",
       "\t5 & 8 & 16\\\\\n",
       "\t6 & 9 & 10\\\\\n",
       "\\end{tabular}\n"
      ],
      "text/markdown": [
       "\n",
       "A data.frame: 6 × 2\n",
       "\n",
       "| <!--/--> | speed &lt;dbl&gt; | dist &lt;dbl&gt; |\n",
       "|---|---|---|\n",
       "| 1 | 4 |  2 |\n",
       "| 2 | 4 | 10 |\n",
       "| 3 | 7 |  4 |\n",
       "| 4 | 7 | 22 |\n",
       "| 5 | 8 | 16 |\n",
       "| 6 | 9 | 10 |\n",
       "\n"
      ],
      "text/plain": [
       "  speed dist\n",
       "1 4      2  \n",
       "2 4     10  \n",
       "3 7      4  \n",
       "4 7     22  \n",
       "5 8     16  \n",
       "6 9     10  "
      ]
     },
     "metadata": {},
     "output_type": "display_data"
    }
   ],
   "source": [
    "head(cars)"
   ]
  },
  {
   "cell_type": "code",
   "execution_count": 82,
   "id": "e429c396",
   "metadata": {},
   "outputs": [
    {
     "name": "stdout",
     "output_type": "stream",
     "text": [
      "'data.frame':\t50 obs. of  2 variables:\n",
      " $ speed: num  4 4 7 7 8 9 10 10 10 11 ...\n",
      " $ dist : num  2 10 4 22 16 10 18 26 34 17 ...\n"
     ]
    }
   ],
   "source": [
    "str(cars)"
   ]
  },
  {
   "cell_type": "code",
   "execution_count": 83,
   "id": "c6fbb542",
   "metadata": {},
   "outputs": [
    {
     "data": {
      "text/html": [
       "<style>\n",
       ".dl-inline {width: auto; margin:0; padding: 0}\n",
       ".dl-inline>dt, .dl-inline>dd {float: none; width: auto; display: inline-block}\n",
       ".dl-inline>dt::after {content: \":\\0020\"; padding-right: .5ex}\n",
       ".dl-inline>dt:not(:first-of-type) {padding-left: .5ex}\n",
       "</style><dl class=dl-inline><dt>speed</dt><dd>15.4</dd><dt>dist</dt><dd>42.98</dd></dl>\n"
      ],
      "text/latex": [
       "\\begin{description*}\n",
       "\\item[speed] 15.4\n",
       "\\item[dist] 42.98\n",
       "\\end{description*}\n"
      ],
      "text/markdown": [
       "speed\n",
       ":   15.4dist\n",
       ":   42.98\n",
       "\n"
      ],
      "text/plain": [
       "speed  dist \n",
       "15.40 42.98 "
      ]
     },
     "metadata": {},
     "output_type": "display_data"
    }
   ],
   "source": [
    "colMeans(df)"
   ]
  },
  {
   "cell_type": "code",
   "execution_count": 86,
   "id": "09a51e68",
   "metadata": {},
   "outputs": [
    {
     "data": {
      "text/html": [
       "120"
      ],
      "text/latex": [
       "120"
      ],
      "text/markdown": [
       "120"
      ],
      "text/plain": [
       "[1] 120"
      ]
     },
     "metadata": {},
     "output_type": "display_data"
    }
   ],
   "source": [
    "df[df['dist'] == max(df['dist']), 'dist']"
   ]
  },
  {
   "cell_type": "code",
   "execution_count": 87,
   "id": "da0cd045",
   "metadata": {},
   "outputs": [
    {
     "data": {
      "text/html": [
       "120"
      ],
      "text/latex": [
       "120"
      ],
      "text/markdown": [
       "120"
      ],
      "text/plain": [
       "[1] 120"
      ]
     },
     "metadata": {},
     "output_type": "display_data"
    }
   ],
   "source": [
    "max(df$dist)"
   ]
  },
  {
   "cell_type": "code",
   "execution_count": 89,
   "id": "96ee6e90",
   "metadata": {},
   "outputs": [
    {
     "data": {
      "text/html": [
       "<table class=\"dataframe\">\n",
       "<caption>A data.frame: 1 × 2</caption>\n",
       "<thead>\n",
       "\t<tr><th></th><th scope=col>speed</th><th scope=col>dist</th></tr>\n",
       "\t<tr><th></th><th scope=col>&lt;dbl&gt;</th><th scope=col>&lt;dbl&gt;</th></tr>\n",
       "</thead>\n",
       "<tbody>\n",
       "\t<tr><th scope=row>49</th><td>24</td><td>120</td></tr>\n",
       "</tbody>\n",
       "</table>\n"
      ],
      "text/latex": [
       "A data.frame: 1 × 2\n",
       "\\begin{tabular}{r|ll}\n",
       "  & speed & dist\\\\\n",
       "  & <dbl> & <dbl>\\\\\n",
       "\\hline\n",
       "\t49 & 24 & 120\\\\\n",
       "\\end{tabular}\n"
      ],
      "text/markdown": [
       "\n",
       "A data.frame: 1 × 2\n",
       "\n",
       "| <!--/--> | speed &lt;dbl&gt; | dist &lt;dbl&gt; |\n",
       "|---|---|---|\n",
       "| 49 | 24 | 120 |\n",
       "\n"
      ],
      "text/plain": [
       "   speed dist\n",
       "49 24    120 "
      ]
     },
     "metadata": {},
     "output_type": "display_data"
    }
   ],
   "source": [
    "df[df['dist'] == max(df['dist']), ]"
   ]
  },
  {
   "cell_type": "code",
   "execution_count": 90,
   "id": "2bbd75d4",
   "metadata": {},
   "outputs": [
    {
     "data": {
      "text/html": [
       "<table class=\"dataframe\">\n",
       "<caption>A data.frame: 1 × 2</caption>\n",
       "<thead>\n",
       "\t<tr><th></th><th scope=col>speed</th><th scope=col>dist</th></tr>\n",
       "\t<tr><th></th><th scope=col>&lt;dbl&gt;</th><th scope=col>&lt;dbl&gt;</th></tr>\n",
       "</thead>\n",
       "<tbody>\n",
       "\t<tr><th scope=row>49</th><td>24</td><td>120</td></tr>\n",
       "</tbody>\n",
       "</table>\n"
      ],
      "text/latex": [
       "A data.frame: 1 × 2\n",
       "\\begin{tabular}{r|ll}\n",
       "  & speed & dist\\\\\n",
       "  & <dbl> & <dbl>\\\\\n",
       "\\hline\n",
       "\t49 & 24 & 120\\\\\n",
       "\\end{tabular}\n"
      ],
      "text/markdown": [
       "\n",
       "A data.frame: 1 × 2\n",
       "\n",
       "| <!--/--> | speed &lt;dbl&gt; | dist &lt;dbl&gt; |\n",
       "|---|---|---|\n",
       "| 49 | 24 | 120 |\n",
       "\n"
      ],
      "text/plain": [
       "   speed dist\n",
       "49 24    120 "
      ]
     },
     "metadata": {},
     "output_type": "display_data"
    }
   ],
   "source": [
    "subset(df, df['dist'] == max(df['dist']))"
   ]
  },
  {
   "cell_type": "code",
   "execution_count": 91,
   "id": "a63210c7",
   "metadata": {},
   "outputs": [
    {
     "name": "stdout",
     "output_type": "stream",
     "text": [
      "반지름이 10 인 원의 면적 :  314 \n",
      "반지름이 12 인 원의 면적 :  452.16 \n",
      "반지름이 15 인 원의 면적 :  706.5 \n"
     ]
    }
   ],
   "source": [
    "pi <- 3.14\n",
    "round <- c(10, 12, 15)\n",
    "for(i in 1:3){\n",
    "    cat(\"반지름이\",round[i],\"인 원의 면적 : \", pi * ( round[i] ^ 2 ),\"\\n\")\n",
    "}"
   ]
  },
  {
   "cell_type": "code",
   "execution_count": 92,
   "id": "45ff9d7e",
   "metadata": {},
   "outputs": [
    {
     "name": "stdout",
     "output_type": "stream",
     "text": [
      "x가 6 일 때, 2*x^2+5*x+10의 값 :  112 \n",
      "x가 8 일 때, 2*x^2+5*x+10의 값 :  178 \n",
      "x가 10 일 때, 2*x^2+5*x+10의 값 :  260 \n"
     ]
    }
   ],
   "source": [
    "x <- c(6, 8, 10)\n",
    "for(i in 1:3){\n",
    "    cat(\"x가\",x[i],\"일 때, 2*x^2+5*x+10의 값 : \", 2 * x[i] ^ 2 + 5 * x[i] + 10, \"\\n\")\n",
    "}"
   ]
  },
  {
   "cell_type": "code",
   "execution_count": 93,
   "id": "d3c2ca52",
   "metadata": {},
   "outputs": [
    {
     "ename": "ERROR",
     "evalue": "Error in eval(expr, envir, enclos): object 'val.b' not found\n",
     "output_type": "error",
     "traceback": [
      "Error in eval(expr, envir, enclos): object 'val.b' not found\nTraceback:\n"
     ]
    }
   ],
   "source": [
    "val.a <- 10\n",
    "val.ab <- val.a + val.b"
   ]
  },
  {
   "cell_type": "code",
   "execution_count": 95,
   "id": "015b8678",
   "metadata": {},
   "outputs": [
    {
     "data": {
      "text/html": [
       "10"
      ],
      "text/latex": [
       "10"
      ],
      "text/markdown": [
       "10"
      ],
      "text/plain": [
       "[1] 10"
      ]
     },
     "metadata": {},
     "output_type": "display_data"
    }
   ],
   "source": [
    "val.a <- 10\n",
    "val.b <- 0\n",
    "val.ab <- val.a + val.b\n",
    "val.ab"
   ]
  },
  {
   "cell_type": "code",
   "execution_count": 96,
   "id": "06078adc",
   "metadata": {},
   "outputs": [
    {
     "data": {
      "text/html": [
       "<style>\n",
       ".list-inline {list-style: none; margin:0; padding: 0}\n",
       ".list-inline>li {display: inline-block}\n",
       ".list-inline>li:not(:last-child)::after {content: \"\\00b7\"; padding: 0 .5ex}\n",
       "</style>\n",
       "<ol class=list-inline><li>95</li><li>86</li><li>47</li><li>55</li><li>68</li></ol>\n"
      ],
      "text/latex": [
       "\\begin{enumerate*}\n",
       "\\item 95\n",
       "\\item 86\n",
       "\\item 47\n",
       "\\item 55\n",
       "\\item 68\n",
       "\\end{enumerate*}\n"
      ],
      "text/markdown": [
       "1. 95\n",
       "2. 86\n",
       "3. 47\n",
       "4. 55\n",
       "5. 68\n",
       "\n",
       "\n"
      ],
      "text/plain": [
       "[1] 95 86 47 55 68"
      ]
     },
     "metadata": {},
     "output_type": "display_data"
    }
   ],
   "source": [
    "vc.1 <- c(95, 86, 47, 55, 68)\n",
    "vc.1"
   ]
  },
  {
   "cell_type": "code",
   "execution_count": 97,
   "id": "28cde0cb",
   "metadata": {},
   "outputs": [
    {
     "data": {
      "text/html": [
       "<style>\n",
       ".list-inline {list-style: none; margin:0; padding: 0}\n",
       ".list-inline>li {display: inline-block}\n",
       ".list-inline>li:not(:last-child)::after {content: \"\\00b7\"; padding: 0 .5ex}\n",
       "</style>\n",
       "<ol class=list-inline><li>100</li><li>102</li><li>104</li><li>106</li><li>108</li><li>110</li><li>112</li><li>114</li><li>116</li><li>118</li><li>120</li><li>122</li><li>124</li><li>126</li><li>128</li><li>130</li><li>132</li><li>134</li><li>136</li><li>138</li><li>140</li><li>142</li><li>144</li><li>146</li><li>148</li><li>150</li><li>152</li><li>154</li><li>156</li><li>158</li><li>160</li><li>162</li><li>164</li><li>166</li><li>168</li><li>170</li><li>172</li><li>174</li><li>176</li><li>178</li><li>180</li><li>182</li><li>184</li><li>186</li><li>188</li><li>190</li><li>192</li><li>194</li><li>196</li><li>198</li><li>200</li></ol>\n"
      ],
      "text/latex": [
       "\\begin{enumerate*}\n",
       "\\item 100\n",
       "\\item 102\n",
       "\\item 104\n",
       "\\item 106\n",
       "\\item 108\n",
       "\\item 110\n",
       "\\item 112\n",
       "\\item 114\n",
       "\\item 116\n",
       "\\item 118\n",
       "\\item 120\n",
       "\\item 122\n",
       "\\item 124\n",
       "\\item 126\n",
       "\\item 128\n",
       "\\item 130\n",
       "\\item 132\n",
       "\\item 134\n",
       "\\item 136\n",
       "\\item 138\n",
       "\\item 140\n",
       "\\item 142\n",
       "\\item 144\n",
       "\\item 146\n",
       "\\item 148\n",
       "\\item 150\n",
       "\\item 152\n",
       "\\item 154\n",
       "\\item 156\n",
       "\\item 158\n",
       "\\item 160\n",
       "\\item 162\n",
       "\\item 164\n",
       "\\item 166\n",
       "\\item 168\n",
       "\\item 170\n",
       "\\item 172\n",
       "\\item 174\n",
       "\\item 176\n",
       "\\item 178\n",
       "\\item 180\n",
       "\\item 182\n",
       "\\item 184\n",
       "\\item 186\n",
       "\\item 188\n",
       "\\item 190\n",
       "\\item 192\n",
       "\\item 194\n",
       "\\item 196\n",
       "\\item 198\n",
       "\\item 200\n",
       "\\end{enumerate*}\n"
      ],
      "text/markdown": [
       "1. 100\n",
       "2. 102\n",
       "3. 104\n",
       "4. 106\n",
       "5. 108\n",
       "6. 110\n",
       "7. 112\n",
       "8. 114\n",
       "9. 116\n",
       "10. 118\n",
       "11. 120\n",
       "12. 122\n",
       "13. 124\n",
       "14. 126\n",
       "15. 128\n",
       "16. 130\n",
       "17. 132\n",
       "18. 134\n",
       "19. 136\n",
       "20. 138\n",
       "21. 140\n",
       "22. 142\n",
       "23. 144\n",
       "24. 146\n",
       "25. 148\n",
       "26. 150\n",
       "27. 152\n",
       "28. 154\n",
       "29. 156\n",
       "30. 158\n",
       "31. 160\n",
       "32. 162\n",
       "33. 164\n",
       "34. 166\n",
       "35. 168\n",
       "36. 170\n",
       "37. 172\n",
       "38. 174\n",
       "39. 176\n",
       "40. 178\n",
       "41. 180\n",
       "42. 182\n",
       "43. 184\n",
       "44. 186\n",
       "45. 188\n",
       "46. 190\n",
       "47. 192\n",
       "48. 194\n",
       "49. 196\n",
       "50. 198\n",
       "51. 200\n",
       "\n",
       "\n"
      ],
      "text/plain": [
       " [1] 100 102 104 106 108 110 112 114 116 118 120 122 124 126 128 130 132 134 136\n",
       "[20] 138 140 142 144 146 148 150 152 154 156 158 160 162 164 166 168 170 172 174\n",
       "[39] 176 178 180 182 184 186 188 190 192 194 196 198 200"
      ]
     },
     "metadata": {},
     "output_type": "display_data"
    }
   ],
   "source": [
    "vc.2 <- seq(100, 200, 2)\n",
    "vc.2"
   ]
  },
  {
   "cell_type": "code",
   "execution_count": 99,
   "id": "744fb8c4",
   "metadata": {},
   "outputs": [
    {
     "data": {
      "text/html": [
       "<style>\n",
       ".list-inline {list-style: none; margin:0; padding: 0}\n",
       ".list-inline>li {display: inline-block}\n",
       ".list-inline>li:not(:last-child)::after {content: \"\\00b7\"; padding: 0 .5ex}\n",
       "</style>\n",
       "<ol class=list-inline><li>TRUE</li><li>TRUE</li><li>TRUE</li><li>TRUE</li><li>TRUE</li><li>TRUE</li><li>TRUE</li><li>TRUE</li><li>TRUE</li><li>TRUE</li><li>TRUE</li><li>TRUE</li><li>TRUE</li><li>TRUE</li><li>TRUE</li><li>TRUE</li><li>TRUE</li><li>TRUE</li><li>TRUE</li><li>TRUE</li></ol>\n"
      ],
      "text/latex": [
       "\\begin{enumerate*}\n",
       "\\item TRUE\n",
       "\\item TRUE\n",
       "\\item TRUE\n",
       "\\item TRUE\n",
       "\\item TRUE\n",
       "\\item TRUE\n",
       "\\item TRUE\n",
       "\\item TRUE\n",
       "\\item TRUE\n",
       "\\item TRUE\n",
       "\\item TRUE\n",
       "\\item TRUE\n",
       "\\item TRUE\n",
       "\\item TRUE\n",
       "\\item TRUE\n",
       "\\item TRUE\n",
       "\\item TRUE\n",
       "\\item TRUE\n",
       "\\item TRUE\n",
       "\\item TRUE\n",
       "\\end{enumerate*}\n"
      ],
      "text/markdown": [
       "1. TRUE\n",
       "2. TRUE\n",
       "3. TRUE\n",
       "4. TRUE\n",
       "5. TRUE\n",
       "6. TRUE\n",
       "7. TRUE\n",
       "8. TRUE\n",
       "9. TRUE\n",
       "10. TRUE\n",
       "11. TRUE\n",
       "12. TRUE\n",
       "13. TRUE\n",
       "14. TRUE\n",
       "15. TRUE\n",
       "16. TRUE\n",
       "17. TRUE\n",
       "18. TRUE\n",
       "19. TRUE\n",
       "20. TRUE\n",
       "\n",
       "\n"
      ],
      "text/plain": [
       " [1] TRUE TRUE TRUE TRUE TRUE TRUE TRUE TRUE TRUE TRUE TRUE TRUE TRUE TRUE TRUE\n",
       "[16] TRUE TRUE TRUE TRUE TRUE"
      ]
     },
     "metadata": {},
     "output_type": "display_data"
    }
   ],
   "source": [
    "vc.3 <- rep(TRUE, 20)\n",
    "vc.3"
   ]
  },
  {
   "cell_type": "code",
   "execution_count": 100,
   "id": "fa3e454a",
   "metadata": {},
   "outputs": [
    {
     "data": {
      "text/html": [
       "<style>\n",
       ".list-inline {list-style: none; margin:0; padding: 0}\n",
       ".list-inline>li {display: inline-block}\n",
       ".list-inline>li:not(:last-child)::after {content: \"\\00b7\"; padding: 0 .5ex}\n",
       "</style>\n",
       "<ol class=list-inline><li>100</li><li>101</li><li>102</li><li>103</li><li>104</li><li>105</li><li>106</li><li>107</li><li>108</li><li>109</li><li>110</li><li>111</li><li>112</li><li>113</li><li>114</li><li>115</li><li>116</li><li>117</li><li>118</li><li>119</li><li>120</li><li>121</li><li>122</li><li>123</li><li>124</li><li>125</li><li>126</li><li>127</li><li>128</li><li>129</li><li>130</li><li>131</li><li>132</li><li>133</li><li>134</li><li>135</li><li>136</li><li>137</li><li>138</li><li>139</li><li>140</li><li>141</li><li>142</li><li>143</li><li>144</li><li>145</li><li>146</li><li>147</li><li>148</li><li>149</li><li>150</li><li>151</li><li>152</li><li>153</li><li>154</li><li>155</li><li>156</li><li>157</li><li>158</li><li>159</li><li>160</li><li>161</li><li>162</li><li>163</li><li>164</li><li>165</li><li>166</li><li>167</li><li>168</li><li>169</li><li>170</li><li>171</li><li>172</li><li>173</li><li>174</li><li>175</li><li>176</li><li>177</li><li>178</li><li>179</li><li>180</li><li>181</li><li>182</li><li>183</li><li>184</li><li>185</li><li>186</li><li>187</li><li>188</li><li>189</li><li>190</li><li>191</li><li>192</li><li>193</li><li>194</li><li>195</li><li>196</li><li>197</li><li>198</li><li>199</li><li>200</li></ol>\n"
      ],
      "text/latex": [
       "\\begin{enumerate*}\n",
       "\\item 100\n",
       "\\item 101\n",
       "\\item 102\n",
       "\\item 103\n",
       "\\item 104\n",
       "\\item 105\n",
       "\\item 106\n",
       "\\item 107\n",
       "\\item 108\n",
       "\\item 109\n",
       "\\item 110\n",
       "\\item 111\n",
       "\\item 112\n",
       "\\item 113\n",
       "\\item 114\n",
       "\\item 115\n",
       "\\item 116\n",
       "\\item 117\n",
       "\\item 118\n",
       "\\item 119\n",
       "\\item 120\n",
       "\\item 121\n",
       "\\item 122\n",
       "\\item 123\n",
       "\\item 124\n",
       "\\item 125\n",
       "\\item 126\n",
       "\\item 127\n",
       "\\item 128\n",
       "\\item 129\n",
       "\\item 130\n",
       "\\item 131\n",
       "\\item 132\n",
       "\\item 133\n",
       "\\item 134\n",
       "\\item 135\n",
       "\\item 136\n",
       "\\item 137\n",
       "\\item 138\n",
       "\\item 139\n",
       "\\item 140\n",
       "\\item 141\n",
       "\\item 142\n",
       "\\item 143\n",
       "\\item 144\n",
       "\\item 145\n",
       "\\item 146\n",
       "\\item 147\n",
       "\\item 148\n",
       "\\item 149\n",
       "\\item 150\n",
       "\\item 151\n",
       "\\item 152\n",
       "\\item 153\n",
       "\\item 154\n",
       "\\item 155\n",
       "\\item 156\n",
       "\\item 157\n",
       "\\item 158\n",
       "\\item 159\n",
       "\\item 160\n",
       "\\item 161\n",
       "\\item 162\n",
       "\\item 163\n",
       "\\item 164\n",
       "\\item 165\n",
       "\\item 166\n",
       "\\item 167\n",
       "\\item 168\n",
       "\\item 169\n",
       "\\item 170\n",
       "\\item 171\n",
       "\\item 172\n",
       "\\item 173\n",
       "\\item 174\n",
       "\\item 175\n",
       "\\item 176\n",
       "\\item 177\n",
       "\\item 178\n",
       "\\item 179\n",
       "\\item 180\n",
       "\\item 181\n",
       "\\item 182\n",
       "\\item 183\n",
       "\\item 184\n",
       "\\item 185\n",
       "\\item 186\n",
       "\\item 187\n",
       "\\item 188\n",
       "\\item 189\n",
       "\\item 190\n",
       "\\item 191\n",
       "\\item 192\n",
       "\\item 193\n",
       "\\item 194\n",
       "\\item 195\n",
       "\\item 196\n",
       "\\item 197\n",
       "\\item 198\n",
       "\\item 199\n",
       "\\item 200\n",
       "\\end{enumerate*}\n"
      ],
      "text/markdown": [
       "1. 100\n",
       "2. 101\n",
       "3. 102\n",
       "4. 103\n",
       "5. 104\n",
       "6. 105\n",
       "7. 106\n",
       "8. 107\n",
       "9. 108\n",
       "10. 109\n",
       "11. 110\n",
       "12. 111\n",
       "13. 112\n",
       "14. 113\n",
       "15. 114\n",
       "16. 115\n",
       "17. 116\n",
       "18. 117\n",
       "19. 118\n",
       "20. 119\n",
       "21. 120\n",
       "22. 121\n",
       "23. 122\n",
       "24. 123\n",
       "25. 124\n",
       "26. 125\n",
       "27. 126\n",
       "28. 127\n",
       "29. 128\n",
       "30. 129\n",
       "31. 130\n",
       "32. 131\n",
       "33. 132\n",
       "34. 133\n",
       "35. 134\n",
       "36. 135\n",
       "37. 136\n",
       "38. 137\n",
       "39. 138\n",
       "40. 139\n",
       "41. 140\n",
       "42. 141\n",
       "43. 142\n",
       "44. 143\n",
       "45. 144\n",
       "46. 145\n",
       "47. 146\n",
       "48. 147\n",
       "49. 148\n",
       "50. 149\n",
       "51. 150\n",
       "52. 151\n",
       "53. 152\n",
       "54. 153\n",
       "55. 154\n",
       "56. 155\n",
       "57. 156\n",
       "58. 157\n",
       "59. 158\n",
       "60. 159\n",
       "61. 160\n",
       "62. 161\n",
       "63. 162\n",
       "64. 163\n",
       "65. 164\n",
       "66. 165\n",
       "67. 166\n",
       "68. 167\n",
       "69. 168\n",
       "70. 169\n",
       "71. 170\n",
       "72. 171\n",
       "73. 172\n",
       "74. 173\n",
       "75. 174\n",
       "76. 175\n",
       "77. 176\n",
       "78. 177\n",
       "79. 178\n",
       "80. 179\n",
       "81. 180\n",
       "82. 181\n",
       "83. 182\n",
       "84. 183\n",
       "85. 184\n",
       "86. 185\n",
       "87. 186\n",
       "88. 187\n",
       "89. 188\n",
       "90. 189\n",
       "91. 190\n",
       "92. 191\n",
       "93. 192\n",
       "94. 193\n",
       "95. 194\n",
       "96. 195\n",
       "97. 196\n",
       "98. 197\n",
       "99. 198\n",
       "100. 199\n",
       "101. 200\n",
       "\n",
       "\n"
      ],
      "text/plain": [
       "  [1] 100 101 102 103 104 105 106 107 108 109 110 111 112 113 114 115 116 117\n",
       " [19] 118 119 120 121 122 123 124 125 126 127 128 129 130 131 132 133 134 135\n",
       " [37] 136 137 138 139 140 141 142 143 144 145 146 147 148 149 150 151 152 153\n",
       " [55] 154 155 156 157 158 159 160 161 162 163 164 165 166 167 168 169 170 171\n",
       " [73] 172 173 174 175 176 177 178 179 180 181 182 183 184 185 186 187 188 189\n",
       " [91] 190 191 192 193 194 195 196 197 198 199 200"
      ]
     },
     "metadata": {},
     "output_type": "display_data"
    }
   ],
   "source": [
    "d <- 100:200\n",
    "d"
   ]
  },
  {
   "cell_type": "code",
   "execution_count": 101,
   "id": "37c6aa76",
   "metadata": {},
   "outputs": [
    {
     "data": {
      "text/html": [
       "109"
      ],
      "text/latex": [
       "109"
      ],
      "text/markdown": [
       "109"
      ],
      "text/plain": [
       "[1] 109"
      ]
     },
     "metadata": {},
     "output_type": "display_data"
    }
   ],
   "source": [
    "d[10]"
   ]
  },
  {
   "cell_type": "code",
   "execution_count": 102,
   "id": "f529d1cc",
   "metadata": {},
   "outputs": [
    {
     "data": {
      "text/html": [
       "<style>\n",
       ".list-inline {list-style: none; margin:0; padding: 0}\n",
       ".list-inline>li {display: inline-block}\n",
       ".list-inline>li:not(:last-child)::after {content: \"\\00b7\"; padding: 0 .5ex}\n",
       "</style>\n",
       "<ol class=list-inline><li>190</li><li>191</li><li>192</li><li>193</li><li>194</li><li>195</li><li>196</li><li>197</li><li>198</li><li>199</li></ol>\n"
      ],
      "text/latex": [
       "\\begin{enumerate*}\n",
       "\\item 190\n",
       "\\item 191\n",
       "\\item 192\n",
       "\\item 193\n",
       "\\item 194\n",
       "\\item 195\n",
       "\\item 196\n",
       "\\item 197\n",
       "\\item 198\n",
       "\\item 199\n",
       "\\end{enumerate*}\n"
      ],
      "text/markdown": [
       "1. 190\n",
       "2. 191\n",
       "3. 192\n",
       "4. 193\n",
       "5. 194\n",
       "6. 195\n",
       "7. 196\n",
       "8. 197\n",
       "9. 198\n",
       "10. 199\n",
       "\n",
       "\n"
      ],
      "text/plain": [
       " [1] 190 191 192 193 194 195 196 197 198 199"
      ]
     },
     "metadata": {},
     "output_type": "display_data"
    }
   ],
   "source": [
    "d[91:100]"
   ]
  },
  {
   "cell_type": "code",
   "execution_count": 103,
   "id": "2a9f0e92",
   "metadata": {},
   "outputs": [
    {
     "data": {
      "text/html": [
       "<style>\n",
       ".list-inline {list-style: none; margin:0; padding: 0}\n",
       ".list-inline>li {display: inline-block}\n",
       ".list-inline>li:not(:last-child)::after {content: \"\\00b7\"; padding: 0 .5ex}\n",
       "</style>\n",
       "<ol class=list-inline><li>101</li><li>103</li><li>105</li><li>107</li><li>109</li><li>111</li><li>113</li><li>115</li><li>117</li><li>119</li><li>121</li><li>123</li><li>125</li><li>127</li><li>129</li><li>131</li><li>133</li><li>135</li><li>137</li><li>139</li><li>141</li><li>143</li><li>145</li><li>147</li><li>149</li><li>151</li><li>153</li><li>155</li><li>157</li><li>159</li><li>161</li><li>163</li><li>165</li><li>167</li><li>169</li><li>171</li><li>173</li><li>175</li><li>177</li><li>179</li><li>181</li><li>183</li><li>185</li><li>187</li><li>189</li><li>191</li><li>193</li><li>195</li><li>197</li><li>199</li></ol>\n"
      ],
      "text/latex": [
       "\\begin{enumerate*}\n",
       "\\item 101\n",
       "\\item 103\n",
       "\\item 105\n",
       "\\item 107\n",
       "\\item 109\n",
       "\\item 111\n",
       "\\item 113\n",
       "\\item 115\n",
       "\\item 117\n",
       "\\item 119\n",
       "\\item 121\n",
       "\\item 123\n",
       "\\item 125\n",
       "\\item 127\n",
       "\\item 129\n",
       "\\item 131\n",
       "\\item 133\n",
       "\\item 135\n",
       "\\item 137\n",
       "\\item 139\n",
       "\\item 141\n",
       "\\item 143\n",
       "\\item 145\n",
       "\\item 147\n",
       "\\item 149\n",
       "\\item 151\n",
       "\\item 153\n",
       "\\item 155\n",
       "\\item 157\n",
       "\\item 159\n",
       "\\item 161\n",
       "\\item 163\n",
       "\\item 165\n",
       "\\item 167\n",
       "\\item 169\n",
       "\\item 171\n",
       "\\item 173\n",
       "\\item 175\n",
       "\\item 177\n",
       "\\item 179\n",
       "\\item 181\n",
       "\\item 183\n",
       "\\item 185\n",
       "\\item 187\n",
       "\\item 189\n",
       "\\item 191\n",
       "\\item 193\n",
       "\\item 195\n",
       "\\item 197\n",
       "\\item 199\n",
       "\\end{enumerate*}\n"
      ],
      "text/markdown": [
       "1. 101\n",
       "2. 103\n",
       "3. 105\n",
       "4. 107\n",
       "5. 109\n",
       "6. 111\n",
       "7. 113\n",
       "8. 115\n",
       "9. 117\n",
       "10. 119\n",
       "11. 121\n",
       "12. 123\n",
       "13. 125\n",
       "14. 127\n",
       "15. 129\n",
       "16. 131\n",
       "17. 133\n",
       "18. 135\n",
       "19. 137\n",
       "20. 139\n",
       "21. 141\n",
       "22. 143\n",
       "23. 145\n",
       "24. 147\n",
       "25. 149\n",
       "26. 151\n",
       "27. 153\n",
       "28. 155\n",
       "29. 157\n",
       "30. 159\n",
       "31. 161\n",
       "32. 163\n",
       "33. 165\n",
       "34. 167\n",
       "35. 169\n",
       "36. 171\n",
       "37. 173\n",
       "38. 175\n",
       "39. 177\n",
       "40. 179\n",
       "41. 181\n",
       "42. 183\n",
       "43. 185\n",
       "44. 187\n",
       "45. 189\n",
       "46. 191\n",
       "47. 193\n",
       "48. 195\n",
       "49. 197\n",
       "50. 199\n",
       "\n",
       "\n"
      ],
      "text/plain": [
       " [1] 101 103 105 107 109 111 113 115 117 119 121 123 125 127 129 131 133 135 137\n",
       "[20] 139 141 143 145 147 149 151 153 155 157 159 161 163 165 167 169 171 173 175\n",
       "[39] 177 179 181 183 185 187 189 191 193 195 197 199"
      ]
     },
     "metadata": {},
     "output_type": "display_data"
    }
   ],
   "source": [
    "d[d%%2 == 1]"
   ]
  },
  {
   "cell_type": "code",
   "execution_count": 104,
   "id": "fd834fd3",
   "metadata": {},
   "outputs": [
    {
     "data": {
      "text/html": [
       "<style>\n",
       ".list-inline {list-style: none; margin:0; padding: 0}\n",
       ".list-inline>li {display: inline-block}\n",
       ".list-inline>li:not(:last-child)::after {content: \"\\00b7\"; padding: 0 .5ex}\n",
       "</style>\n",
       "<ol class=list-inline><li>102</li><li>105</li><li>108</li><li>111</li><li>114</li><li>117</li><li>120</li><li>123</li><li>126</li><li>129</li><li>132</li><li>135</li><li>138</li><li>141</li><li>144</li><li>147</li><li>150</li><li>153</li><li>156</li><li>159</li><li>162</li><li>165</li><li>168</li><li>171</li><li>174</li><li>177</li><li>180</li><li>183</li><li>186</li><li>189</li><li>192</li><li>195</li><li>198</li></ol>\n"
      ],
      "text/latex": [
       "\\begin{enumerate*}\n",
       "\\item 102\n",
       "\\item 105\n",
       "\\item 108\n",
       "\\item 111\n",
       "\\item 114\n",
       "\\item 117\n",
       "\\item 120\n",
       "\\item 123\n",
       "\\item 126\n",
       "\\item 129\n",
       "\\item 132\n",
       "\\item 135\n",
       "\\item 138\n",
       "\\item 141\n",
       "\\item 144\n",
       "\\item 147\n",
       "\\item 150\n",
       "\\item 153\n",
       "\\item 156\n",
       "\\item 159\n",
       "\\item 162\n",
       "\\item 165\n",
       "\\item 168\n",
       "\\item 171\n",
       "\\item 174\n",
       "\\item 177\n",
       "\\item 180\n",
       "\\item 183\n",
       "\\item 186\n",
       "\\item 189\n",
       "\\item 192\n",
       "\\item 195\n",
       "\\item 198\n",
       "\\end{enumerate*}\n"
      ],
      "text/markdown": [
       "1. 102\n",
       "2. 105\n",
       "3. 108\n",
       "4. 111\n",
       "5. 114\n",
       "6. 117\n",
       "7. 120\n",
       "8. 123\n",
       "9. 126\n",
       "10. 129\n",
       "11. 132\n",
       "12. 135\n",
       "13. 138\n",
       "14. 141\n",
       "15. 144\n",
       "16. 147\n",
       "17. 150\n",
       "18. 153\n",
       "19. 156\n",
       "20. 159\n",
       "21. 162\n",
       "22. 165\n",
       "23. 168\n",
       "24. 171\n",
       "25. 174\n",
       "26. 177\n",
       "27. 180\n",
       "28. 183\n",
       "29. 186\n",
       "30. 189\n",
       "31. 192\n",
       "32. 195\n",
       "33. 198\n",
       "\n",
       "\n"
      ],
      "text/plain": [
       " [1] 102 105 108 111 114 117 120 123 126 129 132 135 138 141 144 147 150 153 156\n",
       "[20] 159 162 165 168 171 174 177 180 183 186 189 192 195 198"
      ]
     },
     "metadata": {},
     "output_type": "display_data"
    }
   ],
   "source": [
    "d[d%%3 == 0]"
   ]
  },
  {
   "cell_type": "code",
   "execution_count": 105,
   "id": "88c7692a",
   "metadata": {},
   "outputs": [
    {
     "data": {
      "text/html": [
       "<style>\n",
       ".list-inline {list-style: none; margin:0; padding: 0}\n",
       ".list-inline>li {display: inline-block}\n",
       ".list-inline>li:not(:last-child)::after {content: \"\\00b7\"; padding: 0 .5ex}\n",
       "</style>\n",
       "<ol class=list-inline><li>100</li><li>101</li><li>102</li><li>103</li><li>104</li><li>105</li><li>106</li><li>107</li><li>108</li><li>109</li><li>110</li><li>111</li><li>112</li><li>113</li><li>114</li><li>115</li><li>116</li><li>117</li><li>118</li><li>119</li></ol>\n"
      ],
      "text/latex": [
       "\\begin{enumerate*}\n",
       "\\item 100\n",
       "\\item 101\n",
       "\\item 102\n",
       "\\item 103\n",
       "\\item 104\n",
       "\\item 105\n",
       "\\item 106\n",
       "\\item 107\n",
       "\\item 108\n",
       "\\item 109\n",
       "\\item 110\n",
       "\\item 111\n",
       "\\item 112\n",
       "\\item 113\n",
       "\\item 114\n",
       "\\item 115\n",
       "\\item 116\n",
       "\\item 117\n",
       "\\item 118\n",
       "\\item 119\n",
       "\\end{enumerate*}\n"
      ],
      "text/markdown": [
       "1. 100\n",
       "2. 101\n",
       "3. 102\n",
       "4. 103\n",
       "5. 104\n",
       "6. 105\n",
       "7. 106\n",
       "8. 107\n",
       "9. 108\n",
       "10. 109\n",
       "11. 110\n",
       "12. 111\n",
       "13. 112\n",
       "14. 113\n",
       "15. 114\n",
       "16. 115\n",
       "17. 116\n",
       "18. 117\n",
       "19. 118\n",
       "20. 119\n",
       "\n",
       "\n"
      ],
      "text/plain": [
       " [1] 100 101 102 103 104 105 106 107 108 109 110 111 112 113 114 115 116 117 118\n",
       "[20] 119"
      ]
     },
     "metadata": {},
     "output_type": "display_data"
    }
   ],
   "source": [
    "d.20 <- d[1:20]\n",
    "d.20"
   ]
  },
  {
   "cell_type": "code",
   "execution_count": 106,
   "id": "26aaf172",
   "metadata": {},
   "outputs": [
    {
     "data": {
      "text/html": [
       "<style>\n",
       ".list-inline {list-style: none; margin:0; padding: 0}\n",
       ".list-inline>li {display: inline-block}\n",
       ".list-inline>li:not(:last-child)::after {content: \"\\00b7\"; padding: 0 .5ex}\n",
       "</style>\n",
       "<ol class=list-inline><li>100</li><li>101</li><li>102</li><li>103</li><li>105</li><li>106</li><li>107</li><li>108</li><li>109</li><li>110</li><li>111</li><li>112</li><li>113</li><li>114</li><li>115</li><li>116</li><li>117</li><li>118</li><li>119</li><li>120</li><li>121</li><li>122</li><li>123</li><li>124</li><li>125</li><li>126</li><li>127</li><li>128</li><li>129</li><li>130</li><li>131</li><li>132</li><li>133</li><li>134</li><li>135</li><li>136</li><li>137</li><li>138</li><li>139</li><li>140</li><li>141</li><li>142</li><li>143</li><li>144</li><li>145</li><li>146</li><li>147</li><li>148</li><li>149</li><li>150</li><li>151</li><li>152</li><li>153</li><li>154</li><li>155</li><li>156</li><li>157</li><li>158</li><li>159</li><li>160</li><li>161</li><li>162</li><li>163</li><li>164</li><li>165</li><li>166</li><li>167</li><li>168</li><li>169</li><li>170</li><li>171</li><li>172</li><li>173</li><li>174</li><li>175</li><li>176</li><li>177</li><li>178</li><li>179</li><li>180</li><li>181</li><li>182</li><li>183</li><li>184</li><li>185</li><li>186</li><li>187</li><li>188</li><li>189</li><li>190</li><li>191</li><li>192</li><li>193</li><li>194</li><li>195</li><li>196</li><li>197</li><li>198</li><li>199</li><li>200</li></ol>\n"
      ],
      "text/latex": [
       "\\begin{enumerate*}\n",
       "\\item 100\n",
       "\\item 101\n",
       "\\item 102\n",
       "\\item 103\n",
       "\\item 105\n",
       "\\item 106\n",
       "\\item 107\n",
       "\\item 108\n",
       "\\item 109\n",
       "\\item 110\n",
       "\\item 111\n",
       "\\item 112\n",
       "\\item 113\n",
       "\\item 114\n",
       "\\item 115\n",
       "\\item 116\n",
       "\\item 117\n",
       "\\item 118\n",
       "\\item 119\n",
       "\\item 120\n",
       "\\item 121\n",
       "\\item 122\n",
       "\\item 123\n",
       "\\item 124\n",
       "\\item 125\n",
       "\\item 126\n",
       "\\item 127\n",
       "\\item 128\n",
       "\\item 129\n",
       "\\item 130\n",
       "\\item 131\n",
       "\\item 132\n",
       "\\item 133\n",
       "\\item 134\n",
       "\\item 135\n",
       "\\item 136\n",
       "\\item 137\n",
       "\\item 138\n",
       "\\item 139\n",
       "\\item 140\n",
       "\\item 141\n",
       "\\item 142\n",
       "\\item 143\n",
       "\\item 144\n",
       "\\item 145\n",
       "\\item 146\n",
       "\\item 147\n",
       "\\item 148\n",
       "\\item 149\n",
       "\\item 150\n",
       "\\item 151\n",
       "\\item 152\n",
       "\\item 153\n",
       "\\item 154\n",
       "\\item 155\n",
       "\\item 156\n",
       "\\item 157\n",
       "\\item 158\n",
       "\\item 159\n",
       "\\item 160\n",
       "\\item 161\n",
       "\\item 162\n",
       "\\item 163\n",
       "\\item 164\n",
       "\\item 165\n",
       "\\item 166\n",
       "\\item 167\n",
       "\\item 168\n",
       "\\item 169\n",
       "\\item 170\n",
       "\\item 171\n",
       "\\item 172\n",
       "\\item 173\n",
       "\\item 174\n",
       "\\item 175\n",
       "\\item 176\n",
       "\\item 177\n",
       "\\item 178\n",
       "\\item 179\n",
       "\\item 180\n",
       "\\item 181\n",
       "\\item 182\n",
       "\\item 183\n",
       "\\item 184\n",
       "\\item 185\n",
       "\\item 186\n",
       "\\item 187\n",
       "\\item 188\n",
       "\\item 189\n",
       "\\item 190\n",
       "\\item 191\n",
       "\\item 192\n",
       "\\item 193\n",
       "\\item 194\n",
       "\\item 195\n",
       "\\item 196\n",
       "\\item 197\n",
       "\\item 198\n",
       "\\item 199\n",
       "\\item 200\n",
       "\\end{enumerate*}\n"
      ],
      "text/markdown": [
       "1. 100\n",
       "2. 101\n",
       "3. 102\n",
       "4. 103\n",
       "5. 105\n",
       "6. 106\n",
       "7. 107\n",
       "8. 108\n",
       "9. 109\n",
       "10. 110\n",
       "11. 111\n",
       "12. 112\n",
       "13. 113\n",
       "14. 114\n",
       "15. 115\n",
       "16. 116\n",
       "17. 117\n",
       "18. 118\n",
       "19. 119\n",
       "20. 120\n",
       "21. 121\n",
       "22. 122\n",
       "23. 123\n",
       "24. 124\n",
       "25. 125\n",
       "26. 126\n",
       "27. 127\n",
       "28. 128\n",
       "29. 129\n",
       "30. 130\n",
       "31. 131\n",
       "32. 132\n",
       "33. 133\n",
       "34. 134\n",
       "35. 135\n",
       "36. 136\n",
       "37. 137\n",
       "38. 138\n",
       "39. 139\n",
       "40. 140\n",
       "41. 141\n",
       "42. 142\n",
       "43. 143\n",
       "44. 144\n",
       "45. 145\n",
       "46. 146\n",
       "47. 147\n",
       "48. 148\n",
       "49. 149\n",
       "50. 150\n",
       "51. 151\n",
       "52. 152\n",
       "53. 153\n",
       "54. 154\n",
       "55. 155\n",
       "56. 156\n",
       "57. 157\n",
       "58. 158\n",
       "59. 159\n",
       "60. 160\n",
       "61. 161\n",
       "62. 162\n",
       "63. 163\n",
       "64. 164\n",
       "65. 165\n",
       "66. 166\n",
       "67. 167\n",
       "68. 168\n",
       "69. 169\n",
       "70. 170\n",
       "71. 171\n",
       "72. 172\n",
       "73. 173\n",
       "74. 174\n",
       "75. 175\n",
       "76. 176\n",
       "77. 177\n",
       "78. 178\n",
       "79. 179\n",
       "80. 180\n",
       "81. 181\n",
       "82. 182\n",
       "83. 183\n",
       "84. 184\n",
       "85. 185\n",
       "86. 186\n",
       "87. 187\n",
       "88. 188\n",
       "89. 189\n",
       "90. 190\n",
       "91. 191\n",
       "92. 192\n",
       "93. 193\n",
       "94. 194\n",
       "95. 195\n",
       "96. 196\n",
       "97. 197\n",
       "98. 198\n",
       "99. 199\n",
       "100. 200\n",
       "\n",
       "\n"
      ],
      "text/plain": [
       "  [1] 100 101 102 103 105 106 107 108 109 110 111 112 113 114 115 116 117 118\n",
       " [19] 119 120 121 122 123 124 125 126 127 128 129 130 131 132 133 134 135 136\n",
       " [37] 137 138 139 140 141 142 143 144 145 146 147 148 149 150 151 152 153 154\n",
       " [55] 155 156 157 158 159 160 161 162 163 164 165 166 167 168 169 170 171 172\n",
       " [73] 173 174 175 176 177 178 179 180 181 182 183 184 185 186 187 188 189 190\n",
       " [91] 191 192 193 194 195 196 197 198 199 200"
      ]
     },
     "metadata": {},
     "output_type": "display_data"
    }
   ],
   "source": [
    "d[-5]"
   ]
  },
  {
   "cell_type": "code",
   "execution_count": 107,
   "id": "e1ecb311",
   "metadata": {},
   "outputs": [
    {
     "data": {
      "text/html": [
       "104"
      ],
      "text/latex": [
       "104"
      ],
      "text/markdown": [
       "104"
      ],
      "text/plain": [
       "[1] 104"
      ]
     },
     "metadata": {},
     "output_type": "display_data"
    }
   ],
   "source": [
    "d[5]"
   ]
  },
  {
   "cell_type": "code",
   "execution_count": 108,
   "id": "0ea8d7e2",
   "metadata": {},
   "outputs": [
    {
     "data": {
      "text/html": [
       "<style>\n",
       ".list-inline {list-style: none; margin:0; padding: 0}\n",
       ".list-inline>li {display: inline-block}\n",
       ".list-inline>li:not(:last-child)::after {content: \"\\00b7\"; padding: 0 .5ex}\n",
       "</style>\n",
       "<ol class=list-inline><li>100</li><li>101</li><li>102</li><li>103</li><li>105</li><li>107</li><li>109</li><li>110</li><li>111</li><li>112</li><li>113</li><li>114</li><li>115</li><li>116</li><li>117</li><li>118</li><li>119</li></ol>\n"
      ],
      "text/latex": [
       "\\begin{enumerate*}\n",
       "\\item 100\n",
       "\\item 101\n",
       "\\item 102\n",
       "\\item 103\n",
       "\\item 105\n",
       "\\item 107\n",
       "\\item 109\n",
       "\\item 110\n",
       "\\item 111\n",
       "\\item 112\n",
       "\\item 113\n",
       "\\item 114\n",
       "\\item 115\n",
       "\\item 116\n",
       "\\item 117\n",
       "\\item 118\n",
       "\\item 119\n",
       "\\end{enumerate*}\n"
      ],
      "text/markdown": [
       "1. 100\n",
       "2. 101\n",
       "3. 102\n",
       "4. 103\n",
       "5. 105\n",
       "6. 107\n",
       "7. 109\n",
       "8. 110\n",
       "9. 111\n",
       "10. 112\n",
       "11. 113\n",
       "12. 114\n",
       "13. 115\n",
       "14. 116\n",
       "15. 117\n",
       "16. 118\n",
       "17. 119\n",
       "\n",
       "\n"
      ],
      "text/plain": [
       " [1] 100 101 102 103 105 107 109 110 111 112 113 114 115 116 117 118 119"
      ]
     },
     "metadata": {},
     "output_type": "display_data"
    }
   ],
   "source": [
    "d.20[-c(5, 7, 9)]"
   ]
  },
  {
   "cell_type": "code",
   "execution_count": 109,
   "id": "a2087768",
   "metadata": {},
   "outputs": [
    {
     "data": {
      "text/html": [
       "<style>\n",
       ".dl-inline {width: auto; margin:0; padding: 0}\n",
       ".dl-inline>dt, .dl-inline>dd {float: none; width: auto; display: inline-block}\n",
       ".dl-inline>dt::after {content: \":\\0020\"; padding-right: .5ex}\n",
       ".dl-inline>dt:not(:first-of-type) {padding-left: .5ex}\n",
       "</style><dl class=dl-inline><dt>Jan</dt><dd>10</dd><dt>Feb</dt><dd>8</dd><dt>Mar</dt><dd>14</dd><dt>Apr</dt><dd>15</dd><dt>May</dt><dd>9</dd><dt>Jun</dt><dd>10</dd><dt>Jul</dt><dd>15</dd><dt>Aug</dt><dd>12</dd><dt>Sep</dt><dd>9</dd><dt>Oct</dt><dd>7</dd><dt>Nov</dt><dd>8</dd><dt>Dec</dt><dd>7</dd></dl>\n"
      ],
      "text/latex": [
       "\\begin{description*}\n",
       "\\item[Jan] 10\n",
       "\\item[Feb] 8\n",
       "\\item[Mar] 14\n",
       "\\item[Apr] 15\n",
       "\\item[May] 9\n",
       "\\item[Jun] 10\n",
       "\\item[Jul] 15\n",
       "\\item[Aug] 12\n",
       "\\item[Sep] 9\n",
       "\\item[Oct] 7\n",
       "\\item[Nov] 8\n",
       "\\item[Dec] 7\n",
       "\\end{description*}\n"
      ],
      "text/markdown": [
       "Jan\n",
       ":   10Feb\n",
       ":   8Mar\n",
       ":   14Apr\n",
       ":   15May\n",
       ":   9Jun\n",
       ":   10Jul\n",
       ":   15Aug\n",
       ":   12Sep\n",
       ":   9Oct\n",
       ":   7Nov\n",
       ":   8Dec\n",
       ":   7\n",
       "\n"
      ],
      "text/plain": [
       "Jan Feb Mar Apr May Jun Jul Aug Sep Oct Nov Dec \n",
       " 10   8  14  15   9  10  15  12   9   7   8   7 "
      ]
     },
     "metadata": {},
     "output_type": "display_data"
    }
   ],
   "source": [
    "absent <- c(10, 8, 14, 15, 9, 10, 15, 12, 9, 7, 8, 7)\n",
    "names(absent) <- c('Jan','Feb','Mar','Apr','May','Jun','Jul','Aug', 'Sep','Oct','Nov', 'Dec')\n",
    "absent"
   ]
  },
  {
   "cell_type": "code",
   "execution_count": 110,
   "id": "326ed8d2",
   "metadata": {},
   "outputs": [
    {
     "data": {
      "text/html": [
       "<strong>May:</strong> 9"
      ],
      "text/latex": [
       "\\textbf{May:} 9"
      ],
      "text/markdown": [
       "**May:** 9"
      ],
      "text/plain": [
       "May \n",
       "  9 "
      ]
     },
     "metadata": {},
     "output_type": "display_data"
    }
   ],
   "source": [
    "absent[5]"
   ]
  },
  {
   "cell_type": "code",
   "execution_count": 112,
   "id": "853dc121",
   "metadata": {},
   "outputs": [
    {
     "data": {
      "text/html": [
       "<strong>May:</strong> 9"
      ],
      "text/latex": [
       "\\textbf{May:} 9"
      ],
      "text/markdown": [
       "**May:** 9"
      ],
      "text/plain": [
       "May \n",
       "  9 "
      ]
     },
     "metadata": {},
     "output_type": "display_data"
    }
   ],
   "source": [
    "absent['May']"
   ]
  },
  {
   "cell_type": "code",
   "execution_count": 113,
   "id": "f3cad34d",
   "metadata": {},
   "outputs": [
    {
     "data": {
      "text/plain": [
       "NULL"
      ]
     },
     "metadata": {},
     "output_type": "display_data"
    }
   ],
   "source": [
    "colnames(absent)"
   ]
  },
  {
   "cell_type": "code",
   "execution_count": 114,
   "id": "15437e76",
   "metadata": {},
   "outputs": [
    {
     "data": {
      "text/html": [
       "<style>\n",
       ".list-inline {list-style: none; margin:0; padding: 0}\n",
       ".list-inline>li {display: inline-block}\n",
       ".list-inline>li:not(:last-child)::after {content: \"\\00b7\"; padding: 0 .5ex}\n",
       "</style>\n",
       "<ol class=list-inline><li>'Jan'</li><li>'Feb'</li><li>'Mar'</li><li>'Apr'</li><li>'May'</li><li>'Jun'</li><li>'Jul'</li><li>'Aug'</li><li>'Sep'</li><li>'Oct'</li><li>'Nov'</li><li>'Dec'</li></ol>\n"
      ],
      "text/latex": [
       "\\begin{enumerate*}\n",
       "\\item 'Jan'\n",
       "\\item 'Feb'\n",
       "\\item 'Mar'\n",
       "\\item 'Apr'\n",
       "\\item 'May'\n",
       "\\item 'Jun'\n",
       "\\item 'Jul'\n",
       "\\item 'Aug'\n",
       "\\item 'Sep'\n",
       "\\item 'Oct'\n",
       "\\item 'Nov'\n",
       "\\item 'Dec'\n",
       "\\end{enumerate*}\n"
      ],
      "text/markdown": [
       "1. 'Jan'\n",
       "2. 'Feb'\n",
       "3. 'Mar'\n",
       "4. 'Apr'\n",
       "5. 'May'\n",
       "6. 'Jun'\n",
       "7. 'Jul'\n",
       "8. 'Aug'\n",
       "9. 'Sep'\n",
       "10. 'Oct'\n",
       "11. 'Nov'\n",
       "12. 'Dec'\n",
       "\n",
       "\n"
      ],
      "text/plain": [
       " [1] \"Jan\" \"Feb\" \"Mar\" \"Apr\" \"May\" \"Jun\" \"Jul\" \"Aug\" \"Sep\" \"Oct\" \"Nov\" \"Dec\""
      ]
     },
     "metadata": {},
     "output_type": "display_data"
    }
   ],
   "source": [
    "names(absent)"
   ]
  },
  {
   "cell_type": "code",
   "execution_count": 115,
   "id": "72f62c02",
   "metadata": {},
   "outputs": [
    {
     "data": {
      "text/html": [
       "<style>\n",
       ".dl-inline {width: auto; margin:0; padding: 0}\n",
       ".dl-inline>dt, .dl-inline>dd {float: none; width: auto; display: inline-block}\n",
       ".dl-inline>dt::after {content: \":\\0020\"; padding-right: .5ex}\n",
       ".dl-inline>dt:not(:first-of-type) {padding-left: .5ex}\n",
       "</style><dl class=dl-inline><dt>Jul</dt><dd>15</dd><dt>Sep</dt><dd>9</dd></dl>\n"
      ],
      "text/latex": [
       "\\begin{description*}\n",
       "\\item[Jul] 15\n",
       "\\item[Sep] 9\n",
       "\\end{description*}\n"
      ],
      "text/markdown": [
       "Jul\n",
       ":   15Sep\n",
       ":   9\n",
       "\n"
      ],
      "text/plain": [
       "Jul Sep \n",
       " 15   9 "
      ]
     },
     "metadata": {},
     "output_type": "display_data"
    }
   ],
   "source": [
    "absent[c('Jul','Sep')]"
   ]
  },
  {
   "cell_type": "code",
   "execution_count": 116,
   "id": "f7825e1d",
   "metadata": {},
   "outputs": [
    {
     "data": {
      "text/html": [
       "66"
      ],
      "text/latex": [
       "66"
      ],
      "text/markdown": [
       "66"
      ],
      "text/plain": [
       "[1] 66"
      ]
     },
     "metadata": {},
     "output_type": "display_data"
    }
   ],
   "source": [
    "sum(absent[1:6])"
   ]
  },
  {
   "cell_type": "code",
   "execution_count": 117,
   "id": "4884f8ab",
   "metadata": {},
   "outputs": [
    {
     "data": {
      "text/html": [
       "9.66666666666667"
      ],
      "text/latex": [
       "9.66666666666667"
      ],
      "text/markdown": [
       "9.66666666666667"
      ],
      "text/plain": [
       "[1] 9.666667"
      ]
     },
     "metadata": {},
     "output_type": "display_data"
    }
   ],
   "source": [
    "mean(absent[7:12])"
   ]
  },
  {
   "cell_type": "code",
   "execution_count": 118,
   "id": "f837aeda",
   "metadata": {},
   "outputs": [],
   "source": [
    "d1 <- 1:50\n",
    "d2 <- 51:100"
   ]
  },
  {
   "cell_type": "code",
   "execution_count": 119,
   "id": "da501ac3",
   "metadata": {},
   "outputs": [
    {
     "data": {
      "text/html": [
       "<style>\n",
       ".list-inline {list-style: none; margin:0; padding: 0}\n",
       ".list-inline>li {display: inline-block}\n",
       ".list-inline>li:not(:last-child)::after {content: \"\\00b7\"; padding: 0 .5ex}\n",
       "</style>\n",
       "<ol class=list-inline><li>1</li><li>2</li><li>3</li><li>4</li><li>5</li><li>6</li><li>7</li><li>8</li><li>9</li><li>10</li><li>11</li><li>12</li><li>13</li><li>14</li><li>15</li><li>16</li><li>17</li><li>18</li><li>19</li><li>20</li><li>21</li><li>22</li><li>23</li><li>24</li><li>25</li><li>26</li><li>27</li><li>28</li><li>29</li><li>30</li><li>31</li><li>32</li><li>33</li><li>34</li><li>35</li><li>36</li><li>37</li><li>38</li><li>39</li><li>40</li><li>41</li><li>42</li><li>43</li><li>44</li><li>45</li><li>46</li><li>47</li><li>48</li><li>49</li><li>50</li></ol>\n"
      ],
      "text/latex": [
       "\\begin{enumerate*}\n",
       "\\item 1\n",
       "\\item 2\n",
       "\\item 3\n",
       "\\item 4\n",
       "\\item 5\n",
       "\\item 6\n",
       "\\item 7\n",
       "\\item 8\n",
       "\\item 9\n",
       "\\item 10\n",
       "\\item 11\n",
       "\\item 12\n",
       "\\item 13\n",
       "\\item 14\n",
       "\\item 15\n",
       "\\item 16\n",
       "\\item 17\n",
       "\\item 18\n",
       "\\item 19\n",
       "\\item 20\n",
       "\\item 21\n",
       "\\item 22\n",
       "\\item 23\n",
       "\\item 24\n",
       "\\item 25\n",
       "\\item 26\n",
       "\\item 27\n",
       "\\item 28\n",
       "\\item 29\n",
       "\\item 30\n",
       "\\item 31\n",
       "\\item 32\n",
       "\\item 33\n",
       "\\item 34\n",
       "\\item 35\n",
       "\\item 36\n",
       "\\item 37\n",
       "\\item 38\n",
       "\\item 39\n",
       "\\item 40\n",
       "\\item 41\n",
       "\\item 42\n",
       "\\item 43\n",
       "\\item 44\n",
       "\\item 45\n",
       "\\item 46\n",
       "\\item 47\n",
       "\\item 48\n",
       "\\item 49\n",
       "\\item 50\n",
       "\\end{enumerate*}\n"
      ],
      "text/markdown": [
       "1. 1\n",
       "2. 2\n",
       "3. 3\n",
       "4. 4\n",
       "5. 5\n",
       "6. 6\n",
       "7. 7\n",
       "8. 8\n",
       "9. 9\n",
       "10. 10\n",
       "11. 11\n",
       "12. 12\n",
       "13. 13\n",
       "14. 14\n",
       "15. 15\n",
       "16. 16\n",
       "17. 17\n",
       "18. 18\n",
       "19. 19\n",
       "20. 20\n",
       "21. 21\n",
       "22. 22\n",
       "23. 23\n",
       "24. 24\n",
       "25. 25\n",
       "26. 26\n",
       "27. 27\n",
       "28. 28\n",
       "29. 29\n",
       "30. 30\n",
       "31. 31\n",
       "32. 32\n",
       "33. 33\n",
       "34. 34\n",
       "35. 35\n",
       "36. 36\n",
       "37. 37\n",
       "38. 38\n",
       "39. 39\n",
       "40. 40\n",
       "41. 41\n",
       "42. 42\n",
       "43. 43\n",
       "44. 44\n",
       "45. 45\n",
       "46. 46\n",
       "47. 47\n",
       "48. 48\n",
       "49. 49\n",
       "50. 50\n",
       "\n",
       "\n"
      ],
      "text/plain": [
       " [1]  1  2  3  4  5  6  7  8  9 10 11 12 13 14 15 16 17 18 19 20 21 22 23 24 25\n",
       "[26] 26 27 28 29 30 31 32 33 34 35 36 37 38 39 40 41 42 43 44 45 46 47 48 49 50"
      ]
     },
     "metadata": {},
     "output_type": "display_data"
    }
   ],
   "source": [
    "d1"
   ]
  },
  {
   "cell_type": "code",
   "execution_count": 120,
   "id": "d4e93c77",
   "metadata": {},
   "outputs": [
    {
     "data": {
      "text/html": [
       "<style>\n",
       ".list-inline {list-style: none; margin:0; padding: 0}\n",
       ".list-inline>li {display: inline-block}\n",
       ".list-inline>li:not(:last-child)::after {content: \"\\00b7\"; padding: 0 .5ex}\n",
       "</style>\n",
       "<ol class=list-inline><li>51</li><li>52</li><li>53</li><li>54</li><li>55</li><li>56</li><li>57</li><li>58</li><li>59</li><li>60</li><li>61</li><li>62</li><li>63</li><li>64</li><li>65</li><li>66</li><li>67</li><li>68</li><li>69</li><li>70</li><li>71</li><li>72</li><li>73</li><li>74</li><li>75</li><li>76</li><li>77</li><li>78</li><li>79</li><li>80</li><li>81</li><li>82</li><li>83</li><li>84</li><li>85</li><li>86</li><li>87</li><li>88</li><li>89</li><li>90</li><li>91</li><li>92</li><li>93</li><li>94</li><li>95</li><li>96</li><li>97</li><li>98</li><li>99</li><li>100</li></ol>\n"
      ],
      "text/latex": [
       "\\begin{enumerate*}\n",
       "\\item 51\n",
       "\\item 52\n",
       "\\item 53\n",
       "\\item 54\n",
       "\\item 55\n",
       "\\item 56\n",
       "\\item 57\n",
       "\\item 58\n",
       "\\item 59\n",
       "\\item 60\n",
       "\\item 61\n",
       "\\item 62\n",
       "\\item 63\n",
       "\\item 64\n",
       "\\item 65\n",
       "\\item 66\n",
       "\\item 67\n",
       "\\item 68\n",
       "\\item 69\n",
       "\\item 70\n",
       "\\item 71\n",
       "\\item 72\n",
       "\\item 73\n",
       "\\item 74\n",
       "\\item 75\n",
       "\\item 76\n",
       "\\item 77\n",
       "\\item 78\n",
       "\\item 79\n",
       "\\item 80\n",
       "\\item 81\n",
       "\\item 82\n",
       "\\item 83\n",
       "\\item 84\n",
       "\\item 85\n",
       "\\item 86\n",
       "\\item 87\n",
       "\\item 88\n",
       "\\item 89\n",
       "\\item 90\n",
       "\\item 91\n",
       "\\item 92\n",
       "\\item 93\n",
       "\\item 94\n",
       "\\item 95\n",
       "\\item 96\n",
       "\\item 97\n",
       "\\item 98\n",
       "\\item 99\n",
       "\\item 100\n",
       "\\end{enumerate*}\n"
      ],
      "text/markdown": [
       "1. 51\n",
       "2. 52\n",
       "3. 53\n",
       "4. 54\n",
       "5. 55\n",
       "6. 56\n",
       "7. 57\n",
       "8. 58\n",
       "9. 59\n",
       "10. 60\n",
       "11. 61\n",
       "12. 62\n",
       "13. 63\n",
       "14. 64\n",
       "15. 65\n",
       "16. 66\n",
       "17. 67\n",
       "18. 68\n",
       "19. 69\n",
       "20. 70\n",
       "21. 71\n",
       "22. 72\n",
       "23. 73\n",
       "24. 74\n",
       "25. 75\n",
       "26. 76\n",
       "27. 77\n",
       "28. 78\n",
       "29. 79\n",
       "30. 80\n",
       "31. 81\n",
       "32. 82\n",
       "33. 83\n",
       "34. 84\n",
       "35. 85\n",
       "36. 86\n",
       "37. 87\n",
       "38. 88\n",
       "39. 89\n",
       "40. 90\n",
       "41. 91\n",
       "42. 92\n",
       "43. 93\n",
       "44. 94\n",
       "45. 95\n",
       "46. 96\n",
       "47. 97\n",
       "48. 98\n",
       "49. 99\n",
       "50. 100\n",
       "\n",
       "\n"
      ],
      "text/plain": [
       " [1]  51  52  53  54  55  56  57  58  59  60  61  62  63  64  65  66  67  68  69\n",
       "[20]  70  71  72  73  74  75  76  77  78  79  80  81  82  83  84  85  86  87  88\n",
       "[39]  89  90  91  92  93  94  95  96  97  98  99 100"
      ]
     },
     "metadata": {},
     "output_type": "display_data"
    }
   ],
   "source": [
    "d2"
   ]
  },
  {
   "cell_type": "code",
   "execution_count": 121,
   "id": "6d642034",
   "metadata": {},
   "outputs": [
    {
     "data": {
      "text/html": [
       "50"
      ],
      "text/latex": [
       "50"
      ],
      "text/markdown": [
       "50"
      ],
      "text/plain": [
       "[1] 50"
      ]
     },
     "metadata": {},
     "output_type": "display_data"
    }
   ],
   "source": [
    "length(d2)"
   ]
  },
  {
   "cell_type": "code",
   "execution_count": 122,
   "id": "7f1e87d3",
   "metadata": {},
   "outputs": [
    {
     "data": {
      "text/html": [
       "<style>\n",
       ".list-inline {list-style: none; margin:0; padding: 0}\n",
       ".list-inline>li {display: inline-block}\n",
       ".list-inline>li:not(:last-child)::after {content: \"\\00b7\"; padding: 0 .5ex}\n",
       "</style>\n",
       "<ol class=list-inline><li>52</li><li>54</li><li>56</li><li>58</li><li>60</li><li>62</li><li>64</li><li>66</li><li>68</li><li>70</li><li>72</li><li>74</li><li>76</li><li>78</li><li>80</li><li>82</li><li>84</li><li>86</li><li>88</li><li>90</li><li>92</li><li>94</li><li>96</li><li>98</li><li>100</li><li>102</li><li>104</li><li>106</li><li>108</li><li>110</li><li>112</li><li>114</li><li>116</li><li>118</li><li>120</li><li>122</li><li>124</li><li>126</li><li>128</li><li>130</li><li>132</li><li>134</li><li>136</li><li>138</li><li>140</li><li>142</li><li>144</li><li>146</li><li>148</li><li>150</li></ol>\n"
      ],
      "text/latex": [
       "\\begin{enumerate*}\n",
       "\\item 52\n",
       "\\item 54\n",
       "\\item 56\n",
       "\\item 58\n",
       "\\item 60\n",
       "\\item 62\n",
       "\\item 64\n",
       "\\item 66\n",
       "\\item 68\n",
       "\\item 70\n",
       "\\item 72\n",
       "\\item 74\n",
       "\\item 76\n",
       "\\item 78\n",
       "\\item 80\n",
       "\\item 82\n",
       "\\item 84\n",
       "\\item 86\n",
       "\\item 88\n",
       "\\item 90\n",
       "\\item 92\n",
       "\\item 94\n",
       "\\item 96\n",
       "\\item 98\n",
       "\\item 100\n",
       "\\item 102\n",
       "\\item 104\n",
       "\\item 106\n",
       "\\item 108\n",
       "\\item 110\n",
       "\\item 112\n",
       "\\item 114\n",
       "\\item 116\n",
       "\\item 118\n",
       "\\item 120\n",
       "\\item 122\n",
       "\\item 124\n",
       "\\item 126\n",
       "\\item 128\n",
       "\\item 130\n",
       "\\item 132\n",
       "\\item 134\n",
       "\\item 136\n",
       "\\item 138\n",
       "\\item 140\n",
       "\\item 142\n",
       "\\item 144\n",
       "\\item 146\n",
       "\\item 148\n",
       "\\item 150\n",
       "\\end{enumerate*}\n"
      ],
      "text/markdown": [
       "1. 52\n",
       "2. 54\n",
       "3. 56\n",
       "4. 58\n",
       "5. 60\n",
       "6. 62\n",
       "7. 64\n",
       "8. 66\n",
       "9. 68\n",
       "10. 70\n",
       "11. 72\n",
       "12. 74\n",
       "13. 76\n",
       "14. 78\n",
       "15. 80\n",
       "16. 82\n",
       "17. 84\n",
       "18. 86\n",
       "19. 88\n",
       "20. 90\n",
       "21. 92\n",
       "22. 94\n",
       "23. 96\n",
       "24. 98\n",
       "25. 100\n",
       "26. 102\n",
       "27. 104\n",
       "28. 106\n",
       "29. 108\n",
       "30. 110\n",
       "31. 112\n",
       "32. 114\n",
       "33. 116\n",
       "34. 118\n",
       "35. 120\n",
       "36. 122\n",
       "37. 124\n",
       "38. 126\n",
       "39. 128\n",
       "40. 130\n",
       "41. 132\n",
       "42. 134\n",
       "43. 136\n",
       "44. 138\n",
       "45. 140\n",
       "46. 142\n",
       "47. 144\n",
       "48. 146\n",
       "49. 148\n",
       "50. 150\n",
       "\n",
       "\n"
      ],
      "text/plain": [
       " [1]  52  54  56  58  60  62  64  66  68  70  72  74  76  78  80  82  84  86  88\n",
       "[20]  90  92  94  96  98 100 102 104 106 108 110 112 114 116 118 120 122 124 126\n",
       "[39] 128 130 132 134 136 138 140 142 144 146 148 150"
      ]
     },
     "metadata": {},
     "output_type": "display_data"
    }
   ],
   "source": [
    "d1 + d2"
   ]
  },
  {
   "cell_type": "code",
   "execution_count": 123,
   "id": "f071a2d3",
   "metadata": {},
   "outputs": [
    {
     "data": {
      "text/html": [
       "<style>\n",
       ".list-inline {list-style: none; margin:0; padding: 0}\n",
       ".list-inline>li {display: inline-block}\n",
       ".list-inline>li:not(:last-child)::after {content: \"\\00b7\"; padding: 0 .5ex}\n",
       "</style>\n",
       "<ol class=list-inline><li>50</li><li>50</li><li>50</li><li>50</li><li>50</li><li>50</li><li>50</li><li>50</li><li>50</li><li>50</li><li>50</li><li>50</li><li>50</li><li>50</li><li>50</li><li>50</li><li>50</li><li>50</li><li>50</li><li>50</li><li>50</li><li>50</li><li>50</li><li>50</li><li>50</li><li>50</li><li>50</li><li>50</li><li>50</li><li>50</li><li>50</li><li>50</li><li>50</li><li>50</li><li>50</li><li>50</li><li>50</li><li>50</li><li>50</li><li>50</li><li>50</li><li>50</li><li>50</li><li>50</li><li>50</li><li>50</li><li>50</li><li>50</li><li>50</li><li>50</li></ol>\n"
      ],
      "text/latex": [
       "\\begin{enumerate*}\n",
       "\\item 50\n",
       "\\item 50\n",
       "\\item 50\n",
       "\\item 50\n",
       "\\item 50\n",
       "\\item 50\n",
       "\\item 50\n",
       "\\item 50\n",
       "\\item 50\n",
       "\\item 50\n",
       "\\item 50\n",
       "\\item 50\n",
       "\\item 50\n",
       "\\item 50\n",
       "\\item 50\n",
       "\\item 50\n",
       "\\item 50\n",
       "\\item 50\n",
       "\\item 50\n",
       "\\item 50\n",
       "\\item 50\n",
       "\\item 50\n",
       "\\item 50\n",
       "\\item 50\n",
       "\\item 50\n",
       "\\item 50\n",
       "\\item 50\n",
       "\\item 50\n",
       "\\item 50\n",
       "\\item 50\n",
       "\\item 50\n",
       "\\item 50\n",
       "\\item 50\n",
       "\\item 50\n",
       "\\item 50\n",
       "\\item 50\n",
       "\\item 50\n",
       "\\item 50\n",
       "\\item 50\n",
       "\\item 50\n",
       "\\item 50\n",
       "\\item 50\n",
       "\\item 50\n",
       "\\item 50\n",
       "\\item 50\n",
       "\\item 50\n",
       "\\item 50\n",
       "\\item 50\n",
       "\\item 50\n",
       "\\item 50\n",
       "\\end{enumerate*}\n"
      ],
      "text/markdown": [
       "1. 50\n",
       "2. 50\n",
       "3. 50\n",
       "4. 50\n",
       "5. 50\n",
       "6. 50\n",
       "7. 50\n",
       "8. 50\n",
       "9. 50\n",
       "10. 50\n",
       "11. 50\n",
       "12. 50\n",
       "13. 50\n",
       "14. 50\n",
       "15. 50\n",
       "16. 50\n",
       "17. 50\n",
       "18. 50\n",
       "19. 50\n",
       "20. 50\n",
       "21. 50\n",
       "22. 50\n",
       "23. 50\n",
       "24. 50\n",
       "25. 50\n",
       "26. 50\n",
       "27. 50\n",
       "28. 50\n",
       "29. 50\n",
       "30. 50\n",
       "31. 50\n",
       "32. 50\n",
       "33. 50\n",
       "34. 50\n",
       "35. 50\n",
       "36. 50\n",
       "37. 50\n",
       "38. 50\n",
       "39. 50\n",
       "40. 50\n",
       "41. 50\n",
       "42. 50\n",
       "43. 50\n",
       "44. 50\n",
       "45. 50\n",
       "46. 50\n",
       "47. 50\n",
       "48. 50\n",
       "49. 50\n",
       "50. 50\n",
       "\n",
       "\n"
      ],
      "text/plain": [
       " [1] 50 50 50 50 50 50 50 50 50 50 50 50 50 50 50 50 50 50 50 50 50 50 50 50 50\n",
       "[26] 50 50 50 50 50 50 50 50 50 50 50 50 50 50 50 50 50 50 50 50 50 50 50 50 50"
      ]
     },
     "metadata": {},
     "output_type": "display_data"
    }
   ],
   "source": [
    "abs(d1-d2)"
   ]
  },
  {
   "cell_type": "code",
   "execution_count": 124,
   "id": "81f7a332",
   "metadata": {},
   "outputs": [
    {
     "data": {
      "text/html": [
       "<style>\n",
       ".list-inline {list-style: none; margin:0; padding: 0}\n",
       ".list-inline>li {display: inline-block}\n",
       ".list-inline>li:not(:last-child)::after {content: \"\\00b7\"; padding: 0 .5ex}\n",
       "</style>\n",
       "<ol class=list-inline><li>50</li><li>50</li><li>50</li><li>50</li><li>50</li><li>50</li><li>50</li><li>50</li><li>50</li><li>50</li><li>50</li><li>50</li><li>50</li><li>50</li><li>50</li><li>50</li><li>50</li><li>50</li><li>50</li><li>50</li><li>50</li><li>50</li><li>50</li><li>50</li><li>50</li><li>50</li><li>50</li><li>50</li><li>50</li><li>50</li><li>50</li><li>50</li><li>50</li><li>50</li><li>50</li><li>50</li><li>50</li><li>50</li><li>50</li><li>50</li><li>50</li><li>50</li><li>50</li><li>50</li><li>50</li><li>50</li><li>50</li><li>50</li><li>50</li><li>50</li></ol>\n"
      ],
      "text/latex": [
       "\\begin{enumerate*}\n",
       "\\item 50\n",
       "\\item 50\n",
       "\\item 50\n",
       "\\item 50\n",
       "\\item 50\n",
       "\\item 50\n",
       "\\item 50\n",
       "\\item 50\n",
       "\\item 50\n",
       "\\item 50\n",
       "\\item 50\n",
       "\\item 50\n",
       "\\item 50\n",
       "\\item 50\n",
       "\\item 50\n",
       "\\item 50\n",
       "\\item 50\n",
       "\\item 50\n",
       "\\item 50\n",
       "\\item 50\n",
       "\\item 50\n",
       "\\item 50\n",
       "\\item 50\n",
       "\\item 50\n",
       "\\item 50\n",
       "\\item 50\n",
       "\\item 50\n",
       "\\item 50\n",
       "\\item 50\n",
       "\\item 50\n",
       "\\item 50\n",
       "\\item 50\n",
       "\\item 50\n",
       "\\item 50\n",
       "\\item 50\n",
       "\\item 50\n",
       "\\item 50\n",
       "\\item 50\n",
       "\\item 50\n",
       "\\item 50\n",
       "\\item 50\n",
       "\\item 50\n",
       "\\item 50\n",
       "\\item 50\n",
       "\\item 50\n",
       "\\item 50\n",
       "\\item 50\n",
       "\\item 50\n",
       "\\item 50\n",
       "\\item 50\n",
       "\\end{enumerate*}\n"
      ],
      "text/markdown": [
       "1. 50\n",
       "2. 50\n",
       "3. 50\n",
       "4. 50\n",
       "5. 50\n",
       "6. 50\n",
       "7. 50\n",
       "8. 50\n",
       "9. 50\n",
       "10. 50\n",
       "11. 50\n",
       "12. 50\n",
       "13. 50\n",
       "14. 50\n",
       "15. 50\n",
       "16. 50\n",
       "17. 50\n",
       "18. 50\n",
       "19. 50\n",
       "20. 50\n",
       "21. 50\n",
       "22. 50\n",
       "23. 50\n",
       "24. 50\n",
       "25. 50\n",
       "26. 50\n",
       "27. 50\n",
       "28. 50\n",
       "29. 50\n",
       "30. 50\n",
       "31. 50\n",
       "32. 50\n",
       "33. 50\n",
       "34. 50\n",
       "35. 50\n",
       "36. 50\n",
       "37. 50\n",
       "38. 50\n",
       "39. 50\n",
       "40. 50\n",
       "41. 50\n",
       "42. 50\n",
       "43. 50\n",
       "44. 50\n",
       "45. 50\n",
       "46. 50\n",
       "47. 50\n",
       "48. 50\n",
       "49. 50\n",
       "50. 50\n",
       "\n",
       "\n"
      ],
      "text/plain": [
       " [1] 50 50 50 50 50 50 50 50 50 50 50 50 50 50 50 50 50 50 50 50 50 50 50 50 50\n",
       "[26] 50 50 50 50 50 50 50 50 50 50 50 50 50 50 50 50 50 50 50 50 50 50 50 50 50"
      ]
     },
     "metadata": {},
     "output_type": "display_data"
    }
   ],
   "source": [
    "d2 - d1"
   ]
  },
  {
   "cell_type": "code",
   "execution_count": 125,
   "id": "122b65dd",
   "metadata": {},
   "outputs": [
    {
     "data": {
      "text/html": [
       "<style>\n",
       ".list-inline {list-style: none; margin:0; padding: 0}\n",
       ".list-inline>li {display: inline-block}\n",
       ".list-inline>li:not(:last-child)::after {content: \"\\00b7\"; padding: 0 .5ex}\n",
       "</style>\n",
       "<ol class=list-inline><li>51</li><li>104</li><li>159</li><li>216</li><li>275</li><li>336</li><li>399</li><li>464</li><li>531</li><li>600</li><li>671</li><li>744</li><li>819</li><li>896</li><li>975</li><li>1056</li><li>1139</li><li>1224</li><li>1311</li><li>1400</li><li>1491</li><li>1584</li><li>1679</li><li>1776</li><li>1875</li><li>1976</li><li>2079</li><li>2184</li><li>2291</li><li>2400</li><li>2511</li><li>2624</li><li>2739</li><li>2856</li><li>2975</li><li>3096</li><li>3219</li><li>3344</li><li>3471</li><li>3600</li><li>3731</li><li>3864</li><li>3999</li><li>4136</li><li>4275</li><li>4416</li><li>4559</li><li>4704</li><li>4851</li><li>5000</li></ol>\n"
      ],
      "text/latex": [
       "\\begin{enumerate*}\n",
       "\\item 51\n",
       "\\item 104\n",
       "\\item 159\n",
       "\\item 216\n",
       "\\item 275\n",
       "\\item 336\n",
       "\\item 399\n",
       "\\item 464\n",
       "\\item 531\n",
       "\\item 600\n",
       "\\item 671\n",
       "\\item 744\n",
       "\\item 819\n",
       "\\item 896\n",
       "\\item 975\n",
       "\\item 1056\n",
       "\\item 1139\n",
       "\\item 1224\n",
       "\\item 1311\n",
       "\\item 1400\n",
       "\\item 1491\n",
       "\\item 1584\n",
       "\\item 1679\n",
       "\\item 1776\n",
       "\\item 1875\n",
       "\\item 1976\n",
       "\\item 2079\n",
       "\\item 2184\n",
       "\\item 2291\n",
       "\\item 2400\n",
       "\\item 2511\n",
       "\\item 2624\n",
       "\\item 2739\n",
       "\\item 2856\n",
       "\\item 2975\n",
       "\\item 3096\n",
       "\\item 3219\n",
       "\\item 3344\n",
       "\\item 3471\n",
       "\\item 3600\n",
       "\\item 3731\n",
       "\\item 3864\n",
       "\\item 3999\n",
       "\\item 4136\n",
       "\\item 4275\n",
       "\\item 4416\n",
       "\\item 4559\n",
       "\\item 4704\n",
       "\\item 4851\n",
       "\\item 5000\n",
       "\\end{enumerate*}\n"
      ],
      "text/markdown": [
       "1. 51\n",
       "2. 104\n",
       "3. 159\n",
       "4. 216\n",
       "5. 275\n",
       "6. 336\n",
       "7. 399\n",
       "8. 464\n",
       "9. 531\n",
       "10. 600\n",
       "11. 671\n",
       "12. 744\n",
       "13. 819\n",
       "14. 896\n",
       "15. 975\n",
       "16. 1056\n",
       "17. 1139\n",
       "18. 1224\n",
       "19. 1311\n",
       "20. 1400\n",
       "21. 1491\n",
       "22. 1584\n",
       "23. 1679\n",
       "24. 1776\n",
       "25. 1875\n",
       "26. 1976\n",
       "27. 2079\n",
       "28. 2184\n",
       "29. 2291\n",
       "30. 2400\n",
       "31. 2511\n",
       "32. 2624\n",
       "33. 2739\n",
       "34. 2856\n",
       "35. 2975\n",
       "36. 3096\n",
       "37. 3219\n",
       "38. 3344\n",
       "39. 3471\n",
       "40. 3600\n",
       "41. 3731\n",
       "42. 3864\n",
       "43. 3999\n",
       "44. 4136\n",
       "45. 4275\n",
       "46. 4416\n",
       "47. 4559\n",
       "48. 4704\n",
       "49. 4851\n",
       "50. 5000\n",
       "\n",
       "\n"
      ],
      "text/plain": [
       " [1]   51  104  159  216  275  336  399  464  531  600  671  744  819  896  975\n",
       "[16] 1056 1139 1224 1311 1400 1491 1584 1679 1776 1875 1976 2079 2184 2291 2400\n",
       "[31] 2511 2624 2739 2856 2975 3096 3219 3344 3471 3600 3731 3864 3999 4136 4275\n",
       "[46] 4416 4559 4704 4851 5000"
      ]
     },
     "metadata": {},
     "output_type": "display_data"
    }
   ],
   "source": [
    "d1 * d2"
   ]
  },
  {
   "cell_type": "code",
   "execution_count": 126,
   "id": "5b6c79a1",
   "metadata": {},
   "outputs": [
    {
     "data": {
      "text/html": [
       "<style>\n",
       ".list-inline {list-style: none; margin:0; padding: 0}\n",
       ".list-inline>li {display: inline-block}\n",
       ".list-inline>li:not(:last-child)::after {content: \"\\00b7\"; padding: 0 .5ex}\n",
       "</style>\n",
       "<ol class=list-inline><li>0.0196078431372549</li><li>0.0384615384615385</li><li>0.0566037735849057</li><li>0.0740740740740741</li><li>0.0909090909090909</li><li>0.107142857142857</li><li>0.12280701754386</li><li>0.137931034482759</li><li>0.152542372881356</li><li>0.166666666666667</li><li>0.180327868852459</li><li>0.193548387096774</li><li>0.206349206349206</li><li>0.21875</li><li>0.230769230769231</li><li>0.242424242424242</li><li>0.253731343283582</li><li>0.264705882352941</li><li>0.27536231884058</li><li>0.285714285714286</li><li>0.295774647887324</li><li>0.305555555555556</li><li>0.315068493150685</li><li>0.324324324324324</li><li>0.333333333333333</li><li>0.342105263157895</li><li>0.350649350649351</li><li>0.358974358974359</li><li>0.367088607594937</li><li>0.375</li><li>0.382716049382716</li><li>0.390243902439024</li><li>0.397590361445783</li><li>0.404761904761905</li><li>0.411764705882353</li><li>0.418604651162791</li><li>0.425287356321839</li><li>0.431818181818182</li><li>0.438202247191011</li><li>0.444444444444444</li><li>0.450549450549451</li><li>0.456521739130435</li><li>0.462365591397849</li><li>0.468085106382979</li><li>0.473684210526316</li><li>0.479166666666667</li><li>0.484536082474227</li><li>0.489795918367347</li><li>0.494949494949495</li><li>0.5</li></ol>\n"
      ],
      "text/latex": [
       "\\begin{enumerate*}\n",
       "\\item 0.0196078431372549\n",
       "\\item 0.0384615384615385\n",
       "\\item 0.0566037735849057\n",
       "\\item 0.0740740740740741\n",
       "\\item 0.0909090909090909\n",
       "\\item 0.107142857142857\n",
       "\\item 0.12280701754386\n",
       "\\item 0.137931034482759\n",
       "\\item 0.152542372881356\n",
       "\\item 0.166666666666667\n",
       "\\item 0.180327868852459\n",
       "\\item 0.193548387096774\n",
       "\\item 0.206349206349206\n",
       "\\item 0.21875\n",
       "\\item 0.230769230769231\n",
       "\\item 0.242424242424242\n",
       "\\item 0.253731343283582\n",
       "\\item 0.264705882352941\n",
       "\\item 0.27536231884058\n",
       "\\item 0.285714285714286\n",
       "\\item 0.295774647887324\n",
       "\\item 0.305555555555556\n",
       "\\item 0.315068493150685\n",
       "\\item 0.324324324324324\n",
       "\\item 0.333333333333333\n",
       "\\item 0.342105263157895\n",
       "\\item 0.350649350649351\n",
       "\\item 0.358974358974359\n",
       "\\item 0.367088607594937\n",
       "\\item 0.375\n",
       "\\item 0.382716049382716\n",
       "\\item 0.390243902439024\n",
       "\\item 0.397590361445783\n",
       "\\item 0.404761904761905\n",
       "\\item 0.411764705882353\n",
       "\\item 0.418604651162791\n",
       "\\item 0.425287356321839\n",
       "\\item 0.431818181818182\n",
       "\\item 0.438202247191011\n",
       "\\item 0.444444444444444\n",
       "\\item 0.450549450549451\n",
       "\\item 0.456521739130435\n",
       "\\item 0.462365591397849\n",
       "\\item 0.468085106382979\n",
       "\\item 0.473684210526316\n",
       "\\item 0.479166666666667\n",
       "\\item 0.484536082474227\n",
       "\\item 0.489795918367347\n",
       "\\item 0.494949494949495\n",
       "\\item 0.5\n",
       "\\end{enumerate*}\n"
      ],
      "text/markdown": [
       "1. 0.0196078431372549\n",
       "2. 0.0384615384615385\n",
       "3. 0.0566037735849057\n",
       "4. 0.0740740740740741\n",
       "5. 0.0909090909090909\n",
       "6. 0.107142857142857\n",
       "7. 0.12280701754386\n",
       "8. 0.137931034482759\n",
       "9. 0.152542372881356\n",
       "10. 0.166666666666667\n",
       "11. 0.180327868852459\n",
       "12. 0.193548387096774\n",
       "13. 0.206349206349206\n",
       "14. 0.21875\n",
       "15. 0.230769230769231\n",
       "16. 0.242424242424242\n",
       "17. 0.253731343283582\n",
       "18. 0.264705882352941\n",
       "19. 0.27536231884058\n",
       "20. 0.285714285714286\n",
       "21. 0.295774647887324\n",
       "22. 0.305555555555556\n",
       "23. 0.315068493150685\n",
       "24. 0.324324324324324\n",
       "25. 0.333333333333333\n",
       "26. 0.342105263157895\n",
       "27. 0.350649350649351\n",
       "28. 0.358974358974359\n",
       "29. 0.367088607594937\n",
       "30. 0.375\n",
       "31. 0.382716049382716\n",
       "32. 0.390243902439024\n",
       "33. 0.397590361445783\n",
       "34. 0.404761904761905\n",
       "35. 0.411764705882353\n",
       "36. 0.418604651162791\n",
       "37. 0.425287356321839\n",
       "38. 0.431818181818182\n",
       "39. 0.438202247191011\n",
       "40. 0.444444444444444\n",
       "41. 0.450549450549451\n",
       "42. 0.456521739130435\n",
       "43. 0.462365591397849\n",
       "44. 0.468085106382979\n",
       "45. 0.473684210526316\n",
       "46. 0.479166666666667\n",
       "47. 0.484536082474227\n",
       "48. 0.489795918367347\n",
       "49. 0.494949494949495\n",
       "50. 0.5\n",
       "\n",
       "\n"
      ],
      "text/plain": [
       " [1] 0.01960784 0.03846154 0.05660377 0.07407407 0.09090909 0.10714286\n",
       " [7] 0.12280702 0.13793103 0.15254237 0.16666667 0.18032787 0.19354839\n",
       "[13] 0.20634921 0.21875000 0.23076923 0.24242424 0.25373134 0.26470588\n",
       "[19] 0.27536232 0.28571429 0.29577465 0.30555556 0.31506849 0.32432432\n",
       "[25] 0.33333333 0.34210526 0.35064935 0.35897436 0.36708861 0.37500000\n",
       "[31] 0.38271605 0.39024390 0.39759036 0.40476190 0.41176471 0.41860465\n",
       "[37] 0.42528736 0.43181818 0.43820225 0.44444444 0.45054945 0.45652174\n",
       "[43] 0.46236559 0.46808511 0.47368421 0.47916667 0.48453608 0.48979592\n",
       "[49] 0.49494949 0.50000000"
      ]
     },
     "metadata": {},
     "output_type": "display_data"
    }
   ],
   "source": [
    "d1 / d2"
   ]
  },
  {
   "cell_type": "code",
   "execution_count": 127,
   "id": "1030dc22",
   "metadata": {},
   "outputs": [
    {
     "data": {
      "text/html": [
       "<style>\n",
       ".list-inline {list-style: none; margin:0; padding: 0}\n",
       ".list-inline>li {display: inline-block}\n",
       ".list-inline>li:not(:last-child)::after {content: \"\\00b7\"; padding: 0 .5ex}\n",
       "</style>\n",
       "<ol class=list-inline><li>51</li><li>26</li><li>17.6666666666667</li><li>13.5</li><li>11</li><li>9.33333333333333</li><li>8.14285714285714</li><li>7.25</li><li>6.55555555555556</li><li>6</li><li>5.54545454545455</li><li>5.16666666666667</li><li>4.84615384615385</li><li>4.57142857142857</li><li>4.33333333333333</li><li>4.125</li><li>3.94117647058824</li><li>3.77777777777778</li><li>3.63157894736842</li><li>3.5</li><li>3.38095238095238</li><li>3.27272727272727</li><li>3.17391304347826</li><li>3.08333333333333</li><li>3</li><li>2.92307692307692</li><li>2.85185185185185</li><li>2.78571428571429</li><li>2.72413793103448</li><li>2.66666666666667</li><li>2.61290322580645</li><li>2.5625</li><li>2.51515151515152</li><li>2.47058823529412</li><li>2.42857142857143</li><li>2.38888888888889</li><li>2.35135135135135</li><li>2.31578947368421</li><li>2.28205128205128</li><li>2.25</li><li>2.21951219512195</li><li>2.19047619047619</li><li>2.16279069767442</li><li>2.13636363636364</li><li>2.11111111111111</li><li>2.08695652173913</li><li>2.06382978723404</li><li>2.04166666666667</li><li>2.02040816326531</li><li>2</li></ol>\n"
      ],
      "text/latex": [
       "\\begin{enumerate*}\n",
       "\\item 51\n",
       "\\item 26\n",
       "\\item 17.6666666666667\n",
       "\\item 13.5\n",
       "\\item 11\n",
       "\\item 9.33333333333333\n",
       "\\item 8.14285714285714\n",
       "\\item 7.25\n",
       "\\item 6.55555555555556\n",
       "\\item 6\n",
       "\\item 5.54545454545455\n",
       "\\item 5.16666666666667\n",
       "\\item 4.84615384615385\n",
       "\\item 4.57142857142857\n",
       "\\item 4.33333333333333\n",
       "\\item 4.125\n",
       "\\item 3.94117647058824\n",
       "\\item 3.77777777777778\n",
       "\\item 3.63157894736842\n",
       "\\item 3.5\n",
       "\\item 3.38095238095238\n",
       "\\item 3.27272727272727\n",
       "\\item 3.17391304347826\n",
       "\\item 3.08333333333333\n",
       "\\item 3\n",
       "\\item 2.92307692307692\n",
       "\\item 2.85185185185185\n",
       "\\item 2.78571428571429\n",
       "\\item 2.72413793103448\n",
       "\\item 2.66666666666667\n",
       "\\item 2.61290322580645\n",
       "\\item 2.5625\n",
       "\\item 2.51515151515152\n",
       "\\item 2.47058823529412\n",
       "\\item 2.42857142857143\n",
       "\\item 2.38888888888889\n",
       "\\item 2.35135135135135\n",
       "\\item 2.31578947368421\n",
       "\\item 2.28205128205128\n",
       "\\item 2.25\n",
       "\\item 2.21951219512195\n",
       "\\item 2.19047619047619\n",
       "\\item 2.16279069767442\n",
       "\\item 2.13636363636364\n",
       "\\item 2.11111111111111\n",
       "\\item 2.08695652173913\n",
       "\\item 2.06382978723404\n",
       "\\item 2.04166666666667\n",
       "\\item 2.02040816326531\n",
       "\\item 2\n",
       "\\end{enumerate*}\n"
      ],
      "text/markdown": [
       "1. 51\n",
       "2. 26\n",
       "3. 17.6666666666667\n",
       "4. 13.5\n",
       "5. 11\n",
       "6. 9.33333333333333\n",
       "7. 8.14285714285714\n",
       "8. 7.25\n",
       "9. 6.55555555555556\n",
       "10. 6\n",
       "11. 5.54545454545455\n",
       "12. 5.16666666666667\n",
       "13. 4.84615384615385\n",
       "14. 4.57142857142857\n",
       "15. 4.33333333333333\n",
       "16. 4.125\n",
       "17. 3.94117647058824\n",
       "18. 3.77777777777778\n",
       "19. 3.63157894736842\n",
       "20. 3.5\n",
       "21. 3.38095238095238\n",
       "22. 3.27272727272727\n",
       "23. 3.17391304347826\n",
       "24. 3.08333333333333\n",
       "25. 3\n",
       "26. 2.92307692307692\n",
       "27. 2.85185185185185\n",
       "28. 2.78571428571429\n",
       "29. 2.72413793103448\n",
       "30. 2.66666666666667\n",
       "31. 2.61290322580645\n",
       "32. 2.5625\n",
       "33. 2.51515151515152\n",
       "34. 2.47058823529412\n",
       "35. 2.42857142857143\n",
       "36. 2.38888888888889\n",
       "37. 2.35135135135135\n",
       "38. 2.31578947368421\n",
       "39. 2.28205128205128\n",
       "40. 2.25\n",
       "41. 2.21951219512195\n",
       "42. 2.19047619047619\n",
       "43. 2.16279069767442\n",
       "44. 2.13636363636364\n",
       "45. 2.11111111111111\n",
       "46. 2.08695652173913\n",
       "47. 2.06382978723404\n",
       "48. 2.04166666666667\n",
       "49. 2.02040816326531\n",
       "50. 2\n",
       "\n",
       "\n"
      ],
      "text/plain": [
       " [1] 51.000000 26.000000 17.666667 13.500000 11.000000  9.333333  8.142857\n",
       " [8]  7.250000  6.555556  6.000000  5.545455  5.166667  4.846154  4.571429\n",
       "[15]  4.333333  4.125000  3.941176  3.777778  3.631579  3.500000  3.380952\n",
       "[22]  3.272727  3.173913  3.083333  3.000000  2.923077  2.851852  2.785714\n",
       "[29]  2.724138  2.666667  2.612903  2.562500  2.515152  2.470588  2.428571\n",
       "[36]  2.388889  2.351351  2.315789  2.282051  2.250000  2.219512  2.190476\n",
       "[43]  2.162791  2.136364  2.111111  2.086957  2.063830  2.041667  2.020408\n",
       "[50]  2.000000"
      ]
     },
     "metadata": {},
     "output_type": "display_data"
    }
   ],
   "source": [
    "d2 / d1"
   ]
  },
  {
   "cell_type": "code",
   "execution_count": 128,
   "id": "eee368c0",
   "metadata": {},
   "outputs": [
    {
     "data": {
      "text/html": [
       "1275"
      ],
      "text/latex": [
       "1275"
      ],
      "text/markdown": [
       "1275"
      ],
      "text/plain": [
       "[1] 1275"
      ]
     },
     "metadata": {},
     "output_type": "display_data"
    }
   ],
   "source": [
    "sum(d1)"
   ]
  },
  {
   "cell_type": "code",
   "execution_count": 129,
   "id": "59932fb7",
   "metadata": {},
   "outputs": [
    {
     "data": {
      "text/html": [
       "3775"
      ],
      "text/latex": [
       "3775"
      ],
      "text/markdown": [
       "3775"
      ],
      "text/plain": [
       "[1] 3775"
      ]
     },
     "metadata": {},
     "output_type": "display_data"
    }
   ],
   "source": [
    "sum(d2)"
   ]
  },
  {
   "cell_type": "code",
   "execution_count": 130,
   "id": "58cf42e7",
   "metadata": {},
   "outputs": [
    {
     "data": {
      "text/html": [
       "100"
      ],
      "text/latex": [
       "100"
      ],
      "text/markdown": [
       "100"
      ],
      "text/plain": [
       "[1] 100"
      ]
     },
     "metadata": {},
     "output_type": "display_data"
    }
   ],
   "source": [
    "max(d2)"
   ]
  },
  {
   "cell_type": "code",
   "execution_count": 131,
   "id": "36f43bf3",
   "metadata": {},
   "outputs": [
    {
     "data": {
      "text/html": [
       "51"
      ],
      "text/latex": [
       "51"
      ],
      "text/markdown": [
       "51"
      ],
      "text/plain": [
       "[1] 51"
      ]
     },
     "metadata": {},
     "output_type": "display_data"
    }
   ],
   "source": [
    "min(d2)"
   ]
  },
  {
   "cell_type": "code",
   "execution_count": 132,
   "id": "a8238531",
   "metadata": {},
   "outputs": [],
   "source": [
    "d1.mean <- mean(d1)\n",
    "d2.mean <- mean(d2)"
   ]
  },
  {
   "cell_type": "code",
   "execution_count": 133,
   "id": "f86b17a6",
   "metadata": {},
   "outputs": [
    {
     "data": {
      "text/html": [
       "50"
      ],
      "text/latex": [
       "50"
      ],
      "text/markdown": [
       "50"
      ],
      "text/plain": [
       "[1] 50"
      ]
     },
     "metadata": {},
     "output_type": "display_data"
    }
   ],
   "source": [
    "d2.mean - d1.mean"
   ]
  },
  {
   "cell_type": "code",
   "execution_count": 134,
   "id": "c59cb5ac",
   "metadata": {},
   "outputs": [
    {
     "data": {
      "text/html": [
       "25.5"
      ],
      "text/latex": [
       "25.5"
      ],
      "text/markdown": [
       "25.5"
      ],
      "text/plain": [
       "[1] 25.5"
      ]
     },
     "metadata": {},
     "output_type": "display_data"
    }
   ],
   "source": [
    "mean(d1)"
   ]
  },
  {
   "cell_type": "code",
   "execution_count": 135,
   "id": "b6727260",
   "metadata": {},
   "outputs": [
    {
     "data": {
      "text/html": [
       "75.5"
      ],
      "text/latex": [
       "75.5"
      ],
      "text/markdown": [
       "75.5"
      ],
      "text/plain": [
       "[1] 75.5"
      ]
     },
     "metadata": {},
     "output_type": "display_data"
    }
   ],
   "source": [
    "mean(d2)"
   ]
  },
  {
   "cell_type": "code",
   "execution_count": 136,
   "id": "3bf52444",
   "metadata": {},
   "outputs": [
    {
     "data": {
      "text/html": [
       "<style>\n",
       ".list-inline {list-style: none; margin:0; padding: 0}\n",
       ".list-inline>li {display: inline-block}\n",
       ".list-inline>li:not(:last-child)::after {content: \"\\00b7\"; padding: 0 .5ex}\n",
       "</style>\n",
       "<ol class=list-inline><li>50</li><li>49</li><li>48</li><li>47</li><li>46</li><li>45</li><li>44</li><li>43</li><li>42</li><li>41</li><li>40</li><li>39</li><li>38</li><li>37</li><li>36</li><li>35</li><li>34</li><li>33</li><li>32</li><li>31</li><li>30</li><li>29</li><li>28</li><li>27</li><li>26</li><li>25</li><li>24</li><li>23</li><li>22</li><li>21</li><li>20</li><li>19</li><li>18</li><li>17</li><li>16</li><li>15</li><li>14</li><li>13</li><li>12</li><li>11</li><li>10</li><li>9</li><li>8</li><li>7</li><li>6</li><li>5</li><li>4</li><li>3</li><li>2</li><li>1</li></ol>\n"
      ],
      "text/latex": [
       "\\begin{enumerate*}\n",
       "\\item 50\n",
       "\\item 49\n",
       "\\item 48\n",
       "\\item 47\n",
       "\\item 46\n",
       "\\item 45\n",
       "\\item 44\n",
       "\\item 43\n",
       "\\item 42\n",
       "\\item 41\n",
       "\\item 40\n",
       "\\item 39\n",
       "\\item 38\n",
       "\\item 37\n",
       "\\item 36\n",
       "\\item 35\n",
       "\\item 34\n",
       "\\item 33\n",
       "\\item 32\n",
       "\\item 31\n",
       "\\item 30\n",
       "\\item 29\n",
       "\\item 28\n",
       "\\item 27\n",
       "\\item 26\n",
       "\\item 25\n",
       "\\item 24\n",
       "\\item 23\n",
       "\\item 22\n",
       "\\item 21\n",
       "\\item 20\n",
       "\\item 19\n",
       "\\item 18\n",
       "\\item 17\n",
       "\\item 16\n",
       "\\item 15\n",
       "\\item 14\n",
       "\\item 13\n",
       "\\item 12\n",
       "\\item 11\n",
       "\\item 10\n",
       "\\item 9\n",
       "\\item 8\n",
       "\\item 7\n",
       "\\item 6\n",
       "\\item 5\n",
       "\\item 4\n",
       "\\item 3\n",
       "\\item 2\n",
       "\\item 1\n",
       "\\end{enumerate*}\n"
      ],
      "text/markdown": [
       "1. 50\n",
       "2. 49\n",
       "3. 48\n",
       "4. 47\n",
       "5. 46\n",
       "6. 45\n",
       "7. 44\n",
       "8. 43\n",
       "9. 42\n",
       "10. 41\n",
       "11. 40\n",
       "12. 39\n",
       "13. 38\n",
       "14. 37\n",
       "15. 36\n",
       "16. 35\n",
       "17. 34\n",
       "18. 33\n",
       "19. 32\n",
       "20. 31\n",
       "21. 30\n",
       "22. 29\n",
       "23. 28\n",
       "24. 27\n",
       "25. 26\n",
       "26. 25\n",
       "27. 24\n",
       "28. 23\n",
       "29. 22\n",
       "30. 21\n",
       "31. 20\n",
       "32. 19\n",
       "33. 18\n",
       "34. 17\n",
       "35. 16\n",
       "36. 15\n",
       "37. 14\n",
       "38. 13\n",
       "39. 12\n",
       "40. 11\n",
       "41. 10\n",
       "42. 9\n",
       "43. 8\n",
       "44. 7\n",
       "45. 6\n",
       "46. 5\n",
       "47. 4\n",
       "48. 3\n",
       "49. 2\n",
       "50. 1\n",
       "\n",
       "\n"
      ],
      "text/plain": [
       " [1] 50 49 48 47 46 45 44 43 42 41 40 39 38 37 36 35 34 33 32 31 30 29 28 27 26\n",
       "[26] 25 24 23 22 21 20 19 18 17 16 15 14 13 12 11 10  9  8  7  6  5  4  3  2  1"
      ]
     },
     "metadata": {},
     "output_type": "display_data"
    }
   ],
   "source": [
    "sort(d1, T)"
   ]
  },
  {
   "cell_type": "code",
   "execution_count": 137,
   "id": "2ec9580e",
   "metadata": {},
   "outputs": [],
   "source": [
    "d3 <- c(d1[1:10], d2[1:10])"
   ]
  },
  {
   "cell_type": "code",
   "execution_count": 138,
   "id": "7bff239a",
   "metadata": {},
   "outputs": [
    {
     "data": {
      "text/html": [
       "<style>\n",
       ".list-inline {list-style: none; margin:0; padding: 0}\n",
       ".list-inline>li {display: inline-block}\n",
       ".list-inline>li:not(:last-child)::after {content: \"\\00b7\"; padding: 0 .5ex}\n",
       "</style>\n",
       "<ol class=list-inline><li>1</li><li>2</li><li>3</li><li>4</li><li>5</li><li>6</li><li>7</li><li>8</li><li>9</li><li>10</li><li>51</li><li>52</li><li>53</li><li>54</li><li>55</li><li>56</li><li>57</li><li>58</li><li>59</li><li>60</li></ol>\n"
      ],
      "text/latex": [
       "\\begin{enumerate*}\n",
       "\\item 1\n",
       "\\item 2\n",
       "\\item 3\n",
       "\\item 4\n",
       "\\item 5\n",
       "\\item 6\n",
       "\\item 7\n",
       "\\item 8\n",
       "\\item 9\n",
       "\\item 10\n",
       "\\item 51\n",
       "\\item 52\n",
       "\\item 53\n",
       "\\item 54\n",
       "\\item 55\n",
       "\\item 56\n",
       "\\item 57\n",
       "\\item 58\n",
       "\\item 59\n",
       "\\item 60\n",
       "\\end{enumerate*}\n"
      ],
      "text/markdown": [
       "1. 1\n",
       "2. 2\n",
       "3. 3\n",
       "4. 4\n",
       "5. 5\n",
       "6. 6\n",
       "7. 7\n",
       "8. 8\n",
       "9. 9\n",
       "10. 10\n",
       "11. 51\n",
       "12. 52\n",
       "13. 53\n",
       "14. 54\n",
       "15. 55\n",
       "16. 56\n",
       "17. 57\n",
       "18. 58\n",
       "19. 59\n",
       "20. 60\n",
       "\n",
       "\n"
      ],
      "text/plain": [
       " [1]  1  2  3  4  5  6  7  8  9 10 51 52 53 54 55 56 57 58 59 60"
      ]
     },
     "metadata": {},
     "output_type": "display_data"
    }
   ],
   "source": [
    "d3"
   ]
  },
  {
   "cell_type": "code",
   "execution_count": 139,
   "id": "a461e438",
   "metadata": {},
   "outputs": [],
   "source": [
    "v1 <- 51:90"
   ]
  },
  {
   "cell_type": "code",
   "execution_count": 140,
   "id": "e8173ba5",
   "metadata": {},
   "outputs": [
    {
     "data": {
      "text/html": [
       "<style>\n",
       ".list-inline {list-style: none; margin:0; padding: 0}\n",
       ".list-inline>li {display: inline-block}\n",
       ".list-inline>li:not(:last-child)::after {content: \"\\00b7\"; padding: 0 .5ex}\n",
       "</style>\n",
       "<ol class=list-inline><li>51</li><li>52</li><li>53</li><li>54</li><li>55</li><li>56</li><li>57</li><li>58</li><li>59</li></ol>\n"
      ],
      "text/latex": [
       "\\begin{enumerate*}\n",
       "\\item 51\n",
       "\\item 52\n",
       "\\item 53\n",
       "\\item 54\n",
       "\\item 55\n",
       "\\item 56\n",
       "\\item 57\n",
       "\\item 58\n",
       "\\item 59\n",
       "\\end{enumerate*}\n"
      ],
      "text/markdown": [
       "1. 51\n",
       "2. 52\n",
       "3. 53\n",
       "4. 54\n",
       "5. 55\n",
       "6. 56\n",
       "7. 57\n",
       "8. 58\n",
       "9. 59\n",
       "\n",
       "\n"
      ],
      "text/plain": [
       "[1] 51 52 53 54 55 56 57 58 59"
      ]
     },
     "metadata": {},
     "output_type": "display_data"
    }
   ],
   "source": [
    "v1[v1 < 60]"
   ]
  },
  {
   "cell_type": "code",
   "execution_count": 141,
   "id": "42e273a3",
   "metadata": {},
   "outputs": [
    {
     "data": {
      "text/html": [
       "19"
      ],
      "text/latex": [
       "19"
      ],
      "text/markdown": [
       "19"
      ],
      "text/plain": [
       "[1] 19"
      ]
     },
     "metadata": {},
     "output_type": "display_data"
    }
   ],
   "source": [
    "length(v1[v1 < 70])"
   ]
  },
  {
   "cell_type": "code",
   "execution_count": 142,
   "id": "e3498906",
   "metadata": {},
   "outputs": [
    {
     "data": {
      "text/html": [
       "<style>\n",
       ".list-inline {list-style: none; margin:0; padding: 0}\n",
       ".list-inline>li {display: inline-block}\n",
       ".list-inline>li:not(:last-child)::after {content: \"\\00b7\"; padding: 0 .5ex}\n",
       "</style>\n",
       "<ol class=list-inline><li>51</li><li>52</li><li>53</li><li>54</li><li>55</li><li>56</li><li>57</li><li>58</li><li>59</li><li>60</li><li>61</li><li>62</li><li>63</li><li>64</li><li>65</li><li>66</li><li>67</li><li>68</li><li>69</li></ol>\n"
      ],
      "text/latex": [
       "\\begin{enumerate*}\n",
       "\\item 51\n",
       "\\item 52\n",
       "\\item 53\n",
       "\\item 54\n",
       "\\item 55\n",
       "\\item 56\n",
       "\\item 57\n",
       "\\item 58\n",
       "\\item 59\n",
       "\\item 60\n",
       "\\item 61\n",
       "\\item 62\n",
       "\\item 63\n",
       "\\item 64\n",
       "\\item 65\n",
       "\\item 66\n",
       "\\item 67\n",
       "\\item 68\n",
       "\\item 69\n",
       "\\end{enumerate*}\n"
      ],
      "text/markdown": [
       "1. 51\n",
       "2. 52\n",
       "3. 53\n",
       "4. 54\n",
       "5. 55\n",
       "6. 56\n",
       "7. 57\n",
       "8. 58\n",
       "9. 59\n",
       "10. 60\n",
       "11. 61\n",
       "12. 62\n",
       "13. 63\n",
       "14. 64\n",
       "15. 65\n",
       "16. 66\n",
       "17. 67\n",
       "18. 68\n",
       "19. 69\n",
       "\n",
       "\n"
      ],
      "text/plain": [
       " [1] 51 52 53 54 55 56 57 58 59 60 61 62 63 64 65 66 67 68 69"
      ]
     },
     "metadata": {},
     "output_type": "display_data"
    }
   ],
   "source": [
    "v1[v1 < 70]"
   ]
  },
  {
   "cell_type": "code",
   "execution_count": 143,
   "id": "ae89754d",
   "metadata": {},
   "outputs": [
    {
     "data": {
      "text/html": [
       "<style>\n",
       ".list-inline {list-style: none; margin:0; padding: 0}\n",
       ".list-inline>li {display: inline-block}\n",
       ".list-inline>li:not(:last-child)::after {content: \"\\00b7\"; padding: 0 .5ex}\n",
       "</style>\n",
       "<ol class=list-inline><li>61</li><li>62</li><li>63</li><li>64</li><li>65</li><li>66</li><li>67</li><li>68</li><li>69</li><li>70</li><li>71</li><li>72</li></ol>\n"
      ],
      "text/latex": [
       "\\begin{enumerate*}\n",
       "\\item 61\n",
       "\\item 62\n",
       "\\item 63\n",
       "\\item 64\n",
       "\\item 65\n",
       "\\item 66\n",
       "\\item 67\n",
       "\\item 68\n",
       "\\item 69\n",
       "\\item 70\n",
       "\\item 71\n",
       "\\item 72\n",
       "\\end{enumerate*}\n"
      ],
      "text/markdown": [
       "1. 61\n",
       "2. 62\n",
       "3. 63\n",
       "4. 64\n",
       "5. 65\n",
       "6. 66\n",
       "7. 67\n",
       "8. 68\n",
       "9. 69\n",
       "10. 70\n",
       "11. 71\n",
       "12. 72\n",
       "\n",
       "\n"
      ],
      "text/plain": [
       " [1] 61 62 63 64 65 66 67 68 69 70 71 72"
      ]
     },
     "metadata": {},
     "output_type": "display_data"
    }
   ],
   "source": [
    "v1[v1 > 60 & v1 < 73]"
   ]
  },
  {
   "cell_type": "code",
   "execution_count": 144,
   "id": "78aad6d8",
   "metadata": {},
   "outputs": [
    {
     "data": {
      "text/html": [],
      "text/latex": [],
      "text/markdown": [],
      "text/plain": [
       "integer(0)"
      ]
     },
     "metadata": {},
     "output_type": "display_data"
    }
   ],
   "source": [
    "v1[v1 < 65 & v1 > 80]"
   ]
  },
  {
   "cell_type": "code",
   "execution_count": 147,
   "id": "fa344737",
   "metadata": {},
   "outputs": [],
   "source": [
    "v1 <- 51:90"
   ]
  },
  {
   "cell_type": "code",
   "execution_count": 150,
   "id": "2489f5ce",
   "metadata": {},
   "outputs": [
    {
     "data": {
      "text/html": [
       "<style>\n",
       ".list-inline {list-style: none; margin:0; padding: 0}\n",
       ".list-inline>li {display: inline-block}\n",
       ".list-inline>li:not(:last-child)::after {content: \"\\00b7\"; padding: 0 .5ex}\n",
       "</style>\n",
       "<ol class=list-inline><li>51</li><li>52</li><li>53</li><li>54</li><li>55</li><li>56</li><li>57</li><li>58</li><li>59</li><li>60</li><li>61</li><li>62</li><li>63</li><li>64</li><li>81</li><li>82</li><li>83</li><li>84</li><li>85</li><li>86</li><li>87</li><li>88</li><li>89</li><li>90</li></ol>\n"
      ],
      "text/latex": [
       "\\begin{enumerate*}\n",
       "\\item 51\n",
       "\\item 52\n",
       "\\item 53\n",
       "\\item 54\n",
       "\\item 55\n",
       "\\item 56\n",
       "\\item 57\n",
       "\\item 58\n",
       "\\item 59\n",
       "\\item 60\n",
       "\\item 61\n",
       "\\item 62\n",
       "\\item 63\n",
       "\\item 64\n",
       "\\item 81\n",
       "\\item 82\n",
       "\\item 83\n",
       "\\item 84\n",
       "\\item 85\n",
       "\\item 86\n",
       "\\item 87\n",
       "\\item 88\n",
       "\\item 89\n",
       "\\item 90\n",
       "\\end{enumerate*}\n"
      ],
      "text/markdown": [
       "1. 51\n",
       "2. 52\n",
       "3. 53\n",
       "4. 54\n",
       "5. 55\n",
       "6. 56\n",
       "7. 57\n",
       "8. 58\n",
       "9. 59\n",
       "10. 60\n",
       "11. 61\n",
       "12. 62\n",
       "13. 63\n",
       "14. 64\n",
       "15. 81\n",
       "16. 82\n",
       "17. 83\n",
       "18. 84\n",
       "19. 85\n",
       "20. 86\n",
       "21. 87\n",
       "22. 88\n",
       "23. 89\n",
       "24. 90\n",
       "\n",
       "\n"
      ],
      "text/plain": [
       " [1] 51 52 53 54 55 56 57 58 59 60 61 62 63 64 81 82 83 84 85 86 87 88 89 90"
      ]
     },
     "metadata": {},
     "output_type": "display_data"
    }
   ],
   "source": [
    "v1[v1 < 65 | 80 < v1]"
   ]
  },
  {
   "cell_type": "code",
   "execution_count": 152,
   "id": "fc7d8a38",
   "metadata": {},
   "outputs": [
    {
     "data": {
      "text/html": [
       "<style>\n",
       ".list-inline {list-style: none; margin:0; padding: 0}\n",
       ".list-inline>li {display: inline-block}\n",
       ".list-inline>li:not(:last-child)::after {content: \"\\00b7\"; padding: 0 .5ex}\n",
       "</style>\n",
       "<ol class=list-inline><li>52</li><li>59</li><li>66</li><li>73</li><li>80</li><li>87</li></ol>\n"
      ],
      "text/latex": [
       "\\begin{enumerate*}\n",
       "\\item 52\n",
       "\\item 59\n",
       "\\item 66\n",
       "\\item 73\n",
       "\\item 80\n",
       "\\item 87\n",
       "\\end{enumerate*}\n"
      ],
      "text/markdown": [
       "1. 52\n",
       "2. 59\n",
       "3. 66\n",
       "4. 73\n",
       "5. 80\n",
       "6. 87\n",
       "\n",
       "\n"
      ],
      "text/plain": [
       "[1] 52 59 66 73 80 87"
      ]
     },
     "metadata": {},
     "output_type": "display_data"
    }
   ],
   "source": [
    "v1[v1%%7 ==3]"
   ]
  },
  {
   "cell_type": "code",
   "execution_count": 153,
   "id": "6c82a8e2",
   "metadata": {},
   "outputs": [],
   "source": [
    "v1[v1%%7==0] <- 0"
   ]
  },
  {
   "cell_type": "code",
   "execution_count": 154,
   "id": "e52fa41f",
   "metadata": {},
   "outputs": [
    {
     "data": {
      "text/html": [
       "<style>\n",
       ".list-inline {list-style: none; margin:0; padding: 0}\n",
       ".list-inline>li {display: inline-block}\n",
       ".list-inline>li:not(:last-child)::after {content: \"\\00b7\"; padding: 0 .5ex}\n",
       "</style>\n",
       "<ol class=list-inline><li>51</li><li>52</li><li>53</li><li>54</li><li>55</li><li>0</li><li>57</li><li>58</li><li>59</li><li>60</li><li>61</li><li>62</li><li>0</li><li>64</li><li>65</li><li>66</li><li>67</li><li>68</li><li>69</li><li>0</li><li>71</li><li>72</li><li>73</li><li>74</li><li>75</li><li>76</li><li>0</li><li>78</li><li>79</li><li>80</li><li>81</li><li>82</li><li>83</li><li>0</li><li>85</li><li>86</li><li>87</li><li>88</li><li>89</li><li>90</li></ol>\n"
      ],
      "text/latex": [
       "\\begin{enumerate*}\n",
       "\\item 51\n",
       "\\item 52\n",
       "\\item 53\n",
       "\\item 54\n",
       "\\item 55\n",
       "\\item 0\n",
       "\\item 57\n",
       "\\item 58\n",
       "\\item 59\n",
       "\\item 60\n",
       "\\item 61\n",
       "\\item 62\n",
       "\\item 0\n",
       "\\item 64\n",
       "\\item 65\n",
       "\\item 66\n",
       "\\item 67\n",
       "\\item 68\n",
       "\\item 69\n",
       "\\item 0\n",
       "\\item 71\n",
       "\\item 72\n",
       "\\item 73\n",
       "\\item 74\n",
       "\\item 75\n",
       "\\item 76\n",
       "\\item 0\n",
       "\\item 78\n",
       "\\item 79\n",
       "\\item 80\n",
       "\\item 81\n",
       "\\item 82\n",
       "\\item 83\n",
       "\\item 0\n",
       "\\item 85\n",
       "\\item 86\n",
       "\\item 87\n",
       "\\item 88\n",
       "\\item 89\n",
       "\\item 90\n",
       "\\end{enumerate*}\n"
      ],
      "text/markdown": [
       "1. 51\n",
       "2. 52\n",
       "3. 53\n",
       "4. 54\n",
       "5. 55\n",
       "6. 0\n",
       "7. 57\n",
       "8. 58\n",
       "9. 59\n",
       "10. 60\n",
       "11. 61\n",
       "12. 62\n",
       "13. 0\n",
       "14. 64\n",
       "15. 65\n",
       "16. 66\n",
       "17. 67\n",
       "18. 68\n",
       "19. 69\n",
       "20. 0\n",
       "21. 71\n",
       "22. 72\n",
       "23. 73\n",
       "24. 74\n",
       "25. 75\n",
       "26. 76\n",
       "27. 0\n",
       "28. 78\n",
       "29. 79\n",
       "30. 80\n",
       "31. 81\n",
       "32. 82\n",
       "33. 83\n",
       "34. 0\n",
       "35. 85\n",
       "36. 86\n",
       "37. 87\n",
       "38. 88\n",
       "39. 89\n",
       "40. 90\n",
       "\n",
       "\n"
      ],
      "text/plain": [
       " [1] 51 52 53 54 55  0 57 58 59 60 61 62  0 64 65 66 67 68 69  0 71 72 73 74 75\n",
       "[26] 76  0 78 79 80 81 82 83  0 85 86 87 88 89 90"
      ]
     },
     "metadata": {},
     "output_type": "display_data"
    }
   ],
   "source": [
    "v1"
   ]
  },
  {
   "cell_type": "code",
   "execution_count": 155,
   "id": "194855c3",
   "metadata": {},
   "outputs": [],
   "source": [
    "v1 <- 51:90"
   ]
  },
  {
   "cell_type": "code",
   "execution_count": 156,
   "id": "4222fb5e",
   "metadata": {},
   "outputs": [
    {
     "data": {
      "text/html": [
       "1420"
      ],
      "text/latex": [
       "1420"
      ],
      "text/markdown": [
       "1420"
      ],
      "text/plain": [
       "[1] 1420"
      ]
     },
     "metadata": {},
     "output_type": "display_data"
    }
   ],
   "source": [
    "sum(v1[v1%%2 == 0])"
   ]
  },
  {
   "cell_type": "code",
   "execution_count": 157,
   "id": "0cbdc121",
   "metadata": {},
   "outputs": [
    {
     "data": {
      "text/html": [
       "<style>\n",
       ".list-inline {list-style: none; margin:0; padding: 0}\n",
       ".list-inline>li {display: inline-block}\n",
       ".list-inline>li:not(:last-child)::after {content: \"\\00b7\"; padding: 0 .5ex}\n",
       "</style>\n",
       "<ol class=list-inline><li>51</li><li>53</li><li>55</li><li>57</li><li>59</li><li>61</li><li>63</li><li>65</li><li>67</li><li>69</li><li>71</li><li>73</li><li>75</li><li>77</li><li>79</li><li>81</li><li>82</li><li>83</li><li>84</li><li>85</li><li>86</li><li>87</li><li>88</li><li>89</li><li>90</li></ol>\n"
      ],
      "text/latex": [
       "\\begin{enumerate*}\n",
       "\\item 51\n",
       "\\item 53\n",
       "\\item 55\n",
       "\\item 57\n",
       "\\item 59\n",
       "\\item 61\n",
       "\\item 63\n",
       "\\item 65\n",
       "\\item 67\n",
       "\\item 69\n",
       "\\item 71\n",
       "\\item 73\n",
       "\\item 75\n",
       "\\item 77\n",
       "\\item 79\n",
       "\\item 81\n",
       "\\item 82\n",
       "\\item 83\n",
       "\\item 84\n",
       "\\item 85\n",
       "\\item 86\n",
       "\\item 87\n",
       "\\item 88\n",
       "\\item 89\n",
       "\\item 90\n",
       "\\end{enumerate*}\n"
      ],
      "text/markdown": [
       "1. 51\n",
       "2. 53\n",
       "3. 55\n",
       "4. 57\n",
       "5. 59\n",
       "6. 61\n",
       "7. 63\n",
       "8. 65\n",
       "9. 67\n",
       "10. 69\n",
       "11. 71\n",
       "12. 73\n",
       "13. 75\n",
       "14. 77\n",
       "15. 79\n",
       "16. 81\n",
       "17. 82\n",
       "18. 83\n",
       "19. 84\n",
       "20. 85\n",
       "21. 86\n",
       "22. 87\n",
       "23. 88\n",
       "24. 89\n",
       "25. 90\n",
       "\n",
       "\n"
      ],
      "text/plain": [
       " [1] 51 53 55 57 59 61 63 65 67 69 71 73 75 77 79 81 82 83 84 85 86 87 88 89 90"
      ]
     },
     "metadata": {},
     "output_type": "display_data"
    }
   ],
   "source": [
    "v1[v1%%2==1 | v1 > 80]"
   ]
  },
  {
   "cell_type": "code",
   "execution_count": 159,
   "id": "f8417d84",
   "metadata": {},
   "outputs": [
    {
     "data": {
      "text/html": [
       "<style>\n",
       ".list-inline {list-style: none; margin:0; padding: 0}\n",
       ".list-inline>li {display: inline-block}\n",
       ".list-inline>li:not(:last-child)::after {content: \"\\00b7\"; padding: 0 .5ex}\n",
       "</style>\n",
       "<ol class=list-inline><li>60</li><li>75</li><li>90</li></ol>\n"
      ],
      "text/latex": [
       "\\begin{enumerate*}\n",
       "\\item 60\n",
       "\\item 75\n",
       "\\item 90\n",
       "\\end{enumerate*}\n"
      ],
      "text/markdown": [
       "1. 60\n",
       "2. 75\n",
       "3. 90\n",
       "\n",
       "\n"
      ],
      "text/plain": [
       "[1] 60 75 90"
      ]
     },
     "metadata": {},
     "output_type": "display_data"
    }
   ],
   "source": [
    "v1[v1%%3 ==0 & v1%%5 == 0]"
   ]
  },
  {
   "cell_type": "code",
   "execution_count": 160,
   "id": "c925d47d",
   "metadata": {},
   "outputs": [],
   "source": [
    "v1[v1%%2 == 0] <- v1[v1%%2 == 0] * 2"
   ]
  },
  {
   "cell_type": "code",
   "execution_count": 161,
   "id": "590ca899",
   "metadata": {},
   "outputs": [
    {
     "data": {
      "text/html": [
       "<style>\n",
       ".list-inline {list-style: none; margin:0; padding: 0}\n",
       ".list-inline>li {display: inline-block}\n",
       ".list-inline>li:not(:last-child)::after {content: \"\\00b7\"; padding: 0 .5ex}\n",
       "</style>\n",
       "<ol class=list-inline><li>51</li><li>104</li><li>53</li><li>108</li><li>55</li><li>112</li><li>57</li><li>116</li><li>59</li><li>120</li><li>61</li><li>124</li><li>63</li><li>128</li><li>65</li><li>132</li><li>67</li><li>136</li><li>69</li><li>140</li><li>71</li><li>144</li><li>73</li><li>148</li><li>75</li><li>152</li><li>77</li><li>156</li><li>79</li><li>160</li><li>81</li><li>164</li><li>83</li><li>168</li><li>85</li><li>172</li><li>87</li><li>176</li><li>89</li><li>180</li></ol>\n"
      ],
      "text/latex": [
       "\\begin{enumerate*}\n",
       "\\item 51\n",
       "\\item 104\n",
       "\\item 53\n",
       "\\item 108\n",
       "\\item 55\n",
       "\\item 112\n",
       "\\item 57\n",
       "\\item 116\n",
       "\\item 59\n",
       "\\item 120\n",
       "\\item 61\n",
       "\\item 124\n",
       "\\item 63\n",
       "\\item 128\n",
       "\\item 65\n",
       "\\item 132\n",
       "\\item 67\n",
       "\\item 136\n",
       "\\item 69\n",
       "\\item 140\n",
       "\\item 71\n",
       "\\item 144\n",
       "\\item 73\n",
       "\\item 148\n",
       "\\item 75\n",
       "\\item 152\n",
       "\\item 77\n",
       "\\item 156\n",
       "\\item 79\n",
       "\\item 160\n",
       "\\item 81\n",
       "\\item 164\n",
       "\\item 83\n",
       "\\item 168\n",
       "\\item 85\n",
       "\\item 172\n",
       "\\item 87\n",
       "\\item 176\n",
       "\\item 89\n",
       "\\item 180\n",
       "\\end{enumerate*}\n"
      ],
      "text/markdown": [
       "1. 51\n",
       "2. 104\n",
       "3. 53\n",
       "4. 108\n",
       "5. 55\n",
       "6. 112\n",
       "7. 57\n",
       "8. 116\n",
       "9. 59\n",
       "10. 120\n",
       "11. 61\n",
       "12. 124\n",
       "13. 63\n",
       "14. 128\n",
       "15. 65\n",
       "16. 132\n",
       "17. 67\n",
       "18. 136\n",
       "19. 69\n",
       "20. 140\n",
       "21. 71\n",
       "22. 144\n",
       "23. 73\n",
       "24. 148\n",
       "25. 75\n",
       "26. 152\n",
       "27. 77\n",
       "28. 156\n",
       "29. 79\n",
       "30. 160\n",
       "31. 81\n",
       "32. 164\n",
       "33. 83\n",
       "34. 168\n",
       "35. 85\n",
       "36. 172\n",
       "37. 87\n",
       "38. 176\n",
       "39. 89\n",
       "40. 180\n",
       "\n",
       "\n"
      ],
      "text/plain": [
       " [1]  51 104  53 108  55 112  57 116  59 120  61 124  63 128  65 132  67 136  69\n",
       "[20] 140  71 144  73 148  75 152  77 156  79 160  81 164  83 168  85 172  87 176\n",
       "[39]  89 180"
      ]
     },
     "metadata": {},
     "output_type": "display_data"
    }
   ],
   "source": [
    "v1"
   ]
  },
  {
   "cell_type": "code",
   "execution_count": 162,
   "id": "3b0b38c3",
   "metadata": {},
   "outputs": [],
   "source": [
    "v1 <- v1[v1%%7 != 0]"
   ]
  },
  {
   "cell_type": "code",
   "execution_count": 163,
   "id": "9245caa2",
   "metadata": {},
   "outputs": [
    {
     "data": {
      "text/html": [
       "<style>\n",
       ".list-inline {list-style: none; margin:0; padding: 0}\n",
       ".list-inline>li {display: inline-block}\n",
       ".list-inline>li:not(:last-child)::after {content: \"\\00b7\"; padding: 0 .5ex}\n",
       "</style>\n",
       "<ol class=list-inline><li>51</li><li>104</li><li>53</li><li>108</li><li>55</li><li>57</li><li>116</li><li>59</li><li>120</li><li>61</li><li>124</li><li>128</li><li>65</li><li>132</li><li>67</li><li>136</li><li>69</li><li>71</li><li>144</li><li>73</li><li>148</li><li>75</li><li>152</li><li>156</li><li>79</li><li>160</li><li>81</li><li>164</li><li>83</li><li>85</li><li>172</li><li>87</li><li>176</li><li>89</li><li>180</li></ol>\n"
      ],
      "text/latex": [
       "\\begin{enumerate*}\n",
       "\\item 51\n",
       "\\item 104\n",
       "\\item 53\n",
       "\\item 108\n",
       "\\item 55\n",
       "\\item 57\n",
       "\\item 116\n",
       "\\item 59\n",
       "\\item 120\n",
       "\\item 61\n",
       "\\item 124\n",
       "\\item 128\n",
       "\\item 65\n",
       "\\item 132\n",
       "\\item 67\n",
       "\\item 136\n",
       "\\item 69\n",
       "\\item 71\n",
       "\\item 144\n",
       "\\item 73\n",
       "\\item 148\n",
       "\\item 75\n",
       "\\item 152\n",
       "\\item 156\n",
       "\\item 79\n",
       "\\item 160\n",
       "\\item 81\n",
       "\\item 164\n",
       "\\item 83\n",
       "\\item 85\n",
       "\\item 172\n",
       "\\item 87\n",
       "\\item 176\n",
       "\\item 89\n",
       "\\item 180\n",
       "\\end{enumerate*}\n"
      ],
      "text/markdown": [
       "1. 51\n",
       "2. 104\n",
       "3. 53\n",
       "4. 108\n",
       "5. 55\n",
       "6. 57\n",
       "7. 116\n",
       "8. 59\n",
       "9. 120\n",
       "10. 61\n",
       "11. 124\n",
       "12. 128\n",
       "13. 65\n",
       "14. 132\n",
       "15. 67\n",
       "16. 136\n",
       "17. 69\n",
       "18. 71\n",
       "19. 144\n",
       "20. 73\n",
       "21. 148\n",
       "22. 75\n",
       "23. 152\n",
       "24. 156\n",
       "25. 79\n",
       "26. 160\n",
       "27. 81\n",
       "28. 164\n",
       "29. 83\n",
       "30. 85\n",
       "31. 172\n",
       "32. 87\n",
       "33. 176\n",
       "34. 89\n",
       "35. 180\n",
       "\n",
       "\n"
      ],
      "text/plain": [
       " [1]  51 104  53 108  55  57 116  59 120  61 124 128  65 132  67 136  69  71 144\n",
       "[20]  73 148  75 152 156  79 160  81 164  83  85 172  87 176  89 180"
      ]
     },
     "metadata": {},
     "output_type": "display_data"
    }
   ],
   "source": [
    "v1"
   ]
  },
  {
   "cell_type": "code",
   "execution_count": 164,
   "id": "d0b732df",
   "metadata": {},
   "outputs": [
    {
     "data": {
      "text/html": [
       "<table class=\"dataframe\">\n",
       "<caption>A data.frame: 4 × 2</caption>\n",
       "<thead>\n",
       "\t<tr><th scope=col>m</th><th scope=col>f</th></tr>\n",
       "\t<tr><th scope=col>&lt;dbl&gt;</th><th scope=col>&lt;dbl&gt;</th></tr>\n",
       "</thead>\n",
       "<tbody>\n",
       "\t<tr><td>10</td><td>21</td></tr>\n",
       "\t<tr><td>40</td><td>60</td></tr>\n",
       "\t<tr><td>60</td><td>70</td></tr>\n",
       "\t<tr><td>20</td><td>30</td></tr>\n",
       "</tbody>\n",
       "</table>\n"
      ],
      "text/latex": [
       "A data.frame: 4 × 2\n",
       "\\begin{tabular}{ll}\n",
       " m & f\\\\\n",
       " <dbl> & <dbl>\\\\\n",
       "\\hline\n",
       "\t 10 & 21\\\\\n",
       "\t 40 & 60\\\\\n",
       "\t 60 & 70\\\\\n",
       "\t 20 & 30\\\\\n",
       "\\end{tabular}\n"
      ],
      "text/markdown": [
       "\n",
       "A data.frame: 4 × 2\n",
       "\n",
       "| m &lt;dbl&gt; | f &lt;dbl&gt; |\n",
       "|---|---|\n",
       "| 10 | 21 |\n",
       "| 40 | 60 |\n",
       "| 60 | 70 |\n",
       "| 20 | 30 |\n",
       "\n"
      ],
      "text/plain": [
       "  m  f \n",
       "1 10 21\n",
       "2 40 60\n",
       "3 60 70\n",
       "4 20 30"
      ]
     },
     "metadata": {},
     "output_type": "display_data"
    }
   ],
   "source": [
    "m <- c(10, 40, 60, 20)\n",
    "f <- c(21, 60, 70, 30)\n",
    "score <- data.frame(m, f)\n",
    "score"
   ]
  },
  {
   "cell_type": "code",
   "execution_count": 165,
   "id": "2eb4e4ad",
   "metadata": {},
   "outputs": [
    {
     "data": {
      "text/html": [
       "<table class=\"dataframe\">\n",
       "<caption>A data.frame: 4 × 2</caption>\n",
       "<thead>\n",
       "\t<tr><th scope=col>male</th><th scope=col>female</th></tr>\n",
       "\t<tr><th scope=col>&lt;dbl&gt;</th><th scope=col>&lt;dbl&gt;</th></tr>\n",
       "</thead>\n",
       "<tbody>\n",
       "\t<tr><td>10</td><td>21</td></tr>\n",
       "\t<tr><td>40</td><td>60</td></tr>\n",
       "\t<tr><td>60</td><td>70</td></tr>\n",
       "\t<tr><td>20</td><td>30</td></tr>\n",
       "</tbody>\n",
       "</table>\n"
      ],
      "text/latex": [
       "A data.frame: 4 × 2\n",
       "\\begin{tabular}{ll}\n",
       " male & female\\\\\n",
       " <dbl> & <dbl>\\\\\n",
       "\\hline\n",
       "\t 10 & 21\\\\\n",
       "\t 40 & 60\\\\\n",
       "\t 60 & 70\\\\\n",
       "\t 20 & 30\\\\\n",
       "\\end{tabular}\n"
      ],
      "text/markdown": [
       "\n",
       "A data.frame: 4 × 2\n",
       "\n",
       "| male &lt;dbl&gt; | female &lt;dbl&gt; |\n",
       "|---|---|\n",
       "| 10 | 21 |\n",
       "| 40 | 60 |\n",
       "| 60 | 70 |\n",
       "| 20 | 30 |\n",
       "\n"
      ],
      "text/plain": [
       "  male female\n",
       "1 10   21    \n",
       "2 40   60    \n",
       "3 60   70    \n",
       "4 20   30    "
      ]
     },
     "metadata": {},
     "output_type": "display_data"
    }
   ],
   "source": [
    "colnames(score) <- c(\"male\", \"female\")\n",
    "score"
   ]
  },
  {
   "cell_type": "code",
   "execution_count": 166,
   "id": "c416084b",
   "metadata": {},
   "outputs": [
    {
     "data": {
      "text/html": [
       "<table class=\"dataframe\">\n",
       "<caption>A data.frame: 1 × 2</caption>\n",
       "<thead>\n",
       "\t<tr><th></th><th scope=col>male</th><th scope=col>female</th></tr>\n",
       "\t<tr><th></th><th scope=col>&lt;dbl&gt;</th><th scope=col>&lt;dbl&gt;</th></tr>\n",
       "</thead>\n",
       "<tbody>\n",
       "\t<tr><th scope=row>2</th><td>40</td><td>60</td></tr>\n",
       "</tbody>\n",
       "</table>\n"
      ],
      "text/latex": [
       "A data.frame: 1 × 2\n",
       "\\begin{tabular}{r|ll}\n",
       "  & male & female\\\\\n",
       "  & <dbl> & <dbl>\\\\\n",
       "\\hline\n",
       "\t2 & 40 & 60\\\\\n",
       "\\end{tabular}\n"
      ],
      "text/markdown": [
       "\n",
       "A data.frame: 1 × 2\n",
       "\n",
       "| <!--/--> | male &lt;dbl&gt; | female &lt;dbl&gt; |\n",
       "|---|---|---|\n",
       "| 2 | 40 | 60 |\n",
       "\n"
      ],
      "text/plain": [
       "  male female\n",
       "2 40   60    "
      ]
     },
     "metadata": {},
     "output_type": "display_data"
    }
   ],
   "source": [
    "score[2, ]"
   ]
  },
  {
   "cell_type": "code",
   "execution_count": 167,
   "id": "73a5a790",
   "metadata": {},
   "outputs": [
    {
     "data": {
      "text/html": [
       "<table class=\"dataframe\">\n",
       "<caption>A data.frame: 4 × 1</caption>\n",
       "<thead>\n",
       "\t<tr><th scope=col>female</th></tr>\n",
       "\t<tr><th scope=col>&lt;dbl&gt;</th></tr>\n",
       "</thead>\n",
       "<tbody>\n",
       "\t<tr><td>21</td></tr>\n",
       "\t<tr><td>60</td></tr>\n",
       "\t<tr><td>70</td></tr>\n",
       "\t<tr><td>30</td></tr>\n",
       "</tbody>\n",
       "</table>\n"
      ],
      "text/latex": [
       "A data.frame: 4 × 1\n",
       "\\begin{tabular}{l}\n",
       " female\\\\\n",
       " <dbl>\\\\\n",
       "\\hline\n",
       "\t 21\\\\\n",
       "\t 60\\\\\n",
       "\t 70\\\\\n",
       "\t 30\\\\\n",
       "\\end{tabular}\n"
      ],
      "text/markdown": [
       "\n",
       "A data.frame: 4 × 1\n",
       "\n",
       "| female &lt;dbl&gt; |\n",
       "|---|\n",
       "| 21 |\n",
       "| 60 |\n",
       "| 70 |\n",
       "| 30 |\n",
       "\n"
      ],
      "text/plain": [
       "  female\n",
       "1 21    \n",
       "2 60    \n",
       "3 70    \n",
       "4 30    "
      ]
     },
     "metadata": {},
     "output_type": "display_data"
    }
   ],
   "source": [
    "score['female']"
   ]
  },
  {
   "cell_type": "code",
   "execution_count": 168,
   "id": "b16ce16f",
   "metadata": {},
   "outputs": [
    {
     "data": {
      "text/html": [
       "70"
      ],
      "text/latex": [
       "70"
      ],
      "text/markdown": [
       "70"
      ],
      "text/plain": [
       "[1] 70"
      ]
     },
     "metadata": {},
     "output_type": "display_data"
    }
   ],
   "source": [
    "score[3, 2]"
   ]
  },
  {
   "cell_type": "code",
   "execution_count": 169,
   "id": "e1f8e7a7",
   "metadata": {},
   "outputs": [
    {
     "data": {
      "text/html": [
       "<table class=\"dataframe\">\n",
       "<caption>A data.frame: 50 × 8</caption>\n",
       "<thead>\n",
       "\t<tr><th></th><th scope=col>Population</th><th scope=col>Income</th><th scope=col>Illiteracy</th><th scope=col>Life.Exp</th><th scope=col>Murder</th><th scope=col>HS.Grad</th><th scope=col>Frost</th><th scope=col>Area</th></tr>\n",
       "\t<tr><th></th><th scope=col>&lt;dbl&gt;</th><th scope=col>&lt;dbl&gt;</th><th scope=col>&lt;dbl&gt;</th><th scope=col>&lt;dbl&gt;</th><th scope=col>&lt;dbl&gt;</th><th scope=col>&lt;dbl&gt;</th><th scope=col>&lt;dbl&gt;</th><th scope=col>&lt;dbl&gt;</th></tr>\n",
       "</thead>\n",
       "<tbody>\n",
       "\t<tr><th scope=row>Alabama</th><td> 3615</td><td>3624</td><td>2.1</td><td>69.05</td><td>15.1</td><td>41.3</td><td> 20</td><td> 50708</td></tr>\n",
       "\t<tr><th scope=row>Alaska</th><td>  365</td><td>6315</td><td>1.5</td><td>69.31</td><td>11.3</td><td>66.7</td><td>152</td><td>566432</td></tr>\n",
       "\t<tr><th scope=row>Arizona</th><td> 2212</td><td>4530</td><td>1.8</td><td>70.55</td><td> 7.8</td><td>58.1</td><td> 15</td><td>113417</td></tr>\n",
       "\t<tr><th scope=row>Arkansas</th><td> 2110</td><td>3378</td><td>1.9</td><td>70.66</td><td>10.1</td><td>39.9</td><td> 65</td><td> 51945</td></tr>\n",
       "\t<tr><th scope=row>California</th><td>21198</td><td>5114</td><td>1.1</td><td>71.71</td><td>10.3</td><td>62.6</td><td> 20</td><td>156361</td></tr>\n",
       "\t<tr><th scope=row>Colorado</th><td> 2541</td><td>4884</td><td>0.7</td><td>72.06</td><td> 6.8</td><td>63.9</td><td>166</td><td>103766</td></tr>\n",
       "\t<tr><th scope=row>Connecticut</th><td> 3100</td><td>5348</td><td>1.1</td><td>72.48</td><td> 3.1</td><td>56.0</td><td>139</td><td>  4862</td></tr>\n",
       "\t<tr><th scope=row>Delaware</th><td>  579</td><td>4809</td><td>0.9</td><td>70.06</td><td> 6.2</td><td>54.6</td><td>103</td><td>  1982</td></tr>\n",
       "\t<tr><th scope=row>Florida</th><td> 8277</td><td>4815</td><td>1.3</td><td>70.66</td><td>10.7</td><td>52.6</td><td> 11</td><td> 54090</td></tr>\n",
       "\t<tr><th scope=row>Georgia</th><td> 4931</td><td>4091</td><td>2.0</td><td>68.54</td><td>13.9</td><td>40.6</td><td> 60</td><td> 58073</td></tr>\n",
       "\t<tr><th scope=row>Hawaii</th><td>  868</td><td>4963</td><td>1.9</td><td>73.60</td><td> 6.2</td><td>61.9</td><td>  0</td><td>  6425</td></tr>\n",
       "\t<tr><th scope=row>Idaho</th><td>  813</td><td>4119</td><td>0.6</td><td>71.87</td><td> 5.3</td><td>59.5</td><td>126</td><td> 82677</td></tr>\n",
       "\t<tr><th scope=row>Illinois</th><td>11197</td><td>5107</td><td>0.9</td><td>70.14</td><td>10.3</td><td>52.6</td><td>127</td><td> 55748</td></tr>\n",
       "\t<tr><th scope=row>Indiana</th><td> 5313</td><td>4458</td><td>0.7</td><td>70.88</td><td> 7.1</td><td>52.9</td><td>122</td><td> 36097</td></tr>\n",
       "\t<tr><th scope=row>Iowa</th><td> 2861</td><td>4628</td><td>0.5</td><td>72.56</td><td> 2.3</td><td>59.0</td><td>140</td><td> 55941</td></tr>\n",
       "\t<tr><th scope=row>Kansas</th><td> 2280</td><td>4669</td><td>0.6</td><td>72.58</td><td> 4.5</td><td>59.9</td><td>114</td><td> 81787</td></tr>\n",
       "\t<tr><th scope=row>Kentucky</th><td> 3387</td><td>3712</td><td>1.6</td><td>70.10</td><td>10.6</td><td>38.5</td><td> 95</td><td> 39650</td></tr>\n",
       "\t<tr><th scope=row>Louisiana</th><td> 3806</td><td>3545</td><td>2.8</td><td>68.76</td><td>13.2</td><td>42.2</td><td> 12</td><td> 44930</td></tr>\n",
       "\t<tr><th scope=row>Maine</th><td> 1058</td><td>3694</td><td>0.7</td><td>70.39</td><td> 2.7</td><td>54.7</td><td>161</td><td> 30920</td></tr>\n",
       "\t<tr><th scope=row>Maryland</th><td> 4122</td><td>5299</td><td>0.9</td><td>70.22</td><td> 8.5</td><td>52.3</td><td>101</td><td>  9891</td></tr>\n",
       "\t<tr><th scope=row>Massachusetts</th><td> 5814</td><td>4755</td><td>1.1</td><td>71.83</td><td> 3.3</td><td>58.5</td><td>103</td><td>  7826</td></tr>\n",
       "\t<tr><th scope=row>Michigan</th><td> 9111</td><td>4751</td><td>0.9</td><td>70.63</td><td>11.1</td><td>52.8</td><td>125</td><td> 56817</td></tr>\n",
       "\t<tr><th scope=row>Minnesota</th><td> 3921</td><td>4675</td><td>0.6</td><td>72.96</td><td> 2.3</td><td>57.6</td><td>160</td><td> 79289</td></tr>\n",
       "\t<tr><th scope=row>Mississippi</th><td> 2341</td><td>3098</td><td>2.4</td><td>68.09</td><td>12.5</td><td>41.0</td><td> 50</td><td> 47296</td></tr>\n",
       "\t<tr><th scope=row>Missouri</th><td> 4767</td><td>4254</td><td>0.8</td><td>70.69</td><td> 9.3</td><td>48.8</td><td>108</td><td> 68995</td></tr>\n",
       "\t<tr><th scope=row>Montana</th><td>  746</td><td>4347</td><td>0.6</td><td>70.56</td><td> 5.0</td><td>59.2</td><td>155</td><td>145587</td></tr>\n",
       "\t<tr><th scope=row>Nebraska</th><td> 1544</td><td>4508</td><td>0.6</td><td>72.60</td><td> 2.9</td><td>59.3</td><td>139</td><td> 76483</td></tr>\n",
       "\t<tr><th scope=row>Nevada</th><td>  590</td><td>5149</td><td>0.5</td><td>69.03</td><td>11.5</td><td>65.2</td><td>188</td><td>109889</td></tr>\n",
       "\t<tr><th scope=row>New Hampshire</th><td>  812</td><td>4281</td><td>0.7</td><td>71.23</td><td> 3.3</td><td>57.6</td><td>174</td><td>  9027</td></tr>\n",
       "\t<tr><th scope=row>New Jersey</th><td> 7333</td><td>5237</td><td>1.1</td><td>70.93</td><td> 5.2</td><td>52.5</td><td>115</td><td>  7521</td></tr>\n",
       "\t<tr><th scope=row>New Mexico</th><td> 1144</td><td>3601</td><td>2.2</td><td>70.32</td><td> 9.7</td><td>55.2</td><td>120</td><td>121412</td></tr>\n",
       "\t<tr><th scope=row>New York</th><td>18076</td><td>4903</td><td>1.4</td><td>70.55</td><td>10.9</td><td>52.7</td><td> 82</td><td> 47831</td></tr>\n",
       "\t<tr><th scope=row>North Carolina</th><td> 5441</td><td>3875</td><td>1.8</td><td>69.21</td><td>11.1</td><td>38.5</td><td> 80</td><td> 48798</td></tr>\n",
       "\t<tr><th scope=row>North Dakota</th><td>  637</td><td>5087</td><td>0.8</td><td>72.78</td><td> 1.4</td><td>50.3</td><td>186</td><td> 69273</td></tr>\n",
       "\t<tr><th scope=row>Ohio</th><td>10735</td><td>4561</td><td>0.8</td><td>70.82</td><td> 7.4</td><td>53.2</td><td>124</td><td> 40975</td></tr>\n",
       "\t<tr><th scope=row>Oklahoma</th><td> 2715</td><td>3983</td><td>1.1</td><td>71.42</td><td> 6.4</td><td>51.6</td><td> 82</td><td> 68782</td></tr>\n",
       "\t<tr><th scope=row>Oregon</th><td> 2284</td><td>4660</td><td>0.6</td><td>72.13</td><td> 4.2</td><td>60.0</td><td> 44</td><td> 96184</td></tr>\n",
       "\t<tr><th scope=row>Pennsylvania</th><td>11860</td><td>4449</td><td>1.0</td><td>70.43</td><td> 6.1</td><td>50.2</td><td>126</td><td> 44966</td></tr>\n",
       "\t<tr><th scope=row>Rhode Island</th><td>  931</td><td>4558</td><td>1.3</td><td>71.90</td><td> 2.4</td><td>46.4</td><td>127</td><td>  1049</td></tr>\n",
       "\t<tr><th scope=row>South Carolina</th><td> 2816</td><td>3635</td><td>2.3</td><td>67.96</td><td>11.6</td><td>37.8</td><td> 65</td><td> 30225</td></tr>\n",
       "\t<tr><th scope=row>South Dakota</th><td>  681</td><td>4167</td><td>0.5</td><td>72.08</td><td> 1.7</td><td>53.3</td><td>172</td><td> 75955</td></tr>\n",
       "\t<tr><th scope=row>Tennessee</th><td> 4173</td><td>3821</td><td>1.7</td><td>70.11</td><td>11.0</td><td>41.8</td><td> 70</td><td> 41328</td></tr>\n",
       "\t<tr><th scope=row>Texas</th><td>12237</td><td>4188</td><td>2.2</td><td>70.90</td><td>12.2</td><td>47.4</td><td> 35</td><td>262134</td></tr>\n",
       "\t<tr><th scope=row>Utah</th><td> 1203</td><td>4022</td><td>0.6</td><td>72.90</td><td> 4.5</td><td>67.3</td><td>137</td><td> 82096</td></tr>\n",
       "\t<tr><th scope=row>Vermont</th><td>  472</td><td>3907</td><td>0.6</td><td>71.64</td><td> 5.5</td><td>57.1</td><td>168</td><td>  9267</td></tr>\n",
       "\t<tr><th scope=row>Virginia</th><td> 4981</td><td>4701</td><td>1.4</td><td>70.08</td><td> 9.5</td><td>47.8</td><td> 85</td><td> 39780</td></tr>\n",
       "\t<tr><th scope=row>Washington</th><td> 3559</td><td>4864</td><td>0.6</td><td>71.72</td><td> 4.3</td><td>63.5</td><td> 32</td><td> 66570</td></tr>\n",
       "\t<tr><th scope=row>West Virginia</th><td> 1799</td><td>3617</td><td>1.4</td><td>69.48</td><td> 6.7</td><td>41.6</td><td>100</td><td> 24070</td></tr>\n",
       "\t<tr><th scope=row>Wisconsin</th><td> 4589</td><td>4468</td><td>0.7</td><td>72.48</td><td> 3.0</td><td>54.5</td><td>149</td><td> 54464</td></tr>\n",
       "\t<tr><th scope=row>Wyoming</th><td>  376</td><td>4566</td><td>0.6</td><td>70.29</td><td> 6.9</td><td>62.9</td><td>173</td><td> 97203</td></tr>\n",
       "</tbody>\n",
       "</table>\n"
      ],
      "text/latex": [
       "A data.frame: 50 × 8\n",
       "\\begin{tabular}{r|llllllll}\n",
       "  & Population & Income & Illiteracy & Life.Exp & Murder & HS.Grad & Frost & Area\\\\\n",
       "  & <dbl> & <dbl> & <dbl> & <dbl> & <dbl> & <dbl> & <dbl> & <dbl>\\\\\n",
       "\\hline\n",
       "\tAlabama &  3615 & 3624 & 2.1 & 69.05 & 15.1 & 41.3 &  20 &  50708\\\\\n",
       "\tAlaska &   365 & 6315 & 1.5 & 69.31 & 11.3 & 66.7 & 152 & 566432\\\\\n",
       "\tArizona &  2212 & 4530 & 1.8 & 70.55 &  7.8 & 58.1 &  15 & 113417\\\\\n",
       "\tArkansas &  2110 & 3378 & 1.9 & 70.66 & 10.1 & 39.9 &  65 &  51945\\\\\n",
       "\tCalifornia & 21198 & 5114 & 1.1 & 71.71 & 10.3 & 62.6 &  20 & 156361\\\\\n",
       "\tColorado &  2541 & 4884 & 0.7 & 72.06 &  6.8 & 63.9 & 166 & 103766\\\\\n",
       "\tConnecticut &  3100 & 5348 & 1.1 & 72.48 &  3.1 & 56.0 & 139 &   4862\\\\\n",
       "\tDelaware &   579 & 4809 & 0.9 & 70.06 &  6.2 & 54.6 & 103 &   1982\\\\\n",
       "\tFlorida &  8277 & 4815 & 1.3 & 70.66 & 10.7 & 52.6 &  11 &  54090\\\\\n",
       "\tGeorgia &  4931 & 4091 & 2.0 & 68.54 & 13.9 & 40.6 &  60 &  58073\\\\\n",
       "\tHawaii &   868 & 4963 & 1.9 & 73.60 &  6.2 & 61.9 &   0 &   6425\\\\\n",
       "\tIdaho &   813 & 4119 & 0.6 & 71.87 &  5.3 & 59.5 & 126 &  82677\\\\\n",
       "\tIllinois & 11197 & 5107 & 0.9 & 70.14 & 10.3 & 52.6 & 127 &  55748\\\\\n",
       "\tIndiana &  5313 & 4458 & 0.7 & 70.88 &  7.1 & 52.9 & 122 &  36097\\\\\n",
       "\tIowa &  2861 & 4628 & 0.5 & 72.56 &  2.3 & 59.0 & 140 &  55941\\\\\n",
       "\tKansas &  2280 & 4669 & 0.6 & 72.58 &  4.5 & 59.9 & 114 &  81787\\\\\n",
       "\tKentucky &  3387 & 3712 & 1.6 & 70.10 & 10.6 & 38.5 &  95 &  39650\\\\\n",
       "\tLouisiana &  3806 & 3545 & 2.8 & 68.76 & 13.2 & 42.2 &  12 &  44930\\\\\n",
       "\tMaine &  1058 & 3694 & 0.7 & 70.39 &  2.7 & 54.7 & 161 &  30920\\\\\n",
       "\tMaryland &  4122 & 5299 & 0.9 & 70.22 &  8.5 & 52.3 & 101 &   9891\\\\\n",
       "\tMassachusetts &  5814 & 4755 & 1.1 & 71.83 &  3.3 & 58.5 & 103 &   7826\\\\\n",
       "\tMichigan &  9111 & 4751 & 0.9 & 70.63 & 11.1 & 52.8 & 125 &  56817\\\\\n",
       "\tMinnesota &  3921 & 4675 & 0.6 & 72.96 &  2.3 & 57.6 & 160 &  79289\\\\\n",
       "\tMississippi &  2341 & 3098 & 2.4 & 68.09 & 12.5 & 41.0 &  50 &  47296\\\\\n",
       "\tMissouri &  4767 & 4254 & 0.8 & 70.69 &  9.3 & 48.8 & 108 &  68995\\\\\n",
       "\tMontana &   746 & 4347 & 0.6 & 70.56 &  5.0 & 59.2 & 155 & 145587\\\\\n",
       "\tNebraska &  1544 & 4508 & 0.6 & 72.60 &  2.9 & 59.3 & 139 &  76483\\\\\n",
       "\tNevada &   590 & 5149 & 0.5 & 69.03 & 11.5 & 65.2 & 188 & 109889\\\\\n",
       "\tNew Hampshire &   812 & 4281 & 0.7 & 71.23 &  3.3 & 57.6 & 174 &   9027\\\\\n",
       "\tNew Jersey &  7333 & 5237 & 1.1 & 70.93 &  5.2 & 52.5 & 115 &   7521\\\\\n",
       "\tNew Mexico &  1144 & 3601 & 2.2 & 70.32 &  9.7 & 55.2 & 120 & 121412\\\\\n",
       "\tNew York & 18076 & 4903 & 1.4 & 70.55 & 10.9 & 52.7 &  82 &  47831\\\\\n",
       "\tNorth Carolina &  5441 & 3875 & 1.8 & 69.21 & 11.1 & 38.5 &  80 &  48798\\\\\n",
       "\tNorth Dakota &   637 & 5087 & 0.8 & 72.78 &  1.4 & 50.3 & 186 &  69273\\\\\n",
       "\tOhio & 10735 & 4561 & 0.8 & 70.82 &  7.4 & 53.2 & 124 &  40975\\\\\n",
       "\tOklahoma &  2715 & 3983 & 1.1 & 71.42 &  6.4 & 51.6 &  82 &  68782\\\\\n",
       "\tOregon &  2284 & 4660 & 0.6 & 72.13 &  4.2 & 60.0 &  44 &  96184\\\\\n",
       "\tPennsylvania & 11860 & 4449 & 1.0 & 70.43 &  6.1 & 50.2 & 126 &  44966\\\\\n",
       "\tRhode Island &   931 & 4558 & 1.3 & 71.90 &  2.4 & 46.4 & 127 &   1049\\\\\n",
       "\tSouth Carolina &  2816 & 3635 & 2.3 & 67.96 & 11.6 & 37.8 &  65 &  30225\\\\\n",
       "\tSouth Dakota &   681 & 4167 & 0.5 & 72.08 &  1.7 & 53.3 & 172 &  75955\\\\\n",
       "\tTennessee &  4173 & 3821 & 1.7 & 70.11 & 11.0 & 41.8 &  70 &  41328\\\\\n",
       "\tTexas & 12237 & 4188 & 2.2 & 70.90 & 12.2 & 47.4 &  35 & 262134\\\\\n",
       "\tUtah &  1203 & 4022 & 0.6 & 72.90 &  4.5 & 67.3 & 137 &  82096\\\\\n",
       "\tVermont &   472 & 3907 & 0.6 & 71.64 &  5.5 & 57.1 & 168 &   9267\\\\\n",
       "\tVirginia &  4981 & 4701 & 1.4 & 70.08 &  9.5 & 47.8 &  85 &  39780\\\\\n",
       "\tWashington &  3559 & 4864 & 0.6 & 71.72 &  4.3 & 63.5 &  32 &  66570\\\\\n",
       "\tWest Virginia &  1799 & 3617 & 1.4 & 69.48 &  6.7 & 41.6 & 100 &  24070\\\\\n",
       "\tWisconsin &  4589 & 4468 & 0.7 & 72.48 &  3.0 & 54.5 & 149 &  54464\\\\\n",
       "\tWyoming &   376 & 4566 & 0.6 & 70.29 &  6.9 & 62.9 & 173 &  97203\\\\\n",
       "\\end{tabular}\n"
      ],
      "text/markdown": [
       "\n",
       "A data.frame: 50 × 8\n",
       "\n",
       "| <!--/--> | Population &lt;dbl&gt; | Income &lt;dbl&gt; | Illiteracy &lt;dbl&gt; | Life.Exp &lt;dbl&gt; | Murder &lt;dbl&gt; | HS.Grad &lt;dbl&gt; | Frost &lt;dbl&gt; | Area &lt;dbl&gt; |\n",
       "|---|---|---|---|---|---|---|---|---|\n",
       "| Alabama |  3615 | 3624 | 2.1 | 69.05 | 15.1 | 41.3 |  20 |  50708 |\n",
       "| Alaska |   365 | 6315 | 1.5 | 69.31 | 11.3 | 66.7 | 152 | 566432 |\n",
       "| Arizona |  2212 | 4530 | 1.8 | 70.55 |  7.8 | 58.1 |  15 | 113417 |\n",
       "| Arkansas |  2110 | 3378 | 1.9 | 70.66 | 10.1 | 39.9 |  65 |  51945 |\n",
       "| California | 21198 | 5114 | 1.1 | 71.71 | 10.3 | 62.6 |  20 | 156361 |\n",
       "| Colorado |  2541 | 4884 | 0.7 | 72.06 |  6.8 | 63.9 | 166 | 103766 |\n",
       "| Connecticut |  3100 | 5348 | 1.1 | 72.48 |  3.1 | 56.0 | 139 |   4862 |\n",
       "| Delaware |   579 | 4809 | 0.9 | 70.06 |  6.2 | 54.6 | 103 |   1982 |\n",
       "| Florida |  8277 | 4815 | 1.3 | 70.66 | 10.7 | 52.6 |  11 |  54090 |\n",
       "| Georgia |  4931 | 4091 | 2.0 | 68.54 | 13.9 | 40.6 |  60 |  58073 |\n",
       "| Hawaii |   868 | 4963 | 1.9 | 73.60 |  6.2 | 61.9 |   0 |   6425 |\n",
       "| Idaho |   813 | 4119 | 0.6 | 71.87 |  5.3 | 59.5 | 126 |  82677 |\n",
       "| Illinois | 11197 | 5107 | 0.9 | 70.14 | 10.3 | 52.6 | 127 |  55748 |\n",
       "| Indiana |  5313 | 4458 | 0.7 | 70.88 |  7.1 | 52.9 | 122 |  36097 |\n",
       "| Iowa |  2861 | 4628 | 0.5 | 72.56 |  2.3 | 59.0 | 140 |  55941 |\n",
       "| Kansas |  2280 | 4669 | 0.6 | 72.58 |  4.5 | 59.9 | 114 |  81787 |\n",
       "| Kentucky |  3387 | 3712 | 1.6 | 70.10 | 10.6 | 38.5 |  95 |  39650 |\n",
       "| Louisiana |  3806 | 3545 | 2.8 | 68.76 | 13.2 | 42.2 |  12 |  44930 |\n",
       "| Maine |  1058 | 3694 | 0.7 | 70.39 |  2.7 | 54.7 | 161 |  30920 |\n",
       "| Maryland |  4122 | 5299 | 0.9 | 70.22 |  8.5 | 52.3 | 101 |   9891 |\n",
       "| Massachusetts |  5814 | 4755 | 1.1 | 71.83 |  3.3 | 58.5 | 103 |   7826 |\n",
       "| Michigan |  9111 | 4751 | 0.9 | 70.63 | 11.1 | 52.8 | 125 |  56817 |\n",
       "| Minnesota |  3921 | 4675 | 0.6 | 72.96 |  2.3 | 57.6 | 160 |  79289 |\n",
       "| Mississippi |  2341 | 3098 | 2.4 | 68.09 | 12.5 | 41.0 |  50 |  47296 |\n",
       "| Missouri |  4767 | 4254 | 0.8 | 70.69 |  9.3 | 48.8 | 108 |  68995 |\n",
       "| Montana |   746 | 4347 | 0.6 | 70.56 |  5.0 | 59.2 | 155 | 145587 |\n",
       "| Nebraska |  1544 | 4508 | 0.6 | 72.60 |  2.9 | 59.3 | 139 |  76483 |\n",
       "| Nevada |   590 | 5149 | 0.5 | 69.03 | 11.5 | 65.2 | 188 | 109889 |\n",
       "| New Hampshire |   812 | 4281 | 0.7 | 71.23 |  3.3 | 57.6 | 174 |   9027 |\n",
       "| New Jersey |  7333 | 5237 | 1.1 | 70.93 |  5.2 | 52.5 | 115 |   7521 |\n",
       "| New Mexico |  1144 | 3601 | 2.2 | 70.32 |  9.7 | 55.2 | 120 | 121412 |\n",
       "| New York | 18076 | 4903 | 1.4 | 70.55 | 10.9 | 52.7 |  82 |  47831 |\n",
       "| North Carolina |  5441 | 3875 | 1.8 | 69.21 | 11.1 | 38.5 |  80 |  48798 |\n",
       "| North Dakota |   637 | 5087 | 0.8 | 72.78 |  1.4 | 50.3 | 186 |  69273 |\n",
       "| Ohio | 10735 | 4561 | 0.8 | 70.82 |  7.4 | 53.2 | 124 |  40975 |\n",
       "| Oklahoma |  2715 | 3983 | 1.1 | 71.42 |  6.4 | 51.6 |  82 |  68782 |\n",
       "| Oregon |  2284 | 4660 | 0.6 | 72.13 |  4.2 | 60.0 |  44 |  96184 |\n",
       "| Pennsylvania | 11860 | 4449 | 1.0 | 70.43 |  6.1 | 50.2 | 126 |  44966 |\n",
       "| Rhode Island |   931 | 4558 | 1.3 | 71.90 |  2.4 | 46.4 | 127 |   1049 |\n",
       "| South Carolina |  2816 | 3635 | 2.3 | 67.96 | 11.6 | 37.8 |  65 |  30225 |\n",
       "| South Dakota |   681 | 4167 | 0.5 | 72.08 |  1.7 | 53.3 | 172 |  75955 |\n",
       "| Tennessee |  4173 | 3821 | 1.7 | 70.11 | 11.0 | 41.8 |  70 |  41328 |\n",
       "| Texas | 12237 | 4188 | 2.2 | 70.90 | 12.2 | 47.4 |  35 | 262134 |\n",
       "| Utah |  1203 | 4022 | 0.6 | 72.90 |  4.5 | 67.3 | 137 |  82096 |\n",
       "| Vermont |   472 | 3907 | 0.6 | 71.64 |  5.5 | 57.1 | 168 |   9267 |\n",
       "| Virginia |  4981 | 4701 | 1.4 | 70.08 |  9.5 | 47.8 |  85 |  39780 |\n",
       "| Washington |  3559 | 4864 | 0.6 | 71.72 |  4.3 | 63.5 |  32 |  66570 |\n",
       "| West Virginia |  1799 | 3617 | 1.4 | 69.48 |  6.7 | 41.6 | 100 |  24070 |\n",
       "| Wisconsin |  4589 | 4468 | 0.7 | 72.48 |  3.0 | 54.5 | 149 |  54464 |\n",
       "| Wyoming |   376 | 4566 | 0.6 | 70.29 |  6.9 | 62.9 | 173 |  97203 |\n",
       "\n"
      ],
      "text/plain": [
       "               Population Income Illiteracy Life.Exp Murder HS.Grad Frost\n",
       "Alabama         3615      3624   2.1        69.05    15.1   41.3     20  \n",
       "Alaska           365      6315   1.5        69.31    11.3   66.7    152  \n",
       "Arizona         2212      4530   1.8        70.55     7.8   58.1     15  \n",
       "Arkansas        2110      3378   1.9        70.66    10.1   39.9     65  \n",
       "California     21198      5114   1.1        71.71    10.3   62.6     20  \n",
       "Colorado        2541      4884   0.7        72.06     6.8   63.9    166  \n",
       "Connecticut     3100      5348   1.1        72.48     3.1   56.0    139  \n",
       "Delaware         579      4809   0.9        70.06     6.2   54.6    103  \n",
       "Florida         8277      4815   1.3        70.66    10.7   52.6     11  \n",
       "Georgia         4931      4091   2.0        68.54    13.9   40.6     60  \n",
       "Hawaii           868      4963   1.9        73.60     6.2   61.9      0  \n",
       "Idaho            813      4119   0.6        71.87     5.3   59.5    126  \n",
       "Illinois       11197      5107   0.9        70.14    10.3   52.6    127  \n",
       "Indiana         5313      4458   0.7        70.88     7.1   52.9    122  \n",
       "Iowa            2861      4628   0.5        72.56     2.3   59.0    140  \n",
       "Kansas          2280      4669   0.6        72.58     4.5   59.9    114  \n",
       "Kentucky        3387      3712   1.6        70.10    10.6   38.5     95  \n",
       "Louisiana       3806      3545   2.8        68.76    13.2   42.2     12  \n",
       "Maine           1058      3694   0.7        70.39     2.7   54.7    161  \n",
       "Maryland        4122      5299   0.9        70.22     8.5   52.3    101  \n",
       "Massachusetts   5814      4755   1.1        71.83     3.3   58.5    103  \n",
       "Michigan        9111      4751   0.9        70.63    11.1   52.8    125  \n",
       "Minnesota       3921      4675   0.6        72.96     2.3   57.6    160  \n",
       "Mississippi     2341      3098   2.4        68.09    12.5   41.0     50  \n",
       "Missouri        4767      4254   0.8        70.69     9.3   48.8    108  \n",
       "Montana          746      4347   0.6        70.56     5.0   59.2    155  \n",
       "Nebraska        1544      4508   0.6        72.60     2.9   59.3    139  \n",
       "Nevada           590      5149   0.5        69.03    11.5   65.2    188  \n",
       "New Hampshire    812      4281   0.7        71.23     3.3   57.6    174  \n",
       "New Jersey      7333      5237   1.1        70.93     5.2   52.5    115  \n",
       "New Mexico      1144      3601   2.2        70.32     9.7   55.2    120  \n",
       "New York       18076      4903   1.4        70.55    10.9   52.7     82  \n",
       "North Carolina  5441      3875   1.8        69.21    11.1   38.5     80  \n",
       "North Dakota     637      5087   0.8        72.78     1.4   50.3    186  \n",
       "Ohio           10735      4561   0.8        70.82     7.4   53.2    124  \n",
       "Oklahoma        2715      3983   1.1        71.42     6.4   51.6     82  \n",
       "Oregon          2284      4660   0.6        72.13     4.2   60.0     44  \n",
       "Pennsylvania   11860      4449   1.0        70.43     6.1   50.2    126  \n",
       "Rhode Island     931      4558   1.3        71.90     2.4   46.4    127  \n",
       "South Carolina  2816      3635   2.3        67.96    11.6   37.8     65  \n",
       "South Dakota     681      4167   0.5        72.08     1.7   53.3    172  \n",
       "Tennessee       4173      3821   1.7        70.11    11.0   41.8     70  \n",
       "Texas          12237      4188   2.2        70.90    12.2   47.4     35  \n",
       "Utah            1203      4022   0.6        72.90     4.5   67.3    137  \n",
       "Vermont          472      3907   0.6        71.64     5.5   57.1    168  \n",
       "Virginia        4981      4701   1.4        70.08     9.5   47.8     85  \n",
       "Washington      3559      4864   0.6        71.72     4.3   63.5     32  \n",
       "West Virginia   1799      3617   1.4        69.48     6.7   41.6    100  \n",
       "Wisconsin       4589      4468   0.7        72.48     3.0   54.5    149  \n",
       "Wyoming          376      4566   0.6        70.29     6.9   62.9    173  \n",
       "               Area  \n",
       "Alabama         50708\n",
       "Alaska         566432\n",
       "Arizona        113417\n",
       "Arkansas        51945\n",
       "California     156361\n",
       "Colorado       103766\n",
       "Connecticut      4862\n",
       "Delaware         1982\n",
       "Florida         54090\n",
       "Georgia         58073\n",
       "Hawaii           6425\n",
       "Idaho           82677\n",
       "Illinois        55748\n",
       "Indiana         36097\n",
       "Iowa            55941\n",
       "Kansas          81787\n",
       "Kentucky        39650\n",
       "Louisiana       44930\n",
       "Maine           30920\n",
       "Maryland         9891\n",
       "Massachusetts    7826\n",
       "Michigan        56817\n",
       "Minnesota       79289\n",
       "Mississippi     47296\n",
       "Missouri        68995\n",
       "Montana        145587\n",
       "Nebraska        76483\n",
       "Nevada         109889\n",
       "New Hampshire    9027\n",
       "New Jersey       7521\n",
       "New Mexico     121412\n",
       "New York        47831\n",
       "North Carolina  48798\n",
       "North Dakota    69273\n",
       "Ohio            40975\n",
       "Oklahoma        68782\n",
       "Oregon          96184\n",
       "Pennsylvania    44966\n",
       "Rhode Island     1049\n",
       "South Carolina  30225\n",
       "South Dakota    75955\n",
       "Tennessee       41328\n",
       "Texas          262134\n",
       "Utah            82096\n",
       "Vermont          9267\n",
       "Virginia        39780\n",
       "Washington      66570\n",
       "West Virginia   24070\n",
       "Wisconsin       54464\n",
       "Wyoming         97203"
      ]
     },
     "metadata": {},
     "output_type": "display_data"
    }
   ],
   "source": [
    "st <- data.frame(state.x77)\n",
    "st"
   ]
  },
  {
   "cell_type": "code",
   "execution_count": 170,
   "id": "990f2f8d",
   "metadata": {},
   "outputs": [
    {
     "data": {
      "text/html": [
       "<style>\n",
       ".list-inline {list-style: none; margin:0; padding: 0}\n",
       ".list-inline>li {display: inline-block}\n",
       ".list-inline>li:not(:last-child)::after {content: \"\\00b7\"; padding: 0 .5ex}\n",
       "</style>\n",
       "<ol class=list-inline><li>'Population'</li><li>'Income'</li><li>'Illiteracy'</li><li>'Life.Exp'</li><li>'Murder'</li><li>'HS.Grad'</li><li>'Frost'</li><li>'Area'</li></ol>\n"
      ],
      "text/latex": [
       "\\begin{enumerate*}\n",
       "\\item 'Population'\n",
       "\\item 'Income'\n",
       "\\item 'Illiteracy'\n",
       "\\item 'Life.Exp'\n",
       "\\item 'Murder'\n",
       "\\item 'HS.Grad'\n",
       "\\item 'Frost'\n",
       "\\item 'Area'\n",
       "\\end{enumerate*}\n"
      ],
      "text/markdown": [
       "1. 'Population'\n",
       "2. 'Income'\n",
       "3. 'Illiteracy'\n",
       "4. 'Life.Exp'\n",
       "5. 'Murder'\n",
       "6. 'HS.Grad'\n",
       "7. 'Frost'\n",
       "8. 'Area'\n",
       "\n",
       "\n"
      ],
      "text/plain": [
       "[1] \"Population\" \"Income\"     \"Illiteracy\" \"Life.Exp\"   \"Murder\"    \n",
       "[6] \"HS.Grad\"    \"Frost\"      \"Area\"      "
      ]
     },
     "metadata": {},
     "output_type": "display_data"
    }
   ],
   "source": [
    "colnames(st)"
   ]
  },
  {
   "cell_type": "code",
   "execution_count": 171,
   "id": "0c04658e",
   "metadata": {},
   "outputs": [
    {
     "data": {
      "text/html": [
       "<style>\n",
       ".list-inline {list-style: none; margin:0; padding: 0}\n",
       ".list-inline>li {display: inline-block}\n",
       ".list-inline>li:not(:last-child)::after {content: \"\\00b7\"; padding: 0 .5ex}\n",
       "</style>\n",
       "<ol class=list-inline><li>'Alabama'</li><li>'Alaska'</li><li>'Arizona'</li><li>'Arkansas'</li><li>'California'</li><li>'Colorado'</li><li>'Connecticut'</li><li>'Delaware'</li><li>'Florida'</li><li>'Georgia'</li><li>'Hawaii'</li><li>'Idaho'</li><li>'Illinois'</li><li>'Indiana'</li><li>'Iowa'</li><li>'Kansas'</li><li>'Kentucky'</li><li>'Louisiana'</li><li>'Maine'</li><li>'Maryland'</li><li>'Massachusetts'</li><li>'Michigan'</li><li>'Minnesota'</li><li>'Mississippi'</li><li>'Missouri'</li><li>'Montana'</li><li>'Nebraska'</li><li>'Nevada'</li><li>'New Hampshire'</li><li>'New Jersey'</li><li>'New Mexico'</li><li>'New York'</li><li>'North Carolina'</li><li>'North Dakota'</li><li>'Ohio'</li><li>'Oklahoma'</li><li>'Oregon'</li><li>'Pennsylvania'</li><li>'Rhode Island'</li><li>'South Carolina'</li><li>'South Dakota'</li><li>'Tennessee'</li><li>'Texas'</li><li>'Utah'</li><li>'Vermont'</li><li>'Virginia'</li><li>'Washington'</li><li>'West Virginia'</li><li>'Wisconsin'</li><li>'Wyoming'</li></ol>\n"
      ],
      "text/latex": [
       "\\begin{enumerate*}\n",
       "\\item 'Alabama'\n",
       "\\item 'Alaska'\n",
       "\\item 'Arizona'\n",
       "\\item 'Arkansas'\n",
       "\\item 'California'\n",
       "\\item 'Colorado'\n",
       "\\item 'Connecticut'\n",
       "\\item 'Delaware'\n",
       "\\item 'Florida'\n",
       "\\item 'Georgia'\n",
       "\\item 'Hawaii'\n",
       "\\item 'Idaho'\n",
       "\\item 'Illinois'\n",
       "\\item 'Indiana'\n",
       "\\item 'Iowa'\n",
       "\\item 'Kansas'\n",
       "\\item 'Kentucky'\n",
       "\\item 'Louisiana'\n",
       "\\item 'Maine'\n",
       "\\item 'Maryland'\n",
       "\\item 'Massachusetts'\n",
       "\\item 'Michigan'\n",
       "\\item 'Minnesota'\n",
       "\\item 'Mississippi'\n",
       "\\item 'Missouri'\n",
       "\\item 'Montana'\n",
       "\\item 'Nebraska'\n",
       "\\item 'Nevada'\n",
       "\\item 'New Hampshire'\n",
       "\\item 'New Jersey'\n",
       "\\item 'New Mexico'\n",
       "\\item 'New York'\n",
       "\\item 'North Carolina'\n",
       "\\item 'North Dakota'\n",
       "\\item 'Ohio'\n",
       "\\item 'Oklahoma'\n",
       "\\item 'Oregon'\n",
       "\\item 'Pennsylvania'\n",
       "\\item 'Rhode Island'\n",
       "\\item 'South Carolina'\n",
       "\\item 'South Dakota'\n",
       "\\item 'Tennessee'\n",
       "\\item 'Texas'\n",
       "\\item 'Utah'\n",
       "\\item 'Vermont'\n",
       "\\item 'Virginia'\n",
       "\\item 'Washington'\n",
       "\\item 'West Virginia'\n",
       "\\item 'Wisconsin'\n",
       "\\item 'Wyoming'\n",
       "\\end{enumerate*}\n"
      ],
      "text/markdown": [
       "1. 'Alabama'\n",
       "2. 'Alaska'\n",
       "3. 'Arizona'\n",
       "4. 'Arkansas'\n",
       "5. 'California'\n",
       "6. 'Colorado'\n",
       "7. 'Connecticut'\n",
       "8. 'Delaware'\n",
       "9. 'Florida'\n",
       "10. 'Georgia'\n",
       "11. 'Hawaii'\n",
       "12. 'Idaho'\n",
       "13. 'Illinois'\n",
       "14. 'Indiana'\n",
       "15. 'Iowa'\n",
       "16. 'Kansas'\n",
       "17. 'Kentucky'\n",
       "18. 'Louisiana'\n",
       "19. 'Maine'\n",
       "20. 'Maryland'\n",
       "21. 'Massachusetts'\n",
       "22. 'Michigan'\n",
       "23. 'Minnesota'\n",
       "24. 'Mississippi'\n",
       "25. 'Missouri'\n",
       "26. 'Montana'\n",
       "27. 'Nebraska'\n",
       "28. 'Nevada'\n",
       "29. 'New Hampshire'\n",
       "30. 'New Jersey'\n",
       "31. 'New Mexico'\n",
       "32. 'New York'\n",
       "33. 'North Carolina'\n",
       "34. 'North Dakota'\n",
       "35. 'Ohio'\n",
       "36. 'Oklahoma'\n",
       "37. 'Oregon'\n",
       "38. 'Pennsylvania'\n",
       "39. 'Rhode Island'\n",
       "40. 'South Carolina'\n",
       "41. 'South Dakota'\n",
       "42. 'Tennessee'\n",
       "43. 'Texas'\n",
       "44. 'Utah'\n",
       "45. 'Vermont'\n",
       "46. 'Virginia'\n",
       "47. 'Washington'\n",
       "48. 'West Virginia'\n",
       "49. 'Wisconsin'\n",
       "50. 'Wyoming'\n",
       "\n",
       "\n"
      ],
      "text/plain": [
       " [1] \"Alabama\"        \"Alaska\"         \"Arizona\"        \"Arkansas\"      \n",
       " [5] \"California\"     \"Colorado\"       \"Connecticut\"    \"Delaware\"      \n",
       " [9] \"Florida\"        \"Georgia\"        \"Hawaii\"         \"Idaho\"         \n",
       "[13] \"Illinois\"       \"Indiana\"        \"Iowa\"           \"Kansas\"        \n",
       "[17] \"Kentucky\"       \"Louisiana\"      \"Maine\"          \"Maryland\"      \n",
       "[21] \"Massachusetts\"  \"Michigan\"       \"Minnesota\"      \"Mississippi\"   \n",
       "[25] \"Missouri\"       \"Montana\"        \"Nebraska\"       \"Nevada\"        \n",
       "[29] \"New Hampshire\"  \"New Jersey\"     \"New Mexico\"     \"New York\"      \n",
       "[33] \"North Carolina\" \"North Dakota\"   \"Ohio\"           \"Oklahoma\"      \n",
       "[37] \"Oregon\"         \"Pennsylvania\"   \"Rhode Island\"   \"South Carolina\"\n",
       "[41] \"South Dakota\"   \"Tennessee\"      \"Texas\"          \"Utah\"          \n",
       "[45] \"Vermont\"        \"Virginia\"       \"Washington\"     \"West Virginia\" \n",
       "[49] \"Wisconsin\"      \"Wyoming\"       "
      ]
     },
     "metadata": {},
     "output_type": "display_data"
    }
   ],
   "source": [
    "rownames(st)"
   ]
  },
  {
   "cell_type": "code",
   "execution_count": 172,
   "id": "5ed72467",
   "metadata": {},
   "outputs": [
    {
     "data": {
      "text/html": [
       "<style>\n",
       ".list-inline {list-style: none; margin:0; padding: 0}\n",
       ".list-inline>li {display: inline-block}\n",
       ".list-inline>li:not(:last-child)::after {content: \"\\00b7\"; padding: 0 .5ex}\n",
       "</style>\n",
       "<ol class=list-inline><li>50</li><li>8</li></ol>\n"
      ],
      "text/latex": [
       "\\begin{enumerate*}\n",
       "\\item 50\n",
       "\\item 8\n",
       "\\end{enumerate*}\n"
      ],
      "text/markdown": [
       "1. 50\n",
       "2. 8\n",
       "\n",
       "\n"
      ],
      "text/plain": [
       "[1] 50  8"
      ]
     },
     "metadata": {},
     "output_type": "display_data"
    }
   ],
   "source": [
    "dim(st)"
   ]
  },
  {
   "cell_type": "code",
   "execution_count": 173,
   "id": "152f99e3",
   "metadata": {},
   "outputs": [
    {
     "data": {
      "text/html": [
       "50"
      ],
      "text/latex": [
       "50"
      ],
      "text/markdown": [
       "50"
      ],
      "text/plain": [
       "[1] 50"
      ]
     },
     "metadata": {},
     "output_type": "display_data"
    }
   ],
   "source": [
    "nrow(st)"
   ]
  },
  {
   "cell_type": "code",
   "execution_count": 174,
   "id": "87e30177",
   "metadata": {},
   "outputs": [
    {
     "data": {
      "text/html": [
       "8"
      ],
      "text/latex": [
       "8"
      ],
      "text/markdown": [
       "8"
      ],
      "text/plain": [
       "[1] 8"
      ]
     },
     "metadata": {},
     "output_type": "display_data"
    }
   ],
   "source": [
    "ncol(st\n",
    "    )"
   ]
  },
  {
   "cell_type": "code",
   "execution_count": 175,
   "id": "a5e1cc6a",
   "metadata": {},
   "outputs": [
    {
     "name": "stdout",
     "output_type": "stream",
     "text": [
      "'data.frame':\t50 obs. of  8 variables:\n",
      " $ Population: num  3615 365 2212 2110 21198 ...\n",
      " $ Income    : num  3624 6315 4530 3378 5114 ...\n",
      " $ Illiteracy: num  2.1 1.5 1.8 1.9 1.1 0.7 1.1 0.9 1.3 2 ...\n",
      " $ Life.Exp  : num  69 69.3 70.5 70.7 71.7 ...\n",
      " $ Murder    : num  15.1 11.3 7.8 10.1 10.3 6.8 3.1 6.2 10.7 13.9 ...\n",
      " $ HS.Grad   : num  41.3 66.7 58.1 39.9 62.6 63.9 56 54.6 52.6 40.6 ...\n",
      " $ Frost     : num  20 152 15 65 20 166 139 103 11 60 ...\n",
      " $ Area      : num  50708 566432 113417 51945 156361 ...\n"
     ]
    }
   ],
   "source": [
    "str(st\n",
    "   )"
   ]
  },
  {
   "cell_type": "code",
   "execution_count": 176,
   "id": "7b2bc8ce",
   "metadata": {},
   "outputs": [
    {
     "data": {
      "text/html": [
       "<style>\n",
       ".dl-inline {width: auto; margin:0; padding: 0}\n",
       ".dl-inline>dt, .dl-inline>dd {float: none; width: auto; display: inline-block}\n",
       ".dl-inline>dt::after {content: \":\\0020\"; padding-right: .5ex}\n",
       ".dl-inline>dt:not(:first-of-type) {padding-left: .5ex}\n",
       "</style><dl class=dl-inline><dt>Alabama</dt><dd>58094.55</dd><dt>Alaska</dt><dd>573412.81</dd><dt>Arizona</dt><dd>120312.25</dd><dt>Arkansas</dt><dd>57620.56</dd><dt>California</dt><dd>182838.71</dd><dt>Colorado</dt><dd>111500.46</dd><dt>Connecticut</dt><dd>13581.68</dd><dt>Delaware</dt><dd>7604.76</dd><dt>Florida</dt><dd>67328.26</dd><dt>Georgia</dt><dd>67280.04</dd><dt>Hawaii</dt><dd>12399.6</dd><dt>Idaho</dt><dd>87872.27</dd><dt>Illinois</dt><dd>72312.94</dd><dt>Indiana</dt><dd>46121.58</dd><dt>Iowa</dt><dd>63704.36</dd><dt>Kansas</dt><dd>88987.58</dd><dt>Kentucky</dt><dd>46964.8</dd><dt>Louisiana</dt><dd>52419.96</dd><dt>Maine</dt><dd>35961.49</dd><dt>Maryland</dt><dd>19544.92</dd><dt>Massachusetts</dt><dd>18632.73</dd><dt>Michigan</dt><dd>70939.43</dd><dt>Minnesota</dt><dd>88178.46</dd><dt>Mississippi</dt><dd>52908.99</dd><dt>Missouri</dt><dd>78253.59</dd><dt>Montana</dt><dd>150970.36</dd><dt>Nebraska</dt><dd>82809.4</dd><dt>Nevada</dt><dd>115962.23</dd><dt>New Hampshire</dt><dd>14426.83</dd><dt>New Jersey</dt><dd>20335.73</dd><dt>New Mexico</dt><dd>126414.42</dd><dt>New York</dt><dd>71027.55</dd><dt>North Carolina</dt><dd>58314.61</dd><dt>North Dakota</dt><dd>75308.28</dd><dt>Ohio</dt><dd>56527.22</dd><dt>Oklahoma</dt><dd>75692.52</dd><dt>Oregon</dt><dd>103308.93</dd><dt>Pennsylvania</dt><dd>61528.73</dd><dt>Rhode Island</dt><dd>6787</dd><dt>South Carolina</dt><dd>36860.66</dd><dt>South Dakota</dt><dd>81102.58</dd><dt>Tennessee</dt><dd>49516.61</dd><dt>Texas</dt><dd>278726.7</dd><dt>Utah</dt><dd>87603.3</dd><dt>Vermont</dt><dd>13948.84</dd><dt>Virginia</dt><dd>49675.78</dd><dt>Washington</dt><dd>75165.12</dd><dt>West Virginia</dt><dd>29705.18</dd><dt>Wisconsin</dt><dd>63800.68</dd><dt>Wyoming</dt><dd>102458.69</dd></dl>\n"
      ],
      "text/latex": [
       "\\begin{description*}\n",
       "\\item[Alabama] 58094.55\n",
       "\\item[Alaska] 573412.81\n",
       "\\item[Arizona] 120312.25\n",
       "\\item[Arkansas] 57620.56\n",
       "\\item[California] 182838.71\n",
       "\\item[Colorado] 111500.46\n",
       "\\item[Connecticut] 13581.68\n",
       "\\item[Delaware] 7604.76\n",
       "\\item[Florida] 67328.26\n",
       "\\item[Georgia] 67280.04\n",
       "\\item[Hawaii] 12399.6\n",
       "\\item[Idaho] 87872.27\n",
       "\\item[Illinois] 72312.94\n",
       "\\item[Indiana] 46121.58\n",
       "\\item[Iowa] 63704.36\n",
       "\\item[Kansas] 88987.58\n",
       "\\item[Kentucky] 46964.8\n",
       "\\item[Louisiana] 52419.96\n",
       "\\item[Maine] 35961.49\n",
       "\\item[Maryland] 19544.92\n",
       "\\item[Massachusetts] 18632.73\n",
       "\\item[Michigan] 70939.43\n",
       "\\item[Minnesota] 88178.46\n",
       "\\item[Mississippi] 52908.99\n",
       "\\item[Missouri] 78253.59\n",
       "\\item[Montana] 150970.36\n",
       "\\item[Nebraska] 82809.4\n",
       "\\item[Nevada] 115962.23\n",
       "\\item[New Hampshire] 14426.83\n",
       "\\item[New Jersey] 20335.73\n",
       "\\item[New Mexico] 126414.42\n",
       "\\item[New York] 71027.55\n",
       "\\item[North Carolina] 58314.61\n",
       "\\item[North Dakota] 75308.28\n",
       "\\item[Ohio] 56527.22\n",
       "\\item[Oklahoma] 75692.52\n",
       "\\item[Oregon] 103308.93\n",
       "\\item[Pennsylvania] 61528.73\n",
       "\\item[Rhode Island] 6787\n",
       "\\item[South Carolina] 36860.66\n",
       "\\item[South Dakota] 81102.58\n",
       "\\item[Tennessee] 49516.61\n",
       "\\item[Texas] 278726.7\n",
       "\\item[Utah] 87603.3\n",
       "\\item[Vermont] 13948.84\n",
       "\\item[Virginia] 49675.78\n",
       "\\item[Washington] 75165.12\n",
       "\\item[West Virginia] 29705.18\n",
       "\\item[Wisconsin] 63800.68\n",
       "\\item[Wyoming] 102458.69\n",
       "\\end{description*}\n"
      ],
      "text/markdown": [
       "Alabama\n",
       ":   58094.55Alaska\n",
       ":   573412.81Arizona\n",
       ":   120312.25Arkansas\n",
       ":   57620.56California\n",
       ":   182838.71Colorado\n",
       ":   111500.46Connecticut\n",
       ":   13581.68Delaware\n",
       ":   7604.76Florida\n",
       ":   67328.26Georgia\n",
       ":   67280.04Hawaii\n",
       ":   12399.6Idaho\n",
       ":   87872.27Illinois\n",
       ":   72312.94Indiana\n",
       ":   46121.58Iowa\n",
       ":   63704.36Kansas\n",
       ":   88987.58Kentucky\n",
       ":   46964.8Louisiana\n",
       ":   52419.96Maine\n",
       ":   35961.49Maryland\n",
       ":   19544.92Massachusetts\n",
       ":   18632.73Michigan\n",
       ":   70939.43Minnesota\n",
       ":   88178.46Mississippi\n",
       ":   52908.99Missouri\n",
       ":   78253.59Montana\n",
       ":   150970.36Nebraska\n",
       ":   82809.4Nevada\n",
       ":   115962.23New Hampshire\n",
       ":   14426.83New Jersey\n",
       ":   20335.73New Mexico\n",
       ":   126414.42New York\n",
       ":   71027.55North Carolina\n",
       ":   58314.61North Dakota\n",
       ":   75308.28Ohio\n",
       ":   56527.22Oklahoma\n",
       ":   75692.52Oregon\n",
       ":   103308.93Pennsylvania\n",
       ":   61528.73Rhode Island\n",
       ":   6787South Carolina\n",
       ":   36860.66South Dakota\n",
       ":   81102.58Tennessee\n",
       ":   49516.61Texas\n",
       ":   278726.7Utah\n",
       ":   87603.3Vermont\n",
       ":   13948.84Virginia\n",
       ":   49675.78Washington\n",
       ":   75165.12West Virginia\n",
       ":   29705.18Wisconsin\n",
       ":   63800.68Wyoming\n",
       ":   102458.69\n",
       "\n"
      ],
      "text/plain": [
       "       Alabama         Alaska        Arizona       Arkansas     California \n",
       "      58094.55      573412.81      120312.25       57620.56      182838.71 \n",
       "      Colorado    Connecticut       Delaware        Florida        Georgia \n",
       "     111500.46       13581.68        7604.76       67328.26       67280.04 \n",
       "        Hawaii          Idaho       Illinois        Indiana           Iowa \n",
       "      12399.60       87872.27       72312.94       46121.58       63704.36 \n",
       "        Kansas       Kentucky      Louisiana          Maine       Maryland \n",
       "      88987.58       46964.80       52419.96       35961.49       19544.92 \n",
       " Massachusetts       Michigan      Minnesota    Mississippi       Missouri \n",
       "      18632.73       70939.43       88178.46       52908.99       78253.59 \n",
       "       Montana       Nebraska         Nevada  New Hampshire     New Jersey \n",
       "     150970.36       82809.40      115962.23       14426.83       20335.73 \n",
       "    New Mexico       New York North Carolina   North Dakota           Ohio \n",
       "     126414.42       71027.55       58314.61       75308.28       56527.22 \n",
       "      Oklahoma         Oregon   Pennsylvania   Rhode Island South Carolina \n",
       "      75692.52      103308.93       61528.73        6787.00       36860.66 \n",
       "  South Dakota      Tennessee          Texas           Utah        Vermont \n",
       "      81102.58       49516.61      278726.70       87603.30       13948.84 \n",
       "      Virginia     Washington  West Virginia      Wisconsin        Wyoming \n",
       "      49675.78       75165.12       29705.18       63800.68      102458.69 "
      ]
     },
     "metadata": {},
     "output_type": "display_data"
    }
   ],
   "source": [
    "apply(st, 1, sum)"
   ]
  },
  {
   "cell_type": "code",
   "execution_count": 178,
   "id": "cc8879ff",
   "metadata": {},
   "outputs": [
    {
     "data": {
      "text/html": [
       "<style>\n",
       ".dl-inline {width: auto; margin:0; padding: 0}\n",
       ".dl-inline>dt, .dl-inline>dd {float: none; width: auto; display: inline-block}\n",
       ".dl-inline>dt::after {content: \":\\0020\"; padding-right: .5ex}\n",
       ".dl-inline>dt:not(:first-of-type) {padding-left: .5ex}\n",
       "</style><dl class=dl-inline><dt>Alabama</dt><dd>58094.55</dd><dt>Alaska</dt><dd>573412.81</dd><dt>Arizona</dt><dd>120312.25</dd><dt>Arkansas</dt><dd>57620.56</dd><dt>California</dt><dd>182838.71</dd><dt>Colorado</dt><dd>111500.46</dd><dt>Connecticut</dt><dd>13581.68</dd><dt>Delaware</dt><dd>7604.76</dd><dt>Florida</dt><dd>67328.26</dd><dt>Georgia</dt><dd>67280.04</dd><dt>Hawaii</dt><dd>12399.6</dd><dt>Idaho</dt><dd>87872.27</dd><dt>Illinois</dt><dd>72312.94</dd><dt>Indiana</dt><dd>46121.58</dd><dt>Iowa</dt><dd>63704.36</dd><dt>Kansas</dt><dd>88987.58</dd><dt>Kentucky</dt><dd>46964.8</dd><dt>Louisiana</dt><dd>52419.96</dd><dt>Maine</dt><dd>35961.49</dd><dt>Maryland</dt><dd>19544.92</dd><dt>Massachusetts</dt><dd>18632.73</dd><dt>Michigan</dt><dd>70939.43</dd><dt>Minnesota</dt><dd>88178.46</dd><dt>Mississippi</dt><dd>52908.99</dd><dt>Missouri</dt><dd>78253.59</dd><dt>Montana</dt><dd>150970.36</dd><dt>Nebraska</dt><dd>82809.4</dd><dt>Nevada</dt><dd>115962.23</dd><dt>New Hampshire</dt><dd>14426.83</dd><dt>New Jersey</dt><dd>20335.73</dd><dt>New Mexico</dt><dd>126414.42</dd><dt>New York</dt><dd>71027.55</dd><dt>North Carolina</dt><dd>58314.61</dd><dt>North Dakota</dt><dd>75308.28</dd><dt>Ohio</dt><dd>56527.22</dd><dt>Oklahoma</dt><dd>75692.52</dd><dt>Oregon</dt><dd>103308.93</dd><dt>Pennsylvania</dt><dd>61528.73</dd><dt>Rhode Island</dt><dd>6787</dd><dt>South Carolina</dt><dd>36860.66</dd><dt>South Dakota</dt><dd>81102.58</dd><dt>Tennessee</dt><dd>49516.61</dd><dt>Texas</dt><dd>278726.7</dd><dt>Utah</dt><dd>87603.3</dd><dt>Vermont</dt><dd>13948.84</dd><dt>Virginia</dt><dd>49675.78</dd><dt>Washington</dt><dd>75165.12</dd><dt>West Virginia</dt><dd>29705.18</dd><dt>Wisconsin</dt><dd>63800.68</dd><dt>Wyoming</dt><dd>102458.69</dd></dl>\n"
      ],
      "text/latex": [
       "\\begin{description*}\n",
       "\\item[Alabama] 58094.55\n",
       "\\item[Alaska] 573412.81\n",
       "\\item[Arizona] 120312.25\n",
       "\\item[Arkansas] 57620.56\n",
       "\\item[California] 182838.71\n",
       "\\item[Colorado] 111500.46\n",
       "\\item[Connecticut] 13581.68\n",
       "\\item[Delaware] 7604.76\n",
       "\\item[Florida] 67328.26\n",
       "\\item[Georgia] 67280.04\n",
       "\\item[Hawaii] 12399.6\n",
       "\\item[Idaho] 87872.27\n",
       "\\item[Illinois] 72312.94\n",
       "\\item[Indiana] 46121.58\n",
       "\\item[Iowa] 63704.36\n",
       "\\item[Kansas] 88987.58\n",
       "\\item[Kentucky] 46964.8\n",
       "\\item[Louisiana] 52419.96\n",
       "\\item[Maine] 35961.49\n",
       "\\item[Maryland] 19544.92\n",
       "\\item[Massachusetts] 18632.73\n",
       "\\item[Michigan] 70939.43\n",
       "\\item[Minnesota] 88178.46\n",
       "\\item[Mississippi] 52908.99\n",
       "\\item[Missouri] 78253.59\n",
       "\\item[Montana] 150970.36\n",
       "\\item[Nebraska] 82809.4\n",
       "\\item[Nevada] 115962.23\n",
       "\\item[New Hampshire] 14426.83\n",
       "\\item[New Jersey] 20335.73\n",
       "\\item[New Mexico] 126414.42\n",
       "\\item[New York] 71027.55\n",
       "\\item[North Carolina] 58314.61\n",
       "\\item[North Dakota] 75308.28\n",
       "\\item[Ohio] 56527.22\n",
       "\\item[Oklahoma] 75692.52\n",
       "\\item[Oregon] 103308.93\n",
       "\\item[Pennsylvania] 61528.73\n",
       "\\item[Rhode Island] 6787\n",
       "\\item[South Carolina] 36860.66\n",
       "\\item[South Dakota] 81102.58\n",
       "\\item[Tennessee] 49516.61\n",
       "\\item[Texas] 278726.7\n",
       "\\item[Utah] 87603.3\n",
       "\\item[Vermont] 13948.84\n",
       "\\item[Virginia] 49675.78\n",
       "\\item[Washington] 75165.12\n",
       "\\item[West Virginia] 29705.18\n",
       "\\item[Wisconsin] 63800.68\n",
       "\\item[Wyoming] 102458.69\n",
       "\\end{description*}\n"
      ],
      "text/markdown": [
       "Alabama\n",
       ":   58094.55Alaska\n",
       ":   573412.81Arizona\n",
       ":   120312.25Arkansas\n",
       ":   57620.56California\n",
       ":   182838.71Colorado\n",
       ":   111500.46Connecticut\n",
       ":   13581.68Delaware\n",
       ":   7604.76Florida\n",
       ":   67328.26Georgia\n",
       ":   67280.04Hawaii\n",
       ":   12399.6Idaho\n",
       ":   87872.27Illinois\n",
       ":   72312.94Indiana\n",
       ":   46121.58Iowa\n",
       ":   63704.36Kansas\n",
       ":   88987.58Kentucky\n",
       ":   46964.8Louisiana\n",
       ":   52419.96Maine\n",
       ":   35961.49Maryland\n",
       ":   19544.92Massachusetts\n",
       ":   18632.73Michigan\n",
       ":   70939.43Minnesota\n",
       ":   88178.46Mississippi\n",
       ":   52908.99Missouri\n",
       ":   78253.59Montana\n",
       ":   150970.36Nebraska\n",
       ":   82809.4Nevada\n",
       ":   115962.23New Hampshire\n",
       ":   14426.83New Jersey\n",
       ":   20335.73New Mexico\n",
       ":   126414.42New York\n",
       ":   71027.55North Carolina\n",
       ":   58314.61North Dakota\n",
       ":   75308.28Ohio\n",
       ":   56527.22Oklahoma\n",
       ":   75692.52Oregon\n",
       ":   103308.93Pennsylvania\n",
       ":   61528.73Rhode Island\n",
       ":   6787South Carolina\n",
       ":   36860.66South Dakota\n",
       ":   81102.58Tennessee\n",
       ":   49516.61Texas\n",
       ":   278726.7Utah\n",
       ":   87603.3Vermont\n",
       ":   13948.84Virginia\n",
       ":   49675.78Washington\n",
       ":   75165.12West Virginia\n",
       ":   29705.18Wisconsin\n",
       ":   63800.68Wyoming\n",
       ":   102458.69\n",
       "\n"
      ],
      "text/plain": [
       "       Alabama         Alaska        Arizona       Arkansas     California \n",
       "      58094.55      573412.81      120312.25       57620.56      182838.71 \n",
       "      Colorado    Connecticut       Delaware        Florida        Georgia \n",
       "     111500.46       13581.68        7604.76       67328.26       67280.04 \n",
       "        Hawaii          Idaho       Illinois        Indiana           Iowa \n",
       "      12399.60       87872.27       72312.94       46121.58       63704.36 \n",
       "        Kansas       Kentucky      Louisiana          Maine       Maryland \n",
       "      88987.58       46964.80       52419.96       35961.49       19544.92 \n",
       " Massachusetts       Michigan      Minnesota    Mississippi       Missouri \n",
       "      18632.73       70939.43       88178.46       52908.99       78253.59 \n",
       "       Montana       Nebraska         Nevada  New Hampshire     New Jersey \n",
       "     150970.36       82809.40      115962.23       14426.83       20335.73 \n",
       "    New Mexico       New York North Carolina   North Dakota           Ohio \n",
       "     126414.42       71027.55       58314.61       75308.28       56527.22 \n",
       "      Oklahoma         Oregon   Pennsylvania   Rhode Island South Carolina \n",
       "      75692.52      103308.93       61528.73        6787.00       36860.66 \n",
       "  South Dakota      Tennessee          Texas           Utah        Vermont \n",
       "      81102.58       49516.61      278726.70       87603.30       13948.84 \n",
       "      Virginia     Washington  West Virginia      Wisconsin        Wyoming \n",
       "      49675.78       75165.12       29705.18       63800.68      102458.69 "
      ]
     },
     "metadata": {},
     "output_type": "display_data"
    }
   ],
   "source": [
    "rowSums(st)"
   ]
  },
  {
   "cell_type": "code",
   "execution_count": 179,
   "id": "e059c4fb",
   "metadata": {},
   "outputs": [
    {
     "data": {
      "text/html": [
       "<style>\n",
       ".dl-inline {width: auto; margin:0; padding: 0}\n",
       ".dl-inline>dt, .dl-inline>dd {float: none; width: auto; display: inline-block}\n",
       ".dl-inline>dt::after {content: \":\\0020\"; padding-right: .5ex}\n",
       ".dl-inline>dt:not(:first-of-type) {padding-left: .5ex}\n",
       "</style><dl class=dl-inline><dt>Alabama</dt><dd>7261.81875</dd><dt>Alaska</dt><dd>71676.60125</dd><dt>Arizona</dt><dd>15039.03125</dd><dt>Arkansas</dt><dd>7202.57</dd><dt>California</dt><dd>22854.83875</dd><dt>Colorado</dt><dd>13937.5575</dd><dt>Connecticut</dt><dd>1697.71</dd><dt>Delaware</dt><dd>950.595</dd><dt>Florida</dt><dd>8416.0325</dd><dt>Georgia</dt><dd>8410.005</dd><dt>Hawaii</dt><dd>1549.95</dd><dt>Idaho</dt><dd>10984.03375</dd><dt>Illinois</dt><dd>9039.1175</dd><dt>Indiana</dt><dd>5765.1975</dd><dt>Iowa</dt><dd>7963.045</dd><dt>Kansas</dt><dd>11123.4475</dd><dt>Kentucky</dt><dd>5870.6</dd><dt>Louisiana</dt><dd>6552.495</dd><dt>Maine</dt><dd>4495.18625</dd><dt>Maryland</dt><dd>2443.115</dd><dt>Massachusetts</dt><dd>2329.09125</dd><dt>Michigan</dt><dd>8867.42875</dd><dt>Minnesota</dt><dd>11022.3075</dd><dt>Mississippi</dt><dd>6613.62375</dd><dt>Missouri</dt><dd>9781.69875</dd><dt>Montana</dt><dd>18871.295</dd><dt>Nebraska</dt><dd>10351.175</dd><dt>Nevada</dt><dd>14495.27875</dd><dt>New Hampshire</dt><dd>1803.35375</dd><dt>New Jersey</dt><dd>2541.96625</dd><dt>New Mexico</dt><dd>15801.8025</dd><dt>New York</dt><dd>8878.44375</dd><dt>North Carolina</dt><dd>7289.32625</dd><dt>North Dakota</dt><dd>9413.535</dd><dt>Ohio</dt><dd>7065.9025</dd><dt>Oklahoma</dt><dd>9461.565</dd><dt>Oregon</dt><dd>12913.61625</dd><dt>Pennsylvania</dt><dd>7691.09125</dd><dt>Rhode Island</dt><dd>848.375</dd><dt>South Carolina</dt><dd>4607.5825</dd><dt>South Dakota</dt><dd>10137.8225</dd><dt>Tennessee</dt><dd>6189.57625</dd><dt>Texas</dt><dd>34840.8375</dd><dt>Utah</dt><dd>10950.4125</dd><dt>Vermont</dt><dd>1743.605</dd><dt>Virginia</dt><dd>6209.4725</dd><dt>Washington</dt><dd>9395.64</dd><dt>West Virginia</dt><dd>3713.1475</dd><dt>Wisconsin</dt><dd>7975.085</dd><dt>Wyoming</dt><dd>12807.33625</dd></dl>\n"
      ],
      "text/latex": [
       "\\begin{description*}\n",
       "\\item[Alabama] 7261.81875\n",
       "\\item[Alaska] 71676.60125\n",
       "\\item[Arizona] 15039.03125\n",
       "\\item[Arkansas] 7202.57\n",
       "\\item[California] 22854.83875\n",
       "\\item[Colorado] 13937.5575\n",
       "\\item[Connecticut] 1697.71\n",
       "\\item[Delaware] 950.595\n",
       "\\item[Florida] 8416.0325\n",
       "\\item[Georgia] 8410.005\n",
       "\\item[Hawaii] 1549.95\n",
       "\\item[Idaho] 10984.03375\n",
       "\\item[Illinois] 9039.1175\n",
       "\\item[Indiana] 5765.1975\n",
       "\\item[Iowa] 7963.045\n",
       "\\item[Kansas] 11123.4475\n",
       "\\item[Kentucky] 5870.6\n",
       "\\item[Louisiana] 6552.495\n",
       "\\item[Maine] 4495.18625\n",
       "\\item[Maryland] 2443.115\n",
       "\\item[Massachusetts] 2329.09125\n",
       "\\item[Michigan] 8867.42875\n",
       "\\item[Minnesota] 11022.3075\n",
       "\\item[Mississippi] 6613.62375\n",
       "\\item[Missouri] 9781.69875\n",
       "\\item[Montana] 18871.295\n",
       "\\item[Nebraska] 10351.175\n",
       "\\item[Nevada] 14495.27875\n",
       "\\item[New Hampshire] 1803.35375\n",
       "\\item[New Jersey] 2541.96625\n",
       "\\item[New Mexico] 15801.8025\n",
       "\\item[New York] 8878.44375\n",
       "\\item[North Carolina] 7289.32625\n",
       "\\item[North Dakota] 9413.535\n",
       "\\item[Ohio] 7065.9025\n",
       "\\item[Oklahoma] 9461.565\n",
       "\\item[Oregon] 12913.61625\n",
       "\\item[Pennsylvania] 7691.09125\n",
       "\\item[Rhode Island] 848.375\n",
       "\\item[South Carolina] 4607.5825\n",
       "\\item[South Dakota] 10137.8225\n",
       "\\item[Tennessee] 6189.57625\n",
       "\\item[Texas] 34840.8375\n",
       "\\item[Utah] 10950.4125\n",
       "\\item[Vermont] 1743.605\n",
       "\\item[Virginia] 6209.4725\n",
       "\\item[Washington] 9395.64\n",
       "\\item[West Virginia] 3713.1475\n",
       "\\item[Wisconsin] 7975.085\n",
       "\\item[Wyoming] 12807.33625\n",
       "\\end{description*}\n"
      ],
      "text/markdown": [
       "Alabama\n",
       ":   7261.81875Alaska\n",
       ":   71676.60125Arizona\n",
       ":   15039.03125Arkansas\n",
       ":   7202.57California\n",
       ":   22854.83875Colorado\n",
       ":   13937.5575Connecticut\n",
       ":   1697.71Delaware\n",
       ":   950.595Florida\n",
       ":   8416.0325Georgia\n",
       ":   8410.005Hawaii\n",
       ":   1549.95Idaho\n",
       ":   10984.03375Illinois\n",
       ":   9039.1175Indiana\n",
       ":   5765.1975Iowa\n",
       ":   7963.045Kansas\n",
       ":   11123.4475Kentucky\n",
       ":   5870.6Louisiana\n",
       ":   6552.495Maine\n",
       ":   4495.18625Maryland\n",
       ":   2443.115Massachusetts\n",
       ":   2329.09125Michigan\n",
       ":   8867.42875Minnesota\n",
       ":   11022.3075Mississippi\n",
       ":   6613.62375Missouri\n",
       ":   9781.69875Montana\n",
       ":   18871.295Nebraska\n",
       ":   10351.175Nevada\n",
       ":   14495.27875New Hampshire\n",
       ":   1803.35375New Jersey\n",
       ":   2541.96625New Mexico\n",
       ":   15801.8025New York\n",
       ":   8878.44375North Carolina\n",
       ":   7289.32625North Dakota\n",
       ":   9413.535Ohio\n",
       ":   7065.9025Oklahoma\n",
       ":   9461.565Oregon\n",
       ":   12913.61625Pennsylvania\n",
       ":   7691.09125Rhode Island\n",
       ":   848.375South Carolina\n",
       ":   4607.5825South Dakota\n",
       ":   10137.8225Tennessee\n",
       ":   6189.57625Texas\n",
       ":   34840.8375Utah\n",
       ":   10950.4125Vermont\n",
       ":   1743.605Virginia\n",
       ":   6209.4725Washington\n",
       ":   9395.64West Virginia\n",
       ":   3713.1475Wisconsin\n",
       ":   7975.085Wyoming\n",
       ":   12807.33625\n",
       "\n"
      ],
      "text/plain": [
       "       Alabama         Alaska        Arizona       Arkansas     California \n",
       "      7261.819      71676.601      15039.031       7202.570      22854.839 \n",
       "      Colorado    Connecticut       Delaware        Florida        Georgia \n",
       "     13937.558       1697.710        950.595       8416.032       8410.005 \n",
       "        Hawaii          Idaho       Illinois        Indiana           Iowa \n",
       "      1549.950      10984.034       9039.118       5765.198       7963.045 \n",
       "        Kansas       Kentucky      Louisiana          Maine       Maryland \n",
       "     11123.448       5870.600       6552.495       4495.186       2443.115 \n",
       " Massachusetts       Michigan      Minnesota    Mississippi       Missouri \n",
       "      2329.091       8867.429      11022.308       6613.624       9781.699 \n",
       "       Montana       Nebraska         Nevada  New Hampshire     New Jersey \n",
       "     18871.295      10351.175      14495.279       1803.354       2541.966 \n",
       "    New Mexico       New York North Carolina   North Dakota           Ohio \n",
       "     15801.802       8878.444       7289.326       9413.535       7065.903 \n",
       "      Oklahoma         Oregon   Pennsylvania   Rhode Island South Carolina \n",
       "      9461.565      12913.616       7691.091        848.375       4607.583 \n",
       "  South Dakota      Tennessee          Texas           Utah        Vermont \n",
       "     10137.823       6189.576      34840.838      10950.413       1743.605 \n",
       "      Virginia     Washington  West Virginia      Wisconsin        Wyoming \n",
       "      6209.472       9395.640       3713.148       7975.085      12807.336 "
      ]
     },
     "metadata": {},
     "output_type": "display_data"
    }
   ],
   "source": [
    "rowMeans(st)"
   ]
  },
  {
   "cell_type": "code",
   "execution_count": 180,
   "id": "cf4e6ca8",
   "metadata": {},
   "outputs": [
    {
     "data": {
      "text/html": [
       "<style>\n",
       ".dl-inline {width: auto; margin:0; padding: 0}\n",
       ".dl-inline>dt, .dl-inline>dd {float: none; width: auto; display: inline-block}\n",
       ".dl-inline>dt::after {content: \":\\0020\"; padding-right: .5ex}\n",
       ".dl-inline>dt:not(:first-of-type) {padding-left: .5ex}\n",
       "</style><dl class=dl-inline><dt>Population</dt><dd>212321</dd><dt>Income</dt><dd>221790</dd><dt>Illiteracy</dt><dd>58.5</dd><dt>Life.Exp</dt><dd>3543.93</dd><dt>Murder</dt><dd>368.9</dd><dt>HS.Grad</dt><dd>2655.4</dd><dt>Frost</dt><dd>5223</dd><dt>Area</dt><dd>3536794</dd></dl>\n"
      ],
      "text/latex": [
       "\\begin{description*}\n",
       "\\item[Population] 212321\n",
       "\\item[Income] 221790\n",
       "\\item[Illiteracy] 58.5\n",
       "\\item[Life.Exp] 3543.93\n",
       "\\item[Murder] 368.9\n",
       "\\item[HS.Grad] 2655.4\n",
       "\\item[Frost] 5223\n",
       "\\item[Area] 3536794\n",
       "\\end{description*}\n"
      ],
      "text/markdown": [
       "Population\n",
       ":   212321Income\n",
       ":   221790Illiteracy\n",
       ":   58.5Life.Exp\n",
       ":   3543.93Murder\n",
       ":   368.9HS.Grad\n",
       ":   2655.4Frost\n",
       ":   5223Area\n",
       ":   3536794\n",
       "\n"
      ],
      "text/plain": [
       "Population     Income Illiteracy   Life.Exp     Murder    HS.Grad      Frost \n",
       " 212321.00  221790.00      58.50    3543.93     368.90    2655.40    5223.00 \n",
       "      Area \n",
       "3536794.00 "
      ]
     },
     "metadata": {},
     "output_type": "display_data"
    }
   ],
   "source": [
    "colSums(st)"
   ]
  },
  {
   "cell_type": "code",
   "execution_count": 181,
   "id": "514bfcd9",
   "metadata": {},
   "outputs": [
    {
     "data": {
      "text/html": [
       "<style>\n",
       ".dl-inline {width: auto; margin:0; padding: 0}\n",
       ".dl-inline>dt, .dl-inline>dd {float: none; width: auto; display: inline-block}\n",
       ".dl-inline>dt::after {content: \":\\0020\"; padding-right: .5ex}\n",
       ".dl-inline>dt:not(:first-of-type) {padding-left: .5ex}\n",
       "</style><dl class=dl-inline><dt>Population</dt><dd>4246.42</dd><dt>Income</dt><dd>4435.8</dd><dt>Illiteracy</dt><dd>1.17</dd><dt>Life.Exp</dt><dd>70.8786</dd><dt>Murder</dt><dd>7.378</dd><dt>HS.Grad</dt><dd>53.108</dd><dt>Frost</dt><dd>104.46</dd><dt>Area</dt><dd>70735.88</dd></dl>\n"
      ],
      "text/latex": [
       "\\begin{description*}\n",
       "\\item[Population] 4246.42\n",
       "\\item[Income] 4435.8\n",
       "\\item[Illiteracy] 1.17\n",
       "\\item[Life.Exp] 70.8786\n",
       "\\item[Murder] 7.378\n",
       "\\item[HS.Grad] 53.108\n",
       "\\item[Frost] 104.46\n",
       "\\item[Area] 70735.88\n",
       "\\end{description*}\n"
      ],
      "text/markdown": [
       "Population\n",
       ":   4246.42Income\n",
       ":   4435.8Illiteracy\n",
       ":   1.17Life.Exp\n",
       ":   70.8786Murder\n",
       ":   7.378HS.Grad\n",
       ":   53.108Frost\n",
       ":   104.46Area\n",
       ":   70735.88\n",
       "\n"
      ],
      "text/plain": [
       "Population     Income Illiteracy   Life.Exp     Murder    HS.Grad      Frost \n",
       " 4246.4200  4435.8000     1.1700    70.8786     7.3780    53.1080   104.4600 \n",
       "      Area \n",
       "70735.8800 "
      ]
     },
     "metadata": {},
     "output_type": "display_data"
    }
   ],
   "source": [
    "colMeans(st\n",
    "        )"
   ]
  },
  {
   "cell_type": "code",
   "execution_count": 184,
   "id": "3b62a93d",
   "metadata": {},
   "outputs": [
    {
     "data": {
      "text/html": [
       "<table class=\"dataframe\">\n",
       "<caption>A data.frame: 1 × 8</caption>\n",
       "<thead>\n",
       "\t<tr><th></th><th scope=col>Population</th><th scope=col>Income</th><th scope=col>Illiteracy</th><th scope=col>Life.Exp</th><th scope=col>Murder</th><th scope=col>HS.Grad</th><th scope=col>Frost</th><th scope=col>Area</th></tr>\n",
       "\t<tr><th></th><th scope=col>&lt;dbl&gt;</th><th scope=col>&lt;dbl&gt;</th><th scope=col>&lt;dbl&gt;</th><th scope=col>&lt;dbl&gt;</th><th scope=col>&lt;dbl&gt;</th><th scope=col>&lt;dbl&gt;</th><th scope=col>&lt;dbl&gt;</th><th scope=col>&lt;dbl&gt;</th></tr>\n",
       "</thead>\n",
       "<tbody>\n",
       "\t<tr><th scope=row>Florida</th><td>8277</td><td>4815</td><td>1.3</td><td>70.66</td><td>10.7</td><td>52.6</td><td>11</td><td>54090</td></tr>\n",
       "</tbody>\n",
       "</table>\n"
      ],
      "text/latex": [
       "A data.frame: 1 × 8\n",
       "\\begin{tabular}{r|llllllll}\n",
       "  & Population & Income & Illiteracy & Life.Exp & Murder & HS.Grad & Frost & Area\\\\\n",
       "  & <dbl> & <dbl> & <dbl> & <dbl> & <dbl> & <dbl> & <dbl> & <dbl>\\\\\n",
       "\\hline\n",
       "\tFlorida & 8277 & 4815 & 1.3 & 70.66 & 10.7 & 52.6 & 11 & 54090\\\\\n",
       "\\end{tabular}\n"
      ],
      "text/markdown": [
       "\n",
       "A data.frame: 1 × 8\n",
       "\n",
       "| <!--/--> | Population &lt;dbl&gt; | Income &lt;dbl&gt; | Illiteracy &lt;dbl&gt; | Life.Exp &lt;dbl&gt; | Murder &lt;dbl&gt; | HS.Grad &lt;dbl&gt; | Frost &lt;dbl&gt; | Area &lt;dbl&gt; |\n",
       "|---|---|---|---|---|---|---|---|---|\n",
       "| Florida | 8277 | 4815 | 1.3 | 70.66 | 10.7 | 52.6 | 11 | 54090 |\n",
       "\n"
      ],
      "text/plain": [
       "        Population Income Illiteracy Life.Exp Murder HS.Grad Frost Area \n",
       "Florida 8277       4815   1.3        70.66    10.7   52.6    11    54090"
      ]
     },
     "metadata": {},
     "output_type": "display_data"
    }
   ],
   "source": [
    "st['Florida', ]"
   ]
  },
  {
   "cell_type": "code",
   "execution_count": 185,
   "id": "9c226588",
   "metadata": {},
   "outputs": [
    {
     "data": {
      "text/html": [
       "<table class=\"dataframe\">\n",
       "<caption>A data.frame: 50 × 1</caption>\n",
       "<thead>\n",
       "\t<tr><th></th><th scope=col>Income</th></tr>\n",
       "\t<tr><th></th><th scope=col>&lt;dbl&gt;</th></tr>\n",
       "</thead>\n",
       "<tbody>\n",
       "\t<tr><th scope=row>Alabama</th><td>3624</td></tr>\n",
       "\t<tr><th scope=row>Alaska</th><td>6315</td></tr>\n",
       "\t<tr><th scope=row>Arizona</th><td>4530</td></tr>\n",
       "\t<tr><th scope=row>Arkansas</th><td>3378</td></tr>\n",
       "\t<tr><th scope=row>California</th><td>5114</td></tr>\n",
       "\t<tr><th scope=row>Colorado</th><td>4884</td></tr>\n",
       "\t<tr><th scope=row>Connecticut</th><td>5348</td></tr>\n",
       "\t<tr><th scope=row>Delaware</th><td>4809</td></tr>\n",
       "\t<tr><th scope=row>Florida</th><td>4815</td></tr>\n",
       "\t<tr><th scope=row>Georgia</th><td>4091</td></tr>\n",
       "\t<tr><th scope=row>Hawaii</th><td>4963</td></tr>\n",
       "\t<tr><th scope=row>Idaho</th><td>4119</td></tr>\n",
       "\t<tr><th scope=row>Illinois</th><td>5107</td></tr>\n",
       "\t<tr><th scope=row>Indiana</th><td>4458</td></tr>\n",
       "\t<tr><th scope=row>Iowa</th><td>4628</td></tr>\n",
       "\t<tr><th scope=row>Kansas</th><td>4669</td></tr>\n",
       "\t<tr><th scope=row>Kentucky</th><td>3712</td></tr>\n",
       "\t<tr><th scope=row>Louisiana</th><td>3545</td></tr>\n",
       "\t<tr><th scope=row>Maine</th><td>3694</td></tr>\n",
       "\t<tr><th scope=row>Maryland</th><td>5299</td></tr>\n",
       "\t<tr><th scope=row>Massachusetts</th><td>4755</td></tr>\n",
       "\t<tr><th scope=row>Michigan</th><td>4751</td></tr>\n",
       "\t<tr><th scope=row>Minnesota</th><td>4675</td></tr>\n",
       "\t<tr><th scope=row>Mississippi</th><td>3098</td></tr>\n",
       "\t<tr><th scope=row>Missouri</th><td>4254</td></tr>\n",
       "\t<tr><th scope=row>Montana</th><td>4347</td></tr>\n",
       "\t<tr><th scope=row>Nebraska</th><td>4508</td></tr>\n",
       "\t<tr><th scope=row>Nevada</th><td>5149</td></tr>\n",
       "\t<tr><th scope=row>New Hampshire</th><td>4281</td></tr>\n",
       "\t<tr><th scope=row>New Jersey</th><td>5237</td></tr>\n",
       "\t<tr><th scope=row>New Mexico</th><td>3601</td></tr>\n",
       "\t<tr><th scope=row>New York</th><td>4903</td></tr>\n",
       "\t<tr><th scope=row>North Carolina</th><td>3875</td></tr>\n",
       "\t<tr><th scope=row>North Dakota</th><td>5087</td></tr>\n",
       "\t<tr><th scope=row>Ohio</th><td>4561</td></tr>\n",
       "\t<tr><th scope=row>Oklahoma</th><td>3983</td></tr>\n",
       "\t<tr><th scope=row>Oregon</th><td>4660</td></tr>\n",
       "\t<tr><th scope=row>Pennsylvania</th><td>4449</td></tr>\n",
       "\t<tr><th scope=row>Rhode Island</th><td>4558</td></tr>\n",
       "\t<tr><th scope=row>South Carolina</th><td>3635</td></tr>\n",
       "\t<tr><th scope=row>South Dakota</th><td>4167</td></tr>\n",
       "\t<tr><th scope=row>Tennessee</th><td>3821</td></tr>\n",
       "\t<tr><th scope=row>Texas</th><td>4188</td></tr>\n",
       "\t<tr><th scope=row>Utah</th><td>4022</td></tr>\n",
       "\t<tr><th scope=row>Vermont</th><td>3907</td></tr>\n",
       "\t<tr><th scope=row>Virginia</th><td>4701</td></tr>\n",
       "\t<tr><th scope=row>Washington</th><td>4864</td></tr>\n",
       "\t<tr><th scope=row>West Virginia</th><td>3617</td></tr>\n",
       "\t<tr><th scope=row>Wisconsin</th><td>4468</td></tr>\n",
       "\t<tr><th scope=row>Wyoming</th><td>4566</td></tr>\n",
       "</tbody>\n",
       "</table>\n"
      ],
      "text/latex": [
       "A data.frame: 50 × 1\n",
       "\\begin{tabular}{r|l}\n",
       "  & Income\\\\\n",
       "  & <dbl>\\\\\n",
       "\\hline\n",
       "\tAlabama & 3624\\\\\n",
       "\tAlaska & 6315\\\\\n",
       "\tArizona & 4530\\\\\n",
       "\tArkansas & 3378\\\\\n",
       "\tCalifornia & 5114\\\\\n",
       "\tColorado & 4884\\\\\n",
       "\tConnecticut & 5348\\\\\n",
       "\tDelaware & 4809\\\\\n",
       "\tFlorida & 4815\\\\\n",
       "\tGeorgia & 4091\\\\\n",
       "\tHawaii & 4963\\\\\n",
       "\tIdaho & 4119\\\\\n",
       "\tIllinois & 5107\\\\\n",
       "\tIndiana & 4458\\\\\n",
       "\tIowa & 4628\\\\\n",
       "\tKansas & 4669\\\\\n",
       "\tKentucky & 3712\\\\\n",
       "\tLouisiana & 3545\\\\\n",
       "\tMaine & 3694\\\\\n",
       "\tMaryland & 5299\\\\\n",
       "\tMassachusetts & 4755\\\\\n",
       "\tMichigan & 4751\\\\\n",
       "\tMinnesota & 4675\\\\\n",
       "\tMississippi & 3098\\\\\n",
       "\tMissouri & 4254\\\\\n",
       "\tMontana & 4347\\\\\n",
       "\tNebraska & 4508\\\\\n",
       "\tNevada & 5149\\\\\n",
       "\tNew Hampshire & 4281\\\\\n",
       "\tNew Jersey & 5237\\\\\n",
       "\tNew Mexico & 3601\\\\\n",
       "\tNew York & 4903\\\\\n",
       "\tNorth Carolina & 3875\\\\\n",
       "\tNorth Dakota & 5087\\\\\n",
       "\tOhio & 4561\\\\\n",
       "\tOklahoma & 3983\\\\\n",
       "\tOregon & 4660\\\\\n",
       "\tPennsylvania & 4449\\\\\n",
       "\tRhode Island & 4558\\\\\n",
       "\tSouth Carolina & 3635\\\\\n",
       "\tSouth Dakota & 4167\\\\\n",
       "\tTennessee & 3821\\\\\n",
       "\tTexas & 4188\\\\\n",
       "\tUtah & 4022\\\\\n",
       "\tVermont & 3907\\\\\n",
       "\tVirginia & 4701\\\\\n",
       "\tWashington & 4864\\\\\n",
       "\tWest Virginia & 3617\\\\\n",
       "\tWisconsin & 4468\\\\\n",
       "\tWyoming & 4566\\\\\n",
       "\\end{tabular}\n"
      ],
      "text/markdown": [
       "\n",
       "A data.frame: 50 × 1\n",
       "\n",
       "| <!--/--> | Income &lt;dbl&gt; |\n",
       "|---|---|\n",
       "| Alabama | 3624 |\n",
       "| Alaska | 6315 |\n",
       "| Arizona | 4530 |\n",
       "| Arkansas | 3378 |\n",
       "| California | 5114 |\n",
       "| Colorado | 4884 |\n",
       "| Connecticut | 5348 |\n",
       "| Delaware | 4809 |\n",
       "| Florida | 4815 |\n",
       "| Georgia | 4091 |\n",
       "| Hawaii | 4963 |\n",
       "| Idaho | 4119 |\n",
       "| Illinois | 5107 |\n",
       "| Indiana | 4458 |\n",
       "| Iowa | 4628 |\n",
       "| Kansas | 4669 |\n",
       "| Kentucky | 3712 |\n",
       "| Louisiana | 3545 |\n",
       "| Maine | 3694 |\n",
       "| Maryland | 5299 |\n",
       "| Massachusetts | 4755 |\n",
       "| Michigan | 4751 |\n",
       "| Minnesota | 4675 |\n",
       "| Mississippi | 3098 |\n",
       "| Missouri | 4254 |\n",
       "| Montana | 4347 |\n",
       "| Nebraska | 4508 |\n",
       "| Nevada | 5149 |\n",
       "| New Hampshire | 4281 |\n",
       "| New Jersey | 5237 |\n",
       "| New Mexico | 3601 |\n",
       "| New York | 4903 |\n",
       "| North Carolina | 3875 |\n",
       "| North Dakota | 5087 |\n",
       "| Ohio | 4561 |\n",
       "| Oklahoma | 3983 |\n",
       "| Oregon | 4660 |\n",
       "| Pennsylvania | 4449 |\n",
       "| Rhode Island | 4558 |\n",
       "| South Carolina | 3635 |\n",
       "| South Dakota | 4167 |\n",
       "| Tennessee | 3821 |\n",
       "| Texas | 4188 |\n",
       "| Utah | 4022 |\n",
       "| Vermont | 3907 |\n",
       "| Virginia | 4701 |\n",
       "| Washington | 4864 |\n",
       "| West Virginia | 3617 |\n",
       "| Wisconsin | 4468 |\n",
       "| Wyoming | 4566 |\n",
       "\n"
      ],
      "text/plain": [
       "               Income\n",
       "Alabama        3624  \n",
       "Alaska         6315  \n",
       "Arizona        4530  \n",
       "Arkansas       3378  \n",
       "California     5114  \n",
       "Colorado       4884  \n",
       "Connecticut    5348  \n",
       "Delaware       4809  \n",
       "Florida        4815  \n",
       "Georgia        4091  \n",
       "Hawaii         4963  \n",
       "Idaho          4119  \n",
       "Illinois       5107  \n",
       "Indiana        4458  \n",
       "Iowa           4628  \n",
       "Kansas         4669  \n",
       "Kentucky       3712  \n",
       "Louisiana      3545  \n",
       "Maine          3694  \n",
       "Maryland       5299  \n",
       "Massachusetts  4755  \n",
       "Michigan       4751  \n",
       "Minnesota      4675  \n",
       "Mississippi    3098  \n",
       "Missouri       4254  \n",
       "Montana        4347  \n",
       "Nebraska       4508  \n",
       "Nevada         5149  \n",
       "New Hampshire  4281  \n",
       "New Jersey     5237  \n",
       "New Mexico     3601  \n",
       "New York       4903  \n",
       "North Carolina 3875  \n",
       "North Dakota   5087  \n",
       "Ohio           4561  \n",
       "Oklahoma       3983  \n",
       "Oregon         4660  \n",
       "Pennsylvania   4449  \n",
       "Rhode Island   4558  \n",
       "South Carolina 3635  \n",
       "South Dakota   4167  \n",
       "Tennessee      3821  \n",
       "Texas          4188  \n",
       "Utah           4022  \n",
       "Vermont        3907  \n",
       "Virginia       4701  \n",
       "Washington     4864  \n",
       "West Virginia  3617  \n",
       "Wisconsin      4468  \n",
       "Wyoming        4566  "
      ]
     },
     "metadata": {},
     "output_type": "display_data"
    }
   ],
   "source": [
    "st['Income']"
   ]
  },
  {
   "cell_type": "code",
   "execution_count": 186,
   "id": "cca82df5",
   "metadata": {},
   "outputs": [
    {
     "data": {
      "text/html": [
       "262134"
      ],
      "text/latex": [
       "262134"
      ],
      "text/markdown": [
       "262134"
      ],
      "text/plain": [
       "[1] 262134"
      ]
     },
     "metadata": {},
     "output_type": "display_data"
    }
   ],
   "source": [
    "st['Texas', 'Area']"
   ]
  },
  {
   "cell_type": "code",
   "execution_count": 187,
   "id": "14c73541",
   "metadata": {},
   "outputs": [
    {
     "data": {
      "text/html": [
       "<table class=\"dataframe\">\n",
       "<caption>A data.frame: 1 × 2</caption>\n",
       "<thead>\n",
       "\t<tr><th></th><th scope=col>Population</th><th scope=col>Income</th></tr>\n",
       "\t<tr><th></th><th scope=col>&lt;dbl&gt;</th><th scope=col>&lt;dbl&gt;</th></tr>\n",
       "</thead>\n",
       "<tbody>\n",
       "\t<tr><th scope=row>Ohio</th><td>10735</td><td>4561</td></tr>\n",
       "</tbody>\n",
       "</table>\n"
      ],
      "text/latex": [
       "A data.frame: 1 × 2\n",
       "\\begin{tabular}{r|ll}\n",
       "  & Population & Income\\\\\n",
       "  & <dbl> & <dbl>\\\\\n",
       "\\hline\n",
       "\tOhio & 10735 & 4561\\\\\n",
       "\\end{tabular}\n"
      ],
      "text/markdown": [
       "\n",
       "A data.frame: 1 × 2\n",
       "\n",
       "| <!--/--> | Population &lt;dbl&gt; | Income &lt;dbl&gt; |\n",
       "|---|---|---|\n",
       "| Ohio | 10735 | 4561 |\n",
       "\n"
      ],
      "text/plain": [
       "     Population Income\n",
       "Ohio 10735      4561  "
      ]
     },
     "metadata": {},
     "output_type": "display_data"
    }
   ],
   "source": [
    "st['Ohio', c('Population','Income')]"
   ]
  },
  {
   "cell_type": "code",
   "execution_count": 189,
   "id": "ae6cbfe1",
   "metadata": {},
   "outputs": [
    {
     "data": {
      "text/html": [
       "<table class=\"dataframe\">\n",
       "<caption>A data.frame: 12 × 8</caption>\n",
       "<thead>\n",
       "\t<tr><th></th><th scope=col>Population</th><th scope=col>Income</th><th scope=col>Illiteracy</th><th scope=col>Life.Exp</th><th scope=col>Murder</th><th scope=col>HS.Grad</th><th scope=col>Frost</th><th scope=col>Area</th></tr>\n",
       "\t<tr><th></th><th scope=col>&lt;dbl&gt;</th><th scope=col>&lt;dbl&gt;</th><th scope=col>&lt;dbl&gt;</th><th scope=col>&lt;dbl&gt;</th><th scope=col>&lt;dbl&gt;</th><th scope=col>&lt;dbl&gt;</th><th scope=col>&lt;dbl&gt;</th><th scope=col>&lt;dbl&gt;</th></tr>\n",
       "</thead>\n",
       "<tbody>\n",
       "\t<tr><th scope=row>California</th><td>21198</td><td>5114</td><td>1.1</td><td>71.71</td><td>10.3</td><td>62.6</td><td> 20</td><td>156361</td></tr>\n",
       "\t<tr><th scope=row>Florida</th><td> 8277</td><td>4815</td><td>1.3</td><td>70.66</td><td>10.7</td><td>52.6</td><td> 11</td><td> 54090</td></tr>\n",
       "\t<tr><th scope=row>Illinois</th><td>11197</td><td>5107</td><td>0.9</td><td>70.14</td><td>10.3</td><td>52.6</td><td>127</td><td> 55748</td></tr>\n",
       "\t<tr><th scope=row>Indiana</th><td> 5313</td><td>4458</td><td>0.7</td><td>70.88</td><td> 7.1</td><td>52.9</td><td>122</td><td> 36097</td></tr>\n",
       "\t<tr><th scope=row>Massachusetts</th><td> 5814</td><td>4755</td><td>1.1</td><td>71.83</td><td> 3.3</td><td>58.5</td><td>103</td><td>  7826</td></tr>\n",
       "\t<tr><th scope=row>Michigan</th><td> 9111</td><td>4751</td><td>0.9</td><td>70.63</td><td>11.1</td><td>52.8</td><td>125</td><td> 56817</td></tr>\n",
       "\t<tr><th scope=row>New Jersey</th><td> 7333</td><td>5237</td><td>1.1</td><td>70.93</td><td> 5.2</td><td>52.5</td><td>115</td><td>  7521</td></tr>\n",
       "\t<tr><th scope=row>New York</th><td>18076</td><td>4903</td><td>1.4</td><td>70.55</td><td>10.9</td><td>52.7</td><td> 82</td><td> 47831</td></tr>\n",
       "\t<tr><th scope=row>North Carolina</th><td> 5441</td><td>3875</td><td>1.8</td><td>69.21</td><td>11.1</td><td>38.5</td><td> 80</td><td> 48798</td></tr>\n",
       "\t<tr><th scope=row>Ohio</th><td>10735</td><td>4561</td><td>0.8</td><td>70.82</td><td> 7.4</td><td>53.2</td><td>124</td><td> 40975</td></tr>\n",
       "\t<tr><th scope=row>Pennsylvania</th><td>11860</td><td>4449</td><td>1.0</td><td>70.43</td><td> 6.1</td><td>50.2</td><td>126</td><td> 44966</td></tr>\n",
       "\t<tr><th scope=row>Texas</th><td>12237</td><td>4188</td><td>2.2</td><td>70.90</td><td>12.2</td><td>47.4</td><td> 35</td><td>262134</td></tr>\n",
       "</tbody>\n",
       "</table>\n"
      ],
      "text/latex": [
       "A data.frame: 12 × 8\n",
       "\\begin{tabular}{r|llllllll}\n",
       "  & Population & Income & Illiteracy & Life.Exp & Murder & HS.Grad & Frost & Area\\\\\n",
       "  & <dbl> & <dbl> & <dbl> & <dbl> & <dbl> & <dbl> & <dbl> & <dbl>\\\\\n",
       "\\hline\n",
       "\tCalifornia & 21198 & 5114 & 1.1 & 71.71 & 10.3 & 62.6 &  20 & 156361\\\\\n",
       "\tFlorida &  8277 & 4815 & 1.3 & 70.66 & 10.7 & 52.6 &  11 &  54090\\\\\n",
       "\tIllinois & 11197 & 5107 & 0.9 & 70.14 & 10.3 & 52.6 & 127 &  55748\\\\\n",
       "\tIndiana &  5313 & 4458 & 0.7 & 70.88 &  7.1 & 52.9 & 122 &  36097\\\\\n",
       "\tMassachusetts &  5814 & 4755 & 1.1 & 71.83 &  3.3 & 58.5 & 103 &   7826\\\\\n",
       "\tMichigan &  9111 & 4751 & 0.9 & 70.63 & 11.1 & 52.8 & 125 &  56817\\\\\n",
       "\tNew Jersey &  7333 & 5237 & 1.1 & 70.93 &  5.2 & 52.5 & 115 &   7521\\\\\n",
       "\tNew York & 18076 & 4903 & 1.4 & 70.55 & 10.9 & 52.7 &  82 &  47831\\\\\n",
       "\tNorth Carolina &  5441 & 3875 & 1.8 & 69.21 & 11.1 & 38.5 &  80 &  48798\\\\\n",
       "\tOhio & 10735 & 4561 & 0.8 & 70.82 &  7.4 & 53.2 & 124 &  40975\\\\\n",
       "\tPennsylvania & 11860 & 4449 & 1.0 & 70.43 &  6.1 & 50.2 & 126 &  44966\\\\\n",
       "\tTexas & 12237 & 4188 & 2.2 & 70.90 & 12.2 & 47.4 &  35 & 262134\\\\\n",
       "\\end{tabular}\n"
      ],
      "text/markdown": [
       "\n",
       "A data.frame: 12 × 8\n",
       "\n",
       "| <!--/--> | Population &lt;dbl&gt; | Income &lt;dbl&gt; | Illiteracy &lt;dbl&gt; | Life.Exp &lt;dbl&gt; | Murder &lt;dbl&gt; | HS.Grad &lt;dbl&gt; | Frost &lt;dbl&gt; | Area &lt;dbl&gt; |\n",
       "|---|---|---|---|---|---|---|---|---|\n",
       "| California | 21198 | 5114 | 1.1 | 71.71 | 10.3 | 62.6 |  20 | 156361 |\n",
       "| Florida |  8277 | 4815 | 1.3 | 70.66 | 10.7 | 52.6 |  11 |  54090 |\n",
       "| Illinois | 11197 | 5107 | 0.9 | 70.14 | 10.3 | 52.6 | 127 |  55748 |\n",
       "| Indiana |  5313 | 4458 | 0.7 | 70.88 |  7.1 | 52.9 | 122 |  36097 |\n",
       "| Massachusetts |  5814 | 4755 | 1.1 | 71.83 |  3.3 | 58.5 | 103 |   7826 |\n",
       "| Michigan |  9111 | 4751 | 0.9 | 70.63 | 11.1 | 52.8 | 125 |  56817 |\n",
       "| New Jersey |  7333 | 5237 | 1.1 | 70.93 |  5.2 | 52.5 | 115 |   7521 |\n",
       "| New York | 18076 | 4903 | 1.4 | 70.55 | 10.9 | 52.7 |  82 |  47831 |\n",
       "| North Carolina |  5441 | 3875 | 1.8 | 69.21 | 11.1 | 38.5 |  80 |  48798 |\n",
       "| Ohio | 10735 | 4561 | 0.8 | 70.82 |  7.4 | 53.2 | 124 |  40975 |\n",
       "| Pennsylvania | 11860 | 4449 | 1.0 | 70.43 |  6.1 | 50.2 | 126 |  44966 |\n",
       "| Texas | 12237 | 4188 | 2.2 | 70.90 | 12.2 | 47.4 |  35 | 262134 |\n",
       "\n"
      ],
      "text/plain": [
       "               Population Income Illiteracy Life.Exp Murder HS.Grad Frost\n",
       "California     21198      5114   1.1        71.71    10.3   62.6     20  \n",
       "Florida         8277      4815   1.3        70.66    10.7   52.6     11  \n",
       "Illinois       11197      5107   0.9        70.14    10.3   52.6    127  \n",
       "Indiana         5313      4458   0.7        70.88     7.1   52.9    122  \n",
       "Massachusetts   5814      4755   1.1        71.83     3.3   58.5    103  \n",
       "Michigan        9111      4751   0.9        70.63    11.1   52.8    125  \n",
       "New Jersey      7333      5237   1.1        70.93     5.2   52.5    115  \n",
       "New York       18076      4903   1.4        70.55    10.9   52.7     82  \n",
       "North Carolina  5441      3875   1.8        69.21    11.1   38.5     80  \n",
       "Ohio           10735      4561   0.8        70.82     7.4   53.2    124  \n",
       "Pennsylvania   11860      4449   1.0        70.43     6.1   50.2    126  \n",
       "Texas          12237      4188   2.2        70.90    12.2   47.4     35  \n",
       "               Area  \n",
       "California     156361\n",
       "Florida         54090\n",
       "Illinois        55748\n",
       "Indiana         36097\n",
       "Massachusetts    7826\n",
       "Michigan        56817\n",
       "New Jersey       7521\n",
       "New York        47831\n",
       "North Carolina  48798\n",
       "Ohio            40975\n",
       "Pennsylvania    44966\n",
       "Texas          262134"
      ]
     },
     "metadata": {},
     "output_type": "display_data"
    }
   ],
   "source": [
    "st[st['Population'] >= 5000, ]"
   ]
  },
  {
   "cell_type": "code",
   "execution_count": 190,
   "id": "233b36cb",
   "metadata": {},
   "outputs": [
    {
     "data": {
      "text/html": [
       "<table class=\"dataframe\">\n",
       "<caption>A data.frame: 16 × 3</caption>\n",
       "<thead>\n",
       "\t<tr><th></th><th scope=col>Population</th><th scope=col>Income</th><th scope=col>Area</th></tr>\n",
       "\t<tr><th></th><th scope=col>&lt;dbl&gt;</th><th scope=col>&lt;dbl&gt;</th><th scope=col>&lt;dbl&gt;</th></tr>\n",
       "</thead>\n",
       "<tbody>\n",
       "\t<tr><th scope=row>California</th><td>21198</td><td>5114</td><td>156361</td></tr>\n",
       "\t<tr><th scope=row>Florida</th><td> 8277</td><td>4815</td><td> 54090</td></tr>\n",
       "\t<tr><th scope=row>Georgia</th><td> 4931</td><td>4091</td><td> 58073</td></tr>\n",
       "\t<tr><th scope=row>Illinois</th><td>11197</td><td>5107</td><td> 55748</td></tr>\n",
       "\t<tr><th scope=row>Indiana</th><td> 5313</td><td>4458</td><td> 36097</td></tr>\n",
       "\t<tr><th scope=row>Massachusetts</th><td> 5814</td><td>4755</td><td>  7826</td></tr>\n",
       "\t<tr><th scope=row>Michigan</th><td> 9111</td><td>4751</td><td> 56817</td></tr>\n",
       "\t<tr><th scope=row>Missouri</th><td> 4767</td><td>4254</td><td> 68995</td></tr>\n",
       "\t<tr><th scope=row>New Jersey</th><td> 7333</td><td>5237</td><td>  7521</td></tr>\n",
       "\t<tr><th scope=row>New York</th><td>18076</td><td>4903</td><td> 47831</td></tr>\n",
       "\t<tr><th scope=row>North Carolina</th><td> 5441</td><td>3875</td><td> 48798</td></tr>\n",
       "\t<tr><th scope=row>Ohio</th><td>10735</td><td>4561</td><td> 40975</td></tr>\n",
       "\t<tr><th scope=row>Pennsylvania</th><td>11860</td><td>4449</td><td> 44966</td></tr>\n",
       "\t<tr><th scope=row>Texas</th><td>12237</td><td>4188</td><td>262134</td></tr>\n",
       "\t<tr><th scope=row>Virginia</th><td> 4981</td><td>4701</td><td> 39780</td></tr>\n",
       "\t<tr><th scope=row>Wisconsin</th><td> 4589</td><td>4468</td><td> 54464</td></tr>\n",
       "</tbody>\n",
       "</table>\n"
      ],
      "text/latex": [
       "A data.frame: 16 × 3\n",
       "\\begin{tabular}{r|lll}\n",
       "  & Population & Income & Area\\\\\n",
       "  & <dbl> & <dbl> & <dbl>\\\\\n",
       "\\hline\n",
       "\tCalifornia & 21198 & 5114 & 156361\\\\\n",
       "\tFlorida &  8277 & 4815 &  54090\\\\\n",
       "\tGeorgia &  4931 & 4091 &  58073\\\\\n",
       "\tIllinois & 11197 & 5107 &  55748\\\\\n",
       "\tIndiana &  5313 & 4458 &  36097\\\\\n",
       "\tMassachusetts &  5814 & 4755 &   7826\\\\\n",
       "\tMichigan &  9111 & 4751 &  56817\\\\\n",
       "\tMissouri &  4767 & 4254 &  68995\\\\\n",
       "\tNew Jersey &  7333 & 5237 &   7521\\\\\n",
       "\tNew York & 18076 & 4903 &  47831\\\\\n",
       "\tNorth Carolina &  5441 & 3875 &  48798\\\\\n",
       "\tOhio & 10735 & 4561 &  40975\\\\\n",
       "\tPennsylvania & 11860 & 4449 &  44966\\\\\n",
       "\tTexas & 12237 & 4188 & 262134\\\\\n",
       "\tVirginia &  4981 & 4701 &  39780\\\\\n",
       "\tWisconsin &  4589 & 4468 &  54464\\\\\n",
       "\\end{tabular}\n"
      ],
      "text/markdown": [
       "\n",
       "A data.frame: 16 × 3\n",
       "\n",
       "| <!--/--> | Population &lt;dbl&gt; | Income &lt;dbl&gt; | Area &lt;dbl&gt; |\n",
       "|---|---|---|---|\n",
       "| California | 21198 | 5114 | 156361 |\n",
       "| Florida |  8277 | 4815 |  54090 |\n",
       "| Georgia |  4931 | 4091 |  58073 |\n",
       "| Illinois | 11197 | 5107 |  55748 |\n",
       "| Indiana |  5313 | 4458 |  36097 |\n",
       "| Massachusetts |  5814 | 4755 |   7826 |\n",
       "| Michigan |  9111 | 4751 |  56817 |\n",
       "| Missouri |  4767 | 4254 |  68995 |\n",
       "| New Jersey |  7333 | 5237 |   7521 |\n",
       "| New York | 18076 | 4903 |  47831 |\n",
       "| North Carolina |  5441 | 3875 |  48798 |\n",
       "| Ohio | 10735 | 4561 |  40975 |\n",
       "| Pennsylvania | 11860 | 4449 |  44966 |\n",
       "| Texas | 12237 | 4188 | 262134 |\n",
       "| Virginia |  4981 | 4701 |  39780 |\n",
       "| Wisconsin |  4589 | 4468 |  54464 |\n",
       "\n"
      ],
      "text/plain": [
       "               Population Income Area  \n",
       "California     21198      5114   156361\n",
       "Florida         8277      4815    54090\n",
       "Georgia         4931      4091    58073\n",
       "Illinois       11197      5107    55748\n",
       "Indiana         5313      4458    36097\n",
       "Massachusetts   5814      4755     7826\n",
       "Michigan        9111      4751    56817\n",
       "Missouri        4767      4254    68995\n",
       "New Jersey      7333      5237     7521\n",
       "New York       18076      4903    47831\n",
       "North Carolina  5441      3875    48798\n",
       "Ohio           10735      4561    40975\n",
       "Pennsylvania   11860      4449    44966\n",
       "Texas          12237      4188   262134\n",
       "Virginia        4981      4701    39780\n",
       "Wisconsin       4589      4468    54464"
      ]
     },
     "metadata": {},
     "output_type": "display_data"
    }
   ],
   "source": [
    "st[st['Population'] >= 4500, c(\"Population\",\"Income\",\"Area\")]"
   ]
  },
  {
   "cell_type": "code",
   "execution_count": 192,
   "id": "fa7138d8",
   "metadata": {},
   "outputs": [
    {
     "data": {
      "text/html": [
       "26"
      ],
      "text/latex": [
       "26"
      ],
      "text/markdown": [
       "26"
      ],
      "text/plain": [
       "[1] 26"
      ]
     },
     "metadata": {},
     "output_type": "display_data"
    }
   ],
   "source": [
    "nrow(st[st['Income'] >= 4500, ])"
   ]
  },
  {
   "cell_type": "code",
   "execution_count": 193,
   "id": "b09fa3e1",
   "metadata": {},
   "outputs": [
    {
     "data": {
      "text/html": [
       "<table class=\"dataframe\">\n",
       "<caption>A data.frame: 5 × 8</caption>\n",
       "<thead>\n",
       "\t<tr><th></th><th scope=col>Population</th><th scope=col>Income</th><th scope=col>Illiteracy</th><th scope=col>Life.Exp</th><th scope=col>Murder</th><th scope=col>HS.Grad</th><th scope=col>Frost</th><th scope=col>Area</th></tr>\n",
       "\t<tr><th></th><th scope=col>&lt;dbl&gt;</th><th scope=col>&lt;dbl&gt;</th><th scope=col>&lt;dbl&gt;</th><th scope=col>&lt;dbl&gt;</th><th scope=col>&lt;dbl&gt;</th><th scope=col>&lt;dbl&gt;</th><th scope=col>&lt;dbl&gt;</th><th scope=col>&lt;dbl&gt;</th></tr>\n",
       "</thead>\n",
       "<tbody>\n",
       "\t<tr><th scope=row>Alaska</th><td> 365</td><td>6315</td><td>1.5</td><td>69.31</td><td>11.3</td><td>66.7</td><td>152</td><td>566432</td></tr>\n",
       "\t<tr><th scope=row>Colorado</th><td>2541</td><td>4884</td><td>0.7</td><td>72.06</td><td> 6.8</td><td>63.9</td><td>166</td><td>103766</td></tr>\n",
       "\t<tr><th scope=row>Montana</th><td> 746</td><td>4347</td><td>0.6</td><td>70.56</td><td> 5.0</td><td>59.2</td><td>155</td><td>145587</td></tr>\n",
       "\t<tr><th scope=row>Nevada</th><td> 590</td><td>5149</td><td>0.5</td><td>69.03</td><td>11.5</td><td>65.2</td><td>188</td><td>109889</td></tr>\n",
       "\t<tr><th scope=row>New Mexico</th><td>1144</td><td>3601</td><td>2.2</td><td>70.32</td><td> 9.7</td><td>55.2</td><td>120</td><td>121412</td></tr>\n",
       "</tbody>\n",
       "</table>\n"
      ],
      "text/latex": [
       "A data.frame: 5 × 8\n",
       "\\begin{tabular}{r|llllllll}\n",
       "  & Population & Income & Illiteracy & Life.Exp & Murder & HS.Grad & Frost & Area\\\\\n",
       "  & <dbl> & <dbl> & <dbl> & <dbl> & <dbl> & <dbl> & <dbl> & <dbl>\\\\\n",
       "\\hline\n",
       "\tAlaska &  365 & 6315 & 1.5 & 69.31 & 11.3 & 66.7 & 152 & 566432\\\\\n",
       "\tColorado & 2541 & 4884 & 0.7 & 72.06 &  6.8 & 63.9 & 166 & 103766\\\\\n",
       "\tMontana &  746 & 4347 & 0.6 & 70.56 &  5.0 & 59.2 & 155 & 145587\\\\\n",
       "\tNevada &  590 & 5149 & 0.5 & 69.03 & 11.5 & 65.2 & 188 & 109889\\\\\n",
       "\tNew Mexico & 1144 & 3601 & 2.2 & 70.32 &  9.7 & 55.2 & 120 & 121412\\\\\n",
       "\\end{tabular}\n"
      ],
      "text/markdown": [
       "\n",
       "A data.frame: 5 × 8\n",
       "\n",
       "| <!--/--> | Population &lt;dbl&gt; | Income &lt;dbl&gt; | Illiteracy &lt;dbl&gt; | Life.Exp &lt;dbl&gt; | Murder &lt;dbl&gt; | HS.Grad &lt;dbl&gt; | Frost &lt;dbl&gt; | Area &lt;dbl&gt; |\n",
       "|---|---|---|---|---|---|---|---|---|\n",
       "| Alaska |  365 | 6315 | 1.5 | 69.31 | 11.3 | 66.7 | 152 | 566432 |\n",
       "| Colorado | 2541 | 4884 | 0.7 | 72.06 |  6.8 | 63.9 | 166 | 103766 |\n",
       "| Montana |  746 | 4347 | 0.6 | 70.56 |  5.0 | 59.2 | 155 | 145587 |\n",
       "| Nevada |  590 | 5149 | 0.5 | 69.03 | 11.5 | 65.2 | 188 | 109889 |\n",
       "| New Mexico | 1144 | 3601 | 2.2 | 70.32 |  9.7 | 55.2 | 120 | 121412 |\n",
       "\n"
      ],
      "text/plain": [
       "           Population Income Illiteracy Life.Exp Murder HS.Grad Frost Area  \n",
       "Alaska      365       6315   1.5        69.31    11.3   66.7    152   566432\n",
       "Colorado   2541       4884   0.7        72.06     6.8   63.9    166   103766\n",
       "Montana     746       4347   0.6        70.56     5.0   59.2    155   145587\n",
       "Nevada      590       5149   0.5        69.03    11.5   65.2    188   109889\n",
       "New Mexico 1144       3601   2.2        70.32     9.7   55.2    120   121412"
      ]
     },
     "metadata": {},
     "output_type": "display_data"
    }
   ],
   "source": [
    "st[st['Area'] >= 100000 & st['Frost'] >= 120, ]"
   ]
  },
  {
   "cell_type": "code",
   "execution_count": 194,
   "id": "5a5ed31e",
   "metadata": {},
   "outputs": [
    {
     "data": {
      "text/html": [
       "<table class=\"dataframe\">\n",
       "<caption>A data.frame: 17 × 8</caption>\n",
       "<thead>\n",
       "\t<tr><th></th><th scope=col>Population</th><th scope=col>Income</th><th scope=col>Illiteracy</th><th scope=col>Life.Exp</th><th scope=col>Murder</th><th scope=col>HS.Grad</th><th scope=col>Frost</th><th scope=col>Area</th></tr>\n",
       "\t<tr><th></th><th scope=col>&lt;dbl&gt;</th><th scope=col>&lt;dbl&gt;</th><th scope=col>&lt;dbl&gt;</th><th scope=col>&lt;dbl&gt;</th><th scope=col>&lt;dbl&gt;</th><th scope=col>&lt;dbl&gt;</th><th scope=col>&lt;dbl&gt;</th><th scope=col>&lt;dbl&gt;</th></tr>\n",
       "</thead>\n",
       "<tbody>\n",
       "\t<tr><th scope=row>Alaska</th><td> 365</td><td>6315</td><td>1.5</td><td>69.31</td><td>11.3</td><td>66.7</td><td>152</td><td>566432</td></tr>\n",
       "\t<tr><th scope=row>Delaware</th><td> 579</td><td>4809</td><td>0.9</td><td>70.06</td><td> 6.2</td><td>54.6</td><td>103</td><td>  1982</td></tr>\n",
       "\t<tr><th scope=row>Hawaii</th><td> 868</td><td>4963</td><td>1.9</td><td>73.60</td><td> 6.2</td><td>61.9</td><td>  0</td><td>  6425</td></tr>\n",
       "\t<tr><th scope=row>Idaho</th><td> 813</td><td>4119</td><td>0.6</td><td>71.87</td><td> 5.3</td><td>59.5</td><td>126</td><td> 82677</td></tr>\n",
       "\t<tr><th scope=row>Maine</th><td>1058</td><td>3694</td><td>0.7</td><td>70.39</td><td> 2.7</td><td>54.7</td><td>161</td><td> 30920</td></tr>\n",
       "\t<tr><th scope=row>Montana</th><td> 746</td><td>4347</td><td>0.6</td><td>70.56</td><td> 5.0</td><td>59.2</td><td>155</td><td>145587</td></tr>\n",
       "\t<tr><th scope=row>Nebraska</th><td>1544</td><td>4508</td><td>0.6</td><td>72.60</td><td> 2.9</td><td>59.3</td><td>139</td><td> 76483</td></tr>\n",
       "\t<tr><th scope=row>Nevada</th><td> 590</td><td>5149</td><td>0.5</td><td>69.03</td><td>11.5</td><td>65.2</td><td>188</td><td>109889</td></tr>\n",
       "\t<tr><th scope=row>New Hampshire</th><td> 812</td><td>4281</td><td>0.7</td><td>71.23</td><td> 3.3</td><td>57.6</td><td>174</td><td>  9027</td></tr>\n",
       "\t<tr><th scope=row>New Mexico</th><td>1144</td><td>3601</td><td>2.2</td><td>70.32</td><td> 9.7</td><td>55.2</td><td>120</td><td>121412</td></tr>\n",
       "\t<tr><th scope=row>North Dakota</th><td> 637</td><td>5087</td><td>0.8</td><td>72.78</td><td> 1.4</td><td>50.3</td><td>186</td><td> 69273</td></tr>\n",
       "\t<tr><th scope=row>Rhode Island</th><td> 931</td><td>4558</td><td>1.3</td><td>71.90</td><td> 2.4</td><td>46.4</td><td>127</td><td>  1049</td></tr>\n",
       "\t<tr><th scope=row>South Dakota</th><td> 681</td><td>4167</td><td>0.5</td><td>72.08</td><td> 1.7</td><td>53.3</td><td>172</td><td> 75955</td></tr>\n",
       "\t<tr><th scope=row>Utah</th><td>1203</td><td>4022</td><td>0.6</td><td>72.90</td><td> 4.5</td><td>67.3</td><td>137</td><td> 82096</td></tr>\n",
       "\t<tr><th scope=row>Vermont</th><td> 472</td><td>3907</td><td>0.6</td><td>71.64</td><td> 5.5</td><td>57.1</td><td>168</td><td>  9267</td></tr>\n",
       "\t<tr><th scope=row>West Virginia</th><td>1799</td><td>3617</td><td>1.4</td><td>69.48</td><td> 6.7</td><td>41.6</td><td>100</td><td> 24070</td></tr>\n",
       "\t<tr><th scope=row>Wyoming</th><td> 376</td><td>4566</td><td>0.6</td><td>70.29</td><td> 6.9</td><td>62.9</td><td>173</td><td> 97203</td></tr>\n",
       "</tbody>\n",
       "</table>\n"
      ],
      "text/latex": [
       "A data.frame: 17 × 8\n",
       "\\begin{tabular}{r|llllllll}\n",
       "  & Population & Income & Illiteracy & Life.Exp & Murder & HS.Grad & Frost & Area\\\\\n",
       "  & <dbl> & <dbl> & <dbl> & <dbl> & <dbl> & <dbl> & <dbl> & <dbl>\\\\\n",
       "\\hline\n",
       "\tAlaska &  365 & 6315 & 1.5 & 69.31 & 11.3 & 66.7 & 152 & 566432\\\\\n",
       "\tDelaware &  579 & 4809 & 0.9 & 70.06 &  6.2 & 54.6 & 103 &   1982\\\\\n",
       "\tHawaii &  868 & 4963 & 1.9 & 73.60 &  6.2 & 61.9 &   0 &   6425\\\\\n",
       "\tIdaho &  813 & 4119 & 0.6 & 71.87 &  5.3 & 59.5 & 126 &  82677\\\\\n",
       "\tMaine & 1058 & 3694 & 0.7 & 70.39 &  2.7 & 54.7 & 161 &  30920\\\\\n",
       "\tMontana &  746 & 4347 & 0.6 & 70.56 &  5.0 & 59.2 & 155 & 145587\\\\\n",
       "\tNebraska & 1544 & 4508 & 0.6 & 72.60 &  2.9 & 59.3 & 139 &  76483\\\\\n",
       "\tNevada &  590 & 5149 & 0.5 & 69.03 & 11.5 & 65.2 & 188 & 109889\\\\\n",
       "\tNew Hampshire &  812 & 4281 & 0.7 & 71.23 &  3.3 & 57.6 & 174 &   9027\\\\\n",
       "\tNew Mexico & 1144 & 3601 & 2.2 & 70.32 &  9.7 & 55.2 & 120 & 121412\\\\\n",
       "\tNorth Dakota &  637 & 5087 & 0.8 & 72.78 &  1.4 & 50.3 & 186 &  69273\\\\\n",
       "\tRhode Island &  931 & 4558 & 1.3 & 71.90 &  2.4 & 46.4 & 127 &   1049\\\\\n",
       "\tSouth Dakota &  681 & 4167 & 0.5 & 72.08 &  1.7 & 53.3 & 172 &  75955\\\\\n",
       "\tUtah & 1203 & 4022 & 0.6 & 72.90 &  4.5 & 67.3 & 137 &  82096\\\\\n",
       "\tVermont &  472 & 3907 & 0.6 & 71.64 &  5.5 & 57.1 & 168 &   9267\\\\\n",
       "\tWest Virginia & 1799 & 3617 & 1.4 & 69.48 &  6.7 & 41.6 & 100 &  24070\\\\\n",
       "\tWyoming &  376 & 4566 & 0.6 & 70.29 &  6.9 & 62.9 & 173 &  97203\\\\\n",
       "\\end{tabular}\n"
      ],
      "text/markdown": [
       "\n",
       "A data.frame: 17 × 8\n",
       "\n",
       "| <!--/--> | Population &lt;dbl&gt; | Income &lt;dbl&gt; | Illiteracy &lt;dbl&gt; | Life.Exp &lt;dbl&gt; | Murder &lt;dbl&gt; | HS.Grad &lt;dbl&gt; | Frost &lt;dbl&gt; | Area &lt;dbl&gt; |\n",
       "|---|---|---|---|---|---|---|---|---|\n",
       "| Alaska |  365 | 6315 | 1.5 | 69.31 | 11.3 | 66.7 | 152 | 566432 |\n",
       "| Delaware |  579 | 4809 | 0.9 | 70.06 |  6.2 | 54.6 | 103 |   1982 |\n",
       "| Hawaii |  868 | 4963 | 1.9 | 73.60 |  6.2 | 61.9 |   0 |   6425 |\n",
       "| Idaho |  813 | 4119 | 0.6 | 71.87 |  5.3 | 59.5 | 126 |  82677 |\n",
       "| Maine | 1058 | 3694 | 0.7 | 70.39 |  2.7 | 54.7 | 161 |  30920 |\n",
       "| Montana |  746 | 4347 | 0.6 | 70.56 |  5.0 | 59.2 | 155 | 145587 |\n",
       "| Nebraska | 1544 | 4508 | 0.6 | 72.60 |  2.9 | 59.3 | 139 |  76483 |\n",
       "| Nevada |  590 | 5149 | 0.5 | 69.03 | 11.5 | 65.2 | 188 | 109889 |\n",
       "| New Hampshire |  812 | 4281 | 0.7 | 71.23 |  3.3 | 57.6 | 174 |   9027 |\n",
       "| New Mexico | 1144 | 3601 | 2.2 | 70.32 |  9.7 | 55.2 | 120 | 121412 |\n",
       "| North Dakota |  637 | 5087 | 0.8 | 72.78 |  1.4 | 50.3 | 186 |  69273 |\n",
       "| Rhode Island |  931 | 4558 | 1.3 | 71.90 |  2.4 | 46.4 | 127 |   1049 |\n",
       "| South Dakota |  681 | 4167 | 0.5 | 72.08 |  1.7 | 53.3 | 172 |  75955 |\n",
       "| Utah | 1203 | 4022 | 0.6 | 72.90 |  4.5 | 67.3 | 137 |  82096 |\n",
       "| Vermont |  472 | 3907 | 0.6 | 71.64 |  5.5 | 57.1 | 168 |   9267 |\n",
       "| West Virginia | 1799 | 3617 | 1.4 | 69.48 |  6.7 | 41.6 | 100 |  24070 |\n",
       "| Wyoming |  376 | 4566 | 0.6 | 70.29 |  6.9 | 62.9 | 173 |  97203 |\n",
       "\n"
      ],
      "text/plain": [
       "              Population Income Illiteracy Life.Exp Murder HS.Grad Frost Area  \n",
       "Alaska         365       6315   1.5        69.31    11.3   66.7    152   566432\n",
       "Delaware       579       4809   0.9        70.06     6.2   54.6    103     1982\n",
       "Hawaii         868       4963   1.9        73.60     6.2   61.9      0     6425\n",
       "Idaho          813       4119   0.6        71.87     5.3   59.5    126    82677\n",
       "Maine         1058       3694   0.7        70.39     2.7   54.7    161    30920\n",
       "Montana        746       4347   0.6        70.56     5.0   59.2    155   145587\n",
       "Nebraska      1544       4508   0.6        72.60     2.9   59.3    139    76483\n",
       "Nevada         590       5149   0.5        69.03    11.5   65.2    188   109889\n",
       "New Hampshire  812       4281   0.7        71.23     3.3   57.6    174     9027\n",
       "New Mexico    1144       3601   2.2        70.32     9.7   55.2    120   121412\n",
       "North Dakota   637       5087   0.8        72.78     1.4   50.3    186    69273\n",
       "Rhode Island   931       4558   1.3        71.90     2.4   46.4    127     1049\n",
       "South Dakota   681       4167   0.5        72.08     1.7   53.3    172    75955\n",
       "Utah          1203       4022   0.6        72.90     4.5   67.3    137    82096\n",
       "Vermont        472       3907   0.6        71.64     5.5   57.1    168     9267\n",
       "West Virginia 1799       3617   1.4        69.48     6.7   41.6    100    24070\n",
       "Wyoming        376       4566   0.6        70.29     6.9   62.9    173    97203"
      ]
     },
     "metadata": {},
     "output_type": "display_data"
    }
   ],
   "source": [
    "st[st['Population'] < 2000 & st['Murder'] < 12, ]"
   ]
  },
  {
   "cell_type": "code",
   "execution_count": 198,
   "id": "b73882a3",
   "metadata": {},
   "outputs": [
    {
     "data": {
      "text/html": [
       "3615.16666666667"
      ],
      "text/latex": [
       "3615.16666666667"
      ],
      "text/markdown": [
       "3615.16666666667"
      ],
      "text/plain": [
       "[1] 3615.167"
      ]
     },
     "metadata": {},
     "output_type": "display_data"
    }
   ],
   "source": [
    "mean(st[st['Illiteracy'] > 2.0, 'Income'])"
   ]
  },
  {
   "cell_type": "code",
   "execution_count": 199,
   "id": "2fad5d89",
   "metadata": {},
   "outputs": [
    {
     "data": {
      "text/html": [
       "4558.32558139535"
      ],
      "text/latex": [
       "4558.32558139535"
      ],
      "text/markdown": [
       "4558.32558139535"
      ],
      "text/plain": [
       "[1] 4558.326"
      ]
     },
     "metadata": {},
     "output_type": "display_data"
    }
   ],
   "source": [
    "mean(st[st['Illiteracy'] < 2.0, 'Income'])"
   ]
  },
  {
   "cell_type": "code",
   "execution_count": 200,
   "id": "3b807fed",
   "metadata": {},
   "outputs": [
    {
     "data": {
      "text/html": [
       "943.158914728683"
      ],
      "text/latex": [
       "943.158914728683"
      ],
      "text/markdown": [
       "943.158914728683"
      ],
      "text/plain": [
       "[1] 943.1589"
      ]
     },
     "metadata": {},
     "output_type": "display_data"
    }
   ],
   "source": [
    "mean(st[st['Illiteracy'] < 2.0, 'Income']) - mean(st[st['Illiteracy'] > 2.0, 'Income'])"
   ]
  },
  {
   "cell_type": "code",
   "execution_count": 203,
   "id": "90d60ebf",
   "metadata": {},
   "outputs": [
    {
     "data": {
      "text/html": [
       "'Hawaii'"
      ],
      "text/latex": [
       "'Hawaii'"
      ],
      "text/markdown": [
       "'Hawaii'"
      ],
      "text/plain": [
       "[1] \"Hawaii\""
      ]
     },
     "metadata": {},
     "output_type": "display_data"
    }
   ],
   "source": [
    "rownames(st[st['Life.Exp'] == max(st['Life.Exp']), ])"
   ]
  },
  {
   "cell_type": "code",
   "execution_count": 206,
   "id": "945f7c68",
   "metadata": {},
   "outputs": [
    {
     "data": {
      "text/html": [
       "<style>\n",
       ".list-inline {list-style: none; margin:0; padding: 0}\n",
       ".list-inline>li {display: inline-block}\n",
       ".list-inline>li:not(:last-child)::after {content: \"\\00b7\"; padding: 0 .5ex}\n",
       "</style>\n",
       "<ol class=list-inline><li>'Alaska'</li><li>'Arizona'</li><li>'California'</li><li>'Colorado'</li><li>'Connecticut'</li><li>'Delaware'</li><li>'Florida'</li><li>'Hawaii'</li><li>'Illinois'</li><li>'Indiana'</li><li>'Iowa'</li><li>'Kansas'</li><li>'Maryland'</li><li>'Massachusetts'</li><li>'Michigan'</li><li>'Minnesota'</li><li>'Nebraska'</li><li>'Nevada'</li><li>'New Jersey'</li><li>'New York'</li><li>'North Dakota'</li><li>'Ohio'</li><li>'Oregon'</li><li>'Rhode Island'</li><li>'Virginia'</li><li>'Washington'</li><li>'Wisconsin'</li><li>'Wyoming'</li></ol>\n"
      ],
      "text/latex": [
       "\\begin{enumerate*}\n",
       "\\item 'Alaska'\n",
       "\\item 'Arizona'\n",
       "\\item 'California'\n",
       "\\item 'Colorado'\n",
       "\\item 'Connecticut'\n",
       "\\item 'Delaware'\n",
       "\\item 'Florida'\n",
       "\\item 'Hawaii'\n",
       "\\item 'Illinois'\n",
       "\\item 'Indiana'\n",
       "\\item 'Iowa'\n",
       "\\item 'Kansas'\n",
       "\\item 'Maryland'\n",
       "\\item 'Massachusetts'\n",
       "\\item 'Michigan'\n",
       "\\item 'Minnesota'\n",
       "\\item 'Nebraska'\n",
       "\\item 'Nevada'\n",
       "\\item 'New Jersey'\n",
       "\\item 'New York'\n",
       "\\item 'North Dakota'\n",
       "\\item 'Ohio'\n",
       "\\item 'Oregon'\n",
       "\\item 'Rhode Island'\n",
       "\\item 'Virginia'\n",
       "\\item 'Washington'\n",
       "\\item 'Wisconsin'\n",
       "\\item 'Wyoming'\n",
       "\\end{enumerate*}\n"
      ],
      "text/markdown": [
       "1. 'Alaska'\n",
       "2. 'Arizona'\n",
       "3. 'California'\n",
       "4. 'Colorado'\n",
       "5. 'Connecticut'\n",
       "6. 'Delaware'\n",
       "7. 'Florida'\n",
       "8. 'Hawaii'\n",
       "9. 'Illinois'\n",
       "10. 'Indiana'\n",
       "11. 'Iowa'\n",
       "12. 'Kansas'\n",
       "13. 'Maryland'\n",
       "14. 'Massachusetts'\n",
       "15. 'Michigan'\n",
       "16. 'Minnesota'\n",
       "17. 'Nebraska'\n",
       "18. 'Nevada'\n",
       "19. 'New Jersey'\n",
       "20. 'New York'\n",
       "21. 'North Dakota'\n",
       "22. 'Ohio'\n",
       "23. 'Oregon'\n",
       "24. 'Rhode Island'\n",
       "25. 'Virginia'\n",
       "26. 'Washington'\n",
       "27. 'Wisconsin'\n",
       "28. 'Wyoming'\n",
       "\n",
       "\n"
      ],
      "text/plain": [
       " [1] \"Alaska\"        \"Arizona\"       \"California\"    \"Colorado\"     \n",
       " [5] \"Connecticut\"   \"Delaware\"      \"Florida\"       \"Hawaii\"       \n",
       " [9] \"Illinois\"      \"Indiana\"       \"Iowa\"          \"Kansas\"       \n",
       "[13] \"Maryland\"      \"Massachusetts\" \"Michigan\"      \"Minnesota\"    \n",
       "[17] \"Nebraska\"      \"Nevada\"        \"New Jersey\"    \"New York\"     \n",
       "[21] \"North Dakota\"  \"Ohio\"          \"Oregon\"        \"Rhode Island\" \n",
       "[25] \"Virginia\"      \"Washington\"    \"Wisconsin\"     \"Wyoming\"      "
      ]
     },
     "metadata": {},
     "output_type": "display_data"
    }
   ],
   "source": [
    "rownames(st[st['Income'] > st['Pennsylvania','Income'], ])"
   ]
  },
  {
   "cell_type": "code",
   "execution_count": 210,
   "id": "38fe5d09",
   "metadata": {},
   "outputs": [
    {
     "data": {
      "text/html": [
       "100"
      ],
      "text/latex": [
       "100"
      ],
      "text/markdown": [
       "100"
      ],
      "text/plain": [
       "[1] 100"
      ]
     },
     "metadata": {},
     "output_type": "display_data"
    },
    {
     "data": {
      "text/html": [
       "'A'"
      ],
      "text/latex": [
       "'A'"
      ],
      "text/markdown": [
       "'A'"
      ],
      "text/plain": [
       "[1] \"A\""
      ]
     },
     "metadata": {},
     "output_type": "display_data"
    }
   ],
   "source": [
    "grade <- 100\n",
    "if(grade > 90){\n",
    "    total <- 'A'\n",
    "}else if(grade > 80){\n",
    "    total <- 'B'\n",
    "}else if(grade > 70){\n",
    "    total <- 'C'\n",
    "}else if(grade > 60){\n",
    "    total <- 'D'\n",
    "}else{\n",
    "    total <- 'F'\n",
    "}\n",
    "grade\n",
    "total"
   ]
  },
  {
   "cell_type": "code",
   "execution_count": 211,
   "id": "213662a9",
   "metadata": {},
   "outputs": [],
   "source": [
    "post <- list(userid=\"layla\", postid=\"n199921LT_AcademiaLA\", view=99999, image=FALSE, like=c(\"Riden\", \"Focalors\", \"nigging\", \"zhongri\"))\n"
   ]
  },
  {
   "cell_type": "code",
   "execution_count": 212,
   "id": "20c2db7a",
   "metadata": {},
   "outputs": [
    {
     "data": {
      "text/html": [
       "<dl>\n",
       "\t<dt>$userid</dt>\n",
       "\t\t<dd>'layla'</dd>\n",
       "\t<dt>$postid</dt>\n",
       "\t\t<dd>'n199921LT_AcademiaLA'</dd>\n",
       "\t<dt>$view</dt>\n",
       "\t\t<dd>99999</dd>\n",
       "\t<dt>$image</dt>\n",
       "\t\t<dd>FALSE</dd>\n",
       "\t<dt>$like</dt>\n",
       "\t\t<dd><style>\n",
       ".list-inline {list-style: none; margin:0; padding: 0}\n",
       ".list-inline>li {display: inline-block}\n",
       ".list-inline>li:not(:last-child)::after {content: \"\\00b7\"; padding: 0 .5ex}\n",
       "</style>\n",
       "<ol class=list-inline><li>'Riden'</li><li>'Focalors'</li><li>'nigging'</li><li>'zhongri'</li></ol>\n",
       "</dd>\n",
       "</dl>\n"
      ],
      "text/latex": [
       "\\begin{description}\n",
       "\\item[\\$userid] 'layla'\n",
       "\\item[\\$postid] 'n199921LT\\_AcademiaLA'\n",
       "\\item[\\$view] 99999\n",
       "\\item[\\$image] FALSE\n",
       "\\item[\\$like] \\begin{enumerate*}\n",
       "\\item 'Riden'\n",
       "\\item 'Focalors'\n",
       "\\item 'nigging'\n",
       "\\item 'zhongri'\n",
       "\\end{enumerate*}\n",
       "\n",
       "\\end{description}\n"
      ],
      "text/markdown": [
       "$userid\n",
       ":   'layla'\n",
       "$postid\n",
       ":   'n199921LT_AcademiaLA'\n",
       "$view\n",
       ":   99999\n",
       "$image\n",
       ":   FALSE\n",
       "$like\n",
       ":   1. 'Riden'\n",
       "2. 'Focalors'\n",
       "3. 'nigging'\n",
       "4. 'zhongri'\n",
       "\n",
       "\n",
       "\n",
       "\n",
       "\n"
      ],
      "text/plain": [
       "$userid\n",
       "[1] \"layla\"\n",
       "\n",
       "$postid\n",
       "[1] \"n199921LT_AcademiaLA\"\n",
       "\n",
       "$view\n",
       "[1] 99999\n",
       "\n",
       "$image\n",
       "[1] FALSE\n",
       "\n",
       "$like\n",
       "[1] \"Riden\"    \"Focalors\" \"nigging\"  \"zhongri\" \n"
      ]
     },
     "metadata": {},
     "output_type": "display_data"
    }
   ],
   "source": [
    "post"
   ]
  },
  {
   "cell_type": "code",
   "execution_count": 213,
   "id": "8870447a",
   "metadata": {},
   "outputs": [
    {
     "data": {
      "text/html": [
       "'layla'"
      ],
      "text/latex": [
       "'layla'"
      ],
      "text/markdown": [
       "'layla'"
      ],
      "text/plain": [
       "[1] \"layla\""
      ]
     },
     "metadata": {},
     "output_type": "display_data"
    }
   ],
   "source": [
    "post$userid"
   ]
  },
  {
   "cell_type": "code",
   "execution_count": 214,
   "id": "d2e8f681",
   "metadata": {},
   "outputs": [
    {
     "data": {
      "text/html": [
       "<style>\n",
       ".list-inline {list-style: none; margin:0; padding: 0}\n",
       ".list-inline>li {display: inline-block}\n",
       ".list-inline>li:not(:last-child)::after {content: \"\\00b7\"; padding: 0 .5ex}\n",
       "</style>\n",
       "<ol class=list-inline><li>'Riden'</li><li>'Focalors'</li><li>'nigging'</li><li>'zhongri'</li></ol>\n"
      ],
      "text/latex": [
       "\\begin{enumerate*}\n",
       "\\item 'Riden'\n",
       "\\item 'Focalors'\n",
       "\\item 'nigging'\n",
       "\\item 'zhongri'\n",
       "\\end{enumerate*}\n"
      ],
      "text/markdown": [
       "1. 'Riden'\n",
       "2. 'Focalors'\n",
       "3. 'nigging'\n",
       "4. 'zhongri'\n",
       "\n",
       "\n"
      ],
      "text/plain": [
       "[1] \"Riden\"    \"Focalors\" \"nigging\"  \"zhongri\" "
      ]
     },
     "metadata": {},
     "output_type": "display_data"
    }
   ],
   "source": [
    "post$like"
   ]
  }
 ],
 "metadata": {
  "kernelspec": {
   "display_name": "R",
   "language": "R",
   "name": "ir"
  },
  "language_info": {
   "codemirror_mode": "r",
   "file_extension": ".r",
   "mimetype": "text/x-r-source",
   "name": "R",
   "pygments_lexer": "r",
   "version": "4.3.1"
  }
 },
 "nbformat": 4,
 "nbformat_minor": 5
}
