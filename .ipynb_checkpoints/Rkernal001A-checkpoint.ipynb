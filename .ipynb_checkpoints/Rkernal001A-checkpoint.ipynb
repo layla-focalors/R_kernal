{
 "cells": [
  {
   "cell_type": "code",
   "execution_count": 3,
   "id": "516e3a64",
   "metadata": {},
   "outputs": [
    {
     "data": {
      "text/html": [
       "124"
      ],
      "text/latex": [
       "124"
      ],
      "text/markdown": [
       "124"
      ],
      "text/plain": [
       "[1] 124"
      ]
     },
     "metadata": {},
     "output_type": "display_data"
    },
    {
     "data": {
      "text/html": [
       "333"
      ],
      "text/latex": [
       "333"
      ],
      "text/markdown": [
       "333"
      ],
      "text/plain": [
       "[1] 333"
      ]
     },
     "metadata": {},
     "output_type": "display_data"
    },
    {
     "data": {
      "text/html": [
       "14"
      ],
      "text/latex": [
       "14"
      ],
      "text/markdown": [
       "14"
      ],
      "text/plain": [
       "[1] 14"
      ]
     },
     "metadata": {},
     "output_type": "display_data"
    },
    {
     "data": {
      "text/html": [
       "4.71428571428571"
      ],
      "text/latex": [
       "4.71428571428571"
      ],
      "text/markdown": [
       "4.71428571428571"
      ],
      "text/plain": [
       "[1] 4.714286"
      ]
     },
     "metadata": {},
     "output_type": "display_data"
    },
    {
     "data": {
      "text/html": [
       "9"
      ],
      "text/latex": [
       "9"
      ],
      "text/markdown": [
       "9"
      ],
      "text/plain": [
       "[1] 9"
      ]
     },
     "metadata": {},
     "output_type": "display_data"
    },
    {
     "data": {
      "text/html": [
       "245"
      ],
      "text/latex": [
       "245"
      ],
      "text/markdown": [
       "245"
      ],
      "text/plain": [
       "[1] 245"
      ]
     },
     "metadata": {},
     "output_type": "display_data"
    },
    {
     "data": {
      "text/html": [
       "3"
      ],
      "text/latex": [
       "3"
      ],
      "text/markdown": [
       "3"
      ],
      "text/plain": [
       "[1] 3"
      ]
     },
     "metadata": {},
     "output_type": "display_data"
    },
    {
     "data": {
      "text/html": [
       "4"
      ],
      "text/latex": [
       "4"
      ],
      "text/markdown": [
       "4"
      ],
      "text/plain": [
       "[1] 4"
      ]
     },
     "metadata": {},
     "output_type": "display_data"
    },
    {
     "data": {
      "text/html": [
       "82.3333333333333"
      ],
      "text/latex": [
       "82.3333333333333"
      ],
      "text/markdown": [
       "82.3333333333333"
      ],
      "text/plain": [
       "[1] 82.33333"
      ]
     },
     "metadata": {},
     "output_type": "display_data"
    },
    {
     "data": {
      "text/html": [
       "-144"
      ],
      "text/latex": [
       "-144"
      ],
      "text/markdown": [
       "-144"
      ],
      "text/plain": [
       "[1] -144"
      ]
     },
     "metadata": {},
     "output_type": "display_data"
    }
   ],
   "source": [
    "25 + 99\n",
    "456-123\n",
    "2*(3+4)\n",
    "(3+5*6)/7\n",
    "(7-4)*3\n",
    "210+ 35\n",
    "1256 %% 7\n",
    "184 %% 5\n",
    "1976/24\n",
    "16*25+186*5-67*22"
   ]
  },
  {
   "cell_type": "code",
   "execution_count": 4,
   "id": "c29ed2b2",
   "metadata": {},
   "outputs": [
    {
     "data": {
      "text/html": [
       "9"
      ],
      "text/latex": [
       "9"
      ],
      "text/markdown": [
       "9"
      ],
      "text/plain": [
       "[1] 9"
      ]
     },
     "metadata": {},
     "output_type": "display_data"
    }
   ],
   "source": [
    "a <- 4\n",
    "b <- 5\n",
    "c <- a + b\n",
    "c"
   ]
  },
  {
   "cell_type": "code",
   "execution_count": 9,
   "id": "599746c2",
   "metadata": {},
   "outputs": [
    {
     "name": "stdout",
     "output_type": "stream",
     "text": [
      "반지름이  10 인 원의 면적 :  314 \n",
      "반지름이  12 인 원의 면적 :  452.16 \n",
      "반지름이  15 인 원의 면적 :  706.5 \n"
     ]
    }
   ],
   "source": [
    "pi <- 3.14\n",
    "l <- c(10, 12, 15)\n",
    "for(i in 1:3){\n",
    "    cat(\"반지름이 \",l[i],\"인 원의 면적 : \",pi*l[i]^2,\"\\n\")\n",
    "}"
   ]
  },
  {
   "cell_type": "code",
   "execution_count": 12,
   "id": "9adc8790",
   "metadata": {},
   "outputs": [
    {
     "name": "stdout",
     "output_type": "stream",
     "text": [
      "y = 2x^2 + 5x + 10 : x =  6 y의 값 :  112 \n",
      "y = 2x^2 + 5x + 10 : x =  8 y의 값 :  178 \n",
      "y = 2x^2 + 5x + 10 : x =  10 y의 값 :  260 \n"
     ]
    }
   ],
   "source": [
    "lm <- c(6, 8, 10)\n",
    "for(i in 1:length(lm)){\n",
    "    cat(\"y = 2x^2 + 5x + 10 : x = \", lm[i], \"y의 값 : \", 2*(lm[i]^2) + (5 * lm[i]) + 10, \"\\n\")\n",
    "}"
   ]
  },
  {
   "cell_type": "code",
   "execution_count": 14,
   "id": "2edf1c0d",
   "metadata": {},
   "outputs": [
    {
     "data": {
      "text/html": [
       "10"
      ],
      "text/latex": [
       "10"
      ],
      "text/markdown": [
       "10"
      ],
      "text/plain": [
       "[1] 10"
      ]
     },
     "metadata": {},
     "output_type": "display_data"
    }
   ],
   "source": [
    "val.a <- 10\n",
    "val.b <- 0\n",
    "val.ab <- val.a + val.b\n",
    "val.ab"
   ]
  },
  {
   "cell_type": "code",
   "execution_count": 15,
   "id": "b1260b3b",
   "metadata": {},
   "outputs": [
    {
     "data": {
      "text/html": [
       "<style>\n",
       ".list-inline {list-style: none; margin:0; padding: 0}\n",
       ".list-inline>li {display: inline-block}\n",
       ".list-inline>li:not(:last-child)::after {content: \"\\00b7\"; padding: 0 .5ex}\n",
       "</style>\n",
       "<ol class=list-inline><li>95</li><li>86</li><li>47</li><li>55</li><li>68</li></ol>\n"
      ],
      "text/latex": [
       "\\begin{enumerate*}\n",
       "\\item 95\n",
       "\\item 86\n",
       "\\item 47\n",
       "\\item 55\n",
       "\\item 68\n",
       "\\end{enumerate*}\n"
      ],
      "text/markdown": [
       "1. 95\n",
       "2. 86\n",
       "3. 47\n",
       "4. 55\n",
       "5. 68\n",
       "\n",
       "\n"
      ],
      "text/plain": [
       "[1] 95 86 47 55 68"
      ]
     },
     "metadata": {},
     "output_type": "display_data"
    }
   ],
   "source": [
    "vc.1 <- c(95, 86, 47, 55, 68)\n",
    "vc.1"
   ]
  },
  {
   "cell_type": "code",
   "execution_count": 16,
   "id": "9c9e1d6e",
   "metadata": {},
   "outputs": [
    {
     "data": {
      "text/html": [
       "<style>\n",
       ".list-inline {list-style: none; margin:0; padding: 0}\n",
       ".list-inline>li {display: inline-block}\n",
       ".list-inline>li:not(:last-child)::after {content: \"\\00b7\"; padding: 0 .5ex}\n",
       "</style>\n",
       "<ol class=list-inline><li>100</li><li>102</li><li>104</li><li>106</li><li>108</li><li>110</li><li>112</li><li>114</li><li>116</li><li>118</li><li>120</li><li>122</li><li>124</li><li>126</li><li>128</li><li>130</li><li>132</li><li>134</li><li>136</li><li>138</li><li>140</li><li>142</li><li>144</li><li>146</li><li>148</li><li>150</li><li>152</li><li>154</li><li>156</li><li>158</li><li>160</li><li>162</li><li>164</li><li>166</li><li>168</li><li>170</li><li>172</li><li>174</li><li>176</li><li>178</li><li>180</li><li>182</li><li>184</li><li>186</li><li>188</li><li>190</li><li>192</li><li>194</li><li>196</li><li>198</li><li>200</li></ol>\n"
      ],
      "text/latex": [
       "\\begin{enumerate*}\n",
       "\\item 100\n",
       "\\item 102\n",
       "\\item 104\n",
       "\\item 106\n",
       "\\item 108\n",
       "\\item 110\n",
       "\\item 112\n",
       "\\item 114\n",
       "\\item 116\n",
       "\\item 118\n",
       "\\item 120\n",
       "\\item 122\n",
       "\\item 124\n",
       "\\item 126\n",
       "\\item 128\n",
       "\\item 130\n",
       "\\item 132\n",
       "\\item 134\n",
       "\\item 136\n",
       "\\item 138\n",
       "\\item 140\n",
       "\\item 142\n",
       "\\item 144\n",
       "\\item 146\n",
       "\\item 148\n",
       "\\item 150\n",
       "\\item 152\n",
       "\\item 154\n",
       "\\item 156\n",
       "\\item 158\n",
       "\\item 160\n",
       "\\item 162\n",
       "\\item 164\n",
       "\\item 166\n",
       "\\item 168\n",
       "\\item 170\n",
       "\\item 172\n",
       "\\item 174\n",
       "\\item 176\n",
       "\\item 178\n",
       "\\item 180\n",
       "\\item 182\n",
       "\\item 184\n",
       "\\item 186\n",
       "\\item 188\n",
       "\\item 190\n",
       "\\item 192\n",
       "\\item 194\n",
       "\\item 196\n",
       "\\item 198\n",
       "\\item 200\n",
       "\\end{enumerate*}\n"
      ],
      "text/markdown": [
       "1. 100\n",
       "2. 102\n",
       "3. 104\n",
       "4. 106\n",
       "5. 108\n",
       "6. 110\n",
       "7. 112\n",
       "8. 114\n",
       "9. 116\n",
       "10. 118\n",
       "11. 120\n",
       "12. 122\n",
       "13. 124\n",
       "14. 126\n",
       "15. 128\n",
       "16. 130\n",
       "17. 132\n",
       "18. 134\n",
       "19. 136\n",
       "20. 138\n",
       "21. 140\n",
       "22. 142\n",
       "23. 144\n",
       "24. 146\n",
       "25. 148\n",
       "26. 150\n",
       "27. 152\n",
       "28. 154\n",
       "29. 156\n",
       "30. 158\n",
       "31. 160\n",
       "32. 162\n",
       "33. 164\n",
       "34. 166\n",
       "35. 168\n",
       "36. 170\n",
       "37. 172\n",
       "38. 174\n",
       "39. 176\n",
       "40. 178\n",
       "41. 180\n",
       "42. 182\n",
       "43. 184\n",
       "44. 186\n",
       "45. 188\n",
       "46. 190\n",
       "47. 192\n",
       "48. 194\n",
       "49. 196\n",
       "50. 198\n",
       "51. 200\n",
       "\n",
       "\n"
      ],
      "text/plain": [
       " [1] 100 102 104 106 108 110 112 114 116 118 120 122 124 126 128 130 132 134 136\n",
       "[20] 138 140 142 144 146 148 150 152 154 156 158 160 162 164 166 168 170 172 174\n",
       "[39] 176 178 180 182 184 186 188 190 192 194 196 198 200"
      ]
     },
     "metadata": {},
     "output_type": "display_data"
    }
   ],
   "source": [
    "vc.2 <- seq(100, 200, 2)\n",
    "vc.2"
   ]
  },
  {
   "cell_type": "code",
   "execution_count": 17,
   "id": "6dd7ea27",
   "metadata": {},
   "outputs": [
    {
     "data": {
      "text/html": [
       "<style>\n",
       ".list-inline {list-style: none; margin:0; padding: 0}\n",
       ".list-inline>li {display: inline-block}\n",
       ".list-inline>li:not(:last-child)::after {content: \"\\00b7\"; padding: 0 .5ex}\n",
       "</style>\n",
       "<ol class=list-inline><li>TRUE</li><li>TRUE</li><li>TRUE</li><li>TRUE</li><li>TRUE</li><li>TRUE</li><li>TRUE</li><li>TRUE</li><li>TRUE</li><li>TRUE</li><li>TRUE</li><li>TRUE</li><li>TRUE</li><li>TRUE</li><li>TRUE</li><li>TRUE</li><li>TRUE</li><li>TRUE</li><li>TRUE</li><li>TRUE</li></ol>\n"
      ],
      "text/latex": [
       "\\begin{enumerate*}\n",
       "\\item TRUE\n",
       "\\item TRUE\n",
       "\\item TRUE\n",
       "\\item TRUE\n",
       "\\item TRUE\n",
       "\\item TRUE\n",
       "\\item TRUE\n",
       "\\item TRUE\n",
       "\\item TRUE\n",
       "\\item TRUE\n",
       "\\item TRUE\n",
       "\\item TRUE\n",
       "\\item TRUE\n",
       "\\item TRUE\n",
       "\\item TRUE\n",
       "\\item TRUE\n",
       "\\item TRUE\n",
       "\\item TRUE\n",
       "\\item TRUE\n",
       "\\item TRUE\n",
       "\\end{enumerate*}\n"
      ],
      "text/markdown": [
       "1. TRUE\n",
       "2. TRUE\n",
       "3. TRUE\n",
       "4. TRUE\n",
       "5. TRUE\n",
       "6. TRUE\n",
       "7. TRUE\n",
       "8. TRUE\n",
       "9. TRUE\n",
       "10. TRUE\n",
       "11. TRUE\n",
       "12. TRUE\n",
       "13. TRUE\n",
       "14. TRUE\n",
       "15. TRUE\n",
       "16. TRUE\n",
       "17. TRUE\n",
       "18. TRUE\n",
       "19. TRUE\n",
       "20. TRUE\n",
       "\n",
       "\n"
      ],
      "text/plain": [
       " [1] TRUE TRUE TRUE TRUE TRUE TRUE TRUE TRUE TRUE TRUE TRUE TRUE TRUE TRUE TRUE\n",
       "[16] TRUE TRUE TRUE TRUE TRUE"
      ]
     },
     "metadata": {},
     "output_type": "display_data"
    }
   ],
   "source": [
    "vc.3 <- rep(TRUE, 20)\n",
    "vc.3"
   ]
  },
  {
   "cell_type": "code",
   "execution_count": 18,
   "id": "0416bd4c",
   "metadata": {},
   "outputs": [
    {
     "data": {
      "text/html": [
       "109"
      ],
      "text/latex": [
       "109"
      ],
      "text/markdown": [
       "109"
      ],
      "text/plain": [
       "[1] 109"
      ]
     },
     "metadata": {},
     "output_type": "display_data"
    },
    {
     "data": {
      "text/html": [
       "<style>\n",
       ".list-inline {list-style: none; margin:0; padding: 0}\n",
       ".list-inline>li {display: inline-block}\n",
       ".list-inline>li:not(:last-child)::after {content: \"\\00b7\"; padding: 0 .5ex}\n",
       "</style>\n",
       "<ol class=list-inline><li>190</li><li>191</li><li>192</li><li>193</li><li>194</li><li>195</li><li>196</li><li>197</li><li>198</li><li>199</li></ol>\n"
      ],
      "text/latex": [
       "\\begin{enumerate*}\n",
       "\\item 190\n",
       "\\item 191\n",
       "\\item 192\n",
       "\\item 193\n",
       "\\item 194\n",
       "\\item 195\n",
       "\\item 196\n",
       "\\item 197\n",
       "\\item 198\n",
       "\\item 199\n",
       "\\end{enumerate*}\n"
      ],
      "text/markdown": [
       "1. 190\n",
       "2. 191\n",
       "3. 192\n",
       "4. 193\n",
       "5. 194\n",
       "6. 195\n",
       "7. 196\n",
       "8. 197\n",
       "9. 198\n",
       "10. 199\n",
       "\n",
       "\n"
      ],
      "text/plain": [
       " [1] 190 191 192 193 194 195 196 197 198 199"
      ]
     },
     "metadata": {},
     "output_type": "display_data"
    }
   ],
   "source": [
    "d <- 100:200\n",
    "d[10]\n",
    "d[91:100]"
   ]
  },
  {
   "cell_type": "code",
   "execution_count": 19,
   "id": "72ff228d",
   "metadata": {},
   "outputs": [
    {
     "data": {
      "text/html": [
       "<style>\n",
       ".list-inline {list-style: none; margin:0; padding: 0}\n",
       ".list-inline>li {display: inline-block}\n",
       ".list-inline>li:not(:last-child)::after {content: \"\\00b7\"; padding: 0 .5ex}\n",
       "</style>\n",
       "<ol class=list-inline><li>101</li><li>103</li><li>105</li><li>107</li><li>109</li><li>111</li><li>113</li><li>115</li><li>117</li><li>119</li><li>121</li><li>123</li><li>125</li><li>127</li><li>129</li><li>131</li><li>133</li><li>135</li><li>137</li><li>139</li><li>141</li><li>143</li><li>145</li><li>147</li><li>149</li><li>151</li><li>153</li><li>155</li><li>157</li><li>159</li><li>161</li><li>163</li><li>165</li><li>167</li><li>169</li><li>171</li><li>173</li><li>175</li><li>177</li><li>179</li><li>181</li><li>183</li><li>185</li><li>187</li><li>189</li><li>191</li><li>193</li><li>195</li><li>197</li><li>199</li></ol>\n"
      ],
      "text/latex": [
       "\\begin{enumerate*}\n",
       "\\item 101\n",
       "\\item 103\n",
       "\\item 105\n",
       "\\item 107\n",
       "\\item 109\n",
       "\\item 111\n",
       "\\item 113\n",
       "\\item 115\n",
       "\\item 117\n",
       "\\item 119\n",
       "\\item 121\n",
       "\\item 123\n",
       "\\item 125\n",
       "\\item 127\n",
       "\\item 129\n",
       "\\item 131\n",
       "\\item 133\n",
       "\\item 135\n",
       "\\item 137\n",
       "\\item 139\n",
       "\\item 141\n",
       "\\item 143\n",
       "\\item 145\n",
       "\\item 147\n",
       "\\item 149\n",
       "\\item 151\n",
       "\\item 153\n",
       "\\item 155\n",
       "\\item 157\n",
       "\\item 159\n",
       "\\item 161\n",
       "\\item 163\n",
       "\\item 165\n",
       "\\item 167\n",
       "\\item 169\n",
       "\\item 171\n",
       "\\item 173\n",
       "\\item 175\n",
       "\\item 177\n",
       "\\item 179\n",
       "\\item 181\n",
       "\\item 183\n",
       "\\item 185\n",
       "\\item 187\n",
       "\\item 189\n",
       "\\item 191\n",
       "\\item 193\n",
       "\\item 195\n",
       "\\item 197\n",
       "\\item 199\n",
       "\\end{enumerate*}\n"
      ],
      "text/markdown": [
       "1. 101\n",
       "2. 103\n",
       "3. 105\n",
       "4. 107\n",
       "5. 109\n",
       "6. 111\n",
       "7. 113\n",
       "8. 115\n",
       "9. 117\n",
       "10. 119\n",
       "11. 121\n",
       "12. 123\n",
       "13. 125\n",
       "14. 127\n",
       "15. 129\n",
       "16. 131\n",
       "17. 133\n",
       "18. 135\n",
       "19. 137\n",
       "20. 139\n",
       "21. 141\n",
       "22. 143\n",
       "23. 145\n",
       "24. 147\n",
       "25. 149\n",
       "26. 151\n",
       "27. 153\n",
       "28. 155\n",
       "29. 157\n",
       "30. 159\n",
       "31. 161\n",
       "32. 163\n",
       "33. 165\n",
       "34. 167\n",
       "35. 169\n",
       "36. 171\n",
       "37. 173\n",
       "38. 175\n",
       "39. 177\n",
       "40. 179\n",
       "41. 181\n",
       "42. 183\n",
       "43. 185\n",
       "44. 187\n",
       "45. 189\n",
       "46. 191\n",
       "47. 193\n",
       "48. 195\n",
       "49. 197\n",
       "50. 199\n",
       "\n",
       "\n"
      ],
      "text/plain": [
       " [1] 101 103 105 107 109 111 113 115 117 119 121 123 125 127 129 131 133 135 137\n",
       "[20] 139 141 143 145 147 149 151 153 155 157 159 161 163 165 167 169 171 173 175\n",
       "[39] 177 179 181 183 185 187 189 191 193 195 197 199"
      ]
     },
     "metadata": {},
     "output_type": "display_data"
    }
   ],
   "source": [
    "d[d%%2 == 1]"
   ]
  },
  {
   "cell_type": "code",
   "execution_count": 20,
   "id": "b42e8cf7",
   "metadata": {},
   "outputs": [
    {
     "data": {
      "text/html": [
       "<style>\n",
       ".list-inline {list-style: none; margin:0; padding: 0}\n",
       ".list-inline>li {display: inline-block}\n",
       ".list-inline>li:not(:last-child)::after {content: \"\\00b7\"; padding: 0 .5ex}\n",
       "</style>\n",
       "<ol class=list-inline><li>102</li><li>105</li><li>108</li><li>111</li><li>114</li><li>117</li><li>120</li><li>123</li><li>126</li><li>129</li><li>132</li><li>135</li><li>138</li><li>141</li><li>144</li><li>147</li><li>150</li><li>153</li><li>156</li><li>159</li><li>162</li><li>165</li><li>168</li><li>171</li><li>174</li><li>177</li><li>180</li><li>183</li><li>186</li><li>189</li><li>192</li><li>195</li><li>198</li></ol>\n"
      ],
      "text/latex": [
       "\\begin{enumerate*}\n",
       "\\item 102\n",
       "\\item 105\n",
       "\\item 108\n",
       "\\item 111\n",
       "\\item 114\n",
       "\\item 117\n",
       "\\item 120\n",
       "\\item 123\n",
       "\\item 126\n",
       "\\item 129\n",
       "\\item 132\n",
       "\\item 135\n",
       "\\item 138\n",
       "\\item 141\n",
       "\\item 144\n",
       "\\item 147\n",
       "\\item 150\n",
       "\\item 153\n",
       "\\item 156\n",
       "\\item 159\n",
       "\\item 162\n",
       "\\item 165\n",
       "\\item 168\n",
       "\\item 171\n",
       "\\item 174\n",
       "\\item 177\n",
       "\\item 180\n",
       "\\item 183\n",
       "\\item 186\n",
       "\\item 189\n",
       "\\item 192\n",
       "\\item 195\n",
       "\\item 198\n",
       "\\end{enumerate*}\n"
      ],
      "text/markdown": [
       "1. 102\n",
       "2. 105\n",
       "3. 108\n",
       "4. 111\n",
       "5. 114\n",
       "6. 117\n",
       "7. 120\n",
       "8. 123\n",
       "9. 126\n",
       "10. 129\n",
       "11. 132\n",
       "12. 135\n",
       "13. 138\n",
       "14. 141\n",
       "15. 144\n",
       "16. 147\n",
       "17. 150\n",
       "18. 153\n",
       "19. 156\n",
       "20. 159\n",
       "21. 162\n",
       "22. 165\n",
       "23. 168\n",
       "24. 171\n",
       "25. 174\n",
       "26. 177\n",
       "27. 180\n",
       "28. 183\n",
       "29. 186\n",
       "30. 189\n",
       "31. 192\n",
       "32. 195\n",
       "33. 198\n",
       "\n",
       "\n"
      ],
      "text/plain": [
       " [1] 102 105 108 111 114 117 120 123 126 129 132 135 138 141 144 147 150 153 156\n",
       "[20] 159 162 165 168 171 174 177 180 183 186 189 192 195 198"
      ]
     },
     "metadata": {},
     "output_type": "display_data"
    }
   ],
   "source": [
    "d[d%%3 == 0]"
   ]
  },
  {
   "cell_type": "code",
   "execution_count": 22,
   "id": "cda7609e",
   "metadata": {},
   "outputs": [
    {
     "data": {
      "text/html": [
       "<style>\n",
       ".list-inline {list-style: none; margin:0; padding: 0}\n",
       ".list-inline>li {display: inline-block}\n",
       ".list-inline>li:not(:last-child)::after {content: \"\\00b7\"; padding: 0 .5ex}\n",
       "</style>\n",
       "<ol class=list-inline><li>100</li><li>101</li><li>102</li><li>103</li><li>104</li><li>105</li><li>106</li><li>107</li><li>108</li><li>109</li><li>110</li><li>111</li><li>112</li><li>113</li><li>114</li><li>115</li><li>116</li><li>117</li><li>118</li><li>119</li></ol>\n"
      ],
      "text/latex": [
       "\\begin{enumerate*}\n",
       "\\item 100\n",
       "\\item 101\n",
       "\\item 102\n",
       "\\item 103\n",
       "\\item 104\n",
       "\\item 105\n",
       "\\item 106\n",
       "\\item 107\n",
       "\\item 108\n",
       "\\item 109\n",
       "\\item 110\n",
       "\\item 111\n",
       "\\item 112\n",
       "\\item 113\n",
       "\\item 114\n",
       "\\item 115\n",
       "\\item 116\n",
       "\\item 117\n",
       "\\item 118\n",
       "\\item 119\n",
       "\\end{enumerate*}\n"
      ],
      "text/markdown": [
       "1. 100\n",
       "2. 101\n",
       "3. 102\n",
       "4. 103\n",
       "5. 104\n",
       "6. 105\n",
       "7. 106\n",
       "8. 107\n",
       "9. 108\n",
       "10. 109\n",
       "11. 110\n",
       "12. 111\n",
       "13. 112\n",
       "14. 113\n",
       "15. 114\n",
       "16. 115\n",
       "17. 116\n",
       "18. 117\n",
       "19. 118\n",
       "20. 119\n",
       "\n",
       "\n"
      ],
      "text/plain": [
       " [1] 100 101 102 103 104 105 106 107 108 109 110 111 112 113 114 115 116 117 118\n",
       "[20] 119"
      ]
     },
     "metadata": {},
     "output_type": "display_data"
    }
   ],
   "source": [
    "d.20 <- d[1:20]\n",
    "d.20"
   ]
  },
  {
   "cell_type": "code",
   "execution_count": 23,
   "id": "6f55249b",
   "metadata": {},
   "outputs": [
    {
     "data": {
      "text/html": [
       "<style>\n",
       ".list-inline {list-style: none; margin:0; padding: 0}\n",
       ".list-inline>li {display: inline-block}\n",
       ".list-inline>li:not(:last-child)::after {content: \"\\00b7\"; padding: 0 .5ex}\n",
       "</style>\n",
       "<ol class=list-inline><li>100</li><li>101</li><li>102</li><li>103</li><li>105</li><li>106</li><li>107</li><li>108</li><li>109</li><li>110</li><li>111</li><li>112</li><li>113</li><li>114</li><li>115</li><li>116</li><li>117</li><li>118</li><li>119</li></ol>\n"
      ],
      "text/latex": [
       "\\begin{enumerate*}\n",
       "\\item 100\n",
       "\\item 101\n",
       "\\item 102\n",
       "\\item 103\n",
       "\\item 105\n",
       "\\item 106\n",
       "\\item 107\n",
       "\\item 108\n",
       "\\item 109\n",
       "\\item 110\n",
       "\\item 111\n",
       "\\item 112\n",
       "\\item 113\n",
       "\\item 114\n",
       "\\item 115\n",
       "\\item 116\n",
       "\\item 117\n",
       "\\item 118\n",
       "\\item 119\n",
       "\\end{enumerate*}\n"
      ],
      "text/markdown": [
       "1. 100\n",
       "2. 101\n",
       "3. 102\n",
       "4. 103\n",
       "5. 105\n",
       "6. 106\n",
       "7. 107\n",
       "8. 108\n",
       "9. 109\n",
       "10. 110\n",
       "11. 111\n",
       "12. 112\n",
       "13. 113\n",
       "14. 114\n",
       "15. 115\n",
       "16. 116\n",
       "17. 117\n",
       "18. 118\n",
       "19. 119\n",
       "\n",
       "\n"
      ],
      "text/plain": [
       " [1] 100 101 102 103 105 106 107 108 109 110 111 112 113 114 115 116 117 118 119"
      ]
     },
     "metadata": {},
     "output_type": "display_data"
    }
   ],
   "source": [
    "d.20[-5]"
   ]
  },
  {
   "cell_type": "code",
   "execution_count": 24,
   "id": "f1e3f1e6",
   "metadata": {},
   "outputs": [
    {
     "data": {
      "text/html": [
       "<style>\n",
       ".list-inline {list-style: none; margin:0; padding: 0}\n",
       ".list-inline>li {display: inline-block}\n",
       ".list-inline>li:not(:last-child)::after {content: \"\\00b7\"; padding: 0 .5ex}\n",
       "</style>\n",
       "<ol class=list-inline><li>100</li><li>101</li><li>102</li><li>103</li><li>105</li><li>107</li><li>109</li><li>110</li><li>111</li><li>112</li><li>113</li><li>114</li><li>115</li><li>116</li><li>117</li><li>118</li><li>119</li></ol>\n"
      ],
      "text/latex": [
       "\\begin{enumerate*}\n",
       "\\item 100\n",
       "\\item 101\n",
       "\\item 102\n",
       "\\item 103\n",
       "\\item 105\n",
       "\\item 107\n",
       "\\item 109\n",
       "\\item 110\n",
       "\\item 111\n",
       "\\item 112\n",
       "\\item 113\n",
       "\\item 114\n",
       "\\item 115\n",
       "\\item 116\n",
       "\\item 117\n",
       "\\item 118\n",
       "\\item 119\n",
       "\\end{enumerate*}\n"
      ],
      "text/markdown": [
       "1. 100\n",
       "2. 101\n",
       "3. 102\n",
       "4. 103\n",
       "5. 105\n",
       "6. 107\n",
       "7. 109\n",
       "8. 110\n",
       "9. 111\n",
       "10. 112\n",
       "11. 113\n",
       "12. 114\n",
       "13. 115\n",
       "14. 116\n",
       "15. 117\n",
       "16. 118\n",
       "17. 119\n",
       "\n",
       "\n"
      ],
      "text/plain": [
       " [1] 100 101 102 103 105 107 109 110 111 112 113 114 115 116 117 118 119"
      ]
     },
     "metadata": {},
     "output_type": "display_data"
    }
   ],
   "source": [
    "d.20[-c(5, 7, 9)]"
   ]
  },
  {
   "cell_type": "code",
   "execution_count": 25,
   "id": "ca5f6135",
   "metadata": {},
   "outputs": [
    {
     "data": {
      "text/html": [
       "<style>\n",
       ".list-inline {list-style: none; margin:0; padding: 0}\n",
       ".list-inline>li {display: inline-block}\n",
       ".list-inline>li:not(:last-child)::after {content: \"\\00b7\"; padding: 0 .5ex}\n",
       "</style>\n",
       "<ol class=list-inline><li>10</li><li>8</li><li>14</li><li>15</li><li>9</li><li>10</li><li>15</li><li>12</li><li>9</li><li>7</li><li>8</li><li>7</li></ol>\n"
      ],
      "text/latex": [
       "\\begin{enumerate*}\n",
       "\\item 10\n",
       "\\item 8\n",
       "\\item 14\n",
       "\\item 15\n",
       "\\item 9\n",
       "\\item 10\n",
       "\\item 15\n",
       "\\item 12\n",
       "\\item 9\n",
       "\\item 7\n",
       "\\item 8\n",
       "\\item 7\n",
       "\\end{enumerate*}\n"
      ],
      "text/markdown": [
       "1. 10\n",
       "2. 8\n",
       "3. 14\n",
       "4. 15\n",
       "5. 9\n",
       "6. 10\n",
       "7. 15\n",
       "8. 12\n",
       "9. 9\n",
       "10. 7\n",
       "11. 8\n",
       "12. 7\n",
       "\n",
       "\n"
      ],
      "text/plain": [
       " [1] 10  8 14 15  9 10 15 12  9  7  8  7"
      ]
     },
     "metadata": {},
     "output_type": "display_data"
    }
   ],
   "source": [
    "absent <- c(10, 8, 14, 15, 9, 10, 15, 12, 9, 7, 8, 7)\n",
    "absent"
   ]
  },
  {
   "cell_type": "code",
   "execution_count": 26,
   "id": "525545fb",
   "metadata": {},
   "outputs": [
    {
     "data": {
      "text/html": [
       "<style>\n",
       ".dl-inline {width: auto; margin:0; padding: 0}\n",
       ".dl-inline>dt, .dl-inline>dd {float: none; width: auto; display: inline-block}\n",
       ".dl-inline>dt::after {content: \":\\0020\"; padding-right: .5ex}\n",
       ".dl-inline>dt:not(:first-of-type) {padding-left: .5ex}\n",
       "</style><dl class=dl-inline><dt>Jan</dt><dd>10</dd><dt>Feb</dt><dd>8</dd><dt>Mar</dt><dd>14</dd><dt>Arp</dt><dd>15</dd><dt>May</dt><dd>9</dd><dt>Jun</dt><dd>10</dd><dt>Jul</dt><dd>15</dd><dt>Aug</dt><dd>12</dd><dt>Sep</dt><dd>9</dd><dt>Oct</dt><dd>7</dd><dt>Nov</dt><dd>8</dd><dt>Dec</dt><dd>7</dd></dl>\n"
      ],
      "text/latex": [
       "\\begin{description*}\n",
       "\\item[Jan] 10\n",
       "\\item[Feb] 8\n",
       "\\item[Mar] 14\n",
       "\\item[Arp] 15\n",
       "\\item[May] 9\n",
       "\\item[Jun] 10\n",
       "\\item[Jul] 15\n",
       "\\item[Aug] 12\n",
       "\\item[Sep] 9\n",
       "\\item[Oct] 7\n",
       "\\item[Nov] 8\n",
       "\\item[Dec] 7\n",
       "\\end{description*}\n"
      ],
      "text/markdown": [
       "Jan\n",
       ":   10Feb\n",
       ":   8Mar\n",
       ":   14Arp\n",
       ":   15May\n",
       ":   9Jun\n",
       ":   10Jul\n",
       ":   15Aug\n",
       ":   12Sep\n",
       ":   9Oct\n",
       ":   7Nov\n",
       ":   8Dec\n",
       ":   7\n",
       "\n"
      ],
      "text/plain": [
       "Jan Feb Mar Arp May Jun Jul Aug Sep Oct Nov Dec \n",
       " 10   8  14  15   9  10  15  12   9   7   8   7 "
      ]
     },
     "metadata": {},
     "output_type": "display_data"
    }
   ],
   "source": [
    "names(absent) <- c('Jan','Feb','Mar','Arp','May','Jun','Jul','Aug','Sep','Oct','Nov','Dec')\n",
    "absent"
   ]
  },
  {
   "cell_type": "code",
   "execution_count": 27,
   "id": "8298a27d",
   "metadata": {},
   "outputs": [
    {
     "data": {
      "text/html": [
       "<strong>May:</strong> 9"
      ],
      "text/latex": [
       "\\textbf{May:} 9"
      ],
      "text/markdown": [
       "**May:** 9"
      ],
      "text/plain": [
       "May \n",
       "  9 "
      ]
     },
     "metadata": {},
     "output_type": "display_data"
    }
   ],
   "source": [
    "absent['May']"
   ]
  },
  {
   "cell_type": "code",
   "execution_count": 28,
   "id": "e5c3d6ff",
   "metadata": {},
   "outputs": [
    {
     "data": {
      "text/html": [
       "<strong>May:</strong> 9"
      ],
      "text/latex": [
       "\\textbf{May:} 9"
      ],
      "text/markdown": [
       "**May:** 9"
      ],
      "text/plain": [
       "May \n",
       "  9 "
      ]
     },
     "metadata": {},
     "output_type": "display_data"
    }
   ],
   "source": [
    "absent[5]"
   ]
  },
  {
   "cell_type": "code",
   "execution_count": 29,
   "id": "ad0a82bd",
   "metadata": {},
   "outputs": [
    {
     "data": {
      "text/html": [
       "<style>\n",
       ".dl-inline {width: auto; margin:0; padding: 0}\n",
       ".dl-inline>dt, .dl-inline>dd {float: none; width: auto; display: inline-block}\n",
       ".dl-inline>dt::after {content: \":\\0020\"; padding-right: .5ex}\n",
       ".dl-inline>dt:not(:first-of-type) {padding-left: .5ex}\n",
       "</style><dl class=dl-inline><dt>Jul</dt><dd>15</dd><dt>Sep</dt><dd>9</dd></dl>\n"
      ],
      "text/latex": [
       "\\begin{description*}\n",
       "\\item[Jul] 15\n",
       "\\item[Sep] 9\n",
       "\\end{description*}\n"
      ],
      "text/markdown": [
       "Jul\n",
       ":   15Sep\n",
       ":   9\n",
       "\n"
      ],
      "text/plain": [
       "Jul Sep \n",
       " 15   9 "
      ]
     },
     "metadata": {},
     "output_type": "display_data"
    }
   ],
   "source": [
    "absent[c('Jul','Sep')]"
   ]
  },
  {
   "cell_type": "code",
   "execution_count": 30,
   "id": "c376ed70",
   "metadata": {},
   "outputs": [
    {
     "data": {
      "text/html": [
       "<style>\n",
       ".dl-inline {width: auto; margin:0; padding: 0}\n",
       ".dl-inline>dt, .dl-inline>dd {float: none; width: auto; display: inline-block}\n",
       ".dl-inline>dt::after {content: \":\\0020\"; padding-right: .5ex}\n",
       ".dl-inline>dt:not(:first-of-type) {padding-left: .5ex}\n",
       "</style><dl class=dl-inline><dt>Jul</dt><dd>15</dd><dt>Sep</dt><dd>9</dd></dl>\n"
      ],
      "text/latex": [
       "\\begin{description*}\n",
       "\\item[Jul] 15\n",
       "\\item[Sep] 9\n",
       "\\end{description*}\n"
      ],
      "text/markdown": [
       "Jul\n",
       ":   15Sep\n",
       ":   9\n",
       "\n"
      ],
      "text/plain": [
       "Jul Sep \n",
       " 15   9 "
      ]
     },
     "metadata": {},
     "output_type": "display_data"
    }
   ],
   "source": [
    "absent[c(7, 9)]"
   ]
  },
  {
   "cell_type": "code",
   "execution_count": 31,
   "id": "97d81cfa",
   "metadata": {},
   "outputs": [
    {
     "data": {
      "text/html": [
       "66"
      ],
      "text/latex": [
       "66"
      ],
      "text/markdown": [
       "66"
      ],
      "text/plain": [
       "[1] 66"
      ]
     },
     "metadata": {},
     "output_type": "display_data"
    }
   ],
   "source": [
    "sum(absent[1:6])"
   ]
  },
  {
   "cell_type": "code",
   "execution_count": 32,
   "id": "05a807aa",
   "metadata": {},
   "outputs": [
    {
     "data": {
      "text/html": [
       "9.66666666666667"
      ],
      "text/latex": [
       "9.66666666666667"
      ],
      "text/markdown": [
       "9.66666666666667"
      ],
      "text/plain": [
       "[1] 9.666667"
      ]
     },
     "metadata": {},
     "output_type": "display_data"
    }
   ],
   "source": [
    "mean(absent[7:12])"
   ]
  },
  {
   "cell_type": "code",
   "execution_count": 33,
   "id": "3d1e0d7d",
   "metadata": {},
   "outputs": [
    {
     "data": {
      "text/html": [
       "<style>\n",
       ".list-inline {list-style: none; margin:0; padding: 0}\n",
       ".list-inline>li {display: inline-block}\n",
       ".list-inline>li:not(:last-child)::after {content: \"\\00b7\"; padding: 0 .5ex}\n",
       "</style>\n",
       "<ol class=list-inline><li>1</li><li>2</li><li>3</li><li>4</li><li>5</li><li>6</li><li>7</li><li>8</li><li>9</li><li>10</li><li>11</li><li>12</li><li>13</li><li>14</li><li>15</li><li>16</li><li>17</li><li>18</li><li>19</li><li>20</li><li>21</li><li>22</li><li>23</li><li>24</li><li>25</li><li>26</li><li>27</li><li>28</li><li>29</li><li>30</li><li>31</li><li>32</li><li>33</li><li>34</li><li>35</li><li>36</li><li>37</li><li>38</li><li>39</li><li>40</li><li>41</li><li>42</li><li>43</li><li>44</li><li>45</li><li>46</li><li>47</li><li>48</li><li>49</li><li>50</li></ol>\n"
      ],
      "text/latex": [
       "\\begin{enumerate*}\n",
       "\\item 1\n",
       "\\item 2\n",
       "\\item 3\n",
       "\\item 4\n",
       "\\item 5\n",
       "\\item 6\n",
       "\\item 7\n",
       "\\item 8\n",
       "\\item 9\n",
       "\\item 10\n",
       "\\item 11\n",
       "\\item 12\n",
       "\\item 13\n",
       "\\item 14\n",
       "\\item 15\n",
       "\\item 16\n",
       "\\item 17\n",
       "\\item 18\n",
       "\\item 19\n",
       "\\item 20\n",
       "\\item 21\n",
       "\\item 22\n",
       "\\item 23\n",
       "\\item 24\n",
       "\\item 25\n",
       "\\item 26\n",
       "\\item 27\n",
       "\\item 28\n",
       "\\item 29\n",
       "\\item 30\n",
       "\\item 31\n",
       "\\item 32\n",
       "\\item 33\n",
       "\\item 34\n",
       "\\item 35\n",
       "\\item 36\n",
       "\\item 37\n",
       "\\item 38\n",
       "\\item 39\n",
       "\\item 40\n",
       "\\item 41\n",
       "\\item 42\n",
       "\\item 43\n",
       "\\item 44\n",
       "\\item 45\n",
       "\\item 46\n",
       "\\item 47\n",
       "\\item 48\n",
       "\\item 49\n",
       "\\item 50\n",
       "\\end{enumerate*}\n"
      ],
      "text/markdown": [
       "1. 1\n",
       "2. 2\n",
       "3. 3\n",
       "4. 4\n",
       "5. 5\n",
       "6. 6\n",
       "7. 7\n",
       "8. 8\n",
       "9. 9\n",
       "10. 10\n",
       "11. 11\n",
       "12. 12\n",
       "13. 13\n",
       "14. 14\n",
       "15. 15\n",
       "16. 16\n",
       "17. 17\n",
       "18. 18\n",
       "19. 19\n",
       "20. 20\n",
       "21. 21\n",
       "22. 22\n",
       "23. 23\n",
       "24. 24\n",
       "25. 25\n",
       "26. 26\n",
       "27. 27\n",
       "28. 28\n",
       "29. 29\n",
       "30. 30\n",
       "31. 31\n",
       "32. 32\n",
       "33. 33\n",
       "34. 34\n",
       "35. 35\n",
       "36. 36\n",
       "37. 37\n",
       "38. 38\n",
       "39. 39\n",
       "40. 40\n",
       "41. 41\n",
       "42. 42\n",
       "43. 43\n",
       "44. 44\n",
       "45. 45\n",
       "46. 46\n",
       "47. 47\n",
       "48. 48\n",
       "49. 49\n",
       "50. 50\n",
       "\n",
       "\n"
      ],
      "text/plain": [
       " [1]  1  2  3  4  5  6  7  8  9 10 11 12 13 14 15 16 17 18 19 20 21 22 23 24 25\n",
       "[26] 26 27 28 29 30 31 32 33 34 35 36 37 38 39 40 41 42 43 44 45 46 47 48 49 50"
      ]
     },
     "metadata": {},
     "output_type": "display_data"
    },
    {
     "data": {
      "text/html": [
       "<style>\n",
       ".list-inline {list-style: none; margin:0; padding: 0}\n",
       ".list-inline>li {display: inline-block}\n",
       ".list-inline>li:not(:last-child)::after {content: \"\\00b7\"; padding: 0 .5ex}\n",
       "</style>\n",
       "<ol class=list-inline><li>51</li><li>52</li><li>53</li><li>54</li><li>55</li><li>56</li><li>57</li><li>58</li><li>59</li><li>60</li><li>61</li><li>62</li><li>63</li><li>64</li><li>65</li><li>66</li><li>67</li><li>68</li><li>69</li><li>70</li><li>71</li><li>72</li><li>73</li><li>74</li><li>75</li><li>76</li><li>77</li><li>78</li><li>79</li><li>80</li><li>81</li><li>82</li><li>83</li><li>84</li><li>85</li><li>86</li><li>87</li><li>88</li><li>89</li><li>90</li><li>91</li><li>92</li><li>93</li><li>94</li><li>95</li><li>96</li><li>97</li><li>98</li><li>99</li><li>100</li></ol>\n"
      ],
      "text/latex": [
       "\\begin{enumerate*}\n",
       "\\item 51\n",
       "\\item 52\n",
       "\\item 53\n",
       "\\item 54\n",
       "\\item 55\n",
       "\\item 56\n",
       "\\item 57\n",
       "\\item 58\n",
       "\\item 59\n",
       "\\item 60\n",
       "\\item 61\n",
       "\\item 62\n",
       "\\item 63\n",
       "\\item 64\n",
       "\\item 65\n",
       "\\item 66\n",
       "\\item 67\n",
       "\\item 68\n",
       "\\item 69\n",
       "\\item 70\n",
       "\\item 71\n",
       "\\item 72\n",
       "\\item 73\n",
       "\\item 74\n",
       "\\item 75\n",
       "\\item 76\n",
       "\\item 77\n",
       "\\item 78\n",
       "\\item 79\n",
       "\\item 80\n",
       "\\item 81\n",
       "\\item 82\n",
       "\\item 83\n",
       "\\item 84\n",
       "\\item 85\n",
       "\\item 86\n",
       "\\item 87\n",
       "\\item 88\n",
       "\\item 89\n",
       "\\item 90\n",
       "\\item 91\n",
       "\\item 92\n",
       "\\item 93\n",
       "\\item 94\n",
       "\\item 95\n",
       "\\item 96\n",
       "\\item 97\n",
       "\\item 98\n",
       "\\item 99\n",
       "\\item 100\n",
       "\\end{enumerate*}\n"
      ],
      "text/markdown": [
       "1. 51\n",
       "2. 52\n",
       "3. 53\n",
       "4. 54\n",
       "5. 55\n",
       "6. 56\n",
       "7. 57\n",
       "8. 58\n",
       "9. 59\n",
       "10. 60\n",
       "11. 61\n",
       "12. 62\n",
       "13. 63\n",
       "14. 64\n",
       "15. 65\n",
       "16. 66\n",
       "17. 67\n",
       "18. 68\n",
       "19. 69\n",
       "20. 70\n",
       "21. 71\n",
       "22. 72\n",
       "23. 73\n",
       "24. 74\n",
       "25. 75\n",
       "26. 76\n",
       "27. 77\n",
       "28. 78\n",
       "29. 79\n",
       "30. 80\n",
       "31. 81\n",
       "32. 82\n",
       "33. 83\n",
       "34. 84\n",
       "35. 85\n",
       "36. 86\n",
       "37. 87\n",
       "38. 88\n",
       "39. 89\n",
       "40. 90\n",
       "41. 91\n",
       "42. 92\n",
       "43. 93\n",
       "44. 94\n",
       "45. 95\n",
       "46. 96\n",
       "47. 97\n",
       "48. 98\n",
       "49. 99\n",
       "50. 100\n",
       "\n",
       "\n"
      ],
      "text/plain": [
       " [1]  51  52  53  54  55  56  57  58  59  60  61  62  63  64  65  66  67  68  69\n",
       "[20]  70  71  72  73  74  75  76  77  78  79  80  81  82  83  84  85  86  87  88\n",
       "[39]  89  90  91  92  93  94  95  96  97  98  99 100"
      ]
     },
     "metadata": {},
     "output_type": "display_data"
    }
   ],
   "source": [
    "d1 <- 1:50\n",
    "d2 <- 51:100\n",
    "\n",
    "d1\n",
    "d2"
   ]
  },
  {
   "cell_type": "code",
   "execution_count": 34,
   "id": "aaa3e220",
   "metadata": {},
   "outputs": [
    {
     "data": {
      "text/html": [
       "<style>\n",
       ".list-inline {list-style: none; margin:0; padding: 0}\n",
       ".list-inline>li {display: inline-block}\n",
       ".list-inline>li:not(:last-child)::after {content: \"\\00b7\"; padding: 0 .5ex}\n",
       "</style>\n",
       "<ol class=list-inline><li>52</li><li>54</li><li>56</li><li>58</li><li>60</li><li>62</li><li>64</li><li>66</li><li>68</li><li>70</li><li>72</li><li>74</li><li>76</li><li>78</li><li>80</li><li>82</li><li>84</li><li>86</li><li>88</li><li>90</li><li>92</li><li>94</li><li>96</li><li>98</li><li>100</li><li>102</li><li>104</li><li>106</li><li>108</li><li>110</li><li>112</li><li>114</li><li>116</li><li>118</li><li>120</li><li>122</li><li>124</li><li>126</li><li>128</li><li>130</li><li>132</li><li>134</li><li>136</li><li>138</li><li>140</li><li>142</li><li>144</li><li>146</li><li>148</li><li>150</li></ol>\n"
      ],
      "text/latex": [
       "\\begin{enumerate*}\n",
       "\\item 52\n",
       "\\item 54\n",
       "\\item 56\n",
       "\\item 58\n",
       "\\item 60\n",
       "\\item 62\n",
       "\\item 64\n",
       "\\item 66\n",
       "\\item 68\n",
       "\\item 70\n",
       "\\item 72\n",
       "\\item 74\n",
       "\\item 76\n",
       "\\item 78\n",
       "\\item 80\n",
       "\\item 82\n",
       "\\item 84\n",
       "\\item 86\n",
       "\\item 88\n",
       "\\item 90\n",
       "\\item 92\n",
       "\\item 94\n",
       "\\item 96\n",
       "\\item 98\n",
       "\\item 100\n",
       "\\item 102\n",
       "\\item 104\n",
       "\\item 106\n",
       "\\item 108\n",
       "\\item 110\n",
       "\\item 112\n",
       "\\item 114\n",
       "\\item 116\n",
       "\\item 118\n",
       "\\item 120\n",
       "\\item 122\n",
       "\\item 124\n",
       "\\item 126\n",
       "\\item 128\n",
       "\\item 130\n",
       "\\item 132\n",
       "\\item 134\n",
       "\\item 136\n",
       "\\item 138\n",
       "\\item 140\n",
       "\\item 142\n",
       "\\item 144\n",
       "\\item 146\n",
       "\\item 148\n",
       "\\item 150\n",
       "\\end{enumerate*}\n"
      ],
      "text/markdown": [
       "1. 52\n",
       "2. 54\n",
       "3. 56\n",
       "4. 58\n",
       "5. 60\n",
       "6. 62\n",
       "7. 64\n",
       "8. 66\n",
       "9. 68\n",
       "10. 70\n",
       "11. 72\n",
       "12. 74\n",
       "13. 76\n",
       "14. 78\n",
       "15. 80\n",
       "16. 82\n",
       "17. 84\n",
       "18. 86\n",
       "19. 88\n",
       "20. 90\n",
       "21. 92\n",
       "22. 94\n",
       "23. 96\n",
       "24. 98\n",
       "25. 100\n",
       "26. 102\n",
       "27. 104\n",
       "28. 106\n",
       "29. 108\n",
       "30. 110\n",
       "31. 112\n",
       "32. 114\n",
       "33. 116\n",
       "34. 118\n",
       "35. 120\n",
       "36. 122\n",
       "37. 124\n",
       "38. 126\n",
       "39. 128\n",
       "40. 130\n",
       "41. 132\n",
       "42. 134\n",
       "43. 136\n",
       "44. 138\n",
       "45. 140\n",
       "46. 142\n",
       "47. 144\n",
       "48. 146\n",
       "49. 148\n",
       "50. 150\n",
       "\n",
       "\n"
      ],
      "text/plain": [
       " [1]  52  54  56  58  60  62  64  66  68  70  72  74  76  78  80  82  84  86  88\n",
       "[20]  90  92  94  96  98 100 102 104 106 108 110 112 114 116 118 120 122 124 126\n",
       "[39] 128 130 132 134 136 138 140 142 144 146 148 150"
      ]
     },
     "metadata": {},
     "output_type": "display_data"
    }
   ],
   "source": [
    "d1 + d2"
   ]
  },
  {
   "cell_type": "code",
   "execution_count": 35,
   "id": "ad26791a",
   "metadata": {},
   "outputs": [
    {
     "data": {
      "text/html": [
       "<style>\n",
       ".list-inline {list-style: none; margin:0; padding: 0}\n",
       ".list-inline>li {display: inline-block}\n",
       ".list-inline>li:not(:last-child)::after {content: \"\\00b7\"; padding: 0 .5ex}\n",
       "</style>\n",
       "<ol class=list-inline><li>50</li><li>50</li><li>50</li><li>50</li><li>50</li><li>50</li><li>50</li><li>50</li><li>50</li><li>50</li><li>50</li><li>50</li><li>50</li><li>50</li><li>50</li><li>50</li><li>50</li><li>50</li><li>50</li><li>50</li><li>50</li><li>50</li><li>50</li><li>50</li><li>50</li><li>50</li><li>50</li><li>50</li><li>50</li><li>50</li><li>50</li><li>50</li><li>50</li><li>50</li><li>50</li><li>50</li><li>50</li><li>50</li><li>50</li><li>50</li><li>50</li><li>50</li><li>50</li><li>50</li><li>50</li><li>50</li><li>50</li><li>50</li><li>50</li><li>50</li></ol>\n"
      ],
      "text/latex": [
       "\\begin{enumerate*}\n",
       "\\item 50\n",
       "\\item 50\n",
       "\\item 50\n",
       "\\item 50\n",
       "\\item 50\n",
       "\\item 50\n",
       "\\item 50\n",
       "\\item 50\n",
       "\\item 50\n",
       "\\item 50\n",
       "\\item 50\n",
       "\\item 50\n",
       "\\item 50\n",
       "\\item 50\n",
       "\\item 50\n",
       "\\item 50\n",
       "\\item 50\n",
       "\\item 50\n",
       "\\item 50\n",
       "\\item 50\n",
       "\\item 50\n",
       "\\item 50\n",
       "\\item 50\n",
       "\\item 50\n",
       "\\item 50\n",
       "\\item 50\n",
       "\\item 50\n",
       "\\item 50\n",
       "\\item 50\n",
       "\\item 50\n",
       "\\item 50\n",
       "\\item 50\n",
       "\\item 50\n",
       "\\item 50\n",
       "\\item 50\n",
       "\\item 50\n",
       "\\item 50\n",
       "\\item 50\n",
       "\\item 50\n",
       "\\item 50\n",
       "\\item 50\n",
       "\\item 50\n",
       "\\item 50\n",
       "\\item 50\n",
       "\\item 50\n",
       "\\item 50\n",
       "\\item 50\n",
       "\\item 50\n",
       "\\item 50\n",
       "\\item 50\n",
       "\\end{enumerate*}\n"
      ],
      "text/markdown": [
       "1. 50\n",
       "2. 50\n",
       "3. 50\n",
       "4. 50\n",
       "5. 50\n",
       "6. 50\n",
       "7. 50\n",
       "8. 50\n",
       "9. 50\n",
       "10. 50\n",
       "11. 50\n",
       "12. 50\n",
       "13. 50\n",
       "14. 50\n",
       "15. 50\n",
       "16. 50\n",
       "17. 50\n",
       "18. 50\n",
       "19. 50\n",
       "20. 50\n",
       "21. 50\n",
       "22. 50\n",
       "23. 50\n",
       "24. 50\n",
       "25. 50\n",
       "26. 50\n",
       "27. 50\n",
       "28. 50\n",
       "29. 50\n",
       "30. 50\n",
       "31. 50\n",
       "32. 50\n",
       "33. 50\n",
       "34. 50\n",
       "35. 50\n",
       "36. 50\n",
       "37. 50\n",
       "38. 50\n",
       "39. 50\n",
       "40. 50\n",
       "41. 50\n",
       "42. 50\n",
       "43. 50\n",
       "44. 50\n",
       "45. 50\n",
       "46. 50\n",
       "47. 50\n",
       "48. 50\n",
       "49. 50\n",
       "50. 50\n",
       "\n",
       "\n"
      ],
      "text/plain": [
       " [1] 50 50 50 50 50 50 50 50 50 50 50 50 50 50 50 50 50 50 50 50 50 50 50 50 50\n",
       "[26] 50 50 50 50 50 50 50 50 50 50 50 50 50 50 50 50 50 50 50 50 50 50 50 50 50"
      ]
     },
     "metadata": {},
     "output_type": "display_data"
    }
   ],
   "source": [
    "d2 - d1"
   ]
  },
  {
   "cell_type": "code",
   "execution_count": 36,
   "id": "a0313e9a",
   "metadata": {},
   "outputs": [
    {
     "data": {
      "text/html": [
       "<style>\n",
       ".list-inline {list-style: none; margin:0; padding: 0}\n",
       ".list-inline>li {display: inline-block}\n",
       ".list-inline>li:not(:last-child)::after {content: \"\\00b7\"; padding: 0 .5ex}\n",
       "</style>\n",
       "<ol class=list-inline><li>51</li><li>104</li><li>159</li><li>216</li><li>275</li><li>336</li><li>399</li><li>464</li><li>531</li><li>600</li><li>671</li><li>744</li><li>819</li><li>896</li><li>975</li><li>1056</li><li>1139</li><li>1224</li><li>1311</li><li>1400</li><li>1491</li><li>1584</li><li>1679</li><li>1776</li><li>1875</li><li>1976</li><li>2079</li><li>2184</li><li>2291</li><li>2400</li><li>2511</li><li>2624</li><li>2739</li><li>2856</li><li>2975</li><li>3096</li><li>3219</li><li>3344</li><li>3471</li><li>3600</li><li>3731</li><li>3864</li><li>3999</li><li>4136</li><li>4275</li><li>4416</li><li>4559</li><li>4704</li><li>4851</li><li>5000</li></ol>\n"
      ],
      "text/latex": [
       "\\begin{enumerate*}\n",
       "\\item 51\n",
       "\\item 104\n",
       "\\item 159\n",
       "\\item 216\n",
       "\\item 275\n",
       "\\item 336\n",
       "\\item 399\n",
       "\\item 464\n",
       "\\item 531\n",
       "\\item 600\n",
       "\\item 671\n",
       "\\item 744\n",
       "\\item 819\n",
       "\\item 896\n",
       "\\item 975\n",
       "\\item 1056\n",
       "\\item 1139\n",
       "\\item 1224\n",
       "\\item 1311\n",
       "\\item 1400\n",
       "\\item 1491\n",
       "\\item 1584\n",
       "\\item 1679\n",
       "\\item 1776\n",
       "\\item 1875\n",
       "\\item 1976\n",
       "\\item 2079\n",
       "\\item 2184\n",
       "\\item 2291\n",
       "\\item 2400\n",
       "\\item 2511\n",
       "\\item 2624\n",
       "\\item 2739\n",
       "\\item 2856\n",
       "\\item 2975\n",
       "\\item 3096\n",
       "\\item 3219\n",
       "\\item 3344\n",
       "\\item 3471\n",
       "\\item 3600\n",
       "\\item 3731\n",
       "\\item 3864\n",
       "\\item 3999\n",
       "\\item 4136\n",
       "\\item 4275\n",
       "\\item 4416\n",
       "\\item 4559\n",
       "\\item 4704\n",
       "\\item 4851\n",
       "\\item 5000\n",
       "\\end{enumerate*}\n"
      ],
      "text/markdown": [
       "1. 51\n",
       "2. 104\n",
       "3. 159\n",
       "4. 216\n",
       "5. 275\n",
       "6. 336\n",
       "7. 399\n",
       "8. 464\n",
       "9. 531\n",
       "10. 600\n",
       "11. 671\n",
       "12. 744\n",
       "13. 819\n",
       "14. 896\n",
       "15. 975\n",
       "16. 1056\n",
       "17. 1139\n",
       "18. 1224\n",
       "19. 1311\n",
       "20. 1400\n",
       "21. 1491\n",
       "22. 1584\n",
       "23. 1679\n",
       "24. 1776\n",
       "25. 1875\n",
       "26. 1976\n",
       "27. 2079\n",
       "28. 2184\n",
       "29. 2291\n",
       "30. 2400\n",
       "31. 2511\n",
       "32. 2624\n",
       "33. 2739\n",
       "34. 2856\n",
       "35. 2975\n",
       "36. 3096\n",
       "37. 3219\n",
       "38. 3344\n",
       "39. 3471\n",
       "40. 3600\n",
       "41. 3731\n",
       "42. 3864\n",
       "43. 3999\n",
       "44. 4136\n",
       "45. 4275\n",
       "46. 4416\n",
       "47. 4559\n",
       "48. 4704\n",
       "49. 4851\n",
       "50. 5000\n",
       "\n",
       "\n"
      ],
      "text/plain": [
       " [1]   51  104  159  216  275  336  399  464  531  600  671  744  819  896  975\n",
       "[16] 1056 1139 1224 1311 1400 1491 1584 1679 1776 1875 1976 2079 2184 2291 2400\n",
       "[31] 2511 2624 2739 2856 2975 3096 3219 3344 3471 3600 3731 3864 3999 4136 4275\n",
       "[46] 4416 4559 4704 4851 5000"
      ]
     },
     "metadata": {},
     "output_type": "display_data"
    }
   ],
   "source": [
    "d1 * d2"
   ]
  },
  {
   "cell_type": "code",
   "execution_count": 37,
   "id": "e0fff630",
   "metadata": {},
   "outputs": [
    {
     "data": {
      "text/html": [
       "<style>\n",
       ".list-inline {list-style: none; margin:0; padding: 0}\n",
       ".list-inline>li {display: inline-block}\n",
       ".list-inline>li:not(:last-child)::after {content: \"\\00b7\"; padding: 0 .5ex}\n",
       "</style>\n",
       "<ol class=list-inline><li>51</li><li>26</li><li>17.6666666666667</li><li>13.5</li><li>11</li><li>9.33333333333333</li><li>8.14285714285714</li><li>7.25</li><li>6.55555555555556</li><li>6</li><li>5.54545454545455</li><li>5.16666666666667</li><li>4.84615384615385</li><li>4.57142857142857</li><li>4.33333333333333</li><li>4.125</li><li>3.94117647058824</li><li>3.77777777777778</li><li>3.63157894736842</li><li>3.5</li><li>3.38095238095238</li><li>3.27272727272727</li><li>3.17391304347826</li><li>3.08333333333333</li><li>3</li><li>2.92307692307692</li><li>2.85185185185185</li><li>2.78571428571429</li><li>2.72413793103448</li><li>2.66666666666667</li><li>2.61290322580645</li><li>2.5625</li><li>2.51515151515152</li><li>2.47058823529412</li><li>2.42857142857143</li><li>2.38888888888889</li><li>2.35135135135135</li><li>2.31578947368421</li><li>2.28205128205128</li><li>2.25</li><li>2.21951219512195</li><li>2.19047619047619</li><li>2.16279069767442</li><li>2.13636363636364</li><li>2.11111111111111</li><li>2.08695652173913</li><li>2.06382978723404</li><li>2.04166666666667</li><li>2.02040816326531</li><li>2</li></ol>\n"
      ],
      "text/latex": [
       "\\begin{enumerate*}\n",
       "\\item 51\n",
       "\\item 26\n",
       "\\item 17.6666666666667\n",
       "\\item 13.5\n",
       "\\item 11\n",
       "\\item 9.33333333333333\n",
       "\\item 8.14285714285714\n",
       "\\item 7.25\n",
       "\\item 6.55555555555556\n",
       "\\item 6\n",
       "\\item 5.54545454545455\n",
       "\\item 5.16666666666667\n",
       "\\item 4.84615384615385\n",
       "\\item 4.57142857142857\n",
       "\\item 4.33333333333333\n",
       "\\item 4.125\n",
       "\\item 3.94117647058824\n",
       "\\item 3.77777777777778\n",
       "\\item 3.63157894736842\n",
       "\\item 3.5\n",
       "\\item 3.38095238095238\n",
       "\\item 3.27272727272727\n",
       "\\item 3.17391304347826\n",
       "\\item 3.08333333333333\n",
       "\\item 3\n",
       "\\item 2.92307692307692\n",
       "\\item 2.85185185185185\n",
       "\\item 2.78571428571429\n",
       "\\item 2.72413793103448\n",
       "\\item 2.66666666666667\n",
       "\\item 2.61290322580645\n",
       "\\item 2.5625\n",
       "\\item 2.51515151515152\n",
       "\\item 2.47058823529412\n",
       "\\item 2.42857142857143\n",
       "\\item 2.38888888888889\n",
       "\\item 2.35135135135135\n",
       "\\item 2.31578947368421\n",
       "\\item 2.28205128205128\n",
       "\\item 2.25\n",
       "\\item 2.21951219512195\n",
       "\\item 2.19047619047619\n",
       "\\item 2.16279069767442\n",
       "\\item 2.13636363636364\n",
       "\\item 2.11111111111111\n",
       "\\item 2.08695652173913\n",
       "\\item 2.06382978723404\n",
       "\\item 2.04166666666667\n",
       "\\item 2.02040816326531\n",
       "\\item 2\n",
       "\\end{enumerate*}\n"
      ],
      "text/markdown": [
       "1. 51\n",
       "2. 26\n",
       "3. 17.6666666666667\n",
       "4. 13.5\n",
       "5. 11\n",
       "6. 9.33333333333333\n",
       "7. 8.14285714285714\n",
       "8. 7.25\n",
       "9. 6.55555555555556\n",
       "10. 6\n",
       "11. 5.54545454545455\n",
       "12. 5.16666666666667\n",
       "13. 4.84615384615385\n",
       "14. 4.57142857142857\n",
       "15. 4.33333333333333\n",
       "16. 4.125\n",
       "17. 3.94117647058824\n",
       "18. 3.77777777777778\n",
       "19. 3.63157894736842\n",
       "20. 3.5\n",
       "21. 3.38095238095238\n",
       "22. 3.27272727272727\n",
       "23. 3.17391304347826\n",
       "24. 3.08333333333333\n",
       "25. 3\n",
       "26. 2.92307692307692\n",
       "27. 2.85185185185185\n",
       "28. 2.78571428571429\n",
       "29. 2.72413793103448\n",
       "30. 2.66666666666667\n",
       "31. 2.61290322580645\n",
       "32. 2.5625\n",
       "33. 2.51515151515152\n",
       "34. 2.47058823529412\n",
       "35. 2.42857142857143\n",
       "36. 2.38888888888889\n",
       "37. 2.35135135135135\n",
       "38. 2.31578947368421\n",
       "39. 2.28205128205128\n",
       "40. 2.25\n",
       "41. 2.21951219512195\n",
       "42. 2.19047619047619\n",
       "43. 2.16279069767442\n",
       "44. 2.13636363636364\n",
       "45. 2.11111111111111\n",
       "46. 2.08695652173913\n",
       "47. 2.06382978723404\n",
       "48. 2.04166666666667\n",
       "49. 2.02040816326531\n",
       "50. 2\n",
       "\n",
       "\n"
      ],
      "text/plain": [
       " [1] 51.000000 26.000000 17.666667 13.500000 11.000000  9.333333  8.142857\n",
       " [8]  7.250000  6.555556  6.000000  5.545455  5.166667  4.846154  4.571429\n",
       "[15]  4.333333  4.125000  3.941176  3.777778  3.631579  3.500000  3.380952\n",
       "[22]  3.272727  3.173913  3.083333  3.000000  2.923077  2.851852  2.785714\n",
       "[29]  2.724138  2.666667  2.612903  2.562500  2.515152  2.470588  2.428571\n",
       "[36]  2.388889  2.351351  2.315789  2.282051  2.250000  2.219512  2.190476\n",
       "[43]  2.162791  2.136364  2.111111  2.086957  2.063830  2.041667  2.020408\n",
       "[50]  2.000000"
      ]
     },
     "metadata": {},
     "output_type": "display_data"
    }
   ],
   "source": [
    "d2 / d1"
   ]
  },
  {
   "cell_type": "code",
   "execution_count": 38,
   "id": "d9ca522a",
   "metadata": {},
   "outputs": [
    {
     "data": {
      "text/html": [
       "1275"
      ],
      "text/latex": [
       "1275"
      ],
      "text/markdown": [
       "1275"
      ],
      "text/plain": [
       "[1] 1275"
      ]
     },
     "metadata": {},
     "output_type": "display_data"
    },
    {
     "data": {
      "text/html": [
       "3775"
      ],
      "text/latex": [
       "3775"
      ],
      "text/markdown": [
       "3775"
      ],
      "text/plain": [
       "[1] 3775"
      ]
     },
     "metadata": {},
     "output_type": "display_data"
    }
   ],
   "source": [
    "sum(d1)\n",
    "sum(d2)"
   ]
  },
  {
   "cell_type": "code",
   "execution_count": 39,
   "id": "97c28470",
   "metadata": {},
   "outputs": [
    {
     "data": {
      "text/html": [
       "100"
      ],
      "text/latex": [
       "100"
      ],
      "text/markdown": [
       "100"
      ],
      "text/plain": [
       "[1] 100"
      ]
     },
     "metadata": {},
     "output_type": "display_data"
    }
   ],
   "source": [
    "max(d2)"
   ]
  },
  {
   "cell_type": "code",
   "execution_count": 40,
   "id": "f1784f16",
   "metadata": {},
   "outputs": [
    {
     "data": {
      "text/html": [
       "1"
      ],
      "text/latex": [
       "1"
      ],
      "text/markdown": [
       "1"
      ],
      "text/plain": [
       "[1] 1"
      ]
     },
     "metadata": {},
     "output_type": "display_data"
    }
   ],
   "source": [
    "min(d1)"
   ]
  },
  {
   "cell_type": "code",
   "execution_count": 41,
   "id": "e5d04796",
   "metadata": {},
   "outputs": [],
   "source": [
    "m.1 <- mean(d1)\n",
    "m.2 <- mean(d2)"
   ]
  },
  {
   "cell_type": "code",
   "execution_count": 42,
   "id": "442d201b",
   "metadata": {},
   "outputs": [
    {
     "data": {
      "text/html": [
       "50"
      ],
      "text/latex": [
       "50"
      ],
      "text/markdown": [
       "50"
      ],
      "text/plain": [
       "[1] 50"
      ]
     },
     "metadata": {},
     "output_type": "display_data"
    }
   ],
   "source": [
    "m.2 - m.1"
   ]
  },
  {
   "cell_type": "code",
   "execution_count": 44,
   "id": "3f7c364c",
   "metadata": {},
   "outputs": [
    {
     "data": {
      "text/html": [
       "50"
      ],
      "text/latex": [
       "50"
      ],
      "text/markdown": [
       "50"
      ],
      "text/plain": [
       "[1] 50"
      ]
     },
     "metadata": {},
     "output_type": "display_data"
    }
   ],
   "source": [
    "abs(m.2 - m.1)"
   ]
  },
  {
   "cell_type": "code",
   "execution_count": 45,
   "id": "1617ab23",
   "metadata": {},
   "outputs": [
    {
     "data": {
      "text/html": [
       "<style>\n",
       ".list-inline {list-style: none; margin:0; padding: 0}\n",
       ".list-inline>li {display: inline-block}\n",
       ".list-inline>li:not(:last-child)::after {content: \"\\00b7\"; padding: 0 .5ex}\n",
       "</style>\n",
       "<ol class=list-inline><li>50</li><li>49</li><li>48</li><li>47</li><li>46</li><li>45</li><li>44</li><li>43</li><li>42</li><li>41</li><li>40</li><li>39</li><li>38</li><li>37</li><li>36</li><li>35</li><li>34</li><li>33</li><li>32</li><li>31</li><li>30</li><li>29</li><li>28</li><li>27</li><li>26</li><li>25</li><li>24</li><li>23</li><li>22</li><li>21</li><li>20</li><li>19</li><li>18</li><li>17</li><li>16</li><li>15</li><li>14</li><li>13</li><li>12</li><li>11</li><li>10</li><li>9</li><li>8</li><li>7</li><li>6</li><li>5</li><li>4</li><li>3</li><li>2</li><li>1</li></ol>\n"
      ],
      "text/latex": [
       "\\begin{enumerate*}\n",
       "\\item 50\n",
       "\\item 49\n",
       "\\item 48\n",
       "\\item 47\n",
       "\\item 46\n",
       "\\item 45\n",
       "\\item 44\n",
       "\\item 43\n",
       "\\item 42\n",
       "\\item 41\n",
       "\\item 40\n",
       "\\item 39\n",
       "\\item 38\n",
       "\\item 37\n",
       "\\item 36\n",
       "\\item 35\n",
       "\\item 34\n",
       "\\item 33\n",
       "\\item 32\n",
       "\\item 31\n",
       "\\item 30\n",
       "\\item 29\n",
       "\\item 28\n",
       "\\item 27\n",
       "\\item 26\n",
       "\\item 25\n",
       "\\item 24\n",
       "\\item 23\n",
       "\\item 22\n",
       "\\item 21\n",
       "\\item 20\n",
       "\\item 19\n",
       "\\item 18\n",
       "\\item 17\n",
       "\\item 16\n",
       "\\item 15\n",
       "\\item 14\n",
       "\\item 13\n",
       "\\item 12\n",
       "\\item 11\n",
       "\\item 10\n",
       "\\item 9\n",
       "\\item 8\n",
       "\\item 7\n",
       "\\item 6\n",
       "\\item 5\n",
       "\\item 4\n",
       "\\item 3\n",
       "\\item 2\n",
       "\\item 1\n",
       "\\end{enumerate*}\n"
      ],
      "text/markdown": [
       "1. 50\n",
       "2. 49\n",
       "3. 48\n",
       "4. 47\n",
       "5. 46\n",
       "6. 45\n",
       "7. 44\n",
       "8. 43\n",
       "9. 42\n",
       "10. 41\n",
       "11. 40\n",
       "12. 39\n",
       "13. 38\n",
       "14. 37\n",
       "15. 36\n",
       "16. 35\n",
       "17. 34\n",
       "18. 33\n",
       "19. 32\n",
       "20. 31\n",
       "21. 30\n",
       "22. 29\n",
       "23. 28\n",
       "24. 27\n",
       "25. 26\n",
       "26. 25\n",
       "27. 24\n",
       "28. 23\n",
       "29. 22\n",
       "30. 21\n",
       "31. 20\n",
       "32. 19\n",
       "33. 18\n",
       "34. 17\n",
       "35. 16\n",
       "36. 15\n",
       "37. 14\n",
       "38. 13\n",
       "39. 12\n",
       "40. 11\n",
       "41. 10\n",
       "42. 9\n",
       "43. 8\n",
       "44. 7\n",
       "45. 6\n",
       "46. 5\n",
       "47. 4\n",
       "48. 3\n",
       "49. 2\n",
       "50. 1\n",
       "\n",
       "\n"
      ],
      "text/plain": [
       " [1] 50 49 48 47 46 45 44 43 42 41 40 39 38 37 36 35 34 33 32 31 30 29 28 27 26\n",
       "[26] 25 24 23 22 21 20 19 18 17 16 15 14 13 12 11 10  9  8  7  6  5  4  3  2  1"
      ]
     },
     "metadata": {},
     "output_type": "display_data"
    }
   ],
   "source": [
    "sort(d1, T)"
   ]
  },
  {
   "cell_type": "code",
   "execution_count": 46,
   "id": "38a8419a",
   "metadata": {},
   "outputs": [],
   "source": [
    "d.3 <- c(d1[1:10], d2[1:10])"
   ]
  },
  {
   "cell_type": "code",
   "execution_count": 47,
   "id": "583a37ce",
   "metadata": {},
   "outputs": [
    {
     "data": {
      "text/html": [
       "20"
      ],
      "text/latex": [
       "20"
      ],
      "text/markdown": [
       "20"
      ],
      "text/plain": [
       "[1] 20"
      ]
     },
     "metadata": {},
     "output_type": "display_data"
    }
   ],
   "source": [
    "length(d.3)"
   ]
  },
  {
   "cell_type": "code",
   "execution_count": 48,
   "id": "7937b7cf",
   "metadata": {},
   "outputs": [
    {
     "data": {
      "text/html": [
       "<style>\n",
       ".list-inline {list-style: none; margin:0; padding: 0}\n",
       ".list-inline>li {display: inline-block}\n",
       ".list-inline>li:not(:last-child)::after {content: \"\\00b7\"; padding: 0 .5ex}\n",
       "</style>\n",
       "<ol class=list-inline><li>1</li><li>2</li><li>3</li><li>4</li><li>5</li><li>6</li><li>7</li><li>8</li><li>9</li><li>10</li><li>51</li><li>52</li><li>53</li><li>54</li><li>55</li><li>56</li><li>57</li><li>58</li><li>59</li><li>60</li></ol>\n"
      ],
      "text/latex": [
       "\\begin{enumerate*}\n",
       "\\item 1\n",
       "\\item 2\n",
       "\\item 3\n",
       "\\item 4\n",
       "\\item 5\n",
       "\\item 6\n",
       "\\item 7\n",
       "\\item 8\n",
       "\\item 9\n",
       "\\item 10\n",
       "\\item 51\n",
       "\\item 52\n",
       "\\item 53\n",
       "\\item 54\n",
       "\\item 55\n",
       "\\item 56\n",
       "\\item 57\n",
       "\\item 58\n",
       "\\item 59\n",
       "\\item 60\n",
       "\\end{enumerate*}\n"
      ],
      "text/markdown": [
       "1. 1\n",
       "2. 2\n",
       "3. 3\n",
       "4. 4\n",
       "5. 5\n",
       "6. 6\n",
       "7. 7\n",
       "8. 8\n",
       "9. 9\n",
       "10. 10\n",
       "11. 51\n",
       "12. 52\n",
       "13. 53\n",
       "14. 54\n",
       "15. 55\n",
       "16. 56\n",
       "17. 57\n",
       "18. 58\n",
       "19. 59\n",
       "20. 60\n",
       "\n",
       "\n"
      ],
      "text/plain": [
       " [1]  1  2  3  4  5  6  7  8  9 10 51 52 53 54 55 56 57 58 59 60"
      ]
     },
     "metadata": {},
     "output_type": "display_data"
    }
   ],
   "source": [
    "d.3"
   ]
  },
  {
   "cell_type": "code",
   "execution_count": 49,
   "id": "4e6c98ae",
   "metadata": {},
   "outputs": [
    {
     "data": {
      "text/html": [
       "<style>\n",
       ".list-inline {list-style: none; margin:0; padding: 0}\n",
       ".list-inline>li {display: inline-block}\n",
       ".list-inline>li:not(:last-child)::after {content: \"\\00b7\"; padding: 0 .5ex}\n",
       "</style>\n",
       "<ol class=list-inline><li>51</li><li>52</li><li>53</li><li>54</li><li>55</li><li>56</li><li>57</li><li>58</li><li>59</li></ol>\n"
      ],
      "text/latex": [
       "\\begin{enumerate*}\n",
       "\\item 51\n",
       "\\item 52\n",
       "\\item 53\n",
       "\\item 54\n",
       "\\item 55\n",
       "\\item 56\n",
       "\\item 57\n",
       "\\item 58\n",
       "\\item 59\n",
       "\\end{enumerate*}\n"
      ],
      "text/markdown": [
       "1. 51\n",
       "2. 52\n",
       "3. 53\n",
       "4. 54\n",
       "5. 55\n",
       "6. 56\n",
       "7. 57\n",
       "8. 58\n",
       "9. 59\n",
       "\n",
       "\n"
      ],
      "text/plain": [
       "[1] 51 52 53 54 55 56 57 58 59"
      ]
     },
     "metadata": {},
     "output_type": "display_data"
    }
   ],
   "source": [
    "v1 <- 51:90\n",
    "v1[v1 < 60]"
   ]
  },
  {
   "cell_type": "code",
   "execution_count": 50,
   "id": "c6f4ce47",
   "metadata": {},
   "outputs": [
    {
     "data": {
      "text/html": [
       "19"
      ],
      "text/latex": [
       "19"
      ],
      "text/markdown": [
       "19"
      ],
      "text/plain": [
       "[1] 19"
      ]
     },
     "metadata": {},
     "output_type": "display_data"
    }
   ],
   "source": [
    "length(v1[v1 < 70])"
   ]
  },
  {
   "cell_type": "code",
   "execution_count": 51,
   "id": "2255457d",
   "metadata": {},
   "outputs": [
    {
     "data": {
      "text/html": [
       "1950"
      ],
      "text/latex": [
       "1950"
      ],
      "text/markdown": [
       "1950"
      ],
      "text/plain": [
       "[1] 1950"
      ]
     },
     "metadata": {},
     "output_type": "display_data"
    }
   ],
   "source": [
    "sum(v1[v1 > 65])"
   ]
  },
  {
   "cell_type": "code",
   "execution_count": 52,
   "id": "5d831da6",
   "metadata": {},
   "outputs": [
    {
     "data": {
      "text/html": [
       "<style>\n",
       ".list-inline {list-style: none; margin:0; padding: 0}\n",
       ".list-inline>li {display: inline-block}\n",
       ".list-inline>li:not(:last-child)::after {content: \"\\00b7\"; padding: 0 .5ex}\n",
       "</style>\n",
       "<ol class=list-inline><li>51</li><li>52</li><li>53</li><li>54</li><li>55</li><li>56</li><li>57</li><li>58</li><li>59</li><li>60</li><li>61</li><li>62</li><li>63</li><li>64</li><li>81</li><li>82</li><li>83</li><li>84</li><li>85</li><li>86</li><li>87</li><li>88</li><li>89</li><li>90</li></ol>\n"
      ],
      "text/latex": [
       "\\begin{enumerate*}\n",
       "\\item 51\n",
       "\\item 52\n",
       "\\item 53\n",
       "\\item 54\n",
       "\\item 55\n",
       "\\item 56\n",
       "\\item 57\n",
       "\\item 58\n",
       "\\item 59\n",
       "\\item 60\n",
       "\\item 61\n",
       "\\item 62\n",
       "\\item 63\n",
       "\\item 64\n",
       "\\item 81\n",
       "\\item 82\n",
       "\\item 83\n",
       "\\item 84\n",
       "\\item 85\n",
       "\\item 86\n",
       "\\item 87\n",
       "\\item 88\n",
       "\\item 89\n",
       "\\item 90\n",
       "\\end{enumerate*}\n"
      ],
      "text/markdown": [
       "1. 51\n",
       "2. 52\n",
       "3. 53\n",
       "4. 54\n",
       "5. 55\n",
       "6. 56\n",
       "7. 57\n",
       "8. 58\n",
       "9. 59\n",
       "10. 60\n",
       "11. 61\n",
       "12. 62\n",
       "13. 63\n",
       "14. 64\n",
       "15. 81\n",
       "16. 82\n",
       "17. 83\n",
       "18. 84\n",
       "19. 85\n",
       "20. 86\n",
       "21. 87\n",
       "22. 88\n",
       "23. 89\n",
       "24. 90\n",
       "\n",
       "\n"
      ],
      "text/plain": [
       " [1] 51 52 53 54 55 56 57 58 59 60 61 62 63 64 81 82 83 84 85 86 87 88 89 90"
      ]
     },
     "metadata": {},
     "output_type": "display_data"
    }
   ],
   "source": [
    "v1[v1 < 65 | v1 > 80]"
   ]
  },
  {
   "cell_type": "code",
   "execution_count": 53,
   "id": "a1ccb08b",
   "metadata": {},
   "outputs": [
    {
     "data": {
      "text/html": [
       "<style>\n",
       ".list-inline {list-style: none; margin:0; padding: 0}\n",
       ".list-inline>li {display: inline-block}\n",
       ".list-inline>li:not(:last-child)::after {content: \"\\00b7\"; padding: 0 .5ex}\n",
       "</style>\n",
       "<ol class=list-inline><li>52</li><li>59</li><li>66</li><li>73</li><li>80</li><li>87</li></ol>\n"
      ],
      "text/latex": [
       "\\begin{enumerate*}\n",
       "\\item 52\n",
       "\\item 59\n",
       "\\item 66\n",
       "\\item 73\n",
       "\\item 80\n",
       "\\item 87\n",
       "\\end{enumerate*}\n"
      ],
      "text/markdown": [
       "1. 52\n",
       "2. 59\n",
       "3. 66\n",
       "4. 73\n",
       "5. 80\n",
       "6. 87\n",
       "\n",
       "\n"
      ],
      "text/plain": [
       "[1] 52 59 66 73 80 87"
      ]
     },
     "metadata": {},
     "output_type": "display_data"
    }
   ],
   "source": [
    "v1[v1%%7==3]"
   ]
  },
  {
   "cell_type": "code",
   "execution_count": 54,
   "id": "5ff2b00e",
   "metadata": {},
   "outputs": [],
   "source": [
    "v1[v1%%7==0] <- 0"
   ]
  },
  {
   "cell_type": "code",
   "execution_count": 55,
   "id": "a4f8df6d",
   "metadata": {},
   "outputs": [
    {
     "data": {
      "text/html": [
       "<style>\n",
       ".list-inline {list-style: none; margin:0; padding: 0}\n",
       ".list-inline>li {display: inline-block}\n",
       ".list-inline>li:not(:last-child)::after {content: \"\\00b7\"; padding: 0 .5ex}\n",
       "</style>\n",
       "<ol class=list-inline><li>51</li><li>52</li><li>53</li><li>54</li><li>55</li><li>0</li><li>57</li><li>58</li><li>59</li><li>60</li><li>61</li><li>62</li><li>0</li><li>64</li><li>65</li><li>66</li><li>67</li><li>68</li><li>69</li><li>0</li><li>71</li><li>72</li><li>73</li><li>74</li><li>75</li><li>76</li><li>0</li><li>78</li><li>79</li><li>80</li><li>81</li><li>82</li><li>83</li><li>0</li><li>85</li><li>86</li><li>87</li><li>88</li><li>89</li><li>90</li></ol>\n"
      ],
      "text/latex": [
       "\\begin{enumerate*}\n",
       "\\item 51\n",
       "\\item 52\n",
       "\\item 53\n",
       "\\item 54\n",
       "\\item 55\n",
       "\\item 0\n",
       "\\item 57\n",
       "\\item 58\n",
       "\\item 59\n",
       "\\item 60\n",
       "\\item 61\n",
       "\\item 62\n",
       "\\item 0\n",
       "\\item 64\n",
       "\\item 65\n",
       "\\item 66\n",
       "\\item 67\n",
       "\\item 68\n",
       "\\item 69\n",
       "\\item 0\n",
       "\\item 71\n",
       "\\item 72\n",
       "\\item 73\n",
       "\\item 74\n",
       "\\item 75\n",
       "\\item 76\n",
       "\\item 0\n",
       "\\item 78\n",
       "\\item 79\n",
       "\\item 80\n",
       "\\item 81\n",
       "\\item 82\n",
       "\\item 83\n",
       "\\item 0\n",
       "\\item 85\n",
       "\\item 86\n",
       "\\item 87\n",
       "\\item 88\n",
       "\\item 89\n",
       "\\item 90\n",
       "\\end{enumerate*}\n"
      ],
      "text/markdown": [
       "1. 51\n",
       "2. 52\n",
       "3. 53\n",
       "4. 54\n",
       "5. 55\n",
       "6. 0\n",
       "7. 57\n",
       "8. 58\n",
       "9. 59\n",
       "10. 60\n",
       "11. 61\n",
       "12. 62\n",
       "13. 0\n",
       "14. 64\n",
       "15. 65\n",
       "16. 66\n",
       "17. 67\n",
       "18. 68\n",
       "19. 69\n",
       "20. 0\n",
       "21. 71\n",
       "22. 72\n",
       "23. 73\n",
       "24. 74\n",
       "25. 75\n",
       "26. 76\n",
       "27. 0\n",
       "28. 78\n",
       "29. 79\n",
       "30. 80\n",
       "31. 81\n",
       "32. 82\n",
       "33. 83\n",
       "34. 0\n",
       "35. 85\n",
       "36. 86\n",
       "37. 87\n",
       "38. 88\n",
       "39. 89\n",
       "40. 90\n",
       "\n",
       "\n"
      ],
      "text/plain": [
       " [1] 51 52 53 54 55  0 57 58 59 60 61 62  0 64 65 66 67 68 69  0 71 72 73 74 75\n",
       "[26] 76  0 78 79 80 81 82 83  0 85 86 87 88 89 90"
      ]
     },
     "metadata": {},
     "output_type": "display_data"
    }
   ],
   "source": [
    "v1"
   ]
  },
  {
   "cell_type": "code",
   "execution_count": 56,
   "id": "7d71b5e3",
   "metadata": {},
   "outputs": [],
   "source": [
    "v1 <- 51:90"
   ]
  },
  {
   "cell_type": "code",
   "execution_count": 57,
   "id": "05930082",
   "metadata": {},
   "outputs": [
    {
     "data": {
      "text/html": [
       "1420"
      ],
      "text/latex": [
       "1420"
      ],
      "text/markdown": [
       "1420"
      ],
      "text/plain": [
       "[1] 1420"
      ]
     },
     "metadata": {},
     "output_type": "display_data"
    }
   ],
   "source": [
    "sum(v1[v1 %% 2 == 0])"
   ]
  },
  {
   "cell_type": "code",
   "execution_count": 58,
   "id": "499e5f2c",
   "metadata": {},
   "outputs": [
    {
     "data": {
      "text/html": [
       "<style>\n",
       ".list-inline {list-style: none; margin:0; padding: 0}\n",
       ".list-inline>li {display: inline-block}\n",
       ".list-inline>li:not(:last-child)::after {content: \"\\00b7\"; padding: 0 .5ex}\n",
       "</style>\n",
       "<ol class=list-inline><li>51</li><li>53</li><li>55</li><li>57</li><li>59</li><li>61</li><li>63</li><li>65</li><li>67</li><li>69</li><li>71</li><li>73</li><li>75</li><li>77</li><li>79</li><li>81</li><li>82</li><li>83</li><li>84</li><li>85</li><li>86</li><li>87</li><li>88</li><li>89</li><li>90</li></ol>\n"
      ],
      "text/latex": [
       "\\begin{enumerate*}\n",
       "\\item 51\n",
       "\\item 53\n",
       "\\item 55\n",
       "\\item 57\n",
       "\\item 59\n",
       "\\item 61\n",
       "\\item 63\n",
       "\\item 65\n",
       "\\item 67\n",
       "\\item 69\n",
       "\\item 71\n",
       "\\item 73\n",
       "\\item 75\n",
       "\\item 77\n",
       "\\item 79\n",
       "\\item 81\n",
       "\\item 82\n",
       "\\item 83\n",
       "\\item 84\n",
       "\\item 85\n",
       "\\item 86\n",
       "\\item 87\n",
       "\\item 88\n",
       "\\item 89\n",
       "\\item 90\n",
       "\\end{enumerate*}\n"
      ],
      "text/markdown": [
       "1. 51\n",
       "2. 53\n",
       "3. 55\n",
       "4. 57\n",
       "5. 59\n",
       "6. 61\n",
       "7. 63\n",
       "8. 65\n",
       "9. 67\n",
       "10. 69\n",
       "11. 71\n",
       "12. 73\n",
       "13. 75\n",
       "14. 77\n",
       "15. 79\n",
       "16. 81\n",
       "17. 82\n",
       "18. 83\n",
       "19. 84\n",
       "20. 85\n",
       "21. 86\n",
       "22. 87\n",
       "23. 88\n",
       "24. 89\n",
       "25. 90\n",
       "\n",
       "\n"
      ],
      "text/plain": [
       " [1] 51 53 55 57 59 61 63 65 67 69 71 73 75 77 79 81 82 83 84 85 86 87 88 89 90"
      ]
     },
     "metadata": {},
     "output_type": "display_data"
    }
   ],
   "source": [
    "v1[v1 %% 2 == 1 | v1 > 80]"
   ]
  },
  {
   "cell_type": "code",
   "execution_count": 59,
   "id": "868d1225",
   "metadata": {},
   "outputs": [
    {
     "data": {
      "text/html": [
       "<style>\n",
       ".list-inline {list-style: none; margin:0; padding: 0}\n",
       ".list-inline>li {display: inline-block}\n",
       ".list-inline>li:not(:last-child)::after {content: \"\\00b7\"; padding: 0 .5ex}\n",
       "</style>\n",
       "<ol class=list-inline><li>60</li><li>75</li><li>90</li></ol>\n"
      ],
      "text/latex": [
       "\\begin{enumerate*}\n",
       "\\item 60\n",
       "\\item 75\n",
       "\\item 90\n",
       "\\end{enumerate*}\n"
      ],
      "text/markdown": [
       "1. 60\n",
       "2. 75\n",
       "3. 90\n",
       "\n",
       "\n"
      ],
      "text/plain": [
       "[1] 60 75 90"
      ]
     },
     "metadata": {},
     "output_type": "display_data"
    }
   ],
   "source": [
    "v1[v1 %% 3 == 0 & v1 %% 5 == 0]"
   ]
  },
  {
   "cell_type": "code",
   "execution_count": 61,
   "id": "ef123ff8",
   "metadata": {},
   "outputs": [
    {
     "data": {
      "text/html": [
       "<style>\n",
       ".list-inline {list-style: none; margin:0; padding: 0}\n",
       ".list-inline>li {display: inline-block}\n",
       ".list-inline>li:not(:last-child)::after {content: \"\\00b7\"; padding: 0 .5ex}\n",
       "</style>\n",
       "<ol class=list-inline><li>208</li><li>216</li><li>224</li><li>232</li><li>240</li><li>248</li><li>256</li><li>264</li><li>272</li><li>280</li><li>288</li><li>296</li><li>304</li><li>312</li><li>320</li><li>328</li><li>336</li><li>344</li><li>352</li><li>360</li></ol>\n"
      ],
      "text/latex": [
       "\\begin{enumerate*}\n",
       "\\item 208\n",
       "\\item 216\n",
       "\\item 224\n",
       "\\item 232\n",
       "\\item 240\n",
       "\\item 248\n",
       "\\item 256\n",
       "\\item 264\n",
       "\\item 272\n",
       "\\item 280\n",
       "\\item 288\n",
       "\\item 296\n",
       "\\item 304\n",
       "\\item 312\n",
       "\\item 320\n",
       "\\item 328\n",
       "\\item 336\n",
       "\\item 344\n",
       "\\item 352\n",
       "\\item 360\n",
       "\\end{enumerate*}\n"
      ],
      "text/markdown": [
       "1. 208\n",
       "2. 216\n",
       "3. 224\n",
       "4. 232\n",
       "5. 240\n",
       "6. 248\n",
       "7. 256\n",
       "8. 264\n",
       "9. 272\n",
       "10. 280\n",
       "11. 288\n",
       "12. 296\n",
       "13. 304\n",
       "14. 312\n",
       "15. 320\n",
       "16. 328\n",
       "17. 336\n",
       "18. 344\n",
       "19. 352\n",
       "20. 360\n",
       "\n",
       "\n"
      ],
      "text/plain": [
       " [1] 208 216 224 232 240 248 256 264 272 280 288 296 304 312 320 328 336 344 352\n",
       "[20] 360"
      ]
     },
     "metadata": {},
     "output_type": "display_data"
    }
   ],
   "source": [
    "v1 <- v1[v1 %% 2 == 0] * 2\n",
    "v1"
   ]
  },
  {
   "cell_type": "code",
   "execution_count": 62,
   "id": "4dae3e0c",
   "metadata": {},
   "outputs": [],
   "source": [
    "v1[v1%%2==0] <- v1[v1%%2==0] * 2"
   ]
  },
  {
   "cell_type": "code",
   "execution_count": 63,
   "id": "15aadef3",
   "metadata": {},
   "outputs": [
    {
     "data": {
      "text/html": [
       "<style>\n",
       ".list-inline {list-style: none; margin:0; padding: 0}\n",
       ".list-inline>li {display: inline-block}\n",
       ".list-inline>li:not(:last-child)::after {content: \"\\00b7\"; padding: 0 .5ex}\n",
       "</style>\n",
       "<ol class=list-inline><li>416</li><li>432</li><li>448</li><li>464</li><li>480</li><li>496</li><li>512</li><li>528</li><li>544</li><li>560</li><li>576</li><li>592</li><li>608</li><li>624</li><li>640</li><li>656</li><li>672</li><li>688</li><li>704</li><li>720</li></ol>\n"
      ],
      "text/latex": [
       "\\begin{enumerate*}\n",
       "\\item 416\n",
       "\\item 432\n",
       "\\item 448\n",
       "\\item 464\n",
       "\\item 480\n",
       "\\item 496\n",
       "\\item 512\n",
       "\\item 528\n",
       "\\item 544\n",
       "\\item 560\n",
       "\\item 576\n",
       "\\item 592\n",
       "\\item 608\n",
       "\\item 624\n",
       "\\item 640\n",
       "\\item 656\n",
       "\\item 672\n",
       "\\item 688\n",
       "\\item 704\n",
       "\\item 720\n",
       "\\end{enumerate*}\n"
      ],
      "text/markdown": [
       "1. 416\n",
       "2. 432\n",
       "3. 448\n",
       "4. 464\n",
       "5. 480\n",
       "6. 496\n",
       "7. 512\n",
       "8. 528\n",
       "9. 544\n",
       "10. 560\n",
       "11. 576\n",
       "12. 592\n",
       "13. 608\n",
       "14. 624\n",
       "15. 640\n",
       "16. 656\n",
       "17. 672\n",
       "18. 688\n",
       "19. 704\n",
       "20. 720\n",
       "\n",
       "\n"
      ],
      "text/plain": [
       " [1] 416 432 448 464 480 496 512 528 544 560 576 592 608 624 640 656 672 688 704\n",
       "[20] 720"
      ]
     },
     "metadata": {},
     "output_type": "display_data"
    }
   ],
   "source": [
    "v1"
   ]
  },
  {
   "cell_type": "code",
   "execution_count": 65,
   "id": "183ba397",
   "metadata": {},
   "outputs": [],
   "source": [
    "v1 <- 51:90"
   ]
  },
  {
   "cell_type": "code",
   "execution_count": 67,
   "id": "22b97478",
   "metadata": {},
   "outputs": [
    {
     "data": {
      "text/html": [
       "<style>\n",
       ".list-inline {list-style: none; margin:0; padding: 0}\n",
       ".list-inline>li {display: inline-block}\n",
       ".list-inline>li:not(:last-child)::after {content: \"\\00b7\"; padding: 0 .5ex}\n",
       "</style>\n",
       "<ol class=list-inline><li>51</li><li>52</li><li>53</li><li>54</li><li>55</li><li>57</li><li>58</li><li>59</li><li>60</li><li>61</li><li>62</li><li>64</li><li>65</li><li>66</li><li>67</li><li>68</li><li>69</li><li>71</li><li>72</li><li>73</li><li>74</li><li>75</li><li>76</li><li>78</li><li>79</li><li>80</li><li>81</li><li>82</li><li>83</li><li>85</li><li>86</li><li>87</li><li>88</li><li>89</li><li>90</li></ol>\n"
      ],
      "text/latex": [
       "\\begin{enumerate*}\n",
       "\\item 51\n",
       "\\item 52\n",
       "\\item 53\n",
       "\\item 54\n",
       "\\item 55\n",
       "\\item 57\n",
       "\\item 58\n",
       "\\item 59\n",
       "\\item 60\n",
       "\\item 61\n",
       "\\item 62\n",
       "\\item 64\n",
       "\\item 65\n",
       "\\item 66\n",
       "\\item 67\n",
       "\\item 68\n",
       "\\item 69\n",
       "\\item 71\n",
       "\\item 72\n",
       "\\item 73\n",
       "\\item 74\n",
       "\\item 75\n",
       "\\item 76\n",
       "\\item 78\n",
       "\\item 79\n",
       "\\item 80\n",
       "\\item 81\n",
       "\\item 82\n",
       "\\item 83\n",
       "\\item 85\n",
       "\\item 86\n",
       "\\item 87\n",
       "\\item 88\n",
       "\\item 89\n",
       "\\item 90\n",
       "\\end{enumerate*}\n"
      ],
      "text/markdown": [
       "1. 51\n",
       "2. 52\n",
       "3. 53\n",
       "4. 54\n",
       "5. 55\n",
       "6. 57\n",
       "7. 58\n",
       "8. 59\n",
       "9. 60\n",
       "10. 61\n",
       "11. 62\n",
       "12. 64\n",
       "13. 65\n",
       "14. 66\n",
       "15. 67\n",
       "16. 68\n",
       "17. 69\n",
       "18. 71\n",
       "19. 72\n",
       "20. 73\n",
       "21. 74\n",
       "22. 75\n",
       "23. 76\n",
       "24. 78\n",
       "25. 79\n",
       "26. 80\n",
       "27. 81\n",
       "28. 82\n",
       "29. 83\n",
       "30. 85\n",
       "31. 86\n",
       "32. 87\n",
       "33. 88\n",
       "34. 89\n",
       "35. 90\n",
       "\n",
       "\n"
      ],
      "text/plain": [
       " [1] 51 52 53 54 55 57 58 59 60 61 62 64 65 66 67 68 69 71 72 73 74 75 76 78 79\n",
       "[26] 80 81 82 83 85 86 87 88 89 90"
      ]
     },
     "metadata": {},
     "output_type": "display_data"
    }
   ],
   "source": [
    "v1 <- v1[v1%%7!=0]\n",
    "v1"
   ]
  },
  {
   "cell_type": "code",
   "execution_count": 68,
   "id": "d5616483",
   "metadata": {},
   "outputs": [
    {
     "data": {
      "text/html": [
       "<table class=\"dataframe\">\n",
       "<caption>A data.frame: 4 × 2</caption>\n",
       "<thead>\n",
       "\t<tr><th scope=col>m</th><th scope=col>f</th></tr>\n",
       "\t<tr><th scope=col>&lt;dbl&gt;</th><th scope=col>&lt;dbl&gt;</th></tr>\n",
       "</thead>\n",
       "<tbody>\n",
       "\t<tr><td>10</td><td>21</td></tr>\n",
       "\t<tr><td>40</td><td>60</td></tr>\n",
       "\t<tr><td>60</td><td>70</td></tr>\n",
       "\t<tr><td>20</td><td>30</td></tr>\n",
       "</tbody>\n",
       "</table>\n"
      ],
      "text/latex": [
       "A data.frame: 4 × 2\n",
       "\\begin{tabular}{ll}\n",
       " m & f\\\\\n",
       " <dbl> & <dbl>\\\\\n",
       "\\hline\n",
       "\t 10 & 21\\\\\n",
       "\t 40 & 60\\\\\n",
       "\t 60 & 70\\\\\n",
       "\t 20 & 30\\\\\n",
       "\\end{tabular}\n"
      ],
      "text/markdown": [
       "\n",
       "A data.frame: 4 × 2\n",
       "\n",
       "| m &lt;dbl&gt; | f &lt;dbl&gt; |\n",
       "|---|---|\n",
       "| 10 | 21 |\n",
       "| 40 | 60 |\n",
       "| 60 | 70 |\n",
       "| 20 | 30 |\n",
       "\n"
      ],
      "text/plain": [
       "  m  f \n",
       "1 10 21\n",
       "2 40 60\n",
       "3 60 70\n",
       "4 20 30"
      ]
     },
     "metadata": {},
     "output_type": "display_data"
    }
   ],
   "source": [
    "m <- c(10, 40, 60, 20)\n",
    "f <- c(21, 60, 70, 30)\n",
    "score <- data.frame(m, f)\n",
    "score"
   ]
  },
  {
   "cell_type": "code",
   "execution_count": 69,
   "id": "cf914f1e",
   "metadata": {},
   "outputs": [
    {
     "data": {
      "text/html": [
       "<table class=\"dataframe\">\n",
       "<caption>A data.frame: 4 × 2</caption>\n",
       "<thead>\n",
       "\t<tr><th scope=col>male</th><th scope=col>female</th></tr>\n",
       "\t<tr><th scope=col>&lt;dbl&gt;</th><th scope=col>&lt;dbl&gt;</th></tr>\n",
       "</thead>\n",
       "<tbody>\n",
       "\t<tr><td>10</td><td>21</td></tr>\n",
       "\t<tr><td>40</td><td>60</td></tr>\n",
       "\t<tr><td>60</td><td>70</td></tr>\n",
       "\t<tr><td>20</td><td>30</td></tr>\n",
       "</tbody>\n",
       "</table>\n"
      ],
      "text/latex": [
       "A data.frame: 4 × 2\n",
       "\\begin{tabular}{ll}\n",
       " male & female\\\\\n",
       " <dbl> & <dbl>\\\\\n",
       "\\hline\n",
       "\t 10 & 21\\\\\n",
       "\t 40 & 60\\\\\n",
       "\t 60 & 70\\\\\n",
       "\t 20 & 30\\\\\n",
       "\\end{tabular}\n"
      ],
      "text/markdown": [
       "\n",
       "A data.frame: 4 × 2\n",
       "\n",
       "| male &lt;dbl&gt; | female &lt;dbl&gt; |\n",
       "|---|---|\n",
       "| 10 | 21 |\n",
       "| 40 | 60 |\n",
       "| 60 | 70 |\n",
       "| 20 | 30 |\n",
       "\n"
      ],
      "text/plain": [
       "  male female\n",
       "1 10   21    \n",
       "2 40   60    \n",
       "3 60   70    \n",
       "4 20   30    "
      ]
     },
     "metadata": {},
     "output_type": "display_data"
    }
   ],
   "source": [
    "colnames(score) <- c('male', 'female')\n",
    "score"
   ]
  },
  {
   "cell_type": "code",
   "execution_count": 70,
   "id": "46fa0670",
   "metadata": {},
   "outputs": [
    {
     "data": {
      "text/html": [
       "<table class=\"dataframe\">\n",
       "<caption>A data.frame: 1 × 2</caption>\n",
       "<thead>\n",
       "\t<tr><th></th><th scope=col>male</th><th scope=col>female</th></tr>\n",
       "\t<tr><th></th><th scope=col>&lt;dbl&gt;</th><th scope=col>&lt;dbl&gt;</th></tr>\n",
       "</thead>\n",
       "<tbody>\n",
       "\t<tr><th scope=row>2</th><td>40</td><td>60</td></tr>\n",
       "</tbody>\n",
       "</table>\n"
      ],
      "text/latex": [
       "A data.frame: 1 × 2\n",
       "\\begin{tabular}{r|ll}\n",
       "  & male & female\\\\\n",
       "  & <dbl> & <dbl>\\\\\n",
       "\\hline\n",
       "\t2 & 40 & 60\\\\\n",
       "\\end{tabular}\n"
      ],
      "text/markdown": [
       "\n",
       "A data.frame: 1 × 2\n",
       "\n",
       "| <!--/--> | male &lt;dbl&gt; | female &lt;dbl&gt; |\n",
       "|---|---|---|\n",
       "| 2 | 40 | 60 |\n",
       "\n"
      ],
      "text/plain": [
       "  male female\n",
       "2 40   60    "
      ]
     },
     "metadata": {},
     "output_type": "display_data"
    }
   ],
   "source": [
    "score[2, ]"
   ]
  },
  {
   "cell_type": "code",
   "execution_count": 71,
   "id": "af663193",
   "metadata": {},
   "outputs": [
    {
     "data": {
      "text/html": [
       "<table class=\"dataframe\">\n",
       "<caption>A data.frame: 4 × 2</caption>\n",
       "<thead>\n",
       "\t<tr><th scope=col>male</th><th scope=col>female</th></tr>\n",
       "\t<tr><th scope=col>&lt;dbl&gt;</th><th scope=col>&lt;dbl&gt;</th></tr>\n",
       "</thead>\n",
       "<tbody>\n",
       "\t<tr><td>10</td><td>21</td></tr>\n",
       "\t<tr><td>40</td><td>60</td></tr>\n",
       "\t<tr><td>60</td><td>70</td></tr>\n",
       "\t<tr><td>20</td><td>30</td></tr>\n",
       "</tbody>\n",
       "</table>\n"
      ],
      "text/latex": [
       "A data.frame: 4 × 2\n",
       "\\begin{tabular}{ll}\n",
       " male & female\\\\\n",
       " <dbl> & <dbl>\\\\\n",
       "\\hline\n",
       "\t 10 & 21\\\\\n",
       "\t 40 & 60\\\\\n",
       "\t 60 & 70\\\\\n",
       "\t 20 & 30\\\\\n",
       "\\end{tabular}\n"
      ],
      "text/markdown": [
       "\n",
       "A data.frame: 4 × 2\n",
       "\n",
       "| male &lt;dbl&gt; | female &lt;dbl&gt; |\n",
       "|---|---|\n",
       "| 10 | 21 |\n",
       "| 40 | 60 |\n",
       "| 60 | 70 |\n",
       "| 20 | 30 |\n",
       "\n"
      ],
      "text/plain": [
       "  male female\n",
       "1 10   21    \n",
       "2 40   60    \n",
       "3 60   70    \n",
       "4 20   30    "
      ]
     },
     "metadata": {},
     "output_type": "display_data"
    }
   ],
   "source": [
    "score[]"
   ]
  },
  {
   "cell_type": "code",
   "execution_count": 72,
   "id": "3df97cc1",
   "metadata": {},
   "outputs": [
    {
     "data": {
      "text/html": [
       "<table class=\"dataframe\">\n",
       "<caption>A data.frame: 4 × 2</caption>\n",
       "<thead>\n",
       "\t<tr><th scope=col>male</th><th scope=col>female</th></tr>\n",
       "\t<tr><th scope=col>&lt;dbl&gt;</th><th scope=col>&lt;dbl&gt;</th></tr>\n",
       "</thead>\n",
       "<tbody>\n",
       "\t<tr><td>10</td><td>21</td></tr>\n",
       "\t<tr><td>40</td><td>60</td></tr>\n",
       "\t<tr><td>60</td><td>70</td></tr>\n",
       "\t<tr><td>20</td><td>30</td></tr>\n",
       "</tbody>\n",
       "</table>\n"
      ],
      "text/latex": [
       "A data.frame: 4 × 2\n",
       "\\begin{tabular}{ll}\n",
       " male & female\\\\\n",
       " <dbl> & <dbl>\\\\\n",
       "\\hline\n",
       "\t 10 & 21\\\\\n",
       "\t 40 & 60\\\\\n",
       "\t 60 & 70\\\\\n",
       "\t 20 & 30\\\\\n",
       "\\end{tabular}\n"
      ],
      "text/markdown": [
       "\n",
       "A data.frame: 4 × 2\n",
       "\n",
       "| male &lt;dbl&gt; | female &lt;dbl&gt; |\n",
       "|---|---|\n",
       "| 10 | 21 |\n",
       "| 40 | 60 |\n",
       "| 60 | 70 |\n",
       "| 20 | 30 |\n",
       "\n"
      ],
      "text/plain": [
       "  male female\n",
       "1 10   21    \n",
       "2 40   60    \n",
       "3 60   70    \n",
       "4 20   30    "
      ]
     },
     "metadata": {},
     "output_type": "display_data"
    }
   ],
   "source": [
    "score"
   ]
  },
  {
   "cell_type": "code",
   "execution_count": 73,
   "id": "f6d49d76",
   "metadata": {},
   "outputs": [
    {
     "data": {
      "text/html": [
       "70"
      ],
      "text/latex": [
       "70"
      ],
      "text/markdown": [
       "70"
      ],
      "text/plain": [
       "[1] 70"
      ]
     },
     "metadata": {},
     "output_type": "display_data"
    }
   ],
   "source": [
    "score[3, 2]"
   ]
  },
  {
   "cell_type": "code",
   "execution_count": 75,
   "id": "def6abc2",
   "metadata": {},
   "outputs": [
    {
     "data": {
      "text/html": [
       "<table class=\"dataframe\">\n",
       "<caption>A data.frame: 6 × 8</caption>\n",
       "<thead>\n",
       "\t<tr><th></th><th scope=col>Population</th><th scope=col>Income</th><th scope=col>Illiteracy</th><th scope=col>Life.Exp</th><th scope=col>Murder</th><th scope=col>HS.Grad</th><th scope=col>Frost</th><th scope=col>Area</th></tr>\n",
       "\t<tr><th></th><th scope=col>&lt;dbl&gt;</th><th scope=col>&lt;dbl&gt;</th><th scope=col>&lt;dbl&gt;</th><th scope=col>&lt;dbl&gt;</th><th scope=col>&lt;dbl&gt;</th><th scope=col>&lt;dbl&gt;</th><th scope=col>&lt;dbl&gt;</th><th scope=col>&lt;dbl&gt;</th></tr>\n",
       "</thead>\n",
       "<tbody>\n",
       "\t<tr><th scope=row>Alabama</th><td> 3615</td><td>3624</td><td>2.1</td><td>69.05</td><td>15.1</td><td>41.3</td><td> 20</td><td> 50708</td></tr>\n",
       "\t<tr><th scope=row>Alaska</th><td>  365</td><td>6315</td><td>1.5</td><td>69.31</td><td>11.3</td><td>66.7</td><td>152</td><td>566432</td></tr>\n",
       "\t<tr><th scope=row>Arizona</th><td> 2212</td><td>4530</td><td>1.8</td><td>70.55</td><td> 7.8</td><td>58.1</td><td> 15</td><td>113417</td></tr>\n",
       "\t<tr><th scope=row>Arkansas</th><td> 2110</td><td>3378</td><td>1.9</td><td>70.66</td><td>10.1</td><td>39.9</td><td> 65</td><td> 51945</td></tr>\n",
       "\t<tr><th scope=row>California</th><td>21198</td><td>5114</td><td>1.1</td><td>71.71</td><td>10.3</td><td>62.6</td><td> 20</td><td>156361</td></tr>\n",
       "\t<tr><th scope=row>Colorado</th><td> 2541</td><td>4884</td><td>0.7</td><td>72.06</td><td> 6.8</td><td>63.9</td><td>166</td><td>103766</td></tr>\n",
       "</tbody>\n",
       "</table>\n"
      ],
      "text/latex": [
       "A data.frame: 6 × 8\n",
       "\\begin{tabular}{r|llllllll}\n",
       "  & Population & Income & Illiteracy & Life.Exp & Murder & HS.Grad & Frost & Area\\\\\n",
       "  & <dbl> & <dbl> & <dbl> & <dbl> & <dbl> & <dbl> & <dbl> & <dbl>\\\\\n",
       "\\hline\n",
       "\tAlabama &  3615 & 3624 & 2.1 & 69.05 & 15.1 & 41.3 &  20 &  50708\\\\\n",
       "\tAlaska &   365 & 6315 & 1.5 & 69.31 & 11.3 & 66.7 & 152 & 566432\\\\\n",
       "\tArizona &  2212 & 4530 & 1.8 & 70.55 &  7.8 & 58.1 &  15 & 113417\\\\\n",
       "\tArkansas &  2110 & 3378 & 1.9 & 70.66 & 10.1 & 39.9 &  65 &  51945\\\\\n",
       "\tCalifornia & 21198 & 5114 & 1.1 & 71.71 & 10.3 & 62.6 &  20 & 156361\\\\\n",
       "\tColorado &  2541 & 4884 & 0.7 & 72.06 &  6.8 & 63.9 & 166 & 103766\\\\\n",
       "\\end{tabular}\n"
      ],
      "text/markdown": [
       "\n",
       "A data.frame: 6 × 8\n",
       "\n",
       "| <!--/--> | Population &lt;dbl&gt; | Income &lt;dbl&gt; | Illiteracy &lt;dbl&gt; | Life.Exp &lt;dbl&gt; | Murder &lt;dbl&gt; | HS.Grad &lt;dbl&gt; | Frost &lt;dbl&gt; | Area &lt;dbl&gt; |\n",
       "|---|---|---|---|---|---|---|---|---|\n",
       "| Alabama |  3615 | 3624 | 2.1 | 69.05 | 15.1 | 41.3 |  20 |  50708 |\n",
       "| Alaska |   365 | 6315 | 1.5 | 69.31 | 11.3 | 66.7 | 152 | 566432 |\n",
       "| Arizona |  2212 | 4530 | 1.8 | 70.55 |  7.8 | 58.1 |  15 | 113417 |\n",
       "| Arkansas |  2110 | 3378 | 1.9 | 70.66 | 10.1 | 39.9 |  65 |  51945 |\n",
       "| California | 21198 | 5114 | 1.1 | 71.71 | 10.3 | 62.6 |  20 | 156361 |\n",
       "| Colorado |  2541 | 4884 | 0.7 | 72.06 |  6.8 | 63.9 | 166 | 103766 |\n",
       "\n"
      ],
      "text/plain": [
       "           Population Income Illiteracy Life.Exp Murder HS.Grad Frost Area  \n",
       "Alabama     3615      3624   2.1        69.05    15.1   41.3     20    50708\n",
       "Alaska       365      6315   1.5        69.31    11.3   66.7    152   566432\n",
       "Arizona     2212      4530   1.8        70.55     7.8   58.1     15   113417\n",
       "Arkansas    2110      3378   1.9        70.66    10.1   39.9     65    51945\n",
       "California 21198      5114   1.1        71.71    10.3   62.6     20   156361\n",
       "Colorado    2541      4884   0.7        72.06     6.8   63.9    166   103766"
      ]
     },
     "metadata": {},
     "output_type": "display_data"
    }
   ],
   "source": [
    "st <- data.frame(state.x77)\n",
    "head(st)"
   ]
  },
  {
   "cell_type": "code",
   "execution_count": 77,
   "id": "44d6f40a",
   "metadata": {},
   "outputs": [
    {
     "data": {
      "text/html": [
       "<style>\n",
       ".list-inline {list-style: none; margin:0; padding: 0}\n",
       ".list-inline>li {display: inline-block}\n",
       ".list-inline>li:not(:last-child)::after {content: \"\\00b7\"; padding: 0 .5ex}\n",
       "</style>\n",
       "<ol class=list-inline><li>'Population'</li><li>'Income'</li><li>'Illiteracy'</li><li>'Life.Exp'</li><li>'Murder'</li><li>'HS.Grad'</li><li>'Frost'</li><li>'Area'</li></ol>\n"
      ],
      "text/latex": [
       "\\begin{enumerate*}\n",
       "\\item 'Population'\n",
       "\\item 'Income'\n",
       "\\item 'Illiteracy'\n",
       "\\item 'Life.Exp'\n",
       "\\item 'Murder'\n",
       "\\item 'HS.Grad'\n",
       "\\item 'Frost'\n",
       "\\item 'Area'\n",
       "\\end{enumerate*}\n"
      ],
      "text/markdown": [
       "1. 'Population'\n",
       "2. 'Income'\n",
       "3. 'Illiteracy'\n",
       "4. 'Life.Exp'\n",
       "5. 'Murder'\n",
       "6. 'HS.Grad'\n",
       "7. 'Frost'\n",
       "8. 'Area'\n",
       "\n",
       "\n"
      ],
      "text/plain": [
       "[1] \"Population\" \"Income\"     \"Illiteracy\" \"Life.Exp\"   \"Murder\"    \n",
       "[6] \"HS.Grad\"    \"Frost\"      \"Area\"      "
      ]
     },
     "metadata": {},
     "output_type": "display_data"
    },
    {
     "data": {
      "text/html": [
       "<style>\n",
       ".list-inline {list-style: none; margin:0; padding: 0}\n",
       ".list-inline>li {display: inline-block}\n",
       ".list-inline>li:not(:last-child)::after {content: \"\\00b7\"; padding: 0 .5ex}\n",
       "</style>\n",
       "<ol class=list-inline><li>'Alabama'</li><li>'Alaska'</li><li>'Arizona'</li><li>'Arkansas'</li><li>'California'</li><li>'Colorado'</li><li>'Connecticut'</li><li>'Delaware'</li><li>'Florida'</li><li>'Georgia'</li><li>'Hawaii'</li><li>'Idaho'</li><li>'Illinois'</li><li>'Indiana'</li><li>'Iowa'</li><li>'Kansas'</li><li>'Kentucky'</li><li>'Louisiana'</li><li>'Maine'</li><li>'Maryland'</li><li>'Massachusetts'</li><li>'Michigan'</li><li>'Minnesota'</li><li>'Mississippi'</li><li>'Missouri'</li><li>'Montana'</li><li>'Nebraska'</li><li>'Nevada'</li><li>'New Hampshire'</li><li>'New Jersey'</li><li>'New Mexico'</li><li>'New York'</li><li>'North Carolina'</li><li>'North Dakota'</li><li>'Ohio'</li><li>'Oklahoma'</li><li>'Oregon'</li><li>'Pennsylvania'</li><li>'Rhode Island'</li><li>'South Carolina'</li><li>'South Dakota'</li><li>'Tennessee'</li><li>'Texas'</li><li>'Utah'</li><li>'Vermont'</li><li>'Virginia'</li><li>'Washington'</li><li>'West Virginia'</li><li>'Wisconsin'</li><li>'Wyoming'</li></ol>\n"
      ],
      "text/latex": [
       "\\begin{enumerate*}\n",
       "\\item 'Alabama'\n",
       "\\item 'Alaska'\n",
       "\\item 'Arizona'\n",
       "\\item 'Arkansas'\n",
       "\\item 'California'\n",
       "\\item 'Colorado'\n",
       "\\item 'Connecticut'\n",
       "\\item 'Delaware'\n",
       "\\item 'Florida'\n",
       "\\item 'Georgia'\n",
       "\\item 'Hawaii'\n",
       "\\item 'Idaho'\n",
       "\\item 'Illinois'\n",
       "\\item 'Indiana'\n",
       "\\item 'Iowa'\n",
       "\\item 'Kansas'\n",
       "\\item 'Kentucky'\n",
       "\\item 'Louisiana'\n",
       "\\item 'Maine'\n",
       "\\item 'Maryland'\n",
       "\\item 'Massachusetts'\n",
       "\\item 'Michigan'\n",
       "\\item 'Minnesota'\n",
       "\\item 'Mississippi'\n",
       "\\item 'Missouri'\n",
       "\\item 'Montana'\n",
       "\\item 'Nebraska'\n",
       "\\item 'Nevada'\n",
       "\\item 'New Hampshire'\n",
       "\\item 'New Jersey'\n",
       "\\item 'New Mexico'\n",
       "\\item 'New York'\n",
       "\\item 'North Carolina'\n",
       "\\item 'North Dakota'\n",
       "\\item 'Ohio'\n",
       "\\item 'Oklahoma'\n",
       "\\item 'Oregon'\n",
       "\\item 'Pennsylvania'\n",
       "\\item 'Rhode Island'\n",
       "\\item 'South Carolina'\n",
       "\\item 'South Dakota'\n",
       "\\item 'Tennessee'\n",
       "\\item 'Texas'\n",
       "\\item 'Utah'\n",
       "\\item 'Vermont'\n",
       "\\item 'Virginia'\n",
       "\\item 'Washington'\n",
       "\\item 'West Virginia'\n",
       "\\item 'Wisconsin'\n",
       "\\item 'Wyoming'\n",
       "\\end{enumerate*}\n"
      ],
      "text/markdown": [
       "1. 'Alabama'\n",
       "2. 'Alaska'\n",
       "3. 'Arizona'\n",
       "4. 'Arkansas'\n",
       "5. 'California'\n",
       "6. 'Colorado'\n",
       "7. 'Connecticut'\n",
       "8. 'Delaware'\n",
       "9. 'Florida'\n",
       "10. 'Georgia'\n",
       "11. 'Hawaii'\n",
       "12. 'Idaho'\n",
       "13. 'Illinois'\n",
       "14. 'Indiana'\n",
       "15. 'Iowa'\n",
       "16. 'Kansas'\n",
       "17. 'Kentucky'\n",
       "18. 'Louisiana'\n",
       "19. 'Maine'\n",
       "20. 'Maryland'\n",
       "21. 'Massachusetts'\n",
       "22. 'Michigan'\n",
       "23. 'Minnesota'\n",
       "24. 'Mississippi'\n",
       "25. 'Missouri'\n",
       "26. 'Montana'\n",
       "27. 'Nebraska'\n",
       "28. 'Nevada'\n",
       "29. 'New Hampshire'\n",
       "30. 'New Jersey'\n",
       "31. 'New Mexico'\n",
       "32. 'New York'\n",
       "33. 'North Carolina'\n",
       "34. 'North Dakota'\n",
       "35. 'Ohio'\n",
       "36. 'Oklahoma'\n",
       "37. 'Oregon'\n",
       "38. 'Pennsylvania'\n",
       "39. 'Rhode Island'\n",
       "40. 'South Carolina'\n",
       "41. 'South Dakota'\n",
       "42. 'Tennessee'\n",
       "43. 'Texas'\n",
       "44. 'Utah'\n",
       "45. 'Vermont'\n",
       "46. 'Virginia'\n",
       "47. 'Washington'\n",
       "48. 'West Virginia'\n",
       "49. 'Wisconsin'\n",
       "50. 'Wyoming'\n",
       "\n",
       "\n"
      ],
      "text/plain": [
       " [1] \"Alabama\"        \"Alaska\"         \"Arizona\"        \"Arkansas\"      \n",
       " [5] \"California\"     \"Colorado\"       \"Connecticut\"    \"Delaware\"      \n",
       " [9] \"Florida\"        \"Georgia\"        \"Hawaii\"         \"Idaho\"         \n",
       "[13] \"Illinois\"       \"Indiana\"        \"Iowa\"           \"Kansas\"        \n",
       "[17] \"Kentucky\"       \"Louisiana\"      \"Maine\"          \"Maryland\"      \n",
       "[21] \"Massachusetts\"  \"Michigan\"       \"Minnesota\"      \"Mississippi\"   \n",
       "[25] \"Missouri\"       \"Montana\"        \"Nebraska\"       \"Nevada\"        \n",
       "[29] \"New Hampshire\"  \"New Jersey\"     \"New Mexico\"     \"New York\"      \n",
       "[33] \"North Carolina\" \"North Dakota\"   \"Ohio\"           \"Oklahoma\"      \n",
       "[37] \"Oregon\"         \"Pennsylvania\"   \"Rhode Island\"   \"South Carolina\"\n",
       "[41] \"South Dakota\"   \"Tennessee\"      \"Texas\"          \"Utah\"          \n",
       "[45] \"Vermont\"        \"Virginia\"       \"Washington\"     \"West Virginia\" \n",
       "[49] \"Wisconsin\"      \"Wyoming\"       "
      ]
     },
     "metadata": {},
     "output_type": "display_data"
    }
   ],
   "source": [
    "colnames(st)\n",
    "rownames(st)"
   ]
  },
  {
   "cell_type": "code",
   "execution_count": 78,
   "id": "53a5c7c6",
   "metadata": {},
   "outputs": [
    {
     "data": {
      "text/html": [
       "<style>\n",
       ".list-inline {list-style: none; margin:0; padding: 0}\n",
       ".list-inline>li {display: inline-block}\n",
       ".list-inline>li:not(:last-child)::after {content: \"\\00b7\"; padding: 0 .5ex}\n",
       "</style>\n",
       "<ol class=list-inline><li>50</li><li>8</li></ol>\n"
      ],
      "text/latex": [
       "\\begin{enumerate*}\n",
       "\\item 50\n",
       "\\item 8\n",
       "\\end{enumerate*}\n"
      ],
      "text/markdown": [
       "1. 50\n",
       "2. 8\n",
       "\n",
       "\n"
      ],
      "text/plain": [
       "[1] 50  8"
      ]
     },
     "metadata": {},
     "output_type": "display_data"
    }
   ],
   "source": [
    "dim(st)"
   ]
  },
  {
   "cell_type": "code",
   "execution_count": 79,
   "id": "88487635",
   "metadata": {},
   "outputs": [
    {
     "name": "stdout",
     "output_type": "stream",
     "text": [
      "'data.frame':\t50 obs. of  8 variables:\n",
      " $ Population: num  3615 365 2212 2110 21198 ...\n",
      " $ Income    : num  3624 6315 4530 3378 5114 ...\n",
      " $ Illiteracy: num  2.1 1.5 1.8 1.9 1.1 0.7 1.1 0.9 1.3 2 ...\n",
      " $ Life.Exp  : num  69 69.3 70.5 70.7 71.7 ...\n",
      " $ Murder    : num  15.1 11.3 7.8 10.1 10.3 6.8 3.1 6.2 10.7 13.9 ...\n",
      " $ HS.Grad   : num  41.3 66.7 58.1 39.9 62.6 63.9 56 54.6 52.6 40.6 ...\n",
      " $ Frost     : num  20 152 15 65 20 166 139 103 11 60 ...\n",
      " $ Area      : num  50708 566432 113417 51945 156361 ...\n"
     ]
    }
   ],
   "source": [
    "str(st)"
   ]
  },
  {
   "cell_type": "code",
   "execution_count": 83,
   "id": "382121a2",
   "metadata": {},
   "outputs": [
    {
     "data": {
      "text/html": [
       "<style>\n",
       ".dl-inline {width: auto; margin:0; padding: 0}\n",
       ".dl-inline>dt, .dl-inline>dd {float: none; width: auto; display: inline-block}\n",
       ".dl-inline>dt::after {content: \":\\0020\"; padding-right: .5ex}\n",
       ".dl-inline>dt:not(:first-of-type) {padding-left: .5ex}\n",
       "</style><dl class=dl-inline><dt>Alabama</dt><dd>58094.55</dd><dt>Alaska</dt><dd>573412.81</dd><dt>Arizona</dt><dd>120312.25</dd><dt>Arkansas</dt><dd>57620.56</dd><dt>California</dt><dd>182838.71</dd><dt>Colorado</dt><dd>111500.46</dd><dt>Connecticut</dt><dd>13581.68</dd><dt>Delaware</dt><dd>7604.76</dd><dt>Florida</dt><dd>67328.26</dd><dt>Georgia</dt><dd>67280.04</dd><dt>Hawaii</dt><dd>12399.6</dd><dt>Idaho</dt><dd>87872.27</dd><dt>Illinois</dt><dd>72312.94</dd><dt>Indiana</dt><dd>46121.58</dd><dt>Iowa</dt><dd>63704.36</dd><dt>Kansas</dt><dd>88987.58</dd><dt>Kentucky</dt><dd>46964.8</dd><dt>Louisiana</dt><dd>52419.96</dd><dt>Maine</dt><dd>35961.49</dd><dt>Maryland</dt><dd>19544.92</dd><dt>Massachusetts</dt><dd>18632.73</dd><dt>Michigan</dt><dd>70939.43</dd><dt>Minnesota</dt><dd>88178.46</dd><dt>Mississippi</dt><dd>52908.99</dd><dt>Missouri</dt><dd>78253.59</dd><dt>Montana</dt><dd>150970.36</dd><dt>Nebraska</dt><dd>82809.4</dd><dt>Nevada</dt><dd>115962.23</dd><dt>New Hampshire</dt><dd>14426.83</dd><dt>New Jersey</dt><dd>20335.73</dd><dt>New Mexico</dt><dd>126414.42</dd><dt>New York</dt><dd>71027.55</dd><dt>North Carolina</dt><dd>58314.61</dd><dt>North Dakota</dt><dd>75308.28</dd><dt>Ohio</dt><dd>56527.22</dd><dt>Oklahoma</dt><dd>75692.52</dd><dt>Oregon</dt><dd>103308.93</dd><dt>Pennsylvania</dt><dd>61528.73</dd><dt>Rhode Island</dt><dd>6787</dd><dt>South Carolina</dt><dd>36860.66</dd><dt>South Dakota</dt><dd>81102.58</dd><dt>Tennessee</dt><dd>49516.61</dd><dt>Texas</dt><dd>278726.7</dd><dt>Utah</dt><dd>87603.3</dd><dt>Vermont</dt><dd>13948.84</dd><dt>Virginia</dt><dd>49675.78</dd><dt>Washington</dt><dd>75165.12</dd><dt>West Virginia</dt><dd>29705.18</dd><dt>Wisconsin</dt><dd>63800.68</dd><dt>Wyoming</dt><dd>102458.69</dd></dl>\n"
      ],
      "text/latex": [
       "\\begin{description*}\n",
       "\\item[Alabama] 58094.55\n",
       "\\item[Alaska] 573412.81\n",
       "\\item[Arizona] 120312.25\n",
       "\\item[Arkansas] 57620.56\n",
       "\\item[California] 182838.71\n",
       "\\item[Colorado] 111500.46\n",
       "\\item[Connecticut] 13581.68\n",
       "\\item[Delaware] 7604.76\n",
       "\\item[Florida] 67328.26\n",
       "\\item[Georgia] 67280.04\n",
       "\\item[Hawaii] 12399.6\n",
       "\\item[Idaho] 87872.27\n",
       "\\item[Illinois] 72312.94\n",
       "\\item[Indiana] 46121.58\n",
       "\\item[Iowa] 63704.36\n",
       "\\item[Kansas] 88987.58\n",
       "\\item[Kentucky] 46964.8\n",
       "\\item[Louisiana] 52419.96\n",
       "\\item[Maine] 35961.49\n",
       "\\item[Maryland] 19544.92\n",
       "\\item[Massachusetts] 18632.73\n",
       "\\item[Michigan] 70939.43\n",
       "\\item[Minnesota] 88178.46\n",
       "\\item[Mississippi] 52908.99\n",
       "\\item[Missouri] 78253.59\n",
       "\\item[Montana] 150970.36\n",
       "\\item[Nebraska] 82809.4\n",
       "\\item[Nevada] 115962.23\n",
       "\\item[New Hampshire] 14426.83\n",
       "\\item[New Jersey] 20335.73\n",
       "\\item[New Mexico] 126414.42\n",
       "\\item[New York] 71027.55\n",
       "\\item[North Carolina] 58314.61\n",
       "\\item[North Dakota] 75308.28\n",
       "\\item[Ohio] 56527.22\n",
       "\\item[Oklahoma] 75692.52\n",
       "\\item[Oregon] 103308.93\n",
       "\\item[Pennsylvania] 61528.73\n",
       "\\item[Rhode Island] 6787\n",
       "\\item[South Carolina] 36860.66\n",
       "\\item[South Dakota] 81102.58\n",
       "\\item[Tennessee] 49516.61\n",
       "\\item[Texas] 278726.7\n",
       "\\item[Utah] 87603.3\n",
       "\\item[Vermont] 13948.84\n",
       "\\item[Virginia] 49675.78\n",
       "\\item[Washington] 75165.12\n",
       "\\item[West Virginia] 29705.18\n",
       "\\item[Wisconsin] 63800.68\n",
       "\\item[Wyoming] 102458.69\n",
       "\\end{description*}\n"
      ],
      "text/markdown": [
       "Alabama\n",
       ":   58094.55Alaska\n",
       ":   573412.81Arizona\n",
       ":   120312.25Arkansas\n",
       ":   57620.56California\n",
       ":   182838.71Colorado\n",
       ":   111500.46Connecticut\n",
       ":   13581.68Delaware\n",
       ":   7604.76Florida\n",
       ":   67328.26Georgia\n",
       ":   67280.04Hawaii\n",
       ":   12399.6Idaho\n",
       ":   87872.27Illinois\n",
       ":   72312.94Indiana\n",
       ":   46121.58Iowa\n",
       ":   63704.36Kansas\n",
       ":   88987.58Kentucky\n",
       ":   46964.8Louisiana\n",
       ":   52419.96Maine\n",
       ":   35961.49Maryland\n",
       ":   19544.92Massachusetts\n",
       ":   18632.73Michigan\n",
       ":   70939.43Minnesota\n",
       ":   88178.46Mississippi\n",
       ":   52908.99Missouri\n",
       ":   78253.59Montana\n",
       ":   150970.36Nebraska\n",
       ":   82809.4Nevada\n",
       ":   115962.23New Hampshire\n",
       ":   14426.83New Jersey\n",
       ":   20335.73New Mexico\n",
       ":   126414.42New York\n",
       ":   71027.55North Carolina\n",
       ":   58314.61North Dakota\n",
       ":   75308.28Ohio\n",
       ":   56527.22Oklahoma\n",
       ":   75692.52Oregon\n",
       ":   103308.93Pennsylvania\n",
       ":   61528.73Rhode Island\n",
       ":   6787South Carolina\n",
       ":   36860.66South Dakota\n",
       ":   81102.58Tennessee\n",
       ":   49516.61Texas\n",
       ":   278726.7Utah\n",
       ":   87603.3Vermont\n",
       ":   13948.84Virginia\n",
       ":   49675.78Washington\n",
       ":   75165.12West Virginia\n",
       ":   29705.18Wisconsin\n",
       ":   63800.68Wyoming\n",
       ":   102458.69\n",
       "\n"
      ],
      "text/plain": [
       "       Alabama         Alaska        Arizona       Arkansas     California \n",
       "      58094.55      573412.81      120312.25       57620.56      182838.71 \n",
       "      Colorado    Connecticut       Delaware        Florida        Georgia \n",
       "     111500.46       13581.68        7604.76       67328.26       67280.04 \n",
       "        Hawaii          Idaho       Illinois        Indiana           Iowa \n",
       "      12399.60       87872.27       72312.94       46121.58       63704.36 \n",
       "        Kansas       Kentucky      Louisiana          Maine       Maryland \n",
       "      88987.58       46964.80       52419.96       35961.49       19544.92 \n",
       " Massachusetts       Michigan      Minnesota    Mississippi       Missouri \n",
       "      18632.73       70939.43       88178.46       52908.99       78253.59 \n",
       "       Montana       Nebraska         Nevada  New Hampshire     New Jersey \n",
       "     150970.36       82809.40      115962.23       14426.83       20335.73 \n",
       "    New Mexico       New York North Carolina   North Dakota           Ohio \n",
       "     126414.42       71027.55       58314.61       75308.28       56527.22 \n",
       "      Oklahoma         Oregon   Pennsylvania   Rhode Island South Carolina \n",
       "      75692.52      103308.93       61528.73        6787.00       36860.66 \n",
       "  South Dakota      Tennessee          Texas           Utah        Vermont \n",
       "      81102.58       49516.61      278726.70       87603.30       13948.84 \n",
       "      Virginia     Washington  West Virginia      Wisconsin        Wyoming \n",
       "      49675.78       75165.12       29705.18       63800.68      102458.69 "
      ]
     },
     "metadata": {},
     "output_type": "display_data"
    }
   ],
   "source": [
    "apply(st, 1, sum)"
   ]
  },
  {
   "cell_type": "code",
   "execution_count": 84,
   "id": "cc9498f8",
   "metadata": {},
   "outputs": [
    {
     "data": {
      "text/html": [
       "<style>\n",
       ".dl-inline {width: auto; margin:0; padding: 0}\n",
       ".dl-inline>dt, .dl-inline>dd {float: none; width: auto; display: inline-block}\n",
       ".dl-inline>dt::after {content: \":\\0020\"; padding-right: .5ex}\n",
       ".dl-inline>dt:not(:first-of-type) {padding-left: .5ex}\n",
       "</style><dl class=dl-inline><dt>Alabama</dt><dd>7261.81875</dd><dt>Alaska</dt><dd>71676.60125</dd><dt>Arizona</dt><dd>15039.03125</dd><dt>Arkansas</dt><dd>7202.57</dd><dt>California</dt><dd>22854.83875</dd><dt>Colorado</dt><dd>13937.5575</dd><dt>Connecticut</dt><dd>1697.71</dd><dt>Delaware</dt><dd>950.595</dd><dt>Florida</dt><dd>8416.0325</dd><dt>Georgia</dt><dd>8410.005</dd><dt>Hawaii</dt><dd>1549.95</dd><dt>Idaho</dt><dd>10984.03375</dd><dt>Illinois</dt><dd>9039.1175</dd><dt>Indiana</dt><dd>5765.1975</dd><dt>Iowa</dt><dd>7963.045</dd><dt>Kansas</dt><dd>11123.4475</dd><dt>Kentucky</dt><dd>5870.6</dd><dt>Louisiana</dt><dd>6552.495</dd><dt>Maine</dt><dd>4495.18625</dd><dt>Maryland</dt><dd>2443.115</dd><dt>Massachusetts</dt><dd>2329.09125</dd><dt>Michigan</dt><dd>8867.42875</dd><dt>Minnesota</dt><dd>11022.3075</dd><dt>Mississippi</dt><dd>6613.62375</dd><dt>Missouri</dt><dd>9781.69875</dd><dt>Montana</dt><dd>18871.295</dd><dt>Nebraska</dt><dd>10351.175</dd><dt>Nevada</dt><dd>14495.27875</dd><dt>New Hampshire</dt><dd>1803.35375</dd><dt>New Jersey</dt><dd>2541.96625</dd><dt>New Mexico</dt><dd>15801.8025</dd><dt>New York</dt><dd>8878.44375</dd><dt>North Carolina</dt><dd>7289.32625</dd><dt>North Dakota</dt><dd>9413.535</dd><dt>Ohio</dt><dd>7065.9025</dd><dt>Oklahoma</dt><dd>9461.565</dd><dt>Oregon</dt><dd>12913.61625</dd><dt>Pennsylvania</dt><dd>7691.09125</dd><dt>Rhode Island</dt><dd>848.375</dd><dt>South Carolina</dt><dd>4607.5825</dd><dt>South Dakota</dt><dd>10137.8225</dd><dt>Tennessee</dt><dd>6189.57625</dd><dt>Texas</dt><dd>34840.8375</dd><dt>Utah</dt><dd>10950.4125</dd><dt>Vermont</dt><dd>1743.605</dd><dt>Virginia</dt><dd>6209.4725</dd><dt>Washington</dt><dd>9395.64</dd><dt>West Virginia</dt><dd>3713.1475</dd><dt>Wisconsin</dt><dd>7975.085</dd><dt>Wyoming</dt><dd>12807.33625</dd></dl>\n"
      ],
      "text/latex": [
       "\\begin{description*}\n",
       "\\item[Alabama] 7261.81875\n",
       "\\item[Alaska] 71676.60125\n",
       "\\item[Arizona] 15039.03125\n",
       "\\item[Arkansas] 7202.57\n",
       "\\item[California] 22854.83875\n",
       "\\item[Colorado] 13937.5575\n",
       "\\item[Connecticut] 1697.71\n",
       "\\item[Delaware] 950.595\n",
       "\\item[Florida] 8416.0325\n",
       "\\item[Georgia] 8410.005\n",
       "\\item[Hawaii] 1549.95\n",
       "\\item[Idaho] 10984.03375\n",
       "\\item[Illinois] 9039.1175\n",
       "\\item[Indiana] 5765.1975\n",
       "\\item[Iowa] 7963.045\n",
       "\\item[Kansas] 11123.4475\n",
       "\\item[Kentucky] 5870.6\n",
       "\\item[Louisiana] 6552.495\n",
       "\\item[Maine] 4495.18625\n",
       "\\item[Maryland] 2443.115\n",
       "\\item[Massachusetts] 2329.09125\n",
       "\\item[Michigan] 8867.42875\n",
       "\\item[Minnesota] 11022.3075\n",
       "\\item[Mississippi] 6613.62375\n",
       "\\item[Missouri] 9781.69875\n",
       "\\item[Montana] 18871.295\n",
       "\\item[Nebraska] 10351.175\n",
       "\\item[Nevada] 14495.27875\n",
       "\\item[New Hampshire] 1803.35375\n",
       "\\item[New Jersey] 2541.96625\n",
       "\\item[New Mexico] 15801.8025\n",
       "\\item[New York] 8878.44375\n",
       "\\item[North Carolina] 7289.32625\n",
       "\\item[North Dakota] 9413.535\n",
       "\\item[Ohio] 7065.9025\n",
       "\\item[Oklahoma] 9461.565\n",
       "\\item[Oregon] 12913.61625\n",
       "\\item[Pennsylvania] 7691.09125\n",
       "\\item[Rhode Island] 848.375\n",
       "\\item[South Carolina] 4607.5825\n",
       "\\item[South Dakota] 10137.8225\n",
       "\\item[Tennessee] 6189.57625\n",
       "\\item[Texas] 34840.8375\n",
       "\\item[Utah] 10950.4125\n",
       "\\item[Vermont] 1743.605\n",
       "\\item[Virginia] 6209.4725\n",
       "\\item[Washington] 9395.64\n",
       "\\item[West Virginia] 3713.1475\n",
       "\\item[Wisconsin] 7975.085\n",
       "\\item[Wyoming] 12807.33625\n",
       "\\end{description*}\n"
      ],
      "text/markdown": [
       "Alabama\n",
       ":   7261.81875Alaska\n",
       ":   71676.60125Arizona\n",
       ":   15039.03125Arkansas\n",
       ":   7202.57California\n",
       ":   22854.83875Colorado\n",
       ":   13937.5575Connecticut\n",
       ":   1697.71Delaware\n",
       ":   950.595Florida\n",
       ":   8416.0325Georgia\n",
       ":   8410.005Hawaii\n",
       ":   1549.95Idaho\n",
       ":   10984.03375Illinois\n",
       ":   9039.1175Indiana\n",
       ":   5765.1975Iowa\n",
       ":   7963.045Kansas\n",
       ":   11123.4475Kentucky\n",
       ":   5870.6Louisiana\n",
       ":   6552.495Maine\n",
       ":   4495.18625Maryland\n",
       ":   2443.115Massachusetts\n",
       ":   2329.09125Michigan\n",
       ":   8867.42875Minnesota\n",
       ":   11022.3075Mississippi\n",
       ":   6613.62375Missouri\n",
       ":   9781.69875Montana\n",
       ":   18871.295Nebraska\n",
       ":   10351.175Nevada\n",
       ":   14495.27875New Hampshire\n",
       ":   1803.35375New Jersey\n",
       ":   2541.96625New Mexico\n",
       ":   15801.8025New York\n",
       ":   8878.44375North Carolina\n",
       ":   7289.32625North Dakota\n",
       ":   9413.535Ohio\n",
       ":   7065.9025Oklahoma\n",
       ":   9461.565Oregon\n",
       ":   12913.61625Pennsylvania\n",
       ":   7691.09125Rhode Island\n",
       ":   848.375South Carolina\n",
       ":   4607.5825South Dakota\n",
       ":   10137.8225Tennessee\n",
       ":   6189.57625Texas\n",
       ":   34840.8375Utah\n",
       ":   10950.4125Vermont\n",
       ":   1743.605Virginia\n",
       ":   6209.4725Washington\n",
       ":   9395.64West Virginia\n",
       ":   3713.1475Wisconsin\n",
       ":   7975.085Wyoming\n",
       ":   12807.33625\n",
       "\n"
      ],
      "text/plain": [
       "       Alabama         Alaska        Arizona       Arkansas     California \n",
       "      7261.819      71676.601      15039.031       7202.570      22854.839 \n",
       "      Colorado    Connecticut       Delaware        Florida        Georgia \n",
       "     13937.558       1697.710        950.595       8416.032       8410.005 \n",
       "        Hawaii          Idaho       Illinois        Indiana           Iowa \n",
       "      1549.950      10984.034       9039.118       5765.198       7963.045 \n",
       "        Kansas       Kentucky      Louisiana          Maine       Maryland \n",
       "     11123.448       5870.600       6552.495       4495.186       2443.115 \n",
       " Massachusetts       Michigan      Minnesota    Mississippi       Missouri \n",
       "      2329.091       8867.429      11022.308       6613.624       9781.699 \n",
       "       Montana       Nebraska         Nevada  New Hampshire     New Jersey \n",
       "     18871.295      10351.175      14495.279       1803.354       2541.966 \n",
       "    New Mexico       New York North Carolina   North Dakota           Ohio \n",
       "     15801.802       8878.444       7289.326       9413.535       7065.903 \n",
       "      Oklahoma         Oregon   Pennsylvania   Rhode Island South Carolina \n",
       "      9461.565      12913.616       7691.091        848.375       4607.583 \n",
       "  South Dakota      Tennessee          Texas           Utah        Vermont \n",
       "     10137.823       6189.576      34840.838      10950.413       1743.605 \n",
       "      Virginia     Washington  West Virginia      Wisconsin        Wyoming \n",
       "      6209.472       9395.640       3713.148       7975.085      12807.336 "
      ]
     },
     "metadata": {},
     "output_type": "display_data"
    }
   ],
   "source": [
    "apply(st, 1, mean)"
   ]
  },
  {
   "cell_type": "code",
   "execution_count": 81,
   "id": "2f5f05ca",
   "metadata": {},
   "outputs": [
    {
     "data": {
      "text/html": [
       "<style>\n",
       ".dl-inline {width: auto; margin:0; padding: 0}\n",
       ".dl-inline>dt, .dl-inline>dd {float: none; width: auto; display: inline-block}\n",
       ".dl-inline>dt::after {content: \":\\0020\"; padding-right: .5ex}\n",
       ".dl-inline>dt:not(:first-of-type) {padding-left: .5ex}\n",
       "</style><dl class=dl-inline><dt>Population</dt><dd>212321</dd><dt>Income</dt><dd>221790</dd><dt>Illiteracy</dt><dd>58.5</dd><dt>Life.Exp</dt><dd>3543.93</dd><dt>Murder</dt><dd>368.9</dd><dt>HS.Grad</dt><dd>2655.4</dd><dt>Frost</dt><dd>5223</dd><dt>Area</dt><dd>3536794</dd></dl>\n"
      ],
      "text/latex": [
       "\\begin{description*}\n",
       "\\item[Population] 212321\n",
       "\\item[Income] 221790\n",
       "\\item[Illiteracy] 58.5\n",
       "\\item[Life.Exp] 3543.93\n",
       "\\item[Murder] 368.9\n",
       "\\item[HS.Grad] 2655.4\n",
       "\\item[Frost] 5223\n",
       "\\item[Area] 3536794\n",
       "\\end{description*}\n"
      ],
      "text/markdown": [
       "Population\n",
       ":   212321Income\n",
       ":   221790Illiteracy\n",
       ":   58.5Life.Exp\n",
       ":   3543.93Murder\n",
       ":   368.9HS.Grad\n",
       ":   2655.4Frost\n",
       ":   5223Area\n",
       ":   3536794\n",
       "\n"
      ],
      "text/plain": [
       "Population     Income Illiteracy   Life.Exp     Murder    HS.Grad      Frost \n",
       " 212321.00  221790.00      58.50    3543.93     368.90    2655.40    5223.00 \n",
       "      Area \n",
       "3536794.00 "
      ]
     },
     "metadata": {},
     "output_type": "display_data"
    }
   ],
   "source": [
    "apply(st, 2, sum)"
   ]
  },
  {
   "cell_type": "code",
   "execution_count": 86,
   "id": "ce7bf54c",
   "metadata": {},
   "outputs": [
    {
     "data": {
      "text/html": [
       "<style>\n",
       ".dl-inline {width: auto; margin:0; padding: 0}\n",
       ".dl-inline>dt, .dl-inline>dd {float: none; width: auto; display: inline-block}\n",
       ".dl-inline>dt::after {content: \":\\0020\"; padding-right: .5ex}\n",
       ".dl-inline>dt:not(:first-of-type) {padding-left: .5ex}\n",
       "</style><dl class=dl-inline><dt>Population</dt><dd>4246.42</dd><dt>Income</dt><dd>4435.8</dd><dt>Illiteracy</dt><dd>1.17</dd><dt>Life.Exp</dt><dd>70.8786</dd><dt>Murder</dt><dd>7.378</dd><dt>HS.Grad</dt><dd>53.108</dd><dt>Frost</dt><dd>104.46</dd><dt>Area</dt><dd>70735.88</dd></dl>\n"
      ],
      "text/latex": [
       "\\begin{description*}\n",
       "\\item[Population] 4246.42\n",
       "\\item[Income] 4435.8\n",
       "\\item[Illiteracy] 1.17\n",
       "\\item[Life.Exp] 70.8786\n",
       "\\item[Murder] 7.378\n",
       "\\item[HS.Grad] 53.108\n",
       "\\item[Frost] 104.46\n",
       "\\item[Area] 70735.88\n",
       "\\end{description*}\n"
      ],
      "text/markdown": [
       "Population\n",
       ":   4246.42Income\n",
       ":   4435.8Illiteracy\n",
       ":   1.17Life.Exp\n",
       ":   70.8786Murder\n",
       ":   7.378HS.Grad\n",
       ":   53.108Frost\n",
       ":   104.46Area\n",
       ":   70735.88\n",
       "\n"
      ],
      "text/plain": [
       "Population     Income Illiteracy   Life.Exp     Murder    HS.Grad      Frost \n",
       " 4246.4200  4435.8000     1.1700    70.8786     7.3780    53.1080   104.4600 \n",
       "      Area \n",
       "70735.8800 "
      ]
     },
     "metadata": {},
     "output_type": "display_data"
    }
   ],
   "source": [
    "apply(st, 2, mean)"
   ]
  },
  {
   "cell_type": "code",
   "execution_count": 87,
   "id": "ed205a2a",
   "metadata": {},
   "outputs": [
    {
     "data": {
      "text/html": [
       "<style>\n",
       ".dl-inline {width: auto; margin:0; padding: 0}\n",
       ".dl-inline>dt, .dl-inline>dd {float: none; width: auto; display: inline-block}\n",
       ".dl-inline>dt::after {content: \":\\0020\"; padding-right: .5ex}\n",
       ".dl-inline>dt:not(:first-of-type) {padding-left: .5ex}\n",
       "</style><dl class=dl-inline><dt>Population</dt><dd>212321</dd><dt>Income</dt><dd>221790</dd><dt>Illiteracy</dt><dd>58.5</dd><dt>Life.Exp</dt><dd>3543.93</dd><dt>Murder</dt><dd>368.9</dd><dt>HS.Grad</dt><dd>2655.4</dd><dt>Frost</dt><dd>5223</dd><dt>Area</dt><dd>3536794</dd></dl>\n"
      ],
      "text/latex": [
       "\\begin{description*}\n",
       "\\item[Population] 212321\n",
       "\\item[Income] 221790\n",
       "\\item[Illiteracy] 58.5\n",
       "\\item[Life.Exp] 3543.93\n",
       "\\item[Murder] 368.9\n",
       "\\item[HS.Grad] 2655.4\n",
       "\\item[Frost] 5223\n",
       "\\item[Area] 3536794\n",
       "\\end{description*}\n"
      ],
      "text/markdown": [
       "Population\n",
       ":   212321Income\n",
       ":   221790Illiteracy\n",
       ":   58.5Life.Exp\n",
       ":   3543.93Murder\n",
       ":   368.9HS.Grad\n",
       ":   2655.4Frost\n",
       ":   5223Area\n",
       ":   3536794\n",
       "\n"
      ],
      "text/plain": [
       "Population     Income Illiteracy   Life.Exp     Murder    HS.Grad      Frost \n",
       " 212321.00  221790.00      58.50    3543.93     368.90    2655.40    5223.00 \n",
       "      Area \n",
       "3536794.00 "
      ]
     },
     "metadata": {},
     "output_type": "display_data"
    }
   ],
   "source": [
    "colSums(st)"
   ]
  },
  {
   "cell_type": "code",
   "execution_count": 88,
   "id": "2798e8da",
   "metadata": {},
   "outputs": [
    {
     "data": {
      "text/html": [
       "<style>\n",
       ".dl-inline {width: auto; margin:0; padding: 0}\n",
       ".dl-inline>dt, .dl-inline>dd {float: none; width: auto; display: inline-block}\n",
       ".dl-inline>dt::after {content: \":\\0020\"; padding-right: .5ex}\n",
       ".dl-inline>dt:not(:first-of-type) {padding-left: .5ex}\n",
       "</style><dl class=dl-inline><dt>Population</dt><dd>4246.42</dd><dt>Income</dt><dd>4435.8</dd><dt>Illiteracy</dt><dd>1.17</dd><dt>Life.Exp</dt><dd>70.8786</dd><dt>Murder</dt><dd>7.378</dd><dt>HS.Grad</dt><dd>53.108</dd><dt>Frost</dt><dd>104.46</dd><dt>Area</dt><dd>70735.88</dd></dl>\n"
      ],
      "text/latex": [
       "\\begin{description*}\n",
       "\\item[Population] 4246.42\n",
       "\\item[Income] 4435.8\n",
       "\\item[Illiteracy] 1.17\n",
       "\\item[Life.Exp] 70.8786\n",
       "\\item[Murder] 7.378\n",
       "\\item[HS.Grad] 53.108\n",
       "\\item[Frost] 104.46\n",
       "\\item[Area] 70735.88\n",
       "\\end{description*}\n"
      ],
      "text/markdown": [
       "Population\n",
       ":   4246.42Income\n",
       ":   4435.8Illiteracy\n",
       ":   1.17Life.Exp\n",
       ":   70.8786Murder\n",
       ":   7.378HS.Grad\n",
       ":   53.108Frost\n",
       ":   104.46Area\n",
       ":   70735.88\n",
       "\n"
      ],
      "text/plain": [
       "Population     Income Illiteracy   Life.Exp     Murder    HS.Grad      Frost \n",
       " 4246.4200  4435.8000     1.1700    70.8786     7.3780    53.1080   104.4600 \n",
       "      Area \n",
       "70735.8800 "
      ]
     },
     "metadata": {},
     "output_type": "display_data"
    }
   ],
   "source": [
    "colMeans(st)"
   ]
  },
  {
   "cell_type": "code",
   "execution_count": 89,
   "id": "207b0b1b",
   "metadata": {},
   "outputs": [
    {
     "data": {
      "text/html": [
       "<style>\n",
       ".dl-inline {width: auto; margin:0; padding: 0}\n",
       ".dl-inline>dt, .dl-inline>dd {float: none; width: auto; display: inline-block}\n",
       ".dl-inline>dt::after {content: \":\\0020\"; padding-right: .5ex}\n",
       ".dl-inline>dt:not(:first-of-type) {padding-left: .5ex}\n",
       "</style><dl class=dl-inline><dt>Alabama</dt><dd>58094.55</dd><dt>Alaska</dt><dd>573412.81</dd><dt>Arizona</dt><dd>120312.25</dd><dt>Arkansas</dt><dd>57620.56</dd><dt>California</dt><dd>182838.71</dd><dt>Colorado</dt><dd>111500.46</dd><dt>Connecticut</dt><dd>13581.68</dd><dt>Delaware</dt><dd>7604.76</dd><dt>Florida</dt><dd>67328.26</dd><dt>Georgia</dt><dd>67280.04</dd><dt>Hawaii</dt><dd>12399.6</dd><dt>Idaho</dt><dd>87872.27</dd><dt>Illinois</dt><dd>72312.94</dd><dt>Indiana</dt><dd>46121.58</dd><dt>Iowa</dt><dd>63704.36</dd><dt>Kansas</dt><dd>88987.58</dd><dt>Kentucky</dt><dd>46964.8</dd><dt>Louisiana</dt><dd>52419.96</dd><dt>Maine</dt><dd>35961.49</dd><dt>Maryland</dt><dd>19544.92</dd><dt>Massachusetts</dt><dd>18632.73</dd><dt>Michigan</dt><dd>70939.43</dd><dt>Minnesota</dt><dd>88178.46</dd><dt>Mississippi</dt><dd>52908.99</dd><dt>Missouri</dt><dd>78253.59</dd><dt>Montana</dt><dd>150970.36</dd><dt>Nebraska</dt><dd>82809.4</dd><dt>Nevada</dt><dd>115962.23</dd><dt>New Hampshire</dt><dd>14426.83</dd><dt>New Jersey</dt><dd>20335.73</dd><dt>New Mexico</dt><dd>126414.42</dd><dt>New York</dt><dd>71027.55</dd><dt>North Carolina</dt><dd>58314.61</dd><dt>North Dakota</dt><dd>75308.28</dd><dt>Ohio</dt><dd>56527.22</dd><dt>Oklahoma</dt><dd>75692.52</dd><dt>Oregon</dt><dd>103308.93</dd><dt>Pennsylvania</dt><dd>61528.73</dd><dt>Rhode Island</dt><dd>6787</dd><dt>South Carolina</dt><dd>36860.66</dd><dt>South Dakota</dt><dd>81102.58</dd><dt>Tennessee</dt><dd>49516.61</dd><dt>Texas</dt><dd>278726.7</dd><dt>Utah</dt><dd>87603.3</dd><dt>Vermont</dt><dd>13948.84</dd><dt>Virginia</dt><dd>49675.78</dd><dt>Washington</dt><dd>75165.12</dd><dt>West Virginia</dt><dd>29705.18</dd><dt>Wisconsin</dt><dd>63800.68</dd><dt>Wyoming</dt><dd>102458.69</dd></dl>\n"
      ],
      "text/latex": [
       "\\begin{description*}\n",
       "\\item[Alabama] 58094.55\n",
       "\\item[Alaska] 573412.81\n",
       "\\item[Arizona] 120312.25\n",
       "\\item[Arkansas] 57620.56\n",
       "\\item[California] 182838.71\n",
       "\\item[Colorado] 111500.46\n",
       "\\item[Connecticut] 13581.68\n",
       "\\item[Delaware] 7604.76\n",
       "\\item[Florida] 67328.26\n",
       "\\item[Georgia] 67280.04\n",
       "\\item[Hawaii] 12399.6\n",
       "\\item[Idaho] 87872.27\n",
       "\\item[Illinois] 72312.94\n",
       "\\item[Indiana] 46121.58\n",
       "\\item[Iowa] 63704.36\n",
       "\\item[Kansas] 88987.58\n",
       "\\item[Kentucky] 46964.8\n",
       "\\item[Louisiana] 52419.96\n",
       "\\item[Maine] 35961.49\n",
       "\\item[Maryland] 19544.92\n",
       "\\item[Massachusetts] 18632.73\n",
       "\\item[Michigan] 70939.43\n",
       "\\item[Minnesota] 88178.46\n",
       "\\item[Mississippi] 52908.99\n",
       "\\item[Missouri] 78253.59\n",
       "\\item[Montana] 150970.36\n",
       "\\item[Nebraska] 82809.4\n",
       "\\item[Nevada] 115962.23\n",
       "\\item[New Hampshire] 14426.83\n",
       "\\item[New Jersey] 20335.73\n",
       "\\item[New Mexico] 126414.42\n",
       "\\item[New York] 71027.55\n",
       "\\item[North Carolina] 58314.61\n",
       "\\item[North Dakota] 75308.28\n",
       "\\item[Ohio] 56527.22\n",
       "\\item[Oklahoma] 75692.52\n",
       "\\item[Oregon] 103308.93\n",
       "\\item[Pennsylvania] 61528.73\n",
       "\\item[Rhode Island] 6787\n",
       "\\item[South Carolina] 36860.66\n",
       "\\item[South Dakota] 81102.58\n",
       "\\item[Tennessee] 49516.61\n",
       "\\item[Texas] 278726.7\n",
       "\\item[Utah] 87603.3\n",
       "\\item[Vermont] 13948.84\n",
       "\\item[Virginia] 49675.78\n",
       "\\item[Washington] 75165.12\n",
       "\\item[West Virginia] 29705.18\n",
       "\\item[Wisconsin] 63800.68\n",
       "\\item[Wyoming] 102458.69\n",
       "\\end{description*}\n"
      ],
      "text/markdown": [
       "Alabama\n",
       ":   58094.55Alaska\n",
       ":   573412.81Arizona\n",
       ":   120312.25Arkansas\n",
       ":   57620.56California\n",
       ":   182838.71Colorado\n",
       ":   111500.46Connecticut\n",
       ":   13581.68Delaware\n",
       ":   7604.76Florida\n",
       ":   67328.26Georgia\n",
       ":   67280.04Hawaii\n",
       ":   12399.6Idaho\n",
       ":   87872.27Illinois\n",
       ":   72312.94Indiana\n",
       ":   46121.58Iowa\n",
       ":   63704.36Kansas\n",
       ":   88987.58Kentucky\n",
       ":   46964.8Louisiana\n",
       ":   52419.96Maine\n",
       ":   35961.49Maryland\n",
       ":   19544.92Massachusetts\n",
       ":   18632.73Michigan\n",
       ":   70939.43Minnesota\n",
       ":   88178.46Mississippi\n",
       ":   52908.99Missouri\n",
       ":   78253.59Montana\n",
       ":   150970.36Nebraska\n",
       ":   82809.4Nevada\n",
       ":   115962.23New Hampshire\n",
       ":   14426.83New Jersey\n",
       ":   20335.73New Mexico\n",
       ":   126414.42New York\n",
       ":   71027.55North Carolina\n",
       ":   58314.61North Dakota\n",
       ":   75308.28Ohio\n",
       ":   56527.22Oklahoma\n",
       ":   75692.52Oregon\n",
       ":   103308.93Pennsylvania\n",
       ":   61528.73Rhode Island\n",
       ":   6787South Carolina\n",
       ":   36860.66South Dakota\n",
       ":   81102.58Tennessee\n",
       ":   49516.61Texas\n",
       ":   278726.7Utah\n",
       ":   87603.3Vermont\n",
       ":   13948.84Virginia\n",
       ":   49675.78Washington\n",
       ":   75165.12West Virginia\n",
       ":   29705.18Wisconsin\n",
       ":   63800.68Wyoming\n",
       ":   102458.69\n",
       "\n"
      ],
      "text/plain": [
       "       Alabama         Alaska        Arizona       Arkansas     California \n",
       "      58094.55      573412.81      120312.25       57620.56      182838.71 \n",
       "      Colorado    Connecticut       Delaware        Florida        Georgia \n",
       "     111500.46       13581.68        7604.76       67328.26       67280.04 \n",
       "        Hawaii          Idaho       Illinois        Indiana           Iowa \n",
       "      12399.60       87872.27       72312.94       46121.58       63704.36 \n",
       "        Kansas       Kentucky      Louisiana          Maine       Maryland \n",
       "      88987.58       46964.80       52419.96       35961.49       19544.92 \n",
       " Massachusetts       Michigan      Minnesota    Mississippi       Missouri \n",
       "      18632.73       70939.43       88178.46       52908.99       78253.59 \n",
       "       Montana       Nebraska         Nevada  New Hampshire     New Jersey \n",
       "     150970.36       82809.40      115962.23       14426.83       20335.73 \n",
       "    New Mexico       New York North Carolina   North Dakota           Ohio \n",
       "     126414.42       71027.55       58314.61       75308.28       56527.22 \n",
       "      Oklahoma         Oregon   Pennsylvania   Rhode Island South Carolina \n",
       "      75692.52      103308.93       61528.73        6787.00       36860.66 \n",
       "  South Dakota      Tennessee          Texas           Utah        Vermont \n",
       "      81102.58       49516.61      278726.70       87603.30       13948.84 \n",
       "      Virginia     Washington  West Virginia      Wisconsin        Wyoming \n",
       "      49675.78       75165.12       29705.18       63800.68      102458.69 "
      ]
     },
     "metadata": {},
     "output_type": "display_data"
    }
   ],
   "source": [
    "rowSums(st)"
   ]
  },
  {
   "cell_type": "code",
   "execution_count": 90,
   "id": "22392bea",
   "metadata": {},
   "outputs": [
    {
     "data": {
      "text/html": [
       "<style>\n",
       ".dl-inline {width: auto; margin:0; padding: 0}\n",
       ".dl-inline>dt, .dl-inline>dd {float: none; width: auto; display: inline-block}\n",
       ".dl-inline>dt::after {content: \":\\0020\"; padding-right: .5ex}\n",
       ".dl-inline>dt:not(:first-of-type) {padding-left: .5ex}\n",
       "</style><dl class=dl-inline><dt>Alabama</dt><dd>7261.81875</dd><dt>Alaska</dt><dd>71676.60125</dd><dt>Arizona</dt><dd>15039.03125</dd><dt>Arkansas</dt><dd>7202.57</dd><dt>California</dt><dd>22854.83875</dd><dt>Colorado</dt><dd>13937.5575</dd><dt>Connecticut</dt><dd>1697.71</dd><dt>Delaware</dt><dd>950.595</dd><dt>Florida</dt><dd>8416.0325</dd><dt>Georgia</dt><dd>8410.005</dd><dt>Hawaii</dt><dd>1549.95</dd><dt>Idaho</dt><dd>10984.03375</dd><dt>Illinois</dt><dd>9039.1175</dd><dt>Indiana</dt><dd>5765.1975</dd><dt>Iowa</dt><dd>7963.045</dd><dt>Kansas</dt><dd>11123.4475</dd><dt>Kentucky</dt><dd>5870.6</dd><dt>Louisiana</dt><dd>6552.495</dd><dt>Maine</dt><dd>4495.18625</dd><dt>Maryland</dt><dd>2443.115</dd><dt>Massachusetts</dt><dd>2329.09125</dd><dt>Michigan</dt><dd>8867.42875</dd><dt>Minnesota</dt><dd>11022.3075</dd><dt>Mississippi</dt><dd>6613.62375</dd><dt>Missouri</dt><dd>9781.69875</dd><dt>Montana</dt><dd>18871.295</dd><dt>Nebraska</dt><dd>10351.175</dd><dt>Nevada</dt><dd>14495.27875</dd><dt>New Hampshire</dt><dd>1803.35375</dd><dt>New Jersey</dt><dd>2541.96625</dd><dt>New Mexico</dt><dd>15801.8025</dd><dt>New York</dt><dd>8878.44375</dd><dt>North Carolina</dt><dd>7289.32625</dd><dt>North Dakota</dt><dd>9413.535</dd><dt>Ohio</dt><dd>7065.9025</dd><dt>Oklahoma</dt><dd>9461.565</dd><dt>Oregon</dt><dd>12913.61625</dd><dt>Pennsylvania</dt><dd>7691.09125</dd><dt>Rhode Island</dt><dd>848.375</dd><dt>South Carolina</dt><dd>4607.5825</dd><dt>South Dakota</dt><dd>10137.8225</dd><dt>Tennessee</dt><dd>6189.57625</dd><dt>Texas</dt><dd>34840.8375</dd><dt>Utah</dt><dd>10950.4125</dd><dt>Vermont</dt><dd>1743.605</dd><dt>Virginia</dt><dd>6209.4725</dd><dt>Washington</dt><dd>9395.64</dd><dt>West Virginia</dt><dd>3713.1475</dd><dt>Wisconsin</dt><dd>7975.085</dd><dt>Wyoming</dt><dd>12807.33625</dd></dl>\n"
      ],
      "text/latex": [
       "\\begin{description*}\n",
       "\\item[Alabama] 7261.81875\n",
       "\\item[Alaska] 71676.60125\n",
       "\\item[Arizona] 15039.03125\n",
       "\\item[Arkansas] 7202.57\n",
       "\\item[California] 22854.83875\n",
       "\\item[Colorado] 13937.5575\n",
       "\\item[Connecticut] 1697.71\n",
       "\\item[Delaware] 950.595\n",
       "\\item[Florida] 8416.0325\n",
       "\\item[Georgia] 8410.005\n",
       "\\item[Hawaii] 1549.95\n",
       "\\item[Idaho] 10984.03375\n",
       "\\item[Illinois] 9039.1175\n",
       "\\item[Indiana] 5765.1975\n",
       "\\item[Iowa] 7963.045\n",
       "\\item[Kansas] 11123.4475\n",
       "\\item[Kentucky] 5870.6\n",
       "\\item[Louisiana] 6552.495\n",
       "\\item[Maine] 4495.18625\n",
       "\\item[Maryland] 2443.115\n",
       "\\item[Massachusetts] 2329.09125\n",
       "\\item[Michigan] 8867.42875\n",
       "\\item[Minnesota] 11022.3075\n",
       "\\item[Mississippi] 6613.62375\n",
       "\\item[Missouri] 9781.69875\n",
       "\\item[Montana] 18871.295\n",
       "\\item[Nebraska] 10351.175\n",
       "\\item[Nevada] 14495.27875\n",
       "\\item[New Hampshire] 1803.35375\n",
       "\\item[New Jersey] 2541.96625\n",
       "\\item[New Mexico] 15801.8025\n",
       "\\item[New York] 8878.44375\n",
       "\\item[North Carolina] 7289.32625\n",
       "\\item[North Dakota] 9413.535\n",
       "\\item[Ohio] 7065.9025\n",
       "\\item[Oklahoma] 9461.565\n",
       "\\item[Oregon] 12913.61625\n",
       "\\item[Pennsylvania] 7691.09125\n",
       "\\item[Rhode Island] 848.375\n",
       "\\item[South Carolina] 4607.5825\n",
       "\\item[South Dakota] 10137.8225\n",
       "\\item[Tennessee] 6189.57625\n",
       "\\item[Texas] 34840.8375\n",
       "\\item[Utah] 10950.4125\n",
       "\\item[Vermont] 1743.605\n",
       "\\item[Virginia] 6209.4725\n",
       "\\item[Washington] 9395.64\n",
       "\\item[West Virginia] 3713.1475\n",
       "\\item[Wisconsin] 7975.085\n",
       "\\item[Wyoming] 12807.33625\n",
       "\\end{description*}\n"
      ],
      "text/markdown": [
       "Alabama\n",
       ":   7261.81875Alaska\n",
       ":   71676.60125Arizona\n",
       ":   15039.03125Arkansas\n",
       ":   7202.57California\n",
       ":   22854.83875Colorado\n",
       ":   13937.5575Connecticut\n",
       ":   1697.71Delaware\n",
       ":   950.595Florida\n",
       ":   8416.0325Georgia\n",
       ":   8410.005Hawaii\n",
       ":   1549.95Idaho\n",
       ":   10984.03375Illinois\n",
       ":   9039.1175Indiana\n",
       ":   5765.1975Iowa\n",
       ":   7963.045Kansas\n",
       ":   11123.4475Kentucky\n",
       ":   5870.6Louisiana\n",
       ":   6552.495Maine\n",
       ":   4495.18625Maryland\n",
       ":   2443.115Massachusetts\n",
       ":   2329.09125Michigan\n",
       ":   8867.42875Minnesota\n",
       ":   11022.3075Mississippi\n",
       ":   6613.62375Missouri\n",
       ":   9781.69875Montana\n",
       ":   18871.295Nebraska\n",
       ":   10351.175Nevada\n",
       ":   14495.27875New Hampshire\n",
       ":   1803.35375New Jersey\n",
       ":   2541.96625New Mexico\n",
       ":   15801.8025New York\n",
       ":   8878.44375North Carolina\n",
       ":   7289.32625North Dakota\n",
       ":   9413.535Ohio\n",
       ":   7065.9025Oklahoma\n",
       ":   9461.565Oregon\n",
       ":   12913.61625Pennsylvania\n",
       ":   7691.09125Rhode Island\n",
       ":   848.375South Carolina\n",
       ":   4607.5825South Dakota\n",
       ":   10137.8225Tennessee\n",
       ":   6189.57625Texas\n",
       ":   34840.8375Utah\n",
       ":   10950.4125Vermont\n",
       ":   1743.605Virginia\n",
       ":   6209.4725Washington\n",
       ":   9395.64West Virginia\n",
       ":   3713.1475Wisconsin\n",
       ":   7975.085Wyoming\n",
       ":   12807.33625\n",
       "\n"
      ],
      "text/plain": [
       "       Alabama         Alaska        Arizona       Arkansas     California \n",
       "      7261.819      71676.601      15039.031       7202.570      22854.839 \n",
       "      Colorado    Connecticut       Delaware        Florida        Georgia \n",
       "     13937.558       1697.710        950.595       8416.032       8410.005 \n",
       "        Hawaii          Idaho       Illinois        Indiana           Iowa \n",
       "      1549.950      10984.034       9039.118       5765.198       7963.045 \n",
       "        Kansas       Kentucky      Louisiana          Maine       Maryland \n",
       "     11123.448       5870.600       6552.495       4495.186       2443.115 \n",
       " Massachusetts       Michigan      Minnesota    Mississippi       Missouri \n",
       "      2329.091       8867.429      11022.308       6613.624       9781.699 \n",
       "       Montana       Nebraska         Nevada  New Hampshire     New Jersey \n",
       "     18871.295      10351.175      14495.279       1803.354       2541.966 \n",
       "    New Mexico       New York North Carolina   North Dakota           Ohio \n",
       "     15801.802       8878.444       7289.326       9413.535       7065.903 \n",
       "      Oklahoma         Oregon   Pennsylvania   Rhode Island South Carolina \n",
       "      9461.565      12913.616       7691.091        848.375       4607.583 \n",
       "  South Dakota      Tennessee          Texas           Utah        Vermont \n",
       "     10137.823       6189.576      34840.838      10950.413       1743.605 \n",
       "      Virginia     Washington  West Virginia      Wisconsin        Wyoming \n",
       "      6209.472       9395.640       3713.148       7975.085      12807.336 "
      ]
     },
     "metadata": {},
     "output_type": "display_data"
    }
   ],
   "source": [
    "rowMeans(st)"
   ]
  },
  {
   "cell_type": "code",
   "execution_count": 91,
   "id": "4d0efa14",
   "metadata": {},
   "outputs": [],
   "source": [
    "df = st"
   ]
  },
  {
   "cell_type": "code",
   "execution_count": 92,
   "id": "618fed60",
   "metadata": {},
   "outputs": [
    {
     "data": {
      "text/html": [
       "<table class=\"dataframe\">\n",
       "<caption>A data.frame: 1 × 8</caption>\n",
       "<thead>\n",
       "\t<tr><th></th><th scope=col>Population</th><th scope=col>Income</th><th scope=col>Illiteracy</th><th scope=col>Life.Exp</th><th scope=col>Murder</th><th scope=col>HS.Grad</th><th scope=col>Frost</th><th scope=col>Area</th></tr>\n",
       "\t<tr><th></th><th scope=col>&lt;dbl&gt;</th><th scope=col>&lt;dbl&gt;</th><th scope=col>&lt;dbl&gt;</th><th scope=col>&lt;dbl&gt;</th><th scope=col>&lt;dbl&gt;</th><th scope=col>&lt;dbl&gt;</th><th scope=col>&lt;dbl&gt;</th><th scope=col>&lt;dbl&gt;</th></tr>\n",
       "</thead>\n",
       "<tbody>\n",
       "\t<tr><th scope=row>Florida</th><td>8277</td><td>4815</td><td>1.3</td><td>70.66</td><td>10.7</td><td>52.6</td><td>11</td><td>54090</td></tr>\n",
       "</tbody>\n",
       "</table>\n"
      ],
      "text/latex": [
       "A data.frame: 1 × 8\n",
       "\\begin{tabular}{r|llllllll}\n",
       "  & Population & Income & Illiteracy & Life.Exp & Murder & HS.Grad & Frost & Area\\\\\n",
       "  & <dbl> & <dbl> & <dbl> & <dbl> & <dbl> & <dbl> & <dbl> & <dbl>\\\\\n",
       "\\hline\n",
       "\tFlorida & 8277 & 4815 & 1.3 & 70.66 & 10.7 & 52.6 & 11 & 54090\\\\\n",
       "\\end{tabular}\n"
      ],
      "text/markdown": [
       "\n",
       "A data.frame: 1 × 8\n",
       "\n",
       "| <!--/--> | Population &lt;dbl&gt; | Income &lt;dbl&gt; | Illiteracy &lt;dbl&gt; | Life.Exp &lt;dbl&gt; | Murder &lt;dbl&gt; | HS.Grad &lt;dbl&gt; | Frost &lt;dbl&gt; | Area &lt;dbl&gt; |\n",
       "|---|---|---|---|---|---|---|---|---|\n",
       "| Florida | 8277 | 4815 | 1.3 | 70.66 | 10.7 | 52.6 | 11 | 54090 |\n",
       "\n"
      ],
      "text/plain": [
       "        Population Income Illiteracy Life.Exp Murder HS.Grad Frost Area \n",
       "Florida 8277       4815   1.3        70.66    10.7   52.6    11    54090"
      ]
     },
     "metadata": {},
     "output_type": "display_data"
    }
   ],
   "source": [
    "df['Florida', ]"
   ]
  },
  {
   "cell_type": "code",
   "execution_count": 93,
   "id": "13985fb7",
   "metadata": {},
   "outputs": [
    {
     "data": {
      "text/html": [
       "<table class=\"dataframe\">\n",
       "<caption>A data.frame: 50 × 1</caption>\n",
       "<thead>\n",
       "\t<tr><th></th><th scope=col>Income</th></tr>\n",
       "\t<tr><th></th><th scope=col>&lt;dbl&gt;</th></tr>\n",
       "</thead>\n",
       "<tbody>\n",
       "\t<tr><th scope=row>Alabama</th><td>3624</td></tr>\n",
       "\t<tr><th scope=row>Alaska</th><td>6315</td></tr>\n",
       "\t<tr><th scope=row>Arizona</th><td>4530</td></tr>\n",
       "\t<tr><th scope=row>Arkansas</th><td>3378</td></tr>\n",
       "\t<tr><th scope=row>California</th><td>5114</td></tr>\n",
       "\t<tr><th scope=row>Colorado</th><td>4884</td></tr>\n",
       "\t<tr><th scope=row>Connecticut</th><td>5348</td></tr>\n",
       "\t<tr><th scope=row>Delaware</th><td>4809</td></tr>\n",
       "\t<tr><th scope=row>Florida</th><td>4815</td></tr>\n",
       "\t<tr><th scope=row>Georgia</th><td>4091</td></tr>\n",
       "\t<tr><th scope=row>Hawaii</th><td>4963</td></tr>\n",
       "\t<tr><th scope=row>Idaho</th><td>4119</td></tr>\n",
       "\t<tr><th scope=row>Illinois</th><td>5107</td></tr>\n",
       "\t<tr><th scope=row>Indiana</th><td>4458</td></tr>\n",
       "\t<tr><th scope=row>Iowa</th><td>4628</td></tr>\n",
       "\t<tr><th scope=row>Kansas</th><td>4669</td></tr>\n",
       "\t<tr><th scope=row>Kentucky</th><td>3712</td></tr>\n",
       "\t<tr><th scope=row>Louisiana</th><td>3545</td></tr>\n",
       "\t<tr><th scope=row>Maine</th><td>3694</td></tr>\n",
       "\t<tr><th scope=row>Maryland</th><td>5299</td></tr>\n",
       "\t<tr><th scope=row>Massachusetts</th><td>4755</td></tr>\n",
       "\t<tr><th scope=row>Michigan</th><td>4751</td></tr>\n",
       "\t<tr><th scope=row>Minnesota</th><td>4675</td></tr>\n",
       "\t<tr><th scope=row>Mississippi</th><td>3098</td></tr>\n",
       "\t<tr><th scope=row>Missouri</th><td>4254</td></tr>\n",
       "\t<tr><th scope=row>Montana</th><td>4347</td></tr>\n",
       "\t<tr><th scope=row>Nebraska</th><td>4508</td></tr>\n",
       "\t<tr><th scope=row>Nevada</th><td>5149</td></tr>\n",
       "\t<tr><th scope=row>New Hampshire</th><td>4281</td></tr>\n",
       "\t<tr><th scope=row>New Jersey</th><td>5237</td></tr>\n",
       "\t<tr><th scope=row>New Mexico</th><td>3601</td></tr>\n",
       "\t<tr><th scope=row>New York</th><td>4903</td></tr>\n",
       "\t<tr><th scope=row>North Carolina</th><td>3875</td></tr>\n",
       "\t<tr><th scope=row>North Dakota</th><td>5087</td></tr>\n",
       "\t<tr><th scope=row>Ohio</th><td>4561</td></tr>\n",
       "\t<tr><th scope=row>Oklahoma</th><td>3983</td></tr>\n",
       "\t<tr><th scope=row>Oregon</th><td>4660</td></tr>\n",
       "\t<tr><th scope=row>Pennsylvania</th><td>4449</td></tr>\n",
       "\t<tr><th scope=row>Rhode Island</th><td>4558</td></tr>\n",
       "\t<tr><th scope=row>South Carolina</th><td>3635</td></tr>\n",
       "\t<tr><th scope=row>South Dakota</th><td>4167</td></tr>\n",
       "\t<tr><th scope=row>Tennessee</th><td>3821</td></tr>\n",
       "\t<tr><th scope=row>Texas</th><td>4188</td></tr>\n",
       "\t<tr><th scope=row>Utah</th><td>4022</td></tr>\n",
       "\t<tr><th scope=row>Vermont</th><td>3907</td></tr>\n",
       "\t<tr><th scope=row>Virginia</th><td>4701</td></tr>\n",
       "\t<tr><th scope=row>Washington</th><td>4864</td></tr>\n",
       "\t<tr><th scope=row>West Virginia</th><td>3617</td></tr>\n",
       "\t<tr><th scope=row>Wisconsin</th><td>4468</td></tr>\n",
       "\t<tr><th scope=row>Wyoming</th><td>4566</td></tr>\n",
       "</tbody>\n",
       "</table>\n"
      ],
      "text/latex": [
       "A data.frame: 50 × 1\n",
       "\\begin{tabular}{r|l}\n",
       "  & Income\\\\\n",
       "  & <dbl>\\\\\n",
       "\\hline\n",
       "\tAlabama & 3624\\\\\n",
       "\tAlaska & 6315\\\\\n",
       "\tArizona & 4530\\\\\n",
       "\tArkansas & 3378\\\\\n",
       "\tCalifornia & 5114\\\\\n",
       "\tColorado & 4884\\\\\n",
       "\tConnecticut & 5348\\\\\n",
       "\tDelaware & 4809\\\\\n",
       "\tFlorida & 4815\\\\\n",
       "\tGeorgia & 4091\\\\\n",
       "\tHawaii & 4963\\\\\n",
       "\tIdaho & 4119\\\\\n",
       "\tIllinois & 5107\\\\\n",
       "\tIndiana & 4458\\\\\n",
       "\tIowa & 4628\\\\\n",
       "\tKansas & 4669\\\\\n",
       "\tKentucky & 3712\\\\\n",
       "\tLouisiana & 3545\\\\\n",
       "\tMaine & 3694\\\\\n",
       "\tMaryland & 5299\\\\\n",
       "\tMassachusetts & 4755\\\\\n",
       "\tMichigan & 4751\\\\\n",
       "\tMinnesota & 4675\\\\\n",
       "\tMississippi & 3098\\\\\n",
       "\tMissouri & 4254\\\\\n",
       "\tMontana & 4347\\\\\n",
       "\tNebraska & 4508\\\\\n",
       "\tNevada & 5149\\\\\n",
       "\tNew Hampshire & 4281\\\\\n",
       "\tNew Jersey & 5237\\\\\n",
       "\tNew Mexico & 3601\\\\\n",
       "\tNew York & 4903\\\\\n",
       "\tNorth Carolina & 3875\\\\\n",
       "\tNorth Dakota & 5087\\\\\n",
       "\tOhio & 4561\\\\\n",
       "\tOklahoma & 3983\\\\\n",
       "\tOregon & 4660\\\\\n",
       "\tPennsylvania & 4449\\\\\n",
       "\tRhode Island & 4558\\\\\n",
       "\tSouth Carolina & 3635\\\\\n",
       "\tSouth Dakota & 4167\\\\\n",
       "\tTennessee & 3821\\\\\n",
       "\tTexas & 4188\\\\\n",
       "\tUtah & 4022\\\\\n",
       "\tVermont & 3907\\\\\n",
       "\tVirginia & 4701\\\\\n",
       "\tWashington & 4864\\\\\n",
       "\tWest Virginia & 3617\\\\\n",
       "\tWisconsin & 4468\\\\\n",
       "\tWyoming & 4566\\\\\n",
       "\\end{tabular}\n"
      ],
      "text/markdown": [
       "\n",
       "A data.frame: 50 × 1\n",
       "\n",
       "| <!--/--> | Income &lt;dbl&gt; |\n",
       "|---|---|\n",
       "| Alabama | 3624 |\n",
       "| Alaska | 6315 |\n",
       "| Arizona | 4530 |\n",
       "| Arkansas | 3378 |\n",
       "| California | 5114 |\n",
       "| Colorado | 4884 |\n",
       "| Connecticut | 5348 |\n",
       "| Delaware | 4809 |\n",
       "| Florida | 4815 |\n",
       "| Georgia | 4091 |\n",
       "| Hawaii | 4963 |\n",
       "| Idaho | 4119 |\n",
       "| Illinois | 5107 |\n",
       "| Indiana | 4458 |\n",
       "| Iowa | 4628 |\n",
       "| Kansas | 4669 |\n",
       "| Kentucky | 3712 |\n",
       "| Louisiana | 3545 |\n",
       "| Maine | 3694 |\n",
       "| Maryland | 5299 |\n",
       "| Massachusetts | 4755 |\n",
       "| Michigan | 4751 |\n",
       "| Minnesota | 4675 |\n",
       "| Mississippi | 3098 |\n",
       "| Missouri | 4254 |\n",
       "| Montana | 4347 |\n",
       "| Nebraska | 4508 |\n",
       "| Nevada | 5149 |\n",
       "| New Hampshire | 4281 |\n",
       "| New Jersey | 5237 |\n",
       "| New Mexico | 3601 |\n",
       "| New York | 4903 |\n",
       "| North Carolina | 3875 |\n",
       "| North Dakota | 5087 |\n",
       "| Ohio | 4561 |\n",
       "| Oklahoma | 3983 |\n",
       "| Oregon | 4660 |\n",
       "| Pennsylvania | 4449 |\n",
       "| Rhode Island | 4558 |\n",
       "| South Carolina | 3635 |\n",
       "| South Dakota | 4167 |\n",
       "| Tennessee | 3821 |\n",
       "| Texas | 4188 |\n",
       "| Utah | 4022 |\n",
       "| Vermont | 3907 |\n",
       "| Virginia | 4701 |\n",
       "| Washington | 4864 |\n",
       "| West Virginia | 3617 |\n",
       "| Wisconsin | 4468 |\n",
       "| Wyoming | 4566 |\n",
       "\n"
      ],
      "text/plain": [
       "               Income\n",
       "Alabama        3624  \n",
       "Alaska         6315  \n",
       "Arizona        4530  \n",
       "Arkansas       3378  \n",
       "California     5114  \n",
       "Colorado       4884  \n",
       "Connecticut    5348  \n",
       "Delaware       4809  \n",
       "Florida        4815  \n",
       "Georgia        4091  \n",
       "Hawaii         4963  \n",
       "Idaho          4119  \n",
       "Illinois       5107  \n",
       "Indiana        4458  \n",
       "Iowa           4628  \n",
       "Kansas         4669  \n",
       "Kentucky       3712  \n",
       "Louisiana      3545  \n",
       "Maine          3694  \n",
       "Maryland       5299  \n",
       "Massachusetts  4755  \n",
       "Michigan       4751  \n",
       "Minnesota      4675  \n",
       "Mississippi    3098  \n",
       "Missouri       4254  \n",
       "Montana        4347  \n",
       "Nebraska       4508  \n",
       "Nevada         5149  \n",
       "New Hampshire  4281  \n",
       "New Jersey     5237  \n",
       "New Mexico     3601  \n",
       "New York       4903  \n",
       "North Carolina 3875  \n",
       "North Dakota   5087  \n",
       "Ohio           4561  \n",
       "Oklahoma       3983  \n",
       "Oregon         4660  \n",
       "Pennsylvania   4449  \n",
       "Rhode Island   4558  \n",
       "South Carolina 3635  \n",
       "South Dakota   4167  \n",
       "Tennessee      3821  \n",
       "Texas          4188  \n",
       "Utah           4022  \n",
       "Vermont        3907  \n",
       "Virginia       4701  \n",
       "Washington     4864  \n",
       "West Virginia  3617  \n",
       "Wisconsin      4468  \n",
       "Wyoming        4566  "
      ]
     },
     "metadata": {},
     "output_type": "display_data"
    }
   ],
   "source": [
    "df['Income']"
   ]
  },
  {
   "cell_type": "code",
   "execution_count": 94,
   "id": "08d78845",
   "metadata": {},
   "outputs": [
    {
     "data": {
      "text/html": [
       "262134"
      ],
      "text/latex": [
       "262134"
      ],
      "text/markdown": [
       "262134"
      ],
      "text/plain": [
       "[1] 262134"
      ]
     },
     "metadata": {},
     "output_type": "display_data"
    }
   ],
   "source": [
    "df['Texas','Area']"
   ]
  },
  {
   "cell_type": "code",
   "execution_count": 95,
   "id": "ed3e5a7c",
   "metadata": {},
   "outputs": [
    {
     "data": {
      "text/html": [
       "<table class=\"dataframe\">\n",
       "<caption>A data.frame: 1 × 2</caption>\n",
       "<thead>\n",
       "\t<tr><th></th><th scope=col>Population</th><th scope=col>Income</th></tr>\n",
       "\t<tr><th></th><th scope=col>&lt;dbl&gt;</th><th scope=col>&lt;dbl&gt;</th></tr>\n",
       "</thead>\n",
       "<tbody>\n",
       "\t<tr><th scope=row>Ohio</th><td>10735</td><td>4561</td></tr>\n",
       "</tbody>\n",
       "</table>\n"
      ],
      "text/latex": [
       "A data.frame: 1 × 2\n",
       "\\begin{tabular}{r|ll}\n",
       "  & Population & Income\\\\\n",
       "  & <dbl> & <dbl>\\\\\n",
       "\\hline\n",
       "\tOhio & 10735 & 4561\\\\\n",
       "\\end{tabular}\n"
      ],
      "text/markdown": [
       "\n",
       "A data.frame: 1 × 2\n",
       "\n",
       "| <!--/--> | Population &lt;dbl&gt; | Income &lt;dbl&gt; |\n",
       "|---|---|---|\n",
       "| Ohio | 10735 | 4561 |\n",
       "\n"
      ],
      "text/plain": [
       "     Population Income\n",
       "Ohio 10735      4561  "
      ]
     },
     "metadata": {},
     "output_type": "display_data"
    }
   ],
   "source": [
    "df['Ohio', c('Population', 'Income')]"
   ]
  },
  {
   "cell_type": "code",
   "execution_count": 97,
   "id": "beac2a3e",
   "metadata": {},
   "outputs": [
    {
     "data": {
      "text/html": [
       "<table class=\"dataframe\">\n",
       "<caption>A data.frame: 12 × 8</caption>\n",
       "<thead>\n",
       "\t<tr><th></th><th scope=col>Population</th><th scope=col>Income</th><th scope=col>Illiteracy</th><th scope=col>Life.Exp</th><th scope=col>Murder</th><th scope=col>HS.Grad</th><th scope=col>Frost</th><th scope=col>Area</th></tr>\n",
       "\t<tr><th></th><th scope=col>&lt;dbl&gt;</th><th scope=col>&lt;dbl&gt;</th><th scope=col>&lt;dbl&gt;</th><th scope=col>&lt;dbl&gt;</th><th scope=col>&lt;dbl&gt;</th><th scope=col>&lt;dbl&gt;</th><th scope=col>&lt;dbl&gt;</th><th scope=col>&lt;dbl&gt;</th></tr>\n",
       "</thead>\n",
       "<tbody>\n",
       "\t<tr><th scope=row>California</th><td>21198</td><td>5114</td><td>1.1</td><td>71.71</td><td>10.3</td><td>62.6</td><td> 20</td><td>156361</td></tr>\n",
       "\t<tr><th scope=row>Florida</th><td> 8277</td><td>4815</td><td>1.3</td><td>70.66</td><td>10.7</td><td>52.6</td><td> 11</td><td> 54090</td></tr>\n",
       "\t<tr><th scope=row>Illinois</th><td>11197</td><td>5107</td><td>0.9</td><td>70.14</td><td>10.3</td><td>52.6</td><td>127</td><td> 55748</td></tr>\n",
       "\t<tr><th scope=row>Indiana</th><td> 5313</td><td>4458</td><td>0.7</td><td>70.88</td><td> 7.1</td><td>52.9</td><td>122</td><td> 36097</td></tr>\n",
       "\t<tr><th scope=row>Massachusetts</th><td> 5814</td><td>4755</td><td>1.1</td><td>71.83</td><td> 3.3</td><td>58.5</td><td>103</td><td>  7826</td></tr>\n",
       "\t<tr><th scope=row>Michigan</th><td> 9111</td><td>4751</td><td>0.9</td><td>70.63</td><td>11.1</td><td>52.8</td><td>125</td><td> 56817</td></tr>\n",
       "\t<tr><th scope=row>New Jersey</th><td> 7333</td><td>5237</td><td>1.1</td><td>70.93</td><td> 5.2</td><td>52.5</td><td>115</td><td>  7521</td></tr>\n",
       "\t<tr><th scope=row>New York</th><td>18076</td><td>4903</td><td>1.4</td><td>70.55</td><td>10.9</td><td>52.7</td><td> 82</td><td> 47831</td></tr>\n",
       "\t<tr><th scope=row>North Carolina</th><td> 5441</td><td>3875</td><td>1.8</td><td>69.21</td><td>11.1</td><td>38.5</td><td> 80</td><td> 48798</td></tr>\n",
       "\t<tr><th scope=row>Ohio</th><td>10735</td><td>4561</td><td>0.8</td><td>70.82</td><td> 7.4</td><td>53.2</td><td>124</td><td> 40975</td></tr>\n",
       "\t<tr><th scope=row>Pennsylvania</th><td>11860</td><td>4449</td><td>1.0</td><td>70.43</td><td> 6.1</td><td>50.2</td><td>126</td><td> 44966</td></tr>\n",
       "\t<tr><th scope=row>Texas</th><td>12237</td><td>4188</td><td>2.2</td><td>70.90</td><td>12.2</td><td>47.4</td><td> 35</td><td>262134</td></tr>\n",
       "</tbody>\n",
       "</table>\n"
      ],
      "text/latex": [
       "A data.frame: 12 × 8\n",
       "\\begin{tabular}{r|llllllll}\n",
       "  & Population & Income & Illiteracy & Life.Exp & Murder & HS.Grad & Frost & Area\\\\\n",
       "  & <dbl> & <dbl> & <dbl> & <dbl> & <dbl> & <dbl> & <dbl> & <dbl>\\\\\n",
       "\\hline\n",
       "\tCalifornia & 21198 & 5114 & 1.1 & 71.71 & 10.3 & 62.6 &  20 & 156361\\\\\n",
       "\tFlorida &  8277 & 4815 & 1.3 & 70.66 & 10.7 & 52.6 &  11 &  54090\\\\\n",
       "\tIllinois & 11197 & 5107 & 0.9 & 70.14 & 10.3 & 52.6 & 127 &  55748\\\\\n",
       "\tIndiana &  5313 & 4458 & 0.7 & 70.88 &  7.1 & 52.9 & 122 &  36097\\\\\n",
       "\tMassachusetts &  5814 & 4755 & 1.1 & 71.83 &  3.3 & 58.5 & 103 &   7826\\\\\n",
       "\tMichigan &  9111 & 4751 & 0.9 & 70.63 & 11.1 & 52.8 & 125 &  56817\\\\\n",
       "\tNew Jersey &  7333 & 5237 & 1.1 & 70.93 &  5.2 & 52.5 & 115 &   7521\\\\\n",
       "\tNew York & 18076 & 4903 & 1.4 & 70.55 & 10.9 & 52.7 &  82 &  47831\\\\\n",
       "\tNorth Carolina &  5441 & 3875 & 1.8 & 69.21 & 11.1 & 38.5 &  80 &  48798\\\\\n",
       "\tOhio & 10735 & 4561 & 0.8 & 70.82 &  7.4 & 53.2 & 124 &  40975\\\\\n",
       "\tPennsylvania & 11860 & 4449 & 1.0 & 70.43 &  6.1 & 50.2 & 126 &  44966\\\\\n",
       "\tTexas & 12237 & 4188 & 2.2 & 70.90 & 12.2 & 47.4 &  35 & 262134\\\\\n",
       "\\end{tabular}\n"
      ],
      "text/markdown": [
       "\n",
       "A data.frame: 12 × 8\n",
       "\n",
       "| <!--/--> | Population &lt;dbl&gt; | Income &lt;dbl&gt; | Illiteracy &lt;dbl&gt; | Life.Exp &lt;dbl&gt; | Murder &lt;dbl&gt; | HS.Grad &lt;dbl&gt; | Frost &lt;dbl&gt; | Area &lt;dbl&gt; |\n",
       "|---|---|---|---|---|---|---|---|---|\n",
       "| California | 21198 | 5114 | 1.1 | 71.71 | 10.3 | 62.6 |  20 | 156361 |\n",
       "| Florida |  8277 | 4815 | 1.3 | 70.66 | 10.7 | 52.6 |  11 |  54090 |\n",
       "| Illinois | 11197 | 5107 | 0.9 | 70.14 | 10.3 | 52.6 | 127 |  55748 |\n",
       "| Indiana |  5313 | 4458 | 0.7 | 70.88 |  7.1 | 52.9 | 122 |  36097 |\n",
       "| Massachusetts |  5814 | 4755 | 1.1 | 71.83 |  3.3 | 58.5 | 103 |   7826 |\n",
       "| Michigan |  9111 | 4751 | 0.9 | 70.63 | 11.1 | 52.8 | 125 |  56817 |\n",
       "| New Jersey |  7333 | 5237 | 1.1 | 70.93 |  5.2 | 52.5 | 115 |   7521 |\n",
       "| New York | 18076 | 4903 | 1.4 | 70.55 | 10.9 | 52.7 |  82 |  47831 |\n",
       "| North Carolina |  5441 | 3875 | 1.8 | 69.21 | 11.1 | 38.5 |  80 |  48798 |\n",
       "| Ohio | 10735 | 4561 | 0.8 | 70.82 |  7.4 | 53.2 | 124 |  40975 |\n",
       "| Pennsylvania | 11860 | 4449 | 1.0 | 70.43 |  6.1 | 50.2 | 126 |  44966 |\n",
       "| Texas | 12237 | 4188 | 2.2 | 70.90 | 12.2 | 47.4 |  35 | 262134 |\n",
       "\n"
      ],
      "text/plain": [
       "               Population Income Illiteracy Life.Exp Murder HS.Grad Frost\n",
       "California     21198      5114   1.1        71.71    10.3   62.6     20  \n",
       "Florida         8277      4815   1.3        70.66    10.7   52.6     11  \n",
       "Illinois       11197      5107   0.9        70.14    10.3   52.6    127  \n",
       "Indiana         5313      4458   0.7        70.88     7.1   52.9    122  \n",
       "Massachusetts   5814      4755   1.1        71.83     3.3   58.5    103  \n",
       "Michigan        9111      4751   0.9        70.63    11.1   52.8    125  \n",
       "New Jersey      7333      5237   1.1        70.93     5.2   52.5    115  \n",
       "New York       18076      4903   1.4        70.55    10.9   52.7     82  \n",
       "North Carolina  5441      3875   1.8        69.21    11.1   38.5     80  \n",
       "Ohio           10735      4561   0.8        70.82     7.4   53.2    124  \n",
       "Pennsylvania   11860      4449   1.0        70.43     6.1   50.2    126  \n",
       "Texas          12237      4188   2.2        70.90    12.2   47.4     35  \n",
       "               Area  \n",
       "California     156361\n",
       "Florida         54090\n",
       "Illinois        55748\n",
       "Indiana         36097\n",
       "Massachusetts    7826\n",
       "Michigan        56817\n",
       "New Jersey       7521\n",
       "New York        47831\n",
       "North Carolina  48798\n",
       "Ohio            40975\n",
       "Pennsylvania    44966\n",
       "Texas          262134"
      ]
     },
     "metadata": {},
     "output_type": "display_data"
    }
   ],
   "source": [
    "df[df['Population'] >= 5000, ]"
   ]
  },
  {
   "cell_type": "code",
   "execution_count": 98,
   "id": "d0844440",
   "metadata": {},
   "outputs": [
    {
     "data": {
      "text/html": [
       "<table class=\"dataframe\">\n",
       "<caption>A data.frame: 26 × 3</caption>\n",
       "<thead>\n",
       "\t<tr><th></th><th scope=col>Population</th><th scope=col>Income</th><th scope=col>Area</th></tr>\n",
       "\t<tr><th></th><th scope=col>&lt;dbl&gt;</th><th scope=col>&lt;dbl&gt;</th><th scope=col>&lt;dbl&gt;</th></tr>\n",
       "</thead>\n",
       "<tbody>\n",
       "\t<tr><th scope=row>Alaska</th><td>  365</td><td>6315</td><td>566432</td></tr>\n",
       "\t<tr><th scope=row>Arizona</th><td> 2212</td><td>4530</td><td>113417</td></tr>\n",
       "\t<tr><th scope=row>California</th><td>21198</td><td>5114</td><td>156361</td></tr>\n",
       "\t<tr><th scope=row>Colorado</th><td> 2541</td><td>4884</td><td>103766</td></tr>\n",
       "\t<tr><th scope=row>Connecticut</th><td> 3100</td><td>5348</td><td>  4862</td></tr>\n",
       "\t<tr><th scope=row>Delaware</th><td>  579</td><td>4809</td><td>  1982</td></tr>\n",
       "\t<tr><th scope=row>Florida</th><td> 8277</td><td>4815</td><td> 54090</td></tr>\n",
       "\t<tr><th scope=row>Hawaii</th><td>  868</td><td>4963</td><td>  6425</td></tr>\n",
       "\t<tr><th scope=row>Illinois</th><td>11197</td><td>5107</td><td> 55748</td></tr>\n",
       "\t<tr><th scope=row>Iowa</th><td> 2861</td><td>4628</td><td> 55941</td></tr>\n",
       "\t<tr><th scope=row>Kansas</th><td> 2280</td><td>4669</td><td> 81787</td></tr>\n",
       "\t<tr><th scope=row>Maryland</th><td> 4122</td><td>5299</td><td>  9891</td></tr>\n",
       "\t<tr><th scope=row>Massachusetts</th><td> 5814</td><td>4755</td><td>  7826</td></tr>\n",
       "\t<tr><th scope=row>Michigan</th><td> 9111</td><td>4751</td><td> 56817</td></tr>\n",
       "\t<tr><th scope=row>Minnesota</th><td> 3921</td><td>4675</td><td> 79289</td></tr>\n",
       "\t<tr><th scope=row>Nebraska</th><td> 1544</td><td>4508</td><td> 76483</td></tr>\n",
       "\t<tr><th scope=row>Nevada</th><td>  590</td><td>5149</td><td>109889</td></tr>\n",
       "\t<tr><th scope=row>New Jersey</th><td> 7333</td><td>5237</td><td>  7521</td></tr>\n",
       "\t<tr><th scope=row>New York</th><td>18076</td><td>4903</td><td> 47831</td></tr>\n",
       "\t<tr><th scope=row>North Dakota</th><td>  637</td><td>5087</td><td> 69273</td></tr>\n",
       "\t<tr><th scope=row>Ohio</th><td>10735</td><td>4561</td><td> 40975</td></tr>\n",
       "\t<tr><th scope=row>Oregon</th><td> 2284</td><td>4660</td><td> 96184</td></tr>\n",
       "\t<tr><th scope=row>Rhode Island</th><td>  931</td><td>4558</td><td>  1049</td></tr>\n",
       "\t<tr><th scope=row>Virginia</th><td> 4981</td><td>4701</td><td> 39780</td></tr>\n",
       "\t<tr><th scope=row>Washington</th><td> 3559</td><td>4864</td><td> 66570</td></tr>\n",
       "\t<tr><th scope=row>Wyoming</th><td>  376</td><td>4566</td><td> 97203</td></tr>\n",
       "</tbody>\n",
       "</table>\n"
      ],
      "text/latex": [
       "A data.frame: 26 × 3\n",
       "\\begin{tabular}{r|lll}\n",
       "  & Population & Income & Area\\\\\n",
       "  & <dbl> & <dbl> & <dbl>\\\\\n",
       "\\hline\n",
       "\tAlaska &   365 & 6315 & 566432\\\\\n",
       "\tArizona &  2212 & 4530 & 113417\\\\\n",
       "\tCalifornia & 21198 & 5114 & 156361\\\\\n",
       "\tColorado &  2541 & 4884 & 103766\\\\\n",
       "\tConnecticut &  3100 & 5348 &   4862\\\\\n",
       "\tDelaware &   579 & 4809 &   1982\\\\\n",
       "\tFlorida &  8277 & 4815 &  54090\\\\\n",
       "\tHawaii &   868 & 4963 &   6425\\\\\n",
       "\tIllinois & 11197 & 5107 &  55748\\\\\n",
       "\tIowa &  2861 & 4628 &  55941\\\\\n",
       "\tKansas &  2280 & 4669 &  81787\\\\\n",
       "\tMaryland &  4122 & 5299 &   9891\\\\\n",
       "\tMassachusetts &  5814 & 4755 &   7826\\\\\n",
       "\tMichigan &  9111 & 4751 &  56817\\\\\n",
       "\tMinnesota &  3921 & 4675 &  79289\\\\\n",
       "\tNebraska &  1544 & 4508 &  76483\\\\\n",
       "\tNevada &   590 & 5149 & 109889\\\\\n",
       "\tNew Jersey &  7333 & 5237 &   7521\\\\\n",
       "\tNew York & 18076 & 4903 &  47831\\\\\n",
       "\tNorth Dakota &   637 & 5087 &  69273\\\\\n",
       "\tOhio & 10735 & 4561 &  40975\\\\\n",
       "\tOregon &  2284 & 4660 &  96184\\\\\n",
       "\tRhode Island &   931 & 4558 &   1049\\\\\n",
       "\tVirginia &  4981 & 4701 &  39780\\\\\n",
       "\tWashington &  3559 & 4864 &  66570\\\\\n",
       "\tWyoming &   376 & 4566 &  97203\\\\\n",
       "\\end{tabular}\n"
      ],
      "text/markdown": [
       "\n",
       "A data.frame: 26 × 3\n",
       "\n",
       "| <!--/--> | Population &lt;dbl&gt; | Income &lt;dbl&gt; | Area &lt;dbl&gt; |\n",
       "|---|---|---|---|\n",
       "| Alaska |   365 | 6315 | 566432 |\n",
       "| Arizona |  2212 | 4530 | 113417 |\n",
       "| California | 21198 | 5114 | 156361 |\n",
       "| Colorado |  2541 | 4884 | 103766 |\n",
       "| Connecticut |  3100 | 5348 |   4862 |\n",
       "| Delaware |   579 | 4809 |   1982 |\n",
       "| Florida |  8277 | 4815 |  54090 |\n",
       "| Hawaii |   868 | 4963 |   6425 |\n",
       "| Illinois | 11197 | 5107 |  55748 |\n",
       "| Iowa |  2861 | 4628 |  55941 |\n",
       "| Kansas |  2280 | 4669 |  81787 |\n",
       "| Maryland |  4122 | 5299 |   9891 |\n",
       "| Massachusetts |  5814 | 4755 |   7826 |\n",
       "| Michigan |  9111 | 4751 |  56817 |\n",
       "| Minnesota |  3921 | 4675 |  79289 |\n",
       "| Nebraska |  1544 | 4508 |  76483 |\n",
       "| Nevada |   590 | 5149 | 109889 |\n",
       "| New Jersey |  7333 | 5237 |   7521 |\n",
       "| New York | 18076 | 4903 |  47831 |\n",
       "| North Dakota |   637 | 5087 |  69273 |\n",
       "| Ohio | 10735 | 4561 |  40975 |\n",
       "| Oregon |  2284 | 4660 |  96184 |\n",
       "| Rhode Island |   931 | 4558 |   1049 |\n",
       "| Virginia |  4981 | 4701 |  39780 |\n",
       "| Washington |  3559 | 4864 |  66570 |\n",
       "| Wyoming |   376 | 4566 |  97203 |\n",
       "\n"
      ],
      "text/plain": [
       "              Population Income Area  \n",
       "Alaska          365      6315   566432\n",
       "Arizona        2212      4530   113417\n",
       "California    21198      5114   156361\n",
       "Colorado       2541      4884   103766\n",
       "Connecticut    3100      5348     4862\n",
       "Delaware        579      4809     1982\n",
       "Florida        8277      4815    54090\n",
       "Hawaii          868      4963     6425\n",
       "Illinois      11197      5107    55748\n",
       "Iowa           2861      4628    55941\n",
       "Kansas         2280      4669    81787\n",
       "Maryland       4122      5299     9891\n",
       "Massachusetts  5814      4755     7826\n",
       "Michigan       9111      4751    56817\n",
       "Minnesota      3921      4675    79289\n",
       "Nebraska       1544      4508    76483\n",
       "Nevada          590      5149   109889\n",
       "New Jersey     7333      5237     7521\n",
       "New York      18076      4903    47831\n",
       "North Dakota    637      5087    69273\n",
       "Ohio          10735      4561    40975\n",
       "Oregon         2284      4660    96184\n",
       "Rhode Island    931      4558     1049\n",
       "Virginia       4981      4701    39780\n",
       "Washington     3559      4864    66570\n",
       "Wyoming         376      4566    97203"
      ]
     },
     "metadata": {},
     "output_type": "display_data"
    }
   ],
   "source": [
    "df[df['Income'] >= 4500, c('Population','Income','Area')]"
   ]
  },
  {
   "cell_type": "code",
   "execution_count": 105,
   "id": "d6ea2600",
   "metadata": {},
   "outputs": [
    {
     "data": {
      "text/html": [
       "26"
      ],
      "text/latex": [
       "26"
      ],
      "text/markdown": [
       "26"
      ],
      "text/plain": [
       "[1] 26"
      ]
     },
     "metadata": {},
     "output_type": "display_data"
    }
   ],
   "source": [
    "nrow(df[df['Income'] >= 4500, ])"
   ]
  },
  {
   "cell_type": "code",
   "execution_count": 101,
   "id": "76eedaa7",
   "metadata": {},
   "outputs": [
    {
     "data": {
      "text/html": [
       "26"
      ],
      "text/latex": [
       "26"
      ],
      "text/markdown": [
       "26"
      ],
      "text/plain": [
       "[1] 26"
      ]
     },
     "metadata": {},
     "output_type": "display_data"
    }
   ],
   "source": [
    "nrow(subset(st, Income >= 4500))"
   ]
  },
  {
   "cell_type": "code",
   "execution_count": null,
   "id": "6521672b",
   "metadata": {},
   "outputs": [],
   "source": [
    "# nrow : 행의 개수를 셈\n",
    "# ncol : 열의 개수를 셈"
   ]
  },
  {
   "cell_type": "code",
   "execution_count": 106,
   "id": "4f1ff19c",
   "metadata": {},
   "outputs": [
    {
     "data": {
      "text/html": [
       "<table class=\"dataframe\">\n",
       "<caption>A data.frame: 5 × 8</caption>\n",
       "<thead>\n",
       "\t<tr><th></th><th scope=col>Population</th><th scope=col>Income</th><th scope=col>Illiteracy</th><th scope=col>Life.Exp</th><th scope=col>Murder</th><th scope=col>HS.Grad</th><th scope=col>Frost</th><th scope=col>Area</th></tr>\n",
       "\t<tr><th></th><th scope=col>&lt;dbl&gt;</th><th scope=col>&lt;dbl&gt;</th><th scope=col>&lt;dbl&gt;</th><th scope=col>&lt;dbl&gt;</th><th scope=col>&lt;dbl&gt;</th><th scope=col>&lt;dbl&gt;</th><th scope=col>&lt;dbl&gt;</th><th scope=col>&lt;dbl&gt;</th></tr>\n",
       "</thead>\n",
       "<tbody>\n",
       "\t<tr><th scope=row>Alaska</th><td> 365</td><td>6315</td><td>1.5</td><td>69.31</td><td>11.3</td><td>66.7</td><td>152</td><td>566432</td></tr>\n",
       "\t<tr><th scope=row>Colorado</th><td>2541</td><td>4884</td><td>0.7</td><td>72.06</td><td> 6.8</td><td>63.9</td><td>166</td><td>103766</td></tr>\n",
       "\t<tr><th scope=row>Montana</th><td> 746</td><td>4347</td><td>0.6</td><td>70.56</td><td> 5.0</td><td>59.2</td><td>155</td><td>145587</td></tr>\n",
       "\t<tr><th scope=row>Nevada</th><td> 590</td><td>5149</td><td>0.5</td><td>69.03</td><td>11.5</td><td>65.2</td><td>188</td><td>109889</td></tr>\n",
       "\t<tr><th scope=row>New Mexico</th><td>1144</td><td>3601</td><td>2.2</td><td>70.32</td><td> 9.7</td><td>55.2</td><td>120</td><td>121412</td></tr>\n",
       "</tbody>\n",
       "</table>\n"
      ],
      "text/latex": [
       "A data.frame: 5 × 8\n",
       "\\begin{tabular}{r|llllllll}\n",
       "  & Population & Income & Illiteracy & Life.Exp & Murder & HS.Grad & Frost & Area\\\\\n",
       "  & <dbl> & <dbl> & <dbl> & <dbl> & <dbl> & <dbl> & <dbl> & <dbl>\\\\\n",
       "\\hline\n",
       "\tAlaska &  365 & 6315 & 1.5 & 69.31 & 11.3 & 66.7 & 152 & 566432\\\\\n",
       "\tColorado & 2541 & 4884 & 0.7 & 72.06 &  6.8 & 63.9 & 166 & 103766\\\\\n",
       "\tMontana &  746 & 4347 & 0.6 & 70.56 &  5.0 & 59.2 & 155 & 145587\\\\\n",
       "\tNevada &  590 & 5149 & 0.5 & 69.03 & 11.5 & 65.2 & 188 & 109889\\\\\n",
       "\tNew Mexico & 1144 & 3601 & 2.2 & 70.32 &  9.7 & 55.2 & 120 & 121412\\\\\n",
       "\\end{tabular}\n"
      ],
      "text/markdown": [
       "\n",
       "A data.frame: 5 × 8\n",
       "\n",
       "| <!--/--> | Population &lt;dbl&gt; | Income &lt;dbl&gt; | Illiteracy &lt;dbl&gt; | Life.Exp &lt;dbl&gt; | Murder &lt;dbl&gt; | HS.Grad &lt;dbl&gt; | Frost &lt;dbl&gt; | Area &lt;dbl&gt; |\n",
       "|---|---|---|---|---|---|---|---|---|\n",
       "| Alaska |  365 | 6315 | 1.5 | 69.31 | 11.3 | 66.7 | 152 | 566432 |\n",
       "| Colorado | 2541 | 4884 | 0.7 | 72.06 |  6.8 | 63.9 | 166 | 103766 |\n",
       "| Montana |  746 | 4347 | 0.6 | 70.56 |  5.0 | 59.2 | 155 | 145587 |\n",
       "| Nevada |  590 | 5149 | 0.5 | 69.03 | 11.5 | 65.2 | 188 | 109889 |\n",
       "| New Mexico | 1144 | 3601 | 2.2 | 70.32 |  9.7 | 55.2 | 120 | 121412 |\n",
       "\n"
      ],
      "text/plain": [
       "           Population Income Illiteracy Life.Exp Murder HS.Grad Frost Area  \n",
       "Alaska      365       6315   1.5        69.31    11.3   66.7    152   566432\n",
       "Colorado   2541       4884   0.7        72.06     6.8   63.9    166   103766\n",
       "Montana     746       4347   0.6        70.56     5.0   59.2    155   145587\n",
       "Nevada      590       5149   0.5        69.03    11.5   65.2    188   109889\n",
       "New Mexico 1144       3601   2.2        70.32     9.7   55.2    120   121412"
      ]
     },
     "metadata": {},
     "output_type": "display_data"
    }
   ],
   "source": [
    "df[df['Area'] >= 100000 & df['Frost'] >= 120, ]"
   ]
  },
  {
   "cell_type": "code",
   "execution_count": 108,
   "id": "5b4f8da5",
   "metadata": {},
   "outputs": [
    {
     "data": {
      "text/html": [
       "<table class=\"dataframe\">\n",
       "<caption>A data.frame: 17 × 8</caption>\n",
       "<thead>\n",
       "\t<tr><th></th><th scope=col>Population</th><th scope=col>Income</th><th scope=col>Illiteracy</th><th scope=col>Life.Exp</th><th scope=col>Murder</th><th scope=col>HS.Grad</th><th scope=col>Frost</th><th scope=col>Area</th></tr>\n",
       "\t<tr><th></th><th scope=col>&lt;dbl&gt;</th><th scope=col>&lt;dbl&gt;</th><th scope=col>&lt;dbl&gt;</th><th scope=col>&lt;dbl&gt;</th><th scope=col>&lt;dbl&gt;</th><th scope=col>&lt;dbl&gt;</th><th scope=col>&lt;dbl&gt;</th><th scope=col>&lt;dbl&gt;</th></tr>\n",
       "</thead>\n",
       "<tbody>\n",
       "\t<tr><th scope=row>Alaska</th><td> 365</td><td>6315</td><td>1.5</td><td>69.31</td><td>11.3</td><td>66.7</td><td>152</td><td>566432</td></tr>\n",
       "\t<tr><th scope=row>Delaware</th><td> 579</td><td>4809</td><td>0.9</td><td>70.06</td><td> 6.2</td><td>54.6</td><td>103</td><td>  1982</td></tr>\n",
       "\t<tr><th scope=row>Hawaii</th><td> 868</td><td>4963</td><td>1.9</td><td>73.60</td><td> 6.2</td><td>61.9</td><td>  0</td><td>  6425</td></tr>\n",
       "\t<tr><th scope=row>Idaho</th><td> 813</td><td>4119</td><td>0.6</td><td>71.87</td><td> 5.3</td><td>59.5</td><td>126</td><td> 82677</td></tr>\n",
       "\t<tr><th scope=row>Maine</th><td>1058</td><td>3694</td><td>0.7</td><td>70.39</td><td> 2.7</td><td>54.7</td><td>161</td><td> 30920</td></tr>\n",
       "\t<tr><th scope=row>Montana</th><td> 746</td><td>4347</td><td>0.6</td><td>70.56</td><td> 5.0</td><td>59.2</td><td>155</td><td>145587</td></tr>\n",
       "\t<tr><th scope=row>Nebraska</th><td>1544</td><td>4508</td><td>0.6</td><td>72.60</td><td> 2.9</td><td>59.3</td><td>139</td><td> 76483</td></tr>\n",
       "\t<tr><th scope=row>Nevada</th><td> 590</td><td>5149</td><td>0.5</td><td>69.03</td><td>11.5</td><td>65.2</td><td>188</td><td>109889</td></tr>\n",
       "\t<tr><th scope=row>New Hampshire</th><td> 812</td><td>4281</td><td>0.7</td><td>71.23</td><td> 3.3</td><td>57.6</td><td>174</td><td>  9027</td></tr>\n",
       "\t<tr><th scope=row>New Mexico</th><td>1144</td><td>3601</td><td>2.2</td><td>70.32</td><td> 9.7</td><td>55.2</td><td>120</td><td>121412</td></tr>\n",
       "\t<tr><th scope=row>North Dakota</th><td> 637</td><td>5087</td><td>0.8</td><td>72.78</td><td> 1.4</td><td>50.3</td><td>186</td><td> 69273</td></tr>\n",
       "\t<tr><th scope=row>Rhode Island</th><td> 931</td><td>4558</td><td>1.3</td><td>71.90</td><td> 2.4</td><td>46.4</td><td>127</td><td>  1049</td></tr>\n",
       "\t<tr><th scope=row>South Dakota</th><td> 681</td><td>4167</td><td>0.5</td><td>72.08</td><td> 1.7</td><td>53.3</td><td>172</td><td> 75955</td></tr>\n",
       "\t<tr><th scope=row>Utah</th><td>1203</td><td>4022</td><td>0.6</td><td>72.90</td><td> 4.5</td><td>67.3</td><td>137</td><td> 82096</td></tr>\n",
       "\t<tr><th scope=row>Vermont</th><td> 472</td><td>3907</td><td>0.6</td><td>71.64</td><td> 5.5</td><td>57.1</td><td>168</td><td>  9267</td></tr>\n",
       "\t<tr><th scope=row>West Virginia</th><td>1799</td><td>3617</td><td>1.4</td><td>69.48</td><td> 6.7</td><td>41.6</td><td>100</td><td> 24070</td></tr>\n",
       "\t<tr><th scope=row>Wyoming</th><td> 376</td><td>4566</td><td>0.6</td><td>70.29</td><td> 6.9</td><td>62.9</td><td>173</td><td> 97203</td></tr>\n",
       "</tbody>\n",
       "</table>\n"
      ],
      "text/latex": [
       "A data.frame: 17 × 8\n",
       "\\begin{tabular}{r|llllllll}\n",
       "  & Population & Income & Illiteracy & Life.Exp & Murder & HS.Grad & Frost & Area\\\\\n",
       "  & <dbl> & <dbl> & <dbl> & <dbl> & <dbl> & <dbl> & <dbl> & <dbl>\\\\\n",
       "\\hline\n",
       "\tAlaska &  365 & 6315 & 1.5 & 69.31 & 11.3 & 66.7 & 152 & 566432\\\\\n",
       "\tDelaware &  579 & 4809 & 0.9 & 70.06 &  6.2 & 54.6 & 103 &   1982\\\\\n",
       "\tHawaii &  868 & 4963 & 1.9 & 73.60 &  6.2 & 61.9 &   0 &   6425\\\\\n",
       "\tIdaho &  813 & 4119 & 0.6 & 71.87 &  5.3 & 59.5 & 126 &  82677\\\\\n",
       "\tMaine & 1058 & 3694 & 0.7 & 70.39 &  2.7 & 54.7 & 161 &  30920\\\\\n",
       "\tMontana &  746 & 4347 & 0.6 & 70.56 &  5.0 & 59.2 & 155 & 145587\\\\\n",
       "\tNebraska & 1544 & 4508 & 0.6 & 72.60 &  2.9 & 59.3 & 139 &  76483\\\\\n",
       "\tNevada &  590 & 5149 & 0.5 & 69.03 & 11.5 & 65.2 & 188 & 109889\\\\\n",
       "\tNew Hampshire &  812 & 4281 & 0.7 & 71.23 &  3.3 & 57.6 & 174 &   9027\\\\\n",
       "\tNew Mexico & 1144 & 3601 & 2.2 & 70.32 &  9.7 & 55.2 & 120 & 121412\\\\\n",
       "\tNorth Dakota &  637 & 5087 & 0.8 & 72.78 &  1.4 & 50.3 & 186 &  69273\\\\\n",
       "\tRhode Island &  931 & 4558 & 1.3 & 71.90 &  2.4 & 46.4 & 127 &   1049\\\\\n",
       "\tSouth Dakota &  681 & 4167 & 0.5 & 72.08 &  1.7 & 53.3 & 172 &  75955\\\\\n",
       "\tUtah & 1203 & 4022 & 0.6 & 72.90 &  4.5 & 67.3 & 137 &  82096\\\\\n",
       "\tVermont &  472 & 3907 & 0.6 & 71.64 &  5.5 & 57.1 & 168 &   9267\\\\\n",
       "\tWest Virginia & 1799 & 3617 & 1.4 & 69.48 &  6.7 & 41.6 & 100 &  24070\\\\\n",
       "\tWyoming &  376 & 4566 & 0.6 & 70.29 &  6.9 & 62.9 & 173 &  97203\\\\\n",
       "\\end{tabular}\n"
      ],
      "text/markdown": [
       "\n",
       "A data.frame: 17 × 8\n",
       "\n",
       "| <!--/--> | Population &lt;dbl&gt; | Income &lt;dbl&gt; | Illiteracy &lt;dbl&gt; | Life.Exp &lt;dbl&gt; | Murder &lt;dbl&gt; | HS.Grad &lt;dbl&gt; | Frost &lt;dbl&gt; | Area &lt;dbl&gt; |\n",
       "|---|---|---|---|---|---|---|---|---|\n",
       "| Alaska |  365 | 6315 | 1.5 | 69.31 | 11.3 | 66.7 | 152 | 566432 |\n",
       "| Delaware |  579 | 4809 | 0.9 | 70.06 |  6.2 | 54.6 | 103 |   1982 |\n",
       "| Hawaii |  868 | 4963 | 1.9 | 73.60 |  6.2 | 61.9 |   0 |   6425 |\n",
       "| Idaho |  813 | 4119 | 0.6 | 71.87 |  5.3 | 59.5 | 126 |  82677 |\n",
       "| Maine | 1058 | 3694 | 0.7 | 70.39 |  2.7 | 54.7 | 161 |  30920 |\n",
       "| Montana |  746 | 4347 | 0.6 | 70.56 |  5.0 | 59.2 | 155 | 145587 |\n",
       "| Nebraska | 1544 | 4508 | 0.6 | 72.60 |  2.9 | 59.3 | 139 |  76483 |\n",
       "| Nevada |  590 | 5149 | 0.5 | 69.03 | 11.5 | 65.2 | 188 | 109889 |\n",
       "| New Hampshire |  812 | 4281 | 0.7 | 71.23 |  3.3 | 57.6 | 174 |   9027 |\n",
       "| New Mexico | 1144 | 3601 | 2.2 | 70.32 |  9.7 | 55.2 | 120 | 121412 |\n",
       "| North Dakota |  637 | 5087 | 0.8 | 72.78 |  1.4 | 50.3 | 186 |  69273 |\n",
       "| Rhode Island |  931 | 4558 | 1.3 | 71.90 |  2.4 | 46.4 | 127 |   1049 |\n",
       "| South Dakota |  681 | 4167 | 0.5 | 72.08 |  1.7 | 53.3 | 172 |  75955 |\n",
       "| Utah | 1203 | 4022 | 0.6 | 72.90 |  4.5 | 67.3 | 137 |  82096 |\n",
       "| Vermont |  472 | 3907 | 0.6 | 71.64 |  5.5 | 57.1 | 168 |   9267 |\n",
       "| West Virginia | 1799 | 3617 | 1.4 | 69.48 |  6.7 | 41.6 | 100 |  24070 |\n",
       "| Wyoming |  376 | 4566 | 0.6 | 70.29 |  6.9 | 62.9 | 173 |  97203 |\n",
       "\n"
      ],
      "text/plain": [
       "              Population Income Illiteracy Life.Exp Murder HS.Grad Frost Area  \n",
       "Alaska         365       6315   1.5        69.31    11.3   66.7    152   566432\n",
       "Delaware       579       4809   0.9        70.06     6.2   54.6    103     1982\n",
       "Hawaii         868       4963   1.9        73.60     6.2   61.9      0     6425\n",
       "Idaho          813       4119   0.6        71.87     5.3   59.5    126    82677\n",
       "Maine         1058       3694   0.7        70.39     2.7   54.7    161    30920\n",
       "Montana        746       4347   0.6        70.56     5.0   59.2    155   145587\n",
       "Nebraska      1544       4508   0.6        72.60     2.9   59.3    139    76483\n",
       "Nevada         590       5149   0.5        69.03    11.5   65.2    188   109889\n",
       "New Hampshire  812       4281   0.7        71.23     3.3   57.6    174     9027\n",
       "New Mexico    1144       3601   2.2        70.32     9.7   55.2    120   121412\n",
       "North Dakota   637       5087   0.8        72.78     1.4   50.3    186    69273\n",
       "Rhode Island   931       4558   1.3        71.90     2.4   46.4    127     1049\n",
       "South Dakota   681       4167   0.5        72.08     1.7   53.3    172    75955\n",
       "Utah          1203       4022   0.6        72.90     4.5   67.3    137    82096\n",
       "Vermont        472       3907   0.6        71.64     5.5   57.1    168     9267\n",
       "West Virginia 1799       3617   1.4        69.48     6.7   41.6    100    24070\n",
       "Wyoming        376       4566   0.6        70.29     6.9   62.9    173    97203"
      ]
     },
     "metadata": {},
     "output_type": "display_data"
    }
   ],
   "source": [
    "df[df['Population'] < 2000 & df['Murder'] < 12, ]"
   ]
  },
  {
   "cell_type": "code",
   "execution_count": 113,
   "id": "c2e2fa48",
   "metadata": {},
   "outputs": [
    {
     "data": {
      "text/html": [
       "3683.14285714286"
      ],
      "text/latex": [
       "3683.14285714286"
      ],
      "text/markdown": [
       "3683.14285714286"
      ],
      "text/plain": [
       "[1] 3683.143"
      ]
     },
     "metadata": {},
     "output_type": "display_data"
    }
   ],
   "source": [
    "mean(df[df['Illiteracy'] >= 2.0, 'Income'])"
   ]
  },
  {
   "cell_type": "code",
   "execution_count": 119,
   "id": "5d19aa48",
   "metadata": {},
   "outputs": [
    {
     "data": {
      "text/html": [
       "4558.32558139535"
      ],
      "text/latex": [
       "4558.32558139535"
      ],
      "text/markdown": [
       "4558.32558139535"
      ],
      "text/plain": [
       "[1] 4558.326"
      ]
     },
     "metadata": {},
     "output_type": "display_data"
    }
   ],
   "source": [
    "mean(df[df['Illiteracy'] < 2.0, 'Income'])"
   ]
  },
  {
   "cell_type": "code",
   "execution_count": 120,
   "id": "bd3fe600",
   "metadata": {},
   "outputs": [
    {
     "data": {
      "text/html": [
       "875.182724252492"
      ],
      "text/latex": [
       "875.182724252492"
      ],
      "text/markdown": [
       "875.182724252492"
      ],
      "text/plain": [
       "[1] 875.1827"
      ]
     },
     "metadata": {},
     "output_type": "display_data"
    }
   ],
   "source": [
    "mean(df[df['Illiteracy'] < 2.0, 'Income']) - mean(df[df['Illiteracy'] >= 2.0, 'Income'])"
   ]
  },
  {
   "cell_type": "code",
   "execution_count": 114,
   "id": "1fc0317a",
   "metadata": {},
   "outputs": [
    {
     "name": "stderr",
     "output_type": "stream",
     "text": [
      "Warning message in mean.default(df[df[\"Illiteracy\"] < 2, \"income\"]):\n",
      "\"argument is not numeric or logical: returning NA\"\n"
     ]
    },
    {
     "data": {
      "text/html": [
       "&lt;NA&gt;"
      ],
      "text/latex": [
       "<NA>"
      ],
      "text/markdown": [
       "&lt;NA&gt;"
      ],
      "text/plain": [
       "[1] NA"
      ]
     },
     "metadata": {},
     "output_type": "display_data"
    }
   ],
   "source": [
    "mean(df[df['Illiteracy'] < 2.0, 'income'])"
   ]
  },
  {
   "cell_type": "code",
   "execution_count": 126,
   "id": "28fc3f61",
   "metadata": {},
   "outputs": [
    {
     "data": {
      "text/html": [
       "'Hawaii'"
      ],
      "text/latex": [
       "'Hawaii'"
      ],
      "text/markdown": [
       "'Hawaii'"
      ],
      "text/plain": [
       "[1] \"Hawaii\""
      ]
     },
     "metadata": {},
     "output_type": "display_data"
    }
   ],
   "source": [
    "rownames(df[df['Life.Exp'] == max(df['Life.Exp']), ])"
   ]
  },
  {
   "cell_type": "code",
   "execution_count": 131,
   "id": "375e045f",
   "metadata": {},
   "outputs": [
    {
     "data": {
      "text/html": [
       "<table class=\"dataframe\">\n",
       "<caption>A data.frame: 1 × 8</caption>\n",
       "<thead>\n",
       "\t<tr><th></th><th scope=col>Population</th><th scope=col>Income</th><th scope=col>Illiteracy</th><th scope=col>Life.Exp</th><th scope=col>Murder</th><th scope=col>HS.Grad</th><th scope=col>Frost</th><th scope=col>Area</th></tr>\n",
       "\t<tr><th></th><th scope=col>&lt;dbl&gt;</th><th scope=col>&lt;dbl&gt;</th><th scope=col>&lt;dbl&gt;</th><th scope=col>&lt;dbl&gt;</th><th scope=col>&lt;dbl&gt;</th><th scope=col>&lt;dbl&gt;</th><th scope=col>&lt;dbl&gt;</th><th scope=col>&lt;dbl&gt;</th></tr>\n",
       "</thead>\n",
       "<tbody>\n",
       "\t<tr><th scope=row>Pennsylvania</th><td>11860</td><td>4449</td><td>1</td><td>70.43</td><td>6.1</td><td>50.2</td><td>126</td><td>44966</td></tr>\n",
       "</tbody>\n",
       "</table>\n"
      ],
      "text/latex": [
       "A data.frame: 1 × 8\n",
       "\\begin{tabular}{r|llllllll}\n",
       "  & Population & Income & Illiteracy & Life.Exp & Murder & HS.Grad & Frost & Area\\\\\n",
       "  & <dbl> & <dbl> & <dbl> & <dbl> & <dbl> & <dbl> & <dbl> & <dbl>\\\\\n",
       "\\hline\n",
       "\tPennsylvania & 11860 & 4449 & 1 & 70.43 & 6.1 & 50.2 & 126 & 44966\\\\\n",
       "\\end{tabular}\n"
      ],
      "text/markdown": [
       "\n",
       "A data.frame: 1 × 8\n",
       "\n",
       "| <!--/--> | Population &lt;dbl&gt; | Income &lt;dbl&gt; | Illiteracy &lt;dbl&gt; | Life.Exp &lt;dbl&gt; | Murder &lt;dbl&gt; | HS.Grad &lt;dbl&gt; | Frost &lt;dbl&gt; | Area &lt;dbl&gt; |\n",
       "|---|---|---|---|---|---|---|---|---|\n",
       "| Pennsylvania | 11860 | 4449 | 1 | 70.43 | 6.1 | 50.2 | 126 | 44966 |\n",
       "\n"
      ],
      "text/plain": [
       "             Population Income Illiteracy Life.Exp Murder HS.Grad Frost Area \n",
       "Pennsylvania 11860      4449   1          70.43    6.1    50.2    126   44966"
      ]
     },
     "metadata": {},
     "output_type": "display_data"
    }
   ],
   "source": [
    "df['Pennsylvania', ]"
   ]
  },
  {
   "cell_type": "code",
   "execution_count": 130,
   "id": "f5f739b9",
   "metadata": {},
   "outputs": [
    {
     "data": {
      "text/html": [
       "<table class=\"dataframe\">\n",
       "<caption>A data.frame: 1 × 8</caption>\n",
       "<thead>\n",
       "\t<tr><th></th><th scope=col>Population</th><th scope=col>Income</th><th scope=col>Illiteracy</th><th scope=col>Life.Exp</th><th scope=col>Murder</th><th scope=col>HS.Grad</th><th scope=col>Frost</th><th scope=col>Area</th></tr>\n",
       "\t<tr><th></th><th scope=col>&lt;dbl&gt;</th><th scope=col>&lt;dbl&gt;</th><th scope=col>&lt;dbl&gt;</th><th scope=col>&lt;dbl&gt;</th><th scope=col>&lt;dbl&gt;</th><th scope=col>&lt;dbl&gt;</th><th scope=col>&lt;dbl&gt;</th><th scope=col>&lt;dbl&gt;</th></tr>\n",
       "</thead>\n",
       "<tbody>\n",
       "\t<tr><th scope=row>NA</th><td>NA</td><td>NA</td><td>NA</td><td>NA</td><td>NA</td><td>NA</td><td>NA</td><td>NA</td></tr>\n",
       "</tbody>\n",
       "</table>\n"
      ],
      "text/latex": [
       "A data.frame: 1 × 8\n",
       "\\begin{tabular}{r|llllllll}\n",
       "  & Population & Income & Illiteracy & Life.Exp & Murder & HS.Grad & Frost & Area\\\\\n",
       "  & <dbl> & <dbl> & <dbl> & <dbl> & <dbl> & <dbl> & <dbl> & <dbl>\\\\\n",
       "\\hline\n",
       "\tNA & NA & NA & NA & NA & NA & NA & NA & NA\\\\\n",
       "\\end{tabular}\n"
      ],
      "text/markdown": [
       "\n",
       "A data.frame: 1 × 8\n",
       "\n",
       "| <!--/--> | Population &lt;dbl&gt; | Income &lt;dbl&gt; | Illiteracy &lt;dbl&gt; | Life.Exp &lt;dbl&gt; | Murder &lt;dbl&gt; | HS.Grad &lt;dbl&gt; | Frost &lt;dbl&gt; | Area &lt;dbl&gt; |\n",
       "|---|---|---|---|---|---|---|---|---|\n",
       "| NA | NA | NA | NA | NA | NA | NA | NA | NA |\n",
       "\n"
      ],
      "text/plain": [
       "   Population Income Illiteracy Life.Exp Murder HS.Grad Frost Area\n",
       "NA NA         NA     NA         NA       NA     NA      NA    NA  "
      ]
     },
     "metadata": {},
     "output_type": "display_data"
    }
   ],
   "source": [
    "df['Pennysylvania',]"
   ]
  },
  {
   "cell_type": "code",
   "execution_count": 129,
   "id": "5ec4fc2f",
   "metadata": {},
   "outputs": [
    {
     "data": {
      "text/html": [
       "&lt;NA&gt;"
      ],
      "text/latex": [
       "<NA>"
      ],
      "text/markdown": [
       "&lt;NA&gt;"
      ],
      "text/plain": [
       "[1] NA"
      ]
     },
     "metadata": {},
     "output_type": "display_data"
    }
   ],
   "source": [
    "df['Pennysylvania','Income']"
   ]
  },
  {
   "cell_type": "code",
   "execution_count": 134,
   "id": "ba103384",
   "metadata": {},
   "outputs": [
    {
     "data": {
      "text/html": [
       "4449"
      ],
      "text/latex": [
       "4449"
      ],
      "text/markdown": [
       "4449"
      ],
      "text/plain": [
       "[1] 4449"
      ]
     },
     "metadata": {},
     "output_type": "display_data"
    }
   ],
   "source": [
    "df['Pennsylvania','Income']"
   ]
  },
  {
   "cell_type": "code",
   "execution_count": 136,
   "id": "27b2e698",
   "metadata": {},
   "outputs": [
    {
     "data": {
      "text/html": [
       "<style>\n",
       ".list-inline {list-style: none; margin:0; padding: 0}\n",
       ".list-inline>li {display: inline-block}\n",
       ".list-inline>li:not(:last-child)::after {content: \"\\00b7\"; padding: 0 .5ex}\n",
       "</style>\n",
       "<ol class=list-inline><li>'Alaska'</li><li>'Arizona'</li><li>'California'</li><li>'Colorado'</li><li>'Connecticut'</li><li>'Delaware'</li><li>'Florida'</li><li>'Hawaii'</li><li>'Illinois'</li><li>'Indiana'</li><li>'Iowa'</li><li>'Kansas'</li><li>'Maryland'</li><li>'Massachusetts'</li><li>'Michigan'</li><li>'Minnesota'</li><li>'Nebraska'</li><li>'Nevada'</li><li>'New Jersey'</li><li>'New York'</li><li>'North Dakota'</li><li>'Ohio'</li><li>'Oregon'</li><li>'Rhode Island'</li><li>'Virginia'</li><li>'Washington'</li><li>'Wisconsin'</li><li>'Wyoming'</li></ol>\n"
      ],
      "text/latex": [
       "\\begin{enumerate*}\n",
       "\\item 'Alaska'\n",
       "\\item 'Arizona'\n",
       "\\item 'California'\n",
       "\\item 'Colorado'\n",
       "\\item 'Connecticut'\n",
       "\\item 'Delaware'\n",
       "\\item 'Florida'\n",
       "\\item 'Hawaii'\n",
       "\\item 'Illinois'\n",
       "\\item 'Indiana'\n",
       "\\item 'Iowa'\n",
       "\\item 'Kansas'\n",
       "\\item 'Maryland'\n",
       "\\item 'Massachusetts'\n",
       "\\item 'Michigan'\n",
       "\\item 'Minnesota'\n",
       "\\item 'Nebraska'\n",
       "\\item 'Nevada'\n",
       "\\item 'New Jersey'\n",
       "\\item 'New York'\n",
       "\\item 'North Dakota'\n",
       "\\item 'Ohio'\n",
       "\\item 'Oregon'\n",
       "\\item 'Rhode Island'\n",
       "\\item 'Virginia'\n",
       "\\item 'Washington'\n",
       "\\item 'Wisconsin'\n",
       "\\item 'Wyoming'\n",
       "\\end{enumerate*}\n"
      ],
      "text/markdown": [
       "1. 'Alaska'\n",
       "2. 'Arizona'\n",
       "3. 'California'\n",
       "4. 'Colorado'\n",
       "5. 'Connecticut'\n",
       "6. 'Delaware'\n",
       "7. 'Florida'\n",
       "8. 'Hawaii'\n",
       "9. 'Illinois'\n",
       "10. 'Indiana'\n",
       "11. 'Iowa'\n",
       "12. 'Kansas'\n",
       "13. 'Maryland'\n",
       "14. 'Massachusetts'\n",
       "15. 'Michigan'\n",
       "16. 'Minnesota'\n",
       "17. 'Nebraska'\n",
       "18. 'Nevada'\n",
       "19. 'New Jersey'\n",
       "20. 'New York'\n",
       "21. 'North Dakota'\n",
       "22. 'Ohio'\n",
       "23. 'Oregon'\n",
       "24. 'Rhode Island'\n",
       "25. 'Virginia'\n",
       "26. 'Washington'\n",
       "27. 'Wisconsin'\n",
       "28. 'Wyoming'\n",
       "\n",
       "\n"
      ],
      "text/plain": [
       " [1] \"Alaska\"        \"Arizona\"       \"California\"    \"Colorado\"     \n",
       " [5] \"Connecticut\"   \"Delaware\"      \"Florida\"       \"Hawaii\"       \n",
       " [9] \"Illinois\"      \"Indiana\"       \"Iowa\"          \"Kansas\"       \n",
       "[13] \"Maryland\"      \"Massachusetts\" \"Michigan\"      \"Minnesota\"    \n",
       "[17] \"Nebraska\"      \"Nevada\"        \"New Jersey\"    \"New York\"     \n",
       "[21] \"North Dakota\"  \"Ohio\"          \"Oregon\"        \"Rhode Island\" \n",
       "[25] \"Virginia\"      \"Washington\"    \"Wisconsin\"     \"Wyoming\"      "
      ]
     },
     "metadata": {},
     "output_type": "display_data"
    }
   ],
   "source": [
    "rownames(df[df['Income'] > df['Pennsylvania','Income'], ])"
   ]
  }
 ],
 "metadata": {
  "kernelspec": {
   "display_name": "R",
   "language": "R",
   "name": "ir"
  },
  "language_info": {
   "codemirror_mode": "r",
   "file_extension": ".r",
   "mimetype": "text/x-r-source",
   "name": "R",
   "pygments_lexer": "r",
   "version": "4.3.1"
  }
 },
 "nbformat": 4,
 "nbformat_minor": 5
}
