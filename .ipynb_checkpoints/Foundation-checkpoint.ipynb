{
 "cells": [
  {
   "cell_type": "code",
   "execution_count": 1,
   "id": "f3e29640",
   "metadata": {},
   "outputs": [],
   "source": [
    "df = mtcars"
   ]
  },
  {
   "cell_type": "code",
   "execution_count": 2,
   "id": "eca2609f",
   "metadata": {},
   "outputs": [
    {
     "data": {
      "text/html": [
       "'data.frame'"
      ],
      "text/latex": [
       "'data.frame'"
      ],
      "text/markdown": [
       "'data.frame'"
      ],
      "text/plain": [
       "[1] \"data.frame\""
      ]
     },
     "metadata": {},
     "output_type": "display_data"
    }
   ],
   "source": [
    "class(df)"
   ]
  },
  {
   "cell_type": "code",
   "execution_count": 3,
   "id": "293f2107",
   "metadata": {},
   "outputs": [
    {
     "data": {
      "text/html": [
       "<style>\n",
       ".list-inline {list-style: none; margin:0; padding: 0}\n",
       ".list-inline>li {display: inline-block}\n",
       ".list-inline>li:not(:last-child)::after {content: \"\\00b7\"; padding: 0 .5ex}\n",
       "</style>\n",
       "<ol class=list-inline><li>32</li><li>11</li></ol>\n"
      ],
      "text/latex": [
       "\\begin{enumerate*}\n",
       "\\item 32\n",
       "\\item 11\n",
       "\\end{enumerate*}\n"
      ],
      "text/markdown": [
       "1. 32\n",
       "2. 11\n",
       "\n",
       "\n"
      ],
      "text/plain": [
       "[1] 32 11"
      ]
     },
     "metadata": {},
     "output_type": "display_data"
    }
   ],
   "source": [
    "dim(df)"
   ]
  },
  {
   "cell_type": "code",
   "execution_count": 4,
   "id": "78222e76",
   "metadata": {},
   "outputs": [
    {
     "name": "stdout",
     "output_type": "stream",
     "text": [
      "'data.frame':\t32 obs. of  11 variables:\n",
      " $ mpg : num  21 21 22.8 21.4 18.7 18.1 14.3 24.4 22.8 19.2 ...\n",
      " $ cyl : num  6 6 4 6 8 6 8 4 4 6 ...\n",
      " $ disp: num  160 160 108 258 360 ...\n",
      " $ hp  : num  110 110 93 110 175 105 245 62 95 123 ...\n",
      " $ drat: num  3.9 3.9 3.85 3.08 3.15 2.76 3.21 3.69 3.92 3.92 ...\n",
      " $ wt  : num  2.62 2.88 2.32 3.21 3.44 ...\n",
      " $ qsec: num  16.5 17 18.6 19.4 17 ...\n",
      " $ vs  : num  0 0 1 1 0 1 0 1 1 1 ...\n",
      " $ am  : num  1 1 1 0 0 0 0 0 0 0 ...\n",
      " $ gear: num  4 4 4 3 3 3 3 4 4 4 ...\n",
      " $ carb: num  4 4 1 1 2 1 4 2 2 4 ...\n"
     ]
    }
   ],
   "source": [
    "str(df)"
   ]
  },
  {
   "cell_type": "code",
   "execution_count": 7,
   "id": "16dd5619",
   "metadata": {},
   "outputs": [
    {
     "data": {
      "text/html": [
       "'Toyota Corolla'"
      ],
      "text/latex": [
       "'Toyota Corolla'"
      ],
      "text/markdown": [
       "'Toyota Corolla'"
      ],
      "text/plain": [
       "[1] \"Toyota Corolla\""
      ]
     },
     "metadata": {},
     "output_type": "display_data"
    }
   ],
   "source": [
    "rownames(df[df['mpg'] == max(df['mpg']), ])"
   ]
  },
  {
   "cell_type": "code",
   "execution_count": 12,
   "id": "fede6d62",
   "metadata": {},
   "outputs": [
    {
     "data": {
      "text/html": [
       "<table class=\"dataframe\">\n",
       "<caption>A data.frame: 12 × 11</caption>\n",
       "<thead>\n",
       "\t<tr><th></th><th scope=col>mpg</th><th scope=col>cyl</th><th scope=col>disp</th><th scope=col>hp</th><th scope=col>drat</th><th scope=col>wt</th><th scope=col>qsec</th><th scope=col>vs</th><th scope=col>am</th><th scope=col>gear</th><th scope=col>carb</th></tr>\n",
       "\t<tr><th></th><th scope=col>&lt;dbl&gt;</th><th scope=col>&lt;dbl&gt;</th><th scope=col>&lt;dbl&gt;</th><th scope=col>&lt;dbl&gt;</th><th scope=col>&lt;dbl&gt;</th><th scope=col>&lt;dbl&gt;</th><th scope=col>&lt;dbl&gt;</th><th scope=col>&lt;dbl&gt;</th><th scope=col>&lt;dbl&gt;</th><th scope=col>&lt;dbl&gt;</th><th scope=col>&lt;dbl&gt;</th></tr>\n",
       "</thead>\n",
       "<tbody>\n",
       "\t<tr><th scope=row>Mazda RX4</th><td>21.0</td><td>6</td><td>160.0</td><td>110</td><td>3.90</td><td>2.620</td><td>16.46</td><td>0</td><td>1</td><td>4</td><td>4</td></tr>\n",
       "\t<tr><th scope=row>Mazda RX4 Wag</th><td>21.0</td><td>6</td><td>160.0</td><td>110</td><td>3.90</td><td>2.875</td><td>17.02</td><td>0</td><td>1</td><td>4</td><td>4</td></tr>\n",
       "\t<tr><th scope=row>Datsun 710</th><td>22.8</td><td>4</td><td>108.0</td><td> 93</td><td>3.85</td><td>2.320</td><td>18.61</td><td>1</td><td>1</td><td>4</td><td>1</td></tr>\n",
       "\t<tr><th scope=row>Merc 240D</th><td>24.4</td><td>4</td><td>146.7</td><td> 62</td><td>3.69</td><td>3.190</td><td>20.00</td><td>1</td><td>0</td><td>4</td><td>2</td></tr>\n",
       "\t<tr><th scope=row>Merc 230</th><td>22.8</td><td>4</td><td>140.8</td><td> 95</td><td>3.92</td><td>3.150</td><td>22.90</td><td>1</td><td>0</td><td>4</td><td>2</td></tr>\n",
       "\t<tr><th scope=row>Merc 280</th><td>19.2</td><td>6</td><td>167.6</td><td>123</td><td>3.92</td><td>3.440</td><td>18.30</td><td>1</td><td>0</td><td>4</td><td>4</td></tr>\n",
       "\t<tr><th scope=row>Merc 280C</th><td>17.8</td><td>6</td><td>167.6</td><td>123</td><td>3.92</td><td>3.440</td><td>18.90</td><td>1</td><td>0</td><td>4</td><td>4</td></tr>\n",
       "\t<tr><th scope=row>Fiat 128</th><td>32.4</td><td>4</td><td> 78.7</td><td> 66</td><td>4.08</td><td>2.200</td><td>19.47</td><td>1</td><td>1</td><td>4</td><td>1</td></tr>\n",
       "\t<tr><th scope=row>Honda Civic</th><td>30.4</td><td>4</td><td> 75.7</td><td> 52</td><td>4.93</td><td>1.615</td><td>18.52</td><td>1</td><td>1</td><td>4</td><td>2</td></tr>\n",
       "\t<tr><th scope=row>Toyota Corolla</th><td>33.9</td><td>4</td><td> 71.1</td><td> 65</td><td>4.22</td><td>1.835</td><td>19.90</td><td>1</td><td>1</td><td>4</td><td>1</td></tr>\n",
       "\t<tr><th scope=row>Fiat X1-9</th><td>27.3</td><td>4</td><td> 79.0</td><td> 66</td><td>4.08</td><td>1.935</td><td>18.90</td><td>1</td><td>1</td><td>4</td><td>1</td></tr>\n",
       "\t<tr><th scope=row>Volvo 142E</th><td>21.4</td><td>4</td><td>121.0</td><td>109</td><td>4.11</td><td>2.780</td><td>18.60</td><td>1</td><td>1</td><td>4</td><td>2</td></tr>\n",
       "</tbody>\n",
       "</table>\n"
      ],
      "text/latex": [
       "A data.frame: 12 × 11\n",
       "\\begin{tabular}{r|lllllllllll}\n",
       "  & mpg & cyl & disp & hp & drat & wt & qsec & vs & am & gear & carb\\\\\n",
       "  & <dbl> & <dbl> & <dbl> & <dbl> & <dbl> & <dbl> & <dbl> & <dbl> & <dbl> & <dbl> & <dbl>\\\\\n",
       "\\hline\n",
       "\tMazda RX4 & 21.0 & 6 & 160.0 & 110 & 3.90 & 2.620 & 16.46 & 0 & 1 & 4 & 4\\\\\n",
       "\tMazda RX4 Wag & 21.0 & 6 & 160.0 & 110 & 3.90 & 2.875 & 17.02 & 0 & 1 & 4 & 4\\\\\n",
       "\tDatsun 710 & 22.8 & 4 & 108.0 &  93 & 3.85 & 2.320 & 18.61 & 1 & 1 & 4 & 1\\\\\n",
       "\tMerc 240D & 24.4 & 4 & 146.7 &  62 & 3.69 & 3.190 & 20.00 & 1 & 0 & 4 & 2\\\\\n",
       "\tMerc 230 & 22.8 & 4 & 140.8 &  95 & 3.92 & 3.150 & 22.90 & 1 & 0 & 4 & 2\\\\\n",
       "\tMerc 280 & 19.2 & 6 & 167.6 & 123 & 3.92 & 3.440 & 18.30 & 1 & 0 & 4 & 4\\\\\n",
       "\tMerc 280C & 17.8 & 6 & 167.6 & 123 & 3.92 & 3.440 & 18.90 & 1 & 0 & 4 & 4\\\\\n",
       "\tFiat 128 & 32.4 & 4 &  78.7 &  66 & 4.08 & 2.200 & 19.47 & 1 & 1 & 4 & 1\\\\\n",
       "\tHonda Civic & 30.4 & 4 &  75.7 &  52 & 4.93 & 1.615 & 18.52 & 1 & 1 & 4 & 2\\\\\n",
       "\tToyota Corolla & 33.9 & 4 &  71.1 &  65 & 4.22 & 1.835 & 19.90 & 1 & 1 & 4 & 1\\\\\n",
       "\tFiat X1-9 & 27.3 & 4 &  79.0 &  66 & 4.08 & 1.935 & 18.90 & 1 & 1 & 4 & 1\\\\\n",
       "\tVolvo 142E & 21.4 & 4 & 121.0 & 109 & 4.11 & 2.780 & 18.60 & 1 & 1 & 4 & 2\\\\\n",
       "\\end{tabular}\n"
      ],
      "text/markdown": [
       "\n",
       "A data.frame: 12 × 11\n",
       "\n",
       "| <!--/--> | mpg &lt;dbl&gt; | cyl &lt;dbl&gt; | disp &lt;dbl&gt; | hp &lt;dbl&gt; | drat &lt;dbl&gt; | wt &lt;dbl&gt; | qsec &lt;dbl&gt; | vs &lt;dbl&gt; | am &lt;dbl&gt; | gear &lt;dbl&gt; | carb &lt;dbl&gt; |\n",
       "|---|---|---|---|---|---|---|---|---|---|---|---|\n",
       "| Mazda RX4 | 21.0 | 6 | 160.0 | 110 | 3.90 | 2.620 | 16.46 | 0 | 1 | 4 | 4 |\n",
       "| Mazda RX4 Wag | 21.0 | 6 | 160.0 | 110 | 3.90 | 2.875 | 17.02 | 0 | 1 | 4 | 4 |\n",
       "| Datsun 710 | 22.8 | 4 | 108.0 |  93 | 3.85 | 2.320 | 18.61 | 1 | 1 | 4 | 1 |\n",
       "| Merc 240D | 24.4 | 4 | 146.7 |  62 | 3.69 | 3.190 | 20.00 | 1 | 0 | 4 | 2 |\n",
       "| Merc 230 | 22.8 | 4 | 140.8 |  95 | 3.92 | 3.150 | 22.90 | 1 | 0 | 4 | 2 |\n",
       "| Merc 280 | 19.2 | 6 | 167.6 | 123 | 3.92 | 3.440 | 18.30 | 1 | 0 | 4 | 4 |\n",
       "| Merc 280C | 17.8 | 6 | 167.6 | 123 | 3.92 | 3.440 | 18.90 | 1 | 0 | 4 | 4 |\n",
       "| Fiat 128 | 32.4 | 4 |  78.7 |  66 | 4.08 | 2.200 | 19.47 | 1 | 1 | 4 | 1 |\n",
       "| Honda Civic | 30.4 | 4 |  75.7 |  52 | 4.93 | 1.615 | 18.52 | 1 | 1 | 4 | 2 |\n",
       "| Toyota Corolla | 33.9 | 4 |  71.1 |  65 | 4.22 | 1.835 | 19.90 | 1 | 1 | 4 | 1 |\n",
       "| Fiat X1-9 | 27.3 | 4 |  79.0 |  66 | 4.08 | 1.935 | 18.90 | 1 | 1 | 4 | 1 |\n",
       "| Volvo 142E | 21.4 | 4 | 121.0 | 109 | 4.11 | 2.780 | 18.60 | 1 | 1 | 4 | 2 |\n",
       "\n"
      ],
      "text/plain": [
       "               mpg  cyl disp  hp  drat wt    qsec  vs am gear carb\n",
       "Mazda RX4      21.0 6   160.0 110 3.90 2.620 16.46 0  1  4    4   \n",
       "Mazda RX4 Wag  21.0 6   160.0 110 3.90 2.875 17.02 0  1  4    4   \n",
       "Datsun 710     22.8 4   108.0  93 3.85 2.320 18.61 1  1  4    1   \n",
       "Merc 240D      24.4 4   146.7  62 3.69 3.190 20.00 1  0  4    2   \n",
       "Merc 230       22.8 4   140.8  95 3.92 3.150 22.90 1  0  4    2   \n",
       "Merc 280       19.2 6   167.6 123 3.92 3.440 18.30 1  0  4    4   \n",
       "Merc 280C      17.8 6   167.6 123 3.92 3.440 18.90 1  0  4    4   \n",
       "Fiat 128       32.4 4    78.7  66 4.08 2.200 19.47 1  1  4    1   \n",
       "Honda Civic    30.4 4    75.7  52 4.93 1.615 18.52 1  1  4    2   \n",
       "Toyota Corolla 33.9 4    71.1  65 4.22 1.835 19.90 1  1  4    1   \n",
       "Fiat X1-9      27.3 4    79.0  66 4.08 1.935 18.90 1  1  4    1   \n",
       "Volvo 142E     21.4 4   121.0 109 4.11 2.780 18.60 1  1  4    2   "
      ]
     },
     "metadata": {},
     "output_type": "display_data"
    }
   ],
   "source": [
    "subset <- df[df['gear'] == 4, ]\n",
    "subset"
   ]
  },
  {
   "cell_type": "code",
   "execution_count": 15,
   "id": "7881306f",
   "metadata": {},
   "outputs": [
    {
     "data": {
      "text/html": [
       "'Merc 280C'"
      ],
      "text/latex": [
       "'Merc 280C'"
      ],
      "text/markdown": [
       "'Merc 280C'"
      ],
      "text/plain": [
       "[1] \"Merc 280C\""
      ]
     },
     "metadata": {},
     "output_type": "display_data"
    }
   ],
   "source": [
    "rownames(subset[subset['mpg'] == min(subset['mpg']), ])"
   ]
  },
  {
   "cell_type": "code",
   "execution_count": 16,
   "id": "fc38d2bd",
   "metadata": {},
   "outputs": [
    {
     "data": {
      "text/html": [
       "<table class=\"dataframe\">\n",
       "<caption>A data.frame: 1 × 2</caption>\n",
       "<thead>\n",
       "\t<tr><th></th><th scope=col>mpg</th><th scope=col>gear</th></tr>\n",
       "\t<tr><th></th><th scope=col>&lt;dbl&gt;</th><th scope=col>&lt;dbl&gt;</th></tr>\n",
       "</thead>\n",
       "<tbody>\n",
       "\t<tr><th scope=row>Honda Civic</th><td>30.4</td><td>4</td></tr>\n",
       "</tbody>\n",
       "</table>\n"
      ],
      "text/latex": [
       "A data.frame: 1 × 2\n",
       "\\begin{tabular}{r|ll}\n",
       "  & mpg & gear\\\\\n",
       "  & <dbl> & <dbl>\\\\\n",
       "\\hline\n",
       "\tHonda Civic & 30.4 & 4\\\\\n",
       "\\end{tabular}\n"
      ],
      "text/markdown": [
       "\n",
       "A data.frame: 1 × 2\n",
       "\n",
       "| <!--/--> | mpg &lt;dbl&gt; | gear &lt;dbl&gt; |\n",
       "|---|---|---|\n",
       "| Honda Civic | 30.4 | 4 |\n",
       "\n"
      ],
      "text/plain": [
       "            mpg  gear\n",
       "Honda Civic 30.4 4   "
      ]
     },
     "metadata": {},
     "output_type": "display_data"
    }
   ],
   "source": [
    "df['Honda Civic', c('mpg','gear')]"
   ]
  },
  {
   "cell_type": "code",
   "execution_count": 18,
   "id": "1ebca807",
   "metadata": {},
   "outputs": [
    {
     "data": {
      "text/html": [
       "<style>\n",
       ".list-inline {list-style: none; margin:0; padding: 0}\n",
       ".list-inline>li {display: inline-block}\n",
       ".list-inline>li:not(:last-child)::after {content: \"\\00b7\"; padding: 0 .5ex}\n",
       "</style>\n",
       "<ol class=list-inline><li>'Mazda RX4'</li><li>'Mazda RX4 Wag'</li><li>'Datsun 710'</li><li>'Hornet 4 Drive'</li><li>'Merc 240D'</li><li>'Merc 230'</li><li>'Fiat 128'</li><li>'Honda Civic'</li><li>'Toyota Corolla'</li><li>'Toyota Corona'</li><li>'Fiat X1-9'</li><li>'Porsche 914-2'</li><li>'Lotus Europa'</li><li>'Ferrari Dino'</li><li>'Volvo 142E'</li></ol>\n"
      ],
      "text/latex": [
       "\\begin{enumerate*}\n",
       "\\item 'Mazda RX4'\n",
       "\\item 'Mazda RX4 Wag'\n",
       "\\item 'Datsun 710'\n",
       "\\item 'Hornet 4 Drive'\n",
       "\\item 'Merc 240D'\n",
       "\\item 'Merc 230'\n",
       "\\item 'Fiat 128'\n",
       "\\item 'Honda Civic'\n",
       "\\item 'Toyota Corolla'\n",
       "\\item 'Toyota Corona'\n",
       "\\item 'Fiat X1-9'\n",
       "\\item 'Porsche 914-2'\n",
       "\\item 'Lotus Europa'\n",
       "\\item 'Ferrari Dino'\n",
       "\\item 'Volvo 142E'\n",
       "\\end{enumerate*}\n"
      ],
      "text/markdown": [
       "1. 'Mazda RX4'\n",
       "2. 'Mazda RX4 Wag'\n",
       "3. 'Datsun 710'\n",
       "4. 'Hornet 4 Drive'\n",
       "5. 'Merc 240D'\n",
       "6. 'Merc 230'\n",
       "7. 'Fiat 128'\n",
       "8. 'Honda Civic'\n",
       "9. 'Toyota Corolla'\n",
       "10. 'Toyota Corona'\n",
       "11. 'Fiat X1-9'\n",
       "12. 'Porsche 914-2'\n",
       "13. 'Lotus Europa'\n",
       "14. 'Ferrari Dino'\n",
       "15. 'Volvo 142E'\n",
       "\n",
       "\n"
      ],
      "text/plain": [
       " [1] \"Mazda RX4\"      \"Mazda RX4 Wag\"  \"Datsun 710\"     \"Hornet 4 Drive\"\n",
       " [5] \"Merc 240D\"      \"Merc 230\"       \"Fiat 128\"       \"Honda Civic\"   \n",
       " [9] \"Toyota Corolla\" \"Toyota Corona\"  \"Fiat X1-9\"      \"Porsche 914-2\" \n",
       "[13] \"Lotus Europa\"   \"Ferrari Dino\"   \"Volvo 142E\"    "
      ]
     },
     "metadata": {},
     "output_type": "display_data"
    }
   ],
   "source": [
    "rownames(df[df['mpg'] > df['Pontiac Firebird', 'mpg'], ])"
   ]
  },
  {
   "cell_type": "code",
   "execution_count": 20,
   "id": "89cb50aa",
   "metadata": {},
   "outputs": [
    {
     "data": {
      "text/html": [
       "<strong>mpg:</strong> 20.090625"
      ],
      "text/latex": [
       "\\textbf{mpg:} 20.090625"
      ],
      "text/markdown": [
       "**mpg:** 20.090625"
      ],
      "text/plain": [
       "     mpg \n",
       "20.09062 "
      ]
     },
     "metadata": {},
     "output_type": "display_data"
    }
   ],
   "source": [
    "colMeans(df)['mpg']"
   ]
  },
  {
   "cell_type": "code",
   "execution_count": 21,
   "id": "ea5f2328",
   "metadata": {},
   "outputs": [
    {
     "name": "stderr",
     "output_type": "stream",
     "text": [
      "Warning message in mean.default(df[\"mpg\"]):\n",
      "\"argument is not numeric or logical: returning NA\"\n"
     ]
    },
    {
     "data": {
      "text/html": [
       "&lt;NA&gt;"
      ],
      "text/latex": [
       "<NA>"
      ],
      "text/markdown": [
       "&lt;NA&gt;"
      ],
      "text/plain": [
       "[1] NA"
      ]
     },
     "metadata": {},
     "output_type": "display_data"
    }
   ],
   "source": [
    "mean(df['mpg'])"
   ]
  },
  {
   "cell_type": "code",
   "execution_count": 22,
   "id": "e2cf00a9",
   "metadata": {},
   "outputs": [
    {
     "data": {
      "text/html": [
       "20.090625"
      ],
      "text/latex": [
       "20.090625"
      ],
      "text/markdown": [
       "20.090625"
      ],
      "text/plain": [
       "[1] 20.09062"
      ]
     },
     "metadata": {},
     "output_type": "display_data"
    }
   ],
   "source": [
    "mean(df$mpg)"
   ]
  },
  {
   "cell_type": "code",
   "execution_count": 23,
   "id": "98915355",
   "metadata": {},
   "outputs": [
    {
     "data": {
      "text/plain": [
       "\n",
       " 3  4  5 \n",
       "15 12  5 "
      ]
     },
     "metadata": {},
     "output_type": "display_data"
    }
   ],
   "source": [
    "table(df$gear)"
   ]
  },
  {
   "cell_type": "code",
   "execution_count": 24,
   "id": "3772ea46",
   "metadata": {},
   "outputs": [
    {
     "data": {
      "text/html": [
       "<style>\n",
       ".list-inline {list-style: none; margin:0; padding: 0}\n",
       ".list-inline>li {display: inline-block}\n",
       ".list-inline>li:not(:last-child)::after {content: \"\\00b7\"; padding: 0 .5ex}\n",
       "</style>\n",
       "<ol class=list-inline><li>4</li><li>3</li><li>5</li></ol>\n"
      ],
      "text/latex": [
       "\\begin{enumerate*}\n",
       "\\item 4\n",
       "\\item 3\n",
       "\\item 5\n",
       "\\end{enumerate*}\n"
      ],
      "text/markdown": [
       "1. 4\n",
       "2. 3\n",
       "3. 5\n",
       "\n",
       "\n"
      ],
      "text/plain": [
       "[1] 4 3 5"
      ]
     },
     "metadata": {},
     "output_type": "display_data"
    }
   ],
   "source": [
    "unique(df$gear)"
   ]
  },
  {
   "cell_type": "code",
   "execution_count": 25,
   "id": "999a037c",
   "metadata": {},
   "outputs": [],
   "source": [
    "df = airquality"
   ]
  },
  {
   "cell_type": "code",
   "execution_count": 26,
   "id": "fa71f42b",
   "metadata": {},
   "outputs": [
    {
     "data": {
      "text/html": [
       "'data.frame'"
      ],
      "text/latex": [
       "'data.frame'"
      ],
      "text/markdown": [
       "'data.frame'"
      ],
      "text/plain": [
       "[1] \"data.frame\""
      ]
     },
     "metadata": {},
     "output_type": "display_data"
    }
   ],
   "source": [
    "class(df)"
   ]
  },
  {
   "cell_type": "code",
   "execution_count": 27,
   "id": "1f2802fa",
   "metadata": {},
   "outputs": [
    {
     "data": {
      "text/html": [
       "<table class=\"dataframe\">\n",
       "<caption>A data.frame: 6 × 6</caption>\n",
       "<thead>\n",
       "\t<tr><th></th><th scope=col>Ozone</th><th scope=col>Solar.R</th><th scope=col>Wind</th><th scope=col>Temp</th><th scope=col>Month</th><th scope=col>Day</th></tr>\n",
       "\t<tr><th></th><th scope=col>&lt;int&gt;</th><th scope=col>&lt;int&gt;</th><th scope=col>&lt;dbl&gt;</th><th scope=col>&lt;int&gt;</th><th scope=col>&lt;int&gt;</th><th scope=col>&lt;int&gt;</th></tr>\n",
       "</thead>\n",
       "<tbody>\n",
       "\t<tr><th scope=row>1</th><td>41</td><td>190</td><td> 7.4</td><td>67</td><td>5</td><td>1</td></tr>\n",
       "\t<tr><th scope=row>2</th><td>36</td><td>118</td><td> 8.0</td><td>72</td><td>5</td><td>2</td></tr>\n",
       "\t<tr><th scope=row>3</th><td>12</td><td>149</td><td>12.6</td><td>74</td><td>5</td><td>3</td></tr>\n",
       "\t<tr><th scope=row>4</th><td>18</td><td>313</td><td>11.5</td><td>62</td><td>5</td><td>4</td></tr>\n",
       "\t<tr><th scope=row>5</th><td>NA</td><td> NA</td><td>14.3</td><td>56</td><td>5</td><td>5</td></tr>\n",
       "\t<tr><th scope=row>6</th><td>28</td><td> NA</td><td>14.9</td><td>66</td><td>5</td><td>6</td></tr>\n",
       "</tbody>\n",
       "</table>\n"
      ],
      "text/latex": [
       "A data.frame: 6 × 6\n",
       "\\begin{tabular}{r|llllll}\n",
       "  & Ozone & Solar.R & Wind & Temp & Month & Day\\\\\n",
       "  & <int> & <int> & <dbl> & <int> & <int> & <int>\\\\\n",
       "\\hline\n",
       "\t1 & 41 & 190 &  7.4 & 67 & 5 & 1\\\\\n",
       "\t2 & 36 & 118 &  8.0 & 72 & 5 & 2\\\\\n",
       "\t3 & 12 & 149 & 12.6 & 74 & 5 & 3\\\\\n",
       "\t4 & 18 & 313 & 11.5 & 62 & 5 & 4\\\\\n",
       "\t5 & NA &  NA & 14.3 & 56 & 5 & 5\\\\\n",
       "\t6 & 28 &  NA & 14.9 & 66 & 5 & 6\\\\\n",
       "\\end{tabular}\n"
      ],
      "text/markdown": [
       "\n",
       "A data.frame: 6 × 6\n",
       "\n",
       "| <!--/--> | Ozone &lt;int&gt; | Solar.R &lt;int&gt; | Wind &lt;dbl&gt; | Temp &lt;int&gt; | Month &lt;int&gt; | Day &lt;int&gt; |\n",
       "|---|---|---|---|---|---|---|\n",
       "| 1 | 41 | 190 |  7.4 | 67 | 5 | 1 |\n",
       "| 2 | 36 | 118 |  8.0 | 72 | 5 | 2 |\n",
       "| 3 | 12 | 149 | 12.6 | 74 | 5 | 3 |\n",
       "| 4 | 18 | 313 | 11.5 | 62 | 5 | 4 |\n",
       "| 5 | NA |  NA | 14.3 | 56 | 5 | 5 |\n",
       "| 6 | 28 |  NA | 14.9 | 66 | 5 | 6 |\n",
       "\n"
      ],
      "text/plain": [
       "  Ozone Solar.R Wind Temp Month Day\n",
       "1 41    190      7.4 67   5     1  \n",
       "2 36    118      8.0 72   5     2  \n",
       "3 12    149     12.6 74   5     3  \n",
       "4 18    313     11.5 62   5     4  \n",
       "5 NA     NA     14.3 56   5     5  \n",
       "6 28     NA     14.9 66   5     6  "
      ]
     },
     "metadata": {},
     "output_type": "display_data"
    }
   ],
   "source": [
    "head(df)"
   ]
  },
  {
   "cell_type": "code",
   "execution_count": 30,
   "id": "8c790992",
   "metadata": {},
   "outputs": [
    {
     "data": {
      "text/html": [
       "<table class=\"dataframe\">\n",
       "<caption>A data.frame: 1 × 2</caption>\n",
       "<thead>\n",
       "\t<tr><th></th><th scope=col>Month</th><th scope=col>Day</th></tr>\n",
       "\t<tr><th></th><th scope=col>&lt;int&gt;</th><th scope=col>&lt;int&gt;</th></tr>\n",
       "</thead>\n",
       "<tbody>\n",
       "\t<tr><th scope=row>120</th><td>8</td><td>28</td></tr>\n",
       "</tbody>\n",
       "</table>\n"
      ],
      "text/latex": [
       "A data.frame: 1 × 2\n",
       "\\begin{tabular}{r|ll}\n",
       "  & Month & Day\\\\\n",
       "  & <int> & <int>\\\\\n",
       "\\hline\n",
       "\t120 & 8 & 28\\\\\n",
       "\\end{tabular}\n"
      ],
      "text/markdown": [
       "\n",
       "A data.frame: 1 × 2\n",
       "\n",
       "| <!--/--> | Month &lt;int&gt; | Day &lt;int&gt; |\n",
       "|---|---|---|\n",
       "| 120 | 8 | 28 |\n",
       "\n"
      ],
      "text/plain": [
       "    Month Day\n",
       "120 8     28 "
      ]
     },
     "metadata": {},
     "output_type": "display_data"
    }
   ],
   "source": [
    "df[df['Temp'] == max(df$Temp), c(\"Month\", \"Day\")]"
   ]
  },
  {
   "cell_type": "code",
   "execution_count": 32,
   "id": "29c788b8",
   "metadata": {},
   "outputs": [
    {
     "data": {
      "text/html": [
       "<table class=\"dataframe\">\n",
       "<caption>A data.frame: 30 × 6</caption>\n",
       "<thead>\n",
       "\t<tr><th></th><th scope=col>Ozone</th><th scope=col>Solar.R</th><th scope=col>Wind</th><th scope=col>Temp</th><th scope=col>Month</th><th scope=col>Day</th></tr>\n",
       "\t<tr><th></th><th scope=col>&lt;int&gt;</th><th scope=col>&lt;int&gt;</th><th scope=col>&lt;dbl&gt;</th><th scope=col>&lt;int&gt;</th><th scope=col>&lt;int&gt;</th><th scope=col>&lt;int&gt;</th></tr>\n",
       "</thead>\n",
       "<tbody>\n",
       "\t<tr><th scope=row>32</th><td>NA</td><td>286</td><td> 8.6</td><td>78</td><td>6</td><td> 1</td></tr>\n",
       "\t<tr><th scope=row>33</th><td>NA</td><td>287</td><td> 9.7</td><td>74</td><td>6</td><td> 2</td></tr>\n",
       "\t<tr><th scope=row>34</th><td>NA</td><td>242</td><td>16.1</td><td>67</td><td>6</td><td> 3</td></tr>\n",
       "\t<tr><th scope=row>35</th><td>NA</td><td>186</td><td> 9.2</td><td>84</td><td>6</td><td> 4</td></tr>\n",
       "\t<tr><th scope=row>36</th><td>NA</td><td>220</td><td> 8.6</td><td>85</td><td>6</td><td> 5</td></tr>\n",
       "\t<tr><th scope=row>37</th><td>NA</td><td>264</td><td>14.3</td><td>79</td><td>6</td><td> 6</td></tr>\n",
       "\t<tr><th scope=row>38</th><td>29</td><td>127</td><td> 9.7</td><td>82</td><td>6</td><td> 7</td></tr>\n",
       "\t<tr><th scope=row>39</th><td>NA</td><td>273</td><td> 6.9</td><td>87</td><td>6</td><td> 8</td></tr>\n",
       "\t<tr><th scope=row>40</th><td>71</td><td>291</td><td>13.8</td><td>90</td><td>6</td><td> 9</td></tr>\n",
       "\t<tr><th scope=row>41</th><td>39</td><td>323</td><td>11.5</td><td>87</td><td>6</td><td>10</td></tr>\n",
       "\t<tr><th scope=row>42</th><td>NA</td><td>259</td><td>10.9</td><td>93</td><td>6</td><td>11</td></tr>\n",
       "\t<tr><th scope=row>43</th><td>NA</td><td>250</td><td> 9.2</td><td>92</td><td>6</td><td>12</td></tr>\n",
       "\t<tr><th scope=row>44</th><td>23</td><td>148</td><td> 8.0</td><td>82</td><td>6</td><td>13</td></tr>\n",
       "\t<tr><th scope=row>45</th><td>NA</td><td>332</td><td>13.8</td><td>80</td><td>6</td><td>14</td></tr>\n",
       "\t<tr><th scope=row>46</th><td>NA</td><td>322</td><td>11.5</td><td>79</td><td>6</td><td>15</td></tr>\n",
       "\t<tr><th scope=row>47</th><td>21</td><td>191</td><td>14.9</td><td>77</td><td>6</td><td>16</td></tr>\n",
       "\t<tr><th scope=row>48</th><td>37</td><td>284</td><td>20.7</td><td>72</td><td>6</td><td>17</td></tr>\n",
       "\t<tr><th scope=row>49</th><td>20</td><td> 37</td><td> 9.2</td><td>65</td><td>6</td><td>18</td></tr>\n",
       "\t<tr><th scope=row>50</th><td>12</td><td>120</td><td>11.5</td><td>73</td><td>6</td><td>19</td></tr>\n",
       "\t<tr><th scope=row>51</th><td>13</td><td>137</td><td>10.3</td><td>76</td><td>6</td><td>20</td></tr>\n",
       "\t<tr><th scope=row>52</th><td>NA</td><td>150</td><td> 6.3</td><td>77</td><td>6</td><td>21</td></tr>\n",
       "\t<tr><th scope=row>53</th><td>NA</td><td> 59</td><td> 1.7</td><td>76</td><td>6</td><td>22</td></tr>\n",
       "\t<tr><th scope=row>54</th><td>NA</td><td> 91</td><td> 4.6</td><td>76</td><td>6</td><td>23</td></tr>\n",
       "\t<tr><th scope=row>55</th><td>NA</td><td>250</td><td> 6.3</td><td>76</td><td>6</td><td>24</td></tr>\n",
       "\t<tr><th scope=row>56</th><td>NA</td><td>135</td><td> 8.0</td><td>75</td><td>6</td><td>25</td></tr>\n",
       "\t<tr><th scope=row>57</th><td>NA</td><td>127</td><td> 8.0</td><td>78</td><td>6</td><td>26</td></tr>\n",
       "\t<tr><th scope=row>58</th><td>NA</td><td> 47</td><td>10.3</td><td>73</td><td>6</td><td>27</td></tr>\n",
       "\t<tr><th scope=row>59</th><td>NA</td><td> 98</td><td>11.5</td><td>80</td><td>6</td><td>28</td></tr>\n",
       "\t<tr><th scope=row>60</th><td>NA</td><td> 31</td><td>14.9</td><td>77</td><td>6</td><td>29</td></tr>\n",
       "\t<tr><th scope=row>61</th><td>NA</td><td>138</td><td> 8.0</td><td>83</td><td>6</td><td>30</td></tr>\n",
       "</tbody>\n",
       "</table>\n"
      ],
      "text/latex": [
       "A data.frame: 30 × 6\n",
       "\\begin{tabular}{r|llllll}\n",
       "  & Ozone & Solar.R & Wind & Temp & Month & Day\\\\\n",
       "  & <int> & <int> & <dbl> & <int> & <int> & <int>\\\\\n",
       "\\hline\n",
       "\t32 & NA & 286 &  8.6 & 78 & 6 &  1\\\\\n",
       "\t33 & NA & 287 &  9.7 & 74 & 6 &  2\\\\\n",
       "\t34 & NA & 242 & 16.1 & 67 & 6 &  3\\\\\n",
       "\t35 & NA & 186 &  9.2 & 84 & 6 &  4\\\\\n",
       "\t36 & NA & 220 &  8.6 & 85 & 6 &  5\\\\\n",
       "\t37 & NA & 264 & 14.3 & 79 & 6 &  6\\\\\n",
       "\t38 & 29 & 127 &  9.7 & 82 & 6 &  7\\\\\n",
       "\t39 & NA & 273 &  6.9 & 87 & 6 &  8\\\\\n",
       "\t40 & 71 & 291 & 13.8 & 90 & 6 &  9\\\\\n",
       "\t41 & 39 & 323 & 11.5 & 87 & 6 & 10\\\\\n",
       "\t42 & NA & 259 & 10.9 & 93 & 6 & 11\\\\\n",
       "\t43 & NA & 250 &  9.2 & 92 & 6 & 12\\\\\n",
       "\t44 & 23 & 148 &  8.0 & 82 & 6 & 13\\\\\n",
       "\t45 & NA & 332 & 13.8 & 80 & 6 & 14\\\\\n",
       "\t46 & NA & 322 & 11.5 & 79 & 6 & 15\\\\\n",
       "\t47 & 21 & 191 & 14.9 & 77 & 6 & 16\\\\\n",
       "\t48 & 37 & 284 & 20.7 & 72 & 6 & 17\\\\\n",
       "\t49 & 20 &  37 &  9.2 & 65 & 6 & 18\\\\\n",
       "\t50 & 12 & 120 & 11.5 & 73 & 6 & 19\\\\\n",
       "\t51 & 13 & 137 & 10.3 & 76 & 6 & 20\\\\\n",
       "\t52 & NA & 150 &  6.3 & 77 & 6 & 21\\\\\n",
       "\t53 & NA &  59 &  1.7 & 76 & 6 & 22\\\\\n",
       "\t54 & NA &  91 &  4.6 & 76 & 6 & 23\\\\\n",
       "\t55 & NA & 250 &  6.3 & 76 & 6 & 24\\\\\n",
       "\t56 & NA & 135 &  8.0 & 75 & 6 & 25\\\\\n",
       "\t57 & NA & 127 &  8.0 & 78 & 6 & 26\\\\\n",
       "\t58 & NA &  47 & 10.3 & 73 & 6 & 27\\\\\n",
       "\t59 & NA &  98 & 11.5 & 80 & 6 & 28\\\\\n",
       "\t60 & NA &  31 & 14.9 & 77 & 6 & 29\\\\\n",
       "\t61 & NA & 138 &  8.0 & 83 & 6 & 30\\\\\n",
       "\\end{tabular}\n"
      ],
      "text/markdown": [
       "\n",
       "A data.frame: 30 × 6\n",
       "\n",
       "| <!--/--> | Ozone &lt;int&gt; | Solar.R &lt;int&gt; | Wind &lt;dbl&gt; | Temp &lt;int&gt; | Month &lt;int&gt; | Day &lt;int&gt; |\n",
       "|---|---|---|---|---|---|---|\n",
       "| 32 | NA | 286 |  8.6 | 78 | 6 |  1 |\n",
       "| 33 | NA | 287 |  9.7 | 74 | 6 |  2 |\n",
       "| 34 | NA | 242 | 16.1 | 67 | 6 |  3 |\n",
       "| 35 | NA | 186 |  9.2 | 84 | 6 |  4 |\n",
       "| 36 | NA | 220 |  8.6 | 85 | 6 |  5 |\n",
       "| 37 | NA | 264 | 14.3 | 79 | 6 |  6 |\n",
       "| 38 | 29 | 127 |  9.7 | 82 | 6 |  7 |\n",
       "| 39 | NA | 273 |  6.9 | 87 | 6 |  8 |\n",
       "| 40 | 71 | 291 | 13.8 | 90 | 6 |  9 |\n",
       "| 41 | 39 | 323 | 11.5 | 87 | 6 | 10 |\n",
       "| 42 | NA | 259 | 10.9 | 93 | 6 | 11 |\n",
       "| 43 | NA | 250 |  9.2 | 92 | 6 | 12 |\n",
       "| 44 | 23 | 148 |  8.0 | 82 | 6 | 13 |\n",
       "| 45 | NA | 332 | 13.8 | 80 | 6 | 14 |\n",
       "| 46 | NA | 322 | 11.5 | 79 | 6 | 15 |\n",
       "| 47 | 21 | 191 | 14.9 | 77 | 6 | 16 |\n",
       "| 48 | 37 | 284 | 20.7 | 72 | 6 | 17 |\n",
       "| 49 | 20 |  37 |  9.2 | 65 | 6 | 18 |\n",
       "| 50 | 12 | 120 | 11.5 | 73 | 6 | 19 |\n",
       "| 51 | 13 | 137 | 10.3 | 76 | 6 | 20 |\n",
       "| 52 | NA | 150 |  6.3 | 77 | 6 | 21 |\n",
       "| 53 | NA |  59 |  1.7 | 76 | 6 | 22 |\n",
       "| 54 | NA |  91 |  4.6 | 76 | 6 | 23 |\n",
       "| 55 | NA | 250 |  6.3 | 76 | 6 | 24 |\n",
       "| 56 | NA | 135 |  8.0 | 75 | 6 | 25 |\n",
       "| 57 | NA | 127 |  8.0 | 78 | 6 | 26 |\n",
       "| 58 | NA |  47 | 10.3 | 73 | 6 | 27 |\n",
       "| 59 | NA |  98 | 11.5 | 80 | 6 | 28 |\n",
       "| 60 | NA |  31 | 14.9 | 77 | 6 | 29 |\n",
       "| 61 | NA | 138 |  8.0 | 83 | 6 | 30 |\n",
       "\n"
      ],
      "text/plain": [
       "   Ozone Solar.R Wind Temp Month Day\n",
       "32 NA    286      8.6 78   6      1 \n",
       "33 NA    287      9.7 74   6      2 \n",
       "34 NA    242     16.1 67   6      3 \n",
       "35 NA    186      9.2 84   6      4 \n",
       "36 NA    220      8.6 85   6      5 \n",
       "37 NA    264     14.3 79   6      6 \n",
       "38 29    127      9.7 82   6      7 \n",
       "39 NA    273      6.9 87   6      8 \n",
       "40 71    291     13.8 90   6      9 \n",
       "41 39    323     11.5 87   6     10 \n",
       "42 NA    259     10.9 93   6     11 \n",
       "43 NA    250      9.2 92   6     12 \n",
       "44 23    148      8.0 82   6     13 \n",
       "45 NA    332     13.8 80   6     14 \n",
       "46 NA    322     11.5 79   6     15 \n",
       "47 21    191     14.9 77   6     16 \n",
       "48 37    284     20.7 72   6     17 \n",
       "49 20     37      9.2 65   6     18 \n",
       "50 12    120     11.5 73   6     19 \n",
       "51 13    137     10.3 76   6     20 \n",
       "52 NA    150      6.3 77   6     21 \n",
       "53 NA     59      1.7 76   6     22 \n",
       "54 NA     91      4.6 76   6     23 \n",
       "55 NA    250      6.3 76   6     24 \n",
       "56 NA    135      8.0 75   6     25 \n",
       "57 NA    127      8.0 78   6     26 \n",
       "58 NA     47     10.3 73   6     27 \n",
       "59 NA     98     11.5 80   6     28 \n",
       "60 NA     31     14.9 77   6     29 \n",
       "61 NA    138      8.0 83   6     30 "
      ]
     },
     "metadata": {},
     "output_type": "display_data"
    }
   ],
   "source": [
    "subset <- df[df['Month'] == 6, ]\n",
    "subset"
   ]
  },
  {
   "cell_type": "code",
   "execution_count": 36,
   "id": "c8c097c1",
   "metadata": {},
   "outputs": [
    {
     "data": {
      "text/html": [
       "<style>\n",
       ".list-inline {list-style: none; margin:0; padding: 0}\n",
       ".list-inline>li {display: inline-block}\n",
       ".list-inline>li:not(:last-child)::after {content: \"\\00b7\"; padding: 0 .5ex}\n",
       "</style>\n",
       "<ol class=list-inline><li>'Ozone'</li><li>'Solar.R'</li><li>'Wind'</li><li>'Temp'</li><li>'Month'</li><li>'Day'</li></ol>\n"
      ],
      "text/latex": [
       "\\begin{enumerate*}\n",
       "\\item 'Ozone'\n",
       "\\item 'Solar.R'\n",
       "\\item 'Wind'\n",
       "\\item 'Temp'\n",
       "\\item 'Month'\n",
       "\\item 'Day'\n",
       "\\end{enumerate*}\n"
      ],
      "text/markdown": [
       "1. 'Ozone'\n",
       "2. 'Solar.R'\n",
       "3. 'Wind'\n",
       "4. 'Temp'\n",
       "5. 'Month'\n",
       "6. 'Day'\n",
       "\n",
       "\n"
      ],
      "text/plain": [
       "[1] \"Ozone\"   \"Solar.R\" \"Wind\"    \"Temp\"    \"Month\"   \"Day\"    "
      ]
     },
     "metadata": {},
     "output_type": "display_data"
    }
   ],
   "source": [
    "colnames(subset)"
   ]
  },
  {
   "cell_type": "code",
   "execution_count": 37,
   "id": "e5cbc182",
   "metadata": {},
   "outputs": [
    {
     "data": {
      "text/html": [
       "<table class=\"dataframe\">\n",
       "<caption>A data.frame: 1 × 6</caption>\n",
       "<thead>\n",
       "\t<tr><th></th><th scope=col>Ozone</th><th scope=col>Solar.R</th><th scope=col>Wind</th><th scope=col>Temp</th><th scope=col>Month</th><th scope=col>Day</th></tr>\n",
       "\t<tr><th></th><th scope=col>&lt;int&gt;</th><th scope=col>&lt;int&gt;</th><th scope=col>&lt;dbl&gt;</th><th scope=col>&lt;int&gt;</th><th scope=col>&lt;int&gt;</th><th scope=col>&lt;int&gt;</th></tr>\n",
       "</thead>\n",
       "<tbody>\n",
       "\t<tr><th scope=row>48</th><td>37</td><td>284</td><td>20.7</td><td>72</td><td>6</td><td>17</td></tr>\n",
       "</tbody>\n",
       "</table>\n"
      ],
      "text/latex": [
       "A data.frame: 1 × 6\n",
       "\\begin{tabular}{r|llllll}\n",
       "  & Ozone & Solar.R & Wind & Temp & Month & Day\\\\\n",
       "  & <int> & <int> & <dbl> & <int> & <int> & <int>\\\\\n",
       "\\hline\n",
       "\t48 & 37 & 284 & 20.7 & 72 & 6 & 17\\\\\n",
       "\\end{tabular}\n"
      ],
      "text/markdown": [
       "\n",
       "A data.frame: 1 × 6\n",
       "\n",
       "| <!--/--> | Ozone &lt;int&gt; | Solar.R &lt;int&gt; | Wind &lt;dbl&gt; | Temp &lt;int&gt; | Month &lt;int&gt; | Day &lt;int&gt; |\n",
       "|---|---|---|---|---|---|---|\n",
       "| 48 | 37 | 284 | 20.7 | 72 | 6 | 17 |\n",
       "\n"
      ],
      "text/plain": [
       "   Ozone Solar.R Wind Temp Month Day\n",
       "48 37    284     20.7 72   6     17 "
      ]
     },
     "metadata": {},
     "output_type": "display_data"
    }
   ],
   "source": [
    "subset[subset['Wind'] == max(subset['Wind']), ]"
   ]
  },
  {
   "cell_type": "code",
   "execution_count": 39,
   "id": "d02805d7",
   "metadata": {},
   "outputs": [
    {
     "data": {
      "text/html": [
       "<table class=\"dataframe\">\n",
       "<caption>A data.frame: 31 × 6</caption>\n",
       "<thead>\n",
       "\t<tr><th></th><th scope=col>Ozone</th><th scope=col>Solar.R</th><th scope=col>Wind</th><th scope=col>Temp</th><th scope=col>Month</th><th scope=col>Day</th></tr>\n",
       "\t<tr><th></th><th scope=col>&lt;int&gt;</th><th scope=col>&lt;int&gt;</th><th scope=col>&lt;dbl&gt;</th><th scope=col>&lt;int&gt;</th><th scope=col>&lt;int&gt;</th><th scope=col>&lt;int&gt;</th></tr>\n",
       "</thead>\n",
       "<tbody>\n",
       "\t<tr><th scope=row>62</th><td>135</td><td>269</td><td> 4.1</td><td>84</td><td>7</td><td> 1</td></tr>\n",
       "\t<tr><th scope=row>63</th><td> 49</td><td>248</td><td> 9.2</td><td>85</td><td>7</td><td> 2</td></tr>\n",
       "\t<tr><th scope=row>64</th><td> 32</td><td>236</td><td> 9.2</td><td>81</td><td>7</td><td> 3</td></tr>\n",
       "\t<tr><th scope=row>65</th><td> NA</td><td>101</td><td>10.9</td><td>84</td><td>7</td><td> 4</td></tr>\n",
       "\t<tr><th scope=row>66</th><td> 64</td><td>175</td><td> 4.6</td><td>83</td><td>7</td><td> 5</td></tr>\n",
       "\t<tr><th scope=row>67</th><td> 40</td><td>314</td><td>10.9</td><td>83</td><td>7</td><td> 6</td></tr>\n",
       "\t<tr><th scope=row>68</th><td> 77</td><td>276</td><td> 5.1</td><td>88</td><td>7</td><td> 7</td></tr>\n",
       "\t<tr><th scope=row>69</th><td> 97</td><td>267</td><td> 6.3</td><td>92</td><td>7</td><td> 8</td></tr>\n",
       "\t<tr><th scope=row>70</th><td> 97</td><td>272</td><td> 5.7</td><td>92</td><td>7</td><td> 9</td></tr>\n",
       "\t<tr><th scope=row>71</th><td> 85</td><td>175</td><td> 7.4</td><td>89</td><td>7</td><td>10</td></tr>\n",
       "\t<tr><th scope=row>72</th><td> NA</td><td>139</td><td> 8.6</td><td>82</td><td>7</td><td>11</td></tr>\n",
       "\t<tr><th scope=row>73</th><td> 10</td><td>264</td><td>14.3</td><td>73</td><td>7</td><td>12</td></tr>\n",
       "\t<tr><th scope=row>74</th><td> 27</td><td>175</td><td>14.9</td><td>81</td><td>7</td><td>13</td></tr>\n",
       "\t<tr><th scope=row>75</th><td> NA</td><td>291</td><td>14.9</td><td>91</td><td>7</td><td>14</td></tr>\n",
       "\t<tr><th scope=row>76</th><td>  7</td><td> 48</td><td>14.3</td><td>80</td><td>7</td><td>15</td></tr>\n",
       "\t<tr><th scope=row>77</th><td> 48</td><td>260</td><td> 6.9</td><td>81</td><td>7</td><td>16</td></tr>\n",
       "\t<tr><th scope=row>78</th><td> 35</td><td>274</td><td>10.3</td><td>82</td><td>7</td><td>17</td></tr>\n",
       "\t<tr><th scope=row>79</th><td> 61</td><td>285</td><td> 6.3</td><td>84</td><td>7</td><td>18</td></tr>\n",
       "\t<tr><th scope=row>80</th><td> 79</td><td>187</td><td> 5.1</td><td>87</td><td>7</td><td>19</td></tr>\n",
       "\t<tr><th scope=row>81</th><td> 63</td><td>220</td><td>11.5</td><td>85</td><td>7</td><td>20</td></tr>\n",
       "\t<tr><th scope=row>82</th><td> 16</td><td>  7</td><td> 6.9</td><td>74</td><td>7</td><td>21</td></tr>\n",
       "\t<tr><th scope=row>83</th><td> NA</td><td>258</td><td> 9.7</td><td>81</td><td>7</td><td>22</td></tr>\n",
       "\t<tr><th scope=row>84</th><td> NA</td><td>295</td><td>11.5</td><td>82</td><td>7</td><td>23</td></tr>\n",
       "\t<tr><th scope=row>85</th><td> 80</td><td>294</td><td> 8.6</td><td>86</td><td>7</td><td>24</td></tr>\n",
       "\t<tr><th scope=row>86</th><td>108</td><td>223</td><td> 8.0</td><td>85</td><td>7</td><td>25</td></tr>\n",
       "\t<tr><th scope=row>87</th><td> 20</td><td> 81</td><td> 8.6</td><td>82</td><td>7</td><td>26</td></tr>\n",
       "\t<tr><th scope=row>88</th><td> 52</td><td> 82</td><td>12.0</td><td>86</td><td>7</td><td>27</td></tr>\n",
       "\t<tr><th scope=row>89</th><td> 82</td><td>213</td><td> 7.4</td><td>88</td><td>7</td><td>28</td></tr>\n",
       "\t<tr><th scope=row>90</th><td> 50</td><td>275</td><td> 7.4</td><td>86</td><td>7</td><td>29</td></tr>\n",
       "\t<tr><th scope=row>91</th><td> 64</td><td>253</td><td> 7.4</td><td>83</td><td>7</td><td>30</td></tr>\n",
       "\t<tr><th scope=row>92</th><td> 59</td><td>254</td><td> 9.2</td><td>81</td><td>7</td><td>31</td></tr>\n",
       "</tbody>\n",
       "</table>\n"
      ],
      "text/latex": [
       "A data.frame: 31 × 6\n",
       "\\begin{tabular}{r|llllll}\n",
       "  & Ozone & Solar.R & Wind & Temp & Month & Day\\\\\n",
       "  & <int> & <int> & <dbl> & <int> & <int> & <int>\\\\\n",
       "\\hline\n",
       "\t62 & 135 & 269 &  4.1 & 84 & 7 &  1\\\\\n",
       "\t63 &  49 & 248 &  9.2 & 85 & 7 &  2\\\\\n",
       "\t64 &  32 & 236 &  9.2 & 81 & 7 &  3\\\\\n",
       "\t65 &  NA & 101 & 10.9 & 84 & 7 &  4\\\\\n",
       "\t66 &  64 & 175 &  4.6 & 83 & 7 &  5\\\\\n",
       "\t67 &  40 & 314 & 10.9 & 83 & 7 &  6\\\\\n",
       "\t68 &  77 & 276 &  5.1 & 88 & 7 &  7\\\\\n",
       "\t69 &  97 & 267 &  6.3 & 92 & 7 &  8\\\\\n",
       "\t70 &  97 & 272 &  5.7 & 92 & 7 &  9\\\\\n",
       "\t71 &  85 & 175 &  7.4 & 89 & 7 & 10\\\\\n",
       "\t72 &  NA & 139 &  8.6 & 82 & 7 & 11\\\\\n",
       "\t73 &  10 & 264 & 14.3 & 73 & 7 & 12\\\\\n",
       "\t74 &  27 & 175 & 14.9 & 81 & 7 & 13\\\\\n",
       "\t75 &  NA & 291 & 14.9 & 91 & 7 & 14\\\\\n",
       "\t76 &   7 &  48 & 14.3 & 80 & 7 & 15\\\\\n",
       "\t77 &  48 & 260 &  6.9 & 81 & 7 & 16\\\\\n",
       "\t78 &  35 & 274 & 10.3 & 82 & 7 & 17\\\\\n",
       "\t79 &  61 & 285 &  6.3 & 84 & 7 & 18\\\\\n",
       "\t80 &  79 & 187 &  5.1 & 87 & 7 & 19\\\\\n",
       "\t81 &  63 & 220 & 11.5 & 85 & 7 & 20\\\\\n",
       "\t82 &  16 &   7 &  6.9 & 74 & 7 & 21\\\\\n",
       "\t83 &  NA & 258 &  9.7 & 81 & 7 & 22\\\\\n",
       "\t84 &  NA & 295 & 11.5 & 82 & 7 & 23\\\\\n",
       "\t85 &  80 & 294 &  8.6 & 86 & 7 & 24\\\\\n",
       "\t86 & 108 & 223 &  8.0 & 85 & 7 & 25\\\\\n",
       "\t87 &  20 &  81 &  8.6 & 82 & 7 & 26\\\\\n",
       "\t88 &  52 &  82 & 12.0 & 86 & 7 & 27\\\\\n",
       "\t89 &  82 & 213 &  7.4 & 88 & 7 & 28\\\\\n",
       "\t90 &  50 & 275 &  7.4 & 86 & 7 & 29\\\\\n",
       "\t91 &  64 & 253 &  7.4 & 83 & 7 & 30\\\\\n",
       "\t92 &  59 & 254 &  9.2 & 81 & 7 & 31\\\\\n",
       "\\end{tabular}\n"
      ],
      "text/markdown": [
       "\n",
       "A data.frame: 31 × 6\n",
       "\n",
       "| <!--/--> | Ozone &lt;int&gt; | Solar.R &lt;int&gt; | Wind &lt;dbl&gt; | Temp &lt;int&gt; | Month &lt;int&gt; | Day &lt;int&gt; |\n",
       "|---|---|---|---|---|---|---|\n",
       "| 62 | 135 | 269 |  4.1 | 84 | 7 |  1 |\n",
       "| 63 |  49 | 248 |  9.2 | 85 | 7 |  2 |\n",
       "| 64 |  32 | 236 |  9.2 | 81 | 7 |  3 |\n",
       "| 65 |  NA | 101 | 10.9 | 84 | 7 |  4 |\n",
       "| 66 |  64 | 175 |  4.6 | 83 | 7 |  5 |\n",
       "| 67 |  40 | 314 | 10.9 | 83 | 7 |  6 |\n",
       "| 68 |  77 | 276 |  5.1 | 88 | 7 |  7 |\n",
       "| 69 |  97 | 267 |  6.3 | 92 | 7 |  8 |\n",
       "| 70 |  97 | 272 |  5.7 | 92 | 7 |  9 |\n",
       "| 71 |  85 | 175 |  7.4 | 89 | 7 | 10 |\n",
       "| 72 |  NA | 139 |  8.6 | 82 | 7 | 11 |\n",
       "| 73 |  10 | 264 | 14.3 | 73 | 7 | 12 |\n",
       "| 74 |  27 | 175 | 14.9 | 81 | 7 | 13 |\n",
       "| 75 |  NA | 291 | 14.9 | 91 | 7 | 14 |\n",
       "| 76 |   7 |  48 | 14.3 | 80 | 7 | 15 |\n",
       "| 77 |  48 | 260 |  6.9 | 81 | 7 | 16 |\n",
       "| 78 |  35 | 274 | 10.3 | 82 | 7 | 17 |\n",
       "| 79 |  61 | 285 |  6.3 | 84 | 7 | 18 |\n",
       "| 80 |  79 | 187 |  5.1 | 87 | 7 | 19 |\n",
       "| 81 |  63 | 220 | 11.5 | 85 | 7 | 20 |\n",
       "| 82 |  16 |   7 |  6.9 | 74 | 7 | 21 |\n",
       "| 83 |  NA | 258 |  9.7 | 81 | 7 | 22 |\n",
       "| 84 |  NA | 295 | 11.5 | 82 | 7 | 23 |\n",
       "| 85 |  80 | 294 |  8.6 | 86 | 7 | 24 |\n",
       "| 86 | 108 | 223 |  8.0 | 85 | 7 | 25 |\n",
       "| 87 |  20 |  81 |  8.6 | 82 | 7 | 26 |\n",
       "| 88 |  52 |  82 | 12.0 | 86 | 7 | 27 |\n",
       "| 89 |  82 | 213 |  7.4 | 88 | 7 | 28 |\n",
       "| 90 |  50 | 275 |  7.4 | 86 | 7 | 29 |\n",
       "| 91 |  64 | 253 |  7.4 | 83 | 7 | 30 |\n",
       "| 92 |  59 | 254 |  9.2 | 81 | 7 | 31 |\n",
       "\n"
      ],
      "text/plain": [
       "   Ozone Solar.R Wind Temp Month Day\n",
       "62 135   269      4.1 84   7      1 \n",
       "63  49   248      9.2 85   7      2 \n",
       "64  32   236      9.2 81   7      3 \n",
       "65  NA   101     10.9 84   7      4 \n",
       "66  64   175      4.6 83   7      5 \n",
       "67  40   314     10.9 83   7      6 \n",
       "68  77   276      5.1 88   7      7 \n",
       "69  97   267      6.3 92   7      8 \n",
       "70  97   272      5.7 92   7      9 \n",
       "71  85   175      7.4 89   7     10 \n",
       "72  NA   139      8.6 82   7     11 \n",
       "73  10   264     14.3 73   7     12 \n",
       "74  27   175     14.9 81   7     13 \n",
       "75  NA   291     14.9 91   7     14 \n",
       "76   7    48     14.3 80   7     15 \n",
       "77  48   260      6.9 81   7     16 \n",
       "78  35   274     10.3 82   7     17 \n",
       "79  61   285      6.3 84   7     18 \n",
       "80  79   187      5.1 87   7     19 \n",
       "81  63   220     11.5 85   7     20 \n",
       "82  16     7      6.9 74   7     21 \n",
       "83  NA   258      9.7 81   7     22 \n",
       "84  NA   295     11.5 82   7     23 \n",
       "85  80   294      8.6 86   7     24 \n",
       "86 108   223      8.0 85   7     25 \n",
       "87  20    81      8.6 82   7     26 \n",
       "88  52    82     12.0 86   7     27 \n",
       "89  82   213      7.4 88   7     28 \n",
       "90  50   275      7.4 86   7     29 \n",
       "91  64   253      7.4 83   7     30 \n",
       "92  59   254      9.2 81   7     31 "
      ]
     },
     "metadata": {},
     "output_type": "display_data"
    }
   ],
   "source": [
    "subset <- df[df['Month'] == 7, ]\n",
    "subset"
   ]
  },
  {
   "cell_type": "code",
   "execution_count": 40,
   "id": "7c0d9732",
   "metadata": {},
   "outputs": [
    {
     "data": {
      "text/html": [
       "<strong>Temp:</strong> 83.9032258064516"
      ],
      "text/latex": [
       "\\textbf{Temp:} 83.9032258064516"
      ],
      "text/markdown": [
       "**Temp:** 83.9032258064516"
      ],
      "text/plain": [
       "    Temp \n",
       "83.90323 "
      ]
     },
     "metadata": {},
     "output_type": "display_data"
    }
   ],
   "source": [
    "colMeans(subset)['Temp']"
   ]
  },
  {
   "cell_type": "code",
   "execution_count": 42,
   "id": "0aa18524",
   "metadata": {},
   "outputs": [
    {
     "data": {
      "text/html": [
       "<table class=\"dataframe\">\n",
       "<caption>A data.frame: 31 × 6</caption>\n",
       "<thead>\n",
       "\t<tr><th></th><th scope=col>Ozone</th><th scope=col>Solar.R</th><th scope=col>Wind</th><th scope=col>Temp</th><th scope=col>Month</th><th scope=col>Day</th></tr>\n",
       "\t<tr><th></th><th scope=col>&lt;int&gt;</th><th scope=col>&lt;int&gt;</th><th scope=col>&lt;dbl&gt;</th><th scope=col>&lt;int&gt;</th><th scope=col>&lt;int&gt;</th><th scope=col>&lt;int&gt;</th></tr>\n",
       "</thead>\n",
       "<tbody>\n",
       "\t<tr><th scope=row>1</th><td> 41</td><td>190</td><td> 7.4</td><td>67</td><td>5</td><td> 1</td></tr>\n",
       "\t<tr><th scope=row>2</th><td> 36</td><td>118</td><td> 8.0</td><td>72</td><td>5</td><td> 2</td></tr>\n",
       "\t<tr><th scope=row>3</th><td> 12</td><td>149</td><td>12.6</td><td>74</td><td>5</td><td> 3</td></tr>\n",
       "\t<tr><th scope=row>4</th><td> 18</td><td>313</td><td>11.5</td><td>62</td><td>5</td><td> 4</td></tr>\n",
       "\t<tr><th scope=row>5</th><td> NA</td><td> NA</td><td>14.3</td><td>56</td><td>5</td><td> 5</td></tr>\n",
       "\t<tr><th scope=row>6</th><td> 28</td><td> NA</td><td>14.9</td><td>66</td><td>5</td><td> 6</td></tr>\n",
       "\t<tr><th scope=row>7</th><td> 23</td><td>299</td><td> 8.6</td><td>65</td><td>5</td><td> 7</td></tr>\n",
       "\t<tr><th scope=row>8</th><td> 19</td><td> 99</td><td>13.8</td><td>59</td><td>5</td><td> 8</td></tr>\n",
       "\t<tr><th scope=row>9</th><td>  8</td><td> 19</td><td>20.1</td><td>61</td><td>5</td><td> 9</td></tr>\n",
       "\t<tr><th scope=row>10</th><td> NA</td><td>194</td><td> 8.6</td><td>69</td><td>5</td><td>10</td></tr>\n",
       "\t<tr><th scope=row>11</th><td>  7</td><td> NA</td><td> 6.9</td><td>74</td><td>5</td><td>11</td></tr>\n",
       "\t<tr><th scope=row>12</th><td> 16</td><td>256</td><td> 9.7</td><td>69</td><td>5</td><td>12</td></tr>\n",
       "\t<tr><th scope=row>13</th><td> 11</td><td>290</td><td> 9.2</td><td>66</td><td>5</td><td>13</td></tr>\n",
       "\t<tr><th scope=row>14</th><td> 14</td><td>274</td><td>10.9</td><td>68</td><td>5</td><td>14</td></tr>\n",
       "\t<tr><th scope=row>15</th><td> 18</td><td> 65</td><td>13.2</td><td>58</td><td>5</td><td>15</td></tr>\n",
       "\t<tr><th scope=row>16</th><td> 14</td><td>334</td><td>11.5</td><td>64</td><td>5</td><td>16</td></tr>\n",
       "\t<tr><th scope=row>17</th><td> 34</td><td>307</td><td>12.0</td><td>66</td><td>5</td><td>17</td></tr>\n",
       "\t<tr><th scope=row>18</th><td>  6</td><td> 78</td><td>18.4</td><td>57</td><td>5</td><td>18</td></tr>\n",
       "\t<tr><th scope=row>19</th><td> 30</td><td>322</td><td>11.5</td><td>68</td><td>5</td><td>19</td></tr>\n",
       "\t<tr><th scope=row>20</th><td> 11</td><td> 44</td><td> 9.7</td><td>62</td><td>5</td><td>20</td></tr>\n",
       "\t<tr><th scope=row>21</th><td>  1</td><td>  8</td><td> 9.7</td><td>59</td><td>5</td><td>21</td></tr>\n",
       "\t<tr><th scope=row>22</th><td> 11</td><td>320</td><td>16.6</td><td>73</td><td>5</td><td>22</td></tr>\n",
       "\t<tr><th scope=row>23</th><td>  4</td><td> 25</td><td> 9.7</td><td>61</td><td>5</td><td>23</td></tr>\n",
       "\t<tr><th scope=row>24</th><td> 32</td><td> 92</td><td>12.0</td><td>61</td><td>5</td><td>24</td></tr>\n",
       "\t<tr><th scope=row>25</th><td> NA</td><td> 66</td><td>16.6</td><td>57</td><td>5</td><td>25</td></tr>\n",
       "\t<tr><th scope=row>26</th><td> NA</td><td>266</td><td>14.9</td><td>58</td><td>5</td><td>26</td></tr>\n",
       "\t<tr><th scope=row>27</th><td> NA</td><td> NA</td><td> 8.0</td><td>57</td><td>5</td><td>27</td></tr>\n",
       "\t<tr><th scope=row>28</th><td> 23</td><td> 13</td><td>12.0</td><td>67</td><td>5</td><td>28</td></tr>\n",
       "\t<tr><th scope=row>29</th><td> 45</td><td>252</td><td>14.9</td><td>81</td><td>5</td><td>29</td></tr>\n",
       "\t<tr><th scope=row>30</th><td>115</td><td>223</td><td> 5.7</td><td>79</td><td>5</td><td>30</td></tr>\n",
       "\t<tr><th scope=row>31</th><td> 37</td><td>279</td><td> 7.4</td><td>76</td><td>5</td><td>31</td></tr>\n",
       "</tbody>\n",
       "</table>\n"
      ],
      "text/latex": [
       "A data.frame: 31 × 6\n",
       "\\begin{tabular}{r|llllll}\n",
       "  & Ozone & Solar.R & Wind & Temp & Month & Day\\\\\n",
       "  & <int> & <int> & <dbl> & <int> & <int> & <int>\\\\\n",
       "\\hline\n",
       "\t1 &  41 & 190 &  7.4 & 67 & 5 &  1\\\\\n",
       "\t2 &  36 & 118 &  8.0 & 72 & 5 &  2\\\\\n",
       "\t3 &  12 & 149 & 12.6 & 74 & 5 &  3\\\\\n",
       "\t4 &  18 & 313 & 11.5 & 62 & 5 &  4\\\\\n",
       "\t5 &  NA &  NA & 14.3 & 56 & 5 &  5\\\\\n",
       "\t6 &  28 &  NA & 14.9 & 66 & 5 &  6\\\\\n",
       "\t7 &  23 & 299 &  8.6 & 65 & 5 &  7\\\\\n",
       "\t8 &  19 &  99 & 13.8 & 59 & 5 &  8\\\\\n",
       "\t9 &   8 &  19 & 20.1 & 61 & 5 &  9\\\\\n",
       "\t10 &  NA & 194 &  8.6 & 69 & 5 & 10\\\\\n",
       "\t11 &   7 &  NA &  6.9 & 74 & 5 & 11\\\\\n",
       "\t12 &  16 & 256 &  9.7 & 69 & 5 & 12\\\\\n",
       "\t13 &  11 & 290 &  9.2 & 66 & 5 & 13\\\\\n",
       "\t14 &  14 & 274 & 10.9 & 68 & 5 & 14\\\\\n",
       "\t15 &  18 &  65 & 13.2 & 58 & 5 & 15\\\\\n",
       "\t16 &  14 & 334 & 11.5 & 64 & 5 & 16\\\\\n",
       "\t17 &  34 & 307 & 12.0 & 66 & 5 & 17\\\\\n",
       "\t18 &   6 &  78 & 18.4 & 57 & 5 & 18\\\\\n",
       "\t19 &  30 & 322 & 11.5 & 68 & 5 & 19\\\\\n",
       "\t20 &  11 &  44 &  9.7 & 62 & 5 & 20\\\\\n",
       "\t21 &   1 &   8 &  9.7 & 59 & 5 & 21\\\\\n",
       "\t22 &  11 & 320 & 16.6 & 73 & 5 & 22\\\\\n",
       "\t23 &   4 &  25 &  9.7 & 61 & 5 & 23\\\\\n",
       "\t24 &  32 &  92 & 12.0 & 61 & 5 & 24\\\\\n",
       "\t25 &  NA &  66 & 16.6 & 57 & 5 & 25\\\\\n",
       "\t26 &  NA & 266 & 14.9 & 58 & 5 & 26\\\\\n",
       "\t27 &  NA &  NA &  8.0 & 57 & 5 & 27\\\\\n",
       "\t28 &  23 &  13 & 12.0 & 67 & 5 & 28\\\\\n",
       "\t29 &  45 & 252 & 14.9 & 81 & 5 & 29\\\\\n",
       "\t30 & 115 & 223 &  5.7 & 79 & 5 & 30\\\\\n",
       "\t31 &  37 & 279 &  7.4 & 76 & 5 & 31\\\\\n",
       "\\end{tabular}\n"
      ],
      "text/markdown": [
       "\n",
       "A data.frame: 31 × 6\n",
       "\n",
       "| <!--/--> | Ozone &lt;int&gt; | Solar.R &lt;int&gt; | Wind &lt;dbl&gt; | Temp &lt;int&gt; | Month &lt;int&gt; | Day &lt;int&gt; |\n",
       "|---|---|---|---|---|---|---|\n",
       "| 1 |  41 | 190 |  7.4 | 67 | 5 |  1 |\n",
       "| 2 |  36 | 118 |  8.0 | 72 | 5 |  2 |\n",
       "| 3 |  12 | 149 | 12.6 | 74 | 5 |  3 |\n",
       "| 4 |  18 | 313 | 11.5 | 62 | 5 |  4 |\n",
       "| 5 |  NA |  NA | 14.3 | 56 | 5 |  5 |\n",
       "| 6 |  28 |  NA | 14.9 | 66 | 5 |  6 |\n",
       "| 7 |  23 | 299 |  8.6 | 65 | 5 |  7 |\n",
       "| 8 |  19 |  99 | 13.8 | 59 | 5 |  8 |\n",
       "| 9 |   8 |  19 | 20.1 | 61 | 5 |  9 |\n",
       "| 10 |  NA | 194 |  8.6 | 69 | 5 | 10 |\n",
       "| 11 |   7 |  NA |  6.9 | 74 | 5 | 11 |\n",
       "| 12 |  16 | 256 |  9.7 | 69 | 5 | 12 |\n",
       "| 13 |  11 | 290 |  9.2 | 66 | 5 | 13 |\n",
       "| 14 |  14 | 274 | 10.9 | 68 | 5 | 14 |\n",
       "| 15 |  18 |  65 | 13.2 | 58 | 5 | 15 |\n",
       "| 16 |  14 | 334 | 11.5 | 64 | 5 | 16 |\n",
       "| 17 |  34 | 307 | 12.0 | 66 | 5 | 17 |\n",
       "| 18 |   6 |  78 | 18.4 | 57 | 5 | 18 |\n",
       "| 19 |  30 | 322 | 11.5 | 68 | 5 | 19 |\n",
       "| 20 |  11 |  44 |  9.7 | 62 | 5 | 20 |\n",
       "| 21 |   1 |   8 |  9.7 | 59 | 5 | 21 |\n",
       "| 22 |  11 | 320 | 16.6 | 73 | 5 | 22 |\n",
       "| 23 |   4 |  25 |  9.7 | 61 | 5 | 23 |\n",
       "| 24 |  32 |  92 | 12.0 | 61 | 5 | 24 |\n",
       "| 25 |  NA |  66 | 16.6 | 57 | 5 | 25 |\n",
       "| 26 |  NA | 266 | 14.9 | 58 | 5 | 26 |\n",
       "| 27 |  NA |  NA |  8.0 | 57 | 5 | 27 |\n",
       "| 28 |  23 |  13 | 12.0 | 67 | 5 | 28 |\n",
       "| 29 |  45 | 252 | 14.9 | 81 | 5 | 29 |\n",
       "| 30 | 115 | 223 |  5.7 | 79 | 5 | 30 |\n",
       "| 31 |  37 | 279 |  7.4 | 76 | 5 | 31 |\n",
       "\n"
      ],
      "text/plain": [
       "   Ozone Solar.R Wind Temp Month Day\n",
       "1   41   190      7.4 67   5      1 \n",
       "2   36   118      8.0 72   5      2 \n",
       "3   12   149     12.6 74   5      3 \n",
       "4   18   313     11.5 62   5      4 \n",
       "5   NA    NA     14.3 56   5      5 \n",
       "6   28    NA     14.9 66   5      6 \n",
       "7   23   299      8.6 65   5      7 \n",
       "8   19    99     13.8 59   5      8 \n",
       "9    8    19     20.1 61   5      9 \n",
       "10  NA   194      8.6 69   5     10 \n",
       "11   7    NA      6.9 74   5     11 \n",
       "12  16   256      9.7 69   5     12 \n",
       "13  11   290      9.2 66   5     13 \n",
       "14  14   274     10.9 68   5     14 \n",
       "15  18    65     13.2 58   5     15 \n",
       "16  14   334     11.5 64   5     16 \n",
       "17  34   307     12.0 66   5     17 \n",
       "18   6    78     18.4 57   5     18 \n",
       "19  30   322     11.5 68   5     19 \n",
       "20  11    44      9.7 62   5     20 \n",
       "21   1     8      9.7 59   5     21 \n",
       "22  11   320     16.6 73   5     22 \n",
       "23   4    25      9.7 61   5     23 \n",
       "24  32    92     12.0 61   5     24 \n",
       "25  NA    66     16.6 57   5     25 \n",
       "26  NA   266     14.9 58   5     26 \n",
       "27  NA    NA      8.0 57   5     27 \n",
       "28  23    13     12.0 67   5     28 \n",
       "29  45   252     14.9 81   5     29 \n",
       "30 115   223      5.7 79   5     30 \n",
       "31  37   279      7.4 76   5     31 "
      ]
     },
     "metadata": {},
     "output_type": "display_data"
    }
   ],
   "source": [
    "subset <- df[df['Month'] == 5, ]\n",
    "subset"
   ]
  },
  {
   "cell_type": "code",
   "execution_count": 45,
   "id": "41e552f9",
   "metadata": {},
   "outputs": [
    {
     "data": {
      "text/html": [
       "23.6153846153846"
      ],
      "text/latex": [
       "23.6153846153846"
      ],
      "text/markdown": [
       "23.6153846153846"
      ],
      "text/plain": [
       "[1] 23.61538"
      ]
     },
     "metadata": {},
     "output_type": "display_data"
    }
   ],
   "source": [
    "mean(subset$Ozone, na.rm=T)"
   ]
  },
  {
   "cell_type": "code",
   "execution_count": 47,
   "id": "4cd86873",
   "metadata": {},
   "outputs": [
    {
     "data": {
      "text/html": [
       "<table class=\"dataframe\">\n",
       "<caption>A data.frame: 44 × 6</caption>\n",
       "<thead>\n",
       "\t<tr><th></th><th scope=col>Ozone</th><th scope=col>Solar.R</th><th scope=col>Wind</th><th scope=col>Temp</th><th scope=col>Month</th><th scope=col>Day</th></tr>\n",
       "\t<tr><th></th><th scope=col>&lt;int&gt;</th><th scope=col>&lt;int&gt;</th><th scope=col>&lt;dbl&gt;</th><th scope=col>&lt;int&gt;</th><th scope=col>&lt;int&gt;</th><th scope=col>&lt;int&gt;</th></tr>\n",
       "</thead>\n",
       "<tbody>\n",
       "\t<tr><th scope=row>NA</th><td> NA</td><td> NA</td><td> NA</td><td>NA</td><td>NA</td><td>NA</td></tr>\n",
       "\t<tr><th scope=row>NA.1</th><td> NA</td><td> NA</td><td> NA</td><td>NA</td><td>NA</td><td>NA</td></tr>\n",
       "\t<tr><th scope=row>NA.2</th><td> NA</td><td> NA</td><td> NA</td><td>NA</td><td>NA</td><td>NA</td></tr>\n",
       "\t<tr><th scope=row>NA.3</th><td> NA</td><td> NA</td><td> NA</td><td>NA</td><td>NA</td><td>NA</td></tr>\n",
       "\t<tr><th scope=row>NA.4</th><td> NA</td><td> NA</td><td> NA</td><td>NA</td><td>NA</td><td>NA</td></tr>\n",
       "\t<tr><th scope=row>30</th><td>115</td><td>223</td><td>5.7</td><td>79</td><td> 5</td><td>30</td></tr>\n",
       "\t<tr><th scope=row>NA.5</th><td> NA</td><td> NA</td><td> NA</td><td>NA</td><td>NA</td><td>NA</td></tr>\n",
       "\t<tr><th scope=row>NA.6</th><td> NA</td><td> NA</td><td> NA</td><td>NA</td><td>NA</td><td>NA</td></tr>\n",
       "\t<tr><th scope=row>NA.7</th><td> NA</td><td> NA</td><td> NA</td><td>NA</td><td>NA</td><td>NA</td></tr>\n",
       "\t<tr><th scope=row>NA.8</th><td> NA</td><td> NA</td><td> NA</td><td>NA</td><td>NA</td><td>NA</td></tr>\n",
       "\t<tr><th scope=row>NA.9</th><td> NA</td><td> NA</td><td> NA</td><td>NA</td><td>NA</td><td>NA</td></tr>\n",
       "\t<tr><th scope=row>NA.10</th><td> NA</td><td> NA</td><td> NA</td><td>NA</td><td>NA</td><td>NA</td></tr>\n",
       "\t<tr><th scope=row>NA.11</th><td> NA</td><td> NA</td><td> NA</td><td>NA</td><td>NA</td><td>NA</td></tr>\n",
       "\t<tr><th scope=row>NA.12</th><td> NA</td><td> NA</td><td> NA</td><td>NA</td><td>NA</td><td>NA</td></tr>\n",
       "\t<tr><th scope=row>NA.13</th><td> NA</td><td> NA</td><td> NA</td><td>NA</td><td>NA</td><td>NA</td></tr>\n",
       "\t<tr><th scope=row>NA.14</th><td> NA</td><td> NA</td><td> NA</td><td>NA</td><td>NA</td><td>NA</td></tr>\n",
       "\t<tr><th scope=row>NA.15</th><td> NA</td><td> NA</td><td> NA</td><td>NA</td><td>NA</td><td>NA</td></tr>\n",
       "\t<tr><th scope=row>NA.16</th><td> NA</td><td> NA</td><td> NA</td><td>NA</td><td>NA</td><td>NA</td></tr>\n",
       "\t<tr><th scope=row>NA.17</th><td> NA</td><td> NA</td><td> NA</td><td>NA</td><td>NA</td><td>NA</td></tr>\n",
       "\t<tr><th scope=row>NA.18</th><td> NA</td><td> NA</td><td> NA</td><td>NA</td><td>NA</td><td>NA</td></tr>\n",
       "\t<tr><th scope=row>NA.19</th><td> NA</td><td> NA</td><td> NA</td><td>NA</td><td>NA</td><td>NA</td></tr>\n",
       "\t<tr><th scope=row>NA.20</th><td> NA</td><td> NA</td><td> NA</td><td>NA</td><td>NA</td><td>NA</td></tr>\n",
       "\t<tr><th scope=row>NA.21</th><td> NA</td><td> NA</td><td> NA</td><td>NA</td><td>NA</td><td>NA</td></tr>\n",
       "\t<tr><th scope=row>NA.22</th><td> NA</td><td> NA</td><td> NA</td><td>NA</td><td>NA</td><td>NA</td></tr>\n",
       "\t<tr><th scope=row>NA.23</th><td> NA</td><td> NA</td><td> NA</td><td>NA</td><td>NA</td><td>NA</td></tr>\n",
       "\t<tr><th scope=row>NA.24</th><td> NA</td><td> NA</td><td> NA</td><td>NA</td><td>NA</td><td>NA</td></tr>\n",
       "\t<tr><th scope=row>NA.25</th><td> NA</td><td> NA</td><td> NA</td><td>NA</td><td>NA</td><td>NA</td></tr>\n",
       "\t<tr><th scope=row>62</th><td>135</td><td>269</td><td>4.1</td><td>84</td><td> 7</td><td> 1</td></tr>\n",
       "\t<tr><th scope=row>NA.26</th><td> NA</td><td> NA</td><td> NA</td><td>NA</td><td>NA</td><td>NA</td></tr>\n",
       "\t<tr><th scope=row>NA.27</th><td> NA</td><td> NA</td><td> NA</td><td>NA</td><td>NA</td><td>NA</td></tr>\n",
       "\t<tr><th scope=row>NA.28</th><td> NA</td><td> NA</td><td> NA</td><td>NA</td><td>NA</td><td>NA</td></tr>\n",
       "\t<tr><th scope=row>NA.29</th><td> NA</td><td> NA</td><td> NA</td><td>NA</td><td>NA</td><td>NA</td></tr>\n",
       "\t<tr><th scope=row>NA.30</th><td> NA</td><td> NA</td><td> NA</td><td>NA</td><td>NA</td><td>NA</td></tr>\n",
       "\t<tr><th scope=row>86</th><td>108</td><td>223</td><td>8.0</td><td>85</td><td> 7</td><td>25</td></tr>\n",
       "\t<tr><th scope=row>99</th><td>122</td><td>255</td><td>4.0</td><td>89</td><td> 8</td><td> 7</td></tr>\n",
       "\t<tr><th scope=row>101</th><td>110</td><td>207</td><td>8.0</td><td>90</td><td> 8</td><td> 9</td></tr>\n",
       "\t<tr><th scope=row>NA.31</th><td> NA</td><td> NA</td><td> NA</td><td>NA</td><td>NA</td><td>NA</td></tr>\n",
       "\t<tr><th scope=row>NA.32</th><td> NA</td><td> NA</td><td> NA</td><td>NA</td><td>NA</td><td>NA</td></tr>\n",
       "\t<tr><th scope=row>NA.33</th><td> NA</td><td> NA</td><td> NA</td><td>NA</td><td>NA</td><td>NA</td></tr>\n",
       "\t<tr><th scope=row>NA.34</th><td> NA</td><td> NA</td><td> NA</td><td>NA</td><td>NA</td><td>NA</td></tr>\n",
       "\t<tr><th scope=row>117</th><td>168</td><td>238</td><td>3.4</td><td>81</td><td> 8</td><td>25</td></tr>\n",
       "\t<tr><th scope=row>NA.35</th><td> NA</td><td> NA</td><td> NA</td><td>NA</td><td>NA</td><td>NA</td></tr>\n",
       "\t<tr><th scope=row>121</th><td>118</td><td>225</td><td>2.3</td><td>94</td><td> 8</td><td>29</td></tr>\n",
       "\t<tr><th scope=row>NA.36</th><td> NA</td><td> NA</td><td> NA</td><td>NA</td><td>NA</td><td>NA</td></tr>\n",
       "</tbody>\n",
       "</table>\n"
      ],
      "text/latex": [
       "A data.frame: 44 × 6\n",
       "\\begin{tabular}{r|llllll}\n",
       "  & Ozone & Solar.R & Wind & Temp & Month & Day\\\\\n",
       "  & <int> & <int> & <dbl> & <int> & <int> & <int>\\\\\n",
       "\\hline\n",
       "\tNA &  NA &  NA &  NA & NA & NA & NA\\\\\n",
       "\tNA.1 &  NA &  NA &  NA & NA & NA & NA\\\\\n",
       "\tNA.2 &  NA &  NA &  NA & NA & NA & NA\\\\\n",
       "\tNA.3 &  NA &  NA &  NA & NA & NA & NA\\\\\n",
       "\tNA.4 &  NA &  NA &  NA & NA & NA & NA\\\\\n",
       "\t30 & 115 & 223 & 5.7 & 79 &  5 & 30\\\\\n",
       "\tNA.5 &  NA &  NA &  NA & NA & NA & NA\\\\\n",
       "\tNA.6 &  NA &  NA &  NA & NA & NA & NA\\\\\n",
       "\tNA.7 &  NA &  NA &  NA & NA & NA & NA\\\\\n",
       "\tNA.8 &  NA &  NA &  NA & NA & NA & NA\\\\\n",
       "\tNA.9 &  NA &  NA &  NA & NA & NA & NA\\\\\n",
       "\tNA.10 &  NA &  NA &  NA & NA & NA & NA\\\\\n",
       "\tNA.11 &  NA &  NA &  NA & NA & NA & NA\\\\\n",
       "\tNA.12 &  NA &  NA &  NA & NA & NA & NA\\\\\n",
       "\tNA.13 &  NA &  NA &  NA & NA & NA & NA\\\\\n",
       "\tNA.14 &  NA &  NA &  NA & NA & NA & NA\\\\\n",
       "\tNA.15 &  NA &  NA &  NA & NA & NA & NA\\\\\n",
       "\tNA.16 &  NA &  NA &  NA & NA & NA & NA\\\\\n",
       "\tNA.17 &  NA &  NA &  NA & NA & NA & NA\\\\\n",
       "\tNA.18 &  NA &  NA &  NA & NA & NA & NA\\\\\n",
       "\tNA.19 &  NA &  NA &  NA & NA & NA & NA\\\\\n",
       "\tNA.20 &  NA &  NA &  NA & NA & NA & NA\\\\\n",
       "\tNA.21 &  NA &  NA &  NA & NA & NA & NA\\\\\n",
       "\tNA.22 &  NA &  NA &  NA & NA & NA & NA\\\\\n",
       "\tNA.23 &  NA &  NA &  NA & NA & NA & NA\\\\\n",
       "\tNA.24 &  NA &  NA &  NA & NA & NA & NA\\\\\n",
       "\tNA.25 &  NA &  NA &  NA & NA & NA & NA\\\\\n",
       "\t62 & 135 & 269 & 4.1 & 84 &  7 &  1\\\\\n",
       "\tNA.26 &  NA &  NA &  NA & NA & NA & NA\\\\\n",
       "\tNA.27 &  NA &  NA &  NA & NA & NA & NA\\\\\n",
       "\tNA.28 &  NA &  NA &  NA & NA & NA & NA\\\\\n",
       "\tNA.29 &  NA &  NA &  NA & NA & NA & NA\\\\\n",
       "\tNA.30 &  NA &  NA &  NA & NA & NA & NA\\\\\n",
       "\t86 & 108 & 223 & 8.0 & 85 &  7 & 25\\\\\n",
       "\t99 & 122 & 255 & 4.0 & 89 &  8 &  7\\\\\n",
       "\t101 & 110 & 207 & 8.0 & 90 &  8 &  9\\\\\n",
       "\tNA.31 &  NA &  NA &  NA & NA & NA & NA\\\\\n",
       "\tNA.32 &  NA &  NA &  NA & NA & NA & NA\\\\\n",
       "\tNA.33 &  NA &  NA &  NA & NA & NA & NA\\\\\n",
       "\tNA.34 &  NA &  NA &  NA & NA & NA & NA\\\\\n",
       "\t117 & 168 & 238 & 3.4 & 81 &  8 & 25\\\\\n",
       "\tNA.35 &  NA &  NA &  NA & NA & NA & NA\\\\\n",
       "\t121 & 118 & 225 & 2.3 & 94 &  8 & 29\\\\\n",
       "\tNA.36 &  NA &  NA &  NA & NA & NA & NA\\\\\n",
       "\\end{tabular}\n"
      ],
      "text/markdown": [
       "\n",
       "A data.frame: 44 × 6\n",
       "\n",
       "| <!--/--> | Ozone &lt;int&gt; | Solar.R &lt;int&gt; | Wind &lt;dbl&gt; | Temp &lt;int&gt; | Month &lt;int&gt; | Day &lt;int&gt; |\n",
       "|---|---|---|---|---|---|---|\n",
       "| NA |  NA |  NA |  NA | NA | NA | NA |\n",
       "| NA.1 |  NA |  NA |  NA | NA | NA | NA |\n",
       "| NA.2 |  NA |  NA |  NA | NA | NA | NA |\n",
       "| NA.3 |  NA |  NA |  NA | NA | NA | NA |\n",
       "| NA.4 |  NA |  NA |  NA | NA | NA | NA |\n",
       "| 30 | 115 | 223 | 5.7 | 79 |  5 | 30 |\n",
       "| NA.5 |  NA |  NA |  NA | NA | NA | NA |\n",
       "| NA.6 |  NA |  NA |  NA | NA | NA | NA |\n",
       "| NA.7 |  NA |  NA |  NA | NA | NA | NA |\n",
       "| NA.8 |  NA |  NA |  NA | NA | NA | NA |\n",
       "| NA.9 |  NA |  NA |  NA | NA | NA | NA |\n",
       "| NA.10 |  NA |  NA |  NA | NA | NA | NA |\n",
       "| NA.11 |  NA |  NA |  NA | NA | NA | NA |\n",
       "| NA.12 |  NA |  NA |  NA | NA | NA | NA |\n",
       "| NA.13 |  NA |  NA |  NA | NA | NA | NA |\n",
       "| NA.14 |  NA |  NA |  NA | NA | NA | NA |\n",
       "| NA.15 |  NA |  NA |  NA | NA | NA | NA |\n",
       "| NA.16 |  NA |  NA |  NA | NA | NA | NA |\n",
       "| NA.17 |  NA |  NA |  NA | NA | NA | NA |\n",
       "| NA.18 |  NA |  NA |  NA | NA | NA | NA |\n",
       "| NA.19 |  NA |  NA |  NA | NA | NA | NA |\n",
       "| NA.20 |  NA |  NA |  NA | NA | NA | NA |\n",
       "| NA.21 |  NA |  NA |  NA | NA | NA | NA |\n",
       "| NA.22 |  NA |  NA |  NA | NA | NA | NA |\n",
       "| NA.23 |  NA |  NA |  NA | NA | NA | NA |\n",
       "| NA.24 |  NA |  NA |  NA | NA | NA | NA |\n",
       "| NA.25 |  NA |  NA |  NA | NA | NA | NA |\n",
       "| 62 | 135 | 269 | 4.1 | 84 |  7 |  1 |\n",
       "| NA.26 |  NA |  NA |  NA | NA | NA | NA |\n",
       "| NA.27 |  NA |  NA |  NA | NA | NA | NA |\n",
       "| NA.28 |  NA |  NA |  NA | NA | NA | NA |\n",
       "| NA.29 |  NA |  NA |  NA | NA | NA | NA |\n",
       "| NA.30 |  NA |  NA |  NA | NA | NA | NA |\n",
       "| 86 | 108 | 223 | 8.0 | 85 |  7 | 25 |\n",
       "| 99 | 122 | 255 | 4.0 | 89 |  8 |  7 |\n",
       "| 101 | 110 | 207 | 8.0 | 90 |  8 |  9 |\n",
       "| NA.31 |  NA |  NA |  NA | NA | NA | NA |\n",
       "| NA.32 |  NA |  NA |  NA | NA | NA | NA |\n",
       "| NA.33 |  NA |  NA |  NA | NA | NA | NA |\n",
       "| NA.34 |  NA |  NA |  NA | NA | NA | NA |\n",
       "| 117 | 168 | 238 | 3.4 | 81 |  8 | 25 |\n",
       "| NA.35 |  NA |  NA |  NA | NA | NA | NA |\n",
       "| 121 | 118 | 225 | 2.3 | 94 |  8 | 29 |\n",
       "| NA.36 |  NA |  NA |  NA | NA | NA | NA |\n",
       "\n"
      ],
      "text/plain": [
       "      Ozone Solar.R Wind Temp Month Day\n",
       "NA     NA    NA      NA  NA   NA    NA \n",
       "NA.1   NA    NA      NA  NA   NA    NA \n",
       "NA.2   NA    NA      NA  NA   NA    NA \n",
       "NA.3   NA    NA      NA  NA   NA    NA \n",
       "NA.4   NA    NA      NA  NA   NA    NA \n",
       "30    115   223     5.7  79    5    30 \n",
       "NA.5   NA    NA      NA  NA   NA    NA \n",
       "NA.6   NA    NA      NA  NA   NA    NA \n",
       "NA.7   NA    NA      NA  NA   NA    NA \n",
       "NA.8   NA    NA      NA  NA   NA    NA \n",
       "NA.9   NA    NA      NA  NA   NA    NA \n",
       "NA.10  NA    NA      NA  NA   NA    NA \n",
       "NA.11  NA    NA      NA  NA   NA    NA \n",
       "NA.12  NA    NA      NA  NA   NA    NA \n",
       "NA.13  NA    NA      NA  NA   NA    NA \n",
       "NA.14  NA    NA      NA  NA   NA    NA \n",
       "NA.15  NA    NA      NA  NA   NA    NA \n",
       "NA.16  NA    NA      NA  NA   NA    NA \n",
       "NA.17  NA    NA      NA  NA   NA    NA \n",
       "NA.18  NA    NA      NA  NA   NA    NA \n",
       "NA.19  NA    NA      NA  NA   NA    NA \n",
       "NA.20  NA    NA      NA  NA   NA    NA \n",
       "NA.21  NA    NA      NA  NA   NA    NA \n",
       "NA.22  NA    NA      NA  NA   NA    NA \n",
       "NA.23  NA    NA      NA  NA   NA    NA \n",
       "NA.24  NA    NA      NA  NA   NA    NA \n",
       "NA.25  NA    NA      NA  NA   NA    NA \n",
       "62    135   269     4.1  84    7     1 \n",
       "NA.26  NA    NA      NA  NA   NA    NA \n",
       "NA.27  NA    NA      NA  NA   NA    NA \n",
       "NA.28  NA    NA      NA  NA   NA    NA \n",
       "NA.29  NA    NA      NA  NA   NA    NA \n",
       "NA.30  NA    NA      NA  NA   NA    NA \n",
       "86    108   223     8.0  85    7    25 \n",
       "99    122   255     4.0  89    8     7 \n",
       "101   110   207     8.0  90    8     9 \n",
       "NA.31  NA    NA      NA  NA   NA    NA \n",
       "NA.32  NA    NA      NA  NA   NA    NA \n",
       "NA.33  NA    NA      NA  NA   NA    NA \n",
       "NA.34  NA    NA      NA  NA   NA    NA \n",
       "117   168   238     3.4  81    8    25 \n",
       "NA.35  NA    NA      NA  NA   NA    NA \n",
       "121   118   225     2.3  94    8    29 \n",
       "NA.36  NA    NA      NA  NA   NA    NA "
      ]
     },
     "metadata": {},
     "output_type": "display_data"
    }
   ],
   "source": [
    "df[df['Ozone'] > 100, ]"
   ]
  },
  {
   "cell_type": "code",
   "execution_count": 48,
   "id": "ad13b1cd",
   "metadata": {},
   "outputs": [
    {
     "data": {
      "text/html": [
       "44"
      ],
      "text/latex": [
       "44"
      ],
      "text/markdown": [
       "44"
      ],
      "text/plain": [
       "[1] 44"
      ]
     },
     "metadata": {},
     "output_type": "display_data"
    }
   ],
   "source": [
    "nrow(df[df['Ozone'] > 100, ])"
   ]
  },
  {
   "cell_type": "code",
   "execution_count": 49,
   "id": "14484431",
   "metadata": {},
   "outputs": [],
   "source": [
    "df = swiss"
   ]
  },
  {
   "cell_type": "code",
   "execution_count": 50,
   "id": "9003cc59",
   "metadata": {},
   "outputs": [
    {
     "data": {
      "text/html": [
       "<style>\n",
       ".list-inline {list-style: none; margin:0; padding: 0}\n",
       ".list-inline>li {display: inline-block}\n",
       ".list-inline>li:not(:last-child)::after {content: \"\\00b7\"; padding: 0 .5ex}\n",
       "</style>\n",
       "<ol class=list-inline><li>'Fertility'</li><li>'Agriculture'</li><li>'Examination'</li><li>'Education'</li><li>'Catholic'</li><li>'Infant.Mortality'</li></ol>\n"
      ],
      "text/latex": [
       "\\begin{enumerate*}\n",
       "\\item 'Fertility'\n",
       "\\item 'Agriculture'\n",
       "\\item 'Examination'\n",
       "\\item 'Education'\n",
       "\\item 'Catholic'\n",
       "\\item 'Infant.Mortality'\n",
       "\\end{enumerate*}\n"
      ],
      "text/markdown": [
       "1. 'Fertility'\n",
       "2. 'Agriculture'\n",
       "3. 'Examination'\n",
       "4. 'Education'\n",
       "5. 'Catholic'\n",
       "6. 'Infant.Mortality'\n",
       "\n",
       "\n"
      ],
      "text/plain": [
       "[1] \"Fertility\"        \"Agriculture\"      \"Examination\"      \"Education\"       \n",
       "[5] \"Catholic\"         \"Infant.Mortality\""
      ]
     },
     "metadata": {},
     "output_type": "display_data"
    }
   ],
   "source": [
    "colnames(df)"
   ]
  },
  {
   "cell_type": "code",
   "execution_count": 52,
   "id": "60b9564d",
   "metadata": {},
   "outputs": [
    {
     "data": {
      "text/html": [
       "'Herens'"
      ],
      "text/latex": [
       "'Herens'"
      ],
      "text/markdown": [
       "'Herens'"
      ],
      "text/plain": [
       "[1] \"Herens\""
      ]
     },
     "metadata": {},
     "output_type": "display_data"
    }
   ],
   "source": [
    "rownames(df[df['Agriculture'] == max(df['Agriculture']), ])"
   ]
  },
  {
   "cell_type": "code",
   "execution_count": 56,
   "id": "cb3963e9",
   "metadata": {},
   "outputs": [
    {
     "data": {
      "text/html": [
       "<style>\n",
       ".list-inline {list-style: none; margin:0; padding: 0}\n",
       ".list-inline>li {display: inline-block}\n",
       ".list-inline>li:not(:last-child)::after {content: \"\\00b7\"; padding: 0 .5ex}\n",
       "</style>\n",
       "<ol class=list-inline><li>45.1</li><li>39.7</li><li>35.3</li><li>70.2</li><li>67.8</li><li>53.3</li><li>45.2</li><li>64.5</li><li>85.9</li><li>84.9</li><li>89.7</li><li>78.2</li><li>64.9</li><li>75.9</li><li>84.6</li><li>63.1</li></ol>\n"
      ],
      "text/latex": [
       "\\begin{enumerate*}\n",
       "\\item 45.1\n",
       "\\item 39.7\n",
       "\\item 35.3\n",
       "\\item 70.2\n",
       "\\item 67.8\n",
       "\\item 53.3\n",
       "\\item 45.2\n",
       "\\item 64.5\n",
       "\\item 85.9\n",
       "\\item 84.9\n",
       "\\item 89.7\n",
       "\\item 78.2\n",
       "\\item 64.9\n",
       "\\item 75.9\n",
       "\\item 84.6\n",
       "\\item 63.1\n",
       "\\end{enumerate*}\n"
      ],
      "text/markdown": [
       "1. 45.1\n",
       "2. 39.7\n",
       "3. 35.3\n",
       "4. 70.2\n",
       "5. 67.8\n",
       "6. 53.3\n",
       "7. 45.2\n",
       "8. 64.5\n",
       "9. 85.9\n",
       "10. 84.9\n",
       "11. 89.7\n",
       "12. 78.2\n",
       "13. 64.9\n",
       "14. 75.9\n",
       "15. 84.6\n",
       "16. 63.1\n",
       "\n",
       "\n"
      ],
      "text/plain": [
       " [1] 45.1 39.7 35.3 70.2 67.8 53.3 45.2 64.5 85.9 84.9 89.7 78.2 64.9 75.9 84.6\n",
       "[16] 63.1"
      ]
     },
     "metadata": {},
     "output_type": "display_data"
    }
   ],
   "source": [
    "df[df['Catholic'] >= 80, \"Agriculture\"]"
   ]
  },
  {
   "cell_type": "code",
   "execution_count": 59,
   "id": "69196522",
   "metadata": {},
   "outputs": [
    {
     "data": {
      "text/html": [
       "<table class=\"dataframe\">\n",
       "<caption>A data.frame: 11 × 2</caption>\n",
       "<thead>\n",
       "\t<tr><th></th><th scope=col>Examination</th><th scope=col>Agriculture</th></tr>\n",
       "\t<tr><th></th><th scope=col>&lt;int&gt;</th><th scope=col>&lt;dbl&gt;</th></tr>\n",
       "</thead>\n",
       "<tbody>\n",
       "\t<tr><th scope=row>Courtelary</th><td>15</td><td>17.0</td></tr>\n",
       "\t<tr><th scope=row>Delemont</th><td> 6</td><td>45.1</td></tr>\n",
       "\t<tr><th scope=row>Franches-Mnt</th><td> 5</td><td>39.7</td></tr>\n",
       "\t<tr><th scope=row>Moutier</th><td>12</td><td>36.5</td></tr>\n",
       "\t<tr><th scope=row>Neuveville</th><td>17</td><td>43.5</td></tr>\n",
       "\t<tr><th scope=row>Porrentruy</th><td> 9</td><td>35.3</td></tr>\n",
       "\t<tr><th scope=row>Sarine</th><td>16</td><td>45.2</td></tr>\n",
       "\t<tr><th scope=row>Grandson</th><td>17</td><td>34.0</td></tr>\n",
       "\t<tr><th scope=row>Yverdon</th><td>15</td><td>49.5</td></tr>\n",
       "\t<tr><th scope=row>Val de Ruz</th><td>15</td><td>37.6</td></tr>\n",
       "\t<tr><th scope=row>Rive Droite</th><td>16</td><td>46.6</td></tr>\n",
       "</tbody>\n",
       "</table>\n"
      ],
      "text/latex": [
       "A data.frame: 11 × 2\n",
       "\\begin{tabular}{r|ll}\n",
       "  & Examination & Agriculture\\\\\n",
       "  & <int> & <dbl>\\\\\n",
       "\\hline\n",
       "\tCourtelary & 15 & 17.0\\\\\n",
       "\tDelemont &  6 & 45.1\\\\\n",
       "\tFranches-Mnt &  5 & 39.7\\\\\n",
       "\tMoutier & 12 & 36.5\\\\\n",
       "\tNeuveville & 17 & 43.5\\\\\n",
       "\tPorrentruy &  9 & 35.3\\\\\n",
       "\tSarine & 16 & 45.2\\\\\n",
       "\tGrandson & 17 & 34.0\\\\\n",
       "\tYverdon & 15 & 49.5\\\\\n",
       "\tVal de Ruz & 15 & 37.6\\\\\n",
       "\tRive Droite & 16 & 46.6\\\\\n",
       "\\end{tabular}\n"
      ],
      "text/markdown": [
       "\n",
       "A data.frame: 11 × 2\n",
       "\n",
       "| <!--/--> | Examination &lt;int&gt; | Agriculture &lt;dbl&gt; |\n",
       "|---|---|---|\n",
       "| Courtelary | 15 | 17.0 |\n",
       "| Delemont |  6 | 45.1 |\n",
       "| Franches-Mnt |  5 | 39.7 |\n",
       "| Moutier | 12 | 36.5 |\n",
       "| Neuveville | 17 | 43.5 |\n",
       "| Porrentruy |  9 | 35.3 |\n",
       "| Sarine | 16 | 45.2 |\n",
       "| Grandson | 17 | 34.0 |\n",
       "| Yverdon | 15 | 49.5 |\n",
       "| Val de Ruz | 15 | 37.6 |\n",
       "| Rive Droite | 16 | 46.6 |\n",
       "\n"
      ],
      "text/plain": [
       "             Examination Agriculture\n",
       "Courtelary   15          17.0       \n",
       "Delemont      6          45.1       \n",
       "Franches-Mnt  5          39.7       \n",
       "Moutier      12          36.5       \n",
       "Neuveville   17          43.5       \n",
       "Porrentruy    9          35.3       \n",
       "Sarine       16          45.2       \n",
       "Grandson     17          34.0       \n",
       "Yverdon      15          49.5       \n",
       "Val de Ruz   15          37.6       \n",
       "Rive Droite  16          46.6       "
      ]
     },
     "metadata": {},
     "output_type": "display_data"
    }
   ],
   "source": [
    "df[df['Examination'] < 20 & df['Agriculture'] < 50, c(\"Examination\" , \"Agriculture\")]"
   ]
  },
  {
   "cell_type": "code",
   "execution_count": 63,
   "id": "1c66be98",
   "metadata": {},
   "outputs": [
    {
     "data": {
      "text/html": [
       "<table class=\"dataframe\">\n",
       "<caption>A data.frame: 11 × 2</caption>\n",
       "<thead>\n",
       "\t<tr><th></th><th scope=col>Examination</th><th scope=col>Agriculture</th></tr>\n",
       "\t<tr><th></th><th scope=col>&lt;int&gt;</th><th scope=col>&lt;dbl&gt;</th></tr>\n",
       "</thead>\n",
       "<tbody>\n",
       "\t<tr><th scope=row>Courtelary</th><td>15</td><td>17.0</td></tr>\n",
       "\t<tr><th scope=row>Delemont</th><td> 6</td><td>45.1</td></tr>\n",
       "\t<tr><th scope=row>Franches-Mnt</th><td> 5</td><td>39.7</td></tr>\n",
       "\t<tr><th scope=row>Moutier</th><td>12</td><td>36.5</td></tr>\n",
       "\t<tr><th scope=row>Neuveville</th><td>17</td><td>43.5</td></tr>\n",
       "\t<tr><th scope=row>Porrentruy</th><td> 9</td><td>35.3</td></tr>\n",
       "\t<tr><th scope=row>Sarine</th><td>16</td><td>45.2</td></tr>\n",
       "\t<tr><th scope=row>Grandson</th><td>17</td><td>34.0</td></tr>\n",
       "\t<tr><th scope=row>Yverdon</th><td>15</td><td>49.5</td></tr>\n",
       "\t<tr><th scope=row>Val de Ruz</th><td>15</td><td>37.6</td></tr>\n",
       "\t<tr><th scope=row>Rive Droite</th><td>16</td><td>46.6</td></tr>\n",
       "</tbody>\n",
       "</table>\n"
      ],
      "text/latex": [
       "A data.frame: 11 × 2\n",
       "\\begin{tabular}{r|ll}\n",
       "  & Examination & Agriculture\\\\\n",
       "  & <int> & <dbl>\\\\\n",
       "\\hline\n",
       "\tCourtelary & 15 & 17.0\\\\\n",
       "\tDelemont &  6 & 45.1\\\\\n",
       "\tFranches-Mnt &  5 & 39.7\\\\\n",
       "\tMoutier & 12 & 36.5\\\\\n",
       "\tNeuveville & 17 & 43.5\\\\\n",
       "\tPorrentruy &  9 & 35.3\\\\\n",
       "\tSarine & 16 & 45.2\\\\\n",
       "\tGrandson & 17 & 34.0\\\\\n",
       "\tYverdon & 15 & 49.5\\\\\n",
       "\tVal de Ruz & 15 & 37.6\\\\\n",
       "\tRive Droite & 16 & 46.6\\\\\n",
       "\\end{tabular}\n"
      ],
      "text/markdown": [
       "\n",
       "A data.frame: 11 × 2\n",
       "\n",
       "| <!--/--> | Examination &lt;int&gt; | Agriculture &lt;dbl&gt; |\n",
       "|---|---|---|\n",
       "| Courtelary | 15 | 17.0 |\n",
       "| Delemont |  6 | 45.1 |\n",
       "| Franches-Mnt |  5 | 39.7 |\n",
       "| Moutier | 12 | 36.5 |\n",
       "| Neuveville | 17 | 43.5 |\n",
       "| Porrentruy |  9 | 35.3 |\n",
       "| Sarine | 16 | 45.2 |\n",
       "| Grandson | 17 | 34.0 |\n",
       "| Yverdon | 15 | 49.5 |\n",
       "| Val de Ruz | 15 | 37.6 |\n",
       "| Rive Droite | 16 | 46.6 |\n",
       "\n"
      ],
      "text/plain": [
       "             Examination Agriculture\n",
       "Courtelary   15          17.0       \n",
       "Delemont      6          45.1       \n",
       "Franches-Mnt  5          39.7       \n",
       "Moutier      12          36.5       \n",
       "Neuveville   17          43.5       \n",
       "Porrentruy    9          35.3       \n",
       "Sarine       16          45.2       \n",
       "Grandson     17          34.0       \n",
       "Yverdon      15          49.5       \n",
       "Val de Ruz   15          37.6       \n",
       "Rive Droite  16          46.6       "
      ]
     },
     "metadata": {},
     "output_type": "display_data"
    }
   ],
   "source": [
    "subset(df, Examination < 20 & Agriculture < 50, select = c('Examination', 'Agriculture'))"
   ]
  },
  {
   "cell_type": "code",
   "execution_count": 65,
   "id": "0eef7707",
   "metadata": {},
   "outputs": [
    {
     "data": {
      "text/html": [
       "1683"
      ],
      "text/latex": [
       "1683"
      ],
      "text/markdown": [
       "1683"
      ],
      "text/plain": [
       "[1] 1683"
      ]
     },
     "metadata": {},
     "output_type": "display_data"
    },
    {
     "data": {
      "text/html": [
       "33"
      ],
      "text/latex": [
       "33"
      ],
      "text/markdown": [
       "33"
      ],
      "text/plain": [
       "[1] 33"
      ]
     },
     "metadata": {},
     "output_type": "display_data"
    }
   ],
   "source": [
    "sum <- 0\n",
    "count <- 0\n",
    "for(i in 1:100){\n",
    "    if(i%%3 == 0){\n",
    "        sum <- sum + i\n",
    "        count <- count + 1\n",
    "    }\n",
    "}\n",
    "sum\n",
    "count"
   ]
  },
  {
   "cell_type": "code",
   "execution_count": 66,
   "id": "6831798e",
   "metadata": {},
   "outputs": [
    {
     "name": "stdout",
     "output_type": "stream",
     "text": [
      "108 120 132 144 156 168 180 192 "
     ]
    }
   ],
   "source": [
    "for(i in 101:200){\n",
    "    if(i%%3==0 & i%%4 == 0){\n",
    "        cat(i, '')\n",
    "    }\n",
    "}"
   ]
  },
  {
   "cell_type": "code",
   "execution_count": 67,
   "id": "9215318a",
   "metadata": {},
   "outputs": [
    {
     "name": "stdout",
     "output_type": "stream",
     "text": [
      "[1] 24\n"
     ]
    }
   ],
   "source": [
    "for(i in 1:24){\n",
    "    if(i%%24 == 0){\n",
    "        print(i)\n",
    "    }\n",
    "}"
   ]
  },
  {
   "cell_type": "code",
   "execution_count": 68,
   "id": "60f8a61e",
   "metadata": {},
   "outputs": [
    {
     "data": {
      "text/html": [
       "3628800"
      ],
      "text/latex": [
       "3628800"
      ],
      "text/markdown": [
       "3628800"
      ],
      "text/plain": [
       "[1] 3628800"
      ]
     },
     "metadata": {},
     "output_type": "display_data"
    }
   ],
   "source": [
    "factorial(10)"
   ]
  },
  {
   "cell_type": "code",
   "execution_count": 69,
   "id": "53a033c2",
   "metadata": {},
   "outputs": [
    {
     "name": "stdout",
     "output_type": "stream",
     "text": [
      "[1] 1\n",
      "[1] 2\n",
      "[1] 6\n",
      "[1] 24\n",
      "[1] 120\n",
      "[1] 720\n",
      "[1] 5040\n",
      "[1] 40320\n",
      "[1] 362880\n",
      "[1] 3628800\n"
     ]
    }
   ],
   "source": [
    "hx <- 1\n",
    "for(i in 1:10){\n",
    "    hx <- hx * i\n",
    "    print(hx)\n",
    "}"
   ]
  },
  {
   "cell_type": "code",
   "execution_count": 70,
   "id": "07dc7efa",
   "metadata": {},
   "outputs": [
    {
     "name": "stdout",
     "output_type": "stream",
     "text": [
      "9 *  1 = 9 \n",
      "9 *  2 = 18 \n",
      "9 *  3 = 27 \n",
      "9 *  4 = 36 \n",
      "9 *  5 = 45 \n",
      "9 *  6 = 54 \n",
      "9 *  7 = 63 \n",
      "9 *  8 = 72 \n",
      "9 *  9 = 81 \n"
     ]
    }
   ],
   "source": [
    "for(i in 1:9){\n",
    "    cat(\"9 * \",i, \"=\", 9 * i, \"\\n\")\n",
    "}"
   ]
  },
  {
   "cell_type": "code",
   "execution_count": 72,
   "id": "ff60ee23",
   "metadata": {},
   "outputs": [
    {
     "name": "stdout",
     "output_type": "stream",
     "text": [
      "8 *  1 = 8 \n",
      "8 *  2 = 16 \n",
      "8 *  3 = 24 \n",
      "8 *  4 = 32 \n",
      "8 *  5 = 40 \n",
      "8 *  6 = 48 \n",
      "8 *  7 = 56 \n",
      "8 *  8 = 64 \n",
      "8 *  9 = 72 \n",
      "8 *  10 = 80 \n"
     ]
    }
   ],
   "source": [
    "ix <- 1\n",
    "while(ix <= 10){\n",
    "    cat(\"8 * \",ix,\"=\", 8*ix, \"\\n\")\n",
    "    ix <- ix + 1\n",
    "}"
   ]
  },
  {
   "cell_type": "code",
   "execution_count": 78,
   "id": "2331ef96",
   "metadata": {},
   "outputs": [
    {
     "name": "stdout",
     "output_type": "stream",
     "text": [
      "1  2  *  4  5  *  7  8  *  10  11  *  13  14  *  16  17  *  19  20  *  22  23  *  25  26  *  28  29  *  31  32  *  34  35  *  37  38  *  40  41  *  43  44  *  46  47  *  49  50  *  52  53  *  55  56  *  58  59  *  61  62  *  64  65  *  67  68  *  70  71  *  73  74  *  76  77  *  79  80  *  82  83  *  85  86  *  88  89  *  91  92  *  94  95  *  97  98  *  100  "
     ]
    }
   ],
   "source": [
    "for(i in 1:100){\n",
    "    result <- ifelse(i%%3==0, '*', i)\n",
    "    cat(result, ' ')\n",
    "}"
   ]
  },
  {
   "cell_type": "code",
   "execution_count": 81,
   "id": "8eee1a22",
   "metadata": {},
   "outputs": [
    {
     "data": {
      "text/html": [
       "<style>\n",
       ".list-inline {list-style: none; margin:0; padding: 0}\n",
       ".list-inline>li {display: inline-block}\n",
       ".list-inline>li:not(:last-child)::after {content: \"\\00b7\"; padding: 0 .5ex}\n",
       "</style>\n",
       "<ol class=list-inline><li>2</li><li>3</li><li>5</li><li>7</li><li>11</li><li>13</li><li>17</li><li>19</li><li>23</li><li>29</li><li>31</li><li>37</li><li>41</li><li>43</li><li>47</li><li>53</li><li>59</li><li>61</li><li>67</li><li>71</li><li>73</li><li>79</li><li>83</li><li>89</li><li>97</li><li>101</li><li>103</li><li>107</li><li>109</li><li>113</li><li>127</li><li>131</li><li>137</li><li>139</li><li>149</li><li>151</li><li>157</li><li>163</li><li>167</li><li>173</li><li>179</li><li>181</li><li>191</li><li>193</li><li>197</li><li>199</li><li>211</li><li>223</li><li>227</li><li>229</li><li>233</li><li>239</li><li>241</li><li>251</li><li>257</li><li>263</li><li>269</li><li>271</li><li>277</li><li>281</li><li>283</li><li>293</li><li>307</li><li>311</li><li>313</li><li>317</li><li>331</li><li>337</li><li>347</li><li>349</li><li>353</li><li>359</li><li>367</li><li>373</li><li>379</li><li>383</li><li>389</li><li>397</li><li>401</li><li>409</li><li>419</li><li>421</li><li>431</li><li>433</li><li>439</li><li>443</li><li>449</li><li>457</li><li>461</li><li>463</li><li>467</li><li>479</li><li>487</li><li>491</li><li>499</li><li>503</li><li>509</li><li>521</li><li>523</li><li>541</li><li>547</li><li>557</li><li>563</li><li>569</li><li>571</li><li>577</li><li>587</li><li>593</li><li>599</li><li>601</li><li>607</li><li>613</li><li>617</li><li>619</li><li>631</li><li>641</li><li>643</li><li>647</li><li>653</li><li>659</li><li>661</li><li>673</li><li>677</li><li>683</li><li>691</li><li>701</li><li>709</li><li>719</li><li>727</li><li>733</li><li>739</li><li>743</li><li>751</li><li>757</li><li>761</li><li>769</li><li>773</li><li>787</li><li>797</li><li>809</li><li>811</li><li>821</li><li>823</li><li>827</li><li>829</li><li>839</li><li>853</li><li>857</li><li>859</li><li>863</li><li>877</li><li>881</li><li>883</li><li>887</li><li>907</li><li>911</li><li>919</li><li>929</li><li>937</li><li>941</li><li>947</li><li>953</li><li>967</li><li>971</li><li>977</li><li>983</li><li>991</li><li>997</li></ol>\n"
      ],
      "text/latex": [
       "\\begin{enumerate*}\n",
       "\\item 2\n",
       "\\item 3\n",
       "\\item 5\n",
       "\\item 7\n",
       "\\item 11\n",
       "\\item 13\n",
       "\\item 17\n",
       "\\item 19\n",
       "\\item 23\n",
       "\\item 29\n",
       "\\item 31\n",
       "\\item 37\n",
       "\\item 41\n",
       "\\item 43\n",
       "\\item 47\n",
       "\\item 53\n",
       "\\item 59\n",
       "\\item 61\n",
       "\\item 67\n",
       "\\item 71\n",
       "\\item 73\n",
       "\\item 79\n",
       "\\item 83\n",
       "\\item 89\n",
       "\\item 97\n",
       "\\item 101\n",
       "\\item 103\n",
       "\\item 107\n",
       "\\item 109\n",
       "\\item 113\n",
       "\\item 127\n",
       "\\item 131\n",
       "\\item 137\n",
       "\\item 139\n",
       "\\item 149\n",
       "\\item 151\n",
       "\\item 157\n",
       "\\item 163\n",
       "\\item 167\n",
       "\\item 173\n",
       "\\item 179\n",
       "\\item 181\n",
       "\\item 191\n",
       "\\item 193\n",
       "\\item 197\n",
       "\\item 199\n",
       "\\item 211\n",
       "\\item 223\n",
       "\\item 227\n",
       "\\item 229\n",
       "\\item 233\n",
       "\\item 239\n",
       "\\item 241\n",
       "\\item 251\n",
       "\\item 257\n",
       "\\item 263\n",
       "\\item 269\n",
       "\\item 271\n",
       "\\item 277\n",
       "\\item 281\n",
       "\\item 283\n",
       "\\item 293\n",
       "\\item 307\n",
       "\\item 311\n",
       "\\item 313\n",
       "\\item 317\n",
       "\\item 331\n",
       "\\item 337\n",
       "\\item 347\n",
       "\\item 349\n",
       "\\item 353\n",
       "\\item 359\n",
       "\\item 367\n",
       "\\item 373\n",
       "\\item 379\n",
       "\\item 383\n",
       "\\item 389\n",
       "\\item 397\n",
       "\\item 401\n",
       "\\item 409\n",
       "\\item 419\n",
       "\\item 421\n",
       "\\item 431\n",
       "\\item 433\n",
       "\\item 439\n",
       "\\item 443\n",
       "\\item 449\n",
       "\\item 457\n",
       "\\item 461\n",
       "\\item 463\n",
       "\\item 467\n",
       "\\item 479\n",
       "\\item 487\n",
       "\\item 491\n",
       "\\item 499\n",
       "\\item 503\n",
       "\\item 509\n",
       "\\item 521\n",
       "\\item 523\n",
       "\\item 541\n",
       "\\item 547\n",
       "\\item 557\n",
       "\\item 563\n",
       "\\item 569\n",
       "\\item 571\n",
       "\\item 577\n",
       "\\item 587\n",
       "\\item 593\n",
       "\\item 599\n",
       "\\item 601\n",
       "\\item 607\n",
       "\\item 613\n",
       "\\item 617\n",
       "\\item 619\n",
       "\\item 631\n",
       "\\item 641\n",
       "\\item 643\n",
       "\\item 647\n",
       "\\item 653\n",
       "\\item 659\n",
       "\\item 661\n",
       "\\item 673\n",
       "\\item 677\n",
       "\\item 683\n",
       "\\item 691\n",
       "\\item 701\n",
       "\\item 709\n",
       "\\item 719\n",
       "\\item 727\n",
       "\\item 733\n",
       "\\item 739\n",
       "\\item 743\n",
       "\\item 751\n",
       "\\item 757\n",
       "\\item 761\n",
       "\\item 769\n",
       "\\item 773\n",
       "\\item 787\n",
       "\\item 797\n",
       "\\item 809\n",
       "\\item 811\n",
       "\\item 821\n",
       "\\item 823\n",
       "\\item 827\n",
       "\\item 829\n",
       "\\item 839\n",
       "\\item 853\n",
       "\\item 857\n",
       "\\item 859\n",
       "\\item 863\n",
       "\\item 877\n",
       "\\item 881\n",
       "\\item 883\n",
       "\\item 887\n",
       "\\item 907\n",
       "\\item 911\n",
       "\\item 919\n",
       "\\item 929\n",
       "\\item 937\n",
       "\\item 941\n",
       "\\item 947\n",
       "\\item 953\n",
       "\\item 967\n",
       "\\item 971\n",
       "\\item 977\n",
       "\\item 983\n",
       "\\item 991\n",
       "\\item 997\n",
       "\\end{enumerate*}\n"
      ],
      "text/markdown": [
       "1. 2\n",
       "2. 3\n",
       "3. 5\n",
       "4. 7\n",
       "5. 11\n",
       "6. 13\n",
       "7. 17\n",
       "8. 19\n",
       "9. 23\n",
       "10. 29\n",
       "11. 31\n",
       "12. 37\n",
       "13. 41\n",
       "14. 43\n",
       "15. 47\n",
       "16. 53\n",
       "17. 59\n",
       "18. 61\n",
       "19. 67\n",
       "20. 71\n",
       "21. 73\n",
       "22. 79\n",
       "23. 83\n",
       "24. 89\n",
       "25. 97\n",
       "26. 101\n",
       "27. 103\n",
       "28. 107\n",
       "29. 109\n",
       "30. 113\n",
       "31. 127\n",
       "32. 131\n",
       "33. 137\n",
       "34. 139\n",
       "35. 149\n",
       "36. 151\n",
       "37. 157\n",
       "38. 163\n",
       "39. 167\n",
       "40. 173\n",
       "41. 179\n",
       "42. 181\n",
       "43. 191\n",
       "44. 193\n",
       "45. 197\n",
       "46. 199\n",
       "47. 211\n",
       "48. 223\n",
       "49. 227\n",
       "50. 229\n",
       "51. 233\n",
       "52. 239\n",
       "53. 241\n",
       "54. 251\n",
       "55. 257\n",
       "56. 263\n",
       "57. 269\n",
       "58. 271\n",
       "59. 277\n",
       "60. 281\n",
       "61. 283\n",
       "62. 293\n",
       "63. 307\n",
       "64. 311\n",
       "65. 313\n",
       "66. 317\n",
       "67. 331\n",
       "68. 337\n",
       "69. 347\n",
       "70. 349\n",
       "71. 353\n",
       "72. 359\n",
       "73. 367\n",
       "74. 373\n",
       "75. 379\n",
       "76. 383\n",
       "77. 389\n",
       "78. 397\n",
       "79. 401\n",
       "80. 409\n",
       "81. 419\n",
       "82. 421\n",
       "83. 431\n",
       "84. 433\n",
       "85. 439\n",
       "86. 443\n",
       "87. 449\n",
       "88. 457\n",
       "89. 461\n",
       "90. 463\n",
       "91. 467\n",
       "92. 479\n",
       "93. 487\n",
       "94. 491\n",
       "95. 499\n",
       "96. 503\n",
       "97. 509\n",
       "98. 521\n",
       "99. 523\n",
       "100. 541\n",
       "101. 547\n",
       "102. 557\n",
       "103. 563\n",
       "104. 569\n",
       "105. 571\n",
       "106. 577\n",
       "107. 587\n",
       "108. 593\n",
       "109. 599\n",
       "110. 601\n",
       "111. 607\n",
       "112. 613\n",
       "113. 617\n",
       "114. 619\n",
       "115. 631\n",
       "116. 641\n",
       "117. 643\n",
       "118. 647\n",
       "119. 653\n",
       "120. 659\n",
       "121. 661\n",
       "122. 673\n",
       "123. 677\n",
       "124. 683\n",
       "125. 691\n",
       "126. 701\n",
       "127. 709\n",
       "128. 719\n",
       "129. 727\n",
       "130. 733\n",
       "131. 739\n",
       "132. 743\n",
       "133. 751\n",
       "134. 757\n",
       "135. 761\n",
       "136. 769\n",
       "137. 773\n",
       "138. 787\n",
       "139. 797\n",
       "140. 809\n",
       "141. 811\n",
       "142. 821\n",
       "143. 823\n",
       "144. 827\n",
       "145. 829\n",
       "146. 839\n",
       "147. 853\n",
       "148. 857\n",
       "149. 859\n",
       "150. 863\n",
       "151. 877\n",
       "152. 881\n",
       "153. 883\n",
       "154. 887\n",
       "155. 907\n",
       "156. 911\n",
       "157. 919\n",
       "158. 929\n",
       "159. 937\n",
       "160. 941\n",
       "161. 947\n",
       "162. 953\n",
       "163. 967\n",
       "164. 971\n",
       "165. 977\n",
       "166. 983\n",
       "167. 991\n",
       "168. 997\n",
       "\n",
       "\n"
      ],
      "text/plain": [
       "  [1]   2   3   5   7  11  13  17  19  23  29  31  37  41  43  47  53  59  61\n",
       " [19]  67  71  73  79  83  89  97 101 103 107 109 113 127 131 137 139 149 151\n",
       " [37] 157 163 167 173 179 181 191 193 197 199 211 223 227 229 233 239 241 251\n",
       " [55] 257 263 269 271 277 281 283 293 307 311 313 317 331 337 347 349 353 359\n",
       " [73] 367 373 379 383 389 397 401 409 419 421 431 433 439 443 449 457 461 463\n",
       " [91] 467 479 487 491 499 503 509 521 523 541 547 557 563 569 571 577 587 593\n",
       "[109] 599 601 607 613 617 619 631 641 643 647 653 659 661 673 677 683 691 701\n",
       "[127] 709 719 727 733 739 743 751 757 761 769 773 787 797 809 811 821 823 827\n",
       "[145] 829 839 853 857 859 863 877 881 883 887 907 911 919 929 937 941 947 953\n",
       "[163] 967 971 977 983 991 997"
      ]
     },
     "metadata": {},
     "output_type": "display_data"
    }
   ],
   "source": [
    "prime <- c()\n",
    "for(i in 2:1000){\n",
    "    for(j in 2:i){\n",
    "        if(i %% j == 0){\n",
    "            break\n",
    "        }\n",
    "    }\n",
    "    if(i==j){\n",
    "        prime <- c(prime, i)\n",
    "    }\n",
    "}\n",
    "prime"
   ]
  },
  {
   "cell_type": "code",
   "execution_count": 82,
   "id": "f28172be",
   "metadata": {},
   "outputs": [],
   "source": [
    "fibo <- c(0,1)\n",
    "for( i in 3:40){\n",
    "    fibo[i] <- fibo[i-1] + fibo[i-2]\n",
    "}"
   ]
  },
  {
   "cell_type": "code",
   "execution_count": 83,
   "id": "00aaede8",
   "metadata": {},
   "outputs": [
    {
     "data": {
      "text/html": [
       "<style>\n",
       ".list-inline {list-style: none; margin:0; padding: 0}\n",
       ".list-inline>li {display: inline-block}\n",
       ".list-inline>li:not(:last-child)::after {content: \"\\00b7\"; padding: 0 .5ex}\n",
       "</style>\n",
       "<ol class=list-inline><li>0</li><li>1</li><li>1</li><li>2</li><li>3</li><li>5</li><li>8</li><li>13</li><li>21</li><li>34</li><li>55</li><li>89</li><li>144</li><li>233</li><li>377</li><li>610</li><li>987</li><li>1597</li><li>2584</li><li>4181</li><li>6765</li><li>10946</li><li>17711</li><li>28657</li><li>46368</li><li>75025</li><li>121393</li><li>196418</li><li>317811</li><li>514229</li><li>832040</li><li>1346269</li><li>2178309</li><li>3524578</li><li>5702887</li><li>9227465</li><li>14930352</li><li>24157817</li><li>39088169</li><li>63245986</li></ol>\n"
      ],
      "text/latex": [
       "\\begin{enumerate*}\n",
       "\\item 0\n",
       "\\item 1\n",
       "\\item 1\n",
       "\\item 2\n",
       "\\item 3\n",
       "\\item 5\n",
       "\\item 8\n",
       "\\item 13\n",
       "\\item 21\n",
       "\\item 34\n",
       "\\item 55\n",
       "\\item 89\n",
       "\\item 144\n",
       "\\item 233\n",
       "\\item 377\n",
       "\\item 610\n",
       "\\item 987\n",
       "\\item 1597\n",
       "\\item 2584\n",
       "\\item 4181\n",
       "\\item 6765\n",
       "\\item 10946\n",
       "\\item 17711\n",
       "\\item 28657\n",
       "\\item 46368\n",
       "\\item 75025\n",
       "\\item 121393\n",
       "\\item 196418\n",
       "\\item 317811\n",
       "\\item 514229\n",
       "\\item 832040\n",
       "\\item 1346269\n",
       "\\item 2178309\n",
       "\\item 3524578\n",
       "\\item 5702887\n",
       "\\item 9227465\n",
       "\\item 14930352\n",
       "\\item 24157817\n",
       "\\item 39088169\n",
       "\\item 63245986\n",
       "\\end{enumerate*}\n"
      ],
      "text/markdown": [
       "1. 0\n",
       "2. 1\n",
       "3. 1\n",
       "4. 2\n",
       "5. 3\n",
       "6. 5\n",
       "7. 8\n",
       "8. 13\n",
       "9. 21\n",
       "10. 34\n",
       "11. 55\n",
       "12. 89\n",
       "13. 144\n",
       "14. 233\n",
       "15. 377\n",
       "16. 610\n",
       "17. 987\n",
       "18. 1597\n",
       "19. 2584\n",
       "20. 4181\n",
       "21. 6765\n",
       "22. 10946\n",
       "23. 17711\n",
       "24. 28657\n",
       "25. 46368\n",
       "26. 75025\n",
       "27. 121393\n",
       "28. 196418\n",
       "29. 317811\n",
       "30. 514229\n",
       "31. 832040\n",
       "32. 1346269\n",
       "33. 2178309\n",
       "34. 3524578\n",
       "35. 5702887\n",
       "36. 9227465\n",
       "37. 14930352\n",
       "38. 24157817\n",
       "39. 39088169\n",
       "40. 63245986\n",
       "\n",
       "\n"
      ],
      "text/plain": [
       " [1]        0        1        1        2        3        5        8       13\n",
       " [9]       21       34       55       89      144      233      377      610\n",
       "[17]      987     1597     2584     4181     6765    10946    17711    28657\n",
       "[25]    46368    75025   121393   196418   317811   514229   832040  1346269\n",
       "[33]  2178309  3524578  5702887  9227465 14930352 24157817 39088169 63245986"
      ]
     },
     "metadata": {},
     "output_type": "display_data"
    }
   ],
   "source": [
    "fibo"
   ]
  },
  {
   "cell_type": "code",
   "execution_count": 84,
   "id": "8a9766c1",
   "metadata": {},
   "outputs": [
    {
     "data": {
      "text/html": [
       "<style>\n",
       ".list-inline {list-style: none; margin:0; padding: 0}\n",
       ".list-inline>li {display: inline-block}\n",
       ".list-inline>li:not(:last-child)::after {content: \"\\00b7\"; padding: 0 .5ex}\n",
       "</style>\n",
       "<ol class=list-inline><li>'Sepal.Length'</li><li>'Sepal.Width'</li><li>'Petal.Length'</li><li>'Petal.Width'</li><li>'Species'</li></ol>\n"
      ],
      "text/latex": [
       "\\begin{enumerate*}\n",
       "\\item 'Sepal.Length'\n",
       "\\item 'Sepal.Width'\n",
       "\\item 'Petal.Length'\n",
       "\\item 'Petal.Width'\n",
       "\\item 'Species'\n",
       "\\end{enumerate*}\n"
      ],
      "text/markdown": [
       "1. 'Sepal.Length'\n",
       "2. 'Sepal.Width'\n",
       "3. 'Petal.Length'\n",
       "4. 'Petal.Width'\n",
       "5. 'Species'\n",
       "\n",
       "\n"
      ],
      "text/plain": [
       "[1] \"Sepal.Length\" \"Sepal.Width\"  \"Petal.Length\" \"Petal.Width\"  \"Species\"     "
      ]
     },
     "metadata": {},
     "output_type": "display_data"
    }
   ],
   "source": [
    "colnames(iris)"
   ]
  },
  {
   "cell_type": "code",
   "execution_count": 85,
   "id": "9564d870",
   "metadata": {},
   "outputs": [
    {
     "name": "stdout",
     "output_type": "stream",
     "text": [
      "'data.frame':\t150 obs. of  5 variables:\n",
      " $ Sepal.Length: num  5.1 4.9 4.7 4.6 5 5.4 4.6 5 4.4 4.9 ...\n",
      " $ Sepal.Width : num  3.5 3 3.2 3.1 3.6 3.9 3.4 3.4 2.9 3.1 ...\n",
      " $ Petal.Length: num  1.4 1.4 1.3 1.5 1.4 1.7 1.4 1.5 1.4 1.5 ...\n",
      " $ Petal.Width : num  0.2 0.2 0.2 0.2 0.2 0.4 0.3 0.2 0.2 0.1 ...\n",
      " $ Species     : Factor w/ 3 levels \"setosa\",\"versicolor\",..: 1 1 1 1 1 1 1 1 1 1 ...\n"
     ]
    }
   ],
   "source": [
    "str(iris)"
   ]
  },
  {
   "cell_type": "code",
   "execution_count": 87,
   "id": "9504e81b",
   "metadata": {},
   "outputs": [
    {
     "data": {
      "text/html": [
       "<style>\n",
       ".list-inline {list-style: none; margin:0; padding: 0}\n",
       ".list-inline>li {display: inline-block}\n",
       ".list-inline>li:not(:last-child)::after {content: \"\\00b7\"; padding: 0 .5ex}\n",
       "</style>\n",
       "<ol class=list-inline><li>10.2</li><li>9.5</li><li>9.4</li><li>9.4</li><li>10.2</li><li>11.4</li><li>9.7</li><li>10.1</li><li>8.9</li><li>9.6</li><li>10.8</li><li>10</li><li>9.3</li><li>8.5</li><li>11.2</li><li>12</li><li>11</li><li>10.3</li><li>11.5</li><li>10.7</li><li>10.7</li><li>10.7</li><li>9.4</li><li>10.6</li><li>10.3</li><li>9.8</li><li>10.4</li><li>10.4</li><li>10.2</li><li>9.7</li><li>9.7</li><li>10.7</li><li>10.9</li><li>11.3</li><li>9.7</li><li>9.6</li><li>10.5</li><li>10</li><li>8.9</li><li>10.2</li><li>10.1</li><li>8.4</li><li>9.1</li><li>10.7</li><li>11.2</li><li>9.5</li><li>10.7</li><li>9.4</li><li>10.7</li><li>9.9</li><li>16.3</li><li>15.6</li><li>16.4</li><li>13.1</li><li>15.4</li><li>14.3</li><li>15.9</li><li>11.6</li><li>15.4</li><li>13.2</li><li>11.5</li><li>14.6</li><li>13.2</li><li>15.1</li><li>13.4</li><li>15.6</li><li>14.6</li><li>13.6</li><li>14.4</li><li>13.1</li><li>15.7</li><li>14.2</li><li>15.2</li><li>14.8</li><li>14.9</li><li>15.4</li><li>15.8</li><li>16.4</li><li>14.9</li><li>12.8</li><li>12.8</li><li>12.6</li><li>13.6</li><li>15.4</li><li>14.4</li><li>15.5</li><li>16</li><li>14.3</li><li>14</li><li>13.3</li><li>13.7</li><li>15.1</li><li>13.6</li><li>11.6</li><li>13.8</li><li>14.1</li><li>14.1</li><li>14.7</li><li>11.7</li><li>13.9</li><li>18.1</li><li>15.5</li><li>18.1</li><li>16.6</li><li>17.5</li><li>19.3</li><li>13.6</li><li>18.3</li><li>16.8</li><li>19.4</li><li>16.8</li><li>16.3</li><li>17.4</li><li>15.2</li><li>16.1</li><li>17.2</li><li>16.8</li><li>20.4</li><li>19.5</li><li>14.7</li><li>18.1</li><li>15.3</li><li>19.2</li><li>15.7</li><li>17.8</li><li>18.2</li><li>15.6</li><li>15.8</li><li>16.9</li><li>17.6</li><li>18.2</li><li>20.1</li><li>17</li><li>15.7</li><li>15.7</li><li>19.1</li><li>17.7</li><li>16.8</li><li>15.6</li><li>17.5</li><li>17.8</li><li>17.4</li><li>15.5</li><li>18.2</li><li>18.2</li><li>17.2</li><li>15.7</li><li>16.7</li><li>17.3</li><li>15.8</li></ol>\n"
      ],
      "text/latex": [
       "\\begin{enumerate*}\n",
       "\\item 10.2\n",
       "\\item 9.5\n",
       "\\item 9.4\n",
       "\\item 9.4\n",
       "\\item 10.2\n",
       "\\item 11.4\n",
       "\\item 9.7\n",
       "\\item 10.1\n",
       "\\item 8.9\n",
       "\\item 9.6\n",
       "\\item 10.8\n",
       "\\item 10\n",
       "\\item 9.3\n",
       "\\item 8.5\n",
       "\\item 11.2\n",
       "\\item 12\n",
       "\\item 11\n",
       "\\item 10.3\n",
       "\\item 11.5\n",
       "\\item 10.7\n",
       "\\item 10.7\n",
       "\\item 10.7\n",
       "\\item 9.4\n",
       "\\item 10.6\n",
       "\\item 10.3\n",
       "\\item 9.8\n",
       "\\item 10.4\n",
       "\\item 10.4\n",
       "\\item 10.2\n",
       "\\item 9.7\n",
       "\\item 9.7\n",
       "\\item 10.7\n",
       "\\item 10.9\n",
       "\\item 11.3\n",
       "\\item 9.7\n",
       "\\item 9.6\n",
       "\\item 10.5\n",
       "\\item 10\n",
       "\\item 8.9\n",
       "\\item 10.2\n",
       "\\item 10.1\n",
       "\\item 8.4\n",
       "\\item 9.1\n",
       "\\item 10.7\n",
       "\\item 11.2\n",
       "\\item 9.5\n",
       "\\item 10.7\n",
       "\\item 9.4\n",
       "\\item 10.7\n",
       "\\item 9.9\n",
       "\\item 16.3\n",
       "\\item 15.6\n",
       "\\item 16.4\n",
       "\\item 13.1\n",
       "\\item 15.4\n",
       "\\item 14.3\n",
       "\\item 15.9\n",
       "\\item 11.6\n",
       "\\item 15.4\n",
       "\\item 13.2\n",
       "\\item 11.5\n",
       "\\item 14.6\n",
       "\\item 13.2\n",
       "\\item 15.1\n",
       "\\item 13.4\n",
       "\\item 15.6\n",
       "\\item 14.6\n",
       "\\item 13.6\n",
       "\\item 14.4\n",
       "\\item 13.1\n",
       "\\item 15.7\n",
       "\\item 14.2\n",
       "\\item 15.2\n",
       "\\item 14.8\n",
       "\\item 14.9\n",
       "\\item 15.4\n",
       "\\item 15.8\n",
       "\\item 16.4\n",
       "\\item 14.9\n",
       "\\item 12.8\n",
       "\\item 12.8\n",
       "\\item 12.6\n",
       "\\item 13.6\n",
       "\\item 15.4\n",
       "\\item 14.4\n",
       "\\item 15.5\n",
       "\\item 16\n",
       "\\item 14.3\n",
       "\\item 14\n",
       "\\item 13.3\n",
       "\\item 13.7\n",
       "\\item 15.1\n",
       "\\item 13.6\n",
       "\\item 11.6\n",
       "\\item 13.8\n",
       "\\item 14.1\n",
       "\\item 14.1\n",
       "\\item 14.7\n",
       "\\item 11.7\n",
       "\\item 13.9\n",
       "\\item 18.1\n",
       "\\item 15.5\n",
       "\\item 18.1\n",
       "\\item 16.6\n",
       "\\item 17.5\n",
       "\\item 19.3\n",
       "\\item 13.6\n",
       "\\item 18.3\n",
       "\\item 16.8\n",
       "\\item 19.4\n",
       "\\item 16.8\n",
       "\\item 16.3\n",
       "\\item 17.4\n",
       "\\item 15.2\n",
       "\\item 16.1\n",
       "\\item 17.2\n",
       "\\item 16.8\n",
       "\\item 20.4\n",
       "\\item 19.5\n",
       "\\item 14.7\n",
       "\\item 18.1\n",
       "\\item 15.3\n",
       "\\item 19.2\n",
       "\\item 15.7\n",
       "\\item 17.8\n",
       "\\item 18.2\n",
       "\\item 15.6\n",
       "\\item 15.8\n",
       "\\item 16.9\n",
       "\\item 17.6\n",
       "\\item 18.2\n",
       "\\item 20.1\n",
       "\\item 17\n",
       "\\item 15.7\n",
       "\\item 15.7\n",
       "\\item 19.1\n",
       "\\item 17.7\n",
       "\\item 16.8\n",
       "\\item 15.6\n",
       "\\item 17.5\n",
       "\\item 17.8\n",
       "\\item 17.4\n",
       "\\item 15.5\n",
       "\\item 18.2\n",
       "\\item 18.2\n",
       "\\item 17.2\n",
       "\\item 15.7\n",
       "\\item 16.7\n",
       "\\item 17.3\n",
       "\\item 15.8\n",
       "\\end{enumerate*}\n"
      ],
      "text/markdown": [
       "1. 10.2\n",
       "2. 9.5\n",
       "3. 9.4\n",
       "4. 9.4\n",
       "5. 10.2\n",
       "6. 11.4\n",
       "7. 9.7\n",
       "8. 10.1\n",
       "9. 8.9\n",
       "10. 9.6\n",
       "11. 10.8\n",
       "12. 10\n",
       "13. 9.3\n",
       "14. 8.5\n",
       "15. 11.2\n",
       "16. 12\n",
       "17. 11\n",
       "18. 10.3\n",
       "19. 11.5\n",
       "20. 10.7\n",
       "21. 10.7\n",
       "22. 10.7\n",
       "23. 9.4\n",
       "24. 10.6\n",
       "25. 10.3\n",
       "26. 9.8\n",
       "27. 10.4\n",
       "28. 10.4\n",
       "29. 10.2\n",
       "30. 9.7\n",
       "31. 9.7\n",
       "32. 10.7\n",
       "33. 10.9\n",
       "34. 11.3\n",
       "35. 9.7\n",
       "36. 9.6\n",
       "37. 10.5\n",
       "38. 10\n",
       "39. 8.9\n",
       "40. 10.2\n",
       "41. 10.1\n",
       "42. 8.4\n",
       "43. 9.1\n",
       "44. 10.7\n",
       "45. 11.2\n",
       "46. 9.5\n",
       "47. 10.7\n",
       "48. 9.4\n",
       "49. 10.7\n",
       "50. 9.9\n",
       "51. 16.3\n",
       "52. 15.6\n",
       "53. 16.4\n",
       "54. 13.1\n",
       "55. 15.4\n",
       "56. 14.3\n",
       "57. 15.9\n",
       "58. 11.6\n",
       "59. 15.4\n",
       "60. 13.2\n",
       "61. 11.5\n",
       "62. 14.6\n",
       "63. 13.2\n",
       "64. 15.1\n",
       "65. 13.4\n",
       "66. 15.6\n",
       "67. 14.6\n",
       "68. 13.6\n",
       "69. 14.4\n",
       "70. 13.1\n",
       "71. 15.7\n",
       "72. 14.2\n",
       "73. 15.2\n",
       "74. 14.8\n",
       "75. 14.9\n",
       "76. 15.4\n",
       "77. 15.8\n",
       "78. 16.4\n",
       "79. 14.9\n",
       "80. 12.8\n",
       "81. 12.8\n",
       "82. 12.6\n",
       "83. 13.6\n",
       "84. 15.4\n",
       "85. 14.4\n",
       "86. 15.5\n",
       "87. 16\n",
       "88. 14.3\n",
       "89. 14\n",
       "90. 13.3\n",
       "91. 13.7\n",
       "92. 15.1\n",
       "93. 13.6\n",
       "94. 11.6\n",
       "95. 13.8\n",
       "96. 14.1\n",
       "97. 14.1\n",
       "98. 14.7\n",
       "99. 11.7\n",
       "100. 13.9\n",
       "101. 18.1\n",
       "102. 15.5\n",
       "103. 18.1\n",
       "104. 16.6\n",
       "105. 17.5\n",
       "106. 19.3\n",
       "107. 13.6\n",
       "108. 18.3\n",
       "109. 16.8\n",
       "110. 19.4\n",
       "111. 16.8\n",
       "112. 16.3\n",
       "113. 17.4\n",
       "114. 15.2\n",
       "115. 16.1\n",
       "116. 17.2\n",
       "117. 16.8\n",
       "118. 20.4\n",
       "119. 19.5\n",
       "120. 14.7\n",
       "121. 18.1\n",
       "122. 15.3\n",
       "123. 19.2\n",
       "124. 15.7\n",
       "125. 17.8\n",
       "126. 18.2\n",
       "127. 15.6\n",
       "128. 15.8\n",
       "129. 16.9\n",
       "130. 17.6\n",
       "131. 18.2\n",
       "132. 20.1\n",
       "133. 17\n",
       "134. 15.7\n",
       "135. 15.7\n",
       "136. 19.1\n",
       "137. 17.7\n",
       "138. 16.8\n",
       "139. 15.6\n",
       "140. 17.5\n",
       "141. 17.8\n",
       "142. 17.4\n",
       "143. 15.5\n",
       "144. 18.2\n",
       "145. 18.2\n",
       "146. 17.2\n",
       "147. 15.7\n",
       "148. 16.7\n",
       "149. 17.3\n",
       "150. 15.8\n",
       "\n",
       "\n"
      ],
      "text/plain": [
       "  [1] 10.2  9.5  9.4  9.4 10.2 11.4  9.7 10.1  8.9  9.6 10.8 10.0  9.3  8.5 11.2\n",
       " [16] 12.0 11.0 10.3 11.5 10.7 10.7 10.7  9.4 10.6 10.3  9.8 10.4 10.4 10.2  9.7\n",
       " [31]  9.7 10.7 10.9 11.3  9.7  9.6 10.5 10.0  8.9 10.2 10.1  8.4  9.1 10.7 11.2\n",
       " [46]  9.5 10.7  9.4 10.7  9.9 16.3 15.6 16.4 13.1 15.4 14.3 15.9 11.6 15.4 13.2\n",
       " [61] 11.5 14.6 13.2 15.1 13.4 15.6 14.6 13.6 14.4 13.1 15.7 14.2 15.2 14.8 14.9\n",
       " [76] 15.4 15.8 16.4 14.9 12.8 12.8 12.6 13.6 15.4 14.4 15.5 16.0 14.3 14.0 13.3\n",
       " [91] 13.7 15.1 13.6 11.6 13.8 14.1 14.1 14.7 11.7 13.9 18.1 15.5 18.1 16.6 17.5\n",
       "[106] 19.3 13.6 18.3 16.8 19.4 16.8 16.3 17.4 15.2 16.1 17.2 16.8 20.4 19.5 14.7\n",
       "[121] 18.1 15.3 19.2 15.7 17.8 18.2 15.6 15.8 16.9 17.6 18.2 20.1 17.0 15.7 15.7\n",
       "[136] 19.1 17.7 16.8 15.6 17.5 17.8 17.4 15.5 18.2 18.2 17.2 15.7 16.7 17.3 15.8"
      ]
     },
     "metadata": {},
     "output_type": "display_data"
    }
   ],
   "source": [
    "apply(iris[-5], 1, sum)"
   ]
  },
  {
   "cell_type": "code",
   "execution_count": 88,
   "id": "320abb4e",
   "metadata": {},
   "outputs": [
    {
     "data": {
      "text/html": [
       "<style>\n",
       ".dl-inline {width: auto; margin:0; padding: 0}\n",
       ".dl-inline>dt, .dl-inline>dd {float: none; width: auto; display: inline-block}\n",
       ".dl-inline>dt::after {content: \":\\0020\"; padding-right: .5ex}\n",
       ".dl-inline>dt:not(:first-of-type) {padding-left: .5ex}\n",
       "</style><dl class=dl-inline><dt>Sepal.Length</dt><dd>7.9</dd><dt>Sepal.Width</dt><dd>4.4</dd><dt>Petal.Length</dt><dd>6.9</dd><dt>Petal.Width</dt><dd>2.5</dd></dl>\n"
      ],
      "text/latex": [
       "\\begin{description*}\n",
       "\\item[Sepal.Length] 7.9\n",
       "\\item[Sepal.Width] 4.4\n",
       "\\item[Petal.Length] 6.9\n",
       "\\item[Petal.Width] 2.5\n",
       "\\end{description*}\n"
      ],
      "text/markdown": [
       "Sepal.Length\n",
       ":   7.9Sepal.Width\n",
       ":   4.4Petal.Length\n",
       ":   6.9Petal.Width\n",
       ":   2.5\n",
       "\n"
      ],
      "text/plain": [
       "Sepal.Length  Sepal.Width Petal.Length  Petal.Width \n",
       "         7.9          4.4          6.9          2.5 "
      ]
     },
     "metadata": {},
     "output_type": "display_data"
    }
   ],
   "source": [
    "apply(iris[-5], 2, max)"
   ]
  },
  {
   "cell_type": "code",
   "execution_count": 89,
   "id": "d5053428",
   "metadata": {},
   "outputs": [
    {
     "name": "stdout",
     "output_type": "stream",
     "text": [
      "'data.frame':\t32 obs. of  11 variables:\n",
      " $ mpg : num  21 21 22.8 21.4 18.7 18.1 14.3 24.4 22.8 19.2 ...\n",
      " $ cyl : num  6 6 4 6 8 6 8 4 4 6 ...\n",
      " $ disp: num  160 160 108 258 360 ...\n",
      " $ hp  : num  110 110 93 110 175 105 245 62 95 123 ...\n",
      " $ drat: num  3.9 3.9 3.85 3.08 3.15 2.76 3.21 3.69 3.92 3.92 ...\n",
      " $ wt  : num  2.62 2.88 2.32 3.21 3.44 ...\n",
      " $ qsec: num  16.5 17 18.6 19.4 17 ...\n",
      " $ vs  : num  0 0 1 1 0 1 0 1 1 1 ...\n",
      " $ am  : num  1 1 1 0 0 0 0 0 0 0 ...\n",
      " $ gear: num  4 4 4 3 3 3 3 4 4 4 ...\n",
      " $ carb: num  4 4 1 1 2 1 4 2 2 4 ...\n"
     ]
    }
   ],
   "source": [
    "str(mtcars)"
   ]
  },
  {
   "cell_type": "code",
   "execution_count": 90,
   "id": "90986ae6",
   "metadata": {},
   "outputs": [
    {
     "data": {
      "text/html": [
       "<style>\n",
       ".dl-inline {width: auto; margin:0; padding: 0}\n",
       ".dl-inline>dt, .dl-inline>dd {float: none; width: auto; display: inline-block}\n",
       ".dl-inline>dt::after {content: \":\\0020\"; padding-right: .5ex}\n",
       ".dl-inline>dt:not(:first-of-type) {padding-left: .5ex}\n",
       "</style><dl class=dl-inline><dt>mpg</dt><dd>642.9</dd><dt>cyl</dt><dd>198</dd><dt>disp</dt><dd>7383.1</dd><dt>hp</dt><dd>4694</dd><dt>drat</dt><dd>115.09</dd><dt>wt</dt><dd>102.952</dd><dt>qsec</dt><dd>571.16</dd><dt>vs</dt><dd>14</dd><dt>am</dt><dd>13</dd><dt>gear</dt><dd>118</dd><dt>carb</dt><dd>90</dd></dl>\n"
      ],
      "text/latex": [
       "\\begin{description*}\n",
       "\\item[mpg] 642.9\n",
       "\\item[cyl] 198\n",
       "\\item[disp] 7383.1\n",
       "\\item[hp] 4694\n",
       "\\item[drat] 115.09\n",
       "\\item[wt] 102.952\n",
       "\\item[qsec] 571.16\n",
       "\\item[vs] 14\n",
       "\\item[am] 13\n",
       "\\item[gear] 118\n",
       "\\item[carb] 90\n",
       "\\end{description*}\n"
      ],
      "text/markdown": [
       "mpg\n",
       ":   642.9cyl\n",
       ":   198disp\n",
       ":   7383.1hp\n",
       ":   4694drat\n",
       ":   115.09wt\n",
       ":   102.952qsec\n",
       ":   571.16vs\n",
       ":   14am\n",
       ":   13gear\n",
       ":   118carb\n",
       ":   90\n",
       "\n"
      ],
      "text/plain": [
       "     mpg      cyl     disp       hp     drat       wt     qsec       vs \n",
       " 642.900  198.000 7383.100 4694.000  115.090  102.952  571.160   14.000 \n",
       "      am     gear     carb \n",
       "  13.000  118.000   90.000 "
      ]
     },
     "metadata": {},
     "output_type": "display_data"
    }
   ],
   "source": [
    "apply(mtcars, 2, sum)"
   ]
  },
  {
   "cell_type": "code",
   "execution_count": 91,
   "id": "70eec5f2",
   "metadata": {},
   "outputs": [
    {
     "data": {
      "text/html": [
       "<style>\n",
       ".dl-inline {width: auto; margin:0; padding: 0}\n",
       ".dl-inline>dt, .dl-inline>dd {float: none; width: auto; display: inline-block}\n",
       ".dl-inline>dt::after {content: \":\\0020\"; padding-right: .5ex}\n",
       ".dl-inline>dt:not(:first-of-type) {padding-left: .5ex}\n",
       "</style><dl class=dl-inline><dt>mpg</dt><dd>33.9</dd><dt>cyl</dt><dd>8</dd><dt>disp</dt><dd>472</dd><dt>hp</dt><dd>335</dd><dt>drat</dt><dd>4.93</dd><dt>wt</dt><dd>5.424</dd><dt>qsec</dt><dd>22.9</dd><dt>vs</dt><dd>1</dd><dt>am</dt><dd>1</dd><dt>gear</dt><dd>5</dd><dt>carb</dt><dd>8</dd></dl>\n"
      ],
      "text/latex": [
       "\\begin{description*}\n",
       "\\item[mpg] 33.9\n",
       "\\item[cyl] 8\n",
       "\\item[disp] 472\n",
       "\\item[hp] 335\n",
       "\\item[drat] 4.93\n",
       "\\item[wt] 5.424\n",
       "\\item[qsec] 22.9\n",
       "\\item[vs] 1\n",
       "\\item[am] 1\n",
       "\\item[gear] 5\n",
       "\\item[carb] 8\n",
       "\\end{description*}\n"
      ],
      "text/markdown": [
       "mpg\n",
       ":   33.9cyl\n",
       ":   8disp\n",
       ":   472hp\n",
       ":   335drat\n",
       ":   4.93wt\n",
       ":   5.424qsec\n",
       ":   22.9vs\n",
       ":   1am\n",
       ":   1gear\n",
       ":   5carb\n",
       ":   8\n",
       "\n"
      ],
      "text/plain": [
       "    mpg     cyl    disp      hp    drat      wt    qsec      vs      am    gear \n",
       " 33.900   8.000 472.000 335.000   4.930   5.424  22.900   1.000   1.000   5.000 \n",
       "   carb \n",
       "  8.000 "
      ]
     },
     "metadata": {},
     "output_type": "display_data"
    }
   ],
   "source": [
    "apply(mtcars, 2, max)"
   ]
  },
  {
   "cell_type": "code",
   "execution_count": 92,
   "id": "a8942229",
   "metadata": {},
   "outputs": [
    {
     "data": {
      "text/html": [
       "<style>\n",
       ".dl-inline {width: auto; margin:0; padding: 0}\n",
       ".dl-inline>dt, .dl-inline>dd {float: none; width: auto; display: inline-block}\n",
       ".dl-inline>dt::after {content: \":\\0020\"; padding-right: .5ex}\n",
       ".dl-inline>dt:not(:first-of-type) {padding-left: .5ex}\n",
       "</style><dl class=dl-inline><dt>mpg</dt><dd>6.0269480520891</dd><dt>cyl</dt><dd>1.78592164694654</dd><dt>disp</dt><dd>123.938693831382</dd><dt>hp</dt><dd>68.5628684893206</dd><dt>drat</dt><dd>0.534678736070971</dd><dt>wt</dt><dd>0.978457442989697</dd><dt>qsec</dt><dd>1.78694323609684</dd><dt>vs</dt><dd>0.504016128774185</dd><dt>am</dt><dd>0.498990917235846</dd><dt>gear</dt><dd>0.737804065256947</dd><dt>carb</dt><dd>1.61519997763185</dd></dl>\n"
      ],
      "text/latex": [
       "\\begin{description*}\n",
       "\\item[mpg] 6.0269480520891\n",
       "\\item[cyl] 1.78592164694654\n",
       "\\item[disp] 123.938693831382\n",
       "\\item[hp] 68.5628684893206\n",
       "\\item[drat] 0.534678736070971\n",
       "\\item[wt] 0.978457442989697\n",
       "\\item[qsec] 1.78694323609684\n",
       "\\item[vs] 0.504016128774185\n",
       "\\item[am] 0.498990917235846\n",
       "\\item[gear] 0.737804065256947\n",
       "\\item[carb] 1.61519997763185\n",
       "\\end{description*}\n"
      ],
      "text/markdown": [
       "mpg\n",
       ":   6.0269480520891cyl\n",
       ":   1.78592164694654disp\n",
       ":   123.938693831382hp\n",
       ":   68.5628684893206drat\n",
       ":   0.534678736070971wt\n",
       ":   0.978457442989697qsec\n",
       ":   1.78694323609684vs\n",
       ":   0.504016128774185am\n",
       ":   0.498990917235846gear\n",
       ":   0.737804065256947carb\n",
       ":   1.61519997763185\n",
       "\n"
      ],
      "text/plain": [
       "        mpg         cyl        disp          hp        drat          wt \n",
       "  6.0269481   1.7859216 123.9386938  68.5628685   0.5346787   0.9784574 \n",
       "       qsec          vs          am        gear        carb \n",
       "  1.7869432   0.5040161   0.4989909   0.7378041   1.6152000 "
      ]
     },
     "metadata": {},
     "output_type": "display_data"
    }
   ],
   "source": [
    "apply(mtcars, 2, sd)"
   ]
  },
  {
   "cell_type": "code",
   "execution_count": 93,
   "id": "3e4b996b",
   "metadata": {},
   "outputs": [
    {
     "data": {
      "text/html": [
       "5"
      ],
      "text/latex": [
       "5"
      ],
      "text/markdown": [
       "5"
      ],
      "text/plain": [
       "[1] 5"
      ]
     },
     "metadata": {},
     "output_type": "display_data"
    }
   ],
   "source": [
    "weight <- c(69, 50, 55, 71, 89, 64, 59, 70, 71, 80)\n",
    "which.max(weight)"
   ]
  },
  {
   "cell_type": "code",
   "execution_count": 94,
   "id": "bed2c267",
   "metadata": {},
   "outputs": [
    {
     "data": {
      "text/html": [
       "89"
      ],
      "text/latex": [
       "89"
      ],
      "text/markdown": [
       "89"
      ],
      "text/plain": [
       "[1] 89"
      ]
     },
     "metadata": {},
     "output_type": "display_data"
    }
   ],
   "source": [
    "weight[5]"
   ]
  },
  {
   "cell_type": "code",
   "execution_count": 95,
   "id": "bb7b76bc",
   "metadata": {},
   "outputs": [
    {
     "data": {
      "text/html": [
       "2"
      ],
      "text/latex": [
       "2"
      ],
      "text/markdown": [
       "2"
      ],
      "text/plain": [
       "[1] 2"
      ]
     },
     "metadata": {},
     "output_type": "display_data"
    }
   ],
   "source": [
    "which.min(weight)"
   ]
  },
  {
   "cell_type": "code",
   "execution_count": 100,
   "id": "53d6bfa7",
   "metadata": {},
   "outputs": [
    {
     "data": {
      "text/html": [
       "<style>\n",
       ".list-inline {list-style: none; margin:0; padding: 0}\n",
       ".list-inline>li {display: inline-block}\n",
       ".list-inline>li:not(:last-child)::after {content: \"\\00b7\"; padding: 0 .5ex}\n",
       "</style>\n",
       "<ol class=list-inline><li>1</li><li>6</li></ol>\n"
      ],
      "text/latex": [
       "\\begin{enumerate*}\n",
       "\\item 1\n",
       "\\item 6\n",
       "\\end{enumerate*}\n"
      ],
      "text/markdown": [
       "1. 1\n",
       "2. 6\n",
       "\n",
       "\n"
      ],
      "text/plain": [
       "[1] 1 6"
      ]
     },
     "metadata": {},
     "output_type": "display_data"
    }
   ],
   "source": [
    "which(weight >= 61 & weight <= 69)"
   ]
  },
  {
   "cell_type": "code",
   "execution_count": 101,
   "id": "4a6bf295",
   "metadata": {},
   "outputs": [
    {
     "data": {
      "text/html": [
       "<style>\n",
       ".list-inline {list-style: none; margin:0; padding: 0}\n",
       ".list-inline>li {display: inline-block}\n",
       ".list-inline>li:not(:last-child)::after {content: \"\\00b7\"; padding: 0 .5ex}\n",
       "</style>\n",
       "<ol class=list-inline><li>69</li><li>64</li></ol>\n"
      ],
      "text/latex": [
       "\\begin{enumerate*}\n",
       "\\item 69\n",
       "\\item 64\n",
       "\\end{enumerate*}\n"
      ],
      "text/markdown": [
       "1. 69\n",
       "2. 64\n",
       "\n",
       "\n"
      ],
      "text/plain": [
       "[1] 69 64"
      ]
     },
     "metadata": {},
     "output_type": "display_data"
    }
   ],
   "source": [
    "weight[c(1, 6)]"
   ]
  },
  {
   "cell_type": "code",
   "execution_count": 98,
   "id": "127c7486",
   "metadata": {},
   "outputs": [
    {
     "data": {
      "text/html": [
       "<style>\n",
       ".list-inline {list-style: none; margin:0; padding: 0}\n",
       ".list-inline>li {display: inline-block}\n",
       ".list-inline>li:not(:last-child)::after {content: \"\\00b7\"; padding: 0 .5ex}\n",
       "</style>\n",
       "<ol class=list-inline><li>50</li><li>55</li><li>59</li></ol>\n"
      ],
      "text/latex": [
       "\\begin{enumerate*}\n",
       "\\item 50\n",
       "\\item 55\n",
       "\\item 59\n",
       "\\end{enumerate*}\n"
      ],
      "text/markdown": [
       "1. 50\n",
       "2. 55\n",
       "3. 59\n",
       "\n",
       "\n"
      ],
      "text/plain": [
       "[1] 50 55 59"
      ]
     },
     "metadata": {},
     "output_type": "display_data"
    }
   ],
   "source": [
    "weight.2 <- weight[which(weight < 60)]\n",
    "weight.2"
   ]
  },
  {
   "cell_type": "code",
   "execution_count": 102,
   "id": "0fe45c68",
   "metadata": {},
   "outputs": [
    {
     "name": "stdout",
     "output_type": "stream",
     "text": [
      "'data.frame':\t150 obs. of  5 variables:\n",
      " $ Sepal.Length: num  5.1 4.9 4.7 4.6 5 5.4 4.6 5 4.4 4.9 ...\n",
      " $ Sepal.Width : num  3.5 3 3.2 3.1 3.6 3.9 3.4 3.4 2.9 3.1 ...\n",
      " $ Petal.Length: num  1.4 1.4 1.3 1.5 1.4 1.7 1.4 1.5 1.4 1.5 ...\n",
      " $ Petal.Width : num  0.2 0.2 0.2 0.2 0.2 0.4 0.3 0.2 0.2 0.1 ...\n",
      " $ Species     : Factor w/ 3 levels \"setosa\",\"versicolor\",..: 1 1 1 1 1 1 1 1 1 1 ...\n"
     ]
    }
   ],
   "source": [
    "str(iris)"
   ]
  },
  {
   "cell_type": "code",
   "execution_count": 103,
   "id": "8e5b42fa",
   "metadata": {},
   "outputs": [
    {
     "data": {
      "text/html": [
       "119"
      ],
      "text/latex": [
       "119"
      ],
      "text/markdown": [
       "119"
      ],
      "text/plain": [
       "[1] 119"
      ]
     },
     "metadata": {},
     "output_type": "display_data"
    }
   ],
   "source": [
    "which(iris$Petal.Length == max(iris$Petal.Length))"
   ]
  },
  {
   "cell_type": "code",
   "execution_count": 104,
   "id": "2bf72df9",
   "metadata": {},
   "outputs": [
    {
     "data": {
      "text/plain": [
       "NULL"
      ]
     },
     "metadata": {},
     "output_type": "display_data"
    }
   ],
   "source": [
    "iris['Petal.Length', 119]"
   ]
  },
  {
   "cell_type": "code",
   "execution_count": 105,
   "id": "ec91e83c",
   "metadata": {},
   "outputs": [
    {
     "data": {
      "text/html": [
       "<table class=\"dataframe\">\n",
       "<caption>A data.frame: 1 × 5</caption>\n",
       "<thead>\n",
       "\t<tr><th></th><th scope=col>Sepal.Length</th><th scope=col>Sepal.Width</th><th scope=col>Petal.Length</th><th scope=col>Petal.Width</th><th scope=col>Species</th></tr>\n",
       "\t<tr><th></th><th scope=col>&lt;dbl&gt;</th><th scope=col>&lt;dbl&gt;</th><th scope=col>&lt;dbl&gt;</th><th scope=col>&lt;dbl&gt;</th><th scope=col>&lt;fct&gt;</th></tr>\n",
       "</thead>\n",
       "<tbody>\n",
       "\t<tr><th scope=row>119</th><td>7.7</td><td>2.6</td><td>6.9</td><td>2.3</td><td>virginica</td></tr>\n",
       "</tbody>\n",
       "</table>\n"
      ],
      "text/latex": [
       "A data.frame: 1 × 5\n",
       "\\begin{tabular}{r|lllll}\n",
       "  & Sepal.Length & Sepal.Width & Petal.Length & Petal.Width & Species\\\\\n",
       "  & <dbl> & <dbl> & <dbl> & <dbl> & <fct>\\\\\n",
       "\\hline\n",
       "\t119 & 7.7 & 2.6 & 6.9 & 2.3 & virginica\\\\\n",
       "\\end{tabular}\n"
      ],
      "text/markdown": [
       "\n",
       "A data.frame: 1 × 5\n",
       "\n",
       "| <!--/--> | Sepal.Length &lt;dbl&gt; | Sepal.Width &lt;dbl&gt; | Petal.Length &lt;dbl&gt; | Petal.Width &lt;dbl&gt; | Species &lt;fct&gt; |\n",
       "|---|---|---|---|---|---|\n",
       "| 119 | 7.7 | 2.6 | 6.9 | 2.3 | virginica |\n",
       "\n"
      ],
      "text/plain": [
       "    Sepal.Length Sepal.Width Petal.Length Petal.Width Species  \n",
       "119 7.7          2.6         6.9          2.3         virginica"
      ]
     },
     "metadata": {},
     "output_type": "display_data"
    }
   ],
   "source": [
    "iris[119, ]"
   ]
  },
  {
   "cell_type": "code",
   "execution_count": 106,
   "id": "f3b5b74a",
   "metadata": {},
   "outputs": [
    {
     "data": {
      "text/html": [
       "<style>\n",
       ".list-inline {list-style: none; margin:0; padding: 0}\n",
       ".list-inline>li {display: inline-block}\n",
       ".list-inline>li:not(:last-child)::after {content: \"\\00b7\"; padding: 0 .5ex}\n",
       "</style>\n",
       "<ol class=list-inline><li>6</li><li>7</li><li>16</li><li>17</li><li>18</li><li>19</li><li>20</li><li>22</li><li>27</li><li>32</li><li>41</li><li>42</li><li>45</li><li>46</li></ol>\n"
      ],
      "text/latex": [
       "\\begin{enumerate*}\n",
       "\\item 6\n",
       "\\item 7\n",
       "\\item 16\n",
       "\\item 17\n",
       "\\item 18\n",
       "\\item 19\n",
       "\\item 20\n",
       "\\item 22\n",
       "\\item 27\n",
       "\\item 32\n",
       "\\item 41\n",
       "\\item 42\n",
       "\\item 45\n",
       "\\item 46\n",
       "\\end{enumerate*}\n"
      ],
      "text/markdown": [
       "1. 6\n",
       "2. 7\n",
       "3. 16\n",
       "4. 17\n",
       "5. 18\n",
       "6. 19\n",
       "7. 20\n",
       "8. 22\n",
       "9. 27\n",
       "10. 32\n",
       "11. 41\n",
       "12. 42\n",
       "13. 45\n",
       "14. 46\n",
       "\n",
       "\n"
      ],
      "text/plain": [
       " [1]  6  7 16 17 18 19 20 22 27 32 41 42 45 46"
      ]
     },
     "metadata": {},
     "output_type": "display_data"
    }
   ],
   "source": [
    "which(iris$Petal.Width >= 0.3 & iris$Petal.Width <= 0.4)"
   ]
  },
  {
   "cell_type": "code",
   "execution_count": 107,
   "id": "f12e8171",
   "metadata": {},
   "outputs": [
    {
     "data": {
      "text/html": [
       "<table class=\"dataframe\">\n",
       "<caption>A data.frame: 14 × 5</caption>\n",
       "<thead>\n",
       "\t<tr><th></th><th scope=col>Sepal.Length</th><th scope=col>Sepal.Width</th><th scope=col>Petal.Length</th><th scope=col>Petal.Width</th><th scope=col>Species</th></tr>\n",
       "\t<tr><th></th><th scope=col>&lt;dbl&gt;</th><th scope=col>&lt;dbl&gt;</th><th scope=col>&lt;dbl&gt;</th><th scope=col>&lt;dbl&gt;</th><th scope=col>&lt;fct&gt;</th></tr>\n",
       "</thead>\n",
       "<tbody>\n",
       "\t<tr><th scope=row>6</th><td>5.4</td><td>3.9</td><td>1.7</td><td>0.4</td><td>setosa</td></tr>\n",
       "\t<tr><th scope=row>7</th><td>4.6</td><td>3.4</td><td>1.4</td><td>0.3</td><td>setosa</td></tr>\n",
       "\t<tr><th scope=row>16</th><td>5.7</td><td>4.4</td><td>1.5</td><td>0.4</td><td>setosa</td></tr>\n",
       "\t<tr><th scope=row>17</th><td>5.4</td><td>3.9</td><td>1.3</td><td>0.4</td><td>setosa</td></tr>\n",
       "\t<tr><th scope=row>18</th><td>5.1</td><td>3.5</td><td>1.4</td><td>0.3</td><td>setosa</td></tr>\n",
       "\t<tr><th scope=row>19</th><td>5.7</td><td>3.8</td><td>1.7</td><td>0.3</td><td>setosa</td></tr>\n",
       "\t<tr><th scope=row>20</th><td>5.1</td><td>3.8</td><td>1.5</td><td>0.3</td><td>setosa</td></tr>\n",
       "\t<tr><th scope=row>22</th><td>5.1</td><td>3.7</td><td>1.5</td><td>0.4</td><td>setosa</td></tr>\n",
       "\t<tr><th scope=row>27</th><td>5.0</td><td>3.4</td><td>1.6</td><td>0.4</td><td>setosa</td></tr>\n",
       "\t<tr><th scope=row>32</th><td>5.4</td><td>3.4</td><td>1.5</td><td>0.4</td><td>setosa</td></tr>\n",
       "\t<tr><th scope=row>41</th><td>5.0</td><td>3.5</td><td>1.3</td><td>0.3</td><td>setosa</td></tr>\n",
       "\t<tr><th scope=row>42</th><td>4.5</td><td>2.3</td><td>1.3</td><td>0.3</td><td>setosa</td></tr>\n",
       "\t<tr><th scope=row>45</th><td>5.1</td><td>3.8</td><td>1.9</td><td>0.4</td><td>setosa</td></tr>\n",
       "\t<tr><th scope=row>46</th><td>4.8</td><td>3.0</td><td>1.4</td><td>0.3</td><td>setosa</td></tr>\n",
       "</tbody>\n",
       "</table>\n"
      ],
      "text/latex": [
       "A data.frame: 14 × 5\n",
       "\\begin{tabular}{r|lllll}\n",
       "  & Sepal.Length & Sepal.Width & Petal.Length & Petal.Width & Species\\\\\n",
       "  & <dbl> & <dbl> & <dbl> & <dbl> & <fct>\\\\\n",
       "\\hline\n",
       "\t6 & 5.4 & 3.9 & 1.7 & 0.4 & setosa\\\\\n",
       "\t7 & 4.6 & 3.4 & 1.4 & 0.3 & setosa\\\\\n",
       "\t16 & 5.7 & 4.4 & 1.5 & 0.4 & setosa\\\\\n",
       "\t17 & 5.4 & 3.9 & 1.3 & 0.4 & setosa\\\\\n",
       "\t18 & 5.1 & 3.5 & 1.4 & 0.3 & setosa\\\\\n",
       "\t19 & 5.7 & 3.8 & 1.7 & 0.3 & setosa\\\\\n",
       "\t20 & 5.1 & 3.8 & 1.5 & 0.3 & setosa\\\\\n",
       "\t22 & 5.1 & 3.7 & 1.5 & 0.4 & setosa\\\\\n",
       "\t27 & 5.0 & 3.4 & 1.6 & 0.4 & setosa\\\\\n",
       "\t32 & 5.4 & 3.4 & 1.5 & 0.4 & setosa\\\\\n",
       "\t41 & 5.0 & 3.5 & 1.3 & 0.3 & setosa\\\\\n",
       "\t42 & 4.5 & 2.3 & 1.3 & 0.3 & setosa\\\\\n",
       "\t45 & 5.1 & 3.8 & 1.9 & 0.4 & setosa\\\\\n",
       "\t46 & 4.8 & 3.0 & 1.4 & 0.3 & setosa\\\\\n",
       "\\end{tabular}\n"
      ],
      "text/markdown": [
       "\n",
       "A data.frame: 14 × 5\n",
       "\n",
       "| <!--/--> | Sepal.Length &lt;dbl&gt; | Sepal.Width &lt;dbl&gt; | Petal.Length &lt;dbl&gt; | Petal.Width &lt;dbl&gt; | Species &lt;fct&gt; |\n",
       "|---|---|---|---|---|---|\n",
       "| 6 | 5.4 | 3.9 | 1.7 | 0.4 | setosa |\n",
       "| 7 | 4.6 | 3.4 | 1.4 | 0.3 | setosa |\n",
       "| 16 | 5.7 | 4.4 | 1.5 | 0.4 | setosa |\n",
       "| 17 | 5.4 | 3.9 | 1.3 | 0.4 | setosa |\n",
       "| 18 | 5.1 | 3.5 | 1.4 | 0.3 | setosa |\n",
       "| 19 | 5.7 | 3.8 | 1.7 | 0.3 | setosa |\n",
       "| 20 | 5.1 | 3.8 | 1.5 | 0.3 | setosa |\n",
       "| 22 | 5.1 | 3.7 | 1.5 | 0.4 | setosa |\n",
       "| 27 | 5.0 | 3.4 | 1.6 | 0.4 | setosa |\n",
       "| 32 | 5.4 | 3.4 | 1.5 | 0.4 | setosa |\n",
       "| 41 | 5.0 | 3.5 | 1.3 | 0.3 | setosa |\n",
       "| 42 | 4.5 | 2.3 | 1.3 | 0.3 | setosa |\n",
       "| 45 | 5.1 | 3.8 | 1.9 | 0.4 | setosa |\n",
       "| 46 | 4.8 | 3.0 | 1.4 | 0.3 | setosa |\n",
       "\n"
      ],
      "text/plain": [
       "   Sepal.Length Sepal.Width Petal.Length Petal.Width Species\n",
       "6  5.4          3.9         1.7          0.4         setosa \n",
       "7  4.6          3.4         1.4          0.3         setosa \n",
       "16 5.7          4.4         1.5          0.4         setosa \n",
       "17 5.4          3.9         1.3          0.4         setosa \n",
       "18 5.1          3.5         1.4          0.3         setosa \n",
       "19 5.7          3.8         1.7          0.3         setosa \n",
       "20 5.1          3.8         1.5          0.3         setosa \n",
       "22 5.1          3.7         1.5          0.4         setosa \n",
       "27 5.0          3.4         1.6          0.4         setosa \n",
       "32 5.4          3.4         1.5          0.4         setosa \n",
       "41 5.0          3.5         1.3          0.3         setosa \n",
       "42 4.5          2.3         1.3          0.3         setosa \n",
       "45 5.1          3.8         1.9          0.4         setosa \n",
       "46 4.8          3.0         1.4          0.3         setosa "
      ]
     },
     "metadata": {},
     "output_type": "display_data"
    }
   ],
   "source": [
    "iris[which(iris$Petal.Width >= 0.3 & iris$Petal.Width <= 0.4), ]"
   ]
  },
  {
   "cell_type": "code",
   "execution_count": 108,
   "id": "99517b83",
   "metadata": {},
   "outputs": [
    {
     "data": {
      "text/html": [
       "10100"
      ],
      "text/latex": [
       "10100"
      ],
      "text/markdown": [
       "10100"
      ],
      "text/plain": [
       "[1] 10100"
      ]
     },
     "metadata": {},
     "output_type": "display_data"
    }
   ],
   "source": [
    "a <- 0\n",
    "n <- 1\n",
    "s <- 0\n",
    "while(n <= 100){\n",
    "    a <- a + 2\n",
    "    s <- s + a\n",
    "    n <- n + 1\n",
    "}\n",
    "s"
   ]
  },
  {
   "cell_type": "code",
   "execution_count": 115,
   "id": "50217c7a",
   "metadata": {},
   "outputs": [
    {
     "data": {
      "text/html": [
       "1275"
      ],
      "text/latex": [
       "1275"
      ],
      "text/markdown": [
       "1275"
      ],
      "text/plain": [
       "[1] 1275"
      ]
     },
     "metadata": {},
     "output_type": "display_data"
    },
    {
     "data": {
      "text/html": [
       "51"
      ],
      "text/latex": [
       "51"
      ],
      "text/markdown": [
       "51"
      ],
      "text/plain": [
       "[1] 51"
      ]
     },
     "metadata": {},
     "output_type": "display_data"
    },
    {
     "data": {
      "text/html": [
       "22100"
      ],
      "text/latex": [
       "22100"
      ],
      "text/markdown": [
       "22100"
      ],
      "text/plain": [
       "[1] 22100"
      ]
     },
     "metadata": {},
     "output_type": "display_data"
    }
   ],
   "source": [
    "a <- 0\n",
    "s <- 0\n",
    "n <- 1\n",
    "while(n <= 50){\n",
    "    a <- a + n\n",
    "    n <- n + 1\n",
    "    s <- s + a\n",
    "}\n",
    "a\n",
    "n\n",
    "s"
   ]
  },
  {
   "cell_type": "code",
   "execution_count": 120,
   "id": "da2fa67c",
   "metadata": {},
   "outputs": [
    {
     "name": "stdout",
     "output_type": "stream",
     "text": [
      "[1] 2\n",
      "[1] 7\n",
      "[1] 15\n",
      "[1] 26\n",
      "[1] 40\n",
      "[1] 57\n",
      "[1] 77\n",
      "[1] 100\n",
      "[1] 126\n",
      "[1] 155\n",
      "[1] 187\n",
      "[1] 222\n",
      "[1] 260\n",
      "[1] 301\n",
      "[1] 345\n",
      "[1] 392\n",
      "[1] 442\n",
      "[1] 495\n",
      "[1] 551\n",
      "[1] 610\n",
      "[1] 672\n",
      "[1] 737\n",
      "[1] 805\n",
      "[1] 876\n",
      "[1] 950\n",
      "[1] 1027\n",
      "[1] 1107\n",
      "[1] 1190\n",
      "[1] 1276\n",
      "[1] 1365\n",
      "[1] 1457\n",
      "[1] 1552\n",
      "[1] 1650\n",
      "[1] 1751\n",
      "[1] 1855\n",
      "[1] 1962\n",
      "[1] 2072\n",
      "[1] 2185\n",
      "[1] 2301\n",
      "[1] 2420\n",
      "[1] 2542\n",
      "[1] 2667\n",
      "[1] 2795\n",
      "[1] 2926\n",
      "[1] 3060\n",
      "[1] 3197\n",
      "[1] 3337\n",
      "[1] 3480\n",
      "[1] 3626\n",
      "[1] 3775\n"
     ]
    },
    {
     "data": {
      "text/html": [
       "3775"
      ],
      "text/latex": [
       "3775"
      ],
      "text/markdown": [
       "3775"
      ],
      "text/plain": [
       "[1] 3775"
      ]
     },
     "metadata": {},
     "output_type": "display_data"
    }
   ],
   "source": [
    "s <- 0\n",
    "n <- 0\n",
    "while(n < 50){\n",
    "    n <- n + 1\n",
    "    s <- s + (3*n - 1)\n",
    "#     print(n)\n",
    "    print(s)\n",
    "}\n",
    "s"
   ]
  },
  {
   "cell_type": "code",
   "execution_count": 118,
   "id": "5cbbac0e",
   "metadata": {},
   "outputs": [
    {
     "data": {
      "text/html": [
       "2550"
      ],
      "text/latex": [
       "2550"
      ],
      "text/markdown": [
       "2550"
      ],
      "text/plain": [
       "[1] 2550"
      ]
     },
     "metadata": {},
     "output_type": "display_data"
    }
   ],
   "source": [
    "50 * 51"
   ]
  },
  {
   "cell_type": "code",
   "execution_count": 126,
   "id": "651ee066",
   "metadata": {},
   "outputs": [
    {
     "data": {
      "text/html": [
       "66"
      ],
      "text/latex": [
       "66"
      ],
      "text/markdown": [
       "66"
      ],
      "text/plain": [
       "[1] 66"
      ]
     },
     "metadata": {},
     "output_type": "display_data"
    },
    {
     "data": {
      "text/html": [
       "12"
      ],
      "text/latex": [
       "12"
      ],
      "text/markdown": [
       "12"
      ],
      "text/plain": [
       "[1] 12"
      ]
     },
     "metadata": {},
     "output_type": "display_data"
    }
   ],
   "source": [
    "a <- 0\n",
    "n <- 1\n",
    "while(!n > 11){\n",
    "    a <- a + n\n",
    "    n <- n + 1\n",
    "}\n",
    "a\n",
    "n"
   ]
  },
  {
   "cell_type": "code",
   "execution_count": 127,
   "id": "755af0fe",
   "metadata": {},
   "outputs": [],
   "source": [
    "s <- 0\n",
    "n <- 0"
   ]
  },
  {
   "cell_type": "code",
   "execution_count": 128,
   "id": "2cb5f306",
   "metadata": {},
   "outputs": [
    {
     "data": {
      "text/html": [
       "50"
      ],
      "text/latex": [
       "50"
      ],
      "text/markdown": [
       "50"
      ],
      "text/plain": [
       "[1] 50"
      ]
     },
     "metadata": {},
     "output_type": "display_data"
    },
    {
     "data": {
      "text/html": [
       "2500"
      ],
      "text/latex": [
       "2500"
      ],
      "text/markdown": [
       "2500"
      ],
      "text/plain": [
       "[1] 2500"
      ]
     },
     "metadata": {},
     "output_type": "display_data"
    }
   ],
   "source": [
    "while(n != 50){\n",
    "    n <- n + 1\n",
    "    s <- s + 2 * n - 1\n",
    "}\n",
    "n\n",
    "s"
   ]
  },
  {
   "cell_type": "code",
   "execution_count": 129,
   "id": "48847e3d",
   "metadata": {},
   "outputs": [
    {
     "data": {
      "text/html": [
       "10100"
      ],
      "text/latex": [
       "10100"
      ],
      "text/markdown": [
       "10100"
      ],
      "text/plain": [
       "[1] 10100"
      ]
     },
     "metadata": {},
     "output_type": "display_data"
    }
   ],
   "source": [
    "100 * 101"
   ]
  },
  {
   "cell_type": "code",
   "execution_count": 130,
   "id": "c7813bc8",
   "metadata": {},
   "outputs": [
    {
     "data": {
      "text/html": [
       "132"
      ],
      "text/latex": [
       "132"
      ],
      "text/markdown": [
       "132"
      ],
      "text/plain": [
       "[1] 132"
      ]
     },
     "metadata": {},
     "output_type": "display_data"
    }
   ],
   "source": [
    "11 * 12"
   ]
  },
  {
   "cell_type": "code",
   "execution_count": 131,
   "id": "e28a6d86",
   "metadata": {},
   "outputs": [
    {
     "data": {
      "text/html": [
       "66"
      ],
      "text/latex": [
       "66"
      ],
      "text/markdown": [
       "66"
      ],
      "text/plain": [
       "[1] 66"
      ]
     },
     "metadata": {},
     "output_type": "display_data"
    }
   ],
   "source": [
    "132/ 2"
   ]
  },
  {
   "cell_type": "code",
   "execution_count": 135,
   "id": "5d4dc31c",
   "metadata": {},
   "outputs": [],
   "source": [
    "a <- 0\n",
    "n <- 1\n",
    "while(){\n",
    "    print(n)\n",
    "    n <- n + 1\n",
    "}"
   ]
  },
  {
   "cell_type": "code",
   "execution_count": null,
   "id": "846f06e1",
   "metadata": {},
   "outputs": [],
   "source": [
    "a <- 0\n",
    "n <- 1\n",
    "while(n < 11){\n",
    "    print(n)\n",
    "}"
   ]
  }
 ],
 "metadata": {
  "kernelspec": {
   "display_name": "R",
   "language": "R",
   "name": "ir"
  },
  "language_info": {
   "codemirror_mode": "r",
   "file_extension": ".r",
   "mimetype": "text/x-r-source",
   "name": "R",
   "pygments_lexer": "r",
   "version": "4.3.1"
  }
 },
 "nbformat": 4,
 "nbformat_minor": 5
}
