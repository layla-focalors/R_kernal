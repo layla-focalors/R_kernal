{
 "cells": [
  {
   "cell_type": "code",
   "execution_count": 1,
   "id": "58dc5569",
   "metadata": {},
   "outputs": [],
   "source": [
    "d1 <- 1:50\n",
    "d2 <- 51:100"
   ]
  },
  {
   "cell_type": "code",
   "execution_count": 2,
   "id": "ca06df1b",
   "metadata": {},
   "outputs": [
    {
     "data": {
      "text/html": [
       "<style>\n",
       ".list-inline {list-style: none; margin:0; padding: 0}\n",
       ".list-inline>li {display: inline-block}\n",
       ".list-inline>li:not(:last-child)::after {content: \"\\00b7\"; padding: 0 .5ex}\n",
       "</style>\n",
       "<ol class=list-inline><li>1</li><li>2</li><li>3</li><li>4</li><li>5</li><li>6</li><li>7</li><li>8</li><li>9</li><li>10</li><li>11</li><li>12</li><li>13</li><li>14</li><li>15</li><li>16</li><li>17</li><li>18</li><li>19</li><li>20</li><li>21</li><li>22</li><li>23</li><li>24</li><li>25</li><li>26</li><li>27</li><li>28</li><li>29</li><li>30</li><li>31</li><li>32</li><li>33</li><li>34</li><li>35</li><li>36</li><li>37</li><li>38</li><li>39</li><li>40</li><li>41</li><li>42</li><li>43</li><li>44</li><li>45</li><li>46</li><li>47</li><li>48</li><li>49</li><li>50</li></ol>\n"
      ],
      "text/latex": [
       "\\begin{enumerate*}\n",
       "\\item 1\n",
       "\\item 2\n",
       "\\item 3\n",
       "\\item 4\n",
       "\\item 5\n",
       "\\item 6\n",
       "\\item 7\n",
       "\\item 8\n",
       "\\item 9\n",
       "\\item 10\n",
       "\\item 11\n",
       "\\item 12\n",
       "\\item 13\n",
       "\\item 14\n",
       "\\item 15\n",
       "\\item 16\n",
       "\\item 17\n",
       "\\item 18\n",
       "\\item 19\n",
       "\\item 20\n",
       "\\item 21\n",
       "\\item 22\n",
       "\\item 23\n",
       "\\item 24\n",
       "\\item 25\n",
       "\\item 26\n",
       "\\item 27\n",
       "\\item 28\n",
       "\\item 29\n",
       "\\item 30\n",
       "\\item 31\n",
       "\\item 32\n",
       "\\item 33\n",
       "\\item 34\n",
       "\\item 35\n",
       "\\item 36\n",
       "\\item 37\n",
       "\\item 38\n",
       "\\item 39\n",
       "\\item 40\n",
       "\\item 41\n",
       "\\item 42\n",
       "\\item 43\n",
       "\\item 44\n",
       "\\item 45\n",
       "\\item 46\n",
       "\\item 47\n",
       "\\item 48\n",
       "\\item 49\n",
       "\\item 50\n",
       "\\end{enumerate*}\n"
      ],
      "text/markdown": [
       "1. 1\n",
       "2. 2\n",
       "3. 3\n",
       "4. 4\n",
       "5. 5\n",
       "6. 6\n",
       "7. 7\n",
       "8. 8\n",
       "9. 9\n",
       "10. 10\n",
       "11. 11\n",
       "12. 12\n",
       "13. 13\n",
       "14. 14\n",
       "15. 15\n",
       "16. 16\n",
       "17. 17\n",
       "18. 18\n",
       "19. 19\n",
       "20. 20\n",
       "21. 21\n",
       "22. 22\n",
       "23. 23\n",
       "24. 24\n",
       "25. 25\n",
       "26. 26\n",
       "27. 27\n",
       "28. 28\n",
       "29. 29\n",
       "30. 30\n",
       "31. 31\n",
       "32. 32\n",
       "33. 33\n",
       "34. 34\n",
       "35. 35\n",
       "36. 36\n",
       "37. 37\n",
       "38. 38\n",
       "39. 39\n",
       "40. 40\n",
       "41. 41\n",
       "42. 42\n",
       "43. 43\n",
       "44. 44\n",
       "45. 45\n",
       "46. 46\n",
       "47. 47\n",
       "48. 48\n",
       "49. 49\n",
       "50. 50\n",
       "\n",
       "\n"
      ],
      "text/plain": [
       " [1]  1  2  3  4  5  6  7  8  9 10 11 12 13 14 15 16 17 18 19 20 21 22 23 24 25\n",
       "[26] 26 27 28 29 30 31 32 33 34 35 36 37 38 39 40 41 42 43 44 45 46 47 48 49 50"
      ]
     },
     "metadata": {},
     "output_type": "display_data"
    }
   ],
   "source": [
    "d1"
   ]
  },
  {
   "cell_type": "code",
   "execution_count": 3,
   "id": "dee0ebf7",
   "metadata": {},
   "outputs": [
    {
     "data": {
      "text/html": [
       "<style>\n",
       ".list-inline {list-style: none; margin:0; padding: 0}\n",
       ".list-inline>li {display: inline-block}\n",
       ".list-inline>li:not(:last-child)::after {content: \"\\00b7\"; padding: 0 .5ex}\n",
       "</style>\n",
       "<ol class=list-inline><li>51</li><li>52</li><li>53</li><li>54</li><li>55</li><li>56</li><li>57</li><li>58</li><li>59</li><li>60</li><li>61</li><li>62</li><li>63</li><li>64</li><li>65</li><li>66</li><li>67</li><li>68</li><li>69</li><li>70</li><li>71</li><li>72</li><li>73</li><li>74</li><li>75</li><li>76</li><li>77</li><li>78</li><li>79</li><li>80</li><li>81</li><li>82</li><li>83</li><li>84</li><li>85</li><li>86</li><li>87</li><li>88</li><li>89</li><li>90</li><li>91</li><li>92</li><li>93</li><li>94</li><li>95</li><li>96</li><li>97</li><li>98</li><li>99</li><li>100</li></ol>\n"
      ],
      "text/latex": [
       "\\begin{enumerate*}\n",
       "\\item 51\n",
       "\\item 52\n",
       "\\item 53\n",
       "\\item 54\n",
       "\\item 55\n",
       "\\item 56\n",
       "\\item 57\n",
       "\\item 58\n",
       "\\item 59\n",
       "\\item 60\n",
       "\\item 61\n",
       "\\item 62\n",
       "\\item 63\n",
       "\\item 64\n",
       "\\item 65\n",
       "\\item 66\n",
       "\\item 67\n",
       "\\item 68\n",
       "\\item 69\n",
       "\\item 70\n",
       "\\item 71\n",
       "\\item 72\n",
       "\\item 73\n",
       "\\item 74\n",
       "\\item 75\n",
       "\\item 76\n",
       "\\item 77\n",
       "\\item 78\n",
       "\\item 79\n",
       "\\item 80\n",
       "\\item 81\n",
       "\\item 82\n",
       "\\item 83\n",
       "\\item 84\n",
       "\\item 85\n",
       "\\item 86\n",
       "\\item 87\n",
       "\\item 88\n",
       "\\item 89\n",
       "\\item 90\n",
       "\\item 91\n",
       "\\item 92\n",
       "\\item 93\n",
       "\\item 94\n",
       "\\item 95\n",
       "\\item 96\n",
       "\\item 97\n",
       "\\item 98\n",
       "\\item 99\n",
       "\\item 100\n",
       "\\end{enumerate*}\n"
      ],
      "text/markdown": [
       "1. 51\n",
       "2. 52\n",
       "3. 53\n",
       "4. 54\n",
       "5. 55\n",
       "6. 56\n",
       "7. 57\n",
       "8. 58\n",
       "9. 59\n",
       "10. 60\n",
       "11. 61\n",
       "12. 62\n",
       "13. 63\n",
       "14. 64\n",
       "15. 65\n",
       "16. 66\n",
       "17. 67\n",
       "18. 68\n",
       "19. 69\n",
       "20. 70\n",
       "21. 71\n",
       "22. 72\n",
       "23. 73\n",
       "24. 74\n",
       "25. 75\n",
       "26. 76\n",
       "27. 77\n",
       "28. 78\n",
       "29. 79\n",
       "30. 80\n",
       "31. 81\n",
       "32. 82\n",
       "33. 83\n",
       "34. 84\n",
       "35. 85\n",
       "36. 86\n",
       "37. 87\n",
       "38. 88\n",
       "39. 89\n",
       "40. 90\n",
       "41. 91\n",
       "42. 92\n",
       "43. 93\n",
       "44. 94\n",
       "45. 95\n",
       "46. 96\n",
       "47. 97\n",
       "48. 98\n",
       "49. 99\n",
       "50. 100\n",
       "\n",
       "\n"
      ],
      "text/plain": [
       " [1]  51  52  53  54  55  56  57  58  59  60  61  62  63  64  65  66  67  68  69\n",
       "[20]  70  71  72  73  74  75  76  77  78  79  80  81  82  83  84  85  86  87  88\n",
       "[39]  89  90  91  92  93  94  95  96  97  98  99 100"
      ]
     },
     "metadata": {},
     "output_type": "display_data"
    }
   ],
   "source": [
    "d2"
   ]
  },
  {
   "cell_type": "code",
   "execution_count": 5,
   "id": "af65e95d",
   "metadata": {},
   "outputs": [
    {
     "data": {
      "text/html": [
       "1275"
      ],
      "text/latex": [
       "1275"
      ],
      "text/markdown": [
       "1275"
      ],
      "text/plain": [
       "[1] 1275"
      ]
     },
     "metadata": {},
     "output_type": "display_data"
    }
   ],
   "source": [
    "sum(d1)"
   ]
  },
  {
   "cell_type": "code",
   "execution_count": 6,
   "id": "4944d10e",
   "metadata": {},
   "outputs": [
    {
     "data": {
      "text/html": [
       "3775"
      ],
      "text/latex": [
       "3775"
      ],
      "text/markdown": [
       "3775"
      ],
      "text/plain": [
       "[1] 3775"
      ]
     },
     "metadata": {},
     "output_type": "display_data"
    }
   ],
   "source": [
    "sum(d2)"
   ]
  },
  {
   "cell_type": "code",
   "execution_count": 7,
   "id": "fc48e35f",
   "metadata": {},
   "outputs": [
    {
     "data": {
      "text/html": [
       "100"
      ],
      "text/latex": [
       "100"
      ],
      "text/markdown": [
       "100"
      ],
      "text/plain": [
       "[1] 100"
      ]
     },
     "metadata": {},
     "output_type": "display_data"
    }
   ],
   "source": [
    "max(d2)"
   ]
  },
  {
   "cell_type": "code",
   "execution_count": 8,
   "id": "322cd8db",
   "metadata": {},
   "outputs": [
    {
     "data": {
      "text/html": [
       "51"
      ],
      "text/latex": [
       "51"
      ],
      "text/markdown": [
       "51"
      ],
      "text/plain": [
       "[1] 51"
      ]
     },
     "metadata": {},
     "output_type": "display_data"
    }
   ],
   "source": [
    "min(d2)"
   ]
  },
  {
   "cell_type": "code",
   "execution_count": 9,
   "id": "33f31054",
   "metadata": {},
   "outputs": [],
   "source": [
    "mean.d1 <- mean(d1)\n",
    "mean.d2 <- mean(d2)"
   ]
  },
  {
   "cell_type": "code",
   "execution_count": 10,
   "id": "eea5e8b8",
   "metadata": {},
   "outputs": [
    {
     "data": {
      "text/html": [
       "50"
      ],
      "text/latex": [
       "50"
      ],
      "text/markdown": [
       "50"
      ],
      "text/plain": [
       "[1] 50"
      ]
     },
     "metadata": {},
     "output_type": "display_data"
    }
   ],
   "source": [
    "mean.d2 - mean.d1"
   ]
  },
  {
   "cell_type": "code",
   "execution_count": 11,
   "id": "18dba93a",
   "metadata": {},
   "outputs": [
    {
     "data": {
      "text/html": [
       "<style>\n",
       ".list-inline {list-style: none; margin:0; padding: 0}\n",
       ".list-inline>li {display: inline-block}\n",
       ".list-inline>li:not(:last-child)::after {content: \"\\00b7\"; padding: 0 .5ex}\n",
       "</style>\n",
       "<ol class=list-inline><li>50</li><li>49</li><li>48</li><li>47</li><li>46</li><li>45</li><li>44</li><li>43</li><li>42</li><li>41</li><li>40</li><li>39</li><li>38</li><li>37</li><li>36</li><li>35</li><li>34</li><li>33</li><li>32</li><li>31</li><li>30</li><li>29</li><li>28</li><li>27</li><li>26</li><li>25</li><li>24</li><li>23</li><li>22</li><li>21</li><li>20</li><li>19</li><li>18</li><li>17</li><li>16</li><li>15</li><li>14</li><li>13</li><li>12</li><li>11</li><li>10</li><li>9</li><li>8</li><li>7</li><li>6</li><li>5</li><li>4</li><li>3</li><li>2</li><li>1</li></ol>\n"
      ],
      "text/latex": [
       "\\begin{enumerate*}\n",
       "\\item 50\n",
       "\\item 49\n",
       "\\item 48\n",
       "\\item 47\n",
       "\\item 46\n",
       "\\item 45\n",
       "\\item 44\n",
       "\\item 43\n",
       "\\item 42\n",
       "\\item 41\n",
       "\\item 40\n",
       "\\item 39\n",
       "\\item 38\n",
       "\\item 37\n",
       "\\item 36\n",
       "\\item 35\n",
       "\\item 34\n",
       "\\item 33\n",
       "\\item 32\n",
       "\\item 31\n",
       "\\item 30\n",
       "\\item 29\n",
       "\\item 28\n",
       "\\item 27\n",
       "\\item 26\n",
       "\\item 25\n",
       "\\item 24\n",
       "\\item 23\n",
       "\\item 22\n",
       "\\item 21\n",
       "\\item 20\n",
       "\\item 19\n",
       "\\item 18\n",
       "\\item 17\n",
       "\\item 16\n",
       "\\item 15\n",
       "\\item 14\n",
       "\\item 13\n",
       "\\item 12\n",
       "\\item 11\n",
       "\\item 10\n",
       "\\item 9\n",
       "\\item 8\n",
       "\\item 7\n",
       "\\item 6\n",
       "\\item 5\n",
       "\\item 4\n",
       "\\item 3\n",
       "\\item 2\n",
       "\\item 1\n",
       "\\end{enumerate*}\n"
      ],
      "text/markdown": [
       "1. 50\n",
       "2. 49\n",
       "3. 48\n",
       "4. 47\n",
       "5. 46\n",
       "6. 45\n",
       "7. 44\n",
       "8. 43\n",
       "9. 42\n",
       "10. 41\n",
       "11. 40\n",
       "12. 39\n",
       "13. 38\n",
       "14. 37\n",
       "15. 36\n",
       "16. 35\n",
       "17. 34\n",
       "18. 33\n",
       "19. 32\n",
       "20. 31\n",
       "21. 30\n",
       "22. 29\n",
       "23. 28\n",
       "24. 27\n",
       "25. 26\n",
       "26. 25\n",
       "27. 24\n",
       "28. 23\n",
       "29. 22\n",
       "30. 21\n",
       "31. 20\n",
       "32. 19\n",
       "33. 18\n",
       "34. 17\n",
       "35. 16\n",
       "36. 15\n",
       "37. 14\n",
       "38. 13\n",
       "39. 12\n",
       "40. 11\n",
       "41. 10\n",
       "42. 9\n",
       "43. 8\n",
       "44. 7\n",
       "45. 6\n",
       "46. 5\n",
       "47. 4\n",
       "48. 3\n",
       "49. 2\n",
       "50. 1\n",
       "\n",
       "\n"
      ],
      "text/plain": [
       " [1] 50 49 48 47 46 45 44 43 42 41 40 39 38 37 36 35 34 33 32 31 30 29 28 27 26\n",
       "[26] 25 24 23 22 21 20 19 18 17 16 15 14 13 12 11 10  9  8  7  6  5  4  3  2  1"
      ]
     },
     "metadata": {},
     "output_type": "display_data"
    }
   ],
   "source": [
    "sort(d1, T)"
   ]
  },
  {
   "cell_type": "code",
   "execution_count": 15,
   "id": "688c657a",
   "metadata": {},
   "outputs": [
    {
     "data": {
      "text/html": [
       "<style>\n",
       ".list-inline {list-style: none; margin:0; padding: 0}\n",
       ".list-inline>li {display: inline-block}\n",
       ".list-inline>li:not(:last-child)::after {content: \"\\00b7\"; padding: 0 .5ex}\n",
       "</style>\n",
       "<ol class=list-inline><li>51</li><li>52</li><li>53</li><li>54</li><li>55</li><li>56</li><li>57</li><li>58</li><li>59</li><li>60</li><li>51</li><li>52</li><li>53</li><li>54</li><li>55</li><li>56</li><li>57</li><li>58</li><li>59</li><li>60</li></ol>\n"
      ],
      "text/latex": [
       "\\begin{enumerate*}\n",
       "\\item 51\n",
       "\\item 52\n",
       "\\item 53\n",
       "\\item 54\n",
       "\\item 55\n",
       "\\item 56\n",
       "\\item 57\n",
       "\\item 58\n",
       "\\item 59\n",
       "\\item 60\n",
       "\\item 51\n",
       "\\item 52\n",
       "\\item 53\n",
       "\\item 54\n",
       "\\item 55\n",
       "\\item 56\n",
       "\\item 57\n",
       "\\item 58\n",
       "\\item 59\n",
       "\\item 60\n",
       "\\end{enumerate*}\n"
      ],
      "text/markdown": [
       "1. 51\n",
       "2. 52\n",
       "3. 53\n",
       "4. 54\n",
       "5. 55\n",
       "6. 56\n",
       "7. 57\n",
       "8. 58\n",
       "9. 59\n",
       "10. 60\n",
       "11. 51\n",
       "12. 52\n",
       "13. 53\n",
       "14. 54\n",
       "15. 55\n",
       "16. 56\n",
       "17. 57\n",
       "18. 58\n",
       "19. 59\n",
       "20. 60\n",
       "\n",
       "\n"
      ],
      "text/plain": [
       " [1] 51 52 53 54 55 56 57 58 59 60 51 52 53 54 55 56 57 58 59 60"
      ]
     },
     "metadata": {},
     "output_type": "display_data"
    }
   ],
   "source": [
    "d.3 <- c(d2[1:10], d2[1:10])\n",
    "d.3"
   ]
  },
  {
   "cell_type": "code",
   "execution_count": 16,
   "id": "b3640661",
   "metadata": {},
   "outputs": [
    {
     "data": {
      "text/html": [
       "20"
      ],
      "text/latex": [
       "20"
      ],
      "text/markdown": [
       "20"
      ],
      "text/plain": [
       "[1] 20"
      ]
     },
     "metadata": {},
     "output_type": "display_data"
    }
   ],
   "source": [
    "length(d.3)"
   ]
  },
  {
   "cell_type": "code",
   "execution_count": 18,
   "id": "e6557e7c",
   "metadata": {},
   "outputs": [
    {
     "data": {
      "text/html": [
       "<style>\n",
       ".list-inline {list-style: none; margin:0; padding: 0}\n",
       ".list-inline>li {display: inline-block}\n",
       ".list-inline>li:not(:last-child)::after {content: \"\\00b7\"; padding: 0 .5ex}\n",
       "</style>\n",
       "<ol class=list-inline><li>51</li><li>52</li><li>53</li><li>54</li><li>55</li><li>56</li><li>57</li><li>58</li><li>59</li><li>60</li><li>61</li><li>62</li><li>63</li><li>64</li><li>65</li><li>66</li><li>67</li><li>68</li><li>69</li><li>70</li><li>71</li><li>72</li><li>73</li><li>74</li><li>75</li><li>76</li><li>77</li><li>78</li><li>79</li><li>80</li><li>81</li><li>82</li><li>83</li><li>84</li><li>85</li><li>86</li><li>87</li><li>88</li><li>89</li><li>90</li></ol>\n"
      ],
      "text/latex": [
       "\\begin{enumerate*}\n",
       "\\item 51\n",
       "\\item 52\n",
       "\\item 53\n",
       "\\item 54\n",
       "\\item 55\n",
       "\\item 56\n",
       "\\item 57\n",
       "\\item 58\n",
       "\\item 59\n",
       "\\item 60\n",
       "\\item 61\n",
       "\\item 62\n",
       "\\item 63\n",
       "\\item 64\n",
       "\\item 65\n",
       "\\item 66\n",
       "\\item 67\n",
       "\\item 68\n",
       "\\item 69\n",
       "\\item 70\n",
       "\\item 71\n",
       "\\item 72\n",
       "\\item 73\n",
       "\\item 74\n",
       "\\item 75\n",
       "\\item 76\n",
       "\\item 77\n",
       "\\item 78\n",
       "\\item 79\n",
       "\\item 80\n",
       "\\item 81\n",
       "\\item 82\n",
       "\\item 83\n",
       "\\item 84\n",
       "\\item 85\n",
       "\\item 86\n",
       "\\item 87\n",
       "\\item 88\n",
       "\\item 89\n",
       "\\item 90\n",
       "\\end{enumerate*}\n"
      ],
      "text/markdown": [
       "1. 51\n",
       "2. 52\n",
       "3. 53\n",
       "4. 54\n",
       "5. 55\n",
       "6. 56\n",
       "7. 57\n",
       "8. 58\n",
       "9. 59\n",
       "10. 60\n",
       "11. 61\n",
       "12. 62\n",
       "13. 63\n",
       "14. 64\n",
       "15. 65\n",
       "16. 66\n",
       "17. 67\n",
       "18. 68\n",
       "19. 69\n",
       "20. 70\n",
       "21. 71\n",
       "22. 72\n",
       "23. 73\n",
       "24. 74\n",
       "25. 75\n",
       "26. 76\n",
       "27. 77\n",
       "28. 78\n",
       "29. 79\n",
       "30. 80\n",
       "31. 81\n",
       "32. 82\n",
       "33. 83\n",
       "34. 84\n",
       "35. 85\n",
       "36. 86\n",
       "37. 87\n",
       "38. 88\n",
       "39. 89\n",
       "40. 90\n",
       "\n",
       "\n"
      ],
      "text/plain": [
       " [1] 51 52 53 54 55 56 57 58 59 60 61 62 63 64 65 66 67 68 69 70 71 72 73 74 75\n",
       "[26] 76 77 78 79 80 81 82 83 84 85 86 87 88 89 90"
      ]
     },
     "metadata": {},
     "output_type": "display_data"
    }
   ],
   "source": [
    "v1 <- 51:90\n",
    "v1"
   ]
  },
  {
   "cell_type": "code",
   "execution_count": 19,
   "id": "68a194da",
   "metadata": {},
   "outputs": [
    {
     "data": {
      "text/html": [
       "<style>\n",
       ".list-inline {list-style: none; margin:0; padding: 0}\n",
       ".list-inline>li {display: inline-block}\n",
       ".list-inline>li:not(:last-child)::after {content: \"\\00b7\"; padding: 0 .5ex}\n",
       "</style>\n",
       "<ol class=list-inline><li>51</li><li>52</li><li>53</li><li>54</li><li>55</li><li>56</li><li>57</li><li>58</li><li>59</li></ol>\n"
      ],
      "text/latex": [
       "\\begin{enumerate*}\n",
       "\\item 51\n",
       "\\item 52\n",
       "\\item 53\n",
       "\\item 54\n",
       "\\item 55\n",
       "\\item 56\n",
       "\\item 57\n",
       "\\item 58\n",
       "\\item 59\n",
       "\\end{enumerate*}\n"
      ],
      "text/markdown": [
       "1. 51\n",
       "2. 52\n",
       "3. 53\n",
       "4. 54\n",
       "5. 55\n",
       "6. 56\n",
       "7. 57\n",
       "8. 58\n",
       "9. 59\n",
       "\n",
       "\n"
      ],
      "text/plain": [
       "[1] 51 52 53 54 55 56 57 58 59"
      ]
     },
     "metadata": {},
     "output_type": "display_data"
    }
   ],
   "source": [
    "v1[v1 < 60]"
   ]
  },
  {
   "cell_type": "code",
   "execution_count": 20,
   "id": "d738efe1",
   "metadata": {},
   "outputs": [
    {
     "data": {
      "text/html": [
       "19"
      ],
      "text/latex": [
       "19"
      ],
      "text/markdown": [
       "19"
      ],
      "text/plain": [
       "[1] 19"
      ]
     },
     "metadata": {},
     "output_type": "display_data"
    }
   ],
   "source": [
    "length(v1[v1 < 70])"
   ]
  },
  {
   "cell_type": "code",
   "execution_count": 21,
   "id": "4103c06b",
   "metadata": {},
   "outputs": [
    {
     "data": {
      "text/html": [
       "<style>\n",
       ".list-inline {list-style: none; margin:0; padding: 0}\n",
       ".list-inline>li {display: inline-block}\n",
       ".list-inline>li:not(:last-child)::after {content: \"\\00b7\"; padding: 0 .5ex}\n",
       "</style>\n",
       "<ol class=list-inline><li>51</li><li>52</li><li>53</li><li>54</li><li>55</li><li>56</li><li>57</li><li>58</li><li>59</li><li>60</li><li>61</li><li>62</li><li>63</li><li>64</li><li>65</li><li>66</li><li>67</li><li>68</li><li>69</li></ol>\n"
      ],
      "text/latex": [
       "\\begin{enumerate*}\n",
       "\\item 51\n",
       "\\item 52\n",
       "\\item 53\n",
       "\\item 54\n",
       "\\item 55\n",
       "\\item 56\n",
       "\\item 57\n",
       "\\item 58\n",
       "\\item 59\n",
       "\\item 60\n",
       "\\item 61\n",
       "\\item 62\n",
       "\\item 63\n",
       "\\item 64\n",
       "\\item 65\n",
       "\\item 66\n",
       "\\item 67\n",
       "\\item 68\n",
       "\\item 69\n",
       "\\end{enumerate*}\n"
      ],
      "text/markdown": [
       "1. 51\n",
       "2. 52\n",
       "3. 53\n",
       "4. 54\n",
       "5. 55\n",
       "6. 56\n",
       "7. 57\n",
       "8. 58\n",
       "9. 59\n",
       "10. 60\n",
       "11. 61\n",
       "12. 62\n",
       "13. 63\n",
       "14. 64\n",
       "15. 65\n",
       "16. 66\n",
       "17. 67\n",
       "18. 68\n",
       "19. 69\n",
       "\n",
       "\n"
      ],
      "text/plain": [
       " [1] 51 52 53 54 55 56 57 58 59 60 61 62 63 64 65 66 67 68 69"
      ]
     },
     "metadata": {},
     "output_type": "display_data"
    }
   ],
   "source": [
    "v1[v1 < 70]"
   ]
  },
  {
   "cell_type": "code",
   "execution_count": 22,
   "id": "ebf2c2ac",
   "metadata": {},
   "outputs": [
    {
     "data": {
      "text/html": [
       "1950"
      ],
      "text/latex": [
       "1950"
      ],
      "text/markdown": [
       "1950"
      ],
      "text/plain": [
       "[1] 1950"
      ]
     },
     "metadata": {},
     "output_type": "display_data"
    }
   ],
   "source": [
    "sum(v1[v1 > 65])"
   ]
  },
  {
   "cell_type": "code",
   "execution_count": 24,
   "id": "a082911e",
   "metadata": {},
   "outputs": [
    {
     "data": {
      "text/html": [
       "<style>\n",
       ".list-inline {list-style: none; margin:0; padding: 0}\n",
       ".list-inline>li {display: inline-block}\n",
       ".list-inline>li:not(:last-child)::after {content: \"\\00b7\"; padding: 0 .5ex}\n",
       "</style>\n",
       "<ol class=list-inline><li>61</li><li>62</li><li>63</li><li>64</li><li>65</li><li>66</li><li>67</li><li>68</li><li>69</li><li>70</li><li>71</li><li>72</li></ol>\n"
      ],
      "text/latex": [
       "\\begin{enumerate*}\n",
       "\\item 61\n",
       "\\item 62\n",
       "\\item 63\n",
       "\\item 64\n",
       "\\item 65\n",
       "\\item 66\n",
       "\\item 67\n",
       "\\item 68\n",
       "\\item 69\n",
       "\\item 70\n",
       "\\item 71\n",
       "\\item 72\n",
       "\\end{enumerate*}\n"
      ],
      "text/markdown": [
       "1. 61\n",
       "2. 62\n",
       "3. 63\n",
       "4. 64\n",
       "5. 65\n",
       "6. 66\n",
       "7. 67\n",
       "8. 68\n",
       "9. 69\n",
       "10. 70\n",
       "11. 71\n",
       "12. 72\n",
       "\n",
       "\n"
      ],
      "text/plain": [
       " [1] 61 62 63 64 65 66 67 68 69 70 71 72"
      ]
     },
     "metadata": {},
     "output_type": "display_data"
    }
   ],
   "source": [
    "v1[v1 > 60 & v1 < 73]"
   ]
  },
  {
   "cell_type": "code",
   "execution_count": 25,
   "id": "f70006b8",
   "metadata": {},
   "outputs": [
    {
     "data": {
      "text/html": [
       "<style>\n",
       ".list-inline {list-style: none; margin:0; padding: 0}\n",
       ".list-inline>li {display: inline-block}\n",
       ".list-inline>li:not(:last-child)::after {content: \"\\00b7\"; padding: 0 .5ex}\n",
       "</style>\n",
       "<ol class=list-inline><li>51</li><li>52</li><li>53</li><li>54</li><li>55</li><li>56</li><li>57</li><li>58</li><li>59</li><li>60</li><li>61</li><li>62</li><li>63</li><li>64</li><li>81</li><li>82</li><li>83</li><li>84</li><li>85</li><li>86</li><li>87</li><li>88</li><li>89</li><li>90</li></ol>\n"
      ],
      "text/latex": [
       "\\begin{enumerate*}\n",
       "\\item 51\n",
       "\\item 52\n",
       "\\item 53\n",
       "\\item 54\n",
       "\\item 55\n",
       "\\item 56\n",
       "\\item 57\n",
       "\\item 58\n",
       "\\item 59\n",
       "\\item 60\n",
       "\\item 61\n",
       "\\item 62\n",
       "\\item 63\n",
       "\\item 64\n",
       "\\item 81\n",
       "\\item 82\n",
       "\\item 83\n",
       "\\item 84\n",
       "\\item 85\n",
       "\\item 86\n",
       "\\item 87\n",
       "\\item 88\n",
       "\\item 89\n",
       "\\item 90\n",
       "\\end{enumerate*}\n"
      ],
      "text/markdown": [
       "1. 51\n",
       "2. 52\n",
       "3. 53\n",
       "4. 54\n",
       "5. 55\n",
       "6. 56\n",
       "7. 57\n",
       "8. 58\n",
       "9. 59\n",
       "10. 60\n",
       "11. 61\n",
       "12. 62\n",
       "13. 63\n",
       "14. 64\n",
       "15. 81\n",
       "16. 82\n",
       "17. 83\n",
       "18. 84\n",
       "19. 85\n",
       "20. 86\n",
       "21. 87\n",
       "22. 88\n",
       "23. 89\n",
       "24. 90\n",
       "\n",
       "\n"
      ],
      "text/plain": [
       " [1] 51 52 53 54 55 56 57 58 59 60 61 62 63 64 81 82 83 84 85 86 87 88 89 90"
      ]
     },
     "metadata": {},
     "output_type": "display_data"
    }
   ],
   "source": [
    "v1[v1 < 65 | v1 > 80]"
   ]
  },
  {
   "cell_type": "code",
   "execution_count": 26,
   "id": "3cff9a35",
   "metadata": {},
   "outputs": [
    {
     "data": {
      "text/html": [
       "<style>\n",
       ".list-inline {list-style: none; margin:0; padding: 0}\n",
       ".list-inline>li {display: inline-block}\n",
       ".list-inline>li:not(:last-child)::after {content: \"\\00b7\"; padding: 0 .5ex}\n",
       "</style>\n",
       "<ol class=list-inline><li>56</li><li>63</li><li>70</li><li>77</li><li>84</li></ol>\n"
      ],
      "text/latex": [
       "\\begin{enumerate*}\n",
       "\\item 56\n",
       "\\item 63\n",
       "\\item 70\n",
       "\\item 77\n",
       "\\item 84\n",
       "\\end{enumerate*}\n"
      ],
      "text/markdown": [
       "1. 56\n",
       "2. 63\n",
       "3. 70\n",
       "4. 77\n",
       "5. 84\n",
       "\n",
       "\n"
      ],
      "text/plain": [
       "[1] 56 63 70 77 84"
      ]
     },
     "metadata": {},
     "output_type": "display_data"
    }
   ],
   "source": [
    "v1[v1%%7 == 0]"
   ]
  },
  {
   "cell_type": "code",
   "execution_count": 27,
   "id": "4fc4c3e3",
   "metadata": {},
   "outputs": [],
   "source": [
    "v1[v1%%7==0] <- 0\n",
    "# 7의 배수의 값을 0으로 설정하기"
   ]
  },
  {
   "cell_type": "code",
   "execution_count": 28,
   "id": "acf23a5e",
   "metadata": {},
   "outputs": [
    {
     "data": {
      "text/html": [
       "<style>\n",
       ".list-inline {list-style: none; margin:0; padding: 0}\n",
       ".list-inline>li {display: inline-block}\n",
       ".list-inline>li:not(:last-child)::after {content: \"\\00b7\"; padding: 0 .5ex}\n",
       "</style>\n",
       "<ol class=list-inline><li>51</li><li>52</li><li>53</li><li>54</li><li>55</li><li>0</li><li>57</li><li>58</li><li>59</li><li>60</li><li>61</li><li>62</li><li>0</li><li>64</li><li>65</li><li>66</li><li>67</li><li>68</li><li>69</li><li>0</li><li>71</li><li>72</li><li>73</li><li>74</li><li>75</li><li>76</li><li>0</li><li>78</li><li>79</li><li>80</li><li>81</li><li>82</li><li>83</li><li>0</li><li>85</li><li>86</li><li>87</li><li>88</li><li>89</li><li>90</li></ol>\n"
      ],
      "text/latex": [
       "\\begin{enumerate*}\n",
       "\\item 51\n",
       "\\item 52\n",
       "\\item 53\n",
       "\\item 54\n",
       "\\item 55\n",
       "\\item 0\n",
       "\\item 57\n",
       "\\item 58\n",
       "\\item 59\n",
       "\\item 60\n",
       "\\item 61\n",
       "\\item 62\n",
       "\\item 0\n",
       "\\item 64\n",
       "\\item 65\n",
       "\\item 66\n",
       "\\item 67\n",
       "\\item 68\n",
       "\\item 69\n",
       "\\item 0\n",
       "\\item 71\n",
       "\\item 72\n",
       "\\item 73\n",
       "\\item 74\n",
       "\\item 75\n",
       "\\item 76\n",
       "\\item 0\n",
       "\\item 78\n",
       "\\item 79\n",
       "\\item 80\n",
       "\\item 81\n",
       "\\item 82\n",
       "\\item 83\n",
       "\\item 0\n",
       "\\item 85\n",
       "\\item 86\n",
       "\\item 87\n",
       "\\item 88\n",
       "\\item 89\n",
       "\\item 90\n",
       "\\end{enumerate*}\n"
      ],
      "text/markdown": [
       "1. 51\n",
       "2. 52\n",
       "3. 53\n",
       "4. 54\n",
       "5. 55\n",
       "6. 0\n",
       "7. 57\n",
       "8. 58\n",
       "9. 59\n",
       "10. 60\n",
       "11. 61\n",
       "12. 62\n",
       "13. 0\n",
       "14. 64\n",
       "15. 65\n",
       "16. 66\n",
       "17. 67\n",
       "18. 68\n",
       "19. 69\n",
       "20. 0\n",
       "21. 71\n",
       "22. 72\n",
       "23. 73\n",
       "24. 74\n",
       "25. 75\n",
       "26. 76\n",
       "27. 0\n",
       "28. 78\n",
       "29. 79\n",
       "30. 80\n",
       "31. 81\n",
       "32. 82\n",
       "33. 83\n",
       "34. 0\n",
       "35. 85\n",
       "36. 86\n",
       "37. 87\n",
       "38. 88\n",
       "39. 89\n",
       "40. 90\n",
       "\n",
       "\n"
      ],
      "text/plain": [
       " [1] 51 52 53 54 55  0 57 58 59 60 61 62  0 64 65 66 67 68 69  0 71 72 73 74 75\n",
       "[26] 76  0 78 79 80 81 82 83  0 85 86 87 88 89 90"
      ]
     },
     "metadata": {},
     "output_type": "display_data"
    }
   ],
   "source": [
    "v1"
   ]
  },
  {
   "cell_type": "code",
   "execution_count": 29,
   "id": "a09af0a7",
   "metadata": {},
   "outputs": [
    {
     "data": {
      "text/html": [
       "<style>\n",
       ".list-inline {list-style: none; margin:0; padding: 0}\n",
       ".list-inline>li {display: inline-block}\n",
       ".list-inline>li:not(:last-child)::after {content: \"\\00b7\"; padding: 0 .5ex}\n",
       "</style>\n",
       "<ol class=list-inline><li>52</li><li>59</li><li>66</li><li>73</li><li>80</li><li>87</li></ol>\n"
      ],
      "text/latex": [
       "\\begin{enumerate*}\n",
       "\\item 52\n",
       "\\item 59\n",
       "\\item 66\n",
       "\\item 73\n",
       "\\item 80\n",
       "\\item 87\n",
       "\\end{enumerate*}\n"
      ],
      "text/markdown": [
       "1. 52\n",
       "2. 59\n",
       "3. 66\n",
       "4. 73\n",
       "5. 80\n",
       "6. 87\n",
       "\n",
       "\n"
      ],
      "text/plain": [
       "[1] 52 59 66 73 80 87"
      ]
     },
     "metadata": {},
     "output_type": "display_data"
    }
   ],
   "source": [
    "v1[v1%%7==3]"
   ]
  },
  {
   "cell_type": "code",
   "execution_count": 30,
   "id": "0668fee9",
   "metadata": {},
   "outputs": [
    {
     "data": {
      "text/html": [
       "1210"
      ],
      "text/latex": [
       "1210"
      ],
      "text/markdown": [
       "1210"
      ],
      "text/plain": [
       "[1] 1210"
      ]
     },
     "metadata": {},
     "output_type": "display_data"
    }
   ],
   "source": [
    "sum(v1[v1%%2==0])"
   ]
  },
  {
   "cell_type": "code",
   "execution_count": 31,
   "id": "495320e9",
   "metadata": {},
   "outputs": [
    {
     "data": {
      "text/html": [
       "<style>\n",
       ".list-inline {list-style: none; margin:0; padding: 0}\n",
       ".list-inline>li {display: inline-block}\n",
       ".list-inline>li:not(:last-child)::after {content: \"\\00b7\"; padding: 0 .5ex}\n",
       "</style>\n",
       "<ol class=list-inline><li>51</li><li>53</li><li>55</li><li>57</li><li>59</li><li>61</li><li>65</li><li>67</li><li>69</li><li>71</li><li>73</li><li>75</li><li>79</li><li>81</li><li>82</li><li>83</li><li>85</li><li>86</li><li>87</li><li>88</li><li>89</li><li>90</li></ol>\n"
      ],
      "text/latex": [
       "\\begin{enumerate*}\n",
       "\\item 51\n",
       "\\item 53\n",
       "\\item 55\n",
       "\\item 57\n",
       "\\item 59\n",
       "\\item 61\n",
       "\\item 65\n",
       "\\item 67\n",
       "\\item 69\n",
       "\\item 71\n",
       "\\item 73\n",
       "\\item 75\n",
       "\\item 79\n",
       "\\item 81\n",
       "\\item 82\n",
       "\\item 83\n",
       "\\item 85\n",
       "\\item 86\n",
       "\\item 87\n",
       "\\item 88\n",
       "\\item 89\n",
       "\\item 90\n",
       "\\end{enumerate*}\n"
      ],
      "text/markdown": [
       "1. 51\n",
       "2. 53\n",
       "3. 55\n",
       "4. 57\n",
       "5. 59\n",
       "6. 61\n",
       "7. 65\n",
       "8. 67\n",
       "9. 69\n",
       "10. 71\n",
       "11. 73\n",
       "12. 75\n",
       "13. 79\n",
       "14. 81\n",
       "15. 82\n",
       "16. 83\n",
       "17. 85\n",
       "18. 86\n",
       "19. 87\n",
       "20. 88\n",
       "21. 89\n",
       "22. 90\n",
       "\n",
       "\n"
      ],
      "text/plain": [
       " [1] 51 53 55 57 59 61 65 67 69 71 73 75 79 81 82 83 85 86 87 88 89 90"
      ]
     },
     "metadata": {},
     "output_type": "display_data"
    }
   ],
   "source": [
    "v1[v1%%2==1 | v1 > 80]"
   ]
  },
  {
   "cell_type": "code",
   "execution_count": 32,
   "id": "5286f074",
   "metadata": {},
   "outputs": [
    {
     "data": {
      "text/html": [
       "<style>\n",
       ".list-inline {list-style: none; margin:0; padding: 0}\n",
       ".list-inline>li {display: inline-block}\n",
       ".list-inline>li:not(:last-child)::after {content: \"\\00b7\"; padding: 0 .5ex}\n",
       "</style>\n",
       "<ol class=list-inline><li>51</li><li>54</li><li>55</li><li>0</li><li>57</li><li>60</li><li>0</li><li>65</li><li>66</li><li>69</li><li>0</li><li>72</li><li>75</li><li>0</li><li>78</li><li>80</li><li>81</li><li>0</li><li>85</li><li>87</li><li>90</li></ol>\n"
      ],
      "text/latex": [
       "\\begin{enumerate*}\n",
       "\\item 51\n",
       "\\item 54\n",
       "\\item 55\n",
       "\\item 0\n",
       "\\item 57\n",
       "\\item 60\n",
       "\\item 0\n",
       "\\item 65\n",
       "\\item 66\n",
       "\\item 69\n",
       "\\item 0\n",
       "\\item 72\n",
       "\\item 75\n",
       "\\item 0\n",
       "\\item 78\n",
       "\\item 80\n",
       "\\item 81\n",
       "\\item 0\n",
       "\\item 85\n",
       "\\item 87\n",
       "\\item 90\n",
       "\\end{enumerate*}\n"
      ],
      "text/markdown": [
       "1. 51\n",
       "2. 54\n",
       "3. 55\n",
       "4. 0\n",
       "5. 57\n",
       "6. 60\n",
       "7. 0\n",
       "8. 65\n",
       "9. 66\n",
       "10. 69\n",
       "11. 0\n",
       "12. 72\n",
       "13. 75\n",
       "14. 0\n",
       "15. 78\n",
       "16. 80\n",
       "17. 81\n",
       "18. 0\n",
       "19. 85\n",
       "20. 87\n",
       "21. 90\n",
       "\n",
       "\n"
      ],
      "text/plain": [
       " [1] 51 54 55  0 57 60  0 65 66 69  0 72 75  0 78 80 81  0 85 87 90"
      ]
     },
     "metadata": {},
     "output_type": "display_data"
    }
   ],
   "source": [
    "v1[v1%%3 == 0 | v1%%5==0]"
   ]
  },
  {
   "cell_type": "code",
   "execution_count": 35,
   "id": "7b6195c6",
   "metadata": {},
   "outputs": [],
   "source": [
    "v1[v1%%2==0] <- v1[v1%%2==0] * 2"
   ]
  },
  {
   "cell_type": "code",
   "execution_count": 36,
   "id": "59f71cb9",
   "metadata": {},
   "outputs": [
    {
     "data": {
      "text/html": [
       "<style>\n",
       ".list-inline {list-style: none; margin:0; padding: 0}\n",
       ".list-inline>li {display: inline-block}\n",
       ".list-inline>li:not(:last-child)::after {content: \"\\00b7\"; padding: 0 .5ex}\n",
       "</style>\n",
       "<ol class=list-inline><li>51</li><li>104</li><li>53</li><li>108</li><li>55</li><li>0</li><li>57</li><li>116</li><li>59</li><li>120</li><li>61</li><li>124</li><li>0</li><li>128</li><li>65</li><li>132</li><li>67</li><li>136</li><li>69</li><li>0</li><li>71</li><li>144</li><li>73</li><li>148</li><li>75</li><li>152</li><li>0</li><li>156</li><li>79</li><li>160</li><li>81</li><li>164</li><li>83</li><li>0</li><li>85</li><li>172</li><li>87</li><li>176</li><li>89</li><li>180</li></ol>\n"
      ],
      "text/latex": [
       "\\begin{enumerate*}\n",
       "\\item 51\n",
       "\\item 104\n",
       "\\item 53\n",
       "\\item 108\n",
       "\\item 55\n",
       "\\item 0\n",
       "\\item 57\n",
       "\\item 116\n",
       "\\item 59\n",
       "\\item 120\n",
       "\\item 61\n",
       "\\item 124\n",
       "\\item 0\n",
       "\\item 128\n",
       "\\item 65\n",
       "\\item 132\n",
       "\\item 67\n",
       "\\item 136\n",
       "\\item 69\n",
       "\\item 0\n",
       "\\item 71\n",
       "\\item 144\n",
       "\\item 73\n",
       "\\item 148\n",
       "\\item 75\n",
       "\\item 152\n",
       "\\item 0\n",
       "\\item 156\n",
       "\\item 79\n",
       "\\item 160\n",
       "\\item 81\n",
       "\\item 164\n",
       "\\item 83\n",
       "\\item 0\n",
       "\\item 85\n",
       "\\item 172\n",
       "\\item 87\n",
       "\\item 176\n",
       "\\item 89\n",
       "\\item 180\n",
       "\\end{enumerate*}\n"
      ],
      "text/markdown": [
       "1. 51\n",
       "2. 104\n",
       "3. 53\n",
       "4. 108\n",
       "5. 55\n",
       "6. 0\n",
       "7. 57\n",
       "8. 116\n",
       "9. 59\n",
       "10. 120\n",
       "11. 61\n",
       "12. 124\n",
       "13. 0\n",
       "14. 128\n",
       "15. 65\n",
       "16. 132\n",
       "17. 67\n",
       "18. 136\n",
       "19. 69\n",
       "20. 0\n",
       "21. 71\n",
       "22. 144\n",
       "23. 73\n",
       "24. 148\n",
       "25. 75\n",
       "26. 152\n",
       "27. 0\n",
       "28. 156\n",
       "29. 79\n",
       "30. 160\n",
       "31. 81\n",
       "32. 164\n",
       "33. 83\n",
       "34. 0\n",
       "35. 85\n",
       "36. 172\n",
       "37. 87\n",
       "38. 176\n",
       "39. 89\n",
       "40. 180\n",
       "\n",
       "\n"
      ],
      "text/plain": [
       " [1]  51 104  53 108  55   0  57 116  59 120  61 124   0 128  65 132  67 136  69\n",
       "[20]   0  71 144  73 148  75 152   0 156  79 160  81 164  83   0  85 172  87 176\n",
       "[39]  89 180"
      ]
     },
     "metadata": {},
     "output_type": "display_data"
    }
   ],
   "source": [
    "v1"
   ]
  },
  {
   "cell_type": "code",
   "execution_count": 37,
   "id": "e8e57f3a",
   "metadata": {},
   "outputs": [
    {
     "data": {
      "text/html": [],
      "text/latex": [],
      "text/markdown": [],
      "text/plain": [
       "numeric(0)"
      ]
     },
     "metadata": {},
     "output_type": "display_data"
    }
   ],
   "source": [
    "v1[-v1[v1%%7==0]]"
   ]
  },
  {
   "cell_type": "code",
   "execution_count": 39,
   "id": "d4295c19",
   "metadata": {},
   "outputs": [
    {
     "data": {
      "text/html": [
       "<style>\n",
       ".list-inline {list-style: none; margin:0; padding: 0}\n",
       ".list-inline>li {display: inline-block}\n",
       ".list-inline>li:not(:last-child)::after {content: \"\\00b7\"; padding: 0 .5ex}\n",
       "</style>\n",
       "<ol class=list-inline><li>51</li><li>52</li><li>53</li><li>54</li><li>55</li><li>57</li><li>58</li><li>59</li><li>60</li><li>61</li><li>62</li><li>64</li><li>65</li><li>66</li><li>67</li><li>68</li><li>69</li><li>71</li><li>72</li><li>73</li><li>74</li><li>75</li><li>76</li><li>78</li><li>79</li><li>80</li><li>81</li><li>82</li><li>83</li><li>85</li><li>86</li><li>87</li><li>88</li><li>89</li><li>90</li></ol>\n"
      ],
      "text/latex": [
       "\\begin{enumerate*}\n",
       "\\item 51\n",
       "\\item 52\n",
       "\\item 53\n",
       "\\item 54\n",
       "\\item 55\n",
       "\\item 57\n",
       "\\item 58\n",
       "\\item 59\n",
       "\\item 60\n",
       "\\item 61\n",
       "\\item 62\n",
       "\\item 64\n",
       "\\item 65\n",
       "\\item 66\n",
       "\\item 67\n",
       "\\item 68\n",
       "\\item 69\n",
       "\\item 71\n",
       "\\item 72\n",
       "\\item 73\n",
       "\\item 74\n",
       "\\item 75\n",
       "\\item 76\n",
       "\\item 78\n",
       "\\item 79\n",
       "\\item 80\n",
       "\\item 81\n",
       "\\item 82\n",
       "\\item 83\n",
       "\\item 85\n",
       "\\item 86\n",
       "\\item 87\n",
       "\\item 88\n",
       "\\item 89\n",
       "\\item 90\n",
       "\\end{enumerate*}\n"
      ],
      "text/markdown": [
       "1. 51\n",
       "2. 52\n",
       "3. 53\n",
       "4. 54\n",
       "5. 55\n",
       "6. 57\n",
       "7. 58\n",
       "8. 59\n",
       "9. 60\n",
       "10. 61\n",
       "11. 62\n",
       "12. 64\n",
       "13. 65\n",
       "14. 66\n",
       "15. 67\n",
       "16. 68\n",
       "17. 69\n",
       "18. 71\n",
       "19. 72\n",
       "20. 73\n",
       "21. 74\n",
       "22. 75\n",
       "23. 76\n",
       "24. 78\n",
       "25. 79\n",
       "26. 80\n",
       "27. 81\n",
       "28. 82\n",
       "29. 83\n",
       "30. 85\n",
       "31. 86\n",
       "32. 87\n",
       "33. 88\n",
       "34. 89\n",
       "35. 90\n",
       "\n",
       "\n"
      ],
      "text/plain": [
       " [1] 51 52 53 54 55 57 58 59 60 61 62 64 65 66 67 68 69 71 72 73 74 75 76 78 79\n",
       "[26] 80 81 82 83 85 86 87 88 89 90"
      ]
     },
     "metadata": {},
     "output_type": "display_data"
    }
   ],
   "source": [
    "v2 <- 51:90\n",
    "v2 <- v2[v2%%7 != 0]\n",
    "v2"
   ]
  },
  {
   "cell_type": "code",
   "execution_count": 42,
   "id": "19fbb426",
   "metadata": {},
   "outputs": [
    {
     "data": {
      "text/html": [
       "<style>\n",
       ".list-inline {list-style: none; margin:0; padding: 0}\n",
       ".list-inline>li {display: inline-block}\n",
       ".list-inline>li:not(:last-child)::after {content: \"\\00b7\"; padding: 0 .5ex}\n",
       "</style>\n",
       "<ol class=list-inline><li>56</li><li>63</li><li>70</li><li>77</li><li>84</li></ol>\n"
      ],
      "text/latex": [
       "\\begin{enumerate*}\n",
       "\\item 56\n",
       "\\item 63\n",
       "\\item 70\n",
       "\\item 77\n",
       "\\item 84\n",
       "\\end{enumerate*}\n"
      ],
      "text/markdown": [
       "1. 56\n",
       "2. 63\n",
       "3. 70\n",
       "4. 77\n",
       "5. 84\n",
       "\n",
       "\n"
      ],
      "text/plain": [
       "[1] 56 63 70 77 84"
      ]
     },
     "metadata": {},
     "output_type": "display_data"
    }
   ],
   "source": [
    "v3[v3%%7 == 0]"
   ]
  },
  {
   "cell_type": "code",
   "execution_count": 47,
   "id": "c1b65347",
   "metadata": {},
   "outputs": [],
   "source": [
    "v3 <- 51:90\n",
    "v3 <- v3[-v3[v3%%7==0]]"
   ]
  },
  {
   "cell_type": "code",
   "execution_count": 48,
   "id": "0179d098",
   "metadata": {},
   "outputs": [
    {
     "data": {
      "text/html": [
       "<style>\n",
       ".list-inline {list-style: none; margin:0; padding: 0}\n",
       ".list-inline>li {display: inline-block}\n",
       ".list-inline>li:not(:last-child)::after {content: \"\\00b7\"; padding: 0 .5ex}\n",
       "</style>\n",
       "<ol class=list-inline><li>51</li><li>52</li><li>53</li><li>54</li><li>55</li><li>56</li><li>57</li><li>58</li><li>59</li><li>60</li><li>61</li><li>62</li><li>63</li><li>64</li><li>65</li><li>66</li><li>67</li><li>68</li><li>69</li><li>70</li><li>71</li><li>72</li><li>73</li><li>74</li><li>75</li><li>76</li><li>77</li><li>78</li><li>79</li><li>80</li><li>81</li><li>82</li><li>83</li><li>84</li><li>85</li><li>86</li><li>87</li><li>88</li><li>89</li><li>90</li></ol>\n"
      ],
      "text/latex": [
       "\\begin{enumerate*}\n",
       "\\item 51\n",
       "\\item 52\n",
       "\\item 53\n",
       "\\item 54\n",
       "\\item 55\n",
       "\\item 56\n",
       "\\item 57\n",
       "\\item 58\n",
       "\\item 59\n",
       "\\item 60\n",
       "\\item 61\n",
       "\\item 62\n",
       "\\item 63\n",
       "\\item 64\n",
       "\\item 65\n",
       "\\item 66\n",
       "\\item 67\n",
       "\\item 68\n",
       "\\item 69\n",
       "\\item 70\n",
       "\\item 71\n",
       "\\item 72\n",
       "\\item 73\n",
       "\\item 74\n",
       "\\item 75\n",
       "\\item 76\n",
       "\\item 77\n",
       "\\item 78\n",
       "\\item 79\n",
       "\\item 80\n",
       "\\item 81\n",
       "\\item 82\n",
       "\\item 83\n",
       "\\item 84\n",
       "\\item 85\n",
       "\\item 86\n",
       "\\item 87\n",
       "\\item 88\n",
       "\\item 89\n",
       "\\item 90\n",
       "\\end{enumerate*}\n"
      ],
      "text/markdown": [
       "1. 51\n",
       "2. 52\n",
       "3. 53\n",
       "4. 54\n",
       "5. 55\n",
       "6. 56\n",
       "7. 57\n",
       "8. 58\n",
       "9. 59\n",
       "10. 60\n",
       "11. 61\n",
       "12. 62\n",
       "13. 63\n",
       "14. 64\n",
       "15. 65\n",
       "16. 66\n",
       "17. 67\n",
       "18. 68\n",
       "19. 69\n",
       "20. 70\n",
       "21. 71\n",
       "22. 72\n",
       "23. 73\n",
       "24. 74\n",
       "25. 75\n",
       "26. 76\n",
       "27. 77\n",
       "28. 78\n",
       "29. 79\n",
       "30. 80\n",
       "31. 81\n",
       "32. 82\n",
       "33. 83\n",
       "34. 84\n",
       "35. 85\n",
       "36. 86\n",
       "37. 87\n",
       "38. 88\n",
       "39. 89\n",
       "40. 90\n",
       "\n",
       "\n"
      ],
      "text/plain": [
       " [1] 51 52 53 54 55 56 57 58 59 60 61 62 63 64 65 66 67 68 69 70 71 72 73 74 75\n",
       "[26] 76 77 78 79 80 81 82 83 84 85 86 87 88 89 90"
      ]
     },
     "metadata": {},
     "output_type": "display_data"
    }
   ],
   "source": [
    "v3"
   ]
  },
  {
   "cell_type": "code",
   "execution_count": 38,
   "id": "ffc0e728",
   "metadata": {},
   "outputs": [
    {
     "data": {
      "text/html": [
       "<style>\n",
       ".list-inline {list-style: none; margin:0; padding: 0}\n",
       ".list-inline>li {display: inline-block}\n",
       ".list-inline>li:not(:last-child)::after {content: \"\\00b7\"; padding: 0 .5ex}\n",
       "</style>\n",
       "<ol class=list-inline><li>51</li><li>104</li><li>53</li><li>108</li><li>55</li><li>0</li><li>57</li><li>116</li><li>59</li><li>120</li><li>61</li><li>124</li><li>0</li><li>128</li><li>65</li><li>132</li><li>67</li><li>136</li><li>69</li><li>0</li><li>71</li><li>144</li><li>73</li><li>148</li><li>75</li><li>152</li><li>0</li><li>156</li><li>79</li><li>160</li><li>81</li><li>164</li><li>83</li><li>0</li><li>85</li><li>172</li><li>87</li><li>176</li><li>89</li><li>180</li></ol>\n"
      ],
      "text/latex": [
       "\\begin{enumerate*}\n",
       "\\item 51\n",
       "\\item 104\n",
       "\\item 53\n",
       "\\item 108\n",
       "\\item 55\n",
       "\\item 0\n",
       "\\item 57\n",
       "\\item 116\n",
       "\\item 59\n",
       "\\item 120\n",
       "\\item 61\n",
       "\\item 124\n",
       "\\item 0\n",
       "\\item 128\n",
       "\\item 65\n",
       "\\item 132\n",
       "\\item 67\n",
       "\\item 136\n",
       "\\item 69\n",
       "\\item 0\n",
       "\\item 71\n",
       "\\item 144\n",
       "\\item 73\n",
       "\\item 148\n",
       "\\item 75\n",
       "\\item 152\n",
       "\\item 0\n",
       "\\item 156\n",
       "\\item 79\n",
       "\\item 160\n",
       "\\item 81\n",
       "\\item 164\n",
       "\\item 83\n",
       "\\item 0\n",
       "\\item 85\n",
       "\\item 172\n",
       "\\item 87\n",
       "\\item 176\n",
       "\\item 89\n",
       "\\item 180\n",
       "\\end{enumerate*}\n"
      ],
      "text/markdown": [
       "1. 51\n",
       "2. 104\n",
       "3. 53\n",
       "4. 108\n",
       "5. 55\n",
       "6. 0\n",
       "7. 57\n",
       "8. 116\n",
       "9. 59\n",
       "10. 120\n",
       "11. 61\n",
       "12. 124\n",
       "13. 0\n",
       "14. 128\n",
       "15. 65\n",
       "16. 132\n",
       "17. 67\n",
       "18. 136\n",
       "19. 69\n",
       "20. 0\n",
       "21. 71\n",
       "22. 144\n",
       "23. 73\n",
       "24. 148\n",
       "25. 75\n",
       "26. 152\n",
       "27. 0\n",
       "28. 156\n",
       "29. 79\n",
       "30. 160\n",
       "31. 81\n",
       "32. 164\n",
       "33. 83\n",
       "34. 0\n",
       "35. 85\n",
       "36. 172\n",
       "37. 87\n",
       "38. 176\n",
       "39. 89\n",
       "40. 180\n",
       "\n",
       "\n"
      ],
      "text/plain": [
       " [1]  51 104  53 108  55   0  57 116  59 120  61 124   0 128  65 132  67 136  69\n",
       "[20]   0  71 144  73 148  75 152   0 156  79 160  81 164  83   0  85 172  87 176\n",
       "[39]  89 180"
      ]
     },
     "metadata": {},
     "output_type": "display_data"
    }
   ],
   "source": [
    "v1"
   ]
  },
  {
   "cell_type": "code",
   "execution_count": 50,
   "id": "6f3b323b",
   "metadata": {},
   "outputs": [
    {
     "data": {
      "text/html": [
       "<style>\n",
       ".list-inline {list-style: none; margin:0; padding: 0}\n",
       ".list-inline>li {display: inline-block}\n",
       ".list-inline>li:not(:last-child)::after {content: \"\\00b7\"; padding: 0 .5ex}\n",
       "</style>\n",
       "<ol class=list-inline><li>51</li><li>52</li><li>53</li><li>54</li><li>55</li><li>57</li><li>58</li><li>59</li><li>60</li><li>61</li><li>62</li><li>64</li><li>65</li><li>66</li><li>67</li><li>68</li><li>69</li><li>71</li><li>72</li><li>73</li><li>74</li><li>75</li><li>76</li><li>78</li><li>79</li><li>80</li><li>81</li><li>82</li><li>83</li><li>85</li><li>86</li><li>87</li><li>88</li><li>89</li><li>90</li></ol>\n"
      ],
      "text/latex": [
       "\\begin{enumerate*}\n",
       "\\item 51\n",
       "\\item 52\n",
       "\\item 53\n",
       "\\item 54\n",
       "\\item 55\n",
       "\\item 57\n",
       "\\item 58\n",
       "\\item 59\n",
       "\\item 60\n",
       "\\item 61\n",
       "\\item 62\n",
       "\\item 64\n",
       "\\item 65\n",
       "\\item 66\n",
       "\\item 67\n",
       "\\item 68\n",
       "\\item 69\n",
       "\\item 71\n",
       "\\item 72\n",
       "\\item 73\n",
       "\\item 74\n",
       "\\item 75\n",
       "\\item 76\n",
       "\\item 78\n",
       "\\item 79\n",
       "\\item 80\n",
       "\\item 81\n",
       "\\item 82\n",
       "\\item 83\n",
       "\\item 85\n",
       "\\item 86\n",
       "\\item 87\n",
       "\\item 88\n",
       "\\item 89\n",
       "\\item 90\n",
       "\\end{enumerate*}\n"
      ],
      "text/markdown": [
       "1. 51\n",
       "2. 52\n",
       "3. 53\n",
       "4. 54\n",
       "5. 55\n",
       "6. 57\n",
       "7. 58\n",
       "8. 59\n",
       "9. 60\n",
       "10. 61\n",
       "11. 62\n",
       "12. 64\n",
       "13. 65\n",
       "14. 66\n",
       "15. 67\n",
       "16. 68\n",
       "17. 69\n",
       "18. 71\n",
       "19. 72\n",
       "20. 73\n",
       "21. 74\n",
       "22. 75\n",
       "23. 76\n",
       "24. 78\n",
       "25. 79\n",
       "26. 80\n",
       "27. 81\n",
       "28. 82\n",
       "29. 83\n",
       "30. 85\n",
       "31. 86\n",
       "32. 87\n",
       "33. 88\n",
       "34. 89\n",
       "35. 90\n",
       "\n",
       "\n"
      ],
      "text/plain": [
       " [1] 51 52 53 54 55 57 58 59 60 61 62 64 65 66 67 68 69 71 72 73 74 75 76 78 79\n",
       "[26] 80 81 82 83 85 86 87 88 89 90"
      ]
     },
     "metadata": {},
     "output_type": "display_data"
    }
   ],
   "source": [
    "v1 <- 51:90\n",
    "v1 <- v1[v1 %% 7 != 0]\n",
    "v1\n",
    "# 가끔 0이 아닌 것도 포함될 수 있으니, != 0 조건을 주고 데이터 처리"
   ]
  },
  {
   "cell_type": "code",
   "execution_count": 58,
   "id": "3582680b",
   "metadata": {},
   "outputs": [
    {
     "data": {
      "text/html": [
       "<table class=\"dataframe\">\n",
       "<caption>A matrix: 4 × 2 of type dbl</caption>\n",
       "<tbody>\n",
       "\t<tr><td>10</td><td>21</td></tr>\n",
       "\t<tr><td>40</td><td>60</td></tr>\n",
       "\t<tr><td>60</td><td>70</td></tr>\n",
       "\t<tr><td>20</td><td>30</td></tr>\n",
       "</tbody>\n",
       "</table>\n"
      ],
      "text/latex": [
       "A matrix: 4 × 2 of type dbl\n",
       "\\begin{tabular}{ll}\n",
       "\t 10 & 21\\\\\n",
       "\t 40 & 60\\\\\n",
       "\t 60 & 70\\\\\n",
       "\t 20 & 30\\\\\n",
       "\\end{tabular}\n"
      ],
      "text/markdown": [
       "\n",
       "A matrix: 4 × 2 of type dbl\n",
       "\n",
       "| 10 | 21 |\n",
       "| 40 | 60 |\n",
       "| 60 | 70 |\n",
       "| 20 | 30 |\n",
       "\n"
      ],
      "text/plain": [
       "     [,1] [,2]\n",
       "[1,] 10   21  \n",
       "[2,] 40   60  \n",
       "[3,] 60   70  \n",
       "[4,] 20   30  "
      ]
     },
     "metadata": {},
     "output_type": "display_data"
    }
   ],
   "source": [
    "mt <- matrix(c(10, 40, 60, 20, 21, 60, 70, 30), nrow=4, ncol=2)\n",
    "mt"
   ]
  },
  {
   "cell_type": "code",
   "execution_count": 61,
   "id": "e9f40967",
   "metadata": {},
   "outputs": [],
   "source": [
    "m <- c(10, 40, 60, 20)\n",
    "f <- c(21, 60, 70, 30)\n",
    "m <- data.frame(m, f)\n",
    "score = m"
   ]
  },
  {
   "cell_type": "code",
   "execution_count": 62,
   "id": "c79c9871",
   "metadata": {},
   "outputs": [
    {
     "data": {
      "text/html": [
       "<table class=\"dataframe\">\n",
       "<caption>A data.frame: 4 × 2</caption>\n",
       "<thead>\n",
       "\t<tr><th scope=col>male</th><th scope=col>Female</th></tr>\n",
       "\t<tr><th scope=col>&lt;dbl&gt;</th><th scope=col>&lt;dbl&gt;</th></tr>\n",
       "</thead>\n",
       "<tbody>\n",
       "\t<tr><td>10</td><td>21</td></tr>\n",
       "\t<tr><td>40</td><td>60</td></tr>\n",
       "\t<tr><td>60</td><td>70</td></tr>\n",
       "\t<tr><td>20</td><td>30</td></tr>\n",
       "</tbody>\n",
       "</table>\n"
      ],
      "text/latex": [
       "A data.frame: 4 × 2\n",
       "\\begin{tabular}{ll}\n",
       " male & Female\\\\\n",
       " <dbl> & <dbl>\\\\\n",
       "\\hline\n",
       "\t 10 & 21\\\\\n",
       "\t 40 & 60\\\\\n",
       "\t 60 & 70\\\\\n",
       "\t 20 & 30\\\\\n",
       "\\end{tabular}\n"
      ],
      "text/markdown": [
       "\n",
       "A data.frame: 4 × 2\n",
       "\n",
       "| male &lt;dbl&gt; | Female &lt;dbl&gt; |\n",
       "|---|---|\n",
       "| 10 | 21 |\n",
       "| 40 | 60 |\n",
       "| 60 | 70 |\n",
       "| 20 | 30 |\n",
       "\n"
      ],
      "text/plain": [
       "  male Female\n",
       "1 10   21    \n",
       "2 40   60    \n",
       "3 60   70    \n",
       "4 20   30    "
      ]
     },
     "metadata": {},
     "output_type": "display_data"
    }
   ],
   "source": [
    "colnames(score) <- c(\"male\",\"Female\")\n",
    "score"
   ]
  },
  {
   "cell_type": "code",
   "execution_count": 64,
   "id": "df3d1b44",
   "metadata": {},
   "outputs": [
    {
     "data": {
      "text/html": [
       "<table class=\"dataframe\">\n",
       "<caption>A data.frame: 1 × 2</caption>\n",
       "<thead>\n",
       "\t<tr><th></th><th scope=col>male</th><th scope=col>Female</th></tr>\n",
       "\t<tr><th></th><th scope=col>&lt;dbl&gt;</th><th scope=col>&lt;dbl&gt;</th></tr>\n",
       "</thead>\n",
       "<tbody>\n",
       "\t<tr><th scope=row>2</th><td>40</td><td>60</td></tr>\n",
       "</tbody>\n",
       "</table>\n"
      ],
      "text/latex": [
       "A data.frame: 1 × 2\n",
       "\\begin{tabular}{r|ll}\n",
       "  & male & Female\\\\\n",
       "  & <dbl> & <dbl>\\\\\n",
       "\\hline\n",
       "\t2 & 40 & 60\\\\\n",
       "\\end{tabular}\n"
      ],
      "text/markdown": [
       "\n",
       "A data.frame: 1 × 2\n",
       "\n",
       "| <!--/--> | male &lt;dbl&gt; | Female &lt;dbl&gt; |\n",
       "|---|---|---|\n",
       "| 2 | 40 | 60 |\n",
       "\n"
      ],
      "text/plain": [
       "  male Female\n",
       "2 40   60    "
      ]
     },
     "metadata": {},
     "output_type": "display_data"
    }
   ],
   "source": [
    "score[2,]"
   ]
  },
  {
   "cell_type": "code",
   "execution_count": 65,
   "id": "03f81af3",
   "metadata": {},
   "outputs": [
    {
     "data": {
      "text/html": [
       "70"
      ],
      "text/latex": [
       "70"
      ],
      "text/markdown": [
       "70"
      ],
      "text/plain": [
       "[1] 70"
      ]
     },
     "metadata": {},
     "output_type": "display_data"
    }
   ],
   "source": [
    "score[3, 2]"
   ]
  },
  {
   "cell_type": "code",
   "execution_count": 66,
   "id": "f34e03fe",
   "metadata": {},
   "outputs": [
    {
     "data": {
      "text/html": [
       "<table class=\"dataframe\">\n",
       "<caption>A data.frame: 50 × 8</caption>\n",
       "<thead>\n",
       "\t<tr><th></th><th scope=col>Population</th><th scope=col>Income</th><th scope=col>Illiteracy</th><th scope=col>Life.Exp</th><th scope=col>Murder</th><th scope=col>HS.Grad</th><th scope=col>Frost</th><th scope=col>Area</th></tr>\n",
       "\t<tr><th></th><th scope=col>&lt;dbl&gt;</th><th scope=col>&lt;dbl&gt;</th><th scope=col>&lt;dbl&gt;</th><th scope=col>&lt;dbl&gt;</th><th scope=col>&lt;dbl&gt;</th><th scope=col>&lt;dbl&gt;</th><th scope=col>&lt;dbl&gt;</th><th scope=col>&lt;dbl&gt;</th></tr>\n",
       "</thead>\n",
       "<tbody>\n",
       "\t<tr><th scope=row>Alabama</th><td> 3615</td><td>3624</td><td>2.1</td><td>69.05</td><td>15.1</td><td>41.3</td><td> 20</td><td> 50708</td></tr>\n",
       "\t<tr><th scope=row>Alaska</th><td>  365</td><td>6315</td><td>1.5</td><td>69.31</td><td>11.3</td><td>66.7</td><td>152</td><td>566432</td></tr>\n",
       "\t<tr><th scope=row>Arizona</th><td> 2212</td><td>4530</td><td>1.8</td><td>70.55</td><td> 7.8</td><td>58.1</td><td> 15</td><td>113417</td></tr>\n",
       "\t<tr><th scope=row>Arkansas</th><td> 2110</td><td>3378</td><td>1.9</td><td>70.66</td><td>10.1</td><td>39.9</td><td> 65</td><td> 51945</td></tr>\n",
       "\t<tr><th scope=row>California</th><td>21198</td><td>5114</td><td>1.1</td><td>71.71</td><td>10.3</td><td>62.6</td><td> 20</td><td>156361</td></tr>\n",
       "\t<tr><th scope=row>Colorado</th><td> 2541</td><td>4884</td><td>0.7</td><td>72.06</td><td> 6.8</td><td>63.9</td><td>166</td><td>103766</td></tr>\n",
       "\t<tr><th scope=row>Connecticut</th><td> 3100</td><td>5348</td><td>1.1</td><td>72.48</td><td> 3.1</td><td>56.0</td><td>139</td><td>  4862</td></tr>\n",
       "\t<tr><th scope=row>Delaware</th><td>  579</td><td>4809</td><td>0.9</td><td>70.06</td><td> 6.2</td><td>54.6</td><td>103</td><td>  1982</td></tr>\n",
       "\t<tr><th scope=row>Florida</th><td> 8277</td><td>4815</td><td>1.3</td><td>70.66</td><td>10.7</td><td>52.6</td><td> 11</td><td> 54090</td></tr>\n",
       "\t<tr><th scope=row>Georgia</th><td> 4931</td><td>4091</td><td>2.0</td><td>68.54</td><td>13.9</td><td>40.6</td><td> 60</td><td> 58073</td></tr>\n",
       "\t<tr><th scope=row>Hawaii</th><td>  868</td><td>4963</td><td>1.9</td><td>73.60</td><td> 6.2</td><td>61.9</td><td>  0</td><td>  6425</td></tr>\n",
       "\t<tr><th scope=row>Idaho</th><td>  813</td><td>4119</td><td>0.6</td><td>71.87</td><td> 5.3</td><td>59.5</td><td>126</td><td> 82677</td></tr>\n",
       "\t<tr><th scope=row>Illinois</th><td>11197</td><td>5107</td><td>0.9</td><td>70.14</td><td>10.3</td><td>52.6</td><td>127</td><td> 55748</td></tr>\n",
       "\t<tr><th scope=row>Indiana</th><td> 5313</td><td>4458</td><td>0.7</td><td>70.88</td><td> 7.1</td><td>52.9</td><td>122</td><td> 36097</td></tr>\n",
       "\t<tr><th scope=row>Iowa</th><td> 2861</td><td>4628</td><td>0.5</td><td>72.56</td><td> 2.3</td><td>59.0</td><td>140</td><td> 55941</td></tr>\n",
       "\t<tr><th scope=row>Kansas</th><td> 2280</td><td>4669</td><td>0.6</td><td>72.58</td><td> 4.5</td><td>59.9</td><td>114</td><td> 81787</td></tr>\n",
       "\t<tr><th scope=row>Kentucky</th><td> 3387</td><td>3712</td><td>1.6</td><td>70.10</td><td>10.6</td><td>38.5</td><td> 95</td><td> 39650</td></tr>\n",
       "\t<tr><th scope=row>Louisiana</th><td> 3806</td><td>3545</td><td>2.8</td><td>68.76</td><td>13.2</td><td>42.2</td><td> 12</td><td> 44930</td></tr>\n",
       "\t<tr><th scope=row>Maine</th><td> 1058</td><td>3694</td><td>0.7</td><td>70.39</td><td> 2.7</td><td>54.7</td><td>161</td><td> 30920</td></tr>\n",
       "\t<tr><th scope=row>Maryland</th><td> 4122</td><td>5299</td><td>0.9</td><td>70.22</td><td> 8.5</td><td>52.3</td><td>101</td><td>  9891</td></tr>\n",
       "\t<tr><th scope=row>Massachusetts</th><td> 5814</td><td>4755</td><td>1.1</td><td>71.83</td><td> 3.3</td><td>58.5</td><td>103</td><td>  7826</td></tr>\n",
       "\t<tr><th scope=row>Michigan</th><td> 9111</td><td>4751</td><td>0.9</td><td>70.63</td><td>11.1</td><td>52.8</td><td>125</td><td> 56817</td></tr>\n",
       "\t<tr><th scope=row>Minnesota</th><td> 3921</td><td>4675</td><td>0.6</td><td>72.96</td><td> 2.3</td><td>57.6</td><td>160</td><td> 79289</td></tr>\n",
       "\t<tr><th scope=row>Mississippi</th><td> 2341</td><td>3098</td><td>2.4</td><td>68.09</td><td>12.5</td><td>41.0</td><td> 50</td><td> 47296</td></tr>\n",
       "\t<tr><th scope=row>Missouri</th><td> 4767</td><td>4254</td><td>0.8</td><td>70.69</td><td> 9.3</td><td>48.8</td><td>108</td><td> 68995</td></tr>\n",
       "\t<tr><th scope=row>Montana</th><td>  746</td><td>4347</td><td>0.6</td><td>70.56</td><td> 5.0</td><td>59.2</td><td>155</td><td>145587</td></tr>\n",
       "\t<tr><th scope=row>Nebraska</th><td> 1544</td><td>4508</td><td>0.6</td><td>72.60</td><td> 2.9</td><td>59.3</td><td>139</td><td> 76483</td></tr>\n",
       "\t<tr><th scope=row>Nevada</th><td>  590</td><td>5149</td><td>0.5</td><td>69.03</td><td>11.5</td><td>65.2</td><td>188</td><td>109889</td></tr>\n",
       "\t<tr><th scope=row>New Hampshire</th><td>  812</td><td>4281</td><td>0.7</td><td>71.23</td><td> 3.3</td><td>57.6</td><td>174</td><td>  9027</td></tr>\n",
       "\t<tr><th scope=row>New Jersey</th><td> 7333</td><td>5237</td><td>1.1</td><td>70.93</td><td> 5.2</td><td>52.5</td><td>115</td><td>  7521</td></tr>\n",
       "\t<tr><th scope=row>New Mexico</th><td> 1144</td><td>3601</td><td>2.2</td><td>70.32</td><td> 9.7</td><td>55.2</td><td>120</td><td>121412</td></tr>\n",
       "\t<tr><th scope=row>New York</th><td>18076</td><td>4903</td><td>1.4</td><td>70.55</td><td>10.9</td><td>52.7</td><td> 82</td><td> 47831</td></tr>\n",
       "\t<tr><th scope=row>North Carolina</th><td> 5441</td><td>3875</td><td>1.8</td><td>69.21</td><td>11.1</td><td>38.5</td><td> 80</td><td> 48798</td></tr>\n",
       "\t<tr><th scope=row>North Dakota</th><td>  637</td><td>5087</td><td>0.8</td><td>72.78</td><td> 1.4</td><td>50.3</td><td>186</td><td> 69273</td></tr>\n",
       "\t<tr><th scope=row>Ohio</th><td>10735</td><td>4561</td><td>0.8</td><td>70.82</td><td> 7.4</td><td>53.2</td><td>124</td><td> 40975</td></tr>\n",
       "\t<tr><th scope=row>Oklahoma</th><td> 2715</td><td>3983</td><td>1.1</td><td>71.42</td><td> 6.4</td><td>51.6</td><td> 82</td><td> 68782</td></tr>\n",
       "\t<tr><th scope=row>Oregon</th><td> 2284</td><td>4660</td><td>0.6</td><td>72.13</td><td> 4.2</td><td>60.0</td><td> 44</td><td> 96184</td></tr>\n",
       "\t<tr><th scope=row>Pennsylvania</th><td>11860</td><td>4449</td><td>1.0</td><td>70.43</td><td> 6.1</td><td>50.2</td><td>126</td><td> 44966</td></tr>\n",
       "\t<tr><th scope=row>Rhode Island</th><td>  931</td><td>4558</td><td>1.3</td><td>71.90</td><td> 2.4</td><td>46.4</td><td>127</td><td>  1049</td></tr>\n",
       "\t<tr><th scope=row>South Carolina</th><td> 2816</td><td>3635</td><td>2.3</td><td>67.96</td><td>11.6</td><td>37.8</td><td> 65</td><td> 30225</td></tr>\n",
       "\t<tr><th scope=row>South Dakota</th><td>  681</td><td>4167</td><td>0.5</td><td>72.08</td><td> 1.7</td><td>53.3</td><td>172</td><td> 75955</td></tr>\n",
       "\t<tr><th scope=row>Tennessee</th><td> 4173</td><td>3821</td><td>1.7</td><td>70.11</td><td>11.0</td><td>41.8</td><td> 70</td><td> 41328</td></tr>\n",
       "\t<tr><th scope=row>Texas</th><td>12237</td><td>4188</td><td>2.2</td><td>70.90</td><td>12.2</td><td>47.4</td><td> 35</td><td>262134</td></tr>\n",
       "\t<tr><th scope=row>Utah</th><td> 1203</td><td>4022</td><td>0.6</td><td>72.90</td><td> 4.5</td><td>67.3</td><td>137</td><td> 82096</td></tr>\n",
       "\t<tr><th scope=row>Vermont</th><td>  472</td><td>3907</td><td>0.6</td><td>71.64</td><td> 5.5</td><td>57.1</td><td>168</td><td>  9267</td></tr>\n",
       "\t<tr><th scope=row>Virginia</th><td> 4981</td><td>4701</td><td>1.4</td><td>70.08</td><td> 9.5</td><td>47.8</td><td> 85</td><td> 39780</td></tr>\n",
       "\t<tr><th scope=row>Washington</th><td> 3559</td><td>4864</td><td>0.6</td><td>71.72</td><td> 4.3</td><td>63.5</td><td> 32</td><td> 66570</td></tr>\n",
       "\t<tr><th scope=row>West Virginia</th><td> 1799</td><td>3617</td><td>1.4</td><td>69.48</td><td> 6.7</td><td>41.6</td><td>100</td><td> 24070</td></tr>\n",
       "\t<tr><th scope=row>Wisconsin</th><td> 4589</td><td>4468</td><td>0.7</td><td>72.48</td><td> 3.0</td><td>54.5</td><td>149</td><td> 54464</td></tr>\n",
       "\t<tr><th scope=row>Wyoming</th><td>  376</td><td>4566</td><td>0.6</td><td>70.29</td><td> 6.9</td><td>62.9</td><td>173</td><td> 97203</td></tr>\n",
       "</tbody>\n",
       "</table>\n"
      ],
      "text/latex": [
       "A data.frame: 50 × 8\n",
       "\\begin{tabular}{r|llllllll}\n",
       "  & Population & Income & Illiteracy & Life.Exp & Murder & HS.Grad & Frost & Area\\\\\n",
       "  & <dbl> & <dbl> & <dbl> & <dbl> & <dbl> & <dbl> & <dbl> & <dbl>\\\\\n",
       "\\hline\n",
       "\tAlabama &  3615 & 3624 & 2.1 & 69.05 & 15.1 & 41.3 &  20 &  50708\\\\\n",
       "\tAlaska &   365 & 6315 & 1.5 & 69.31 & 11.3 & 66.7 & 152 & 566432\\\\\n",
       "\tArizona &  2212 & 4530 & 1.8 & 70.55 &  7.8 & 58.1 &  15 & 113417\\\\\n",
       "\tArkansas &  2110 & 3378 & 1.9 & 70.66 & 10.1 & 39.9 &  65 &  51945\\\\\n",
       "\tCalifornia & 21198 & 5114 & 1.1 & 71.71 & 10.3 & 62.6 &  20 & 156361\\\\\n",
       "\tColorado &  2541 & 4884 & 0.7 & 72.06 &  6.8 & 63.9 & 166 & 103766\\\\\n",
       "\tConnecticut &  3100 & 5348 & 1.1 & 72.48 &  3.1 & 56.0 & 139 &   4862\\\\\n",
       "\tDelaware &   579 & 4809 & 0.9 & 70.06 &  6.2 & 54.6 & 103 &   1982\\\\\n",
       "\tFlorida &  8277 & 4815 & 1.3 & 70.66 & 10.7 & 52.6 &  11 &  54090\\\\\n",
       "\tGeorgia &  4931 & 4091 & 2.0 & 68.54 & 13.9 & 40.6 &  60 &  58073\\\\\n",
       "\tHawaii &   868 & 4963 & 1.9 & 73.60 &  6.2 & 61.9 &   0 &   6425\\\\\n",
       "\tIdaho &   813 & 4119 & 0.6 & 71.87 &  5.3 & 59.5 & 126 &  82677\\\\\n",
       "\tIllinois & 11197 & 5107 & 0.9 & 70.14 & 10.3 & 52.6 & 127 &  55748\\\\\n",
       "\tIndiana &  5313 & 4458 & 0.7 & 70.88 &  7.1 & 52.9 & 122 &  36097\\\\\n",
       "\tIowa &  2861 & 4628 & 0.5 & 72.56 &  2.3 & 59.0 & 140 &  55941\\\\\n",
       "\tKansas &  2280 & 4669 & 0.6 & 72.58 &  4.5 & 59.9 & 114 &  81787\\\\\n",
       "\tKentucky &  3387 & 3712 & 1.6 & 70.10 & 10.6 & 38.5 &  95 &  39650\\\\\n",
       "\tLouisiana &  3806 & 3545 & 2.8 & 68.76 & 13.2 & 42.2 &  12 &  44930\\\\\n",
       "\tMaine &  1058 & 3694 & 0.7 & 70.39 &  2.7 & 54.7 & 161 &  30920\\\\\n",
       "\tMaryland &  4122 & 5299 & 0.9 & 70.22 &  8.5 & 52.3 & 101 &   9891\\\\\n",
       "\tMassachusetts &  5814 & 4755 & 1.1 & 71.83 &  3.3 & 58.5 & 103 &   7826\\\\\n",
       "\tMichigan &  9111 & 4751 & 0.9 & 70.63 & 11.1 & 52.8 & 125 &  56817\\\\\n",
       "\tMinnesota &  3921 & 4675 & 0.6 & 72.96 &  2.3 & 57.6 & 160 &  79289\\\\\n",
       "\tMississippi &  2341 & 3098 & 2.4 & 68.09 & 12.5 & 41.0 &  50 &  47296\\\\\n",
       "\tMissouri &  4767 & 4254 & 0.8 & 70.69 &  9.3 & 48.8 & 108 &  68995\\\\\n",
       "\tMontana &   746 & 4347 & 0.6 & 70.56 &  5.0 & 59.2 & 155 & 145587\\\\\n",
       "\tNebraska &  1544 & 4508 & 0.6 & 72.60 &  2.9 & 59.3 & 139 &  76483\\\\\n",
       "\tNevada &   590 & 5149 & 0.5 & 69.03 & 11.5 & 65.2 & 188 & 109889\\\\\n",
       "\tNew Hampshire &   812 & 4281 & 0.7 & 71.23 &  3.3 & 57.6 & 174 &   9027\\\\\n",
       "\tNew Jersey &  7333 & 5237 & 1.1 & 70.93 &  5.2 & 52.5 & 115 &   7521\\\\\n",
       "\tNew Mexico &  1144 & 3601 & 2.2 & 70.32 &  9.7 & 55.2 & 120 & 121412\\\\\n",
       "\tNew York & 18076 & 4903 & 1.4 & 70.55 & 10.9 & 52.7 &  82 &  47831\\\\\n",
       "\tNorth Carolina &  5441 & 3875 & 1.8 & 69.21 & 11.1 & 38.5 &  80 &  48798\\\\\n",
       "\tNorth Dakota &   637 & 5087 & 0.8 & 72.78 &  1.4 & 50.3 & 186 &  69273\\\\\n",
       "\tOhio & 10735 & 4561 & 0.8 & 70.82 &  7.4 & 53.2 & 124 &  40975\\\\\n",
       "\tOklahoma &  2715 & 3983 & 1.1 & 71.42 &  6.4 & 51.6 &  82 &  68782\\\\\n",
       "\tOregon &  2284 & 4660 & 0.6 & 72.13 &  4.2 & 60.0 &  44 &  96184\\\\\n",
       "\tPennsylvania & 11860 & 4449 & 1.0 & 70.43 &  6.1 & 50.2 & 126 &  44966\\\\\n",
       "\tRhode Island &   931 & 4558 & 1.3 & 71.90 &  2.4 & 46.4 & 127 &   1049\\\\\n",
       "\tSouth Carolina &  2816 & 3635 & 2.3 & 67.96 & 11.6 & 37.8 &  65 &  30225\\\\\n",
       "\tSouth Dakota &   681 & 4167 & 0.5 & 72.08 &  1.7 & 53.3 & 172 &  75955\\\\\n",
       "\tTennessee &  4173 & 3821 & 1.7 & 70.11 & 11.0 & 41.8 &  70 &  41328\\\\\n",
       "\tTexas & 12237 & 4188 & 2.2 & 70.90 & 12.2 & 47.4 &  35 & 262134\\\\\n",
       "\tUtah &  1203 & 4022 & 0.6 & 72.90 &  4.5 & 67.3 & 137 &  82096\\\\\n",
       "\tVermont &   472 & 3907 & 0.6 & 71.64 &  5.5 & 57.1 & 168 &   9267\\\\\n",
       "\tVirginia &  4981 & 4701 & 1.4 & 70.08 &  9.5 & 47.8 &  85 &  39780\\\\\n",
       "\tWashington &  3559 & 4864 & 0.6 & 71.72 &  4.3 & 63.5 &  32 &  66570\\\\\n",
       "\tWest Virginia &  1799 & 3617 & 1.4 & 69.48 &  6.7 & 41.6 & 100 &  24070\\\\\n",
       "\tWisconsin &  4589 & 4468 & 0.7 & 72.48 &  3.0 & 54.5 & 149 &  54464\\\\\n",
       "\tWyoming &   376 & 4566 & 0.6 & 70.29 &  6.9 & 62.9 & 173 &  97203\\\\\n",
       "\\end{tabular}\n"
      ],
      "text/markdown": [
       "\n",
       "A data.frame: 50 × 8\n",
       "\n",
       "| <!--/--> | Population &lt;dbl&gt; | Income &lt;dbl&gt; | Illiteracy &lt;dbl&gt; | Life.Exp &lt;dbl&gt; | Murder &lt;dbl&gt; | HS.Grad &lt;dbl&gt; | Frost &lt;dbl&gt; | Area &lt;dbl&gt; |\n",
       "|---|---|---|---|---|---|---|---|---|\n",
       "| Alabama |  3615 | 3624 | 2.1 | 69.05 | 15.1 | 41.3 |  20 |  50708 |\n",
       "| Alaska |   365 | 6315 | 1.5 | 69.31 | 11.3 | 66.7 | 152 | 566432 |\n",
       "| Arizona |  2212 | 4530 | 1.8 | 70.55 |  7.8 | 58.1 |  15 | 113417 |\n",
       "| Arkansas |  2110 | 3378 | 1.9 | 70.66 | 10.1 | 39.9 |  65 |  51945 |\n",
       "| California | 21198 | 5114 | 1.1 | 71.71 | 10.3 | 62.6 |  20 | 156361 |\n",
       "| Colorado |  2541 | 4884 | 0.7 | 72.06 |  6.8 | 63.9 | 166 | 103766 |\n",
       "| Connecticut |  3100 | 5348 | 1.1 | 72.48 |  3.1 | 56.0 | 139 |   4862 |\n",
       "| Delaware |   579 | 4809 | 0.9 | 70.06 |  6.2 | 54.6 | 103 |   1982 |\n",
       "| Florida |  8277 | 4815 | 1.3 | 70.66 | 10.7 | 52.6 |  11 |  54090 |\n",
       "| Georgia |  4931 | 4091 | 2.0 | 68.54 | 13.9 | 40.6 |  60 |  58073 |\n",
       "| Hawaii |   868 | 4963 | 1.9 | 73.60 |  6.2 | 61.9 |   0 |   6425 |\n",
       "| Idaho |   813 | 4119 | 0.6 | 71.87 |  5.3 | 59.5 | 126 |  82677 |\n",
       "| Illinois | 11197 | 5107 | 0.9 | 70.14 | 10.3 | 52.6 | 127 |  55748 |\n",
       "| Indiana |  5313 | 4458 | 0.7 | 70.88 |  7.1 | 52.9 | 122 |  36097 |\n",
       "| Iowa |  2861 | 4628 | 0.5 | 72.56 |  2.3 | 59.0 | 140 |  55941 |\n",
       "| Kansas |  2280 | 4669 | 0.6 | 72.58 |  4.5 | 59.9 | 114 |  81787 |\n",
       "| Kentucky |  3387 | 3712 | 1.6 | 70.10 | 10.6 | 38.5 |  95 |  39650 |\n",
       "| Louisiana |  3806 | 3545 | 2.8 | 68.76 | 13.2 | 42.2 |  12 |  44930 |\n",
       "| Maine |  1058 | 3694 | 0.7 | 70.39 |  2.7 | 54.7 | 161 |  30920 |\n",
       "| Maryland |  4122 | 5299 | 0.9 | 70.22 |  8.5 | 52.3 | 101 |   9891 |\n",
       "| Massachusetts |  5814 | 4755 | 1.1 | 71.83 |  3.3 | 58.5 | 103 |   7826 |\n",
       "| Michigan |  9111 | 4751 | 0.9 | 70.63 | 11.1 | 52.8 | 125 |  56817 |\n",
       "| Minnesota |  3921 | 4675 | 0.6 | 72.96 |  2.3 | 57.6 | 160 |  79289 |\n",
       "| Mississippi |  2341 | 3098 | 2.4 | 68.09 | 12.5 | 41.0 |  50 |  47296 |\n",
       "| Missouri |  4767 | 4254 | 0.8 | 70.69 |  9.3 | 48.8 | 108 |  68995 |\n",
       "| Montana |   746 | 4347 | 0.6 | 70.56 |  5.0 | 59.2 | 155 | 145587 |\n",
       "| Nebraska |  1544 | 4508 | 0.6 | 72.60 |  2.9 | 59.3 | 139 |  76483 |\n",
       "| Nevada |   590 | 5149 | 0.5 | 69.03 | 11.5 | 65.2 | 188 | 109889 |\n",
       "| New Hampshire |   812 | 4281 | 0.7 | 71.23 |  3.3 | 57.6 | 174 |   9027 |\n",
       "| New Jersey |  7333 | 5237 | 1.1 | 70.93 |  5.2 | 52.5 | 115 |   7521 |\n",
       "| New Mexico |  1144 | 3601 | 2.2 | 70.32 |  9.7 | 55.2 | 120 | 121412 |\n",
       "| New York | 18076 | 4903 | 1.4 | 70.55 | 10.9 | 52.7 |  82 |  47831 |\n",
       "| North Carolina |  5441 | 3875 | 1.8 | 69.21 | 11.1 | 38.5 |  80 |  48798 |\n",
       "| North Dakota |   637 | 5087 | 0.8 | 72.78 |  1.4 | 50.3 | 186 |  69273 |\n",
       "| Ohio | 10735 | 4561 | 0.8 | 70.82 |  7.4 | 53.2 | 124 |  40975 |\n",
       "| Oklahoma |  2715 | 3983 | 1.1 | 71.42 |  6.4 | 51.6 |  82 |  68782 |\n",
       "| Oregon |  2284 | 4660 | 0.6 | 72.13 |  4.2 | 60.0 |  44 |  96184 |\n",
       "| Pennsylvania | 11860 | 4449 | 1.0 | 70.43 |  6.1 | 50.2 | 126 |  44966 |\n",
       "| Rhode Island |   931 | 4558 | 1.3 | 71.90 |  2.4 | 46.4 | 127 |   1049 |\n",
       "| South Carolina |  2816 | 3635 | 2.3 | 67.96 | 11.6 | 37.8 |  65 |  30225 |\n",
       "| South Dakota |   681 | 4167 | 0.5 | 72.08 |  1.7 | 53.3 | 172 |  75955 |\n",
       "| Tennessee |  4173 | 3821 | 1.7 | 70.11 | 11.0 | 41.8 |  70 |  41328 |\n",
       "| Texas | 12237 | 4188 | 2.2 | 70.90 | 12.2 | 47.4 |  35 | 262134 |\n",
       "| Utah |  1203 | 4022 | 0.6 | 72.90 |  4.5 | 67.3 | 137 |  82096 |\n",
       "| Vermont |   472 | 3907 | 0.6 | 71.64 |  5.5 | 57.1 | 168 |   9267 |\n",
       "| Virginia |  4981 | 4701 | 1.4 | 70.08 |  9.5 | 47.8 |  85 |  39780 |\n",
       "| Washington |  3559 | 4864 | 0.6 | 71.72 |  4.3 | 63.5 |  32 |  66570 |\n",
       "| West Virginia |  1799 | 3617 | 1.4 | 69.48 |  6.7 | 41.6 | 100 |  24070 |\n",
       "| Wisconsin |  4589 | 4468 | 0.7 | 72.48 |  3.0 | 54.5 | 149 |  54464 |\n",
       "| Wyoming |   376 | 4566 | 0.6 | 70.29 |  6.9 | 62.9 | 173 |  97203 |\n",
       "\n"
      ],
      "text/plain": [
       "               Population Income Illiteracy Life.Exp Murder HS.Grad Frost\n",
       "Alabama         3615      3624   2.1        69.05    15.1   41.3     20  \n",
       "Alaska           365      6315   1.5        69.31    11.3   66.7    152  \n",
       "Arizona         2212      4530   1.8        70.55     7.8   58.1     15  \n",
       "Arkansas        2110      3378   1.9        70.66    10.1   39.9     65  \n",
       "California     21198      5114   1.1        71.71    10.3   62.6     20  \n",
       "Colorado        2541      4884   0.7        72.06     6.8   63.9    166  \n",
       "Connecticut     3100      5348   1.1        72.48     3.1   56.0    139  \n",
       "Delaware         579      4809   0.9        70.06     6.2   54.6    103  \n",
       "Florida         8277      4815   1.3        70.66    10.7   52.6     11  \n",
       "Georgia         4931      4091   2.0        68.54    13.9   40.6     60  \n",
       "Hawaii           868      4963   1.9        73.60     6.2   61.9      0  \n",
       "Idaho            813      4119   0.6        71.87     5.3   59.5    126  \n",
       "Illinois       11197      5107   0.9        70.14    10.3   52.6    127  \n",
       "Indiana         5313      4458   0.7        70.88     7.1   52.9    122  \n",
       "Iowa            2861      4628   0.5        72.56     2.3   59.0    140  \n",
       "Kansas          2280      4669   0.6        72.58     4.5   59.9    114  \n",
       "Kentucky        3387      3712   1.6        70.10    10.6   38.5     95  \n",
       "Louisiana       3806      3545   2.8        68.76    13.2   42.2     12  \n",
       "Maine           1058      3694   0.7        70.39     2.7   54.7    161  \n",
       "Maryland        4122      5299   0.9        70.22     8.5   52.3    101  \n",
       "Massachusetts   5814      4755   1.1        71.83     3.3   58.5    103  \n",
       "Michigan        9111      4751   0.9        70.63    11.1   52.8    125  \n",
       "Minnesota       3921      4675   0.6        72.96     2.3   57.6    160  \n",
       "Mississippi     2341      3098   2.4        68.09    12.5   41.0     50  \n",
       "Missouri        4767      4254   0.8        70.69     9.3   48.8    108  \n",
       "Montana          746      4347   0.6        70.56     5.0   59.2    155  \n",
       "Nebraska        1544      4508   0.6        72.60     2.9   59.3    139  \n",
       "Nevada           590      5149   0.5        69.03    11.5   65.2    188  \n",
       "New Hampshire    812      4281   0.7        71.23     3.3   57.6    174  \n",
       "New Jersey      7333      5237   1.1        70.93     5.2   52.5    115  \n",
       "New Mexico      1144      3601   2.2        70.32     9.7   55.2    120  \n",
       "New York       18076      4903   1.4        70.55    10.9   52.7     82  \n",
       "North Carolina  5441      3875   1.8        69.21    11.1   38.5     80  \n",
       "North Dakota     637      5087   0.8        72.78     1.4   50.3    186  \n",
       "Ohio           10735      4561   0.8        70.82     7.4   53.2    124  \n",
       "Oklahoma        2715      3983   1.1        71.42     6.4   51.6     82  \n",
       "Oregon          2284      4660   0.6        72.13     4.2   60.0     44  \n",
       "Pennsylvania   11860      4449   1.0        70.43     6.1   50.2    126  \n",
       "Rhode Island     931      4558   1.3        71.90     2.4   46.4    127  \n",
       "South Carolina  2816      3635   2.3        67.96    11.6   37.8     65  \n",
       "South Dakota     681      4167   0.5        72.08     1.7   53.3    172  \n",
       "Tennessee       4173      3821   1.7        70.11    11.0   41.8     70  \n",
       "Texas          12237      4188   2.2        70.90    12.2   47.4     35  \n",
       "Utah            1203      4022   0.6        72.90     4.5   67.3    137  \n",
       "Vermont          472      3907   0.6        71.64     5.5   57.1    168  \n",
       "Virginia        4981      4701   1.4        70.08     9.5   47.8     85  \n",
       "Washington      3559      4864   0.6        71.72     4.3   63.5     32  \n",
       "West Virginia   1799      3617   1.4        69.48     6.7   41.6    100  \n",
       "Wisconsin       4589      4468   0.7        72.48     3.0   54.5    149  \n",
       "Wyoming          376      4566   0.6        70.29     6.9   62.9    173  \n",
       "               Area  \n",
       "Alabama         50708\n",
       "Alaska         566432\n",
       "Arizona        113417\n",
       "Arkansas        51945\n",
       "California     156361\n",
       "Colorado       103766\n",
       "Connecticut      4862\n",
       "Delaware         1982\n",
       "Florida         54090\n",
       "Georgia         58073\n",
       "Hawaii           6425\n",
       "Idaho           82677\n",
       "Illinois        55748\n",
       "Indiana         36097\n",
       "Iowa            55941\n",
       "Kansas          81787\n",
       "Kentucky        39650\n",
       "Louisiana       44930\n",
       "Maine           30920\n",
       "Maryland         9891\n",
       "Massachusetts    7826\n",
       "Michigan        56817\n",
       "Minnesota       79289\n",
       "Mississippi     47296\n",
       "Missouri        68995\n",
       "Montana        145587\n",
       "Nebraska        76483\n",
       "Nevada         109889\n",
       "New Hampshire    9027\n",
       "New Jersey       7521\n",
       "New Mexico     121412\n",
       "New York        47831\n",
       "North Carolina  48798\n",
       "North Dakota    69273\n",
       "Ohio            40975\n",
       "Oklahoma        68782\n",
       "Oregon          96184\n",
       "Pennsylvania    44966\n",
       "Rhode Island     1049\n",
       "South Carolina  30225\n",
       "South Dakota    75955\n",
       "Tennessee       41328\n",
       "Texas          262134\n",
       "Utah            82096\n",
       "Vermont          9267\n",
       "Virginia        39780\n",
       "Washington      66570\n",
       "West Virginia   24070\n",
       "Wisconsin       54464\n",
       "Wyoming         97203"
      ]
     },
     "metadata": {},
     "output_type": "display_data"
    }
   ],
   "source": [
    "st <- data.frame(state.x77)\n",
    "st"
   ]
  },
  {
   "cell_type": "code",
   "execution_count": 67,
   "id": "22b1edf8",
   "metadata": {},
   "outputs": [
    {
     "data": {
      "text/html": [
       "<style>\n",
       ".list-inline {list-style: none; margin:0; padding: 0}\n",
       ".list-inline>li {display: inline-block}\n",
       ".list-inline>li:not(:last-child)::after {content: \"\\00b7\"; padding: 0 .5ex}\n",
       "</style>\n",
       "<ol class=list-inline><li>'Population'</li><li>'Income'</li><li>'Illiteracy'</li><li>'Life.Exp'</li><li>'Murder'</li><li>'HS.Grad'</li><li>'Frost'</li><li>'Area'</li></ol>\n"
      ],
      "text/latex": [
       "\\begin{enumerate*}\n",
       "\\item 'Population'\n",
       "\\item 'Income'\n",
       "\\item 'Illiteracy'\n",
       "\\item 'Life.Exp'\n",
       "\\item 'Murder'\n",
       "\\item 'HS.Grad'\n",
       "\\item 'Frost'\n",
       "\\item 'Area'\n",
       "\\end{enumerate*}\n"
      ],
      "text/markdown": [
       "1. 'Population'\n",
       "2. 'Income'\n",
       "3. 'Illiteracy'\n",
       "4. 'Life.Exp'\n",
       "5. 'Murder'\n",
       "6. 'HS.Grad'\n",
       "7. 'Frost'\n",
       "8. 'Area'\n",
       "\n",
       "\n"
      ],
      "text/plain": [
       "[1] \"Population\" \"Income\"     \"Illiteracy\" \"Life.Exp\"   \"Murder\"    \n",
       "[6] \"HS.Grad\"    \"Frost\"      \"Area\"      "
      ]
     },
     "metadata": {},
     "output_type": "display_data"
    }
   ],
   "source": [
    "colnames(st)"
   ]
  },
  {
   "cell_type": "code",
   "execution_count": 68,
   "id": "596fd772",
   "metadata": {},
   "outputs": [
    {
     "data": {
      "text/html": [
       "<style>\n",
       ".list-inline {list-style: none; margin:0; padding: 0}\n",
       ".list-inline>li {display: inline-block}\n",
       ".list-inline>li:not(:last-child)::after {content: \"\\00b7\"; padding: 0 .5ex}\n",
       "</style>\n",
       "<ol class=list-inline><li>'Alabama'</li><li>'Alaska'</li><li>'Arizona'</li><li>'Arkansas'</li><li>'California'</li><li>'Colorado'</li><li>'Connecticut'</li><li>'Delaware'</li><li>'Florida'</li><li>'Georgia'</li><li>'Hawaii'</li><li>'Idaho'</li><li>'Illinois'</li><li>'Indiana'</li><li>'Iowa'</li><li>'Kansas'</li><li>'Kentucky'</li><li>'Louisiana'</li><li>'Maine'</li><li>'Maryland'</li><li>'Massachusetts'</li><li>'Michigan'</li><li>'Minnesota'</li><li>'Mississippi'</li><li>'Missouri'</li><li>'Montana'</li><li>'Nebraska'</li><li>'Nevada'</li><li>'New Hampshire'</li><li>'New Jersey'</li><li>'New Mexico'</li><li>'New York'</li><li>'North Carolina'</li><li>'North Dakota'</li><li>'Ohio'</li><li>'Oklahoma'</li><li>'Oregon'</li><li>'Pennsylvania'</li><li>'Rhode Island'</li><li>'South Carolina'</li><li>'South Dakota'</li><li>'Tennessee'</li><li>'Texas'</li><li>'Utah'</li><li>'Vermont'</li><li>'Virginia'</li><li>'Washington'</li><li>'West Virginia'</li><li>'Wisconsin'</li><li>'Wyoming'</li></ol>\n"
      ],
      "text/latex": [
       "\\begin{enumerate*}\n",
       "\\item 'Alabama'\n",
       "\\item 'Alaska'\n",
       "\\item 'Arizona'\n",
       "\\item 'Arkansas'\n",
       "\\item 'California'\n",
       "\\item 'Colorado'\n",
       "\\item 'Connecticut'\n",
       "\\item 'Delaware'\n",
       "\\item 'Florida'\n",
       "\\item 'Georgia'\n",
       "\\item 'Hawaii'\n",
       "\\item 'Idaho'\n",
       "\\item 'Illinois'\n",
       "\\item 'Indiana'\n",
       "\\item 'Iowa'\n",
       "\\item 'Kansas'\n",
       "\\item 'Kentucky'\n",
       "\\item 'Louisiana'\n",
       "\\item 'Maine'\n",
       "\\item 'Maryland'\n",
       "\\item 'Massachusetts'\n",
       "\\item 'Michigan'\n",
       "\\item 'Minnesota'\n",
       "\\item 'Mississippi'\n",
       "\\item 'Missouri'\n",
       "\\item 'Montana'\n",
       "\\item 'Nebraska'\n",
       "\\item 'Nevada'\n",
       "\\item 'New Hampshire'\n",
       "\\item 'New Jersey'\n",
       "\\item 'New Mexico'\n",
       "\\item 'New York'\n",
       "\\item 'North Carolina'\n",
       "\\item 'North Dakota'\n",
       "\\item 'Ohio'\n",
       "\\item 'Oklahoma'\n",
       "\\item 'Oregon'\n",
       "\\item 'Pennsylvania'\n",
       "\\item 'Rhode Island'\n",
       "\\item 'South Carolina'\n",
       "\\item 'South Dakota'\n",
       "\\item 'Tennessee'\n",
       "\\item 'Texas'\n",
       "\\item 'Utah'\n",
       "\\item 'Vermont'\n",
       "\\item 'Virginia'\n",
       "\\item 'Washington'\n",
       "\\item 'West Virginia'\n",
       "\\item 'Wisconsin'\n",
       "\\item 'Wyoming'\n",
       "\\end{enumerate*}\n"
      ],
      "text/markdown": [
       "1. 'Alabama'\n",
       "2. 'Alaska'\n",
       "3. 'Arizona'\n",
       "4. 'Arkansas'\n",
       "5. 'California'\n",
       "6. 'Colorado'\n",
       "7. 'Connecticut'\n",
       "8. 'Delaware'\n",
       "9. 'Florida'\n",
       "10. 'Georgia'\n",
       "11. 'Hawaii'\n",
       "12. 'Idaho'\n",
       "13. 'Illinois'\n",
       "14. 'Indiana'\n",
       "15. 'Iowa'\n",
       "16. 'Kansas'\n",
       "17. 'Kentucky'\n",
       "18. 'Louisiana'\n",
       "19. 'Maine'\n",
       "20. 'Maryland'\n",
       "21. 'Massachusetts'\n",
       "22. 'Michigan'\n",
       "23. 'Minnesota'\n",
       "24. 'Mississippi'\n",
       "25. 'Missouri'\n",
       "26. 'Montana'\n",
       "27. 'Nebraska'\n",
       "28. 'Nevada'\n",
       "29. 'New Hampshire'\n",
       "30. 'New Jersey'\n",
       "31. 'New Mexico'\n",
       "32. 'New York'\n",
       "33. 'North Carolina'\n",
       "34. 'North Dakota'\n",
       "35. 'Ohio'\n",
       "36. 'Oklahoma'\n",
       "37. 'Oregon'\n",
       "38. 'Pennsylvania'\n",
       "39. 'Rhode Island'\n",
       "40. 'South Carolina'\n",
       "41. 'South Dakota'\n",
       "42. 'Tennessee'\n",
       "43. 'Texas'\n",
       "44. 'Utah'\n",
       "45. 'Vermont'\n",
       "46. 'Virginia'\n",
       "47. 'Washington'\n",
       "48. 'West Virginia'\n",
       "49. 'Wisconsin'\n",
       "50. 'Wyoming'\n",
       "\n",
       "\n"
      ],
      "text/plain": [
       " [1] \"Alabama\"        \"Alaska\"         \"Arizona\"        \"Arkansas\"      \n",
       " [5] \"California\"     \"Colorado\"       \"Connecticut\"    \"Delaware\"      \n",
       " [9] \"Florida\"        \"Georgia\"        \"Hawaii\"         \"Idaho\"         \n",
       "[13] \"Illinois\"       \"Indiana\"        \"Iowa\"           \"Kansas\"        \n",
       "[17] \"Kentucky\"       \"Louisiana\"      \"Maine\"          \"Maryland\"      \n",
       "[21] \"Massachusetts\"  \"Michigan\"       \"Minnesota\"      \"Mississippi\"   \n",
       "[25] \"Missouri\"       \"Montana\"        \"Nebraska\"       \"Nevada\"        \n",
       "[29] \"New Hampshire\"  \"New Jersey\"     \"New Mexico\"     \"New York\"      \n",
       "[33] \"North Carolina\" \"North Dakota\"   \"Ohio\"           \"Oklahoma\"      \n",
       "[37] \"Oregon\"         \"Pennsylvania\"   \"Rhode Island\"   \"South Carolina\"\n",
       "[41] \"South Dakota\"   \"Tennessee\"      \"Texas\"          \"Utah\"          \n",
       "[45] \"Vermont\"        \"Virginia\"       \"Washington\"     \"West Virginia\" \n",
       "[49] \"Wisconsin\"      \"Wyoming\"       "
      ]
     },
     "metadata": {},
     "output_type": "display_data"
    }
   ],
   "source": [
    "rownames(st)"
   ]
  },
  {
   "cell_type": "code",
   "execution_count": 69,
   "id": "9c14c737",
   "metadata": {},
   "outputs": [
    {
     "data": {
      "text/html": [
       "<style>\n",
       ".list-inline {list-style: none; margin:0; padding: 0}\n",
       ".list-inline>li {display: inline-block}\n",
       ".list-inline>li:not(:last-child)::after {content: \"\\00b7\"; padding: 0 .5ex}\n",
       "</style>\n",
       "<ol class=list-inline><li>50</li><li>8</li></ol>\n"
      ],
      "text/latex": [
       "\\begin{enumerate*}\n",
       "\\item 50\n",
       "\\item 8\n",
       "\\end{enumerate*}\n"
      ],
      "text/markdown": [
       "1. 50\n",
       "2. 8\n",
       "\n",
       "\n"
      ],
      "text/plain": [
       "[1] 50  8"
      ]
     },
     "metadata": {},
     "output_type": "display_data"
    }
   ],
   "source": [
    "dim(st)"
   ]
  },
  {
   "cell_type": "code",
   "execution_count": 70,
   "id": "67d972f7",
   "metadata": {},
   "outputs": [
    {
     "name": "stdout",
     "output_type": "stream",
     "text": [
      "'data.frame':\t50 obs. of  8 variables:\n",
      " $ Population: num  3615 365 2212 2110 21198 ...\n",
      " $ Income    : num  3624 6315 4530 3378 5114 ...\n",
      " $ Illiteracy: num  2.1 1.5 1.8 1.9 1.1 0.7 1.1 0.9 1.3 2 ...\n",
      " $ Life.Exp  : num  69 69.3 70.5 70.7 71.7 ...\n",
      " $ Murder    : num  15.1 11.3 7.8 10.1 10.3 6.8 3.1 6.2 10.7 13.9 ...\n",
      " $ HS.Grad   : num  41.3 66.7 58.1 39.9 62.6 63.9 56 54.6 52.6 40.6 ...\n",
      " $ Frost     : num  20 152 15 65 20 166 139 103 11 60 ...\n",
      " $ Area      : num  50708 566432 113417 51945 156361 ...\n"
     ]
    }
   ],
   "source": [
    "str(st)"
   ]
  },
  {
   "cell_type": "code",
   "execution_count": 83,
   "id": "7095be62",
   "metadata": {},
   "outputs": [
    {
     "data": {
      "text/html": [
       "<style>\n",
       ".dl-inline {width: auto; margin:0; padding: 0}\n",
       ".dl-inline>dt, .dl-inline>dd {float: none; width: auto; display: inline-block}\n",
       ".dl-inline>dt::after {content: \":\\0020\"; padding-right: .5ex}\n",
       ".dl-inline>dt:not(:first-of-type) {padding-left: .5ex}\n",
       "</style><dl class=dl-inline><dt>Alabama</dt><dd>7261.81875</dd><dt>Alaska</dt><dd>71676.60125</dd><dt>Arizona</dt><dd>15039.03125</dd><dt>Arkansas</dt><dd>7202.57</dd><dt>California</dt><dd>22854.83875</dd><dt>Colorado</dt><dd>13937.5575</dd><dt>Connecticut</dt><dd>1697.71</dd><dt>Delaware</dt><dd>950.595</dd><dt>Florida</dt><dd>8416.0325</dd><dt>Georgia</dt><dd>8410.005</dd><dt>Hawaii</dt><dd>1549.95</dd><dt>Idaho</dt><dd>10984.03375</dd><dt>Illinois</dt><dd>9039.1175</dd><dt>Indiana</dt><dd>5765.1975</dd><dt>Iowa</dt><dd>7963.045</dd><dt>Kansas</dt><dd>11123.4475</dd><dt>Kentucky</dt><dd>5870.6</dd><dt>Louisiana</dt><dd>6552.495</dd><dt>Maine</dt><dd>4495.18625</dd><dt>Maryland</dt><dd>2443.115</dd><dt>Massachusetts</dt><dd>2329.09125</dd><dt>Michigan</dt><dd>8867.42875</dd><dt>Minnesota</dt><dd>11022.3075</dd><dt>Mississippi</dt><dd>6613.62375</dd><dt>Missouri</dt><dd>9781.69875</dd><dt>Montana</dt><dd>18871.295</dd><dt>Nebraska</dt><dd>10351.175</dd><dt>Nevada</dt><dd>14495.27875</dd><dt>New Hampshire</dt><dd>1803.35375</dd><dt>New Jersey</dt><dd>2541.96625</dd><dt>New Mexico</dt><dd>15801.8025</dd><dt>New York</dt><dd>8878.44375</dd><dt>North Carolina</dt><dd>7289.32625</dd><dt>North Dakota</dt><dd>9413.535</dd><dt>Ohio</dt><dd>7065.9025</dd><dt>Oklahoma</dt><dd>9461.565</dd><dt>Oregon</dt><dd>12913.61625</dd><dt>Pennsylvania</dt><dd>7691.09125</dd><dt>Rhode Island</dt><dd>848.375</dd><dt>South Carolina</dt><dd>4607.5825</dd><dt>South Dakota</dt><dd>10137.8225</dd><dt>Tennessee</dt><dd>6189.57625</dd><dt>Texas</dt><dd>34840.8375</dd><dt>Utah</dt><dd>10950.4125</dd><dt>Vermont</dt><dd>1743.605</dd><dt>Virginia</dt><dd>6209.4725</dd><dt>Washington</dt><dd>9395.64</dd><dt>West Virginia</dt><dd>3713.1475</dd><dt>Wisconsin</dt><dd>7975.085</dd><dt>Wyoming</dt><dd>12807.33625</dd></dl>\n"
      ],
      "text/latex": [
       "\\begin{description*}\n",
       "\\item[Alabama] 7261.81875\n",
       "\\item[Alaska] 71676.60125\n",
       "\\item[Arizona] 15039.03125\n",
       "\\item[Arkansas] 7202.57\n",
       "\\item[California] 22854.83875\n",
       "\\item[Colorado] 13937.5575\n",
       "\\item[Connecticut] 1697.71\n",
       "\\item[Delaware] 950.595\n",
       "\\item[Florida] 8416.0325\n",
       "\\item[Georgia] 8410.005\n",
       "\\item[Hawaii] 1549.95\n",
       "\\item[Idaho] 10984.03375\n",
       "\\item[Illinois] 9039.1175\n",
       "\\item[Indiana] 5765.1975\n",
       "\\item[Iowa] 7963.045\n",
       "\\item[Kansas] 11123.4475\n",
       "\\item[Kentucky] 5870.6\n",
       "\\item[Louisiana] 6552.495\n",
       "\\item[Maine] 4495.18625\n",
       "\\item[Maryland] 2443.115\n",
       "\\item[Massachusetts] 2329.09125\n",
       "\\item[Michigan] 8867.42875\n",
       "\\item[Minnesota] 11022.3075\n",
       "\\item[Mississippi] 6613.62375\n",
       "\\item[Missouri] 9781.69875\n",
       "\\item[Montana] 18871.295\n",
       "\\item[Nebraska] 10351.175\n",
       "\\item[Nevada] 14495.27875\n",
       "\\item[New Hampshire] 1803.35375\n",
       "\\item[New Jersey] 2541.96625\n",
       "\\item[New Mexico] 15801.8025\n",
       "\\item[New York] 8878.44375\n",
       "\\item[North Carolina] 7289.32625\n",
       "\\item[North Dakota] 9413.535\n",
       "\\item[Ohio] 7065.9025\n",
       "\\item[Oklahoma] 9461.565\n",
       "\\item[Oregon] 12913.61625\n",
       "\\item[Pennsylvania] 7691.09125\n",
       "\\item[Rhode Island] 848.375\n",
       "\\item[South Carolina] 4607.5825\n",
       "\\item[South Dakota] 10137.8225\n",
       "\\item[Tennessee] 6189.57625\n",
       "\\item[Texas] 34840.8375\n",
       "\\item[Utah] 10950.4125\n",
       "\\item[Vermont] 1743.605\n",
       "\\item[Virginia] 6209.4725\n",
       "\\item[Washington] 9395.64\n",
       "\\item[West Virginia] 3713.1475\n",
       "\\item[Wisconsin] 7975.085\n",
       "\\item[Wyoming] 12807.33625\n",
       "\\end{description*}\n"
      ],
      "text/markdown": [
       "Alabama\n",
       ":   7261.81875Alaska\n",
       ":   71676.60125Arizona\n",
       ":   15039.03125Arkansas\n",
       ":   7202.57California\n",
       ":   22854.83875Colorado\n",
       ":   13937.5575Connecticut\n",
       ":   1697.71Delaware\n",
       ":   950.595Florida\n",
       ":   8416.0325Georgia\n",
       ":   8410.005Hawaii\n",
       ":   1549.95Idaho\n",
       ":   10984.03375Illinois\n",
       ":   9039.1175Indiana\n",
       ":   5765.1975Iowa\n",
       ":   7963.045Kansas\n",
       ":   11123.4475Kentucky\n",
       ":   5870.6Louisiana\n",
       ":   6552.495Maine\n",
       ":   4495.18625Maryland\n",
       ":   2443.115Massachusetts\n",
       ":   2329.09125Michigan\n",
       ":   8867.42875Minnesota\n",
       ":   11022.3075Mississippi\n",
       ":   6613.62375Missouri\n",
       ":   9781.69875Montana\n",
       ":   18871.295Nebraska\n",
       ":   10351.175Nevada\n",
       ":   14495.27875New Hampshire\n",
       ":   1803.35375New Jersey\n",
       ":   2541.96625New Mexico\n",
       ":   15801.8025New York\n",
       ":   8878.44375North Carolina\n",
       ":   7289.32625North Dakota\n",
       ":   9413.535Ohio\n",
       ":   7065.9025Oklahoma\n",
       ":   9461.565Oregon\n",
       ":   12913.61625Pennsylvania\n",
       ":   7691.09125Rhode Island\n",
       ":   848.375South Carolina\n",
       ":   4607.5825South Dakota\n",
       ":   10137.8225Tennessee\n",
       ":   6189.57625Texas\n",
       ":   34840.8375Utah\n",
       ":   10950.4125Vermont\n",
       ":   1743.605Virginia\n",
       ":   6209.4725Washington\n",
       ":   9395.64West Virginia\n",
       ":   3713.1475Wisconsin\n",
       ":   7975.085Wyoming\n",
       ":   12807.33625\n",
       "\n"
      ],
      "text/plain": [
       "       Alabama         Alaska        Arizona       Arkansas     California \n",
       "      7261.819      71676.601      15039.031       7202.570      22854.839 \n",
       "      Colorado    Connecticut       Delaware        Florida        Georgia \n",
       "     13937.558       1697.710        950.595       8416.032       8410.005 \n",
       "        Hawaii          Idaho       Illinois        Indiana           Iowa \n",
       "      1549.950      10984.034       9039.118       5765.198       7963.045 \n",
       "        Kansas       Kentucky      Louisiana          Maine       Maryland \n",
       "     11123.448       5870.600       6552.495       4495.186       2443.115 \n",
       " Massachusetts       Michigan      Minnesota    Mississippi       Missouri \n",
       "      2329.091       8867.429      11022.308       6613.624       9781.699 \n",
       "       Montana       Nebraska         Nevada  New Hampshire     New Jersey \n",
       "     18871.295      10351.175      14495.279       1803.354       2541.966 \n",
       "    New Mexico       New York North Carolina   North Dakota           Ohio \n",
       "     15801.802       8878.444       7289.326       9413.535       7065.903 \n",
       "      Oklahoma         Oregon   Pennsylvania   Rhode Island South Carolina \n",
       "      9461.565      12913.616       7691.091        848.375       4607.583 \n",
       "  South Dakota      Tennessee          Texas           Utah        Vermont \n",
       "     10137.823       6189.576      34840.838      10950.413       1743.605 \n",
       "      Virginia     Washington  West Virginia      Wisconsin        Wyoming \n",
       "      6209.472       9395.640       3713.148       7975.085      12807.336 "
      ]
     },
     "metadata": {},
     "output_type": "display_data"
    }
   ],
   "source": [
    "rowMeans(st)"
   ]
  },
  {
   "cell_type": "code",
   "execution_count": 74,
   "id": "975b3ea8",
   "metadata": {},
   "outputs": [
    {
     "data": {
      "text/html": [
       "<style>\n",
       ".dl-inline {width: auto; margin:0; padding: 0}\n",
       ".dl-inline>dt, .dl-inline>dd {float: none; width: auto; display: inline-block}\n",
       ".dl-inline>dt::after {content: \":\\0020\"; padding-right: .5ex}\n",
       ".dl-inline>dt:not(:first-of-type) {padding-left: .5ex}\n",
       "</style><dl class=dl-inline><dt>Alabama</dt><dd>7261.81875</dd><dt>Alaska</dt><dd>71676.60125</dd><dt>Arizona</dt><dd>15039.03125</dd><dt>Arkansas</dt><dd>7202.57</dd><dt>California</dt><dd>22854.83875</dd><dt>Colorado</dt><dd>13937.5575</dd><dt>Connecticut</dt><dd>1697.71</dd><dt>Delaware</dt><dd>950.595</dd><dt>Florida</dt><dd>8416.0325</dd><dt>Georgia</dt><dd>8410.005</dd><dt>Hawaii</dt><dd>1549.95</dd><dt>Idaho</dt><dd>10984.03375</dd><dt>Illinois</dt><dd>9039.1175</dd><dt>Indiana</dt><dd>5765.1975</dd><dt>Iowa</dt><dd>7963.045</dd><dt>Kansas</dt><dd>11123.4475</dd><dt>Kentucky</dt><dd>5870.6</dd><dt>Louisiana</dt><dd>6552.495</dd><dt>Maine</dt><dd>4495.18625</dd><dt>Maryland</dt><dd>2443.115</dd><dt>Massachusetts</dt><dd>2329.09125</dd><dt>Michigan</dt><dd>8867.42875</dd><dt>Minnesota</dt><dd>11022.3075</dd><dt>Mississippi</dt><dd>6613.62375</dd><dt>Missouri</dt><dd>9781.69875</dd><dt>Montana</dt><dd>18871.295</dd><dt>Nebraska</dt><dd>10351.175</dd><dt>Nevada</dt><dd>14495.27875</dd><dt>New Hampshire</dt><dd>1803.35375</dd><dt>New Jersey</dt><dd>2541.96625</dd><dt>New Mexico</dt><dd>15801.8025</dd><dt>New York</dt><dd>8878.44375</dd><dt>North Carolina</dt><dd>7289.32625</dd><dt>North Dakota</dt><dd>9413.535</dd><dt>Ohio</dt><dd>7065.9025</dd><dt>Oklahoma</dt><dd>9461.565</dd><dt>Oregon</dt><dd>12913.61625</dd><dt>Pennsylvania</dt><dd>7691.09125</dd><dt>Rhode Island</dt><dd>848.375</dd><dt>South Carolina</dt><dd>4607.5825</dd><dt>South Dakota</dt><dd>10137.8225</dd><dt>Tennessee</dt><dd>6189.57625</dd><dt>Texas</dt><dd>34840.8375</dd><dt>Utah</dt><dd>10950.4125</dd><dt>Vermont</dt><dd>1743.605</dd><dt>Virginia</dt><dd>6209.4725</dd><dt>Washington</dt><dd>9395.64</dd><dt>West Virginia</dt><dd>3713.1475</dd><dt>Wisconsin</dt><dd>7975.085</dd><dt>Wyoming</dt><dd>12807.33625</dd></dl>\n"
      ],
      "text/latex": [
       "\\begin{description*}\n",
       "\\item[Alabama] 7261.81875\n",
       "\\item[Alaska] 71676.60125\n",
       "\\item[Arizona] 15039.03125\n",
       "\\item[Arkansas] 7202.57\n",
       "\\item[California] 22854.83875\n",
       "\\item[Colorado] 13937.5575\n",
       "\\item[Connecticut] 1697.71\n",
       "\\item[Delaware] 950.595\n",
       "\\item[Florida] 8416.0325\n",
       "\\item[Georgia] 8410.005\n",
       "\\item[Hawaii] 1549.95\n",
       "\\item[Idaho] 10984.03375\n",
       "\\item[Illinois] 9039.1175\n",
       "\\item[Indiana] 5765.1975\n",
       "\\item[Iowa] 7963.045\n",
       "\\item[Kansas] 11123.4475\n",
       "\\item[Kentucky] 5870.6\n",
       "\\item[Louisiana] 6552.495\n",
       "\\item[Maine] 4495.18625\n",
       "\\item[Maryland] 2443.115\n",
       "\\item[Massachusetts] 2329.09125\n",
       "\\item[Michigan] 8867.42875\n",
       "\\item[Minnesota] 11022.3075\n",
       "\\item[Mississippi] 6613.62375\n",
       "\\item[Missouri] 9781.69875\n",
       "\\item[Montana] 18871.295\n",
       "\\item[Nebraska] 10351.175\n",
       "\\item[Nevada] 14495.27875\n",
       "\\item[New Hampshire] 1803.35375\n",
       "\\item[New Jersey] 2541.96625\n",
       "\\item[New Mexico] 15801.8025\n",
       "\\item[New York] 8878.44375\n",
       "\\item[North Carolina] 7289.32625\n",
       "\\item[North Dakota] 9413.535\n",
       "\\item[Ohio] 7065.9025\n",
       "\\item[Oklahoma] 9461.565\n",
       "\\item[Oregon] 12913.61625\n",
       "\\item[Pennsylvania] 7691.09125\n",
       "\\item[Rhode Island] 848.375\n",
       "\\item[South Carolina] 4607.5825\n",
       "\\item[South Dakota] 10137.8225\n",
       "\\item[Tennessee] 6189.57625\n",
       "\\item[Texas] 34840.8375\n",
       "\\item[Utah] 10950.4125\n",
       "\\item[Vermont] 1743.605\n",
       "\\item[Virginia] 6209.4725\n",
       "\\item[Washington] 9395.64\n",
       "\\item[West Virginia] 3713.1475\n",
       "\\item[Wisconsin] 7975.085\n",
       "\\item[Wyoming] 12807.33625\n",
       "\\end{description*}\n"
      ],
      "text/markdown": [
       "Alabama\n",
       ":   7261.81875Alaska\n",
       ":   71676.60125Arizona\n",
       ":   15039.03125Arkansas\n",
       ":   7202.57California\n",
       ":   22854.83875Colorado\n",
       ":   13937.5575Connecticut\n",
       ":   1697.71Delaware\n",
       ":   950.595Florida\n",
       ":   8416.0325Georgia\n",
       ":   8410.005Hawaii\n",
       ":   1549.95Idaho\n",
       ":   10984.03375Illinois\n",
       ":   9039.1175Indiana\n",
       ":   5765.1975Iowa\n",
       ":   7963.045Kansas\n",
       ":   11123.4475Kentucky\n",
       ":   5870.6Louisiana\n",
       ":   6552.495Maine\n",
       ":   4495.18625Maryland\n",
       ":   2443.115Massachusetts\n",
       ":   2329.09125Michigan\n",
       ":   8867.42875Minnesota\n",
       ":   11022.3075Mississippi\n",
       ":   6613.62375Missouri\n",
       ":   9781.69875Montana\n",
       ":   18871.295Nebraska\n",
       ":   10351.175Nevada\n",
       ":   14495.27875New Hampshire\n",
       ":   1803.35375New Jersey\n",
       ":   2541.96625New Mexico\n",
       ":   15801.8025New York\n",
       ":   8878.44375North Carolina\n",
       ":   7289.32625North Dakota\n",
       ":   9413.535Ohio\n",
       ":   7065.9025Oklahoma\n",
       ":   9461.565Oregon\n",
       ":   12913.61625Pennsylvania\n",
       ":   7691.09125Rhode Island\n",
       ":   848.375South Carolina\n",
       ":   4607.5825South Dakota\n",
       ":   10137.8225Tennessee\n",
       ":   6189.57625Texas\n",
       ":   34840.8375Utah\n",
       ":   10950.4125Vermont\n",
       ":   1743.605Virginia\n",
       ":   6209.4725Washington\n",
       ":   9395.64West Virginia\n",
       ":   3713.1475Wisconsin\n",
       ":   7975.085Wyoming\n",
       ":   12807.33625\n",
       "\n"
      ],
      "text/plain": [
       "       Alabama         Alaska        Arizona       Arkansas     California \n",
       "      7261.819      71676.601      15039.031       7202.570      22854.839 \n",
       "      Colorado    Connecticut       Delaware        Florida        Georgia \n",
       "     13937.558       1697.710        950.595       8416.032       8410.005 \n",
       "        Hawaii          Idaho       Illinois        Indiana           Iowa \n",
       "      1549.950      10984.034       9039.118       5765.198       7963.045 \n",
       "        Kansas       Kentucky      Louisiana          Maine       Maryland \n",
       "     11123.448       5870.600       6552.495       4495.186       2443.115 \n",
       " Massachusetts       Michigan      Minnesota    Mississippi       Missouri \n",
       "      2329.091       8867.429      11022.308       6613.624       9781.699 \n",
       "       Montana       Nebraska         Nevada  New Hampshire     New Jersey \n",
       "     18871.295      10351.175      14495.279       1803.354       2541.966 \n",
       "    New Mexico       New York North Carolina   North Dakota           Ohio \n",
       "     15801.802       8878.444       7289.326       9413.535       7065.903 \n",
       "      Oklahoma         Oregon   Pennsylvania   Rhode Island South Carolina \n",
       "      9461.565      12913.616       7691.091        848.375       4607.583 \n",
       "  South Dakota      Tennessee          Texas           Utah        Vermont \n",
       "     10137.823       6189.576      34840.838      10950.413       1743.605 \n",
       "      Virginia     Washington  West Virginia      Wisconsin        Wyoming \n",
       "      6209.472       9395.640       3713.148       7975.085      12807.336 "
      ]
     },
     "metadata": {},
     "output_type": "display_data"
    }
   ],
   "source": [
    "apply(st, 1, mean)"
   ]
  },
  {
   "cell_type": "code",
   "execution_count": 85,
   "id": "45c95d56",
   "metadata": {},
   "outputs": [
    {
     "data": {
      "text/html": [
       "<style>\n",
       ".dl-inline {width: auto; margin:0; padding: 0}\n",
       ".dl-inline>dt, .dl-inline>dd {float: none; width: auto; display: inline-block}\n",
       ".dl-inline>dt::after {content: \":\\0020\"; padding-right: .5ex}\n",
       ".dl-inline>dt:not(:first-of-type) {padding-left: .5ex}\n",
       "</style><dl class=dl-inline><dt>Population</dt><dd>4246.42</dd><dt>Income</dt><dd>4435.8</dd><dt>Illiteracy</dt><dd>1.17</dd><dt>Life.Exp</dt><dd>70.8786</dd><dt>Murder</dt><dd>7.378</dd><dt>HS.Grad</dt><dd>53.108</dd><dt>Frost</dt><dd>104.46</dd><dt>Area</dt><dd>70735.88</dd></dl>\n"
      ],
      "text/latex": [
       "\\begin{description*}\n",
       "\\item[Population] 4246.42\n",
       "\\item[Income] 4435.8\n",
       "\\item[Illiteracy] 1.17\n",
       "\\item[Life.Exp] 70.8786\n",
       "\\item[Murder] 7.378\n",
       "\\item[HS.Grad] 53.108\n",
       "\\item[Frost] 104.46\n",
       "\\item[Area] 70735.88\n",
       "\\end{description*}\n"
      ],
      "text/markdown": [
       "Population\n",
       ":   4246.42Income\n",
       ":   4435.8Illiteracy\n",
       ":   1.17Life.Exp\n",
       ":   70.8786Murder\n",
       ":   7.378HS.Grad\n",
       ":   53.108Frost\n",
       ":   104.46Area\n",
       ":   70735.88\n",
       "\n"
      ],
      "text/plain": [
       "Population     Income Illiteracy   Life.Exp     Murder    HS.Grad      Frost \n",
       " 4246.4200  4435.8000     1.1700    70.8786     7.3780    53.1080   104.4600 \n",
       "      Area \n",
       "70735.8800 "
      ]
     },
     "metadata": {},
     "output_type": "display_data"
    }
   ],
   "source": [
    "colMeans(st)"
   ]
  },
  {
   "cell_type": "code",
   "execution_count": 75,
   "id": "3b25cebb",
   "metadata": {},
   "outputs": [
    {
     "data": {
      "text/html": [
       "<style>\n",
       ".dl-inline {width: auto; margin:0; padding: 0}\n",
       ".dl-inline>dt, .dl-inline>dd {float: none; width: auto; display: inline-block}\n",
       ".dl-inline>dt::after {content: \":\\0020\"; padding-right: .5ex}\n",
       ".dl-inline>dt:not(:first-of-type) {padding-left: .5ex}\n",
       "</style><dl class=dl-inline><dt>Population</dt><dd>4246.42</dd><dt>Income</dt><dd>4435.8</dd><dt>Illiteracy</dt><dd>1.17</dd><dt>Life.Exp</dt><dd>70.8786</dd><dt>Murder</dt><dd>7.378</dd><dt>HS.Grad</dt><dd>53.108</dd><dt>Frost</dt><dd>104.46</dd><dt>Area</dt><dd>70735.88</dd></dl>\n"
      ],
      "text/latex": [
       "\\begin{description*}\n",
       "\\item[Population] 4246.42\n",
       "\\item[Income] 4435.8\n",
       "\\item[Illiteracy] 1.17\n",
       "\\item[Life.Exp] 70.8786\n",
       "\\item[Murder] 7.378\n",
       "\\item[HS.Grad] 53.108\n",
       "\\item[Frost] 104.46\n",
       "\\item[Area] 70735.88\n",
       "\\end{description*}\n"
      ],
      "text/markdown": [
       "Population\n",
       ":   4246.42Income\n",
       ":   4435.8Illiteracy\n",
       ":   1.17Life.Exp\n",
       ":   70.8786Murder\n",
       ":   7.378HS.Grad\n",
       ":   53.108Frost\n",
       ":   104.46Area\n",
       ":   70735.88\n",
       "\n"
      ],
      "text/plain": [
       "Population     Income Illiteracy   Life.Exp     Murder    HS.Grad      Frost \n",
       " 4246.4200  4435.8000     1.1700    70.8786     7.3780    53.1080   104.4600 \n",
       "      Area \n",
       "70735.8800 "
      ]
     },
     "metadata": {},
     "output_type": "display_data"
    }
   ],
   "source": [
    "apply(st, 2, mean)"
   ]
  },
  {
   "cell_type": "code",
   "execution_count": 77,
   "id": "9edbb411",
   "metadata": {},
   "outputs": [
    {
     "data": {
      "text/html": [
       "<style>\n",
       ".list-inline {list-style: none; margin:0; padding: 0}\n",
       ".list-inline>li {display: inline-block}\n",
       ".list-inline>li:not(:last-child)::after {content: \"\\00b7\"; padding: 0 .5ex}\n",
       "</style>\n",
       "<ol class=list-inline><li>'Population'</li><li>'Income'</li><li>'Illiteracy'</li><li>'Life.Exp'</li><li>'Murder'</li><li>'HS.Grad'</li><li>'Frost'</li><li>'Area'</li></ol>\n"
      ],
      "text/latex": [
       "\\begin{enumerate*}\n",
       "\\item 'Population'\n",
       "\\item 'Income'\n",
       "\\item 'Illiteracy'\n",
       "\\item 'Life.Exp'\n",
       "\\item 'Murder'\n",
       "\\item 'HS.Grad'\n",
       "\\item 'Frost'\n",
       "\\item 'Area'\n",
       "\\end{enumerate*}\n"
      ],
      "text/markdown": [
       "1. 'Population'\n",
       "2. 'Income'\n",
       "3. 'Illiteracy'\n",
       "4. 'Life.Exp'\n",
       "5. 'Murder'\n",
       "6. 'HS.Grad'\n",
       "7. 'Frost'\n",
       "8. 'Area'\n",
       "\n",
       "\n"
      ],
      "text/plain": [
       "[1] \"Population\" \"Income\"     \"Illiteracy\" \"Life.Exp\"   \"Murder\"    \n",
       "[6] \"HS.Grad\"    \"Frost\"      \"Area\"      "
      ]
     },
     "metadata": {},
     "output_type": "display_data"
    }
   ],
   "source": [
    "colnames(st)"
   ]
  },
  {
   "cell_type": "code",
   "execution_count": 78,
   "id": "3336de6c",
   "metadata": {},
   "outputs": [
    {
     "data": {
      "text/html": [
       "<style>\n",
       ".list-inline {list-style: none; margin:0; padding: 0}\n",
       ".list-inline>li {display: inline-block}\n",
       ".list-inline>li:not(:last-child)::after {content: \"\\00b7\"; padding: 0 .5ex}\n",
       "</style>\n",
       "<ol class=list-inline><li>'Alabama'</li><li>'Alaska'</li><li>'Arizona'</li><li>'Arkansas'</li><li>'California'</li><li>'Colorado'</li><li>'Connecticut'</li><li>'Delaware'</li><li>'Florida'</li><li>'Georgia'</li><li>'Hawaii'</li><li>'Idaho'</li><li>'Illinois'</li><li>'Indiana'</li><li>'Iowa'</li><li>'Kansas'</li><li>'Kentucky'</li><li>'Louisiana'</li><li>'Maine'</li><li>'Maryland'</li><li>'Massachusetts'</li><li>'Michigan'</li><li>'Minnesota'</li><li>'Mississippi'</li><li>'Missouri'</li><li>'Montana'</li><li>'Nebraska'</li><li>'Nevada'</li><li>'New Hampshire'</li><li>'New Jersey'</li><li>'New Mexico'</li><li>'New York'</li><li>'North Carolina'</li><li>'North Dakota'</li><li>'Ohio'</li><li>'Oklahoma'</li><li>'Oregon'</li><li>'Pennsylvania'</li><li>'Rhode Island'</li><li>'South Carolina'</li><li>'South Dakota'</li><li>'Tennessee'</li><li>'Texas'</li><li>'Utah'</li><li>'Vermont'</li><li>'Virginia'</li><li>'Washington'</li><li>'West Virginia'</li><li>'Wisconsin'</li><li>'Wyoming'</li></ol>\n"
      ],
      "text/latex": [
       "\\begin{enumerate*}\n",
       "\\item 'Alabama'\n",
       "\\item 'Alaska'\n",
       "\\item 'Arizona'\n",
       "\\item 'Arkansas'\n",
       "\\item 'California'\n",
       "\\item 'Colorado'\n",
       "\\item 'Connecticut'\n",
       "\\item 'Delaware'\n",
       "\\item 'Florida'\n",
       "\\item 'Georgia'\n",
       "\\item 'Hawaii'\n",
       "\\item 'Idaho'\n",
       "\\item 'Illinois'\n",
       "\\item 'Indiana'\n",
       "\\item 'Iowa'\n",
       "\\item 'Kansas'\n",
       "\\item 'Kentucky'\n",
       "\\item 'Louisiana'\n",
       "\\item 'Maine'\n",
       "\\item 'Maryland'\n",
       "\\item 'Massachusetts'\n",
       "\\item 'Michigan'\n",
       "\\item 'Minnesota'\n",
       "\\item 'Mississippi'\n",
       "\\item 'Missouri'\n",
       "\\item 'Montana'\n",
       "\\item 'Nebraska'\n",
       "\\item 'Nevada'\n",
       "\\item 'New Hampshire'\n",
       "\\item 'New Jersey'\n",
       "\\item 'New Mexico'\n",
       "\\item 'New York'\n",
       "\\item 'North Carolina'\n",
       "\\item 'North Dakota'\n",
       "\\item 'Ohio'\n",
       "\\item 'Oklahoma'\n",
       "\\item 'Oregon'\n",
       "\\item 'Pennsylvania'\n",
       "\\item 'Rhode Island'\n",
       "\\item 'South Carolina'\n",
       "\\item 'South Dakota'\n",
       "\\item 'Tennessee'\n",
       "\\item 'Texas'\n",
       "\\item 'Utah'\n",
       "\\item 'Vermont'\n",
       "\\item 'Virginia'\n",
       "\\item 'Washington'\n",
       "\\item 'West Virginia'\n",
       "\\item 'Wisconsin'\n",
       "\\item 'Wyoming'\n",
       "\\end{enumerate*}\n"
      ],
      "text/markdown": [
       "1. 'Alabama'\n",
       "2. 'Alaska'\n",
       "3. 'Arizona'\n",
       "4. 'Arkansas'\n",
       "5. 'California'\n",
       "6. 'Colorado'\n",
       "7. 'Connecticut'\n",
       "8. 'Delaware'\n",
       "9. 'Florida'\n",
       "10. 'Georgia'\n",
       "11. 'Hawaii'\n",
       "12. 'Idaho'\n",
       "13. 'Illinois'\n",
       "14. 'Indiana'\n",
       "15. 'Iowa'\n",
       "16. 'Kansas'\n",
       "17. 'Kentucky'\n",
       "18. 'Louisiana'\n",
       "19. 'Maine'\n",
       "20. 'Maryland'\n",
       "21. 'Massachusetts'\n",
       "22. 'Michigan'\n",
       "23. 'Minnesota'\n",
       "24. 'Mississippi'\n",
       "25. 'Missouri'\n",
       "26. 'Montana'\n",
       "27. 'Nebraska'\n",
       "28. 'Nevada'\n",
       "29. 'New Hampshire'\n",
       "30. 'New Jersey'\n",
       "31. 'New Mexico'\n",
       "32. 'New York'\n",
       "33. 'North Carolina'\n",
       "34. 'North Dakota'\n",
       "35. 'Ohio'\n",
       "36. 'Oklahoma'\n",
       "37. 'Oregon'\n",
       "38. 'Pennsylvania'\n",
       "39. 'Rhode Island'\n",
       "40. 'South Carolina'\n",
       "41. 'South Dakota'\n",
       "42. 'Tennessee'\n",
       "43. 'Texas'\n",
       "44. 'Utah'\n",
       "45. 'Vermont'\n",
       "46. 'Virginia'\n",
       "47. 'Washington'\n",
       "48. 'West Virginia'\n",
       "49. 'Wisconsin'\n",
       "50. 'Wyoming'\n",
       "\n",
       "\n"
      ],
      "text/plain": [
       " [1] \"Alabama\"        \"Alaska\"         \"Arizona\"        \"Arkansas\"      \n",
       " [5] \"California\"     \"Colorado\"       \"Connecticut\"    \"Delaware\"      \n",
       " [9] \"Florida\"        \"Georgia\"        \"Hawaii\"         \"Idaho\"         \n",
       "[13] \"Illinois\"       \"Indiana\"        \"Iowa\"           \"Kansas\"        \n",
       "[17] \"Kentucky\"       \"Louisiana\"      \"Maine\"          \"Maryland\"      \n",
       "[21] \"Massachusetts\"  \"Michigan\"       \"Minnesota\"      \"Mississippi\"   \n",
       "[25] \"Missouri\"       \"Montana\"        \"Nebraska\"       \"Nevada\"        \n",
       "[29] \"New Hampshire\"  \"New Jersey\"     \"New Mexico\"     \"New York\"      \n",
       "[33] \"North Carolina\" \"North Dakota\"   \"Ohio\"           \"Oklahoma\"      \n",
       "[37] \"Oregon\"         \"Pennsylvania\"   \"Rhode Island\"   \"South Carolina\"\n",
       "[41] \"South Dakota\"   \"Tennessee\"      \"Texas\"          \"Utah\"          \n",
       "[45] \"Vermont\"        \"Virginia\"       \"Washington\"     \"West Virginia\" \n",
       "[49] \"Wisconsin\"      \"Wyoming\"       "
      ]
     },
     "metadata": {},
     "output_type": "display_data"
    }
   ],
   "source": [
    "rownames(st)"
   ]
  },
  {
   "cell_type": "code",
   "execution_count": 79,
   "id": "8c323c5c",
   "metadata": {},
   "outputs": [
    {
     "data": {
      "text/html": [
       "<table class=\"dataframe\">\n",
       "<caption>A data.frame: 1 × 8</caption>\n",
       "<thead>\n",
       "\t<tr><th></th><th scope=col>Population</th><th scope=col>Income</th><th scope=col>Illiteracy</th><th scope=col>Life.Exp</th><th scope=col>Murder</th><th scope=col>HS.Grad</th><th scope=col>Frost</th><th scope=col>Area</th></tr>\n",
       "\t<tr><th></th><th scope=col>&lt;dbl&gt;</th><th scope=col>&lt;dbl&gt;</th><th scope=col>&lt;dbl&gt;</th><th scope=col>&lt;dbl&gt;</th><th scope=col>&lt;dbl&gt;</th><th scope=col>&lt;dbl&gt;</th><th scope=col>&lt;dbl&gt;</th><th scope=col>&lt;dbl&gt;</th></tr>\n",
       "</thead>\n",
       "<tbody>\n",
       "\t<tr><th scope=row>Florida</th><td>8277</td><td>4815</td><td>1.3</td><td>70.66</td><td>10.7</td><td>52.6</td><td>11</td><td>54090</td></tr>\n",
       "</tbody>\n",
       "</table>\n"
      ],
      "text/latex": [
       "A data.frame: 1 × 8\n",
       "\\begin{tabular}{r|llllllll}\n",
       "  & Population & Income & Illiteracy & Life.Exp & Murder & HS.Grad & Frost & Area\\\\\n",
       "  & <dbl> & <dbl> & <dbl> & <dbl> & <dbl> & <dbl> & <dbl> & <dbl>\\\\\n",
       "\\hline\n",
       "\tFlorida & 8277 & 4815 & 1.3 & 70.66 & 10.7 & 52.6 & 11 & 54090\\\\\n",
       "\\end{tabular}\n"
      ],
      "text/markdown": [
       "\n",
       "A data.frame: 1 × 8\n",
       "\n",
       "| <!--/--> | Population &lt;dbl&gt; | Income &lt;dbl&gt; | Illiteracy &lt;dbl&gt; | Life.Exp &lt;dbl&gt; | Murder &lt;dbl&gt; | HS.Grad &lt;dbl&gt; | Frost &lt;dbl&gt; | Area &lt;dbl&gt; |\n",
       "|---|---|---|---|---|---|---|---|---|\n",
       "| Florida | 8277 | 4815 | 1.3 | 70.66 | 10.7 | 52.6 | 11 | 54090 |\n",
       "\n"
      ],
      "text/plain": [
       "        Population Income Illiteracy Life.Exp Murder HS.Grad Frost Area \n",
       "Florida 8277       4815   1.3        70.66    10.7   52.6    11    54090"
      ]
     },
     "metadata": {},
     "output_type": "display_data"
    }
   ],
   "source": [
    "st['Florida',]"
   ]
  },
  {
   "cell_type": "code",
   "execution_count": 80,
   "id": "e28096b7",
   "metadata": {},
   "outputs": [
    {
     "data": {
      "text/html": [
       "<table class=\"dataframe\">\n",
       "<caption>A data.frame: 50 × 1</caption>\n",
       "<thead>\n",
       "\t<tr><th></th><th scope=col>Income</th></tr>\n",
       "\t<tr><th></th><th scope=col>&lt;dbl&gt;</th></tr>\n",
       "</thead>\n",
       "<tbody>\n",
       "\t<tr><th scope=row>Alabama</th><td>3624</td></tr>\n",
       "\t<tr><th scope=row>Alaska</th><td>6315</td></tr>\n",
       "\t<tr><th scope=row>Arizona</th><td>4530</td></tr>\n",
       "\t<tr><th scope=row>Arkansas</th><td>3378</td></tr>\n",
       "\t<tr><th scope=row>California</th><td>5114</td></tr>\n",
       "\t<tr><th scope=row>Colorado</th><td>4884</td></tr>\n",
       "\t<tr><th scope=row>Connecticut</th><td>5348</td></tr>\n",
       "\t<tr><th scope=row>Delaware</th><td>4809</td></tr>\n",
       "\t<tr><th scope=row>Florida</th><td>4815</td></tr>\n",
       "\t<tr><th scope=row>Georgia</th><td>4091</td></tr>\n",
       "\t<tr><th scope=row>Hawaii</th><td>4963</td></tr>\n",
       "\t<tr><th scope=row>Idaho</th><td>4119</td></tr>\n",
       "\t<tr><th scope=row>Illinois</th><td>5107</td></tr>\n",
       "\t<tr><th scope=row>Indiana</th><td>4458</td></tr>\n",
       "\t<tr><th scope=row>Iowa</th><td>4628</td></tr>\n",
       "\t<tr><th scope=row>Kansas</th><td>4669</td></tr>\n",
       "\t<tr><th scope=row>Kentucky</th><td>3712</td></tr>\n",
       "\t<tr><th scope=row>Louisiana</th><td>3545</td></tr>\n",
       "\t<tr><th scope=row>Maine</th><td>3694</td></tr>\n",
       "\t<tr><th scope=row>Maryland</th><td>5299</td></tr>\n",
       "\t<tr><th scope=row>Massachusetts</th><td>4755</td></tr>\n",
       "\t<tr><th scope=row>Michigan</th><td>4751</td></tr>\n",
       "\t<tr><th scope=row>Minnesota</th><td>4675</td></tr>\n",
       "\t<tr><th scope=row>Mississippi</th><td>3098</td></tr>\n",
       "\t<tr><th scope=row>Missouri</th><td>4254</td></tr>\n",
       "\t<tr><th scope=row>Montana</th><td>4347</td></tr>\n",
       "\t<tr><th scope=row>Nebraska</th><td>4508</td></tr>\n",
       "\t<tr><th scope=row>Nevada</th><td>5149</td></tr>\n",
       "\t<tr><th scope=row>New Hampshire</th><td>4281</td></tr>\n",
       "\t<tr><th scope=row>New Jersey</th><td>5237</td></tr>\n",
       "\t<tr><th scope=row>New Mexico</th><td>3601</td></tr>\n",
       "\t<tr><th scope=row>New York</th><td>4903</td></tr>\n",
       "\t<tr><th scope=row>North Carolina</th><td>3875</td></tr>\n",
       "\t<tr><th scope=row>North Dakota</th><td>5087</td></tr>\n",
       "\t<tr><th scope=row>Ohio</th><td>4561</td></tr>\n",
       "\t<tr><th scope=row>Oklahoma</th><td>3983</td></tr>\n",
       "\t<tr><th scope=row>Oregon</th><td>4660</td></tr>\n",
       "\t<tr><th scope=row>Pennsylvania</th><td>4449</td></tr>\n",
       "\t<tr><th scope=row>Rhode Island</th><td>4558</td></tr>\n",
       "\t<tr><th scope=row>South Carolina</th><td>3635</td></tr>\n",
       "\t<tr><th scope=row>South Dakota</th><td>4167</td></tr>\n",
       "\t<tr><th scope=row>Tennessee</th><td>3821</td></tr>\n",
       "\t<tr><th scope=row>Texas</th><td>4188</td></tr>\n",
       "\t<tr><th scope=row>Utah</th><td>4022</td></tr>\n",
       "\t<tr><th scope=row>Vermont</th><td>3907</td></tr>\n",
       "\t<tr><th scope=row>Virginia</th><td>4701</td></tr>\n",
       "\t<tr><th scope=row>Washington</th><td>4864</td></tr>\n",
       "\t<tr><th scope=row>West Virginia</th><td>3617</td></tr>\n",
       "\t<tr><th scope=row>Wisconsin</th><td>4468</td></tr>\n",
       "\t<tr><th scope=row>Wyoming</th><td>4566</td></tr>\n",
       "</tbody>\n",
       "</table>\n"
      ],
      "text/latex": [
       "A data.frame: 50 × 1\n",
       "\\begin{tabular}{r|l}\n",
       "  & Income\\\\\n",
       "  & <dbl>\\\\\n",
       "\\hline\n",
       "\tAlabama & 3624\\\\\n",
       "\tAlaska & 6315\\\\\n",
       "\tArizona & 4530\\\\\n",
       "\tArkansas & 3378\\\\\n",
       "\tCalifornia & 5114\\\\\n",
       "\tColorado & 4884\\\\\n",
       "\tConnecticut & 5348\\\\\n",
       "\tDelaware & 4809\\\\\n",
       "\tFlorida & 4815\\\\\n",
       "\tGeorgia & 4091\\\\\n",
       "\tHawaii & 4963\\\\\n",
       "\tIdaho & 4119\\\\\n",
       "\tIllinois & 5107\\\\\n",
       "\tIndiana & 4458\\\\\n",
       "\tIowa & 4628\\\\\n",
       "\tKansas & 4669\\\\\n",
       "\tKentucky & 3712\\\\\n",
       "\tLouisiana & 3545\\\\\n",
       "\tMaine & 3694\\\\\n",
       "\tMaryland & 5299\\\\\n",
       "\tMassachusetts & 4755\\\\\n",
       "\tMichigan & 4751\\\\\n",
       "\tMinnesota & 4675\\\\\n",
       "\tMississippi & 3098\\\\\n",
       "\tMissouri & 4254\\\\\n",
       "\tMontana & 4347\\\\\n",
       "\tNebraska & 4508\\\\\n",
       "\tNevada & 5149\\\\\n",
       "\tNew Hampshire & 4281\\\\\n",
       "\tNew Jersey & 5237\\\\\n",
       "\tNew Mexico & 3601\\\\\n",
       "\tNew York & 4903\\\\\n",
       "\tNorth Carolina & 3875\\\\\n",
       "\tNorth Dakota & 5087\\\\\n",
       "\tOhio & 4561\\\\\n",
       "\tOklahoma & 3983\\\\\n",
       "\tOregon & 4660\\\\\n",
       "\tPennsylvania & 4449\\\\\n",
       "\tRhode Island & 4558\\\\\n",
       "\tSouth Carolina & 3635\\\\\n",
       "\tSouth Dakota & 4167\\\\\n",
       "\tTennessee & 3821\\\\\n",
       "\tTexas & 4188\\\\\n",
       "\tUtah & 4022\\\\\n",
       "\tVermont & 3907\\\\\n",
       "\tVirginia & 4701\\\\\n",
       "\tWashington & 4864\\\\\n",
       "\tWest Virginia & 3617\\\\\n",
       "\tWisconsin & 4468\\\\\n",
       "\tWyoming & 4566\\\\\n",
       "\\end{tabular}\n"
      ],
      "text/markdown": [
       "\n",
       "A data.frame: 50 × 1\n",
       "\n",
       "| <!--/--> | Income &lt;dbl&gt; |\n",
       "|---|---|\n",
       "| Alabama | 3624 |\n",
       "| Alaska | 6315 |\n",
       "| Arizona | 4530 |\n",
       "| Arkansas | 3378 |\n",
       "| California | 5114 |\n",
       "| Colorado | 4884 |\n",
       "| Connecticut | 5348 |\n",
       "| Delaware | 4809 |\n",
       "| Florida | 4815 |\n",
       "| Georgia | 4091 |\n",
       "| Hawaii | 4963 |\n",
       "| Idaho | 4119 |\n",
       "| Illinois | 5107 |\n",
       "| Indiana | 4458 |\n",
       "| Iowa | 4628 |\n",
       "| Kansas | 4669 |\n",
       "| Kentucky | 3712 |\n",
       "| Louisiana | 3545 |\n",
       "| Maine | 3694 |\n",
       "| Maryland | 5299 |\n",
       "| Massachusetts | 4755 |\n",
       "| Michigan | 4751 |\n",
       "| Minnesota | 4675 |\n",
       "| Mississippi | 3098 |\n",
       "| Missouri | 4254 |\n",
       "| Montana | 4347 |\n",
       "| Nebraska | 4508 |\n",
       "| Nevada | 5149 |\n",
       "| New Hampshire | 4281 |\n",
       "| New Jersey | 5237 |\n",
       "| New Mexico | 3601 |\n",
       "| New York | 4903 |\n",
       "| North Carolina | 3875 |\n",
       "| North Dakota | 5087 |\n",
       "| Ohio | 4561 |\n",
       "| Oklahoma | 3983 |\n",
       "| Oregon | 4660 |\n",
       "| Pennsylvania | 4449 |\n",
       "| Rhode Island | 4558 |\n",
       "| South Carolina | 3635 |\n",
       "| South Dakota | 4167 |\n",
       "| Tennessee | 3821 |\n",
       "| Texas | 4188 |\n",
       "| Utah | 4022 |\n",
       "| Vermont | 3907 |\n",
       "| Virginia | 4701 |\n",
       "| Washington | 4864 |\n",
       "| West Virginia | 3617 |\n",
       "| Wisconsin | 4468 |\n",
       "| Wyoming | 4566 |\n",
       "\n"
      ],
      "text/plain": [
       "               Income\n",
       "Alabama        3624  \n",
       "Alaska         6315  \n",
       "Arizona        4530  \n",
       "Arkansas       3378  \n",
       "California     5114  \n",
       "Colorado       4884  \n",
       "Connecticut    5348  \n",
       "Delaware       4809  \n",
       "Florida        4815  \n",
       "Georgia        4091  \n",
       "Hawaii         4963  \n",
       "Idaho          4119  \n",
       "Illinois       5107  \n",
       "Indiana        4458  \n",
       "Iowa           4628  \n",
       "Kansas         4669  \n",
       "Kentucky       3712  \n",
       "Louisiana      3545  \n",
       "Maine          3694  \n",
       "Maryland       5299  \n",
       "Massachusetts  4755  \n",
       "Michigan       4751  \n",
       "Minnesota      4675  \n",
       "Mississippi    3098  \n",
       "Missouri       4254  \n",
       "Montana        4347  \n",
       "Nebraska       4508  \n",
       "Nevada         5149  \n",
       "New Hampshire  4281  \n",
       "New Jersey     5237  \n",
       "New Mexico     3601  \n",
       "New York       4903  \n",
       "North Carolina 3875  \n",
       "North Dakota   5087  \n",
       "Ohio           4561  \n",
       "Oklahoma       3983  \n",
       "Oregon         4660  \n",
       "Pennsylvania   4449  \n",
       "Rhode Island   4558  \n",
       "South Carolina 3635  \n",
       "South Dakota   4167  \n",
       "Tennessee      3821  \n",
       "Texas          4188  \n",
       "Utah           4022  \n",
       "Vermont        3907  \n",
       "Virginia       4701  \n",
       "Washington     4864  \n",
       "West Virginia  3617  \n",
       "Wisconsin      4468  \n",
       "Wyoming        4566  "
      ]
     },
     "metadata": {},
     "output_type": "display_data"
    }
   ],
   "source": [
    "st['Income']"
   ]
  },
  {
   "cell_type": "code",
   "execution_count": 87,
   "id": "1089b868",
   "metadata": {},
   "outputs": [
    {
     "data": {
      "text/html": [
       "262134"
      ],
      "text/latex": [
       "262134"
      ],
      "text/markdown": [
       "262134"
      ],
      "text/plain": [
       "[1] 262134"
      ]
     },
     "metadata": {},
     "output_type": "display_data"
    }
   ],
   "source": [
    "st['Texas','Area']"
   ]
  },
  {
   "cell_type": "code",
   "execution_count": 88,
   "id": "36ed9a11",
   "metadata": {},
   "outputs": [
    {
     "data": {
      "text/html": [
       "<table class=\"dataframe\">\n",
       "<caption>A data.frame: 1 × 2</caption>\n",
       "<thead>\n",
       "\t<tr><th></th><th scope=col>Population</th><th scope=col>Income</th></tr>\n",
       "\t<tr><th></th><th scope=col>&lt;dbl&gt;</th><th scope=col>&lt;dbl&gt;</th></tr>\n",
       "</thead>\n",
       "<tbody>\n",
       "\t<tr><th scope=row>Ohio</th><td>10735</td><td>4561</td></tr>\n",
       "</tbody>\n",
       "</table>\n"
      ],
      "text/latex": [
       "A data.frame: 1 × 2\n",
       "\\begin{tabular}{r|ll}\n",
       "  & Population & Income\\\\\n",
       "  & <dbl> & <dbl>\\\\\n",
       "\\hline\n",
       "\tOhio & 10735 & 4561\\\\\n",
       "\\end{tabular}\n"
      ],
      "text/markdown": [
       "\n",
       "A data.frame: 1 × 2\n",
       "\n",
       "| <!--/--> | Population &lt;dbl&gt; | Income &lt;dbl&gt; |\n",
       "|---|---|---|\n",
       "| Ohio | 10735 | 4561 |\n",
       "\n"
      ],
      "text/plain": [
       "     Population Income\n",
       "Ohio 10735      4561  "
      ]
     },
     "metadata": {},
     "output_type": "display_data"
    }
   ],
   "source": [
    "st['Ohio', c('Population', 'Income')]"
   ]
  },
  {
   "cell_type": "code",
   "execution_count": 90,
   "id": "7ff08017",
   "metadata": {},
   "outputs": [
    {
     "data": {
      "text/html": [
       "<table class=\"dataframe\">\n",
       "<caption>A data.frame: 12 × 8</caption>\n",
       "<thead>\n",
       "\t<tr><th></th><th scope=col>Population</th><th scope=col>Income</th><th scope=col>Illiteracy</th><th scope=col>Life.Exp</th><th scope=col>Murder</th><th scope=col>HS.Grad</th><th scope=col>Frost</th><th scope=col>Area</th></tr>\n",
       "\t<tr><th></th><th scope=col>&lt;dbl&gt;</th><th scope=col>&lt;dbl&gt;</th><th scope=col>&lt;dbl&gt;</th><th scope=col>&lt;dbl&gt;</th><th scope=col>&lt;dbl&gt;</th><th scope=col>&lt;dbl&gt;</th><th scope=col>&lt;dbl&gt;</th><th scope=col>&lt;dbl&gt;</th></tr>\n",
       "</thead>\n",
       "<tbody>\n",
       "\t<tr><th scope=row>California</th><td>21198</td><td>5114</td><td>1.1</td><td>71.71</td><td>10.3</td><td>62.6</td><td> 20</td><td>156361</td></tr>\n",
       "\t<tr><th scope=row>Florida</th><td> 8277</td><td>4815</td><td>1.3</td><td>70.66</td><td>10.7</td><td>52.6</td><td> 11</td><td> 54090</td></tr>\n",
       "\t<tr><th scope=row>Illinois</th><td>11197</td><td>5107</td><td>0.9</td><td>70.14</td><td>10.3</td><td>52.6</td><td>127</td><td> 55748</td></tr>\n",
       "\t<tr><th scope=row>Indiana</th><td> 5313</td><td>4458</td><td>0.7</td><td>70.88</td><td> 7.1</td><td>52.9</td><td>122</td><td> 36097</td></tr>\n",
       "\t<tr><th scope=row>Massachusetts</th><td> 5814</td><td>4755</td><td>1.1</td><td>71.83</td><td> 3.3</td><td>58.5</td><td>103</td><td>  7826</td></tr>\n",
       "\t<tr><th scope=row>Michigan</th><td> 9111</td><td>4751</td><td>0.9</td><td>70.63</td><td>11.1</td><td>52.8</td><td>125</td><td> 56817</td></tr>\n",
       "\t<tr><th scope=row>New Jersey</th><td> 7333</td><td>5237</td><td>1.1</td><td>70.93</td><td> 5.2</td><td>52.5</td><td>115</td><td>  7521</td></tr>\n",
       "\t<tr><th scope=row>New York</th><td>18076</td><td>4903</td><td>1.4</td><td>70.55</td><td>10.9</td><td>52.7</td><td> 82</td><td> 47831</td></tr>\n",
       "\t<tr><th scope=row>North Carolina</th><td> 5441</td><td>3875</td><td>1.8</td><td>69.21</td><td>11.1</td><td>38.5</td><td> 80</td><td> 48798</td></tr>\n",
       "\t<tr><th scope=row>Ohio</th><td>10735</td><td>4561</td><td>0.8</td><td>70.82</td><td> 7.4</td><td>53.2</td><td>124</td><td> 40975</td></tr>\n",
       "\t<tr><th scope=row>Pennsylvania</th><td>11860</td><td>4449</td><td>1.0</td><td>70.43</td><td> 6.1</td><td>50.2</td><td>126</td><td> 44966</td></tr>\n",
       "\t<tr><th scope=row>Texas</th><td>12237</td><td>4188</td><td>2.2</td><td>70.90</td><td>12.2</td><td>47.4</td><td> 35</td><td>262134</td></tr>\n",
       "</tbody>\n",
       "</table>\n"
      ],
      "text/latex": [
       "A data.frame: 12 × 8\n",
       "\\begin{tabular}{r|llllllll}\n",
       "  & Population & Income & Illiteracy & Life.Exp & Murder & HS.Grad & Frost & Area\\\\\n",
       "  & <dbl> & <dbl> & <dbl> & <dbl> & <dbl> & <dbl> & <dbl> & <dbl>\\\\\n",
       "\\hline\n",
       "\tCalifornia & 21198 & 5114 & 1.1 & 71.71 & 10.3 & 62.6 &  20 & 156361\\\\\n",
       "\tFlorida &  8277 & 4815 & 1.3 & 70.66 & 10.7 & 52.6 &  11 &  54090\\\\\n",
       "\tIllinois & 11197 & 5107 & 0.9 & 70.14 & 10.3 & 52.6 & 127 &  55748\\\\\n",
       "\tIndiana &  5313 & 4458 & 0.7 & 70.88 &  7.1 & 52.9 & 122 &  36097\\\\\n",
       "\tMassachusetts &  5814 & 4755 & 1.1 & 71.83 &  3.3 & 58.5 & 103 &   7826\\\\\n",
       "\tMichigan &  9111 & 4751 & 0.9 & 70.63 & 11.1 & 52.8 & 125 &  56817\\\\\n",
       "\tNew Jersey &  7333 & 5237 & 1.1 & 70.93 &  5.2 & 52.5 & 115 &   7521\\\\\n",
       "\tNew York & 18076 & 4903 & 1.4 & 70.55 & 10.9 & 52.7 &  82 &  47831\\\\\n",
       "\tNorth Carolina &  5441 & 3875 & 1.8 & 69.21 & 11.1 & 38.5 &  80 &  48798\\\\\n",
       "\tOhio & 10735 & 4561 & 0.8 & 70.82 &  7.4 & 53.2 & 124 &  40975\\\\\n",
       "\tPennsylvania & 11860 & 4449 & 1.0 & 70.43 &  6.1 & 50.2 & 126 &  44966\\\\\n",
       "\tTexas & 12237 & 4188 & 2.2 & 70.90 & 12.2 & 47.4 &  35 & 262134\\\\\n",
       "\\end{tabular}\n"
      ],
      "text/markdown": [
       "\n",
       "A data.frame: 12 × 8\n",
       "\n",
       "| <!--/--> | Population &lt;dbl&gt; | Income &lt;dbl&gt; | Illiteracy &lt;dbl&gt; | Life.Exp &lt;dbl&gt; | Murder &lt;dbl&gt; | HS.Grad &lt;dbl&gt; | Frost &lt;dbl&gt; | Area &lt;dbl&gt; |\n",
       "|---|---|---|---|---|---|---|---|---|\n",
       "| California | 21198 | 5114 | 1.1 | 71.71 | 10.3 | 62.6 |  20 | 156361 |\n",
       "| Florida |  8277 | 4815 | 1.3 | 70.66 | 10.7 | 52.6 |  11 |  54090 |\n",
       "| Illinois | 11197 | 5107 | 0.9 | 70.14 | 10.3 | 52.6 | 127 |  55748 |\n",
       "| Indiana |  5313 | 4458 | 0.7 | 70.88 |  7.1 | 52.9 | 122 |  36097 |\n",
       "| Massachusetts |  5814 | 4755 | 1.1 | 71.83 |  3.3 | 58.5 | 103 |   7826 |\n",
       "| Michigan |  9111 | 4751 | 0.9 | 70.63 | 11.1 | 52.8 | 125 |  56817 |\n",
       "| New Jersey |  7333 | 5237 | 1.1 | 70.93 |  5.2 | 52.5 | 115 |   7521 |\n",
       "| New York | 18076 | 4903 | 1.4 | 70.55 | 10.9 | 52.7 |  82 |  47831 |\n",
       "| North Carolina |  5441 | 3875 | 1.8 | 69.21 | 11.1 | 38.5 |  80 |  48798 |\n",
       "| Ohio | 10735 | 4561 | 0.8 | 70.82 |  7.4 | 53.2 | 124 |  40975 |\n",
       "| Pennsylvania | 11860 | 4449 | 1.0 | 70.43 |  6.1 | 50.2 | 126 |  44966 |\n",
       "| Texas | 12237 | 4188 | 2.2 | 70.90 | 12.2 | 47.4 |  35 | 262134 |\n",
       "\n"
      ],
      "text/plain": [
       "               Population Income Illiteracy Life.Exp Murder HS.Grad Frost\n",
       "California     21198      5114   1.1        71.71    10.3   62.6     20  \n",
       "Florida         8277      4815   1.3        70.66    10.7   52.6     11  \n",
       "Illinois       11197      5107   0.9        70.14    10.3   52.6    127  \n",
       "Indiana         5313      4458   0.7        70.88     7.1   52.9    122  \n",
       "Massachusetts   5814      4755   1.1        71.83     3.3   58.5    103  \n",
       "Michigan        9111      4751   0.9        70.63    11.1   52.8    125  \n",
       "New Jersey      7333      5237   1.1        70.93     5.2   52.5    115  \n",
       "New York       18076      4903   1.4        70.55    10.9   52.7     82  \n",
       "North Carolina  5441      3875   1.8        69.21    11.1   38.5     80  \n",
       "Ohio           10735      4561   0.8        70.82     7.4   53.2    124  \n",
       "Pennsylvania   11860      4449   1.0        70.43     6.1   50.2    126  \n",
       "Texas          12237      4188   2.2        70.90    12.2   47.4     35  \n",
       "               Area  \n",
       "California     156361\n",
       "Florida         54090\n",
       "Illinois        55748\n",
       "Indiana         36097\n",
       "Massachusetts    7826\n",
       "Michigan        56817\n",
       "New Jersey       7521\n",
       "New York        47831\n",
       "North Carolina  48798\n",
       "Ohio            40975\n",
       "Pennsylvania    44966\n",
       "Texas          262134"
      ]
     },
     "metadata": {},
     "output_type": "display_data"
    }
   ],
   "source": [
    "st[st['Population'] >= 5000,]"
   ]
  },
  {
   "cell_type": "code",
   "execution_count": 92,
   "id": "767e067f",
   "metadata": {},
   "outputs": [
    {
     "data": {
      "text/html": [
       "<table class=\"dataframe\">\n",
       "<caption>A data.frame: 12 × 8</caption>\n",
       "<thead>\n",
       "\t<tr><th></th><th scope=col>Population</th><th scope=col>Income</th><th scope=col>Illiteracy</th><th scope=col>Life.Exp</th><th scope=col>Murder</th><th scope=col>HS.Grad</th><th scope=col>Frost</th><th scope=col>Area</th></tr>\n",
       "\t<tr><th></th><th scope=col>&lt;dbl&gt;</th><th scope=col>&lt;dbl&gt;</th><th scope=col>&lt;dbl&gt;</th><th scope=col>&lt;dbl&gt;</th><th scope=col>&lt;dbl&gt;</th><th scope=col>&lt;dbl&gt;</th><th scope=col>&lt;dbl&gt;</th><th scope=col>&lt;dbl&gt;</th></tr>\n",
       "</thead>\n",
       "<tbody>\n",
       "\t<tr><th scope=row>California</th><td>21198</td><td>5114</td><td>1.1</td><td>71.71</td><td>10.3</td><td>62.6</td><td> 20</td><td>156361</td></tr>\n",
       "\t<tr><th scope=row>Florida</th><td> 8277</td><td>4815</td><td>1.3</td><td>70.66</td><td>10.7</td><td>52.6</td><td> 11</td><td> 54090</td></tr>\n",
       "\t<tr><th scope=row>Illinois</th><td>11197</td><td>5107</td><td>0.9</td><td>70.14</td><td>10.3</td><td>52.6</td><td>127</td><td> 55748</td></tr>\n",
       "\t<tr><th scope=row>Indiana</th><td> 5313</td><td>4458</td><td>0.7</td><td>70.88</td><td> 7.1</td><td>52.9</td><td>122</td><td> 36097</td></tr>\n",
       "\t<tr><th scope=row>Massachusetts</th><td> 5814</td><td>4755</td><td>1.1</td><td>71.83</td><td> 3.3</td><td>58.5</td><td>103</td><td>  7826</td></tr>\n",
       "\t<tr><th scope=row>Michigan</th><td> 9111</td><td>4751</td><td>0.9</td><td>70.63</td><td>11.1</td><td>52.8</td><td>125</td><td> 56817</td></tr>\n",
       "\t<tr><th scope=row>New Jersey</th><td> 7333</td><td>5237</td><td>1.1</td><td>70.93</td><td> 5.2</td><td>52.5</td><td>115</td><td>  7521</td></tr>\n",
       "\t<tr><th scope=row>New York</th><td>18076</td><td>4903</td><td>1.4</td><td>70.55</td><td>10.9</td><td>52.7</td><td> 82</td><td> 47831</td></tr>\n",
       "\t<tr><th scope=row>North Carolina</th><td> 5441</td><td>3875</td><td>1.8</td><td>69.21</td><td>11.1</td><td>38.5</td><td> 80</td><td> 48798</td></tr>\n",
       "\t<tr><th scope=row>Ohio</th><td>10735</td><td>4561</td><td>0.8</td><td>70.82</td><td> 7.4</td><td>53.2</td><td>124</td><td> 40975</td></tr>\n",
       "\t<tr><th scope=row>Pennsylvania</th><td>11860</td><td>4449</td><td>1.0</td><td>70.43</td><td> 6.1</td><td>50.2</td><td>126</td><td> 44966</td></tr>\n",
       "\t<tr><th scope=row>Texas</th><td>12237</td><td>4188</td><td>2.2</td><td>70.90</td><td>12.2</td><td>47.4</td><td> 35</td><td>262134</td></tr>\n",
       "</tbody>\n",
       "</table>\n"
      ],
      "text/latex": [
       "A data.frame: 12 × 8\n",
       "\\begin{tabular}{r|llllllll}\n",
       "  & Population & Income & Illiteracy & Life.Exp & Murder & HS.Grad & Frost & Area\\\\\n",
       "  & <dbl> & <dbl> & <dbl> & <dbl> & <dbl> & <dbl> & <dbl> & <dbl>\\\\\n",
       "\\hline\n",
       "\tCalifornia & 21198 & 5114 & 1.1 & 71.71 & 10.3 & 62.6 &  20 & 156361\\\\\n",
       "\tFlorida &  8277 & 4815 & 1.3 & 70.66 & 10.7 & 52.6 &  11 &  54090\\\\\n",
       "\tIllinois & 11197 & 5107 & 0.9 & 70.14 & 10.3 & 52.6 & 127 &  55748\\\\\n",
       "\tIndiana &  5313 & 4458 & 0.7 & 70.88 &  7.1 & 52.9 & 122 &  36097\\\\\n",
       "\tMassachusetts &  5814 & 4755 & 1.1 & 71.83 &  3.3 & 58.5 & 103 &   7826\\\\\n",
       "\tMichigan &  9111 & 4751 & 0.9 & 70.63 & 11.1 & 52.8 & 125 &  56817\\\\\n",
       "\tNew Jersey &  7333 & 5237 & 1.1 & 70.93 &  5.2 & 52.5 & 115 &   7521\\\\\n",
       "\tNew York & 18076 & 4903 & 1.4 & 70.55 & 10.9 & 52.7 &  82 &  47831\\\\\n",
       "\tNorth Carolina &  5441 & 3875 & 1.8 & 69.21 & 11.1 & 38.5 &  80 &  48798\\\\\n",
       "\tOhio & 10735 & 4561 & 0.8 & 70.82 &  7.4 & 53.2 & 124 &  40975\\\\\n",
       "\tPennsylvania & 11860 & 4449 & 1.0 & 70.43 &  6.1 & 50.2 & 126 &  44966\\\\\n",
       "\tTexas & 12237 & 4188 & 2.2 & 70.90 & 12.2 & 47.4 &  35 & 262134\\\\\n",
       "\\end{tabular}\n"
      ],
      "text/markdown": [
       "\n",
       "A data.frame: 12 × 8\n",
       "\n",
       "| <!--/--> | Population &lt;dbl&gt; | Income &lt;dbl&gt; | Illiteracy &lt;dbl&gt; | Life.Exp &lt;dbl&gt; | Murder &lt;dbl&gt; | HS.Grad &lt;dbl&gt; | Frost &lt;dbl&gt; | Area &lt;dbl&gt; |\n",
       "|---|---|---|---|---|---|---|---|---|\n",
       "| California | 21198 | 5114 | 1.1 | 71.71 | 10.3 | 62.6 |  20 | 156361 |\n",
       "| Florida |  8277 | 4815 | 1.3 | 70.66 | 10.7 | 52.6 |  11 |  54090 |\n",
       "| Illinois | 11197 | 5107 | 0.9 | 70.14 | 10.3 | 52.6 | 127 |  55748 |\n",
       "| Indiana |  5313 | 4458 | 0.7 | 70.88 |  7.1 | 52.9 | 122 |  36097 |\n",
       "| Massachusetts |  5814 | 4755 | 1.1 | 71.83 |  3.3 | 58.5 | 103 |   7826 |\n",
       "| Michigan |  9111 | 4751 | 0.9 | 70.63 | 11.1 | 52.8 | 125 |  56817 |\n",
       "| New Jersey |  7333 | 5237 | 1.1 | 70.93 |  5.2 | 52.5 | 115 |   7521 |\n",
       "| New York | 18076 | 4903 | 1.4 | 70.55 | 10.9 | 52.7 |  82 |  47831 |\n",
       "| North Carolina |  5441 | 3875 | 1.8 | 69.21 | 11.1 | 38.5 |  80 |  48798 |\n",
       "| Ohio | 10735 | 4561 | 0.8 | 70.82 |  7.4 | 53.2 | 124 |  40975 |\n",
       "| Pennsylvania | 11860 | 4449 | 1.0 | 70.43 |  6.1 | 50.2 | 126 |  44966 |\n",
       "| Texas | 12237 | 4188 | 2.2 | 70.90 | 12.2 | 47.4 |  35 | 262134 |\n",
       "\n"
      ],
      "text/plain": [
       "               Population Income Illiteracy Life.Exp Murder HS.Grad Frost\n",
       "California     21198      5114   1.1        71.71    10.3   62.6     20  \n",
       "Florida         8277      4815   1.3        70.66    10.7   52.6     11  \n",
       "Illinois       11197      5107   0.9        70.14    10.3   52.6    127  \n",
       "Indiana         5313      4458   0.7        70.88     7.1   52.9    122  \n",
       "Massachusetts   5814      4755   1.1        71.83     3.3   58.5    103  \n",
       "Michigan        9111      4751   0.9        70.63    11.1   52.8    125  \n",
       "New Jersey      7333      5237   1.1        70.93     5.2   52.5    115  \n",
       "New York       18076      4903   1.4        70.55    10.9   52.7     82  \n",
       "North Carolina  5441      3875   1.8        69.21    11.1   38.5     80  \n",
       "Ohio           10735      4561   0.8        70.82     7.4   53.2    124  \n",
       "Pennsylvania   11860      4449   1.0        70.43     6.1   50.2    126  \n",
       "Texas          12237      4188   2.2        70.90    12.2   47.4     35  \n",
       "               Area  \n",
       "California     156361\n",
       "Florida         54090\n",
       "Illinois        55748\n",
       "Indiana         36097\n",
       "Massachusetts    7826\n",
       "Michigan        56817\n",
       "New Jersey       7521\n",
       "New York        47831\n",
       "North Carolina  48798\n",
       "Ohio            40975\n",
       "Pennsylvania    44966\n",
       "Texas          262134"
      ]
     },
     "metadata": {},
     "output_type": "display_data"
    }
   ],
   "source": [
    "subset(st, st['Population'] >= 5000)"
   ]
  },
  {
   "cell_type": "code",
   "execution_count": 93,
   "id": "a3cc96f5",
   "metadata": {},
   "outputs": [
    {
     "data": {
      "text/html": [
       "<table class=\"dataframe\">\n",
       "<caption>A data.frame: 26 × 3</caption>\n",
       "<thead>\n",
       "\t<tr><th></th><th scope=col>Population</th><th scope=col>Income</th><th scope=col>Area</th></tr>\n",
       "\t<tr><th></th><th scope=col>&lt;dbl&gt;</th><th scope=col>&lt;dbl&gt;</th><th scope=col>&lt;dbl&gt;</th></tr>\n",
       "</thead>\n",
       "<tbody>\n",
       "\t<tr><th scope=row>Alaska</th><td>  365</td><td>6315</td><td>566432</td></tr>\n",
       "\t<tr><th scope=row>Arizona</th><td> 2212</td><td>4530</td><td>113417</td></tr>\n",
       "\t<tr><th scope=row>California</th><td>21198</td><td>5114</td><td>156361</td></tr>\n",
       "\t<tr><th scope=row>Colorado</th><td> 2541</td><td>4884</td><td>103766</td></tr>\n",
       "\t<tr><th scope=row>Connecticut</th><td> 3100</td><td>5348</td><td>  4862</td></tr>\n",
       "\t<tr><th scope=row>Delaware</th><td>  579</td><td>4809</td><td>  1982</td></tr>\n",
       "\t<tr><th scope=row>Florida</th><td> 8277</td><td>4815</td><td> 54090</td></tr>\n",
       "\t<tr><th scope=row>Hawaii</th><td>  868</td><td>4963</td><td>  6425</td></tr>\n",
       "\t<tr><th scope=row>Illinois</th><td>11197</td><td>5107</td><td> 55748</td></tr>\n",
       "\t<tr><th scope=row>Iowa</th><td> 2861</td><td>4628</td><td> 55941</td></tr>\n",
       "\t<tr><th scope=row>Kansas</th><td> 2280</td><td>4669</td><td> 81787</td></tr>\n",
       "\t<tr><th scope=row>Maryland</th><td> 4122</td><td>5299</td><td>  9891</td></tr>\n",
       "\t<tr><th scope=row>Massachusetts</th><td> 5814</td><td>4755</td><td>  7826</td></tr>\n",
       "\t<tr><th scope=row>Michigan</th><td> 9111</td><td>4751</td><td> 56817</td></tr>\n",
       "\t<tr><th scope=row>Minnesota</th><td> 3921</td><td>4675</td><td> 79289</td></tr>\n",
       "\t<tr><th scope=row>Nebraska</th><td> 1544</td><td>4508</td><td> 76483</td></tr>\n",
       "\t<tr><th scope=row>Nevada</th><td>  590</td><td>5149</td><td>109889</td></tr>\n",
       "\t<tr><th scope=row>New Jersey</th><td> 7333</td><td>5237</td><td>  7521</td></tr>\n",
       "\t<tr><th scope=row>New York</th><td>18076</td><td>4903</td><td> 47831</td></tr>\n",
       "\t<tr><th scope=row>North Dakota</th><td>  637</td><td>5087</td><td> 69273</td></tr>\n",
       "\t<tr><th scope=row>Ohio</th><td>10735</td><td>4561</td><td> 40975</td></tr>\n",
       "\t<tr><th scope=row>Oregon</th><td> 2284</td><td>4660</td><td> 96184</td></tr>\n",
       "\t<tr><th scope=row>Rhode Island</th><td>  931</td><td>4558</td><td>  1049</td></tr>\n",
       "\t<tr><th scope=row>Virginia</th><td> 4981</td><td>4701</td><td> 39780</td></tr>\n",
       "\t<tr><th scope=row>Washington</th><td> 3559</td><td>4864</td><td> 66570</td></tr>\n",
       "\t<tr><th scope=row>Wyoming</th><td>  376</td><td>4566</td><td> 97203</td></tr>\n",
       "</tbody>\n",
       "</table>\n"
      ],
      "text/latex": [
       "A data.frame: 26 × 3\n",
       "\\begin{tabular}{r|lll}\n",
       "  & Population & Income & Area\\\\\n",
       "  & <dbl> & <dbl> & <dbl>\\\\\n",
       "\\hline\n",
       "\tAlaska &   365 & 6315 & 566432\\\\\n",
       "\tArizona &  2212 & 4530 & 113417\\\\\n",
       "\tCalifornia & 21198 & 5114 & 156361\\\\\n",
       "\tColorado &  2541 & 4884 & 103766\\\\\n",
       "\tConnecticut &  3100 & 5348 &   4862\\\\\n",
       "\tDelaware &   579 & 4809 &   1982\\\\\n",
       "\tFlorida &  8277 & 4815 &  54090\\\\\n",
       "\tHawaii &   868 & 4963 &   6425\\\\\n",
       "\tIllinois & 11197 & 5107 &  55748\\\\\n",
       "\tIowa &  2861 & 4628 &  55941\\\\\n",
       "\tKansas &  2280 & 4669 &  81787\\\\\n",
       "\tMaryland &  4122 & 5299 &   9891\\\\\n",
       "\tMassachusetts &  5814 & 4755 &   7826\\\\\n",
       "\tMichigan &  9111 & 4751 &  56817\\\\\n",
       "\tMinnesota &  3921 & 4675 &  79289\\\\\n",
       "\tNebraska &  1544 & 4508 &  76483\\\\\n",
       "\tNevada &   590 & 5149 & 109889\\\\\n",
       "\tNew Jersey &  7333 & 5237 &   7521\\\\\n",
       "\tNew York & 18076 & 4903 &  47831\\\\\n",
       "\tNorth Dakota &   637 & 5087 &  69273\\\\\n",
       "\tOhio & 10735 & 4561 &  40975\\\\\n",
       "\tOregon &  2284 & 4660 &  96184\\\\\n",
       "\tRhode Island &   931 & 4558 &   1049\\\\\n",
       "\tVirginia &  4981 & 4701 &  39780\\\\\n",
       "\tWashington &  3559 & 4864 &  66570\\\\\n",
       "\tWyoming &   376 & 4566 &  97203\\\\\n",
       "\\end{tabular}\n"
      ],
      "text/markdown": [
       "\n",
       "A data.frame: 26 × 3\n",
       "\n",
       "| <!--/--> | Population &lt;dbl&gt; | Income &lt;dbl&gt; | Area &lt;dbl&gt; |\n",
       "|---|---|---|---|\n",
       "| Alaska |   365 | 6315 | 566432 |\n",
       "| Arizona |  2212 | 4530 | 113417 |\n",
       "| California | 21198 | 5114 | 156361 |\n",
       "| Colorado |  2541 | 4884 | 103766 |\n",
       "| Connecticut |  3100 | 5348 |   4862 |\n",
       "| Delaware |   579 | 4809 |   1982 |\n",
       "| Florida |  8277 | 4815 |  54090 |\n",
       "| Hawaii |   868 | 4963 |   6425 |\n",
       "| Illinois | 11197 | 5107 |  55748 |\n",
       "| Iowa |  2861 | 4628 |  55941 |\n",
       "| Kansas |  2280 | 4669 |  81787 |\n",
       "| Maryland |  4122 | 5299 |   9891 |\n",
       "| Massachusetts |  5814 | 4755 |   7826 |\n",
       "| Michigan |  9111 | 4751 |  56817 |\n",
       "| Minnesota |  3921 | 4675 |  79289 |\n",
       "| Nebraska |  1544 | 4508 |  76483 |\n",
       "| Nevada |   590 | 5149 | 109889 |\n",
       "| New Jersey |  7333 | 5237 |   7521 |\n",
       "| New York | 18076 | 4903 |  47831 |\n",
       "| North Dakota |   637 | 5087 |  69273 |\n",
       "| Ohio | 10735 | 4561 |  40975 |\n",
       "| Oregon |  2284 | 4660 |  96184 |\n",
       "| Rhode Island |   931 | 4558 |   1049 |\n",
       "| Virginia |  4981 | 4701 |  39780 |\n",
       "| Washington |  3559 | 4864 |  66570 |\n",
       "| Wyoming |   376 | 4566 |  97203 |\n",
       "\n"
      ],
      "text/plain": [
       "              Population Income Area  \n",
       "Alaska          365      6315   566432\n",
       "Arizona        2212      4530   113417\n",
       "California    21198      5114   156361\n",
       "Colorado       2541      4884   103766\n",
       "Connecticut    3100      5348     4862\n",
       "Delaware        579      4809     1982\n",
       "Florida        8277      4815    54090\n",
       "Hawaii          868      4963     6425\n",
       "Illinois      11197      5107    55748\n",
       "Iowa           2861      4628    55941\n",
       "Kansas         2280      4669    81787\n",
       "Maryland       4122      5299     9891\n",
       "Massachusetts  5814      4755     7826\n",
       "Michigan       9111      4751    56817\n",
       "Minnesota      3921      4675    79289\n",
       "Nebraska       1544      4508    76483\n",
       "Nevada          590      5149   109889\n",
       "New Jersey     7333      5237     7521\n",
       "New York      18076      4903    47831\n",
       "North Dakota    637      5087    69273\n",
       "Ohio          10735      4561    40975\n",
       "Oregon         2284      4660    96184\n",
       "Rhode Island    931      4558     1049\n",
       "Virginia       4981      4701    39780\n",
       "Washington     3559      4864    66570\n",
       "Wyoming         376      4566    97203"
      ]
     },
     "metadata": {},
     "output_type": "display_data"
    }
   ],
   "source": [
    "subset(st, st['Income'] >= 4500)[c('Population','Income','Area')]"
   ]
  },
  {
   "cell_type": "code",
   "execution_count": 98,
   "id": "37e4c155",
   "metadata": {},
   "outputs": [
    {
     "data": {
      "text/html": [
       "208"
      ],
      "text/latex": [
       "208"
      ],
      "text/markdown": [
       "208"
      ],
      "text/plain": [
       "[1] 208"
      ]
     },
     "metadata": {},
     "output_type": "display_data"
    }
   ],
   "source": [
    "length(st[st['Income'] >= 4500])"
   ]
  },
  {
   "cell_type": "code",
   "execution_count": 103,
   "id": "1e8563fe",
   "metadata": {},
   "outputs": [
    {
     "data": {
      "text/html": [
       "26"
      ],
      "text/latex": [
       "26"
      ],
      "text/markdown": [
       "26"
      ],
      "text/plain": [
       "[1] 26"
      ]
     },
     "metadata": {},
     "output_type": "display_data"
    }
   ],
   "source": [
    "nrow(st[st['Income'] >= 4500, ])"
   ]
  },
  {
   "cell_type": "code",
   "execution_count": 101,
   "id": "aa9495a3",
   "metadata": {},
   "outputs": [
    {
     "data": {
      "text/html": [
       "26"
      ],
      "text/latex": [
       "26"
      ],
      "text/markdown": [
       "26"
      ],
      "text/plain": [
       "[1] 26"
      ]
     },
     "metadata": {},
     "output_type": "display_data"
    }
   ],
   "source": [
    "nrow(subset(st, st['Income'] >= 4500))"
   ]
  },
  {
   "cell_type": "code",
   "execution_count": 108,
   "id": "7ef1688e",
   "metadata": {},
   "outputs": [
    {
     "data": {
      "text/html": [
       "26"
      ],
      "text/latex": [
       "26"
      ],
      "text/markdown": [
       "26"
      ],
      "text/plain": [
       "[1] 26"
      ]
     },
     "metadata": {},
     "output_type": "display_data"
    }
   ],
   "source": [
    "nrow(ss)"
   ]
  },
  {
   "cell_type": "code",
   "execution_count": 107,
   "id": "32bb6285",
   "metadata": {},
   "outputs": [
    {
     "data": {
      "text/html": [
       "8"
      ],
      "text/latex": [
       "8"
      ],
      "text/markdown": [
       "8"
      ],
      "text/plain": [
       "[1] 8"
      ]
     },
     "metadata": {},
     "output_type": "display_data"
    }
   ],
   "source": [
    "ncol(ss)"
   ]
  },
  {
   "cell_type": "code",
   "execution_count": 106,
   "id": "a387b8f5",
   "metadata": {},
   "outputs": [
    {
     "data": {
      "text/html": [
       "<table class=\"dataframe\">\n",
       "<caption>A data.frame: 26 × 8</caption>\n",
       "<thead>\n",
       "\t<tr><th></th><th scope=col>Population</th><th scope=col>Income</th><th scope=col>Illiteracy</th><th scope=col>Life.Exp</th><th scope=col>Murder</th><th scope=col>HS.Grad</th><th scope=col>Frost</th><th scope=col>Area</th></tr>\n",
       "\t<tr><th></th><th scope=col>&lt;dbl&gt;</th><th scope=col>&lt;dbl&gt;</th><th scope=col>&lt;dbl&gt;</th><th scope=col>&lt;dbl&gt;</th><th scope=col>&lt;dbl&gt;</th><th scope=col>&lt;dbl&gt;</th><th scope=col>&lt;dbl&gt;</th><th scope=col>&lt;dbl&gt;</th></tr>\n",
       "</thead>\n",
       "<tbody>\n",
       "\t<tr><th scope=row>Alaska</th><td>  365</td><td>6315</td><td>1.5</td><td>69.31</td><td>11.3</td><td>66.7</td><td>152</td><td>566432</td></tr>\n",
       "\t<tr><th scope=row>Arizona</th><td> 2212</td><td>4530</td><td>1.8</td><td>70.55</td><td> 7.8</td><td>58.1</td><td> 15</td><td>113417</td></tr>\n",
       "\t<tr><th scope=row>California</th><td>21198</td><td>5114</td><td>1.1</td><td>71.71</td><td>10.3</td><td>62.6</td><td> 20</td><td>156361</td></tr>\n",
       "\t<tr><th scope=row>Colorado</th><td> 2541</td><td>4884</td><td>0.7</td><td>72.06</td><td> 6.8</td><td>63.9</td><td>166</td><td>103766</td></tr>\n",
       "\t<tr><th scope=row>Connecticut</th><td> 3100</td><td>5348</td><td>1.1</td><td>72.48</td><td> 3.1</td><td>56.0</td><td>139</td><td>  4862</td></tr>\n",
       "\t<tr><th scope=row>Delaware</th><td>  579</td><td>4809</td><td>0.9</td><td>70.06</td><td> 6.2</td><td>54.6</td><td>103</td><td>  1982</td></tr>\n",
       "\t<tr><th scope=row>Florida</th><td> 8277</td><td>4815</td><td>1.3</td><td>70.66</td><td>10.7</td><td>52.6</td><td> 11</td><td> 54090</td></tr>\n",
       "\t<tr><th scope=row>Hawaii</th><td>  868</td><td>4963</td><td>1.9</td><td>73.60</td><td> 6.2</td><td>61.9</td><td>  0</td><td>  6425</td></tr>\n",
       "\t<tr><th scope=row>Illinois</th><td>11197</td><td>5107</td><td>0.9</td><td>70.14</td><td>10.3</td><td>52.6</td><td>127</td><td> 55748</td></tr>\n",
       "\t<tr><th scope=row>Iowa</th><td> 2861</td><td>4628</td><td>0.5</td><td>72.56</td><td> 2.3</td><td>59.0</td><td>140</td><td> 55941</td></tr>\n",
       "\t<tr><th scope=row>Kansas</th><td> 2280</td><td>4669</td><td>0.6</td><td>72.58</td><td> 4.5</td><td>59.9</td><td>114</td><td> 81787</td></tr>\n",
       "\t<tr><th scope=row>Maryland</th><td> 4122</td><td>5299</td><td>0.9</td><td>70.22</td><td> 8.5</td><td>52.3</td><td>101</td><td>  9891</td></tr>\n",
       "\t<tr><th scope=row>Massachusetts</th><td> 5814</td><td>4755</td><td>1.1</td><td>71.83</td><td> 3.3</td><td>58.5</td><td>103</td><td>  7826</td></tr>\n",
       "\t<tr><th scope=row>Michigan</th><td> 9111</td><td>4751</td><td>0.9</td><td>70.63</td><td>11.1</td><td>52.8</td><td>125</td><td> 56817</td></tr>\n",
       "\t<tr><th scope=row>Minnesota</th><td> 3921</td><td>4675</td><td>0.6</td><td>72.96</td><td> 2.3</td><td>57.6</td><td>160</td><td> 79289</td></tr>\n",
       "\t<tr><th scope=row>Nebraska</th><td> 1544</td><td>4508</td><td>0.6</td><td>72.60</td><td> 2.9</td><td>59.3</td><td>139</td><td> 76483</td></tr>\n",
       "\t<tr><th scope=row>Nevada</th><td>  590</td><td>5149</td><td>0.5</td><td>69.03</td><td>11.5</td><td>65.2</td><td>188</td><td>109889</td></tr>\n",
       "\t<tr><th scope=row>New Jersey</th><td> 7333</td><td>5237</td><td>1.1</td><td>70.93</td><td> 5.2</td><td>52.5</td><td>115</td><td>  7521</td></tr>\n",
       "\t<tr><th scope=row>New York</th><td>18076</td><td>4903</td><td>1.4</td><td>70.55</td><td>10.9</td><td>52.7</td><td> 82</td><td> 47831</td></tr>\n",
       "\t<tr><th scope=row>North Dakota</th><td>  637</td><td>5087</td><td>0.8</td><td>72.78</td><td> 1.4</td><td>50.3</td><td>186</td><td> 69273</td></tr>\n",
       "\t<tr><th scope=row>Ohio</th><td>10735</td><td>4561</td><td>0.8</td><td>70.82</td><td> 7.4</td><td>53.2</td><td>124</td><td> 40975</td></tr>\n",
       "\t<tr><th scope=row>Oregon</th><td> 2284</td><td>4660</td><td>0.6</td><td>72.13</td><td> 4.2</td><td>60.0</td><td> 44</td><td> 96184</td></tr>\n",
       "\t<tr><th scope=row>Rhode Island</th><td>  931</td><td>4558</td><td>1.3</td><td>71.90</td><td> 2.4</td><td>46.4</td><td>127</td><td>  1049</td></tr>\n",
       "\t<tr><th scope=row>Virginia</th><td> 4981</td><td>4701</td><td>1.4</td><td>70.08</td><td> 9.5</td><td>47.8</td><td> 85</td><td> 39780</td></tr>\n",
       "\t<tr><th scope=row>Washington</th><td> 3559</td><td>4864</td><td>0.6</td><td>71.72</td><td> 4.3</td><td>63.5</td><td> 32</td><td> 66570</td></tr>\n",
       "\t<tr><th scope=row>Wyoming</th><td>  376</td><td>4566</td><td>0.6</td><td>70.29</td><td> 6.9</td><td>62.9</td><td>173</td><td> 97203</td></tr>\n",
       "</tbody>\n",
       "</table>\n"
      ],
      "text/latex": [
       "A data.frame: 26 × 8\n",
       "\\begin{tabular}{r|llllllll}\n",
       "  & Population & Income & Illiteracy & Life.Exp & Murder & HS.Grad & Frost & Area\\\\\n",
       "  & <dbl> & <dbl> & <dbl> & <dbl> & <dbl> & <dbl> & <dbl> & <dbl>\\\\\n",
       "\\hline\n",
       "\tAlaska &   365 & 6315 & 1.5 & 69.31 & 11.3 & 66.7 & 152 & 566432\\\\\n",
       "\tArizona &  2212 & 4530 & 1.8 & 70.55 &  7.8 & 58.1 &  15 & 113417\\\\\n",
       "\tCalifornia & 21198 & 5114 & 1.1 & 71.71 & 10.3 & 62.6 &  20 & 156361\\\\\n",
       "\tColorado &  2541 & 4884 & 0.7 & 72.06 &  6.8 & 63.9 & 166 & 103766\\\\\n",
       "\tConnecticut &  3100 & 5348 & 1.1 & 72.48 &  3.1 & 56.0 & 139 &   4862\\\\\n",
       "\tDelaware &   579 & 4809 & 0.9 & 70.06 &  6.2 & 54.6 & 103 &   1982\\\\\n",
       "\tFlorida &  8277 & 4815 & 1.3 & 70.66 & 10.7 & 52.6 &  11 &  54090\\\\\n",
       "\tHawaii &   868 & 4963 & 1.9 & 73.60 &  6.2 & 61.9 &   0 &   6425\\\\\n",
       "\tIllinois & 11197 & 5107 & 0.9 & 70.14 & 10.3 & 52.6 & 127 &  55748\\\\\n",
       "\tIowa &  2861 & 4628 & 0.5 & 72.56 &  2.3 & 59.0 & 140 &  55941\\\\\n",
       "\tKansas &  2280 & 4669 & 0.6 & 72.58 &  4.5 & 59.9 & 114 &  81787\\\\\n",
       "\tMaryland &  4122 & 5299 & 0.9 & 70.22 &  8.5 & 52.3 & 101 &   9891\\\\\n",
       "\tMassachusetts &  5814 & 4755 & 1.1 & 71.83 &  3.3 & 58.5 & 103 &   7826\\\\\n",
       "\tMichigan &  9111 & 4751 & 0.9 & 70.63 & 11.1 & 52.8 & 125 &  56817\\\\\n",
       "\tMinnesota &  3921 & 4675 & 0.6 & 72.96 &  2.3 & 57.6 & 160 &  79289\\\\\n",
       "\tNebraska &  1544 & 4508 & 0.6 & 72.60 &  2.9 & 59.3 & 139 &  76483\\\\\n",
       "\tNevada &   590 & 5149 & 0.5 & 69.03 & 11.5 & 65.2 & 188 & 109889\\\\\n",
       "\tNew Jersey &  7333 & 5237 & 1.1 & 70.93 &  5.2 & 52.5 & 115 &   7521\\\\\n",
       "\tNew York & 18076 & 4903 & 1.4 & 70.55 & 10.9 & 52.7 &  82 &  47831\\\\\n",
       "\tNorth Dakota &   637 & 5087 & 0.8 & 72.78 &  1.4 & 50.3 & 186 &  69273\\\\\n",
       "\tOhio & 10735 & 4561 & 0.8 & 70.82 &  7.4 & 53.2 & 124 &  40975\\\\\n",
       "\tOregon &  2284 & 4660 & 0.6 & 72.13 &  4.2 & 60.0 &  44 &  96184\\\\\n",
       "\tRhode Island &   931 & 4558 & 1.3 & 71.90 &  2.4 & 46.4 & 127 &   1049\\\\\n",
       "\tVirginia &  4981 & 4701 & 1.4 & 70.08 &  9.5 & 47.8 &  85 &  39780\\\\\n",
       "\tWashington &  3559 & 4864 & 0.6 & 71.72 &  4.3 & 63.5 &  32 &  66570\\\\\n",
       "\tWyoming &   376 & 4566 & 0.6 & 70.29 &  6.9 & 62.9 & 173 &  97203\\\\\n",
       "\\end{tabular}\n"
      ],
      "text/markdown": [
       "\n",
       "A data.frame: 26 × 8\n",
       "\n",
       "| <!--/--> | Population &lt;dbl&gt; | Income &lt;dbl&gt; | Illiteracy &lt;dbl&gt; | Life.Exp &lt;dbl&gt; | Murder &lt;dbl&gt; | HS.Grad &lt;dbl&gt; | Frost &lt;dbl&gt; | Area &lt;dbl&gt; |\n",
       "|---|---|---|---|---|---|---|---|---|\n",
       "| Alaska |   365 | 6315 | 1.5 | 69.31 | 11.3 | 66.7 | 152 | 566432 |\n",
       "| Arizona |  2212 | 4530 | 1.8 | 70.55 |  7.8 | 58.1 |  15 | 113417 |\n",
       "| California | 21198 | 5114 | 1.1 | 71.71 | 10.3 | 62.6 |  20 | 156361 |\n",
       "| Colorado |  2541 | 4884 | 0.7 | 72.06 |  6.8 | 63.9 | 166 | 103766 |\n",
       "| Connecticut |  3100 | 5348 | 1.1 | 72.48 |  3.1 | 56.0 | 139 |   4862 |\n",
       "| Delaware |   579 | 4809 | 0.9 | 70.06 |  6.2 | 54.6 | 103 |   1982 |\n",
       "| Florida |  8277 | 4815 | 1.3 | 70.66 | 10.7 | 52.6 |  11 |  54090 |\n",
       "| Hawaii |   868 | 4963 | 1.9 | 73.60 |  6.2 | 61.9 |   0 |   6425 |\n",
       "| Illinois | 11197 | 5107 | 0.9 | 70.14 | 10.3 | 52.6 | 127 |  55748 |\n",
       "| Iowa |  2861 | 4628 | 0.5 | 72.56 |  2.3 | 59.0 | 140 |  55941 |\n",
       "| Kansas |  2280 | 4669 | 0.6 | 72.58 |  4.5 | 59.9 | 114 |  81787 |\n",
       "| Maryland |  4122 | 5299 | 0.9 | 70.22 |  8.5 | 52.3 | 101 |   9891 |\n",
       "| Massachusetts |  5814 | 4755 | 1.1 | 71.83 |  3.3 | 58.5 | 103 |   7826 |\n",
       "| Michigan |  9111 | 4751 | 0.9 | 70.63 | 11.1 | 52.8 | 125 |  56817 |\n",
       "| Minnesota |  3921 | 4675 | 0.6 | 72.96 |  2.3 | 57.6 | 160 |  79289 |\n",
       "| Nebraska |  1544 | 4508 | 0.6 | 72.60 |  2.9 | 59.3 | 139 |  76483 |\n",
       "| Nevada |   590 | 5149 | 0.5 | 69.03 | 11.5 | 65.2 | 188 | 109889 |\n",
       "| New Jersey |  7333 | 5237 | 1.1 | 70.93 |  5.2 | 52.5 | 115 |   7521 |\n",
       "| New York | 18076 | 4903 | 1.4 | 70.55 | 10.9 | 52.7 |  82 |  47831 |\n",
       "| North Dakota |   637 | 5087 | 0.8 | 72.78 |  1.4 | 50.3 | 186 |  69273 |\n",
       "| Ohio | 10735 | 4561 | 0.8 | 70.82 |  7.4 | 53.2 | 124 |  40975 |\n",
       "| Oregon |  2284 | 4660 | 0.6 | 72.13 |  4.2 | 60.0 |  44 |  96184 |\n",
       "| Rhode Island |   931 | 4558 | 1.3 | 71.90 |  2.4 | 46.4 | 127 |   1049 |\n",
       "| Virginia |  4981 | 4701 | 1.4 | 70.08 |  9.5 | 47.8 |  85 |  39780 |\n",
       "| Washington |  3559 | 4864 | 0.6 | 71.72 |  4.3 | 63.5 |  32 |  66570 |\n",
       "| Wyoming |   376 | 4566 | 0.6 | 70.29 |  6.9 | 62.9 | 173 |  97203 |\n",
       "\n"
      ],
      "text/plain": [
       "              Population Income Illiteracy Life.Exp Murder HS.Grad Frost Area  \n",
       "Alaska          365      6315   1.5        69.31    11.3   66.7    152   566432\n",
       "Arizona        2212      4530   1.8        70.55     7.8   58.1     15   113417\n",
       "California    21198      5114   1.1        71.71    10.3   62.6     20   156361\n",
       "Colorado       2541      4884   0.7        72.06     6.8   63.9    166   103766\n",
       "Connecticut    3100      5348   1.1        72.48     3.1   56.0    139     4862\n",
       "Delaware        579      4809   0.9        70.06     6.2   54.6    103     1982\n",
       "Florida        8277      4815   1.3        70.66    10.7   52.6     11    54090\n",
       "Hawaii          868      4963   1.9        73.60     6.2   61.9      0     6425\n",
       "Illinois      11197      5107   0.9        70.14    10.3   52.6    127    55748\n",
       "Iowa           2861      4628   0.5        72.56     2.3   59.0    140    55941\n",
       "Kansas         2280      4669   0.6        72.58     4.5   59.9    114    81787\n",
       "Maryland       4122      5299   0.9        70.22     8.5   52.3    101     9891\n",
       "Massachusetts  5814      4755   1.1        71.83     3.3   58.5    103     7826\n",
       "Michigan       9111      4751   0.9        70.63    11.1   52.8    125    56817\n",
       "Minnesota      3921      4675   0.6        72.96     2.3   57.6    160    79289\n",
       "Nebraska       1544      4508   0.6        72.60     2.9   59.3    139    76483\n",
       "Nevada          590      5149   0.5        69.03    11.5   65.2    188   109889\n",
       "New Jersey     7333      5237   1.1        70.93     5.2   52.5    115     7521\n",
       "New York      18076      4903   1.4        70.55    10.9   52.7     82    47831\n",
       "North Dakota    637      5087   0.8        72.78     1.4   50.3    186    69273\n",
       "Ohio          10735      4561   0.8        70.82     7.4   53.2    124    40975\n",
       "Oregon         2284      4660   0.6        72.13     4.2   60.0     44    96184\n",
       "Rhode Island    931      4558   1.3        71.90     2.4   46.4    127     1049\n",
       "Virginia       4981      4701   1.4        70.08     9.5   47.8     85    39780\n",
       "Washington     3559      4864   0.6        71.72     4.3   63.5     32    66570\n",
       "Wyoming         376      4566   0.6        70.29     6.9   62.9    173    97203"
      ]
     },
     "metadata": {},
     "output_type": "display_data"
    }
   ],
   "source": [
    "ss <- subset(st, st['Income'] >= 4500)\n",
    "ss"
   ]
  },
  {
   "cell_type": "code",
   "execution_count": 104,
   "id": "1ad3bbd8",
   "metadata": {},
   "outputs": [
    {
     "data": {
      "text/html": [
       "<style>\n",
       ".list-inline {list-style: none; margin:0; padding: 0}\n",
       ".list-inline>li {display: inline-block}\n",
       ".list-inline>li:not(:last-child)::after {content: \"\\00b7\"; padding: 0 .5ex}\n",
       "</style>\n",
       "<ol class=list-inline><li>365</li><li>2212</li><li>21198</li><li>2541</li><li>3100</li><li>579</li><li>8277</li><li>868</li><li>11197</li><li>2861</li><li>2280</li><li>4122</li><li>5814</li><li>9111</li><li>3921</li><li>1544</li><li>590</li><li>7333</li><li>18076</li><li>637</li><li>10735</li><li>2284</li><li>931</li><li>4981</li><li>3559</li><li>376</li><li>6315</li><li>4530</li><li>5114</li><li>4884</li><li>5348</li><li>4809</li><li>4815</li><li>4963</li><li>5107</li><li>4628</li><li>4669</li><li>5299</li><li>4755</li><li>4751</li><li>4675</li><li>4508</li><li>5149</li><li>5237</li><li>4903</li><li>5087</li><li>4561</li><li>4660</li><li>4558</li><li>4701</li><li>4864</li><li>4566</li><li>1.5</li><li>1.8</li><li>1.1</li><li>0.7</li><li>1.1</li><li>0.9</li><li>1.3</li><li>1.9</li><li>0.9</li><li>0.5</li><li>0.6</li><li>0.9</li><li>1.1</li><li>0.9</li><li>0.6</li><li>0.6</li><li>0.5</li><li>1.1</li><li>1.4</li><li>0.8</li><li>0.8</li><li>0.6</li><li>1.3</li><li>1.4</li><li>0.6</li><li>0.6</li><li>69.31</li><li>70.55</li><li>71.71</li><li>72.06</li><li>72.48</li><li>70.06</li><li>70.66</li><li>73.6</li><li>70.14</li><li>72.56</li><li>72.58</li><li>70.22</li><li>71.83</li><li>70.63</li><li>72.96</li><li>72.6</li><li>69.03</li><li>70.93</li><li>70.55</li><li>72.78</li><li>70.82</li><li>72.13</li><li>71.9</li><li>70.08</li><li>71.72</li><li>70.29</li><li>11.3</li><li>7.8</li><li>10.3</li><li>6.8</li><li>3.1</li><li>6.2</li><li>10.7</li><li>6.2</li><li>10.3</li><li>2.3</li><li>4.5</li><li>8.5</li><li>3.3</li><li>11.1</li><li>2.3</li><li>2.9</li><li>11.5</li><li>5.2</li><li>10.9</li><li>1.4</li><li>7.4</li><li>4.2</li><li>2.4</li><li>9.5</li><li>4.3</li><li>6.9</li><li>66.7</li><li>58.1</li><li>62.6</li><li>63.9</li><li>56</li><li>54.6</li><li>52.6</li><li>61.9</li><li>52.6</li><li>59</li><li>59.9</li><li>52.3</li><li>58.5</li><li>52.8</li><li>57.6</li><li>59.3</li><li>65.2</li><li>52.5</li><li>52.7</li><li>50.3</li><li>53.2</li><li>60</li><li>46.4</li><li>47.8</li><li>63.5</li><li>62.9</li><li>152</li><li>15</li><li>20</li><li>166</li><li>139</li><li>103</li><li>11</li><li>0</li><li>127</li><li>140</li><li>114</li><li>101</li><li>103</li><li>125</li><li>160</li><li>139</li><li>188</li><li>115</li><li>82</li><li>186</li><li>124</li><li>44</li><li>127</li><li>85</li><li>32</li><li>173</li><li>566432</li><li>113417</li><li>156361</li><li>103766</li><li>4862</li><li>1982</li><li>54090</li><li>6425</li><li>55748</li><li>55941</li><li>81787</li><li>9891</li><li>7826</li><li>56817</li><li>79289</li><li>76483</li><li>109889</li><li>7521</li><li>47831</li><li>69273</li><li>40975</li><li>96184</li><li>1049</li><li>39780</li><li>66570</li><li>97203</li></ol>\n"
      ],
      "text/latex": [
       "\\begin{enumerate*}\n",
       "\\item 365\n",
       "\\item 2212\n",
       "\\item 21198\n",
       "\\item 2541\n",
       "\\item 3100\n",
       "\\item 579\n",
       "\\item 8277\n",
       "\\item 868\n",
       "\\item 11197\n",
       "\\item 2861\n",
       "\\item 2280\n",
       "\\item 4122\n",
       "\\item 5814\n",
       "\\item 9111\n",
       "\\item 3921\n",
       "\\item 1544\n",
       "\\item 590\n",
       "\\item 7333\n",
       "\\item 18076\n",
       "\\item 637\n",
       "\\item 10735\n",
       "\\item 2284\n",
       "\\item 931\n",
       "\\item 4981\n",
       "\\item 3559\n",
       "\\item 376\n",
       "\\item 6315\n",
       "\\item 4530\n",
       "\\item 5114\n",
       "\\item 4884\n",
       "\\item 5348\n",
       "\\item 4809\n",
       "\\item 4815\n",
       "\\item 4963\n",
       "\\item 5107\n",
       "\\item 4628\n",
       "\\item 4669\n",
       "\\item 5299\n",
       "\\item 4755\n",
       "\\item 4751\n",
       "\\item 4675\n",
       "\\item 4508\n",
       "\\item 5149\n",
       "\\item 5237\n",
       "\\item 4903\n",
       "\\item 5087\n",
       "\\item 4561\n",
       "\\item 4660\n",
       "\\item 4558\n",
       "\\item 4701\n",
       "\\item 4864\n",
       "\\item 4566\n",
       "\\item 1.5\n",
       "\\item 1.8\n",
       "\\item 1.1\n",
       "\\item 0.7\n",
       "\\item 1.1\n",
       "\\item 0.9\n",
       "\\item 1.3\n",
       "\\item 1.9\n",
       "\\item 0.9\n",
       "\\item 0.5\n",
       "\\item 0.6\n",
       "\\item 0.9\n",
       "\\item 1.1\n",
       "\\item 0.9\n",
       "\\item 0.6\n",
       "\\item 0.6\n",
       "\\item 0.5\n",
       "\\item 1.1\n",
       "\\item 1.4\n",
       "\\item 0.8\n",
       "\\item 0.8\n",
       "\\item 0.6\n",
       "\\item 1.3\n",
       "\\item 1.4\n",
       "\\item 0.6\n",
       "\\item 0.6\n",
       "\\item 69.31\n",
       "\\item 70.55\n",
       "\\item 71.71\n",
       "\\item 72.06\n",
       "\\item 72.48\n",
       "\\item 70.06\n",
       "\\item 70.66\n",
       "\\item 73.6\n",
       "\\item 70.14\n",
       "\\item 72.56\n",
       "\\item 72.58\n",
       "\\item 70.22\n",
       "\\item 71.83\n",
       "\\item 70.63\n",
       "\\item 72.96\n",
       "\\item 72.6\n",
       "\\item 69.03\n",
       "\\item 70.93\n",
       "\\item 70.55\n",
       "\\item 72.78\n",
       "\\item 70.82\n",
       "\\item 72.13\n",
       "\\item 71.9\n",
       "\\item 70.08\n",
       "\\item 71.72\n",
       "\\item 70.29\n",
       "\\item 11.3\n",
       "\\item 7.8\n",
       "\\item 10.3\n",
       "\\item 6.8\n",
       "\\item 3.1\n",
       "\\item 6.2\n",
       "\\item 10.7\n",
       "\\item 6.2\n",
       "\\item 10.3\n",
       "\\item 2.3\n",
       "\\item 4.5\n",
       "\\item 8.5\n",
       "\\item 3.3\n",
       "\\item 11.1\n",
       "\\item 2.3\n",
       "\\item 2.9\n",
       "\\item 11.5\n",
       "\\item 5.2\n",
       "\\item 10.9\n",
       "\\item 1.4\n",
       "\\item 7.4\n",
       "\\item 4.2\n",
       "\\item 2.4\n",
       "\\item 9.5\n",
       "\\item 4.3\n",
       "\\item 6.9\n",
       "\\item 66.7\n",
       "\\item 58.1\n",
       "\\item 62.6\n",
       "\\item 63.9\n",
       "\\item 56\n",
       "\\item 54.6\n",
       "\\item 52.6\n",
       "\\item 61.9\n",
       "\\item 52.6\n",
       "\\item 59\n",
       "\\item 59.9\n",
       "\\item 52.3\n",
       "\\item 58.5\n",
       "\\item 52.8\n",
       "\\item 57.6\n",
       "\\item 59.3\n",
       "\\item 65.2\n",
       "\\item 52.5\n",
       "\\item 52.7\n",
       "\\item 50.3\n",
       "\\item 53.2\n",
       "\\item 60\n",
       "\\item 46.4\n",
       "\\item 47.8\n",
       "\\item 63.5\n",
       "\\item 62.9\n",
       "\\item 152\n",
       "\\item 15\n",
       "\\item 20\n",
       "\\item 166\n",
       "\\item 139\n",
       "\\item 103\n",
       "\\item 11\n",
       "\\item 0\n",
       "\\item 127\n",
       "\\item 140\n",
       "\\item 114\n",
       "\\item 101\n",
       "\\item 103\n",
       "\\item 125\n",
       "\\item 160\n",
       "\\item 139\n",
       "\\item 188\n",
       "\\item 115\n",
       "\\item 82\n",
       "\\item 186\n",
       "\\item 124\n",
       "\\item 44\n",
       "\\item 127\n",
       "\\item 85\n",
       "\\item 32\n",
       "\\item 173\n",
       "\\item 566432\n",
       "\\item 113417\n",
       "\\item 156361\n",
       "\\item 103766\n",
       "\\item 4862\n",
       "\\item 1982\n",
       "\\item 54090\n",
       "\\item 6425\n",
       "\\item 55748\n",
       "\\item 55941\n",
       "\\item 81787\n",
       "\\item 9891\n",
       "\\item 7826\n",
       "\\item 56817\n",
       "\\item 79289\n",
       "\\item 76483\n",
       "\\item 109889\n",
       "\\item 7521\n",
       "\\item 47831\n",
       "\\item 69273\n",
       "\\item 40975\n",
       "\\item 96184\n",
       "\\item 1049\n",
       "\\item 39780\n",
       "\\item 66570\n",
       "\\item 97203\n",
       "\\end{enumerate*}\n"
      ],
      "text/markdown": [
       "1. 365\n",
       "2. 2212\n",
       "3. 21198\n",
       "4. 2541\n",
       "5. 3100\n",
       "6. 579\n",
       "7. 8277\n",
       "8. 868\n",
       "9. 11197\n",
       "10. 2861\n",
       "11. 2280\n",
       "12. 4122\n",
       "13. 5814\n",
       "14. 9111\n",
       "15. 3921\n",
       "16. 1544\n",
       "17. 590\n",
       "18. 7333\n",
       "19. 18076\n",
       "20. 637\n",
       "21. 10735\n",
       "22. 2284\n",
       "23. 931\n",
       "24. 4981\n",
       "25. 3559\n",
       "26. 376\n",
       "27. 6315\n",
       "28. 4530\n",
       "29. 5114\n",
       "30. 4884\n",
       "31. 5348\n",
       "32. 4809\n",
       "33. 4815\n",
       "34. 4963\n",
       "35. 5107\n",
       "36. 4628\n",
       "37. 4669\n",
       "38. 5299\n",
       "39. 4755\n",
       "40. 4751\n",
       "41. 4675\n",
       "42. 4508\n",
       "43. 5149\n",
       "44. 5237\n",
       "45. 4903\n",
       "46. 5087\n",
       "47. 4561\n",
       "48. 4660\n",
       "49. 4558\n",
       "50. 4701\n",
       "51. 4864\n",
       "52. 4566\n",
       "53. 1.5\n",
       "54. 1.8\n",
       "55. 1.1\n",
       "56. 0.7\n",
       "57. 1.1\n",
       "58. 0.9\n",
       "59. 1.3\n",
       "60. 1.9\n",
       "61. 0.9\n",
       "62. 0.5\n",
       "63. 0.6\n",
       "64. 0.9\n",
       "65. 1.1\n",
       "66. 0.9\n",
       "67. 0.6\n",
       "68. 0.6\n",
       "69. 0.5\n",
       "70. 1.1\n",
       "71. 1.4\n",
       "72. 0.8\n",
       "73. 0.8\n",
       "74. 0.6\n",
       "75. 1.3\n",
       "76. 1.4\n",
       "77. 0.6\n",
       "78. 0.6\n",
       "79. 69.31\n",
       "80. 70.55\n",
       "81. 71.71\n",
       "82. 72.06\n",
       "83. 72.48\n",
       "84. 70.06\n",
       "85. 70.66\n",
       "86. 73.6\n",
       "87. 70.14\n",
       "88. 72.56\n",
       "89. 72.58\n",
       "90. 70.22\n",
       "91. 71.83\n",
       "92. 70.63\n",
       "93. 72.96\n",
       "94. 72.6\n",
       "95. 69.03\n",
       "96. 70.93\n",
       "97. 70.55\n",
       "98. 72.78\n",
       "99. 70.82\n",
       "100. 72.13\n",
       "101. 71.9\n",
       "102. 70.08\n",
       "103. 71.72\n",
       "104. 70.29\n",
       "105. 11.3\n",
       "106. 7.8\n",
       "107. 10.3\n",
       "108. 6.8\n",
       "109. 3.1\n",
       "110. 6.2\n",
       "111. 10.7\n",
       "112. 6.2\n",
       "113. 10.3\n",
       "114. 2.3\n",
       "115. 4.5\n",
       "116. 8.5\n",
       "117. 3.3\n",
       "118. 11.1\n",
       "119. 2.3\n",
       "120. 2.9\n",
       "121. 11.5\n",
       "122. 5.2\n",
       "123. 10.9\n",
       "124. 1.4\n",
       "125. 7.4\n",
       "126. 4.2\n",
       "127. 2.4\n",
       "128. 9.5\n",
       "129. 4.3\n",
       "130. 6.9\n",
       "131. 66.7\n",
       "132. 58.1\n",
       "133. 62.6\n",
       "134. 63.9\n",
       "135. 56\n",
       "136. 54.6\n",
       "137. 52.6\n",
       "138. 61.9\n",
       "139. 52.6\n",
       "140. 59\n",
       "141. 59.9\n",
       "142. 52.3\n",
       "143. 58.5\n",
       "144. 52.8\n",
       "145. 57.6\n",
       "146. 59.3\n",
       "147. 65.2\n",
       "148. 52.5\n",
       "149. 52.7\n",
       "150. 50.3\n",
       "151. 53.2\n",
       "152. 60\n",
       "153. 46.4\n",
       "154. 47.8\n",
       "155. 63.5\n",
       "156. 62.9\n",
       "157. 152\n",
       "158. 15\n",
       "159. 20\n",
       "160. 166\n",
       "161. 139\n",
       "162. 103\n",
       "163. 11\n",
       "164. 0\n",
       "165. 127\n",
       "166. 140\n",
       "167. 114\n",
       "168. 101\n",
       "169. 103\n",
       "170. 125\n",
       "171. 160\n",
       "172. 139\n",
       "173. 188\n",
       "174. 115\n",
       "175. 82\n",
       "176. 186\n",
       "177. 124\n",
       "178. 44\n",
       "179. 127\n",
       "180. 85\n",
       "181. 32\n",
       "182. 173\n",
       "183. 566432\n",
       "184. 113417\n",
       "185. 156361\n",
       "186. 103766\n",
       "187. 4862\n",
       "188. 1982\n",
       "189. 54090\n",
       "190. 6425\n",
       "191. 55748\n",
       "192. 55941\n",
       "193. 81787\n",
       "194. 9891\n",
       "195. 7826\n",
       "196. 56817\n",
       "197. 79289\n",
       "198. 76483\n",
       "199. 109889\n",
       "200. 7521\n",
       "201. 47831\n",
       "202. 69273\n",
       "203. 40975\n",
       "204. 96184\n",
       "205. 1049\n",
       "206. 39780\n",
       "207. 66570\n",
       "208. 97203\n",
       "\n",
       "\n"
      ],
      "text/plain": [
       "  [1]    365.00   2212.00  21198.00   2541.00   3100.00    579.00   8277.00\n",
       "  [8]    868.00  11197.00   2861.00   2280.00   4122.00   5814.00   9111.00\n",
       " [15]   3921.00   1544.00    590.00   7333.00  18076.00    637.00  10735.00\n",
       " [22]   2284.00    931.00   4981.00   3559.00    376.00   6315.00   4530.00\n",
       " [29]   5114.00   4884.00   5348.00   4809.00   4815.00   4963.00   5107.00\n",
       " [36]   4628.00   4669.00   5299.00   4755.00   4751.00   4675.00   4508.00\n",
       " [43]   5149.00   5237.00   4903.00   5087.00   4561.00   4660.00   4558.00\n",
       " [50]   4701.00   4864.00   4566.00      1.50      1.80      1.10      0.70\n",
       " [57]      1.10      0.90      1.30      1.90      0.90      0.50      0.60\n",
       " [64]      0.90      1.10      0.90      0.60      0.60      0.50      1.10\n",
       " [71]      1.40      0.80      0.80      0.60      1.30      1.40      0.60\n",
       " [78]      0.60     69.31     70.55     71.71     72.06     72.48     70.06\n",
       " [85]     70.66     73.60     70.14     72.56     72.58     70.22     71.83\n",
       " [92]     70.63     72.96     72.60     69.03     70.93     70.55     72.78\n",
       " [99]     70.82     72.13     71.90     70.08     71.72     70.29     11.30\n",
       "[106]      7.80     10.30      6.80      3.10      6.20     10.70      6.20\n",
       "[113]     10.30      2.30      4.50      8.50      3.30     11.10      2.30\n",
       "[120]      2.90     11.50      5.20     10.90      1.40      7.40      4.20\n",
       "[127]      2.40      9.50      4.30      6.90     66.70     58.10     62.60\n",
       "[134]     63.90     56.00     54.60     52.60     61.90     52.60     59.00\n",
       "[141]     59.90     52.30     58.50     52.80     57.60     59.30     65.20\n",
       "[148]     52.50     52.70     50.30     53.20     60.00     46.40     47.80\n",
       "[155]     63.50     62.90    152.00     15.00     20.00    166.00    139.00\n",
       "[162]    103.00     11.00      0.00    127.00    140.00    114.00    101.00\n",
       "[169]    103.00    125.00    160.00    139.00    188.00    115.00     82.00\n",
       "[176]    186.00    124.00     44.00    127.00     85.00     32.00    173.00\n",
       "[183] 566432.00 113417.00 156361.00 103766.00   4862.00   1982.00  54090.00\n",
       "[190]   6425.00  55748.00  55941.00  81787.00   9891.00   7826.00  56817.00\n",
       "[197]  79289.00  76483.00 109889.00   7521.00  47831.00  69273.00  40975.00\n",
       "[204]  96184.00   1049.00  39780.00  66570.00  97203.00"
      ]
     },
     "metadata": {},
     "output_type": "display_data"
    }
   ],
   "source": [
    "st[st['Income'] >= 4500]"
   ]
  },
  {
   "cell_type": "code",
   "execution_count": 109,
   "id": "5644c4e0",
   "metadata": {},
   "outputs": [
    {
     "data": {
      "text/html": [
       "<style>\n",
       ".list-inline {list-style: none; margin:0; padding: 0}\n",
       ".list-inline>li {display: inline-block}\n",
       ".list-inline>li:not(:last-child)::after {content: \"\\00b7\"; padding: 0 .5ex}\n",
       "</style>\n",
       "<ol class=list-inline><li>'Population'</li><li>'Income'</li><li>'Illiteracy'</li><li>'Life.Exp'</li><li>'Murder'</li><li>'HS.Grad'</li><li>'Frost'</li><li>'Area'</li></ol>\n"
      ],
      "text/latex": [
       "\\begin{enumerate*}\n",
       "\\item 'Population'\n",
       "\\item 'Income'\n",
       "\\item 'Illiteracy'\n",
       "\\item 'Life.Exp'\n",
       "\\item 'Murder'\n",
       "\\item 'HS.Grad'\n",
       "\\item 'Frost'\n",
       "\\item 'Area'\n",
       "\\end{enumerate*}\n"
      ],
      "text/markdown": [
       "1. 'Population'\n",
       "2. 'Income'\n",
       "3. 'Illiteracy'\n",
       "4. 'Life.Exp'\n",
       "5. 'Murder'\n",
       "6. 'HS.Grad'\n",
       "7. 'Frost'\n",
       "8. 'Area'\n",
       "\n",
       "\n"
      ],
      "text/plain": [
       "[1] \"Population\" \"Income\"     \"Illiteracy\" \"Life.Exp\"   \"Murder\"    \n",
       "[6] \"HS.Grad\"    \"Frost\"      \"Area\"      "
      ]
     },
     "metadata": {},
     "output_type": "display_data"
    }
   ],
   "source": [
    "colnames(st)"
   ]
  },
  {
   "cell_type": "code",
   "execution_count": 111,
   "id": "96c6bd5f",
   "metadata": {},
   "outputs": [
    {
     "data": {
      "text/html": [
       "<table class=\"dataframe\">\n",
       "<caption>A data.frame: 5 × 8</caption>\n",
       "<thead>\n",
       "\t<tr><th></th><th scope=col>Population</th><th scope=col>Income</th><th scope=col>Illiteracy</th><th scope=col>Life.Exp</th><th scope=col>Murder</th><th scope=col>HS.Grad</th><th scope=col>Frost</th><th scope=col>Area</th></tr>\n",
       "\t<tr><th></th><th scope=col>&lt;dbl&gt;</th><th scope=col>&lt;dbl&gt;</th><th scope=col>&lt;dbl&gt;</th><th scope=col>&lt;dbl&gt;</th><th scope=col>&lt;dbl&gt;</th><th scope=col>&lt;dbl&gt;</th><th scope=col>&lt;dbl&gt;</th><th scope=col>&lt;dbl&gt;</th></tr>\n",
       "</thead>\n",
       "<tbody>\n",
       "\t<tr><th scope=row>Alaska</th><td> 365</td><td>6315</td><td>1.5</td><td>69.31</td><td>11.3</td><td>66.7</td><td>152</td><td>566432</td></tr>\n",
       "\t<tr><th scope=row>Colorado</th><td>2541</td><td>4884</td><td>0.7</td><td>72.06</td><td> 6.8</td><td>63.9</td><td>166</td><td>103766</td></tr>\n",
       "\t<tr><th scope=row>Montana</th><td> 746</td><td>4347</td><td>0.6</td><td>70.56</td><td> 5.0</td><td>59.2</td><td>155</td><td>145587</td></tr>\n",
       "\t<tr><th scope=row>Nevada</th><td> 590</td><td>5149</td><td>0.5</td><td>69.03</td><td>11.5</td><td>65.2</td><td>188</td><td>109889</td></tr>\n",
       "\t<tr><th scope=row>New Mexico</th><td>1144</td><td>3601</td><td>2.2</td><td>70.32</td><td> 9.7</td><td>55.2</td><td>120</td><td>121412</td></tr>\n",
       "</tbody>\n",
       "</table>\n"
      ],
      "text/latex": [
       "A data.frame: 5 × 8\n",
       "\\begin{tabular}{r|llllllll}\n",
       "  & Population & Income & Illiteracy & Life.Exp & Murder & HS.Grad & Frost & Area\\\\\n",
       "  & <dbl> & <dbl> & <dbl> & <dbl> & <dbl> & <dbl> & <dbl> & <dbl>\\\\\n",
       "\\hline\n",
       "\tAlaska &  365 & 6315 & 1.5 & 69.31 & 11.3 & 66.7 & 152 & 566432\\\\\n",
       "\tColorado & 2541 & 4884 & 0.7 & 72.06 &  6.8 & 63.9 & 166 & 103766\\\\\n",
       "\tMontana &  746 & 4347 & 0.6 & 70.56 &  5.0 & 59.2 & 155 & 145587\\\\\n",
       "\tNevada &  590 & 5149 & 0.5 & 69.03 & 11.5 & 65.2 & 188 & 109889\\\\\n",
       "\tNew Mexico & 1144 & 3601 & 2.2 & 70.32 &  9.7 & 55.2 & 120 & 121412\\\\\n",
       "\\end{tabular}\n"
      ],
      "text/markdown": [
       "\n",
       "A data.frame: 5 × 8\n",
       "\n",
       "| <!--/--> | Population &lt;dbl&gt; | Income &lt;dbl&gt; | Illiteracy &lt;dbl&gt; | Life.Exp &lt;dbl&gt; | Murder &lt;dbl&gt; | HS.Grad &lt;dbl&gt; | Frost &lt;dbl&gt; | Area &lt;dbl&gt; |\n",
       "|---|---|---|---|---|---|---|---|---|\n",
       "| Alaska |  365 | 6315 | 1.5 | 69.31 | 11.3 | 66.7 | 152 | 566432 |\n",
       "| Colorado | 2541 | 4884 | 0.7 | 72.06 |  6.8 | 63.9 | 166 | 103766 |\n",
       "| Montana |  746 | 4347 | 0.6 | 70.56 |  5.0 | 59.2 | 155 | 145587 |\n",
       "| Nevada |  590 | 5149 | 0.5 | 69.03 | 11.5 | 65.2 | 188 | 109889 |\n",
       "| New Mexico | 1144 | 3601 | 2.2 | 70.32 |  9.7 | 55.2 | 120 | 121412 |\n",
       "\n"
      ],
      "text/plain": [
       "           Population Income Illiteracy Life.Exp Murder HS.Grad Frost Area  \n",
       "Alaska      365       6315   1.5        69.31    11.3   66.7    152   566432\n",
       "Colorado   2541       4884   0.7        72.06     6.8   63.9    166   103766\n",
       "Montana     746       4347   0.6        70.56     5.0   59.2    155   145587\n",
       "Nevada      590       5149   0.5        69.03    11.5   65.2    188   109889\n",
       "New Mexico 1144       3601   2.2        70.32     9.7   55.2    120   121412"
      ]
     },
     "metadata": {},
     "output_type": "display_data"
    }
   ],
   "source": [
    "st[st['Area'] >= 100000 & st['Frost'] >= 120, ]"
   ]
  },
  {
   "cell_type": "code",
   "execution_count": 112,
   "id": "849f60d4",
   "metadata": {},
   "outputs": [
    {
     "data": {
      "text/html": [
       "<table class=\"dataframe\">\n",
       "<caption>A data.frame: 5 × 8</caption>\n",
       "<thead>\n",
       "\t<tr><th></th><th scope=col>Population</th><th scope=col>Income</th><th scope=col>Illiteracy</th><th scope=col>Life.Exp</th><th scope=col>Murder</th><th scope=col>HS.Grad</th><th scope=col>Frost</th><th scope=col>Area</th></tr>\n",
       "\t<tr><th></th><th scope=col>&lt;dbl&gt;</th><th scope=col>&lt;dbl&gt;</th><th scope=col>&lt;dbl&gt;</th><th scope=col>&lt;dbl&gt;</th><th scope=col>&lt;dbl&gt;</th><th scope=col>&lt;dbl&gt;</th><th scope=col>&lt;dbl&gt;</th><th scope=col>&lt;dbl&gt;</th></tr>\n",
       "</thead>\n",
       "<tbody>\n",
       "\t<tr><th scope=row>Alaska</th><td> 365</td><td>6315</td><td>1.5</td><td>69.31</td><td>11.3</td><td>66.7</td><td>152</td><td>566432</td></tr>\n",
       "\t<tr><th scope=row>Colorado</th><td>2541</td><td>4884</td><td>0.7</td><td>72.06</td><td> 6.8</td><td>63.9</td><td>166</td><td>103766</td></tr>\n",
       "\t<tr><th scope=row>Montana</th><td> 746</td><td>4347</td><td>0.6</td><td>70.56</td><td> 5.0</td><td>59.2</td><td>155</td><td>145587</td></tr>\n",
       "\t<tr><th scope=row>Nevada</th><td> 590</td><td>5149</td><td>0.5</td><td>69.03</td><td>11.5</td><td>65.2</td><td>188</td><td>109889</td></tr>\n",
       "\t<tr><th scope=row>New Mexico</th><td>1144</td><td>3601</td><td>2.2</td><td>70.32</td><td> 9.7</td><td>55.2</td><td>120</td><td>121412</td></tr>\n",
       "</tbody>\n",
       "</table>\n"
      ],
      "text/latex": [
       "A data.frame: 5 × 8\n",
       "\\begin{tabular}{r|llllllll}\n",
       "  & Population & Income & Illiteracy & Life.Exp & Murder & HS.Grad & Frost & Area\\\\\n",
       "  & <dbl> & <dbl> & <dbl> & <dbl> & <dbl> & <dbl> & <dbl> & <dbl>\\\\\n",
       "\\hline\n",
       "\tAlaska &  365 & 6315 & 1.5 & 69.31 & 11.3 & 66.7 & 152 & 566432\\\\\n",
       "\tColorado & 2541 & 4884 & 0.7 & 72.06 &  6.8 & 63.9 & 166 & 103766\\\\\n",
       "\tMontana &  746 & 4347 & 0.6 & 70.56 &  5.0 & 59.2 & 155 & 145587\\\\\n",
       "\tNevada &  590 & 5149 & 0.5 & 69.03 & 11.5 & 65.2 & 188 & 109889\\\\\n",
       "\tNew Mexico & 1144 & 3601 & 2.2 & 70.32 &  9.7 & 55.2 & 120 & 121412\\\\\n",
       "\\end{tabular}\n"
      ],
      "text/markdown": [
       "\n",
       "A data.frame: 5 × 8\n",
       "\n",
       "| <!--/--> | Population &lt;dbl&gt; | Income &lt;dbl&gt; | Illiteracy &lt;dbl&gt; | Life.Exp &lt;dbl&gt; | Murder &lt;dbl&gt; | HS.Grad &lt;dbl&gt; | Frost &lt;dbl&gt; | Area &lt;dbl&gt; |\n",
       "|---|---|---|---|---|---|---|---|---|\n",
       "| Alaska |  365 | 6315 | 1.5 | 69.31 | 11.3 | 66.7 | 152 | 566432 |\n",
       "| Colorado | 2541 | 4884 | 0.7 | 72.06 |  6.8 | 63.9 | 166 | 103766 |\n",
       "| Montana |  746 | 4347 | 0.6 | 70.56 |  5.0 | 59.2 | 155 | 145587 |\n",
       "| Nevada |  590 | 5149 | 0.5 | 69.03 | 11.5 | 65.2 | 188 | 109889 |\n",
       "| New Mexico | 1144 | 3601 | 2.2 | 70.32 |  9.7 | 55.2 | 120 | 121412 |\n",
       "\n"
      ],
      "text/plain": [
       "           Population Income Illiteracy Life.Exp Murder HS.Grad Frost Area  \n",
       "Alaska      365       6315   1.5        69.31    11.3   66.7    152   566432\n",
       "Colorado   2541       4884   0.7        72.06     6.8   63.9    166   103766\n",
       "Montana     746       4347   0.6        70.56     5.0   59.2    155   145587\n",
       "Nevada      590       5149   0.5        69.03    11.5   65.2    188   109889\n",
       "New Mexico 1144       3601   2.2        70.32     9.7   55.2    120   121412"
      ]
     },
     "metadata": {},
     "output_type": "display_data"
    }
   ],
   "source": [
    "subset(st, st['Area'] >= 100000 & st['Frost'] >= 120)"
   ]
  },
  {
   "cell_type": "code",
   "execution_count": 115,
   "id": "a309042a",
   "metadata": {},
   "outputs": [
    {
     "data": {
      "text/html": [
       "<style>\n",
       ".dl-inline {width: auto; margin:0; padding: 0}\n",
       ".dl-inline>dt, .dl-inline>dd {float: none; width: auto; display: inline-block}\n",
       ".dl-inline>dt::after {content: \":\\0020\"; padding-right: .5ex}\n",
       ".dl-inline>dt:not(:first-of-type) {padding-left: .5ex}\n",
       "</style><dl class=dl-inline><dt>Population</dt><dd>4412.85714285714</dd><dt>Income</dt><dd>3683.14285714286</dd><dt>Illiteracy</dt><dd>2.28571428571429</dd><dt>Life.Exp</dt><dd>69.0885714285714</dd><dt>Murder</dt><dd>12.6</dd><dt>HS.Grad</dt><dd>43.6428571428571</dd><dt>Frost</dt><dd>51.7142857142857</dd><dt>Area</dt><dd>87825.4285714286</dd></dl>\n"
      ],
      "text/latex": [
       "\\begin{description*}\n",
       "\\item[Population] 4412.85714285714\n",
       "\\item[Income] 3683.14285714286\n",
       "\\item[Illiteracy] 2.28571428571429\n",
       "\\item[Life.Exp] 69.0885714285714\n",
       "\\item[Murder] 12.6\n",
       "\\item[HS.Grad] 43.6428571428571\n",
       "\\item[Frost] 51.7142857142857\n",
       "\\item[Area] 87825.4285714286\n",
       "\\end{description*}\n"
      ],
      "text/markdown": [
       "Population\n",
       ":   4412.85714285714Income\n",
       ":   3683.14285714286Illiteracy\n",
       ":   2.28571428571429Life.Exp\n",
       ":   69.0885714285714Murder\n",
       ":   12.6HS.Grad\n",
       ":   43.6428571428571Frost\n",
       ":   51.7142857142857Area\n",
       ":   87825.4285714286\n",
       "\n"
      ],
      "text/plain": [
       "  Population       Income   Illiteracy     Life.Exp       Murder      HS.Grad \n",
       " 4412.857143  3683.142857     2.285714    69.088571    12.600000    43.642857 \n",
       "       Frost         Area \n",
       "   51.714286 87825.428571 "
      ]
     },
     "metadata": {},
     "output_type": "display_data"
    }
   ],
   "source": [
    "colMeans(st[st['Illiteracy'] >= 2.0, ])"
   ]
  },
  {
   "cell_type": "code",
   "execution_count": 116,
   "id": "c886de71",
   "metadata": {},
   "outputs": [
    {
     "data": {
      "text/html": [
       "<table class=\"dataframe\">\n",
       "<caption>A data.frame: 17 × 8</caption>\n",
       "<thead>\n",
       "\t<tr><th></th><th scope=col>Population</th><th scope=col>Income</th><th scope=col>Illiteracy</th><th scope=col>Life.Exp</th><th scope=col>Murder</th><th scope=col>HS.Grad</th><th scope=col>Frost</th><th scope=col>Area</th></tr>\n",
       "\t<tr><th></th><th scope=col>&lt;dbl&gt;</th><th scope=col>&lt;dbl&gt;</th><th scope=col>&lt;dbl&gt;</th><th scope=col>&lt;dbl&gt;</th><th scope=col>&lt;dbl&gt;</th><th scope=col>&lt;dbl&gt;</th><th scope=col>&lt;dbl&gt;</th><th scope=col>&lt;dbl&gt;</th></tr>\n",
       "</thead>\n",
       "<tbody>\n",
       "\t<tr><th scope=row>Alaska</th><td> 365</td><td>6315</td><td>1.5</td><td>69.31</td><td>11.3</td><td>66.7</td><td>152</td><td>566432</td></tr>\n",
       "\t<tr><th scope=row>Delaware</th><td> 579</td><td>4809</td><td>0.9</td><td>70.06</td><td> 6.2</td><td>54.6</td><td>103</td><td>  1982</td></tr>\n",
       "\t<tr><th scope=row>Hawaii</th><td> 868</td><td>4963</td><td>1.9</td><td>73.60</td><td> 6.2</td><td>61.9</td><td>  0</td><td>  6425</td></tr>\n",
       "\t<tr><th scope=row>Idaho</th><td> 813</td><td>4119</td><td>0.6</td><td>71.87</td><td> 5.3</td><td>59.5</td><td>126</td><td> 82677</td></tr>\n",
       "\t<tr><th scope=row>Maine</th><td>1058</td><td>3694</td><td>0.7</td><td>70.39</td><td> 2.7</td><td>54.7</td><td>161</td><td> 30920</td></tr>\n",
       "\t<tr><th scope=row>Montana</th><td> 746</td><td>4347</td><td>0.6</td><td>70.56</td><td> 5.0</td><td>59.2</td><td>155</td><td>145587</td></tr>\n",
       "\t<tr><th scope=row>Nebraska</th><td>1544</td><td>4508</td><td>0.6</td><td>72.60</td><td> 2.9</td><td>59.3</td><td>139</td><td> 76483</td></tr>\n",
       "\t<tr><th scope=row>Nevada</th><td> 590</td><td>5149</td><td>0.5</td><td>69.03</td><td>11.5</td><td>65.2</td><td>188</td><td>109889</td></tr>\n",
       "\t<tr><th scope=row>New Hampshire</th><td> 812</td><td>4281</td><td>0.7</td><td>71.23</td><td> 3.3</td><td>57.6</td><td>174</td><td>  9027</td></tr>\n",
       "\t<tr><th scope=row>New Mexico</th><td>1144</td><td>3601</td><td>2.2</td><td>70.32</td><td> 9.7</td><td>55.2</td><td>120</td><td>121412</td></tr>\n",
       "\t<tr><th scope=row>North Dakota</th><td> 637</td><td>5087</td><td>0.8</td><td>72.78</td><td> 1.4</td><td>50.3</td><td>186</td><td> 69273</td></tr>\n",
       "\t<tr><th scope=row>Rhode Island</th><td> 931</td><td>4558</td><td>1.3</td><td>71.90</td><td> 2.4</td><td>46.4</td><td>127</td><td>  1049</td></tr>\n",
       "\t<tr><th scope=row>South Dakota</th><td> 681</td><td>4167</td><td>0.5</td><td>72.08</td><td> 1.7</td><td>53.3</td><td>172</td><td> 75955</td></tr>\n",
       "\t<tr><th scope=row>Utah</th><td>1203</td><td>4022</td><td>0.6</td><td>72.90</td><td> 4.5</td><td>67.3</td><td>137</td><td> 82096</td></tr>\n",
       "\t<tr><th scope=row>Vermont</th><td> 472</td><td>3907</td><td>0.6</td><td>71.64</td><td> 5.5</td><td>57.1</td><td>168</td><td>  9267</td></tr>\n",
       "\t<tr><th scope=row>West Virginia</th><td>1799</td><td>3617</td><td>1.4</td><td>69.48</td><td> 6.7</td><td>41.6</td><td>100</td><td> 24070</td></tr>\n",
       "\t<tr><th scope=row>Wyoming</th><td> 376</td><td>4566</td><td>0.6</td><td>70.29</td><td> 6.9</td><td>62.9</td><td>173</td><td> 97203</td></tr>\n",
       "</tbody>\n",
       "</table>\n"
      ],
      "text/latex": [
       "A data.frame: 17 × 8\n",
       "\\begin{tabular}{r|llllllll}\n",
       "  & Population & Income & Illiteracy & Life.Exp & Murder & HS.Grad & Frost & Area\\\\\n",
       "  & <dbl> & <dbl> & <dbl> & <dbl> & <dbl> & <dbl> & <dbl> & <dbl>\\\\\n",
       "\\hline\n",
       "\tAlaska &  365 & 6315 & 1.5 & 69.31 & 11.3 & 66.7 & 152 & 566432\\\\\n",
       "\tDelaware &  579 & 4809 & 0.9 & 70.06 &  6.2 & 54.6 & 103 &   1982\\\\\n",
       "\tHawaii &  868 & 4963 & 1.9 & 73.60 &  6.2 & 61.9 &   0 &   6425\\\\\n",
       "\tIdaho &  813 & 4119 & 0.6 & 71.87 &  5.3 & 59.5 & 126 &  82677\\\\\n",
       "\tMaine & 1058 & 3694 & 0.7 & 70.39 &  2.7 & 54.7 & 161 &  30920\\\\\n",
       "\tMontana &  746 & 4347 & 0.6 & 70.56 &  5.0 & 59.2 & 155 & 145587\\\\\n",
       "\tNebraska & 1544 & 4508 & 0.6 & 72.60 &  2.9 & 59.3 & 139 &  76483\\\\\n",
       "\tNevada &  590 & 5149 & 0.5 & 69.03 & 11.5 & 65.2 & 188 & 109889\\\\\n",
       "\tNew Hampshire &  812 & 4281 & 0.7 & 71.23 &  3.3 & 57.6 & 174 &   9027\\\\\n",
       "\tNew Mexico & 1144 & 3601 & 2.2 & 70.32 &  9.7 & 55.2 & 120 & 121412\\\\\n",
       "\tNorth Dakota &  637 & 5087 & 0.8 & 72.78 &  1.4 & 50.3 & 186 &  69273\\\\\n",
       "\tRhode Island &  931 & 4558 & 1.3 & 71.90 &  2.4 & 46.4 & 127 &   1049\\\\\n",
       "\tSouth Dakota &  681 & 4167 & 0.5 & 72.08 &  1.7 & 53.3 & 172 &  75955\\\\\n",
       "\tUtah & 1203 & 4022 & 0.6 & 72.90 &  4.5 & 67.3 & 137 &  82096\\\\\n",
       "\tVermont &  472 & 3907 & 0.6 & 71.64 &  5.5 & 57.1 & 168 &   9267\\\\\n",
       "\tWest Virginia & 1799 & 3617 & 1.4 & 69.48 &  6.7 & 41.6 & 100 &  24070\\\\\n",
       "\tWyoming &  376 & 4566 & 0.6 & 70.29 &  6.9 & 62.9 & 173 &  97203\\\\\n",
       "\\end{tabular}\n"
      ],
      "text/markdown": [
       "\n",
       "A data.frame: 17 × 8\n",
       "\n",
       "| <!--/--> | Population &lt;dbl&gt; | Income &lt;dbl&gt; | Illiteracy &lt;dbl&gt; | Life.Exp &lt;dbl&gt; | Murder &lt;dbl&gt; | HS.Grad &lt;dbl&gt; | Frost &lt;dbl&gt; | Area &lt;dbl&gt; |\n",
       "|---|---|---|---|---|---|---|---|---|\n",
       "| Alaska |  365 | 6315 | 1.5 | 69.31 | 11.3 | 66.7 | 152 | 566432 |\n",
       "| Delaware |  579 | 4809 | 0.9 | 70.06 |  6.2 | 54.6 | 103 |   1982 |\n",
       "| Hawaii |  868 | 4963 | 1.9 | 73.60 |  6.2 | 61.9 |   0 |   6425 |\n",
       "| Idaho |  813 | 4119 | 0.6 | 71.87 |  5.3 | 59.5 | 126 |  82677 |\n",
       "| Maine | 1058 | 3694 | 0.7 | 70.39 |  2.7 | 54.7 | 161 |  30920 |\n",
       "| Montana |  746 | 4347 | 0.6 | 70.56 |  5.0 | 59.2 | 155 | 145587 |\n",
       "| Nebraska | 1544 | 4508 | 0.6 | 72.60 |  2.9 | 59.3 | 139 |  76483 |\n",
       "| Nevada |  590 | 5149 | 0.5 | 69.03 | 11.5 | 65.2 | 188 | 109889 |\n",
       "| New Hampshire |  812 | 4281 | 0.7 | 71.23 |  3.3 | 57.6 | 174 |   9027 |\n",
       "| New Mexico | 1144 | 3601 | 2.2 | 70.32 |  9.7 | 55.2 | 120 | 121412 |\n",
       "| North Dakota |  637 | 5087 | 0.8 | 72.78 |  1.4 | 50.3 | 186 |  69273 |\n",
       "| Rhode Island |  931 | 4558 | 1.3 | 71.90 |  2.4 | 46.4 | 127 |   1049 |\n",
       "| South Dakota |  681 | 4167 | 0.5 | 72.08 |  1.7 | 53.3 | 172 |  75955 |\n",
       "| Utah | 1203 | 4022 | 0.6 | 72.90 |  4.5 | 67.3 | 137 |  82096 |\n",
       "| Vermont |  472 | 3907 | 0.6 | 71.64 |  5.5 | 57.1 | 168 |   9267 |\n",
       "| West Virginia | 1799 | 3617 | 1.4 | 69.48 |  6.7 | 41.6 | 100 |  24070 |\n",
       "| Wyoming |  376 | 4566 | 0.6 | 70.29 |  6.9 | 62.9 | 173 |  97203 |\n",
       "\n"
      ],
      "text/plain": [
       "              Population Income Illiteracy Life.Exp Murder HS.Grad Frost Area  \n",
       "Alaska         365       6315   1.5        69.31    11.3   66.7    152   566432\n",
       "Delaware       579       4809   0.9        70.06     6.2   54.6    103     1982\n",
       "Hawaii         868       4963   1.9        73.60     6.2   61.9      0     6425\n",
       "Idaho          813       4119   0.6        71.87     5.3   59.5    126    82677\n",
       "Maine         1058       3694   0.7        70.39     2.7   54.7    161    30920\n",
       "Montana        746       4347   0.6        70.56     5.0   59.2    155   145587\n",
       "Nebraska      1544       4508   0.6        72.60     2.9   59.3    139    76483\n",
       "Nevada         590       5149   0.5        69.03    11.5   65.2    188   109889\n",
       "New Hampshire  812       4281   0.7        71.23     3.3   57.6    174     9027\n",
       "New Mexico    1144       3601   2.2        70.32     9.7   55.2    120   121412\n",
       "North Dakota   637       5087   0.8        72.78     1.4   50.3    186    69273\n",
       "Rhode Island   931       4558   1.3        71.90     2.4   46.4    127     1049\n",
       "South Dakota   681       4167   0.5        72.08     1.7   53.3    172    75955\n",
       "Utah          1203       4022   0.6        72.90     4.5   67.3    137    82096\n",
       "Vermont        472       3907   0.6        71.64     5.5   57.1    168     9267\n",
       "West Virginia 1799       3617   1.4        69.48     6.7   41.6    100    24070\n",
       "Wyoming        376       4566   0.6        70.29     6.9   62.9    173    97203"
      ]
     },
     "metadata": {},
     "output_type": "display_data"
    }
   ],
   "source": [
    "subset(st, st['Population'] < 2000 & st['Murder'] < 12)"
   ]
  },
  {
   "cell_type": "code",
   "execution_count": 119,
   "id": "6065a1e5",
   "metadata": {},
   "outputs": [
    {
     "data": {
      "text/html": [
       "<strong>Income:</strong> 3615.16666666667"
      ],
      "text/latex": [
       "\\textbf{Income:} 3615.16666666667"
      ],
      "text/markdown": [
       "**Income:** 3615.16666666667"
      ],
      "text/plain": [
       "  Income \n",
       "3615.167 "
      ]
     },
     "metadata": {},
     "output_type": "display_data"
    }
   ],
   "source": [
    "colMeans(st[st['Illiteracy'] > 2.0, ])['Income']"
   ]
  },
  {
   "cell_type": "code",
   "execution_count": 120,
   "id": "e8c978e6",
   "metadata": {},
   "outputs": [
    {
     "data": {
      "text/html": [
       "<strong>Income:</strong> 4558.32558139535"
      ],
      "text/latex": [
       "\\textbf{Income:} 4558.32558139535"
      ],
      "text/markdown": [
       "**Income:** 4558.32558139535"
      ],
      "text/plain": [
       "  Income \n",
       "4558.326 "
      ]
     },
     "metadata": {},
     "output_type": "display_data"
    }
   ],
   "source": [
    "colMeans(st[st['Illiteracy'] < 2.0, ])['Income']"
   ]
  },
  {
   "cell_type": "code",
   "execution_count": 121,
   "id": "126e7175",
   "metadata": {},
   "outputs": [
    {
     "data": {
      "text/html": [
       "<strong>Income:</strong> 943.158914728683"
      ],
      "text/latex": [
       "\\textbf{Income:} 943.158914728683"
      ],
      "text/markdown": [
       "**Income:** 943.158914728683"
      ],
      "text/plain": [
       "  Income \n",
       "943.1589 "
      ]
     },
     "metadata": {},
     "output_type": "display_data"
    }
   ],
   "source": [
    "colMeans(st[st['Illiteracy'] < 2.0, ])['Income'] - colMeans(st[st['Illiteracy'] > 2.0, ])['Income']"
   ]
  },
  {
   "cell_type": "code",
   "execution_count": 122,
   "id": "da68ada3",
   "metadata": {},
   "outputs": [
    {
     "data": {
      "text/html": [
       "<style>\n",
       ".list-inline {list-style: none; margin:0; padding: 0}\n",
       ".list-inline>li {display: inline-block}\n",
       ".list-inline>li:not(:last-child)::after {content: \"\\00b7\"; padding: 0 .5ex}\n",
       "</style>\n",
       "<ol class=list-inline><li>'Population'</li><li>'Income'</li><li>'Illiteracy'</li><li>'Life.Exp'</li><li>'Murder'</li><li>'HS.Grad'</li><li>'Frost'</li><li>'Area'</li></ol>\n"
      ],
      "text/latex": [
       "\\begin{enumerate*}\n",
       "\\item 'Population'\n",
       "\\item 'Income'\n",
       "\\item 'Illiteracy'\n",
       "\\item 'Life.Exp'\n",
       "\\item 'Murder'\n",
       "\\item 'HS.Grad'\n",
       "\\item 'Frost'\n",
       "\\item 'Area'\n",
       "\\end{enumerate*}\n"
      ],
      "text/markdown": [
       "1. 'Population'\n",
       "2. 'Income'\n",
       "3. 'Illiteracy'\n",
       "4. 'Life.Exp'\n",
       "5. 'Murder'\n",
       "6. 'HS.Grad'\n",
       "7. 'Frost'\n",
       "8. 'Area'\n",
       "\n",
       "\n"
      ],
      "text/plain": [
       "[1] \"Population\" \"Income\"     \"Illiteracy\" \"Life.Exp\"   \"Murder\"    \n",
       "[6] \"HS.Grad\"    \"Frost\"      \"Area\"      "
      ]
     },
     "metadata": {},
     "output_type": "display_data"
    }
   ],
   "source": [
    "colnames(st)"
   ]
  },
  {
   "cell_type": "code",
   "execution_count": 125,
   "id": "a55b4136",
   "metadata": {},
   "outputs": [
    {
     "data": {
      "text/html": [
       "<table class=\"dataframe\">\n",
       "<caption>A data.frame: 1 × 8</caption>\n",
       "<thead>\n",
       "\t<tr><th></th><th scope=col>Population</th><th scope=col>Income</th><th scope=col>Illiteracy</th><th scope=col>Life.Exp</th><th scope=col>Murder</th><th scope=col>HS.Grad</th><th scope=col>Frost</th><th scope=col>Area</th></tr>\n",
       "\t<tr><th></th><th scope=col>&lt;dbl&gt;</th><th scope=col>&lt;dbl&gt;</th><th scope=col>&lt;dbl&gt;</th><th scope=col>&lt;dbl&gt;</th><th scope=col>&lt;dbl&gt;</th><th scope=col>&lt;dbl&gt;</th><th scope=col>&lt;dbl&gt;</th><th scope=col>&lt;dbl&gt;</th></tr>\n",
       "</thead>\n",
       "<tbody>\n",
       "\t<tr><th scope=row>Hawaii</th><td>868</td><td>4963</td><td>1.9</td><td>73.6</td><td>6.2</td><td>61.9</td><td>0</td><td>6425</td></tr>\n",
       "</tbody>\n",
       "</table>\n"
      ],
      "text/latex": [
       "A data.frame: 1 × 8\n",
       "\\begin{tabular}{r|llllllll}\n",
       "  & Population & Income & Illiteracy & Life.Exp & Murder & HS.Grad & Frost & Area\\\\\n",
       "  & <dbl> & <dbl> & <dbl> & <dbl> & <dbl> & <dbl> & <dbl> & <dbl>\\\\\n",
       "\\hline\n",
       "\tHawaii & 868 & 4963 & 1.9 & 73.6 & 6.2 & 61.9 & 0 & 6425\\\\\n",
       "\\end{tabular}\n"
      ],
      "text/markdown": [
       "\n",
       "A data.frame: 1 × 8\n",
       "\n",
       "| <!--/--> | Population &lt;dbl&gt; | Income &lt;dbl&gt; | Illiteracy &lt;dbl&gt; | Life.Exp &lt;dbl&gt; | Murder &lt;dbl&gt; | HS.Grad &lt;dbl&gt; | Frost &lt;dbl&gt; | Area &lt;dbl&gt; |\n",
       "|---|---|---|---|---|---|---|---|---|\n",
       "| Hawaii | 868 | 4963 | 1.9 | 73.6 | 6.2 | 61.9 | 0 | 6425 |\n",
       "\n"
      ],
      "text/plain": [
       "       Population Income Illiteracy Life.Exp Murder HS.Grad Frost Area\n",
       "Hawaii 868        4963   1.9        73.6     6.2    61.9    0     6425"
      ]
     },
     "metadata": {},
     "output_type": "display_data"
    }
   ],
   "source": [
    "st[st['Life.Exp'] == max(st['Life.Exp']), ]"
   ]
  },
  {
   "cell_type": "code",
   "execution_count": 127,
   "id": "ef34b506",
   "metadata": {},
   "outputs": [
    {
     "data": {
      "text/html": [
       "4449"
      ],
      "text/latex": [
       "4449"
      ],
      "text/markdown": [
       "4449"
      ],
      "text/plain": [
       "[1] 4449"
      ]
     },
     "metadata": {},
     "output_type": "display_data"
    }
   ],
   "source": [
    "st['Pennsylvania', 'Income']"
   ]
  },
  {
   "cell_type": "code",
   "execution_count": 131,
   "id": "c8111d80",
   "metadata": {},
   "outputs": [
    {
     "data": {
      "text/html": [
       "<table class=\"dataframe\">\n",
       "<caption>A data.frame: 0 × 8</caption>\n",
       "<thead>\n",
       "\t<tr><th scope=col>Population</th><th scope=col>Income</th><th scope=col>Illiteracy</th><th scope=col>Life.Exp</th><th scope=col>Murder</th><th scope=col>HS.Grad</th><th scope=col>Frost</th><th scope=col>Area</th></tr>\n",
       "\t<tr><th scope=col>&lt;dbl&gt;</th><th scope=col>&lt;dbl&gt;</th><th scope=col>&lt;dbl&gt;</th><th scope=col>&lt;dbl&gt;</th><th scope=col>&lt;dbl&gt;</th><th scope=col>&lt;dbl&gt;</th><th scope=col>&lt;dbl&gt;</th><th scope=col>&lt;dbl&gt;</th></tr>\n",
       "</thead>\n",
       "<tbody>\n",
       "</tbody>\n",
       "</table>\n"
      ],
      "text/latex": [
       "A data.frame: 0 × 8\n",
       "\\begin{tabular}{llllllll}\n",
       " Population & Income & Illiteracy & Life.Exp & Murder & HS.Grad & Frost & Area\\\\\n",
       " <dbl> & <dbl> & <dbl> & <dbl> & <dbl> & <dbl> & <dbl> & <dbl>\\\\\n",
       "\\hline\n",
       "\\end{tabular}\n"
      ],
      "text/markdown": [
       "\n",
       "A data.frame: 0 × 8\n",
       "\n",
       "| Population &lt;dbl&gt; | Income &lt;dbl&gt; | Illiteracy &lt;dbl&gt; | Life.Exp &lt;dbl&gt; | Murder &lt;dbl&gt; | HS.Grad &lt;dbl&gt; | Frost &lt;dbl&gt; | Area &lt;dbl&gt; |\n",
       "|---|---|---|---|---|---|---|---|\n",
       "\n"
      ],
      "text/plain": [
       "     Population Income Illiteracy Life.Exp Murder HS.Grad Frost Area"
      ]
     },
     "metadata": {},
     "output_type": "display_data"
    }
   ],
   "source": [
    "subset(st, st['Income'] >= st['Pennysylvania', 'Income'])"
   ]
  },
  {
   "cell_type": "code",
   "execution_count": 133,
   "id": "dddf03a5",
   "metadata": {},
   "outputs": [
    {
     "data": {
      "text/html": [],
      "text/latex": [],
      "text/markdown": [],
      "text/plain": [
       "character(0)"
      ]
     },
     "metadata": {},
     "output_type": "display_data"
    }
   ],
   "source": [
    "pen.income  <- st['Pennysylvania', 'Income']\n",
    "rownames(subset(st, Income > pen.income))"
   ]
  },
  {
   "cell_type": "code",
   "execution_count": 130,
   "id": "2729e884",
   "metadata": {},
   "outputs": [
    {
     "data": {
      "text/html": [
       "<table class=\"dataframe\">\n",
       "<caption>A data.frame: 50 × 8</caption>\n",
       "<thead>\n",
       "\t<tr><th></th><th scope=col>Population</th><th scope=col>Income</th><th scope=col>Illiteracy</th><th scope=col>Life.Exp</th><th scope=col>Murder</th><th scope=col>HS.Grad</th><th scope=col>Frost</th><th scope=col>Area</th></tr>\n",
       "\t<tr><th></th><th scope=col>&lt;dbl&gt;</th><th scope=col>&lt;dbl&gt;</th><th scope=col>&lt;dbl&gt;</th><th scope=col>&lt;dbl&gt;</th><th scope=col>&lt;dbl&gt;</th><th scope=col>&lt;dbl&gt;</th><th scope=col>&lt;dbl&gt;</th><th scope=col>&lt;dbl&gt;</th></tr>\n",
       "</thead>\n",
       "<tbody>\n",
       "\t<tr><th scope=row>NA</th><td>NA</td><td>NA</td><td>NA</td><td>NA</td><td>NA</td><td>NA</td><td>NA</td><td>NA</td></tr>\n",
       "\t<tr><th scope=row>NA.1</th><td>NA</td><td>NA</td><td>NA</td><td>NA</td><td>NA</td><td>NA</td><td>NA</td><td>NA</td></tr>\n",
       "\t<tr><th scope=row>NA.2</th><td>NA</td><td>NA</td><td>NA</td><td>NA</td><td>NA</td><td>NA</td><td>NA</td><td>NA</td></tr>\n",
       "\t<tr><th scope=row>NA.3</th><td>NA</td><td>NA</td><td>NA</td><td>NA</td><td>NA</td><td>NA</td><td>NA</td><td>NA</td></tr>\n",
       "\t<tr><th scope=row>NA.4</th><td>NA</td><td>NA</td><td>NA</td><td>NA</td><td>NA</td><td>NA</td><td>NA</td><td>NA</td></tr>\n",
       "\t<tr><th scope=row>NA.5</th><td>NA</td><td>NA</td><td>NA</td><td>NA</td><td>NA</td><td>NA</td><td>NA</td><td>NA</td></tr>\n",
       "\t<tr><th scope=row>NA.6</th><td>NA</td><td>NA</td><td>NA</td><td>NA</td><td>NA</td><td>NA</td><td>NA</td><td>NA</td></tr>\n",
       "\t<tr><th scope=row>NA.7</th><td>NA</td><td>NA</td><td>NA</td><td>NA</td><td>NA</td><td>NA</td><td>NA</td><td>NA</td></tr>\n",
       "\t<tr><th scope=row>NA.8</th><td>NA</td><td>NA</td><td>NA</td><td>NA</td><td>NA</td><td>NA</td><td>NA</td><td>NA</td></tr>\n",
       "\t<tr><th scope=row>NA.9</th><td>NA</td><td>NA</td><td>NA</td><td>NA</td><td>NA</td><td>NA</td><td>NA</td><td>NA</td></tr>\n",
       "\t<tr><th scope=row>NA.10</th><td>NA</td><td>NA</td><td>NA</td><td>NA</td><td>NA</td><td>NA</td><td>NA</td><td>NA</td></tr>\n",
       "\t<tr><th scope=row>NA.11</th><td>NA</td><td>NA</td><td>NA</td><td>NA</td><td>NA</td><td>NA</td><td>NA</td><td>NA</td></tr>\n",
       "\t<tr><th scope=row>NA.12</th><td>NA</td><td>NA</td><td>NA</td><td>NA</td><td>NA</td><td>NA</td><td>NA</td><td>NA</td></tr>\n",
       "\t<tr><th scope=row>NA.13</th><td>NA</td><td>NA</td><td>NA</td><td>NA</td><td>NA</td><td>NA</td><td>NA</td><td>NA</td></tr>\n",
       "\t<tr><th scope=row>NA.14</th><td>NA</td><td>NA</td><td>NA</td><td>NA</td><td>NA</td><td>NA</td><td>NA</td><td>NA</td></tr>\n",
       "\t<tr><th scope=row>NA.15</th><td>NA</td><td>NA</td><td>NA</td><td>NA</td><td>NA</td><td>NA</td><td>NA</td><td>NA</td></tr>\n",
       "\t<tr><th scope=row>NA.16</th><td>NA</td><td>NA</td><td>NA</td><td>NA</td><td>NA</td><td>NA</td><td>NA</td><td>NA</td></tr>\n",
       "\t<tr><th scope=row>NA.17</th><td>NA</td><td>NA</td><td>NA</td><td>NA</td><td>NA</td><td>NA</td><td>NA</td><td>NA</td></tr>\n",
       "\t<tr><th scope=row>NA.18</th><td>NA</td><td>NA</td><td>NA</td><td>NA</td><td>NA</td><td>NA</td><td>NA</td><td>NA</td></tr>\n",
       "\t<tr><th scope=row>NA.19</th><td>NA</td><td>NA</td><td>NA</td><td>NA</td><td>NA</td><td>NA</td><td>NA</td><td>NA</td></tr>\n",
       "\t<tr><th scope=row>NA.20</th><td>NA</td><td>NA</td><td>NA</td><td>NA</td><td>NA</td><td>NA</td><td>NA</td><td>NA</td></tr>\n",
       "\t<tr><th scope=row>NA.21</th><td>NA</td><td>NA</td><td>NA</td><td>NA</td><td>NA</td><td>NA</td><td>NA</td><td>NA</td></tr>\n",
       "\t<tr><th scope=row>NA.22</th><td>NA</td><td>NA</td><td>NA</td><td>NA</td><td>NA</td><td>NA</td><td>NA</td><td>NA</td></tr>\n",
       "\t<tr><th scope=row>NA.23</th><td>NA</td><td>NA</td><td>NA</td><td>NA</td><td>NA</td><td>NA</td><td>NA</td><td>NA</td></tr>\n",
       "\t<tr><th scope=row>NA.24</th><td>NA</td><td>NA</td><td>NA</td><td>NA</td><td>NA</td><td>NA</td><td>NA</td><td>NA</td></tr>\n",
       "\t<tr><th scope=row>NA.25</th><td>NA</td><td>NA</td><td>NA</td><td>NA</td><td>NA</td><td>NA</td><td>NA</td><td>NA</td></tr>\n",
       "\t<tr><th scope=row>NA.26</th><td>NA</td><td>NA</td><td>NA</td><td>NA</td><td>NA</td><td>NA</td><td>NA</td><td>NA</td></tr>\n",
       "\t<tr><th scope=row>NA.27</th><td>NA</td><td>NA</td><td>NA</td><td>NA</td><td>NA</td><td>NA</td><td>NA</td><td>NA</td></tr>\n",
       "\t<tr><th scope=row>NA.28</th><td>NA</td><td>NA</td><td>NA</td><td>NA</td><td>NA</td><td>NA</td><td>NA</td><td>NA</td></tr>\n",
       "\t<tr><th scope=row>NA.29</th><td>NA</td><td>NA</td><td>NA</td><td>NA</td><td>NA</td><td>NA</td><td>NA</td><td>NA</td></tr>\n",
       "\t<tr><th scope=row>NA.30</th><td>NA</td><td>NA</td><td>NA</td><td>NA</td><td>NA</td><td>NA</td><td>NA</td><td>NA</td></tr>\n",
       "\t<tr><th scope=row>NA.31</th><td>NA</td><td>NA</td><td>NA</td><td>NA</td><td>NA</td><td>NA</td><td>NA</td><td>NA</td></tr>\n",
       "\t<tr><th scope=row>NA.32</th><td>NA</td><td>NA</td><td>NA</td><td>NA</td><td>NA</td><td>NA</td><td>NA</td><td>NA</td></tr>\n",
       "\t<tr><th scope=row>NA.33</th><td>NA</td><td>NA</td><td>NA</td><td>NA</td><td>NA</td><td>NA</td><td>NA</td><td>NA</td></tr>\n",
       "\t<tr><th scope=row>NA.34</th><td>NA</td><td>NA</td><td>NA</td><td>NA</td><td>NA</td><td>NA</td><td>NA</td><td>NA</td></tr>\n",
       "\t<tr><th scope=row>NA.35</th><td>NA</td><td>NA</td><td>NA</td><td>NA</td><td>NA</td><td>NA</td><td>NA</td><td>NA</td></tr>\n",
       "\t<tr><th scope=row>NA.36</th><td>NA</td><td>NA</td><td>NA</td><td>NA</td><td>NA</td><td>NA</td><td>NA</td><td>NA</td></tr>\n",
       "\t<tr><th scope=row>NA.37</th><td>NA</td><td>NA</td><td>NA</td><td>NA</td><td>NA</td><td>NA</td><td>NA</td><td>NA</td></tr>\n",
       "\t<tr><th scope=row>NA.38</th><td>NA</td><td>NA</td><td>NA</td><td>NA</td><td>NA</td><td>NA</td><td>NA</td><td>NA</td></tr>\n",
       "\t<tr><th scope=row>NA.39</th><td>NA</td><td>NA</td><td>NA</td><td>NA</td><td>NA</td><td>NA</td><td>NA</td><td>NA</td></tr>\n",
       "\t<tr><th scope=row>NA.40</th><td>NA</td><td>NA</td><td>NA</td><td>NA</td><td>NA</td><td>NA</td><td>NA</td><td>NA</td></tr>\n",
       "\t<tr><th scope=row>NA.41</th><td>NA</td><td>NA</td><td>NA</td><td>NA</td><td>NA</td><td>NA</td><td>NA</td><td>NA</td></tr>\n",
       "\t<tr><th scope=row>NA.42</th><td>NA</td><td>NA</td><td>NA</td><td>NA</td><td>NA</td><td>NA</td><td>NA</td><td>NA</td></tr>\n",
       "\t<tr><th scope=row>NA.43</th><td>NA</td><td>NA</td><td>NA</td><td>NA</td><td>NA</td><td>NA</td><td>NA</td><td>NA</td></tr>\n",
       "\t<tr><th scope=row>NA.44</th><td>NA</td><td>NA</td><td>NA</td><td>NA</td><td>NA</td><td>NA</td><td>NA</td><td>NA</td></tr>\n",
       "\t<tr><th scope=row>NA.45</th><td>NA</td><td>NA</td><td>NA</td><td>NA</td><td>NA</td><td>NA</td><td>NA</td><td>NA</td></tr>\n",
       "\t<tr><th scope=row>NA.46</th><td>NA</td><td>NA</td><td>NA</td><td>NA</td><td>NA</td><td>NA</td><td>NA</td><td>NA</td></tr>\n",
       "\t<tr><th scope=row>NA.47</th><td>NA</td><td>NA</td><td>NA</td><td>NA</td><td>NA</td><td>NA</td><td>NA</td><td>NA</td></tr>\n",
       "\t<tr><th scope=row>NA.48</th><td>NA</td><td>NA</td><td>NA</td><td>NA</td><td>NA</td><td>NA</td><td>NA</td><td>NA</td></tr>\n",
       "\t<tr><th scope=row>NA.49</th><td>NA</td><td>NA</td><td>NA</td><td>NA</td><td>NA</td><td>NA</td><td>NA</td><td>NA</td></tr>\n",
       "</tbody>\n",
       "</table>\n"
      ],
      "text/latex": [
       "A data.frame: 50 × 8\n",
       "\\begin{tabular}{r|llllllll}\n",
       "  & Population & Income & Illiteracy & Life.Exp & Murder & HS.Grad & Frost & Area\\\\\n",
       "  & <dbl> & <dbl> & <dbl> & <dbl> & <dbl> & <dbl> & <dbl> & <dbl>\\\\\n",
       "\\hline\n",
       "\tNA & NA & NA & NA & NA & NA & NA & NA & NA\\\\\n",
       "\tNA.1 & NA & NA & NA & NA & NA & NA & NA & NA\\\\\n",
       "\tNA.2 & NA & NA & NA & NA & NA & NA & NA & NA\\\\\n",
       "\tNA.3 & NA & NA & NA & NA & NA & NA & NA & NA\\\\\n",
       "\tNA.4 & NA & NA & NA & NA & NA & NA & NA & NA\\\\\n",
       "\tNA.5 & NA & NA & NA & NA & NA & NA & NA & NA\\\\\n",
       "\tNA.6 & NA & NA & NA & NA & NA & NA & NA & NA\\\\\n",
       "\tNA.7 & NA & NA & NA & NA & NA & NA & NA & NA\\\\\n",
       "\tNA.8 & NA & NA & NA & NA & NA & NA & NA & NA\\\\\n",
       "\tNA.9 & NA & NA & NA & NA & NA & NA & NA & NA\\\\\n",
       "\tNA.10 & NA & NA & NA & NA & NA & NA & NA & NA\\\\\n",
       "\tNA.11 & NA & NA & NA & NA & NA & NA & NA & NA\\\\\n",
       "\tNA.12 & NA & NA & NA & NA & NA & NA & NA & NA\\\\\n",
       "\tNA.13 & NA & NA & NA & NA & NA & NA & NA & NA\\\\\n",
       "\tNA.14 & NA & NA & NA & NA & NA & NA & NA & NA\\\\\n",
       "\tNA.15 & NA & NA & NA & NA & NA & NA & NA & NA\\\\\n",
       "\tNA.16 & NA & NA & NA & NA & NA & NA & NA & NA\\\\\n",
       "\tNA.17 & NA & NA & NA & NA & NA & NA & NA & NA\\\\\n",
       "\tNA.18 & NA & NA & NA & NA & NA & NA & NA & NA\\\\\n",
       "\tNA.19 & NA & NA & NA & NA & NA & NA & NA & NA\\\\\n",
       "\tNA.20 & NA & NA & NA & NA & NA & NA & NA & NA\\\\\n",
       "\tNA.21 & NA & NA & NA & NA & NA & NA & NA & NA\\\\\n",
       "\tNA.22 & NA & NA & NA & NA & NA & NA & NA & NA\\\\\n",
       "\tNA.23 & NA & NA & NA & NA & NA & NA & NA & NA\\\\\n",
       "\tNA.24 & NA & NA & NA & NA & NA & NA & NA & NA\\\\\n",
       "\tNA.25 & NA & NA & NA & NA & NA & NA & NA & NA\\\\\n",
       "\tNA.26 & NA & NA & NA & NA & NA & NA & NA & NA\\\\\n",
       "\tNA.27 & NA & NA & NA & NA & NA & NA & NA & NA\\\\\n",
       "\tNA.28 & NA & NA & NA & NA & NA & NA & NA & NA\\\\\n",
       "\tNA.29 & NA & NA & NA & NA & NA & NA & NA & NA\\\\\n",
       "\tNA.30 & NA & NA & NA & NA & NA & NA & NA & NA\\\\\n",
       "\tNA.31 & NA & NA & NA & NA & NA & NA & NA & NA\\\\\n",
       "\tNA.32 & NA & NA & NA & NA & NA & NA & NA & NA\\\\\n",
       "\tNA.33 & NA & NA & NA & NA & NA & NA & NA & NA\\\\\n",
       "\tNA.34 & NA & NA & NA & NA & NA & NA & NA & NA\\\\\n",
       "\tNA.35 & NA & NA & NA & NA & NA & NA & NA & NA\\\\\n",
       "\tNA.36 & NA & NA & NA & NA & NA & NA & NA & NA\\\\\n",
       "\tNA.37 & NA & NA & NA & NA & NA & NA & NA & NA\\\\\n",
       "\tNA.38 & NA & NA & NA & NA & NA & NA & NA & NA\\\\\n",
       "\tNA.39 & NA & NA & NA & NA & NA & NA & NA & NA\\\\\n",
       "\tNA.40 & NA & NA & NA & NA & NA & NA & NA & NA\\\\\n",
       "\tNA.41 & NA & NA & NA & NA & NA & NA & NA & NA\\\\\n",
       "\tNA.42 & NA & NA & NA & NA & NA & NA & NA & NA\\\\\n",
       "\tNA.43 & NA & NA & NA & NA & NA & NA & NA & NA\\\\\n",
       "\tNA.44 & NA & NA & NA & NA & NA & NA & NA & NA\\\\\n",
       "\tNA.45 & NA & NA & NA & NA & NA & NA & NA & NA\\\\\n",
       "\tNA.46 & NA & NA & NA & NA & NA & NA & NA & NA\\\\\n",
       "\tNA.47 & NA & NA & NA & NA & NA & NA & NA & NA\\\\\n",
       "\tNA.48 & NA & NA & NA & NA & NA & NA & NA & NA\\\\\n",
       "\tNA.49 & NA & NA & NA & NA & NA & NA & NA & NA\\\\\n",
       "\\end{tabular}\n"
      ],
      "text/markdown": [
       "\n",
       "A data.frame: 50 × 8\n",
       "\n",
       "| <!--/--> | Population &lt;dbl&gt; | Income &lt;dbl&gt; | Illiteracy &lt;dbl&gt; | Life.Exp &lt;dbl&gt; | Murder &lt;dbl&gt; | HS.Grad &lt;dbl&gt; | Frost &lt;dbl&gt; | Area &lt;dbl&gt; |\n",
       "|---|---|---|---|---|---|---|---|---|\n",
       "| NA | NA | NA | NA | NA | NA | NA | NA | NA |\n",
       "| NA.1 | NA | NA | NA | NA | NA | NA | NA | NA |\n",
       "| NA.2 | NA | NA | NA | NA | NA | NA | NA | NA |\n",
       "| NA.3 | NA | NA | NA | NA | NA | NA | NA | NA |\n",
       "| NA.4 | NA | NA | NA | NA | NA | NA | NA | NA |\n",
       "| NA.5 | NA | NA | NA | NA | NA | NA | NA | NA |\n",
       "| NA.6 | NA | NA | NA | NA | NA | NA | NA | NA |\n",
       "| NA.7 | NA | NA | NA | NA | NA | NA | NA | NA |\n",
       "| NA.8 | NA | NA | NA | NA | NA | NA | NA | NA |\n",
       "| NA.9 | NA | NA | NA | NA | NA | NA | NA | NA |\n",
       "| NA.10 | NA | NA | NA | NA | NA | NA | NA | NA |\n",
       "| NA.11 | NA | NA | NA | NA | NA | NA | NA | NA |\n",
       "| NA.12 | NA | NA | NA | NA | NA | NA | NA | NA |\n",
       "| NA.13 | NA | NA | NA | NA | NA | NA | NA | NA |\n",
       "| NA.14 | NA | NA | NA | NA | NA | NA | NA | NA |\n",
       "| NA.15 | NA | NA | NA | NA | NA | NA | NA | NA |\n",
       "| NA.16 | NA | NA | NA | NA | NA | NA | NA | NA |\n",
       "| NA.17 | NA | NA | NA | NA | NA | NA | NA | NA |\n",
       "| NA.18 | NA | NA | NA | NA | NA | NA | NA | NA |\n",
       "| NA.19 | NA | NA | NA | NA | NA | NA | NA | NA |\n",
       "| NA.20 | NA | NA | NA | NA | NA | NA | NA | NA |\n",
       "| NA.21 | NA | NA | NA | NA | NA | NA | NA | NA |\n",
       "| NA.22 | NA | NA | NA | NA | NA | NA | NA | NA |\n",
       "| NA.23 | NA | NA | NA | NA | NA | NA | NA | NA |\n",
       "| NA.24 | NA | NA | NA | NA | NA | NA | NA | NA |\n",
       "| NA.25 | NA | NA | NA | NA | NA | NA | NA | NA |\n",
       "| NA.26 | NA | NA | NA | NA | NA | NA | NA | NA |\n",
       "| NA.27 | NA | NA | NA | NA | NA | NA | NA | NA |\n",
       "| NA.28 | NA | NA | NA | NA | NA | NA | NA | NA |\n",
       "| NA.29 | NA | NA | NA | NA | NA | NA | NA | NA |\n",
       "| NA.30 | NA | NA | NA | NA | NA | NA | NA | NA |\n",
       "| NA.31 | NA | NA | NA | NA | NA | NA | NA | NA |\n",
       "| NA.32 | NA | NA | NA | NA | NA | NA | NA | NA |\n",
       "| NA.33 | NA | NA | NA | NA | NA | NA | NA | NA |\n",
       "| NA.34 | NA | NA | NA | NA | NA | NA | NA | NA |\n",
       "| NA.35 | NA | NA | NA | NA | NA | NA | NA | NA |\n",
       "| NA.36 | NA | NA | NA | NA | NA | NA | NA | NA |\n",
       "| NA.37 | NA | NA | NA | NA | NA | NA | NA | NA |\n",
       "| NA.38 | NA | NA | NA | NA | NA | NA | NA | NA |\n",
       "| NA.39 | NA | NA | NA | NA | NA | NA | NA | NA |\n",
       "| NA.40 | NA | NA | NA | NA | NA | NA | NA | NA |\n",
       "| NA.41 | NA | NA | NA | NA | NA | NA | NA | NA |\n",
       "| NA.42 | NA | NA | NA | NA | NA | NA | NA | NA |\n",
       "| NA.43 | NA | NA | NA | NA | NA | NA | NA | NA |\n",
       "| NA.44 | NA | NA | NA | NA | NA | NA | NA | NA |\n",
       "| NA.45 | NA | NA | NA | NA | NA | NA | NA | NA |\n",
       "| NA.46 | NA | NA | NA | NA | NA | NA | NA | NA |\n",
       "| NA.47 | NA | NA | NA | NA | NA | NA | NA | NA |\n",
       "| NA.48 | NA | NA | NA | NA | NA | NA | NA | NA |\n",
       "| NA.49 | NA | NA | NA | NA | NA | NA | NA | NA |\n",
       "\n"
      ],
      "text/plain": [
       "      Population Income Illiteracy Life.Exp Murder HS.Grad Frost Area\n",
       "NA    NA         NA     NA         NA       NA     NA      NA    NA  \n",
       "NA.1  NA         NA     NA         NA       NA     NA      NA    NA  \n",
       "NA.2  NA         NA     NA         NA       NA     NA      NA    NA  \n",
       "NA.3  NA         NA     NA         NA       NA     NA      NA    NA  \n",
       "NA.4  NA         NA     NA         NA       NA     NA      NA    NA  \n",
       "NA.5  NA         NA     NA         NA       NA     NA      NA    NA  \n",
       "NA.6  NA         NA     NA         NA       NA     NA      NA    NA  \n",
       "NA.7  NA         NA     NA         NA       NA     NA      NA    NA  \n",
       "NA.8  NA         NA     NA         NA       NA     NA      NA    NA  \n",
       "NA.9  NA         NA     NA         NA       NA     NA      NA    NA  \n",
       "NA.10 NA         NA     NA         NA       NA     NA      NA    NA  \n",
       "NA.11 NA         NA     NA         NA       NA     NA      NA    NA  \n",
       "NA.12 NA         NA     NA         NA       NA     NA      NA    NA  \n",
       "NA.13 NA         NA     NA         NA       NA     NA      NA    NA  \n",
       "NA.14 NA         NA     NA         NA       NA     NA      NA    NA  \n",
       "NA.15 NA         NA     NA         NA       NA     NA      NA    NA  \n",
       "NA.16 NA         NA     NA         NA       NA     NA      NA    NA  \n",
       "NA.17 NA         NA     NA         NA       NA     NA      NA    NA  \n",
       "NA.18 NA         NA     NA         NA       NA     NA      NA    NA  \n",
       "NA.19 NA         NA     NA         NA       NA     NA      NA    NA  \n",
       "NA.20 NA         NA     NA         NA       NA     NA      NA    NA  \n",
       "NA.21 NA         NA     NA         NA       NA     NA      NA    NA  \n",
       "NA.22 NA         NA     NA         NA       NA     NA      NA    NA  \n",
       "NA.23 NA         NA     NA         NA       NA     NA      NA    NA  \n",
       "NA.24 NA         NA     NA         NA       NA     NA      NA    NA  \n",
       "NA.25 NA         NA     NA         NA       NA     NA      NA    NA  \n",
       "NA.26 NA         NA     NA         NA       NA     NA      NA    NA  \n",
       "NA.27 NA         NA     NA         NA       NA     NA      NA    NA  \n",
       "NA.28 NA         NA     NA         NA       NA     NA      NA    NA  \n",
       "NA.29 NA         NA     NA         NA       NA     NA      NA    NA  \n",
       "NA.30 NA         NA     NA         NA       NA     NA      NA    NA  \n",
       "NA.31 NA         NA     NA         NA       NA     NA      NA    NA  \n",
       "NA.32 NA         NA     NA         NA       NA     NA      NA    NA  \n",
       "NA.33 NA         NA     NA         NA       NA     NA      NA    NA  \n",
       "NA.34 NA         NA     NA         NA       NA     NA      NA    NA  \n",
       "NA.35 NA         NA     NA         NA       NA     NA      NA    NA  \n",
       "NA.36 NA         NA     NA         NA       NA     NA      NA    NA  \n",
       "NA.37 NA         NA     NA         NA       NA     NA      NA    NA  \n",
       "NA.38 NA         NA     NA         NA       NA     NA      NA    NA  \n",
       "NA.39 NA         NA     NA         NA       NA     NA      NA    NA  \n",
       "NA.40 NA         NA     NA         NA       NA     NA      NA    NA  \n",
       "NA.41 NA         NA     NA         NA       NA     NA      NA    NA  \n",
       "NA.42 NA         NA     NA         NA       NA     NA      NA    NA  \n",
       "NA.43 NA         NA     NA         NA       NA     NA      NA    NA  \n",
       "NA.44 NA         NA     NA         NA       NA     NA      NA    NA  \n",
       "NA.45 NA         NA     NA         NA       NA     NA      NA    NA  \n",
       "NA.46 NA         NA     NA         NA       NA     NA      NA    NA  \n",
       "NA.47 NA         NA     NA         NA       NA     NA      NA    NA  \n",
       "NA.48 NA         NA     NA         NA       NA     NA      NA    NA  \n",
       "NA.49 NA         NA     NA         NA       NA     NA      NA    NA  "
      ]
     },
     "metadata": {},
     "output_type": "display_data"
    }
   ],
   "source": [
    "st[st['Income'] >= st['Pennysylvania', 'Income'], ]"
   ]
  }
 ],
 "metadata": {
  "kernelspec": {
   "display_name": "R",
   "language": "R",
   "name": "ir"
  },
  "language_info": {
   "codemirror_mode": "r",
   "file_extension": ".r",
   "mimetype": "text/x-r-source",
   "name": "R",
   "pygments_lexer": "r",
   "version": "4.3.1"
  }
 },
 "nbformat": 4,
 "nbformat_minor": 5
}
