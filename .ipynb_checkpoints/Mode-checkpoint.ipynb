{
 "cells": [
  {
   "cell_type": "code",
   "execution_count": 2,
   "id": "f6258350",
   "metadata": {},
   "outputs": [
    {
     "name": "stdout",
     "output_type": "stream",
     "text": [
      "반지름이 :  10 인 원의 면적 :  314 \n",
      "반지름이 :  12 인 원의 면적 :  452.16 \n",
      "반지름이 :  15 인 원의 면적 :  706.5 \n"
     ]
    }
   ],
   "source": [
    "pi <- 3.14\n",
    "x <- c(10, 12, 15)\n",
    "for(i in 1:3){\n",
    "    cat(\"반지름이 : \", x[i], \"인 원의 면적 : \", pi * (x[i]) ^ 2, \"\\n\")\n",
    "}"
   ]
  },
  {
   "cell_type": "code",
   "execution_count": 3,
   "id": "9547bc71",
   "metadata": {},
   "outputs": [
    {
     "name": "stdout",
     "output_type": "stream",
     "text": [
      "y= 2x^2 + 5 x + 10인 y의 값 :  112 \n",
      "y= 2x^2 + 5 x + 10인 y의 값 :  178 \n",
      "y= 2x^2 + 5 x + 10인 y의 값 :  260 \n"
     ]
    }
   ],
   "source": [
    "x <- c(6, 8, 10)\n",
    "for(i in 1:3){\n",
    "    cat(\"y= 2x^2 + 5 x + 10인 y의 값 : \", 2 * (x[i]^2) + 5 * x[i] + 10, \"\\n\")\n",
    "}"
   ]
  },
  {
   "cell_type": "code",
   "execution_count": 4,
   "id": "bcb1ec61",
   "metadata": {},
   "outputs": [],
   "source": [
    "val.a <- 10\n",
    "val.b <- 0\n",
    "sum.ab <- val.a + val.b"
   ]
  },
  {
   "cell_type": "code",
   "execution_count": 6,
   "id": "ae10f272",
   "metadata": {},
   "outputs": [
    {
     "data": {
      "text/html": [
       "10"
      ],
      "text/latex": [
       "10"
      ],
      "text/markdown": [
       "10"
      ],
      "text/plain": [
       "[1] 10"
      ]
     },
     "metadata": {},
     "output_type": "display_data"
    }
   ],
   "source": [
    "sum.ab"
   ]
  },
  {
   "cell_type": "code",
   "execution_count": 7,
   "id": "8e79720d",
   "metadata": {},
   "outputs": [
    {
     "data": {
      "text/html": [
       "<style>\n",
       ".list-inline {list-style: none; margin:0; padding: 0}\n",
       ".list-inline>li {display: inline-block}\n",
       ".list-inline>li:not(:last-child)::after {content: \"\\00b7\"; padding: 0 .5ex}\n",
       "</style>\n",
       "<ol class=list-inline><li>95</li><li>86</li><li>47</li><li>55</li><li>68</li></ol>\n"
      ],
      "text/latex": [
       "\\begin{enumerate*}\n",
       "\\item 95\n",
       "\\item 86\n",
       "\\item 47\n",
       "\\item 55\n",
       "\\item 68\n",
       "\\end{enumerate*}\n"
      ],
      "text/markdown": [
       "1. 95\n",
       "2. 86\n",
       "3. 47\n",
       "4. 55\n",
       "5. 68\n",
       "\n",
       "\n"
      ],
      "text/plain": [
       "[1] 95 86 47 55 68"
      ]
     },
     "metadata": {},
     "output_type": "display_data"
    }
   ],
   "source": [
    "vc.1 <- c(95, 86, 47, 55, 68)\n",
    "vc.1"
   ]
  },
  {
   "cell_type": "code",
   "execution_count": 8,
   "id": "0ef8fcc1",
   "metadata": {},
   "outputs": [
    {
     "data": {
      "text/html": [
       "<style>\n",
       ".list-inline {list-style: none; margin:0; padding: 0}\n",
       ".list-inline>li {display: inline-block}\n",
       ".list-inline>li:not(:last-child)::after {content: \"\\00b7\"; padding: 0 .5ex}\n",
       "</style>\n",
       "<ol class=list-inline><li>100</li><li>102</li><li>104</li><li>106</li><li>108</li><li>110</li><li>112</li><li>114</li><li>116</li><li>118</li><li>120</li><li>122</li><li>124</li><li>126</li><li>128</li><li>130</li><li>132</li><li>134</li><li>136</li><li>138</li><li>140</li><li>142</li><li>144</li><li>146</li><li>148</li><li>150</li><li>152</li><li>154</li><li>156</li><li>158</li><li>160</li><li>162</li><li>164</li><li>166</li><li>168</li><li>170</li><li>172</li><li>174</li><li>176</li><li>178</li><li>180</li><li>182</li><li>184</li><li>186</li><li>188</li><li>190</li><li>192</li><li>194</li><li>196</li><li>198</li><li>200</li></ol>\n"
      ],
      "text/latex": [
       "\\begin{enumerate*}\n",
       "\\item 100\n",
       "\\item 102\n",
       "\\item 104\n",
       "\\item 106\n",
       "\\item 108\n",
       "\\item 110\n",
       "\\item 112\n",
       "\\item 114\n",
       "\\item 116\n",
       "\\item 118\n",
       "\\item 120\n",
       "\\item 122\n",
       "\\item 124\n",
       "\\item 126\n",
       "\\item 128\n",
       "\\item 130\n",
       "\\item 132\n",
       "\\item 134\n",
       "\\item 136\n",
       "\\item 138\n",
       "\\item 140\n",
       "\\item 142\n",
       "\\item 144\n",
       "\\item 146\n",
       "\\item 148\n",
       "\\item 150\n",
       "\\item 152\n",
       "\\item 154\n",
       "\\item 156\n",
       "\\item 158\n",
       "\\item 160\n",
       "\\item 162\n",
       "\\item 164\n",
       "\\item 166\n",
       "\\item 168\n",
       "\\item 170\n",
       "\\item 172\n",
       "\\item 174\n",
       "\\item 176\n",
       "\\item 178\n",
       "\\item 180\n",
       "\\item 182\n",
       "\\item 184\n",
       "\\item 186\n",
       "\\item 188\n",
       "\\item 190\n",
       "\\item 192\n",
       "\\item 194\n",
       "\\item 196\n",
       "\\item 198\n",
       "\\item 200\n",
       "\\end{enumerate*}\n"
      ],
      "text/markdown": [
       "1. 100\n",
       "2. 102\n",
       "3. 104\n",
       "4. 106\n",
       "5. 108\n",
       "6. 110\n",
       "7. 112\n",
       "8. 114\n",
       "9. 116\n",
       "10. 118\n",
       "11. 120\n",
       "12. 122\n",
       "13. 124\n",
       "14. 126\n",
       "15. 128\n",
       "16. 130\n",
       "17. 132\n",
       "18. 134\n",
       "19. 136\n",
       "20. 138\n",
       "21. 140\n",
       "22. 142\n",
       "23. 144\n",
       "24. 146\n",
       "25. 148\n",
       "26. 150\n",
       "27. 152\n",
       "28. 154\n",
       "29. 156\n",
       "30. 158\n",
       "31. 160\n",
       "32. 162\n",
       "33. 164\n",
       "34. 166\n",
       "35. 168\n",
       "36. 170\n",
       "37. 172\n",
       "38. 174\n",
       "39. 176\n",
       "40. 178\n",
       "41. 180\n",
       "42. 182\n",
       "43. 184\n",
       "44. 186\n",
       "45. 188\n",
       "46. 190\n",
       "47. 192\n",
       "48. 194\n",
       "49. 196\n",
       "50. 198\n",
       "51. 200\n",
       "\n",
       "\n"
      ],
      "text/plain": [
       " [1] 100 102 104 106 108 110 112 114 116 118 120 122 124 126 128 130 132 134 136\n",
       "[20] 138 140 142 144 146 148 150 152 154 156 158 160 162 164 166 168 170 172 174\n",
       "[39] 176 178 180 182 184 186 188 190 192 194 196 198 200"
      ]
     },
     "metadata": {},
     "output_type": "display_data"
    }
   ],
   "source": [
    "vc.2 <- seq(100, 200, 2)\n",
    "vc.2"
   ]
  },
  {
   "cell_type": "code",
   "execution_count": 9,
   "id": "55bc7927",
   "metadata": {},
   "outputs": [
    {
     "data": {
      "text/html": [
       "<style>\n",
       ".list-inline {list-style: none; margin:0; padding: 0}\n",
       ".list-inline>li {display: inline-block}\n",
       ".list-inline>li:not(:last-child)::after {content: \"\\00b7\"; padding: 0 .5ex}\n",
       "</style>\n",
       "<ol class=list-inline><li>TRUE</li><li>TRUE</li><li>TRUE</li><li>TRUE</li><li>TRUE</li><li>TRUE</li><li>TRUE</li><li>TRUE</li><li>TRUE</li><li>TRUE</li><li>TRUE</li><li>TRUE</li><li>TRUE</li><li>TRUE</li><li>TRUE</li><li>TRUE</li><li>TRUE</li><li>TRUE</li><li>TRUE</li><li>TRUE</li></ol>\n"
      ],
      "text/latex": [
       "\\begin{enumerate*}\n",
       "\\item TRUE\n",
       "\\item TRUE\n",
       "\\item TRUE\n",
       "\\item TRUE\n",
       "\\item TRUE\n",
       "\\item TRUE\n",
       "\\item TRUE\n",
       "\\item TRUE\n",
       "\\item TRUE\n",
       "\\item TRUE\n",
       "\\item TRUE\n",
       "\\item TRUE\n",
       "\\item TRUE\n",
       "\\item TRUE\n",
       "\\item TRUE\n",
       "\\item TRUE\n",
       "\\item TRUE\n",
       "\\item TRUE\n",
       "\\item TRUE\n",
       "\\item TRUE\n",
       "\\end{enumerate*}\n"
      ],
      "text/markdown": [
       "1. TRUE\n",
       "2. TRUE\n",
       "3. TRUE\n",
       "4. TRUE\n",
       "5. TRUE\n",
       "6. TRUE\n",
       "7. TRUE\n",
       "8. TRUE\n",
       "9. TRUE\n",
       "10. TRUE\n",
       "11. TRUE\n",
       "12. TRUE\n",
       "13. TRUE\n",
       "14. TRUE\n",
       "15. TRUE\n",
       "16. TRUE\n",
       "17. TRUE\n",
       "18. TRUE\n",
       "19. TRUE\n",
       "20. TRUE\n",
       "\n",
       "\n"
      ],
      "text/plain": [
       " [1] TRUE TRUE TRUE TRUE TRUE TRUE TRUE TRUE TRUE TRUE TRUE TRUE TRUE TRUE TRUE\n",
       "[16] TRUE TRUE TRUE TRUE TRUE"
      ]
     },
     "metadata": {},
     "output_type": "display_data"
    }
   ],
   "source": [
    "vc.3 <- rep(TRUE, 20)\n",
    "vc.3"
   ]
  },
  {
   "cell_type": "code",
   "execution_count": 11,
   "id": "0ba748cb",
   "metadata": {},
   "outputs": [
    {
     "data": {
      "text/html": [
       "<style>\n",
       ".list-inline {list-style: none; margin:0; padding: 0}\n",
       ".list-inline>li {display: inline-block}\n",
       ".list-inline>li:not(:last-child)::after {content: \"\\00b7\"; padding: 0 .5ex}\n",
       "</style>\n",
       "<ol class=list-inline><li>100</li><li>101</li><li>102</li><li>103</li><li>104</li><li>105</li><li>106</li><li>107</li><li>108</li><li>109</li><li>110</li><li>111</li><li>112</li><li>113</li><li>114</li><li>115</li><li>116</li><li>117</li><li>118</li><li>119</li><li>120</li><li>121</li><li>122</li><li>123</li><li>124</li><li>125</li><li>126</li><li>127</li><li>128</li><li>129</li><li>130</li><li>131</li><li>132</li><li>133</li><li>134</li><li>135</li><li>136</li><li>137</li><li>138</li><li>139</li><li>140</li><li>141</li><li>142</li><li>143</li><li>144</li><li>145</li><li>146</li><li>147</li><li>148</li><li>149</li><li>150</li><li>151</li><li>152</li><li>153</li><li>154</li><li>155</li><li>156</li><li>157</li><li>158</li><li>159</li><li>160</li><li>161</li><li>162</li><li>163</li><li>164</li><li>165</li><li>166</li><li>167</li><li>168</li><li>169</li><li>170</li><li>171</li><li>172</li><li>173</li><li>174</li><li>175</li><li>176</li><li>177</li><li>178</li><li>179</li><li>180</li><li>181</li><li>182</li><li>183</li><li>184</li><li>185</li><li>186</li><li>187</li><li>188</li><li>189</li><li>190</li><li>191</li><li>192</li><li>193</li><li>194</li><li>195</li><li>196</li><li>197</li><li>198</li><li>199</li><li>200</li></ol>\n"
      ],
      "text/latex": [
       "\\begin{enumerate*}\n",
       "\\item 100\n",
       "\\item 101\n",
       "\\item 102\n",
       "\\item 103\n",
       "\\item 104\n",
       "\\item 105\n",
       "\\item 106\n",
       "\\item 107\n",
       "\\item 108\n",
       "\\item 109\n",
       "\\item 110\n",
       "\\item 111\n",
       "\\item 112\n",
       "\\item 113\n",
       "\\item 114\n",
       "\\item 115\n",
       "\\item 116\n",
       "\\item 117\n",
       "\\item 118\n",
       "\\item 119\n",
       "\\item 120\n",
       "\\item 121\n",
       "\\item 122\n",
       "\\item 123\n",
       "\\item 124\n",
       "\\item 125\n",
       "\\item 126\n",
       "\\item 127\n",
       "\\item 128\n",
       "\\item 129\n",
       "\\item 130\n",
       "\\item 131\n",
       "\\item 132\n",
       "\\item 133\n",
       "\\item 134\n",
       "\\item 135\n",
       "\\item 136\n",
       "\\item 137\n",
       "\\item 138\n",
       "\\item 139\n",
       "\\item 140\n",
       "\\item 141\n",
       "\\item 142\n",
       "\\item 143\n",
       "\\item 144\n",
       "\\item 145\n",
       "\\item 146\n",
       "\\item 147\n",
       "\\item 148\n",
       "\\item 149\n",
       "\\item 150\n",
       "\\item 151\n",
       "\\item 152\n",
       "\\item 153\n",
       "\\item 154\n",
       "\\item 155\n",
       "\\item 156\n",
       "\\item 157\n",
       "\\item 158\n",
       "\\item 159\n",
       "\\item 160\n",
       "\\item 161\n",
       "\\item 162\n",
       "\\item 163\n",
       "\\item 164\n",
       "\\item 165\n",
       "\\item 166\n",
       "\\item 167\n",
       "\\item 168\n",
       "\\item 169\n",
       "\\item 170\n",
       "\\item 171\n",
       "\\item 172\n",
       "\\item 173\n",
       "\\item 174\n",
       "\\item 175\n",
       "\\item 176\n",
       "\\item 177\n",
       "\\item 178\n",
       "\\item 179\n",
       "\\item 180\n",
       "\\item 181\n",
       "\\item 182\n",
       "\\item 183\n",
       "\\item 184\n",
       "\\item 185\n",
       "\\item 186\n",
       "\\item 187\n",
       "\\item 188\n",
       "\\item 189\n",
       "\\item 190\n",
       "\\item 191\n",
       "\\item 192\n",
       "\\item 193\n",
       "\\item 194\n",
       "\\item 195\n",
       "\\item 196\n",
       "\\item 197\n",
       "\\item 198\n",
       "\\item 199\n",
       "\\item 200\n",
       "\\end{enumerate*}\n"
      ],
      "text/markdown": [
       "1. 100\n",
       "2. 101\n",
       "3. 102\n",
       "4. 103\n",
       "5. 104\n",
       "6. 105\n",
       "7. 106\n",
       "8. 107\n",
       "9. 108\n",
       "10. 109\n",
       "11. 110\n",
       "12. 111\n",
       "13. 112\n",
       "14. 113\n",
       "15. 114\n",
       "16. 115\n",
       "17. 116\n",
       "18. 117\n",
       "19. 118\n",
       "20. 119\n",
       "21. 120\n",
       "22. 121\n",
       "23. 122\n",
       "24. 123\n",
       "25. 124\n",
       "26. 125\n",
       "27. 126\n",
       "28. 127\n",
       "29. 128\n",
       "30. 129\n",
       "31. 130\n",
       "32. 131\n",
       "33. 132\n",
       "34. 133\n",
       "35. 134\n",
       "36. 135\n",
       "37. 136\n",
       "38. 137\n",
       "39. 138\n",
       "40. 139\n",
       "41. 140\n",
       "42. 141\n",
       "43. 142\n",
       "44. 143\n",
       "45. 144\n",
       "46. 145\n",
       "47. 146\n",
       "48. 147\n",
       "49. 148\n",
       "50. 149\n",
       "51. 150\n",
       "52. 151\n",
       "53. 152\n",
       "54. 153\n",
       "55. 154\n",
       "56. 155\n",
       "57. 156\n",
       "58. 157\n",
       "59. 158\n",
       "60. 159\n",
       "61. 160\n",
       "62. 161\n",
       "63. 162\n",
       "64. 163\n",
       "65. 164\n",
       "66. 165\n",
       "67. 166\n",
       "68. 167\n",
       "69. 168\n",
       "70. 169\n",
       "71. 170\n",
       "72. 171\n",
       "73. 172\n",
       "74. 173\n",
       "75. 174\n",
       "76. 175\n",
       "77. 176\n",
       "78. 177\n",
       "79. 178\n",
       "80. 179\n",
       "81. 180\n",
       "82. 181\n",
       "83. 182\n",
       "84. 183\n",
       "85. 184\n",
       "86. 185\n",
       "87. 186\n",
       "88. 187\n",
       "89. 188\n",
       "90. 189\n",
       "91. 190\n",
       "92. 191\n",
       "93. 192\n",
       "94. 193\n",
       "95. 194\n",
       "96. 195\n",
       "97. 196\n",
       "98. 197\n",
       "99. 198\n",
       "100. 199\n",
       "101. 200\n",
       "\n",
       "\n"
      ],
      "text/plain": [
       "  [1] 100 101 102 103 104 105 106 107 108 109 110 111 112 113 114 115 116 117\n",
       " [19] 118 119 120 121 122 123 124 125 126 127 128 129 130 131 132 133 134 135\n",
       " [37] 136 137 138 139 140 141 142 143 144 145 146 147 148 149 150 151 152 153\n",
       " [55] 154 155 156 157 158 159 160 161 162 163 164 165 166 167 168 169 170 171\n",
       " [73] 172 173 174 175 176 177 178 179 180 181 182 183 184 185 186 187 188 189\n",
       " [91] 190 191 192 193 194 195 196 197 198 199 200"
      ]
     },
     "metadata": {},
     "output_type": "display_data"
    }
   ],
   "source": [
    "d <- 100:200\n",
    "d"
   ]
  },
  {
   "cell_type": "code",
   "execution_count": 12,
   "id": "9395d0d8",
   "metadata": {},
   "outputs": [
    {
     "data": {
      "text/html": [
       "109"
      ],
      "text/latex": [
       "109"
      ],
      "text/markdown": [
       "109"
      ],
      "text/plain": [
       "[1] 109"
      ]
     },
     "metadata": {},
     "output_type": "display_data"
    }
   ],
   "source": [
    "d[10]"
   ]
  },
  {
   "cell_type": "code",
   "execution_count": 15,
   "id": "a9c6e6d8",
   "metadata": {},
   "outputs": [
    {
     "data": {
      "text/html": [
       "<style>\n",
       ".list-inline {list-style: none; margin:0; padding: 0}\n",
       ".list-inline>li {display: inline-block}\n",
       ".list-inline>li:not(:last-child)::after {content: \"\\00b7\"; padding: 0 .5ex}\n",
       "</style>\n",
       "<ol class=list-inline><li>190</li><li>191</li><li>192</li><li>193</li><li>194</li><li>195</li><li>196</li><li>197</li><li>198</li><li>199</li></ol>\n"
      ],
      "text/latex": [
       "\\begin{enumerate*}\n",
       "\\item 190\n",
       "\\item 191\n",
       "\\item 192\n",
       "\\item 193\n",
       "\\item 194\n",
       "\\item 195\n",
       "\\item 196\n",
       "\\item 197\n",
       "\\item 198\n",
       "\\item 199\n",
       "\\end{enumerate*}\n"
      ],
      "text/markdown": [
       "1. 190\n",
       "2. 191\n",
       "3. 192\n",
       "4. 193\n",
       "5. 194\n",
       "6. 195\n",
       "7. 196\n",
       "8. 197\n",
       "9. 198\n",
       "10. 199\n",
       "\n",
       "\n"
      ],
      "text/plain": [
       " [1] 190 191 192 193 194 195 196 197 198 199"
      ]
     },
     "metadata": {},
     "output_type": "display_data"
    }
   ],
   "source": [
    "d[91:100]"
   ]
  },
  {
   "cell_type": "code",
   "execution_count": 16,
   "id": "6f327051",
   "metadata": {},
   "outputs": [
    {
     "data": {
      "text/html": [
       "<style>\n",
       ".list-inline {list-style: none; margin:0; padding: 0}\n",
       ".list-inline>li {display: inline-block}\n",
       ".list-inline>li:not(:last-child)::after {content: \"\\00b7\"; padding: 0 .5ex}\n",
       "</style>\n",
       "<ol class=list-inline><li>101</li><li>103</li><li>105</li><li>107</li><li>109</li><li>111</li><li>113</li><li>115</li><li>117</li><li>119</li><li>121</li><li>123</li><li>125</li><li>127</li><li>129</li><li>131</li><li>133</li><li>135</li><li>137</li><li>139</li><li>141</li><li>143</li><li>145</li><li>147</li><li>149</li><li>151</li><li>153</li><li>155</li><li>157</li><li>159</li><li>161</li><li>163</li><li>165</li><li>167</li><li>169</li><li>171</li><li>173</li><li>175</li><li>177</li><li>179</li><li>181</li><li>183</li><li>185</li><li>187</li><li>189</li><li>191</li><li>193</li><li>195</li><li>197</li><li>199</li></ol>\n"
      ],
      "text/latex": [
       "\\begin{enumerate*}\n",
       "\\item 101\n",
       "\\item 103\n",
       "\\item 105\n",
       "\\item 107\n",
       "\\item 109\n",
       "\\item 111\n",
       "\\item 113\n",
       "\\item 115\n",
       "\\item 117\n",
       "\\item 119\n",
       "\\item 121\n",
       "\\item 123\n",
       "\\item 125\n",
       "\\item 127\n",
       "\\item 129\n",
       "\\item 131\n",
       "\\item 133\n",
       "\\item 135\n",
       "\\item 137\n",
       "\\item 139\n",
       "\\item 141\n",
       "\\item 143\n",
       "\\item 145\n",
       "\\item 147\n",
       "\\item 149\n",
       "\\item 151\n",
       "\\item 153\n",
       "\\item 155\n",
       "\\item 157\n",
       "\\item 159\n",
       "\\item 161\n",
       "\\item 163\n",
       "\\item 165\n",
       "\\item 167\n",
       "\\item 169\n",
       "\\item 171\n",
       "\\item 173\n",
       "\\item 175\n",
       "\\item 177\n",
       "\\item 179\n",
       "\\item 181\n",
       "\\item 183\n",
       "\\item 185\n",
       "\\item 187\n",
       "\\item 189\n",
       "\\item 191\n",
       "\\item 193\n",
       "\\item 195\n",
       "\\item 197\n",
       "\\item 199\n",
       "\\end{enumerate*}\n"
      ],
      "text/markdown": [
       "1. 101\n",
       "2. 103\n",
       "3. 105\n",
       "4. 107\n",
       "5. 109\n",
       "6. 111\n",
       "7. 113\n",
       "8. 115\n",
       "9. 117\n",
       "10. 119\n",
       "11. 121\n",
       "12. 123\n",
       "13. 125\n",
       "14. 127\n",
       "15. 129\n",
       "16. 131\n",
       "17. 133\n",
       "18. 135\n",
       "19. 137\n",
       "20. 139\n",
       "21. 141\n",
       "22. 143\n",
       "23. 145\n",
       "24. 147\n",
       "25. 149\n",
       "26. 151\n",
       "27. 153\n",
       "28. 155\n",
       "29. 157\n",
       "30. 159\n",
       "31. 161\n",
       "32. 163\n",
       "33. 165\n",
       "34. 167\n",
       "35. 169\n",
       "36. 171\n",
       "37. 173\n",
       "38. 175\n",
       "39. 177\n",
       "40. 179\n",
       "41. 181\n",
       "42. 183\n",
       "43. 185\n",
       "44. 187\n",
       "45. 189\n",
       "46. 191\n",
       "47. 193\n",
       "48. 195\n",
       "49. 197\n",
       "50. 199\n",
       "\n",
       "\n"
      ],
      "text/plain": [
       " [1] 101 103 105 107 109 111 113 115 117 119 121 123 125 127 129 131 133 135 137\n",
       "[20] 139 141 143 145 147 149 151 153 155 157 159 161 163 165 167 169 171 173 175\n",
       "[39] 177 179 181 183 185 187 189 191 193 195 197 199"
      ]
     },
     "metadata": {},
     "output_type": "display_data"
    }
   ],
   "source": [
    "d[d%%2 == 1]"
   ]
  },
  {
   "cell_type": "code",
   "execution_count": 17,
   "id": "2d9368cd",
   "metadata": {},
   "outputs": [
    {
     "data": {
      "text/html": [
       "<style>\n",
       ".list-inline {list-style: none; margin:0; padding: 0}\n",
       ".list-inline>li {display: inline-block}\n",
       ".list-inline>li:not(:last-child)::after {content: \"\\00b7\"; padding: 0 .5ex}\n",
       "</style>\n",
       "<ol class=list-inline><li>102</li><li>105</li><li>108</li><li>111</li><li>114</li><li>117</li><li>120</li><li>123</li><li>126</li><li>129</li><li>132</li><li>135</li><li>138</li><li>141</li><li>144</li><li>147</li><li>150</li><li>153</li><li>156</li><li>159</li><li>162</li><li>165</li><li>168</li><li>171</li><li>174</li><li>177</li><li>180</li><li>183</li><li>186</li><li>189</li><li>192</li><li>195</li><li>198</li></ol>\n"
      ],
      "text/latex": [
       "\\begin{enumerate*}\n",
       "\\item 102\n",
       "\\item 105\n",
       "\\item 108\n",
       "\\item 111\n",
       "\\item 114\n",
       "\\item 117\n",
       "\\item 120\n",
       "\\item 123\n",
       "\\item 126\n",
       "\\item 129\n",
       "\\item 132\n",
       "\\item 135\n",
       "\\item 138\n",
       "\\item 141\n",
       "\\item 144\n",
       "\\item 147\n",
       "\\item 150\n",
       "\\item 153\n",
       "\\item 156\n",
       "\\item 159\n",
       "\\item 162\n",
       "\\item 165\n",
       "\\item 168\n",
       "\\item 171\n",
       "\\item 174\n",
       "\\item 177\n",
       "\\item 180\n",
       "\\item 183\n",
       "\\item 186\n",
       "\\item 189\n",
       "\\item 192\n",
       "\\item 195\n",
       "\\item 198\n",
       "\\end{enumerate*}\n"
      ],
      "text/markdown": [
       "1. 102\n",
       "2. 105\n",
       "3. 108\n",
       "4. 111\n",
       "5. 114\n",
       "6. 117\n",
       "7. 120\n",
       "8. 123\n",
       "9. 126\n",
       "10. 129\n",
       "11. 132\n",
       "12. 135\n",
       "13. 138\n",
       "14. 141\n",
       "15. 144\n",
       "16. 147\n",
       "17. 150\n",
       "18. 153\n",
       "19. 156\n",
       "20. 159\n",
       "21. 162\n",
       "22. 165\n",
       "23. 168\n",
       "24. 171\n",
       "25. 174\n",
       "26. 177\n",
       "27. 180\n",
       "28. 183\n",
       "29. 186\n",
       "30. 189\n",
       "31. 192\n",
       "32. 195\n",
       "33. 198\n",
       "\n",
       "\n"
      ],
      "text/plain": [
       " [1] 102 105 108 111 114 117 120 123 126 129 132 135 138 141 144 147 150 153 156\n",
       "[20] 159 162 165 168 171 174 177 180 183 186 189 192 195 198"
      ]
     },
     "metadata": {},
     "output_type": "display_data"
    }
   ],
   "source": [
    "d[d%%3 == 0]"
   ]
  },
  {
   "cell_type": "code",
   "execution_count": 18,
   "id": "aeff894a",
   "metadata": {},
   "outputs": [
    {
     "data": {
      "text/html": [
       "<style>\n",
       ".list-inline {list-style: none; margin:0; padding: 0}\n",
       ".list-inline>li {display: inline-block}\n",
       ".list-inline>li:not(:last-child)::after {content: \"\\00b7\"; padding: 0 .5ex}\n",
       "</style>\n",
       "<ol class=list-inline><li>100</li><li>101</li><li>102</li><li>103</li><li>104</li><li>105</li><li>106</li><li>107</li><li>108</li><li>109</li><li>110</li><li>111</li><li>112</li><li>113</li><li>114</li><li>115</li><li>116</li><li>117</li><li>118</li><li>119</li></ol>\n"
      ],
      "text/latex": [
       "\\begin{enumerate*}\n",
       "\\item 100\n",
       "\\item 101\n",
       "\\item 102\n",
       "\\item 103\n",
       "\\item 104\n",
       "\\item 105\n",
       "\\item 106\n",
       "\\item 107\n",
       "\\item 108\n",
       "\\item 109\n",
       "\\item 110\n",
       "\\item 111\n",
       "\\item 112\n",
       "\\item 113\n",
       "\\item 114\n",
       "\\item 115\n",
       "\\item 116\n",
       "\\item 117\n",
       "\\item 118\n",
       "\\item 119\n",
       "\\end{enumerate*}\n"
      ],
      "text/markdown": [
       "1. 100\n",
       "2. 101\n",
       "3. 102\n",
       "4. 103\n",
       "5. 104\n",
       "6. 105\n",
       "7. 106\n",
       "8. 107\n",
       "9. 108\n",
       "10. 109\n",
       "11. 110\n",
       "12. 111\n",
       "13. 112\n",
       "14. 113\n",
       "15. 114\n",
       "16. 115\n",
       "17. 116\n",
       "18. 117\n",
       "19. 118\n",
       "20. 119\n",
       "\n",
       "\n"
      ],
      "text/plain": [
       " [1] 100 101 102 103 104 105 106 107 108 109 110 111 112 113 114 115 116 117 118\n",
       "[20] 119"
      ]
     },
     "metadata": {},
     "output_type": "display_data"
    }
   ],
   "source": [
    "d.20 <- d[1:20]\n",
    "d.20"
   ]
  },
  {
   "cell_type": "code",
   "execution_count": 19,
   "id": "b9e8be02",
   "metadata": {},
   "outputs": [
    {
     "data": {
      "text/html": [
       "<style>\n",
       ".list-inline {list-style: none; margin:0; padding: 0}\n",
       ".list-inline>li {display: inline-block}\n",
       ".list-inline>li:not(:last-child)::after {content: \"\\00b7\"; padding: 0 .5ex}\n",
       "</style>\n",
       "<ol class=list-inline><li>100</li><li>101</li><li>102</li><li>103</li><li>105</li><li>106</li><li>107</li><li>108</li><li>109</li><li>110</li><li>111</li><li>112</li><li>113</li><li>114</li><li>115</li><li>116</li><li>117</li><li>118</li><li>119</li></ol>\n"
      ],
      "text/latex": [
       "\\begin{enumerate*}\n",
       "\\item 100\n",
       "\\item 101\n",
       "\\item 102\n",
       "\\item 103\n",
       "\\item 105\n",
       "\\item 106\n",
       "\\item 107\n",
       "\\item 108\n",
       "\\item 109\n",
       "\\item 110\n",
       "\\item 111\n",
       "\\item 112\n",
       "\\item 113\n",
       "\\item 114\n",
       "\\item 115\n",
       "\\item 116\n",
       "\\item 117\n",
       "\\item 118\n",
       "\\item 119\n",
       "\\end{enumerate*}\n"
      ],
      "text/markdown": [
       "1. 100\n",
       "2. 101\n",
       "3. 102\n",
       "4. 103\n",
       "5. 105\n",
       "6. 106\n",
       "7. 107\n",
       "8. 108\n",
       "9. 109\n",
       "10. 110\n",
       "11. 111\n",
       "12. 112\n",
       "13. 113\n",
       "14. 114\n",
       "15. 115\n",
       "16. 116\n",
       "17. 117\n",
       "18. 118\n",
       "19. 119\n",
       "\n",
       "\n"
      ],
      "text/plain": [
       " [1] 100 101 102 103 105 106 107 108 109 110 111 112 113 114 115 116 117 118 119"
      ]
     },
     "metadata": {},
     "output_type": "display_data"
    }
   ],
   "source": [
    "d.20[-5]"
   ]
  },
  {
   "cell_type": "code",
   "execution_count": 20,
   "id": "9b4f6383",
   "metadata": {},
   "outputs": [
    {
     "data": {
      "text/html": [
       "<style>\n",
       ".list-inline {list-style: none; margin:0; padding: 0}\n",
       ".list-inline>li {display: inline-block}\n",
       ".list-inline>li:not(:last-child)::after {content: \"\\00b7\"; padding: 0 .5ex}\n",
       "</style>\n",
       "<ol class=list-inline><li>100</li><li>101</li><li>102</li><li>103</li><li>105</li><li>107</li><li>109</li><li>110</li><li>111</li><li>112</li><li>113</li><li>114</li><li>115</li><li>116</li><li>117</li><li>118</li><li>119</li></ol>\n"
      ],
      "text/latex": [
       "\\begin{enumerate*}\n",
       "\\item 100\n",
       "\\item 101\n",
       "\\item 102\n",
       "\\item 103\n",
       "\\item 105\n",
       "\\item 107\n",
       "\\item 109\n",
       "\\item 110\n",
       "\\item 111\n",
       "\\item 112\n",
       "\\item 113\n",
       "\\item 114\n",
       "\\item 115\n",
       "\\item 116\n",
       "\\item 117\n",
       "\\item 118\n",
       "\\item 119\n",
       "\\end{enumerate*}\n"
      ],
      "text/markdown": [
       "1. 100\n",
       "2. 101\n",
       "3. 102\n",
       "4. 103\n",
       "5. 105\n",
       "6. 107\n",
       "7. 109\n",
       "8. 110\n",
       "9. 111\n",
       "10. 112\n",
       "11. 113\n",
       "12. 114\n",
       "13. 115\n",
       "14. 116\n",
       "15. 117\n",
       "16. 118\n",
       "17. 119\n",
       "\n",
       "\n"
      ],
      "text/plain": [
       " [1] 100 101 102 103 105 107 109 110 111 112 113 114 115 116 117 118 119"
      ]
     },
     "metadata": {},
     "output_type": "display_data"
    }
   ],
   "source": [
    "d.20[-c(5,7,9)]"
   ]
  }
 ],
 "metadata": {
  "kernelspec": {
   "display_name": "R",
   "language": "R",
   "name": "ir"
  },
  "language_info": {
   "codemirror_mode": "r",
   "file_extension": ".r",
   "mimetype": "text/x-r-source",
   "name": "R",
   "pygments_lexer": "r",
   "version": "4.3.1"
  }
 },
 "nbformat": 4,
 "nbformat_minor": 5
}
