{
 "cells": [
  {
   "cell_type": "code",
   "execution_count": 1,
   "id": "30478c02",
   "metadata": {},
   "outputs": [
    {
     "data": {
      "text/html": [
       "10"
      ],
      "text/latex": [
       "10"
      ],
      "text/markdown": [
       "10"
      ],
      "text/plain": [
       "[1] 10"
      ]
     },
     "metadata": {},
     "output_type": "display_data"
    }
   ],
   "source": [
    "v <- c(1, 2, 3, 4)\n",
    "sum(v)"
   ]
  },
  {
   "cell_type": "code",
   "execution_count": 3,
   "id": "e174df4c",
   "metadata": {},
   "outputs": [
    {
     "data": {
      "text/html": [
       "<style>\n",
       ".list-inline {list-style: none; margin:0; padding: 0}\n",
       ".list-inline>li {display: inline-block}\n",
       ".list-inline>li:not(:last-child)::after {content: \"\\00b7\"; padding: 0 .5ex}\n",
       "</style>\n",
       "<ol class=list-inline><li>2</li><li>4</li><li>6</li><li>8</li><li>10</li><li>12</li><li>14</li><li>16</li><li>18</li><li>20</li><li>22</li><li>24</li><li>26</li><li>28</li><li>30</li><li>32</li><li>34</li><li>36</li><li>38</li><li>40</li><li>42</li><li>44</li><li>46</li><li>48</li><li>50</li><li>52</li><li>54</li><li>56</li><li>58</li><li>60</li><li>62</li><li>64</li><li>66</li><li>68</li><li>70</li><li>72</li><li>74</li><li>76</li><li>78</li><li>80</li><li>82</li><li>84</li><li>86</li><li>88</li><li>90</li><li>92</li><li>94</li><li>96</li><li>98</li><li>100</li></ol>\n"
      ],
      "text/latex": [
       "\\begin{enumerate*}\n",
       "\\item 2\n",
       "\\item 4\n",
       "\\item 6\n",
       "\\item 8\n",
       "\\item 10\n",
       "\\item 12\n",
       "\\item 14\n",
       "\\item 16\n",
       "\\item 18\n",
       "\\item 20\n",
       "\\item 22\n",
       "\\item 24\n",
       "\\item 26\n",
       "\\item 28\n",
       "\\item 30\n",
       "\\item 32\n",
       "\\item 34\n",
       "\\item 36\n",
       "\\item 38\n",
       "\\item 40\n",
       "\\item 42\n",
       "\\item 44\n",
       "\\item 46\n",
       "\\item 48\n",
       "\\item 50\n",
       "\\item 52\n",
       "\\item 54\n",
       "\\item 56\n",
       "\\item 58\n",
       "\\item 60\n",
       "\\item 62\n",
       "\\item 64\n",
       "\\item 66\n",
       "\\item 68\n",
       "\\item 70\n",
       "\\item 72\n",
       "\\item 74\n",
       "\\item 76\n",
       "\\item 78\n",
       "\\item 80\n",
       "\\item 82\n",
       "\\item 84\n",
       "\\item 86\n",
       "\\item 88\n",
       "\\item 90\n",
       "\\item 92\n",
       "\\item 94\n",
       "\\item 96\n",
       "\\item 98\n",
       "\\item 100\n",
       "\\end{enumerate*}\n"
      ],
      "text/markdown": [
       "1. 2\n",
       "2. 4\n",
       "3. 6\n",
       "4. 8\n",
       "5. 10\n",
       "6. 12\n",
       "7. 14\n",
       "8. 16\n",
       "9. 18\n",
       "10. 20\n",
       "11. 22\n",
       "12. 24\n",
       "13. 26\n",
       "14. 28\n",
       "15. 30\n",
       "16. 32\n",
       "17. 34\n",
       "18. 36\n",
       "19. 38\n",
       "20. 40\n",
       "21. 42\n",
       "22. 44\n",
       "23. 46\n",
       "24. 48\n",
       "25. 50\n",
       "26. 52\n",
       "27. 54\n",
       "28. 56\n",
       "29. 58\n",
       "30. 60\n",
       "31. 62\n",
       "32. 64\n",
       "33. 66\n",
       "34. 68\n",
       "35. 70\n",
       "36. 72\n",
       "37. 74\n",
       "38. 76\n",
       "39. 78\n",
       "40. 80\n",
       "41. 82\n",
       "42. 84\n",
       "43. 86\n",
       "44. 88\n",
       "45. 90\n",
       "46. 92\n",
       "47. 94\n",
       "48. 96\n",
       "49. 98\n",
       "50. 100\n",
       "\n",
       "\n"
      ],
      "text/plain": [
       " [1]   2   4   6   8  10  12  14  16  18  20  22  24  26  28  30  32  34  36  38\n",
       "[20]  40  42  44  46  48  50  52  54  56  58  60  62  64  66  68  70  72  74  76\n",
       "[39]  78  80  82  84  86  88  90  92  94  96  98 100"
      ]
     },
     "metadata": {},
     "output_type": "display_data"
    }
   ],
   "source": [
    "even <- c()\n",
    "for(i in 1:100){\n",
    "    if(i%%2==0){\n",
    "        even <- c(even, i)\n",
    "    }\n",
    "}\n",
    "even"
   ]
  },
  {
   "cell_type": "code",
   "execution_count": null,
   "id": "045bc662",
   "metadata": {},
   "outputs": [],
   "source": []
  }
 ],
 "metadata": {
  "kernelspec": {
   "display_name": "R",
   "language": "R",
   "name": "ir"
  },
  "language_info": {
   "codemirror_mode": "r",
   "file_extension": ".r",
   "mimetype": "text/x-r-source",
   "name": "R",
   "pygments_lexer": "r",
   "version": "4.3.1"
  }
 },
 "nbformat": 4,
 "nbformat_minor": 5
}
